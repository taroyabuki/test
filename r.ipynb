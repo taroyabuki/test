{
  "cells": [
    {
      "id": "cc93b963",
      "cell_type": "markdown",
      "source": "[\u8fbb\u771f\u543e\u30fb\u77e2\u5439\u592a\u6717\u300e\u30bc\u30ed\u304b\u3089\u306f\u3058\u3081\u308b\u30c7\u30fc\u30bf\u30b5\u30a4\u30a8\u30f3\u30b9\u5165\u9580\u300f\uff08\u8b1b\u8ac7\u793e,\u00a02021\uff09](https://github.com/taroyabuki/fromzero)",
      "metadata": {}
    },
    {
      "cell_type": "code",
      "execution_count": null,
      "metadata": {},
      "outputs": [],
      "source": [
        "# \u3053\u308c\u306fR\u306e\u30b3\u30fc\u30c9\u306e\u4f8b\u3067\u3059\uff0e\n",
        "1 + 1"
      ],
      "id": "047e1eed-f993-45e1-891f-4bb7a062a7ef"
    },
    {
      "id": "38df8b6f",
      "cell_type": "markdown",
      "source": "# 1 \u30b3\u30f3\u30d4\u30e5\u30fc\u30bf\u3068\u30cd\u30c3\u30c8\u30ef\u30fc\u30af\n\n\n",
      "metadata": {}
    },
    {
      "id": "72983331",
      "cell_type": "markdown",
      "source": "## 1.1 \u30b3\u30f3\u30d4\u30e5\u30fc\u30bf\u306e\u57fa\u672c\u64cd\u4f5c\n\n\n",
      "metadata": {}
    },
    {
      "id": "ae6a912b",
      "cell_type": "markdown",
      "source": "## 1.2 \u30cd\u30c3\u30c8\u30ef\u30fc\u30af\u306e\u4ed5\u7d44\u307f\n\n\n",
      "metadata": {}
    },
    {
      "id": "2a34f60b",
      "cell_type": "markdown",
      "source": "# 2 \u30c7\u30fc\u30bf\u30b5\u30a4\u30a8\u30f3\u30b9\u306e\u305f\u3081\u306e\u74b0\u5883\n\n\n",
      "metadata": {}
    },
    {
      "id": "9d08df7d",
      "cell_type": "markdown",
      "source": "## 2.1 \u5b9f\u884c\u74b0\u5883\u306e\u9078\u629e\n\n\n",
      "metadata": {}
    },
    {
      "id": "9143fb53",
      "cell_type": "markdown",
      "source": "## 2.2 \u30af\u30e9\u30a6\u30c9\n\n\n",
      "metadata": {}
    },
    {
      "id": "c3e4ba71",
      "cell_type": "markdown",
      "source": "## 2.3 Docker\n\n\n",
      "metadata": {}
    },
    {
      "id": "a23d8e95",
      "cell_type": "markdown",
      "source": "## 2.4 \u30bf\u30fc\u30df\u30ca\u30eb\u306e\u4f7f\u3044\u65b9\n\n\n",
      "metadata": {}
    },
    {
      "id": "73966c4a",
      "cell_type": "markdown",
      "source": "## 2.5 R\u3068Python\n\n\n",
      "metadata": {}
    },
    {
      "id": "7f3440ba",
      "cell_type": "markdown",
      "source": "## 2.6 \u30b5\u30f3\u30d7\u30eb\u30b3\u30fc\u30c9\u306e\u5229\u7528",
      "metadata": {}
    },
    {
      "cell_type": "code",
      "execution_count": null,
      "metadata": {},
      "outputs": [],
      "source": [
        "1 + 1\n",
        "\n",
        "print(1 + 2)\n",
        "\n",
        "1 + 3"
      ],
      "id": "b9bc8792-8430-4d39-824e-fb3eec509fd0"
    },
    {
      "id": "5443540d",
      "cell_type": "markdown",
      "source": "# 3 R\u3068Python",
      "metadata": {}
    },
    {
      "cell_type": "code",
      "execution_count": null,
      "metadata": {},
      "outputs": [],
      "source": [
        "# Google Colaboratory\u306e\u74b0\u5883\u8a2d\u5b9a\n",
        "if (file.exists(\"/content\")) {\n",
        "  options(Ncpus = parallel::detectCores())\n",
        "  installed_packages <- rownames(installed.packages())\n",
        "  packages_to_install <- c(\"furrr\", \"keras\", \"proxy\")\n",
        "  install.packages(setdiff(packages_to_install, installed_packages))\n",
        "}"
      ],
      "id": "5212afb9-57d5-4f9c-9a8e-7de86c7563e6"
    },
    {
      "id": "bf56cec0",
      "cell_type": "markdown",
      "source": "## 3.1 \u5165\u9580",
      "metadata": {}
    },
    {
      "cell_type": "code",
      "execution_count": null,
      "metadata": {},
      "outputs": [],
      "source": [
        "0x10"
      ],
      "id": "9c5b7c04-e918-4487-9788-6f4ff178a1c1"
    },
    {
      "cell_type": "code",
      "execution_count": null,
      "metadata": {},
      "outputs": [],
      "source": [
        "1.23e5"
      ],
      "id": "bed3d9c8-d260-45d0-8112-014e4bfa989c"
    },
    {
      "cell_type": "code",
      "execution_count": null,
      "metadata": {},
      "outputs": [],
      "source": [
        "2 * 3"
      ],
      "id": "34610871-cc19-4c16-8fae-e7c4f9306a1c"
    },
    {
      "cell_type": "code",
      "execution_count": null,
      "metadata": {},
      "outputs": [],
      "source": [
        "10 / 3"
      ],
      "id": "e371c64e-f030-483f-9635-47bdac875546"
    },
    {
      "cell_type": "code",
      "execution_count": null,
      "metadata": {},
      "outputs": [],
      "source": [
        "10 %/% 3 # \u5546\n",
        "\n",
        "10 %% 3  # \u4f59\u308a"
      ],
      "id": "74e51675-913e-48fc-9e24-308607b39fa7"
    },
    {
      "cell_type": "code",
      "execution_count": null,
      "metadata": {},
      "outputs": [],
      "source": [
        "x <- 2\n",
        "y <- 3\n",
        "x * y\n",
        "\n",
        "keras::`%<-%`(c(x, y), c(20, 30)) # \u307e\u3068\u3081\u3066\u540d\u4ed8\u3051\n",
        "x * y"
      ],
      "id": "3af8ec3a-c7eb-4548-8f14-9345c4c22713"
    },
    {
      "cell_type": "code",
      "execution_count": null,
      "metadata": {},
      "outputs": [],
      "source": [
        "x <- 1 + 1\n",
        "# \u3053\u306e\u6bb5\u968e\u3067\u306f\u7d50\u679c\u306f\u8868\u793a\u3055\u308c\u306a\u3044\n",
        "\n",
        "x # \u5909\u6570\u540d\u3092\u8a55\u4fa1\u3059\u308b\uff0e"
      ],
      "id": "f0ed458d-88b5-47c3-adf5-43f24cfad5cf"
    },
    {
      "cell_type": "code",
      "execution_count": null,
      "metadata": {},
      "outputs": [],
      "source": [
        "my_s <- \"abcde\""
      ],
      "id": "62ec72d5-ea6d-49e3-a7c9-b64b5b21948c"
    },
    {
      "cell_type": "code",
      "execution_count": null,
      "metadata": {},
      "outputs": [],
      "source": [
        "nchar(my_s)"
      ],
      "id": "db93fed9-f123-4c4c-ba12-2a0d41a2461c"
    },
    {
      "cell_type": "code",
      "execution_count": null,
      "metadata": {},
      "outputs": [],
      "source": [
        "library(tidyverse)\n",
        "str_c(\"This is \", \"a\", \" pen.\")"
      ],
      "id": "7e99420f-6e91-4421-b1ea-676a354de294"
    },
    {
      "cell_type": "code",
      "execution_count": null,
      "metadata": {},
      "outputs": [],
      "source": [
        "substr(x = my_s, start = 2, stop = 4)"
      ],
      "id": "fdf27555-bc79-4c36-a62a-2407e48ac564"
    },
    {
      "cell_type": "code",
      "execution_count": null,
      "metadata": {},
      "outputs": [],
      "source": [
        "tmp <- \"%s is %s.\"\n",
        "sprintf(tmp, \"This\", \"a pen\")"
      ],
      "id": "8f67d7b9-a597-476c-af42-f3518b104fb7"
    },
    {
      "cell_type": "code",
      "execution_count": null,
      "metadata": {},
      "outputs": [],
      "source": [
        "1 <= 2\n",
        "\n",
        "1 < 0"
      ],
      "id": "e879e314-bbd7-4369-a1c8-0a9f71b7e614"
    },
    {
      "cell_type": "code",
      "execution_count": null,
      "metadata": {},
      "outputs": [],
      "source": [
        "0.1 + 0.1 + 0.1 == 0.3\n",
        "\n",
        "all.equal(0.1 + 0.1 + 0.1, 0.3)"
      ],
      "id": "c8e447f9-d9a8-4123-9060-fef563248e00"
    },
    {
      "cell_type": "code",
      "execution_count": null,
      "metadata": {},
      "outputs": [],
      "source": [
        "TRUE & FALSE # \u8ad6\u7406\u7a4d\uff08\u304b\u3064\uff09\n",
        "\n",
        "TRUE | FALSE # \u8ad6\u7406\u548c\uff08\u307e\u305f\u306f\uff09\n",
        "\n",
        "!TRUE        # \u5426\u5b9a\uff08\u3067\u306a\u3044\uff09"
      ],
      "id": "3c6ffd8b-ad91-47d5-bed8-cc901bfdbb44"
    },
    {
      "cell_type": "code",
      "execution_count": null,
      "metadata": {},
      "outputs": [],
      "source": [
        "ifelse(3 < 5, 0, 10)"
      ],
      "id": "4272afe2-355d-4b39-9cff-6c64975999f4"
    },
    {
      "cell_type": "code",
      "execution_count": null,
      "metadata": {},
      "outputs": [],
      "source": [
        "getwd()"
      ],
      "id": "125e5176-9c67-4c00-815b-b6fe8fe9569f"
    },
    {
      "cell_type": "code",
      "execution_count": null,
      "metadata": {},
      "outputs": [],
      "source": [
        "setwd(\"..\")\n",
        "getwd()"
      ],
      "id": "d74f2189-bcad-49f8-89f2-1aeae6ba39b4"
    },
    {
      "id": "855fb8d9",
      "cell_type": "markdown",
      "source": "## 3.2 \u95a2\u6570",
      "metadata": {}
    },
    {
      "cell_type": "code",
      "execution_count": null,
      "metadata": {},
      "outputs": [],
      "source": [
        "sqrt(4)"
      ],
      "id": "57997097-bc22-4f47-b748-621410614b48"
    },
    {
      "cell_type": "code",
      "execution_count": null,
      "metadata": {},
      "outputs": [],
      "source": [
        "log(100, 10)"
      ],
      "id": "18a8af04-ad12-4c14-a23c-aecbdc163d90"
    },
    {
      "cell_type": "code",
      "execution_count": null,
      "metadata": {},
      "outputs": [],
      "source": [
        "log(100)         # \u81ea\u7136\u5bfe\u6570\n",
        "# \u3042\u308b\u3044\u306f\n",
        "log(100, exp(1)) # \u7701\u7565\u3057\u306a\u3044\u5834\u5408\n"
      ],
      "id": "2999f79a-d6b9-448f-9920-3e0b0910976e"
    },
    {
      "cell_type": "code",
      "execution_count": null,
      "metadata": {},
      "outputs": [],
      "source": [
        "log10(100) # \u5e38\u7528\u5bfe\u6570\n",
        "\n",
        "log2(1024) # \u5e95\u304c2\u306e\u5bfe\u6570"
      ],
      "id": "16b6376b-42db-4332-85ab-7dd838feb06f"
    },
    {
      "cell_type": "code",
      "execution_count": null,
      "metadata": {},
      "outputs": [],
      "source": [
        "library(tidyverse)\n",
        "4 %>% sqrt"
      ],
      "id": "43e20a01-cc87-4cd7-9cb8-9bff3465f22c"
    },
    {
      "cell_type": "code",
      "execution_count": null,
      "metadata": {},
      "outputs": [],
      "source": [
        "exp(log(5))       # \u901a\u5e38\u306e\u66f8\u304d\u65b9\n",
        "# \u3042\u308b\u3044\u306f\n",
        "5 %>% log %>% exp # \u30d1\u30a4\u30d7\u3092\u4f7f\u3046\u66f8\u304d\u65b9\n"
      ],
      "id": "a36150cf-2e4b-4d6c-ab68-9f336fa75915"
    },
    {
      "cell_type": "code",
      "execution_count": null,
      "metadata": {},
      "outputs": [],
      "source": [
        "f <- function(a, b) {\n",
        "  a - b\n",
        "}"
      ],
      "id": "0dd88e2c-e9c1-455c-b905-65d49a72bca6"
    },
    {
      "cell_type": "code",
      "execution_count": null,
      "metadata": {},
      "outputs": [],
      "source": [
        "f(3, 5)"
      ],
      "id": "97e91fbf-b9bd-4d34-a33f-cdce7a64ec16"
    },
    {
      "cell_type": "code",
      "execution_count": null,
      "metadata": {},
      "outputs": [],
      "source": [
        "f <- function(a, b = 5) {\n",
        "  a - b\n",
        "}\n",
        "\n",
        "f(3) # f(3, 5)\u3068\u540c\u3058\u3053\u3068"
      ],
      "id": "e32e98d5-3d2b-4fd5-9543-c98acd0f6f31"
    },
    {
      "cell_type": "code",
      "execution_count": null,
      "metadata": {},
      "outputs": [],
      "source": [
        "(function(a, b) { a - b })(3, 5)"
      ],
      "id": "e8a4376f-0329-4c52-8f06-d14a48ecd6c5"
    },
    {
      "id": "ea1e2572",
      "cell_type": "markdown",
      "source": "## 3.3 \u30b3\u30ec\u30af\u30b7\u30e7\u30f3",
      "metadata": {}
    },
    {
      "cell_type": "code",
      "execution_count": null,
      "metadata": {},
      "outputs": [],
      "source": [
        "x <- c(\"foo\", \"bar\", \"baz\")"
      ],
      "id": "e511d6d9-c0cf-433f-890d-9bdf380504e3"
    },
    {
      "cell_type": "code",
      "execution_count": null,
      "metadata": {},
      "outputs": [],
      "source": [
        "length(x)"
      ],
      "id": "f7a9a4fe-0f27-41ff-8769-9f2fccf06386"
    },
    {
      "cell_type": "code",
      "execution_count": null,
      "metadata": {},
      "outputs": [],
      "source": [
        "x[2]"
      ],
      "id": "88826278-5a7e-41d7-af90-6603518f9c6f"
    },
    {
      "cell_type": "code",
      "execution_count": null,
      "metadata": {},
      "outputs": [],
      "source": [
        "x[2] <- \"BAR\"\n",
        "x # \u7d50\u679c\u306e\u78ba\u8a8d\n",
        "\n",
        "x[2] <- \"bar\" # \u5143\u306b\u623b\u3059\uff0e"
      ],
      "id": "6bc8b75a-fb23-4468-b483-d491cc23712f"
    },
    {
      "cell_type": "code",
      "execution_count": null,
      "metadata": {},
      "outputs": [],
      "source": [
        "x[-2]"
      ],
      "id": "b3c5fc3a-f32b-41d7-a250-98bcaf8c86ea"
    },
    {
      "cell_type": "code",
      "execution_count": null,
      "metadata": {},
      "outputs": [],
      "source": [
        "c(x, \"qux\")"
      ],
      "id": "d149e9e1-045c-46f2-baf3-e6f7295d1f9c"
    },
    {
      "cell_type": "code",
      "execution_count": null,
      "metadata": {},
      "outputs": [],
      "source": [
        "x <- c(x, \"qux\")\n",
        "x # \u7d50\u679c\u306e\u78ba\u8a8d"
      ],
      "id": "f3f56934-3a79-4265-8456-11db2cb2cedb"
    },
    {
      "cell_type": "code",
      "execution_count": null,
      "metadata": {},
      "outputs": [],
      "source": [
        "1:5"
      ],
      "id": "11ffadd8-0d2e-4f45-afd8-9e01c06b4149"
    },
    {
      "cell_type": "code",
      "execution_count": null,
      "metadata": {},
      "outputs": [],
      "source": [
        "seq(from = 0, to = 10, by = 2)"
      ],
      "id": "a3a233f0-221a-468e-94b8-b5cc59e5b88a"
    },
    {
      "cell_type": "code",
      "execution_count": null,
      "metadata": {},
      "outputs": [],
      "source": [
        "seq(from = 0, to = 1, by = 0.5)"
      ],
      "id": "53e30272-df72-4755-b83c-268b5b73656f"
    },
    {
      "cell_type": "code",
      "execution_count": null,
      "metadata": {},
      "outputs": [],
      "source": [
        "seq(from = 0, to = 100, length.out = 5)"
      ],
      "id": "5702f535-81c0-47c5-8443-e1b4194f8790"
    },
    {
      "cell_type": "code",
      "execution_count": null,
      "metadata": {},
      "outputs": [],
      "source": [
        "rep(x = 10, times = 5)"
      ],
      "id": "49dc8e5c-e5d7-4c49-a145-9a64c22e432e"
    },
    {
      "cell_type": "code",
      "execution_count": null,
      "metadata": {},
      "outputs": [],
      "source": [
        "tmp <- c(\"\u30b0\u30fc\", \"\u30d1\u30fc\", \"\u30b0\u30fc\", \"\u30d1\u30fc\")\n",
        "x <- factor(tmp, levels = c(\"\u30b0\u30fc\", \"\u30c1\u30e7\u30ad\", \"\u30d1\u30fc\"))\n",
        "x"
      ],
      "id": "67dc5822-39eb-4324-a241-a87dd9d32142"
    },
    {
      "cell_type": "code",
      "execution_count": null,
      "metadata": {},
      "outputs": [],
      "source": [
        "x <- c(2, 3, 5, 7)\n",
        "\n",
        "x + 10 # \u52a0\u7b97\n",
        "\n",
        "x * 10 # \u4e57\u7b97"
      ],
      "id": "14c4350f-8c95-44bb-8ecd-308e1e57a136"
    },
    {
      "cell_type": "code",
      "execution_count": null,
      "metadata": {},
      "outputs": [],
      "source": [
        "x <- c(2, 3)\n",
        "sin(x)"
      ],
      "id": "37fb9215-0df8-4c6a-b7f5-0db9da1bb434"
    },
    {
      "cell_type": "code",
      "execution_count": null,
      "metadata": {},
      "outputs": [],
      "source": [
        "x <- c(2,  3,   5,    7)\n",
        "y <- c(1, 10, 100, 1000)\n",
        "x + y\n",
        "\n",
        "x * y"
      ],
      "id": "cc9151c2-0dac-4099-9362-86a3f2b9304d"
    },
    {
      "cell_type": "code",
      "execution_count": null,
      "metadata": {},
      "outputs": [],
      "source": [
        "sum(x * y)"
      ],
      "id": "9d49e564-0253-4c8e-ab7d-1202b7fb4971"
    },
    {
      "cell_type": "code",
      "execution_count": null,
      "metadata": {},
      "outputs": [],
      "source": [
        "x <- c(TRUE, FALSE)\n",
        "y <- c(TRUE, TRUE)\n",
        "x & y"
      ],
      "id": "c020e864-96ef-4606-b7d6-94b7814dde72"
    },
    {
      "cell_type": "code",
      "execution_count": null,
      "metadata": {},
      "outputs": [],
      "source": [
        "u <- c(1, 2, 3)\n",
        "v <- c(1, 2, 3)\n",
        "w <- c(1, 2, 4)\n",
        "\n",
        "identical(u, v) # \u5168\u4f53\u306e\u6bd4\u8f03\n",
        "\n",
        "identical(u, w) # \u5168\u4f53\u306e\u6bd4\u8f03\n",
        "\n",
        "u == v          # \u8981\u7d20\u3054\u3068\u306e\u6bd4\u8f03\n",
        "\n",
        "u == w          # \u8981\u7d20\u3054\u3068\u306e\u6bd4\u8f03"
      ],
      "id": "9682274f-8a29-4160-afe3-b29586610202"
    },
    {
      "cell_type": "code",
      "execution_count": null,
      "metadata": {},
      "outputs": [],
      "source": [
        "sum(u == w)  # \u540c\u3058\u8981\u7d20\u306e\u6570\n",
        "\n",
        "mean(u == w) # \u540c\u3058\u8981\u7d20\u306e\u5272\u5408"
      ],
      "id": "43cba601-b8a6-4afc-97c6-2febd552330e"
    },
    {
      "cell_type": "code",
      "execution_count": null,
      "metadata": {},
      "outputs": [],
      "source": [
        "x <- list(1, \"two\")"
      ],
      "id": "d16f042e-0fee-4ab5-8481-dc4841ed91ab"
    },
    {
      "cell_type": "code",
      "execution_count": null,
      "metadata": {},
      "outputs": [],
      "source": [
        "x[[2]]"
      ],
      "id": "3ec13947-dcba-4c6a-89da-b4ea240a6fe1"
    },
    {
      "cell_type": "code",
      "execution_count": null,
      "metadata": {},
      "outputs": [],
      "source": [
        "x <- list(\"apple\"  = \"\u308a\u3093\u3054\",\n",
        "          \"orange\" = \"\u307f\u304b\u3093\")"
      ],
      "id": "0c1dcb95-2740-43bb-8fee-0555cfbef8ee"
    },
    {
      "cell_type": "code",
      "execution_count": null,
      "metadata": {},
      "outputs": [],
      "source": [
        "x[[\"grape\"]] <- \"\u3076\u3069\u3046\""
      ],
      "id": "86791043-23f7-4bc4-a34b-4c8fe587ddf5"
    },
    {
      "cell_type": "code",
      "execution_count": null,
      "metadata": {},
      "outputs": [],
      "source": [
        "x$apple\n",
        "# \u3042\u308b\u3044\u306f\n",
        "x$\"apple\"\n",
        "# \u3042\u308b\u3044\u306f\n",
        "x[[\"apple\"]]\n",
        "# \u3042\u308b\u3044\u306f\n",
        "tmp <- \"apple\"\n",
        "x[[tmp]]\n"
      ],
      "id": "2a66ff44-b470-41a9-bf15-49a710891fc1"
    },
    {
      "cell_type": "code",
      "execution_count": null,
      "metadata": {},
      "outputs": [],
      "source": [
        "x <- c(\"foo\", \"bar\", \"baz\")\n",
        "y <- x\n",
        "y[2] <- \"BAR\" # y\u3092\u66f4\u65b0\u3059\u308b\uff0e\n",
        "y\n",
        "\n",
        "x             # x\u306f\u5909\u308f\u3089\u306a\u3044\uff0e"
      ],
      "id": "aefb93ab-a6a4-4724-ad85-99ae914949ce"
    },
    {
      "id": "a81bf366",
      "cell_type": "markdown",
      "source": "## 3.4 \u30c7\u30fc\u30bf\u30d5\u30ec\u30fc\u30e0",
      "metadata": {}
    },
    {
      "cell_type": "code",
      "execution_count": null,
      "metadata": {},
      "outputs": [],
      "source": [
        "library(tidyverse)"
      ],
      "id": "618fc2d6-ff30-4e64-88df-dafb4779c442"
    },
    {
      "cell_type": "code",
      "execution_count": null,
      "metadata": {},
      "outputs": [],
      "source": [
        "my_df <- data.frame(\n",
        "  name    = c(\"A\", \"B\", \"C\", \"D\"),\n",
        "  english = c( 60,  90,  70,  90),\n",
        "  math    = c( 70,  80,  90, 100),\n",
        "  gender  = c(\"f\", \"m\", \"m\", \"f\"))"
      ],
      "id": "966526fa-81a1-4ef9-8e7a-4085aeab93a4"
    },
    {
      "cell_type": "code",
      "execution_count": null,
      "metadata": {},
      "outputs": [],
      "source": [
        "my_df <- tribble(\n",
        "  ~name, ~english, ~math, ~gender,\n",
        "  \"A\",         60,    70,     \"f\",\n",
        "  \"B\",         90,    80,     \"m\",\n",
        "  \"C\",         70,    90,     \"m\",\n",
        "  \"D\",         90,   100,     \"f\")"
      ],
      "id": "9c314918-52fb-4c6d-a241-d68223a72667"
    },
    {
      "cell_type": "code",
      "execution_count": null,
      "metadata": {},
      "outputs": [],
      "source": [
        "head(my_df)\n",
        "# \u7d50\u679c\u306f\u5272\u611b"
      ],
      "id": "c11d8b29-0e4f-4e9c-bb2e-e222c993cdb9"
    },
    {
      "cell_type": "code",
      "execution_count": null,
      "metadata": {},
      "outputs": [],
      "source": [
        "dim(my_df)  # \u884c\u6570\u3068\u5217\u6570\n",
        "\n",
        "nrow(my_df) # \u884c\u6570\n",
        "\n",
        "ncol(my_df) # \u5217\u6570"
      ],
      "id": "eb74e44b-6863-4467-8dcd-8443cbc87e2b"
    },
    {
      "cell_type": "code",
      "execution_count": null,
      "metadata": {},
      "outputs": [],
      "source": [
        "my_df2 <- expand.grid(\n",
        "  X = c(1, 2, 3),\n",
        "  Y = c(10, 100))\n",
        "my_df2"
      ],
      "id": "2facf23c-d1c5-4631-b4c7-13e8537d7b72"
    },
    {
      "cell_type": "code",
      "execution_count": null,
      "metadata": {},
      "outputs": [],
      "source": [
        "colnames(my_df2)"
      ],
      "id": "5d36cfa2-382d-42d8-a3dc-e808982b07e1"
    },
    {
      "cell_type": "code",
      "execution_count": null,
      "metadata": {},
      "outputs": [],
      "source": [
        "colnames(my_df2) <- c(\"P\", \"Q\")\n",
        "my_df2\n",
        "# \u4ee5\u4e0b\u7701\u7565"
      ],
      "id": "359e277e-b2ae-4bb6-8837-ccb0e6f72d32"
    },
    {
      "cell_type": "code",
      "execution_count": null,
      "metadata": {},
      "outputs": [],
      "source": [
        "row.names(my_df)"
      ],
      "id": "127a2d74-cdfa-443d-aa6d-caca3dda912d"
    },
    {
      "cell_type": "code",
      "execution_count": null,
      "metadata": {},
      "outputs": [],
      "source": [
        "row.names(my_df2) <-\n",
        "  c(\"a\", \"b\", \"c\", \"d\", \"e\", \"f\")\n",
        "my_df2\n",
        "# \u4ee5\u4e0b\u7701\u7565"
      ],
      "id": "28d8ce1e-4816-4cef-b1a6-4610c953b89e"
    },
    {
      "cell_type": "code",
      "execution_count": null,
      "metadata": {},
      "outputs": [],
      "source": [
        "my_df3 <- data.frame(\n",
        "  english =   c( 60,  90,  70,  90),\n",
        "  math    =   c( 70,  80,  90, 100),\n",
        "  gender  =   c(\"f\", \"m\", \"m\", \"f\"),\n",
        "  row.names = c(\"A\", \"B\", \"C\", \"D\"))\n",
        "my_df3"
      ],
      "id": "9d3c8755-2705-499e-ac43-4981fc793782"
    },
    {
      "cell_type": "code",
      "execution_count": null,
      "metadata": {},
      "outputs": [],
      "source": [
        "tmp <- data.frame(\n",
        "  name    = \"E\",\n",
        "  english =  80,\n",
        "  math    =  80,\n",
        "  gender  = \"m\")\n",
        "my_df2 <- rbind(my_df, tmp)"
      ],
      "id": "5a53a7d4-090b-4a9b-82d0-906aedbda73f"
    },
    {
      "cell_type": "code",
      "execution_count": null,
      "metadata": {},
      "outputs": [],
      "source": [
        "my_df2 <- my_df %>%\n",
        "  mutate(id = c(1, 2, 3, 4))"
      ],
      "id": "d9b718ef-a514-4256-aba5-36164fa57227"
    },
    {
      "cell_type": "code",
      "execution_count": null,
      "metadata": {},
      "outputs": [],
      "source": [
        "my_df3 <- my_df               # \u30b3\u30d4\u30fc\n",
        "my_df3[\"id\"] <- c(1, 2, 3, 4) # \u66f4\u65b0\n",
        "my_df3 # \u7d50\u679c\u306e\u78ba\u8a8d\uff08\u5272\u611b\uff09"
      ],
      "id": "edeaa9ab-7dcb-4c99-8d11-d034d2a47f63"
    },
    {
      "cell_type": "code",
      "execution_count": null,
      "metadata": {},
      "outputs": [],
      "source": [
        "my_df[1, 2]"
      ],
      "id": "0606034b-beb0-4ddc-9212-2f624d581b0d"
    },
    {
      "cell_type": "code",
      "execution_count": null,
      "metadata": {},
      "outputs": [],
      "source": [
        "x <- my_df[, 2]\n",
        "# \u3042\u308b\u3044\u306f\n",
        "x <- my_df$english\n",
        "# \u3042\u308b\u3044\u306f\n",
        "x <- my_df$\"english\"\n",
        "# \u3042\u308b\u3044\u306f\n",
        "x <- my_df[[\"english\"]]\n",
        "# \u3042\u308b\u3044\u306f\n",
        "tmp <- \"english\"\n",
        "x <- my_df[[tmp]]\n",
        "\n",
        "x # \u7d50\u679c\u306e\u78ba\u8a8d\uff08\u5272\u611b\uff09"
      ],
      "id": "1b857f7b-a5f0-422d-9cd2-2e964ebb0b71"
    },
    {
      "cell_type": "code",
      "execution_count": null,
      "metadata": {},
      "outputs": [],
      "source": [
        "x <- my_df %>% select(name, math)"
      ],
      "id": "aea24403-336f-40ed-ab3e-469846b800f3"
    },
    {
      "cell_type": "code",
      "execution_count": null,
      "metadata": {},
      "outputs": [],
      "source": [
        "x <- my_df[, c(1, 3)]"
      ],
      "id": "54872dad-b107-4ccc-9b32-e88e8da1da3d"
    },
    {
      "cell_type": "code",
      "execution_count": null,
      "metadata": {},
      "outputs": [],
      "source": [
        "x <- my_df %>%\n",
        "  select(-c(english, gender))\n",
        "# \u3042\u308b\u3044\u306f\n",
        "x <- my_df[, -c(2, 4)]"
      ],
      "id": "2d7fb742-b793-4209-ac7b-b9db9236911d"
    },
    {
      "cell_type": "code",
      "execution_count": null,
      "metadata": {},
      "outputs": [],
      "source": [
        "x <- my_df[c(1, 3), ]"
      ],
      "id": "437c39e7-d774-4dc6-8ed9-98b17088ff7e"
    },
    {
      "cell_type": "code",
      "execution_count": null,
      "metadata": {},
      "outputs": [],
      "source": [
        "x <- my_df[-c(2, 4), ]"
      ],
      "id": "f09f871a-1bc3-45c4-a970-c7b5bace753d"
    },
    {
      "cell_type": "code",
      "execution_count": null,
      "metadata": {},
      "outputs": [],
      "source": [
        "x <- my_df[my_df$gender == \"m\", ]\n",
        "# \u3042\u308b\u3044\u306f\n",
        "x <- my_df %>% filter(gender == \"m\")"
      ],
      "id": "92431d47-85fc-4387-9915-0f6a421647af"
    },
    {
      "cell_type": "code",
      "execution_count": null,
      "metadata": {},
      "outputs": [],
      "source": [
        "x <- my_df[my_df$english > 80 & my_df$gender == \"m\", ]\n",
        "# \u3042\u308b\u3044\u306f\n",
        "x <- my_df %>% filter(english > 80 & gender == \"m\")"
      ],
      "id": "a27d3f46-1d67-445f-b3be-c087b6a871f3"
    },
    {
      "cell_type": "code",
      "execution_count": null,
      "metadata": {},
      "outputs": [],
      "source": [
        "x <- my_df[my_df$english == max(my_df$english), ]\n",
        "# \u3042\u308b\u3044\u306f\n",
        "x <- my_df %>% filter(english == max(my_df$english))"
      ],
      "id": "befe617c-7eed-413e-b429-28d5877e0128"
    },
    {
      "cell_type": "code",
      "execution_count": null,
      "metadata": {},
      "outputs": [],
      "source": [
        "my_df2 <- my_df # \u30b3\u30d4\u30fc\n",
        "my_df2[my_df$gender == \"m\", ]$gender <- \"M\""
      ],
      "id": "a7946a11-4dd5-48f2-8b3f-f5d82542c9f1"
    },
    {
      "cell_type": "code",
      "execution_count": null,
      "metadata": {},
      "outputs": [],
      "source": [
        "my_df2"
      ],
      "id": "c16c1a9d-a7a5-46ae-a617-267897f3301b"
    },
    {
      "cell_type": "code",
      "execution_count": null,
      "metadata": {},
      "outputs": [],
      "source": [
        "x <- my_df %>% arrange(english)"
      ],
      "id": "9858c916-8a4b-4a14-b9e0-7fce9cbc5790"
    },
    {
      "cell_type": "code",
      "execution_count": null,
      "metadata": {},
      "outputs": [],
      "source": [
        "x <- my_df %>% arrange(-english)"
      ],
      "id": "e3c1926a-7c83-42fa-a45a-24fdc9ce9d39"
    },
    {
      "cell_type": "code",
      "execution_count": null,
      "metadata": {},
      "outputs": [],
      "source": [
        "x <- c(2, 3, 5, 7, 11, 13, 17, 19, 23,\n",
        "       29, 31, 37)\n",
        "A <- matrix(\n",
        "  data = x,     # 1\u6b21\u5143\u30c7\u30fc\u30bf\n",
        "  nrow = 3,     # \u884c\u6570\n",
        "  byrow = TRUE) # \u884c\u3054\u3068\u306e\u751f\u6210\n",
        "A"
      ],
      "id": "8c716198-b11c-4839-8d84-335d48086624"
    },
    {
      "cell_type": "code",
      "execution_count": null,
      "metadata": {},
      "outputs": [],
      "source": [
        "A <- my_df[, c(2, 3)] %>% as.matrix\n",
        "A"
      ],
      "id": "fcce73df-6901-4962-947d-8cc839b85969"
    },
    {
      "cell_type": "code",
      "execution_count": null,
      "metadata": {},
      "outputs": [],
      "source": [
        "as.data.frame(A)"
      ],
      "id": "9e982556-8008-4b28-9aca-b555573fe577"
    },
    {
      "cell_type": "code",
      "execution_count": null,
      "metadata": {},
      "outputs": [],
      "source": [
        "t(A)"
      ],
      "id": "3a3f8a32-614b-46b5-a010-231ff2b32633"
    },
    {
      "cell_type": "code",
      "execution_count": null,
      "metadata": {},
      "outputs": [],
      "source": [
        "t(A) %*% A"
      ],
      "id": "8e91b3aa-e8d1-4e32-b754-475602f160a6"
    },
    {
      "cell_type": "code",
      "execution_count": null,
      "metadata": {},
      "outputs": [],
      "source": [
        "my_wider <- data.frame(\n",
        "  day = c(25, 26, 27),\n",
        "  min = c(20, 21, 15),\n",
        "  max = c(24, 27, 21))"
      ],
      "id": "080f58cb-fd3f-4aae-9f15-1e34911562dc"
    },
    {
      "cell_type": "code",
      "execution_count": null,
      "metadata": {},
      "outputs": [],
      "source": [
        "my_longer <- my_wider %>%\n",
        "  pivot_longer(-day)\n",
        "my_longer"
      ],
      "id": "4824e9a4-0ac2-43c1-9fc1-706cbde27b8b"
    },
    {
      "cell_type": "code",
      "execution_count": null,
      "metadata": {},
      "outputs": [],
      "source": [
        "my_longer %>% pivot_wider()"
      ],
      "id": "70287a68-74b9-450f-a0db-1773bfaece5c"
    },
    {
      "cell_type": "code",
      "execution_count": null,
      "metadata": {},
      "outputs": [],
      "source": [
        "my_longer %>%\n",
        "  ggplot(aes(x = day, y = value,\n",
        "             color = name)) +\n",
        "  geom_point() +\n",
        "  geom_line() +\n",
        "  ylab(\"temperature\") + # y\u8ef8\u30e9\u30d9\u30eb\n",
        "  scale_x_continuous(\n",
        "    breaks = my_longer$day) # x\u8ef8\u76ee\u76db\u308a"
      ],
      "id": "d21cfb4b-d0ed-4111-a367-21eadd3e911e"
    },
    {
      "id": "2491fdb8",
      "cell_type": "markdown",
      "source": "## 3.5 1\u6b21\u5143\u30c7\u30fc\u30bf\u306e\uff08\u975e\uff09\u985e\u4f3c\u5ea6",
      "metadata": {}
    },
    {
      "cell_type": "code",
      "execution_count": null,
      "metadata": {},
      "outputs": [],
      "source": [
        "A <- c(3,   4,  5)\n",
        "B <- c(3,   4, 29)\n",
        "C <- c(9, -18,  8)\n",
        "AB <- B - A\n",
        "AC <- C - A\n",
        "\n",
        "sum(AB^2)^0.5\n",
        "\n",
        "sum(AC^2)^0.5"
      ],
      "id": "1da34f39-3ae1-4d83-ac73-dbb343fb6a54"
    },
    {
      "cell_type": "code",
      "execution_count": null,
      "metadata": {},
      "outputs": [],
      "source": [
        "sum(abs(AB))\n",
        "\n",
        "sum(abs(AC))"
      ],
      "id": "69122948-e356-4948-a839-396185b3dd80"
    },
    {
      "cell_type": "code",
      "execution_count": null,
      "metadata": {},
      "outputs": [],
      "source": [
        "sum(A * B) /\n",
        "  sum(A * A)^0.5 / sum(B * B)^0.5\n",
        "\n",
        "sum(A * C) /\n",
        "  sum(A * A)^0.5 / sum(C * C)^0.5"
      ],
      "id": "e02ee5e6-1e02-4df9-a2f9-d7c676b79bf2"
    },
    {
      "cell_type": "code",
      "execution_count": null,
      "metadata": {},
      "outputs": [],
      "source": [
        "cor(A, B)\n",
        "\n",
        "cor(A, C)"
      ],
      "id": "a2ebb916-d9af-419d-aa35-be7cb1e74dbf"
    },
    {
      "cell_type": "code",
      "execution_count": null,
      "metadata": {},
      "outputs": [],
      "source": [
        "library(tidyverse)\n",
        "\n",
        "\n",
        "\n",
        "my_df <- data.frame(\n",
        "  x = c(3,  3,   9),\n",
        "  y = c(4,  4, -18),\n",
        "  z = c(5, 29,   8),\n",
        "  row.names = c(\"A\", \"B\", \"C\"))\n",
        "\n",
        "# \u30e6\u30fc\u30af\u30ea\u30c3\u30c9\u8ddd\u96e2\n",
        "my_df %>% proxy::dist(\"Euclidean\")\n",
        "\n",
        "\n",
        "# \u30de\u30f3\u30cf\u30c3\u30bf\u30f3\u8ddd\u96e2\n",
        "my_df %>% proxy::dist(\"Manhattan\")\n",
        "\n",
        "\n",
        "# \u30b3\u30b5\u30a4\u30f3\u985e\u4f3c\u5ea6\n",
        "my_df %>% proxy::simil(\"cosine\")\n",
        "\n",
        "\n",
        "# \u76f8\u95a2\u4fc2\u6570\n",
        "my_df %>% proxy::simil(\"correlation\")"
      ],
      "id": "84c617b7-f16d-4c75-95f5-470ab586400f"
    },
    {
      "id": "6d3efe5f",
      "cell_type": "markdown",
      "source": "## 3.6 R\u306e\u30d1\u30c3\u30b1\u30fc\u30b8\uff0cPython\u306e\u30e2\u30b8\u30e5\u30fc\u30eb",
      "metadata": {}
    },
    {
      "cell_type": "code",
      "execution_count": null,
      "metadata": {},
      "outputs": [],
      "source": [
        "library(tidyverse)"
      ],
      "id": "5d2a66ac-2ad6-40cb-9f23-93eb609b3ea1"
    },
    {
      "id": "144aff0d",
      "cell_type": "markdown",
      "source": "## 3.7 \u53cd\u5fa9\u51e6\u7406",
      "metadata": {}
    },
    {
      "cell_type": "code",
      "execution_count": null,
      "metadata": {},
      "outputs": [],
      "source": [
        "library(tidyverse)"
      ],
      "id": "8d759dab-6919-4b06-aba2-71344edf2dcd"
    },
    {
      "cell_type": "code",
      "execution_count": null,
      "metadata": {},
      "outputs": [],
      "source": [
        "f1 <- function(x) {\n",
        "  tmp <- runif(x)\n",
        "  mean(tmp)\n",
        "}\n",
        "\n",
        "f1(10)           # \u52d5\u4f5c\u78ba\u8a8d"
      ],
      "id": "c53d42f7-0f53-40ed-a4dc-54052da7e103"
    },
    {
      "cell_type": "code",
      "execution_count": null,
      "metadata": {},
      "outputs": [],
      "source": [
        "replicate(n = 3, expr = f1(10))"
      ],
      "id": "24096b44-397b-412d-b782-761c96a7f921"
    },
    {
      "cell_type": "code",
      "execution_count": null,
      "metadata": {},
      "outputs": [],
      "source": [
        "rep(x = f1(10), times = 3)"
      ],
      "id": "f325546b-26e3-41a9-82bc-b3bc209f9a09"
    },
    {
      "cell_type": "code",
      "execution_count": null,
      "metadata": {},
      "outputs": [],
      "source": [
        "v <- c(5, 10, 100)\n",
        "v %>% map_dbl(f1)"
      ],
      "id": "d64aa7a9-d1ce-4afd-85d3-f51456ab3b95"
    },
    {
      "cell_type": "code",
      "execution_count": null,
      "metadata": {},
      "outputs": [],
      "source": [
        "rep(x = 10, times = 3) %>% map_dbl(f1)\n",
        "# \u7d50\u679c\u306f\u5272\u611b"
      ],
      "id": "c611cb97-e1ec-482a-84e9-e321a3d653ad"
    },
    {
      "cell_type": "code",
      "execution_count": null,
      "metadata": {},
      "outputs": [],
      "source": [
        "f2 <- function(n) {\n",
        "  tmp <- runif(n)\n",
        "  list(x = n,\n",
        "       p = mean(tmp),\n",
        "       q = sd(tmp))\n",
        "}\n",
        "\n",
        "f2(10) # \u52d5\u4f5c\u78ba\u8a8d"
      ],
      "id": "0ba6b21d-0c88-4870-ba1e-6577c838bac9"
    },
    {
      "cell_type": "code",
      "execution_count": null,
      "metadata": {},
      "outputs": [],
      "source": [
        "v <- c(5, 10, 100)\n",
        "v %>% map_dfr(f2)"
      ],
      "id": "751652cf-93d2-470c-9c61-b309679a139e"
    },
    {
      "cell_type": "code",
      "execution_count": null,
      "metadata": {},
      "outputs": [],
      "source": [
        "f3 <- function(x, y) {\n",
        "  tmp <- runif(x, min = 1,\n",
        "                  max = y + 1) %>%\n",
        "    as.integer\n",
        "  list(x = x,\n",
        "       y = y,\n",
        "       p = mean(tmp),\n",
        "       q = sd(tmp))\n",
        "}\n",
        "\n",
        "f3(x = 10, y = 6) # \u52d5\u4f5c\u78ba\u8a8d"
      ],
      "id": "d21a8da1-8aff-414b-805f-4348691790e5"
    },
    {
      "cell_type": "code",
      "execution_count": null,
      "metadata": {},
      "outputs": [],
      "source": [
        "my_df <- data.frame(\n",
        "  x = c(5, 10, 100,  5, 10, 100),\n",
        "  y = c(6,  6,   6, 12, 12,  12))\n",
        "\n",
        "my_df %>% pmap_dfr(f3)"
      ],
      "id": "9bbcfcf3-fa40-4984-8ce8-3255a91f782a"
    },
    {
      "cell_type": "code",
      "execution_count": null,
      "metadata": {},
      "outputs": [],
      "source": [
        "library(furrr)\n",
        "plan(multisession) # \u6e96\u5099\n",
        "\n",
        "v <- c(5, 10, 100)\n",
        "v %>% future_map_dbl(f1, .options =\n",
        "  furrr_options(seed = TRUE))\n",
        "# \u7d50\u679c\u306f\u5272\u611b"
      ],
      "id": "7d418cc0-3466-4ce0-b7f9-3215579a5cad"
    },
    {
      "id": "35d51013",
      "cell_type": "markdown",
      "source": "## 3.8 \u305d\u306e\u4ed6",
      "metadata": {}
    },
    {
      "cell_type": "code",
      "execution_count": null,
      "metadata": {},
      "outputs": [],
      "source": [
        "x <- 123\n",
        "typeof(x)"
      ],
      "id": "439b5c5d-9db3-4a8d-9f8d-66b3e7066b24"
    },
    {
      "cell_type": "code",
      "execution_count": null,
      "metadata": {},
      "outputs": [],
      "source": [
        "?log\n",
        "# \u3042\u308b\u3044\u306f\n",
        "help(log)"
      ],
      "id": "1df2d40e-c197-4f22-90ac-c07bbdf6f18d"
    },
    {
      "cell_type": "code",
      "execution_count": null,
      "metadata": {},
      "outputs": [],
      "source": [
        "v <- c(1, NA, 3)\n",
        "v"
      ],
      "id": "3acc2e97-ddba-46de-8f07-537adb272f5c"
    },
    {
      "cell_type": "code",
      "execution_count": null,
      "metadata": {},
      "outputs": [],
      "source": [
        "is.na(v[2])\n",
        "\n",
        "v[2] == NA # \u8aa4\u308a"
      ],
      "id": "ae6e76a1-3c67-4740-b1ae-3310b6ec68e0"
    },
    {
      "id": "0eafaa85",
      "cell_type": "markdown",
      "source": "# 4 \u7d71\u8a08\u5165\u9580",
      "metadata": {}
    },
    {
      "cell_type": "code",
      "execution_count": null,
      "metadata": {},
      "outputs": [],
      "source": [
        "# Google Colaboratory\u306e\u74b0\u5883\u8a2d\u5b9a\n",
        "if (file.exists(\"/content\")) {\n",
        "  options(Ncpus = parallel::detectCores())\n",
        "  installed_packages <- rownames(installed.packages())\n",
        "  packages_to_install <- c(\"exactci\", \"ggmosaic\", \"pastecs\", \"psych\", \"vcd\")\n",
        "  install.packages(setdiff(packages_to_install, installed_packages))\n",
        "}"
      ],
      "id": "020e873b-a5a6-4256-b3a3-a7c9e40c8126"
    },
    {
      "id": "b98bbcd1",
      "cell_type": "markdown",
      "source": "## 4.1 \u8a18\u8ff0\u7d71\u8a08",
      "metadata": {}
    },
    {
      "cell_type": "code",
      "execution_count": null,
      "metadata": {},
      "outputs": [],
      "source": [
        "x <- c(165, 170, 175, 180, 185)\n",
        "mean(x) # \u5e73\u5747"
      ],
      "id": "a0f5e9bd-00b0-412c-b566-043496b4ae31"
    },
    {
      "cell_type": "code",
      "execution_count": null,
      "metadata": {},
      "outputs": [],
      "source": [
        "n <- length(x) # \u30b5\u30f3\u30d7\u30eb\u30b5\u30a4\u30ba\n",
        "sum(x) / n"
      ],
      "id": "98bfac7b-ab43-4b52-81e7-b31cb413b8e9"
    },
    {
      "cell_type": "code",
      "execution_count": null,
      "metadata": {},
      "outputs": [],
      "source": [
        "y <- c(173, 174, 175, 176, 177)\n",
        "mean(y)"
      ],
      "id": "1e03f7f1-ee37-44a6-8702-e8d1ab4b4566"
    },
    {
      "cell_type": "code",
      "execution_count": null,
      "metadata": {},
      "outputs": [],
      "source": [
        "var(x) # x\u306e\u5206\u6563\n",
        "\n",
        "var(y) # y\u306e\u5206\u6563"
      ],
      "id": "bebb785f-b5d6-41aa-8070-28f7446e01ab"
    },
    {
      "cell_type": "code",
      "execution_count": null,
      "metadata": {},
      "outputs": [],
      "source": [
        "sum((x - mean(x))^2) / (n - 1)"
      ],
      "id": "fcb76fb3-fd49-433b-b621-dda446a7afe3"
    },
    {
      "cell_type": "code",
      "execution_count": null,
      "metadata": {},
      "outputs": [],
      "source": [
        "sd(x) # x\u306e\u6a19\u6e96\u504f\u5dee\n",
        "\n",
        "sd(y) # y\u306e\u6a19\u6e96\u504f\u5dee"
      ],
      "id": "00764a2a-0718-418b-9dfd-8c718f432adf"
    },
    {
      "cell_type": "code",
      "execution_count": null,
      "metadata": {},
      "outputs": [],
      "source": [
        "var(x)**0.5 # x\u306e\u6a19\u6e96\u504f\u5dee"
      ],
      "id": "ff2caf15-4370-4844-bcf9-1239399ea403"
    },
    {
      "cell_type": "code",
      "execution_count": null,
      "metadata": {},
      "outputs": [],
      "source": [
        "psych::describe(x)\n",
        "\n",
        "# \u3042\u308b\u3044\u306f\n",
        "\n",
        "pastecs::stat.desc(x)"
      ],
      "id": "e7d9fd92-62e3-4203-843e-48fd85e31788"
    },
    {
      "cell_type": "code",
      "execution_count": null,
      "metadata": {},
      "outputs": [],
      "source": [
        "quantile(x)"
      ],
      "id": "0b4bb05f-72b0-4d13-9c94-8669844fbfa6"
    },
    {
      "cell_type": "code",
      "execution_count": null,
      "metadata": {},
      "outputs": [],
      "source": [
        "x <- c(165, 170, 175, 180, 185)\n",
        "\n",
        "var(x)                # \u4e0d\u504f\u5206\u6563\n",
        "\n",
        "mean((x - mean(x))^2) # \u6a19\u672c\u5206\u6563\n",
        "# \u3042\u308b\u3044\u306f\n",
        "n <- length(x)\n",
        "var(x) * (n - 1) / n  # \u6a19\u672c\u5206\u6563"
      ],
      "id": "88af2894-f326-4f13-b15c-571a38ad8369"
    },
    {
      "cell_type": "code",
      "execution_count": null,
      "metadata": {},
      "outputs": [],
      "source": [
        "sd(x)                     # \u221a\u4e0d\u504f\u5206\u6563\n",
        "\n",
        "mean((x - mean(x))^2)^0.5 # \u221a\u6a19\u672c\u5206\u6563\n",
        "# \u3042\u308b\u3044\u306f\n",
        "sd(x) * sqrt((n - 1) / n) # \u221a\u6a19\u672c\u5206\u6563"
      ],
      "id": "6e20a306-f95d-4ee5-b300-2a3ee7fb5c9b"
    },
    {
      "cell_type": "code",
      "execution_count": null,
      "metadata": {},
      "outputs": [],
      "source": [
        "sd(x) / length(x)**0.5"
      ],
      "id": "68988baf-a7aa-4767-8679-935bcceb333d"
    },
    {
      "cell_type": "code",
      "execution_count": null,
      "metadata": {},
      "outputs": [],
      "source": [
        "library(tidyverse)\n",
        "\n",
        "my_df <- data.frame(\n",
        "  name    = c(\"A\", \"B\", \"C\", \"D\"),\n",
        "  english = c( 60,  90,  70,  90),\n",
        "  math    = c( 70,  80,  90, 100),\n",
        "  gender  = c(\"f\", \"m\", \"m\", \"f\"))"
      ],
      "id": "7722338a-1114-42f4-8bf2-3a7a6b3c26f5"
    },
    {
      "cell_type": "code",
      "execution_count": null,
      "metadata": {},
      "outputs": [],
      "source": [
        "var(my_df$english)"
      ],
      "id": "b34aceac-e184-4032-b7ca-06621f699e6b"
    },
    {
      "cell_type": "code",
      "execution_count": null,
      "metadata": {},
      "outputs": [],
      "source": [
        "# \u7d50\u679c\u306f\u30d9\u30af\u30bf\n",
        "my_df[, c(2, 3)] %>% sapply(var)\n",
        "\n",
        "# \u7d50\u679c\u306f\u30ea\u30b9\u30c8\n",
        "my_df[, c(2, 3)] %>% lapply(var)\n",
        "\n",
        "# \u7d50\u679c\u306f\u30c7\u30fc\u30bf\u30d5\u30ec\u30fc\u30e0\n",
        "my_df[, c(2, 3)] %>% # 2, 3\u5217\u76ee\n",
        "  summarize(across(  # \u306e\n",
        "    everything(),    # \u5168\u3066\u306e\n",
        "    var))            # \u4e0d\u504f\u5206\u6563\n",
        "# \u3042\u308b\u3044\u306f\n",
        "my_df %>%              # \u30c7\u30fc\u30bf\u30d5\u30ec\u30fc\u30e0\n",
        "  summarize(across(    # \u306e\n",
        "    where(is.numeric), # \u6570\u5024\u306e\u5217\u306e\n",
        "    var))              # \u4e0d\u504f\u5206\u6563\n",
        "# \u3042\u308b\u3044\u306f\n",
        "my_df %>%              # \u30c7\u30fc\u30bf\u30d5\u30ec\u30fc\u30e0\n",
        "  summarize(across(    # \u306e\n",
        "    where(is.numeric), # \u6570\u5024\u306e\u5217\u306e\n",
        "    function(x) { var(x) })) # \u4e0d\u504f\u5206\u6563\n"
      ],
      "id": "e1238d32-67a4-4978-bed9-2fc86f8f2a0f"
    },
    {
      "cell_type": "code",
      "execution_count": null,
      "metadata": {},
      "outputs": [],
      "source": [
        "psych::describe(my_df)\n",
        "\n",
        "# \u3042\u308b\u3044\u306f\n",
        "\n",
        "pastecs::stat.desc(my_df)\n",
        "# \u4ee5\u4e0b\u7701\u7565"
      ],
      "id": "589f42dd-d74c-40cb-8adb-2084dc2e54b0"
    },
    {
      "cell_type": "code",
      "execution_count": null,
      "metadata": {},
      "outputs": [],
      "source": [
        "table(my_df$gender)\n"
      ],
      "id": "bad83d71-6c2c-4fe5-87c7-e5be7f72f2c1"
    },
    {
      "cell_type": "code",
      "execution_count": null,
      "metadata": {},
      "outputs": [],
      "source": [
        "my_df2 <- data.frame(\n",
        "  gender = my_df$gender,\n",
        "  excel = my_df$math >= 80)\n",
        "table(my_df2)\n"
      ],
      "id": "a82c1085-af61-42b0-b130-0697bbb5cf7c"
    },
    {
      "cell_type": "code",
      "execution_count": null,
      "metadata": {},
      "outputs": [],
      "source": [
        "my_df %>% group_by(gender) %>%\n",
        "  summarize(across(\n",
        "    where(is.numeric), mean),\n",
        "    .groups = \"drop\") # \u30b0\u30eb\u30fc\u30d7\u5316\u89e3\u9664\n"
      ],
      "id": "e93d8a59-e3f8-4866-b99a-de9f8b9d9872"
    },
    {
      "id": "e681f501",
      "cell_type": "markdown",
      "source": "## 4.2 \u30c7\u30fc\u30bf\u306e\u53ef\u8996\u5316",
      "metadata": {}
    },
    {
      "cell_type": "code",
      "execution_count": null,
      "metadata": {},
      "outputs": [],
      "source": [
        "head(iris)"
      ],
      "id": "fa80cecf-934a-4f1a-ad4c-a8ace9a1d421"
    },
    {
      "cell_type": "code",
      "execution_count": null,
      "metadata": {},
      "outputs": [],
      "source": [
        "hist(iris$Sepal.Length)"
      ],
      "id": "8d2ad317-6ee4-47d0-977e-006808f23f5d"
    },
    {
      "cell_type": "code",
      "execution_count": null,
      "metadata": {},
      "outputs": [],
      "source": [
        "x <- c(10, 20, 30)\n",
        "hist(x, breaks = 2) # \u968e\u7d1a\u6570\u306f2"
      ],
      "id": "02f40ee0-dcf6-4f0d-a1f7-49838784de45"
    },
    {
      "cell_type": "code",
      "execution_count": null,
      "metadata": {},
      "outputs": [],
      "source": [
        "x <- iris$Sepal.Length\n",
        "tmp <- seq(min(x), max(x),\n",
        "           length.out = 10)\n",
        "hist(x, breaks = tmp, right = FALSE)"
      ],
      "id": "5e302bf6-a7a0-495c-aeaf-903220f53d94"
    },
    {
      "cell_type": "code",
      "execution_count": null,
      "metadata": {},
      "outputs": [],
      "source": [
        "plot(iris$Sepal.Length,\n",
        "     iris$Sepal.Width)"
      ],
      "id": "9873767a-cb18-4b0c-9100-3a3d6d59c33b"
    },
    {
      "cell_type": "code",
      "execution_count": null,
      "metadata": {},
      "outputs": [],
      "source": [
        "boxplot(iris[, -5])"
      ],
      "id": "04c5fa56-ce5e-4061-8837-a78e0ea49a4c"
    },
    {
      "cell_type": "code",
      "execution_count": null,
      "metadata": {},
      "outputs": [],
      "source": [
        "library(tidyverse)\n",
        "my_df <- psych::describe(iris[, -5])\n",
        "my_df %>% select(mean, sd, se)"
      ],
      "id": "a1b5e496-011a-4130-9640-774882d785a4"
    },
    {
      "cell_type": "code",
      "execution_count": null,
      "metadata": {},
      "outputs": [],
      "source": [
        "tmp <- rownames(my_df)\n",
        "my_df %>% ggplot(aes(x = factor(tmp, levels = tmp), y = mean)) +\n",
        "  geom_col() +\n",
        "  geom_errorbar(aes(ymin = mean - se, ymax = mean + se)) +\n",
        "  xlab(NULL)"
      ],
      "id": "8a8e430e-0502-4404-b28b-6ac9b84e8324"
    },
    {
      "cell_type": "code",
      "execution_count": null,
      "metadata": {},
      "outputs": [],
      "source": [
        "my_group <- iris %>% group_by(Species)       # \u54c1\u7a2e\u3054\u3068\u306b\uff0c\n",
        "\n",
        "my_df <- my_group %>%                        # \u5404\u5909\u6570\u306e\uff0c\u5e73\u5747\u3068\n",
        "  summarize(across(everything(), mean)) %>%\n",
        "  pivot_longer(-Species)\n",
        "\n",
        "tmp <- my_group %>%                          # \u6a19\u6e96\u8aa4\u5dee\u3092\u6c42\u3081\u308b\uff0e\n",
        "  summarize(across(everything(), ~ sd(.) / length(.)**0.5)) %>%\n",
        "  pivot_longer(-Species)\n",
        "\n",
        "my_df$se <- tmp$value\n",
        "head(my_df)"
      ],
      "id": "da4a6fbe-0cb6-405f-afc9-3e61dcc58ba7"
    },
    {
      "cell_type": "code",
      "execution_count": null,
      "metadata": {},
      "outputs": [],
      "source": [
        "my_df %>%\n",
        "  ggplot(aes(x = Species, y = value, fill = name)) +\n",
        "  geom_col(position = \"dodge\") +\n",
        "  geom_errorbar(aes(ymin = value - se, ymax = value + se), position = \"dodge\")"
      ],
      "id": "259e16d9-465e-4082-9fd2-c8b2eeca9365"
    },
    {
      "cell_type": "code",
      "execution_count": null,
      "metadata": {},
      "outputs": [],
      "source": [
        "# \u5404\u5909\u6570\u306e\u5e73\u5747\n",
        "iris %>% pivot_longer(-Species) %>%\n",
        "  ggplot(aes(x = name, y = value)) +\n",
        "  geom_bar(stat = \"summary\", fun = mean) +\n",
        "  stat_summary(geom = \"errorbar\", fun.data = mean_se) +\n",
        "  xlab(NULL)\n",
        "\n",
        "# \u5404\u5909\u6570\u306e\u5e73\u5747\uff08\u54c1\u7a2e\u3054\u3068\uff09\n",
        "iris %>% pivot_longer(-Species) %>%\n",
        "  ggplot(aes(x = Species, y = value, fill = name)) +\n",
        "  geom_bar(stat = \"summary\", fun = mean, position = \"dodge\") +\n",
        "  stat_summary(geom = \"errorbar\", fun.data = mean_se, position = \"dodge\")"
      ],
      "id": "84e744ab-7fbc-4dac-8a33-93ae8a377040"
    },
    {
      "cell_type": "code",
      "execution_count": null,
      "metadata": {},
      "outputs": [],
      "source": [
        "my_df <- data.frame(\n",
        "  Species = iris$Species,\n",
        "  w_Sepal = iris$Sepal.Width > 3)\n",
        "table(my_df) # \u5206\u5272\u8868\n",
        "\n",
        "mosaicplot(\n",
        "  formula = ~ Species + w_Sepal,\n",
        "  data = my_df)"
      ],
      "id": "8a427c2f-1ab3-4658-85c5-1889a70928d1"
    },
    {
      "cell_type": "code",
      "execution_count": null,
      "metadata": {},
      "outputs": [],
      "source": [
        "library(vcd)\n",
        "vcd::mosaic(formula = ~w_Sepal + Species, data = my_df,\n",
        "            labeling = labeling_values)"
      ],
      "id": "584f210b-74b7-4a9b-b69f-3872a8bb135a"
    },
    {
      "cell_type": "code",
      "execution_count": null,
      "metadata": {},
      "outputs": [],
      "source": [
        "curve(x^3 - x, -2, 2)"
      ],
      "id": "b0660145-9a19-4745-b4ac-a6b3183e8c7e"
    },
    {
      "cell_type": "code",
      "execution_count": null,
      "metadata": {},
      "outputs": [],
      "source": [
        "x <- iris$Sepal.Length\n",
        "tmp <- seq(min(x), max(x),\n",
        "           length.out = 10)\n",
        "iris %>%\n",
        "  ggplot(aes(x = Sepal.Length)) +\n",
        "  geom_histogram(breaks = tmp,\n",
        "                 closed = \"left\")"
      ],
      "id": "d252e373-bf20-405e-af7e-901dc5cea98a"
    },
    {
      "cell_type": "code",
      "execution_count": null,
      "metadata": {},
      "outputs": [],
      "source": [
        "iris %>%\n",
        "  ggplot(aes(x = Sepal.Length,\n",
        "             y = Sepal.Width)) +\n",
        "  geom_point()"
      ],
      "id": "d766c87a-be70-4497-b87e-e87f0c0d09cb"
    },
    {
      "cell_type": "code",
      "execution_count": null,
      "metadata": {},
      "outputs": [],
      "source": [
        "iris %>%\n",
        "  pivot_longer(-Species) %>%\n",
        "  ggplot(aes(\n",
        "    x = factor(name,\n",
        "               levels = names(iris)),\n",
        "    y = value)) +\n",
        "  geom_boxplot() +\n",
        "  xlab(NULL)"
      ],
      "id": "98e6c88f-9b3c-4d30-941d-158a954580a5"
    },
    {
      "cell_type": "code",
      "execution_count": null,
      "metadata": {},
      "outputs": [],
      "source": [
        "library(ggmosaic)\n",
        "my_df <- data.frame(\n",
        "  Species = iris$Species,\n",
        "  w_Sepal = iris$Sepal.Width > 3)\n",
        "my_df %>%\n",
        "  ggplot() +\n",
        "  geom_mosaic(\n",
        "    aes(x = product(w_Sepal, Species)))"
      ],
      "id": "e1d3a4d7-24a8-4b69-ad7e-e9e74b94684f"
    },
    {
      "cell_type": "code",
      "execution_count": null,
      "metadata": {},
      "outputs": [],
      "source": [
        "f <- function(x) { x^3 - x }\n",
        "data.frame(x = c(-2, 2)) %>%\n",
        "  ggplot(aes(x = x)) +\n",
        "  stat_function(fun = f)"
      ],
      "id": "861169ef-7778-4a88-ac6b-ddf6cef3cb8a"
    },
    {
      "id": "faf925ac",
      "cell_type": "markdown",
      "source": "## 4.3 \u4e71\u6570",
      "metadata": {}
    },
    {
      "cell_type": "code",
      "execution_count": null,
      "metadata": {},
      "outputs": [],
      "source": [
        "x <- sample(x = 1:6,        # \u7bc4\u56f2\n",
        "            size = 10000,   # \u4e71\u6570\u306e\u6570\n",
        "            replace = TRUE) # \u91cd\u8907\u3042\u308a\n",
        "hist(x, breaks = 0:6) # \u30d2\u30b9\u30c8\u30b0\u30e9\u30e0"
      ],
      "id": "cfe4438e-dd3b-4a5f-a0d4-54169bd17d77"
    },
    {
      "cell_type": "code",
      "execution_count": null,
      "metadata": {},
      "outputs": [],
      "source": [
        "x <- runif(min = 0,  # \u6700\u5c0f\n",
        "           max = 1,  # \u6700\u5927\n",
        "           n = 1000) # \u4e71\u6570\u306e\u6570\n",
        "hist(x)"
      ],
      "id": "14726457-0b9a-43d7-b403-f6d88ed3290a"
    },
    {
      "cell_type": "code",
      "execution_count": null,
      "metadata": {},
      "outputs": [],
      "source": [
        "x <- as.integer(      # \u6574\u6570\u306b\u5909\u63db\n",
        "  runif(min = 1,      # \u6700\u5c0f\n",
        "        max = 7,      # \u6700\u5927 + 1\n",
        "        n = 1000))    # \u4e71\u6570\u306e\u6570\n",
        "hist(x, breaks = 0:6) # \u7d50\u679c\u306f\u5272\u611b"
      ],
      "id": "89928569-c221-4fc4-8c50-d912bb086239"
    },
    {
      "cell_type": "code",
      "execution_count": null,
      "metadata": {},
      "outputs": [],
      "source": [
        "n <- 100\n",
        "p <- 0.5\n",
        "r <- 10000\n",
        "x <- rbinom(size = n, # \u8a66\u884c\u56de\u6570\n",
        "            prob = p, # \u78ba\u7387\n",
        "            n = r)    # \u4e71\u6570\u306e\u6570\n",
        "hist(x, breaks = max(x) - min(x))"
      ],
      "id": "ffcfb93b-2057-4547-aab4-6ccc18a24101"
    },
    {
      "cell_type": "code",
      "execution_count": null,
      "metadata": {},
      "outputs": [],
      "source": [
        "r <- 10000\n",
        "x <- rnorm(mean = 50, # \u5e73\u5747\n",
        "           sd = 5,    # \u6a19\u6e96\u504f\u5dee\n",
        "           n = r)     # \u4e71\u6570\u306e\u6570\n",
        "hist(x, breaks = 40)"
      ],
      "id": "58f0f557-4864-4280-8710-b3704f1cac87"
    },
    {
      "cell_type": "code",
      "execution_count": null,
      "metadata": {},
      "outputs": [],
      "source": [
        "library(tidyverse)\n",
        "\n",
        "f <- function(k) {\n",
        "  n <- 10000\n",
        "  tmp <- replicate(n = n, expr = g(rnorm(n =  k, sd = 3)))\n",
        "  list(k = k,\n",
        "       mean = mean(tmp),       # \u5e73\u5747\n",
        "       se = sd(tmp) / sqrt(n)) # \u6a19\u6e96\u8aa4\u5dee\n",
        "}"
      ],
      "id": "65e5a7b5-8156-4898-ad20-e7728efe7d65"
    },
    {
      "cell_type": "code",
      "execution_count": null,
      "metadata": {},
      "outputs": [],
      "source": [
        "g <- var\n",
        "c(10, 20, 30) %>% map_dfr(f)"
      ],
      "id": "0f997648-270f-44eb-87c3-627063f2106a"
    },
    {
      "cell_type": "code",
      "execution_count": null,
      "metadata": {},
      "outputs": [],
      "source": [
        "g <- sd\n",
        "c(5, 10, 15, 20) %>% map_dfr(f)"
      ],
      "id": "2218560d-949b-46c2-b518-740014b83f08"
    },
    {
      "cell_type": "code",
      "execution_count": null,
      "metadata": {},
      "outputs": [],
      "source": [
        "g <- function(x) {\n",
        "  n <- length(x)\n",
        "  sd(x) *\n",
        "    sqrt((n - 1) / 2) *\n",
        "    gamma((n - 1) / 2) /\n",
        "    gamma(n / 2)\n",
        "}\n",
        "c(10, 20, 30) %>% map_dfr(f)"
      ],
      "id": "b3124aa0-ffed-41ca-82a8-df6f1bad4d3b"
    },
    {
      "id": "d633b692",
      "cell_type": "markdown",
      "source": "## 4.4 \u7d71\u8a08\u7684\u63a8\u6e2c",
      "metadata": {}
    },
    {
      "cell_type": "code",
      "execution_count": null,
      "metadata": {},
      "outputs": [],
      "source": [
        "library(exactci)\n",
        "library(tidyverse)\n",
        "\n",
        "a <- 0.05                              # \u6709\u610f\u6c34\u6e96\n",
        "binom.exact(x = 2,                     # \u5f53\u305f\u3063\u305f\u56de\u6570\n",
        "            n = 15,                    # \u304f\u3058\u3092\u5f15\u3044\u305f\u56de\u6570\n",
        "            p = 4 / 10,                # \u5f53\u305f\u308b\u78ba\u7387\uff08\u4eee\u8aac\uff09\n",
        "            plot = TRUE,               # p\u5024\u306e\u63cf\u753b\uff08\u7d50\u679c\u306f\u6b21\u9805\u306b\u63b2\u8f09\uff09\n",
        "            conf.level = 1 - a,        # \u4fe1\u983c\u4fc2\u6570\uff08\u30c7\u30d5\u30a9\u30eb\u30c8\uff09\n",
        "            tsmethod = \"minlike\",      # p\u5024\u306e\u5b9a\u7fa9\n",
        "            alternative = \"two.sided\") # \u4e21\u5074\u691c\u5b9a\uff08\u30c7\u30d5\u30a9\u30eb\u30c8\uff09\n",
        "                                       # \u5de6\u7247\u5074\u691c\u5b9a\u306a\u3089'less'\n",
        "                                       # \u53f3\u7247\u5074\u691c\u5b9a\u306a\u3089'greater'\n"
      ],
      "id": "d2d80dcf-38a5-4b7f-adc4-34b649febabf"
    },
    {
      "cell_type": "code",
      "execution_count": null,
      "metadata": {},
      "outputs": [],
      "source": [
        "t <- 4 / 10               # \u5f53\u305f\u308b\u78ba\u7387\n",
        "n <- 15                   # \u304f\u3058\u3092\u5f15\u3044\u305f\u56de\u6570\n",
        "x <- 0:n                  # \u5f53\u305f\u3063\u305f\u56de\u6570\n",
        "my_pr  <- dbinom(x, n, t) # x\u56de\u5f53\u305f\u308b\u78ba\u7387\n",
        "my_pr2 <- dbinom(2, n, t) # 2\u56de\u5f53\u305f\u308b\u78ba\u7387\n",
        "\n",
        "my_data <- data.frame(x = x,\n",
        "                      probability = my_pr,\n",
        "                      color = my_pr <= my_pr2) # \u5f53\u305f\u308b\u78ba\u7387\u304c\uff0c2\u56de\u5f53\u305f\u308b\u78ba\u7387\u4ee5\u4e0b\n",
        "\n",
        "my_data %>% ggplot(aes(x = x, y = probability, color = color)) +\n",
        "  geom_point(size = 3) +\n",
        "  geom_linerange(aes(ymin = 0, ymax = probability), ) + # \u5782\u76f4\u7dda\n",
        "  geom_hline(yintercept = my_pr2) +                     # \u6c34\u5e73\u7dda\n",
        "  theme(legend.position = \"none\")                       # \u51e1\u4f8b\u3092\u8868\u793a\u3057\u306a\u3044\uff0e"
      ],
      "id": "70a3b574-8698-4199-ba0c-1a3587766b85"
    },
    {
      "cell_type": "code",
      "execution_count": null,
      "metadata": {},
      "outputs": [],
      "source": [
        "# \u524d\u9805\u306e\u7d50\u679c\uff08\u518d\u63b2\uff09"
      ],
      "id": "3ecaceef-2842-487b-8348-d6c585576dfc"
    },
    {
      "cell_type": "code",
      "execution_count": null,
      "metadata": {},
      "outputs": [],
      "source": [
        "# \u524d\u9805\u5192\u982d\u306e\u30b3\u30fc\u30c9"
      ],
      "id": "1f6cd1f0-27d9-4822-8950-21b961d3e97f"
    },
    {
      "cell_type": "code",
      "execution_count": null,
      "metadata": {},
      "outputs": [],
      "source": [
        "X <- c(32.1, 26.2, 27.5, 31.8, 32.1, 31.2, 30.1, 32.4, 32.3, 29.9,\n",
        "       29.6, 26.6, 31.2, 30.9, 29.3)\n",
        "Y <- c(35.4, 34.6, 31.1, 32.4, 33.3, 34.7, 35.3, 34.3, 32.1, 28.3,\n",
        "       33.3, 30.5, 32.6, 33.3, 32.2)\n",
        "\n",
        "t.test(x = X, y = Y,\n",
        "       conf.level = 0.95,         # \u4fe1\u983c\u4fc2\u6570\uff08\u30c7\u30d5\u30a9\u30eb\u30c8\uff09\n",
        "       paired = TRUE,             # \u5bfe\u6a19\u672c\u3067\u3042\u308b\uff0e\n",
        "       alternative = \"two.sided\") # \u4e21\u5074\u691c\u5b9a\uff08\u30c7\u30d5\u30a9\u30eb\u30c8\uff09\n",
        "                                  # \u5de6\u7247\u5074\u691c\u5b9a\u306a\u3089'less'\n",
        "                                  # \u53f3\u7247\u5074\u691c\u5b9a\u306a\u3089'greater'\n"
      ],
      "id": "3d17c670-1720-4275-ae8e-6e122b2db5b7"
    },
    {
      "cell_type": "code",
      "execution_count": null,
      "metadata": {},
      "outputs": [],
      "source": [
        "t.test(x = X, y = Y,\n",
        "       paired = FALSE,   # \u5bfe\u6a19\u672c\u3067\u306f\u306a\u3044\uff08\u30c7\u30d5\u30a9\u30eb\u30c8\uff09\uff0e\n",
        "       var.equal = TRUE, # \u7b49\u5206\u6563\u3092\u4eee\u5b9a\u3059\u308b\uff0e\u4eee\u5b9a\u3057\u306a\u3044\u306a\u3089FALSE\uff08\u30c7\u30d5\u30a9\u30eb\u30c8\uff09\uff0e\n",
        "       alternative = \"two.sided\",\n",
        "       conf.level = 0.95)\n"
      ],
      "id": "c034c25a-fafb-4ba2-8390-bac9d1158025"
    },
    {
      "cell_type": "code",
      "execution_count": null,
      "metadata": {},
      "outputs": [],
      "source": [
        "my_url <- str_c(\"https://raw.githubusercontent.com/taroyabuki\",\n",
        "                \"/fromzero/master/data/smoker.csv\")\n",
        "my_data <- read_csv(my_url)"
      ],
      "id": "04a21b62-0bfb-4bf0-8b40-f76cffb5198e"
    },
    {
      "cell_type": "code",
      "execution_count": null,
      "metadata": {},
      "outputs": [],
      "source": [
        "head(my_data)"
      ],
      "id": "e6ac8ad1-aba0-4e08-92b7-ec1fa2afd0f7"
    },
    {
      "cell_type": "code",
      "execution_count": null,
      "metadata": {},
      "outputs": [],
      "source": [
        "my_table <- table(my_data)\n",
        "my_table"
      ],
      "id": "b897f766-2d3d-4593-a86e-9b880b7deb66"
    },
    {
      "cell_type": "code",
      "execution_count": null,
      "metadata": {},
      "outputs": [],
      "source": [
        "chisq.test(my_table, correct = FALSE)\n"
      ],
      "id": "2334f053-08de-4684-bf37-7bb1a541ff92"
    },
    {
      "cell_type": "code",
      "execution_count": null,
      "metadata": {},
      "outputs": [],
      "source": [
        "X <- rep(0:1, c(13, 2)) # \u624b\u98061\n",
        "X\n",
        "\n",
        "tmp <- sample(X, size = length(X), replace = TRUE) # \u624b\u98062\n",
        "tmp\n",
        "\n",
        "sum(tmp) # \u624b\u98063\n",
        "\n",
        "n <- 10^5\n",
        "result <- replicate(n, sum(sample(X, size = length(X), replace = TRUE))) # \u624b\u98064"
      ],
      "id": "b043ba04-68ac-49c3-8585-da6681b095f4"
    },
    {
      "cell_type": "code",
      "execution_count": null,
      "metadata": {},
      "outputs": [],
      "source": [
        "hist(x = result, breaks = 0:15,\n",
        "     right = FALSE)"
      ],
      "id": "06b32ab6-d7c9-481c-ae51-14449531636d"
    },
    {
      "cell_type": "code",
      "execution_count": null,
      "metadata": {},
      "outputs": [],
      "source": [
        "quantile(result, c(0.025, 0.975))"
      ],
      "id": "8c80e9f9-9c89-4f92-a263-87a560ec1694"
    },
    {
      "id": "a1d08354",
      "cell_type": "markdown",
      "source": "# 5 \u524d\u51e6\u7406",
      "metadata": {}
    },
    {
      "cell_type": "code",
      "execution_count": null,
      "metadata": {},
      "outputs": [],
      "source": [
        "# Google Colaboratory\u306e\u74b0\u5883\u8a2d\u5b9a\n",
        "if (file.exists(\"/content\")) {\n",
        "  options(Ncpus = parallel::detectCores())\n",
        "  installed_packages <- rownames(installed.packages())\n",
        "  packages_to_install <- c(\"caret\")\n",
        "  install.packages(setdiff(packages_to_install, installed_packages))\n",
        "}"
      ],
      "id": "51dc43c2-7727-4bea-a36f-c9c04d20dc2a"
    },
    {
      "id": "7329209b",
      "cell_type": "markdown",
      "source": "## 5.1 \u30c7\u30fc\u30bf\u306e\u8aad\u307f\u8fbc\u307f",
      "metadata": {}
    },
    {
      "cell_type": "code",
      "execution_count": null,
      "metadata": {},
      "outputs": [],
      "source": [
        "library(tidyverse)\n",
        "system(str_c(\"wget https://raw.githubusercontent.com/taroyabuki\",\n",
        "             \"/fromzero/master/data/exam.csv\"))"
      ],
      "id": "424d9adb-7535-4bb6-b7c7-52a411242fa9"
    },
    {
      "cell_type": "code",
      "execution_count": null,
      "metadata": {},
      "outputs": [],
      "source": [
        "my_df <- read_csv(\"exam.csv\")\n",
        "# \u3042\u308b\u3044\u306f\n",
        "my_df <- read.csv(\"exam.csv\",\n",
        "  stringsAsFactors = FALSE)\n",
        "\n",
        "my_df"
      ],
      "id": "f75218ad-7a4a-4a14-8b21-7b1c58136b6c"
    },
    {
      "cell_type": "code",
      "execution_count": null,
      "metadata": {},
      "outputs": [],
      "source": [
        "my_url <- str_c(\"https://raw.githubusercontent.com/taroyabuki\",\n",
        "                \"/fromzero/master/data/exam.csv\")\n",
        "my_df <- read_csv(my_url)\n",
        "# \u3042\u308b\u3044\u306f\n",
        "my_df <- read.csv(my_url, stringsAsFactors = FALSE)"
      ],
      "id": "c791d4e0-6827-46e7-82a2-620cd1025ae0"
    },
    {
      "cell_type": "code",
      "execution_count": null,
      "metadata": {},
      "outputs": [],
      "source": [
        "my_df2 <- read.csv(\n",
        "  file = \"exam.csv\",\n",
        "  stringsAsFactors = FALSE,\n",
        "  row.names = 1)\n",
        "my_df2"
      ],
      "id": "ec289208-8193-4e64-a060-6efff9d8a87e"
    },
    {
      "cell_type": "code",
      "execution_count": null,
      "metadata": {},
      "outputs": [],
      "source": [
        "my_df %>% write_csv(\"exam2.csv\")\n",
        "# \u3042\u308b\u3044\u306f\n",
        "my_df %>% write.csv(\n",
        "  file = \"exam2.csv\",\n",
        "  row.names = FALSE)"
      ],
      "id": "be457fdf-7e37-4428-bfb8-ad4bb0f6374c"
    },
    {
      "cell_type": "code",
      "execution_count": null,
      "metadata": {},
      "outputs": [],
      "source": [
        "my_df2 %>% write.csv(\"exam3.csv\")"
      ],
      "id": "7b608038-f218-4706-861d-72d4cc99f176"
    },
    {
      "cell_type": "code",
      "execution_count": null,
      "metadata": {},
      "outputs": [],
      "source": [
        "my_df <- read_csv(file = \"exam.csv\",\n",
        "  locale = locale(encoding = \"UTF-8\"))\n",
        "# \u3042\u308b\u3044\u306f\n",
        "my_df <- read.csv(file = \"exam.csv\",\n",
        "  stringsAsFactors = FALSE,\n",
        "  fileEncoding = \"UTF-8\")"
      ],
      "id": "433bfc6a-a8d6-47ab-88df-9c1ddaf842bb"
    },
    {
      "cell_type": "code",
      "execution_count": null,
      "metadata": {},
      "outputs": [],
      "source": [
        "my_df %>% write_csv(\"exam2.csv\")\n",
        "# \u3042\u308b\u3044\u306f\n",
        "my_df %>% write.csv(file = \"exam2.csv\", row.names = FALSE,\n",
        "                    fileEncoding = \"UTF-8\")"
      ],
      "id": "16e884f0-f8dc-41cb-bc2d-6caa1474b742"
    },
    {
      "cell_type": "code",
      "execution_count": null,
      "metadata": {},
      "outputs": [],
      "source": [
        "my_url <- \"https://taroyabuki.github.io/fromzero/exam.html\"\n",
        "my_tables <- xml2::read_html(my_url) %>% rvest::html_table()"
      ],
      "id": "72254df6-2344-4433-9c2e-26ed5d4eb676"
    },
    {
      "cell_type": "code",
      "execution_count": null,
      "metadata": {},
      "outputs": [],
      "source": [
        "my_tables"
      ],
      "id": "fa0423a0-267b-4b67-9a57-ef5a4cf94751"
    },
    {
      "cell_type": "code",
      "execution_count": null,
      "metadata": {},
      "outputs": [],
      "source": [
        "tmp <- my_tables[[1]]\n",
        "tmp"
      ],
      "id": "d4e51aa6-65e7-4b11-8ea0-39e2b9747d73"
    },
    {
      "cell_type": "code",
      "execution_count": null,
      "metadata": {},
      "outputs": [],
      "source": [
        "# 1\u884c\u76ee\u306e\u30c7\u30fc\u30bf\u3092\u4f7f\u3063\u3066\u5217\u306e\u540d\u524d\u3092\u4ed8\u3051\u76f4\u3059\uff0e\n",
        "colnames(tmp) <- tmp[1, ]\n",
        "\n",
        "# 1\u884c\u76ee\u30681\u5217\u76ee\u3092\u524a\u9664\u3059\u308b\uff0e\n",
        "my_data <- tmp[-1, -1]\n",
        "my_data"
      ],
      "id": "e6d35146-84ad-4530-8a67-615090356a5b"
    },
    {
      "cell_type": "code",
      "execution_count": null,
      "metadata": {},
      "outputs": [],
      "source": [
        "library(jsonlite)\n",
        "my_url <- str_c(\"https://raw.githubusercontent.com/taroyabuki\",\n",
        "                \"/fromzero/master/data/exam.json\")\n",
        "my_data <- fromJSON(my_url)\n",
        "#my_data <- fromJSON(\"exam.json\") # \uff08\u30d5\u30a1\u30a4\u30eb\u3092\u4f7f\u3046\u5834\u5408\uff09\n",
        "my_data"
      ],
      "id": "f09900ae-1481-42e1-9c26-52132a59317e"
    },
    {
      "cell_type": "code",
      "execution_count": null,
      "metadata": {},
      "outputs": [],
      "source": [
        "library(xml2)\n",
        "my_url <- str_c(\"https://raw.githubusercontent.com/taroyabuki\",\n",
        "                \"/fromzero/master/data/exam.xml\")\n",
        "my_xml <- read_xml(my_url)      # XML\u30c7\u30fc\u30bf\u306e\u8aad\u307f\u8fbc\u307f\n",
        "#my_xml <- read_xml(\"exam.xml\") # \uff08\u30d5\u30a1\u30a4\u30eb\u3092\u4f7f\u3046\u5834\u5408\uff09\n",
        "xml_ns(my_xml)                  # \u540d\u524d\u7a7a\u9593\u306e\u78ba\u8a8d\uff08d1\uff09"
      ],
      "id": "a1c5fd4c-50b0-4e97-91c5-d1d2030385cb"
    },
    {
      "cell_type": "code",
      "execution_count": null,
      "metadata": {},
      "outputs": [],
      "source": [
        "my_records <- xml_find_all(my_xml, \".//d1:record\")"
      ],
      "id": "57f9b652-a7b0-46eb-9c92-8d83def29381"
    },
    {
      "cell_type": "code",
      "execution_count": null,
      "metadata": {},
      "outputs": [],
      "source": [
        "f <- function(record) {\n",
        "  tmp <- xml_attrs(record)                    # \u5c5e\u6027\u3092\u5168\u3066\u53d6\u308a\u51fa\u3057\uff0c\n",
        "  xml_children(record) %>% walk(function(e) {\n",
        "    tmp[xml_name(e)] <<- xml_text(e)          # \u5b50\u8981\u7d20\u306e\u540d\u524d\u3068\u5185\u5bb9\u3092\u8ffd\u52a0\u3059\u308b\uff0e\n",
        "  })\n",
        "  tmp\n",
        "}"
      ],
      "id": "7aaad8c9-1bd4-4f0b-a252-c7c71fbd83d9"
    },
    {
      "cell_type": "code",
      "execution_count": null,
      "metadata": {},
      "outputs": [],
      "source": [
        "my_data <- my_records %>% map_dfr(f)\n",
        "my_data$english <- as.numeric(my_data$english)\n",
        "my_data$math    <- as.numeric(my_data$math)\n",
        "my_data"
      ],
      "id": "6cf0e480-6dcf-4d07-b692-b77549727341"
    },
    {
      "id": "94de432f",
      "cell_type": "markdown",
      "source": "## 5.2 \u30c7\u30fc\u30bf\u306e\u5909\u63db",
      "metadata": {}
    },
    {
      "cell_type": "code",
      "execution_count": null,
      "metadata": {},
      "outputs": [],
      "source": [
        "x1 <- c(1, 2, 3)\n",
        "\n",
        "z1 <- scale(x1)\n",
        "# \u3042\u308b\u3044\u306f\n",
        "z1 <- (x1 - mean(x1)) / sd(x1)\n",
        "\n",
        "z1"
      ],
      "id": "a760cbe4-da79-4188-b037-7c2bbaefc73d"
    },
    {
      "cell_type": "code",
      "execution_count": null,
      "metadata": {},
      "outputs": [],
      "source": [
        "c(mean(z1), sd(z1))"
      ],
      "id": "3c2674f8-94b6-41a6-b24d-708534eca031"
    },
    {
      "cell_type": "code",
      "execution_count": null,
      "metadata": {},
      "outputs": [],
      "source": [
        "z1 * sd(x1) + mean(x1)"
      ],
      "id": "5f827faf-32bf-4d3b-a8fe-f62bc6a7eeaa"
    },
    {
      "cell_type": "code",
      "execution_count": null,
      "metadata": {},
      "outputs": [],
      "source": [
        "x2 <- c(1, 3, 5)\n",
        "z2 <- (x2 - mean(x1)) / sd(x1)\n",
        "c(mean(z2), sd(z2))"
      ],
      "id": "4cdd30e7-8f61-447e-8c8c-df7abc3148fe"
    },
    {
      "cell_type": "code",
      "execution_count": null,
      "metadata": {},
      "outputs": [],
      "source": [
        "library(caret)\n",
        "library(tidyverse)\n",
        "\n",
        "my_df <- data.frame(\n",
        "  id = c(1, 2, 3),\n",
        "  class = as.factor(\n",
        "    c(\"A\", \"B\", \"C\")))\n",
        "\n",
        "my_enc <- my_df %>%\n",
        "  dummyVars(formula = ~ .)\n",
        "\n",
        "my_enc %>% predict(my_df)"
      ],
      "id": "a7886f13-9ba6-4752-a847-9196f6cff5bd"
    },
    {
      "cell_type": "code",
      "execution_count": null,
      "metadata": {},
      "outputs": [],
      "source": [
        "my_df2 <- data.frame(\n",
        "  id =    c( 4 ,  5 ,  6 ),\n",
        "  class = c(\"B\", \"C\", \"B\"))\n",
        "my_enc %>% predict(my_df2)"
      ],
      "id": "eccecfea-2582-431d-b119-ff1f705fface"
    },
    {
      "cell_type": "code",
      "execution_count": null,
      "metadata": {},
      "outputs": [],
      "source": [
        "my_enc <- my_df %>%\n",
        "  dummyVars(formula = ~ .,\n",
        "            fullRank = TRUE)\n",
        "my_enc %>% predict(my_df)\n",
        "\n",
        "my_enc %>% predict(my_df2)"
      ],
      "id": "049ba048-5352-44aa-b5da-cdbbadfed617"
    },
    {
      "id": "022277d1",
      "cell_type": "markdown",
      "source": "# 6 \u6a5f\u68b0\u5b66\u7fd2\u306e\u76ee\u7684\u30fb\u30c7\u30fc\u30bf\u30fb\u624b\u6cd5\n\n\n",
      "metadata": {}
    },
    {
      "id": "47ef5b31",
      "cell_type": "markdown",
      "source": "## 6.1 \u6a5f\u68b0\u5b66\u7fd2\u306e\u76ee\u7684\uff08\u672c\u66f8\u306e\u5834\u5408\uff09\n\n\n",
      "metadata": {}
    },
    {
      "id": "53ee1196",
      "cell_type": "markdown",
      "source": "## 6.2 \u6a5f\u68b0\u5b66\u7fd2\u306e\u305f\u3081\u306e\u30c7\u30fc\u30bf",
      "metadata": {}
    },
    {
      "cell_type": "code",
      "execution_count": null,
      "metadata": {},
      "outputs": [],
      "source": [
        "iris\n",
        "# \u4ee5\u4e0b\u7701\u7565"
      ],
      "id": "d45587b4-e1a3-4168-8494-49f9f36ced4e"
    },
    {
      "id": "e1829c9c",
      "cell_type": "markdown",
      "source": "## 6.3 \u6a5f\u68b0\u5b66\u7fd2\u306e\u305f\u3081\u306e\u624b\u6cd5\n\n\n",
      "metadata": {}
    },
    {
      "id": "c71ed416",
      "cell_type": "markdown",
      "source": "# 7 \u56de\u5e301\uff08\u5358\u56de\u5e30\uff09",
      "metadata": {}
    },
    {
      "cell_type": "code",
      "execution_count": null,
      "metadata": {},
      "outputs": [],
      "source": [
        "# Google Colaboratory\u306e\u74b0\u5883\u8a2d\u5b9a\n",
        "if (file.exists(\"/content\")) {\n",
        "  options(Ncpus = parallel::detectCores())\n",
        "  installed_packages <- rownames(installed.packages())\n",
        "  packages_to_install <- c(\"caret\", \"doParallel\", \"pastecs\")\n",
        "  install.packages(setdiff(packages_to_install, installed_packages))\n",
        "}"
      ],
      "id": "abc9da9e-df5d-4721-b8c6-9afc4df560de"
    },
    {
      "id": "19a5fcd8",
      "cell_type": "markdown",
      "source": "## 7.1 \u81ea\u52d5\u8eca\u306e\u505c\u6b62\u8ddd\u96e2\n\n\n",
      "metadata": {}
    },
    {
      "id": "4928d0fc",
      "cell_type": "markdown",
      "source": "## 7.2 \u30c7\u30fc\u30bf\u306e\u78ba\u8a8d",
      "metadata": {}
    },
    {
      "cell_type": "code",
      "execution_count": null,
      "metadata": {},
      "outputs": [],
      "source": [
        "library(caret)\n",
        "library(tidyverse)\n",
        "my_data <- cars"
      ],
      "id": "0b6160ca-b033-4b18-af01-7d0f29f06531"
    },
    {
      "cell_type": "code",
      "execution_count": null,
      "metadata": {},
      "outputs": [],
      "source": [
        "dim(my_data)"
      ],
      "id": "aa41a13b-c633-49c6-8e70-19deacf43183"
    },
    {
      "cell_type": "code",
      "execution_count": null,
      "metadata": {},
      "outputs": [],
      "source": [
        "head(my_data)"
      ],
      "id": "6b46b599-010b-4870-baf4-5114837ba84e"
    },
    {
      "cell_type": "code",
      "execution_count": null,
      "metadata": {},
      "outputs": [],
      "source": [
        "options(digits = 3)\n",
        "pastecs::stat.desc(my_data)"
      ],
      "id": "dda0bdc7-c41a-4515-affa-a5b0128e63f7"
    },
    {
      "cell_type": "code",
      "execution_count": null,
      "metadata": {},
      "outputs": [],
      "source": [
        "my_data %>%\n",
        "  ggplot(aes(x = speed, y = dist)) +\n",
        "  geom_point()"
      ],
      "id": "a95eab70-5a0c-46db-b3cf-18599395c2f0"
    },
    {
      "id": "c65646ed",
      "cell_type": "markdown",
      "source": "## 7.3 \u56de\u5e30\u5206\u6790",
      "metadata": {}
    },
    {
      "cell_type": "code",
      "execution_count": null,
      "metadata": {},
      "outputs": [],
      "source": [
        "library(tidyverse)\n",
        "\n",
        "my_data <- cars\n",
        "tmp <- data.frame(speed = 21.5, dist = 67)\n",
        "my_data %>% ggplot(aes(x = speed, y = dist)) +\n",
        "  coord_cartesian(xlim = c(4, 25), ylim = c(0, 120)) +\n",
        "  geom_point() +\n",
        "  stat_smooth(formula = y ~ x, method = \"lm\") +\n",
        "  geom_pointrange(data = tmp, aes(ymin = -9, ymax = dist),  linetype = \"dotted\") +\n",
        "  geom_pointrange(data = tmp, aes(xmin =  0, xmax = speed), linetype = \"dotted\")"
      ],
      "id": "188d717a-a886-48a0-842c-2d1380331f2c"
    },
    {
      "cell_type": "code",
      "execution_count": null,
      "metadata": {},
      "outputs": [],
      "source": [
        "library(caret)\n",
        "library(tidyverse)\n",
        "my_data <- cars"
      ],
      "id": "8a8c2f1b-647c-49e7-9eeb-602745ccdb4e"
    },
    {
      "cell_type": "code",
      "execution_count": null,
      "metadata": {},
      "outputs": [],
      "source": [
        "my_model <- train(form = dist ~ speed, # \u30e2\u30c7\u30eb\u5f0f\uff08\u51fa\u529b\u5909\u6570\u3068\u5165\u529b\u5909\u6570\u306e\u95a2\u4fc2\uff09\n",
        "                  data = my_data,      # \u30c7\u30fc\u30bf\n",
        "                  method = \"lm\")       # \u624b\u6cd5"
      ],
      "id": "f6d6fae2-2d9c-4be0-9b99-b6908c138cbf"
    },
    {
      "cell_type": "code",
      "execution_count": null,
      "metadata": {},
      "outputs": [],
      "source": [
        "coef(my_model$finalModel)"
      ],
      "id": "378d25dd-6bc8-44f8-9758-5df3b0410229"
    },
    {
      "cell_type": "code",
      "execution_count": null,
      "metadata": {},
      "outputs": [],
      "source": [
        "tmp <- data.frame(speed = 21.5)\n",
        "my_model %>% predict(tmp)"
      ],
      "id": "711b7028-3e6e-46ab-aa43-fc5fe8df5981"
    },
    {
      "cell_type": "code",
      "execution_count": null,
      "metadata": {},
      "outputs": [],
      "source": [
        "f <- function(x) { my_model %>% predict(data.frame(speed = x)) }"
      ],
      "id": "c54cf670-c3da-4c2e-a3a9-49e443e4474a"
    },
    {
      "cell_type": "code",
      "execution_count": null,
      "metadata": {},
      "outputs": [],
      "source": [
        "my_data %>%\n",
        "  ggplot(aes(x = speed, y = dist,\n",
        "             color = \"data\")) +\n",
        "  geom_point() +\n",
        "  stat_function(\n",
        "    fun = f,\n",
        "    mapping = aes(color = \"model\"))"
      ],
      "id": "dc2dea60-2991-4b10-9bb7-2307e37ef768"
    },
    {
      "id": "b51c4881",
      "cell_type": "markdown",
      "source": "## 7.4 \u5f53\u3066\u306f\u307e\u308a\u306e\u826f\u3055\u306e\u6307\u6a19",
      "metadata": {}
    },
    {
      "cell_type": "code",
      "execution_count": null,
      "metadata": {},
      "outputs": [],
      "source": [
        "library(caret)\n",
        "library(tidyverse)\n",
        "my_data <- cars\n",
        "my_model <- train(form = dist ~ speed, data = my_data, method = \"lm\")\n",
        "\n",
        "y  <- my_data$dist\n",
        "y_ <- my_model %>% predict(my_data)\n",
        "my_data$y_ <- y_"
      ],
      "id": "debaeea3-8cd3-4bf0-90d3-f0ed8a4493ff"
    },
    {
      "cell_type": "code",
      "execution_count": null,
      "metadata": {},
      "outputs": [],
      "source": [
        "my_data$residual <- y - y_\n",
        "head(my_data)"
      ],
      "id": "1780d8d5-a5f0-4bfd-ae17-11d574951536"
    },
    {
      "cell_type": "code",
      "execution_count": null,
      "metadata": {},
      "outputs": [],
      "source": [
        "my_data %>%\n",
        "  ggplot(aes(x = speed, y = dist)) +\n",
        "  geom_point() +\n",
        "  geom_line(aes(x = speed, y = y_)) +\n",
        "  geom_linerange(mapping = aes(ymin = y_, ymax = dist), linetype = \"dotted\")"
      ],
      "id": "86f3cf1d-0d99-4d83-859c-5f282f1f10a9"
    },
    {
      "cell_type": "code",
      "execution_count": null,
      "metadata": {},
      "outputs": [],
      "source": [
        "RMSE(y_, y)\n",
        "# \u3042\u308b\u3044\u306f\n",
        "mean((my_data$residual^2))**0.5\n"
      ],
      "id": "2e20dfe1-a788-4f58-a3c9-4553e55e5309"
    },
    {
      "cell_type": "code",
      "execution_count": null,
      "metadata": {},
      "outputs": [],
      "source": [
        "R2(pred = y_, obs = y,\n",
        "   form = \"traditional\")"
      ],
      "id": "0b037769-58ad-4c5c-bfcf-ba0bb077ad34"
    },
    {
      "cell_type": "code",
      "execution_count": null,
      "metadata": {},
      "outputs": [],
      "source": [
        "R2(pred = y_, obs = y,\n",
        "   form = \"corr\")\n",
        "# \u3042\u308b\u3044\u306f\n",
        "summary(my_model$finalModel)$r.squared"
      ],
      "id": "4d316e57-ba39-4a6a-9755-50432caab8ad"
    },
    {
      "cell_type": "code",
      "execution_count": null,
      "metadata": {},
      "outputs": [],
      "source": [
        "my_test <- my_data[1:3, ]\n",
        "y  <- my_test$dist\n",
        "y_ <- my_model %>% predict(my_test)\n",
        "\n",
        "R2(pred = y_, obs = y,\n",
        "   form = \"traditional\")\n",
        "\n",
        "R2(pred = y_, obs = y,\n",
        "   form = \"corr\")"
      ],
      "id": "113d2221-0e1b-450d-8a51-03f9dc07c497"
    },
    {
      "cell_type": "code",
      "execution_count": null,
      "metadata": {},
      "outputs": [],
      "source": [
        "library(caret)\n",
        "library(tidyverse)\n",
        "my_data <- cars\n",
        "my_idx <- c(2, 11, 27, 34, 39, 44)\n",
        "my_sample <- my_data[my_idx, ]"
      ],
      "id": "731b37e1-abe8-4ad5-aff4-4244f6294809"
    },
    {
      "cell_type": "code",
      "execution_count": null,
      "metadata": {},
      "outputs": [],
      "source": [
        "options(warn = -1) # \u3053\u308c\u4ee5\u964d\uff0c\u8b66\u544a\u3092\u8868\u793a\u3057\u306a\u3044\uff0e\n",
        "my_model <- train(form = dist ~ poly(speed, degree = 5, raw = TRUE),\n",
        "                  data = my_sample,\n",
        "                  method = \"lm\")\n",
        "options(warn = 0)  # \u3053\u308c\u4ee5\u964d\uff0c\u8b66\u544a\u3092\u8868\u793a\u3059\u308b\uff0e\n",
        "\n",
        "y  <- my_sample$dist\n",
        "y_ <- my_model %>% predict(my_sample)"
      ],
      "id": "e21ad3c6-f592-44ab-a967-fd2c77ebe194"
    },
    {
      "cell_type": "code",
      "execution_count": null,
      "metadata": {},
      "outputs": [],
      "source": [
        "RMSE(y_, y)\n",
        "\n",
        "R2(pred = y_, obs = y,\n",
        "   form = \"traditional\")\n",
        "\n",
        "R2(pred = y_, obs = y,\n",
        "   form = \"corr\")"
      ],
      "id": "f8bf9427-5e7e-4f44-882d-b27f5d7ea0bf"
    },
    {
      "cell_type": "code",
      "execution_count": null,
      "metadata": {},
      "outputs": [],
      "source": [
        "f <- function(x) { my_model %>% predict(data.frame(speed = x)) }\n",
        "\n",
        "my_data %>%\n",
        "  ggplot(aes(x = speed, y = dist, color = \"data\")) +\n",
        "  geom_point() +\n",
        "  geom_point(data = my_sample, mapping = aes(color = \"sample\")) +\n",
        "  stat_function(fun = f, mapping = aes(color = \"model\")) +\n",
        "  coord_cartesian(ylim = c(0, 120))"
      ],
      "id": "3633c9ad-7fd3-4a0e-9ce2-8f7c694f3f58"
    },
    {
      "id": "9985fc4f",
      "cell_type": "markdown",
      "source": "## 7.5 K\u6700\u8fd1\u508d\u6cd5",
      "metadata": {}
    },
    {
      "cell_type": "code",
      "execution_count": null,
      "metadata": {},
      "outputs": [],
      "source": [
        "# \u6e96\u5099\n",
        "library(caret)\n",
        "library(tidyverse)\n",
        "my_data <- cars\n",
        "\n",
        "# \u8a13\u7df4\n",
        "my_model <- train(form = dist ~ speed, data = my_data, method = \"knn\")\n",
        "\n",
        "# \u53ef\u8996\u5316\u306e\u6e96\u5099\n",
        "f <- function(x) { my_model %>% predict(data.frame(speed = x))}"
      ],
      "id": "caf47e4a-7dc1-4e90-8e23-8dd372ab95cb"
    },
    {
      "cell_type": "code",
      "execution_count": null,
      "metadata": {},
      "outputs": [],
      "source": [
        "my_data %>%\n",
        "  ggplot(aes(x = speed,\n",
        "             y = dist,\n",
        "             color = \"data\")) +\n",
        "  geom_point() +\n",
        "  stat_function(\n",
        "    fun = f,\n",
        "    mapping = aes(color = \"model\"))"
      ],
      "id": "17ee5e7b-9793-4bfa-aae6-00ec5d960da6"
    },
    {
      "cell_type": "code",
      "execution_count": null,
      "metadata": {},
      "outputs": [],
      "source": [
        "y  <- my_data$dist\n",
        "y_ <- my_model %>% predict(my_data)\n",
        "\n",
        "RMSE(y_, y)\n",
        "\n",
        "R2(pred = y_, obs = y,\n",
        "   form = \"traditional\")\n",
        "\n",
        "R2(pred = y_, obs = y,\n",
        "   form = \"corr\")"
      ],
      "id": "581c5c76-f2c8-4557-919e-d36cb414085d"
    },
    {
      "id": "19353a44",
      "cell_type": "markdown",
      "source": "## 7.6 \u691c\u8a3c",
      "metadata": {}
    },
    {
      "cell_type": "code",
      "execution_count": null,
      "metadata": {},
      "outputs": [],
      "source": [
        "library(caret)\n",
        "library(tidyverse)\n",
        "my_data <- cars\n",
        "my_model <- train(form = dist ~ speed, data = my_data, method = \"lm\")\n",
        "\n",
        "my_model$results"
      ],
      "id": "a4e4cbda-6773-4e17-9118-d14115c58327"
    },
    {
      "cell_type": "code",
      "execution_count": null,
      "metadata": {},
      "outputs": [],
      "source": [
        "my_model <- train(form = dist ~ speed, data = my_data, method = \"lm\",\n",
        "                  trControl = trainControl(method = \"cv\", number = 5))\n",
        "my_model$results"
      ],
      "id": "ec59194f-ac1c-40d2-956a-6f2c93a6dab7"
    },
    {
      "cell_type": "code",
      "execution_count": null,
      "metadata": {},
      "outputs": [],
      "source": [
        "my_model <- train(form = dist ~ speed, data = my_data, method = \"lm\",\n",
        "                  trControl = trainControl(method = \"LOOCV\"))\n",
        "my_model$results"
      ],
      "id": "65e8614b-f36f-4d76-bcd6-5c3f8f3c239b"
    },
    {
      "cell_type": "code",
      "execution_count": null,
      "metadata": {},
      "outputs": [],
      "source": [
        "library(doParallel)\n",
        "cl <- makeCluster(detectCores())\n",
        "registerDoParallel(cl)"
      ],
      "id": "ac1e55cf-5573-48f5-862d-59d1b285c3a1"
    },
    {
      "cell_type": "code",
      "execution_count": null,
      "metadata": {},
      "outputs": [],
      "source": [
        "library(caret)\n",
        "library(tidyverse)\n",
        "my_data <- cars\n",
        "my_model <- train(form = dist ~ speed, data = my_data, method = \"lm\")\n",
        "y  <- my_data$dist\n",
        "y_ <- my_model %>% predict(my_data)"
      ],
      "id": "bb3c6dfb-02c3-4fa9-a2bd-e50c110d52de"
    },
    {
      "cell_type": "code",
      "execution_count": null,
      "metadata": {},
      "outputs": [],
      "source": [
        "# RMSE\uff08\u8a13\u7df4\uff09\n",
        "RMSE(y_, y)\n",
        "\n",
        "# \u6c7a\u5b9a\u4fc2\u65701\uff08\u8a13\u7df4\uff09\n",
        "R2(pred = y_, obs = y,\n",
        "   form = \"traditional\")\n",
        "\n",
        "# \u6c7a\u5b9a\u4fc2\u65706\uff08\u8a13\u7df4\uff09\n",
        "R2(pred = y_, obs = y,\n",
        "   form = \"corr\")"
      ],
      "id": "909784e0-caa0-4869-bc84-16c6c2d1d59a"
    },
    {
      "cell_type": "code",
      "execution_count": null,
      "metadata": {},
      "outputs": [],
      "source": [
        "postResample(pred = y_, obs = y)"
      ],
      "id": "20cf772f-3285-4e51-867c-02c531f3ee0f"
    },
    {
      "cell_type": "code",
      "execution_count": null,
      "metadata": {},
      "outputs": [],
      "source": [
        "my_model <- train(form = dist ~ speed, data = my_data, method = \"lm\")\n",
        "my_model$results\n",
        "# \u5de6\u304b\u3089\uff0cRMSE\uff08\u691c\u8a3c\uff09\uff0c\u6c7a\u5b9a\u4fc2\u65706\uff08\u691c\u8a3c\uff09\uff0cMAE\uff08\u691c\u8a3c\uff09"
      ],
      "id": "3b17d81e-9b16-4270-b3cf-b971ca6805cb"
    },
    {
      "cell_type": "code",
      "execution_count": null,
      "metadata": {},
      "outputs": [],
      "source": [
        "my_model <- train(form = dist ~ speed, data = my_data, method = \"lm\",\n",
        "                  trControl = trainControl(method = \"LOOCV\"))\n",
        "\n",
        "# \u65b9\u6cd51\n",
        "my_model$results\n",
        "\n",
        "# \u65b9\u6cd52\n",
        "y  <- my_model$pred$obs\n",
        "y_ <- my_model$pred$pred\n",
        "mean((y - y_)^2)**0.5"
      ],
      "id": "93be1a47-ad3d-41f5-b05a-f0c27b23c614"
    },
    {
      "cell_type": "code",
      "execution_count": null,
      "metadata": {},
      "outputs": [],
      "source": [
        "mean(((y - y_)^2)**0.5)"
      ],
      "id": "ab4d650e-8d18-43fa-ac8a-7f0c2abc1509"
    },
    {
      "cell_type": "code",
      "execution_count": null,
      "metadata": {},
      "outputs": [],
      "source": [
        "library(caret)\n",
        "library(tidyverse)\n",
        "my_data <- cars\n",
        "\n",
        "my_lm_model <- train(form = dist ~ speed, data = my_data, method = \"lm\",\n",
        "                     trControl = trainControl(method = \"LOOCV\"))\n",
        "\n",
        "my_knn_model <- train(form = dist ~ speed, data = my_data, method = \"knn\",\n",
        "                      tuneGrid = data.frame(k = 5),\n",
        "                      trControl = trainControl(method = \"LOOCV\"))"
      ],
      "id": "62d58756-37e5-40d5-a7e4-2d40d3254c4d"
    },
    {
      "cell_type": "code",
      "execution_count": null,
      "metadata": {},
      "outputs": [],
      "source": [
        "my_lm_model$results$RMSE\n",
        "\n",
        "my_knn_model$results$RMSE"
      ],
      "id": "bd1a5af8-8402-49ff-be8e-bc6f7c03d932"
    },
    {
      "cell_type": "code",
      "execution_count": null,
      "metadata": {},
      "outputs": [],
      "source": [
        "y     <- my_data$dist\n",
        "y_lm  <- my_lm_model$pred$pred\n",
        "y_knn <- my_knn_model$pred$pred\n",
        "\n",
        "my_df <- data.frame(\n",
        "  lm  = (y - y_lm)^2,\n",
        "  knn = (y - y_knn)^2)\n",
        "\n",
        "head(my_df)"
      ],
      "id": "aff60288-a0c6-4ebb-a154-0bef4a107ab8"
    },
    {
      "cell_type": "code",
      "execution_count": null,
      "metadata": {},
      "outputs": [],
      "source": [
        "boxplot(my_df, ylab = \"r^2\")"
      ],
      "id": "c01ee405-ef4f-4512-bba4-5a5877655283"
    },
    {
      "cell_type": "code",
      "execution_count": null,
      "metadata": {},
      "outputs": [],
      "source": [
        "t.test(x = my_df$lm, y = my_df$knn,\n",
        "       conf.level = 0.95,\n",
        "       paired = TRUE,\n",
        "       alternative = \"two.sided\")\n"
      ],
      "id": "1399df36-7a45-461a-89eb-547f284acce4"
    },
    {
      "id": "fc63141b",
      "cell_type": "markdown",
      "source": "## 7.7 \u30d1\u30e9\u30e1\u30fc\u30bf\u30c1\u30e5\u30fc\u30cb\u30f3\u30b0",
      "metadata": {}
    },
    {
      "cell_type": "code",
      "execution_count": null,
      "metadata": {},
      "outputs": [],
      "source": [
        "library(caret)\n",
        "library(tidyverse)\n",
        "my_data <- cars\n",
        "my_model <- train(form = dist ~ speed, data = my_data, method = \"knn\")\n",
        "my_model$results"
      ],
      "id": "643293db-f8ba-42a0-bcc1-ce464312b3c2"
    },
    {
      "cell_type": "code",
      "execution_count": null,
      "metadata": {},
      "outputs": [],
      "source": [
        "my_params <- expand.grid(k = 1:15)\n",
        "\n",
        "my_model <- train(form = dist ~ speed, data = my_data, method = \"knn\",\n",
        "                  tuneGrid = my_params,\n",
        "                  trControl = trainControl(method = \"LOOCV\"))"
      ],
      "id": "49c40590-dfeb-476a-b2a8-b8df1e1713db"
    },
    {
      "cell_type": "code",
      "execution_count": null,
      "metadata": {},
      "outputs": [],
      "source": [
        "head(my_model$results)"
      ],
      "id": "f4653132-b3e5-43b3-b589-5743a9c1dac2"
    },
    {
      "cell_type": "code",
      "execution_count": null,
      "metadata": {},
      "outputs": [],
      "source": [
        "ggplot(my_model)"
      ],
      "id": "9d07d1c9-2fcf-4ca6-b76f-37265f7b6a5a"
    },
    {
      "cell_type": "code",
      "execution_count": null,
      "metadata": {},
      "outputs": [],
      "source": [
        "my_model$bestTune"
      ],
      "id": "e3db4034-e654-47ae-abcb-b576008a898e"
    },
    {
      "cell_type": "code",
      "execution_count": null,
      "metadata": {},
      "outputs": [],
      "source": [
        "my_model$results %>%\n",
        "  filter(RMSE == min(RMSE))"
      ],
      "id": "1ae45a76-e5c5-497c-9e87-9f1a9b1937f5"
    },
    {
      "cell_type": "code",
      "execution_count": null,
      "metadata": {},
      "outputs": [],
      "source": [
        "y  <- my_data$dist\n",
        "y_ <- my_model %>% predict(my_data)\n",
        "RMSE(y_, y)"
      ],
      "id": "9ab73dda-0464-4849-b4db-9d8da04c94e8"
    },
    {
      "cell_type": "code",
      "execution_count": null,
      "metadata": {},
      "outputs": [],
      "source": [
        "library(caret)\n",
        "library(tidyverse)\n",
        "my_data <- cars\n",
        "\n",
        "my_loocv <- function(k) {\n",
        "  my_model <- train(form = dist ~ speed, data = my_data, method = \"knn\",\n",
        "                    tuneGrid = data.frame(k = k),\n",
        "                    trControl = trainControl(method = \"LOOCV\"))\n",
        "  y  <- my_data$dist\n",
        "  y_ <- my_model %>% predict(my_data)\n",
        "  list(k = k,\n",
        "       training = RMSE(y_, y),             # RMSE\uff08\u8a13\u7df4\uff09\n",
        "       validation = my_model$results$RMSE) # RMSE\uff08\u691c\u8a3c\uff09\n",
        "}\n",
        "\n",
        "my_results <- 1:15 %>% map_dfr(my_loocv)"
      ],
      "id": "1c0207a2-aa38-4b0f-90bc-a0b6bd5537c6"
    },
    {
      "cell_type": "code",
      "execution_count": null,
      "metadata": {},
      "outputs": [],
      "source": [
        "my_results %>%\n",
        "  pivot_longer(-k) %>%\n",
        "  ggplot(aes(x = k, y = value,\n",
        "             color = name)) +\n",
        "  geom_line() + geom_point() +\n",
        "  xlab(\"#Neighbors\") + ylab(\"RMSE\") +\n",
        "  theme(legend.position = c(1, 0),\n",
        "        legend.justification = c(1, 0))"
      ],
      "id": "8ae74ac1-4b90-4b62-8cd3-5ee40bf2ca4d"
    },
    {
      "cell_type": "code",
      "execution_count": null,
      "metadata": {},
      "outputs": [],
      "source": [
        "# \u4e26\u5217\u30af\u30e9\u30b9\u30bf\u306e\u505c\u6b62\n",
        "stopCluster(cl)\n",
        "registerDoSEQ()"
      ],
      "id": "94ddfdd9-e9bd-4fff-a68c-1ceb56bbaac3"
    },
    {
      "id": "957129c8",
      "cell_type": "markdown",
      "source": "# 8 \u56de\u5e302\uff08\u91cd\u56de\u5e30\uff09",
      "metadata": {}
    },
    {
      "cell_type": "code",
      "execution_count": null,
      "metadata": {},
      "outputs": [],
      "source": [
        "# Google Colaboratory\u306e\u74b0\u5883\u8a2d\u5b9a\n",
        "if (file.exists(\"/content\")) {\n",
        "  options(Ncpus = parallel::detectCores())\n",
        "  installed_packages <- rownames(installed.packages())\n",
        "  packages_to_install <- c(\"caret\", \"ggfortify\", \"glmnet\", \"glmnetUtils\", \"leaps\", \"neuralnet\", \"psych\")\n",
        "  install.packages(setdiff(packages_to_install, installed_packages))\n",
        "}"
      ],
      "id": "bd91195c-bd31-4b39-b5c0-5a9b5fe45ac6"
    },
    {
      "id": "976d543c",
      "cell_type": "markdown",
      "source": "## 8.1 \u30d6\u30c9\u30a6\u306e\u751f\u80b2\u6761\u4ef6\u3068\u30ef\u30a4\u30f3\u306e\u4fa1\u683c",
      "metadata": {}
    },
    {
      "cell_type": "code",
      "execution_count": null,
      "metadata": {},
      "outputs": [],
      "source": [
        "library(tidyverse)\n",
        "my_url <- \"http://www.liquidasset.com/winedata.html\"\n",
        "tmp <- read.table(file = my_url,   # \u8aad\u307f\u8fbc\u3080\u5bfe\u8c61\n",
        "                  header = TRUE,   # 1\u884c\u76ee\u306f\u5909\u6570\u540d\n",
        "                  na.string = \".\", # \u6b20\u640d\u5024\u3092\u8868\u3059\u6587\u5b57\u5217\n",
        "                  skip = 62,       # \u8aad\u307f\u98db\u3070\u3059\u884c\u6570\n",
        "                  nrows = 38)      # \u8aad\u307f\u8fbc\u3080\u884c\u6570\n",
        "psych::describe(tmp)"
      ],
      "id": "afc48b27-4396-4c46-a70c-759290254c23"
    },
    {
      "cell_type": "code",
      "execution_count": null,
      "metadata": {},
      "outputs": [],
      "source": [
        "my_data <- na.omit(tmp[, -c(1, 2)])\n",
        "head(my_data)"
      ],
      "id": "59e95175-b8d0-4ce9-a1e0-c57aa2beee8e"
    },
    {
      "cell_type": "code",
      "execution_count": null,
      "metadata": {},
      "outputs": [],
      "source": [
        "dim(my_data)"
      ],
      "id": "18b6d331-96b0-426f-9be2-8b73ad6bdbb3"
    },
    {
      "cell_type": "code",
      "execution_count": null,
      "metadata": {},
      "outputs": [],
      "source": [
        "my_data %>% write_csv(\"wine.csv\")"
      ],
      "id": "569ad70d-3c9a-4c0b-a92b-31073621c592"
    },
    {
      "cell_type": "code",
      "execution_count": null,
      "metadata": {},
      "outputs": [],
      "source": [
        "#my_data <- read_csv(\"wine.csv\") # \u4f5c\u3063\u305f\u30d5\u30a1\u30a4\u30eb\u3092\u4f7f\u3046\u5834\u5408\n",
        "my_url <- str_c(\"https://raw.githubusercontent.com/taroyabuki\",\n",
        "                \"/fromzero/master/data/wine.csv\")\n",
        "my_data <- read_csv(my_url)"
      ],
      "id": "8f1f4d55-cd87-4061-9e3c-f5e14b9b4789"
    },
    {
      "id": "fc93609e",
      "cell_type": "markdown",
      "source": "## 8.2 \u91cd\u56de\u5e30\u5206\u6790",
      "metadata": {}
    },
    {
      "cell_type": "code",
      "execution_count": null,
      "metadata": {},
      "outputs": [],
      "source": [
        "library(caret)\n",
        "library(tidyverse)\n",
        "my_url <- str_c(\"https://raw.githubusercontent.com/taroyabuki\",\n",
        "                \"/fromzero/master/data/wine.csv\")\n",
        "my_data <- read_csv(my_url)\n",
        "\n",
        "my_model <- train(form = LPRICE2 ~ WRAIN + DEGREES + HRAIN + TIME_SV,\n",
        "                  data = my_data,\n",
        "                  method = \"lm\",\n",
        "                  trControl = trainControl(method = \"LOOCV\"))"
      ],
      "id": "b46cf6d5-009d-4c95-9d64-79340dfd5093"
    },
    {
      "cell_type": "code",
      "execution_count": null,
      "metadata": {},
      "outputs": [],
      "source": [
        "coef(my_model$finalModel) %>%\n",
        "  as.data.frame"
      ],
      "id": "f7c0b891-990e-4548-9105-d188688f7382"
    },
    {
      "cell_type": "code",
      "execution_count": null,
      "metadata": {},
      "outputs": [],
      "source": [
        "my_test <- data.frame(\n",
        "  WRAIN = 500, DEGREES = 17,\n",
        "  HRAIN = 120, TIME_SV = 2)\n",
        "my_model %>% predict(my_test)"
      ],
      "id": "e89cb658-f523-4af8-a84a-0e597eae4e6d"
    },
    {
      "cell_type": "code",
      "execution_count": null,
      "metadata": {},
      "outputs": [],
      "source": [
        "y  <- my_data$LPRICE2\n",
        "y_ <- my_model %>% predict(my_data)\n",
        "\n",
        "RMSE(y_, y)\n",
        "\n",
        "R2(pred = y_, obs = y,\n",
        "   form = \"traditional\")\n",
        "\n",
        "R2(pred = y_, obs = y,\n",
        "   form = \"corr\")"
      ],
      "id": "c0606b7a-806a-43db-964a-2afef89d62b9"
    },
    {
      "cell_type": "code",
      "execution_count": null,
      "metadata": {},
      "outputs": [],
      "source": [
        "my_model$results"
      ],
      "id": "90f91164-02a0-4ba0-96ae-12f03f5909bd"
    },
    {
      "cell_type": "code",
      "execution_count": null,
      "metadata": {},
      "outputs": [],
      "source": [
        "M <- my_data[, -1] %>%\n",
        "  mutate(b0 = 1) %>% as.matrix\n",
        "b <- MASS::ginv(M) %*% y\n",
        "matrix(b,\n",
        "       dimnames = list(colnames(M)))"
      ],
      "id": "6523968b-0081-4fcd-8946-43bb7d109047"
    },
    {
      "id": "c451f1c7",
      "cell_type": "markdown",
      "source": "## 8.3 \u6a19\u6e96\u5316",
      "metadata": {}
    },
    {
      "cell_type": "code",
      "execution_count": null,
      "metadata": {},
      "outputs": [],
      "source": [
        "library(caret)\n",
        "library(tidyverse)\n",
        "my_url <- str_c(\"https://raw.githubusercontent.com/taroyabuki\",\n",
        "                \"/fromzero/master/data/wine.csv\")\n",
        "my_data <- read_csv(my_url)\n",
        "\n",
        "my_data %>%\n",
        "  mutate_if(is.numeric, scale) %>% # \u6570\u5024\u306e\u5217\u306e\u6a19\u6e96\u5316\n",
        "  pivot_longer(-LPRICE2) %>%\n",
        "  ggplot(aes(x = name, y = value)) +\n",
        "  geom_boxplot() +\n",
        "  stat_summary(fun = mean, geom = \"point\", size = 3) +\n",
        "  xlab(NULL)"
      ],
      "id": "d02705ac-a684-4004-b6b9-00a6f965de8e"
    },
    {
      "cell_type": "code",
      "execution_count": null,
      "metadata": {},
      "outputs": [],
      "source": [
        "my_model <- train(\n",
        "  form = LPRICE2 ~ .,\n",
        "  data = my_data,\n",
        "  method = \"lm\",\n",
        "  preProcess = c(\"center\", \"scale\"))"
      ],
      "id": "4199d5b6-a3f8-4545-a188-59fcfd7320bc"
    },
    {
      "cell_type": "code",
      "execution_count": null,
      "metadata": {},
      "outputs": [],
      "source": [
        "coef(my_model$finalModel) %>%\n",
        "  as.data.frame"
      ],
      "id": "0be7f66a-ab6d-4846-bc1d-fe3ff4563f68"
    },
    {
      "cell_type": "code",
      "execution_count": null,
      "metadata": {},
      "outputs": [],
      "source": [
        "my_test <- data.frame(\n",
        "  WRAIN = 500, DEGREES = 17,\n",
        "  HRAIN = 120, TIME_SV = 2)\n",
        "my_model %>% predict(my_test)"
      ],
      "id": "1316a7ae-9663-486a-a870-f6fcb0216a3d"
    },
    {
      "id": "1af8eca3",
      "cell_type": "markdown",
      "source": "## 8.4 \u5165\u529b\u5909\u6570\u306e\u6570\u3068\u30e2\u30c7\u30eb\u306e\u826f\u3055",
      "metadata": {}
    },
    {
      "cell_type": "code",
      "execution_count": null,
      "metadata": {},
      "outputs": [],
      "source": [
        "library(caret)\n",
        "library(tidyverse)\n",
        "my_url <- str_c(\"https://raw.githubusercontent.com/taroyabuki\",\n",
        "                \"/fromzero/master/data/wine.csv\")\n",
        "my_data <- read_csv(my_url)\n",
        "\n",
        "n <- nrow(my_data)\n",
        "my_data2 <- my_data %>% mutate(v1 = 0:(n - 1) %% 2,\n",
        "                               v2 = 0:(n - 1) %% 3)\n",
        "head(my_data2)"
      ],
      "id": "e5328e39-f523-4e36-9c1d-e8e5db520ede"
    },
    {
      "cell_type": "code",
      "execution_count": null,
      "metadata": {},
      "outputs": [],
      "source": [
        "my_model2 <- train(form = LPRICE2 ~ ., data = my_data2, method = \"lm\",\n",
        "                   trControl = trainControl(method = \"LOOCV\"))\n",
        "y  <- my_data2$LPRICE2\n",
        "y_ <- my_model2 %>% predict(my_data2)\n",
        "\n",
        "RMSE(y_, y)\n",
        "\n",
        "my_model2$results$RMSE"
      ],
      "id": "b9ce9126-8eb6-4740-9111-1115f08f9fad"
    },
    {
      "id": "b274eab4",
      "cell_type": "markdown",
      "source": "## 8.5 \u5909\u6570\u9078\u629e",
      "metadata": {}
    },
    {
      "cell_type": "code",
      "execution_count": null,
      "metadata": {},
      "outputs": [],
      "source": [
        "library(caret)\n",
        "library(tidyverse)\n",
        "my_url <- str_c(\"https://raw.githubusercontent.com/taroyabuki\",\n",
        "                \"/fromzero/master/data/wine.csv\")\n",
        "my_data <- read_csv(my_url)\n",
        "n <- nrow(my_data)\n",
        "my_data2 <- my_data %>% mutate(v1 = 0:(n - 1) %% 2,\n",
        "                               v2 = 0:(n - 1) %% 3)"
      ],
      "id": "03ba846c-2439-4fcf-aba4-95fb7855ee15"
    },
    {
      "cell_type": "code",
      "execution_count": null,
      "metadata": {},
      "outputs": [],
      "source": [
        "my_model <- train(form = LPRICE2 ~ .,\n",
        "                  data = my_data2,\n",
        "                  method = \"leapForward\", # \u5909\u6570\u5897\u52a0\u6cd5\n",
        "                  trControl = trainControl(method = \"LOOCV\"),\n",
        "                  tuneGrid = data.frame(nvmax = 1:6)) # \u9078\u629e\u3059\u308b\u5909\u6570\u306e\u4e0a\u9650\n",
        "summary(my_model$finalModel)$outmat"
      ],
      "id": "202a2cbb-e3c2-4845-8686-5bca369a1426"
    },
    {
      "id": "a9f0e26a",
      "cell_type": "markdown",
      "source": "## 8.6 \u88dc\u8db3\uff1a\u6b63\u5247\u5316",
      "metadata": {}
    },
    {
      "cell_type": "code",
      "execution_count": null,
      "metadata": {},
      "outputs": [],
      "source": [
        "library(caret)\n",
        "library(tidyverse)\n",
        "my_url <- str_c(\"https://raw.githubusercontent.com/taroyabuki\",\n",
        "                \"/fromzero/master/data/wine.csv\")\n",
        "my_data <- read_csv(my_url)"
      ],
      "id": "8c8055fb-f358-4328-b4e1-ad4cf5f17b9f"
    },
    {
      "cell_type": "code",
      "execution_count": null,
      "metadata": {},
      "outputs": [],
      "source": [
        "A <- 2\n",
        "B <- 0.1\n",
        "\n",
        "my_model <- train(\n",
        "  form = LPRICE2 ~ .,\n",
        "  data = my_data,\n",
        "  method = \"glmnet\",\n",
        "  standardize = TRUE,\n",
        "  tuneGrid = data.frame(\n",
        "    lambda = A,\n",
        "    alpha = B))"
      ],
      "id": "161cb0b3-d2e8-435c-bcca-597569906c07"
    },
    {
      "cell_type": "code",
      "execution_count": null,
      "metadata": {},
      "outputs": [],
      "source": [
        "coef(my_model$finalModel, A)"
      ],
      "id": "7a85429d-305f-4850-b30d-538c580280f6"
    },
    {
      "cell_type": "code",
      "execution_count": null,
      "metadata": {},
      "outputs": [],
      "source": [
        "my_test <- data.frame(\n",
        "  WRAIN = 500, DEGREES = 17,\n",
        "  HRAIN = 120, TIME_SV = 2)\n",
        "my_model %>% predict(my_test)"
      ],
      "id": "781aaef2-0f51-4bb4-83f4-517b3de978ea"
    },
    {
      "cell_type": "code",
      "execution_count": null,
      "metadata": {},
      "outputs": [],
      "source": [
        "library(ggfortify)\n",
        "library(glmnetUtils)\n",
        "\n",
        "my_data2 <- my_data %>% scale %>%\n",
        "  as.data.frame\n",
        "\n",
        "B <- 0.1\n",
        "\n",
        "glmnet(\n",
        "  form = LPRICE2 ~ .,\n",
        "  data = my_data2,\n",
        "  alpha = B) %>%\n",
        "  autoplot(xvar = \"lambda\") +\n",
        "  xlab(\"log A ( = log lambda)\") +\n",
        "  theme(legend.position = c(0.15, 0.25))"
      ],
      "id": "9a27c2fe-1fae-4af0-8214-b4bbf715e4c1"
    },
    {
      "cell_type": "code",
      "execution_count": null,
      "metadata": {},
      "outputs": [],
      "source": [
        "As <- seq(0, 0.1, length.out = 21)\n",
        "Bs <- seq(0, 0.1, length.out =  6)\n",
        "\n",
        "my_model <- train(\n",
        "  form = LPRICE2 ~ ., data = my_data, method = \"glmnet\", standardize = TRUE,\n",
        "  trControl = trainControl(method = \"LOOCV\"),\n",
        "  tuneGrid = expand.grid(lambda = As, alpha  = Bs))\n",
        "\n",
        "my_model$bestTune"
      ],
      "id": "90056a69-dddd-414c-949a-a44a4c37fdf0"
    },
    {
      "cell_type": "code",
      "execution_count": null,
      "metadata": {},
      "outputs": [],
      "source": [
        "tmp <- \"B ( = alpha)\"\n",
        "ggplot(my_model) +\n",
        "  theme(legend.position = c(0, 1), legend.justification = c(0, 1)) +\n",
        "  xlab(\"A ( = lambda)\") +\n",
        "  guides(shape = guide_legend(tmp), color = guide_legend(tmp))"
      ],
      "id": "f53b228f-384c-40c5-b8c5-e43615e4cf68"
    },
    {
      "cell_type": "code",
      "execution_count": null,
      "metadata": {},
      "outputs": [],
      "source": [
        "my_model$results %>%\n",
        "  filter(RMSE == min(RMSE))"
      ],
      "id": "fb184462-9228-4cd5-aa19-dc5a3d36d2cd"
    },
    {
      "id": "1fb6e6a0",
      "cell_type": "markdown",
      "source": "## 8.7 \u30cb\u30e5\u30fc\u30e9\u30eb\u30cd\u30c3\u30c8\u30ef\u30fc\u30af",
      "metadata": {}
    },
    {
      "cell_type": "code",
      "execution_count": null,
      "metadata": {},
      "outputs": [],
      "source": [
        "curve(1 / (1 + exp(-x)), -6, 6)"
      ],
      "id": "2e0dac8d-7100-40f0-ae05-ef447112251c"
    },
    {
      "cell_type": "code",
      "execution_count": null,
      "metadata": {},
      "outputs": [],
      "source": [
        "library(caret)\n",
        "library(tidyverse)\n",
        "my_url <- str_c(\"https://raw.githubusercontent.com/taroyabuki\",\n",
        "                \"/fromzero/master/data/wine.csv\")\n",
        "my_data <- read_csv(my_url)"
      ],
      "id": "0ccdc853-1cf7-413f-bc82-26793ea537a4"
    },
    {
      "cell_type": "code",
      "execution_count": null,
      "metadata": {},
      "outputs": [],
      "source": [
        "my_model <- train(form = LPRICE2 ~ .,\n",
        "                  data = my_data,\n",
        "                  method = \"neuralnet\",              # \u30cb\u30e5\u30fc\u30e9\u30eb\u30cd\u30c3\u30c8\u30ef\u30fc\u30af\n",
        "                  preProcess = c(\"center\", \"scale\"), # \u6a19\u6e96\u5316\n",
        "                  trControl = trainControl(method = \"LOOCV\"))\n",
        "plot(my_model$finalModel) # \u8a13\u7df4\u6e08\u30cd\u30c3\u30c8\u30ef\u30fc\u30af\u306e\u63cf\u753b"
      ],
      "id": "79e50b2b-4dd8-4094-8e6f-6375fa030b91"
    },
    {
      "cell_type": "code",
      "execution_count": null,
      "metadata": {},
      "outputs": [],
      "source": [
        "my_model$results"
      ],
      "id": "422fe003-a396-4fc9-8f90-5aa01ea37fd6"
    },
    {
      "cell_type": "code",
      "execution_count": null,
      "metadata": {},
      "outputs": [],
      "source": [
        "my_model <- train(\n",
        "  form = LPRICE2 ~ .,\n",
        "  data = my_data,\n",
        "  method = \"neuralnet\",\n",
        "  preProcess = c(\"center\", \"scale\"),\n",
        "  trControl = trainControl(method = \"LOOCV\"),\n",
        "  tuneGrid = expand.grid(layer1 = 1:5,\n",
        "                         layer2 = 0:2,\n",
        "                         layer3 = 0))"
      ],
      "id": "cb2df219-497c-4190-9199-614d5070ab4b"
    },
    {
      "cell_type": "code",
      "execution_count": null,
      "metadata": {},
      "outputs": [],
      "source": [
        "my_model$results %>%\n",
        "  filter(RMSE == min(RMSE))"
      ],
      "id": "f7d051d9-d17c-4298-8ac2-39f1145c363e"
    },
    {
      "id": "347da9f6",
      "cell_type": "markdown",
      "source": "# 9 \u5206\u985e1\uff08\u591a\u5024\u5206\u985e\uff09",
      "metadata": {}
    },
    {
      "cell_type": "code",
      "execution_count": null,
      "metadata": {},
      "outputs": [],
      "source": [
        "# Google Colaboratory\u306e\u74b0\u5883\u8a2d\u5b9a\n",
        "if (file.exists(\"/content\")) {\n",
        "  options(Ncpus = parallel::detectCores())\n",
        "  installed_packages <- rownames(installed.packages())\n",
        "  packages_to_install <- c(\"caret\", \"furrr\", \"psych\", \"randomForest\", \"rpart.plot\", \"xgboost\")\n",
        "  install.packages(setdiff(packages_to_install, installed_packages))\n",
        "}"
      ],
      "id": "d0c15fd1-9326-4b1b-8b03-ddd93ea09da3"
    },
    {
      "id": "76d0c6fc",
      "cell_type": "markdown",
      "source": "## 9.1 \u30a2\u30e4\u30e1\u306e\u30c7\u30fc\u30bf",
      "metadata": {}
    },
    {
      "cell_type": "code",
      "execution_count": null,
      "metadata": {},
      "outputs": [],
      "source": [
        "my_data <- iris\n",
        "head(my_data)"
      ],
      "id": "b1c412f1-f8b7-4a0e-8971-e986af41e9fa"
    },
    {
      "cell_type": "code",
      "execution_count": null,
      "metadata": {},
      "outputs": [],
      "source": [
        "psych::describe(my_data)"
      ],
      "id": "649ed1d5-cbaa-43bb-9cad-d2b3c5d2950d"
    },
    {
      "id": "b24aab67",
      "cell_type": "markdown",
      "source": "## 9.2 \u6728\u306b\u3088\u308b\u5206\u985e",
      "metadata": {}
    },
    {
      "cell_type": "code",
      "execution_count": null,
      "metadata": {},
      "outputs": [],
      "source": [
        "library(caret)\n",
        "library(tidyverse)\n",
        "my_data <- iris\n",
        "my_model <- train(form = Species ~ ., data = my_data, method = \"rpart\")"
      ],
      "id": "9bd18c44-d2a5-43ab-be65-b3583ad2279d"
    },
    {
      "cell_type": "code",
      "execution_count": null,
      "metadata": {},
      "outputs": [],
      "source": [
        "rpart.plot::rpart.plot(my_model$finalModel, extra = 1)"
      ],
      "id": "c47f3336-9677-476e-a674-8adf568d69d9"
    },
    {
      "cell_type": "code",
      "execution_count": null,
      "metadata": {},
      "outputs": [],
      "source": [
        "my_test <- tribble(\n",
        "~Sepal.Length, ~Sepal.Width, ~Petal.Length, ~Petal.Width,\n",
        "          5.0,          3.5,           1.5,          0.5,\n",
        "          6.5,          3.0,           5.0,          2.0)\n",
        "\n",
        "my_model %>% predict(my_test)"
      ],
      "id": "a05d585a-432d-462c-a617-809d0dd4582c"
    },
    {
      "cell_type": "code",
      "execution_count": null,
      "metadata": {},
      "outputs": [],
      "source": [
        "my_model %>% predict(my_test,\n",
        "                     type = \"prob\")"
      ],
      "id": "f525f62c-feec-449a-97f7-b06239690c52"
    },
    {
      "id": "0386859a",
      "cell_type": "markdown",
      "source": "## 9.3 \u6b63\u89e3\u7387",
      "metadata": {}
    },
    {
      "cell_type": "code",
      "execution_count": null,
      "metadata": {},
      "outputs": [],
      "source": [
        "library(caret)\n",
        "library(tidyverse)\n",
        "my_data <- iris\n",
        "my_model <- train(form = Species ~ ., data = my_data, method = \"rpart2\")\n",
        "\n",
        "y  <- my_data$Species\n",
        "y_ <- my_model %>% predict(my_data)\n",
        "confusionMatrix(data = y_, reference = y)\n",
        "# \u4ee5\u4e0b\u306f\u5272\u611b"
      ],
      "id": "66353f5a-0a08-4041-94e8-99b4454ffd1c"
    },
    {
      "cell_type": "code",
      "execution_count": null,
      "metadata": {},
      "outputs": [],
      "source": [
        "y  <- my_data$Species\n",
        "y_ <- my_model %>% predict(my_data)\n",
        "mean(y_ == y)"
      ],
      "id": "9a4b7701-dbb4-42ba-8c78-c445b7d35abf"
    },
    {
      "cell_type": "code",
      "execution_count": null,
      "metadata": {},
      "outputs": [],
      "source": [
        "my_model <- train(form = Species ~ ., data = my_data, method = \"rpart2\",\n",
        "                  trControl = trainControl(method = \"LOOCV\"))\n",
        "my_model$results"
      ],
      "id": "8b9106c1-47d8-4f92-9977-828fead6d5c6"
    },
    {
      "cell_type": "code",
      "execution_count": null,
      "metadata": {},
      "outputs": [],
      "source": [
        "my_model <- train(form = Species ~ ., data = my_data, method = \"rpart2\",\n",
        "                  tuneGrid = data.frame(maxdepth = 1:10),\n",
        "                  trControl = trainControl(method = \"LOOCV\"))\n",
        "my_model$results %>% filter(Accuracy == max(Accuracy))"
      ],
      "id": "a0a7dd1a-cbcf-4c92-8b93-f821d3a0c178"
    },
    {
      "cell_type": "code",
      "execution_count": null,
      "metadata": {},
      "outputs": [],
      "source": [
        "# \u30d1\u30e9\u30e1\u30fc\u30bf\u3092\u4e0e\u3048\u308b\u3068\u6b63\u89e3\u7387\uff08LOOCV\uff09\u3092\u8fd4\u3059\u95a2\u6570\n",
        "my_loocv <- function(maxdepth, minbucket, minsplit) {\n",
        "  my_model <- train(form = Species ~ ., data = my_data, method = \"rpart2\",\n",
        "                    trControl = trainControl(method = \"LOOCV\"),\n",
        "                    tuneGrid = data.frame(maxdepth = maxdepth),\n",
        "                    control = rpart::rpart.control(cp = 0.01,\n",
        "                                                   minbucket = minbucket,\n",
        "                                                   minsplit = minsplit))\n",
        "  list(maxdepth = maxdepth,\n",
        "       minbucket = minbucket,\n",
        "       minsplit = minsplit,\n",
        "       Accuracy = my_model$results$Accuracy)\n",
        "}"
      ],
      "id": "873ea98f-8e1f-4e80-b30c-63a1892faac5"
    },
    {
      "cell_type": "code",
      "execution_count": null,
      "metadata": {},
      "outputs": [],
      "source": [
        "my_params <- expand.grid(\n",
        "  maxdepth = 2:5,\n",
        "  minbucket = 1:7,\n",
        "  minsplit = c(2, 20))\n",
        "\n",
        "library(furrr)\n",
        "plan(multisession) # \u4e26\u5217\u51e6\u7406\u306e\u6e96\u5099\n",
        "my_results <- my_params %>% future_pmap_dfr(my_loocv, # \u5b9f\u884c\n",
        "  .options = furrr_options(seed = TRUE))\n",
        "\n",
        "my_results %>% filter(Accuracy == max(Accuracy)) # \u6b63\u89e3\u7387\uff08\u691c\u8a3c\uff09\u306e\u6700\u5927\u5024"
      ],
      "id": "b06df21f-b3af-495d-a0fc-da6c538019a5"
    },
    {
      "cell_type": "code",
      "execution_count": null,
      "metadata": {},
      "outputs": [],
      "source": [
        "my_model <- train(form = Species ~ ., data = my_data, method = \"rpart2\",\n",
        "                  trControl = trainControl(method = \"none\"),\n",
        "                  tuneGrid = data.frame(maxdepth = 3),\n",
        "                  control = rpart::rpart.control(cp = 0.01,\n",
        "                                                 minbucket = 5,\n",
        "                                                 minsplit = 2))"
      ],
      "id": "338200a0-2e9c-4441-b756-5287a3ff0c4f"
    },
    {
      "cell_type": "code",
      "execution_count": null,
      "metadata": {},
      "outputs": [],
      "source": [
        "rpart.plot::rpart.plot(\n",
        "  my_model$finalModel, extra = 1)"
      ],
      "id": "b6679e9d-a0ea-400a-b5f2-489a6585751b"
    },
    {
      "id": "e6618d06",
      "cell_type": "markdown",
      "source": "## 9.4 \u8907\u6570\u306e\u6728\u3092\u4f7f\u3046\u65b9\u6cd5",
      "metadata": {}
    },
    {
      "cell_type": "code",
      "execution_count": null,
      "metadata": {},
      "outputs": [],
      "source": [
        "library(caret)\n",
        "library(tidyverse)\n",
        "my_data <- iris\n",
        "\n",
        "my_model <- train(form = Species ~ ., data = my_data, method = \"rf\",\n",
        "                  tuneGrid = data.frame(mtry = 2:4), # \u7701\u7565\u53ef\n",
        "                  trControl = trainControl(method = \"LOOCV\"))\n",
        "my_model$results"
      ],
      "id": "89a2ec7c-5648-4d36-a0ba-50a89113f167"
    },
    {
      "cell_type": "code",
      "execution_count": null,
      "metadata": {},
      "outputs": [],
      "source": [
        "my_model <- train(\n",
        "  form = Species ~ ., data = my_data, method = \"xgbTree\",\n",
        "  tuneGrid = expand.grid(\n",
        "    nrounds          = c(50, 100, 150),\n",
        "    max_depth        = c(1, 2, 3),\n",
        "    eta              = c(0.3, 0.4),\n",
        "    gamma            = 0,\n",
        "    colsample_bytree = c(0.6, 0.8),\n",
        "    min_child_weight = 1,\n",
        "    subsample        = c(0.5, 0.75, 1)),\n",
        "  trControl = trainControl(method = \"cv\", number = 5)) # 5\u5206\u5272\u4ea4\u5dee\u691c\u8a3c\n",
        "my_model$results %>% filter(Accuracy == max(Accuracy)) %>% head(5) %>% t"
      ],
      "id": "839c03c1-3265-449f-b52f-92b7c0570d3a"
    },
    {
      "cell_type": "code",
      "execution_count": null,
      "metadata": {},
      "outputs": [],
      "source": [
        "my_model <- train(form = Species ~ ., data = my_data, method = \"rf\")\n",
        "ggplot(varImp(my_model))"
      ],
      "id": "8d78b7a1-b63e-4115-b1c4-8204ffaf32b8"
    },
    {
      "id": "0f9ac97b",
      "cell_type": "markdown",
      "source": "## 9.5 \u6b20\u640d\u306e\u3042\u308b\u30c7\u30fc\u30bf\u3067\u306e\u5b66\u7fd2",
      "metadata": {}
    },
    {
      "cell_type": "code",
      "execution_count": null,
      "metadata": {},
      "outputs": [],
      "source": [
        "library(caret)\n",
        "library(tidyverse)\n",
        "my_data <- iris\n",
        "\n",
        "n <- nrow(my_data)\n",
        "my_data$Petal.Length[0:(n - 1) %% 10 == 0] <- NA\n",
        "my_data$Petal.Width[ 0:(n - 1) %% 10 == 1] <- NA\n",
        "\n",
        "psych::describe(my_data) # n\u306e\u5024\u304c135\u306e\u5909\u6570\u306b\uff0c150 - 135 = 15\u500b\u306e\u6b20\u640d\u304c\u3042\u308b\uff0e"
      ],
      "id": "af0e8c2f-74a1-4998-bbfd-acdb371e2ba0"
    },
    {
      "cell_type": "code",
      "execution_count": null,
      "metadata": {},
      "outputs": [],
      "source": [
        "my_model <- train(\n",
        "  form = Species ~ ., data = my_data, method = \"rpart2\",\n",
        "  na.action = na.pass,         # \u6b20\u640d\u304c\u3042\u3063\u3066\u3082\u5b66\u7fd2\u3092\u6b62\u3081\u306a\u3044\uff0e\n",
        "  preProcess = \"medianImpute\", # \u6b20\u640d\u3092\u4e2d\u592e\u5024\u3067\u57cb\u3081\u308b\uff0e\n",
        "  trControl = trainControl(method = \"LOOCV\"),\n",
        "  tuneGrid = data.frame(maxdepth = 20),          # \u6728\u306e\u9ad8\u3055\u306e\u4e0a\u9650\n",
        "  control = rpart::rpart.control(minsplit = 2,   # \u5206\u5c90\u306e\u6761\u4ef6\n",
        "                                 minbucket = 1)) # \u7d42\u7aef\u30ce\u30fc\u30c9\u306e\u6761\u4ef6\n",
        "max(my_model$results$Accuracy)"
      ],
      "id": "f71f3b94-0bad-42cd-9775-bcd2fb9c2e4c"
    },
    {
      "cell_type": "code",
      "execution_count": null,
      "metadata": {},
      "outputs": [],
      "source": [
        "my_model <- train(form = Species ~ ., data = my_data, method = \"xgbTree\",\n",
        "                  na.action = na.pass,\n",
        "                  trControl = trainControl(method = \"cv\", number = 5))\n",
        "max(my_model$results$Accuracy)"
      ],
      "id": "07a60c81-8777-4a28-946d-a26bff7c7c95"
    },
    {
      "id": "309e4cbc",
      "cell_type": "markdown",
      "source": "## 9.6 \u4ed6\u306e\u5206\u985e\u624b\u6cd5",
      "metadata": {}
    },
    {
      "cell_type": "code",
      "execution_count": null,
      "metadata": {},
      "outputs": [],
      "source": [
        "library(caret)\n",
        "library(tidyverse)\n",
        "my_data <- iris\n",
        "\n",
        "my_model <- train(form = Species ~ ., data = my_data, method = \"knn\",\n",
        "                  trControl = trainControl(method = \"LOOCV\"))\n",
        "my_model$results %>% filter(Accuracy == max(Accuracy))"
      ],
      "id": "b20cbdb1-fa9d-4212-b2e0-5e73b3b1d374"
    },
    {
      "cell_type": "code",
      "execution_count": null,
      "metadata": {},
      "outputs": [],
      "source": [
        "library(caret)\n",
        "library(tidyverse)\n",
        "my_data <- iris\n",
        "\n",
        "my_model <- train(form = Species ~ ., data = my_data, method = \"nnet\",\n",
        "                  preProcess = c(\"center\", \"scale\"), # \u6a19\u6e96\u5316\n",
        "                  trControl = trainControl(method = \"LOOCV\"),\n",
        "                  trace = FALSE) # \u9014\u4e2d\u7d4c\u904e\u3092\u8868\u793a\u3057\u306a\u3044\n",
        "my_model$results %>% filter(Accuracy == max(Accuracy))"
      ],
      "id": "d0ea53b5-d49d-4852-bed8-9d4ce8206953"
    },
    {
      "id": "41b88e91",
      "cell_type": "markdown",
      "source": "# 10 \u5206\u985e2\uff082\u5024\u5206\u985e\uff09",
      "metadata": {}
    },
    {
      "cell_type": "code",
      "execution_count": null,
      "metadata": {},
      "outputs": [],
      "source": [
        "# Google Colaboratory\u306e\u74b0\u5883\u8a2d\u5b9a\n",
        "if (file.exists(\"/content\")) {\n",
        "  options(Ncpus = parallel::detectCores())\n",
        "  installed_packages <- rownames(installed.packages())\n",
        "  packages_to_install <- c(\"caret\", \"PRROC\", \"rpart.plot\")\n",
        "  install.packages(setdiff(packages_to_install, installed_packages))\n",
        "}"
      ],
      "id": "460e35f5-3839-4142-b1e0-a2fc8aad9b89"
    },
    {
      "id": "e63640d4",
      "cell_type": "markdown",
      "source": "## 10.1 2\u5024\u5206\u985e\u306e\u6027\u80fd\u6307\u6a19",
      "metadata": {}
    },
    {
      "cell_type": "code",
      "execution_count": null,
      "metadata": {},
      "outputs": [],
      "source": [
        "y       <- c(  0,   1,   1,   0,   1,   0,    1,   0,   0,   1)\n",
        "y_score <- c(0.7, 0.8, 0.3, 0.4, 0.9, 0.6, 0.99, 0.1, 0.2, 0.5)"
      ],
      "id": "8b6882a7-a20e-425d-9c16-7adbb1d545eb"
    },
    {
      "cell_type": "code",
      "execution_count": null,
      "metadata": {},
      "outputs": [],
      "source": [
        "y_ <- ifelse(0.5 <= y_score, 1, 0)\n",
        "y_"
      ],
      "id": "8a01e0ef-f25e-4cab-82db-48fd325f27fa"
    },
    {
      "cell_type": "code",
      "execution_count": null,
      "metadata": {},
      "outputs": [],
      "source": [
        "library(caret)\n",
        "confusionMatrix(data      = as.factor(y_), # \u4e88\u6e2c\n",
        "                reference = as.factor(y),  # \u6b63\u89e3\n",
        "                positive = \"1\",            # \u300c1\u300d\u3092\u967d\u6027\u3068\u3059\u308b\uff0e\n",
        "                mode = \"everything\")       # \u5168\u3066\u306e\u6307\u6a19\u3092\u6c42\u3081\u308b\uff0e"
      ],
      "id": "4cabe3ae-830e-4611-9bcc-28193600551a"
    },
    {
      "id": "13eeb527",
      "cell_type": "markdown",
      "source": "## 10.2 \u30c8\u30ec\u30fc\u30c9\u30aa\u30d5",
      "metadata": {}
    },
    {
      "cell_type": "code",
      "execution_count": null,
      "metadata": {},
      "outputs": [],
      "source": [
        "library(PRROC)\n",
        "library(tidyverse)\n",
        "\n",
        "y       <- c(  0,   1,   1,   0,   1,   0,    1,   0,   0,   1)\n",
        "y_score <- c(0.7, 0.8, 0.3, 0.4, 0.9, 0.6, 0.99, 0.1, 0.2, 0.5)\n",
        "y_      <- ifelse(0.5 <= y_score, 1, 0)\n",
        "\n",
        "c(sum((y == 0) & (y_ == 1)) / sum(y == 0), # FPR\n",
        "  sum((y == 1) & (y_ == 1)) / sum(y == 1)) # TPR"
      ],
      "id": "af2b961e-48f5-4f45-b3dd-33387ca57f02"
    },
    {
      "cell_type": "code",
      "execution_count": null,
      "metadata": {},
      "outputs": [],
      "source": [
        "my_roc <- roc.curve(scores.class0 = y_score[y == 1], # \u7b54\u3048\u304c1\u306e\u3082\u306e\u306e\u30b9\u30b3\u30a2\n",
        "                    scores.class1 = y_score[y == 0], # \u7b54\u3048\u304c0\u306e\u3082\u306e\u306e\u30b9\u30b3\u30a2\n",
        "                    curve = TRUE)\n",
        "my_roc %>% plot(xlab = \"False Positive Rate\",\n",
        "                ylab = \"True Positive Rate\",\n",
        "                legend = FALSE)"
      ],
      "id": "e2a6e3f8-8334-4e02-a8b6-6f421c7bbdf8"
    },
    {
      "cell_type": "code",
      "execution_count": null,
      "metadata": {},
      "outputs": [],
      "source": [
        "my_roc$auc"
      ],
      "id": "8d2eae3c-c379-4d2b-a3e4-8e4ee4ea8d7d"
    },
    {
      "cell_type": "code",
      "execution_count": null,
      "metadata": {},
      "outputs": [],
      "source": [
        "c(sum((y == 1) & (y_ == 1)) / sum(y  == 1), # Recall == TPR\n",
        "  sum((y == 1) & (y_ == 1)) / sum(y_ == 1)) # Precision"
      ],
      "id": "76cf4f10-d737-4fd8-8ea1-25172af16a38"
    },
    {
      "cell_type": "code",
      "execution_count": null,
      "metadata": {},
      "outputs": [],
      "source": [
        "my_pr <- pr.curve(scores.class0 = y_score[y == 1],\n",
        "                  scores.class1 = y_score[y == 0],\n",
        "                  curve = TRUE)\n",
        "my_pr %>% plot(xlab = \"Recall\",\n",
        "               ylab = \"Precision\",\n",
        "               legend = FALSE)"
      ],
      "id": "86aab4b4-fe8a-453c-9480-c8fac4506caf"
    },
    {
      "cell_type": "code",
      "execution_count": null,
      "metadata": {},
      "outputs": [],
      "source": [
        "my_pr$auc.integral"
      ],
      "id": "be7ec2d0-dd50-45d7-a08d-7328b440f89b"
    },
    {
      "id": "1a2a93df",
      "cell_type": "markdown",
      "source": "## 10.3 \u30bf\u30a4\u30bf\u30cb\u30c3\u30af",
      "metadata": {}
    },
    {
      "cell_type": "code",
      "execution_count": null,
      "metadata": {},
      "outputs": [],
      "source": [
        "library(caret)\n",
        "library(PRROC)\n",
        "library(tidyverse)\n",
        "\n",
        "my_url <- str_c(\"https://raw.githubusercontent.com/taroyabuki\",\n",
        "                \"/fromzero/master/data/titanic.csv\")\n",
        "my_data <- read_csv(my_url)"
      ],
      "id": "75250314-b602-44f5-adef-2206961e0633"
    },
    {
      "cell_type": "code",
      "execution_count": null,
      "metadata": {},
      "outputs": [],
      "source": [
        "head(my_data)"
      ],
      "id": "daf65ee2-8263-4d52-b78f-96d9473e3be1"
    },
    {
      "cell_type": "code",
      "execution_count": null,
      "metadata": {},
      "outputs": [],
      "source": [
        "my_model <- train(form = Survived ~ ., data = my_data, method = \"rpart2\",\n",
        "                  tuneGrid = data.frame(maxdepth = 2),\n",
        "                  trControl = trainControl(method = \"LOOCV\"))"
      ],
      "id": "c7c3e2af-5f33-4c36-9750-aa68f13d1075"
    },
    {
      "cell_type": "code",
      "execution_count": null,
      "metadata": {},
      "outputs": [],
      "source": [
        "rpart.plot::rpart.plot(my_model$finalModel, extra = 1)"
      ],
      "id": "a62dbc99-f38d-4b8a-b138-19d359c061b0"
    },
    {
      "cell_type": "code",
      "execution_count": null,
      "metadata": {},
      "outputs": [],
      "source": [
        "my_model$results"
      ],
      "id": "d7929243-13d4-45fa-9e13-a225e241cbaa"
    },
    {
      "cell_type": "code",
      "execution_count": null,
      "metadata": {},
      "outputs": [],
      "source": [
        "y <- my_data$Survived\n",
        "tmp <- my_model %>% predict(newdata = my_data, type = \"prob\")\n",
        "y_score <- tmp$Yes\n",
        "\n",
        "my_roc <- roc.curve(scores.class0 = y_score[y == \"Yes\"],\n",
        "                    scores.class1 = y_score[y == \"No\"],\n",
        "                    curve = TRUE)\n",
        "my_roc$auc\n",
        "\n",
        "my_roc %>% plot(xlab = \"False Positive Rate\",\n",
        "                ylab = \"True Positive Rate\",\n",
        "                legend = FALSE)"
      ],
      "id": "525ebfd8-dff8-41be-b76d-c4b7bc979d0e"
    },
    {
      "cell_type": "code",
      "execution_count": null,
      "metadata": {},
      "outputs": [],
      "source": [
        "X <- my_data %>% select(Class) # \u8cea\u7684\u5165\u529b\u5909\u6570\n",
        "y <- my_data$Survived          # \u51fa\u529b\u5909\u6570\n",
        "\n",
        "options(warn = -1) # \u3053\u308c\u4ee5\u964d\uff0c\u8b66\u544a\u3092\u8868\u793a\u3057\u306a\u3044\uff0e\n",
        "my_model1 <- train(x = X, y = y, method = \"rpart2\",\n",
        "                   tuneGrid = data.frame(maxdepth = 2),\n",
        "                   trControl = trainControl(method = \"LOOCV\"))\n",
        "options(warn = 0)  # \u3053\u308c\u4ee5\u964d\uff0c\u8b66\u544a\u3092\u8868\u793a\u3059\u308b\uff0e\n",
        "\n",
        "rpart.plot::rpart.plot(my_model1$finalModel, extra = 1)\n",
        "my_model1$results"
      ],
      "id": "3e65a518-a1f2-4bb0-969f-972ae0f6e02b"
    },
    {
      "cell_type": "code",
      "execution_count": null,
      "metadata": {},
      "outputs": [],
      "source": [
        "my_enc <- my_data %>% dummyVars(formula = Survived ~ Class)\n",
        "my_data2 <- my_enc %>%\n",
        "  predict(my_data) %>%\n",
        "  as.data.frame %>%\n",
        "  mutate(Survived = my_data$Survived)\n",
        "\n",
        "my_model2 <- train(form = Survived ~ ., data = my_data2, method = \"rpart2\",\n",
        "                   tuneGrid = data.frame(maxdepth = 2),\n",
        "                   trControl = trainControl(method = \"LOOCV\"))\n",
        "rpart.plot::rpart.plot(my_model2$finalModel, extra = 1)\n",
        "my_model2$results"
      ],
      "id": "9439ee7a-fe0b-4cd4-b684-57d7277d3a82"
    },
    {
      "cell_type": "code",
      "execution_count": null,
      "metadata": {},
      "outputs": [],
      "source": [
        "my_model3 <- train(form = Survived ~ Class, data = my_data, method = \"rpart2\",\n",
        "                   tuneGrid = data.frame(maxdepth = 2),\n",
        "                   trControl = trainControl(method = \"LOOCV\"))\n",
        "rpart.plot::rpart.plot(my_model3$finalModel, extra = 1)\n",
        "my_model3$results"
      ],
      "id": "6d9d79c7-e951-46ab-ade7-2861b3e6ad86"
    },
    {
      "id": "8ee1e9b0",
      "cell_type": "markdown",
      "source": "## 10.4 \u30ed\u30b8\u30b9\u30c6\u30a3\u30c3\u30af\u56de\u5e30",
      "metadata": {}
    },
    {
      "cell_type": "code",
      "execution_count": null,
      "metadata": {},
      "outputs": [],
      "source": [
        "curve(1 / (1 + exp(-x)), -6, 6)"
      ],
      "id": "80bee890-14e0-4d81-b0e2-e9584d57ebf7"
    },
    {
      "cell_type": "code",
      "execution_count": null,
      "metadata": {},
      "outputs": [],
      "source": [
        "library(caret)\n",
        "library(PRROC)\n",
        "library(tidyverse)\n",
        "\n",
        "my_url <- str_c(\"https://raw.githubusercontent.com/taroyabuki\",\n",
        "                \"/fromzero/master/data/titanic.csv\")\n",
        "my_data <- read_csv(my_url)\n",
        "\n",
        "my_model <- train(form = Survived ~ ., data = my_data, method = \"glm\",\n",
        "                  trControl = trainControl(method = \"LOOCV\"))"
      ],
      "id": "2705e9f4-510a-475a-a828-f3b1bd17f77d"
    },
    {
      "cell_type": "code",
      "execution_count": null,
      "metadata": {},
      "outputs": [],
      "source": [
        "coef(my_model$finalModel) %>%\n",
        "  as.data.frame"
      ],
      "id": "c26cde0c-9ef5-497b-8417-4acbdcaaba5d"
    },
    {
      "cell_type": "code",
      "execution_count": null,
      "metadata": {},
      "outputs": [],
      "source": [
        "my_model$results"
      ],
      "id": "d793c8b5-f312-47ae-8943-99dc4729f72d"
    },
    {
      "id": "ac4333d7",
      "cell_type": "markdown",
      "source": "# 11 \u6df1\u5c64\u5b66\u7fd2\u3068AutoML",
      "metadata": {}
    },
    {
      "cell_type": "code",
      "execution_count": null,
      "metadata": {},
      "outputs": [],
      "source": [
        "# Google Colaboratory\u306e\u74b0\u5883\u8a2d\u5b9a\n",
        "if (file.exists(\"/content\")) {\n",
        "  options(Ncpus = parallel::detectCores())\n",
        "  installed_packages <- rownames(installed.packages())\n",
        "  packages_to_install <- c(\"h2o\", \"keras\")\n",
        "  install.packages(setdiff(packages_to_install, installed_packages))\n",
        "}"
      ],
      "id": "2de5695a-12db-4c27-a205-f65187a29c82"
    },
    {
      "id": "07154e85",
      "cell_type": "markdown",
      "source": "## 11.1 Keras\u306b\u3088\u308b\u56de\u5e30",
      "metadata": {}
    },
    {
      "cell_type": "code",
      "execution_count": null,
      "metadata": {},
      "outputs": [],
      "source": [
        "library(keras)\n",
        "library(tidyverse)\n",
        "my_url <- str_c(\"https://raw.githubusercontent.com/taroyabuki\",\n",
        "                \"/fromzero/master/data/wine.csv\")\n",
        "tmp <- read_csv(my_url)"
      ],
      "id": "2a474a8c-3ef4-4b03-b1d8-70326bef16ff"
    },
    {
      "cell_type": "code",
      "execution_count": null,
      "metadata": {},
      "outputs": [],
      "source": [
        "my_data <- tmp[sample(nrow(tmp)), ]"
      ],
      "id": "a9dcfe38-7f3c-475b-87f2-6581ca4a1e46"
    },
    {
      "cell_type": "code",
      "execution_count": null,
      "metadata": {},
      "outputs": [],
      "source": [
        "X <- my_data %>%\n",
        "  select(-LPRICE2) %>% scale\n",
        "y <- my_data$LPRICE2"
      ],
      "id": "3f132c35-e2b1-40c2-ab8a-a62fd67a290d"
    },
    {
      "cell_type": "code",
      "execution_count": null,
      "metadata": {},
      "outputs": [],
      "source": [
        "curve(activation_relu(x), -3, 3)"
      ],
      "id": "ca2577a8-b79e-4ffe-9b29-f4f93344abe7"
    },
    {
      "cell_type": "code",
      "execution_count": null,
      "metadata": {},
      "outputs": [],
      "source": [
        "my_model <- keras_model_sequential() %>%\n",
        "  layer_dense(units = 3, activation = \"relu\", input_shape = c(4)) %>%\n",
        "  layer_dense(units = 1)\n",
        "\n",
        "summary(my_model) # \u30cd\u30c3\u30c8\u30ef\u30fc\u30af\u306e\u6982\u8981\n",
        "# \u5272\u611b\uff08Python\u306e\u7d50\u679c\u3092\u53c2\u7167\uff09"
      ],
      "id": "a4577d4f-2805-4290-8fb1-ed9998562eb3"
    },
    {
      "cell_type": "code",
      "execution_count": null,
      "metadata": {},
      "outputs": [],
      "source": [
        "my_model %>% compile(\n",
        "  loss = \"mse\",\n",
        "  optimizer = \"rmsprop\")"
      ],
      "id": "29e799af-b52e-49db-a9e0-1a44b82846f0"
    },
    {
      "cell_type": "code",
      "execution_count": null,
      "metadata": {},
      "outputs": [],
      "source": [
        "my_cb <- callback_early_stopping(\n",
        "  patience = 20,\n",
        "  restore_best_weights = TRUE)"
      ],
      "id": "e0a34d21-a573-43eb-bb5e-442561b31c76"
    },
    {
      "cell_type": "code",
      "execution_count": null,
      "metadata": {},
      "outputs": [],
      "source": [
        "my_history <- my_model %>% fit(\n",
        "    x = X,\n",
        "    y = y,\n",
        "    validation_split = 0.25,\n",
        "    batch_size = 10,\n",
        "    epochs = 500,\n",
        "    callbacks = list(my_cb),\n",
        "    verbose = 0)"
      ],
      "id": "ce09cc2e-65c8-47e0-9982-34a55e47f8ed"
    },
    {
      "cell_type": "code",
      "execution_count": null,
      "metadata": {},
      "outputs": [],
      "source": [
        "plot(my_history)"
      ],
      "id": "19ff4b20-3d96-46de-9376-5005d0401c8b"
    },
    {
      "cell_type": "code",
      "execution_count": null,
      "metadata": {},
      "outputs": [],
      "source": [
        "my_history"
      ],
      "id": "fab8cbde-e3a2-4929-b225-384173c4618f"
    },
    {
      "cell_type": "code",
      "execution_count": null,
      "metadata": {},
      "outputs": [],
      "source": [
        "y_ <- my_model %>% predict(X)\n",
        "mean((y_ - y)^2)**0.5"
      ],
      "id": "c004d80d-eb73-4a79-b40b-2e6eae7e4723"
    },
    {
      "id": "91373bdf",
      "cell_type": "markdown",
      "source": "## 11.2 Keras\u306b\u3088\u308b\u5206\u985e",
      "metadata": {}
    },
    {
      "cell_type": "code",
      "execution_count": null,
      "metadata": {},
      "outputs": [],
      "source": [
        "library(keras)\n",
        "library(tidyverse)\n",
        "my_data <- iris[sample(nrow(iris)), ]"
      ],
      "id": "76d5e110-e38e-48d2-8244-14ec76a5e275"
    },
    {
      "cell_type": "code",
      "execution_count": null,
      "metadata": {},
      "outputs": [],
      "source": [
        "X <- my_data %>%\n",
        "  select(-Species) %>% scale\n",
        "y <- as.integer(my_data$Species) - 1"
      ],
      "id": "f6bc99f4-854f-409b-a965-f6e9fe5a6170"
    },
    {
      "cell_type": "code",
      "execution_count": null,
      "metadata": {},
      "outputs": [],
      "source": [
        "my_model <- keras_model_sequential() %>%\n",
        "  layer_dense(units = 3, activation = \"relu\", input_shape = c(4)) %>%\n",
        "  layer_dense(units = 3, activation = \"softmax\")"
      ],
      "id": "52bb43f4-5ec1-4708-b94c-7ad81d412c1f"
    },
    {
      "cell_type": "code",
      "execution_count": null,
      "metadata": {},
      "outputs": [],
      "source": [
        "my_model %>% compile(loss = \"sparse_categorical_crossentropy\",\n",
        "                     optimizer = \"rmsprop\",\n",
        "                     metrics = c(\"accuracy\"))"
      ],
      "id": "1e8347cb-edc8-4cfb-ac83-6529a39f5a20"
    },
    {
      "cell_type": "code",
      "execution_count": null,
      "metadata": {},
      "outputs": [],
      "source": [
        "my_cb <- callback_early_stopping(\n",
        "  patience = 20,\n",
        "  restore_best_weights = TRUE)\n",
        "\n",
        "my_history <- my_model %>%\n",
        "  fit(x = X,\n",
        "    y = y,\n",
        "    validation_split = 0.25,\n",
        "    batch_size = 10,\n",
        "    epochs = 500,\n",
        "    callbacks = list(my_cb),\n",
        "    verbose = 0)\n",
        "\n",
        "plot(my_history)"
      ],
      "id": "8ac252e4-76d1-4d2a-b890-ef3310f6c7bf"
    },
    {
      "cell_type": "code",
      "execution_count": null,
      "metadata": {},
      "outputs": [],
      "source": [
        "my_history"
      ],
      "id": "2ffcd441-e221-4853-b805-16440c3250df"
    },
    {
      "cell_type": "code",
      "execution_count": null,
      "metadata": {},
      "outputs": [],
      "source": [
        "tmp <- my_model %>% predict(X)\n",
        "y_ <- apply(tmp, 1, which.max) - 1\n",
        "mean(y_ == y)"
      ],
      "id": "9275278c-57cc-4e34-b75d-26078ddb975e"
    },
    {
      "cell_type": "code",
      "execution_count": null,
      "metadata": {},
      "outputs": [],
      "source": [
        "-mean(log(c(0.8, 0.7, 0.3, 0.8)))\n",
        "\n",
        "-mean(log(c(0.7, 0.6, 0.2, 0.7)))"
      ],
      "id": "5de084fe-cc28-498d-9b38-4d6d62e42a3b"
    },
    {
      "cell_type": "code",
      "execution_count": null,
      "metadata": {},
      "outputs": [],
      "source": [
        "y <- c(2, 1, 0, 1)\n",
        "y_1 <- list(c(0.1, 0.1, 0.8),\n",
        "            c(0.1, 0.7, 0.2),\n",
        "            c(0.3, 0.4, 0.3),\n",
        "            c(0.1, 0.8, 0.1))\n",
        "y_2 <- list(c(0.1, 0.2, 0.7),\n",
        "            c(0.2, 0.6, 0.2),\n",
        "            c(0.2, 0.5, 0.3),\n",
        "            c(0.2, 0.7, 0.1))"
      ],
      "id": "0aa74914-5695-40b1-87df-754f8420309a"
    },
    {
      "cell_type": "code",
      "execution_count": null,
      "metadata": {},
      "outputs": [],
      "source": [
        "c(mean(as.array(loss_sparse_categorical_crossentropy(y_true = y, y_pred = y_1))),\n",
        "  mean(as.array(loss_sparse_categorical_crossentropy(y_true = y, y_pred = y_2))))"
      ],
      "id": "4009d187-f8d5-4729-9f9b-4b0ac78eb3d1"
    },
    {
      "id": "7a0a818a",
      "cell_type": "markdown",
      "source": "## 11.3 MNIST\uff1a\u624b\u66f8\u304d\u6570\u5b57\u306e\u5206\u985e",
      "metadata": {}
    },
    {
      "cell_type": "code",
      "execution_count": null,
      "metadata": {},
      "outputs": [],
      "source": [
        "library(keras)\n",
        "library(tidyverse)\n",
        "keras::`%<-%`(c(c(x_train, y_train), c(x_test, y_test)), dataset_mnist())"
      ],
      "id": "f139437a-2629-4e88-901c-fa94d05dac3d"
    },
    {
      "cell_type": "code",
      "execution_count": null,
      "metadata": {},
      "outputs": [],
      "source": [
        "dim(x_train)"
      ],
      "id": "ad84d458-21cd-4f8d-9b32-efef10891360"
    },
    {
      "cell_type": "code",
      "execution_count": null,
      "metadata": {},
      "outputs": [],
      "source": [
        "x_train[5, , ]"
      ],
      "id": "1bef2e64-f1b2-45ee-9bd6-b9bb6a3d6e8a"
    },
    {
      "cell_type": "code",
      "execution_count": null,
      "metadata": {},
      "outputs": [],
      "source": [
        "plot(as.raster(x = x_train[5, , ],\n",
        "               max = max(x_train)))"
      ],
      "id": "542210aa-3334-4a87-a295-29cd6a913dfd"
    },
    {
      "cell_type": "code",
      "execution_count": null,
      "metadata": {},
      "outputs": [],
      "source": [
        "head(y_train)"
      ],
      "id": "5fcd7197-5d87-4411-9d29-31731f893db5"
    },
    {
      "cell_type": "code",
      "execution_count": null,
      "metadata": {},
      "outputs": [],
      "source": [
        "c(min(x_train), max(x_train))"
      ],
      "id": "1425a131-1c84-4a5b-9b47-e297bda6fffc"
    },
    {
      "cell_type": "code",
      "execution_count": null,
      "metadata": {},
      "outputs": [],
      "source": [
        "x_train <- x_train / 255\n",
        "x_test  <- x_test  / 255"
      ],
      "id": "b971ae10-5bc0-4ae9-909b-8b7250164e91"
    },
    {
      "cell_type": "code",
      "execution_count": null,
      "metadata": {},
      "outputs": [],
      "source": [
        "my_index <- sample(1:60000, 6000)\n",
        "x_train <- x_train[my_index, , ]\n",
        "y_train <- y_train[my_index]"
      ],
      "id": "0bb81ef3-6a6c-45f7-b59d-998e973e2fb3"
    },
    {
      "cell_type": "code",
      "execution_count": null,
      "metadata": {},
      "outputs": [],
      "source": [
        "my_model <- keras_model_sequential() %>%\n",
        "  layer_flatten(input_shape = c(28, 28)) %>%\n",
        "  layer_dense(units = 256, activation = \"relu\") %>%\n",
        "  layer_dense(units = 10, activation = \"softmax\")\n",
        "summary(my_model)\n",
        "# \u5272\u611b\uff08Python\u306e\u7d50\u679c\u3092\u53c2\u7167\uff09\n",
        "\n",
        "my_model %>% compile(loss = \"sparse_categorical_crossentropy\",\n",
        "                     optimizer = \"rmsprop\",\n",
        "                     metrics = c(\"accuracy\"))\n",
        "\n",
        "my_cb <- callback_early_stopping(patience = 5,\n",
        "                                 restore_best_weights = TRUE)"
      ],
      "id": "6b275726-5b10-4843-aaf2-e2109d6164e9"
    },
    {
      "cell_type": "code",
      "execution_count": null,
      "metadata": {},
      "outputs": [],
      "source": [
        "my_history <- my_model %>%\n",
        "  fit(x = x_train,\n",
        "      y = y_train,\n",
        "      validation_split = 0.2,\n",
        "      batch_size = 128,\n",
        "      epochs = 20,\n",
        "      callbacks = list(my_cb),\n",
        "      verbose = 0)\n",
        "\n",
        "plot(my_history)"
      ],
      "id": "9fb7010d-45f5-43fd-af6e-5e450b3a5604"
    },
    {
      "cell_type": "code",
      "execution_count": null,
      "metadata": {},
      "outputs": [],
      "source": [
        "tmp <- my_model %>% predict(x_test)\n",
        "y_ <- apply(tmp, 1, which.max) - 1\n",
        "table(y_, y_test)"
      ],
      "id": "69bf240b-1d97-48eb-87ee-bba11a407603"
    },
    {
      "cell_type": "code",
      "execution_count": null,
      "metadata": {},
      "outputs": [],
      "source": [],
      "id": "6fda1293-42ce-4395-9473-8198c0a06b23"
    },
    {
      "cell_type": "code",
      "execution_count": null,
      "metadata": {},
      "outputs": [],
      "source": [
        "mean(y_ == y_test)"
      ],
      "id": "73f1935d-1ce3-4fc1-b968-c5d5f3c16462"
    },
    {
      "cell_type": "code",
      "execution_count": null,
      "metadata": {},
      "outputs": [],
      "source": [
        "my_model %>%\n",
        "  evaluate(x = x_test, y = y_test)"
      ],
      "id": "1c85d1fd-1dab-4caf-bdb4-86638ab1e532"
    },
    {
      "cell_type": "code",
      "execution_count": null,
      "metadata": {},
      "outputs": [],
      "source": [
        "x_train2d <- x_train %>% array_reshape(c(-1, 28, 28, 1))\n",
        "x_test2d  <- x_test  %>% array_reshape(c(-1, 28, 28, 1))"
      ],
      "id": "185b0c61-ceea-402e-bab1-3e9a8008f6eb"
    },
    {
      "cell_type": "code",
      "execution_count": null,
      "metadata": {},
      "outputs": [],
      "source": [
        "my_model <- keras_model_sequential() %>%\n",
        "  layer_conv_2d(filters = 32, kernel_size = 3,  # \u7573\u307f\u8fbc\u307f\u5c64\n",
        "                activation = \"relu\",\n",
        "                input_shape = c(28, 28, 1)) %>%\n",
        "  layer_max_pooling_2d(pool_size = 2) %>%       # \u30d7\u30fc\u30ea\u30f3\u30b0\u5c64\n",
        "  layer_flatten() %>%\n",
        "  layer_dense(units = 128, activation = \"relu\") %>%\n",
        "  layer_dense(units = 10, activation = \"softmax\")\n",
        "\n",
        "summary(my_model)\n",
        "# \u5272\u611b\uff08Python \u306e\u7d50\u679c\u3092\u53c2\u7167\uff09\n",
        "\n",
        "my_model %>% compile(loss = \"sparse_categorical_crossentropy\",\n",
        "                     optimizer = \"rmsprop\",\n",
        "                     metrics = c(\"accuracy\"))\n",
        "\n",
        "my_cb <- callback_early_stopping(patience = 5,\n",
        "                                 restore_best_weights = TRUE)"
      ],
      "id": "4839e289-bac5-4895-940d-30c17ab12cbb"
    },
    {
      "cell_type": "code",
      "execution_count": null,
      "metadata": {},
      "outputs": [],
      "source": [
        "my_history <- my_model %>%\n",
        "  fit(x = x_train2d,\n",
        "      y = y_train,\n",
        "      validation_split = 0.2,\n",
        "      batch_size = 128,\n",
        "      epochs = 20,\n",
        "      callbacks = list(my_cb),\n",
        "      verbose = 0)\n",
        "\n",
        "plot(my_history)"
      ],
      "id": "bb03ac04-16dd-44d3-81a2-6531cabae4ed"
    },
    {
      "cell_type": "code",
      "execution_count": null,
      "metadata": {},
      "outputs": [],
      "source": [
        "my_model %>%\n",
        "  evaluate(x = x_test2d, y = y_test)"
      ],
      "id": "084beac3-a902-49df-9be2-248f2d2052a6"
    },
    {
      "cell_type": "code",
      "execution_count": null,
      "metadata": {},
      "outputs": [],
      "source": [
        "my_model <- keras_model_sequential() %>%\n",
        "  layer_conv_2d(filters = 20, kernel_size = 5, activation = \"relu\",\n",
        "                input_shape = c(28, 28, 1)) %>%\n",
        "  layer_max_pooling_2d(pool_size = 2, strides = 2) %>%\n",
        "  layer_conv_2d(filters = 50, kernel_size = 5, activation = \"relu\") %>%\n",
        "  layer_max_pooling_2d(pool_size = 2, strides = 2) %>%\n",
        "  layer_dropout(rate = 0.25) %>%\n",
        "  layer_flatten() %>%\n",
        "  layer_dense(units = 500, activation = \"relu\") %>%\n",
        "  layer_dropout(rate = 0.5) %>%\n",
        "  layer_dense(units = 10, activation = \"softmax\")\n",
        "\n",
        "my_model %>% compile(\n",
        "  loss = \"sparse_categorical_crossentropy\",\n",
        "  optimizer = \"rmsprop\",\n",
        "  metrics = c(\"accuracy\"))\n",
        "\n",
        "my_cb <- callback_early_stopping(patience = 5,\n",
        "                                 restore_best_weights = TRUE)"
      ],
      "id": "905cc0a2-7ac6-454e-bd30-73ab5efa8c2b"
    },
    {
      "cell_type": "code",
      "execution_count": null,
      "metadata": {},
      "outputs": [],
      "source": [
        "my_history <- my_model %>%\n",
        "  fit(x = x_train2d,\n",
        "      y = y_train,\n",
        "      validation_split = 0.2,\n",
        "      batch_size = 128,\n",
        "      epochs = 20,\n",
        "      callbacks = list(my_cb),\n",
        "      verbose = 0)\n",
        "\n",
        "plot(my_history)"
      ],
      "id": "02ed867c-b91a-4dce-8c67-3d866e77cb2d"
    },
    {
      "cell_type": "code",
      "execution_count": null,
      "metadata": {},
      "outputs": [],
      "source": [
        "my_model %>%\n",
        "  evaluate(x = x_test2d, y = y_test)"
      ],
      "id": "aef7557b-f8ec-4a58-85a2-594521e70765"
    },
    {
      "cell_type": "code",
      "execution_count": null,
      "metadata": {},
      "outputs": [],
      "source": [
        "y_prob <- my_model %>% predict(x_test2d) # \u30ab\u30c6\u30b4\u30ea\u306b\u5c5e\u3059\u308b\u78ba\u7387\n",
        "\n",
        "my_result <- data.frame(\n",
        "  y_prob = apply(y_prob, 1, max),           # \u78ba\u7387\u306e\u6700\u5927\u5024\n",
        "  y_     = apply(y_prob, 1, which.max) - 1, # \u4e88\u6e2c\u30ab\u30c6\u30b4\u30ea\n",
        "  y      = y_test,                          # \u6b63\u89e3\n",
        "  id     = seq_len(length(y_test))) %>%     # \u756a\u53f7\n",
        "  filter(y_ != y) %>%                       # \u4e88\u6e2c\u304c\u306f\u305a\u308c\u305f\u3082\u306e\u3092\u6b8b\u3059\n",
        "  arrange(desc(y_prob))                     # \u78ba\u7387\u306e\u5927\u304d\u3044\u9806\u306b\u4e26\u3073\u66ff\u3048\u308b"
      ],
      "id": "f68a684c-5c90-474c-ad62-fb4478d03b0a"
    },
    {
      "cell_type": "code",
      "execution_count": null,
      "metadata": {},
      "outputs": [],
      "source": [
        "head(my_result)"
      ],
      "id": "d55e84f5-dc7b-42bb-bc1b-4ab24f72175d"
    },
    {
      "cell_type": "code",
      "execution_count": null,
      "metadata": {},
      "outputs": [],
      "source": [
        "tmp <- my_result[1:5, ]$id\n",
        "my_labels <- sprintf(\"%s (%s)\",\n",
        "  my_result[1:5, ]$y, tmp)\n",
        "my_fig <- expand.grid(\n",
        "  label = my_labels,\n",
        "  y = 28:1,\n",
        "  x = 1:28)\n",
        "my_fig$z <- as.vector(\n",
        "  x_test[tmp, , ])\n",
        "\n",
        "my_fig %>% ggplot(\n",
        "  aes(x = x, y = y, fill = z)) +\n",
        "  geom_raster() +\n",
        "  coord_fixed() +\n",
        "  theme_void() +\n",
        "  theme(legend.position = \"none\") +\n",
        "  facet_grid(. ~ label)"
      ],
      "id": "1842b025-ba39-4ae3-99d8-a1d588d89d2b"
    },
    {
      "id": "511894ae",
      "cell_type": "markdown",
      "source": "## 11.4 AutoML",
      "metadata": {}
    },
    {
      "cell_type": "code",
      "execution_count": null,
      "metadata": {},
      "outputs": [],
      "source": [
        "library(h2o)\n",
        "library(keras)\n",
        "library(tidyverse)\n",
        "\n",
        "h2o.init()\n",
        "h2o.no_progress()\n",
        "# h2o.shutdown(prompt = FALSE) # \u505c\u6b62"
      ],
      "id": "a459815f-1234-462b-afa3-d81ad66dd3f1"
    },
    {
      "cell_type": "code",
      "execution_count": null,
      "metadata": {},
      "outputs": [],
      "source": [
        "my_url <- str_c(\"https://raw.githubusercontent.com/taroyabuki\",\n",
        "                \"/fromzero/master/data/wine.csv\")\n",
        "my_data <- read_csv(my_url)\n",
        "my_frame <- as.h2o(my_data) # \u901a\u5e38\u306e\u30c7\u30fc\u30bf\u30d5\u30ec\u30fc\u30e0\u3092H2OFrame\u306b\u5909\u63db\u3059\u308b\uff0e\n",
        "# \u3042\u308b\u3044\u306f\n",
        "my_frame <- h2o.importFile(my_url, header = TRUE) # \u30c7\u30fc\u30bf\u3092\u8aad\u307f\u8fbc\u3080\uff0e"
      ],
      "id": "e666a5ea-93c8-490e-bf9e-3272ecd463d5"
    },
    {
      "cell_type": "code",
      "execution_count": null,
      "metadata": {},
      "outputs": [],
      "source": [
        "my_frame\n",
        "\n",
        "# \u901a\u5e38\u306e\u30c7\u30fc\u30bf\u30d5\u30ec\u30fc\u30e0\u306b\u623b\u3059\uff0e\n",
        "my_frame %>% as.data.frame %>% head\n",
        "# \u7d50\u679c\u306f\u5272\u611b\uff08\u898b\u305f\u76ee\u306f\u540c\u3058\uff09"
      ],
      "id": "04fe5268-d609-4c8c-8ea5-54749528ac8e"
    },
    {
      "cell_type": "code",
      "execution_count": null,
      "metadata": {},
      "outputs": [],
      "source": [
        "my_model <- h2o.automl(\n",
        "    y = \"LPRICE2\",\n",
        "    training_frame = my_frame,\n",
        "    max_runtime_secs = 60)"
      ],
      "id": "18acbb90-8260-4961-8bd7-3cf23013ad26"
    },
    {
      "cell_type": "code",
      "execution_count": null,
      "metadata": {},
      "outputs": [],
      "source": [
        "min(my_model@leaderboard$rmse)"
      ],
      "id": "1ddd7364-82ad-4413-8060-7e1f0e7e9293"
    },
    {
      "cell_type": "code",
      "execution_count": null,
      "metadata": {},
      "outputs": [],
      "source": [
        "tmp <- my_model %>%\n",
        "  predict(my_frame) %>%\n",
        "  as.data.frame\n",
        "y_ <- tmp$predict\n",
        "y  <- my_data$LPRICE2\n",
        "\n",
        "plot(y, y_)"
      ],
      "id": "154a7bef-d1d1-4392-8b08-a42fc1d3c91a"
    },
    {
      "cell_type": "code",
      "execution_count": null,
      "metadata": {},
      "outputs": [],
      "source": [
        "keras::`%<-%`(c(c(x_train, y_train), c(x_test, y_test)), dataset_mnist())\n",
        "my_index <- sample(1:60000, 6000)\n",
        "x_train <- x_train[my_index, , ]\n",
        "y_train <- y_train[my_index]"
      ],
      "id": "7d080cf9-671d-4816-95a4-a832ae811c74"
    },
    {
      "cell_type": "code",
      "execution_count": null,
      "metadata": {},
      "outputs": [],
      "source": [
        "tmp <- x_train %>%\n",
        "  array_reshape(c(-1, 28 * 28)) %>%\n",
        "  as.data.frame\n",
        "tmp$y <- as.factor(y_train)\n",
        "my_train <- as.h2o(tmp)\n",
        "\n",
        "tmp <- x_test %>%\n",
        "  array_reshape(c(-1, 28 * 28)) %>%\n",
        "  as.data.frame\n",
        "my_test <- as.h2o(tmp)"
      ],
      "id": "9ec36f2e-ddf6-4d50-a0dd-ec36eaf93645"
    },
    {
      "cell_type": "code",
      "execution_count": null,
      "metadata": {},
      "outputs": [],
      "source": [
        "my_model <- h2o.automl(\n",
        "    y = \"y\",\n",
        "    training_frame = my_train,\n",
        "    max_runtime_secs = 120)"
      ],
      "id": "447c219f-3b21-4e0a-833f-c59cfc4a85bd"
    },
    {
      "cell_type": "code",
      "execution_count": null,
      "metadata": {},
      "outputs": [],
      "source": [
        "min(my_model@leaderboard$\n",
        "    mean_per_class_error)"
      ],
      "id": "99d7ca51-808a-4022-a809-05ff4bf178a0"
    },
    {
      "cell_type": "code",
      "execution_count": null,
      "metadata": {},
      "outputs": [],
      "source": [
        "tmp <- my_model %>%\n",
        "  predict(my_test) %>% as.data.frame\n",
        "y_ <- tmp$predict\n",
        "\n",
        "mean(y_ == y_test)"
      ],
      "id": "a228652d-c88f-42b9-96d1-f30d19dca67b"
    },
    {
      "id": "674cf88e",
      "cell_type": "markdown",
      "source": "# 12 \u6642\u7cfb\u5217\u4e88\u6e2c",
      "metadata": {}
    },
    {
      "cell_type": "code",
      "execution_count": null,
      "metadata": {},
      "outputs": [],
      "source": [
        "# Google Colaboratory\u306e\u74b0\u5883\u8a2d\u5b9a\n",
        "if (file.exists(\"/content\")) {\n",
        "  options(Ncpus = parallel::detectCores())\n",
        "  installed_packages <- rownames(installed.packages())\n",
        "  packages_to_install <- c(\"caret\", \"fable\", \"feasts\", \"prophet\", \"tsibble\", \"urca\")\n",
        "  packages_to_upgrade <- c(\"ggplot2\")\n",
        "  install.packages(union(setdiff(packages_to_install, installed_packages), packages_to_upgrade))\n",
        "}"
      ],
      "id": "3e20230a-6aab-46cc-a811-3568051b860f"
    },
    {
      "id": "9fcdf3ad",
      "cell_type": "markdown",
      "source": "## 12.1 \u65e5\u6642\u3068\u65e5\u6642\u306e\u5217",
      "metadata": {}
    },
    {
      "cell_type": "code",
      "execution_count": null,
      "metadata": {},
      "outputs": [],
      "source": [
        "as.POSIXct(\"2021-01-01\")"
      ],
      "id": "3d2d272a-e603-4d82-9c15-82f51b84a7ea"
    },
    {
      "cell_type": "code",
      "execution_count": null,
      "metadata": {},
      "outputs": [],
      "source": [
        "library(tsibble)\n",
        "\n",
        "seq(from = 2021, to = 2023, by = 1)\n",
        "\n",
        "seq(from = yearmonth(\"202101\"), to = yearmonth(\"202103\"), by = 2)\n",
        "\n",
        "seq(from = as.POSIXct(\"2021-01-01\"), to = as.POSIXct(\"2021-01-03\"), by = \"1 day\")\n",
        "\n",
        "seq(from = as.POSIXct(\"2021-01-01 00:00:00\"),\n",
        "    to   = as.POSIXct(\"2021-01-01 03:00:00\"), by = \"2 hour\")"
      ],
      "id": "348bab29-c726-444d-8fe0-eb9b20c0799f"
    },
    {
      "id": "3993ef32",
      "cell_type": "markdown",
      "source": "## 12.2 \u6642\u7cfb\u5217\u30c7\u30fc\u30bf\u306e\u4e88\u6e2c",
      "metadata": {}
    },
    {
      "cell_type": "code",
      "execution_count": null,
      "metadata": {},
      "outputs": [],
      "source": [
        "my_data <- as.vector(AirPassengers)"
      ],
      "id": "ab07e840-427d-4bcf-8f71-2f28468ee518"
    },
    {
      "cell_type": "code",
      "execution_count": null,
      "metadata": {},
      "outputs": [],
      "source": [
        "n <- length(my_data) # \u30c7\u30fc\u30bf\u6570\uff08144\uff09\n",
        "k <- 108             # \u8a13\u7df4\u30c7\u30fc\u30bf\u6570"
      ],
      "id": "c82eb824-c1a5-4a96-a15a-171190b6cc0c"
    },
    {
      "cell_type": "code",
      "execution_count": null,
      "metadata": {},
      "outputs": [],
      "source": [
        "library(tidyverse)\n",
        "library(tsibble)\n",
        "\n",
        "my_ds <- seq(\n",
        "  from = yearmonth(\"1949/01\"),\n",
        "  to   = yearmonth(\"1960/12\"),\n",
        "  by   = 1)\n",
        "my_label <- rep(\n",
        "  c(\"train\", \"test\"),\n",
        "  c(k, n - k))\n",
        "my_df <- tsibble(\n",
        "  ds    = my_ds,\n",
        "  x     = 0:(n - 1),\n",
        "  y     = my_data,\n",
        "  label = my_label,\n",
        "  index = ds) # \u65e5\u6642\u306e\u5217\u306e\u6307\u5b9a\n",
        "\n",
        "head(my_df)"
      ],
      "id": "5b70a4f1-236f-47aa-9673-66ce6738f8c4"
    },
    {
      "cell_type": "code",
      "execution_count": null,
      "metadata": {},
      "outputs": [],
      "source": [
        "my_train <- my_df[  1:k , ]\n",
        "my_test  <- my_df[-(1:k), ]\n",
        "y <- my_test$y"
      ],
      "id": "2227adfe-023c-4bd2-97f6-e38f809445d8"
    },
    {
      "cell_type": "code",
      "execution_count": null,
      "metadata": {},
      "outputs": [],
      "source": [
        "my_plot <- my_df %>%\n",
        "  ggplot(aes(x = ds,\n",
        "             y = y,\n",
        "             color = label)) +\n",
        "  geom_line()\n",
        "my_plot"
      ],
      "id": "dda01010-826c-461f-b105-b26727486201"
    },
    {
      "cell_type": "code",
      "execution_count": null,
      "metadata": {},
      "outputs": [],
      "source": [
        "library(caret)\n",
        "my_lm_model <- train(form = y ~ x, data = my_train, method = \"lm\")\n",
        "y_ <- my_lm_model %>% predict(my_test)\n",
        "caret::RMSE(y, y_) # RMSE\uff08\u30c6\u30b9\u30c8\uff09"
      ],
      "id": "fc3b3625-b8f6-4104-8104-4b11017f9e7a"
    },
    {
      "cell_type": "code",
      "execution_count": null,
      "metadata": {},
      "outputs": [],
      "source": [
        "y_ <- my_lm_model %>% predict(my_df)\n",
        "tmp <- my_df %>%\n",
        "  mutate(y = y_, label = \"model\")\n",
        "my_plot + geom_line(data = tmp)"
      ],
      "id": "01aae92c-f062-45b4-8d92-746b632452d0"
    },
    {
      "cell_type": "code",
      "execution_count": null,
      "metadata": {},
      "outputs": [],
      "source": [
        "library(fable)\n",
        "my_arima_model <- my_train %>% model(ARIMA(y))\n",
        "my_arima_model"
      ],
      "id": "cb531de0-987f-48ab-9c90-b27d7daf979d"
    },
    {
      "cell_type": "code",
      "execution_count": null,
      "metadata": {},
      "outputs": [],
      "source": [
        "tmp <- my_arima_model %>% forecast(h = \"3 years\")\n",
        "head(tmp)"
      ],
      "id": "70d5dd1b-33a9-40e0-91bb-6b648791204e"
    },
    {
      "cell_type": "code",
      "execution_count": null,
      "metadata": {},
      "outputs": [],
      "source": [
        "y_ <- tmp$.mean\n",
        "caret::RMSE(y_, y)"
      ],
      "id": "8869d414-11c3-403f-9e5f-86c8a8674628"
    },
    {
      "cell_type": "code",
      "execution_count": null,
      "metadata": {},
      "outputs": [],
      "source": [
        "# \u4e88\u6e2c\u7d50\u679c\u306e\u307f\u3067\u3088\u3044\u5834\u5408\n",
        "#tmp %>% autoplot\n",
        "\n",
        "tmp %>% autoplot +\n",
        "  geom_line(data = my_df,\n",
        "            aes(x = ds,\n",
        "                y = y,\n",
        "                color = label))"
      ],
      "id": "9fa025c8-8265-46f9-8955-74eb12483a51"
    },
    {
      "cell_type": "code",
      "execution_count": null,
      "metadata": {},
      "outputs": [],
      "source": [
        "library(prophet)\n",
        "my_prophet_model <- my_train %>%\n",
        "  prophet(seasonality.mode = \"multiplicative\")"
      ],
      "id": "6b5bc9db-5c1c-4c1e-8089-5ce9a3b6b1f1"
    },
    {
      "cell_type": "code",
      "execution_count": null,
      "metadata": {},
      "outputs": [],
      "source": [
        "tmp <- my_prophet_model %>% predict(my_test)\n",
        "head(tmp[, c(\"ds\", \"yhat\", \"yhat_lower\", \"yhat_upper\")])"
      ],
      "id": "2b663f6c-7f2d-4502-bc6a-6f72a8568483"
    },
    {
      "cell_type": "code",
      "execution_count": null,
      "metadata": {},
      "outputs": [],
      "source": [
        "y_ <- tmp$yhat\n",
        "caret::RMSE(y_, y)"
      ],
      "id": "5b29b8c5-442b-42e8-a900-9d0511da7832"
    },
    {
      "cell_type": "code",
      "execution_count": null,
      "metadata": {},
      "outputs": [],
      "source": [
        "# my_prophet_model %>% plot(tmp) # \u4e88\u6e2c\u7d50\u679c\u306e\u307f\u3067\u3088\u3044\u5834\u5408\n",
        "\n",
        "my_prophet_model %>% plot(tmp) +\n",
        "  geom_line(data = my_train, aes(x = as.POSIXct(ds))) +\n",
        "  geom_line(data = my_test,  aes(x = as.POSIXct(ds)), color = \"red\")"
      ],
      "id": "c3e1fdcc-5deb-4b19-ad8b-44c03b2d4828"
    },
    {
      "id": "e7494d59",
      "cell_type": "markdown",
      "source": "# 13 \u6559\u5e2b\u306a\u3057\u5b66\u7fd2",
      "metadata": {}
    },
    {
      "cell_type": "code",
      "execution_count": null,
      "metadata": {},
      "outputs": [],
      "source": [
        "# Google Colaboratory\u306e\u74b0\u5883\u8a2d\u5b9a\n",
        "if (file.exists(\"/content\")) {\n",
        "  options(Ncpus = parallel::detectCores())\n",
        "  installed_packages <- rownames(installed.packages())\n",
        "  packages_to_install <- c(\"factoextra\", \"ggbiplot\", \"igraph\")\n",
        "  install.packages(setdiff(packages_to_install, installed_packages))\n",
        "}"
      ],
      "id": "8509c9d3-1f16-43f4-aedf-04febec48276"
    },
    {
      "id": "3df3233f",
      "cell_type": "markdown",
      "source": "## 13.1 \u4e3b\u6210\u5206\u5206\u6790",
      "metadata": {}
    },
    {
      "cell_type": "code",
      "execution_count": null,
      "metadata": {},
      "outputs": [],
      "source": [
        "library(tidyverse)\n",
        "\n",
        "my_data <- data.frame(\n",
        "  language  = c(  0,  20,  20,  25,  22,  17),\n",
        "  english   = c(  0,  20,  40,  20,  24,  18),\n",
        "  math      = c(100,  20,   5,  30,  17,  25),\n",
        "  science   = c(  0,  20,   5,  25,  16,  23),\n",
        "  society   = c(  0,  20,  30,   0,  21,  17),\n",
        "  row.names = c(\"A\", \"B\", \"C\", \"D\", \"E\", \"F\"))\n",
        "my_result <- my_data %>% prcomp # \u4e3b\u6210\u5206\u5206\u6790\u306e\u5b9f\u884c"
      ],
      "id": "25147f1c-840d-457f-8c52-0dc0a8d81fbb"
    },
    {
      "cell_type": "code",
      "execution_count": null,
      "metadata": {},
      "outputs": [],
      "source": [
        "my_result$x # \u4e3b\u6210\u5206\u30b9\u30b3\u30a2"
      ],
      "id": "1adbdfa8-f21b-4982-8555-ce2956f3fbe0"
    },
    {
      "cell_type": "code",
      "execution_count": null,
      "metadata": {},
      "outputs": [],
      "source": [
        "my_result %>% ggbiplot::ggbiplot(\n",
        "  labels = row.names(my_data),\n",
        "  scale = 0)"
      ],
      "id": "f2982c1b-5e98-4db2-a046-c8b965dd8b71"
    },
    {
      "cell_type": "code",
      "execution_count": null,
      "metadata": {},
      "outputs": [],
      "source": [
        "my_result$rotation %>% t"
      ],
      "id": "93c2ce32-43f4-4455-813f-4a94c60bab52"
    },
    {
      "cell_type": "code",
      "execution_count": null,
      "metadata": {},
      "outputs": [],
      "source": [
        "summary(my_result)"
      ],
      "id": "85e80948-2f09-486e-8848-4aa99519433d"
    },
    {
      "cell_type": "code",
      "execution_count": null,
      "metadata": {},
      "outputs": [],
      "source": [
        "my_result <- prcomp(\n",
        "  x = my_data,\n",
        "  scale = TRUE)       # \u6a19\u6e96\u5316\n",
        "# \u3042\u308b\u3044\u306f\n",
        "my_result <- prcomp(\n",
        "  x = scale(my_data)) # \u6a19\u6e96\u5316\u30c7\u30fc\u30bf\n",
        "\n",
        "my_result$x # \u4e3b\u6210\u5206\u30b9\u30b3\u30a2"
      ],
      "id": "4149ead8-cecd-41e5-99ca-d63f9228562c"
    },
    {
      "cell_type": "code",
      "execution_count": null,
      "metadata": {},
      "outputs": [],
      "source": [
        "Z  <- my_data %>% scale(scale = FALSE) %>% as.matrix # \u6a19\u6e96\u5316\u3057\u306a\u3044\u5834\u5408\n",
        "#Z <- my_data %>% scale(scale = TRUE)  %>% as.matrix # \u6a19\u6e96\u5316\u3059\u308b\u5834\u5408\n",
        "\n",
        "n <- nrow(my_data)\n",
        "S <- var(Z)                          # \u5206\u6563\u5171\u5206\u6563\u884c\u5217\n",
        "#S <- t(Z) %*% Z / (n - 1)           # \uff08\u540c\u3058\u7d50\u679c\uff09\n",
        "tmp <- eigen(S)                      # \u56fa\u6709\u5024\u3068\u56fa\u6709\u30d9\u30af\u30c8\u30eb\n",
        "Z %*% tmp$vectors                    # \u4e3b\u6210\u5206\u30b9\u30b3\u30a2\uff08\u7d50\u679c\u306f\u5272\u611b\uff09\n",
        "cumsum(tmp$values) / sum(tmp$values) # \u7d2f\u7a4d\u5bc4\u4e0e\u7387"
      ],
      "id": "89d17bc3-f66b-4d37-b873-c30463b84055"
    },
    {
      "cell_type": "code",
      "execution_count": null,
      "metadata": {},
      "outputs": [],
      "source": [
        "udv <- svd(Z) # \u7279\u7570\u5024\u5206\u89e3\n",
        "U <- udv$u\n",
        "d <- udv$d\n",
        "V <- udv$v\n",
        "W <- diag(d)\n",
        "\n",
        "c(all.equal(Z, U %*% W %*% t(V), check.attributes = FALSE), # \u78ba\u8a8d1\n",
        "  all.equal(t(U) %*% U, diag(dim(U)[2])),                   # \u78ba\u8a8d2\n",
        "  all.equal(t(V) %*% V, diag(dim(V)[2])))                   # \u78ba\u8a8d3\n",
        "\n",
        "U %*% W            # \u4e3b\u6210\u5206\u30b9\u30b3\u30a2\uff08\u7d50\u679c\u306f\u5272\u611b\uff09\n",
        "\n",
        "e <- d^2 / (n - 1) # \u5206\u6563\u5171\u5206\u6563\u884c\u5217\u306e\u56fa\u6709\u5024\n",
        "cumsum(e) / sum(e) # \u7d2f\u7a4d\u5bc4\u4e0e\u7387"
      ],
      "id": "c214cda7-5800-4500-b2f8-3ce2c7fa7a08"
    },
    {
      "id": "518f395f",
      "cell_type": "markdown",
      "source": "## 13.2 \u30af\u30e9\u30b9\u30bf\u5206\u6790",
      "metadata": {}
    },
    {
      "cell_type": "code",
      "execution_count": null,
      "metadata": {},
      "outputs": [],
      "source": [
        "library(tidyverse)\n",
        "\n",
        "my_data <- data.frame(\n",
        "  x         = c(  0, -16,  10,  10),\n",
        "  y         = c(  0,   0,  10, -15),\n",
        "  row.names = c(\"A\", \"B\", \"C\", \"D\"))\n",
        "\n",
        "my_result <- my_data %>%\n",
        "  dist(\"euclidian\") %>% # dist\u3060\u3051\u3067\u3082\u53ef\n",
        "  hclust(\"complete\")    # hclust\u3060\u3051\u3067\u3082\u53ef"
      ],
      "id": "cfbc81dd-2155-4fe8-9da3-5053dd73cc73"
    },
    {
      "cell_type": "code",
      "execution_count": null,
      "metadata": {},
      "outputs": [],
      "source": [
        "my_result %>% factoextra::fviz_dend(\n",
        "  k = 3, # \u30af\u30e9\u30b9\u30bf\u6570\n",
        "  rect = TRUE, rect_fill = TRUE)"
      ],
      "id": "ca6098fe-e590-4154-9145-d14ee7274c73"
    },
    {
      "cell_type": "code",
      "execution_count": null,
      "metadata": {},
      "outputs": [],
      "source": [
        "my_result %>% factoextra::fviz_dend(\n",
        "  k = 3,\n",
        "  rect = TRUE, rect_fill = TRUE,\n",
        "  type = \"phylogenic\")"
      ],
      "id": "2a2a916c-2ac2-484e-8914-a9be3f862d57"
    },
    {
      "cell_type": "code",
      "execution_count": null,
      "metadata": {},
      "outputs": [],
      "source": [
        "my_result %>% cutree(3)"
      ],
      "id": "03c48802-1d08-453d-b2a6-7295c73b5a25"
    },
    {
      "cell_type": "code",
      "execution_count": null,
      "metadata": {},
      "outputs": [],
      "source": [
        "library(tidyverse)\n",
        "\n",
        "my_data <- data.frame(\n",
        "  language  = c(  0,  20,  20,  25,  22,  17),\n",
        "  english   = c(  0,  20,  40,  20,  24,  18),\n",
        "  math      = c(100,  20,   5,  30,  17,  25),\n",
        "  science   = c(  0,  20,   5,  25,  16,  23),\n",
        "  society   = c(  0,  20,  30,   0,  21,  17),\n",
        "  row.names = c(\"A\", \"B\", \"C\", \"D\", \"E\", \"F\"))\n",
        "\n",
        "try( # RMarkdown\u3067\u767a\u751f\u3059\u308b\u30a8\u30e9\u30fc\u3092\u56de\u907f\u3059\u308b\uff0e\n",
        "  my_data %>% scale %>%                        # \u5217\u3054\u3068\u306e\u6a19\u6e96\u5316\n",
        "    gplots::heatmap.2(cexRow = 1, cexCol = 1), # \u30e9\u30d9\u30eb\u306e\u30b5\u30a4\u30ba\u3092\u6307\u5b9a\u3057\u3066\u63cf\u753b\u3059\u308b\uff0e\n",
        "  silent = TRUE)"
      ],
      "id": "fc08b214-90ef-407f-a2fd-87b645c511a8"
    },
    {
      "cell_type": "code",
      "execution_count": null,
      "metadata": {},
      "outputs": [],
      "source": [
        "library(tidyverse)\n",
        "\n",
        "my_data <- data.frame(\n",
        "  x         = c(  0, -16,  10,  10),\n",
        "  y         = c(  0,   0,  10, -15),\n",
        "  row.names = c(\"A\", \"B\", \"C\", \"D\"))\n",
        "\n",
        "my_result <- my_data %>% kmeans(3)"
      ],
      "id": "a3b17489-fac5-4b09-8554-802ec78806ea"
    },
    {
      "cell_type": "code",
      "execution_count": null,
      "metadata": {},
      "outputs": [],
      "source": [
        "my_result$cluster"
      ],
      "id": "7face18e-abc0-4ba5-869d-b7097c9bad44"
    },
    {
      "cell_type": "code",
      "execution_count": null,
      "metadata": {},
      "outputs": [],
      "source": [
        "library(tidyverse)\n",
        "library(factoextra)\n",
        "\n",
        "my_data <- iris[, -5]\n",
        "\n",
        "f <- 2:5 %>% map(function(k) {\n",
        "  my_data %>% kmeans(k) %>%\n",
        "    fviz_cluster(data = my_data, geom = \"point\") +\n",
        "    ggtitle(sprintf(\"k = %s\", k))\n",
        "})\n",
        "gridExtra::grid.arrange(f[[1]], f[[2]], f[[3]], f[[4]], ncol = 2)"
      ],
      "id": "91604720-40c1-446a-ba86-82ea40dfef3e"
    },
    {
      "cell_type": "code",
      "execution_count": null,
      "metadata": {},
      "outputs": [],
      "source": [
        "fviz_nbclust(my_data, kmeans, method = \"wss\")"
      ],
      "id": "86513135-8646-4241-97a6-cfc41beb57c1"
    },
    {
      "cell_type": "code",
      "execution_count": null,
      "metadata": {},
      "outputs": [],
      "source": [
        "library(tidyverse)\n",
        "my_data <- iris[, -5] %>% scale\n",
        "\n",
        "my_result <- prcomp(my_data)$x %>% as.data.frame # \u4e3b\u6210\u5206\u5206\u6790\n",
        "\n",
        "# \u975e\u968e\u5c64\u7684\u30af\u30e9\u30b9\u30bf\u5206\u6790\u306e\u5834\u5408\n",
        "my_result$cluster <- (my_data %>% scale %>% kmeans(3))$cluster %>% as.factor\n",
        "\n",
        "# \u968e\u5c64\u7684\u30af\u30e9\u30b9\u30bf\u5206\u6790\u306e\u5834\u5408\n",
        "#my_result$cluster <- my_data %>% dist %>% hclust %>% cutree(3) %>% as.factor\n",
        "\n",
        "my_result %>%\n",
        "  ggplot(aes(x = PC1, y = PC2, color = cluster)) + # \u8272\u3067\u30af\u30e9\u30b9\u30bf\u3092\u8868\u73fe\u3059\u308b\uff0e\n",
        "  geom_point(shape = iris$Species) +               # \u5f62\u3067\u54c1\u7a2e\u3092\u8868\u73fe\u3059\u308b\uff0e\n",
        "  theme(legend.position = \"none\")"
      ],
      "id": "6140e914-3f4b-4ea2-9141-b65a01f0da2b"
    }
  ],
  "nbformat": 4,
  "nbformat_minor": 5,
  "metadata": {
    "kernelspec": {
      "name": "ir",
      "display_name": "R"
    }
  }
}