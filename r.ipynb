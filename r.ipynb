{
  "cells": [
    {
      "id": "61b9324f",
      "cell_type": "markdown",
      "source": [
        "[辻真吾・矢吹太朗『ゼロからはじめるデータサイエンス入門』（講談社, 2021）](https://github.com/taroyabuki/fromzero)"
      ],
      "metadata": {
        "id": "61b9324f"
      }
    },
    {
      "cell_type": "code",
      "execution_count": null,
      "metadata": {
        "id": "7d251930-9fc5-4a50-89b5-cec027ab4804"
      },
      "outputs": [],
      "source": [
        "# これはRのコードの例です．\n",
        "1 + 1"
      ],
      "id": "7d251930-9fc5-4a50-89b5-cec027ab4804"
    },
    {
      "id": "996b0cbd",
      "cell_type": "markdown",
      "source": [
        "# 1 コンピュータとネットワーク\n",
        "\n",
        "\n"
      ],
      "metadata": {
        "id": "996b0cbd"
      }
    },
    {
      "id": "5114f7e3",
      "cell_type": "markdown",
      "source": [
        "## 1.1 コンピュータの基本操作\n",
        "\n",
        "\n"
      ],
      "metadata": {
        "id": "5114f7e3"
      }
    },
    {
      "id": "bbee6e68",
      "cell_type": "markdown",
      "source": [
        "## 1.2 ネットワークの仕組み\n",
        "\n",
        "\n"
      ],
      "metadata": {
        "id": "bbee6e68"
      }
    },
    {
      "id": "e45cf216",
      "cell_type": "markdown",
      "source": [
        "# 2 データサイエンスのための環境\n",
        "\n",
        "\n"
      ],
      "metadata": {
        "id": "e45cf216"
      }
    },
    {
      "id": "4699f834",
      "cell_type": "markdown",
      "source": [
        "## 2.1 実行環境の選択\n",
        "\n",
        "\n"
      ],
      "metadata": {
        "id": "4699f834"
      }
    },
    {
      "id": "a62cc2ed",
      "cell_type": "markdown",
      "source": [
        "## 2.2 クラウド\n",
        "\n",
        "\n"
      ],
      "metadata": {
        "id": "a62cc2ed"
      }
    },
    {
      "id": "37ac2661",
      "cell_type": "markdown",
      "source": [
        "## 2.3 Docker\n",
        "\n",
        "\n"
      ],
      "metadata": {
        "id": "37ac2661"
      }
    },
    {
      "id": "4cd988d2",
      "cell_type": "markdown",
      "source": [
        "## 2.4 ターミナルの使い方\n",
        "\n",
        "\n"
      ],
      "metadata": {
        "id": "4cd988d2"
      }
    },
    {
      "id": "62b1d75b",
      "cell_type": "markdown",
      "source": [
        "## 2.5 RとPython\n",
        "\n",
        "\n"
      ],
      "metadata": {
        "id": "62b1d75b"
      }
    },
    {
      "id": "1c0fef78",
      "cell_type": "markdown",
      "source": [
        "## 2.6 サンプルコードの利用"
      ],
      "metadata": {
        "id": "1c0fef78"
      }
    },
    {
      "cell_type": "code",
      "execution_count": null,
      "metadata": {
        "id": "c00da776-2392-402b-99cd-e0de22ab59c2"
      },
      "outputs": [],
      "source": [
        "1 + 1\n",
        "\n",
        "print(1 + 2)\n",
        "\n",
        "1 + 3"
      ],
      "id": "c00da776-2392-402b-99cd-e0de22ab59c2"
    },
    {
      "id": "b0613799",
      "cell_type": "markdown",
      "source": [
        "# 3 RとPython"
      ],
      "metadata": {
        "id": "b0613799"
      }
    },
    {
      "cell_type": "code",
      "execution_count": null,
      "metadata": {
        "id": "286be9ec-ada0-46b5-ba14-06a1b9dd5f25"
      },
      "outputs": [],
      "source": [
        "# Google Colaboratoryの環境設定\n",
        "if (file.exists(\"/content\")) {\n",
        "  options(Ncpus = parallel::detectCores())\n",
        "  packages_to_install <- c(\"furrr\", \"keras\", \"proxy\")\n",
        "  installed_packages <- rownames(installed.packages())\n",
        "  install.packages(setdiff(packages_to_install, installed_packages))\n",
        "}"
      ],
      "id": "286be9ec-ada0-46b5-ba14-06a1b9dd5f25"
    },
    {
      "id": "afbd82ea",
      "cell_type": "markdown",
      "source": [
        "## 3.1 入門"
      ],
      "metadata": {
        "id": "afbd82ea"
      }
    },
    {
      "cell_type": "code",
      "execution_count": null,
      "metadata": {
        "id": "851687af-c109-4d62-a34a-ed4ddc7a83a6"
      },
      "outputs": [],
      "source": [
        "0x10"
      ],
      "id": "851687af-c109-4d62-a34a-ed4ddc7a83a6"
    },
    {
      "cell_type": "code",
      "execution_count": null,
      "metadata": {
        "id": "5dfc5817-b728-429b-9f80-6cad8b4d1327"
      },
      "outputs": [],
      "source": [
        "1.23e5"
      ],
      "id": "5dfc5817-b728-429b-9f80-6cad8b4d1327"
    },
    {
      "cell_type": "code",
      "execution_count": null,
      "metadata": {
        "id": "f95cb1e4-545e-4be5-9b79-c63a104e66ae"
      },
      "outputs": [],
      "source": [
        "2 * 3"
      ],
      "id": "f95cb1e4-545e-4be5-9b79-c63a104e66ae"
    },
    {
      "cell_type": "code",
      "execution_count": null,
      "metadata": {
        "id": "2fccb9c3-94c3-44dc-98b4-6c25c3c829b0"
      },
      "outputs": [],
      "source": [
        "10 / 3"
      ],
      "id": "2fccb9c3-94c3-44dc-98b4-6c25c3c829b0"
    },
    {
      "cell_type": "code",
      "execution_count": null,
      "metadata": {
        "id": "07f8afe6-aab4-4b25-adbf-558277bb8247"
      },
      "outputs": [],
      "source": [
        "10 %/% 3 # 商\n",
        "\n",
        "10 %% 3  # 余り"
      ],
      "id": "07f8afe6-aab4-4b25-adbf-558277bb8247"
    },
    {
      "cell_type": "code",
      "execution_count": null,
      "metadata": {
        "id": "9ab5b251-792d-40dc-a820-3afeb27c4fea"
      },
      "outputs": [],
      "source": [
        "x <- 2\n",
        "y <- 3\n",
        "x * y\n",
        "\n",
        "keras::`%<-%`(c(x, y), c(20, 30)) # まとめて名付け\n",
        "x * y"
      ],
      "id": "9ab5b251-792d-40dc-a820-3afeb27c4fea"
    },
    {
      "cell_type": "code",
      "execution_count": null,
      "metadata": {
        "id": "7689d92f-3063-42db-9d27-3554b932b208"
      },
      "outputs": [],
      "source": [
        "x <- 1 + 1\n",
        "# この段階では結果は表示されない\n",
        "\n",
        "x # 変数名を評価する．"
      ],
      "id": "7689d92f-3063-42db-9d27-3554b932b208"
    },
    {
      "cell_type": "code",
      "execution_count": null,
      "metadata": {
        "id": "48935f9f-0066-43b3-8916-4fcfcaefbf21"
      },
      "outputs": [],
      "source": [
        "my_s <- \"abcde\""
      ],
      "id": "48935f9f-0066-43b3-8916-4fcfcaefbf21"
    },
    {
      "cell_type": "code",
      "execution_count": null,
      "metadata": {
        "id": "c29b6fa3-8fd0-4a83-91c1-c46fea521d7d"
      },
      "outputs": [],
      "source": [
        "nchar(my_s)"
      ],
      "id": "c29b6fa3-8fd0-4a83-91c1-c46fea521d7d"
    },
    {
      "cell_type": "code",
      "execution_count": null,
      "metadata": {
        "id": "6636b617-817d-4c9a-bc1a-817716832b81"
      },
      "outputs": [],
      "source": [
        "library(tidyverse)\n",
        "str_c(\"This is \", \"a\", \" pen.\")"
      ],
      "id": "6636b617-817d-4c9a-bc1a-817716832b81"
    },
    {
      "cell_type": "code",
      "execution_count": null,
      "metadata": {
        "id": "4026d4a4-e570-48a1-8cb8-a5fa64bdc748"
      },
      "outputs": [],
      "source": [
        "substr(x = my_s, start = 2, stop = 4)"
      ],
      "id": "4026d4a4-e570-48a1-8cb8-a5fa64bdc748"
    },
    {
      "cell_type": "code",
      "execution_count": null,
      "metadata": {
        "id": "e530113e-bbca-4f76-9848-ed9ae7194cd0"
      },
      "outputs": [],
      "source": [
        "tmp <- \"%s is %s.\"\n",
        "sprintf(tmp, \"This\", \"a pen\")"
      ],
      "id": "e530113e-bbca-4f76-9848-ed9ae7194cd0"
    },
    {
      "cell_type": "code",
      "execution_count": null,
      "metadata": {
        "id": "eb037475-e271-4b6f-b564-2c271c0e3959"
      },
      "outputs": [],
      "source": [
        "1 <= 2\n",
        "\n",
        "1 < 0"
      ],
      "id": "eb037475-e271-4b6f-b564-2c271c0e3959"
    },
    {
      "cell_type": "code",
      "execution_count": null,
      "metadata": {
        "id": "7c7a187e-ad56-4ef7-927c-2e2da5481bb4"
      },
      "outputs": [],
      "source": [
        "0.1 + 0.1 + 0.1 == 0.3\n",
        "\n",
        "all.equal(0.1 + 0.1 + 0.1, 0.3)"
      ],
      "id": "7c7a187e-ad56-4ef7-927c-2e2da5481bb4"
    },
    {
      "cell_type": "code",
      "execution_count": null,
      "metadata": {
        "id": "ae080e5a-417a-44c7-b75e-6d612fa8861f"
      },
      "outputs": [],
      "source": [
        "TRUE & FALSE # 論理積（かつ）\n",
        "\n",
        "TRUE | FALSE # 論理和（または）\n",
        "\n",
        "!TRUE        # 否定（でない）"
      ],
      "id": "ae080e5a-417a-44c7-b75e-6d612fa8861f"
    },
    {
      "cell_type": "code",
      "execution_count": null,
      "metadata": {
        "id": "7d90fa57-fc94-43bc-938d-37b0cd22e652"
      },
      "outputs": [],
      "source": [
        "ifelse(3 < 5, 0, 10)"
      ],
      "id": "7d90fa57-fc94-43bc-938d-37b0cd22e652"
    },
    {
      "cell_type": "code",
      "execution_count": null,
      "metadata": {
        "id": "7c1cc778-c5e6-447e-bddf-cc63471fc185"
      },
      "outputs": [],
      "source": [
        "getwd()"
      ],
      "id": "7c1cc778-c5e6-447e-bddf-cc63471fc185"
    },
    {
      "cell_type": "code",
      "execution_count": null,
      "metadata": {
        "id": "889283f3-970e-433a-902a-9fbe3ebda631"
      },
      "outputs": [],
      "source": [
        "setwd(\"..\")\n",
        "getwd()"
      ],
      "id": "889283f3-970e-433a-902a-9fbe3ebda631"
    },
    {
      "id": "2305c7ed",
      "cell_type": "markdown",
      "source": [
        "## 3.2 関数"
      ],
      "metadata": {
        "id": "2305c7ed"
      }
    },
    {
      "cell_type": "code",
      "execution_count": null,
      "metadata": {
        "id": "9eeb1f68-eac6-4054-a85f-a2746cafa732"
      },
      "outputs": [],
      "source": [
        "sqrt(4)"
      ],
      "id": "9eeb1f68-eac6-4054-a85f-a2746cafa732"
    },
    {
      "cell_type": "code",
      "execution_count": null,
      "metadata": {
        "id": "47261011-4d10-47fa-b146-787e0e0ccaaa"
      },
      "outputs": [],
      "source": [
        "log(100, 10)"
      ],
      "id": "47261011-4d10-47fa-b146-787e0e0ccaaa"
    },
    {
      "cell_type": "code",
      "execution_count": null,
      "metadata": {
        "id": "49671f56-6491-409c-b16b-a99deba8b953"
      },
      "outputs": [],
      "source": [
        "log(100)         # 自然対数\n",
        "# あるいは\n",
        "log(100, exp(1)) # 省略しない場合\n"
      ],
      "id": "49671f56-6491-409c-b16b-a99deba8b953"
    },
    {
      "cell_type": "code",
      "execution_count": null,
      "metadata": {
        "id": "ed7f5acd-7f44-43f4-9561-a811ea7cd662"
      },
      "outputs": [],
      "source": [
        "log10(100) # 常用対数\n",
        "\n",
        "log2(1024) # 底が2の対数"
      ],
      "id": "ed7f5acd-7f44-43f4-9561-a811ea7cd662"
    },
    {
      "cell_type": "code",
      "execution_count": null,
      "metadata": {
        "id": "735ce6f2-d691-435e-acae-cc516289cc55"
      },
      "outputs": [],
      "source": [
        "library(tidyverse)\n",
        "4 %>% sqrt"
      ],
      "id": "735ce6f2-d691-435e-acae-cc516289cc55"
    },
    {
      "cell_type": "code",
      "execution_count": null,
      "metadata": {
        "id": "b79f855f-7a43-467c-86bc-22fdfeca978f"
      },
      "outputs": [],
      "source": [
        "exp(log(5))       # 通常の書き方\n",
        "# あるいは\n",
        "5 %>% log %>% exp # パイプを使う書き方\n"
      ],
      "id": "b79f855f-7a43-467c-86bc-22fdfeca978f"
    },
    {
      "cell_type": "code",
      "execution_count": null,
      "metadata": {
        "id": "52ea2b7c-b352-4c3e-95a4-5bcfe4cf16f5"
      },
      "outputs": [],
      "source": [
        "f <- function(a, b) {\n",
        "  a - b\n",
        "}"
      ],
      "id": "52ea2b7c-b352-4c3e-95a4-5bcfe4cf16f5"
    },
    {
      "cell_type": "code",
      "execution_count": null,
      "metadata": {
        "id": "d824082e-7c0b-4269-beda-c188969e32b3"
      },
      "outputs": [],
      "source": [
        "f(3, 5)"
      ],
      "id": "d824082e-7c0b-4269-beda-c188969e32b3"
    },
    {
      "cell_type": "code",
      "execution_count": null,
      "metadata": {
        "id": "40a9902b-74a1-45b8-abfe-54467b1bfd9d"
      },
      "outputs": [],
      "source": [
        "f <- function(a, b = 5) {\n",
        "  a - b\n",
        "}\n",
        "\n",
        "f(3) # f(3, 5)と同じこと"
      ],
      "id": "40a9902b-74a1-45b8-abfe-54467b1bfd9d"
    },
    {
      "cell_type": "code",
      "execution_count": null,
      "metadata": {
        "id": "0d32bdd1-c7c5-4042-9901-306e333e62e2"
      },
      "outputs": [],
      "source": [
        "(function(a, b) { a - b })(3, 5)"
      ],
      "id": "0d32bdd1-c7c5-4042-9901-306e333e62e2"
    },
    {
      "id": "410cf8a1",
      "cell_type": "markdown",
      "source": [
        "## 3.3 コレクション"
      ],
      "metadata": {
        "id": "410cf8a1"
      }
    },
    {
      "cell_type": "code",
      "execution_count": null,
      "metadata": {
        "id": "11f2723b-427c-40b7-8de0-14ef8412031e"
      },
      "outputs": [],
      "source": [
        "x <- c(\"foo\", \"bar\", \"baz\")"
      ],
      "id": "11f2723b-427c-40b7-8de0-14ef8412031e"
    },
    {
      "cell_type": "code",
      "execution_count": null,
      "metadata": {
        "id": "89314c6e-0794-4fee-bafe-04f8e4ebb4e7"
      },
      "outputs": [],
      "source": [
        "length(x)"
      ],
      "id": "89314c6e-0794-4fee-bafe-04f8e4ebb4e7"
    },
    {
      "cell_type": "code",
      "execution_count": null,
      "metadata": {
        "id": "d8578935-f1cd-4b94-8d3a-b0b67c051232"
      },
      "outputs": [],
      "source": [
        "x[2]"
      ],
      "id": "d8578935-f1cd-4b94-8d3a-b0b67c051232"
    },
    {
      "cell_type": "code",
      "execution_count": null,
      "metadata": {
        "id": "a10a92f0-e61e-4816-a80f-fd0ffd6677f1"
      },
      "outputs": [],
      "source": [
        "x[2] <- \"BAR\"\n",
        "x # 結果の確認\n",
        "\n",
        "x[2] <- \"bar\" # 元に戻す．"
      ],
      "id": "a10a92f0-e61e-4816-a80f-fd0ffd6677f1"
    },
    {
      "cell_type": "code",
      "execution_count": null,
      "metadata": {
        "id": "69962fd7-1e12-4787-9ffd-c206b03da82b"
      },
      "outputs": [],
      "source": [
        "x[-2]"
      ],
      "id": "69962fd7-1e12-4787-9ffd-c206b03da82b"
    },
    {
      "cell_type": "code",
      "execution_count": null,
      "metadata": {
        "id": "647fb9fc-c843-49af-9158-af3e4b93fa18"
      },
      "outputs": [],
      "source": [
        "c(x, \"qux\")"
      ],
      "id": "647fb9fc-c843-49af-9158-af3e4b93fa18"
    },
    {
      "cell_type": "code",
      "execution_count": null,
      "metadata": {
        "id": "8ddba128-308c-412c-956d-15794572e98d"
      },
      "outputs": [],
      "source": [
        "x <- c(x, \"qux\")\n",
        "x # 結果の確認"
      ],
      "id": "8ddba128-308c-412c-956d-15794572e98d"
    },
    {
      "cell_type": "code",
      "execution_count": null,
      "metadata": {
        "id": "8a5d3658-0b0b-48ae-b56a-51c5557f466a"
      },
      "outputs": [],
      "source": [
        "1:5"
      ],
      "id": "8a5d3658-0b0b-48ae-b56a-51c5557f466a"
    },
    {
      "cell_type": "code",
      "execution_count": null,
      "metadata": {
        "id": "e29273b3-afb4-4e6c-99ef-20cb4be033eb"
      },
      "outputs": [],
      "source": [
        "seq(from = 0, to = 10, by = 2)"
      ],
      "id": "e29273b3-afb4-4e6c-99ef-20cb4be033eb"
    },
    {
      "cell_type": "code",
      "execution_count": null,
      "metadata": {
        "id": "c0f5d67b-54ed-4ad5-8d80-e9d07d9fda1d"
      },
      "outputs": [],
      "source": [
        "seq(from = 0, to = 1, by = 0.5)"
      ],
      "id": "c0f5d67b-54ed-4ad5-8d80-e9d07d9fda1d"
    },
    {
      "cell_type": "code",
      "execution_count": null,
      "metadata": {
        "id": "0a31baec-0626-4f6c-b950-192fb5935a0a"
      },
      "outputs": [],
      "source": [
        "seq(from = 0, to = 100, length.out = 5)"
      ],
      "id": "0a31baec-0626-4f6c-b950-192fb5935a0a"
    },
    {
      "cell_type": "code",
      "execution_count": null,
      "metadata": {
        "id": "f4b7d664-c82f-46c3-9009-4b688a4bd1da"
      },
      "outputs": [],
      "source": [
        "rep(x = 10, times = 5)"
      ],
      "id": "f4b7d664-c82f-46c3-9009-4b688a4bd1da"
    },
    {
      "cell_type": "code",
      "execution_count": null,
      "metadata": {
        "id": "460c610e-939c-478c-9ca1-22f718c2987f"
      },
      "outputs": [],
      "source": [
        "tmp <- c(\"グー\", \"パー\", \"グー\", \"パー\")\n",
        "x <- factor(tmp, levels = c(\"グー\", \"チョキ\", \"パー\"))\n",
        "x"
      ],
      "id": "460c610e-939c-478c-9ca1-22f718c2987f"
    },
    {
      "cell_type": "code",
      "execution_count": null,
      "metadata": {
        "id": "0989ddfe-bf6b-4814-a15c-e5a25df413c6"
      },
      "outputs": [],
      "source": [
        "x <- c(2, 3, 5, 7)\n",
        "\n",
        "x + 10 # 加算\n",
        "\n",
        "x * 10 # 乗算"
      ],
      "id": "0989ddfe-bf6b-4814-a15c-e5a25df413c6"
    },
    {
      "cell_type": "code",
      "execution_count": null,
      "metadata": {
        "id": "19c81558-e669-40cc-be86-cf3b415eca7f"
      },
      "outputs": [],
      "source": [
        "x <- c(2, 3)\n",
        "sin(x)"
      ],
      "id": "19c81558-e669-40cc-be86-cf3b415eca7f"
    },
    {
      "cell_type": "code",
      "execution_count": null,
      "metadata": {
        "id": "f0ef2f02-5c1f-4fd5-aac8-933db67b3c5f"
      },
      "outputs": [],
      "source": [
        "x <- c(2,  3,   5,    7)\n",
        "y <- c(1, 10, 100, 1000)\n",
        "x + y\n",
        "\n",
        "x * y"
      ],
      "id": "f0ef2f02-5c1f-4fd5-aac8-933db67b3c5f"
    },
    {
      "cell_type": "code",
      "execution_count": null,
      "metadata": {
        "id": "a8803c2a-01a9-4ae8-8c4b-34f93710255f"
      },
      "outputs": [],
      "source": [
        "sum(x * y)"
      ],
      "id": "a8803c2a-01a9-4ae8-8c4b-34f93710255f"
    },
    {
      "cell_type": "code",
      "execution_count": null,
      "metadata": {
        "id": "50c190ca-47e1-4cf2-8051-4c83c5c8d2e8"
      },
      "outputs": [],
      "source": [
        "x <- c(TRUE, FALSE)\n",
        "y <- c(TRUE, TRUE)\n",
        "x & y"
      ],
      "id": "50c190ca-47e1-4cf2-8051-4c83c5c8d2e8"
    },
    {
      "cell_type": "code",
      "execution_count": null,
      "metadata": {
        "id": "6541408c-adb0-4eb8-a20e-720f1c40f3b4"
      },
      "outputs": [],
      "source": [
        "u <- c(1, 2, 3)\n",
        "v <- c(1, 2, 3)\n",
        "w <- c(1, 2, 4)\n",
        "\n",
        "identical(u, v) # 全体の比較\n",
        "\n",
        "identical(u, w) # 全体の比較\n",
        "\n",
        "u == v          # 要素ごとの比較\n",
        "\n",
        "u == w          # 要素ごとの比較"
      ],
      "id": "6541408c-adb0-4eb8-a20e-720f1c40f3b4"
    },
    {
      "cell_type": "code",
      "execution_count": null,
      "metadata": {
        "id": "5a78cd4a-3ffc-41dd-8bf6-ba1c96eeac3e"
      },
      "outputs": [],
      "source": [
        "sum(u == w)  # 同じ要素の数\n",
        "\n",
        "mean(u == w) # 同じ要素の割合"
      ],
      "id": "5a78cd4a-3ffc-41dd-8bf6-ba1c96eeac3e"
    },
    {
      "cell_type": "code",
      "execution_count": null,
      "metadata": {
        "id": "8f07adc3-6bac-4f02-8dd0-18cdc1a2bb9a"
      },
      "outputs": [],
      "source": [
        "x <- list(1, \"two\")"
      ],
      "id": "8f07adc3-6bac-4f02-8dd0-18cdc1a2bb9a"
    },
    {
      "cell_type": "code",
      "execution_count": null,
      "metadata": {
        "id": "cd3f2e44-d9f3-439a-b899-54545002633e"
      },
      "outputs": [],
      "source": [
        "x[[2]]"
      ],
      "id": "cd3f2e44-d9f3-439a-b899-54545002633e"
    },
    {
      "cell_type": "code",
      "execution_count": null,
      "metadata": {
        "id": "121babe4-2d27-48f6-95e6-3ce116aa8a7a"
      },
      "outputs": [],
      "source": [
        "x <- list(\"apple\"  = \"りんご\",\n",
        "          \"orange\" = \"みかん\")"
      ],
      "id": "121babe4-2d27-48f6-95e6-3ce116aa8a7a"
    },
    {
      "cell_type": "code",
      "execution_count": null,
      "metadata": {
        "id": "057ac043-733e-45b7-877f-d708b507cae5"
      },
      "outputs": [],
      "source": [
        "x[[\"grape\"]] <- \"ぶどう\""
      ],
      "id": "057ac043-733e-45b7-877f-d708b507cae5"
    },
    {
      "cell_type": "code",
      "execution_count": null,
      "metadata": {
        "id": "0c6d1a45-7f1c-4022-bc8e-8b632d368394"
      },
      "outputs": [],
      "source": [
        "x$apple\n",
        "# あるいは\n",
        "x$\"apple\"\n",
        "# あるいは\n",
        "x[[\"apple\"]]\n",
        "# あるいは\n",
        "tmp <- \"apple\"\n",
        "x[[tmp]]\n"
      ],
      "id": "0c6d1a45-7f1c-4022-bc8e-8b632d368394"
    },
    {
      "cell_type": "code",
      "execution_count": null,
      "metadata": {
        "id": "1fbf91fc-2dc6-41da-9fb6-140cdb92dfa0"
      },
      "outputs": [],
      "source": [
        "x <- c(\"foo\", \"bar\", \"baz\")\n",
        "y <- x\n",
        "y[2] <- \"BAR\" # yを更新する．\n",
        "y\n",
        "\n",
        "x             # xは変わらない．"
      ],
      "id": "1fbf91fc-2dc6-41da-9fb6-140cdb92dfa0"
    },
    {
      "id": "719bb51a",
      "cell_type": "markdown",
      "source": [
        "## 3.4 データフレーム"
      ],
      "metadata": {
        "id": "719bb51a"
      }
    },
    {
      "cell_type": "code",
      "execution_count": null,
      "metadata": {
        "id": "ae7b45b8-8a73-4bc5-94fb-955ad9954943"
      },
      "outputs": [],
      "source": [
        "library(tidyverse)"
      ],
      "id": "ae7b45b8-8a73-4bc5-94fb-955ad9954943"
    },
    {
      "cell_type": "code",
      "execution_count": null,
      "metadata": {
        "id": "ee366a3c-b694-4a98-9bf3-854c0d969333"
      },
      "outputs": [],
      "source": [
        "my_df <- data.frame(\n",
        "  name    = c(\"A\", \"B\", \"C\", \"D\"),\n",
        "  english = c( 60,  90,  70,  90),\n",
        "  math    = c( 70,  80,  90, 100),\n",
        "  gender  = c(\"f\", \"m\", \"m\", \"f\"))"
      ],
      "id": "ee366a3c-b694-4a98-9bf3-854c0d969333"
    },
    {
      "cell_type": "code",
      "execution_count": null,
      "metadata": {
        "id": "28573a41-8067-4448-97fd-9e0ee90aee34"
      },
      "outputs": [],
      "source": [
        "my_df <- tribble(\n",
        "  ~name, ~english, ~math, ~gender,\n",
        "  \"A\",         60,    70,     \"f\",\n",
        "  \"B\",         90,    80,     \"m\",\n",
        "  \"C\",         70,    90,     \"m\",\n",
        "  \"D\",         90,   100,     \"f\")"
      ],
      "id": "28573a41-8067-4448-97fd-9e0ee90aee34"
    },
    {
      "cell_type": "code",
      "execution_count": null,
      "metadata": {
        "id": "3f592aac-c0b9-4478-a7ea-53acfb07a6ab"
      },
      "outputs": [],
      "source": [
        "head(my_df)\n",
        "# 結果は割愛"
      ],
      "id": "3f592aac-c0b9-4478-a7ea-53acfb07a6ab"
    },
    {
      "cell_type": "code",
      "execution_count": null,
      "metadata": {
        "id": "caf28df8-9456-4899-bc3c-5280e5950680"
      },
      "outputs": [],
      "source": [
        "dim(my_df)  # 行数と列数\n",
        "\n",
        "nrow(my_df) # 行数\n",
        "\n",
        "ncol(my_df) # 列数"
      ],
      "id": "caf28df8-9456-4899-bc3c-5280e5950680"
    },
    {
      "cell_type": "code",
      "execution_count": null,
      "metadata": {
        "id": "71a0a201-2322-4a72-a740-1a907f78c2fe"
      },
      "outputs": [],
      "source": [
        "my_df2 <- expand.grid(\n",
        "  X = c(1, 2, 3),\n",
        "  Y = c(10, 100))\n",
        "my_df2"
      ],
      "id": "71a0a201-2322-4a72-a740-1a907f78c2fe"
    },
    {
      "cell_type": "code",
      "execution_count": null,
      "metadata": {
        "id": "6349fbd6-25ea-4075-af6f-343fa77b7cf2"
      },
      "outputs": [],
      "source": [
        "colnames(my_df2)"
      ],
      "id": "6349fbd6-25ea-4075-af6f-343fa77b7cf2"
    },
    {
      "cell_type": "code",
      "execution_count": null,
      "metadata": {
        "id": "68c51eba-a583-4702-b0bd-4ab34b9da8b7"
      },
      "outputs": [],
      "source": [
        "colnames(my_df2) <- c(\"P\", \"Q\")\n",
        "my_df2\n",
        "# 以下省略"
      ],
      "id": "68c51eba-a583-4702-b0bd-4ab34b9da8b7"
    },
    {
      "cell_type": "code",
      "execution_count": null,
      "metadata": {
        "id": "4ac20148-7654-43a5-b7ba-3ef13801ea6a"
      },
      "outputs": [],
      "source": [
        "row.names(my_df)"
      ],
      "id": "4ac20148-7654-43a5-b7ba-3ef13801ea6a"
    },
    {
      "cell_type": "code",
      "execution_count": null,
      "metadata": {
        "id": "e7aa84ab-79b2-4ca1-94a3-c2b3371418ac"
      },
      "outputs": [],
      "source": [
        "row.names(my_df2) <-\n",
        "  c(\"a\", \"b\", \"c\", \"d\", \"e\", \"f\")\n",
        "my_df2\n",
        "# 以下省略"
      ],
      "id": "e7aa84ab-79b2-4ca1-94a3-c2b3371418ac"
    },
    {
      "cell_type": "code",
      "execution_count": null,
      "metadata": {
        "id": "e294f999-6d91-4eea-895e-7e9f8cb78a2a"
      },
      "outputs": [],
      "source": [
        "my_df3 <- data.frame(\n",
        "  english =   c( 60,  90,  70,  90),\n",
        "  math    =   c( 70,  80,  90, 100),\n",
        "  gender  =   c(\"f\", \"m\", \"m\", \"f\"),\n",
        "  row.names = c(\"A\", \"B\", \"C\", \"D\"))\n",
        "my_df3"
      ],
      "id": "e294f999-6d91-4eea-895e-7e9f8cb78a2a"
    },
    {
      "cell_type": "code",
      "execution_count": null,
      "metadata": {
        "id": "83d57218-5581-4b0e-980a-df5949f7707c"
      },
      "outputs": [],
      "source": [
        "tmp <- data.frame(\n",
        "  name    = \"E\",\n",
        "  english =  80,\n",
        "  math    =  80,\n",
        "  gender  = \"m\")\n",
        "my_df2 <- rbind(my_df, tmp)"
      ],
      "id": "83d57218-5581-4b0e-980a-df5949f7707c"
    },
    {
      "cell_type": "code",
      "execution_count": null,
      "metadata": {
        "id": "5a551c7b-4716-48f1-af19-4e89bbb90680"
      },
      "outputs": [],
      "source": [
        "my_df2 <- my_df %>%\n",
        "  mutate(id = c(1, 2, 3, 4))"
      ],
      "id": "5a551c7b-4716-48f1-af19-4e89bbb90680"
    },
    {
      "cell_type": "code",
      "execution_count": null,
      "metadata": {
        "id": "5fcf0ff1-895d-4168-bd7c-5736beb473c6"
      },
      "outputs": [],
      "source": [
        "my_df3 <- my_df               # コピー\n",
        "my_df3[\"id\"] <- c(1, 2, 3, 4) # 更新\n",
        "my_df3 # 結果の確認（割愛）"
      ],
      "id": "5fcf0ff1-895d-4168-bd7c-5736beb473c6"
    },
    {
      "cell_type": "code",
      "execution_count": null,
      "metadata": {
        "id": "918bb4a5-7447-4d8c-9a9f-e345241bea3f"
      },
      "outputs": [],
      "source": [
        "my_df[1, 2]"
      ],
      "id": "918bb4a5-7447-4d8c-9a9f-e345241bea3f"
    },
    {
      "cell_type": "code",
      "execution_count": null,
      "metadata": {
        "id": "df3008b6-8aed-42c9-bd5c-144a73a4a8ac"
      },
      "outputs": [],
      "source": [
        "x <- my_df[, 2]\n",
        "# あるいは\n",
        "x <- my_df$english\n",
        "# あるいは\n",
        "x <- my_df$\"english\"\n",
        "# あるいは\n",
        "x <- my_df[[\"english\"]]\n",
        "# あるいは\n",
        "tmp <- \"english\"\n",
        "x <- my_df[[tmp]]\n",
        "\n",
        "x # 結果の確認（割愛）"
      ],
      "id": "df3008b6-8aed-42c9-bd5c-144a73a4a8ac"
    },
    {
      "cell_type": "code",
      "execution_count": null,
      "metadata": {
        "id": "278cc0a5-4e92-4eae-a620-fbfbefa1d160"
      },
      "outputs": [],
      "source": [
        "x <- my_df %>% select(name, math)"
      ],
      "id": "278cc0a5-4e92-4eae-a620-fbfbefa1d160"
    },
    {
      "cell_type": "code",
      "execution_count": null,
      "metadata": {
        "id": "86859424-5996-4ca6-b65c-cc95bfab71a6"
      },
      "outputs": [],
      "source": [
        "x <- my_df[, c(1, 3)]"
      ],
      "id": "86859424-5996-4ca6-b65c-cc95bfab71a6"
    },
    {
      "cell_type": "code",
      "execution_count": null,
      "metadata": {
        "id": "72fd62cc-b646-4ba4-8a6c-eabe04f2f90a"
      },
      "outputs": [],
      "source": [
        "x <- my_df %>%\n",
        "  select(-c(english, gender))\n",
        "# あるいは\n",
        "x <- my_df[, -c(2, 4)]"
      ],
      "id": "72fd62cc-b646-4ba4-8a6c-eabe04f2f90a"
    },
    {
      "cell_type": "code",
      "execution_count": null,
      "metadata": {
        "id": "b95d7738-9f39-4f63-85db-94514eefc00e"
      },
      "outputs": [],
      "source": [
        "x <- my_df[c(1, 3), ]"
      ],
      "id": "b95d7738-9f39-4f63-85db-94514eefc00e"
    },
    {
      "cell_type": "code",
      "execution_count": null,
      "metadata": {
        "id": "ec34b328-ae0c-494e-8e6e-9743a37bce79"
      },
      "outputs": [],
      "source": [
        "x <- my_df[-c(2, 4), ]"
      ],
      "id": "ec34b328-ae0c-494e-8e6e-9743a37bce79"
    },
    {
      "cell_type": "code",
      "execution_count": null,
      "metadata": {
        "id": "a084fc8a-c4c6-45cc-b167-e7763e65fa0f"
      },
      "outputs": [],
      "source": [
        "x <- my_df[my_df$gender == \"m\", ]\n",
        "# あるいは\n",
        "x <- my_df %>% filter(gender == \"m\")"
      ],
      "id": "a084fc8a-c4c6-45cc-b167-e7763e65fa0f"
    },
    {
      "cell_type": "code",
      "execution_count": null,
      "metadata": {
        "id": "143fb1a0-db72-46cf-a692-b78787b0bd2f"
      },
      "outputs": [],
      "source": [
        "x <- my_df[my_df$english > 80 & my_df$gender == \"m\", ]\n",
        "# あるいは\n",
        "x <- my_df %>% filter(english > 80 & gender == \"m\")"
      ],
      "id": "143fb1a0-db72-46cf-a692-b78787b0bd2f"
    },
    {
      "cell_type": "code",
      "execution_count": null,
      "metadata": {
        "id": "32888eb8-2aa3-4053-8b2e-9858006ed6a5"
      },
      "outputs": [],
      "source": [
        "x <- my_df[my_df$english == max(my_df$english), ]\n",
        "# あるいは\n",
        "x <- my_df %>% filter(english == max(my_df$english))"
      ],
      "id": "32888eb8-2aa3-4053-8b2e-9858006ed6a5"
    },
    {
      "cell_type": "code",
      "execution_count": null,
      "metadata": {
        "id": "ca35b537-567e-4554-9da1-53ff56f4fe12"
      },
      "outputs": [],
      "source": [
        "my_df2 <- my_df # コピー\n",
        "my_df2[my_df$gender == \"m\", ]$gender <- \"M\""
      ],
      "id": "ca35b537-567e-4554-9da1-53ff56f4fe12"
    },
    {
      "cell_type": "code",
      "execution_count": null,
      "metadata": {
        "id": "07771eed-6407-4974-83c0-f27f7a4abdeb"
      },
      "outputs": [],
      "source": [
        "my_df2"
      ],
      "id": "07771eed-6407-4974-83c0-f27f7a4abdeb"
    },
    {
      "cell_type": "code",
      "execution_count": null,
      "metadata": {
        "id": "8dbd716c-3429-4797-b7a9-da0e80f6cdd2"
      },
      "outputs": [],
      "source": [
        "x <- my_df %>% arrange(english)"
      ],
      "id": "8dbd716c-3429-4797-b7a9-da0e80f6cdd2"
    },
    {
      "cell_type": "code",
      "execution_count": null,
      "metadata": {
        "id": "3fa07f5c-8963-4a24-8641-6b7b37408e19"
      },
      "outputs": [],
      "source": [
        "x <- my_df %>% arrange(-english)"
      ],
      "id": "3fa07f5c-8963-4a24-8641-6b7b37408e19"
    },
    {
      "cell_type": "code",
      "execution_count": null,
      "metadata": {
        "id": "ab6a0e1b-35cc-4248-bb34-498418252a0a"
      },
      "outputs": [],
      "source": [
        "x <- c(2, 3, 5, 7, 11, 13, 17, 19, 23,\n",
        "       29, 31, 37)\n",
        "A <- matrix(\n",
        "  data = x,     # 1次元データ\n",
        "  nrow = 3,     # 行数\n",
        "  byrow = TRUE) # 行ごとの生成\n",
        "A"
      ],
      "id": "ab6a0e1b-35cc-4248-bb34-498418252a0a"
    },
    {
      "cell_type": "code",
      "execution_count": null,
      "metadata": {
        "id": "1e425cf1-d313-4ef5-93ae-ab4d794264ea"
      },
      "outputs": [],
      "source": [
        "A <- my_df[, c(2, 3)] %>% as.matrix\n",
        "A"
      ],
      "id": "1e425cf1-d313-4ef5-93ae-ab4d794264ea"
    },
    {
      "cell_type": "code",
      "execution_count": null,
      "metadata": {
        "id": "fdc0307a-b843-46e4-a200-7790c2f1b7ac"
      },
      "outputs": [],
      "source": [
        "as.data.frame(A)"
      ],
      "id": "fdc0307a-b843-46e4-a200-7790c2f1b7ac"
    },
    {
      "cell_type": "code",
      "execution_count": null,
      "metadata": {
        "id": "b1896c76-dbf4-46d7-8583-60b9ddb7ac22"
      },
      "outputs": [],
      "source": [
        "t(A)"
      ],
      "id": "b1896c76-dbf4-46d7-8583-60b9ddb7ac22"
    },
    {
      "cell_type": "code",
      "execution_count": null,
      "metadata": {
        "id": "096543e4-b30a-4d59-97a5-d2aaff5e8e11"
      },
      "outputs": [],
      "source": [
        "t(A) %*% A"
      ],
      "id": "096543e4-b30a-4d59-97a5-d2aaff5e8e11"
    },
    {
      "cell_type": "code",
      "execution_count": null,
      "metadata": {
        "id": "f1cbe002-6154-455a-a02c-e87be2836ad4"
      },
      "outputs": [],
      "source": [
        "my_wider <- data.frame(\n",
        "  day = c(25, 26, 27),\n",
        "  min = c(20, 21, 15),\n",
        "  max = c(24, 27, 21))"
      ],
      "id": "f1cbe002-6154-455a-a02c-e87be2836ad4"
    },
    {
      "cell_type": "code",
      "execution_count": null,
      "metadata": {
        "id": "f2468c02-36f6-4e7a-ba32-90583be02e69"
      },
      "outputs": [],
      "source": [
        "my_longer <- my_wider %>%\n",
        "  pivot_longer(-day)\n",
        "my_longer"
      ],
      "id": "f2468c02-36f6-4e7a-ba32-90583be02e69"
    },
    {
      "cell_type": "code",
      "execution_count": null,
      "metadata": {
        "id": "d4337b44-3ea6-4c32-9a67-98a5d2592081"
      },
      "outputs": [],
      "source": [
        "my_longer %>% pivot_wider()"
      ],
      "id": "d4337b44-3ea6-4c32-9a67-98a5d2592081"
    },
    {
      "cell_type": "code",
      "execution_count": null,
      "metadata": {
        "id": "d7b8f5e7-4767-49c1-8453-87ffac086de9"
      },
      "outputs": [],
      "source": [
        "my_longer %>%\n",
        "  ggplot(aes(x = day, y = value,\n",
        "             color = name)) +\n",
        "  geom_point() +\n",
        "  geom_line() +\n",
        "  ylab(\"temperature\") + # y軸ラベル\n",
        "  scale_x_continuous(\n",
        "    breaks = my_longer$day) # x軸目盛り"
      ],
      "id": "d7b8f5e7-4767-49c1-8453-87ffac086de9"
    },
    {
      "id": "f30659e1",
      "cell_type": "markdown",
      "source": [
        "## 3.5 1次元データの（非）類似度"
      ],
      "metadata": {
        "id": "f30659e1"
      }
    },
    {
      "cell_type": "code",
      "execution_count": null,
      "metadata": {
        "id": "d14f8911-a645-47af-a19d-a388399bddc7"
      },
      "outputs": [],
      "source": [
        "A <- c(3,   4,  5)\n",
        "B <- c(3,   4, 29)\n",
        "C <- c(9, -18,  8)\n",
        "AB <- B - A\n",
        "AC <- C - A\n",
        "\n",
        "sum(AB^2)^0.5\n",
        "\n",
        "sum(AC^2)^0.5"
      ],
      "id": "d14f8911-a645-47af-a19d-a388399bddc7"
    },
    {
      "cell_type": "code",
      "execution_count": null,
      "metadata": {
        "id": "bde5ab03-5560-4475-9d71-ec3e93db370d"
      },
      "outputs": [],
      "source": [
        "sum(abs(AB))\n",
        "\n",
        "sum(abs(AC))"
      ],
      "id": "bde5ab03-5560-4475-9d71-ec3e93db370d"
    },
    {
      "cell_type": "code",
      "execution_count": null,
      "metadata": {
        "id": "419f436e-428c-46b2-9e55-243f754ac2a0"
      },
      "outputs": [],
      "source": [
        "sum(A * B) /\n",
        "  sum(A * A)^0.5 / sum(B * B)^0.5\n",
        "\n",
        "sum(A * C) /\n",
        "  sum(A * A)^0.5 / sum(C * C)^0.5"
      ],
      "id": "419f436e-428c-46b2-9e55-243f754ac2a0"
    },
    {
      "cell_type": "code",
      "execution_count": null,
      "metadata": {
        "id": "a8fe5664-1bcc-4eba-9f74-725ed3bd7c9b"
      },
      "outputs": [],
      "source": [
        "cor(A, B)\n",
        "\n",
        "cor(A, C)"
      ],
      "id": "a8fe5664-1bcc-4eba-9f74-725ed3bd7c9b"
    },
    {
      "cell_type": "code",
      "execution_count": null,
      "metadata": {
        "id": "482f9208-e98b-4bcf-bb8d-1d6efd67dcff"
      },
      "outputs": [],
      "source": [
        "library(tidyverse)\n",
        "\n",
        "\n",
        "\n",
        "my_df <- data.frame(\n",
        "  x = c(3,  3,   9),\n",
        "  y = c(4,  4, -18),\n",
        "  z = c(5, 29,   8),\n",
        "  row.names = c(\"A\", \"B\", \"C\"))\n",
        "\n",
        "# ユークリッド距離\n",
        "my_df %>% proxy::dist(\"Euclidean\")\n",
        "\n",
        "\n",
        "# マンハッタン距離\n",
        "my_df %>% proxy::dist(\"Manhattan\")\n",
        "\n",
        "\n",
        "# コサイン類似度\n",
        "my_df %>% proxy::simil(\"cosine\")\n",
        "\n",
        "\n",
        "# 相関係数\n",
        "my_df %>% proxy::simil(\"correlation\")"
      ],
      "id": "482f9208-e98b-4bcf-bb8d-1d6efd67dcff"
    },
    {
      "id": "c8b2a890",
      "cell_type": "markdown",
      "source": [
        "## 3.6 Rのパッケージ，Pythonのモジュール"
      ],
      "metadata": {
        "id": "c8b2a890"
      }
    },
    {
      "cell_type": "code",
      "execution_count": null,
      "metadata": {
        "id": "224a8dce-4773-45b2-ab74-dce9ce3b4e90"
      },
      "outputs": [],
      "source": [
        "library(tidyverse)"
      ],
      "id": "224a8dce-4773-45b2-ab74-dce9ce3b4e90"
    },
    {
      "id": "317588b0",
      "cell_type": "markdown",
      "source": [
        "## 3.7 反復処理"
      ],
      "metadata": {
        "id": "317588b0"
      }
    },
    {
      "cell_type": "code",
      "execution_count": null,
      "metadata": {
        "id": "b7ad3b1d-1204-4ab6-bf51-edf45e959242"
      },
      "outputs": [],
      "source": [
        "library(tidyverse)"
      ],
      "id": "b7ad3b1d-1204-4ab6-bf51-edf45e959242"
    },
    {
      "cell_type": "code",
      "execution_count": null,
      "metadata": {
        "id": "d86bc777-5aaa-42bf-8f99-46647400af2f"
      },
      "outputs": [],
      "source": [
        "f1 <- function(x) {\n",
        "  tmp <- runif(x)\n",
        "  mean(tmp)\n",
        "}\n",
        "\n",
        "f1(10)           # 動作確認"
      ],
      "id": "d86bc777-5aaa-42bf-8f99-46647400af2f"
    },
    {
      "cell_type": "code",
      "execution_count": null,
      "metadata": {
        "id": "16f68279-51a6-42b7-ae5a-554b75484766"
      },
      "outputs": [],
      "source": [
        "replicate(n = 3, expr = f1(10))"
      ],
      "id": "16f68279-51a6-42b7-ae5a-554b75484766"
    },
    {
      "cell_type": "code",
      "execution_count": null,
      "metadata": {
        "id": "f255a05c-21f3-43e6-8f96-fa7cfdffafc8"
      },
      "outputs": [],
      "source": [
        "rep(x = f1(10), times = 3)"
      ],
      "id": "f255a05c-21f3-43e6-8f96-fa7cfdffafc8"
    },
    {
      "cell_type": "code",
      "execution_count": null,
      "metadata": {
        "id": "cd95a8d9-dc4e-4d6a-a245-60ac245a984f"
      },
      "outputs": [],
      "source": [
        "v <- c(5, 10, 100)\n",
        "v %>% map_dbl(f1)"
      ],
      "id": "cd95a8d9-dc4e-4d6a-a245-60ac245a984f"
    },
    {
      "cell_type": "code",
      "execution_count": null,
      "metadata": {
        "id": "e179c3a8-467f-4ee4-9d81-9ade45753e89"
      },
      "outputs": [],
      "source": [
        "rep(x = 10, times = 3) %>% map_dbl(f1)\n",
        "# 結果は割愛"
      ],
      "id": "e179c3a8-467f-4ee4-9d81-9ade45753e89"
    },
    {
      "cell_type": "code",
      "execution_count": null,
      "metadata": {
        "id": "336ef165-ec76-4b99-aeb7-8d98aeb1c5b4"
      },
      "outputs": [],
      "source": [
        "f2 <- function(n) {\n",
        "  tmp <- runif(n)\n",
        "  list(x = n,\n",
        "       p = mean(tmp),\n",
        "       q = sd(tmp))\n",
        "}\n",
        "\n",
        "f2(10) # 動作確認"
      ],
      "id": "336ef165-ec76-4b99-aeb7-8d98aeb1c5b4"
    },
    {
      "cell_type": "code",
      "execution_count": null,
      "metadata": {
        "id": "f652bd90-61b4-488f-9bdb-6f812a08c87b"
      },
      "outputs": [],
      "source": [
        "v <- c(5, 10, 100)\n",
        "v %>% map_dfr(f2)"
      ],
      "id": "f652bd90-61b4-488f-9bdb-6f812a08c87b"
    },
    {
      "cell_type": "code",
      "execution_count": null,
      "metadata": {
        "id": "0caa7fe1-15de-4539-b94c-5be8cdda9945"
      },
      "outputs": [],
      "source": [
        "f3 <- function(x, y) {\n",
        "  tmp <- runif(x, min = 1,\n",
        "                  max = y + 1) %>%\n",
        "    as.integer\n",
        "  list(x = x,\n",
        "       y = y,\n",
        "       p = mean(tmp),\n",
        "       q = sd(tmp))\n",
        "}\n",
        "\n",
        "f3(x = 10, y = 6) # 動作確認"
      ],
      "id": "0caa7fe1-15de-4539-b94c-5be8cdda9945"
    },
    {
      "cell_type": "code",
      "execution_count": null,
      "metadata": {
        "id": "952c48bf-fe20-4899-9ca5-e923f4f27d36"
      },
      "outputs": [],
      "source": [
        "my_df <- data.frame(\n",
        "  x = c(5, 10, 100,  5, 10, 100),\n",
        "  y = c(6,  6,   6, 12, 12,  12))\n",
        "\n",
        "my_df %>% pmap_dfr(f3)"
      ],
      "id": "952c48bf-fe20-4899-9ca5-e923f4f27d36"
    },
    {
      "cell_type": "code",
      "execution_count": null,
      "metadata": {
        "id": "f8e48f74-e0ff-4882-9f21-e65ae0fb66eb"
      },
      "outputs": [],
      "source": [
        "library(furrr)\n",
        "plan(multisession) # 準備\n",
        "\n",
        "v <- c(5, 10, 100)\n",
        "v %>% future_map_dbl(f1, .options =\n",
        "  furrr_options(seed = TRUE))\n",
        "# 結果は割愛"
      ],
      "id": "f8e48f74-e0ff-4882-9f21-e65ae0fb66eb"
    },
    {
      "id": "cc8e45e9",
      "cell_type": "markdown",
      "source": [
        "## 3.8 その他"
      ],
      "metadata": {
        "id": "cc8e45e9"
      }
    },
    {
      "cell_type": "code",
      "execution_count": null,
      "metadata": {
        "id": "03bd5111-e033-4fc1-b3a8-347189857580"
      },
      "outputs": [],
      "source": [
        "x <- 123\n",
        "typeof(x)"
      ],
      "id": "03bd5111-e033-4fc1-b3a8-347189857580"
    },
    {
      "cell_type": "code",
      "execution_count": null,
      "metadata": {
        "id": "0cabd75c-c761-4ad0-abc8-61815c18182e"
      },
      "outputs": [],
      "source": [
        "?log\n",
        "# あるいは\n",
        "help(log)"
      ],
      "id": "0cabd75c-c761-4ad0-abc8-61815c18182e"
    },
    {
      "cell_type": "code",
      "execution_count": null,
      "metadata": {
        "id": "d3c5ffb9-e72c-4bcb-8ad1-0e6c880bcf6f"
      },
      "outputs": [],
      "source": [
        "v <- c(1, NA, 3)\n",
        "v"
      ],
      "id": "d3c5ffb9-e72c-4bcb-8ad1-0e6c880bcf6f"
    },
    {
      "cell_type": "code",
      "execution_count": null,
      "metadata": {
        "id": "d3949fe8-58d8-4d34-87f8-279ac7d7e36d"
      },
      "outputs": [],
      "source": [
        "is.na(v[2])\n",
        "\n",
        "v[2] == NA # 誤り"
      ],
      "id": "d3949fe8-58d8-4d34-87f8-279ac7d7e36d"
    },
    {
      "id": "88e0e27f",
      "cell_type": "markdown",
      "source": [
        "# 4 統計入門"
      ],
      "metadata": {
        "id": "88e0e27f"
      }
    },
    {
      "cell_type": "code",
      "execution_count": null,
      "metadata": {
        "id": "d7c411be-e5d8-4b75-aa1a-99aae304cc7a"
      },
      "outputs": [],
      "source": [
        "# Google Colaboratoryの環境設定\n",
        "if (file.exists(\"/content\")) {\n",
        "  options(Ncpus = parallel::detectCores())\n",
        "  packages_to_install <- c(\"exactci\", \"ggmosaic\", \"pastecs\", \"psych\", \"vcd\")\n",
        "  installed_packages <- rownames(installed.packages())\n",
        "  install.packages(setdiff(packages_to_install, installed_packages))\n",
        "}"
      ],
      "id": "d7c411be-e5d8-4b75-aa1a-99aae304cc7a"
    },
    {
      "id": "50294b38",
      "cell_type": "markdown",
      "source": [
        "## 4.1 記述統計"
      ],
      "metadata": {
        "id": "50294b38"
      }
    },
    {
      "cell_type": "code",
      "execution_count": null,
      "metadata": {
        "id": "75934537-cb9d-4df2-aa43-bbdc4ac744e8"
      },
      "outputs": [],
      "source": [
        "x <- c(165, 170, 175, 180, 185)\n",
        "mean(x) # 平均"
      ],
      "id": "75934537-cb9d-4df2-aa43-bbdc4ac744e8"
    },
    {
      "cell_type": "code",
      "execution_count": null,
      "metadata": {
        "id": "6307da8d-1de3-447c-b11a-bc7ced583eb3"
      },
      "outputs": [],
      "source": [
        "n <- length(x) # サンプルサイズ\n",
        "sum(x) / n"
      ],
      "id": "6307da8d-1de3-447c-b11a-bc7ced583eb3"
    },
    {
      "cell_type": "code",
      "execution_count": null,
      "metadata": {
        "id": "b0b65929-e82e-4156-823f-65f69317230f"
      },
      "outputs": [],
      "source": [
        "y <- c(173, 174, 175, 176, 177)\n",
        "mean(y)"
      ],
      "id": "b0b65929-e82e-4156-823f-65f69317230f"
    },
    {
      "cell_type": "code",
      "execution_count": null,
      "metadata": {
        "id": "71527c4d-cdbb-4249-8b9a-09026d92f9c0"
      },
      "outputs": [],
      "source": [
        "var(x) # xの分散\n",
        "\n",
        "var(y) # yの分散"
      ],
      "id": "71527c4d-cdbb-4249-8b9a-09026d92f9c0"
    },
    {
      "cell_type": "code",
      "execution_count": null,
      "metadata": {
        "id": "621648af-6517-49ee-8966-03dd49cffb41"
      },
      "outputs": [],
      "source": [
        "sum((x - mean(x))^2) / (n - 1)"
      ],
      "id": "621648af-6517-49ee-8966-03dd49cffb41"
    },
    {
      "cell_type": "code",
      "execution_count": null,
      "metadata": {
        "id": "537e40c5-5e61-4ac5-8ec6-9439a1a9762f"
      },
      "outputs": [],
      "source": [
        "sd(x) # xの標準偏差\n",
        "\n",
        "sd(y) # yの標準偏差"
      ],
      "id": "537e40c5-5e61-4ac5-8ec6-9439a1a9762f"
    },
    {
      "cell_type": "code",
      "execution_count": null,
      "metadata": {
        "id": "16ab0ed2-4e93-41bf-9326-2aec9abaa8b0"
      },
      "outputs": [],
      "source": [
        "var(x)**0.5 # xの標準偏差"
      ],
      "id": "16ab0ed2-4e93-41bf-9326-2aec9abaa8b0"
    },
    {
      "cell_type": "code",
      "execution_count": null,
      "metadata": {
        "id": "2b75fffa-83d3-4ce2-9b8c-54df291cc4f4"
      },
      "outputs": [],
      "source": [
        "psych::describe(x)\n",
        "\n",
        "# あるいは\n",
        "\n",
        "pastecs::stat.desc(x)"
      ],
      "id": "2b75fffa-83d3-4ce2-9b8c-54df291cc4f4"
    },
    {
      "cell_type": "code",
      "execution_count": null,
      "metadata": {
        "id": "47edfb1e-99f3-40c8-bfbe-505370248e95"
      },
      "outputs": [],
      "source": [
        "quantile(x)"
      ],
      "id": "47edfb1e-99f3-40c8-bfbe-505370248e95"
    },
    {
      "cell_type": "code",
      "execution_count": null,
      "metadata": {
        "id": "4bc4314c-3a9d-4e20-89d2-2a87345caba1"
      },
      "outputs": [],
      "source": [
        "x <- c(165, 170, 175, 180, 185)\n",
        "\n",
        "var(x)                # 不偏分散\n",
        "\n",
        "mean((x - mean(x))^2) # 標本分散\n",
        "# あるいは\n",
        "n <- length(x)\n",
        "var(x) * (n - 1) / n  # 標本分散"
      ],
      "id": "4bc4314c-3a9d-4e20-89d2-2a87345caba1"
    },
    {
      "cell_type": "code",
      "execution_count": null,
      "metadata": {
        "id": "0cbe3fd9-6df4-4283-9ae6-ef3dd6f96d95"
      },
      "outputs": [],
      "source": [
        "sd(x)                     # √不偏分散\n",
        "\n",
        "mean((x - mean(x))^2)^0.5 # √標本分散\n",
        "# あるいは\n",
        "sd(x) * sqrt((n - 1) / n) # √標本分散"
      ],
      "id": "0cbe3fd9-6df4-4283-9ae6-ef3dd6f96d95"
    },
    {
      "cell_type": "code",
      "execution_count": null,
      "metadata": {
        "id": "ef1db35f-6acb-4889-8115-28d28b29ce17"
      },
      "outputs": [],
      "source": [
        "sd(x) / length(x)**0.5"
      ],
      "id": "ef1db35f-6acb-4889-8115-28d28b29ce17"
    },
    {
      "cell_type": "code",
      "execution_count": null,
      "metadata": {
        "id": "332fe843-0778-4b12-9fff-2b43596c830c"
      },
      "outputs": [],
      "source": [
        "library(tidyverse)\n",
        "\n",
        "my_df <- data.frame(\n",
        "  name    = c(\"A\", \"B\", \"C\", \"D\"),\n",
        "  english = c( 60,  90,  70,  90),\n",
        "  math    = c( 70,  80,  90, 100),\n",
        "  gender  = c(\"f\", \"m\", \"m\", \"f\"))"
      ],
      "id": "332fe843-0778-4b12-9fff-2b43596c830c"
    },
    {
      "cell_type": "code",
      "execution_count": null,
      "metadata": {
        "id": "caf3ce7f-cb7b-41a2-80a2-da41ad2c9538"
      },
      "outputs": [],
      "source": [
        "var(my_df$english)"
      ],
      "id": "caf3ce7f-cb7b-41a2-80a2-da41ad2c9538"
    },
    {
      "cell_type": "code",
      "execution_count": null,
      "metadata": {
        "id": "21a4dab3-6811-43b7-9f45-82c62f0bf859"
      },
      "outputs": [],
      "source": [
        "# 結果はベクタ\n",
        "my_df[, c(2, 3)] %>% sapply(var)\n",
        "\n",
        "# 結果はリスト\n",
        "my_df[, c(2, 3)] %>% lapply(var)\n",
        "\n",
        "# 結果はデータフレーム\n",
        "my_df[, c(2, 3)] %>% # 2, 3列目\n",
        "  summarize(across(  # の\n",
        "    everything(),    # 全ての\n",
        "    var))            # 不偏分散\n",
        "# あるいは\n",
        "my_df %>%              # データフレーム\n",
        "  summarize(across(    # の\n",
        "    where(is.numeric), # 数値の列の\n",
        "    var))              # 不偏分散\n",
        "# あるいは\n",
        "my_df %>%              # データフレーム\n",
        "  summarize(across(    # の\n",
        "    where(is.numeric), # 数値の列の\n",
        "    function(x) { var(x) })) # 不偏分散\n"
      ],
      "id": "21a4dab3-6811-43b7-9f45-82c62f0bf859"
    },
    {
      "cell_type": "code",
      "execution_count": null,
      "metadata": {
        "id": "49cbde6f-18d7-4b21-95a0-16cee9aa2313"
      },
      "outputs": [],
      "source": [
        "psych::describe(my_df)\n",
        "\n",
        "# あるいは\n",
        "\n",
        "pastecs::stat.desc(my_df)\n",
        "# 以下省略"
      ],
      "id": "49cbde6f-18d7-4b21-95a0-16cee9aa2313"
    },
    {
      "cell_type": "code",
      "execution_count": null,
      "metadata": {
        "id": "414c96a1-e2d2-4cb9-b18c-2776f218b12b"
      },
      "outputs": [],
      "source": [
        "table(my_df$gender)\n"
      ],
      "id": "414c96a1-e2d2-4cb9-b18c-2776f218b12b"
    },
    {
      "cell_type": "code",
      "execution_count": null,
      "metadata": {
        "id": "0b457dfe-a1cf-410c-9ded-072ec5ca288f"
      },
      "outputs": [],
      "source": [
        "my_df2 <- data.frame(\n",
        "  gender = my_df$gender,\n",
        "  excel = my_df$math >= 80)\n",
        "table(my_df2)\n"
      ],
      "id": "0b457dfe-a1cf-410c-9ded-072ec5ca288f"
    },
    {
      "cell_type": "code",
      "execution_count": null,
      "metadata": {
        "id": "0bf20769-f5af-44de-9f93-5ff3e4d3d300"
      },
      "outputs": [],
      "source": [
        "my_df %>% group_by(gender) %>%\n",
        "  summarize(across(\n",
        "    where(is.numeric), mean),\n",
        "    .groups = \"drop\") # グループ化解除\n"
      ],
      "id": "0bf20769-f5af-44de-9f93-5ff3e4d3d300"
    },
    {
      "id": "309ee210",
      "cell_type": "markdown",
      "source": [
        "## 4.2 データの可視化"
      ],
      "metadata": {
        "id": "309ee210"
      }
    },
    {
      "cell_type": "code",
      "execution_count": null,
      "metadata": {
        "id": "9f3a41d0-5c3a-4983-bd8a-a0dbf17ea6c7"
      },
      "outputs": [],
      "source": [
        "head(iris)"
      ],
      "id": "9f3a41d0-5c3a-4983-bd8a-a0dbf17ea6c7"
    },
    {
      "cell_type": "code",
      "execution_count": null,
      "metadata": {
        "id": "53278c58-cadd-406c-ba0a-9f6572d7089c"
      },
      "outputs": [],
      "source": [
        "hist(iris$Sepal.Length)"
      ],
      "id": "53278c58-cadd-406c-ba0a-9f6572d7089c"
    },
    {
      "cell_type": "code",
      "execution_count": null,
      "metadata": {
        "id": "257fa4cd-4a7f-4402-afb3-cf074f5d1b19"
      },
      "outputs": [],
      "source": [
        "x <- c(10, 20, 30)\n",
        "hist(x, breaks = 2) # 階級数は2"
      ],
      "id": "257fa4cd-4a7f-4402-afb3-cf074f5d1b19"
    },
    {
      "cell_type": "code",
      "execution_count": null,
      "metadata": {
        "id": "b0f629ca-594c-48f6-9404-5fbc83191f97"
      },
      "outputs": [],
      "source": [
        "x <- iris$Sepal.Length\n",
        "tmp <- seq(min(x), max(x),\n",
        "           length.out = 10)\n",
        "hist(x, breaks = tmp, right = FALSE)"
      ],
      "id": "b0f629ca-594c-48f6-9404-5fbc83191f97"
    },
    {
      "cell_type": "code",
      "execution_count": null,
      "metadata": {
        "id": "708973b1-0669-4889-af5b-0dad5245b203"
      },
      "outputs": [],
      "source": [
        "plot(iris$Sepal.Length,\n",
        "     iris$Sepal.Width)"
      ],
      "id": "708973b1-0669-4889-af5b-0dad5245b203"
    },
    {
      "cell_type": "code",
      "execution_count": null,
      "metadata": {
        "id": "b9c0aec3-fb29-4d78-8641-37ccc6f9b520"
      },
      "outputs": [],
      "source": [
        "boxplot(iris[, -5])"
      ],
      "id": "b9c0aec3-fb29-4d78-8641-37ccc6f9b520"
    },
    {
      "cell_type": "code",
      "execution_count": null,
      "metadata": {
        "id": "19eeb55e-4a4f-4386-9546-4b4d1469eaa5"
      },
      "outputs": [],
      "source": [
        "library(tidyverse)\n",
        "my_df <- psych::describe(iris[, -5])\n",
        "my_df %>% select(mean, sd, se)"
      ],
      "id": "19eeb55e-4a4f-4386-9546-4b4d1469eaa5"
    },
    {
      "cell_type": "code",
      "execution_count": null,
      "metadata": {
        "id": "805f6cda-3360-49a5-a8ac-f376d4cd92b5"
      },
      "outputs": [],
      "source": [
        "tmp <- rownames(my_df)\n",
        "my_df %>% ggplot(aes(x = factor(tmp, levels = tmp), y = mean)) +\n",
        "  geom_col() +\n",
        "  geom_errorbar(aes(ymin = mean - se, ymax = mean + se)) +\n",
        "  xlab(NULL)"
      ],
      "id": "805f6cda-3360-49a5-a8ac-f376d4cd92b5"
    },
    {
      "cell_type": "code",
      "execution_count": null,
      "metadata": {
        "id": "80e9dd66-5c40-4be6-86e3-989411b146b8"
      },
      "outputs": [],
      "source": [
        "my_group <- iris %>% group_by(Species)       # 品種ごとに，\n",
        "\n",
        "my_df <- my_group %>%                        # 各変数の，平均と\n",
        "  summarize(across(everything(), mean)) %>%\n",
        "  pivot_longer(-Species)\n",
        "\n",
        "tmp <- my_group %>%                          # 標準誤差を求める．\n",
        "  summarize(across(everything(), ~ sd(.) / length(.)**0.5)) %>%\n",
        "  pivot_longer(-Species)\n",
        "\n",
        "my_df$se <- tmp$value\n",
        "head(my_df)"
      ],
      "id": "80e9dd66-5c40-4be6-86e3-989411b146b8"
    },
    {
      "cell_type": "code",
      "execution_count": null,
      "metadata": {
        "id": "1d4e9cf1-2d2e-4664-9686-5e5b4a595a92"
      },
      "outputs": [],
      "source": [
        "my_df %>%\n",
        "  ggplot(aes(x = Species, y = value, fill = name)) +\n",
        "  geom_col(position = \"dodge\") +\n",
        "  geom_errorbar(aes(ymin = value - se, ymax = value + se), position = \"dodge\")"
      ],
      "id": "1d4e9cf1-2d2e-4664-9686-5e5b4a595a92"
    },
    {
      "cell_type": "code",
      "execution_count": null,
      "metadata": {
        "id": "d3fc1522-a946-43fd-adbb-811b11385c86"
      },
      "outputs": [],
      "source": [
        "# 各変数の平均\n",
        "iris %>% pivot_longer(-Species) %>%\n",
        "  ggplot(aes(x = name, y = value)) +\n",
        "  geom_bar(stat = \"summary\", fun = mean) +\n",
        "  stat_summary(geom = \"errorbar\", fun.data = mean_se) +\n",
        "  xlab(NULL)\n",
        "\n",
        "# 各変数の平均（品種ごと）\n",
        "iris %>% pivot_longer(-Species) %>%\n",
        "  ggplot(aes(x = Species, y = value, fill = name)) +\n",
        "  geom_bar(stat = \"summary\", fun = mean, position = \"dodge\") +\n",
        "  stat_summary(geom = \"errorbar\", fun.data = mean_se, position = \"dodge\")"
      ],
      "id": "d3fc1522-a946-43fd-adbb-811b11385c86"
    },
    {
      "cell_type": "code",
      "execution_count": null,
      "metadata": {
        "id": "7b615afc-fd3b-4656-98a6-0c5cd35fb32b"
      },
      "outputs": [],
      "source": [
        "my_df <- data.frame(\n",
        "  Species = iris$Species,\n",
        "  w_Sepal = iris$Sepal.Width > 3)\n",
        "table(my_df) # 分割表\n",
        "\n",
        "mosaicplot(\n",
        "  formula = ~ Species + w_Sepal,\n",
        "  data = my_df)"
      ],
      "id": "7b615afc-fd3b-4656-98a6-0c5cd35fb32b"
    },
    {
      "cell_type": "code",
      "execution_count": null,
      "metadata": {
        "id": "9af60bc2-684d-4ce3-a8ed-7b507f8a7c07"
      },
      "outputs": [],
      "source": [
        "library(vcd)\n",
        "vcd::mosaic(formula = ~w_Sepal + Species, data = my_df,\n",
        "            labeling = labeling_values)"
      ],
      "id": "9af60bc2-684d-4ce3-a8ed-7b507f8a7c07"
    },
    {
      "cell_type": "code",
      "execution_count": null,
      "metadata": {
        "id": "c2248ce2-0ee2-4d76-8b38-524036babf4c"
      },
      "outputs": [],
      "source": [
        "curve(x^3 - x, -2, 2)"
      ],
      "id": "c2248ce2-0ee2-4d76-8b38-524036babf4c"
    },
    {
      "cell_type": "code",
      "execution_count": null,
      "metadata": {
        "id": "80a0d968-6a25-406a-b672-d8fab9d51f94"
      },
      "outputs": [],
      "source": [
        "x <- iris$Sepal.Length\n",
        "tmp <- seq(min(x), max(x),\n",
        "           length.out = 10)\n",
        "iris %>%\n",
        "  ggplot(aes(x = Sepal.Length)) +\n",
        "  geom_histogram(breaks = tmp,\n",
        "                 closed = \"left\")"
      ],
      "id": "80a0d968-6a25-406a-b672-d8fab9d51f94"
    },
    {
      "cell_type": "code",
      "execution_count": null,
      "metadata": {
        "id": "cfb7d48f-ce30-4df6-8a60-2a0ed1aa2368"
      },
      "outputs": [],
      "source": [
        "iris %>%\n",
        "  ggplot(aes(x = Sepal.Length,\n",
        "             y = Sepal.Width)) +\n",
        "  geom_point()"
      ],
      "id": "cfb7d48f-ce30-4df6-8a60-2a0ed1aa2368"
    },
    {
      "cell_type": "code",
      "execution_count": null,
      "metadata": {
        "id": "40c812bc-722f-451a-a013-2827c60e2cf7"
      },
      "outputs": [],
      "source": [
        "iris %>%\n",
        "  pivot_longer(-Species) %>%\n",
        "  ggplot(aes(\n",
        "    x = factor(name,\n",
        "               levels = names(iris)),\n",
        "    y = value)) +\n",
        "  geom_boxplot() +\n",
        "  xlab(NULL)"
      ],
      "id": "40c812bc-722f-451a-a013-2827c60e2cf7"
    },
    {
      "cell_type": "code",
      "execution_count": null,
      "metadata": {
        "id": "9d1fcb62-1467-4fa8-b19e-82c0d57eaedf"
      },
      "outputs": [],
      "source": [
        "library(ggmosaic)\n",
        "my_df <- data.frame(\n",
        "  Species = iris$Species,\n",
        "  w_Sepal = iris$Sepal.Width > 3)\n",
        "my_df %>%\n",
        "  ggplot() +\n",
        "  geom_mosaic(\n",
        "    aes(x = product(w_Sepal, Species)))"
      ],
      "id": "9d1fcb62-1467-4fa8-b19e-82c0d57eaedf"
    },
    {
      "cell_type": "code",
      "execution_count": null,
      "metadata": {
        "id": "9e9a8187-1a8e-49e4-adcb-ae1e9b1aea07"
      },
      "outputs": [],
      "source": [
        "f <- function(x) { x^3 - x }\n",
        "data.frame(x = c(-2, 2)) %>%\n",
        "  ggplot(aes(x = x)) +\n",
        "  stat_function(fun = f)"
      ],
      "id": "9e9a8187-1a8e-49e4-adcb-ae1e9b1aea07"
    },
    {
      "id": "7645502c",
      "cell_type": "markdown",
      "source": [
        "## 4.3 乱数"
      ],
      "metadata": {
        "id": "7645502c"
      }
    },
    {
      "cell_type": "code",
      "execution_count": null,
      "metadata": {
        "id": "ae55c5ce-f9ee-4c43-b73c-9e18592b1595"
      },
      "outputs": [],
      "source": [
        "x <- sample(x = 1:6,        # 範囲\n",
        "            size = 10000,   # 乱数の数\n",
        "            replace = TRUE) # 重複あり\n",
        "hist(x, breaks = 0:6) # ヒストグラム"
      ],
      "id": "ae55c5ce-f9ee-4c43-b73c-9e18592b1595"
    },
    {
      "cell_type": "code",
      "execution_count": null,
      "metadata": {
        "id": "51c20e34-5558-46a1-b87a-bfec7392d50f"
      },
      "outputs": [],
      "source": [
        "x <- runif(min = 0,  # 最小\n",
        "           max = 1,  # 最大\n",
        "           n = 1000) # 乱数の数\n",
        "hist(x)"
      ],
      "id": "51c20e34-5558-46a1-b87a-bfec7392d50f"
    },
    {
      "cell_type": "code",
      "execution_count": null,
      "metadata": {
        "id": "111061ee-df8b-4abd-9e27-fb3e13c5003b"
      },
      "outputs": [],
      "source": [
        "x <- as.integer(      # 整数に変換\n",
        "  runif(min = 1,      # 最小\n",
        "        max = 7,      # 最大 + 1\n",
        "        n = 1000))    # 乱数の数\n",
        "hist(x, breaks = 0:6) # 結果は割愛"
      ],
      "id": "111061ee-df8b-4abd-9e27-fb3e13c5003b"
    },
    {
      "cell_type": "code",
      "execution_count": null,
      "metadata": {
        "id": "9c5a282d-00cd-4e18-b47b-02b945a6edd9"
      },
      "outputs": [],
      "source": [
        "n <- 100\n",
        "p <- 0.5\n",
        "r <- 10000\n",
        "x <- rbinom(size = n, # 試行回数\n",
        "            prob = p, # 確率\n",
        "            n = r)    # 乱数の数\n",
        "hist(x, breaks = max(x) - min(x))"
      ],
      "id": "9c5a282d-00cd-4e18-b47b-02b945a6edd9"
    },
    {
      "cell_type": "code",
      "execution_count": null,
      "metadata": {
        "id": "92fa34b4-1005-4363-9f29-f08b319c915d"
      },
      "outputs": [],
      "source": [
        "r <- 10000\n",
        "x <- rnorm(mean = 50, # 平均\n",
        "           sd = 5,    # 標準偏差\n",
        "           n = r)     # 乱数の数\n",
        "hist(x, breaks = 40)"
      ],
      "id": "92fa34b4-1005-4363-9f29-f08b319c915d"
    },
    {
      "cell_type": "code",
      "execution_count": null,
      "metadata": {
        "id": "88fae50b-8cdd-4871-a62a-2d816be99f61"
      },
      "outputs": [],
      "source": [
        "library(tidyverse)\n",
        "\n",
        "f <- function(k) {\n",
        "  n <- 10000\n",
        "  tmp <- replicate(n = n, expr = g(rnorm(n =  k, sd = 3)))\n",
        "  list(k = k,\n",
        "       mean = mean(tmp),       # 平均\n",
        "       se = sd(tmp) / sqrt(n)) # 標準誤差\n",
        "}"
      ],
      "id": "88fae50b-8cdd-4871-a62a-2d816be99f61"
    },
    {
      "cell_type": "code",
      "execution_count": null,
      "metadata": {
        "id": "f4b0653c-12a9-4823-83aa-8d390a9772eb"
      },
      "outputs": [],
      "source": [
        "g <- var\n",
        "c(10, 20, 30) %>% map_dfr(f)"
      ],
      "id": "f4b0653c-12a9-4823-83aa-8d390a9772eb"
    },
    {
      "cell_type": "code",
      "execution_count": null,
      "metadata": {
        "id": "d2d263b3-055c-4563-83d6-2165e7bbd19e"
      },
      "outputs": [],
      "source": [
        "g <- sd\n",
        "c(5, 10, 15, 20) %>% map_dfr(f)"
      ],
      "id": "d2d263b3-055c-4563-83d6-2165e7bbd19e"
    },
    {
      "cell_type": "code",
      "execution_count": null,
      "metadata": {
        "id": "7dcebb48-c052-406d-85ff-59bb9a5f0000"
      },
      "outputs": [],
      "source": [
        "g <- function(x) {\n",
        "  n <- length(x)\n",
        "  sd(x) *\n",
        "    sqrt((n - 1) / 2) *\n",
        "    gamma((n - 1) / 2) /\n",
        "    gamma(n / 2)\n",
        "}\n",
        "c(10, 20, 30) %>% map_dfr(f)"
      ],
      "id": "7dcebb48-c052-406d-85ff-59bb9a5f0000"
    },
    {
      "id": "71f02235",
      "cell_type": "markdown",
      "source": [
        "## 4.4 統計的推測"
      ],
      "metadata": {
        "id": "71f02235"
      }
    },
    {
      "cell_type": "code",
      "execution_count": null,
      "metadata": {
        "id": "e96f07cb-9d1c-4605-955a-b8b22aa6bf21"
      },
      "outputs": [],
      "source": [
        "library(exactci)\n",
        "library(tidyverse)\n",
        "\n",
        "a <- 0.05                              # 有意水準\n",
        "binom.exact(x = 2,                     # 当たった回数\n",
        "            n = 15,                    # くじを引いた回数\n",
        "            p = 4 / 10,                # 当たる確率（仮説）\n",
        "            plot = TRUE,               # p値の描画（結果は次項に掲載）\n",
        "            conf.level = 1 - a,        # 信頼係数（デフォルト）\n",
        "            tsmethod = \"minlike\",      # p値の定義\n",
        "            alternative = \"two.sided\") # 両側検定（デフォルト）\n",
        "                                       # 左片側検定なら'less'\n",
        "                                       # 右片側検定なら'greater'\n"
      ],
      "id": "e96f07cb-9d1c-4605-955a-b8b22aa6bf21"
    },
    {
      "cell_type": "code",
      "execution_count": null,
      "metadata": {
        "id": "92fc38d1-7196-43f3-809a-0ec46f08f1c4"
      },
      "outputs": [],
      "source": [
        "t <- 4 / 10               # 当たる確率\n",
        "n <- 15                   # くじを引いた回数\n",
        "x <- 0:n                  # 当たった回数\n",
        "my_pr  <- dbinom(x, n, t) # x回当たる確率\n",
        "my_pr2 <- dbinom(2, n, t) # 2回当たる確率\n",
        "\n",
        "my_data <- data.frame(x = x,\n",
        "                      probability = my_pr,\n",
        "                      color = my_pr <= my_pr2) # 当たる確率が，2回当たる確率以下\n",
        "\n",
        "my_data %>% ggplot(aes(x = x, y = probability, color = color)) +\n",
        "  geom_point(size = 3) +\n",
        "  geom_linerange(aes(ymin = 0, ymax = probability), ) + # 垂直線\n",
        "  geom_hline(yintercept = my_pr2) +                     # 水平線\n",
        "  theme(legend.position = \"none\")                       # 凡例を表示しない．"
      ],
      "id": "92fc38d1-7196-43f3-809a-0ec46f08f1c4"
    },
    {
      "cell_type": "code",
      "execution_count": null,
      "metadata": {
        "id": "57c02f6b-ce08-4395-9af1-0a644e87ffbe"
      },
      "outputs": [],
      "source": [
        "# 前項の結果（再掲）"
      ],
      "id": "57c02f6b-ce08-4395-9af1-0a644e87ffbe"
    },
    {
      "cell_type": "code",
      "execution_count": null,
      "metadata": {
        "id": "b5dcbd6a-b0c8-4d01-bfec-f9b3c61f44d8"
      },
      "outputs": [],
      "source": [
        "# 前項冒頭のコード"
      ],
      "id": "b5dcbd6a-b0c8-4d01-bfec-f9b3c61f44d8"
    },
    {
      "cell_type": "code",
      "execution_count": null,
      "metadata": {
        "id": "c95ad909-4a9c-4e14-a0ef-63eb11fd8ab3"
      },
      "outputs": [],
      "source": [
        "X <- c(32.1, 26.2, 27.5, 31.8, 32.1, 31.2, 30.1, 32.4, 32.3, 29.9,\n",
        "       29.6, 26.6, 31.2, 30.9, 29.3)\n",
        "Y <- c(35.4, 34.6, 31.1, 32.4, 33.3, 34.7, 35.3, 34.3, 32.1, 28.3,\n",
        "       33.3, 30.5, 32.6, 33.3, 32.2)\n",
        "\n",
        "t.test(x = X, y = Y,\n",
        "       conf.level = 0.95,         # 信頼係数（デフォルト）\n",
        "       paired = TRUE,             # 対標本である．\n",
        "       alternative = \"two.sided\") # 両側検定（デフォルト）\n",
        "                                  # 左片側検定なら'less'\n",
        "                                  # 右片側検定なら'greater'\n"
      ],
      "id": "c95ad909-4a9c-4e14-a0ef-63eb11fd8ab3"
    },
    {
      "cell_type": "code",
      "execution_count": null,
      "metadata": {
        "id": "fd1c5ede-ab8e-476c-b217-ff546df70527"
      },
      "outputs": [],
      "source": [
        "t.test(x = X, y = Y,\n",
        "       paired = FALSE,   # 対標本ではない（デフォルト）．\n",
        "       var.equal = TRUE, # 等分散を仮定する．仮定しないならFALSE（デフォルト）．\n",
        "       alternative = \"two.sided\",\n",
        "       conf.level = 0.95)\n"
      ],
      "id": "fd1c5ede-ab8e-476c-b217-ff546df70527"
    },
    {
      "cell_type": "code",
      "execution_count": null,
      "metadata": {
        "id": "d025ed6e-486c-4204-86f0-01a40e882ae8"
      },
      "outputs": [],
      "source": [
        "my_url <- str_c(\"https://raw.githubusercontent.com/taroyabuki\",\n",
        "                \"/fromzero/master/data/smoker.csv\")\n",
        "my_data <- read_csv(my_url)"
      ],
      "id": "d025ed6e-486c-4204-86f0-01a40e882ae8"
    },
    {
      "cell_type": "code",
      "execution_count": null,
      "metadata": {
        "id": "669b9a1e-2fc7-4a6d-a8a0-7823053f9cbd"
      },
      "outputs": [],
      "source": [
        "head(my_data)"
      ],
      "id": "669b9a1e-2fc7-4a6d-a8a0-7823053f9cbd"
    },
    {
      "cell_type": "code",
      "execution_count": null,
      "metadata": {
        "id": "c0cc62ba-b42e-4772-bfec-0a3bc09ce69b"
      },
      "outputs": [],
      "source": [
        "my_table <- table(my_data)\n",
        "my_table"
      ],
      "id": "c0cc62ba-b42e-4772-bfec-0a3bc09ce69b"
    },
    {
      "cell_type": "code",
      "execution_count": null,
      "metadata": {
        "id": "e39ca4b5-a89f-4960-a317-386d9fda74c3"
      },
      "outputs": [],
      "source": [
        "chisq.test(my_table, correct = FALSE)\n"
      ],
      "id": "e39ca4b5-a89f-4960-a317-386d9fda74c3"
    },
    {
      "cell_type": "code",
      "execution_count": null,
      "metadata": {
        "id": "59aebb99-9dee-4d12-b40b-b7614dabd99d"
      },
      "outputs": [],
      "source": [
        "X <- rep(0:1, c(13, 2)) # 手順1\n",
        "X\n",
        "\n",
        "tmp <- sample(X, size = length(X), replace = TRUE) # 手順2\n",
        "tmp\n",
        "\n",
        "sum(tmp) # 手順3\n",
        "\n",
        "n <- 10^5\n",
        "result <- replicate(n, sum(sample(X, size = length(X), replace = TRUE))) # 手順4"
      ],
      "id": "59aebb99-9dee-4d12-b40b-b7614dabd99d"
    },
    {
      "cell_type": "code",
      "execution_count": null,
      "metadata": {
        "id": "a593484a-23f2-4d4f-9085-acc571f78521"
      },
      "outputs": [],
      "source": [
        "hist(x = result, breaks = 0:15,\n",
        "     right = FALSE)"
      ],
      "id": "a593484a-23f2-4d4f-9085-acc571f78521"
    },
    {
      "cell_type": "code",
      "execution_count": null,
      "metadata": {
        "id": "0d8cebfb-32d2-497a-baa3-59fc47b90dfc"
      },
      "outputs": [],
      "source": [
        "quantile(result, c(0.025, 0.975))"
      ],
      "id": "0d8cebfb-32d2-497a-baa3-59fc47b90dfc"
    },
    {
      "id": "a0125811",
      "cell_type": "markdown",
      "source": [
        "# 5 前処理"
      ],
      "metadata": {
        "id": "a0125811"
      }
    },
    {
      "cell_type": "code",
      "execution_count": null,
      "metadata": {
        "id": "37582708-5531-4fad-9dfb-35800014751e"
      },
      "outputs": [],
      "source": [
        "# Google Colaboratoryの環境設定\n",
        "if (file.exists(\"/content\")) {\n",
        "  options(Ncpus = parallel::detectCores())\n",
        "  packages_to_install <- c(\"caret\")\n",
        "  installed_packages <- rownames(installed.packages())\n",
        "  install.packages(setdiff(packages_to_install, installed_packages))\n",
        "}"
      ],
      "id": "37582708-5531-4fad-9dfb-35800014751e"
    },
    {
      "id": "b4864dfa",
      "cell_type": "markdown",
      "source": [
        "## 5.1 データの読み込み"
      ],
      "metadata": {
        "id": "b4864dfa"
      }
    },
    {
      "cell_type": "code",
      "execution_count": null,
      "metadata": {
        "id": "24ea4f4a-4a7a-4003-8c17-1b738d67bbeb"
      },
      "outputs": [],
      "source": [
        "library(tidyverse)\n",
        "system(str_c(\"wget https://raw.githubusercontent.com/taroyabuki\",\n",
        "             \"/fromzero/master/data/exam.csv\"))"
      ],
      "id": "24ea4f4a-4a7a-4003-8c17-1b738d67bbeb"
    },
    {
      "cell_type": "code",
      "execution_count": null,
      "metadata": {
        "id": "e0acf885-6c1c-462c-83f8-efda9b59e6fe"
      },
      "outputs": [],
      "source": [
        "my_df <- read_csv(\"exam.csv\")\n",
        "# あるいは\n",
        "my_df <- read.csv(\"exam.csv\",\n",
        "  stringsAsFactors = FALSE)\n",
        "\n",
        "my_df"
      ],
      "id": "e0acf885-6c1c-462c-83f8-efda9b59e6fe"
    },
    {
      "cell_type": "code",
      "execution_count": null,
      "metadata": {
        "id": "4cbf4f39-5599-4444-a487-a2ecc4a98b21"
      },
      "outputs": [],
      "source": [
        "my_url <- str_c(\"https://raw.githubusercontent.com/taroyabuki\",\n",
        "                \"/fromzero/master/data/exam.csv\")\n",
        "my_df <- read_csv(my_url)\n",
        "# あるいは\n",
        "my_df <- read.csv(my_url, stringsAsFactors = FALSE)"
      ],
      "id": "4cbf4f39-5599-4444-a487-a2ecc4a98b21"
    },
    {
      "cell_type": "code",
      "execution_count": null,
      "metadata": {
        "id": "65b58340-f4c7-4735-be8d-d95acfe249df"
      },
      "outputs": [],
      "source": [
        "my_df2 <- read.csv(\n",
        "  file = \"exam.csv\",\n",
        "  stringsAsFactors = FALSE,\n",
        "  row.names = 1)\n",
        "my_df2"
      ],
      "id": "65b58340-f4c7-4735-be8d-d95acfe249df"
    },
    {
      "cell_type": "code",
      "execution_count": null,
      "metadata": {
        "id": "d6bc8599-f784-40cd-b451-65b9f0ac9ad3"
      },
      "outputs": [],
      "source": [
        "my_df %>% write_csv(\"exam2.csv\")\n",
        "# あるいは\n",
        "my_df %>% write.csv(\n",
        "  file = \"exam2.csv\",\n",
        "  row.names = FALSE)"
      ],
      "id": "d6bc8599-f784-40cd-b451-65b9f0ac9ad3"
    },
    {
      "cell_type": "code",
      "execution_count": null,
      "metadata": {
        "id": "85bff779-82dc-49b6-b7ba-dbd836ae9636"
      },
      "outputs": [],
      "source": [
        "my_df2 %>% write.csv(\"exam3.csv\")"
      ],
      "id": "85bff779-82dc-49b6-b7ba-dbd836ae9636"
    },
    {
      "cell_type": "code",
      "execution_count": null,
      "metadata": {
        "id": "40714e2f-100a-4c8c-9595-15baf8a9c694"
      },
      "outputs": [],
      "source": [
        "my_df <- read_csv(file = \"exam.csv\",\n",
        "  locale = locale(encoding = \"UTF-8\"))\n",
        "# あるいは\n",
        "my_df <- read.csv(file = \"exam.csv\",\n",
        "  stringsAsFactors = FALSE,\n",
        "  fileEncoding = \"UTF-8\")"
      ],
      "id": "40714e2f-100a-4c8c-9595-15baf8a9c694"
    },
    {
      "cell_type": "code",
      "execution_count": null,
      "metadata": {
        "id": "500a76ff-1863-45a1-9c97-cb1d5a6e4215"
      },
      "outputs": [],
      "source": [
        "my_df %>% write_csv(\"exam2.csv\")\n",
        "# あるいは\n",
        "my_df %>% write.csv(file = \"exam2.csv\", row.names = FALSE,\n",
        "                    fileEncoding = \"UTF-8\")"
      ],
      "id": "500a76ff-1863-45a1-9c97-cb1d5a6e4215"
    },
    {
      "cell_type": "code",
      "execution_count": null,
      "metadata": {
        "id": "293dd877-7300-412f-8edd-28e7b0b37c9c"
      },
      "outputs": [],
      "source": [
        "my_url <- \"https://taroyabuki.github.io/fromzero/exam.html\"\n",
        "my_tables <- xml2::read_html(my_url) %>% rvest::html_table()"
      ],
      "id": "293dd877-7300-412f-8edd-28e7b0b37c9c"
    },
    {
      "cell_type": "code",
      "execution_count": null,
      "metadata": {
        "id": "40d41854-7c0f-4dee-8a59-12f5b333adf3"
      },
      "outputs": [],
      "source": [
        "my_tables"
      ],
      "id": "40d41854-7c0f-4dee-8a59-12f5b333adf3"
    },
    {
      "cell_type": "code",
      "execution_count": null,
      "metadata": {
        "id": "ddd67838-431d-4627-b84e-a89ae7a77fe0"
      },
      "outputs": [],
      "source": [
        "tmp <- my_tables[[1]]\n",
        "tmp"
      ],
      "id": "ddd67838-431d-4627-b84e-a89ae7a77fe0"
    },
    {
      "cell_type": "code",
      "execution_count": null,
      "metadata": {
        "id": "03a871b1-a04b-4f09-bcdb-ba2287649a10"
      },
      "outputs": [],
      "source": [
        "# 1行目のデータを使って列の名前を付け直す．\n",
        "colnames(tmp) <- tmp[1, ]\n",
        "\n",
        "# 1行目と1列目を削除する．\n",
        "my_data <- tmp[-1, -1]\n",
        "my_data"
      ],
      "id": "03a871b1-a04b-4f09-bcdb-ba2287649a10"
    },
    {
      "cell_type": "code",
      "execution_count": null,
      "metadata": {
        "id": "71b12f42-08ac-445c-9231-cd4caf69ac2d"
      },
      "outputs": [],
      "source": [
        "library(jsonlite)\n",
        "my_url <- str_c(\"https://raw.githubusercontent.com/taroyabuki\",\n",
        "                \"/fromzero/master/data/exam.json\")\n",
        "my_data <- fromJSON(my_url)\n",
        "#my_data <- fromJSON(\"exam.json\") # （ファイルを使う場合）\n",
        "my_data"
      ],
      "id": "71b12f42-08ac-445c-9231-cd4caf69ac2d"
    },
    {
      "cell_type": "code",
      "execution_count": null,
      "metadata": {
        "id": "43cb67e1-6cf2-48a4-bcef-202fe8bfb8f0"
      },
      "outputs": [],
      "source": [
        "library(xml2)\n",
        "my_url <- str_c(\"https://raw.githubusercontent.com/taroyabuki\",\n",
        "                \"/fromzero/master/data/exam.xml\")\n",
        "my_xml <- read_xml(my_url)      # XMLデータの読み込み\n",
        "#my_xml <- read_xml(\"exam.xml\") # （ファイルを使う場合）\n",
        "xml_ns(my_xml)                  # 名前空間の確認（d1）"
      ],
      "id": "43cb67e1-6cf2-48a4-bcef-202fe8bfb8f0"
    },
    {
      "cell_type": "code",
      "execution_count": null,
      "metadata": {
        "id": "35a20890-ddf9-4537-a23f-b7820caaad35"
      },
      "outputs": [],
      "source": [
        "my_records <- xml_find_all(my_xml, \".//d1:record\")"
      ],
      "id": "35a20890-ddf9-4537-a23f-b7820caaad35"
    },
    {
      "cell_type": "code",
      "execution_count": null,
      "metadata": {
        "id": "6838dc42-9bef-49a5-8fc5-5624ced43c9f"
      },
      "outputs": [],
      "source": [
        "f <- function(record) {\n",
        "  tmp <- xml_attrs(record)                    # 属性を全て取り出し，\n",
        "  xml_children(record) %>% walk(function(e) {\n",
        "    tmp[xml_name(e)] <<- xml_text(e)          # 子要素の名前と内容を追加する．\n",
        "  })\n",
        "  tmp\n",
        "}"
      ],
      "id": "6838dc42-9bef-49a5-8fc5-5624ced43c9f"
    },
    {
      "cell_type": "code",
      "execution_count": null,
      "metadata": {
        "id": "85cdc6a8-c201-4710-9302-db338fc510bc"
      },
      "outputs": [],
      "source": [
        "my_data <- my_records %>% map_dfr(f)\n",
        "my_data$english <- as.numeric(my_data$english)\n",
        "my_data$math    <- as.numeric(my_data$math)\n",
        "my_data"
      ],
      "id": "85cdc6a8-c201-4710-9302-db338fc510bc"
    },
    {
      "id": "308b11d8",
      "cell_type": "markdown",
      "source": [
        "## 5.2 データの変換"
      ],
      "metadata": {
        "id": "308b11d8"
      }
    },
    {
      "cell_type": "code",
      "execution_count": null,
      "metadata": {
        "id": "48af90d0-5d2e-4186-92de-3d8e2775b4e8"
      },
      "outputs": [],
      "source": [
        "x1 <- c(1, 2, 3)\n",
        "\n",
        "z1 <- scale(x1)\n",
        "# あるいは\n",
        "z1 <- (x1 - mean(x1)) / sd(x1)\n",
        "\n",
        "z1"
      ],
      "id": "48af90d0-5d2e-4186-92de-3d8e2775b4e8"
    },
    {
      "cell_type": "code",
      "execution_count": null,
      "metadata": {
        "id": "f60a2354-c48d-42de-9e0f-a3488e4f921c"
      },
      "outputs": [],
      "source": [
        "c(mean(z1), sd(z1))"
      ],
      "id": "f60a2354-c48d-42de-9e0f-a3488e4f921c"
    },
    {
      "cell_type": "code",
      "execution_count": null,
      "metadata": {
        "id": "97ab5686-9dd3-4570-bb43-bdedd33dc231"
      },
      "outputs": [],
      "source": [
        "z1 * sd(x1) + mean(x1)"
      ],
      "id": "97ab5686-9dd3-4570-bb43-bdedd33dc231"
    },
    {
      "cell_type": "code",
      "execution_count": null,
      "metadata": {
        "id": "5d89af0c-a939-4e38-8abb-24c56b7ff862"
      },
      "outputs": [],
      "source": [
        "x2 <- c(1, 3, 5)\n",
        "z2 <- (x2 - mean(x1)) / sd(x1)\n",
        "c(mean(z2), sd(z2))"
      ],
      "id": "5d89af0c-a939-4e38-8abb-24c56b7ff862"
    },
    {
      "cell_type": "code",
      "execution_count": null,
      "metadata": {
        "id": "eb6c1427-d877-4d1a-b936-72efd4534362"
      },
      "outputs": [],
      "source": [
        "library(caret)\n",
        "library(tidyverse)\n",
        "\n",
        "my_df <- data.frame(\n",
        "  id = c(1, 2, 3),\n",
        "  class = as.factor(\n",
        "    c(\"A\", \"B\", \"C\")))\n",
        "\n",
        "my_enc <- my_df %>%\n",
        "  dummyVars(formula = ~ .)\n",
        "\n",
        "my_enc %>% predict(my_df)"
      ],
      "id": "eb6c1427-d877-4d1a-b936-72efd4534362"
    },
    {
      "cell_type": "code",
      "execution_count": null,
      "metadata": {
        "id": "2879da19-5499-4a0d-a05c-85e1656ba106"
      },
      "outputs": [],
      "source": [
        "my_df2 <- data.frame(\n",
        "  id =    c( 4 ,  5 ,  6 ),\n",
        "  class = c(\"B\", \"C\", \"B\"))\n",
        "my_enc %>% predict(my_df2)"
      ],
      "id": "2879da19-5499-4a0d-a05c-85e1656ba106"
    },
    {
      "cell_type": "code",
      "execution_count": null,
      "metadata": {
        "id": "8b421365-ed38-45f1-9380-48c3a4838f00"
      },
      "outputs": [],
      "source": [
        "my_enc <- my_df %>%\n",
        "  dummyVars(formula = ~ .,\n",
        "            fullRank = TRUE)\n",
        "my_enc %>% predict(my_df)\n",
        "\n",
        "my_enc %>% predict(my_df2)"
      ],
      "id": "8b421365-ed38-45f1-9380-48c3a4838f00"
    },
    {
      "id": "caf262b8",
      "cell_type": "markdown",
      "source": [
        "# 6 機械学習の目的・データ・手法\n",
        "\n",
        "\n"
      ],
      "metadata": {
        "id": "caf262b8"
      }
    },
    {
      "id": "b888519f",
      "cell_type": "markdown",
      "source": [
        "## 6.1 機械学習の目的（本書の場合）\n",
        "\n",
        "\n"
      ],
      "metadata": {
        "id": "b888519f"
      }
    },
    {
      "id": "e17120fa",
      "cell_type": "markdown",
      "source": [
        "## 6.2 機械学習のためのデータ"
      ],
      "metadata": {
        "id": "e17120fa"
      }
    },
    {
      "cell_type": "code",
      "execution_count": null,
      "metadata": {
        "id": "8a75f396-d1fb-430f-8a5f-75beeb2e19f6"
      },
      "outputs": [],
      "source": [
        "iris\n",
        "# 以下省略"
      ],
      "id": "8a75f396-d1fb-430f-8a5f-75beeb2e19f6"
    },
    {
      "id": "37607969",
      "cell_type": "markdown",
      "source": [
        "## 6.3 機械学習のための手法\n",
        "\n",
        "\n"
      ],
      "metadata": {
        "id": "37607969"
      }
    },
    {
      "id": "2366b3bd",
      "cell_type": "markdown",
      "source": [
        "# 7 回帰1（単回帰）"
      ],
      "metadata": {
        "id": "2366b3bd"
      }
    },
    {
      "cell_type": "code",
      "execution_count": null,
      "metadata": {
        "id": "118f055e-e3ce-433f-8f7b-ba85241135cb"
      },
      "outputs": [],
      "source": [
        "# Google Colaboratoryの環境設定\n",
        "if (file.exists(\"/content\")) {\n",
        "  options(Ncpus = parallel::detectCores())\n",
        "  packages_to_install <- c(\"caret\", \"doParallel\", \"pastecs\")\n",
        "  installed_packages <- rownames(installed.packages())\n",
        "  install.packages(setdiff(packages_to_install, installed_packages))\n",
        "}"
      ],
      "id": "118f055e-e3ce-433f-8f7b-ba85241135cb"
    },
    {
      "id": "6cdcfcd7",
      "cell_type": "markdown",
      "source": [
        "## 7.1 自動車の停止距離\n",
        "\n",
        "\n"
      ],
      "metadata": {
        "id": "6cdcfcd7"
      }
    },
    {
      "id": "930b5e8a",
      "cell_type": "markdown",
      "source": [
        "## 7.2 データの確認"
      ],
      "metadata": {
        "id": "930b5e8a"
      }
    },
    {
      "cell_type": "code",
      "execution_count": null,
      "metadata": {
        "id": "70e49dcd-f89d-4d87-ba42-e597900bd39a"
      },
      "outputs": [],
      "source": [
        "library(caret)\n",
        "library(tidyverse)\n",
        "my_data <- cars"
      ],
      "id": "70e49dcd-f89d-4d87-ba42-e597900bd39a"
    },
    {
      "cell_type": "code",
      "execution_count": null,
      "metadata": {
        "id": "897d14f0-bc30-4137-a65d-1d5a7d2f2390"
      },
      "outputs": [],
      "source": [
        "dim(my_data)"
      ],
      "id": "897d14f0-bc30-4137-a65d-1d5a7d2f2390"
    },
    {
      "cell_type": "code",
      "execution_count": null,
      "metadata": {
        "id": "8b8eb83f-f4ea-4aec-a78f-3c4fee476419"
      },
      "outputs": [],
      "source": [
        "head(my_data)"
      ],
      "id": "8b8eb83f-f4ea-4aec-a78f-3c4fee476419"
    },
    {
      "cell_type": "code",
      "execution_count": null,
      "metadata": {
        "id": "4c20b558-adfb-4197-8d8f-68081426e3de"
      },
      "outputs": [],
      "source": [
        "options(digits = 3)\n",
        "pastecs::stat.desc(my_data)"
      ],
      "id": "4c20b558-adfb-4197-8d8f-68081426e3de"
    },
    {
      "cell_type": "code",
      "execution_count": null,
      "metadata": {
        "id": "fc24835c-b576-4985-a588-a6a59f78cf05"
      },
      "outputs": [],
      "source": [
        "my_data %>%\n",
        "  ggplot(aes(x = speed, y = dist)) +\n",
        "  geom_point()"
      ],
      "id": "fc24835c-b576-4985-a588-a6a59f78cf05"
    },
    {
      "id": "7dd21890",
      "cell_type": "markdown",
      "source": [
        "## 7.3 回帰分析"
      ],
      "metadata": {
        "id": "7dd21890"
      }
    },
    {
      "cell_type": "code",
      "execution_count": null,
      "metadata": {
        "id": "a84d3d0a-a688-49f2-a88d-0d8be01ae572"
      },
      "outputs": [],
      "source": [
        "library(tidyverse)\n",
        "\n",
        "my_data <- cars\n",
        "tmp <- data.frame(speed = 21.5, dist = 67)\n",
        "my_data %>% ggplot(aes(x = speed, y = dist)) +\n",
        "  coord_cartesian(xlim = c(4, 25), ylim = c(0, 120)) +\n",
        "  geom_point() +\n",
        "  stat_smooth(formula = y ~ x, method = \"lm\") +\n",
        "  geom_pointrange(data = tmp, aes(ymin = -9, ymax = dist),  linetype = \"dotted\") +\n",
        "  geom_pointrange(data = tmp, aes(xmin =  0, xmax = speed), linetype = \"dotted\")"
      ],
      "id": "a84d3d0a-a688-49f2-a88d-0d8be01ae572"
    },
    {
      "cell_type": "code",
      "execution_count": null,
      "metadata": {
        "id": "17e2e500-8625-4d40-a1e2-8999cc6efc13"
      },
      "outputs": [],
      "source": [
        "library(caret)\n",
        "library(tidyverse)\n",
        "my_data <- cars"
      ],
      "id": "17e2e500-8625-4d40-a1e2-8999cc6efc13"
    },
    {
      "cell_type": "code",
      "execution_count": null,
      "metadata": {
        "id": "ccbdc870-019d-4fb2-a525-a603e032ba82"
      },
      "outputs": [],
      "source": [
        "my_model <- train(form = dist ~ speed, # モデル式（出力変数と入力変数の関係）\n",
        "                  data = my_data,      # データ\n",
        "                  method = \"lm\")       # 手法"
      ],
      "id": "ccbdc870-019d-4fb2-a525-a603e032ba82"
    },
    {
      "cell_type": "code",
      "execution_count": null,
      "metadata": {
        "id": "faae5286-2119-44c8-8670-4077dcd8ca72"
      },
      "outputs": [],
      "source": [
        "coef(my_model$finalModel)"
      ],
      "id": "faae5286-2119-44c8-8670-4077dcd8ca72"
    },
    {
      "cell_type": "code",
      "execution_count": null,
      "metadata": {
        "id": "f4e985bc-d5db-4561-a8a6-35d6ef29e042"
      },
      "outputs": [],
      "source": [
        "tmp <- data.frame(speed = 21.5)\n",
        "my_model %>% predict(tmp)"
      ],
      "id": "f4e985bc-d5db-4561-a8a6-35d6ef29e042"
    },
    {
      "cell_type": "code",
      "execution_count": null,
      "metadata": {
        "id": "828eac4d-a08a-4c3a-aadc-e21e224a616d"
      },
      "outputs": [],
      "source": [
        "f <- function(x) { my_model %>% predict(data.frame(speed = x)) }"
      ],
      "id": "828eac4d-a08a-4c3a-aadc-e21e224a616d"
    },
    {
      "cell_type": "code",
      "execution_count": null,
      "metadata": {
        "id": "f8305e1a-6015-422d-bb43-21ba1ff982a5"
      },
      "outputs": [],
      "source": [
        "my_data %>%\n",
        "  ggplot(aes(x = speed, y = dist,\n",
        "             color = \"data\")) +\n",
        "  geom_point() +\n",
        "  stat_function(\n",
        "    fun = f,\n",
        "    mapping = aes(color = \"model\"))"
      ],
      "id": "f8305e1a-6015-422d-bb43-21ba1ff982a5"
    },
    {
      "id": "1bb78121",
      "cell_type": "markdown",
      "source": [
        "## 7.4 当てはまりの良さの指標"
      ],
      "metadata": {
        "id": "1bb78121"
      }
    },
    {
      "cell_type": "code",
      "execution_count": null,
      "metadata": {
        "id": "647b916f-8819-436f-8ec9-ef9972f9eeb9"
      },
      "outputs": [],
      "source": [
        "library(caret)\n",
        "library(tidyverse)\n",
        "my_data <- cars\n",
        "my_model <- train(form = dist ~ speed, data = my_data, method = \"lm\")\n",
        "\n",
        "y  <- my_data$dist\n",
        "y_ <- my_model %>% predict(my_data)\n",
        "my_data$y_ <- y_"
      ],
      "id": "647b916f-8819-436f-8ec9-ef9972f9eeb9"
    },
    {
      "cell_type": "code",
      "execution_count": null,
      "metadata": {
        "id": "d1a374e4-a8d1-4298-9be8-f3f577b2df78"
      },
      "outputs": [],
      "source": [
        "my_data$residual <- y - y_\n",
        "head(my_data)"
      ],
      "id": "d1a374e4-a8d1-4298-9be8-f3f577b2df78"
    },
    {
      "cell_type": "code",
      "execution_count": null,
      "metadata": {
        "id": "97e65c36-fa06-44ae-acd4-fc40cd30d526"
      },
      "outputs": [],
      "source": [
        "my_data %>%\n",
        "  ggplot(aes(x = speed, y = dist)) +\n",
        "  geom_point() +\n",
        "  geom_line(aes(x = speed, y = y_)) +\n",
        "  geom_linerange(mapping = aes(ymin = y_, ymax = dist), linetype = \"dotted\")"
      ],
      "id": "97e65c36-fa06-44ae-acd4-fc40cd30d526"
    },
    {
      "cell_type": "code",
      "execution_count": null,
      "metadata": {
        "id": "8913e556-5ecf-407c-b8b2-04520163ec0d"
      },
      "outputs": [],
      "source": [
        "RMSE(y_, y)\n",
        "# あるいは\n",
        "mean((my_data$residual^2))**0.5\n"
      ],
      "id": "8913e556-5ecf-407c-b8b2-04520163ec0d"
    },
    {
      "cell_type": "code",
      "execution_count": null,
      "metadata": {
        "id": "6a176d34-5758-4962-888f-116c24285db5"
      },
      "outputs": [],
      "source": [
        "R2(pred = y_, obs = y,\n",
        "   form = \"traditional\")"
      ],
      "id": "6a176d34-5758-4962-888f-116c24285db5"
    },
    {
      "cell_type": "code",
      "execution_count": null,
      "metadata": {
        "id": "82d375f3-b6a3-40ea-8d80-a1c78587d583"
      },
      "outputs": [],
      "source": [
        "R2(pred = y_, obs = y,\n",
        "   form = \"corr\")\n",
        "# あるいは\n",
        "summary(my_model$finalModel)$r.squared"
      ],
      "id": "82d375f3-b6a3-40ea-8d80-a1c78587d583"
    },
    {
      "cell_type": "code",
      "execution_count": null,
      "metadata": {
        "id": "9bc44ff9-f18a-47c9-b1f5-91a267f53586"
      },
      "outputs": [],
      "source": [
        "my_test <- my_data[1:3, ]\n",
        "y  <- my_test$dist\n",
        "y_ <- my_model %>% predict(my_test)\n",
        "\n",
        "R2(pred = y_, obs = y,\n",
        "   form = \"traditional\")\n",
        "\n",
        "R2(pred = y_, obs = y,\n",
        "   form = \"corr\")"
      ],
      "id": "9bc44ff9-f18a-47c9-b1f5-91a267f53586"
    },
    {
      "cell_type": "code",
      "execution_count": null,
      "metadata": {
        "id": "1baf4162-2775-4b51-88c7-6d71897ddfd2"
      },
      "outputs": [],
      "source": [
        "library(caret)\n",
        "library(tidyverse)\n",
        "my_data <- cars\n",
        "my_idx <- c(2, 11, 27, 34, 39, 44)\n",
        "my_sample <- my_data[my_idx, ]"
      ],
      "id": "1baf4162-2775-4b51-88c7-6d71897ddfd2"
    },
    {
      "cell_type": "code",
      "execution_count": null,
      "metadata": {
        "id": "ea696365-2a8e-491c-b2c6-b9e827e4b084"
      },
      "outputs": [],
      "source": [
        "options(warn = -1) # これ以降，警告を表示しない．\n",
        "my_model <- train(form = dist ~ poly(speed, degree = 5, raw = TRUE),\n",
        "                  data = my_sample,\n",
        "                  method = \"lm\")\n",
        "options(warn = 0)  # これ以降，警告を表示する．\n",
        "\n",
        "y  <- my_sample$dist\n",
        "y_ <- my_model %>% predict(my_sample)"
      ],
      "id": "ea696365-2a8e-491c-b2c6-b9e827e4b084"
    },
    {
      "cell_type": "code",
      "execution_count": null,
      "metadata": {
        "id": "ec4841ef-c070-466d-9be7-93b312a2eeed"
      },
      "outputs": [],
      "source": [
        "RMSE(y_, y)\n",
        "\n",
        "R2(pred = y_, obs = y,\n",
        "   form = \"traditional\")\n",
        "\n",
        "R2(pred = y_, obs = y,\n",
        "   form = \"corr\")"
      ],
      "id": "ec4841ef-c070-466d-9be7-93b312a2eeed"
    },
    {
      "cell_type": "code",
      "execution_count": null,
      "metadata": {
        "id": "25151bf6-ba12-4160-bdc5-d30fbb37bde7"
      },
      "outputs": [],
      "source": [
        "f <- function(x) { my_model %>% predict(data.frame(speed = x)) }\n",
        "\n",
        "my_data %>%\n",
        "  ggplot(aes(x = speed, y = dist, color = \"data\")) +\n",
        "  geom_point() +\n",
        "  geom_point(data = my_sample, mapping = aes(color = \"sample\")) +\n",
        "  stat_function(fun = f, mapping = aes(color = \"model\")) +\n",
        "  coord_cartesian(ylim = c(0, 120))"
      ],
      "id": "25151bf6-ba12-4160-bdc5-d30fbb37bde7"
    },
    {
      "id": "a13d4468",
      "cell_type": "markdown",
      "source": [
        "## 7.5 K最近傍法"
      ],
      "metadata": {
        "id": "a13d4468"
      }
    },
    {
      "cell_type": "code",
      "execution_count": null,
      "metadata": {
        "id": "4a128a67-7615-492b-bce0-0426cec7e868"
      },
      "outputs": [],
      "source": [
        "# 準備\n",
        "library(caret)\n",
        "library(tidyverse)\n",
        "my_data <- cars\n",
        "\n",
        "# 訓練\n",
        "my_model <- train(form = dist ~ speed, data = my_data, method = \"knn\")\n",
        "\n",
        "# 可視化の準備\n",
        "f <- function(x) { my_model %>% predict(data.frame(speed = x))}"
      ],
      "id": "4a128a67-7615-492b-bce0-0426cec7e868"
    },
    {
      "cell_type": "code",
      "execution_count": null,
      "metadata": {
        "id": "3ea54e86-a1f2-41b6-90d8-450bd6549910"
      },
      "outputs": [],
      "source": [
        "my_data %>%\n",
        "  ggplot(aes(x = speed,\n",
        "             y = dist,\n",
        "             color = \"data\")) +\n",
        "  geom_point() +\n",
        "  stat_function(\n",
        "    fun = f,\n",
        "    mapping = aes(color = \"model\"))"
      ],
      "id": "3ea54e86-a1f2-41b6-90d8-450bd6549910"
    },
    {
      "cell_type": "code",
      "execution_count": null,
      "metadata": {
        "id": "5d568ffb-f988-4712-a274-34d70c2bb48c"
      },
      "outputs": [],
      "source": [
        "y  <- my_data$dist\n",
        "y_ <- my_model %>% predict(my_data)\n",
        "\n",
        "RMSE(y_, y)\n",
        "\n",
        "R2(pred = y_, obs = y,\n",
        "   form = \"traditional\")\n",
        "\n",
        "R2(pred = y_, obs = y,\n",
        "   form = \"corr\")"
      ],
      "id": "5d568ffb-f988-4712-a274-34d70c2bb48c"
    },
    {
      "id": "cd524efc",
      "cell_type": "markdown",
      "source": [
        "## 7.6 検証"
      ],
      "metadata": {
        "id": "cd524efc"
      }
    },
    {
      "cell_type": "code",
      "execution_count": null,
      "metadata": {
        "id": "e6d3c31e-5dd9-4f22-b080-ba1c11fc2b81"
      },
      "outputs": [],
      "source": [
        "library(caret)\n",
        "library(tidyverse)\n",
        "my_data <- cars\n",
        "my_model <- train(form = dist ~ speed, data = my_data, method = \"lm\")\n",
        "\n",
        "my_model$results"
      ],
      "id": "e6d3c31e-5dd9-4f22-b080-ba1c11fc2b81"
    },
    {
      "cell_type": "code",
      "execution_count": null,
      "metadata": {
        "id": "3683466c-3242-4318-8ca0-cbdaeb747436"
      },
      "outputs": [],
      "source": [
        "my_model <- train(form = dist ~ speed, data = my_data, method = \"lm\",\n",
        "                  trControl = trainControl(method = \"cv\", number = 5))\n",
        "my_model$results"
      ],
      "id": "3683466c-3242-4318-8ca0-cbdaeb747436"
    },
    {
      "cell_type": "code",
      "execution_count": null,
      "metadata": {
        "id": "e975b84d-41f8-4a0f-b3e1-14c721801586"
      },
      "outputs": [],
      "source": [
        "my_model <- train(form = dist ~ speed, data = my_data, method = \"lm\",\n",
        "                  trControl = trainControl(method = \"LOOCV\"))\n",
        "my_model$results"
      ],
      "id": "e975b84d-41f8-4a0f-b3e1-14c721801586"
    },
    {
      "cell_type": "code",
      "execution_count": null,
      "metadata": {
        "id": "9098a54a-22b8-49d8-a505-9cd3f392e582"
      },
      "outputs": [],
      "source": [
        "library(doParallel)\n",
        "cl <- makeCluster(detectCores())\n",
        "registerDoParallel(cl)"
      ],
      "id": "9098a54a-22b8-49d8-a505-9cd3f392e582"
    },
    {
      "cell_type": "code",
      "execution_count": null,
      "metadata": {
        "id": "faf2b3aa-f8d9-442c-bd3f-d1b07bedf8bf"
      },
      "outputs": [],
      "source": [
        "library(caret)\n",
        "library(tidyverse)\n",
        "my_data <- cars\n",
        "my_model <- train(form = dist ~ speed, data = my_data, method = \"lm\")\n",
        "y  <- my_data$dist\n",
        "y_ <- my_model %>% predict(my_data)"
      ],
      "id": "faf2b3aa-f8d9-442c-bd3f-d1b07bedf8bf"
    },
    {
      "cell_type": "code",
      "execution_count": null,
      "metadata": {
        "id": "b2058db1-70ad-4433-bed3-e95bc3db179a"
      },
      "outputs": [],
      "source": [
        "# RMSE（訓練）\n",
        "RMSE(y_, y)\n",
        "\n",
        "# 決定係数1（訓練）\n",
        "R2(pred = y_, obs = y,\n",
        "   form = \"traditional\")\n",
        "\n",
        "# 決定係数6（訓練）\n",
        "R2(pred = y_, obs = y,\n",
        "   form = \"corr\")"
      ],
      "id": "b2058db1-70ad-4433-bed3-e95bc3db179a"
    },
    {
      "cell_type": "code",
      "execution_count": null,
      "metadata": {
        "id": "643a7cbd-66fb-43a8-9f51-f768300c7887"
      },
      "outputs": [],
      "source": [
        "postResample(pred = y_, obs = y)"
      ],
      "id": "643a7cbd-66fb-43a8-9f51-f768300c7887"
    },
    {
      "cell_type": "code",
      "execution_count": null,
      "metadata": {
        "id": "82c0f430-0575-446e-9582-91d6f44dbffb"
      },
      "outputs": [],
      "source": [
        "my_model <- train(form = dist ~ speed, data = my_data, method = \"lm\")\n",
        "my_model$results\n",
        "# 左から，RMSE（検証），決定係数6（検証），MAE（検証）"
      ],
      "id": "82c0f430-0575-446e-9582-91d6f44dbffb"
    },
    {
      "cell_type": "code",
      "execution_count": null,
      "metadata": {
        "id": "79836209-c487-46f0-9b67-b18052fb30b1"
      },
      "outputs": [],
      "source": [
        "my_model <- train(form = dist ~ speed, data = my_data, method = \"lm\",\n",
        "                  trControl = trainControl(method = \"LOOCV\"))\n",
        "\n",
        "# 方法1\n",
        "my_model$results\n",
        "\n",
        "# 方法2\n",
        "y  <- my_model$pred$obs\n",
        "y_ <- my_model$pred$pred\n",
        "mean((y - y_)^2)**0.5"
      ],
      "id": "79836209-c487-46f0-9b67-b18052fb30b1"
    },
    {
      "cell_type": "code",
      "execution_count": null,
      "metadata": {
        "id": "d518b464-ac8d-4f03-9817-67704f42dcec"
      },
      "outputs": [],
      "source": [
        "mean(((y - y_)^2)**0.5)"
      ],
      "id": "d518b464-ac8d-4f03-9817-67704f42dcec"
    },
    {
      "cell_type": "code",
      "execution_count": null,
      "metadata": {
        "id": "7ee15e63-0708-490e-ae55-657d5984e78a"
      },
      "outputs": [],
      "source": [
        "library(caret)\n",
        "library(tidyverse)\n",
        "my_data <- cars\n",
        "\n",
        "my_lm_model <- train(form = dist ~ speed, data = my_data, method = \"lm\",\n",
        "                     trControl = trainControl(method = \"LOOCV\"))\n",
        "\n",
        "my_knn_model <- train(form = dist ~ speed, data = my_data, method = \"knn\",\n",
        "                      tuneGrid = data.frame(k = 5),\n",
        "                      trControl = trainControl(method = \"LOOCV\"))"
      ],
      "id": "7ee15e63-0708-490e-ae55-657d5984e78a"
    },
    {
      "cell_type": "code",
      "execution_count": null,
      "metadata": {
        "id": "1912de65-59db-4369-b63f-f8fdb56631e6"
      },
      "outputs": [],
      "source": [
        "my_lm_model$results$RMSE\n",
        "\n",
        "my_knn_model$results$RMSE"
      ],
      "id": "1912de65-59db-4369-b63f-f8fdb56631e6"
    },
    {
      "cell_type": "code",
      "execution_count": null,
      "metadata": {
        "id": "35498df9-3057-440f-bd0b-2af68aa6897a"
      },
      "outputs": [],
      "source": [
        "y     <- my_data$dist\n",
        "y_lm  <- my_lm_model$pred$pred\n",
        "y_knn <- my_knn_model$pred$pred\n",
        "\n",
        "my_df <- data.frame(\n",
        "  lm  = (y - y_lm)^2,\n",
        "  knn = (y - y_knn)^2)\n",
        "\n",
        "head(my_df)"
      ],
      "id": "35498df9-3057-440f-bd0b-2af68aa6897a"
    },
    {
      "cell_type": "code",
      "execution_count": null,
      "metadata": {
        "id": "82b5ae07-8406-438d-9025-7aaa2b59ea53"
      },
      "outputs": [],
      "source": [
        "boxplot(my_df, ylab = \"r^2\")"
      ],
      "id": "82b5ae07-8406-438d-9025-7aaa2b59ea53"
    },
    {
      "cell_type": "code",
      "execution_count": null,
      "metadata": {
        "id": "989c6d38-c145-4b43-b82d-69c7b071b758"
      },
      "outputs": [],
      "source": [
        "t.test(x = my_df$lm, y = my_df$knn,\n",
        "       conf.level = 0.95,\n",
        "       paired = TRUE,\n",
        "       alternative = \"two.sided\")\n"
      ],
      "id": "989c6d38-c145-4b43-b82d-69c7b071b758"
    },
    {
      "id": "ebe0a3ee",
      "cell_type": "markdown",
      "source": [
        "## 7.7 パラメータチューニング"
      ],
      "metadata": {
        "id": "ebe0a3ee"
      }
    },
    {
      "cell_type": "code",
      "execution_count": null,
      "metadata": {
        "id": "ac41117a-1b43-488c-a0ba-5da8e5ad5426"
      },
      "outputs": [],
      "source": [
        "library(caret)\n",
        "library(tidyverse)\n",
        "my_data <- cars\n",
        "my_model <- train(form = dist ~ speed, data = my_data, method = \"knn\")\n",
        "my_model$results"
      ],
      "id": "ac41117a-1b43-488c-a0ba-5da8e5ad5426"
    },
    {
      "cell_type": "code",
      "execution_count": null,
      "metadata": {
        "id": "5971e0f0-d9d8-49f6-8c35-ad11dda378b1"
      },
      "outputs": [],
      "source": [
        "my_params <- expand.grid(k = 1:15)\n",
        "\n",
        "my_model <- train(form = dist ~ speed, data = my_data, method = \"knn\",\n",
        "                  tuneGrid = my_params,\n",
        "                  trControl = trainControl(method = \"LOOCV\"))"
      ],
      "id": "5971e0f0-d9d8-49f6-8c35-ad11dda378b1"
    },
    {
      "cell_type": "code",
      "execution_count": null,
      "metadata": {
        "id": "b4b88185-935d-47b7-adc7-a66062fb3d16"
      },
      "outputs": [],
      "source": [
        "head(my_model$results)"
      ],
      "id": "b4b88185-935d-47b7-adc7-a66062fb3d16"
    },
    {
      "cell_type": "code",
      "execution_count": null,
      "metadata": {
        "id": "b31a050f-bd17-4d6b-b885-3c12a8e25b13"
      },
      "outputs": [],
      "source": [
        "ggplot(my_model)"
      ],
      "id": "b31a050f-bd17-4d6b-b885-3c12a8e25b13"
    },
    {
      "cell_type": "code",
      "execution_count": null,
      "metadata": {
        "id": "5cbc07b4-0405-4f3f-ae42-833b7731dacd"
      },
      "outputs": [],
      "source": [
        "my_model$bestTune"
      ],
      "id": "5cbc07b4-0405-4f3f-ae42-833b7731dacd"
    },
    {
      "cell_type": "code",
      "execution_count": null,
      "metadata": {
        "id": "c7fe15a7-a751-4e87-9394-a68c6b433310"
      },
      "outputs": [],
      "source": [
        "my_model$results %>%\n",
        "  filter(RMSE == min(RMSE))"
      ],
      "id": "c7fe15a7-a751-4e87-9394-a68c6b433310"
    },
    {
      "cell_type": "code",
      "execution_count": null,
      "metadata": {
        "id": "2f2120a5-8f27-4cb3-bb41-35b3b0769a39"
      },
      "outputs": [],
      "source": [
        "y  <- my_data$dist\n",
        "y_ <- my_model %>% predict(my_data)\n",
        "RMSE(y_, y)"
      ],
      "id": "2f2120a5-8f27-4cb3-bb41-35b3b0769a39"
    },
    {
      "cell_type": "code",
      "execution_count": null,
      "metadata": {
        "id": "ad109682-1cd0-4bb6-b7c6-d45e12845ad3"
      },
      "outputs": [],
      "source": [
        "library(caret)\n",
        "library(tidyverse)\n",
        "my_data <- cars\n",
        "\n",
        "my_loocv <- function(k) {\n",
        "  my_model <- train(form = dist ~ speed, data = my_data, method = \"knn\",\n",
        "                    tuneGrid = data.frame(k = k),\n",
        "                    trControl = trainControl(method = \"LOOCV\"))\n",
        "  y  <- my_data$dist\n",
        "  y_ <- my_model %>% predict(my_data)\n",
        "  list(k = k,\n",
        "       training = RMSE(y_, y),             # RMSE（訓練）\n",
        "       validation = my_model$results$RMSE) # RMSE（検証）\n",
        "}\n",
        "\n",
        "my_results <- 1:15 %>% map_dfr(my_loocv)"
      ],
      "id": "ad109682-1cd0-4bb6-b7c6-d45e12845ad3"
    },
    {
      "cell_type": "code",
      "execution_count": null,
      "metadata": {
        "id": "79f6ed12-0489-4e94-915e-70844f59b0f5"
      },
      "outputs": [],
      "source": [
        "my_results %>%\n",
        "  pivot_longer(-k) %>%\n",
        "  ggplot(aes(x = k, y = value,\n",
        "             color = name)) +\n",
        "  geom_line() + geom_point() +\n",
        "  xlab(\"#Neighbors\") + ylab(\"RMSE\") +\n",
        "  theme(legend.position = c(1, 0),\n",
        "        legend.justification = c(1, 0))"
      ],
      "id": "79f6ed12-0489-4e94-915e-70844f59b0f5"
    },
    {
      "cell_type": "code",
      "execution_count": null,
      "metadata": {
        "id": "2afedfc1-dfa4-4716-8eb8-1f7bf093fa9f"
      },
      "outputs": [],
      "source": [
        "# 並列クラスタの停止\n",
        "stopCluster(cl)\n",
        "registerDoSEQ()"
      ],
      "id": "2afedfc1-dfa4-4716-8eb8-1f7bf093fa9f"
    },
    {
      "id": "5f4eaf85",
      "cell_type": "markdown",
      "source": [
        "# 8 回帰2（重回帰）"
      ],
      "metadata": {
        "id": "5f4eaf85"
      }
    },
    {
      "cell_type": "code",
      "execution_count": null,
      "metadata": {
        "id": "4cc7db89-f2a6-4e52-a296-22cea7addff9"
      },
      "outputs": [],
      "source": [
        "# Google Colaboratoryの環境設定\n",
        "if (file.exists(\"/content\")) {\n",
        "  options(Ncpus = parallel::detectCores())\n",
        "  packages_to_install <- c(\"caret\", \"ggfortify\", \"glmnet\", \"glmnetUtils\", \"leaps\", \"neuralnet\", \"psych\")\n",
        "  installed_packages <- rownames(installed.packages())\n",
        "  install.packages(setdiff(packages_to_install, installed_packages))\n",
        "}"
      ],
      "id": "4cc7db89-f2a6-4e52-a296-22cea7addff9"
    },
    {
      "id": "82815cd6",
      "cell_type": "markdown",
      "source": [
        "## 8.1 ブドウの生育条件とワインの価格"
      ],
      "metadata": {
        "id": "82815cd6"
      }
    },
    {
      "cell_type": "code",
      "execution_count": null,
      "metadata": {
        "id": "4273ae19-b303-4511-a55e-c44ce5ba88c0"
      },
      "outputs": [],
      "source": [
        "library(tidyverse)\n",
        "my_url <- \"http://www.liquidasset.com/winedata.html\"\n",
        "tmp <- read.table(file = my_url,   # 読み込む対象\n",
        "                  header = TRUE,   # 1行目は変数名\n",
        "                  na.string = \".\", # 欠損値を表す文字列\n",
        "                  skip = 62,       # 読み飛ばす行数\n",
        "                  nrows = 38)      # 読み込む行数\n",
        "psych::describe(tmp)"
      ],
      "id": "4273ae19-b303-4511-a55e-c44ce5ba88c0"
    },
    {
      "cell_type": "code",
      "execution_count": null,
      "metadata": {
        "id": "59fb08b8-d7d8-42ff-9738-192400b8dd2a"
      },
      "outputs": [],
      "source": [
        "my_data <- na.omit(tmp[, -c(1, 2)])\n",
        "head(my_data)"
      ],
      "id": "59fb08b8-d7d8-42ff-9738-192400b8dd2a"
    },
    {
      "cell_type": "code",
      "execution_count": null,
      "metadata": {
        "id": "f184ba87-7d4c-4941-b05d-7d4c4f242996"
      },
      "outputs": [],
      "source": [
        "dim(my_data)"
      ],
      "id": "f184ba87-7d4c-4941-b05d-7d4c4f242996"
    },
    {
      "cell_type": "code",
      "execution_count": null,
      "metadata": {
        "id": "ce146d55-f23f-4dde-83d1-688e9e73d846"
      },
      "outputs": [],
      "source": [
        "my_data %>% write_csv(\"wine.csv\")"
      ],
      "id": "ce146d55-f23f-4dde-83d1-688e9e73d846"
    },
    {
      "cell_type": "code",
      "execution_count": null,
      "metadata": {
        "id": "cf838107-01a2-498a-a7d6-a9ed054942ac"
      },
      "outputs": [],
      "source": [
        "#my_data <- read_csv(\"wine.csv\") # 作ったファイルを使う場合\n",
        "my_url <- str_c(\"https://raw.githubusercontent.com/taroyabuki\",\n",
        "                \"/fromzero/master/data/wine.csv\")\n",
        "my_data <- read_csv(my_url)"
      ],
      "id": "cf838107-01a2-498a-a7d6-a9ed054942ac"
    },
    {
      "id": "fea096f8",
      "cell_type": "markdown",
      "source": [
        "## 8.2 重回帰分析"
      ],
      "metadata": {
        "id": "fea096f8"
      }
    },
    {
      "cell_type": "code",
      "execution_count": null,
      "metadata": {
        "id": "d71f906f-10d9-4476-bc8a-9d84a77c3ea3"
      },
      "outputs": [],
      "source": [
        "library(caret)\n",
        "library(tidyverse)\n",
        "my_url <- str_c(\"https://raw.githubusercontent.com/taroyabuki\",\n",
        "                \"/fromzero/master/data/wine.csv\")\n",
        "my_data <- read_csv(my_url)\n",
        "\n",
        "my_model <- train(form = LPRICE2 ~ WRAIN + DEGREES + HRAIN + TIME_SV,\n",
        "                  data = my_data,\n",
        "                  method = \"lm\",\n",
        "                  trControl = trainControl(method = \"LOOCV\"))"
      ],
      "id": "d71f906f-10d9-4476-bc8a-9d84a77c3ea3"
    },
    {
      "cell_type": "code",
      "execution_count": null,
      "metadata": {
        "id": "78924381-94e0-4f93-aa31-fa6cf3ef07b4"
      },
      "outputs": [],
      "source": [
        "coef(my_model$finalModel) %>%\n",
        "  as.data.frame"
      ],
      "id": "78924381-94e0-4f93-aa31-fa6cf3ef07b4"
    },
    {
      "cell_type": "code",
      "execution_count": null,
      "metadata": {
        "id": "dd7cb69b-3391-4d1f-9011-73307de6ce70"
      },
      "outputs": [],
      "source": [
        "my_test <- data.frame(\n",
        "  WRAIN = 500, DEGREES = 17,\n",
        "  HRAIN = 120, TIME_SV = 2)\n",
        "my_model %>% predict(my_test)"
      ],
      "id": "dd7cb69b-3391-4d1f-9011-73307de6ce70"
    },
    {
      "cell_type": "code",
      "execution_count": null,
      "metadata": {
        "id": "538ae62f-29d5-447b-8776-4ad2775eb1c9"
      },
      "outputs": [],
      "source": [
        "y  <- my_data$LPRICE2\n",
        "y_ <- my_model %>% predict(my_data)\n",
        "\n",
        "RMSE(y_, y)\n",
        "\n",
        "R2(pred = y_, obs = y,\n",
        "   form = \"traditional\")\n",
        "\n",
        "R2(pred = y_, obs = y,\n",
        "   form = \"corr\")"
      ],
      "id": "538ae62f-29d5-447b-8776-4ad2775eb1c9"
    },
    {
      "cell_type": "code",
      "execution_count": null,
      "metadata": {
        "id": "9738ad98-30b3-4f12-860a-7d82d79f932f"
      },
      "outputs": [],
      "source": [
        "my_model$results"
      ],
      "id": "9738ad98-30b3-4f12-860a-7d82d79f932f"
    },
    {
      "cell_type": "code",
      "execution_count": null,
      "metadata": {
        "id": "fc337752-9f5b-493a-9cb1-cf09dc3534a8"
      },
      "outputs": [],
      "source": [
        "M <- my_data[, -1] %>%\n",
        "  mutate(b0 = 1) %>% as.matrix\n",
        "b <- MASS::ginv(M) %*% y\n",
        "matrix(b,\n",
        "       dimnames = list(colnames(M)))"
      ],
      "id": "fc337752-9f5b-493a-9cb1-cf09dc3534a8"
    },
    {
      "id": "519bf369",
      "cell_type": "markdown",
      "source": [
        "## 8.3 標準化"
      ],
      "metadata": {
        "id": "519bf369"
      }
    },
    {
      "cell_type": "code",
      "execution_count": null,
      "metadata": {
        "id": "f73fcbc4-1c33-42cc-9281-49bae8601769"
      },
      "outputs": [],
      "source": [
        "library(caret)\n",
        "library(tidyverse)\n",
        "my_url <- str_c(\"https://raw.githubusercontent.com/taroyabuki\",\n",
        "                \"/fromzero/master/data/wine.csv\")\n",
        "my_data <- read_csv(my_url)\n",
        "\n",
        "my_data %>%\n",
        "  mutate_if(is.numeric, scale) %>% # 数値の列の標準化\n",
        "  pivot_longer(-LPRICE2) %>%\n",
        "  ggplot(aes(x = name, y = value)) +\n",
        "  geom_boxplot() +\n",
        "  stat_summary(fun = mean, geom = \"point\", size = 3) +\n",
        "  xlab(NULL)"
      ],
      "id": "f73fcbc4-1c33-42cc-9281-49bae8601769"
    },
    {
      "cell_type": "code",
      "execution_count": null,
      "metadata": {
        "id": "48c1b86a-6fdc-4a38-b16a-7345e2caec1a"
      },
      "outputs": [],
      "source": [
        "my_model <- train(\n",
        "  form = LPRICE2 ~ .,\n",
        "  data = my_data,\n",
        "  method = \"lm\",\n",
        "  preProcess = c(\"center\", \"scale\"))"
      ],
      "id": "48c1b86a-6fdc-4a38-b16a-7345e2caec1a"
    },
    {
      "cell_type": "code",
      "execution_count": null,
      "metadata": {
        "id": "6d2941a3-2981-473d-bb58-045929a9b7d3"
      },
      "outputs": [],
      "source": [
        "coef(my_model$finalModel) %>%\n",
        "  as.data.frame"
      ],
      "id": "6d2941a3-2981-473d-bb58-045929a9b7d3"
    },
    {
      "cell_type": "code",
      "execution_count": null,
      "metadata": {
        "id": "c5f1dd71-5a1f-4ba1-96f4-fe276dbb270b"
      },
      "outputs": [],
      "source": [
        "my_test <- data.frame(\n",
        "  WRAIN = 500, DEGREES = 17,\n",
        "  HRAIN = 120, TIME_SV = 2)\n",
        "my_model %>% predict(my_test)"
      ],
      "id": "c5f1dd71-5a1f-4ba1-96f4-fe276dbb270b"
    },
    {
      "id": "d431e3b9",
      "cell_type": "markdown",
      "source": [
        "## 8.4 入力変数の数とモデルの良さ"
      ],
      "metadata": {
        "id": "d431e3b9"
      }
    },
    {
      "cell_type": "code",
      "execution_count": null,
      "metadata": {
        "id": "337ba6fb-09f5-4359-8c4e-c65897089a59"
      },
      "outputs": [],
      "source": [
        "library(caret)\n",
        "library(tidyverse)\n",
        "my_url <- str_c(\"https://raw.githubusercontent.com/taroyabuki\",\n",
        "                \"/fromzero/master/data/wine.csv\")\n",
        "my_data <- read_csv(my_url)\n",
        "\n",
        "n <- nrow(my_data)\n",
        "my_data2 <- my_data %>% mutate(v1 = 0:(n - 1) %% 2,\n",
        "                               v2 = 0:(n - 1) %% 3)\n",
        "head(my_data2)"
      ],
      "id": "337ba6fb-09f5-4359-8c4e-c65897089a59"
    },
    {
      "cell_type": "code",
      "execution_count": null,
      "metadata": {
        "id": "5da903a3-7dd5-4e8e-ab19-17fdd2253b15"
      },
      "outputs": [],
      "source": [
        "my_model2 <- train(form = LPRICE2 ~ ., data = my_data2, method = \"lm\",\n",
        "                   trControl = trainControl(method = \"LOOCV\"))\n",
        "y  <- my_data2$LPRICE2\n",
        "y_ <- my_model2 %>% predict(my_data2)\n",
        "\n",
        "RMSE(y_, y)\n",
        "\n",
        "my_model2$results$RMSE"
      ],
      "id": "5da903a3-7dd5-4e8e-ab19-17fdd2253b15"
    },
    {
      "id": "b2f9867a",
      "cell_type": "markdown",
      "source": [
        "## 8.5 変数選択"
      ],
      "metadata": {
        "id": "b2f9867a"
      }
    },
    {
      "cell_type": "code",
      "execution_count": null,
      "metadata": {
        "id": "e4a6b0b6-08ad-47ec-a71f-a8adab63917a"
      },
      "outputs": [],
      "source": [
        "library(caret)\n",
        "library(tidyverse)\n",
        "my_url <- str_c(\"https://raw.githubusercontent.com/taroyabuki\",\n",
        "                \"/fromzero/master/data/wine.csv\")\n",
        "my_data <- read_csv(my_url)\n",
        "n <- nrow(my_data)\n",
        "my_data2 <- my_data %>% mutate(v1 = 0:(n - 1) %% 2,\n",
        "                               v2 = 0:(n - 1) %% 3)"
      ],
      "id": "e4a6b0b6-08ad-47ec-a71f-a8adab63917a"
    },
    {
      "cell_type": "code",
      "execution_count": null,
      "metadata": {
        "id": "56b54f9d-4c9e-40cf-b3e1-ca0648796720"
      },
      "outputs": [],
      "source": [
        "my_model <- train(form = LPRICE2 ~ .,\n",
        "                  data = my_data2,\n",
        "                  method = \"leapForward\", # 変数増加法\n",
        "                  trControl = trainControl(method = \"LOOCV\"),\n",
        "                  tuneGrid = data.frame(nvmax = 1:6)) # 選択する変数の上限\n",
        "summary(my_model$finalModel)$outmat"
      ],
      "id": "56b54f9d-4c9e-40cf-b3e1-ca0648796720"
    },
    {
      "id": "a3372c6a",
      "cell_type": "markdown",
      "source": [
        "## 8.6 補足：正則化"
      ],
      "metadata": {
        "id": "a3372c6a"
      }
    },
    {
      "cell_type": "code",
      "execution_count": null,
      "metadata": {
        "id": "d8e79e04-b908-439a-a43f-34b0f823fe64"
      },
      "outputs": [],
      "source": [
        "library(caret)\n",
        "library(tidyverse)\n",
        "my_url <- str_c(\"https://raw.githubusercontent.com/taroyabuki\",\n",
        "                \"/fromzero/master/data/wine.csv\")\n",
        "my_data <- read_csv(my_url)"
      ],
      "id": "d8e79e04-b908-439a-a43f-34b0f823fe64"
    },
    {
      "cell_type": "code",
      "execution_count": null,
      "metadata": {
        "id": "1d28288e-71b6-4c8d-9cb4-58652295760c"
      },
      "outputs": [],
      "source": [
        "A <- 2\n",
        "B <- 0.1\n",
        "\n",
        "my_model <- train(\n",
        "  form = LPRICE2 ~ .,\n",
        "  data = my_data,\n",
        "  method = \"glmnet\",\n",
        "  standardize = TRUE,\n",
        "  tuneGrid = data.frame(\n",
        "    lambda = A,\n",
        "    alpha = B))"
      ],
      "id": "1d28288e-71b6-4c8d-9cb4-58652295760c"
    },
    {
      "cell_type": "code",
      "execution_count": null,
      "metadata": {
        "id": "65466ec4-2159-4ea1-ba8e-e19b7a04d8d1"
      },
      "outputs": [],
      "source": [
        "coef(my_model$finalModel, A)"
      ],
      "id": "65466ec4-2159-4ea1-ba8e-e19b7a04d8d1"
    },
    {
      "cell_type": "code",
      "execution_count": null,
      "metadata": {
        "id": "3bf2785c-1263-4676-943f-744f76e5ab24"
      },
      "outputs": [],
      "source": [
        "my_test <- data.frame(\n",
        "  WRAIN = 500, DEGREES = 17,\n",
        "  HRAIN = 120, TIME_SV = 2)\n",
        "my_model %>% predict(my_test)"
      ],
      "id": "3bf2785c-1263-4676-943f-744f76e5ab24"
    },
    {
      "cell_type": "code",
      "execution_count": null,
      "metadata": {
        "id": "fc1caba4-968a-48e5-9b4f-14d9f7707b88"
      },
      "outputs": [],
      "source": [
        "library(ggfortify)\n",
        "library(glmnetUtils)\n",
        "\n",
        "my_data2 <- my_data %>% scale %>%\n",
        "  as.data.frame\n",
        "\n",
        "B <- 0.1\n",
        "\n",
        "glmnet(\n",
        "  form = LPRICE2 ~ .,\n",
        "  data = my_data2,\n",
        "  alpha = B) %>%\n",
        "  autoplot(xvar = \"lambda\") +\n",
        "  xlab(\"log A ( = log lambda)\") +\n",
        "  theme(legend.position = c(0.15, 0.25))"
      ],
      "id": "fc1caba4-968a-48e5-9b4f-14d9f7707b88"
    },
    {
      "cell_type": "code",
      "execution_count": null,
      "metadata": {
        "id": "1f29c330-7ca2-4c76-9d5f-45fdfc9bc6d1"
      },
      "outputs": [],
      "source": [
        "As <- seq(0, 0.1, length.out = 21)\n",
        "Bs <- seq(0, 0.1, length.out =  6)\n",
        "\n",
        "my_model <- train(\n",
        "  form = LPRICE2 ~ ., data = my_data, method = \"glmnet\", standardize = TRUE,\n",
        "  trControl = trainControl(method = \"LOOCV\"),\n",
        "  tuneGrid = expand.grid(lambda = As, alpha  = Bs))\n",
        "\n",
        "my_model$bestTune"
      ],
      "id": "1f29c330-7ca2-4c76-9d5f-45fdfc9bc6d1"
    },
    {
      "cell_type": "code",
      "execution_count": null,
      "metadata": {
        "id": "d8d2475f-75ab-48bb-9298-0da92c5378db"
      },
      "outputs": [],
      "source": [
        "tmp <- \"B ( = alpha)\"\n",
        "ggplot(my_model) +\n",
        "  theme(legend.position = c(0, 1), legend.justification = c(0, 1)) +\n",
        "  xlab(\"A ( = lambda)\") +\n",
        "  guides(shape = guide_legend(tmp), color = guide_legend(tmp))"
      ],
      "id": "d8d2475f-75ab-48bb-9298-0da92c5378db"
    },
    {
      "cell_type": "code",
      "execution_count": null,
      "metadata": {
        "id": "141f7edd-0b69-4890-a65d-34fd03ae3473"
      },
      "outputs": [],
      "source": [
        "my_model$results %>%\n",
        "  filter(RMSE == min(RMSE))"
      ],
      "id": "141f7edd-0b69-4890-a65d-34fd03ae3473"
    },
    {
      "id": "5c8cf2ac",
      "cell_type": "markdown",
      "source": [
        "## 8.7 ニューラルネットワーク"
      ],
      "metadata": {
        "id": "5c8cf2ac"
      }
    },
    {
      "cell_type": "code",
      "execution_count": null,
      "metadata": {
        "id": "f34efdee-53ce-4554-8db8-bada5a87c728"
      },
      "outputs": [],
      "source": [
        "curve(1 / (1 + exp(-x)), -6, 6)"
      ],
      "id": "f34efdee-53ce-4554-8db8-bada5a87c728"
    },
    {
      "cell_type": "code",
      "execution_count": null,
      "metadata": {
        "id": "e2b8354f-9bdf-40cc-ad1b-44f5714532f6"
      },
      "outputs": [],
      "source": [
        "library(caret)\n",
        "library(tidyverse)\n",
        "my_url <- str_c(\"https://raw.githubusercontent.com/taroyabuki\",\n",
        "                \"/fromzero/master/data/wine.csv\")\n",
        "my_data <- read_csv(my_url)"
      ],
      "id": "e2b8354f-9bdf-40cc-ad1b-44f5714532f6"
    },
    {
      "cell_type": "code",
      "execution_count": null,
      "metadata": {
        "id": "f1070952-466c-4367-b1bb-890c802babe5"
      },
      "outputs": [],
      "source": [
        "my_model <- train(form = LPRICE2 ~ .,\n",
        "                  data = my_data,\n",
        "                  method = \"neuralnet\",              # ニューラルネットワーク\n",
        "                  preProcess = c(\"center\", \"scale\"), # 標準化\n",
        "                  trControl = trainControl(method = \"LOOCV\"))\n",
        "plot(my_model$finalModel) # 訓練済ネットワークの描画"
      ],
      "id": "f1070952-466c-4367-b1bb-890c802babe5"
    },
    {
      "cell_type": "code",
      "execution_count": null,
      "metadata": {
        "id": "6ac57a3f-d2dc-44c5-8651-71c352f6a3d5"
      },
      "outputs": [],
      "source": [
        "my_model$results"
      ],
      "id": "6ac57a3f-d2dc-44c5-8651-71c352f6a3d5"
    },
    {
      "cell_type": "code",
      "execution_count": null,
      "metadata": {
        "id": "75253c06-5c44-4c33-a386-f1f2bb05a7da"
      },
      "outputs": [],
      "source": [
        "my_model <- train(\n",
        "  form = LPRICE2 ~ .,\n",
        "  data = my_data,\n",
        "  method = \"neuralnet\",\n",
        "  preProcess = c(\"center\", \"scale\"),\n",
        "  trControl = trainControl(method = \"LOOCV\"),\n",
        "  tuneGrid = expand.grid(layer1 = 1:5,\n",
        "                         layer2 = 0:2,\n",
        "                         layer3 = 0))"
      ],
      "id": "75253c06-5c44-4c33-a386-f1f2bb05a7da"
    },
    {
      "cell_type": "code",
      "execution_count": null,
      "metadata": {
        "id": "9d9f45df-c6ca-4716-861c-05b4c20b0812"
      },
      "outputs": [],
      "source": [
        "my_model$results %>%\n",
        "  filter(RMSE == min(RMSE))"
      ],
      "id": "9d9f45df-c6ca-4716-861c-05b4c20b0812"
    },
    {
      "id": "51088a5f",
      "cell_type": "markdown",
      "source": [
        "# 9 分類1（多値分類）"
      ],
      "metadata": {
        "id": "51088a5f"
      }
    },
    {
      "cell_type": "code",
      "execution_count": null,
      "metadata": {
        "id": "d31055b1-1523-4205-b9d1-95195908c959"
      },
      "outputs": [],
      "source": [
        "# Google Colaboratoryの環境設定\n",
        "if (file.exists(\"/content\")) {\n",
        "  options(Ncpus = parallel::detectCores())\n",
        "  packages_to_install <- c(\"caret\", \"furrr\", \"psych\", \"randomForest\", \"rpart.plot\", \"xgboost\")\n",
        "  installed_packages <- rownames(installed.packages())\n",
        "  install.packages(setdiff(packages_to_install, installed_packages))\n",
        "}"
      ],
      "id": "d31055b1-1523-4205-b9d1-95195908c959"
    },
    {
      "id": "9a64115c",
      "cell_type": "markdown",
      "source": [
        "## 9.1 アヤメのデータ"
      ],
      "metadata": {
        "id": "9a64115c"
      }
    },
    {
      "cell_type": "code",
      "execution_count": null,
      "metadata": {
        "id": "9fe9a469-4733-4080-bbbf-dbf40c404978"
      },
      "outputs": [],
      "source": [
        "my_data <- iris\n",
        "head(my_data)"
      ],
      "id": "9fe9a469-4733-4080-bbbf-dbf40c404978"
    },
    {
      "cell_type": "code",
      "execution_count": null,
      "metadata": {
        "id": "a9448fa6-0213-4271-8783-b4650146cbb0"
      },
      "outputs": [],
      "source": [
        "psych::describe(my_data)"
      ],
      "id": "a9448fa6-0213-4271-8783-b4650146cbb0"
    },
    {
      "id": "3ec703a8",
      "cell_type": "markdown",
      "source": [
        "## 9.2 木による分類"
      ],
      "metadata": {
        "id": "3ec703a8"
      }
    },
    {
      "cell_type": "code",
      "execution_count": null,
      "metadata": {
        "id": "1d275a19-15ce-45ea-9abd-98670975347f"
      },
      "outputs": [],
      "source": [
        "library(caret)\n",
        "library(tidyverse)\n",
        "my_data <- iris\n",
        "my_model <- train(form = Species ~ ., data = my_data, method = \"rpart\")"
      ],
      "id": "1d275a19-15ce-45ea-9abd-98670975347f"
    },
    {
      "cell_type": "code",
      "execution_count": null,
      "metadata": {
        "id": "438cad24-bb46-4cee-8180-87f2a6115676"
      },
      "outputs": [],
      "source": [
        "rpart.plot::rpart.plot(my_model$finalModel, extra = 1)"
      ],
      "id": "438cad24-bb46-4cee-8180-87f2a6115676"
    },
    {
      "cell_type": "code",
      "execution_count": null,
      "metadata": {
        "id": "f14aa92a-c1e4-457b-b30d-8bec9a8d4760"
      },
      "outputs": [],
      "source": [
        "my_test <- tribble(\n",
        "~Sepal.Length, ~Sepal.Width, ~Petal.Length, ~Petal.Width,\n",
        "          5.0,          3.5,           1.5,          0.5,\n",
        "          6.5,          3.0,           5.0,          2.0)\n",
        "\n",
        "my_model %>% predict(my_test)"
      ],
      "id": "f14aa92a-c1e4-457b-b30d-8bec9a8d4760"
    },
    {
      "cell_type": "code",
      "execution_count": null,
      "metadata": {
        "id": "41cf90d3-a2c8-46a7-b220-666105e5b560"
      },
      "outputs": [],
      "source": [
        "my_model %>% predict(my_test,\n",
        "                     type = \"prob\")"
      ],
      "id": "41cf90d3-a2c8-46a7-b220-666105e5b560"
    },
    {
      "id": "cc80a3b2",
      "cell_type": "markdown",
      "source": [
        "## 9.3 正解率"
      ],
      "metadata": {
        "id": "cc80a3b2"
      }
    },
    {
      "cell_type": "code",
      "execution_count": null,
      "metadata": {
        "id": "6b03a7e8-607c-4aa1-8a47-adee138c812c"
      },
      "outputs": [],
      "source": [
        "library(caret)\n",
        "library(tidyverse)\n",
        "my_data <- iris\n",
        "my_model <- train(form = Species ~ ., data = my_data, method = \"rpart2\")\n",
        "\n",
        "y  <- my_data$Species\n",
        "y_ <- my_model %>% predict(my_data)\n",
        "confusionMatrix(data = y_, reference = y)\n",
        "# 以下は割愛"
      ],
      "id": "6b03a7e8-607c-4aa1-8a47-adee138c812c"
    },
    {
      "cell_type": "code",
      "execution_count": null,
      "metadata": {
        "id": "375f0305-85bc-4c6b-8bf6-afcfc644997f"
      },
      "outputs": [],
      "source": [
        "y  <- my_data$Species\n",
        "y_ <- my_model %>% predict(my_data)\n",
        "mean(y_ == y)"
      ],
      "id": "375f0305-85bc-4c6b-8bf6-afcfc644997f"
    },
    {
      "cell_type": "code",
      "execution_count": null,
      "metadata": {
        "id": "8a60dc75-e18d-4b76-8e0f-117da6af4725"
      },
      "outputs": [],
      "source": [
        "my_model <- train(form = Species ~ ., data = my_data, method = \"rpart2\",\n",
        "                  trControl = trainControl(method = \"LOOCV\"))\n",
        "my_model$results"
      ],
      "id": "8a60dc75-e18d-4b76-8e0f-117da6af4725"
    },
    {
      "cell_type": "code",
      "execution_count": null,
      "metadata": {
        "id": "4fcf7529-42a5-4dcb-99f4-8960fe3d5def"
      },
      "outputs": [],
      "source": [
        "my_model <- train(form = Species ~ ., data = my_data, method = \"rpart2\",\n",
        "                  tuneGrid = data.frame(maxdepth = 1:10),\n",
        "                  trControl = trainControl(method = \"LOOCV\"))\n",
        "my_model$results %>% filter(Accuracy == max(Accuracy))"
      ],
      "id": "4fcf7529-42a5-4dcb-99f4-8960fe3d5def"
    },
    {
      "cell_type": "code",
      "execution_count": null,
      "metadata": {
        "id": "32a6e5a1-36c6-410e-9ad2-b667edbec52d"
      },
      "outputs": [],
      "source": [
        "# パラメータを与えると正解率（LOOCV）を返す関数\n",
        "my_loocv <- function(maxdepth, minbucket, minsplit) {\n",
        "  my_model <- train(form = Species ~ ., data = my_data, method = \"rpart2\",\n",
        "                    trControl = trainControl(method = \"LOOCV\"),\n",
        "                    tuneGrid = data.frame(maxdepth = maxdepth),\n",
        "                    control = rpart::rpart.control(cp = 0.01,\n",
        "                                                   minbucket = minbucket,\n",
        "                                                   minsplit = minsplit))\n",
        "  list(maxdepth = maxdepth,\n",
        "       minbucket = minbucket,\n",
        "       minsplit = minsplit,\n",
        "       Accuracy = my_model$results$Accuracy)\n",
        "}"
      ],
      "id": "32a6e5a1-36c6-410e-9ad2-b667edbec52d"
    },
    {
      "cell_type": "code",
      "execution_count": null,
      "metadata": {
        "id": "8b321bdd-723f-4128-9988-062ade717c1a"
      },
      "outputs": [],
      "source": [
        "my_params <- expand.grid(\n",
        "  maxdepth = 2:5,\n",
        "  minbucket = 1:7,\n",
        "  minsplit = c(2, 20))\n",
        "\n",
        "library(furrr)\n",
        "plan(multisession) # 並列処理の準備\n",
        "my_results <- my_params %>% future_pmap_dfr(my_loocv, # 実行\n",
        "  .options = furrr_options(seed = TRUE))\n",
        "\n",
        "my_results %>% filter(Accuracy == max(Accuracy)) # 正解率（検証）の最大値"
      ],
      "id": "8b321bdd-723f-4128-9988-062ade717c1a"
    },
    {
      "cell_type": "code",
      "execution_count": null,
      "metadata": {
        "id": "b899a9b0-5482-4d18-8039-3fc6bdc8660a"
      },
      "outputs": [],
      "source": [
        "my_model <- train(form = Species ~ ., data = my_data, method = \"rpart2\",\n",
        "                  trControl = trainControl(method = \"none\"),\n",
        "                  tuneGrid = data.frame(maxdepth = 3),\n",
        "                  control = rpart::rpart.control(cp = 0.01,\n",
        "                                                 minbucket = 5,\n",
        "                                                 minsplit = 2))"
      ],
      "id": "b899a9b0-5482-4d18-8039-3fc6bdc8660a"
    },
    {
      "cell_type": "code",
      "execution_count": null,
      "metadata": {
        "id": "7bfbb978-c73d-4f70-9457-faf41e47220b"
      },
      "outputs": [],
      "source": [
        "rpart.plot::rpart.plot(\n",
        "  my_model$finalModel, extra = 1)"
      ],
      "id": "7bfbb978-c73d-4f70-9457-faf41e47220b"
    },
    {
      "id": "9df15a81",
      "cell_type": "markdown",
      "source": [
        "## 9.4 複数の木を使う方法"
      ],
      "metadata": {
        "id": "9df15a81"
      }
    },
    {
      "cell_type": "code",
      "execution_count": null,
      "metadata": {
        "id": "8dc1d856-c69e-4baa-856b-22b4c7a90b4d"
      },
      "outputs": [],
      "source": [
        "library(caret)\n",
        "library(tidyverse)\n",
        "my_data <- iris\n",
        "\n",
        "my_model <- train(form = Species ~ ., data = my_data, method = \"rf\",\n",
        "                  tuneGrid = data.frame(mtry = 2:4), # 省略可\n",
        "                  trControl = trainControl(method = \"LOOCV\"))\n",
        "my_model$results"
      ],
      "id": "8dc1d856-c69e-4baa-856b-22b4c7a90b4d"
    },
    {
      "cell_type": "code",
      "execution_count": null,
      "metadata": {
        "id": "230afc19-1a45-44e6-95c4-270d4848a534"
      },
      "outputs": [],
      "source": [
        "my_model <- train(\n",
        "  form = Species ~ ., data = my_data, method = \"xgbTree\",\n",
        "  tuneGrid = expand.grid(\n",
        "    nrounds          = c(50, 100, 150),\n",
        "    max_depth        = c(1, 2, 3),\n",
        "    eta              = c(0.3, 0.4),\n",
        "    gamma            = 0,\n",
        "    colsample_bytree = c(0.6, 0.8),\n",
        "    min_child_weight = 1,\n",
        "    subsample        = c(0.5, 0.75, 1)),\n",
        "  trControl = trainControl(method = \"cv\", number = 5)) # 5分割交差検証\n",
        "my_model$results %>% filter(Accuracy == max(Accuracy)) %>% head(5) %>% t"
      ],
      "id": "230afc19-1a45-44e6-95c4-270d4848a534"
    },
    {
      "cell_type": "code",
      "execution_count": null,
      "metadata": {
        "id": "79b16506-9dd2-4fd0-ba59-e0d85ac1df97"
      },
      "outputs": [],
      "source": [
        "my_model <- train(form = Species ~ ., data = my_data, method = \"rf\")\n",
        "ggplot(varImp(my_model))"
      ],
      "id": "79b16506-9dd2-4fd0-ba59-e0d85ac1df97"
    },
    {
      "id": "17678a88",
      "cell_type": "markdown",
      "source": [
        "## 9.5 欠損のあるデータでの学習"
      ],
      "metadata": {
        "id": "17678a88"
      }
    },
    {
      "cell_type": "code",
      "execution_count": null,
      "metadata": {
        "id": "f9347304-2a44-4f1f-83a3-1bd9da7b570f"
      },
      "outputs": [],
      "source": [
        "library(caret)\n",
        "library(tidyverse)\n",
        "my_data <- iris\n",
        "\n",
        "n <- nrow(my_data)\n",
        "my_data$Petal.Length[0:(n - 1) %% 10 == 0] <- NA\n",
        "my_data$Petal.Width[ 0:(n - 1) %% 10 == 1] <- NA\n",
        "\n",
        "psych::describe(my_data) # nの値が135の変数に，150 - 135 = 15個の欠損がある．"
      ],
      "id": "f9347304-2a44-4f1f-83a3-1bd9da7b570f"
    },
    {
      "cell_type": "code",
      "execution_count": null,
      "metadata": {
        "id": "3aa38c8c-3c0b-4f75-83f5-dca42f7ae514"
      },
      "outputs": [],
      "source": [
        "my_model <- train(\n",
        "  form = Species ~ ., data = my_data, method = \"rpart2\",\n",
        "  na.action = na.pass,         # 欠損があっても学習を止めない．\n",
        "  preProcess = \"medianImpute\", # 欠損を中央値で埋める．\n",
        "  trControl = trainControl(method = \"LOOCV\"),\n",
        "  tuneGrid = data.frame(maxdepth = 20),          # 木の高さの上限\n",
        "  control = rpart::rpart.control(minsplit = 2,   # 分岐の条件\n",
        "                                 minbucket = 1)) # 終端ノードの条件\n",
        "max(my_model$results$Accuracy)"
      ],
      "id": "3aa38c8c-3c0b-4f75-83f5-dca42f7ae514"
    },
    {
      "cell_type": "code",
      "execution_count": null,
      "metadata": {
        "id": "7eb8f79c-0524-4feb-877c-87390df663e9"
      },
      "outputs": [],
      "source": [
        "my_model <- train(form = Species ~ ., data = my_data, method = \"xgbTree\",\n",
        "                  na.action = na.pass,\n",
        "                  trControl = trainControl(method = \"cv\", number = 5))\n",
        "max(my_model$results$Accuracy)"
      ],
      "id": "7eb8f79c-0524-4feb-877c-87390df663e9"
    },
    {
      "id": "074c51e1",
      "cell_type": "markdown",
      "source": [
        "## 9.6 他の分類手法"
      ],
      "metadata": {
        "id": "074c51e1"
      }
    },
    {
      "cell_type": "code",
      "execution_count": null,
      "metadata": {
        "id": "56066be0-7265-4e16-9652-b76d45184240"
      },
      "outputs": [],
      "source": [
        "library(caret)\n",
        "library(tidyverse)\n",
        "my_data <- iris\n",
        "\n",
        "my_model <- train(form = Species ~ ., data = my_data, method = \"knn\",\n",
        "                  trControl = trainControl(method = \"LOOCV\"))\n",
        "my_model$results %>% filter(Accuracy == max(Accuracy))"
      ],
      "id": "56066be0-7265-4e16-9652-b76d45184240"
    },
    {
      "cell_type": "code",
      "execution_count": null,
      "metadata": {
        "id": "2dec1d5b-89a1-4e41-8a2b-27fc69abed3c"
      },
      "outputs": [],
      "source": [
        "library(caret)\n",
        "library(tidyverse)\n",
        "my_data <- iris\n",
        "\n",
        "my_model <- train(form = Species ~ ., data = my_data, method = \"nnet\",\n",
        "                  preProcess = c(\"center\", \"scale\"), # 標準化\n",
        "                  trControl = trainControl(method = \"LOOCV\"),\n",
        "                  trace = FALSE) # 途中経過を表示しない\n",
        "my_model$results %>% filter(Accuracy == max(Accuracy))"
      ],
      "id": "2dec1d5b-89a1-4e41-8a2b-27fc69abed3c"
    },
    {
      "id": "f400d294",
      "cell_type": "markdown",
      "source": [
        "# 10 分類2（2値分類）"
      ],
      "metadata": {
        "id": "f400d294"
      }
    },
    {
      "cell_type": "code",
      "execution_count": null,
      "metadata": {
        "id": "4d63096d-2761-48ab-92fd-2fe22330ee41"
      },
      "outputs": [],
      "source": [
        "# Google Colaboratoryの環境設定\n",
        "if (file.exists(\"/content\")) {\n",
        "  options(Ncpus = parallel::detectCores())\n",
        "  packages_to_install <- c(\"caret\", \"PRROC\", \"rpart.plot\")\n",
        "  installed_packages <- rownames(installed.packages())\n",
        "  install.packages(setdiff(packages_to_install, installed_packages))\n",
        "}"
      ],
      "id": "4d63096d-2761-48ab-92fd-2fe22330ee41"
    },
    {
      "id": "526009e5",
      "cell_type": "markdown",
      "source": [
        "## 10.1 2値分類の性能指標"
      ],
      "metadata": {
        "id": "526009e5"
      }
    },
    {
      "cell_type": "code",
      "execution_count": null,
      "metadata": {
        "id": "a93eb3c8-9a72-4599-ba36-4f98d6c017a4"
      },
      "outputs": [],
      "source": [
        "y       <- c(  0,   1,   1,   0,   1,   0,    1,   0,   0,   1)\n",
        "y_score <- c(0.7, 0.8, 0.3, 0.4, 0.9, 0.6, 0.99, 0.1, 0.2, 0.5)"
      ],
      "id": "a93eb3c8-9a72-4599-ba36-4f98d6c017a4"
    },
    {
      "cell_type": "code",
      "execution_count": null,
      "metadata": {
        "id": "339b6729-b39a-4e8f-8c82-3cefbde31f47"
      },
      "outputs": [],
      "source": [
        "y_ <- ifelse(0.5 <= y_score, 1, 0)\n",
        "y_"
      ],
      "id": "339b6729-b39a-4e8f-8c82-3cefbde31f47"
    },
    {
      "cell_type": "code",
      "execution_count": null,
      "metadata": {
        "id": "6e2473c9-7485-428b-8d87-a04130c24db0"
      },
      "outputs": [],
      "source": [
        "library(caret)\n",
        "confusionMatrix(data      = as.factor(y_), # 予測\n",
        "                reference = as.factor(y),  # 正解\n",
        "                positive = \"1\",            # 「1」を陽性とする．\n",
        "                mode = \"everything\")       # 全ての指標を求める．"
      ],
      "id": "6e2473c9-7485-428b-8d87-a04130c24db0"
    },
    {
      "id": "6f2df4dd",
      "cell_type": "markdown",
      "source": [
        "## 10.2 トレードオフ"
      ],
      "metadata": {
        "id": "6f2df4dd"
      }
    },
    {
      "cell_type": "code",
      "execution_count": null,
      "metadata": {
        "id": "5f647672-a1bb-412f-87cb-00b1276bcb2c"
      },
      "outputs": [],
      "source": [
        "library(PRROC)\n",
        "library(tidyverse)\n",
        "\n",
        "y       <- c(  0,   1,   1,   0,   1,   0,    1,   0,   0,   1)\n",
        "y_score <- c(0.7, 0.8, 0.3, 0.4, 0.9, 0.6, 0.99, 0.1, 0.2, 0.5)\n",
        "y_      <- ifelse(0.5 <= y_score, 1, 0)\n",
        "\n",
        "c(sum((y == 0) & (y_ == 1)) / sum(y == 0), # FPR\n",
        "  sum((y == 1) & (y_ == 1)) / sum(y == 1)) # TPR"
      ],
      "id": "5f647672-a1bb-412f-87cb-00b1276bcb2c"
    },
    {
      "cell_type": "code",
      "execution_count": null,
      "metadata": {
        "id": "720879ed-2b84-43ef-9a94-ea805e9f3608"
      },
      "outputs": [],
      "source": [
        "my_roc <- roc.curve(scores.class0 = y_score[y == 1], # 答えが1のもののスコア\n",
        "                    scores.class1 = y_score[y == 0], # 答えが0のもののスコア\n",
        "                    curve = TRUE)\n",
        "my_roc %>% plot(xlab = \"False Positive Rate\",\n",
        "                ylab = \"True Positive Rate\",\n",
        "                legend = FALSE)"
      ],
      "id": "720879ed-2b84-43ef-9a94-ea805e9f3608"
    },
    {
      "cell_type": "code",
      "execution_count": null,
      "metadata": {
        "id": "f9feb1d1-807c-45a1-bc44-b44a5b777354"
      },
      "outputs": [],
      "source": [
        "my_roc$auc"
      ],
      "id": "f9feb1d1-807c-45a1-bc44-b44a5b777354"
    },
    {
      "cell_type": "code",
      "execution_count": null,
      "metadata": {
        "id": "e73599dd-ecff-410a-bfba-2b931f4fba8a"
      },
      "outputs": [],
      "source": [
        "c(sum((y == 1) & (y_ == 1)) / sum(y  == 1), # Recall == TPR\n",
        "  sum((y == 1) & (y_ == 1)) / sum(y_ == 1)) # Precision"
      ],
      "id": "e73599dd-ecff-410a-bfba-2b931f4fba8a"
    },
    {
      "cell_type": "code",
      "execution_count": null,
      "metadata": {
        "id": "63cdcff3-8e4e-4a0a-a0f8-80f28ad0dd67"
      },
      "outputs": [],
      "source": [
        "my_pr <- pr.curve(scores.class0 = y_score[y == 1],\n",
        "                  scores.class1 = y_score[y == 0],\n",
        "                  curve = TRUE)\n",
        "my_pr %>% plot(xlab = \"Recall\",\n",
        "               ylab = \"Precision\",\n",
        "               legend = FALSE)"
      ],
      "id": "63cdcff3-8e4e-4a0a-a0f8-80f28ad0dd67"
    },
    {
      "cell_type": "code",
      "execution_count": null,
      "metadata": {
        "id": "fed34ec1-716a-4eca-b269-e7162ad87b13"
      },
      "outputs": [],
      "source": [
        "my_pr$auc.integral"
      ],
      "id": "fed34ec1-716a-4eca-b269-e7162ad87b13"
    },
    {
      "id": "3efa5787",
      "cell_type": "markdown",
      "source": [
        "## 10.3 タイタニック"
      ],
      "metadata": {
        "id": "3efa5787"
      }
    },
    {
      "cell_type": "code",
      "execution_count": null,
      "metadata": {
        "id": "79a8a176-2287-4cbc-b85a-72b1b229bffd"
      },
      "outputs": [],
      "source": [
        "library(caret)\n",
        "library(PRROC)\n",
        "library(tidyverse)\n",
        "\n",
        "my_url <- str_c(\"https://raw.githubusercontent.com/taroyabuki\",\n",
        "                \"/fromzero/master/data/titanic.csv\")\n",
        "my_data <- read_csv(my_url)"
      ],
      "id": "79a8a176-2287-4cbc-b85a-72b1b229bffd"
    },
    {
      "cell_type": "code",
      "execution_count": null,
      "metadata": {
        "id": "d9da2777-1b8e-45bc-bcdb-50901d3ee358"
      },
      "outputs": [],
      "source": [
        "head(my_data)"
      ],
      "id": "d9da2777-1b8e-45bc-bcdb-50901d3ee358"
    },
    {
      "cell_type": "code",
      "execution_count": null,
      "metadata": {
        "id": "90486c9a-2860-4135-9828-d347168ab541"
      },
      "outputs": [],
      "source": [
        "my_model <- train(form = Survived ~ ., data = my_data, method = \"rpart2\",\n",
        "                  tuneGrid = data.frame(maxdepth = 2),\n",
        "                  trControl = trainControl(method = \"LOOCV\"))"
      ],
      "id": "90486c9a-2860-4135-9828-d347168ab541"
    },
    {
      "cell_type": "code",
      "execution_count": null,
      "metadata": {
        "id": "de5dbb08-8250-4439-81e1-4580e67fe584"
      },
      "outputs": [],
      "source": [
        "rpart.plot::rpart.plot(my_model$finalModel, extra = 1)"
      ],
      "id": "de5dbb08-8250-4439-81e1-4580e67fe584"
    },
    {
      "cell_type": "code",
      "execution_count": null,
      "metadata": {
        "id": "86838273-454f-426d-9201-52a3ec6bcfa5"
      },
      "outputs": [],
      "source": [
        "my_model$results"
      ],
      "id": "86838273-454f-426d-9201-52a3ec6bcfa5"
    },
    {
      "cell_type": "code",
      "execution_count": null,
      "metadata": {
        "id": "c9f2400e-5eb0-4dea-8833-b09a6aa3a37a"
      },
      "outputs": [],
      "source": [
        "y <- my_data$Survived\n",
        "tmp <- my_model %>% predict(newdata = my_data, type = \"prob\")\n",
        "y_score <- tmp$Yes\n",
        "\n",
        "my_roc <- roc.curve(scores.class0 = y_score[y == \"Yes\"],\n",
        "                    scores.class1 = y_score[y == \"No\"],\n",
        "                    curve = TRUE)\n",
        "my_roc$auc\n",
        "\n",
        "my_roc %>% plot(xlab = \"False Positive Rate\",\n",
        "                ylab = \"True Positive Rate\",\n",
        "                legend = FALSE)"
      ],
      "id": "c9f2400e-5eb0-4dea-8833-b09a6aa3a37a"
    },
    {
      "cell_type": "code",
      "execution_count": null,
      "metadata": {
        "id": "d8b02c53-a617-42c4-b808-a7f8001cc3d9"
      },
      "outputs": [],
      "source": [
        "X <- my_data %>% select(Class) # 質的入力変数\n",
        "y <- my_data$Survived          # 出力変数\n",
        "\n",
        "options(warn = -1) # これ以降，警告を表示しない．\n",
        "my_model1 <- train(x = X, y = y, method = \"rpart2\",\n",
        "                   tuneGrid = data.frame(maxdepth = 2),\n",
        "                   trControl = trainControl(method = \"LOOCV\"))\n",
        "options(warn = 0)  # これ以降，警告を表示する．\n",
        "\n",
        "rpart.plot::rpart.plot(my_model1$finalModel, extra = 1)\n",
        "my_model1$results"
      ],
      "id": "d8b02c53-a617-42c4-b808-a7f8001cc3d9"
    },
    {
      "cell_type": "code",
      "execution_count": null,
      "metadata": {
        "id": "54a8c99b-7a9e-4666-98f0-f9a0d8af4d70"
      },
      "outputs": [],
      "source": [
        "my_enc <- my_data %>% dummyVars(formula = Survived ~ Class)\n",
        "my_data2 <- my_enc %>%\n",
        "  predict(my_data) %>%\n",
        "  as.data.frame %>%\n",
        "  mutate(Survived = my_data$Survived)\n",
        "\n",
        "my_model2 <- train(form = Survived ~ ., data = my_data2, method = \"rpart2\",\n",
        "                   tuneGrid = data.frame(maxdepth = 2),\n",
        "                   trControl = trainControl(method = \"LOOCV\"))\n",
        "rpart.plot::rpart.plot(my_model2$finalModel, extra = 1)\n",
        "my_model2$results"
      ],
      "id": "54a8c99b-7a9e-4666-98f0-f9a0d8af4d70"
    },
    {
      "cell_type": "code",
      "execution_count": null,
      "metadata": {
        "id": "c82ccc2d-f1ad-436f-b26d-990df8e558db"
      },
      "outputs": [],
      "source": [
        "my_model3 <- train(form = Survived ~ Class, data = my_data, method = \"rpart2\",\n",
        "                   tuneGrid = data.frame(maxdepth = 2),\n",
        "                   trControl = trainControl(method = \"LOOCV\"))\n",
        "rpart.plot::rpart.plot(my_model3$finalModel, extra = 1)\n",
        "my_model3$results"
      ],
      "id": "c82ccc2d-f1ad-436f-b26d-990df8e558db"
    },
    {
      "id": "03992e37",
      "cell_type": "markdown",
      "source": [
        "## 10.4 ロジスティック回帰"
      ],
      "metadata": {
        "id": "03992e37"
      }
    },
    {
      "cell_type": "code",
      "execution_count": null,
      "metadata": {
        "id": "53e552ae-8489-418a-a759-53950d3dd4ee"
      },
      "outputs": [],
      "source": [
        "curve(1 / (1 + exp(-x)), -6, 6)"
      ],
      "id": "53e552ae-8489-418a-a759-53950d3dd4ee"
    },
    {
      "cell_type": "code",
      "execution_count": null,
      "metadata": {
        "id": "c0308476-a1a1-49e6-8a57-4af78c1eba85"
      },
      "outputs": [],
      "source": [
        "library(caret)\n",
        "library(PRROC)\n",
        "library(tidyverse)\n",
        "\n",
        "my_url <- str_c(\"https://raw.githubusercontent.com/taroyabuki\",\n",
        "                \"/fromzero/master/data/titanic.csv\")\n",
        "my_data <- read_csv(my_url)\n",
        "\n",
        "my_model <- train(form = Survived ~ ., data = my_data, method = \"glm\",\n",
        "                  trControl = trainControl(method = \"LOOCV\"))"
      ],
      "id": "c0308476-a1a1-49e6-8a57-4af78c1eba85"
    },
    {
      "cell_type": "code",
      "execution_count": null,
      "metadata": {
        "id": "238a1659-2591-4b24-978e-34a253cb7f85"
      },
      "outputs": [],
      "source": [
        "coef(my_model$finalModel) %>%\n",
        "  as.data.frame"
      ],
      "id": "238a1659-2591-4b24-978e-34a253cb7f85"
    },
    {
      "cell_type": "code",
      "execution_count": null,
      "metadata": {
        "id": "aa23b2b2-149d-4fa2-b352-a8166964f0ea"
      },
      "outputs": [],
      "source": [
        "my_model$results"
      ],
      "id": "aa23b2b2-149d-4fa2-b352-a8166964f0ea"
    },
    {
      "id": "6361bfae",
      "cell_type": "markdown",
      "source": [
        "# 11 深層学習とAutoML"
      ],
      "metadata": {
        "id": "6361bfae"
      }
    },
    {
      "cell_type": "code",
      "execution_count": null,
      "metadata": {
        "id": "73592674-75ed-42e2-9307-a20e39c95b6a"
      },
      "outputs": [],
      "source": [
        "# Google Colaboratoryの環境設定\n",
        "if (file.exists(\"/content\")) {\n",
        "  options(Ncpus = parallel::detectCores())\n",
        "  packages_to_install <- c(\"h2o\", \"keras\")\n",
        "  installed_packages <- rownames(installed.packages())\n",
        "  install.packages(setdiff(packages_to_install, installed_packages))\n",
        "}"
      ],
      "id": "73592674-75ed-42e2-9307-a20e39c95b6a"
    },
    {
      "id": "00525c1e",
      "cell_type": "markdown",
      "source": [
        "## 11.1 Kerasによる回帰"
      ],
      "metadata": {
        "id": "00525c1e"
      }
    },
    {
      "cell_type": "code",
      "execution_count": null,
      "metadata": {
        "id": "200d1f16-236f-4dc8-a9c7-4001ec52265c"
      },
      "outputs": [],
      "source": [
        "library(keras)\n",
        "library(tidyverse)\n",
        "my_url <- str_c(\"https://raw.githubusercontent.com/taroyabuki\",\n",
        "                \"/fromzero/master/data/wine.csv\")\n",
        "tmp <- read_csv(my_url)"
      ],
      "id": "200d1f16-236f-4dc8-a9c7-4001ec52265c"
    },
    {
      "cell_type": "code",
      "execution_count": null,
      "metadata": {
        "id": "493d8624-730d-4ef2-92fb-a6eaef0658bc"
      },
      "outputs": [],
      "source": [
        "my_data <- tmp[sample(nrow(tmp)), ]"
      ],
      "id": "493d8624-730d-4ef2-92fb-a6eaef0658bc"
    },
    {
      "cell_type": "code",
      "execution_count": null,
      "metadata": {
        "id": "ad468e5a-70d5-40fc-97dd-6a7b69dca1b6"
      },
      "outputs": [],
      "source": [
        "X <- my_data %>%\n",
        "  select(-LPRICE2) %>% scale\n",
        "y <- my_data$LPRICE2"
      ],
      "id": "ad468e5a-70d5-40fc-97dd-6a7b69dca1b6"
    },
    {
      "cell_type": "code",
      "execution_count": null,
      "metadata": {
        "id": "da417a09-07cd-48b7-8869-1aa8eec7b901"
      },
      "outputs": [],
      "source": [
        "curve(activation_relu(x), -3, 3)"
      ],
      "id": "da417a09-07cd-48b7-8869-1aa8eec7b901"
    },
    {
      "cell_type": "code",
      "execution_count": null,
      "metadata": {
        "id": "d9895f75-a710-41bf-be36-002cb7eb081e"
      },
      "outputs": [],
      "source": [
        "my_model <- keras_model_sequential() %>%\n",
        "  layer_dense(units = 3, activation = \"relu\", input_shape = c(4)) %>%\n",
        "  layer_dense(units = 1)\n",
        "\n",
        "summary(my_model) # ネットワークの概要\n",
        "# 割愛（Pythonの結果を参照）"
      ],
      "id": "d9895f75-a710-41bf-be36-002cb7eb081e"
    },
    {
      "cell_type": "code",
      "execution_count": null,
      "metadata": {
        "id": "baeab163-8e5c-4370-9ec0-96bf195a6617"
      },
      "outputs": [],
      "source": [
        "my_model %>% compile(\n",
        "  loss = \"mse\",\n",
        "  optimizer = \"rmsprop\")"
      ],
      "id": "baeab163-8e5c-4370-9ec0-96bf195a6617"
    },
    {
      "cell_type": "code",
      "execution_count": null,
      "metadata": {
        "id": "ff9f9cfe-81f6-4af2-baba-5c9f24babc80"
      },
      "outputs": [],
      "source": [
        "my_cb <- callback_early_stopping(\n",
        "  patience = 20,\n",
        "  restore_best_weights = TRUE)"
      ],
      "id": "ff9f9cfe-81f6-4af2-baba-5c9f24babc80"
    },
    {
      "cell_type": "code",
      "execution_count": null,
      "metadata": {
        "id": "fce294dd-2945-45ce-8e39-77772855d551"
      },
      "outputs": [],
      "source": [
        "my_history <- my_model %>% fit(\n",
        "    x = X,\n",
        "    y = y,\n",
        "    validation_split = 0.25,\n",
        "    batch_size = 10,\n",
        "    epochs = 500,\n",
        "    callbacks = list(my_cb),\n",
        "    verbose = 0)"
      ],
      "id": "fce294dd-2945-45ce-8e39-77772855d551"
    },
    {
      "cell_type": "code",
      "execution_count": null,
      "metadata": {
        "id": "18f8b406-c617-4b70-b6e3-93d175203bf1"
      },
      "outputs": [],
      "source": [
        "plot(my_history)"
      ],
      "id": "18f8b406-c617-4b70-b6e3-93d175203bf1"
    },
    {
      "cell_type": "code",
      "execution_count": null,
      "metadata": {
        "id": "d0ec3576-ec80-4193-9150-2dba46c0183c"
      },
      "outputs": [],
      "source": [
        "my_history"
      ],
      "id": "d0ec3576-ec80-4193-9150-2dba46c0183c"
    },
    {
      "cell_type": "code",
      "execution_count": null,
      "metadata": {
        "id": "08875606-ac30-4255-a055-7d2ba843ef49"
      },
      "outputs": [],
      "source": [
        "y_ <- my_model %>% predict(X)\n",
        "mean((y_ - y)^2)**0.5"
      ],
      "id": "08875606-ac30-4255-a055-7d2ba843ef49"
    },
    {
      "id": "ea6a5cf1",
      "cell_type": "markdown",
      "source": [
        "## 11.2 Kerasによる分類"
      ],
      "metadata": {
        "id": "ea6a5cf1"
      }
    },
    {
      "cell_type": "code",
      "execution_count": null,
      "metadata": {
        "id": "7eb34baa-773d-4991-ade6-c83016884d2b"
      },
      "outputs": [],
      "source": [
        "library(keras)\n",
        "library(tidyverse)\n",
        "my_data <- iris[sample(nrow(iris)), ]"
      ],
      "id": "7eb34baa-773d-4991-ade6-c83016884d2b"
    },
    {
      "cell_type": "code",
      "execution_count": null,
      "metadata": {
        "id": "927c7dd6-9df6-4dc9-b871-92af96765d5a"
      },
      "outputs": [],
      "source": [
        "X <- my_data %>%\n",
        "  select(-Species) %>% scale\n",
        "y <- as.integer(my_data$Species) - 1"
      ],
      "id": "927c7dd6-9df6-4dc9-b871-92af96765d5a"
    },
    {
      "cell_type": "code",
      "execution_count": null,
      "metadata": {
        "id": "69a0373a-8954-4e54-8a6a-44976e74b035"
      },
      "outputs": [],
      "source": [
        "my_model <- keras_model_sequential() %>%\n",
        "  layer_dense(units = 3, activation = \"relu\", input_shape = c(4)) %>%\n",
        "  layer_dense(units = 3, activation = \"softmax\")"
      ],
      "id": "69a0373a-8954-4e54-8a6a-44976e74b035"
    },
    {
      "cell_type": "code",
      "execution_count": null,
      "metadata": {
        "id": "ad36f909-aa4c-4424-99b3-95ef781113e0"
      },
      "outputs": [],
      "source": [
        "my_model %>% compile(loss = \"sparse_categorical_crossentropy\",\n",
        "                     optimizer = \"rmsprop\",\n",
        "                     metrics = c(\"accuracy\"))"
      ],
      "id": "ad36f909-aa4c-4424-99b3-95ef781113e0"
    },
    {
      "cell_type": "code",
      "execution_count": null,
      "metadata": {
        "id": "cdb8676e-4c27-4158-b3b6-de150e1fea6d"
      },
      "outputs": [],
      "source": [
        "my_cb <- callback_early_stopping(\n",
        "  patience = 20,\n",
        "  restore_best_weights = TRUE)\n",
        "\n",
        "my_history <- my_model %>%\n",
        "  fit(x = X,\n",
        "    y = y,\n",
        "    validation_split = 0.25,\n",
        "    batch_size = 10,\n",
        "    epochs = 500,\n",
        "    callbacks = list(my_cb),\n",
        "    verbose = 0)\n",
        "\n",
        "plot(my_history)"
      ],
      "id": "cdb8676e-4c27-4158-b3b6-de150e1fea6d"
    },
    {
      "cell_type": "code",
      "execution_count": null,
      "metadata": {
        "id": "8b261dcc-4d28-4058-8ef5-5c8879a92439"
      },
      "outputs": [],
      "source": [
        "my_history"
      ],
      "id": "8b261dcc-4d28-4058-8ef5-5c8879a92439"
    },
    {
      "cell_type": "code",
      "execution_count": null,
      "metadata": {
        "id": "d49c4ef1-b092-413a-bd18-5b3675df33ca"
      },
      "outputs": [],
      "source": [
        "tmp <- my_model %>% predict(X)\n",
        "y_ <- apply(tmp, 1, which.max) - 1\n",
        "mean(y_ == y)"
      ],
      "id": "d49c4ef1-b092-413a-bd18-5b3675df33ca"
    },
    {
      "cell_type": "code",
      "execution_count": null,
      "metadata": {
        "id": "2f6510b7-a6c6-4f15-853c-7a007414adde"
      },
      "outputs": [],
      "source": [
        "-mean(log(c(0.8, 0.7, 0.3, 0.8)))\n",
        "\n",
        "-mean(log(c(0.7, 0.6, 0.2, 0.7)))"
      ],
      "id": "2f6510b7-a6c6-4f15-853c-7a007414adde"
    },
    {
      "cell_type": "code",
      "execution_count": null,
      "metadata": {
        "id": "0a03d8e7-b36c-455a-ba94-60043dbcbb5e"
      },
      "outputs": [],
      "source": [
        "y <- c(2, 1, 0, 1)\n",
        "y_1 <- list(c(0.1, 0.1, 0.8),\n",
        "            c(0.1, 0.7, 0.2),\n",
        "            c(0.3, 0.4, 0.3),\n",
        "            c(0.1, 0.8, 0.1))\n",
        "y_2 <- list(c(0.1, 0.2, 0.7),\n",
        "            c(0.2, 0.6, 0.2),\n",
        "            c(0.2, 0.5, 0.3),\n",
        "            c(0.2, 0.7, 0.1))"
      ],
      "id": "0a03d8e7-b36c-455a-ba94-60043dbcbb5e"
    },
    {
      "cell_type": "code",
      "execution_count": null,
      "metadata": {
        "id": "49a50418-4ea1-4e32-8919-dce698699113"
      },
      "outputs": [],
      "source": [
        "c(mean(as.array(loss_sparse_categorical_crossentropy(y_true = y, y_pred = y_1))),\n",
        "  mean(as.array(loss_sparse_categorical_crossentropy(y_true = y, y_pred = y_2))))"
      ],
      "id": "49a50418-4ea1-4e32-8919-dce698699113"
    },
    {
      "id": "f58cd388",
      "cell_type": "markdown",
      "source": [
        "## 11.3 MNIST：手書き数字の分類"
      ],
      "metadata": {
        "id": "f58cd388"
      }
    },
    {
      "cell_type": "code",
      "execution_count": null,
      "metadata": {
        "id": "019fb7bd-363a-4ea1-95b5-87a52e137825"
      },
      "outputs": [],
      "source": [
        "library(keras)\n",
        "library(tidyverse)\n",
        "keras::`%<-%`(c(c(x_train, y_train), c(x_test, y_test)), dataset_mnist())"
      ],
      "id": "019fb7bd-363a-4ea1-95b5-87a52e137825"
    },
    {
      "cell_type": "code",
      "execution_count": null,
      "metadata": {
        "id": "544df123-5113-4636-a4e2-793dbf386818"
      },
      "outputs": [],
      "source": [
        "dim(x_train)"
      ],
      "id": "544df123-5113-4636-a4e2-793dbf386818"
    },
    {
      "cell_type": "code",
      "execution_count": null,
      "metadata": {
        "id": "5b5629cc-785e-4bdf-ad45-e2484ac456f4"
      },
      "outputs": [],
      "source": [
        "x_train[5, , ]"
      ],
      "id": "5b5629cc-785e-4bdf-ad45-e2484ac456f4"
    },
    {
      "cell_type": "code",
      "execution_count": null,
      "metadata": {
        "id": "38113f92-5ccf-4008-b534-ce8ea3ccaa19"
      },
      "outputs": [],
      "source": [
        "plot(as.raster(x = x_train[5, , ],\n",
        "               max = max(x_train)))"
      ],
      "id": "38113f92-5ccf-4008-b534-ce8ea3ccaa19"
    },
    {
      "cell_type": "code",
      "execution_count": null,
      "metadata": {
        "id": "b6766199-aee6-4479-b119-2b30c10e2a70"
      },
      "outputs": [],
      "source": [
        "head(y_train)"
      ],
      "id": "b6766199-aee6-4479-b119-2b30c10e2a70"
    },
    {
      "cell_type": "code",
      "execution_count": null,
      "metadata": {
        "id": "d6c32f64-e99e-4198-bb39-aaefda651aec"
      },
      "outputs": [],
      "source": [
        "c(min(x_train), max(x_train))"
      ],
      "id": "d6c32f64-e99e-4198-bb39-aaefda651aec"
    },
    {
      "cell_type": "code",
      "execution_count": null,
      "metadata": {
        "id": "ce02b2ee-0f3b-4114-be2a-e13bf2c17bf8"
      },
      "outputs": [],
      "source": [
        "x_train <- x_train / 255\n",
        "x_test  <- x_test  / 255"
      ],
      "id": "ce02b2ee-0f3b-4114-be2a-e13bf2c17bf8"
    },
    {
      "cell_type": "code",
      "execution_count": null,
      "metadata": {
        "id": "347fc752-b42c-49da-814a-392335f35084"
      },
      "outputs": [],
      "source": [
        "my_index <- sample(1:60000, 6000)\n",
        "x_train <- x_train[my_index, , ]\n",
        "y_train <- y_train[my_index]"
      ],
      "id": "347fc752-b42c-49da-814a-392335f35084"
    },
    {
      "cell_type": "code",
      "execution_count": null,
      "metadata": {
        "id": "70f81106-e64b-46a6-bfe5-05077f5aa752"
      },
      "outputs": [],
      "source": [
        "my_model <- keras_model_sequential() %>%\n",
        "  layer_flatten(input_shape = c(28, 28)) %>%\n",
        "  layer_dense(units = 256, activation = \"relu\") %>%\n",
        "  layer_dense(units = 10, activation = \"softmax\")\n",
        "summary(my_model)\n",
        "# 割愛（Pythonの結果を参照）\n",
        "\n",
        "my_model %>% compile(loss = \"sparse_categorical_crossentropy\",\n",
        "                     optimizer = \"rmsprop\",\n",
        "                     metrics = c(\"accuracy\"))\n",
        "\n",
        "my_cb <- callback_early_stopping(patience = 5,\n",
        "                                 restore_best_weights = TRUE)"
      ],
      "id": "70f81106-e64b-46a6-bfe5-05077f5aa752"
    },
    {
      "cell_type": "code",
      "execution_count": null,
      "metadata": {
        "id": "16234cff-9298-4b95-a43e-d8474f4a2507"
      },
      "outputs": [],
      "source": [
        "my_history <- my_model %>%\n",
        "  fit(x = x_train,\n",
        "      y = y_train,\n",
        "      validation_split = 0.2,\n",
        "      batch_size = 128,\n",
        "      epochs = 20,\n",
        "      callbacks = list(my_cb),\n",
        "      verbose = 0)\n",
        "\n",
        "plot(my_history)"
      ],
      "id": "16234cff-9298-4b95-a43e-d8474f4a2507"
    },
    {
      "cell_type": "code",
      "execution_count": null,
      "metadata": {
        "id": "c2014194-df6e-4afc-9d89-a4b1acace3fd"
      },
      "outputs": [],
      "source": [
        "tmp <- my_model %>% predict(x_test)\n",
        "y_ <- apply(tmp, 1, which.max) - 1\n",
        "table(y_, y_test)"
      ],
      "id": "c2014194-df6e-4afc-9d89-a4b1acace3fd"
    },
    {
      "cell_type": "code",
      "execution_count": null,
      "metadata": {
        "id": "377c4696-96f9-493d-9c04-428abf962a96"
      },
      "outputs": [],
      "source": [],
      "id": "377c4696-96f9-493d-9c04-428abf962a96"
    },
    {
      "cell_type": "code",
      "execution_count": null,
      "metadata": {
        "id": "b734bd17-2cc2-4f3e-ad5a-07c7bd02af31"
      },
      "outputs": [],
      "source": [
        "mean(y_ == y_test)"
      ],
      "id": "b734bd17-2cc2-4f3e-ad5a-07c7bd02af31"
    },
    {
      "cell_type": "code",
      "execution_count": null,
      "metadata": {
        "id": "2182a4a7-cf2d-40ef-a9af-590bff996b7e"
      },
      "outputs": [],
      "source": [
        "my_model %>%\n",
        "  evaluate(x = x_test, y = y_test)"
      ],
      "id": "2182a4a7-cf2d-40ef-a9af-590bff996b7e"
    },
    {
      "cell_type": "code",
      "execution_count": null,
      "metadata": {
        "id": "018d13e9-d9ca-4088-98ba-67a7734763ca"
      },
      "outputs": [],
      "source": [
        "x_train2d <- x_train %>% array_reshape(c(-1, 28, 28, 1))\n",
        "x_test2d  <- x_test  %>% array_reshape(c(-1, 28, 28, 1))"
      ],
      "id": "018d13e9-d9ca-4088-98ba-67a7734763ca"
    },
    {
      "cell_type": "code",
      "execution_count": null,
      "metadata": {
        "id": "f61fdf0b-17df-4f69-8865-7902e8130226"
      },
      "outputs": [],
      "source": [
        "my_model <- keras_model_sequential() %>%\n",
        "  layer_conv_2d(filters = 32, kernel_size = 3,  # 畳み込み層\n",
        "                activation = \"relu\",\n",
        "                input_shape = c(28, 28, 1)) %>%\n",
        "  layer_max_pooling_2d(pool_size = 2) %>%       # プーリング層\n",
        "  layer_flatten() %>%\n",
        "  layer_dense(units = 128, activation = \"relu\") %>%\n",
        "  layer_dense(units = 10, activation = \"softmax\")\n",
        "\n",
        "summary(my_model)\n",
        "# 割愛（Python の結果を参照）\n",
        "\n",
        "my_model %>% compile(loss = \"sparse_categorical_crossentropy\",\n",
        "                     optimizer = \"rmsprop\",\n",
        "                     metrics = c(\"accuracy\"))\n",
        "\n",
        "my_cb <- callback_early_stopping(patience = 5,\n",
        "                                 restore_best_weights = TRUE)"
      ],
      "id": "f61fdf0b-17df-4f69-8865-7902e8130226"
    },
    {
      "cell_type": "code",
      "execution_count": null,
      "metadata": {
        "id": "d50d6e18-60ed-4d25-96ca-bae451703883"
      },
      "outputs": [],
      "source": [
        "my_history <- my_model %>%\n",
        "  fit(x = x_train2d,\n",
        "      y = y_train,\n",
        "      validation_split = 0.2,\n",
        "      batch_size = 128,\n",
        "      epochs = 20,\n",
        "      callbacks = list(my_cb),\n",
        "      verbose = 0)\n",
        "\n",
        "plot(my_history)"
      ],
      "id": "d50d6e18-60ed-4d25-96ca-bae451703883"
    },
    {
      "cell_type": "code",
      "execution_count": null,
      "metadata": {
        "id": "f4fa7eac-8937-4bfd-a108-199d5caf1786"
      },
      "outputs": [],
      "source": [
        "my_model %>%\n",
        "  evaluate(x = x_test2d, y = y_test)"
      ],
      "id": "f4fa7eac-8937-4bfd-a108-199d5caf1786"
    },
    {
      "cell_type": "code",
      "execution_count": null,
      "metadata": {
        "id": "7d8294f2-eb4c-4eaa-a24c-167288cd3dc7"
      },
      "outputs": [],
      "source": [
        "my_model <- keras_model_sequential() %>%\n",
        "  layer_conv_2d(filters = 20, kernel_size = 5, activation = \"relu\",\n",
        "                input_shape = c(28, 28, 1)) %>%\n",
        "  layer_max_pooling_2d(pool_size = 2, strides = 2) %>%\n",
        "  layer_conv_2d(filters = 50, kernel_size = 5, activation = \"relu\") %>%\n",
        "  layer_max_pooling_2d(pool_size = 2, strides = 2) %>%\n",
        "  layer_dropout(rate = 0.25) %>%\n",
        "  layer_flatten() %>%\n",
        "  layer_dense(units = 500, activation = \"relu\") %>%\n",
        "  layer_dropout(rate = 0.5) %>%\n",
        "  layer_dense(units = 10, activation = \"softmax\")\n",
        "\n",
        "my_model %>% compile(\n",
        "  loss = \"sparse_categorical_crossentropy\",\n",
        "  optimizer = \"rmsprop\",\n",
        "  metrics = c(\"accuracy\"))\n",
        "\n",
        "my_cb <- callback_early_stopping(patience = 5,\n",
        "                                 restore_best_weights = TRUE)"
      ],
      "id": "7d8294f2-eb4c-4eaa-a24c-167288cd3dc7"
    },
    {
      "cell_type": "code",
      "execution_count": null,
      "metadata": {
        "id": "a320c3e2-34a9-4c31-bd0f-5e2f3c400222"
      },
      "outputs": [],
      "source": [
        "my_history <- my_model %>%\n",
        "  fit(x = x_train2d,\n",
        "      y = y_train,\n",
        "      validation_split = 0.2,\n",
        "      batch_size = 128,\n",
        "      epochs = 20,\n",
        "      callbacks = list(my_cb),\n",
        "      verbose = 0)\n",
        "\n",
        "plot(my_history)"
      ],
      "id": "a320c3e2-34a9-4c31-bd0f-5e2f3c400222"
    },
    {
      "cell_type": "code",
      "execution_count": null,
      "metadata": {
        "id": "410b1d87-c3b4-418f-826d-00d0a7050626"
      },
      "outputs": [],
      "source": [
        "my_model %>%\n",
        "  evaluate(x = x_test2d, y = y_test)"
      ],
      "id": "410b1d87-c3b4-418f-826d-00d0a7050626"
    },
    {
      "cell_type": "code",
      "execution_count": null,
      "metadata": {
        "id": "34043a5d-c3ec-4644-9468-365f10dd5992"
      },
      "outputs": [],
      "source": [
        "y_prob <- my_model %>% predict(x_test2d) # カテゴリに属する確率\n",
        "\n",
        "my_result <- data.frame(\n",
        "  y_prob = apply(y_prob, 1, max),           # 確率の最大値\n",
        "  y_     = apply(y_prob, 1, which.max) - 1, # 予測カテゴリ\n",
        "  y      = y_test,                          # 正解\n",
        "  id     = seq_len(length(y_test))) %>%     # 番号\n",
        "  filter(y_ != y) %>%                       # 予測がはずれたものを残す\n",
        "  arrange(desc(y_prob))                     # 確率の大きい順に並び替える"
      ],
      "id": "34043a5d-c3ec-4644-9468-365f10dd5992"
    },
    {
      "cell_type": "code",
      "execution_count": null,
      "metadata": {
        "id": "4ed35f60-5527-453a-92bc-396cb6885671"
      },
      "outputs": [],
      "source": [
        "head(my_result)"
      ],
      "id": "4ed35f60-5527-453a-92bc-396cb6885671"
    },
    {
      "cell_type": "code",
      "execution_count": null,
      "metadata": {
        "id": "94144d0f-e83c-420a-9ebd-5839266f4966"
      },
      "outputs": [],
      "source": [
        "tmp <- my_result[1:5, ]$id\n",
        "my_labels <- sprintf(\"%s (%s)\",\n",
        "  my_result[1:5, ]$y, tmp)\n",
        "my_fig <- expand.grid(\n",
        "  label = my_labels,\n",
        "  y = 28:1,\n",
        "  x = 1:28)\n",
        "my_fig$z <- as.vector(\n",
        "  x_test[tmp, , ])\n",
        "\n",
        "my_fig %>% ggplot(\n",
        "  aes(x = x, y = y, fill = z)) +\n",
        "  geom_raster() +\n",
        "  coord_fixed() +\n",
        "  theme_void() +\n",
        "  theme(legend.position = \"none\") +\n",
        "  facet_grid(. ~ label)"
      ],
      "id": "94144d0f-e83c-420a-9ebd-5839266f4966"
    },
    {
      "id": "6b7dfe70",
      "cell_type": "markdown",
      "source": [
        "## 11.4 AutoML"
      ],
      "metadata": {
        "id": "6b7dfe70"
      }
    },
    {
      "cell_type": "code",
      "execution_count": null,
      "metadata": {
        "id": "38722ec1-ec1e-4e8e-b088-c4fd85c7219d"
      },
      "outputs": [],
      "source": [
        "library(h2o)\n",
        "library(keras)\n",
        "library(tidyverse)\n",
        "\n",
        "h2o.init()\n",
        "h2o.no_progress()\n",
        "# h2o.shutdown(prompt = FALSE) # 停止"
      ],
      "id": "38722ec1-ec1e-4e8e-b088-c4fd85c7219d"
    },
    {
      "cell_type": "code",
      "execution_count": null,
      "metadata": {
        "id": "1fdfc213-d4b9-4282-a110-c9d3a1417b16"
      },
      "outputs": [],
      "source": [
        "my_url <- str_c(\"https://raw.githubusercontent.com/taroyabuki\",\n",
        "                \"/fromzero/master/data/wine.csv\")\n",
        "my_data <- read_csv(my_url)\n",
        "my_frame <- as.h2o(my_data) # 通常のデータフレームをH2OFrameに変換する．\n",
        "# あるいは\n",
        "my_frame <- h2o.importFile(my_url, header = TRUE) # データを読み込む．"
      ],
      "id": "1fdfc213-d4b9-4282-a110-c9d3a1417b16"
    },
    {
      "cell_type": "code",
      "execution_count": null,
      "metadata": {
        "id": "0e8ad572-d34d-4ffc-add8-515c0ec0cfb9"
      },
      "outputs": [],
      "source": [
        "my_frame\n",
        "\n",
        "# 通常のデータフレームに戻す．\n",
        "my_frame %>% as.data.frame %>% head\n",
        "# 結果は割愛（見た目は同じ）"
      ],
      "id": "0e8ad572-d34d-4ffc-add8-515c0ec0cfb9"
    },
    {
      "cell_type": "code",
      "execution_count": null,
      "metadata": {
        "id": "30b1a834-1996-49ff-bd17-c1fbe4c8e361"
      },
      "outputs": [],
      "source": [
        "my_model <- h2o.automl(\n",
        "    y = \"LPRICE2\",\n",
        "    training_frame = my_frame,\n",
        "    max_runtime_secs = 60)"
      ],
      "id": "30b1a834-1996-49ff-bd17-c1fbe4c8e361"
    },
    {
      "cell_type": "code",
      "execution_count": null,
      "metadata": {
        "id": "31bffa0f-c204-4f58-9202-60148669e99a"
      },
      "outputs": [],
      "source": [
        "min(my_model@leaderboard$rmse)"
      ],
      "id": "31bffa0f-c204-4f58-9202-60148669e99a"
    },
    {
      "cell_type": "code",
      "execution_count": null,
      "metadata": {
        "id": "16782f30-d94a-4d84-979b-707002b3e0d4"
      },
      "outputs": [],
      "source": [
        "tmp <- my_model %>%\n",
        "  predict(my_frame) %>%\n",
        "  as.data.frame\n",
        "y_ <- tmp$predict\n",
        "y  <- my_data$LPRICE2\n",
        "\n",
        "plot(y, y_)"
      ],
      "id": "16782f30-d94a-4d84-979b-707002b3e0d4"
    },
    {
      "cell_type": "code",
      "execution_count": null,
      "metadata": {
        "id": "5a112da2-f188-46b2-9425-9fcfc6a9a219"
      },
      "outputs": [],
      "source": [
        "keras::`%<-%`(c(c(x_train, y_train), c(x_test, y_test)), dataset_mnist())\n",
        "my_index <- sample(1:60000, 6000)\n",
        "x_train <- x_train[my_index, , ]\n",
        "y_train <- y_train[my_index]"
      ],
      "id": "5a112da2-f188-46b2-9425-9fcfc6a9a219"
    },
    {
      "cell_type": "code",
      "execution_count": null,
      "metadata": {
        "id": "f6a02692-7223-4b37-8f9a-c15a47d6ea77"
      },
      "outputs": [],
      "source": [
        "tmp <- x_train %>%\n",
        "  array_reshape(c(-1, 28 * 28)) %>%\n",
        "  as.data.frame\n",
        "tmp$y <- as.factor(y_train)\n",
        "my_train <- as.h2o(tmp)\n",
        "\n",
        "tmp <- x_test %>%\n",
        "  array_reshape(c(-1, 28 * 28)) %>%\n",
        "  as.data.frame\n",
        "my_test <- as.h2o(tmp)"
      ],
      "id": "f6a02692-7223-4b37-8f9a-c15a47d6ea77"
    },
    {
      "cell_type": "code",
      "execution_count": null,
      "metadata": {
        "id": "096eebe3-beeb-4496-b6dd-7d5d8d8758f4"
      },
      "outputs": [],
      "source": [
        "my_model <- h2o.automl(\n",
        "    y = \"y\",\n",
        "    training_frame = my_train,\n",
        "    max_runtime_secs = 120)"
      ],
      "id": "096eebe3-beeb-4496-b6dd-7d5d8d8758f4"
    },
    {
      "cell_type": "code",
      "execution_count": null,
      "metadata": {
        "id": "72546fcf-188f-4ca8-adb5-d84b55994e33"
      },
      "outputs": [],
      "source": [
        "min(my_model@leaderboard$\n",
        "    mean_per_class_error)"
      ],
      "id": "72546fcf-188f-4ca8-adb5-d84b55994e33"
    },
    {
      "cell_type": "code",
      "execution_count": null,
      "metadata": {
        "id": "39426d21-6fa9-4d0b-9d89-3768db538f7a"
      },
      "outputs": [],
      "source": [
        "tmp <- my_model %>%\n",
        "  predict(my_test) %>% as.data.frame\n",
        "y_ <- tmp$predict\n",
        "\n",
        "mean(y_ == y_test)"
      ],
      "id": "39426d21-6fa9-4d0b-9d89-3768db538f7a"
    },
    {
      "id": "37a4678a",
      "cell_type": "markdown",
      "source": [
        "# 12 時系列予測"
      ],
      "metadata": {
        "id": "37a4678a"
      }
    },
    {
      "cell_type": "code",
      "execution_count": null,
      "metadata": {
        "id": "45899138-a738-4ae4-aa2e-b54acfdbadf9"
      },
      "outputs": [],
      "source": [
        "# Google Colaboratoryの環境設定\n",
        "if (file.exists(\"/content\")) {\n",
        "  options(Ncpus = parallel::detectCores())\n",
        "  packages_to_install <- c(\"caret\", \"fable\", \"prophet\", \"tsibble\")\n",
        "  installed_packages <- rownames(installed.packages())\n",
        "  install.packages(setdiff(packages_to_install, installed_packages))\n",
        "}"
      ],
      "id": "45899138-a738-4ae4-aa2e-b54acfdbadf9"
    },
    {
      "id": "fdfe5096",
      "cell_type": "markdown",
      "source": [
        "## 12.1 日時と日時の列"
      ],
      "metadata": {
        "id": "fdfe5096"
      }
    },
    {
      "cell_type": "code",
      "execution_count": null,
      "metadata": {
        "id": "58d833f0-99e8-4bf2-9919-c1412ae786b7"
      },
      "outputs": [],
      "source": [
        "as.POSIXct(\"2021-01-01\")"
      ],
      "id": "58d833f0-99e8-4bf2-9919-c1412ae786b7"
    },
    {
      "cell_type": "code",
      "execution_count": null,
      "metadata": {
        "id": "31eafc9c-13b2-4a19-9726-6833b023b76c"
      },
      "outputs": [],
      "source": [
        "library(tsibble)\n",
        "\n",
        "seq(from = 2021, to = 2023, by = 1)\n",
        "\n",
        "seq(from = yearmonth(\"202101\"), to = yearmonth(\"202103\"), by = 2)\n",
        "\n",
        "seq(from = as.POSIXct(\"2021-01-01\"), to = as.POSIXct(\"2021-01-03\"), by = \"1 day\")\n",
        "\n",
        "seq(from = as.POSIXct(\"2021-01-01 00:00:00\"),\n",
        "    to   = as.POSIXct(\"2021-01-01 03:00:00\"), by = \"2 hour\")"
      ],
      "id": "31eafc9c-13b2-4a19-9726-6833b023b76c"
    },
    {
      "id": "891a5f13",
      "cell_type": "markdown",
      "source": [
        "## 12.2 時系列データの予測"
      ],
      "metadata": {
        "id": "891a5f13"
      }
    },
    {
      "cell_type": "code",
      "execution_count": null,
      "metadata": {
        "id": "f7bce79b-add8-4cd2-a82c-9c0bcc94ef22"
      },
      "outputs": [],
      "source": [
        "my_data <- as.vector(AirPassengers)"
      ],
      "id": "f7bce79b-add8-4cd2-a82c-9c0bcc94ef22"
    },
    {
      "cell_type": "code",
      "execution_count": null,
      "metadata": {
        "id": "4c1398e6-41ed-4595-9466-868102717141"
      },
      "outputs": [],
      "source": [
        "n <- length(my_data) # データ数（144）\n",
        "k <- 108             # 訓練データ数"
      ],
      "id": "4c1398e6-41ed-4595-9466-868102717141"
    },
    {
      "cell_type": "code",
      "execution_count": null,
      "metadata": {
        "id": "a963132e-418e-4b0d-9405-e25fdf68ae3b"
      },
      "outputs": [],
      "source": [
        "library(tidyverse)\n",
        "library(tsibble)\n",
        "\n",
        "my_ds <- seq(\n",
        "  from = yearmonth(\"1949/01\"),\n",
        "  to   = yearmonth(\"1960/12\"),\n",
        "  by   = 1)\n",
        "my_label <- rep(\n",
        "  c(\"train\", \"test\"),\n",
        "  c(k, n - k))\n",
        "my_df <- tsibble(\n",
        "  ds    = my_ds,\n",
        "  x     = 0:(n - 1),\n",
        "  y     = my_data,\n",
        "  label = my_label,\n",
        "  index = ds) # 日時の列の指定\n",
        "\n",
        "head(my_df)"
      ],
      "id": "a963132e-418e-4b0d-9405-e25fdf68ae3b"
    },
    {
      "cell_type": "code",
      "execution_count": null,
      "metadata": {
        "id": "792d5368-cfa8-4168-8d6a-403992b52852"
      },
      "outputs": [],
      "source": [
        "my_train <- my_df[  1:k , ]\n",
        "my_test  <- my_df[-(1:k), ]\n",
        "y <- my_test$y"
      ],
      "id": "792d5368-cfa8-4168-8d6a-403992b52852"
    },
    {
      "cell_type": "code",
      "execution_count": null,
      "metadata": {
        "id": "e854f153-ec24-4d3b-a2c3-2add7f96b2e3"
      },
      "outputs": [],
      "source": [
        "my_plot <- my_df %>%\n",
        "  ggplot(aes(x = ds,\n",
        "             y = y,\n",
        "             color = label)) +\n",
        "  geom_line()\n",
        "my_plot"
      ],
      "id": "e854f153-ec24-4d3b-a2c3-2add7f96b2e3"
    },
    {
      "cell_type": "code",
      "execution_count": null,
      "metadata": {
        "id": "71cb42e0-20d2-4ecf-8168-55ffedd882ff"
      },
      "outputs": [],
      "source": [
        "library(caret)\n",
        "my_lm_model <- train(form = y ~ x, data = my_train, method = \"lm\")\n",
        "y_ <- my_lm_model %>% predict(my_test)\n",
        "caret::RMSE(y, y_) # RMSE（テスト）"
      ],
      "id": "71cb42e0-20d2-4ecf-8168-55ffedd882ff"
    },
    {
      "cell_type": "code",
      "execution_count": null,
      "metadata": {
        "id": "befa876f-8829-4980-99f6-bf570079a97b"
      },
      "outputs": [],
      "source": [
        "y_ <- my_lm_model %>% predict(my_df)\n",
        "tmp <- my_df %>%\n",
        "  mutate(y = y_, label = \"model\")\n",
        "my_plot + geom_line(data = tmp)"
      ],
      "id": "befa876f-8829-4980-99f6-bf570079a97b"
    },
    {
      "cell_type": "code",
      "execution_count": null,
      "metadata": {
        "id": "80630a5c-e38b-4d8a-92cc-27c380aa4dd8"
      },
      "outputs": [],
      "source": [
        "library(fable)\n",
        "my_arima_model <- my_train %>% model(ARIMA(y))\n",
        "my_arima_model"
      ],
      "id": "80630a5c-e38b-4d8a-92cc-27c380aa4dd8"
    },
    {
      "cell_type": "code",
      "execution_count": null,
      "metadata": {
        "id": "06374cc4-5298-477c-856c-3e2b944b62fd"
      },
      "outputs": [],
      "source": [
        "tmp <- my_arima_model %>% forecast(h = \"3 years\")\n",
        "head(tmp)"
      ],
      "id": "06374cc4-5298-477c-856c-3e2b944b62fd"
    },
    {
      "cell_type": "code",
      "execution_count": null,
      "metadata": {
        "id": "2222a7f9-02b3-4060-9d6f-67989427aa65"
      },
      "outputs": [],
      "source": [
        "y_ <- tmp$.mean\n",
        "caret::RMSE(y_, y)"
      ],
      "id": "2222a7f9-02b3-4060-9d6f-67989427aa65"
    },
    {
      "cell_type": "code",
      "execution_count": null,
      "metadata": {
        "id": "45528a45-9cba-480b-b001-56494c8ae46d"
      },
      "outputs": [],
      "source": [
        "# 予測結果のみでよい場合\n",
        "#tmp %>% autoplot\n",
        "\n",
        "tmp %>% autoplot +\n",
        "  geom_line(data = my_df,\n",
        "            aes(x = ds,\n",
        "                y = y,\n",
        "                color = label))"
      ],
      "id": "45528a45-9cba-480b-b001-56494c8ae46d"
    },
    {
      "cell_type": "code",
      "execution_count": null,
      "metadata": {
        "id": "33ea177e-0a2c-4841-abd3-7a1c4a931143"
      },
      "outputs": [],
      "source": [
        "library(prophet)\n",
        "my_prophet_model <- my_train %>%\n",
        "  prophet(seasonality.mode = \"multiplicative\")"
      ],
      "id": "33ea177e-0a2c-4841-abd3-7a1c4a931143"
    },
    {
      "cell_type": "code",
      "execution_count": null,
      "metadata": {
        "id": "77915ecb-fc9b-426d-9f41-87ac452b6118"
      },
      "outputs": [],
      "source": [
        "tmp <- my_prophet_model %>% predict(my_test)\n",
        "head(tmp[, c(\"ds\", \"yhat\", \"yhat_lower\", \"yhat_upper\")])"
      ],
      "id": "77915ecb-fc9b-426d-9f41-87ac452b6118"
    },
    {
      "cell_type": "code",
      "execution_count": null,
      "metadata": {
        "id": "a02d5093-a14e-4ec9-b838-eea9b08aa171"
      },
      "outputs": [],
      "source": [
        "y_ <- tmp$yhat\n",
        "caret::RMSE(y_, y)"
      ],
      "id": "a02d5093-a14e-4ec9-b838-eea9b08aa171"
    },
    {
      "cell_type": "code",
      "execution_count": null,
      "metadata": {
        "id": "a5f4b48f-7d46-439d-99bf-9dde81fad277"
      },
      "outputs": [],
      "source": [
        "# my_prophet_model %>% plot(tmp) # 予測結果のみでよい場合\n",
        "\n",
        "my_prophet_model %>% plot(tmp) +\n",
        "  geom_line(data = my_train, aes(x = as.POSIXct(ds))) +\n",
        "  geom_line(data = my_test,  aes(x = as.POSIXct(ds)), color = \"red\")"
      ],
      "id": "a5f4b48f-7d46-439d-99bf-9dde81fad277"
    },
    {
      "id": "94693748",
      "cell_type": "markdown",
      "source": [
        "# 13 教師なし学習"
      ],
      "metadata": {
        "id": "94693748"
      }
    },
    {
      "cell_type": "code",
      "execution_count": null,
      "metadata": {
        "id": "abb26daa-e845-4765-b78f-19fa9cc91c93"
      },
      "outputs": [],
      "source": [
        "# Google Colaboratoryの環境設定\n",
        "if (file.exists(\"/content\")) {\n",
        "  options(Ncpus = parallel::detectCores())\n",
        "  packages_to_install <- c(\"factoextra\", \"ggbiplot\", \"igraph\")\n",
        "  installed_packages <- rownames(installed.packages())\n",
        "  install.packages(setdiff(packages_to_install, installed_packages))\n",
        "}"
      ],
      "id": "abb26daa-e845-4765-b78f-19fa9cc91c93"
    },
    {
      "id": "bade5a9b",
      "cell_type": "markdown",
      "source": [
        "## 13.1 主成分分析"
      ],
      "metadata": {
        "id": "bade5a9b"
      }
    },
    {
      "cell_type": "code",
      "execution_count": null,
      "metadata": {
        "id": "571e18eb-a9d2-46ee-8a65-cb1644601f6d"
      },
      "outputs": [],
      "source": [
        "library(tidyverse)\n",
        "\n",
        "my_data <- data.frame(\n",
        "  language  = c(  0,  20,  20,  25,  22,  17),\n",
        "  english   = c(  0,  20,  40,  20,  24,  18),\n",
        "  math      = c(100,  20,   5,  30,  17,  25),\n",
        "  science   = c(  0,  20,   5,  25,  16,  23),\n",
        "  society   = c(  0,  20,  30,   0,  21,  17),\n",
        "  row.names = c(\"A\", \"B\", \"C\", \"D\", \"E\", \"F\"))\n",
        "my_result <- my_data %>% prcomp # 主成分分析の実行"
      ],
      "id": "571e18eb-a9d2-46ee-8a65-cb1644601f6d"
    },
    {
      "cell_type": "code",
      "execution_count": null,
      "metadata": {
        "id": "06d747ec-cf8d-42ee-bffc-8dc78a219ffe"
      },
      "outputs": [],
      "source": [
        "my_result$x # 主成分スコア"
      ],
      "id": "06d747ec-cf8d-42ee-bffc-8dc78a219ffe"
    },
    {
      "cell_type": "code",
      "execution_count": null,
      "metadata": {
        "id": "cac818b0-c18c-49cf-a4f0-da6e2334a980"
      },
      "outputs": [],
      "source": [
        "my_result %>% ggbiplot::ggbiplot(\n",
        "  labels = row.names(my_data),\n",
        "  scale = 0)"
      ],
      "id": "cac818b0-c18c-49cf-a4f0-da6e2334a980"
    },
    {
      "cell_type": "code",
      "execution_count": null,
      "metadata": {
        "id": "8477894b-d455-48e2-bc33-9727d08dda18"
      },
      "outputs": [],
      "source": [
        "my_result$rotation %>% t"
      ],
      "id": "8477894b-d455-48e2-bc33-9727d08dda18"
    },
    {
      "cell_type": "code",
      "execution_count": null,
      "metadata": {
        "id": "836c78d6-dfd8-4d53-8dd9-9701871aa0c0"
      },
      "outputs": [],
      "source": [
        "summary(my_result)"
      ],
      "id": "836c78d6-dfd8-4d53-8dd9-9701871aa0c0"
    },
    {
      "cell_type": "code",
      "execution_count": null,
      "metadata": {
        "id": "4365699e-0bf0-4f63-91f3-60a4add8764d"
      },
      "outputs": [],
      "source": [
        "my_result <- prcomp(\n",
        "  x = my_data,\n",
        "  scale = TRUE)       # 標準化\n",
        "# あるいは\n",
        "my_result <- prcomp(\n",
        "  x = scale(my_data)) # 標準化データ\n",
        "\n",
        "my_result$x # 主成分スコア"
      ],
      "id": "4365699e-0bf0-4f63-91f3-60a4add8764d"
    },
    {
      "cell_type": "code",
      "execution_count": null,
      "metadata": {
        "id": "67619dbe-ca8a-4d70-bb2e-40effdcbd625"
      },
      "outputs": [],
      "source": [
        "Z  <- my_data %>% scale(scale = FALSE) %>% as.matrix # 標準化しない場合\n",
        "#Z <- my_data %>% scale(scale = TRUE)  %>% as.matrix # 標準化する場合\n",
        "\n",
        "n <- nrow(my_data)\n",
        "S <- var(Z)                          # 分散共分散行列\n",
        "#S <- t(Z) %*% Z / (n - 1)           # （同じ結果）\n",
        "tmp <- eigen(S)                      # 固有値と固有ベクトル\n",
        "Z %*% tmp$vectors                    # 主成分スコア（結果は割愛）\n",
        "cumsum(tmp$values) / sum(tmp$values) # 累積寄与率"
      ],
      "id": "67619dbe-ca8a-4d70-bb2e-40effdcbd625"
    },
    {
      "cell_type": "code",
      "execution_count": null,
      "metadata": {
        "id": "34be6772-92d0-431f-a670-2cb61e6bccc5"
      },
      "outputs": [],
      "source": [
        "udv <- svd(Z) # 特異値分解\n",
        "U <- udv$u\n",
        "d <- udv$d\n",
        "V <- udv$v\n",
        "W <- diag(d)\n",
        "\n",
        "c(all.equal(Z, U %*% W %*% t(V), check.attributes = FALSE), # 確認1\n",
        "  all.equal(t(U) %*% U, diag(dim(U)[2])),                   # 確認2\n",
        "  all.equal(t(V) %*% V, diag(dim(V)[2])))                   # 確認3\n",
        "\n",
        "U %*% W            # 主成分スコア（結果は割愛）\n",
        "\n",
        "e <- d^2 / (n - 1) # 分散共分散行列の固有値\n",
        "cumsum(e) / sum(e) # 累積寄与率"
      ],
      "id": "34be6772-92d0-431f-a670-2cb61e6bccc5"
    },
    {
      "id": "8d28b828",
      "cell_type": "markdown",
      "source": [
        "## 13.2 クラスタ分析"
      ],
      "metadata": {
        "id": "8d28b828"
      }
    },
    {
      "cell_type": "code",
      "execution_count": null,
      "metadata": {
        "id": "77132ba5-1fe8-4174-a8b7-623ed6dee084"
      },
      "outputs": [],
      "source": [
        "library(tidyverse)\n",
        "\n",
        "my_data <- data.frame(\n",
        "  x         = c(  0, -16,  10,  10),\n",
        "  y         = c(  0,   0,  10, -15),\n",
        "  row.names = c(\"A\", \"B\", \"C\", \"D\"))\n",
        "\n",
        "my_result <- my_data %>%\n",
        "  dist(\"euclidian\") %>% # distだけでも可\n",
        "  hclust(\"complete\")    # hclustだけでも可"
      ],
      "id": "77132ba5-1fe8-4174-a8b7-623ed6dee084"
    },
    {
      "cell_type": "code",
      "execution_count": null,
      "metadata": {
        "id": "a5a6a538-6fcc-4757-87d3-1fdcaf23ae02"
      },
      "outputs": [],
      "source": [
        "my_result %>% factoextra::fviz_dend(\n",
        "  k = 3, # クラスタ数\n",
        "  rect = TRUE, rect_fill = TRUE)"
      ],
      "id": "a5a6a538-6fcc-4757-87d3-1fdcaf23ae02"
    },
    {
      "cell_type": "code",
      "execution_count": null,
      "metadata": {
        "id": "051b42ee-bb20-4068-b1c8-52ccaa53a8e2"
      },
      "outputs": [],
      "source": [
        "my_result %>% factoextra::fviz_dend(\n",
        "  k = 3,\n",
        "  rect = TRUE, rect_fill = TRUE,\n",
        "  type = \"phylogenic\")"
      ],
      "id": "051b42ee-bb20-4068-b1c8-52ccaa53a8e2"
    },
    {
      "cell_type": "code",
      "execution_count": null,
      "metadata": {
        "id": "25253db4-242e-4566-8f44-9317c7a738ee"
      },
      "outputs": [],
      "source": [
        "my_result %>% cutree(3)"
      ],
      "id": "25253db4-242e-4566-8f44-9317c7a738ee"
    },
    {
      "cell_type": "code",
      "execution_count": null,
      "metadata": {
        "id": "50172e6f-a365-4cae-8aac-285832e935ad"
      },
      "outputs": [],
      "source": [
        "library(tidyverse)\n",
        "\n",
        "my_data <- data.frame(\n",
        "  language  = c(  0,  20,  20,  25,  22,  17),\n",
        "  english   = c(  0,  20,  40,  20,  24,  18),\n",
        "  math      = c(100,  20,   5,  30,  17,  25),\n",
        "  science   = c(  0,  20,   5,  25,  16,  23),\n",
        "  society   = c(  0,  20,  30,   0,  21,  17),\n",
        "  row.names = c(\"A\", \"B\", \"C\", \"D\", \"E\", \"F\"))\n",
        "\n",
        "try( # RMarkdownで発生するエラーを回避する．\n",
        "  my_data %>% scale %>%                        # 列ごとの標準化\n",
        "    gplots::heatmap.2(cexRow = 1, cexCol = 1), # ラベルのサイズを指定して描画する．\n",
        "  silent = TRUE)"
      ],
      "id": "50172e6f-a365-4cae-8aac-285832e935ad"
    },
    {
      "cell_type": "code",
      "execution_count": null,
      "metadata": {
        "id": "86e6bc97-ddd2-4ff5-b67d-8ba77d0754e3"
      },
      "outputs": [],
      "source": [
        "library(tidyverse)\n",
        "\n",
        "my_data <- data.frame(\n",
        "  x         = c(  0, -16,  10,  10),\n",
        "  y         = c(  0,   0,  10, -15),\n",
        "  row.names = c(\"A\", \"B\", \"C\", \"D\"))\n",
        "\n",
        "my_result <- my_data %>% kmeans(3)"
      ],
      "id": "86e6bc97-ddd2-4ff5-b67d-8ba77d0754e3"
    },
    {
      "cell_type": "code",
      "execution_count": null,
      "metadata": {
        "id": "c5afd760-ff1f-4805-aa72-14d93ae8bf84"
      },
      "outputs": [],
      "source": [
        "my_result$cluster"
      ],
      "id": "c5afd760-ff1f-4805-aa72-14d93ae8bf84"
    },
    {
      "cell_type": "code",
      "execution_count": null,
      "metadata": {
        "id": "bcd0e490-e570-4986-b270-9b2d15e58cea"
      },
      "outputs": [],
      "source": [
        "library(tidyverse)\n",
        "library(factoextra)\n",
        "\n",
        "my_data <- iris[, -5]\n",
        "\n",
        "f <- 2:5 %>% map(function(k) {\n",
        "  my_data %>% kmeans(k) %>%\n",
        "    fviz_cluster(data = my_data, geom = \"point\") +\n",
        "    ggtitle(sprintf(\"k = %s\", k))\n",
        "})\n",
        "gridExtra::grid.arrange(f[[1]], f[[2]], f[[3]], f[[4]], ncol = 2)"
      ],
      "id": "bcd0e490-e570-4986-b270-9b2d15e58cea"
    },
    {
      "cell_type": "code",
      "execution_count": null,
      "metadata": {
        "id": "e9772728-d3fa-4d93-b592-97e63fa396ee"
      },
      "outputs": [],
      "source": [
        "fviz_nbclust(my_data, kmeans, method = \"wss\")"
      ],
      "id": "e9772728-d3fa-4d93-b592-97e63fa396ee"
    },
    {
      "cell_type": "code",
      "execution_count": null,
      "metadata": {
        "id": "0a20b9c9-a772-4340-a472-f807197f44e0"
      },
      "outputs": [],
      "source": [
        "library(tidyverse)\n",
        "my_data <- iris[, -5] %>% scale\n",
        "\n",
        "my_result <- prcomp(my_data)$x %>% as.data.frame # 主成分分析\n",
        "\n",
        "# 非階層的クラスタ分析の場合\n",
        "my_result$cluster <- (my_data %>% scale %>% kmeans(3))$cluster %>% as.factor\n",
        "\n",
        "# 階層的クラスタ分析の場合\n",
        "#my_result$cluster <- my_data %>% dist %>% hclust %>% cutree(3) %>% as.factor\n",
        "\n",
        "my_result %>%\n",
        "  ggplot(aes(x = PC1, y = PC2, color = cluster)) + # 色でクラスタを表現する．\n",
        "  geom_point(shape = iris$Species) +               # 形で品種を表現する．\n",
        "  theme(legend.position = \"none\")"
      ],
      "id": "0a20b9c9-a772-4340-a472-f807197f44e0"
    }
  ],
  "nbformat": 4,
  "nbformat_minor": 5,
  "metadata": {
    "kernelspec": {
      "name": "ir",
      "display_name": "R"
    },
    "colab": {
      "provenance": [],
      "toc_visible": true
    }
  }
}