{
  "cells": [
    {
      "cell_type": "markdown",
      "source": "[辻真吾・矢吹太朗『ゼロからはじめるデータサイエンス入門』（講談社, 2021）](https://github.com/taroyabuki/fromzero)",
      "metadata": {}
    },
    {
      "cell_type": "code",
      "execution_count": null,
      "metadata": {},
      "outputs": [],
      "source": [
        "# Google Colaboratoryの環境設定\n",
        "if (file.exists(\"/content\")) {\n",
        "  options(Ncpus = 2)\n",
        "  system(\"apt-get install -y libcurl4-openssl-dev libv8-dev r-cran-rcppeigen\")\n",
        "  install.packages(c(\"caret\", \"doParallel\", \"e1071\", \"exactci\", \"factoextra\", \"fable\", \"feasts\", \"furrr\", \"ggfortify\", \"ggmosaic\", \"glmnet\", \"glmnetUtils\", \"gplots\", \"h2o\", \"igraph\", \"keras\", \"leaps\", \"neuralnet\", \"pastecs\", \"PRROC\", \"prophet\", \"proxy\", \"psych\", \"randomForest\", \"rpart.plot\", \"tsibble\", \"urca\", \"vcd\", \"xgboost\"),\n",
        "    repos = \"https://cran.rstudio.com/\")\n",
        "  devtools::install_github(\"vqv/ggbiplot\")\n",
        "}"
      ]
    },
    {
      "cell_type": "code",
      "execution_count": null,
      "metadata": {},
      "outputs": [],
      "source": [
        "# これはRのコードの例です．\n",
        "1 + 1\n",
        "#> [1] 2 # 注目すべき実行結果です．"
      ]
    },
    {
      "cell_type": "markdown",
      "source": "# 1 コンピュータとネットワーク\n\n\n",
      "metadata": {}
    },
    {
      "cell_type": "markdown",
      "source": "## 1.1 コンピュータの基本操作\n\n\n",
      "metadata": {}
    },
    {
      "cell_type": "markdown",
      "source": "## 1.2 ネットワークの仕組み\n\n\n",
      "metadata": {}
    },
    {
      "cell_type": "markdown",
      "source": "# 2 データサイエンスのための環境\n\n\n",
      "metadata": {}
    },
    {
      "cell_type": "markdown",
      "source": "## 2.1 実行環境の選択\n\n\n",
      "metadata": {}
    },
    {
      "cell_type": "markdown",
      "source": "## 2.2 クラウド\n\n\n",
      "metadata": {}
    },
    {
      "cell_type": "markdown",
      "source": "## 2.3 Docker\n\n\n",
      "metadata": {}
    },
    {
      "cell_type": "markdown",
      "source": "## 2.4 ターミナルの使い方\n\n\n",
      "metadata": {}
    },
    {
      "cell_type": "markdown",
      "source": "## 2.5 RとPython\n\n\n",
      "metadata": {}
    },
    {
      "cell_type": "markdown",
      "source": "## 2.6 サンプルコードの利用",
      "metadata": {}
    },
    {
      "cell_type": "code",
      "execution_count": null,
      "metadata": {},
      "outputs": [],
      "source": [
        "1 + 1\n",
        "#> 2     # 表示される．\n",
        "\n",
        "print(1 + 2)\n",
        "#> [1] 3 # 表示される．\n",
        "\n",
        "1 + 3\n",
        "#> 4     # 表示される．"
      ]
    },
    {
      "cell_type": "markdown",
      "source": "# 3 RとPython\n\n\n",
      "metadata": {}
    },
    {
      "cell_type": "markdown",
      "source": "## 3.1 入門",
      "metadata": {}
    },
    {
      "cell_type": "code",
      "execution_count": null,
      "metadata": {},
      "outputs": [],
      "source": [
        "0x10\n",
        "#> [1] 16"
      ]
    },
    {
      "cell_type": "code",
      "execution_count": null,
      "metadata": {},
      "outputs": [],
      "source": [
        "1.23e5\n",
        "#> [1] 123000"
      ]
    },
    {
      "cell_type": "code",
      "execution_count": null,
      "metadata": {},
      "outputs": [],
      "source": [
        "2 * 3\n",
        "#> [1] 6"
      ]
    },
    {
      "cell_type": "code",
      "execution_count": null,
      "metadata": {},
      "outputs": [],
      "source": [
        "10 / 3\n",
        "#> [1] 3.333333"
      ]
    },
    {
      "cell_type": "code",
      "execution_count": null,
      "metadata": {},
      "outputs": [],
      "source": [
        "10 %/% 3 # 商\n",
        "#> [1] 3\n",
        "\n",
        "10 %% 3  # 余り\n",
        "#> [1] 1"
      ]
    },
    {
      "cell_type": "code",
      "execution_count": null,
      "metadata": {},
      "outputs": [],
      "source": [
        "x <- 2\n",
        "y <- 3\n",
        "x * y\n",
        "#> [1] 6\n",
        "\n",
        "library(keras)\n",
        "c(x, y) %<-% c(20, 30) # まとめて名付け\n",
        "x * y\n",
        "#> [1] 600"
      ]
    },
    {
      "cell_type": "code",
      "execution_count": null,
      "metadata": {},
      "outputs": [],
      "source": [
        "x <- 1 + 1\n",
        "# この段階では結果は表示されない\n",
        "\n",
        "x # 変数名を評価する．\n",
        "#> [1] 2"
      ]
    },
    {
      "cell_type": "code",
      "execution_count": null,
      "metadata": {},
      "outputs": [],
      "source": [
        "my_s <- \"abcde\""
      ]
    },
    {
      "cell_type": "code",
      "execution_count": null,
      "metadata": {},
      "outputs": [],
      "source": [
        "nchar(my_s)\n",
        "#> [1] 5"
      ]
    },
    {
      "cell_type": "code",
      "execution_count": null,
      "metadata": {},
      "outputs": [],
      "source": [
        "library(tidyverse)\n",
        "str_c(\"This is \", \"a\", \" pen.\")\n",
        "#> [1] \"This is a pen.\""
      ]
    },
    {
      "cell_type": "code",
      "execution_count": null,
      "metadata": {},
      "outputs": [],
      "source": [
        "substr(x = my_s, start = 2, stop = 4)\n",
        "#> [1] \"bcd\""
      ]
    },
    {
      "cell_type": "code",
      "execution_count": null,
      "metadata": {},
      "outputs": [],
      "source": [
        "tmp <- \"%s is %s.\"\n",
        "sprintf(tmp, \"This\", \"a pen\")\n",
        "#> [1] \"This is a pen.\""
      ]
    },
    {
      "cell_type": "code",
      "execution_count": null,
      "metadata": {},
      "outputs": [],
      "source": [
        "1 <= 2\n",
        "#> [1] TRUE\n",
        "\n",
        "1 < 0\n",
        "#> [1] FALSE"
      ]
    },
    {
      "cell_type": "code",
      "execution_count": null,
      "metadata": {},
      "outputs": [],
      "source": [
        "0.1 + 0.1 + 0.1 == 0.3\n",
        "#> [1] FALSE\n",
        "\n",
        "all.equal(0.1 + 0.1 + 0.1, 0.3)\n",
        "#> [1] TRUE"
      ]
    },
    {
      "cell_type": "code",
      "execution_count": null,
      "metadata": {},
      "outputs": [],
      "source": [
        "TRUE & FALSE # 論理積（かつ）\n",
        "#> [1] FALSE\n",
        "\n",
        "TRUE | FALSE # 論理和（または）\n",
        "#> [1] TRUE\n",
        "\n",
        "!TRUE        # 否定（でない）\n",
        "#> [1] FALSE"
      ]
    },
    {
      "cell_type": "code",
      "execution_count": null,
      "metadata": {},
      "outputs": [],
      "source": [
        "ifelse(3 < 5, 0, 10)\n",
        "#> 0"
      ]
    },
    {
      "cell_type": "code",
      "execution_count": null,
      "metadata": {},
      "outputs": [],
      "source": [
        "getwd()\n",
        "#> '/home/jovyan/work'"
      ]
    },
    {
      "cell_type": "code",
      "execution_count": null,
      "metadata": {},
      "outputs": [],
      "source": [
        "setwd(\"..\")\n",
        "getwd()\n",
        "#> '/home/jovyan'"
      ]
    },
    {
      "cell_type": "markdown",
      "source": "## 3.2 関数",
      "metadata": {}
    },
    {
      "cell_type": "code",
      "execution_count": null,
      "metadata": {},
      "outputs": [],
      "source": [
        "sqrt(4)\n",
        "#> [1] 2"
      ]
    },
    {
      "cell_type": "code",
      "execution_count": null,
      "metadata": {},
      "outputs": [],
      "source": [
        "log(100, 10)\n",
        "#> [1] 2"
      ]
    },
    {
      "cell_type": "code",
      "execution_count": null,
      "metadata": {},
      "outputs": [],
      "source": [
        "log(100)         # 自然対数\n",
        "# あるいは\n",
        "log(100, exp(1)) # 省略しない場合\n",
        "\n",
        "#> [1] 4.60517"
      ]
    },
    {
      "cell_type": "code",
      "execution_count": null,
      "metadata": {},
      "outputs": [],
      "source": [
        "log10(100) # 常用対数\n",
        "#> [1] 2\n",
        "\n",
        "log2(1024) # 底が2の対数\n",
        "#> [1] 10"
      ]
    },
    {
      "cell_type": "code",
      "execution_count": null,
      "metadata": {},
      "outputs": [],
      "source": [
        "library(tidyverse)\n",
        "4 %>% sqrt"
      ]
    },
    {
      "cell_type": "code",
      "execution_count": null,
      "metadata": {},
      "outputs": [],
      "source": [
        "exp(log(5))       # 通常の書き方\n",
        "# あるいは\n",
        "5 %>% log %>% exp # パイプを使う書き方\n",
        "\n",
        "#> 5"
      ]
    },
    {
      "cell_type": "code",
      "execution_count": null,
      "metadata": {},
      "outputs": [],
      "source": [
        "f <- function(a, b) {\n",
        "  a - b\n",
        "}"
      ]
    },
    {
      "cell_type": "code",
      "execution_count": null,
      "metadata": {},
      "outputs": [],
      "source": [
        "f(3, 5)\n",
        "#> [1] -2"
      ]
    },
    {
      "cell_type": "code",
      "execution_count": null,
      "metadata": {},
      "outputs": [],
      "source": [
        "f <- function(a, b = 5) {\n",
        "  a - b\n",
        "}\n",
        "\n",
        "f(3) # f(3, 5)と同じこと\n",
        "#> [1] -2"
      ]
    },
    {
      "cell_type": "code",
      "execution_count": null,
      "metadata": {},
      "outputs": [],
      "source": [
        "(function(a, b) { a - b })(3, 5)\n",
        "#> [1] -2"
      ]
    },
    {
      "cell_type": "markdown",
      "source": "## 3.3 コレクション",
      "metadata": {}
    },
    {
      "cell_type": "code",
      "execution_count": null,
      "metadata": {},
      "outputs": [],
      "source": [
        "x <- c(\"foo\", \"bar\", \"baz\")"
      ]
    },
    {
      "cell_type": "code",
      "execution_count": null,
      "metadata": {},
      "outputs": [],
      "source": [
        "length(x)\n",
        "#> [1] 3"
      ]
    },
    {
      "cell_type": "code",
      "execution_count": null,
      "metadata": {},
      "outputs": [],
      "source": [
        "x[2]\n",
        "#> [1] \"bar\""
      ]
    },
    {
      "cell_type": "code",
      "execution_count": null,
      "metadata": {},
      "outputs": [],
      "source": [
        "x[2] <- \"BAR\"\n",
        "x # 結果の確認\n",
        "#> [1] \"foo\" \"BAR\" \"baz\"\n",
        "\n",
        "x[2] <- \"bar\" # 元に戻す．"
      ]
    },
    {
      "cell_type": "code",
      "execution_count": null,
      "metadata": {},
      "outputs": [],
      "source": [
        "x[-2]\n",
        "#> [1] \"foo\" \"baz\""
      ]
    },
    {
      "cell_type": "code",
      "execution_count": null,
      "metadata": {},
      "outputs": [],
      "source": [
        "c(x, \"qux\")\n",
        "#> [1] \"foo\" \"bar\" \"baz\" \"qux\""
      ]
    },
    {
      "cell_type": "code",
      "execution_count": null,
      "metadata": {},
      "outputs": [],
      "source": [
        "x <- c(x, \"qux\")\n",
        "x # 結果の確認\n",
        "#> [1] \"foo\" \"bar\" \"baz\" \"qux\""
      ]
    },
    {
      "cell_type": "code",
      "execution_count": null,
      "metadata": {},
      "outputs": [],
      "source": [
        "1:5\n",
        "#> [1] 1 2 3 4 5"
      ]
    },
    {
      "cell_type": "code",
      "execution_count": null,
      "metadata": {},
      "outputs": [],
      "source": [
        "seq(from = 0, to = 10, by = 2)\n",
        "#> [1]  0  2  4  6  8 10"
      ]
    },
    {
      "cell_type": "code",
      "execution_count": null,
      "metadata": {},
      "outputs": [],
      "source": [
        "seq(from = 0, to = 1, by = 0.5)\n",
        "#> [1] 0.0 0.5 1.0"
      ]
    },
    {
      "cell_type": "code",
      "execution_count": null,
      "metadata": {},
      "outputs": [],
      "source": [
        "seq(from = 0, to = 100, length.out = 5)\n",
        "#> [1]   0  25  50  75 100"
      ]
    },
    {
      "cell_type": "code",
      "execution_count": null,
      "metadata": {},
      "outputs": [],
      "source": [
        "rep(x = 10, times = 5)\n",
        "#> [1] 10 10 10 10 10"
      ]
    },
    {
      "cell_type": "code",
      "execution_count": null,
      "metadata": {},
      "outputs": [],
      "source": [
        "tmp <- c(\"グー\", \"パー\", \"グー\", \"パー\")\n",
        "x <- factor(tmp, levels = c(\"グー\", \"チョキ\", \"パー\"))\n",
        "x\n",
        "#> [1] グー パー グー パー\n",
        "#> Levels: グー チョキ パー"
      ]
    },
    {
      "cell_type": "code",
      "execution_count": null,
      "metadata": {},
      "outputs": [],
      "source": [
        "x <- c(2, 3, 5, 7)\n",
        "\n",
        "x + 10 # 加算\n",
        "#> [1] 12 13 15 17\n",
        "\n",
        "x * 10 # 乗算\n",
        "#> [1] 20 30 50 70"
      ]
    },
    {
      "cell_type": "code",
      "execution_count": null,
      "metadata": {},
      "outputs": [],
      "source": [
        "x <- c(2, 3)\n",
        "sin(x)\n",
        "#> [1] 0.9092974 0.1411200"
      ]
    },
    {
      "cell_type": "code",
      "execution_count": null,
      "metadata": {},
      "outputs": [],
      "source": [
        "x <- c(2,  3,   5,    7)\n",
        "y <- c(1, 10, 100, 1000)\n",
        "x + y\n",
        "#> [1]    3   13  105 1007\n",
        "\n",
        "x * y\n",
        "#> [1]    2   30  500 7000"
      ]
    },
    {
      "cell_type": "code",
      "execution_count": null,
      "metadata": {},
      "outputs": [],
      "source": [
        "sum(x * y)\n",
        "#> [1] 7532"
      ]
    },
    {
      "cell_type": "code",
      "execution_count": null,
      "metadata": {},
      "outputs": [],
      "source": [
        "x <- c(TRUE, FALSE)\n",
        "y <- c(TRUE, TRUE)\n",
        "x & y\n",
        "#> [1]  TRUE FALSE"
      ]
    },
    {
      "cell_type": "code",
      "execution_count": null,
      "metadata": {},
      "outputs": [],
      "source": [
        "u <- c(1, 2, 3)\n",
        "v <- c(1, 2, 3)\n",
        "w <- c(1, 2, 4)\n",
        "\n",
        "identical(u, v) # 全体の比較\n",
        "#> [1] TRUE\n",
        "\n",
        "identical(u, w) # 全体の比較\n",
        "#> [1] FALSE\n",
        "\n",
        "u == v          # 要素ごとの比較\n",
        "#> [1] TRUE TRUE TRUE\n",
        "\n",
        "u == w          # 要素ごとの比較\n",
        "#> [1]  TRUE  TRUE FALSE"
      ]
    },
    {
      "cell_type": "code",
      "execution_count": null,
      "metadata": {},
      "outputs": [],
      "source": [
        "sum(u == w)  # 同じ要素の数\n",
        "#> [1] 2\n",
        "\n",
        "mean(u == w) # 同じ要素の割合\n",
        "#> [1] 0.6666667"
      ]
    },
    {
      "cell_type": "code",
      "execution_count": null,
      "metadata": {},
      "outputs": [],
      "source": [
        "x <- list(1, \"two\")"
      ]
    },
    {
      "cell_type": "code",
      "execution_count": null,
      "metadata": {},
      "outputs": [],
      "source": [
        "x[[2]]\n",
        "#> [1] \"two\""
      ]
    },
    {
      "cell_type": "code",
      "execution_count": null,
      "metadata": {},
      "outputs": [],
      "source": [
        "x <- list(\"apple\"  = \"りんご\",\n",
        "          \"orange\" = \"みかん\")"
      ]
    },
    {
      "cell_type": "code",
      "execution_count": null,
      "metadata": {},
      "outputs": [],
      "source": [
        "x[[\"grape\"]] <- \"ぶどう\""
      ]
    },
    {
      "cell_type": "code",
      "execution_count": null,
      "metadata": {},
      "outputs": [],
      "source": [
        "x$apple\n",
        "# あるいは\n",
        "x$\"apple\"\n",
        "# あるいは\n",
        "x[[\"apple\"]]\n",
        "# あるいは\n",
        "tmp <- \"apple\"\n",
        "x[[tmp]]\n",
        "\n",
        "#> [1] \"りんご\""
      ]
    },
    {
      "cell_type": "code",
      "execution_count": null,
      "metadata": {},
      "outputs": [],
      "source": [
        "x <- c(\"foo\", \"bar\", \"baz\")\n",
        "y <- x\n",
        "y[2] <- \"BAR\" # yを更新する．\n",
        "y\n",
        "#> [1] \"foo\" \"BAR\" \"baz\"\n",
        "\n",
        "x             # xは変わらない．\n",
        "#> [1] \"foo\" \"bar\" \"baz\""
      ]
    },
    {
      "cell_type": "markdown",
      "source": "## 3.4 データフレーム",
      "metadata": {}
    },
    {
      "cell_type": "code",
      "execution_count": null,
      "metadata": {},
      "outputs": [],
      "source": [
        "library(tidyverse)"
      ]
    },
    {
      "cell_type": "code",
      "execution_count": null,
      "metadata": {},
      "outputs": [],
      "source": [
        "my_df <- data.frame(\n",
        "  name    = c(\"A\", \"B\", \"C\", \"D\"),\n",
        "  english = c( 60,  90,  70,  90),\n",
        "  math    = c( 70,  80,  90, 100),\n",
        "  gender  = c(\"f\", \"m\", \"m\", \"f\"))"
      ]
    },
    {
      "cell_type": "code",
      "execution_count": null,
      "metadata": {},
      "outputs": [],
      "source": [
        "my_df <- tribble(\n",
        "  ~name, ~english, ~math, ~gender,\n",
        "  \"A\",         60,    70,     \"f\",\n",
        "  \"B\",         90,    80,     \"m\",\n",
        "  \"C\",         70,    90,     \"m\",\n",
        "  \"D\",         90,   100,     \"f\")"
      ]
    },
    {
      "cell_type": "code",
      "execution_count": null,
      "metadata": {},
      "outputs": [],
      "source": [
        "head(my_df)\n",
        "# 結果は割愛"
      ]
    },
    {
      "cell_type": "code",
      "execution_count": null,
      "metadata": {},
      "outputs": [],
      "source": [
        "dim(my_df)  # 行数と列数\n",
        "#> [1] 4 4\n",
        "\n",
        "nrow(my_df) # 行数\n",
        "#> [1] 4\n",
        "\n",
        "ncol(my_df) # 列数\n",
        "#> [1] 4"
      ]
    },
    {
      "cell_type": "code",
      "execution_count": null,
      "metadata": {},
      "outputs": [],
      "source": [
        "my_df2 <- expand.grid(\n",
        "  X = c(1, 2, 3),\n",
        "  Y = c(10, 100))\n",
        "my_df2\n",
        "#>   X   Y\n",
        "#> 1 1  10\n",
        "#> 2 2  10\n",
        "#> 3 3  10\n",
        "#> 4 1 100\n",
        "#> 5 2 100\n",
        "#> 6 3 100"
      ]
    },
    {
      "cell_type": "code",
      "execution_count": null,
      "metadata": {},
      "outputs": [],
      "source": [
        "colnames(my_df2)\n",
        "#> [1] \"X\" \"Y\""
      ]
    },
    {
      "cell_type": "code",
      "execution_count": null,
      "metadata": {},
      "outputs": [],
      "source": [
        "colnames(my_df2) <- c(\"P\", \"Q\")\n",
        "my_df2\n",
        "#>   P   Q\n",
        "#> 1 1  10\n",
        "#> 2 2  10\n",
        "# 以下省略"
      ]
    },
    {
      "cell_type": "code",
      "execution_count": null,
      "metadata": {},
      "outputs": [],
      "source": [
        "row.names(my_df)\n",
        "#> [1] \"1\" \"2\" \"3\" \"4\""
      ]
    },
    {
      "cell_type": "code",
      "execution_count": null,
      "metadata": {},
      "outputs": [],
      "source": [
        "row.names(my_df2) <-\n",
        "  c(\"a\", \"b\", \"c\", \"d\", \"e\", \"f\")\n",
        "my_df2\n",
        "#>   P   Q\n",
        "#> a 1  10\n",
        "#> b 2  10\n",
        "#> c 3  10\n",
        "# 以下省略"
      ]
    },
    {
      "cell_type": "code",
      "execution_count": null,
      "metadata": {},
      "outputs": [],
      "source": [
        "my_df3 <- data.frame(\n",
        "  english =   c( 60,  90,  70,  90),\n",
        "  math    =   c( 70,  80,  90, 100),\n",
        "  gender  =   c(\"f\", \"m\", \"m\", \"f\"),\n",
        "  row.names = c(\"A\", \"B\", \"C\", \"D\"))\n",
        "my_df3\n",
        "#>   english math gender\n",
        "#> A      60   70      f\n",
        "#> B      90   80      m\n",
        "#> C      70   90      m\n",
        "#> D      90  100      f"
      ]
    },
    {
      "cell_type": "code",
      "execution_count": null,
      "metadata": {},
      "outputs": [],
      "source": [
        "tmp <- data.frame(\n",
        "  name    = \"E\",\n",
        "  english =  80,\n",
        "  math    =  80,\n",
        "  gender  = \"m\")\n",
        "my_df2 <- rbind(my_df, tmp)"
      ]
    },
    {
      "cell_type": "code",
      "execution_count": null,
      "metadata": {},
      "outputs": [],
      "source": [
        "my_df2 <- my_df %>%\n",
        "  mutate(id = c(1, 2, 3, 4))"
      ]
    },
    {
      "cell_type": "code",
      "execution_count": null,
      "metadata": {},
      "outputs": [],
      "source": [
        "my_df3 <- my_df               # コピー\n",
        "my_df3[\"id\"] <- c(1, 2, 3, 4) # 更新\n",
        "my_df3 # 結果の確認（割愛）"
      ]
    },
    {
      "cell_type": "code",
      "execution_count": null,
      "metadata": {},
      "outputs": [],
      "source": [
        "my_df[1, 2]\n",
        "#> [1] 60"
      ]
    },
    {
      "cell_type": "code",
      "execution_count": null,
      "metadata": {},
      "outputs": [],
      "source": [
        "x <- my_df[, 2]\n",
        "# あるいは\n",
        "x <- my_df$english\n",
        "# あるいは\n",
        "x <- my_df$\"english\"\n",
        "# あるいは\n",
        "x <- my_df[[\"english\"]]\n",
        "# あるいは\n",
        "tmp <- \"english\"\n",
        "x <- my_df[[tmp]]\n",
        "\n",
        "x # 結果の確認（割愛）"
      ]
    },
    {
      "cell_type": "code",
      "execution_count": null,
      "metadata": {},
      "outputs": [],
      "source": [
        "x <- my_df %>% select(name, math)"
      ]
    },
    {
      "cell_type": "code",
      "execution_count": null,
      "metadata": {},
      "outputs": [],
      "source": [
        "x <- my_df[, c(1, 3)]"
      ]
    },
    {
      "cell_type": "code",
      "execution_count": null,
      "metadata": {},
      "outputs": [],
      "source": [
        "x <- my_df %>%\n",
        "  select(-c(english, gender))\n",
        "# あるいは\n",
        "x <- my_df[, -c(2, 4)]"
      ]
    },
    {
      "cell_type": "code",
      "execution_count": null,
      "metadata": {},
      "outputs": [],
      "source": [
        "x <- my_df[c(1, 3), ]"
      ]
    },
    {
      "cell_type": "code",
      "execution_count": null,
      "metadata": {},
      "outputs": [],
      "source": [
        "x <- my_df[-c(2, 4), ]"
      ]
    },
    {
      "cell_type": "code",
      "execution_count": null,
      "metadata": {},
      "outputs": [],
      "source": [
        "x <- my_df[my_df$gender == \"m\", ]\n",
        "# あるいは\n",
        "x <- my_df %>% filter(gender == \"m\")"
      ]
    },
    {
      "cell_type": "code",
      "execution_count": null,
      "metadata": {},
      "outputs": [],
      "source": [
        "x <- my_df[my_df$english > 80 & my_df$gender == \"m\", ]\n",
        "# あるいは\n",
        "x <- my_df %>% filter(english > 80 & gender == \"m\")"
      ]
    },
    {
      "cell_type": "code",
      "execution_count": null,
      "metadata": {},
      "outputs": [],
      "source": [
        "x <- my_df[my_df$english == max(my_df$english), ]\n",
        "# あるいは\n",
        "x <- my_df %>% filter(english == max(my_df$english))"
      ]
    },
    {
      "cell_type": "code",
      "execution_count": null,
      "metadata": {},
      "outputs": [],
      "source": [
        "my_df2 <- my_df # コピー\n",
        "my_df2[my_df$gender == \"m\", ]$gender <- \"M\""
      ]
    },
    {
      "cell_type": "code",
      "execution_count": null,
      "metadata": {},
      "outputs": [],
      "source": [
        "my_df2\n",
        "#>   name english math gender\n",
        "#> 1    A      60   70      f\n",
        "#> 2    B      90   80      M\n",
        "#> 3    C      70   90      M\n",
        "#> 4    D      90  100      f"
      ]
    },
    {
      "cell_type": "code",
      "execution_count": null,
      "metadata": {},
      "outputs": [],
      "source": [
        "x <- my_df %>% arrange(english)"
      ]
    },
    {
      "cell_type": "code",
      "execution_count": null,
      "metadata": {},
      "outputs": [],
      "source": [
        "x <- my_df %>% arrange(-english)"
      ]
    },
    {
      "cell_type": "code",
      "execution_count": null,
      "metadata": {},
      "outputs": [],
      "source": [
        "x <- c(2, 3, 5, 7, 11, 13, 17, 19, 23,\n",
        "       29, 31, 37)\n",
        "A <- matrix(\n",
        "  data = x,     # 1次元データ\n",
        "  nrow = 3,     # 行数\n",
        "  byrow = TRUE) # 行ごとの生成\n",
        "A\n",
        "#>      [,1] [,2] [,3] [,4]\n",
        "#> [1,]    2    3    5    7\n",
        "#> [2,]   11   13   17   19\n",
        "#> [3,]   23   29   31   37"
      ]
    },
    {
      "cell_type": "code",
      "execution_count": null,
      "metadata": {},
      "outputs": [],
      "source": [
        "A <- my_df[, c(2, 3)] %>% as.matrix\n",
        "A\n",
        "#>      english math\n",
        "#> [1,]      60   70\n",
        "#> [2,]      90   80\n",
        "#> [3,]      70   90\n",
        "#> [4,]      90  100"
      ]
    },
    {
      "cell_type": "code",
      "execution_count": null,
      "metadata": {},
      "outputs": [],
      "source": [
        "as.data.frame(A)\n",
        "#>   english math\n",
        "#> 1      60   70\n",
        "#> 2      90   80\n",
        "#> 3      70   90\n",
        "#> 4      90  100"
      ]
    },
    {
      "cell_type": "code",
      "execution_count": null,
      "metadata": {},
      "outputs": [],
      "source": [
        "t(A)\n",
        "#>         [,1] [,2] [,3] [,4]\n",
        "#> english   60   90   70   90\n",
        "#> math      70   80   90  100"
      ]
    },
    {
      "cell_type": "code",
      "execution_count": null,
      "metadata": {},
      "outputs": [],
      "source": [
        "t(A) %*% A\n",
        "#>         english  math\n",
        "#> english   24700 26700\n",
        "#> math      26700 29400"
      ]
    },
    {
      "cell_type": "code",
      "execution_count": null,
      "metadata": {},
      "outputs": [],
      "source": [
        "my_wider <- data.frame(\n",
        "  day = c(25, 26, 27),\n",
        "  min = c(20, 21, 15),\n",
        "  max = c(24, 27, 21))"
      ]
    },
    {
      "cell_type": "code",
      "execution_count": null,
      "metadata": {},
      "outputs": [],
      "source": [
        "my_longer <- my_wider %>%\n",
        "  pivot_longer(-day)\n",
        "my_longer\n",
        "#> # A tibble: 6 x 3\n",
        "#>     day name  value\n",
        "#>   <dbl> <chr> <dbl>\n",
        "#> 1    25 min      20\n",
        "#> 2    25 max      24\n",
        "#> 3    26 min      21\n",
        "#> 4    26 max      27\n",
        "#> 5    27 min      15\n",
        "#> 6    27 max      21"
      ]
    },
    {
      "cell_type": "code",
      "execution_count": null,
      "metadata": {},
      "outputs": [],
      "source": [
        "my_longer %>% pivot_wider()\n",
        "#> # A tibble: 3 x 3\n",
        "#>     day   min   max\n",
        "#>   <dbl> <dbl> <dbl>\n",
        "#> 1    25    20    24\n",
        "#> 2    26    21    27\n",
        "#> 3    27    15    21"
      ]
    },
    {
      "cell_type": "code",
      "execution_count": null,
      "metadata": {},
      "outputs": [],
      "source": [
        "my_longer %>%\n",
        "  ggplot(aes(x = day, y = value,\n",
        "             color = name)) +\n",
        "  geom_point() +\n",
        "  geom_line() +\n",
        "  ylab(\"temperature\") + # y軸ラベル\n",
        "  scale_x_continuous(\n",
        "    breaks = my_longer$day) # x軸目盛り"
      ]
    },
    {
      "cell_type": "markdown",
      "source": "## 3.5 1次元データの（非）類似度",
      "metadata": {}
    },
    {
      "cell_type": "code",
      "execution_count": null,
      "metadata": {},
      "outputs": [],
      "source": [
        "A <- c(3,   4,  5)\n",
        "B <- c(3,   4, 29)\n",
        "C <- c(9, -18,  8)\n",
        "AB <- B - A\n",
        "AC <- C - A\n",
        "\n",
        "sum(AB^2)^0.5\n",
        "#> [1] 24\n",
        "\n",
        "sum(AC^2)^0.5\n",
        "#> [1] 23"
      ]
    },
    {
      "cell_type": "code",
      "execution_count": null,
      "metadata": {},
      "outputs": [],
      "source": [
        "sum(abs(AB))\n",
        "#> [1] 24\n",
        "\n",
        "sum(abs(AC))\n",
        "#> [1] 31"
      ]
    },
    {
      "cell_type": "code",
      "execution_count": null,
      "metadata": {},
      "outputs": [],
      "source": [
        "sum(A * B) /\n",
        "  sum(A * A)^0.5 / sum(B * B)^0.5\n",
        "#> [1] 0.8169679\n",
        "\n",
        "sum(A * C) /\n",
        "  sum(A * A)^0.5 / sum(C * C)^0.5\n",
        "#> [1] -0.03265116"
      ]
    },
    {
      "cell_type": "code",
      "execution_count": null,
      "metadata": {},
      "outputs": [],
      "source": [
        "cor(A, B)\n",
        "#> [1] 0.8824975\n",
        "\n",
        "cor(A, C)\n",
        "#> [1] -0.03266277"
      ]
    },
    {
      "cell_type": "code",
      "execution_count": null,
      "metadata": {},
      "outputs": [],
      "source": [
        "library(tidyverse)\n",
        "\n",
        "\n",
        "\n",
        "my_df <- data.frame(\n",
        "  x = c(3,  3,   9),\n",
        "  y = c(4,  4, -18),\n",
        "  z = c(5, 29,   8),\n",
        "  row.names = c(\"A\", \"B\", \"C\"))\n",
        "\n",
        "# ユークリッド距離\n",
        "my_df %>% proxy::dist(\"Euclidean\")\n",
        "#>    A  B\n",
        "#> B 24\n",
        "#> C 23 31\n",
        "\n",
        "\n",
        "# マンハッタン距離\n",
        "my_df %>% proxy::dist(\"Manhattan\")\n",
        "#>    A  B\n",
        "#> B 24\n",
        "#> C 31 49\n",
        "\n",
        "\n",
        "# コサイン類似度\n",
        "my_df %>% proxy::simil(\"cosine\")\n",
        "#>             A           B\n",
        "#> B  0.81696786\n",
        "#> C -0.03265116  0.29342441\n",
        "\n",
        "\n",
        "# 相関係数\n",
        "my_df %>% proxy::simil(\"correlation\")\n",
        "#>             A           B\n",
        "#> B  0.88249750\n",
        "#> C -0.03266277  0.44124132"
      ]
    },
    {
      "cell_type": "markdown",
      "source": "## 3.6 Rのパッケージ，Pythonのモジュール",
      "metadata": {}
    },
    {
      "cell_type": "code",
      "execution_count": null,
      "metadata": {},
      "outputs": [],
      "source": [
        "library(tidyverse)"
      ]
    },
    {
      "cell_type": "markdown",
      "source": "## 3.7 反復処理",
      "metadata": {}
    },
    {
      "cell_type": "code",
      "execution_count": null,
      "metadata": {},
      "outputs": [],
      "source": [
        "library(tidyverse)"
      ]
    },
    {
      "cell_type": "code",
      "execution_count": null,
      "metadata": {},
      "outputs": [],
      "source": [
        "f1 <- function(x) {\n",
        "  tmp <- runif(x)\n",
        "  mean(tmp)\n",
        "}\n",
        "\n",
        "f1(10)           # 動作確認\n",
        "#> [1] 0.5776604 # 結果の例"
      ]
    },
    {
      "cell_type": "code",
      "execution_count": null,
      "metadata": {},
      "outputs": [],
      "source": [
        "replicate(n = 3, expr = f1(10))\n",
        "#> [1] 0.4672766 0.4712016 0.5579449"
      ]
    },
    {
      "cell_type": "code",
      "execution_count": null,
      "metadata": {},
      "outputs": [],
      "source": [
        "rep(x = f1(10), times = 3)\n",
        "#> [1] 0.481329 0.481329 0.481329"
      ]
    },
    {
      "cell_type": "code",
      "execution_count": null,
      "metadata": {},
      "outputs": [],
      "source": [
        "v <- c(5, 10, 100)\n",
        "v %>% map_dbl(f1)\n",
        "#> [1] 0.4857329 0.5322183 0.5084124"
      ]
    },
    {
      "cell_type": "code",
      "execution_count": null,
      "metadata": {},
      "outputs": [],
      "source": [
        "rep(x = 10, times = 3) %>% map_dbl(f1)\n",
        "# 結果は割愛"
      ]
    },
    {
      "cell_type": "code",
      "execution_count": null,
      "metadata": {},
      "outputs": [],
      "source": [
        "f2 <- function(n) {\n",
        "  tmp <- runif(n)\n",
        "  list(x = n,\n",
        "       p = mean(tmp),\n",
        "       q = sd(tmp))\n",
        "}\n",
        "\n",
        "f2(10) # 動作確認\n",
        "#> $x\n",
        "#> [1] 10\n",
        "#>\n",
        "#> $p\n",
        "#> [1] 0.6840032 （平均の例）\n",
        "#>\n",
        "#> $q\n",
        "#> [1] 0.3750788 （標準偏差の例）"
      ]
    },
    {
      "cell_type": "code",
      "execution_count": null,
      "metadata": {},
      "outputs": [],
      "source": [
        "v <- c(5, 10, 100)\n",
        "v %>% map_dfr(f2)\n",
        "#>       x     p     q\n",
        "#>   <dbl> <dbl> <dbl>\n",
        "#> 1     5 0.560 0.320\n",
        "#> 2    10 0.559 0.271\n",
        "#> 3   100 0.507 0.283"
      ]
    },
    {
      "cell_type": "code",
      "execution_count": null,
      "metadata": {},
      "outputs": [],
      "source": [
        "f3 <- function(x, y) {\n",
        "  tmp <- runif(x, min = 1,\n",
        "                  max = y + 1) %>%\n",
        "    as.integer\n",
        "  list(x = x,\n",
        "       y = y,\n",
        "       p = mean(tmp),\n",
        "       q = sd(tmp))\n",
        "}\n",
        "\n",
        "f3(x = 10, y = 6) # 動作確認\n",
        "#> $x\n",
        "#> [1] 10\n",
        "#>\n",
        "#> $y\n",
        "#> [1] 6\n",
        "#>\n",
        "#> $p\n",
        "#> [1] 3.2 （平均の例）\n",
        "#>\n",
        "#> $q\n",
        "#> [1] 1.316561 （標準偏差の例）"
      ]
    },
    {
      "cell_type": "code",
      "execution_count": null,
      "metadata": {},
      "outputs": [],
      "source": [
        "my_df <- data.frame(\n",
        "  x = c(5, 10, 100,  5, 10, 100),\n",
        "  y = c(6,  6,   6, 12, 12,  12))\n",
        "\n",
        "my_df %>% pmap_dfr(f3)\n",
        "#>       x     y     p     q\n",
        "#>   <dbl> <dbl> <dbl> <dbl>\n",
        "#> 1     5     6  3     1.41\n",
        "#> 2    10     6  3     1.49\n",
        "#> 3   100     6  3.57  1.78\n",
        "#> 4     5    12  7.6   5.22\n",
        "#> 5    10    12  5.7   3.77\n",
        "#> 6   100    12  6.36  3.59"
      ]
    },
    {
      "cell_type": "code",
      "execution_count": null,
      "metadata": {},
      "outputs": [],
      "source": [
        "library(furrr)\n",
        "plan(multisession) # 準備\n",
        "\n",
        "v <- c(5, 10, 100)\n",
        "v %>% future_map_dbl(f1, .options =\n",
        "  furrr_options(seed = TRUE))\n",
        "# 結果は割愛"
      ]
    },
    {
      "cell_type": "markdown",
      "source": "## 3.8 その他",
      "metadata": {}
    },
    {
      "cell_type": "code",
      "execution_count": null,
      "metadata": {},
      "outputs": [],
      "source": [
        "x <- 123\n",
        "typeof(x)\n",
        "#> [1] \"double\""
      ]
    },
    {
      "cell_type": "code",
      "execution_count": null,
      "metadata": {},
      "outputs": [],
      "source": [
        "?log\n",
        "# あるいは\n",
        "help(log)"
      ]
    },
    {
      "cell_type": "code",
      "execution_count": null,
      "metadata": {},
      "outputs": [],
      "source": [
        "v <- c(1, NA, 3)\n",
        "v\n",
        "#> [1]  1 NA  3"
      ]
    },
    {
      "cell_type": "code",
      "execution_count": null,
      "metadata": {},
      "outputs": [],
      "source": [
        "is.na(v[2])\n",
        "#> [1] TRUE\n",
        "\n",
        "v[2] == NA # 誤り\n",
        "#> [1] NA"
      ]
    },
    {
      "cell_type": "markdown",
      "source": "# 4 統計入門\n\n\n",
      "metadata": {}
    },
    {
      "cell_type": "markdown",
      "source": "## 4.1 記述統計",
      "metadata": {}
    },
    {
      "cell_type": "code",
      "execution_count": null,
      "metadata": {},
      "outputs": [],
      "source": [
        "x <- c(165, 170, 175, 180, 185)\n",
        "mean(x) # 平均\n",
        "#> [1] 175"
      ]
    },
    {
      "cell_type": "code",
      "execution_count": null,
      "metadata": {},
      "outputs": [],
      "source": [
        "n <- length(x) # サンプルサイズ\n",
        "sum(x) / n\n",
        "#> [1] 175"
      ]
    },
    {
      "cell_type": "code",
      "execution_count": null,
      "metadata": {},
      "outputs": [],
      "source": [
        "y <- c(173, 174, 175, 176, 177)\n",
        "mean(y)\n",
        "#> [1] 175"
      ]
    },
    {
      "cell_type": "code",
      "execution_count": null,
      "metadata": {},
      "outputs": [],
      "source": [
        "var(x) # xの分散\n",
        "#> [1] 62.5\n",
        "\n",
        "var(y) # yの分散\n",
        "#> [1] 2.5"
      ]
    },
    {
      "cell_type": "code",
      "execution_count": null,
      "metadata": {},
      "outputs": [],
      "source": [
        "sum((x - mean(x))^2) / (n - 1)\n",
        "#> [1] 62.5"
      ]
    },
    {
      "cell_type": "code",
      "execution_count": null,
      "metadata": {},
      "outputs": [],
      "source": [
        "sd(x) # xの標準偏差\n",
        "#> [1] 7.905694\n",
        "\n",
        "sd(y) # yの標準偏差\n",
        "#> [1] 1.581139"
      ]
    },
    {
      "cell_type": "code",
      "execution_count": null,
      "metadata": {},
      "outputs": [],
      "source": [
        "var(x)**0.5 # xの標準偏差\n",
        "#> [1] 7.905694"
      ]
    },
    {
      "cell_type": "code",
      "execution_count": null,
      "metadata": {},
      "outputs": [],
      "source": [
        "psych::describe(x)\n",
        "#>    vars n mean   sd ...\n",
        "#> X1    1 5  175 7.91 ...\n",
        "\n",
        "# あるいは\n",
        "\n",
        "pastecs::stat.desc(x)\n",
        "#>      nbr.val ...   std.dev ...\n",
        "#>    5.0000000 ... 7.9056942 ..."
      ]
    },
    {
      "cell_type": "code",
      "execution_count": null,
      "metadata": {},
      "outputs": [],
      "source": [
        "quantile(x)\n",
        "#>   0%  25%  50%  75% 100%\n",
        "#>  165  170  175  180  185"
      ]
    },
    {
      "cell_type": "code",
      "execution_count": null,
      "metadata": {},
      "outputs": [],
      "source": [
        "x <- c(165, 170, 175, 180, 185)\n",
        "\n",
        "var(x)                # 不偏分散\n",
        "#> [1] 62.5\n",
        "\n",
        "mean((x - mean(x))^2) # 標本分散\n",
        "# あるいは\n",
        "n <- length(x)\n",
        "var(x) * (n - 1) / n  # 標本分散\n",
        "#> [1] 50"
      ]
    },
    {
      "cell_type": "code",
      "execution_count": null,
      "metadata": {},
      "outputs": [],
      "source": [
        "sd(x)                     # √不偏分散\n",
        "#> [1] 7.905694\n",
        "\n",
        "mean((x - mean(x))^2)^0.5 # √標本分散\n",
        "# あるいは\n",
        "sd(x) * sqrt((n - 1) / n) # √標本分散\n",
        "#> [1] 7.071068"
      ]
    },
    {
      "cell_type": "code",
      "execution_count": null,
      "metadata": {},
      "outputs": [],
      "source": [
        "sd(x) / length(x)**0.5\n",
        "#> [1] 3.535534"
      ]
    },
    {
      "cell_type": "code",
      "execution_count": null,
      "metadata": {},
      "outputs": [],
      "source": [
        "library(tidyverse)\n",
        "\n",
        "my_df <- data.frame(\n",
        "  name    = c(\"A\", \"B\", \"C\", \"D\"),\n",
        "  english = c( 60,  90,  70,  90),\n",
        "  math    = c( 70,  80,  90, 100),\n",
        "  gender  = c(\"f\", \"m\", \"m\", \"f\"))"
      ]
    },
    {
      "cell_type": "code",
      "execution_count": null,
      "metadata": {},
      "outputs": [],
      "source": [
        "var(my_df$english)\n",
        "#> [1] 225"
      ]
    },
    {
      "cell_type": "code",
      "execution_count": null,
      "metadata": {},
      "outputs": [],
      "source": [
        "# 結果はベクタ\n",
        "my_df[, c(2, 3)] %>% sapply(var)\n",
        "#> english     math\n",
        "#> 225.0000 166.6667\n",
        "\n",
        "# 結果はリスト\n",
        "my_df[, c(2, 3)] %>% lapply(var)\n",
        "#> $english\n",
        "#> [1] 225\n",
        "#>\n",
        "#> $math\n",
        "#> [1] 166.6667\n",
        "\n",
        "# 結果はデータフレーム\n",
        "my_df[, c(2, 3)] %>% # 2, 3列目\n",
        "  summarize(across(  # の\n",
        "    everything(),    # 全ての\n",
        "    var))            # 不偏分散\n",
        "# あるいは\n",
        "my_df %>%              # データフレーム\n",
        "  summarize(across(    # の\n",
        "    where(is.numeric), # 数値の列の\n",
        "    var))              # 不偏分散\n",
        "# あるいは\n",
        "my_df %>%              # データフレーム\n",
        "  summarize(across(    # の\n",
        "    where(is.numeric), # 数値の列の\n",
        "    function(x) { var(x) })) # 不偏分散\n",
        "\n",
        "#>   english     math\n",
        "#> 1     225 166.6667"
      ]
    },
    {
      "cell_type": "code",
      "execution_count": null,
      "metadata": {},
      "outputs": [],
      "source": [
        "psych::describe(my_df)\n",
        "#>         vars n mean    sd ...\n",
        "#> name*      1 4  2.5  1.29 ...\n",
        "#> english    2 4 77.5 15.00 ...\n",
        "#> math       3 4 85.0 12.91 ...\n",
        "#> gender*    4 4  1.5  0.58 ...\n",
        "\n",
        "# あるいは\n",
        "\n",
        "pastecs::stat.desc(my_df)\n",
        "#>          name     english ...\n",
        "#> nbr.val    NA   4.0000000 ...\n",
        "#> nbr.null   NA   0.0000000 ...\n",
        "#> nbr.na     NA   0.0000000 ...\n",
        "#> min        NA  60.0000000 ...\n",
        "#> max        NA  90.0000000 ...\n",
        "# 以下省略"
      ]
    },
    {
      "cell_type": "code",
      "execution_count": null,
      "metadata": {},
      "outputs": [],
      "source": [
        "table(my_df$gender)\n",
        "\n",
        "#> f m\n",
        "#> 2 2"
      ]
    },
    {
      "cell_type": "code",
      "execution_count": null,
      "metadata": {},
      "outputs": [],
      "source": [
        "my_df2 <- data.frame(\n",
        "  gender = my_df$gender,\n",
        "  excel = my_df$math >= 80)\n",
        "table(my_df2)\n",
        "\n",
        "#>       excel\n",
        "#> gender FALSE TRUE\n",
        "#>      f     1    1\n",
        "#>      m     0    2"
      ]
    },
    {
      "cell_type": "code",
      "execution_count": null,
      "metadata": {},
      "outputs": [],
      "source": [
        "my_df %>% group_by(gender) %>%\n",
        "  summarize(across(\n",
        "    where(is.numeric), mean),\n",
        "    .groups = \"drop\") # グループ化解除\n",
        "\n",
        "#> # A tibble: 2 x 3\n",
        "#>   gender english  math\n",
        "#>   <chr>    <dbl> <dbl>\n",
        "#> 1 f           75    85\n",
        "#> 2 m           80    85"
      ]
    },
    {
      "cell_type": "markdown",
      "source": "## 4.2 データの可視化",
      "metadata": {}
    },
    {
      "cell_type": "code",
      "execution_count": null,
      "metadata": {},
      "outputs": [],
      "source": [
        "head(iris)\n",
        "#>   Sepal.Length Sepal.Width Petal.Length Petal.Width Species\n",
        "#> 1          5.1         3.5          1.4         0.2  setosa\n",
        "#> 2          4.9         3.0          1.4         0.2  setosa\n",
        "#> 3          4.7         3.2          1.3         0.2  setosa\n",
        "#> 4          4.6         3.1          1.5         0.2  setosa\n",
        "#> 5          5.0         3.6          1.4         0.2  setosa\n",
        "#> 6          5.4         3.9          1.7         0.4  setosa"
      ]
    },
    {
      "cell_type": "code",
      "execution_count": null,
      "metadata": {},
      "outputs": [],
      "source": [
        "hist(iris$Sepal.Length)"
      ]
    },
    {
      "cell_type": "code",
      "execution_count": null,
      "metadata": {},
      "outputs": [],
      "source": [
        "x <- c(10, 20, 30)\n",
        "hist(x, breaks = 2) # 階級数は2"
      ]
    },
    {
      "cell_type": "code",
      "execution_count": null,
      "metadata": {},
      "outputs": [],
      "source": [
        "x <- iris$Sepal.Length\n",
        "tmp <- seq(min(x), max(x),\n",
        "           length.out = 10)\n",
        "hist(x, breaks = tmp, right = FALSE)"
      ]
    },
    {
      "cell_type": "code",
      "execution_count": null,
      "metadata": {},
      "outputs": [],
      "source": [
        "plot(iris$Sepal.Length,\n",
        "     iris$Sepal.Width)"
      ]
    },
    {
      "cell_type": "code",
      "execution_count": null,
      "metadata": {},
      "outputs": [],
      "source": [
        "boxplot(iris[, -5])"
      ]
    },
    {
      "cell_type": "code",
      "execution_count": null,
      "metadata": {},
      "outputs": [],
      "source": [
        "library(tidyverse)\n",
        "my_df <- psych::describe(iris[, -5])\n",
        "my_df %>% select(mean, sd, se)\n",
        "#>              mean   sd   se\n",
        "#> Sepal.Length 5.84 0.83 0.07\n",
        "#> Sepal.Width  3.06 0.44 0.04\n",
        "#> Petal.Length 3.76 1.77 0.14\n",
        "#> Petal.Width  1.20 0.76 0.06"
      ]
    },
    {
      "cell_type": "code",
      "execution_count": null,
      "metadata": {},
      "outputs": [],
      "source": [
        "tmp <- rownames(my_df)\n",
        "my_df %>% ggplot(aes(x = factor(tmp, levels = tmp), y = mean)) +\n",
        "  geom_col() +\n",
        "  geom_errorbar(aes(ymin = mean - se, ymax = mean + se)) +\n",
        "  xlab(NULL)"
      ]
    },
    {
      "cell_type": "code",
      "execution_count": null,
      "metadata": {},
      "outputs": [],
      "source": [
        "my_group <- iris %>% group_by(Species)       # 品種ごとに，\n",
        "\n",
        "my_df <- my_group %>%                        # 各変数の，平均と\n",
        "  summarize(across(everything(), mean)) %>%\n",
        "  pivot_longer(-Species)\n",
        "\n",
        "tmp <- my_group %>%                          # 標準誤差を求める．\n",
        "  summarize(across(everything(), ~ sd(.) / length(.)**0.5)) %>%\n",
        "  pivot_longer(-Species)\n",
        "\n",
        "my_df$se <- tmp$value\n",
        "head(my_df)\n",
        "#> # A tibble: 6 x 4\n",
        "#>   Species    name         value     se\n",
        "#>   <fct>      <chr>        <dbl>  <dbl>\n",
        "#> 1 setosa     Sepal.Length 5.01  0.0498\n",
        "#> 2 setosa     Sepal.Width  3.43  0.0536\n",
        "#> 3 setosa     Petal.Length 1.46  0.0246\n",
        "#> 4 setosa     Petal.Width  0.246 0.0149\n",
        "#> 5 versicolor Sepal.Length 5.94  0.0730\n",
        "#> 6 versicolor Sepal.Width  2.77  0.0444"
      ]
    },
    {
      "cell_type": "code",
      "execution_count": null,
      "metadata": {},
      "outputs": [],
      "source": [
        "my_df %>%\n",
        "  ggplot(aes(x = Species, y = value, fill = name)) +\n",
        "  geom_col(position = \"dodge\") +\n",
        "  geom_errorbar(aes(ymin = value - se, ymax = value + se), position = \"dodge\")"
      ]
    },
    {
      "cell_type": "code",
      "execution_count": null,
      "metadata": {},
      "outputs": [],
      "source": [
        "# 各変数の平均\n",
        "iris %>% pivot_longer(-Species) %>%\n",
        "  ggplot(aes(x = name, y = value)) +\n",
        "  geom_bar(stat = \"summary\", fun = mean) +\n",
        "  stat_summary(geom = \"errorbar\", fun.data = mean_se) +\n",
        "  xlab(NULL)\n",
        "\n",
        "# 各変数の平均（品種ごと）\n",
        "iris %>% pivot_longer(-Species) %>%\n",
        "  ggplot(aes(x = Species, y = value, fill = name)) +\n",
        "  geom_bar(stat = \"summary\", fun = mean, position = \"dodge\") +\n",
        "  stat_summary(geom = \"errorbar\", fun.data = mean_se, position = \"dodge\")"
      ]
    },
    {
      "cell_type": "code",
      "execution_count": null,
      "metadata": {},
      "outputs": [],
      "source": [
        "my_df <- data.frame(\n",
        "  Species = iris$Species,\n",
        "  w_Sepal = iris$Sepal.Width > 3)\n",
        "table(my_df) # 分割表\n",
        "#>             w_Sepal\n",
        "#> Species      FALSE TRUE\n",
        "#>   setosa         8   42\n",
        "#>   versicolor    42    8\n",
        "#>   virginica     33   17\n",
        "\n",
        "mosaicplot(\n",
        "  formula = ~ Species + w_Sepal,\n",
        "  data = my_df)"
      ]
    },
    {
      "cell_type": "code",
      "execution_count": null,
      "metadata": {},
      "outputs": [],
      "source": [
        "library(vcd)\n",
        "vcd::mosaic(formula = ~w_Sepal + Species, data = my_df,\n",
        "            labeling = labeling_values)"
      ]
    },
    {
      "cell_type": "code",
      "execution_count": null,
      "metadata": {},
      "outputs": [],
      "source": [
        "curve(x^3 - x, -2, 2)"
      ]
    },
    {
      "cell_type": "code",
      "execution_count": null,
      "metadata": {},
      "outputs": [],
      "source": [
        "x <- iris$Sepal.Length\n",
        "tmp <- seq(min(x), max(x),\n",
        "           length.out = 10)\n",
        "iris %>%\n",
        "  ggplot(aes(x = Sepal.Length)) +\n",
        "  geom_histogram(breaks = tmp,\n",
        "                 closed = \"left\")"
      ]
    },
    {
      "cell_type": "code",
      "execution_count": null,
      "metadata": {},
      "outputs": [],
      "source": [
        "iris %>%\n",
        "  ggplot(aes(x = Sepal.Length,\n",
        "             y = Sepal.Width)) +\n",
        "  geom_point()"
      ]
    },
    {
      "cell_type": "code",
      "execution_count": null,
      "metadata": {},
      "outputs": [],
      "source": [
        "iris %>%\n",
        "  pivot_longer(-Species) %>%\n",
        "  ggplot(aes(\n",
        "    x = factor(name,\n",
        "               levels = names(iris)),\n",
        "    y = value)) +\n",
        "  geom_boxplot() +\n",
        "  xlab(NULL)"
      ]
    },
    {
      "cell_type": "code",
      "execution_count": null,
      "metadata": {},
      "outputs": [],
      "source": [
        "library(ggmosaic)\n",
        "my_df <- data.frame(\n",
        "  Species = iris$Species,\n",
        "  w_Sepal = iris$Sepal.Width > 3)\n",
        "my_df %>%\n",
        "  ggplot() +\n",
        "  geom_mosaic(\n",
        "    aes(x = product(w_Sepal, Species)))"
      ]
    },
    {
      "cell_type": "code",
      "execution_count": null,
      "metadata": {},
      "outputs": [],
      "source": [
        "f <- function(x) { x^3 - x }\n",
        "data.frame(x = c(-2, 2)) %>%\n",
        "  ggplot(aes(x = x)) +\n",
        "  stat_function(fun = f)"
      ]
    },
    {
      "cell_type": "markdown",
      "source": "## 4.3 乱数",
      "metadata": {}
    },
    {
      "cell_type": "code",
      "execution_count": null,
      "metadata": {},
      "outputs": [],
      "source": [
        "x <- sample(x = 1:6,        # 範囲\n",
        "            size = 10000,   # 乱数の数\n",
        "            replace = TRUE) # 重複あり\n",
        "hist(x, breaks = 0:6) # ヒストグラム"
      ]
    },
    {
      "cell_type": "code",
      "execution_count": null,
      "metadata": {},
      "outputs": [],
      "source": [
        "x <- runif(min = 0,  # 最小\n",
        "           max = 1,  # 最大\n",
        "           n = 1000) # 乱数の数\n",
        "hist(x)"
      ]
    },
    {
      "cell_type": "code",
      "execution_count": null,
      "metadata": {},
      "outputs": [],
      "source": [
        "x <- as.integer(      # 整数に変換\n",
        "  runif(min = 1,      # 最小\n",
        "        max = 7,      # 最大 + 1\n",
        "        n = 1000))    # 乱数の数\n",
        "hist(x, breaks = 0:6) # 結果は割愛"
      ]
    },
    {
      "cell_type": "code",
      "execution_count": null,
      "metadata": {},
      "outputs": [],
      "source": [
        "n <- 100\n",
        "p <- 0.5\n",
        "r <- 10000\n",
        "x <- rbinom(size = n, # 試行回数\n",
        "            prob = p, # 確率\n",
        "            n = r)    # 乱数の数\n",
        "hist(x, breaks = max(x) - min(x))"
      ]
    },
    {
      "cell_type": "code",
      "execution_count": null,
      "metadata": {},
      "outputs": [],
      "source": [
        "r <- 10000\n",
        "x <- rnorm(mean = 50, # 平均\n",
        "           sd = 5,    # 標準偏差\n",
        "           n = r)     # 乱数の数\n",
        "hist(x, breaks = 40)"
      ]
    },
    {
      "cell_type": "code",
      "execution_count": null,
      "metadata": {},
      "outputs": [],
      "source": [
        "library(tidyverse)\n",
        "\n",
        "f <- function(k) {\n",
        "  n <- 10000\n",
        "  tmp <- replicate(n = n, expr = g(rnorm(n =  k, sd = 3)))\n",
        "  list(k = k,\n",
        "       mean = mean(tmp),       # 平均\n",
        "       se = sd(tmp) / sqrt(n)) # 標準誤差\n",
        "}"
      ]
    },
    {
      "cell_type": "code",
      "execution_count": null,
      "metadata": {},
      "outputs": [],
      "source": [
        "g <- var\n",
        "c(10, 20, 30) %>% map_dfr(f)\n",
        "#> # A tibble: 3 x 3\n",
        "#>       k  mean     se\n",
        "#>   <dbl> <dbl>  <dbl>\n",
        "#> 1    10  8.98 0.0427\n",
        "#> 2    20  8.97 0.0288\n",
        "#> 3    30  9.03 0.0233"
      ]
    },
    {
      "cell_type": "code",
      "execution_count": null,
      "metadata": {},
      "outputs": [],
      "source": [
        "g <- sd\n",
        "c(5, 10, 15, 20) %>% map_dfr(f)\n",
        "#> # A tibble: 3 x 3\n",
        "#>       k  mean      se\n",
        "#>   <dbl> <dbl>   <dbl>\n",
        "#> 1    10  2.92 0.00701\n",
        "#> 2    20  2.95 0.00481\n",
        "#> 3    30  2.97 0.00394"
      ]
    },
    {
      "cell_type": "code",
      "execution_count": null,
      "metadata": {},
      "outputs": [],
      "source": [
        "g <- function(x) {\n",
        "  n <- length(x)\n",
        "  sd(x) *\n",
        "    sqrt((n - 1) / 2) *\n",
        "    gamma((n - 1) / 2) /\n",
        "    gamma(n / 2)\n",
        "}\n",
        "c(10, 20, 30) %>% map_dfr(f)\n",
        "#> # A tibble: 3 x 3\n",
        "#>       k  mean      se\n",
        "#>   <dbl> <dbl>   <dbl>\n",
        "#> 1    10  3.00 0.00717\n",
        "#> 2    20  2.99 0.00488\n",
        "#> 3    30  3.00 0.00396"
      ]
    },
    {
      "cell_type": "markdown",
      "source": "## 4.4 統計的推測",
      "metadata": {}
    },
    {
      "cell_type": "code",
      "execution_count": null,
      "metadata": {},
      "outputs": [],
      "source": [
        "library(exactci)\n",
        "library(tidyverse)\n",
        "\n",
        "a <- 0.05                              # 有意水準\n",
        "binom.exact(x = 2,                     # 当たった回数\n",
        "            n = 15,                    # くじを引いた回数\n",
        "            p = 4 / 10,                # 当たる確率（仮説）\n",
        "            plot = TRUE,               # p値の描画（結果は次項に掲載）\n",
        "            conf.level = 1 - a,        # 信頼係数（デフォルト）\n",
        "            tsmethod = \"minlike\",      # p値の定義\n",
        "            alternative = \"two.sided\") # 両側検定（デフォルト）\n",
        "                                       # 左片側検定なら'less'\n",
        "                                       # 右片側検定なら'greater'\n",
        "\n",
        "#>  Exact two-sided binomial test (central method)\n",
        "#>\n",
        "#> data:  2 and 15\n",
        "#> number of successes = 2, number of trials = 15,\n",
        "#> p-value = 0.03646\n",
        "#> alternative hypothesis: true probability of success is not equal to 0.4\n",
        "#> 95 percent confidence interval:\n",
        "#>  0.0242 0.3967\n",
        "#> sample estimates:\n",
        "#> probability of success\n",
        "#>              0.1333333"
      ]
    },
    {
      "cell_type": "code",
      "execution_count": null,
      "metadata": {},
      "outputs": [],
      "source": [
        "t <- 4 / 10               # 当たる確率\n",
        "n <- 15                   # くじを引いた回数\n",
        "x <- 0:n                  # 当たった回数\n",
        "my_pr  <- dbinom(x, n, t) # x回当たる確率\n",
        "my_pr2 <- dbinom(2, n, t) # 2回当たる確率\n",
        "\n",
        "my_data <- data.frame(x = x,\n",
        "                      probability = my_pr,\n",
        "                      color = my_pr <= my_pr2) # 当たる確率が，2回当たる確率以下\n",
        "\n",
        "my_data %>% ggplot(aes(x = x, y = probability, color = color)) +\n",
        "  geom_point(size = 3) +\n",
        "  geom_linerange(aes(ymin = 0, ymax = probability), ) + # 垂直線\n",
        "  geom_hline(yintercept = my_pr2) +                     # 水平線\n",
        "  theme(legend.position = \"none\")                       # 凡例を表示しない．"
      ]
    },
    {
      "cell_type": "code",
      "execution_count": null,
      "metadata": {},
      "outputs": [],
      "source": [
        "# 前項の結果（再掲）\n",
        "#> 95 percent confidence interval:\n",
        "#>  0.0242 0.3967"
      ]
    },
    {
      "cell_type": "code",
      "execution_count": null,
      "metadata": {},
      "outputs": [],
      "source": [
        "# 前項冒頭のコード"
      ]
    },
    {
      "cell_type": "code",
      "execution_count": null,
      "metadata": {},
      "outputs": [],
      "source": [
        "X <- c(32.1, 26.2, 27.5, 31.8, 32.1, 31.2, 30.1, 32.4, 32.3, 29.9,\n",
        "       29.6, 26.6, 31.2, 30.9, 29.3)\n",
        "Y <- c(35.4, 34.6, 31.1, 32.4, 33.3, 34.7, 35.3, 34.3, 32.1, 28.3,\n",
        "       33.3, 30.5, 32.6, 33.3, 32.2)\n",
        "\n",
        "t.test(x = X, y = Y,\n",
        "       conf.level = 0.95,         # 信頼係数（デフォルト）\n",
        "       paired = TRUE,             # 対標本である．\n",
        "       alternative = \"two.sided\") # 両側検定（デフォルト）\n",
        "                                  # 左片側検定なら'less'\n",
        "                                  # 右片側検定なら'greater'\n",
        "\n",
        "#>  Paired t-test\n",
        "#>\n",
        "#> data:  X and Y\n",
        "#> t = -4.3694, df = 14, p-value = 0.0006416\n",
        "#> alternative hypothesis: true difference in means is not equal to 0\n",
        "#> 95 percent confidence interval:\n",
        "#>  -3.995525 -1.364475\n",
        "#> sample estimates:\n",
        "#> mean of the differences\n",
        "#>                   -2.68"
      ]
    },
    {
      "cell_type": "code",
      "execution_count": null,
      "metadata": {},
      "outputs": [],
      "source": [
        "t.test(x = X, y = Y,\n",
        "       paired = FALSE,   # 対標本ではない（デフォルト）．\n",
        "       var.equal = TRUE, # 等分散を仮定する．仮定しないならFALSE（デフォルト）．\n",
        "       alternative = \"two.sided\",\n",
        "       conf.level = 0.95)\n",
        "\n",
        "#>  Two Sample t-test\n",
        "#>\n",
        "#> data:  X and Y\n",
        "#> t = -3.6821, df = 28, p-value = 0.0009785\n",
        "#> alternative hypothesis: true difference in means is not equal to 0\n",
        "#> 95 percent confidence interval:\n",
        "#>  -4.170906 -1.189094\n",
        "#> sample estimates:\n",
        "#> mean of x mean of y\n",
        "#>  30.21333  32.89333"
      ]
    },
    {
      "cell_type": "code",
      "execution_count": null,
      "metadata": {},
      "outputs": [],
      "source": [
        "my_url <- str_c(\"https://raw.githubusercontent.com/taroyabuki\",\n",
        "                \"/fromzero/master/data/smoker.csv\")\n",
        "my_data <- read_csv(my_url)"
      ]
    },
    {
      "cell_type": "code",
      "execution_count": null,
      "metadata": {},
      "outputs": [],
      "source": [
        "head(my_data)\n",
        "#>   alive smoker\n",
        "#> 1   Yes     No\n",
        "#> 2   Yes     No\n",
        "#> 3   Yes     No\n",
        "#> 4   Yes     No\n",
        "#> 5   Yes     No\n",
        "#> 6   Yes     No"
      ]
    },
    {
      "cell_type": "code",
      "execution_count": null,
      "metadata": {},
      "outputs": [],
      "source": [
        "my_table <- table(my_data)\n",
        "my_table\n",
        "#>      smoker\n",
        "#> alive  No Yes\n",
        "#>   No  117  54\n",
        "#>   Yes 950 348"
      ]
    },
    {
      "cell_type": "code",
      "execution_count": null,
      "metadata": {},
      "outputs": [],
      "source": [
        "chisq.test(my_table, correct = FALSE)\n",
        "\n",
        "#>  Pearson's Chi-squared test\n",
        "#>\n",
        "#> data:  my_data\n",
        "#> X-squared = 1.7285, df = 1, p-value = 0.1886"
      ]
    },
    {
      "cell_type": "code",
      "execution_count": null,
      "metadata": {},
      "outputs": [],
      "source": [
        "X <- rep(0:1, c(13, 2)) # 手順1\n",
        "X\n",
        "#> [1] 0 0 0 0 0 0 0 0 0 0 0 0 0 1 1\n",
        "\n",
        "tmp <- sample(X, size = length(X), replace = TRUE) # 手順2\n",
        "tmp\n",
        "#> [1] 0 0 1 0 0 0 0 0 0 1 0 1 0 0 0\n",
        "\n",
        "sum(tmp) # 手順3\n",
        "#> [1] 2\n",
        "\n",
        "n <- 10^5\n",
        "result <- replicate(n, sum(sample(X, size = length(X), replace = TRUE))) # 手順4"
      ]
    },
    {
      "cell_type": "code",
      "execution_count": null,
      "metadata": {},
      "outputs": [],
      "source": [
        "hist(x = result, breaks = 0:15,\n",
        "     right = FALSE)"
      ]
    },
    {
      "cell_type": "code",
      "execution_count": null,
      "metadata": {},
      "outputs": [],
      "source": [
        "quantile(result, c(0.025, 0.975))\n",
        "#>  2.5% 97.5%\n",
        "#>     0     5"
      ]
    },
    {
      "cell_type": "markdown",
      "source": "# 5 前処理\n\n\n",
      "metadata": {}
    },
    {
      "cell_type": "markdown",
      "source": "## 5.1 データの読み込み",
      "metadata": {}
    },
    {
      "cell_type": "code",
      "execution_count": null,
      "metadata": {},
      "outputs": [],
      "source": [
        "library(tidyverse)\n",
        "system(str_c(\"wget https://raw.githubusercontent.com/taroyabuki\",\n",
        "             \"/fromzero/master/data/exam.csv\"))"
      ]
    },
    {
      "cell_type": "code",
      "execution_count": null,
      "metadata": {},
      "outputs": [],
      "source": [
        "my_df <- read_csv(\"exam.csv\")\n",
        "# あるいは\n",
        "my_df <- read.csv(\"exam.csv\",\n",
        "  stringsAsFactors = FALSE)\n",
        "\n",
        "my_df\n",
        "#>   name english math gender\n",
        "#> 1    A      60   70      f\n",
        "#> 2    B      90   80      m\n",
        "#> 3    C      70   90      m\n",
        "#> 4    D      90  100      f"
      ]
    },
    {
      "cell_type": "code",
      "execution_count": null,
      "metadata": {},
      "outputs": [],
      "source": [
        "my_url <- str_c(\"https://raw.githubusercontent.com/taroyabuki\",\n",
        "                \"/fromzero/master/data/exam.csv\")\n",
        "my_df <- read_csv(my_url)\n",
        "# あるいは\n",
        "my_df <- read.csv(my_url, stringsAsFactors = FALSE)"
      ]
    },
    {
      "cell_type": "code",
      "execution_count": null,
      "metadata": {},
      "outputs": [],
      "source": [
        "my_df2 <- read.csv(\n",
        "  file = \"exam.csv\",\n",
        "  stringsAsFactors = FALSE,\n",
        "  row.names = 1)\n",
        "my_df2\n",
        "#>   english math gender\n",
        "#> A      60   70      f\n",
        "#> B      90   80      m\n",
        "#> C      70   90      m\n",
        "#> D      90  100      f"
      ]
    },
    {
      "cell_type": "code",
      "execution_count": null,
      "metadata": {},
      "outputs": [],
      "source": [
        "my_df %>% write_csv(\"exam2.csv\")\n",
        "# あるいは\n",
        "my_df %>% write.csv(\n",
        "  file = \"exam2.csv\",\n",
        "  row.names = FALSE)"
      ]
    },
    {
      "cell_type": "code",
      "execution_count": null,
      "metadata": {},
      "outputs": [],
      "source": [
        "my_df2 %>% write.csv(\"exam3.csv\")"
      ]
    },
    {
      "cell_type": "code",
      "execution_count": null,
      "metadata": {},
      "outputs": [],
      "source": [
        "my_df <- read_csv(file = \"exam.csv\",\n",
        "  locale = locale(encoding = \"UTF-8\"))\n",
        "# あるいは\n",
        "my_df <- read.csv(file = \"exam.csv\",\n",
        "  stringsAsFactors = FALSE,\n",
        "  fileEncoding = \"UTF-8\")"
      ]
    },
    {
      "cell_type": "code",
      "execution_count": null,
      "metadata": {},
      "outputs": [],
      "source": [
        "my_df %>% write_csv(\"exam2.csv\")\n",
        "# あるいは\n",
        "my_df %>% write.csv(file = \"exam2.csv\", row.names = FALSE,\n",
        "                    fileEncoding = \"UTF-8\")"
      ]
    },
    {
      "cell_type": "code",
      "execution_count": null,
      "metadata": {},
      "outputs": [],
      "source": [
        "my_url <- \"https://taroyabuki.github.io/fromzero/exam.html\"\n",
        "my_tables <- xml2::read_html(my_url) %>% rvest::html_table()"
      ]
    },
    {
      "cell_type": "code",
      "execution_count": null,
      "metadata": {},
      "outputs": [],
      "source": [
        "my_tables\n",
        "#> [[1]]\n",
        "#>   X1   X2      X3   X4     X5\n",
        "#> 1 NA name english math gender\n",
        "#> 2 NA    A      60   70      f\n",
        "#> 3 NA    B      90   80      m\n",
        "#> 4 NA    C      70   90      m\n",
        "#> 5 NA    D      90  100      f"
      ]
    },
    {
      "cell_type": "code",
      "execution_count": null,
      "metadata": {},
      "outputs": [],
      "source": [
        "tmp <- my_tables[[1]]\n",
        "tmp\n",
        "#>   X1   X2      X3   X4     X5\n",
        "#> 1 NA name english math gender\n",
        "#> 2 NA    A      60   70      f\n",
        "#> 3 NA    B      90   80      m\n",
        "#> 4 NA    C      70   90      m\n",
        "#> 5 NA    D      90  100      f"
      ]
    },
    {
      "cell_type": "code",
      "execution_count": null,
      "metadata": {},
      "outputs": [],
      "source": [
        "# 1行目のデータを使って列の名前を付け直す．\n",
        "colnames(tmp) <- tmp[1, ]\n",
        "\n",
        "# 1行目と1列目を削除する．\n",
        "my_data <- tmp[-1, -1]\n",
        "my_data\n",
        "#>   name english math gender\n",
        "#> 2    A      60   70      f\n",
        "#> 3    B      90   80      m\n",
        "#> 4    C      70   90      m\n",
        "#> 5    D      90  100      f"
      ]
    },
    {
      "cell_type": "code",
      "execution_count": null,
      "metadata": {},
      "outputs": [],
      "source": [
        "library(jsonlite)\n",
        "my_url <- str_c(\"https://raw.githubusercontent.com/taroyabuki\",\n",
        "                \"/fromzero/master/data/exam.json\")\n",
        "my_data <- fromJSON(my_url)\n",
        "#my_data <- fromJSON(\"exam.json\") # （ファイルを使う場合）\n",
        "my_data\n",
        "#>   name english math gender\n",
        "#> 1    A      60   70      f\n",
        "#> 2    B      90   80      m\n",
        "#> 3    C      70   90      m\n",
        "#> 4    D      90  100      f"
      ]
    },
    {
      "cell_type": "code",
      "execution_count": null,
      "metadata": {},
      "outputs": [],
      "source": [
        "library(xml2)\n",
        "my_url <- str_c(\"https://raw.githubusercontent.com/taroyabuki\",\n",
        "                \"/fromzero/master/data/exam.xml\")\n",
        "my_xml <- read_xml(my_url)      # XMLデータの読み込み\n",
        "#my_xml <- read_xml(\"exam.xml\") # （ファイルを使う場合）\n",
        "xml_ns(my_xml)                  # 名前空間の確認（d1）\n",
        "#> d1 <-> https://www.example.net/ns/1.0"
      ]
    },
    {
      "cell_type": "code",
      "execution_count": null,
      "metadata": {},
      "outputs": [],
      "source": [
        "my_records <- xml_find_all(my_xml, \".//d1:record\")"
      ]
    },
    {
      "cell_type": "code",
      "execution_count": null,
      "metadata": {},
      "outputs": [],
      "source": [
        "f <- function(record) {\n",
        "  tmp <- xml_attrs(record)                    # 属性を全て取り出し，\n",
        "  xml_children(record) %>% walk(function(e) {\n",
        "    tmp[xml_name(e)] <<- xml_text(e)          # 子要素の名前と内容を追加する．\n",
        "  })\n",
        "  tmp\n",
        "}"
      ]
    },
    {
      "cell_type": "code",
      "execution_count": null,
      "metadata": {},
      "outputs": [],
      "source": [
        "my_data <- my_records %>% map_dfr(f)\n",
        "my_data$english <- as.numeric(my_data$english)\n",
        "my_data$math    <- as.numeric(my_data$math)\n",
        "my_data\n",
        "#>   english  math gender name\n",
        "#>     <dbl> <dbl> <chr>  <chr>\n",
        "#> 1      60    70 f      A\n",
        "#> 2      90    80 m      B\n",
        "#> 3      70    90 m      C\n",
        "#> 4      90   100 f      D"
      ]
    },
    {
      "cell_type": "markdown",
      "source": "## 5.2 データの変換",
      "metadata": {}
    },
    {
      "cell_type": "code",
      "execution_count": null,
      "metadata": {},
      "outputs": [],
      "source": [
        "x1 <- c(1, 2, 3)\n",
        "\n",
        "z1 <- scale(x1)\n",
        "# あるいは\n",
        "z1 <- (x1 - mean(x1)) / sd(x1)\n",
        "\n",
        "z1\n",
        "#> [1] -1  0  1"
      ]
    },
    {
      "cell_type": "code",
      "execution_count": null,
      "metadata": {},
      "outputs": [],
      "source": [
        "c(mean(z1), sd(z1))\n",
        "#> [1] 0 1"
      ]
    },
    {
      "cell_type": "code",
      "execution_count": null,
      "metadata": {},
      "outputs": [],
      "source": [
        "z1 * sd(x1) + mean(x1)\n",
        "#> [1] 1 2 3"
      ]
    },
    {
      "cell_type": "code",
      "execution_count": null,
      "metadata": {},
      "outputs": [],
      "source": [
        "x2 <- c(1, 3, 5)\n",
        "z2 <- (x2 - mean(x1)) / sd(x1)\n",
        "c(mean(z2), sd(z2))\n",
        "#> [1] 1 2"
      ]
    },
    {
      "cell_type": "code",
      "execution_count": null,
      "metadata": {},
      "outputs": [],
      "source": [
        "library(caret)\n",
        "library(tidyverse)\n",
        "\n",
        "my_df <- data.frame(\n",
        "  id = c(1, 2, 3),\n",
        "  class = as.factor(\n",
        "    c(\"A\", \"B\", \"C\")))\n",
        "\n",
        "my_enc <- my_df %>%\n",
        "  dummyVars(formula = ~ .)\n",
        "\n",
        "my_enc %>% predict(my_df)\n",
        "#>   id class.A class.B class.C\n",
        "#> 1  1       1       0       0\n",
        "#> 2  2       0       1       0\n",
        "#> 3  3       0       0       1"
      ]
    },
    {
      "cell_type": "code",
      "execution_count": null,
      "metadata": {},
      "outputs": [],
      "source": [
        "my_df2 <- data.frame(\n",
        "  id =    c( 4 ,  5 ,  6 ),\n",
        "  class = c(\"B\", \"C\", \"B\"))\n",
        "my_enc %>% predict(my_df2)\n",
        "#>   id class.A class.B class.C\n",
        "#> 1  4       0       1       0\n",
        "#> 2  5       0       0       1\n",
        "#> 3  6       0       1       0"
      ]
    },
    {
      "cell_type": "code",
      "execution_count": null,
      "metadata": {},
      "outputs": [],
      "source": [
        "my_enc <- my_df %>%\n",
        "  dummyVars(formula = ~ .,\n",
        "            fullRank = TRUE)\n",
        "my_enc %>% predict(my_df)\n",
        "#>   id class.B class.C\n",
        "#> 1  1       0       0\n",
        "#> 2  2       1       0\n",
        "#> 3  3       0       1\n",
        "\n",
        "my_enc %>% predict(my_df2)\n",
        "#>   id class.B class.C\n",
        "#> 1  4       1       0\n",
        "#> 2  5       0       1\n",
        "#> 3  6       1       0"
      ]
    },
    {
      "cell_type": "markdown",
      "source": "# 6 機械学習の目的・データ・手法\n\n\n",
      "metadata": {}
    },
    {
      "cell_type": "markdown",
      "source": "## 6.1 機械学習の目的（本書の場合）\n\n\n",
      "metadata": {}
    },
    {
      "cell_type": "markdown",
      "source": "## 6.2 機械学習のためのデータ",
      "metadata": {}
    },
    {
      "cell_type": "code",
      "execution_count": null,
      "metadata": {},
      "outputs": [],
      "source": [
        "iris\n",
        "#>     Sepal.Length Sepal.Width Petal.Length Petal.Width    Species\n",
        "#> 1            5.1         3.5          1.4         0.2     setosa\n",
        "# 以下省略"
      ]
    },
    {
      "cell_type": "markdown",
      "source": "## 6.3 機械学習のための手法\n\n\n",
      "metadata": {}
    },
    {
      "cell_type": "markdown",
      "source": "# 7 回帰1（単回帰）\n\n\n",
      "metadata": {}
    },
    {
      "cell_type": "markdown",
      "source": "## 7.1 自動車の停止距離\n\n\n",
      "metadata": {}
    },
    {
      "cell_type": "markdown",
      "source": "## 7.2 データの確認",
      "metadata": {}
    },
    {
      "cell_type": "code",
      "execution_count": null,
      "metadata": {},
      "outputs": [],
      "source": [
        "library(caret)\n",
        "library(tidyverse)\n",
        "my_data <- cars"
      ]
    },
    {
      "cell_type": "code",
      "execution_count": null,
      "metadata": {},
      "outputs": [],
      "source": [
        "dim(my_data)\n",
        "#> [1] 50  2"
      ]
    },
    {
      "cell_type": "code",
      "execution_count": null,
      "metadata": {},
      "outputs": [],
      "source": [
        "head(my_data)\n",
        "#>   speed dist\n",
        "#> 1     4    2\n",
        "#> 2     4   10\n",
        "#> 3     7    4\n",
        "#> 4     7   22\n",
        "#> 5     8   16\n",
        "#> 6     9   10"
      ]
    },
    {
      "cell_type": "code",
      "execution_count": null,
      "metadata": {},
      "outputs": [],
      "source": [
        "options(digits = 3)\n",
        "pastecs::stat.desc(my_data)\n",
        "#>                speed    dist\n",
        "#> nbr.val       50.000   50.00\n",
        "#> nbr.null       0.000    0.00\n",
        "#> nbr.na         0.000    0.00\n",
        "#> min            4.000    2.00\n",
        "#> max           25.000  120.00\n",
        "#> range         21.000  118.00\n",
        "#> sum          770.000 2149.00\n",
        "#> median        15.000   36.00\n",
        "#> mean          15.400   42.98\n",
        "#> SE.mean        0.748    3.64\n",
        "#> CI.mean.0.95   1.503    7.32\n",
        "#> var           27.959  664.06\n",
        "#> std.dev        5.288   25.77\n",
        "#> coef.var       0.343    0.60"
      ]
    },
    {
      "cell_type": "code",
      "execution_count": null,
      "metadata": {},
      "outputs": [],
      "source": [
        "my_data %>%\n",
        "  ggplot(aes(x = speed, y = dist)) +\n",
        "  geom_point()"
      ]
    },
    {
      "cell_type": "markdown",
      "source": "## 7.3 回帰分析",
      "metadata": {}
    },
    {
      "cell_type": "code",
      "execution_count": null,
      "metadata": {},
      "outputs": [],
      "source": [
        "library(tidyverse)\n",
        "\n",
        "my_data <- cars\n",
        "tmp <- data.frame(speed = 21.5, dist = 67)\n",
        "my_data %>% ggplot(aes(x = speed, y = dist)) +\n",
        "  coord_cartesian(xlim = c(4, 25), ylim = c(0, 120)) +\n",
        "  geom_point() +\n",
        "  stat_smooth(formula = y ~ x, method = \"lm\") +\n",
        "  geom_pointrange(data = tmp, aes(ymin = -9, ymax = dist),  linetype = \"dotted\") +\n",
        "  geom_pointrange(data = tmp, aes(xmin =  0, xmax = speed), linetype = \"dotted\")"
      ]
    },
    {
      "cell_type": "code",
      "execution_count": null,
      "metadata": {},
      "outputs": [],
      "source": [
        "library(caret)\n",
        "library(tidyverse)\n",
        "my_data <- cars"
      ]
    },
    {
      "cell_type": "code",
      "execution_count": null,
      "metadata": {},
      "outputs": [],
      "source": [
        "my_model <- train(form = dist ~ speed, # モデル式（出力変数と入力変数の関係）\n",
        "                  data = my_data,      # データ\n",
        "                  method = \"lm\")       # 手法"
      ]
    },
    {
      "cell_type": "code",
      "execution_count": null,
      "metadata": {},
      "outputs": [],
      "source": [
        "coef(my_model$finalModel)\n",
        "#> (Intercept)       speed\n",
        "#> -17.579095    3.932409"
      ]
    },
    {
      "cell_type": "code",
      "execution_count": null,
      "metadata": {},
      "outputs": [],
      "source": [
        "tmp <- data.frame(speed = 21.5)\n",
        "my_model %>% predict(tmp)\n",
        "#>        1\n",
        "#> 66.96769"
      ]
    },
    {
      "cell_type": "code",
      "execution_count": null,
      "metadata": {},
      "outputs": [],
      "source": [
        "f <- function(x) { my_model %>% predict(data.frame(speed = x)) }"
      ]
    },
    {
      "cell_type": "code",
      "execution_count": null,
      "metadata": {},
      "outputs": [],
      "source": [
        "my_data %>%\n",
        "  ggplot(aes(x = speed, y = dist,\n",
        "             color = \"data\")) +\n",
        "  geom_point() +\n",
        "  stat_function(\n",
        "    fun = f,\n",
        "    mapping = aes(color = \"model\"))"
      ]
    },
    {
      "cell_type": "markdown",
      "source": "## 7.4 当てはまりの良さの指標",
      "metadata": {}
    },
    {
      "cell_type": "code",
      "execution_count": null,
      "metadata": {},
      "outputs": [],
      "source": [
        "library(caret)\n",
        "library(tidyverse)\n",
        "my_data <- cars\n",
        "my_model <- train(form = dist ~ speed, data = my_data, method = \"lm\")\n",
        "\n",
        "y  <- my_data$dist\n",
        "y_ <- my_model %>% predict(my_data)\n",
        "my_data$y_ <- y_"
      ]
    },
    {
      "cell_type": "code",
      "execution_count": null,
      "metadata": {},
      "outputs": [],
      "source": [
        "my_data$residual <- y - y_\n",
        "head(my_data)\n",
        "#>   speed dist        y_  residual\n",
        "#> 1     4    2 -1.849460  3.849460\n",
        "#> 2     4   10 -1.849460 11.849460\n",
        "#> 3     7    4  9.947766 -5.947766\n",
        "#> 4     7   22  9.947766 12.052234\n",
        "#> 5     8   16 13.880175  2.119825\n",
        "#> 6     9   10 17.812584 -7.812584"
      ]
    },
    {
      "cell_type": "code",
      "execution_count": null,
      "metadata": {},
      "outputs": [],
      "source": [
        "my_data %>%\n",
        "  ggplot(aes(x = speed, y = dist)) +\n",
        "  geom_point() +\n",
        "  geom_line(aes(x = speed, y = y_)) +\n",
        "  geom_linerange(mapping = aes(ymin = y_, ymax = dist), linetype = \"dotted\")"
      ]
    },
    {
      "cell_type": "code",
      "execution_count": null,
      "metadata": {},
      "outputs": [],
      "source": [
        "RMSE(y_, y)\n",
        "# あるいは\n",
        "mean((my_data$residual^2))**0.5\n",
        "\n",
        "#> [1] 15.06886"
      ]
    },
    {
      "cell_type": "code",
      "execution_count": null,
      "metadata": {},
      "outputs": [],
      "source": [
        "R2(pred = y_, obs = y,\n",
        "   form = \"traditional\")\n",
        "#> [1] 0.6510794"
      ]
    },
    {
      "cell_type": "code",
      "execution_count": null,
      "metadata": {},
      "outputs": [],
      "source": [
        "R2(pred = y_, obs = y,\n",
        "   form = \"corr\")\n",
        "# あるいは\n",
        "summary(my_model$finalModel)$r.squared\n",
        "#> [1] 0.6510794"
      ]
    },
    {
      "cell_type": "code",
      "execution_count": null,
      "metadata": {},
      "outputs": [],
      "source": [
        "my_test <- my_data[1:3, ]\n",
        "y  <- my_test$dist\n",
        "y_ <- my_model %>% predict(my_test)\n",
        "\n",
        "R2(pred = y_, obs = y,\n",
        "   form = \"traditional\")\n",
        "#> [1] -4.498191  # 決定係数1\n",
        "\n",
        "R2(pred = y_, obs = y,\n",
        "   form = \"corr\")\n",
        "#> [1] 0.07692308 # 決定係数6"
      ]
    },
    {
      "cell_type": "code",
      "execution_count": null,
      "metadata": {},
      "outputs": [],
      "source": [
        "library(caret)\n",
        "library(tidyverse)\n",
        "my_data <- cars\n",
        "my_idx <- c(2, 11, 27, 34, 39, 44)\n",
        "my_sample <- my_data[my_idx, ]"
      ]
    },
    {
      "cell_type": "code",
      "execution_count": null,
      "metadata": {},
      "outputs": [],
      "source": [
        "options(warn = -1) # これ以降，警告を表示しない．\n",
        "my_model <- train(form = dist ~ poly(speed, degree = 5, raw = TRUE),\n",
        "                  data = my_sample,\n",
        "                  method = \"lm\")\n",
        "options(warn = 0)  # これ以降，警告を表示する．\n",
        "\n",
        "y  <- my_sample$dist\n",
        "y_ <- my_model %>% predict(my_sample)"
      ]
    },
    {
      "cell_type": "code",
      "execution_count": null,
      "metadata": {},
      "outputs": [],
      "source": [
        "RMSE(y_, y)\n",
        "#> [1] 1.042275e-10 # RMSE\n",
        "\n",
        "R2(pred = y_, obs = y,\n",
        "   form = \"traditional\")\n",
        "#> [1] 1 # 決定係数1\n",
        "\n",
        "R2(pred = y_, obs = y,\n",
        "   form = \"corr\")\n",
        "#> [1] 1 # 決定係数6"
      ]
    },
    {
      "cell_type": "code",
      "execution_count": null,
      "metadata": {},
      "outputs": [],
      "source": [
        "f <- function(x) { my_model %>% predict(data.frame(speed = x)) }\n",
        "\n",
        "my_data %>%\n",
        "  ggplot(aes(x = speed, y = dist, color = \"data\")) +\n",
        "  geom_point() +\n",
        "  geom_point(data = my_sample, mapping = aes(color = \"sample\")) +\n",
        "  stat_function(fun = f, mapping = aes(color = \"model\")) +\n",
        "  coord_cartesian(ylim = c(0, 120))"
      ]
    },
    {
      "cell_type": "markdown",
      "source": "## 7.5 K最近傍法",
      "metadata": {}
    },
    {
      "cell_type": "code",
      "execution_count": null,
      "metadata": {},
      "outputs": [],
      "source": [
        "# 準備\n",
        "library(caret)\n",
        "library(tidyverse)\n",
        "my_data <- cars\n",
        "\n",
        "# 訓練\n",
        "my_model <- train(form = dist ~ speed, data = my_data, method = \"knn\")\n",
        "\n",
        "# 可視化の準備\n",
        "f <- function(x) { my_model %>% predict(data.frame(speed = x))}"
      ]
    },
    {
      "cell_type": "code",
      "execution_count": null,
      "metadata": {},
      "outputs": [],
      "source": [
        "my_data %>%\n",
        "  ggplot(aes(x = speed,\n",
        "             y = dist,\n",
        "             color = \"data\")) +\n",
        "  geom_point() +\n",
        "  stat_function(\n",
        "    fun = f,\n",
        "    mapping = aes(color = \"model\"))"
      ]
    },
    {
      "cell_type": "code",
      "execution_count": null,
      "metadata": {},
      "outputs": [],
      "source": [
        "y  <- my_data$dist\n",
        "y_ <- my_model %>% predict(my_data)\n",
        "\n",
        "RMSE(y_, y)\n",
        "#> [1] 13.96845 # RMSE\n",
        "\n",
        "R2(pred = y_, obs = y,\n",
        "   form = \"traditional\")\n",
        "#> [1] 0.7001789 # 決定係数1\n",
        "\n",
        "R2(pred = y_, obs = y,\n",
        "   form = \"corr\")\n",
        "#> [1] 0.7017314 # 決定係数6"
      ]
    },
    {
      "cell_type": "markdown",
      "source": "## 7.6 検証",
      "metadata": {}
    },
    {
      "cell_type": "code",
      "execution_count": null,
      "metadata": {},
      "outputs": [],
      "source": [
        "library(caret)\n",
        "library(tidyverse)\n",
        "my_data <- cars\n",
        "my_model <- train(form = dist ~ speed, data = my_data, method = \"lm\")\n",
        "\n",
        "my_model$results\n",
        "#>   intercept    RMSE  Rsquared      MAE   RMSESD RsquaredSD    MAESD\n",
        "#> 1      TRUE 16.0206 0.6662176 12.14701 2.518604 0.09249158 1.920564"
      ]
    },
    {
      "cell_type": "code",
      "execution_count": null,
      "metadata": {},
      "outputs": [],
      "source": [
        "my_model <- train(form = dist ~ speed, data = my_data, method = \"lm\",\n",
        "                  trControl = trainControl(method = \"cv\", number = 5))\n",
        "my_model$results\n",
        "#>   intercept     RMSE  Rsquared      MAE  RMSESD RsquaredSD    MAESD\n",
        "#> 1      TRUE 15.06708 0.6724501 12.12448 4.75811  0.1848932 3.052435"
      ]
    },
    {
      "cell_type": "code",
      "execution_count": null,
      "metadata": {},
      "outputs": [],
      "source": [
        "my_model <- train(form = dist ~ speed, data = my_data, method = \"lm\",\n",
        "                  trControl = trainControl(method = \"LOOCV\"))\n",
        "my_model$results\n",
        "#>   intercept     RMSE  Rsquared      MAE\n",
        "#> 1      TRUE 15.69731 0.6217139 12.05918"
      ]
    },
    {
      "cell_type": "code",
      "execution_count": null,
      "metadata": {},
      "outputs": [],
      "source": [
        "library(doParallel)\n",
        "cl <- makeCluster(detectCores())\n",
        "registerDoParallel(cl)"
      ]
    },
    {
      "cell_type": "code",
      "execution_count": null,
      "metadata": {},
      "outputs": [],
      "source": [
        "library(caret)\n",
        "library(tidyverse)\n",
        "my_data <- cars\n",
        "my_model <- train(form = dist ~ speed, data = my_data, method = \"lm\")\n",
        "y  <- my_data$dist\n",
        "y_ <- my_model %>% predict(my_data)"
      ]
    },
    {
      "cell_type": "code",
      "execution_count": null,
      "metadata": {},
      "outputs": [],
      "source": [
        "# RMSE（訓練）\n",
        "RMSE(y_, y)\n",
        "#> [1] 15.06886\n",
        "\n",
        "# 決定係数1（訓練）\n",
        "R2(pred = y_, obs = y,\n",
        "   form = \"traditional\")\n",
        "#> [1] 0.6510794\n",
        "\n",
        "# 決定係数6（訓練）\n",
        "R2(pred = y_, obs = y,\n",
        "   form = \"corr\")\n",
        "#> [1] 0.6510794"
      ]
    },
    {
      "cell_type": "code",
      "execution_count": null,
      "metadata": {},
      "outputs": [],
      "source": [
        "postResample(pred = y_, obs = y)\n",
        "#>       RMSE   Rsquared        MAE\n",
        "#> 15.0688560  0.6510794 11.5801191"
      ]
    },
    {
      "cell_type": "code",
      "execution_count": null,
      "metadata": {},
      "outputs": [],
      "source": [
        "my_model <- train(form = dist ~ speed, data = my_data, method = \"lm\")\n",
        "my_model$results\n",
        "#>   intercept     RMSE  Rsquared      MAE ...\n",
        "#> 1      TRUE 14.88504 0.6700353 11.59226 ...\n",
        "# 左から，RMSE（検証），決定係数6（検証），MAE（検証）"
      ]
    },
    {
      "cell_type": "code",
      "execution_count": null,
      "metadata": {},
      "outputs": [],
      "source": [
        "my_model <- train(form = dist ~ speed, data = my_data, method = \"lm\",\n",
        "                  trControl = trainControl(method = \"LOOCV\"))\n",
        "\n",
        "# 方法1\n",
        "my_model$results\n",
        "#>   intercept     RMSE  Rsquared      MAE\n",
        "#> 1      TRUE 15.69731 0.6217139 12.05918\n",
        "\n",
        "# 方法2\n",
        "y  <- my_model$pred$obs\n",
        "y_ <- my_model$pred$pred\n",
        "mean((y - y_)^2)**0.5\n",
        "#> [1] 15.69731"
      ]
    },
    {
      "cell_type": "code",
      "execution_count": null,
      "metadata": {},
      "outputs": [],
      "source": [
        "mean(((y - y_)^2)**0.5)\n",
        "#> [1] 12.05918"
      ]
    },
    {
      "cell_type": "code",
      "execution_count": null,
      "metadata": {},
      "outputs": [],
      "source": [
        "library(caret)\n",
        "library(tidyverse)\n",
        "my_data <- cars\n",
        "\n",
        "my_lm_model <- train(form = dist ~ speed, data = my_data, method = \"lm\",\n",
        "                     trControl = trainControl(method = \"LOOCV\"))\n",
        "\n",
        "my_knn_model <- train(form = dist ~ speed, data = my_data, method = \"knn\",\n",
        "                      tuneGrid = data.frame(k = 5),\n",
        "                      trControl = trainControl(method = \"LOOCV\"))"
      ]
    },
    {
      "cell_type": "code",
      "execution_count": null,
      "metadata": {},
      "outputs": [],
      "source": [
        "my_lm_model$results$RMSE\n",
        "#> [1] 15.69731 # 線形回帰分析\n",
        "\n",
        "my_knn_model$results$RMSE\n",
        "#> [1] 15.79924 # K最近傍法"
      ]
    },
    {
      "cell_type": "code",
      "execution_count": null,
      "metadata": {},
      "outputs": [],
      "source": [
        "y     <- my_data$dist\n",
        "y_lm  <- my_lm_model$pred$pred\n",
        "y_knn <- my_knn_model$pred$pred\n",
        "\n",
        "my_df <- data.frame(\n",
        "  lm  = (y - y_lm)^2,\n",
        "  knn = (y - y_knn)^2)\n",
        "\n",
        "head(my_df)\n",
        "#>           lm      knn\n",
        "#> 1  18.913720 108.1600\n",
        "#> 2 179.215044   0.6400\n",
        "#> 3  41.034336 175.5625\n",
        "#> 4 168.490212  49.0000\n",
        "#> 5   5.085308   9.0000\n",
        "#> 6  67.615888 112.8906"
      ]
    },
    {
      "cell_type": "code",
      "execution_count": null,
      "metadata": {},
      "outputs": [],
      "source": [
        "boxplot(my_df, ylab = \"r^2\")"
      ]
    },
    {
      "cell_type": "code",
      "execution_count": null,
      "metadata": {},
      "outputs": [],
      "source": [
        "t.test(x = my_df$lm, y = my_df$knn,\n",
        "       conf.level = 0.95,\n",
        "       paired = TRUE,\n",
        "       alternative = \"two.sided\")\n",
        "\n",
        "#>  Paired t-test\n",
        "#>\n",
        "#> data:  my_df$lm and my_df$knn\n",
        "#> t = -0.12838, df = 49, p-value = 0.8984\n",
        "#> alternative hypothesis: true difference in means is not equal to 0\n",
        "#> 95 percent confidence interval:\n",
        "#>  -53.46930  47.04792\n",
        "#> sample estimates:\n",
        "#> mean of the differences\n",
        "#>               -3.210688"
      ]
    },
    {
      "cell_type": "markdown",
      "source": "## 7.7 パラメータチューニング",
      "metadata": {}
    },
    {
      "cell_type": "code",
      "execution_count": null,
      "metadata": {},
      "outputs": [],
      "source": [
        "library(caret)\n",
        "library(tidyverse)\n",
        "my_data <- cars\n",
        "my_model <- train(form = dist ~ speed, data = my_data, method = \"knn\")\n",
        "my_model$results\n",
        "#>   k     RMSE  Rsquared      MAE   RMSESD RsquaredSD    MAESD\n",
        "#> 1 5 15.72114 0.6615765 12.54588 3.013243 0.11043907 2.372245\n",
        "#> 2 7 16.19047 0.6601173 12.68464 3.165330 0.09990158 2.329326\n",
        "#> 3 9 16.30276 0.6556700 12.84811 3.367423 0.09645747 2.471620"
      ]
    },
    {
      "cell_type": "code",
      "execution_count": null,
      "metadata": {},
      "outputs": [],
      "source": [
        "my_params <- expand.grid(k = 1:15)\n",
        "\n",
        "my_model <- train(form = dist ~ speed, data = my_data, method = \"knn\",\n",
        "                  tuneGrid = my_params,\n",
        "                  trControl = trainControl(method = \"LOOCV\"))"
      ]
    },
    {
      "cell_type": "code",
      "execution_count": null,
      "metadata": {},
      "outputs": [],
      "source": [
        "head(my_model$results)\n",
        "#>   k     RMSE  Rsquared      MAE\n",
        "#> 1 1 17.22299 0.5777197 13.84900\n",
        "#> 2 2 16.81462 0.5936438 13.03469\n",
        "#> 3 3 16.32874 0.6218866 12.74524\n",
        "#> 4 4 15.98970 0.6086993 12.27888\n",
        "#> 5 5 15.79924 0.6169267 11.96067\n",
        "#> 6 6 15.98720 0.6079396 12.26667"
      ]
    },
    {
      "cell_type": "code",
      "execution_count": null,
      "metadata": {},
      "outputs": [],
      "source": [
        "ggplot(my_model)"
      ]
    },
    {
      "cell_type": "code",
      "execution_count": null,
      "metadata": {},
      "outputs": [],
      "source": [
        "my_model$bestTune\n",
        "#>   k\n",
        "#> 5 5"
      ]
    },
    {
      "cell_type": "code",
      "execution_count": null,
      "metadata": {},
      "outputs": [],
      "source": [
        "my_model$results %>%\n",
        "  filter(RMSE == min(RMSE))\n",
        "#>   k     RMSE  Rsquared      MAE\n",
        "#> 1 5 15.79924 0.6169267 11.96067"
      ]
    },
    {
      "cell_type": "code",
      "execution_count": null,
      "metadata": {},
      "outputs": [],
      "source": [
        "y  <- my_data$dist\n",
        "y_ <- my_model %>% predict(my_data)\n",
        "RMSE(y_, y)\n",
        "#> [1] 13.96845"
      ]
    },
    {
      "cell_type": "code",
      "execution_count": null,
      "metadata": {},
      "outputs": [],
      "source": [
        "library(caret)\n",
        "library(tidyverse)\n",
        "my_data <- cars\n",
        "\n",
        "my_loocv <- function(k) {\n",
        "  my_model <- train(form = dist ~ speed, data = my_data, method = \"knn\",\n",
        "                    tuneGrid = data.frame(k = k),\n",
        "                    trControl = trainControl(method = \"LOOCV\"))\n",
        "  y  <- my_data$dist\n",
        "  y_ <- my_model %>% predict(my_data)\n",
        "  list(k = k,\n",
        "       training = RMSE(y_, y),             # RMSE（訓練）\n",
        "       validation = my_model$results$RMSE) # RMSE（検証）\n",
        "}\n",
        "\n",
        "my_results <- 1:15 %>% map_dfr(my_loocv)"
      ]
    },
    {
      "cell_type": "code",
      "execution_count": null,
      "metadata": {},
      "outputs": [],
      "source": [
        "my_results %>%\n",
        "  pivot_longer(-k) %>%\n",
        "  ggplot(aes(x = k, y = value,\n",
        "             color = name)) +\n",
        "  geom_line() + geom_point() +\n",
        "  xlab(\"#Neighbors\") + ylab(\"RMSE\") +\n",
        "  theme(legend.position = c(1, 0),\n",
        "        legend.justification = c(1, 0))"
      ]
    },
    {
      "cell_type": "markdown",
      "source": "# 8 回帰2（重回帰）\n\n\n",
      "metadata": {}
    },
    {
      "cell_type": "markdown",
      "source": "## 8.1 ブドウの生育条件とワインの価格",
      "metadata": {}
    },
    {
      "cell_type": "code",
      "execution_count": null,
      "metadata": {},
      "outputs": [],
      "source": [
        "library(tidyverse)\n",
        "my_url <- \"http://www.liquidasset.com/winedata.html\"\n",
        "tmp <- read.table(file = my_url,   # 読み込む対象\n",
        "                  header = TRUE,   # 1行目は変数名\n",
        "                  na.string = \".\", # 欠損値を表す文字列\n",
        "                  skip = 62,       # 読み飛ばす行数\n",
        "                  nrows = 38)      # 読み込む行数\n",
        "psych::describe(tmp)\n",
        "#>         vars  n    mean     sd  median trimmed    mad     min     max ...\n",
        "#> OBS        1 38   19.50  11.11   19.50   19.50  14.08    1.00   38.00 ...\n",
        "#> VINT       2 38 1970.50  11.11 1970.50 1970.50  14.08 1952.00 1989.00 ...\n",
        "#> LPRICE2    3 27   -1.45   0.63   -1.51   -1.49   0.72   -2.29    0.00 ...\n",
        "#> WRAIN      4 38  605.00 135.28  586.50  603.06 174.95  376.00  845.00 ...\n",
        "#> DEGREES    5 37   16.52   0.66   16.53   16.55   0.67   14.98   17.65 ...\n",
        "#> HRAIN      6 38  137.00  66.74  120.50  132.19  59.30   38.00  292.00 ...\n",
        "#> TIME_SV    7 38   12.50  11.11   12.50   12.50  14.08   -6.00   31.00 ..."
      ]
    },
    {
      "cell_type": "code",
      "execution_count": null,
      "metadata": {},
      "outputs": [],
      "source": [
        "my_data <- na.omit(tmp[, -c(1, 2)])\n",
        "head(my_data)\n",
        "#>    LPRICE2 WRAIN DEGREES ...\n",
        "#> 1 -0.99868   600 17.1167 ...\n",
        "#> 2 -0.45440   690 16.7333 ...\n",
        "#> 4 -0.80796   502 17.1500 ...\n",
        "#> 6 -1.50926   420 16.1333 ...\n",
        "#> 7 -1.71655   582 16.4167 ...\n",
        "#> 8 -0.41800   485 17.4833 ..."
      ]
    },
    {
      "cell_type": "code",
      "execution_count": null,
      "metadata": {},
      "outputs": [],
      "source": [
        "dim(my_data)\n",
        "#> [1] 27  5"
      ]
    },
    {
      "cell_type": "code",
      "execution_count": null,
      "metadata": {},
      "outputs": [],
      "source": [
        "my_data %>% write_csv(\"wine.csv\")"
      ]
    },
    {
      "cell_type": "code",
      "execution_count": null,
      "metadata": {},
      "outputs": [],
      "source": [
        "#my_data <- read_csv(\"wine.csv\") # 作ったファイルを使う場合\n",
        "my_url <- str_c(\"https://raw.githubusercontent.com/taroyabuki\",\n",
        "                \"/fromzero/master/data/wine.csv\")\n",
        "my_data <- read_csv(my_url)"
      ]
    },
    {
      "cell_type": "markdown",
      "source": "## 8.2 重回帰分析",
      "metadata": {}
    },
    {
      "cell_type": "code",
      "execution_count": null,
      "metadata": {},
      "outputs": [],
      "source": [
        "library(caret)\n",
        "library(tidyverse)\n",
        "my_url <- str_c(\"https://raw.githubusercontent.com/taroyabuki\",\n",
        "                \"/fromzero/master/data/wine.csv\")\n",
        "my_data <- read_csv(my_url)\n",
        "\n",
        "my_model <- train(form = LPRICE2 ~ WRAIN + DEGREES + HRAIN + TIME_SV,\n",
        "                  data = my_data,\n",
        "                  method = \"lm\",\n",
        "                  trControl = trainControl(method = \"LOOCV\"))"
      ]
    },
    {
      "cell_type": "code",
      "execution_count": null,
      "metadata": {},
      "outputs": [],
      "source": [
        "coef(my_model$finalModel) %>%\n",
        "  as.data.frame\n",
        "#>                         .\n",
        "#> (Intercept) -12.145333577\n",
        "#> WRAIN         0.001166782\n",
        "#> DEGREES       0.616392441\n",
        "#> HRAIN        -0.003860554\n",
        "#> TIME_SV       0.023847413"
      ]
    },
    {
      "cell_type": "code",
      "execution_count": null,
      "metadata": {},
      "outputs": [],
      "source": [
        "my_test <- data.frame(\n",
        "  WRAIN = 500, DEGREES = 17,\n",
        "  HRAIN = 120, TIME_SV = 2)\n",
        "my_model %>% predict(my_test)\n",
        "#>         1\n",
        "#> -1.498843"
      ]
    },
    {
      "cell_type": "code",
      "execution_count": null,
      "metadata": {},
      "outputs": [],
      "source": [
        "y  <- my_data$LPRICE2\n",
        "y_ <- my_model %>% predict(my_data)\n",
        "\n",
        "RMSE(y_, y)\n",
        "#> [1] 0.2586167 # RMSE（訓練）\n",
        "\n",
        "R2(pred = y_, obs = y,\n",
        "   form = \"traditional\")\n",
        "#> [1] 0.8275278 # 決定係数1（訓練）\n",
        "\n",
        "R2(pred = y_, obs = y,\n",
        "   form = \"corr\")\n",
        "#> [1] 0.8275278 # 決定係数6（訓練）"
      ]
    },
    {
      "cell_type": "code",
      "execution_count": null,
      "metadata": {},
      "outputs": [],
      "source": [
        "my_model$results\n",
        "#>   intercept      RMSE  Rsquared       MAE\n",
        "#> 1      TRUE 0.3230043 0.7361273 0.2767282"
      ]
    },
    {
      "cell_type": "code",
      "execution_count": null,
      "metadata": {},
      "outputs": [],
      "source": [
        "M <- my_data[, -1] %>%\n",
        "  mutate(b0 = 1) %>% as.matrix\n",
        "b <- MASS::ginv(M) %*% y\n",
        "matrix(b,\n",
        "       dimnames = list(colnames(M)))\n",
        "#>                  [,1]\n",
        "#> WRAIN     0.001166782\n",
        "#> DEGREES   0.616392441\n",
        "#> HRAIN    -0.003860554\n",
        "#> TIME_SV   0.023847413\n",
        "#> b0      -12.145333577"
      ]
    },
    {
      "cell_type": "markdown",
      "source": "## 8.3 標準化",
      "metadata": {}
    },
    {
      "cell_type": "code",
      "execution_count": null,
      "metadata": {},
      "outputs": [],
      "source": [
        "library(caret)\n",
        "library(tidyverse)\n",
        "my_url <- str_c(\"https://raw.githubusercontent.com/taroyabuki\",\n",
        "                \"/fromzero/master/data/wine.csv\")\n",
        "my_data <- read_csv(my_url)\n",
        "\n",
        "my_data %>%\n",
        "  mutate_if(is.numeric, scale) %>% # 数値の列の標準化\n",
        "  pivot_longer(-LPRICE2) %>%\n",
        "  ggplot(aes(x = name, y = value)) +\n",
        "  geom_boxplot() +\n",
        "  stat_summary(fun = mean, geom = \"point\", size = 3) +\n",
        "  xlab(NULL)"
      ]
    },
    {
      "cell_type": "code",
      "execution_count": null,
      "metadata": {},
      "outputs": [],
      "source": [
        "my_model <- train(\n",
        "  form = LPRICE2 ~ .,\n",
        "  data = my_data,\n",
        "  method = \"lm\",\n",
        "  preProcess = c(\"center\", \"scale\"))"
      ]
    },
    {
      "cell_type": "code",
      "execution_count": null,
      "metadata": {},
      "outputs": [],
      "source": [
        "coef(my_model$finalModel) %>%\n",
        "  as.data.frame\n",
        "#>                      .\n",
        "#> (Intercept) -1.4517652\n",
        "#> WRAIN        0.1505557\n",
        "#> DEGREES      0.4063194\n",
        "#> HRAIN       -0.2820746\n",
        "#> TIME_SV      0.1966549"
      ]
    },
    {
      "cell_type": "code",
      "execution_count": null,
      "metadata": {},
      "outputs": [],
      "source": [
        "my_test <- data.frame(\n",
        "  WRAIN = 500, DEGREES = 17,\n",
        "  HRAIN = 120, TIME_SV = 2)\n",
        "my_model %>% predict(my_test)\n",
        "#>         1\n",
        "#> -1.498843"
      ]
    },
    {
      "cell_type": "markdown",
      "source": "## 8.4 入力変数の数とモデルの良さ",
      "metadata": {}
    },
    {
      "cell_type": "code",
      "execution_count": null,
      "metadata": {},
      "outputs": [],
      "source": [
        "library(caret)\n",
        "library(tidyverse)\n",
        "my_url <- str_c(\"https://raw.githubusercontent.com/taroyabuki\",\n",
        "                \"/fromzero/master/data/wine.csv\")\n",
        "my_data <- read_csv(my_url)\n",
        "\n",
        "n <- nrow(my_data)\n",
        "my_data2 <- my_data %>% mutate(v1 = 0:(n - 1) %% 2,\n",
        "                               v2 = 0:(n - 1) %% 3)\n",
        "head(my_data2)\n",
        "#> # A tibble: 6 x 7\n",
        "#>   LPRICE2 WRAIN DEGREES HRAIN TIME_SV    v1    v2\n",
        "#>     <dbl> <dbl>   <dbl> <dbl>   <dbl> <dbl> <dbl>\n",
        "#> 1  -0.999   600    17.1   160      31     0     0\n",
        "#> 2  -0.454   690    16.7    80      30     1     1\n",
        "#> 3  -0.808   502    17.2   130      28     0     2\n",
        "#> 4  -1.51    420    16.1   110      26     1     0\n",
        "#> 5  -1.72    582    16.4   187      25     0     1\n",
        "#> 6  -0.418   485    17.5   187      24     1     2"
      ]
    },
    {
      "cell_type": "code",
      "execution_count": null,
      "metadata": {},
      "outputs": [],
      "source": [
        "my_model2 <- train(form = LPRICE2 ~ ., data = my_data2, method = \"lm\",\n",
        "                   trControl = trainControl(method = \"LOOCV\"))\n",
        "y  <- my_data2$LPRICE2\n",
        "y_ <- my_model2 %>% predict(my_data2)\n",
        "\n",
        "RMSE(y_, y)\n",
        "#> [1] 0.256212 # RMSE（訓練）\n",
        "\n",
        "my_model2$results$RMSE\n",
        "#> [1] 0.3569918 # RMSE（検証）"
      ]
    },
    {
      "cell_type": "markdown",
      "source": "## 8.5 変数選択",
      "metadata": {}
    },
    {
      "cell_type": "code",
      "execution_count": null,
      "metadata": {},
      "outputs": [],
      "source": [
        "library(caret)\n",
        "library(tidyverse)\n",
        "my_url <- str_c(\"https://raw.githubusercontent.com/taroyabuki\",\n",
        "                \"/fromzero/master/data/wine.csv\")\n",
        "my_data <- read_csv(my_url)\n",
        "n <- nrow(my_data)\n",
        "my_data2 <- my_data %>% mutate(v1 = 0:(n - 1) %% 2,\n",
        "                               v2 = 0:(n - 1) %% 3)"
      ]
    },
    {
      "cell_type": "code",
      "execution_count": null,
      "metadata": {},
      "outputs": [],
      "source": [
        "my_model <- train(form = LPRICE2 ~ .,\n",
        "                  data = my_data2,\n",
        "                  method = \"leapForward\", # 変数増加法\n",
        "                  trControl = trainControl(method = \"LOOCV\"),\n",
        "                  tuneGrid = data.frame(nvmax = 1:6)) # 選択する変数の上限\n",
        "summary(my_model$finalModel)$outmat\n",
        "#>          WRAIN DEGREES HRAIN TIME_SV v1  v2\n",
        "#> 1  ( 1 ) \" \"   \"*\"     \" \"   \" \"     \" \" \" \"\n",
        "#> 2  ( 1 ) \" \"   \"*\"     \"*\"   \" \"     \" \" \" \"\n",
        "#> 3  ( 1 ) \" \"   \"*\"     \"*\"   \"*\"     \" \" \" \"\n",
        "#> 4  ( 1 ) \"*\"   \"*\"     \"*\"   \"*\"     \" \" \" \""
      ]
    },
    {
      "cell_type": "markdown",
      "source": "## 8.6 補足：正則化",
      "metadata": {}
    },
    {
      "cell_type": "code",
      "execution_count": null,
      "metadata": {},
      "outputs": [],
      "source": [
        "library(caret)\n",
        "library(tidyverse)\n",
        "my_url <- str_c(\"https://raw.githubusercontent.com/taroyabuki\",\n",
        "                \"/fromzero/master/data/wine.csv\")\n",
        "my_data <- read_csv(my_url)"
      ]
    },
    {
      "cell_type": "code",
      "execution_count": null,
      "metadata": {},
      "outputs": [],
      "source": [
        "A <- 2\n",
        "B <- 0.1\n",
        "\n",
        "my_model <- train(\n",
        "  form = LPRICE2 ~ .,\n",
        "  data = my_data,\n",
        "  method = \"glmnet\",\n",
        "  standardize = TRUE,\n",
        "  tuneGrid = data.frame(\n",
        "    lambda = A,\n",
        "    alpha = B))"
      ]
    },
    {
      "cell_type": "code",
      "execution_count": null,
      "metadata": {},
      "outputs": [],
      "source": [
        "coef(my_model$finalModel, A)\n",
        "#>                         1\n",
        "#> (Intercept) -2.8015519302\n",
        "#> WRAIN        .\n",
        "#> DEGREES      0.0832910512\n",
        "#> HRAIN       -0.0004147386\n",
        "#> TIME_SV      0.0023104647"
      ]
    },
    {
      "cell_type": "code",
      "execution_count": null,
      "metadata": {},
      "outputs": [],
      "source": [
        "my_test <- data.frame(\n",
        "  WRAIN = 500, DEGREES = 17,\n",
        "  HRAIN = 120, TIME_SV = 2)\n",
        "my_model %>% predict(my_test)\n",
        "#> [1] -1.430752"
      ]
    },
    {
      "cell_type": "code",
      "execution_count": null,
      "metadata": {},
      "outputs": [],
      "source": [
        "library(ggfortify)\n",
        "library(glmnetUtils)\n",
        "\n",
        "my_data2 <- my_data %>% scale %>%\n",
        "  as.data.frame\n",
        "\n",
        "B <- 0.1\n",
        "\n",
        "glmnet(\n",
        "  form = LPRICE2 ~ .,\n",
        "  data = my_data2,\n",
        "  alpha = B) %>%\n",
        "  autoplot(xvar = \"lambda\") +\n",
        "  xlab(\"log A ( = log lambda)\") +\n",
        "  theme(legend.position = c(0.15, 0.25))"
      ]
    },
    {
      "cell_type": "code",
      "execution_count": null,
      "metadata": {},
      "outputs": [],
      "source": [
        "As <- seq(0, 0.1, length.out = 21)\n",
        "Bs <- seq(0, 0.1, length.out =  6)\n",
        "\n",
        "my_model <- train(\n",
        "  form = LPRICE2 ~ ., data = my_data, method = \"glmnet\", standardize = TRUE,\n",
        "  trControl = trainControl(method = \"LOOCV\"),\n",
        "  tuneGrid = expand.grid(lambda = As, alpha  = Bs))\n",
        "\n",
        "my_model$bestTune\n",
        "#>   alpha lambda\n",
        "#> 8     0  0.035"
      ]
    },
    {
      "cell_type": "code",
      "execution_count": null,
      "metadata": {},
      "outputs": [],
      "source": [
        "tmp <- \"B ( = alpha)\"\n",
        "ggplot(my_model) +\n",
        "  theme(legend.position = c(0, 1), legend.justification = c(0, 1)) +\n",
        "  xlab(\"A ( = lambda)\") +\n",
        "  guides(shape = guide_legend(tmp), color = guide_legend(tmp))"
      ]
    },
    {
      "cell_type": "code",
      "execution_count": null,
      "metadata": {},
      "outputs": [],
      "source": [
        "my_model$results %>%\n",
        "  filter(RMSE == min(RMSE))\n",
        "#>   alpha lambda      RMSE ...\n",
        "#> 1     0 0.0595 0.3117092 ..."
      ]
    },
    {
      "cell_type": "markdown",
      "source": "## 8.7 ニューラルネットワーク",
      "metadata": {}
    },
    {
      "cell_type": "code",
      "execution_count": null,
      "metadata": {},
      "outputs": [],
      "source": [
        "curve(1 / (1 + exp(-x)), -6, 6)"
      ]
    },
    {
      "cell_type": "code",
      "execution_count": null,
      "metadata": {},
      "outputs": [],
      "source": [
        "library(caret)\n",
        "library(tidyverse)\n",
        "my_url <- str_c(\"https://raw.githubusercontent.com/taroyabuki\",\n",
        "                \"/fromzero/master/data/wine.csv\")\n",
        "my_data <- read_csv(my_url)"
      ]
    },
    {
      "cell_type": "code",
      "execution_count": null,
      "metadata": {},
      "outputs": [],
      "source": [
        "my_model <- train(form = LPRICE2 ~ .,\n",
        "                  data = my_data,\n",
        "                  method = \"neuralnet\",              # ニューラルネットワーク\n",
        "                  preProcess = c(\"center\", \"scale\"), # 標準化\n",
        "                  trControl = trainControl(method = \"LOOCV\"))\n",
        "plot(my_model$finalModel) # 訓練済ネットワークの描画"
      ]
    },
    {
      "cell_type": "code",
      "execution_count": null,
      "metadata": {},
      "outputs": [],
      "source": [
        "my_model$results\n",
        "#>   layer1 layer2 layer3      RMSE ...\n",
        "#> 1      1      0      0 0.3504016 ...\n",
        "#> 2      3      0      0 0.4380399 ...\n",
        "#> 3      5      0      0 0.4325535 ..."
      ]
    },
    {
      "cell_type": "code",
      "execution_count": null,
      "metadata": {},
      "outputs": [],
      "source": [
        "my_model <- train(\n",
        "  form = LPRICE2 ~ .,\n",
        "  data = my_data,\n",
        "  method = \"neuralnet\",\n",
        "  preProcess = c(\"center\", \"scale\"),\n",
        "  trControl = trainControl(method = \"LOOCV\"),\n",
        "  tuneGrid = expand.grid(layer1 = 1:5,\n",
        "                         layer2 = 0:2,\n",
        "                         layer3 = 0))"
      ]
    },
    {
      "cell_type": "code",
      "execution_count": null,
      "metadata": {},
      "outputs": [],
      "source": [
        "my_model$results %>%\n",
        "  filter(RMSE == min(RMSE))\n",
        "#>   layer1 layer2 layer3      RMSE ...\n",
        "#> 1      2      0      0 0.3165704 ..."
      ]
    },
    {
      "cell_type": "markdown",
      "source": "# 9 分類1（多値分類）\n\n\n",
      "metadata": {}
    },
    {
      "cell_type": "markdown",
      "source": "## 9.1 アヤメのデータ",
      "metadata": {}
    },
    {
      "cell_type": "code",
      "execution_count": null,
      "metadata": {},
      "outputs": [],
      "source": [
        "my_data <- iris\n",
        "head(my_data)\n",
        "#>   Sepal.Length Sepal.Width Petal.Length Petal.Width Species\n",
        "#> 1          5.1         3.5          1.4         0.2  setosa\n",
        "#> 2          4.9         3.0          1.4         0.2  setosa\n",
        "#> 3          4.7         3.2          1.3         0.2  setosa\n",
        "#> 4          4.6         3.1          1.5         0.2  setosa\n",
        "#> 5          5.0         3.6          1.4         0.2  setosa\n",
        "#> 6          5.4         3.9          1.7         0.4  setosa"
      ]
    },
    {
      "cell_type": "code",
      "execution_count": null,
      "metadata": {},
      "outputs": [],
      "source": [
        "psych::describe(my_data)\n",
        "#>              vars   n mean   sd median trimmed  mad min max range ...\n",
        "#> Sepal.Length    1 150 5.84 0.83   5.80    5.81 1.04 4.3 7.9   3.6 ...\n",
        "#> Sepal.Width     2 150 3.06 0.44   3.00    3.04 0.44 2.0 4.4   2.4 ...\n",
        "#> Petal.Length    3 150 3.76 1.77   4.35    3.76 1.85 1.0 6.9   5.9 ...\n",
        "#> Petal.Width     4 150 1.20 0.76   1.30    1.18 1.04 0.1 2.5   2.4 ...\n",
        "#> Species*        5 150 2.00 0.82   2.00    2.00 1.48 1.0 3.0   2.0 ..."
      ]
    },
    {
      "cell_type": "markdown",
      "source": "## 9.2 木による分類",
      "metadata": {}
    },
    {
      "cell_type": "code",
      "execution_count": null,
      "metadata": {},
      "outputs": [],
      "source": [
        "library(caret)\n",
        "library(tidyverse)\n",
        "my_data <- iris\n",
        "my_model <- train(form = Species ~ ., data = my_data, method = \"rpart\")"
      ]
    },
    {
      "cell_type": "code",
      "execution_count": null,
      "metadata": {},
      "outputs": [],
      "source": [
        "rpart.plot::rpart.plot(my_model$finalModel, extra = 1)"
      ]
    },
    {
      "cell_type": "code",
      "execution_count": null,
      "metadata": {},
      "outputs": [],
      "source": [
        "my_test <- tribble(\n",
        "~Sepal.Length, ~Sepal.Width, ~Petal.Length, ~Petal.Width,\n",
        "          5.0,          3.5,           1.5,          0.5,\n",
        "          6.5,          3.0,           5.0,          2.0)\n",
        "\n",
        "my_model %>% predict(my_test)\n",
        "#> [1] setosa    virginica\n",
        "#> Levels: setosa versicolor virginica"
      ]
    },
    {
      "cell_type": "code",
      "execution_count": null,
      "metadata": {},
      "outputs": [],
      "source": [
        "my_model %>% predict(my_test,\n",
        "                     type = \"prob\")\n",
        "#>   setosa versicolor virginica\n",
        "#> 1      1 0.00000000 0.0000000\n",
        "#> 2      0 0.02173913 0.9782609"
      ]
    },
    {
      "cell_type": "markdown",
      "source": "## 9.3 正解率",
      "metadata": {}
    },
    {
      "cell_type": "code",
      "execution_count": null,
      "metadata": {},
      "outputs": [],
      "source": [
        "library(caret)\n",
        "library(tidyverse)\n",
        "my_data <- iris\n",
        "my_model <- train(form = Species ~ ., data = my_data, method = \"rpart2\")\n",
        "\n",
        "y  <- my_data$Species\n",
        "y_ <- my_model %>% predict(my_data)\n",
        "confusionMatrix(data = y_, reference = y)\n",
        "#> Confusion Matrix and Statistics\n",
        "#>\n",
        "#>             Reference\n",
        "#> Prediction   setosa versicolor virginica\n",
        "#>   setosa         50          0         0\n",
        "#>   versicolor      0         49         1\n",
        "#>   virginica       0          5        45\n",
        "# 以下は割愛"
      ]
    },
    {
      "cell_type": "code",
      "execution_count": null,
      "metadata": {},
      "outputs": [],
      "source": [
        "y  <- my_data$Species\n",
        "y_ <- my_model %>% predict(my_data)\n",
        "mean(y_ == y)\n",
        "#> [1] 0.96"
      ]
    },
    {
      "cell_type": "code",
      "execution_count": null,
      "metadata": {},
      "outputs": [],
      "source": [
        "my_model <- train(form = Species ~ ., data = my_data, method = \"rpart2\",\n",
        "                  trControl = trainControl(method = \"LOOCV\"))\n",
        "my_model$results\n",
        "#>   maxdepth  Accuracy Kappa\n",
        "#> 1        1 0.3333333  0.00\n",
        "#> 2        2 0.9533333  0.93"
      ]
    },
    {
      "cell_type": "code",
      "execution_count": null,
      "metadata": {},
      "outputs": [],
      "source": [
        "my_model <- train(form = Species ~ ., data = my_data, method = \"rpart2\",\n",
        "                  tuneGrid = data.frame(maxdepth = 1:10),\n",
        "                  trControl = trainControl(method = \"LOOCV\"))\n",
        "my_model$results %>% filter(Accuracy == max(Accuracy))\n",
        "#>   maxdepth  Accuracy Kappa\n",
        "#> 1        2 0.9533333  0.93"
      ]
    },
    {
      "cell_type": "code",
      "execution_count": null,
      "metadata": {},
      "outputs": [],
      "source": [
        "# パラメータを与えると正解率（LOOCV）を返す関数\n",
        "my_loocv <- function(maxdepth, minbucket, minsplit) {\n",
        "  my_model <- train(form = Species ~ ., data = my_data, method = \"rpart2\",\n",
        "                    trControl = trainControl(method = \"LOOCV\"),\n",
        "                    tuneGrid = data.frame(maxdepth = maxdepth),\n",
        "                    control = rpart::rpart.control(cp = 0.01,\n",
        "                                                   minbucket = minbucket,\n",
        "                                                   minsplit = minsplit))\n",
        "  list(maxdepth = maxdepth,\n",
        "       minbucket = minbucket,\n",
        "       minsplit = minsplit,\n",
        "       Accuracy = my_model$results$Accuracy)\n",
        "}"
      ]
    },
    {
      "cell_type": "code",
      "execution_count": null,
      "metadata": {},
      "outputs": [],
      "source": [
        "my_params <- expand.grid(\n",
        "  maxdepth = 2:5,\n",
        "  minbucket = 1:7,\n",
        "  minsplit = c(2, 20))\n",
        "\n",
        "library(furrr)\n",
        "plan(multisession) # 並列処理の準備\n",
        "my_results <- my_params %>% future_pmap_dfr(my_loocv, # 実行\n",
        "  .options = furrr_options(seed = TRUE))\n",
        "\n",
        "my_results %>% filter(Accuracy == max(Accuracy)) # 正解率（検証）の最大値\n",
        "#>   maxdepth minbucket minsplit Accuracy\n",
        "#>      <int>     <int>    <dbl>    <dbl>\n",
        "#> 1        3         5        2    0.973\n",
        "#> 2        4         5        2    0.973\n",
        "#> 3        5         5        2    0.973\n",
        "#> 4        3         5       20    0.973\n",
        "#> 5        4         5       20    0.973\n",
        "#> 6        5         5       20    0.973"
      ]
    },
    {
      "cell_type": "code",
      "execution_count": null,
      "metadata": {},
      "outputs": [],
      "source": [
        "my_model <- train(form = Species ~ ., data = my_data, method = \"rpart2\",\n",
        "                  trControl = trainControl(method = \"none\"),\n",
        "                  tuneGrid = data.frame(maxdepth = 3),\n",
        "                  control = rpart::rpart.control(cp = 0.01,\n",
        "                                                 minbucket = 5,\n",
        "                                                 minsplit = 2))"
      ]
    },
    {
      "cell_type": "code",
      "execution_count": null,
      "metadata": {},
      "outputs": [],
      "source": [
        "rpart.plot::rpart.plot(\n",
        "  my_model$finalModel, extra = 1)"
      ]
    },
    {
      "cell_type": "markdown",
      "source": "## 9.4 複数の木を使う方法",
      "metadata": {}
    },
    {
      "cell_type": "code",
      "execution_count": null,
      "metadata": {},
      "outputs": [],
      "source": [
        "library(caret)\n",
        "library(tidyverse)\n",
        "my_data <- iris\n",
        "\n",
        "my_model <- train(form = Species ~ ., data = my_data, method = \"rf\",\n",
        "                  tuneGrid = data.frame(mtry = 2:4), # 省略可\n",
        "                  trControl = trainControl(method = \"LOOCV\"))\n",
        "my_model$results\n",
        "#>   mtry Accuracy Kappa\n",
        "#> 1    2     0.96  0.94\n",
        "#> 2    3     0.96  0.94\n",
        "#> 3    4     0.96  0.94"
      ]
    },
    {
      "cell_type": "code",
      "execution_count": null,
      "metadata": {},
      "outputs": [],
      "source": [
        "my_model <- train(\n",
        "  form = Species ~ ., data = my_data, method = \"xgbTree\",\n",
        "  tuneGrid = expand.grid(\n",
        "    nrounds          = c(50, 100, 150),\n",
        "    max_depth        = c(1, 2, 3),\n",
        "    eta              = c(0.3, 0.4),\n",
        "    gamma            = 0,\n",
        "    colsample_bytree = c(0.6, 0.8),\n",
        "    min_child_weight = 1,\n",
        "    subsample        = c(0.5, 0.75, 1)),\n",
        "  trControl = trainControl(method = \"cv\", number = 5)) # 5分割交差検証\n",
        "my_model$results %>% filter(Accuracy == max(Accuracy)) %>% head(5) %>% t\n",
        "#>                            1           2           3           4           5\n",
        "#> eta               0.30000000  0.30000000  0.30000000  0.40000000  0.30000000\n",
        "#> max_depth         1.00000000  1.00000000  1.00000000  1.00000000  3.00000000\n",
        "#> gamma             0.00000000  0.00000000  0.00000000  0.00000000  0.00000000\n",
        "#> colsample_bytree  0.60000000  0.60000000  0.80000000  0.60000000  0.80000000\n",
        "#> min_child_weight  1.00000000  1.00000000  1.00000000  1.00000000  1.00000000\n",
        "#> subsample         0.50000000  0.75000000  0.75000000  0.50000000  0.50000000\n",
        "#> nrounds          50.00000000 50.00000000 50.00000000 50.00000000 50.00000000\n",
        "#> Accuracy          0.96000000  0.96000000  0.96000000  0.96000000  0.96000000\n",
        "#> Kappa             0.94000000  0.94000000  0.94000000  0.94000000  0.94000000\n",
        "#> AccuracySD        0.02788867  0.02788867  0.02788867  0.01490712  0.01490712\n",
        "#> KappaSD           0.04183300  0.04183300  0.04183300  0.02236068  0.02236068"
      ]
    },
    {
      "cell_type": "code",
      "execution_count": null,
      "metadata": {},
      "outputs": [],
      "source": [
        "my_model <- train(form = Species ~ ., data = my_data, method = \"rf\")\n",
        "ggplot(varImp(my_model))"
      ]
    },
    {
      "cell_type": "markdown",
      "source": "## 9.5 欠損のあるデータでの学習",
      "metadata": {}
    },
    {
      "cell_type": "code",
      "execution_count": null,
      "metadata": {},
      "outputs": [],
      "source": [
        "library(caret)\n",
        "library(tidyverse)\n",
        "my_data <- iris\n",
        "\n",
        "n <- nrow(my_data)\n",
        "my_data$Petal.Length[0:(n - 1) %% 10 == 0] <- NA\n",
        "my_data$Petal.Width[ 0:(n - 1) %% 10 == 1] <- NA\n",
        "\n",
        "psych::describe(my_data) # nの値が135の変数に，150 - 135 = 15個の欠損がある．\n",
        "#>              vars   n mean   sd median trimmed  mad min max range ...\n",
        "#> Sepal.Length    1 150 5.84 0.83    5.8    5.81 1.04 4.3 7.9   3.6 ...\n",
        "#> Sepal.Width     2 150 3.06 0.44    3.0    3.04 0.44 2.0 4.4   2.4 ...\n",
        "#> Petal.Length    3 135 3.75 1.76    4.3    3.75 1.78 1.0 6.9   5.9 ...\n",
        "#> Petal.Width     4 135 1.20 0.77    1.3    1.18 1.04 0.1 2.5   2.4 ...\n",
        "#> Species*        5 150 2.00 0.82    2.0    2.00 1.48 1.0 3.0   2.0 ..."
      ]
    },
    {
      "cell_type": "code",
      "execution_count": null,
      "metadata": {},
      "outputs": [],
      "source": [
        "my_model <- train(\n",
        "  form = Species ~ ., data = my_data, method = \"rpart2\",\n",
        "  na.action = na.pass,         # 欠損があっても学習を止めない．\n",
        "  preProcess = \"medianImpute\", # 欠損を中央値で埋める．\n",
        "  trControl = trainControl(method = \"LOOCV\"),\n",
        "  tuneGrid = data.frame(maxdepth = 20),          # 木の高さの上限\n",
        "  control = rpart::rpart.control(minsplit = 2,   # 分岐の条件\n",
        "                                 minbucket = 1)) # 終端ノードの条件\n",
        "max(my_model$results$Accuracy)\n",
        "#> [1] 0.9266667"
      ]
    },
    {
      "cell_type": "code",
      "execution_count": null,
      "metadata": {},
      "outputs": [],
      "source": [
        "my_model <- train(form = Species ~ ., data = my_data, method = \"xgbTree\",\n",
        "                  na.action = na.pass,\n",
        "                  trControl = trainControl(method = \"cv\", number = 5))\n",
        "max(my_model$results$Accuracy)\n",
        "#> [1] 0.966666666666667"
      ]
    },
    {
      "cell_type": "markdown",
      "source": "## 9.6 他の分類手法",
      "metadata": {}
    },
    {
      "cell_type": "code",
      "execution_count": null,
      "metadata": {},
      "outputs": [],
      "source": [
        "library(caret)\n",
        "library(tidyverse)\n",
        "my_data <- iris\n",
        "\n",
        "my_model <- train(form = Species ~ ., data = my_data, method = \"knn\",\n",
        "                  trControl = trainControl(method = \"LOOCV\"))\n",
        "my_model$results %>% filter(Accuracy == max(Accuracy))\n",
        "#>   k  Accuracy Kappa\n",
        "#> 1 9 0.9733333  0.96"
      ]
    },
    {
      "cell_type": "code",
      "execution_count": null,
      "metadata": {},
      "outputs": [],
      "source": [
        "library(caret)\n",
        "library(tidyverse)\n",
        "my_data <- iris\n",
        "\n",
        "my_model <- train(form = Species ~ ., data = my_data, method = \"nnet\",\n",
        "                  preProcess = c(\"center\", \"scale\"), # 標準化\n",
        "                  trControl = trainControl(method = \"LOOCV\"),\n",
        "                  trace = FALSE) # 途中経過を表示しない\n",
        "my_model$results %>% filter(Accuracy == max(Accuracy))\n",
        "#>   size decay  Accuracy Kappa\n",
        "#> 1    3   0.1 0.9733333  0.96\n",
        "#> 2    5   0.1 0.9733333  0.96"
      ]
    },
    {
      "cell_type": "markdown",
      "source": "# 10 分類2（2値分類）\n\n\n",
      "metadata": {}
    },
    {
      "cell_type": "markdown",
      "source": "## 10.1 2値分類の性能指標",
      "metadata": {}
    },
    {
      "cell_type": "code",
      "execution_count": null,
      "metadata": {},
      "outputs": [],
      "source": [
        "y       <- c(  0,   1,   1,   0,   1,   0,    1,   0,   0,   1)\n",
        "y_score <- c(0.7, 0.8, 0.3, 0.4, 0.9, 0.6, 0.99, 0.1, 0.2, 0.5)"
      ]
    },
    {
      "cell_type": "code",
      "execution_count": null,
      "metadata": {},
      "outputs": [],
      "source": [
        "y_ <- ifelse(0.5 <= y_score, 1, 0)\n",
        "y_\n",
        "#> [1] 1 1 0 0 1 1 1 0 0 1"
      ]
    },
    {
      "cell_type": "code",
      "execution_count": null,
      "metadata": {},
      "outputs": [],
      "source": [
        "library(caret)\n",
        "confusionMatrix(data      = as.factor(y_), # 予測\n",
        "                reference = as.factor(y),  # 正解\n",
        "                positive = \"1\",            # 「1」を陽性とする．\n",
        "                mode = \"everything\")       # 全ての指標を求める．\n",
        "#> Confusion Matrix and Statistics\n",
        "#>\n",
        "#>           Reference\n",
        "#> Prediction 0 1\n",
        "#>          0 3 1\n",
        "#>          1 2 4\n",
        "#>\n",
        "#>                Accuracy : 0.7\n",
        "#>                  95% CI : (0.3475, 0.9333)\n",
        "#>     No Information Rate : 0.5\n",
        "#>     P-Value [Acc > NIR] : 0.1719\n",
        "#>\n",
        "#>                   Kappa : 0.4\n",
        "#>\n",
        "#>  Mcnemar's Test P-Value : 1.0000\n",
        "#>\n",
        "#>             Sensitivity : 0.8000\n",
        "#>             Specificity : 0.6000\n",
        "#>          Pos Pred Value : 0.6667\n",
        "#>          Neg Pred Value : 0.7500\n",
        "#>               Precision : 0.6667\n",
        "#>                  Recall : 0.8000\n",
        "#>                      F1 : 0.7273\n",
        "#>              Prevalence : 0.5000\n",
        "#>          Detection Rate : 0.4000\n",
        "#>    Detection Prevalence : 0.6000\n",
        "#>       Balanced Accuracy : 0.7000\n",
        "#>\n",
        "#>        'Positive' Class : 1"
      ]
    },
    {
      "cell_type": "markdown",
      "source": "## 10.2 トレードオフ",
      "metadata": {}
    },
    {
      "cell_type": "code",
      "execution_count": null,
      "metadata": {},
      "outputs": [],
      "source": [
        "library(PRROC)\n",
        "library(tidyverse)\n",
        "\n",
        "y       <- c(  0,   1,   1,   0,   1,   0,    1,   0,   0,   1)\n",
        "y_score <- c(0.7, 0.8, 0.3, 0.4, 0.9, 0.6, 0.99, 0.1, 0.2, 0.5)\n",
        "y_      <- ifelse(0.5 <= y_score, 1, 0)\n",
        "\n",
        "c(sum((y == 0) & (y_ == 1)) / sum(y == 0), # FPR\n",
        "  sum((y == 1) & (y_ == 1)) / sum(y == 1)) # TPR\n",
        "#> [1] 0.4 0.8"
      ]
    },
    {
      "cell_type": "code",
      "execution_count": null,
      "metadata": {},
      "outputs": [],
      "source": [
        "my_roc <- roc.curve(scores.class0 = y_score[y == 1], # 答えが1のもののスコア\n",
        "                    scores.class1 = y_score[y == 0], # 答えが0のもののスコア\n",
        "                    curve = TRUE)\n",
        "my_roc %>% plot(xlab = \"False Positive Rate\",\n",
        "                ylab = \"True Positive Rate\",\n",
        "                legend = FALSE)"
      ]
    },
    {
      "cell_type": "code",
      "execution_count": null,
      "metadata": {},
      "outputs": [],
      "source": [
        "my_roc$auc\n",
        "#> [1] 0.8"
      ]
    },
    {
      "cell_type": "code",
      "execution_count": null,
      "metadata": {},
      "outputs": [],
      "source": [
        "c(sum((y == 1) & (y_ == 1)) / sum(y  == 1), # Recall == TPR\n",
        "  sum((y == 1) & (y_ == 1)) / sum(y_ == 1)) # Precision\n",
        "#> [1] 0.8000000 0.6666667"
      ]
    },
    {
      "cell_type": "code",
      "execution_count": null,
      "metadata": {},
      "outputs": [],
      "source": [
        "my_pr <- pr.curve(scores.class0 = y_score[y == 1],\n",
        "                  scores.class1 = y_score[y == 0],\n",
        "                  curve = TRUE)\n",
        "my_pr %>% plot(xlab = \"Recall\",\n",
        "               ylab = \"Precision\",\n",
        "               legend = FALSE)"
      ]
    },
    {
      "cell_type": "code",
      "execution_count": null,
      "metadata": {},
      "outputs": [],
      "source": [
        "my_pr$auc.integral\n",
        "#> [1] 0.8469525"
      ]
    },
    {
      "cell_type": "markdown",
      "source": "## 10.3 タイタニック",
      "metadata": {}
    },
    {
      "cell_type": "code",
      "execution_count": null,
      "metadata": {},
      "outputs": [],
      "source": [
        "library(caret)\n",
        "library(PRROC)\n",
        "library(tidyverse)\n",
        "\n",
        "my_url <- str_c(\"https://raw.githubusercontent.com/taroyabuki\",\n",
        "                \"/fromzero/master/data/titanic.csv\")\n",
        "my_data <- read_csv(my_url)"
      ]
    },
    {
      "cell_type": "code",
      "execution_count": null,
      "metadata": {},
      "outputs": [],
      "source": [
        "head(my_data)\n",
        "#> # A tibble: 6 x 4\n",
        "#>   Class Sex   Age   Survived\n",
        "#>   <chr> <chr> <chr> <chr>\n",
        "#> 1 1st   Male  Child Yes\n",
        "#> 2 1st   Male  Child Yes\n",
        "#> 3 1st   Male  Child Yes\n",
        "#> 4 1st   Male  Child Yes\n",
        "#> 5 1st   Male  Child Yes\n",
        "#> 6 1st   Male  Adult No"
      ]
    },
    {
      "cell_type": "code",
      "execution_count": null,
      "metadata": {},
      "outputs": [],
      "source": [
        "my_model <- train(form = Survived ~ ., data = my_data, method = \"rpart2\",\n",
        "                  tuneGrid = data.frame(maxdepth = 2),\n",
        "                  trControl = trainControl(method = \"LOOCV\"))"
      ]
    },
    {
      "cell_type": "code",
      "execution_count": null,
      "metadata": {},
      "outputs": [],
      "source": [
        "rpart.plot::rpart.plot(my_model$finalModel, extra = 1)"
      ]
    },
    {
      "cell_type": "code",
      "execution_count": null,
      "metadata": {},
      "outputs": [],
      "source": [
        "my_model$results\n",
        "#>   maxdepth  Accuracy     Kappa\n",
        "#> 1        2 0.7832803 0.4096365"
      ]
    },
    {
      "cell_type": "code",
      "execution_count": null,
      "metadata": {},
      "outputs": [],
      "source": [
        "y <- my_data$Survived\n",
        "tmp <- my_model %>% predict(newdata = my_data, type = \"prob\")\n",
        "y_score <- tmp$Yes\n",
        "\n",
        "my_roc <- roc.curve(scores.class0 = y_score[y == \"Yes\"],\n",
        "                    scores.class1 = y_score[y == \"No\"],\n",
        "                    curve = TRUE)\n",
        "my_roc$auc\n",
        "#> [1] 0.7114887\n",
        "\n",
        "my_roc %>% plot(xlab = \"False Positive Rate\",\n",
        "                ylab = \"True Positive Rate\",\n",
        "                legend = FALSE)"
      ]
    },
    {
      "cell_type": "code",
      "execution_count": null,
      "metadata": {},
      "outputs": [],
      "source": [
        "X <- my_data %>% select(Class) # 質的入力変数\n",
        "y <- my_data$Survived          # 出力変数\n",
        "\n",
        "options(warn = -1) # これ以降，警告を表示しない．\n",
        "my_model1 <- train(x = X, y = y, method = \"rpart2\",\n",
        "                   tuneGrid = data.frame(maxdepth = 2),\n",
        "                   trControl = trainControl(method = \"LOOCV\"))\n",
        "options(warn = 0)  # これ以降，警告を表示する．\n",
        "\n",
        "rpart.plot::rpart.plot(my_model1$finalModel, extra = 1)\n",
        "my_model1$results\n",
        "#>   maxdepth  Accuracy     Kappa\n",
        "#> 1        2 0.7137665 0.2373133"
      ]
    },
    {
      "cell_type": "code",
      "execution_count": null,
      "metadata": {},
      "outputs": [],
      "source": [
        "my_enc <- my_data %>% dummyVars(formula = Survived ~ Class)\n",
        "my_data2 <- my_enc %>%\n",
        "  predict(my_data) %>%\n",
        "  as.data.frame %>%\n",
        "  mutate(Survived = my_data$Survived)\n",
        "\n",
        "my_model2 <- train(form = Survived ~ ., data = my_data2, method = \"rpart2\",\n",
        "                   tuneGrid = data.frame(maxdepth = 2),\n",
        "                   trControl = trainControl(method = \"LOOCV\"))\n",
        "rpart.plot::rpart.plot(my_model2$finalModel, extra = 1)\n",
        "my_model2$results\n",
        "#>   maxdepth  Accuracy     Kappa\n",
        "#> 1        2 0.7137665 0.2373133"
      ]
    },
    {
      "cell_type": "code",
      "execution_count": null,
      "metadata": {},
      "outputs": [],
      "source": [
        "my_model3 <- train(form = Survived ~ Class, data = my_data, method = \"rpart2\",\n",
        "                   tuneGrid = data.frame(maxdepth = 2),\n",
        "                   trControl = trainControl(method = \"LOOCV\"))\n",
        "rpart.plot::rpart.plot(my_model3$finalModel, extra = 1)\n",
        "my_model3$results\n",
        "#>   maxdepth  Accuracy     Kappa\n",
        "#> 1        2 0.6915039 0.2674485"
      ]
    },
    {
      "cell_type": "markdown",
      "source": "## 10.4 ロジスティック回帰",
      "metadata": {}
    },
    {
      "cell_type": "code",
      "execution_count": null,
      "metadata": {},
      "outputs": [],
      "source": [
        "curve(1 / (1 + exp(-x)), -6, 6)"
      ]
    },
    {
      "cell_type": "code",
      "execution_count": null,
      "metadata": {},
      "outputs": [],
      "source": [
        "library(caret)\n",
        "library(PRROC)\n",
        "library(tidyverse)\n",
        "\n",
        "my_url <- str_c(\"https://raw.githubusercontent.com/taroyabuki\",\n",
        "                \"/fromzero/master/data/titanic.csv\")\n",
        "my_data <- read_csv(my_url)\n",
        "\n",
        "my_model <- train(form = Survived ~ ., data = my_data, method = \"glm\",\n",
        "                  trControl = trainControl(method = \"LOOCV\"))"
      ]
    },
    {
      "cell_type": "code",
      "execution_count": null,
      "metadata": {},
      "outputs": [],
      "source": [
        "coef(my_model$finalModel) %>%\n",
        "  as.data.frame\n",
        "#>                      .\n",
        "#> (Intercept)  2.0438374\n",
        "#> Class2nd    -1.0180950\n",
        "#> Class3rd    -1.7777622\n",
        "#> ClassCrew   -0.8576762\n",
        "#> SexMale     -2.4200603\n",
        "#> AgeChild     1.0615424"
      ]
    },
    {
      "cell_type": "code",
      "execution_count": null,
      "metadata": {},
      "outputs": [],
      "source": [
        "my_model$results\n",
        "#>   parameter  Accuracy     Kappa\n",
        "#> 1      none 0.7782826 0.4448974"
      ]
    },
    {
      "cell_type": "markdown",
      "source": "# 11 深層学習とAutoML\n\n\n",
      "metadata": {}
    },
    {
      "cell_type": "markdown",
      "source": "## 11.1 Kerasによる回帰",
      "metadata": {}
    },
    {
      "cell_type": "code",
      "execution_count": null,
      "metadata": {},
      "outputs": [],
      "source": [
        "library(keras)\n",
        "library(tidyverse)\n",
        "my_url <- str_c(\"https://raw.githubusercontent.com/taroyabuki\",\n",
        "                \"/fromzero/master/data/wine.csv\")\n",
        "tmp <- read_csv(my_url)"
      ]
    },
    {
      "cell_type": "code",
      "execution_count": null,
      "metadata": {},
      "outputs": [],
      "source": [
        "my_data <- tmp[sample(nrow(tmp)), ]"
      ]
    },
    {
      "cell_type": "code",
      "execution_count": null,
      "metadata": {},
      "outputs": [],
      "source": [
        "X <- my_data %>%\n",
        "  select(-LPRICE2) %>% scale\n",
        "y <- my_data$LPRICE2"
      ]
    },
    {
      "cell_type": "code",
      "execution_count": null,
      "metadata": {},
      "outputs": [],
      "source": [
        "curve(activation_relu(x), -3, 3)"
      ]
    },
    {
      "cell_type": "code",
      "execution_count": null,
      "metadata": {},
      "outputs": [],
      "source": [
        "my_model <- keras_model_sequential() %>%\n",
        "  layer_dense(units = 3, activation = \"relu\", input_shape = c(4)) %>%\n",
        "  layer_dense(units = 1)\n",
        "\n",
        "summary(my_model) # ネットワークの概要\n",
        "# 割愛（Pythonの結果を参照）"
      ]
    },
    {
      "cell_type": "code",
      "execution_count": null,
      "metadata": {},
      "outputs": [],
      "source": [
        "my_model %>% compile(\n",
        "  loss = \"mse\",\n",
        "  optimizer = \"rmsprop\")"
      ]
    },
    {
      "cell_type": "code",
      "execution_count": null,
      "metadata": {},
      "outputs": [],
      "source": [
        "my_cb <- callback_early_stopping(\n",
        "  patience = 20,\n",
        "  restore_best_weights = TRUE)"
      ]
    },
    {
      "cell_type": "code",
      "execution_count": null,
      "metadata": {},
      "outputs": [],
      "source": [
        "my_history <- my_model %>% fit(\n",
        "    x = X,\n",
        "    y = y,\n",
        "    validation_split = 0.25,\n",
        "    batch_size = 10,\n",
        "    epochs = 500,\n",
        "    callbacks = list(my_cb),\n",
        "    verbose = 0)"
      ]
    },
    {
      "cell_type": "code",
      "execution_count": null,
      "metadata": {},
      "outputs": [],
      "source": [
        "plot(my_history)"
      ]
    },
    {
      "cell_type": "code",
      "execution_count": null,
      "metadata": {},
      "outputs": [],
      "source": [
        "my_history\n",
        "#> Final epoch (plot to see history):\n",
        "#>     loss: 0.06124\n",
        "#> val_loss: 0.1132"
      ]
    },
    {
      "cell_type": "code",
      "execution_count": null,
      "metadata": {},
      "outputs": [],
      "source": [
        "y_ <- my_model %>% predict(X)\n",
        "mean((y_ - y)^2)**0.5\n",
        "#> [1] 0.2724372"
      ]
    },
    {
      "cell_type": "markdown",
      "source": "## 11.2 Kerasによる分類",
      "metadata": {}
    },
    {
      "cell_type": "code",
      "execution_count": null,
      "metadata": {},
      "outputs": [],
      "source": [
        "library(keras)\n",
        "library(tidyverse)\n",
        "my_data <- iris[sample(nrow(iris)), ]"
      ]
    },
    {
      "cell_type": "code",
      "execution_count": null,
      "metadata": {},
      "outputs": [],
      "source": [
        "X <- my_data %>%\n",
        "  select(-Species) %>% scale\n",
        "y <- as.integer(my_data$Species) - 1"
      ]
    },
    {
      "cell_type": "code",
      "execution_count": null,
      "metadata": {},
      "outputs": [],
      "source": [
        "my_model <- keras_model_sequential() %>%\n",
        "  layer_dense(units = 3, activation = \"relu\", input_shape = c(4)) %>%\n",
        "  layer_dense(units = 3, activation = \"softmax\")"
      ]
    },
    {
      "cell_type": "code",
      "execution_count": null,
      "metadata": {},
      "outputs": [],
      "source": [
        "my_model %>% compile(loss = \"sparse_categorical_crossentropy\",\n",
        "                     optimizer = \"rmsprop\",\n",
        "                     metrics = c(\"accuracy\"))"
      ]
    },
    {
      "cell_type": "code",
      "execution_count": null,
      "metadata": {},
      "outputs": [],
      "source": [
        "my_cb <- callback_early_stopping(\n",
        "  patience = 20,\n",
        "  restore_best_weights = TRUE)\n",
        "\n",
        "my_history <- my_model %>%\n",
        "  fit(x = X,\n",
        "    y = y,\n",
        "    validation_split = 0.25,\n",
        "    batch_size = 10,\n",
        "    epochs = 500,\n",
        "    callbacks = list(my_cb),\n",
        "    verbose = 0)\n",
        "\n",
        "plot(my_history)"
      ]
    },
    {
      "cell_type": "code",
      "execution_count": null,
      "metadata": {},
      "outputs": [],
      "source": [
        "my_history\n",
        "#> Final epoch (plot to see history):\n",
        "#>         loss: 0.06206\n",
        "#>     accuracy: 0.9732\n",
        "#>     val_loss: 0.1269\n",
        "#> val_accuracy: 0.9211"
      ]
    },
    {
      "cell_type": "code",
      "execution_count": null,
      "metadata": {},
      "outputs": [],
      "source": [
        "tmp <- my_model %>% predict(X)\n",
        "y_ <- apply(tmp, 1, which.max) - 1\n",
        "mean(y_ == y)\n",
        "#> [1] 0.9666667"
      ]
    },
    {
      "cell_type": "code",
      "execution_count": null,
      "metadata": {},
      "outputs": [],
      "source": [
        "-mean(log(c(0.8, 0.7, 0.3, 0.8)))\n",
        "#> 0.5017337\n",
        "\n",
        "-mean(log(c(0.7, 0.6, 0.2, 0.7)))\n",
        "#> 0.7084034"
      ]
    },
    {
      "cell_type": "code",
      "execution_count": null,
      "metadata": {},
      "outputs": [],
      "source": [
        "y <- c(2, 1, 0, 1)\n",
        "y_1 <- list(c(0.1, 0.1, 0.8),\n",
        "            c(0.1, 0.7, 0.2),\n",
        "            c(0.3, 0.4, 0.3),\n",
        "            c(0.1, 0.8, 0.1))\n",
        "y_2 <- list(c(0.1, 0.2, 0.7),\n",
        "            c(0.2, 0.6, 0.2),\n",
        "            c(0.2, 0.5, 0.3),\n",
        "            c(0.2, 0.7, 0.1))"
      ]
    },
    {
      "cell_type": "code",
      "execution_count": null,
      "metadata": {},
      "outputs": [],
      "source": [
        "c(mean(as.array(loss_sparse_categorical_crossentropy(y_true = y, y_pred = y_1))),\n",
        "  mean(as.array(loss_sparse_categorical_crossentropy(y_true = y, y_pred = y_2))))\n",
        "#> [1] 0.5017337 0.7084033"
      ]
    },
    {
      "cell_type": "markdown",
      "source": "## 11.3 MNIST：手書き数字の分類",
      "metadata": {}
    },
    {
      "cell_type": "code",
      "execution_count": null,
      "metadata": {},
      "outputs": [],
      "source": [
        "library(keras)\n",
        "library(tidyverse)\n",
        "c(c(x_train, y_train), c(x_test, y_test)) %<-% dataset_mnist()"
      ]
    },
    {
      "cell_type": "code",
      "execution_count": null,
      "metadata": {},
      "outputs": [],
      "source": [
        "dim(x_train)\n",
        "#> [1] 60000    28    28"
      ]
    },
    {
      "cell_type": "code",
      "execution_count": null,
      "metadata": {},
      "outputs": [],
      "source": [
        "x_train[5, , ]"
      ]
    },
    {
      "cell_type": "code",
      "execution_count": null,
      "metadata": {},
      "outputs": [],
      "source": [
        "plot(as.raster(x = x_train[5, , ],\n",
        "               max = max(x_train)))"
      ]
    },
    {
      "cell_type": "code",
      "execution_count": null,
      "metadata": {},
      "outputs": [],
      "source": [
        "head(y_train)\n",
        "#> [1] 5 0 4 1 9 2"
      ]
    },
    {
      "cell_type": "code",
      "execution_count": null,
      "metadata": {},
      "outputs": [],
      "source": [
        "c(min(x_train), max(x_train))\n",
        "#> [1]   0 255"
      ]
    },
    {
      "cell_type": "code",
      "execution_count": null,
      "metadata": {},
      "outputs": [],
      "source": [
        "x_train <- x_train / 255\n",
        "x_test  <- x_test  / 255"
      ]
    },
    {
      "cell_type": "code",
      "execution_count": null,
      "metadata": {},
      "outputs": [],
      "source": [
        "my_index <- sample(1:60000, 6000)\n",
        "x_train <- x_train[my_index, , ]\n",
        "y_train <- y_train[my_index]"
      ]
    },
    {
      "cell_type": "code",
      "execution_count": null,
      "metadata": {},
      "outputs": [],
      "source": [
        "my_model <- keras_model_sequential() %>%\n",
        "  layer_flatten(input_shape = c(28, 28)) %>%\n",
        "  layer_dense(units = 256, activation = \"relu\") %>%\n",
        "  layer_dense(units = 10, activation = \"softmax\")\n",
        "summary(my_model)\n",
        "# 割愛（Pythonの結果を参照）\n",
        "\n",
        "my_model %>% compile(loss = \"sparse_categorical_crossentropy\",\n",
        "                     optimizer = \"rmsprop\",\n",
        "                     metrics = c(\"accuracy\"))\n",
        "\n",
        "my_cb <- callback_early_stopping(patience = 5,\n",
        "                                 restore_best_weights = TRUE)"
      ]
    },
    {
      "cell_type": "code",
      "execution_count": null,
      "metadata": {},
      "outputs": [],
      "source": [
        "my_history <- my_model %>%\n",
        "  fit(x = x_train,\n",
        "      y = y_train,\n",
        "      validation_split = 0.2,\n",
        "      batch_size = 128,\n",
        "      epochs = 20,\n",
        "      callbacks = list(my_cb),\n",
        "      verbose = 0)\n",
        "\n",
        "plot(my_history)"
      ]
    },
    {
      "cell_type": "code",
      "execution_count": null,
      "metadata": {},
      "outputs": [],
      "source": [
        "tmp <- my_model %>% predict(x_test)\n",
        "y_ <- apply(tmp, 1, which.max) - 1\n",
        "table(y_, y_test)"
      ]
    },
    {
      "cell_type": "code",
      "execution_count": null,
      "metadata": {},
      "outputs": [],
      "source": [
        "#>    y_test\n",
        "#> y_     0    1    2    3    4    5    6    7    8    9\n",
        "#>   0  962    0    8    2    0    6   11    0    8   11\n",
        "#>   1    0 1110    1    0    3    1    3    8    2    4\n",
        "#>   2    0    5  959   13    4    4    2   16    6    1\n",
        "#>   3    1    1   22  958    1   27    0    7   33   13\n",
        "#>   4    2    0    6    1  905    8    6    6    3   14\n",
        "#>   5    5    2    0   12    1  809    9    1   15    4\n",
        "#>   6    6    3    8    0    8   11  922    0    5    1\n",
        "#>   7    1    1    7    7    1    2    0  963    4    8\n",
        "#>   8    2   13   19   13    4   16    5    0  890    5\n",
        "#>   9    1    0    2    4   55    8    0   27    8  948"
      ]
    },
    {
      "cell_type": "code",
      "execution_count": null,
      "metadata": {},
      "outputs": [],
      "source": [
        "mean(y_ == y_test)\n",
        "#> [1] 0.9426000"
      ]
    },
    {
      "cell_type": "code",
      "execution_count": null,
      "metadata": {},
      "outputs": [],
      "source": [
        "my_model %>%\n",
        "  evaluate(x = x_test, y = y_test)\n",
        "#>      loss  accuracy\n",
        "#> 0.2071411 0.9426000"
      ]
    },
    {
      "cell_type": "code",
      "execution_count": null,
      "metadata": {},
      "outputs": [],
      "source": [
        "x_train2d <- x_train %>% array_reshape(c(-1, 28, 28, 1))\n",
        "x_test2d  <- x_test  %>% array_reshape(c(-1, 28, 28, 1))"
      ]
    },
    {
      "cell_type": "code",
      "execution_count": null,
      "metadata": {},
      "outputs": [],
      "source": [
        "my_model <- keras_model_sequential() %>%\n",
        "  layer_conv_2d(filters = 32, kernel_size = 3,  # 畳み込み層\n",
        "                activation = \"relu\",\n",
        "                input_shape = c(28, 28, 1)) %>%\n",
        "  layer_max_pooling_2d(pool_size = 2) %>%       # プーリング層\n",
        "  layer_flatten() %>%\n",
        "  layer_dense(units = 128, activation = \"relu\") %>%\n",
        "  layer_dense(units = 10, activation = \"softmax\")\n",
        "\n",
        "summary(my_model)\n",
        "# 割愛（Python の結果を参照）\n",
        "\n",
        "my_model %>% compile(loss = \"sparse_categorical_crossentropy\",\n",
        "                     optimizer = \"rmsprop\",\n",
        "                     metrics = c(\"accuracy\"))\n",
        "\n",
        "my_cb <- callback_early_stopping(patience = 5,\n",
        "                                 restore_best_weights = TRUE)"
      ]
    },
    {
      "cell_type": "code",
      "execution_count": null,
      "metadata": {},
      "outputs": [],
      "source": [
        "my_history <- my_model %>%\n",
        "  fit(x = x_train2d,\n",
        "      y = y_train,\n",
        "      validation_split = 0.2,\n",
        "      batch_size = 128,\n",
        "      epochs = 20,\n",
        "      callbacks = list(my_cb),\n",
        "      verbose = 0)\n",
        "\n",
        "plot(my_history)"
      ]
    },
    {
      "cell_type": "code",
      "execution_count": null,
      "metadata": {},
      "outputs": [],
      "source": [
        "my_model %>%\n",
        "  evaluate(x = x_test2d, y = y_test)\n",
        "#>      loss  accuracy\n",
        "#> 0.1392894 0.9607000"
      ]
    },
    {
      "cell_type": "code",
      "execution_count": null,
      "metadata": {},
      "outputs": [],
      "source": [
        "my_model <- keras_model_sequential() %>%\n",
        "  layer_conv_2d(filters = 20, kernel_size = 5, activation = \"relu\",\n",
        "                input_shape = c(28, 28, 1)) %>%\n",
        "  layer_max_pooling_2d(pool_size = 2, strides = 2) %>%\n",
        "  layer_conv_2d(filters = 50, kernel_size = 5, activation = \"relu\") %>%\n",
        "  layer_max_pooling_2d(pool_size = 2, strides = 2) %>%\n",
        "  layer_dropout(rate = 0.25) %>%\n",
        "  layer_flatten() %>%\n",
        "  layer_dense(units = 500, activation = \"relu\") %>%\n",
        "  layer_dropout(rate = 0.5) %>%\n",
        "  layer_dense(units = 10, activation = \"softmax\")\n",
        "\n",
        "my_model %>% compile(\n",
        "  loss = \"sparse_categorical_crossentropy\",\n",
        "  optimizer = \"rmsprop\",\n",
        "  metrics = c(\"accuracy\"))\n",
        "\n",
        "my_cb <- callback_early_stopping(patience = 5,\n",
        "                                 restore_best_weights = TRUE)"
      ]
    },
    {
      "cell_type": "code",
      "execution_count": null,
      "metadata": {},
      "outputs": [],
      "source": [
        "my_history <- my_model %>%\n",
        "  fit(x = x_train2d,\n",
        "      y = y_train,\n",
        "      validation_split = 0.2,\n",
        "      batch_size = 128,\n",
        "      epochs = 20,\n",
        "      callbacks = list(my_cb),\n",
        "      verbose = 0)\n",
        "\n",
        "plot(my_history)"
      ]
    },
    {
      "cell_type": "code",
      "execution_count": null,
      "metadata": {},
      "outputs": [],
      "source": [
        "my_model %>%\n",
        "  evaluate(x = x_test2d, y = y_test)\n",
        "#>      loss  accuracy\n",
        "#> 0.07309694 0.98060000"
      ]
    },
    {
      "cell_type": "code",
      "execution_count": null,
      "metadata": {},
      "outputs": [],
      "source": [
        "y_prob <- my_model %>% predict(x_test2d) # カテゴリに属する確率\n",
        "\n",
        "my_result <- data.frame(\n",
        "  y_prob = apply(y_prob, 1, max),           # 確率の最大値\n",
        "  y_     = apply(y_prob, 1, which.max) - 1, # 予測カテゴリ\n",
        "  y      = y_test,                          # 正解\n",
        "  id     = seq_len(length(y_test))) %>%     # 番号\n",
        "  filter(y_ != y) %>%                       # 予測がはずれたものを残す\n",
        "  arrange(desc(y_prob))                     # 確率の大きい順に並び替える"
      ]
    },
    {
      "cell_type": "code",
      "execution_count": null,
      "metadata": {},
      "outputs": [],
      "source": [
        "head(my_result)\n",
        "#>      y_prob y_ y   id\n",
        "#> 1 0.9998116  9 4 2131\n",
        "#> 2 0.9988768  6 5 9730\n",
        "#> 3 0.9986107  3 5 2598\n",
        "#> 4 0.9971705  3 5 2036\n",
        "#> 5 0.9888211  1 6 2655\n",
        "#> 6 0.9857675  0 6 2119"
      ]
    },
    {
      "cell_type": "code",
      "execution_count": null,
      "metadata": {},
      "outputs": [],
      "source": [
        "tmp <- my_result[1:5, ]$id\n",
        "my_labels <- sprintf(\"%s (%s)\",\n",
        "  my_result[1:5, ]$y, tmp)\n",
        "my_fig <- expand.grid(\n",
        "  label = my_labels,\n",
        "  y = 28:1,\n",
        "  x = 1:28)\n",
        "my_fig$z <- as.vector(\n",
        "  x_test[tmp, , ])\n",
        "\n",
        "my_fig %>% ggplot(\n",
        "  aes(x = x, y = y, fill = z)) +\n",
        "  geom_raster() +\n",
        "  coord_fixed() +\n",
        "  theme_void() +\n",
        "  theme(legend.position = \"none\") +\n",
        "  facet_grid(. ~ label)"
      ]
    },
    {
      "cell_type": "markdown",
      "source": "## 11.4 AutoML",
      "metadata": {}
    },
    {
      "cell_type": "code",
      "execution_count": null,
      "metadata": {},
      "outputs": [],
      "source": [
        "library(h2o)\n",
        "library(keras)\n",
        "library(tidyverse)\n",
        "\n",
        "h2o.init()\n",
        "h2o.no_progress()\n",
        "# h2o.shutdown(prompt = FALSE) # 停止"
      ]
    },
    {
      "cell_type": "code",
      "execution_count": null,
      "metadata": {},
      "outputs": [],
      "source": [
        "my_url <- str_c(\"https://raw.githubusercontent.com/taroyabuki\",\n",
        "                \"/fromzero/master/data/wine.csv\")\n",
        "my_data <- read_csv(my_url)\n",
        "my_frame <- as.h2o(my_data) # 通常のデータフレームをH2OFrameに変換する．\n",
        "# あるいは\n",
        "my_frame <- h2o.importFile(my_url, header = TRUE) # データを読み込む．"
      ]
    },
    {
      "cell_type": "code",
      "execution_count": null,
      "metadata": {},
      "outputs": [],
      "source": [
        "my_frame\n",
        "#>    LPRICE2 WRAIN DEGREES HRAIN ...\n",
        "#> 1 -0.99868   600 17.1167   160 ...\n",
        "#> 2 -0.45440   690 16.7333    80 ...\n",
        "#> 3 -0.80796   502 17.1500   130 ...\n",
        "#> 4 -1.50926   420 16.1333   110 ...\n",
        "#> 5 -1.71655   582 16.4167   187 ...\n",
        "#> 6 -0.41800   485 17.4833   187 ...\n",
        "#>\n",
        "#> [27 rows x 5 columns]\n",
        "\n",
        "# 通常のデータフレームに戻す．\n",
        "my_frame %>% as.data.frame %>% head\n",
        "# 結果は割愛（見た目は同じ）"
      ]
    },
    {
      "cell_type": "code",
      "execution_count": null,
      "metadata": {},
      "outputs": [],
      "source": [
        "my_model <- h2o.automl(\n",
        "    y = \"LPRICE2\",\n",
        "    training_frame = my_frame,\n",
        "    max_runtime_secs = 60)"
      ]
    },
    {
      "cell_type": "code",
      "execution_count": null,
      "metadata": {},
      "outputs": [],
      "source": [
        "min(my_model@leaderboard$rmse)\n",
        "#> [1] 0.2922861"
      ]
    },
    {
      "cell_type": "code",
      "execution_count": null,
      "metadata": {},
      "outputs": [],
      "source": [
        "tmp <- my_model %>%\n",
        "  predict(my_frame) %>%\n",
        "  as.data.frame\n",
        "y_ <- tmp$predict\n",
        "y  <- my_data$LPRICE2\n",
        "\n",
        "plot(y, y_)"
      ]
    },
    {
      "cell_type": "code",
      "execution_count": null,
      "metadata": {},
      "outputs": [],
      "source": [
        "c(c(x_train, y_train), c(x_test, y_test)) %<-% dataset_mnist()\n",
        "my_index <- sample(1:60000, 6000)\n",
        "x_train <- x_train[my_index, , ]\n",
        "y_train <- y_train[my_index]"
      ]
    },
    {
      "cell_type": "code",
      "execution_count": null,
      "metadata": {},
      "outputs": [],
      "source": [
        "tmp <- x_train %>%\n",
        "  array_reshape(c(-1, 28 * 28)) %>%\n",
        "  as.data.frame\n",
        "tmp$y <- as.factor(y_train)\n",
        "my_train <- as.h2o(tmp)\n",
        "\n",
        "tmp <- x_test %>%\n",
        "  array_reshape(c(-1, 28 * 28)) %>%\n",
        "  as.data.frame\n",
        "my_test <- as.h2o(tmp)"
      ]
    },
    {
      "cell_type": "code",
      "execution_count": null,
      "metadata": {},
      "outputs": [],
      "source": [
        "my_model <- h2o.automl(\n",
        "    y = \"y\",\n",
        "    training_frame = my_train,\n",
        "    max_runtime_secs = 120)"
      ]
    },
    {
      "cell_type": "code",
      "execution_count": null,
      "metadata": {},
      "outputs": [],
      "source": [
        "min(my_model@leaderboard$\n",
        "    mean_per_class_error)\n",
        "#> [1] 0.0806190885648608"
      ]
    },
    {
      "cell_type": "code",
      "execution_count": null,
      "metadata": {},
      "outputs": [],
      "source": [
        "tmp <- my_model %>%\n",
        "  predict(my_test) %>% as.data.frame\n",
        "y_ <- tmp$predict\n",
        "\n",
        "mean(y_ == y_test)\n",
        "#> [1] 0.9306"
      ]
    },
    {
      "cell_type": "markdown",
      "source": "# 12 時系列予測\n\n\n",
      "metadata": {}
    },
    {
      "cell_type": "markdown",
      "source": "## 12.1 日時と日時の列",
      "metadata": {}
    },
    {
      "cell_type": "code",
      "execution_count": null,
      "metadata": {},
      "outputs": [],
      "source": [
        "as.POSIXct(\"2021-01-01\")\n",
        "#> [1] \"2021-01-01 JST\""
      ]
    },
    {
      "cell_type": "code",
      "execution_count": null,
      "metadata": {},
      "outputs": [],
      "source": [
        "library(tsibble)\n",
        "\n",
        "seq(from = 2021, to = 2023, by = 1)\n",
        "#> [1] 2021 2022 2023\n",
        "\n",
        "seq(from = yearmonth(\"202101\"), to = yearmonth(\"202103\"), by = 2)\n",
        "#> <yearmonth[2]>\n",
        "#> [1] \"2021 1\" \"2021 3\"\n",
        "\n",
        "seq(from = as.POSIXct(\"2021-01-01\"), to = as.POSIXct(\"2021-01-03\"), by = \"1 day\")\n",
        "#> [1] \"2021-01-01 JST\" \"2021-01-02 JST\" \"2021-01-03 JST\"\n",
        "\n",
        "seq(from = as.POSIXct(\"2021-01-01 00:00:00\"),\n",
        "    to   = as.POSIXct(\"2021-01-01 03:00:00\"), by = \"2 hour\")\n",
        "#> [1] \"2021-01-01 00:00:00 JST\" \"2021-01-01 02:00:00 JST\""
      ]
    },
    {
      "cell_type": "markdown",
      "source": "## 12.2 時系列データの予測",
      "metadata": {}
    },
    {
      "cell_type": "code",
      "execution_count": null,
      "metadata": {},
      "outputs": [],
      "source": [
        "my_data <- as.vector(AirPassengers)"
      ]
    },
    {
      "cell_type": "code",
      "execution_count": null,
      "metadata": {},
      "outputs": [],
      "source": [
        "n <- length(my_data) # データ数（144）\n",
        "k <- 108             # 訓練データ数"
      ]
    },
    {
      "cell_type": "code",
      "execution_count": null,
      "metadata": {},
      "outputs": [],
      "source": [
        "library(tidyverse)\n",
        "library(tsibble)\n",
        "\n",
        "my_ds <- seq(\n",
        "  from = yearmonth(\"1949/01\"),\n",
        "  to   = yearmonth(\"1960/12\"),\n",
        "  by   = 1)\n",
        "my_label <- rep(\n",
        "  c(\"train\", \"test\"),\n",
        "  c(k, n - k))\n",
        "my_df <- tsibble(\n",
        "  ds    = my_ds,\n",
        "  x     = 0:(n - 1),\n",
        "  y     = my_data,\n",
        "  label = my_label,\n",
        "  index = ds) # 日時の列の指定\n",
        "\n",
        "head(my_df)\n",
        "#> # A tsibble: 6 x 4 [1M]\n",
        "#>       ds     x     y label\n",
        "#>    <mth> <int> <dbl> <chr>\n",
        "#> 1 1949 1     0   112 train\n",
        "#> 2 1949 2     1   118 train\n",
        "#> 3 1949 3     2   132 train\n",
        "#> 4 1949 4     3   129 train\n",
        "#> 5 1949 5     4   121 train\n",
        "#> 6 1949 6     5   135 train"
      ]
    },
    {
      "cell_type": "code",
      "execution_count": null,
      "metadata": {},
      "outputs": [],
      "source": [
        "my_train <- my_df[  1:k , ]\n",
        "my_test  <- my_df[-(1:k), ]\n",
        "y <- my_test$y"
      ]
    },
    {
      "cell_type": "code",
      "execution_count": null,
      "metadata": {},
      "outputs": [],
      "source": [
        "my_plot <- my_df %>%\n",
        "  ggplot(aes(x = ds,\n",
        "             y = y,\n",
        "             color = label)) +\n",
        "  geom_line()\n",
        "my_plot"
      ]
    },
    {
      "cell_type": "code",
      "execution_count": null,
      "metadata": {},
      "outputs": [],
      "source": [
        "library(caret)\n",
        "my_lm_model <- train(form = y ~ x, data = my_train, method = \"lm\")\n",
        "y_ <- my_lm_model %>% predict(my_test)\n",
        "caret::RMSE(y, y_) # RMSE（テスト）\n",
        "#> [1] 70.63707"
      ]
    },
    {
      "cell_type": "code",
      "execution_count": null,
      "metadata": {},
      "outputs": [],
      "source": [
        "y_ <- my_lm_model %>% predict(my_df)\n",
        "tmp <- my_df %>%\n",
        "  mutate(y = y_, label = \"model\")\n",
        "my_plot + geom_line(data = tmp)"
      ]
    },
    {
      "cell_type": "code",
      "execution_count": null,
      "metadata": {},
      "outputs": [],
      "source": [
        "library(fable)\n",
        "my_arima_model <- my_train %>% model(ARIMA(y))\n",
        "my_arima_model\n",
        "#> # A mable: 1 x 1\n",
        "#>                  `ARIMA(y)`\n",
        "#>                     <model>\n",
        "#> 1 <ARIMA(1,1,0)(0,1,0)[12]>"
      ]
    },
    {
      "cell_type": "code",
      "execution_count": null,
      "metadata": {},
      "outputs": [],
      "source": [
        "tmp <- my_arima_model %>% forecast(h = \"3 years\")\n",
        "head(tmp)\n",
        "#> # A fable: 6 x 4 [1M]\n",
        "#> # Key:     .model [1]\n",
        "#> .model       ds           y .mean\n",
        "#> <chr>     <mth>      <dist> <dbl>\n",
        "#> 1 ARIMA(y) 1958 1  N(346, 94)  346.\n",
        "#> 2 ARIMA(y) 1958 2 N(332, 148)  332.\n",
        "#> 3 ARIMA(y) 1958 3 N(387, 210)  387.\n",
        "#> 4 ARIMA(y) 1958 4 N(379, 271)  379.\n",
        "#> 5 ARIMA(y) 1958 5 N(386, 332)  386.\n",
        "#> 6 ARIMA(y) 1958 6 N(453, 393)  453."
      ]
    },
    {
      "cell_type": "code",
      "execution_count": null,
      "metadata": {},
      "outputs": [],
      "source": [
        "y_ <- tmp$.mean\n",
        "caret::RMSE(y_, y)\n",
        "#> [1] 22.13223"
      ]
    },
    {
      "cell_type": "code",
      "execution_count": null,
      "metadata": {},
      "outputs": [],
      "source": [
        "# 予測結果のみでよい場合\n",
        "#tmp %>% autoplot\n",
        "\n",
        "tmp %>% autoplot +\n",
        "  geom_line(data = my_df,\n",
        "            aes(x = ds,\n",
        "                y = y,\n",
        "                color = label))"
      ]
    },
    {
      "cell_type": "code",
      "execution_count": null,
      "metadata": {},
      "outputs": [],
      "source": [
        "library(prophet)\n",
        "my_prophet_model <- my_train %>%\n",
        "  prophet(seasonality.mode = \"multiplicative\")"
      ]
    },
    {
      "cell_type": "code",
      "execution_count": null,
      "metadata": {},
      "outputs": [],
      "source": [
        "tmp <- my_prophet_model %>% predict(my_test)\n",
        "head(tmp[, c(\"ds\", \"yhat\", \"yhat_lower\", \"yhat_upper\")])\n",
        "#> # A tibble: 6 x 4\n",
        "#>   ds                   yhat yhat_lower yhat_upper\n",
        "#>   <dttm>              <dbl>      <dbl>      <dbl>\n",
        "#> 1 1958-01-01 00:00:00  359.       350.       368.\n",
        "#> 2 1958-02-01 00:00:00  350.       342.       360.\n",
        "#> 3 1958-03-01 00:00:00  407.       398.       416.\n",
        "#> 4 1958-04-01 00:00:00  398.       389.       407.\n",
        "#> 5 1958-05-01 00:00:00  402.       393.       411.\n",
        "#> 6 1958-06-01 00:00:00  459.       450.       469."
      ]
    },
    {
      "cell_type": "code",
      "execution_count": null,
      "metadata": {},
      "outputs": [],
      "source": [
        "y_ <- tmp$yhat\n",
        "caret::RMSE(y_, y)\n",
        "#> [1] 33.68719"
      ]
    },
    {
      "cell_type": "code",
      "execution_count": null,
      "metadata": {},
      "outputs": [],
      "source": [
        "# my_prophet_model %>% plot(tmp) # 予測結果のみでよい場合\n",
        "\n",
        "my_prophet_model %>% plot(tmp) +\n",
        "  geom_line(data = my_train, aes(x = as.POSIXct(ds))) +\n",
        "  geom_line(data = my_test,  aes(x = as.POSIXct(ds)), color = \"red\")"
      ]
    },
    {
      "cell_type": "markdown",
      "source": "# 13 教師なし学習\n\n\n",
      "metadata": {}
    },
    {
      "cell_type": "markdown",
      "source": "## 13.1 主成分分析",
      "metadata": {}
    },
    {
      "cell_type": "code",
      "execution_count": null,
      "metadata": {},
      "outputs": [],
      "source": [
        "library(tidyverse)\n",
        "\n",
        "my_data <- data.frame(\n",
        "  language  = c(  0,  20,  20,  25,  22,  17),\n",
        "  english   = c(  0,  20,  40,  20,  24,  18),\n",
        "  math      = c(100,  20,   5,  30,  17,  25),\n",
        "  science   = c(  0,  20,   5,  25,  16,  23),\n",
        "  society   = c(  0,  20,  30,   0,  21,  17),\n",
        "  row.names = c(\"A\", \"B\", \"C\", \"D\", \"E\", \"F\"))\n",
        "my_result <- my_data %>% prcomp # 主成分分析の実行"
      ]
    },
    {
      "cell_type": "code",
      "execution_count": null,
      "metadata": {},
      "outputs": [],
      "source": [
        "my_result$x # 主成分スコア\n",
        "#>          PC1        PC2 ...\n",
        "#> A -74.907282  -7.010808 ...\n",
        "#> B  13.818842   2.753459 ...\n",
        "#> C  33.714034 -18.417290 ...\n",
        "#> D   1.730630  17.876372 ...\n",
        "#> E  17.837474  -1.064998 ...\n",
        "#> F   7.806303   5.863266 ..."
      ]
    },
    {
      "cell_type": "code",
      "execution_count": null,
      "metadata": {},
      "outputs": [],
      "source": [
        "my_result %>% ggbiplot::ggbiplot(\n",
        "  labels = row.names(my_data),\n",
        "  scale = 0)"
      ]
    },
    {
      "cell_type": "code",
      "execution_count": null,
      "metadata": {},
      "outputs": [],
      "source": [
        "my_result$rotation %>% t\n",
        "#>       language    english         math    science    society\n",
        "#> PC1  0.2074983  0.3043604 -0.887261240  0.1301984  0.2452041\n",
        "#> PC2  0.2794627 -0.3250521 -0.097642669  0.7026667 -0.5594347\n",
        "#> PC3 -0.3061175 -0.6157986 -0.056345381  0.3384462  0.6398152\n",
        "#> PC4  0.7649426 -0.4716969 -0.007654992 -0.4180454  0.1324548\n",
        "#> PC5  0.4472136  0.4472136  0.447213595  0.4472136  0.4472136"
      ]
    },
    {
      "cell_type": "code",
      "execution_count": null,
      "metadata": {},
      "outputs": [],
      "source": [
        "summary(my_result)\n",
        "#> Importance of components:\n",
        "#>                            PC1      PC2     PC3     PC4       PC5\n",
        "#> Standard deviation     38.2644 12.25566 5.58845 1.52970 1.232e-15\n",
        "#> Proportion of Variance  0.8885  0.09115 0.01895 0.00142 0.000e+00\n",
        "#> Cumulative Proportion   0.8885  0.97963 0.99858 1.00000 1.000e+00"
      ]
    },
    {
      "cell_type": "code",
      "execution_count": null,
      "metadata": {},
      "outputs": [],
      "source": [
        "my_result <- prcomp(\n",
        "  x = my_data,\n",
        "  scale = TRUE)       # 標準化\n",
        "# あるいは\n",
        "my_result <- prcomp(\n",
        "  x = scale(my_data)) # 標準化データ\n",
        "\n",
        "my_result$x # 主成分スコア\n",
        "#>          PC1        PC2 ...\n",
        "#> A -3.6737215 -0.5688501 ...\n",
        "#> B  0.6528793  0.2469258 ...\n",
        "#> C  1.5682936 -1.7425981 ...\n",
        "#> D  0.2505043  1.6400394 ...\n",
        "#> E  0.8861864 -0.1104931 ...\n",
        "#> F  0.3158579  0.5349762 ..."
      ]
    },
    {
      "cell_type": "code",
      "execution_count": null,
      "metadata": {},
      "outputs": [],
      "source": [
        "Z  <- my_data %>% scale(scale = FALSE) %>% as.matrix # 標準化しない場合\n",
        "#Z <- my_data %>% scale(scale = TRUE)  %>% as.matrix # 標準化する場合\n",
        "\n",
        "n <- nrow(my_data)\n",
        "S <- var(Z)                          # 分散共分散行列\n",
        "#S <- t(Z) %*% Z / (n - 1)           # （同じ結果）\n",
        "tmp <- eigen(S)                      # 固有値と固有ベクトル\n",
        "Z %*% tmp$vectors                    # 主成分スコア（結果は割愛）\n",
        "cumsum(tmp$values) / sum(tmp$values) # 累積寄与率\n",
        "#> [1] 0.8884833 0.9796285 0.9985801 1.0000000 1.0000000"
      ]
    },
    {
      "cell_type": "code",
      "execution_count": null,
      "metadata": {},
      "outputs": [],
      "source": [
        "udv <- svd(Z) # 特異値分解\n",
        "U <- udv$u\n",
        "d <- udv$d\n",
        "V <- udv$v\n",
        "W <- diag(d)\n",
        "\n",
        "c(all.equal(Z, U %*% W %*% t(V), check.attributes = FALSE), # 確認1\n",
        "  all.equal(t(U) %*% U, diag(dim(U)[2])),                   # 確認2\n",
        "  all.equal(t(V) %*% V, diag(dim(V)[2])))                   # 確認3\n",
        "#> [1] TRUE TRUE TRUE\n",
        "\n",
        "U %*% W            # 主成分スコア（結果は割愛）\n",
        "\n",
        "e <- d^2 / (n - 1) # 分散共分散行列の固有値\n",
        "cumsum(e) / sum(e) # 累積寄与率\n",
        "#> [1] 0.8884833 0.9796285 0.9985801 1.0000000 1.0000000"
      ]
    },
    {
      "cell_type": "markdown",
      "source": "## 13.2 クラスタ分析",
      "metadata": {}
    },
    {
      "cell_type": "code",
      "execution_count": null,
      "metadata": {},
      "outputs": [],
      "source": [
        "library(tidyverse)\n",
        "\n",
        "my_data <- data.frame(\n",
        "  x         = c(  0, -16,  10,  10),\n",
        "  y         = c(  0,   0,  10, -15),\n",
        "  row.names = c(\"A\", \"B\", \"C\", \"D\"))\n",
        "\n",
        "my_result <- my_data %>%\n",
        "  dist(\"euclidian\") %>% # distだけでも可\n",
        "  hclust(\"complete\")    # hclustだけでも可"
      ]
    },
    {
      "cell_type": "code",
      "execution_count": null,
      "metadata": {},
      "outputs": [],
      "source": [
        "my_result %>% factoextra::fviz_dend(\n",
        "  k = 3, # クラスタ数\n",
        "  rect = TRUE, rect_fill = TRUE)"
      ]
    },
    {
      "cell_type": "code",
      "execution_count": null,
      "metadata": {},
      "outputs": [],
      "source": [
        "my_result %>% factoextra::fviz_dend(\n",
        "  k = 3,\n",
        "  rect = TRUE, rect_fill = TRUE,\n",
        "  type = \"phylogenic\")"
      ]
    },
    {
      "cell_type": "code",
      "execution_count": null,
      "metadata": {},
      "outputs": [],
      "source": [
        "my_result %>% cutree(3)\n",
        "#> A B C D\n",
        "#> 1 2 1 3"
      ]
    },
    {
      "cell_type": "code",
      "execution_count": null,
      "metadata": {},
      "outputs": [],
      "source": [
        "library(tidyverse)\n",
        "\n",
        "my_data <- data.frame(\n",
        "  language  = c(  0,  20,  20,  25,  22,  17),\n",
        "  english   = c(  0,  20,  40,  20,  24,  18),\n",
        "  math      = c(100,  20,   5,  30,  17,  25),\n",
        "  science   = c(  0,  20,   5,  25,  16,  23),\n",
        "  society   = c(  0,  20,  30,   0,  21,  17),\n",
        "  row.names = c(\"A\", \"B\", \"C\", \"D\", \"E\", \"F\"))\n",
        "\n",
        "try( # RMarkdownで発生するエラーを回避する．\n",
        "  my_data %>% scale %>%                        # 列ごとの標準化\n",
        "    gplots::heatmap.2(cexRow = 1, cexCol = 1), # ラベルのサイズを指定して描画する．\n",
        "  silent = TRUE)"
      ]
    },
    {
      "cell_type": "code",
      "execution_count": null,
      "metadata": {},
      "outputs": [],
      "source": [
        "library(tidyverse)\n",
        "\n",
        "my_data <- data.frame(\n",
        "  x         = c(  0, -16,  10,  10),\n",
        "  y         = c(  0,   0,  10, -15),\n",
        "  row.names = c(\"A\", \"B\", \"C\", \"D\"))\n",
        "\n",
        "my_result <- my_data %>% kmeans(3)"
      ]
    },
    {
      "cell_type": "code",
      "execution_count": null,
      "metadata": {},
      "outputs": [],
      "source": [
        "my_result$cluster\n",
        "#> A B C D\n",
        "#> 2 3 2 1"
      ]
    },
    {
      "cell_type": "code",
      "execution_count": null,
      "metadata": {},
      "outputs": [],
      "source": [
        "library(tidyverse)\n",
        "library(factoextra)\n",
        "\n",
        "my_data <- iris[, -5]\n",
        "\n",
        "f <- 2:5 %>% map(function(k) {\n",
        "  my_data %>% kmeans(k) %>%\n",
        "    fviz_cluster(data = my_data, geom = \"point\") +\n",
        "    ggtitle(sprintf(\"k = %s\", k))\n",
        "})\n",
        "gridExtra::grid.arrange(f[[1]], f[[2]], f[[3]], f[[4]], ncol = 2)"
      ]
    },
    {
      "cell_type": "code",
      "execution_count": null,
      "metadata": {},
      "outputs": [],
      "source": [
        "fviz_nbclust(my_data, kmeans, method = \"wss\")"
      ]
    },
    {
      "cell_type": "code",
      "execution_count": null,
      "metadata": {},
      "outputs": [],
      "source": [
        "library(tidyverse)\n",
        "my_data <- iris[, -5] %>% scale\n",
        "\n",
        "my_result <- prcomp(my_data)$x %>% as.data.frame # 主成分分析\n",
        "\n",
        "# 非階層的クラスタ分析の場合\n",
        "my_result$cluster <- (my_data %>% scale %>% kmeans(3))$cluster %>% as.factor\n",
        "\n",
        "# 階層的クラスタ分析の場合\n",
        "#my_result$cluster <- my_data %>% dist %>% hclust %>% cutree(3) %>% as.factor\n",
        "\n",
        "my_result %>%\n",
        "  ggplot(aes(x = PC1, y = PC2, color = cluster)) + # 色でクラスタを表現する．\n",
        "  geom_point(shape = iris$Species) +               # 形で品種を表現する．\n",
        "  theme(legend.position = \"none\")"
      ]
    }
  ],
  "nbformat": 4,
  "nbformat_minor": 5,
  "metadata": {
    "kernelspec": {
      "name": "ir",
      "display_name": "R"
    }
  }
}
