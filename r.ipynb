{
  "cells": [
    {
      "id": "02ed3465",
      "cell_type": "markdown",
      "source": "[\u8fbb\u771f\u543e\u30fb\u77e2\u5439\u592a\u6717\u300e\u30bc\u30ed\u304b\u3089\u306f\u3058\u3081\u308b\u30c7\u30fc\u30bf\u30b5\u30a4\u30a8\u30f3\u30b9\u5165\u9580\u300f\uff08\u8b1b\u8ac7\u793e,\u00a02021\uff09](https://github.com/taroyabuki/fromzero)",
      "metadata": {}
    },
    {
      "cell_type": "code",
      "execution_count": null,
      "metadata": {},
      "outputs": [],
      "source": [
        "# \u3053\u308c\u306fR\u306e\u30b3\u30fc\u30c9\u306e\u4f8b\u3067\u3059\uff0e\n",
        "1 + 1\n",
        "#> [1] 2 # \u6ce8\u76ee\u3059\u3079\u304d\u5b9f\u884c\u7d50\u679c\u3067\u3059\uff0e"
      ],
      "id": "579bde5e-8520-4d49-a621-a2d5a99652b6"
    },
    {
      "id": "f896dbe4",
      "cell_type": "markdown",
      "source": "# 1 \u30b3\u30f3\u30d4\u30e5\u30fc\u30bf\u3068\u30cd\u30c3\u30c8\u30ef\u30fc\u30af\n\n\n",
      "metadata": {}
    },
    {
      "id": "17f1c438",
      "cell_type": "markdown",
      "source": "## 1.1 \u30b3\u30f3\u30d4\u30e5\u30fc\u30bf\u306e\u57fa\u672c\u64cd\u4f5c\n\n\n",
      "metadata": {}
    },
    {
      "id": "e14c1997",
      "cell_type": "markdown",
      "source": "## 1.2 \u30cd\u30c3\u30c8\u30ef\u30fc\u30af\u306e\u4ed5\u7d44\u307f\n\n\n",
      "metadata": {}
    },
    {
      "id": "f55150d3",
      "cell_type": "markdown",
      "source": "# 2 \u30c7\u30fc\u30bf\u30b5\u30a4\u30a8\u30f3\u30b9\u306e\u305f\u3081\u306e\u74b0\u5883\n\n\n",
      "metadata": {}
    },
    {
      "id": "e27773f4",
      "cell_type": "markdown",
      "source": "## 2.1 \u5b9f\u884c\u74b0\u5883\u306e\u9078\u629e\n\n\n",
      "metadata": {}
    },
    {
      "id": "0cc71107",
      "cell_type": "markdown",
      "source": "## 2.2 \u30af\u30e9\u30a6\u30c9\n\n\n",
      "metadata": {}
    },
    {
      "id": "7a72dcd4",
      "cell_type": "markdown",
      "source": "## 2.3 Docker\n\n\n",
      "metadata": {}
    },
    {
      "id": "93a279dc",
      "cell_type": "markdown",
      "source": "## 2.4 \u30bf\u30fc\u30df\u30ca\u30eb\u306e\u4f7f\u3044\u65b9\n\n\n",
      "metadata": {}
    },
    {
      "id": "81ddacd3",
      "cell_type": "markdown",
      "source": "## 2.5 R\u3068Python\n\n\n",
      "metadata": {}
    },
    {
      "id": "aa9185b5",
      "cell_type": "markdown",
      "source": "## 2.6 \u30b5\u30f3\u30d7\u30eb\u30b3\u30fc\u30c9\u306e\u5229\u7528",
      "metadata": {}
    },
    {
      "cell_type": "code",
      "execution_count": null,
      "metadata": {},
      "outputs": [],
      "source": [
        "1 + 1\n",
        "#> 2     # \u8868\u793a\u3055\u308c\u308b\uff0e\n",
        "\n",
        "print(1 + 2)\n",
        "#> [1] 3 # \u8868\u793a\u3055\u308c\u308b\uff0e\n",
        "\n",
        "1 + 3\n",
        "#> 4     # \u8868\u793a\u3055\u308c\u308b\uff0e"
      ],
      "id": "abfed6c7-a711-43a1-9162-2e6723cee836"
    },
    {
      "id": "70743130",
      "cell_type": "markdown",
      "source": "# 3 R\u3068Python",
      "metadata": {}
    },
    {
      "cell_type": "code",
      "execution_count": null,
      "metadata": {},
      "outputs": [],
      "source": [
        "# Google Colaboratory\u306e\u74b0\u5883\u8a2d\u5b9a\n",
        "if (file.exists(\"/content\")) {\n",
        "  options(Ncpus = parallel::detectCores())\n",
        "  install.packages(c(\"furrr\", \"keras\", \"proxy\"))\n",
        "}"
      ],
      "id": "142a8285-8453-4a7b-bdcc-fe6aca69e4ad"
    },
    {
      "id": "dc7a509a",
      "cell_type": "markdown",
      "source": "## 3.1 \u5165\u9580",
      "metadata": {}
    },
    {
      "cell_type": "code",
      "execution_count": null,
      "metadata": {},
      "outputs": [],
      "source": [
        "0x10\n",
        "#> [1] 16"
      ],
      "id": "32291cc9-3cbb-4999-9398-a2b53ef170a0"
    },
    {
      "cell_type": "code",
      "execution_count": null,
      "metadata": {},
      "outputs": [],
      "source": [
        "1.23e5\n",
        "#> [1] 123000"
      ],
      "id": "04244537-a756-41ad-8cec-5bce96f031a4"
    },
    {
      "cell_type": "code",
      "execution_count": null,
      "metadata": {},
      "outputs": [],
      "source": [
        "2 * 3\n",
        "#> [1] 6"
      ],
      "id": "16bc43d6-0208-41ae-9ee7-5b5e6f655e5f"
    },
    {
      "cell_type": "code",
      "execution_count": null,
      "metadata": {},
      "outputs": [],
      "source": [
        "10 / 3\n",
        "#> [1] 3.333333"
      ],
      "id": "75527b43-42ec-41ea-9eff-a0eaf59587ef"
    },
    {
      "cell_type": "code",
      "execution_count": null,
      "metadata": {},
      "outputs": [],
      "source": [
        "10 %/% 3 # \u5546\n",
        "#> [1] 3\n",
        "\n",
        "10 %% 3  # \u4f59\u308a\n",
        "#> [1] 1"
      ],
      "id": "f43dc32d-8572-411c-b600-202f9d9288e9"
    },
    {
      "cell_type": "code",
      "execution_count": null,
      "metadata": {},
      "outputs": [],
      "source": [
        "x <- 2\n",
        "y <- 3\n",
        "x * y\n",
        "#> [1] 6\n",
        "\n",
        "keras::`%<-%`(c(x, y), c(20, 30)) # \u307e\u3068\u3081\u3066\u540d\u4ed8\u3051\n",
        "x * y\n",
        "#> [1] 600"
      ],
      "id": "4a5104d2-cd8e-435c-b375-1cd9c35e03ec"
    },
    {
      "cell_type": "code",
      "execution_count": null,
      "metadata": {},
      "outputs": [],
      "source": [
        "x <- 1 + 1\n",
        "# \u3053\u306e\u6bb5\u968e\u3067\u306f\u7d50\u679c\u306f\u8868\u793a\u3055\u308c\u306a\u3044\n",
        "\n",
        "x # \u5909\u6570\u540d\u3092\u8a55\u4fa1\u3059\u308b\uff0e\n",
        "#> [1] 2"
      ],
      "id": "fd63703e-d1c0-4f0d-b9a6-1a955bcee155"
    },
    {
      "cell_type": "code",
      "execution_count": null,
      "metadata": {},
      "outputs": [],
      "source": [
        "my_s <- \"abcde\""
      ],
      "id": "b78dbe2a-3e9a-4ebc-8f19-4b8752189b62"
    },
    {
      "cell_type": "code",
      "execution_count": null,
      "metadata": {},
      "outputs": [],
      "source": [
        "nchar(my_s)\n",
        "#> [1] 5"
      ],
      "id": "fac103c9-8a2b-4178-b56a-854a70e33afa"
    },
    {
      "cell_type": "code",
      "execution_count": null,
      "metadata": {},
      "outputs": [],
      "source": [
        "library(tidyverse)\n",
        "str_c(\"This is \", \"a\", \" pen.\")\n",
        "#> [1] \"This is a pen.\""
      ],
      "id": "a7a712c5-ca07-415a-a8a7-18a175a9a935"
    },
    {
      "cell_type": "code",
      "execution_count": null,
      "metadata": {},
      "outputs": [],
      "source": [
        "substr(x = my_s, start = 2, stop = 4)\n",
        "#> [1] \"bcd\""
      ],
      "id": "7f82afc4-8729-4d36-969f-11a7535a32ea"
    },
    {
      "cell_type": "code",
      "execution_count": null,
      "metadata": {},
      "outputs": [],
      "source": [
        "tmp <- \"%s is %s.\"\n",
        "sprintf(tmp, \"This\", \"a pen\")\n",
        "#> [1] \"This is a pen.\""
      ],
      "id": "c91eb783-27d2-4d91-932c-8f0056e78fc2"
    },
    {
      "cell_type": "code",
      "execution_count": null,
      "metadata": {},
      "outputs": [],
      "source": [
        "1 <= 2\n",
        "#> [1] TRUE\n",
        "\n",
        "1 < 0\n",
        "#> [1] FALSE"
      ],
      "id": "e5ed4ee8-124b-4513-992f-771bf08b0e01"
    },
    {
      "cell_type": "code",
      "execution_count": null,
      "metadata": {},
      "outputs": [],
      "source": [
        "0.1 + 0.1 + 0.1 == 0.3\n",
        "#> [1] FALSE\n",
        "\n",
        "all.equal(0.1 + 0.1 + 0.1, 0.3)\n",
        "#> [1] TRUE"
      ],
      "id": "0f9aba11-7e66-4b3f-b9d0-cd80661baea7"
    },
    {
      "cell_type": "code",
      "execution_count": null,
      "metadata": {},
      "outputs": [],
      "source": [
        "TRUE & FALSE # \u8ad6\u7406\u7a4d\uff08\u304b\u3064\uff09\n",
        "#> [1] FALSE\n",
        "\n",
        "TRUE | FALSE # \u8ad6\u7406\u548c\uff08\u307e\u305f\u306f\uff09\n",
        "#> [1] TRUE\n",
        "\n",
        "!TRUE        # \u5426\u5b9a\uff08\u3067\u306a\u3044\uff09\n",
        "#> [1] FALSE"
      ],
      "id": "6f8c53f0-e7b7-47a2-9d43-f871359de361"
    },
    {
      "cell_type": "code",
      "execution_count": null,
      "metadata": {},
      "outputs": [],
      "source": [
        "ifelse(3 < 5, 0, 10)\n",
        "#> 0"
      ],
      "id": "66195098-e030-4895-a446-2986620acbf3"
    },
    {
      "cell_type": "code",
      "execution_count": null,
      "metadata": {},
      "outputs": [],
      "source": [
        "getwd()\n",
        "#> '/home/jovyan/work'"
      ],
      "id": "9ce98278-198b-47bc-8b2d-8a8b63cb5b89"
    },
    {
      "cell_type": "code",
      "execution_count": null,
      "metadata": {},
      "outputs": [],
      "source": [
        "setwd(\"..\")\n",
        "getwd()\n",
        "#> '/home/jovyan'"
      ],
      "id": "4e035982-8fa4-42e9-814b-4df65748c404"
    },
    {
      "id": "f2fff854",
      "cell_type": "markdown",
      "source": "## 3.2 \u95a2\u6570",
      "metadata": {}
    },
    {
      "cell_type": "code",
      "execution_count": null,
      "metadata": {},
      "outputs": [],
      "source": [
        "sqrt(4)\n",
        "#> [1] 2"
      ],
      "id": "63b65c5d-8d2f-404e-ad8e-8f9fd609ef02"
    },
    {
      "cell_type": "code",
      "execution_count": null,
      "metadata": {},
      "outputs": [],
      "source": [
        "log(100, 10)\n",
        "#> [1] 2"
      ],
      "id": "8a869662-e3f6-42f0-b4a8-35863cb70325"
    },
    {
      "cell_type": "code",
      "execution_count": null,
      "metadata": {},
      "outputs": [],
      "source": [
        "log(100)         # \u81ea\u7136\u5bfe\u6570\n",
        "# \u3042\u308b\u3044\u306f\n",
        "log(100, exp(1)) # \u7701\u7565\u3057\u306a\u3044\u5834\u5408\n",
        "\n",
        "#> [1] 4.60517"
      ],
      "id": "828e503d-c470-4fc9-ba44-dd6f3e1ae2f3"
    },
    {
      "cell_type": "code",
      "execution_count": null,
      "metadata": {},
      "outputs": [],
      "source": [
        "log10(100) # \u5e38\u7528\u5bfe\u6570\n",
        "#> [1] 2\n",
        "\n",
        "log2(1024) # \u5e95\u304c2\u306e\u5bfe\u6570\n",
        "#> [1] 10"
      ],
      "id": "0e7f1b19-84d0-4cd8-84e0-0469153e8ca2"
    },
    {
      "cell_type": "code",
      "execution_count": null,
      "metadata": {},
      "outputs": [],
      "source": [
        "library(tidyverse)\n",
        "4 %>% sqrt"
      ],
      "id": "019bb7cc-6cb8-491a-a6c9-5bc84bf61b61"
    },
    {
      "cell_type": "code",
      "execution_count": null,
      "metadata": {},
      "outputs": [],
      "source": [
        "exp(log(5))       # \u901a\u5e38\u306e\u66f8\u304d\u65b9\n",
        "# \u3042\u308b\u3044\u306f\n",
        "5 %>% log %>% exp # \u30d1\u30a4\u30d7\u3092\u4f7f\u3046\u66f8\u304d\u65b9\n",
        "\n",
        "#> 5"
      ],
      "id": "0037b401-768b-4122-b44a-9b7fd9267eaf"
    },
    {
      "cell_type": "code",
      "execution_count": null,
      "metadata": {},
      "outputs": [],
      "source": [
        "f <- function(a, b) {\n",
        "  a - b\n",
        "}"
      ],
      "id": "c969424b-5468-43f5-886c-75ead5e453ae"
    },
    {
      "cell_type": "code",
      "execution_count": null,
      "metadata": {},
      "outputs": [],
      "source": [
        "f(3, 5)\n",
        "#> [1] -2"
      ],
      "id": "8490e94f-5dd7-40ce-869a-c596da9a5a90"
    },
    {
      "cell_type": "code",
      "execution_count": null,
      "metadata": {},
      "outputs": [],
      "source": [
        "f <- function(a, b = 5) {\n",
        "  a - b\n",
        "}\n",
        "\n",
        "f(3) # f(3, 5)\u3068\u540c\u3058\u3053\u3068\n",
        "#> [1] -2"
      ],
      "id": "9f93bcef-1650-4814-b295-e5fd06aaca0f"
    },
    {
      "cell_type": "code",
      "execution_count": null,
      "metadata": {},
      "outputs": [],
      "source": [
        "(function(a, b) { a - b })(3, 5)\n",
        "#> [1] -2"
      ],
      "id": "c384d2e4-c472-4d19-9604-fa9d63b66b6e"
    },
    {
      "id": "c97a18d4",
      "cell_type": "markdown",
      "source": "## 3.3 \u30b3\u30ec\u30af\u30b7\u30e7\u30f3",
      "metadata": {}
    },
    {
      "cell_type": "code",
      "execution_count": null,
      "metadata": {},
      "outputs": [],
      "source": [
        "x <- c(\"foo\", \"bar\", \"baz\")"
      ],
      "id": "46cf3880-1e64-46f0-ab76-34329175a7e8"
    },
    {
      "cell_type": "code",
      "execution_count": null,
      "metadata": {},
      "outputs": [],
      "source": [
        "length(x)\n",
        "#> [1] 3"
      ],
      "id": "17af2eef-b3ee-475f-b00e-a0b21a3ab469"
    },
    {
      "cell_type": "code",
      "execution_count": null,
      "metadata": {},
      "outputs": [],
      "source": [
        "x[2]\n",
        "#> [1] \"bar\""
      ],
      "id": "cfcf7c8d-21a7-43cd-b83b-da7ffce1a6cd"
    },
    {
      "cell_type": "code",
      "execution_count": null,
      "metadata": {},
      "outputs": [],
      "source": [
        "x[2] <- \"BAR\"\n",
        "x # \u7d50\u679c\u306e\u78ba\u8a8d\n",
        "#> [1] \"foo\" \"BAR\" \"baz\"\n",
        "\n",
        "x[2] <- \"bar\" # \u5143\u306b\u623b\u3059\uff0e"
      ],
      "id": "a0f07cf1-8b6c-4f34-affd-a5dbf308dd1b"
    },
    {
      "cell_type": "code",
      "execution_count": null,
      "metadata": {},
      "outputs": [],
      "source": [
        "x[-2]\n",
        "#> [1] \"foo\" \"baz\""
      ],
      "id": "96ea9459-2ac1-4bbb-8609-99a933b80e9d"
    },
    {
      "cell_type": "code",
      "execution_count": null,
      "metadata": {},
      "outputs": [],
      "source": [
        "c(x, \"qux\")\n",
        "#> [1] \"foo\" \"bar\" \"baz\" \"qux\""
      ],
      "id": "44d27196-26fb-45f8-9663-d0d4d64e173b"
    },
    {
      "cell_type": "code",
      "execution_count": null,
      "metadata": {},
      "outputs": [],
      "source": [
        "x <- c(x, \"qux\")\n",
        "x # \u7d50\u679c\u306e\u78ba\u8a8d\n",
        "#> [1] \"foo\" \"bar\" \"baz\" \"qux\""
      ],
      "id": "c1699175-78d5-46c2-b702-ab1429763dcb"
    },
    {
      "cell_type": "code",
      "execution_count": null,
      "metadata": {},
      "outputs": [],
      "source": [
        "1:5\n",
        "#> [1] 1 2 3 4 5"
      ],
      "id": "8b9ae52a-36cc-4386-8c11-3ef6416af44d"
    },
    {
      "cell_type": "code",
      "execution_count": null,
      "metadata": {},
      "outputs": [],
      "source": [
        "seq(from = 0, to = 10, by = 2)\n",
        "#> [1]  0  2  4  6  8 10"
      ],
      "id": "db52b5ae-0926-4266-9130-d5ae802160b4"
    },
    {
      "cell_type": "code",
      "execution_count": null,
      "metadata": {},
      "outputs": [],
      "source": [
        "seq(from = 0, to = 1, by = 0.5)\n",
        "#> [1] 0.0 0.5 1.0"
      ],
      "id": "a7a764ee-daf9-41bc-9c66-33ca6bd5b3d2"
    },
    {
      "cell_type": "code",
      "execution_count": null,
      "metadata": {},
      "outputs": [],
      "source": [
        "seq(from = 0, to = 100, length.out = 5)\n",
        "#> [1]   0  25  50  75 100"
      ],
      "id": "a2f4ea94-a9b1-402b-b1a0-f370fd0e5b0c"
    },
    {
      "cell_type": "code",
      "execution_count": null,
      "metadata": {},
      "outputs": [],
      "source": [
        "rep(x = 10, times = 5)\n",
        "#> [1] 10 10 10 10 10"
      ],
      "id": "0cd37db3-d0a1-4233-90bf-3db6abba3dd3"
    },
    {
      "cell_type": "code",
      "execution_count": null,
      "metadata": {},
      "outputs": [],
      "source": [
        "tmp <- c(\"\u30b0\u30fc\", \"\u30d1\u30fc\", \"\u30b0\u30fc\", \"\u30d1\u30fc\")\n",
        "x <- factor(tmp, levels = c(\"\u30b0\u30fc\", \"\u30c1\u30e7\u30ad\", \"\u30d1\u30fc\"))\n",
        "x\n",
        "#> [1] \u30b0\u30fc \u30d1\u30fc \u30b0\u30fc \u30d1\u30fc\n",
        "#> Levels: \u30b0\u30fc \u30c1\u30e7\u30ad \u30d1\u30fc"
      ],
      "id": "ebf6d5c9-8f95-49f9-b0b4-9c8283dfa1ee"
    },
    {
      "cell_type": "code",
      "execution_count": null,
      "metadata": {},
      "outputs": [],
      "source": [
        "x <- c(2, 3, 5, 7)\n",
        "\n",
        "x + 10 # \u52a0\u7b97\n",
        "#> [1] 12 13 15 17\n",
        "\n",
        "x * 10 # \u4e57\u7b97\n",
        "#> [1] 20 30 50 70"
      ],
      "id": "a1b3e64f-4b1f-4351-a3d8-0ff91a5f6a87"
    },
    {
      "cell_type": "code",
      "execution_count": null,
      "metadata": {},
      "outputs": [],
      "source": [
        "x <- c(2, 3)\n",
        "sin(x)\n",
        "#> [1] 0.9092974 0.1411200"
      ],
      "id": "089dfb64-8142-4a29-936f-5e8709199280"
    },
    {
      "cell_type": "code",
      "execution_count": null,
      "metadata": {},
      "outputs": [],
      "source": [
        "x <- c(2,  3,   5,    7)\n",
        "y <- c(1, 10, 100, 1000)\n",
        "x + y\n",
        "#> [1]    3   13  105 1007\n",
        "\n",
        "x * y\n",
        "#> [1]    2   30  500 7000"
      ],
      "id": "7db3c819-2a79-461c-b2f4-c2a1e3f249c1"
    },
    {
      "cell_type": "code",
      "execution_count": null,
      "metadata": {},
      "outputs": [],
      "source": [
        "sum(x * y)\n",
        "#> [1] 7532"
      ],
      "id": "a93bcc93-a639-4002-b9dc-7bdb092fd5a1"
    },
    {
      "cell_type": "code",
      "execution_count": null,
      "metadata": {},
      "outputs": [],
      "source": [
        "x <- c(TRUE, FALSE)\n",
        "y <- c(TRUE, TRUE)\n",
        "x & y\n",
        "#> [1]  TRUE FALSE"
      ],
      "id": "e1c65b68-e84d-48cb-a4f1-fc8e54dd8f98"
    },
    {
      "cell_type": "code",
      "execution_count": null,
      "metadata": {},
      "outputs": [],
      "source": [
        "u <- c(1, 2, 3)\n",
        "v <- c(1, 2, 3)\n",
        "w <- c(1, 2, 4)\n",
        "\n",
        "identical(u, v) # \u5168\u4f53\u306e\u6bd4\u8f03\n",
        "#> [1] TRUE\n",
        "\n",
        "identical(u, w) # \u5168\u4f53\u306e\u6bd4\u8f03\n",
        "#> [1] FALSE\n",
        "\n",
        "u == v          # \u8981\u7d20\u3054\u3068\u306e\u6bd4\u8f03\n",
        "#> [1] TRUE TRUE TRUE\n",
        "\n",
        "u == w          # \u8981\u7d20\u3054\u3068\u306e\u6bd4\u8f03\n",
        "#> [1]  TRUE  TRUE FALSE"
      ],
      "id": "0334ee90-d38c-4bec-9948-2d6a92c47a83"
    },
    {
      "cell_type": "code",
      "execution_count": null,
      "metadata": {},
      "outputs": [],
      "source": [
        "sum(u == w)  # \u540c\u3058\u8981\u7d20\u306e\u6570\n",
        "#> [1] 2\n",
        "\n",
        "mean(u == w) # \u540c\u3058\u8981\u7d20\u306e\u5272\u5408\n",
        "#> [1] 0.6666667"
      ],
      "id": "774f7fa2-4816-4a31-ab05-0c6a9c042d91"
    },
    {
      "cell_type": "code",
      "execution_count": null,
      "metadata": {},
      "outputs": [],
      "source": [
        "x <- list(1, \"two\")"
      ],
      "id": "fc8cced3-3304-4ba2-b6e7-c5d5f83d691c"
    },
    {
      "cell_type": "code",
      "execution_count": null,
      "metadata": {},
      "outputs": [],
      "source": [
        "x[[2]]\n",
        "#> [1] \"two\""
      ],
      "id": "a8815dec-a2a1-4ba1-a2eb-f96f5d756280"
    },
    {
      "cell_type": "code",
      "execution_count": null,
      "metadata": {},
      "outputs": [],
      "source": [
        "x <- list(\"apple\"  = \"\u308a\u3093\u3054\",\n",
        "          \"orange\" = \"\u307f\u304b\u3093\")"
      ],
      "id": "cee3067e-db44-4f8f-acd8-77105691d7d9"
    },
    {
      "cell_type": "code",
      "execution_count": null,
      "metadata": {},
      "outputs": [],
      "source": [
        "x[[\"grape\"]] <- \"\u3076\u3069\u3046\""
      ],
      "id": "05865055-3539-4bd4-b4df-a512b0c2c0b5"
    },
    {
      "cell_type": "code",
      "execution_count": null,
      "metadata": {},
      "outputs": [],
      "source": [
        "x$apple\n",
        "# \u3042\u308b\u3044\u306f\n",
        "x$\"apple\"\n",
        "# \u3042\u308b\u3044\u306f\n",
        "x[[\"apple\"]]\n",
        "# \u3042\u308b\u3044\u306f\n",
        "tmp <- \"apple\"\n",
        "x[[tmp]]\n",
        "\n",
        "#> [1] \"\u308a\u3093\u3054\""
      ],
      "id": "cd095c26-5c18-4867-9342-0a6212e03bcb"
    },
    {
      "cell_type": "code",
      "execution_count": null,
      "metadata": {},
      "outputs": [],
      "source": [
        "x <- c(\"foo\", \"bar\", \"baz\")\n",
        "y <- x\n",
        "y[2] <- \"BAR\" # y\u3092\u66f4\u65b0\u3059\u308b\uff0e\n",
        "y\n",
        "#> [1] \"foo\" \"BAR\" \"baz\"\n",
        "\n",
        "x             # x\u306f\u5909\u308f\u3089\u306a\u3044\uff0e\n",
        "#> [1] \"foo\" \"bar\" \"baz\""
      ],
      "id": "52fbeed1-95a1-47c7-a6e3-89bf921a7101"
    },
    {
      "id": "aa4c5849",
      "cell_type": "markdown",
      "source": "## 3.4 \u30c7\u30fc\u30bf\u30d5\u30ec\u30fc\u30e0",
      "metadata": {}
    },
    {
      "cell_type": "code",
      "execution_count": null,
      "metadata": {},
      "outputs": [],
      "source": [
        "library(tidyverse)"
      ],
      "id": "81dc7534-21b4-4a8c-9985-4753d02c8dc9"
    },
    {
      "cell_type": "code",
      "execution_count": null,
      "metadata": {},
      "outputs": [],
      "source": [
        "my_df <- data.frame(\n",
        "  name    = c(\"A\", \"B\", \"C\", \"D\"),\n",
        "  english = c( 60,  90,  70,  90),\n",
        "  math    = c( 70,  80,  90, 100),\n",
        "  gender  = c(\"f\", \"m\", \"m\", \"f\"))"
      ],
      "id": "9ff7972a-8028-4184-8dc6-8f9d37207532"
    },
    {
      "cell_type": "code",
      "execution_count": null,
      "metadata": {},
      "outputs": [],
      "source": [
        "my_df <- tribble(\n",
        "  ~name, ~english, ~math, ~gender,\n",
        "  \"A\",         60,    70,     \"f\",\n",
        "  \"B\",         90,    80,     \"m\",\n",
        "  \"C\",         70,    90,     \"m\",\n",
        "  \"D\",         90,   100,     \"f\")"
      ],
      "id": "c13baf53-830c-49e4-ad04-ddd62b78e3f4"
    },
    {
      "cell_type": "code",
      "execution_count": null,
      "metadata": {},
      "outputs": [],
      "source": [
        "head(my_df)\n",
        "# \u7d50\u679c\u306f\u5272\u611b"
      ],
      "id": "738b5ef0-b72e-4459-9d71-45fbebb50fd1"
    },
    {
      "cell_type": "code",
      "execution_count": null,
      "metadata": {},
      "outputs": [],
      "source": [
        "dim(my_df)  # \u884c\u6570\u3068\u5217\u6570\n",
        "#> [1] 4 4\n",
        "\n",
        "nrow(my_df) # \u884c\u6570\n",
        "#> [1] 4\n",
        "\n",
        "ncol(my_df) # \u5217\u6570\n",
        "#> [1] 4"
      ],
      "id": "6f989d03-55dd-413c-9dd6-6b7d7df448e8"
    },
    {
      "cell_type": "code",
      "execution_count": null,
      "metadata": {},
      "outputs": [],
      "source": [
        "my_df2 <- expand.grid(\n",
        "  X = c(1, 2, 3),\n",
        "  Y = c(10, 100))\n",
        "my_df2\n",
        "#>   X   Y\n",
        "#> 1 1  10\n",
        "#> 2 2  10\n",
        "#> 3 3  10\n",
        "#> 4 1 100\n",
        "#> 5 2 100\n",
        "#> 6 3 100"
      ],
      "id": "263aa984-9f93-4750-bed8-36f4972ee5df"
    },
    {
      "cell_type": "code",
      "execution_count": null,
      "metadata": {},
      "outputs": [],
      "source": [
        "colnames(my_df2)\n",
        "#> [1] \"X\" \"Y\""
      ],
      "id": "75095b7a-9de3-4029-ae5b-6c5586b175c1"
    },
    {
      "cell_type": "code",
      "execution_count": null,
      "metadata": {},
      "outputs": [],
      "source": [
        "colnames(my_df2) <- c(\"P\", \"Q\")\n",
        "my_df2\n",
        "#>   P   Q\n",
        "#> 1 1  10\n",
        "#> 2 2  10\n",
        "# \u4ee5\u4e0b\u7701\u7565"
      ],
      "id": "df17bdfa-4ed8-403e-8b74-c11a5edeef4a"
    },
    {
      "cell_type": "code",
      "execution_count": null,
      "metadata": {},
      "outputs": [],
      "source": [
        "row.names(my_df)\n",
        "#> [1] \"1\" \"2\" \"3\" \"4\""
      ],
      "id": "1d7dc6b5-18cf-427c-9f9d-cae702764f7e"
    },
    {
      "cell_type": "code",
      "execution_count": null,
      "metadata": {},
      "outputs": [],
      "source": [
        "row.names(my_df2) <-\n",
        "  c(\"a\", \"b\", \"c\", \"d\", \"e\", \"f\")\n",
        "my_df2\n",
        "#>   P   Q\n",
        "#> a 1  10\n",
        "#> b 2  10\n",
        "#> c 3  10\n",
        "# \u4ee5\u4e0b\u7701\u7565"
      ],
      "id": "ac583887-d658-4bbf-aa0c-689cc5e45412"
    },
    {
      "cell_type": "code",
      "execution_count": null,
      "metadata": {},
      "outputs": [],
      "source": [
        "my_df3 <- data.frame(\n",
        "  english =   c( 60,  90,  70,  90),\n",
        "  math    =   c( 70,  80,  90, 100),\n",
        "  gender  =   c(\"f\", \"m\", \"m\", \"f\"),\n",
        "  row.names = c(\"A\", \"B\", \"C\", \"D\"))\n",
        "my_df3\n",
        "#>   english math gender\n",
        "#> A      60   70      f\n",
        "#> B      90   80      m\n",
        "#> C      70   90      m\n",
        "#> D      90  100      f"
      ],
      "id": "bc831a02-eb81-4355-a7ce-2f7c7dad830f"
    },
    {
      "cell_type": "code",
      "execution_count": null,
      "metadata": {},
      "outputs": [],
      "source": [
        "tmp <- data.frame(\n",
        "  name    = \"E\",\n",
        "  english =  80,\n",
        "  math    =  80,\n",
        "  gender  = \"m\")\n",
        "my_df2 <- rbind(my_df, tmp)"
      ],
      "id": "272c3e66-514e-465e-8e3a-16018af3efef"
    },
    {
      "cell_type": "code",
      "execution_count": null,
      "metadata": {},
      "outputs": [],
      "source": [
        "my_df2 <- my_df %>%\n",
        "  mutate(id = c(1, 2, 3, 4))"
      ],
      "id": "a6178c24-0834-409d-9b56-a7af39f33fee"
    },
    {
      "cell_type": "code",
      "execution_count": null,
      "metadata": {},
      "outputs": [],
      "source": [
        "my_df3 <- my_df               # \u30b3\u30d4\u30fc\n",
        "my_df3[\"id\"] <- c(1, 2, 3, 4) # \u66f4\u65b0\n",
        "my_df3 # \u7d50\u679c\u306e\u78ba\u8a8d\uff08\u5272\u611b\uff09"
      ],
      "id": "1bb2904e-6b42-4faa-9823-072750fdf3f7"
    },
    {
      "cell_type": "code",
      "execution_count": null,
      "metadata": {},
      "outputs": [],
      "source": [
        "my_df[1, 2]\n",
        "#> [1] 60"
      ],
      "id": "d600d06a-eed8-4556-acf1-3ca02a1e2fcc"
    },
    {
      "cell_type": "code",
      "execution_count": null,
      "metadata": {},
      "outputs": [],
      "source": [
        "x <- my_df[, 2]\n",
        "# \u3042\u308b\u3044\u306f\n",
        "x <- my_df$english\n",
        "# \u3042\u308b\u3044\u306f\n",
        "x <- my_df$\"english\"\n",
        "# \u3042\u308b\u3044\u306f\n",
        "x <- my_df[[\"english\"]]\n",
        "# \u3042\u308b\u3044\u306f\n",
        "tmp <- \"english\"\n",
        "x <- my_df[[tmp]]\n",
        "\n",
        "x # \u7d50\u679c\u306e\u78ba\u8a8d\uff08\u5272\u611b\uff09"
      ],
      "id": "6ad6726f-28ce-4076-a966-0f3f63616711"
    },
    {
      "cell_type": "code",
      "execution_count": null,
      "metadata": {},
      "outputs": [],
      "source": [
        "x <- my_df %>% select(name, math)"
      ],
      "id": "465a34f1-de4b-4f0a-b7cc-5b2988e0cd6b"
    },
    {
      "cell_type": "code",
      "execution_count": null,
      "metadata": {},
      "outputs": [],
      "source": [
        "x <- my_df[, c(1, 3)]"
      ],
      "id": "66448877-18dd-4edc-b629-5536d7e0b509"
    },
    {
      "cell_type": "code",
      "execution_count": null,
      "metadata": {},
      "outputs": [],
      "source": [
        "x <- my_df %>%\n",
        "  select(-c(english, gender))\n",
        "# \u3042\u308b\u3044\u306f\n",
        "x <- my_df[, -c(2, 4)]"
      ],
      "id": "cdffb322-f80a-4d9c-a3e1-00d7acad27e9"
    },
    {
      "cell_type": "code",
      "execution_count": null,
      "metadata": {},
      "outputs": [],
      "source": [
        "x <- my_df[c(1, 3), ]"
      ],
      "id": "fa379756-93a6-4d0d-8d46-c5e42d6576fc"
    },
    {
      "cell_type": "code",
      "execution_count": null,
      "metadata": {},
      "outputs": [],
      "source": [
        "x <- my_df[-c(2, 4), ]"
      ],
      "id": "4efdc38a-9f78-4ccd-9313-2248ffbc7b8c"
    },
    {
      "cell_type": "code",
      "execution_count": null,
      "metadata": {},
      "outputs": [],
      "source": [
        "x <- my_df[my_df$gender == \"m\", ]\n",
        "# \u3042\u308b\u3044\u306f\n",
        "x <- my_df %>% filter(gender == \"m\")"
      ],
      "id": "daf84095-6414-40f0-8e2e-751e4256b110"
    },
    {
      "cell_type": "code",
      "execution_count": null,
      "metadata": {},
      "outputs": [],
      "source": [
        "x <- my_df[my_df$english > 80 & my_df$gender == \"m\", ]\n",
        "# \u3042\u308b\u3044\u306f\n",
        "x <- my_df %>% filter(english > 80 & gender == \"m\")"
      ],
      "id": "f1f4e10b-7923-4284-8f9d-3b3391480fa3"
    },
    {
      "cell_type": "code",
      "execution_count": null,
      "metadata": {},
      "outputs": [],
      "source": [
        "x <- my_df[my_df$english == max(my_df$english), ]\n",
        "# \u3042\u308b\u3044\u306f\n",
        "x <- my_df %>% filter(english == max(my_df$english))"
      ],
      "id": "580c2a53-e7db-4ffa-8562-3d1b0e28aea8"
    },
    {
      "cell_type": "code",
      "execution_count": null,
      "metadata": {},
      "outputs": [],
      "source": [
        "my_df2 <- my_df # \u30b3\u30d4\u30fc\n",
        "my_df2[my_df$gender == \"m\", ]$gender <- \"M\""
      ],
      "id": "aedb5911-fa91-4e9e-87a8-69ed8d0d1300"
    },
    {
      "cell_type": "code",
      "execution_count": null,
      "metadata": {},
      "outputs": [],
      "source": [
        "my_df2\n",
        "#>   name english math gender\n",
        "#> 1    A      60   70      f\n",
        "#> 2    B      90   80      M\n",
        "#> 3    C      70   90      M\n",
        "#> 4    D      90  100      f"
      ],
      "id": "08246f22-e332-4f67-be9c-c0c68df1dc8b"
    },
    {
      "cell_type": "code",
      "execution_count": null,
      "metadata": {},
      "outputs": [],
      "source": [
        "x <- my_df %>% arrange(english)"
      ],
      "id": "6035de18-7c65-465a-8d76-daa030001067"
    },
    {
      "cell_type": "code",
      "execution_count": null,
      "metadata": {},
      "outputs": [],
      "source": [
        "x <- my_df %>% arrange(-english)"
      ],
      "id": "0b8ac2ae-3443-41f7-bfc1-93ca107e8443"
    },
    {
      "cell_type": "code",
      "execution_count": null,
      "metadata": {},
      "outputs": [],
      "source": [
        "x <- c(2, 3, 5, 7, 11, 13, 17, 19, 23,\n",
        "       29, 31, 37)\n",
        "A <- matrix(\n",
        "  data = x,     # 1\u6b21\u5143\u30c7\u30fc\u30bf\n",
        "  nrow = 3,     # \u884c\u6570\n",
        "  byrow = TRUE) # \u884c\u3054\u3068\u306e\u751f\u6210\n",
        "A\n",
        "#>      [,1] [,2] [,3] [,4]\n",
        "#> [1,]    2    3    5    7\n",
        "#> [2,]   11   13   17   19\n",
        "#> [3,]   23   29   31   37"
      ],
      "id": "e832f206-0855-4161-a0b9-2e097a923749"
    },
    {
      "cell_type": "code",
      "execution_count": null,
      "metadata": {},
      "outputs": [],
      "source": [
        "A <- my_df[, c(2, 3)] %>% as.matrix\n",
        "A\n",
        "#>      english math\n",
        "#> [1,]      60   70\n",
        "#> [2,]      90   80\n",
        "#> [3,]      70   90\n",
        "#> [4,]      90  100"
      ],
      "id": "e1ac2187-c2c3-407f-a0db-1ae34ed93e92"
    },
    {
      "cell_type": "code",
      "execution_count": null,
      "metadata": {},
      "outputs": [],
      "source": [
        "as.data.frame(A)\n",
        "#>   english math\n",
        "#> 1      60   70\n",
        "#> 2      90   80\n",
        "#> 3      70   90\n",
        "#> 4      90  100"
      ],
      "id": "70a62ae6-7587-41bb-b246-c03f60799684"
    },
    {
      "cell_type": "code",
      "execution_count": null,
      "metadata": {},
      "outputs": [],
      "source": [
        "t(A)\n",
        "#>         [,1] [,2] [,3] [,4]\n",
        "#> english   60   90   70   90\n",
        "#> math      70   80   90  100"
      ],
      "id": "6204eb6e-1d54-4944-908a-6dfee0da675c"
    },
    {
      "cell_type": "code",
      "execution_count": null,
      "metadata": {},
      "outputs": [],
      "source": [
        "t(A) %*% A\n",
        "#>         english  math\n",
        "#> english   24700 26700\n",
        "#> math      26700 29400"
      ],
      "id": "3f2fc3c1-f30b-4634-91a1-d86e72c76449"
    },
    {
      "cell_type": "code",
      "execution_count": null,
      "metadata": {},
      "outputs": [],
      "source": [
        "my_wider <- data.frame(\n",
        "  day = c(25, 26, 27),\n",
        "  min = c(20, 21, 15),\n",
        "  max = c(24, 27, 21))"
      ],
      "id": "04db7ff8-ea4f-484f-aacb-42ca27369e76"
    },
    {
      "cell_type": "code",
      "execution_count": null,
      "metadata": {},
      "outputs": [],
      "source": [
        "my_longer <- my_wider %>%\n",
        "  pivot_longer(-day)\n",
        "my_longer\n",
        "#> # A tibble: 6 x 3\n",
        "#>     day name  value\n",
        "#>   <dbl> <chr> <dbl>\n",
        "#> 1    25 min      20\n",
        "#> 2    25 max      24\n",
        "#> 3    26 min      21\n",
        "#> 4    26 max      27\n",
        "#> 5    27 min      15\n",
        "#> 6    27 max      21"
      ],
      "id": "2751c58c-f044-4315-9054-7bebc8518b7f"
    },
    {
      "cell_type": "code",
      "execution_count": null,
      "metadata": {},
      "outputs": [],
      "source": [
        "my_longer %>% pivot_wider()\n",
        "#> # A tibble: 3 x 3\n",
        "#>     day   min   max\n",
        "#>   <dbl> <dbl> <dbl>\n",
        "#> 1    25    20    24\n",
        "#> 2    26    21    27\n",
        "#> 3    27    15    21"
      ],
      "id": "79447792-434f-420b-aa26-774ca34057ad"
    },
    {
      "cell_type": "code",
      "execution_count": null,
      "metadata": {},
      "outputs": [],
      "source": [
        "my_longer %>%\n",
        "  ggplot(aes(x = day, y = value,\n",
        "             color = name)) +\n",
        "  geom_point() +\n",
        "  geom_line() +\n",
        "  ylab(\"temperature\") + # y\u8ef8\u30e9\u30d9\u30eb\n",
        "  scale_x_continuous(\n",
        "    breaks = my_longer$day) # x\u8ef8\u76ee\u76db\u308a"
      ],
      "id": "5170084b-1fb2-4879-947e-c1cd205c9f77"
    },
    {
      "id": "c7c7f8cd",
      "cell_type": "markdown",
      "source": "## 3.5 1\u6b21\u5143\u30c7\u30fc\u30bf\u306e\uff08\u975e\uff09\u985e\u4f3c\u5ea6",
      "metadata": {}
    },
    {
      "cell_type": "code",
      "execution_count": null,
      "metadata": {},
      "outputs": [],
      "source": [
        "A <- c(3,   4,  5)\n",
        "B <- c(3,   4, 29)\n",
        "C <- c(9, -18,  8)\n",
        "AB <- B - A\n",
        "AC <- C - A\n",
        "\n",
        "sum(AB^2)^0.5\n",
        "#> [1] 24\n",
        "\n",
        "sum(AC^2)^0.5\n",
        "#> [1] 23"
      ],
      "id": "a9e21d9f-b24d-4b5a-bc5a-a016eacb5c91"
    },
    {
      "cell_type": "code",
      "execution_count": null,
      "metadata": {},
      "outputs": [],
      "source": [
        "sum(abs(AB))\n",
        "#> [1] 24\n",
        "\n",
        "sum(abs(AC))\n",
        "#> [1] 31"
      ],
      "id": "9814c061-bc0b-4707-837e-fb4463da359e"
    },
    {
      "cell_type": "code",
      "execution_count": null,
      "metadata": {},
      "outputs": [],
      "source": [
        "sum(A * B) /\n",
        "  sum(A * A)^0.5 / sum(B * B)^0.5\n",
        "#> [1] 0.8169679\n",
        "\n",
        "sum(A * C) /\n",
        "  sum(A * A)^0.5 / sum(C * C)^0.5\n",
        "#> [1] -0.03265116"
      ],
      "id": "0154bcb8-483a-469b-8c97-675f26a2d077"
    },
    {
      "cell_type": "code",
      "execution_count": null,
      "metadata": {},
      "outputs": [],
      "source": [
        "cor(A, B)\n",
        "#> [1] 0.8824975\n",
        "\n",
        "cor(A, C)\n",
        "#> [1] -0.03266277"
      ],
      "id": "a710e9f7-b7fa-4b5d-98f0-714dbfa22a7c"
    },
    {
      "cell_type": "code",
      "execution_count": null,
      "metadata": {},
      "outputs": [],
      "source": [
        "library(tidyverse)\n",
        "\n",
        "\n",
        "\n",
        "my_df <- data.frame(\n",
        "  x = c(3,  3,   9),\n",
        "  y = c(4,  4, -18),\n",
        "  z = c(5, 29,   8),\n",
        "  row.names = c(\"A\", \"B\", \"C\"))\n",
        "\n",
        "# \u30e6\u30fc\u30af\u30ea\u30c3\u30c9\u8ddd\u96e2\n",
        "my_df %>% proxy::dist(\"Euclidean\")\n",
        "#>    A  B\n",
        "#> B 24\n",
        "#> C 23 31\n",
        "\n",
        "\n",
        "# \u30de\u30f3\u30cf\u30c3\u30bf\u30f3\u8ddd\u96e2\n",
        "my_df %>% proxy::dist(\"Manhattan\")\n",
        "#>    A  B\n",
        "#> B 24\n",
        "#> C 31 49\n",
        "\n",
        "\n",
        "# \u30b3\u30b5\u30a4\u30f3\u985e\u4f3c\u5ea6\n",
        "my_df %>% proxy::simil(\"cosine\")\n",
        "#>             A           B\n",
        "#> B  0.81696786\n",
        "#> C -0.03265116  0.29342441\n",
        "\n",
        "\n",
        "# \u76f8\u95a2\u4fc2\u6570\n",
        "my_df %>% proxy::simil(\"correlation\")\n",
        "#>             A           B\n",
        "#> B  0.88249750\n",
        "#> C -0.03266277  0.44124132"
      ],
      "id": "4509e050-238c-44cb-9ba1-d73a210900de"
    },
    {
      "id": "28e2f5f9",
      "cell_type": "markdown",
      "source": "## 3.6 R\u306e\u30d1\u30c3\u30b1\u30fc\u30b8\uff0cPython\u306e\u30e2\u30b8\u30e5\u30fc\u30eb",
      "metadata": {}
    },
    {
      "cell_type": "code",
      "execution_count": null,
      "metadata": {},
      "outputs": [],
      "source": [
        "library(tidyverse)"
      ],
      "id": "8c67b3e6-4320-4bcd-97ce-5b4fb1d3b54e"
    },
    {
      "id": "add94734",
      "cell_type": "markdown",
      "source": "## 3.7 \u53cd\u5fa9\u51e6\u7406",
      "metadata": {}
    },
    {
      "cell_type": "code",
      "execution_count": null,
      "metadata": {},
      "outputs": [],
      "source": [
        "library(tidyverse)"
      ],
      "id": "5d5ffba8-8653-4ee6-a096-a838bb15a3e4"
    },
    {
      "cell_type": "code",
      "execution_count": null,
      "metadata": {},
      "outputs": [],
      "source": [
        "f1 <- function(x) {\n",
        "  tmp <- runif(x)\n",
        "  mean(tmp)\n",
        "}\n",
        "\n",
        "f1(10)           # \u52d5\u4f5c\u78ba\u8a8d\n",
        "#> [1] 0.5776604 # \u7d50\u679c\u306e\u4f8b"
      ],
      "id": "0f394781-2be7-4060-93a1-ae2cf6fd74ce"
    },
    {
      "cell_type": "code",
      "execution_count": null,
      "metadata": {},
      "outputs": [],
      "source": [
        "replicate(n = 3, expr = f1(10))\n",
        "#> [1] 0.4672766 0.4712016 0.5579449"
      ],
      "id": "8d122ad1-d55c-459f-b8bf-7a670cc32c31"
    },
    {
      "cell_type": "code",
      "execution_count": null,
      "metadata": {},
      "outputs": [],
      "source": [
        "rep(x = f1(10), times = 3)\n",
        "#> [1] 0.481329 0.481329 0.481329"
      ],
      "id": "dbe26705-cd36-488f-9d94-6b564b544029"
    },
    {
      "cell_type": "code",
      "execution_count": null,
      "metadata": {},
      "outputs": [],
      "source": [
        "v <- c(5, 10, 100)\n",
        "v %>% map_dbl(f1)\n",
        "#> [1] 0.4857329 0.5322183 0.5084124"
      ],
      "id": "b30dbf73-3358-4fcc-9c98-c97c76518e71"
    },
    {
      "cell_type": "code",
      "execution_count": null,
      "metadata": {},
      "outputs": [],
      "source": [
        "rep(x = 10, times = 3) %>% map_dbl(f1)\n",
        "# \u7d50\u679c\u306f\u5272\u611b"
      ],
      "id": "107e2359-301a-4469-973a-7ccdbb0a47cf"
    },
    {
      "cell_type": "code",
      "execution_count": null,
      "metadata": {},
      "outputs": [],
      "source": [
        "f2 <- function(n) {\n",
        "  tmp <- runif(n)\n",
        "  list(x = n,\n",
        "       p = mean(tmp),\n",
        "       q = sd(tmp))\n",
        "}\n",
        "\n",
        "f2(10) # \u52d5\u4f5c\u78ba\u8a8d\n",
        "#> $x\n",
        "#> [1] 10\n",
        "#>\n",
        "#> $p\n",
        "#> [1] 0.6840032 \uff08\u5e73\u5747\u306e\u4f8b\uff09\n",
        "#>\n",
        "#> $q\n",
        "#> [1] 0.3750788 \uff08\u6a19\u6e96\u504f\u5dee\u306e\u4f8b\uff09"
      ],
      "id": "a3f412e5-e1a3-4f8a-8962-d1c3d417ab3e"
    },
    {
      "cell_type": "code",
      "execution_count": null,
      "metadata": {},
      "outputs": [],
      "source": [
        "v <- c(5, 10, 100)\n",
        "v %>% map_dfr(f2)\n",
        "#>       x     p     q\n",
        "#>   <dbl> <dbl> <dbl>\n",
        "#> 1     5 0.560 0.320\n",
        "#> 2    10 0.559 0.271\n",
        "#> 3   100 0.507 0.283"
      ],
      "id": "1b9522ac-e0bb-4f48-8a91-4ab7d9f54811"
    },
    {
      "cell_type": "code",
      "execution_count": null,
      "metadata": {},
      "outputs": [],
      "source": [
        "f3 <- function(x, y) {\n",
        "  tmp <- runif(x, min = 1,\n",
        "                  max = y + 1) %>%\n",
        "    as.integer\n",
        "  list(x = x,\n",
        "       y = y,\n",
        "       p = mean(tmp),\n",
        "       q = sd(tmp))\n",
        "}\n",
        "\n",
        "f3(x = 10, y = 6) # \u52d5\u4f5c\u78ba\u8a8d\n",
        "#> $x\n",
        "#> [1] 10\n",
        "#>\n",
        "#> $y\n",
        "#> [1] 6\n",
        "#>\n",
        "#> $p\n",
        "#> [1] 3.2 \uff08\u5e73\u5747\u306e\u4f8b\uff09\n",
        "#>\n",
        "#> $q\n",
        "#> [1] 1.316561 \uff08\u6a19\u6e96\u504f\u5dee\u306e\u4f8b\uff09"
      ],
      "id": "34b2ed46-6061-46a1-90fa-117a8b582ca5"
    },
    {
      "cell_type": "code",
      "execution_count": null,
      "metadata": {},
      "outputs": [],
      "source": [
        "my_df <- data.frame(\n",
        "  x = c(5, 10, 100,  5, 10, 100),\n",
        "  y = c(6,  6,   6, 12, 12,  12))\n",
        "\n",
        "my_df %>% pmap_dfr(f3)\n",
        "#>       x     y     p     q\n",
        "#>   <dbl> <dbl> <dbl> <dbl>\n",
        "#> 1     5     6  3     1.41\n",
        "#> 2    10     6  3     1.49\n",
        "#> 3   100     6  3.57  1.78\n",
        "#> 4     5    12  7.6   5.22\n",
        "#> 5    10    12  5.7   3.77\n",
        "#> 6   100    12  6.36  3.59"
      ],
      "id": "52144208-a876-4e6a-8823-393164019098"
    },
    {
      "cell_type": "code",
      "execution_count": null,
      "metadata": {},
      "outputs": [],
      "source": [
        "library(furrr)\n",
        "plan(multisession) # \u6e96\u5099\n",
        "\n",
        "v <- c(5, 10, 100)\n",
        "v %>% future_map_dbl(f1, .options =\n",
        "  furrr_options(seed = TRUE))\n",
        "# \u7d50\u679c\u306f\u5272\u611b"
      ],
      "id": "b38a274e-50aa-426d-b300-2aab8a15cd2f"
    },
    {
      "id": "e469fbad",
      "cell_type": "markdown",
      "source": "## 3.8 \u305d\u306e\u4ed6",
      "metadata": {}
    },
    {
      "cell_type": "code",
      "execution_count": null,
      "metadata": {},
      "outputs": [],
      "source": [
        "x <- 123\n",
        "typeof(x)\n",
        "#> [1] \"double\""
      ],
      "id": "f4c2bf89-5ecc-49c7-a042-ca49675ade4b"
    },
    {
      "cell_type": "code",
      "execution_count": null,
      "metadata": {},
      "outputs": [],
      "source": [
        "?log\n",
        "# \u3042\u308b\u3044\u306f\n",
        "help(log)"
      ],
      "id": "0119ed9f-d128-420e-b165-d3d9efee9849"
    },
    {
      "cell_type": "code",
      "execution_count": null,
      "metadata": {},
      "outputs": [],
      "source": [
        "v <- c(1, NA, 3)\n",
        "v\n",
        "#> [1]  1 NA  3"
      ],
      "id": "a7130b98-1ffa-4e75-a06a-a9a07f46ef36"
    },
    {
      "cell_type": "code",
      "execution_count": null,
      "metadata": {},
      "outputs": [],
      "source": [
        "is.na(v[2])\n",
        "#> [1] TRUE\n",
        "\n",
        "v[2] == NA # \u8aa4\u308a\n",
        "#> [1] NA"
      ],
      "id": "6022021e-15b6-433f-a05c-1004826e289c"
    },
    {
      "id": "3595a080",
      "cell_type": "markdown",
      "source": "# 4 \u7d71\u8a08\u5165\u9580",
      "metadata": {}
    },
    {
      "cell_type": "code",
      "execution_count": null,
      "metadata": {},
      "outputs": [],
      "source": [
        "# Google Colaboratory\u306e\u74b0\u5883\u8a2d\u5b9a\n",
        "if (file.exists(\"/content\")) {\n",
        "  options(Ncpus = parallel::detectCores())\n",
        "  install.packages(c(\"exactci\", \"ggmosaic\", \"pastecs\", \"psych\", \"vcd\"))\n",
        "}"
      ],
      "id": "b3dcda95-12b7-48bf-b42f-1b2aba1d176b"
    },
    {
      "id": "7fb2fae7",
      "cell_type": "markdown",
      "source": "## 4.1 \u8a18\u8ff0\u7d71\u8a08",
      "metadata": {}
    },
    {
      "cell_type": "code",
      "execution_count": null,
      "metadata": {},
      "outputs": [],
      "source": [
        "x <- c(165, 170, 175, 180, 185)\n",
        "mean(x) # \u5e73\u5747\n",
        "#> [1] 175"
      ],
      "id": "3523bc0b-c786-4b47-8287-6c59a9e4dd0c"
    },
    {
      "cell_type": "code",
      "execution_count": null,
      "metadata": {},
      "outputs": [],
      "source": [
        "n <- length(x) # \u30b5\u30f3\u30d7\u30eb\u30b5\u30a4\u30ba\n",
        "sum(x) / n\n",
        "#> [1] 175"
      ],
      "id": "4a451656-cd14-4cbf-be19-20c9d794a3ad"
    },
    {
      "cell_type": "code",
      "execution_count": null,
      "metadata": {},
      "outputs": [],
      "source": [
        "y <- c(173, 174, 175, 176, 177)\n",
        "mean(y)\n",
        "#> [1] 175"
      ],
      "id": "28375509-d85b-4f0f-898a-f27460e47fc7"
    },
    {
      "cell_type": "code",
      "execution_count": null,
      "metadata": {},
      "outputs": [],
      "source": [
        "var(x) # x\u306e\u5206\u6563\n",
        "#> [1] 62.5\n",
        "\n",
        "var(y) # y\u306e\u5206\u6563\n",
        "#> [1] 2.5"
      ],
      "id": "4aece15d-b31b-4dc7-af59-ccb09b5747f6"
    },
    {
      "cell_type": "code",
      "execution_count": null,
      "metadata": {},
      "outputs": [],
      "source": [
        "sum((x - mean(x))^2) / (n - 1)\n",
        "#> [1] 62.5"
      ],
      "id": "eeff772f-7ad8-40d2-ab6b-cf1358be3357"
    },
    {
      "cell_type": "code",
      "execution_count": null,
      "metadata": {},
      "outputs": [],
      "source": [
        "sd(x) # x\u306e\u6a19\u6e96\u504f\u5dee\n",
        "#> [1] 7.905694\n",
        "\n",
        "sd(y) # y\u306e\u6a19\u6e96\u504f\u5dee\n",
        "#> [1] 1.581139"
      ],
      "id": "eb75544a-e0cd-41a4-aa9b-cf643d9b2bc8"
    },
    {
      "cell_type": "code",
      "execution_count": null,
      "metadata": {},
      "outputs": [],
      "source": [
        "var(x)**0.5 # x\u306e\u6a19\u6e96\u504f\u5dee\n",
        "#> [1] 7.905694"
      ],
      "id": "4649f1d8-766e-407f-9459-36f8d56a42d6"
    },
    {
      "cell_type": "code",
      "execution_count": null,
      "metadata": {},
      "outputs": [],
      "source": [
        "psych::describe(x)\n",
        "#>    vars n mean   sd ...\n",
        "#> X1    1 5  175 7.91 ...\n",
        "\n",
        "# \u3042\u308b\u3044\u306f\n",
        "\n",
        "pastecs::stat.desc(x)\n",
        "#>      nbr.val ...   std.dev ...\n",
        "#>    5.0000000 ... 7.9056942 ..."
      ],
      "id": "35c8718c-51b7-49ff-aa37-ba8e2cb0b63b"
    },
    {
      "cell_type": "code",
      "execution_count": null,
      "metadata": {},
      "outputs": [],
      "source": [
        "quantile(x)\n",
        "#>   0%  25%  50%  75% 100%\n",
        "#>  165  170  175  180  185"
      ],
      "id": "b74cb31a-c66e-467e-958a-dbb201519640"
    },
    {
      "cell_type": "code",
      "execution_count": null,
      "metadata": {},
      "outputs": [],
      "source": [
        "x <- c(165, 170, 175, 180, 185)\n",
        "\n",
        "var(x)                # \u4e0d\u504f\u5206\u6563\n",
        "#> [1] 62.5\n",
        "\n",
        "mean((x - mean(x))^2) # \u6a19\u672c\u5206\u6563\n",
        "# \u3042\u308b\u3044\u306f\n",
        "n <- length(x)\n",
        "var(x) * (n - 1) / n  # \u6a19\u672c\u5206\u6563\n",
        "#> [1] 50"
      ],
      "id": "616ed469-25a5-474d-84fc-978bbdb15572"
    },
    {
      "cell_type": "code",
      "execution_count": null,
      "metadata": {},
      "outputs": [],
      "source": [
        "sd(x)                     # \u221a\u4e0d\u504f\u5206\u6563\n",
        "#> [1] 7.905694\n",
        "\n",
        "mean((x - mean(x))^2)^0.5 # \u221a\u6a19\u672c\u5206\u6563\n",
        "# \u3042\u308b\u3044\u306f\n",
        "sd(x) * sqrt((n - 1) / n) # \u221a\u6a19\u672c\u5206\u6563\n",
        "#> [1] 7.071068"
      ],
      "id": "a25a7aab-71d4-400d-b985-57e8f338934b"
    },
    {
      "cell_type": "code",
      "execution_count": null,
      "metadata": {},
      "outputs": [],
      "source": [
        "sd(x) / length(x)**0.5\n",
        "#> [1] 3.535534"
      ],
      "id": "a0b2ea0d-e140-4dea-bf75-246904fbfa97"
    },
    {
      "cell_type": "code",
      "execution_count": null,
      "metadata": {},
      "outputs": [],
      "source": [
        "library(tidyverse)\n",
        "\n",
        "my_df <- data.frame(\n",
        "  name    = c(\"A\", \"B\", \"C\", \"D\"),\n",
        "  english = c( 60,  90,  70,  90),\n",
        "  math    = c( 70,  80,  90, 100),\n",
        "  gender  = c(\"f\", \"m\", \"m\", \"f\"))"
      ],
      "id": "4a4d53b0-1f6e-4250-8750-956518fb4569"
    },
    {
      "cell_type": "code",
      "execution_count": null,
      "metadata": {},
      "outputs": [],
      "source": [
        "var(my_df$english)\n",
        "#> [1] 225"
      ],
      "id": "c4882467-576c-4a1c-8521-f872a2cea608"
    },
    {
      "cell_type": "code",
      "execution_count": null,
      "metadata": {},
      "outputs": [],
      "source": [
        "# \u7d50\u679c\u306f\u30d9\u30af\u30bf\n",
        "my_df[, c(2, 3)] %>% sapply(var)\n",
        "#> english     math\n",
        "#> 225.0000 166.6667\n",
        "\n",
        "# \u7d50\u679c\u306f\u30ea\u30b9\u30c8\n",
        "my_df[, c(2, 3)] %>% lapply(var)\n",
        "#> $english\n",
        "#> [1] 225\n",
        "#>\n",
        "#> $math\n",
        "#> [1] 166.6667\n",
        "\n",
        "# \u7d50\u679c\u306f\u30c7\u30fc\u30bf\u30d5\u30ec\u30fc\u30e0\n",
        "my_df[, c(2, 3)] %>% # 2, 3\u5217\u76ee\n",
        "  summarize(across(  # \u306e\n",
        "    everything(),    # \u5168\u3066\u306e\n",
        "    var))            # \u4e0d\u504f\u5206\u6563\n",
        "# \u3042\u308b\u3044\u306f\n",
        "my_df %>%              # \u30c7\u30fc\u30bf\u30d5\u30ec\u30fc\u30e0\n",
        "  summarize(across(    # \u306e\n",
        "    where(is.numeric), # \u6570\u5024\u306e\u5217\u306e\n",
        "    var))              # \u4e0d\u504f\u5206\u6563\n",
        "# \u3042\u308b\u3044\u306f\n",
        "my_df %>%              # \u30c7\u30fc\u30bf\u30d5\u30ec\u30fc\u30e0\n",
        "  summarize(across(    # \u306e\n",
        "    where(is.numeric), # \u6570\u5024\u306e\u5217\u306e\n",
        "    function(x) { var(x) })) # \u4e0d\u504f\u5206\u6563\n",
        "\n",
        "#>   english     math\n",
        "#> 1     225 166.6667"
      ],
      "id": "2d761f74-62d1-4988-8811-4c5d98a91855"
    },
    {
      "cell_type": "code",
      "execution_count": null,
      "metadata": {},
      "outputs": [],
      "source": [
        "psych::describe(my_df)\n",
        "#>         vars n mean    sd ...\n",
        "#> name*      1 4  2.5  1.29 ...\n",
        "#> english    2 4 77.5 15.00 ...\n",
        "#> math       3 4 85.0 12.91 ...\n",
        "#> gender*    4 4  1.5  0.58 ...\n",
        "\n",
        "# \u3042\u308b\u3044\u306f\n",
        "\n",
        "pastecs::stat.desc(my_df)\n",
        "#>          name     english ...\n",
        "#> nbr.val    NA   4.0000000 ...\n",
        "#> nbr.null   NA   0.0000000 ...\n",
        "#> nbr.na     NA   0.0000000 ...\n",
        "#> min        NA  60.0000000 ...\n",
        "#> max        NA  90.0000000 ...\n",
        "# \u4ee5\u4e0b\u7701\u7565"
      ],
      "id": "889fcbee-eb8d-4759-a153-7704169f64e4"
    },
    {
      "cell_type": "code",
      "execution_count": null,
      "metadata": {},
      "outputs": [],
      "source": [
        "table(my_df$gender)\n",
        "\n",
        "#> f m\n",
        "#> 2 2"
      ],
      "id": "6b3ef0ed-ede6-4441-b6bc-4849fa09523b"
    },
    {
      "cell_type": "code",
      "execution_count": null,
      "metadata": {},
      "outputs": [],
      "source": [
        "my_df2 <- data.frame(\n",
        "  gender = my_df$gender,\n",
        "  excel = my_df$math >= 80)\n",
        "table(my_df2)\n",
        "\n",
        "#>       excel\n",
        "#> gender FALSE TRUE\n",
        "#>      f     1    1\n",
        "#>      m     0    2"
      ],
      "id": "c3fceb30-fd5d-467d-a3a6-f9f8670589f2"
    },
    {
      "cell_type": "code",
      "execution_count": null,
      "metadata": {},
      "outputs": [],
      "source": [
        "my_df %>% group_by(gender) %>%\n",
        "  summarize(across(\n",
        "    where(is.numeric), mean),\n",
        "    .groups = \"drop\") # \u30b0\u30eb\u30fc\u30d7\u5316\u89e3\u9664\n",
        "\n",
        "#> # A tibble: 2 x 3\n",
        "#>   gender english  math\n",
        "#>   <chr>    <dbl> <dbl>\n",
        "#> 1 f           75    85\n",
        "#> 2 m           80    85"
      ],
      "id": "a1d2ec4c-af1f-46ca-b38e-acff74f3a982"
    },
    {
      "id": "c64e0348",
      "cell_type": "markdown",
      "source": "## 4.2 \u30c7\u30fc\u30bf\u306e\u53ef\u8996\u5316",
      "metadata": {}
    },
    {
      "cell_type": "code",
      "execution_count": null,
      "metadata": {},
      "outputs": [],
      "source": [
        "head(iris)\n",
        "#>   Sepal.Length Sepal.Width Petal.Length Petal.Width Species\n",
        "#> 1          5.1         3.5          1.4         0.2  setosa\n",
        "#> 2          4.9         3.0          1.4         0.2  setosa\n",
        "#> 3          4.7         3.2          1.3         0.2  setosa\n",
        "#> 4          4.6         3.1          1.5         0.2  setosa\n",
        "#> 5          5.0         3.6          1.4         0.2  setosa\n",
        "#> 6          5.4         3.9          1.7         0.4  setosa"
      ],
      "id": "7f48cc73-55b2-4459-97c7-19d37539e361"
    },
    {
      "cell_type": "code",
      "execution_count": null,
      "metadata": {},
      "outputs": [],
      "source": [
        "hist(iris$Sepal.Length)"
      ],
      "id": "55562865-7bd5-4d4a-bc96-b862bd5fd18c"
    },
    {
      "cell_type": "code",
      "execution_count": null,
      "metadata": {},
      "outputs": [],
      "source": [
        "x <- c(10, 20, 30)\n",
        "hist(x, breaks = 2) # \u968e\u7d1a\u6570\u306f2"
      ],
      "id": "e8ceb58c-c730-478f-b8d8-1c9089a13818"
    },
    {
      "cell_type": "code",
      "execution_count": null,
      "metadata": {},
      "outputs": [],
      "source": [
        "x <- iris$Sepal.Length\n",
        "tmp <- seq(min(x), max(x),\n",
        "           length.out = 10)\n",
        "hist(x, breaks = tmp, right = FALSE)"
      ],
      "id": "e190eda0-eb93-4afe-84e7-b395ab84d239"
    },
    {
      "cell_type": "code",
      "execution_count": null,
      "metadata": {},
      "outputs": [],
      "source": [
        "plot(iris$Sepal.Length,\n",
        "     iris$Sepal.Width)"
      ],
      "id": "7ee052fb-55d4-4504-925c-410c9fb514a5"
    },
    {
      "cell_type": "code",
      "execution_count": null,
      "metadata": {},
      "outputs": [],
      "source": [
        "boxplot(iris[, -5])"
      ],
      "id": "0055d60c-4a57-4134-8f3b-20dc41e39c9c"
    },
    {
      "cell_type": "code",
      "execution_count": null,
      "metadata": {},
      "outputs": [],
      "source": [
        "library(tidyverse)\n",
        "my_df <- psych::describe(iris[, -5])\n",
        "my_df %>% select(mean, sd, se)\n",
        "#>              mean   sd   se\n",
        "#> Sepal.Length 5.84 0.83 0.07\n",
        "#> Sepal.Width  3.06 0.44 0.04\n",
        "#> Petal.Length 3.76 1.77 0.14\n",
        "#> Petal.Width  1.20 0.76 0.06"
      ],
      "id": "5c99fb55-a341-4e60-902a-3cda3104c968"
    },
    {
      "cell_type": "code",
      "execution_count": null,
      "metadata": {},
      "outputs": [],
      "source": [
        "tmp <- rownames(my_df)\n",
        "my_df %>% ggplot(aes(x = factor(tmp, levels = tmp), y = mean)) +\n",
        "  geom_col() +\n",
        "  geom_errorbar(aes(ymin = mean - se, ymax = mean + se)) +\n",
        "  xlab(NULL)"
      ],
      "id": "732903fd-c74e-42b7-bda2-d69f84ccde6c"
    },
    {
      "cell_type": "code",
      "execution_count": null,
      "metadata": {},
      "outputs": [],
      "source": [
        "my_group <- iris %>% group_by(Species)       # \u54c1\u7a2e\u3054\u3068\u306b\uff0c\n",
        "\n",
        "my_df <- my_group %>%                        # \u5404\u5909\u6570\u306e\uff0c\u5e73\u5747\u3068\n",
        "  summarize(across(everything(), mean)) %>%\n",
        "  pivot_longer(-Species)\n",
        "\n",
        "tmp <- my_group %>%                          # \u6a19\u6e96\u8aa4\u5dee\u3092\u6c42\u3081\u308b\uff0e\n",
        "  summarize(across(everything(), ~ sd(.) / length(.)**0.5)) %>%\n",
        "  pivot_longer(-Species)\n",
        "\n",
        "my_df$se <- tmp$value\n",
        "head(my_df)\n",
        "#> # A tibble: 6 x 4\n",
        "#>   Species    name         value     se\n",
        "#>   <fct>      <chr>        <dbl>  <dbl>\n",
        "#> 1 setosa     Sepal.Length 5.01  0.0498\n",
        "#> 2 setosa     Sepal.Width  3.43  0.0536\n",
        "#> 3 setosa     Petal.Length 1.46  0.0246\n",
        "#> 4 setosa     Petal.Width  0.246 0.0149\n",
        "#> 5 versicolor Sepal.Length 5.94  0.0730\n",
        "#> 6 versicolor Sepal.Width  2.77  0.0444"
      ],
      "id": "3c79d144-3383-4eb4-8d98-18aea1751985"
    },
    {
      "cell_type": "code",
      "execution_count": null,
      "metadata": {},
      "outputs": [],
      "source": [
        "my_df %>%\n",
        "  ggplot(aes(x = Species, y = value, fill = name)) +\n",
        "  geom_col(position = \"dodge\") +\n",
        "  geom_errorbar(aes(ymin = value - se, ymax = value + se), position = \"dodge\")"
      ],
      "id": "e9e43161-b4d8-4b43-9b5b-ff1abc3fa0a3"
    },
    {
      "cell_type": "code",
      "execution_count": null,
      "metadata": {},
      "outputs": [],
      "source": [
        "# \u5404\u5909\u6570\u306e\u5e73\u5747\n",
        "iris %>% pivot_longer(-Species) %>%\n",
        "  ggplot(aes(x = name, y = value)) +\n",
        "  geom_bar(stat = \"summary\", fun = mean) +\n",
        "  stat_summary(geom = \"errorbar\", fun.data = mean_se) +\n",
        "  xlab(NULL)\n",
        "\n",
        "# \u5404\u5909\u6570\u306e\u5e73\u5747\uff08\u54c1\u7a2e\u3054\u3068\uff09\n",
        "iris %>% pivot_longer(-Species) %>%\n",
        "  ggplot(aes(x = Species, y = value, fill = name)) +\n",
        "  geom_bar(stat = \"summary\", fun = mean, position = \"dodge\") +\n",
        "  stat_summary(geom = \"errorbar\", fun.data = mean_se, position = \"dodge\")"
      ],
      "id": "05d1baa0-3ff2-46f5-b385-2c7aa6b052ba"
    },
    {
      "cell_type": "code",
      "execution_count": null,
      "metadata": {},
      "outputs": [],
      "source": [
        "my_df <- data.frame(\n",
        "  Species = iris$Species,\n",
        "  w_Sepal = iris$Sepal.Width > 3)\n",
        "table(my_df) # \u5206\u5272\u8868\n",
        "#>             w_Sepal\n",
        "#> Species      FALSE TRUE\n",
        "#>   setosa         8   42\n",
        "#>   versicolor    42    8\n",
        "#>   virginica     33   17\n",
        "\n",
        "mosaicplot(\n",
        "  formula = ~ Species + w_Sepal,\n",
        "  data = my_df)"
      ],
      "id": "c25fe1bd-bbb7-44fc-ac91-503c93f33e01"
    },
    {
      "cell_type": "code",
      "execution_count": null,
      "metadata": {},
      "outputs": [],
      "source": [
        "library(vcd)\n",
        "vcd::mosaic(formula = ~w_Sepal + Species, data = my_df,\n",
        "            labeling = labeling_values)"
      ],
      "id": "36a30ad5-05af-4a11-be09-1e0ff032e95a"
    },
    {
      "cell_type": "code",
      "execution_count": null,
      "metadata": {},
      "outputs": [],
      "source": [
        "curve(x^3 - x, -2, 2)"
      ],
      "id": "7369dbe0-7bb1-42aa-adbb-752e4f0a0774"
    },
    {
      "cell_type": "code",
      "execution_count": null,
      "metadata": {},
      "outputs": [],
      "source": [
        "x <- iris$Sepal.Length\n",
        "tmp <- seq(min(x), max(x),\n",
        "           length.out = 10)\n",
        "iris %>%\n",
        "  ggplot(aes(x = Sepal.Length)) +\n",
        "  geom_histogram(breaks = tmp,\n",
        "                 closed = \"left\")"
      ],
      "id": "dc9078f4-7a66-4805-86d1-10dfda43c6b4"
    },
    {
      "cell_type": "code",
      "execution_count": null,
      "metadata": {},
      "outputs": [],
      "source": [
        "iris %>%\n",
        "  ggplot(aes(x = Sepal.Length,\n",
        "             y = Sepal.Width)) +\n",
        "  geom_point()"
      ],
      "id": "61dd3fc8-b633-4499-af59-8d153c6e5e4a"
    },
    {
      "cell_type": "code",
      "execution_count": null,
      "metadata": {},
      "outputs": [],
      "source": [
        "iris %>%\n",
        "  pivot_longer(-Species) %>%\n",
        "  ggplot(aes(\n",
        "    x = factor(name,\n",
        "               levels = names(iris)),\n",
        "    y = value)) +\n",
        "  geom_boxplot() +\n",
        "  xlab(NULL)"
      ],
      "id": "61f921ce-59f0-4aa7-bafa-4805f3bd57ce"
    },
    {
      "cell_type": "code",
      "execution_count": null,
      "metadata": {},
      "outputs": [],
      "source": [
        "library(ggmosaic)\n",
        "my_df <- data.frame(\n",
        "  Species = iris$Species,\n",
        "  w_Sepal = iris$Sepal.Width > 3)\n",
        "my_df %>%\n",
        "  ggplot() +\n",
        "  geom_mosaic(\n",
        "    aes(x = product(w_Sepal, Species)))"
      ],
      "id": "cae63745-1991-45bf-ba57-0780af5cc6b6"
    },
    {
      "cell_type": "code",
      "execution_count": null,
      "metadata": {},
      "outputs": [],
      "source": [
        "f <- function(x) { x^3 - x }\n",
        "data.frame(x = c(-2, 2)) %>%\n",
        "  ggplot(aes(x = x)) +\n",
        "  stat_function(fun = f)"
      ],
      "id": "f5abda2c-cab9-48c4-aad7-566c9870b734"
    },
    {
      "id": "225e662d",
      "cell_type": "markdown",
      "source": "## 4.3 \u4e71\u6570",
      "metadata": {}
    },
    {
      "cell_type": "code",
      "execution_count": null,
      "metadata": {},
      "outputs": [],
      "source": [
        "x <- sample(x = 1:6,        # \u7bc4\u56f2\n",
        "            size = 10000,   # \u4e71\u6570\u306e\u6570\n",
        "            replace = TRUE) # \u91cd\u8907\u3042\u308a\n",
        "hist(x, breaks = 0:6) # \u30d2\u30b9\u30c8\u30b0\u30e9\u30e0"
      ],
      "id": "21d96525-0a0b-4ef3-a42a-3bcc723a7025"
    },
    {
      "cell_type": "code",
      "execution_count": null,
      "metadata": {},
      "outputs": [],
      "source": [
        "x <- runif(min = 0,  # \u6700\u5c0f\n",
        "           max = 1,  # \u6700\u5927\n",
        "           n = 1000) # \u4e71\u6570\u306e\u6570\n",
        "hist(x)"
      ],
      "id": "e46ebdcf-6266-415e-8e1b-ed051cfea6bc"
    },
    {
      "cell_type": "code",
      "execution_count": null,
      "metadata": {},
      "outputs": [],
      "source": [
        "x <- as.integer(      # \u6574\u6570\u306b\u5909\u63db\n",
        "  runif(min = 1,      # \u6700\u5c0f\n",
        "        max = 7,      # \u6700\u5927 + 1\n",
        "        n = 1000))    # \u4e71\u6570\u306e\u6570\n",
        "hist(x, breaks = 0:6) # \u7d50\u679c\u306f\u5272\u611b"
      ],
      "id": "65ca7f9c-c848-4257-a379-c3b745e4b58c"
    },
    {
      "cell_type": "code",
      "execution_count": null,
      "metadata": {},
      "outputs": [],
      "source": [
        "n <- 100\n",
        "p <- 0.5\n",
        "r <- 10000\n",
        "x <- rbinom(size = n, # \u8a66\u884c\u56de\u6570\n",
        "            prob = p, # \u78ba\u7387\n",
        "            n = r)    # \u4e71\u6570\u306e\u6570\n",
        "hist(x, breaks = max(x) - min(x))"
      ],
      "id": "3eb7095f-d555-449a-a515-d2dbc5a60a2e"
    },
    {
      "cell_type": "code",
      "execution_count": null,
      "metadata": {},
      "outputs": [],
      "source": [
        "r <- 10000\n",
        "x <- rnorm(mean = 50, # \u5e73\u5747\n",
        "           sd = 5,    # \u6a19\u6e96\u504f\u5dee\n",
        "           n = r)     # \u4e71\u6570\u306e\u6570\n",
        "hist(x, breaks = 40)"
      ],
      "id": "fc6542cb-98e1-4b71-bf5a-c09e86b835d4"
    },
    {
      "cell_type": "code",
      "execution_count": null,
      "metadata": {},
      "outputs": [],
      "source": [
        "library(tidyverse)\n",
        "\n",
        "f <- function(k) {\n",
        "  n <- 10000\n",
        "  tmp <- replicate(n = n, expr = g(rnorm(n =  k, sd = 3)))\n",
        "  list(k = k,\n",
        "       mean = mean(tmp),       # \u5e73\u5747\n",
        "       se = sd(tmp) / sqrt(n)) # \u6a19\u6e96\u8aa4\u5dee\n",
        "}"
      ],
      "id": "d75377f2-c986-4e57-ad71-51e047432ce4"
    },
    {
      "cell_type": "code",
      "execution_count": null,
      "metadata": {},
      "outputs": [],
      "source": [
        "g <- var\n",
        "c(10, 20, 30) %>% map_dfr(f)\n",
        "#> # A tibble: 3 x 3\n",
        "#>       k  mean     se\n",
        "#>   <dbl> <dbl>  <dbl>\n",
        "#> 1    10  8.98 0.0427\n",
        "#> 2    20  8.97 0.0288\n",
        "#> 3    30  9.03 0.0233"
      ],
      "id": "023f306b-c862-4b84-9812-e300cdcd667d"
    },
    {
      "cell_type": "code",
      "execution_count": null,
      "metadata": {},
      "outputs": [],
      "source": [
        "g <- sd\n",
        "c(5, 10, 15, 20) %>% map_dfr(f)\n",
        "#> # A tibble: 3 x 3\n",
        "#>       k  mean      se\n",
        "#>   <dbl> <dbl>   <dbl>\n",
        "#> 1    10  2.92 0.00701\n",
        "#> 2    20  2.95 0.00481\n",
        "#> 3    30  2.97 0.00394"
      ],
      "id": "91ccc91c-1ba2-40c2-ab01-e2529d764ed6"
    },
    {
      "cell_type": "code",
      "execution_count": null,
      "metadata": {},
      "outputs": [],
      "source": [
        "g <- function(x) {\n",
        "  n <- length(x)\n",
        "  sd(x) *\n",
        "    sqrt((n - 1) / 2) *\n",
        "    gamma((n - 1) / 2) /\n",
        "    gamma(n / 2)\n",
        "}\n",
        "c(10, 20, 30) %>% map_dfr(f)\n",
        "#> # A tibble: 3 x 3\n",
        "#>       k  mean      se\n",
        "#>   <dbl> <dbl>   <dbl>\n",
        "#> 1    10  3.00 0.00717\n",
        "#> 2    20  2.99 0.00488\n",
        "#> 3    30  3.00 0.00396"
      ],
      "id": "98d797d7-f6a5-456b-acab-49a12f216b8c"
    },
    {
      "id": "6c028227",
      "cell_type": "markdown",
      "source": "## 4.4 \u7d71\u8a08\u7684\u63a8\u6e2c",
      "metadata": {}
    },
    {
      "cell_type": "code",
      "execution_count": null,
      "metadata": {},
      "outputs": [],
      "source": [
        "library(exactci)\n",
        "library(tidyverse)\n",
        "\n",
        "a <- 0.05                              # \u6709\u610f\u6c34\u6e96\n",
        "binom.exact(x = 2,                     # \u5f53\u305f\u3063\u305f\u56de\u6570\n",
        "            n = 15,                    # \u304f\u3058\u3092\u5f15\u3044\u305f\u56de\u6570\n",
        "            p = 4 / 10,                # \u5f53\u305f\u308b\u78ba\u7387\uff08\u4eee\u8aac\uff09\n",
        "            plot = TRUE,               # p\u5024\u306e\u63cf\u753b\uff08\u7d50\u679c\u306f\u6b21\u9805\u306b\u63b2\u8f09\uff09\n",
        "            conf.level = 1 - a,        # \u4fe1\u983c\u4fc2\u6570\uff08\u30c7\u30d5\u30a9\u30eb\u30c8\uff09\n",
        "            tsmethod = \"minlike\",      # p\u5024\u306e\u5b9a\u7fa9\n",
        "            alternative = \"two.sided\") # \u4e21\u5074\u691c\u5b9a\uff08\u30c7\u30d5\u30a9\u30eb\u30c8\uff09\n",
        "                                       # \u5de6\u7247\u5074\u691c\u5b9a\u306a\u3089'less'\n",
        "                                       # \u53f3\u7247\u5074\u691c\u5b9a\u306a\u3089'greater'\n",
        "\n",
        "#>  Exact two-sided binomial test (central method)\n",
        "#>\n",
        "#> data:  2 and 15\n",
        "#> number of successes = 2, number of trials = 15,\n",
        "#> p-value = 0.03646\n",
        "#> alternative hypothesis: true probability of success is not equal to 0.4\n",
        "#> 95 percent confidence interval:\n",
        "#>  0.0242 0.3967\n",
        "#> sample estimates:\n",
        "#> probability of success\n",
        "#>              0.1333333"
      ],
      "id": "405bfb61-4597-4d7d-a6b5-5b5865e99cf3"
    },
    {
      "cell_type": "code",
      "execution_count": null,
      "metadata": {},
      "outputs": [],
      "source": [
        "t <- 4 / 10               # \u5f53\u305f\u308b\u78ba\u7387\n",
        "n <- 15                   # \u304f\u3058\u3092\u5f15\u3044\u305f\u56de\u6570\n",
        "x <- 0:n                  # \u5f53\u305f\u3063\u305f\u56de\u6570\n",
        "my_pr  <- dbinom(x, n, t) # x\u56de\u5f53\u305f\u308b\u78ba\u7387\n",
        "my_pr2 <- dbinom(2, n, t) # 2\u56de\u5f53\u305f\u308b\u78ba\u7387\n",
        "\n",
        "my_data <- data.frame(x = x,\n",
        "                      probability = my_pr,\n",
        "                      color = my_pr <= my_pr2) # \u5f53\u305f\u308b\u78ba\u7387\u304c\uff0c2\u56de\u5f53\u305f\u308b\u78ba\u7387\u4ee5\u4e0b\n",
        "\n",
        "my_data %>% ggplot(aes(x = x, y = probability, color = color)) +\n",
        "  geom_point(size = 3) +\n",
        "  geom_linerange(aes(ymin = 0, ymax = probability), ) + # \u5782\u76f4\u7dda\n",
        "  geom_hline(yintercept = my_pr2) +                     # \u6c34\u5e73\u7dda\n",
        "  theme(legend.position = \"none\")                       # \u51e1\u4f8b\u3092\u8868\u793a\u3057\u306a\u3044\uff0e"
      ],
      "id": "6ad3878d-882f-4c81-9099-1f0d8a6a62ed"
    },
    {
      "cell_type": "code",
      "execution_count": null,
      "metadata": {},
      "outputs": [],
      "source": [
        "# \u524d\u9805\u306e\u7d50\u679c\uff08\u518d\u63b2\uff09\n",
        "#> 95 percent confidence interval:\n",
        "#>  0.0242 0.3967"
      ],
      "id": "94d1c453-be32-49be-9a20-9e737878c3fa"
    },
    {
      "cell_type": "code",
      "execution_count": null,
      "metadata": {},
      "outputs": [],
      "source": [
        "# \u524d\u9805\u5192\u982d\u306e\u30b3\u30fc\u30c9"
      ],
      "id": "334644af-5266-4c2d-af84-3f6ff2fac45e"
    },
    {
      "cell_type": "code",
      "execution_count": null,
      "metadata": {},
      "outputs": [],
      "source": [
        "X <- c(32.1, 26.2, 27.5, 31.8, 32.1, 31.2, 30.1, 32.4, 32.3, 29.9,\n",
        "       29.6, 26.6, 31.2, 30.9, 29.3)\n",
        "Y <- c(35.4, 34.6, 31.1, 32.4, 33.3, 34.7, 35.3, 34.3, 32.1, 28.3,\n",
        "       33.3, 30.5, 32.6, 33.3, 32.2)\n",
        "\n",
        "t.test(x = X, y = Y,\n",
        "       conf.level = 0.95,         # \u4fe1\u983c\u4fc2\u6570\uff08\u30c7\u30d5\u30a9\u30eb\u30c8\uff09\n",
        "       paired = TRUE,             # \u5bfe\u6a19\u672c\u3067\u3042\u308b\uff0e\n",
        "       alternative = \"two.sided\") # \u4e21\u5074\u691c\u5b9a\uff08\u30c7\u30d5\u30a9\u30eb\u30c8\uff09\n",
        "                                  # \u5de6\u7247\u5074\u691c\u5b9a\u306a\u3089'less'\n",
        "                                  # \u53f3\u7247\u5074\u691c\u5b9a\u306a\u3089'greater'\n",
        "\n",
        "#>  Paired t-test\n",
        "#>\n",
        "#> data:  X and Y\n",
        "#> t = -4.3694, df = 14, p-value = 0.0006416\n",
        "#> alternative hypothesis: true difference in means is not equal to 0\n",
        "#> 95 percent confidence interval:\n",
        "#>  -3.995525 -1.364475\n",
        "#> sample estimates:\n",
        "#> mean of the differences\n",
        "#>                   -2.68"
      ],
      "id": "c59ac0f7-3375-4a18-9d44-23582494e66d"
    },
    {
      "cell_type": "code",
      "execution_count": null,
      "metadata": {},
      "outputs": [],
      "source": [
        "t.test(x = X, y = Y,\n",
        "       paired = FALSE,   # \u5bfe\u6a19\u672c\u3067\u306f\u306a\u3044\uff08\u30c7\u30d5\u30a9\u30eb\u30c8\uff09\uff0e\n",
        "       var.equal = TRUE, # \u7b49\u5206\u6563\u3092\u4eee\u5b9a\u3059\u308b\uff0e\u4eee\u5b9a\u3057\u306a\u3044\u306a\u3089FALSE\uff08\u30c7\u30d5\u30a9\u30eb\u30c8\uff09\uff0e\n",
        "       alternative = \"two.sided\",\n",
        "       conf.level = 0.95)\n",
        "\n",
        "#>  Two Sample t-test\n",
        "#>\n",
        "#> data:  X and Y\n",
        "#> t = -3.6821, df = 28, p-value = 0.0009785\n",
        "#> alternative hypothesis: true difference in means is not equal to 0\n",
        "#> 95 percent confidence interval:\n",
        "#>  -4.170906 -1.189094\n",
        "#> sample estimates:\n",
        "#> mean of x mean of y\n",
        "#>  30.21333  32.89333"
      ],
      "id": "d124a942-2a81-479e-accc-61bb72cec386"
    },
    {
      "cell_type": "code",
      "execution_count": null,
      "metadata": {},
      "outputs": [],
      "source": [
        "my_url <- str_c(\"https://raw.githubusercontent.com/taroyabuki\",\n",
        "                \"/fromzero/master/data/smoker.csv\")\n",
        "my_data <- read_csv(my_url)"
      ],
      "id": "d8e44619-f61a-43b6-9b41-6ecee52eb4ba"
    },
    {
      "cell_type": "code",
      "execution_count": null,
      "metadata": {},
      "outputs": [],
      "source": [
        "head(my_data)\n",
        "#>   alive smoker\n",
        "#> 1   Yes     No\n",
        "#> 2   Yes     No\n",
        "#> 3   Yes     No\n",
        "#> 4   Yes     No\n",
        "#> 5   Yes     No\n",
        "#> 6   Yes     No"
      ],
      "id": "7740bb86-dd1b-40ba-b270-18e7669b084a"
    },
    {
      "cell_type": "code",
      "execution_count": null,
      "metadata": {},
      "outputs": [],
      "source": [
        "my_table <- table(my_data)\n",
        "my_table\n",
        "#>      smoker\n",
        "#> alive  No Yes\n",
        "#>   No  117  54\n",
        "#>   Yes 950 348"
      ],
      "id": "c7c4c920-da98-4cb9-a156-38ed8b301087"
    },
    {
      "cell_type": "code",
      "execution_count": null,
      "metadata": {},
      "outputs": [],
      "source": [
        "chisq.test(my_table, correct = FALSE)\n",
        "\n",
        "#>  Pearson's Chi-squared test\n",
        "#>\n",
        "#> data:  my_data\n",
        "#> X-squared = 1.7285, df = 1, p-value = 0.1886"
      ],
      "id": "4ef95a5b-5207-4df5-87da-bbec93512bda"
    },
    {
      "cell_type": "code",
      "execution_count": null,
      "metadata": {},
      "outputs": [],
      "source": [
        "X <- rep(0:1, c(13, 2)) # \u624b\u98061\n",
        "X\n",
        "#> [1] 0 0 0 0 0 0 0 0 0 0 0 0 0 1 1\n",
        "\n",
        "tmp <- sample(X, size = length(X), replace = TRUE) # \u624b\u98062\n",
        "tmp\n",
        "#> [1] 0 0 1 0 0 0 0 0 0 1 0 1 0 0 0\n",
        "\n",
        "sum(tmp) # \u624b\u98063\n",
        "#> [1] 2\n",
        "\n",
        "n <- 10^5\n",
        "result <- replicate(n, sum(sample(X, size = length(X), replace = TRUE))) # \u624b\u98064"
      ],
      "id": "72074d13-e851-45fd-8a24-1af81e8005de"
    },
    {
      "cell_type": "code",
      "execution_count": null,
      "metadata": {},
      "outputs": [],
      "source": [
        "hist(x = result, breaks = 0:15,\n",
        "     right = FALSE)"
      ],
      "id": "057cea02-c1b3-4b44-a435-6981d3de13a7"
    },
    {
      "cell_type": "code",
      "execution_count": null,
      "metadata": {},
      "outputs": [],
      "source": [
        "quantile(result, c(0.025, 0.975))\n",
        "#>  2.5% 97.5%\n",
        "#>     0     5"
      ],
      "id": "d68c0ea4-5680-4b0e-b857-87d17e782ec7"
    },
    {
      "id": "f4937b8a",
      "cell_type": "markdown",
      "source": "# 5 \u524d\u51e6\u7406",
      "metadata": {}
    },
    {
      "cell_type": "code",
      "execution_count": null,
      "metadata": {},
      "outputs": [],
      "source": [
        "# Google Colaboratory\u306e\u74b0\u5883\u8a2d\u5b9a\n",
        "if (file.exists(\"/content\")) {\n",
        "  options(Ncpus = parallel::detectCores())\n",
        "  install.packages(\"caret\")\n",
        "}"
      ],
      "id": "3ce9da5b-8090-42ad-99d6-0a17bf83f3f1"
    },
    {
      "id": "a3c326eb",
      "cell_type": "markdown",
      "source": "## 5.1 \u30c7\u30fc\u30bf\u306e\u8aad\u307f\u8fbc\u307f",
      "metadata": {}
    },
    {
      "cell_type": "code",
      "execution_count": null,
      "metadata": {},
      "outputs": [],
      "source": [
        "library(tidyverse)\n",
        "system(str_c(\"wget https://raw.githubusercontent.com/taroyabuki\",\n",
        "             \"/fromzero/master/data/exam.csv\"))"
      ],
      "id": "4c1597c8-9c31-40cd-b2af-811373ec254f"
    },
    {
      "cell_type": "code",
      "execution_count": null,
      "metadata": {},
      "outputs": [],
      "source": [
        "my_df <- read_csv(\"exam.csv\")\n",
        "# \u3042\u308b\u3044\u306f\n",
        "my_df <- read.csv(\"exam.csv\",\n",
        "  stringsAsFactors = FALSE)\n",
        "\n",
        "my_df\n",
        "#>   name english math gender\n",
        "#> 1    A      60   70      f\n",
        "#> 2    B      90   80      m\n",
        "#> 3    C      70   90      m\n",
        "#> 4    D      90  100      f"
      ],
      "id": "2742e63f-efab-4da9-a2ec-8de3788c68a6"
    },
    {
      "cell_type": "code",
      "execution_count": null,
      "metadata": {},
      "outputs": [],
      "source": [
        "my_url <- str_c(\"https://raw.githubusercontent.com/taroyabuki\",\n",
        "                \"/fromzero/master/data/exam.csv\")\n",
        "my_df <- read_csv(my_url)\n",
        "# \u3042\u308b\u3044\u306f\n",
        "my_df <- read.csv(my_url, stringsAsFactors = FALSE)"
      ],
      "id": "7f398dec-c152-4828-97c2-3959c64af2c2"
    },
    {
      "cell_type": "code",
      "execution_count": null,
      "metadata": {},
      "outputs": [],
      "source": [
        "my_df2 <- read.csv(\n",
        "  file = \"exam.csv\",\n",
        "  stringsAsFactors = FALSE,\n",
        "  row.names = 1)\n",
        "my_df2\n",
        "#>   english math gender\n",
        "#> A      60   70      f\n",
        "#> B      90   80      m\n",
        "#> C      70   90      m\n",
        "#> D      90  100      f"
      ],
      "id": "641ed787-b34d-47b0-90d0-f114e8cc3398"
    },
    {
      "cell_type": "code",
      "execution_count": null,
      "metadata": {},
      "outputs": [],
      "source": [
        "my_df %>% write_csv(\"exam2.csv\")\n",
        "# \u3042\u308b\u3044\u306f\n",
        "my_df %>% write.csv(\n",
        "  file = \"exam2.csv\",\n",
        "  row.names = FALSE)"
      ],
      "id": "df5d773a-42a3-4051-96e5-5941bef99c2c"
    },
    {
      "cell_type": "code",
      "execution_count": null,
      "metadata": {},
      "outputs": [],
      "source": [
        "my_df2 %>% write.csv(\"exam3.csv\")"
      ],
      "id": "c949ac03-ffb3-469a-a36f-937ab241d65d"
    },
    {
      "cell_type": "code",
      "execution_count": null,
      "metadata": {},
      "outputs": [],
      "source": [
        "my_df <- read_csv(file = \"exam.csv\",\n",
        "  locale = locale(encoding = \"UTF-8\"))\n",
        "# \u3042\u308b\u3044\u306f\n",
        "my_df <- read.csv(file = \"exam.csv\",\n",
        "  stringsAsFactors = FALSE,\n",
        "  fileEncoding = \"UTF-8\")"
      ],
      "id": "6ba86f67-f99c-4f9b-89c2-dc1eed8d9243"
    },
    {
      "cell_type": "code",
      "execution_count": null,
      "metadata": {},
      "outputs": [],
      "source": [
        "my_df %>% write_csv(\"exam2.csv\")\n",
        "# \u3042\u308b\u3044\u306f\n",
        "my_df %>% write.csv(file = \"exam2.csv\", row.names = FALSE,\n",
        "                    fileEncoding = \"UTF-8\")"
      ],
      "id": "7e07d4d9-1774-4119-9d13-dd9aa176cfc2"
    },
    {
      "cell_type": "code",
      "execution_count": null,
      "metadata": {},
      "outputs": [],
      "source": [
        "my_url <- \"https://taroyabuki.github.io/fromzero/exam.html\"\n",
        "my_tables <- xml2::read_html(my_url) %>% rvest::html_table()"
      ],
      "id": "07f76031-7c2b-49b8-9823-19785c0db86f"
    },
    {
      "cell_type": "code",
      "execution_count": null,
      "metadata": {},
      "outputs": [],
      "source": [
        "my_tables\n",
        "#> [[1]]\n",
        "#>   X1   X2      X3   X4     X5\n",
        "#> 1 NA name english math gender\n",
        "#> 2 NA    A      60   70      f\n",
        "#> 3 NA    B      90   80      m\n",
        "#> 4 NA    C      70   90      m\n",
        "#> 5 NA    D      90  100      f"
      ],
      "id": "c6030564-8d51-4fb5-a63e-37fb388e0547"
    },
    {
      "cell_type": "code",
      "execution_count": null,
      "metadata": {},
      "outputs": [],
      "source": [
        "tmp <- my_tables[[1]]\n",
        "tmp\n",
        "#>   X1   X2      X3   X4     X5\n",
        "#> 1 NA name english math gender\n",
        "#> 2 NA    A      60   70      f\n",
        "#> 3 NA    B      90   80      m\n",
        "#> 4 NA    C      70   90      m\n",
        "#> 5 NA    D      90  100      f"
      ],
      "id": "35acc8c7-7a02-47cd-80fc-9ee30277e814"
    },
    {
      "cell_type": "code",
      "execution_count": null,
      "metadata": {},
      "outputs": [],
      "source": [
        "# 1\u884c\u76ee\u306e\u30c7\u30fc\u30bf\u3092\u4f7f\u3063\u3066\u5217\u306e\u540d\u524d\u3092\u4ed8\u3051\u76f4\u3059\uff0e\n",
        "colnames(tmp) <- tmp[1, ]\n",
        "\n",
        "# 1\u884c\u76ee\u30681\u5217\u76ee\u3092\u524a\u9664\u3059\u308b\uff0e\n",
        "my_data <- tmp[-1, -1]\n",
        "my_data\n",
        "#>   name english math gender\n",
        "#> 2    A      60   70      f\n",
        "#> 3    B      90   80      m\n",
        "#> 4    C      70   90      m\n",
        "#> 5    D      90  100      f"
      ],
      "id": "08065848-d051-4db3-9227-ce80e47f8442"
    },
    {
      "cell_type": "code",
      "execution_count": null,
      "metadata": {},
      "outputs": [],
      "source": [
        "library(jsonlite)\n",
        "my_url <- str_c(\"https://raw.githubusercontent.com/taroyabuki\",\n",
        "                \"/fromzero/master/data/exam.json\")\n",
        "my_data <- fromJSON(my_url)\n",
        "#my_data <- fromJSON(\"exam.json\") # \uff08\u30d5\u30a1\u30a4\u30eb\u3092\u4f7f\u3046\u5834\u5408\uff09\n",
        "my_data\n",
        "#>   name english math gender\n",
        "#> 1    A      60   70      f\n",
        "#> 2    B      90   80      m\n",
        "#> 3    C      70   90      m\n",
        "#> 4    D      90  100      f"
      ],
      "id": "9630feeb-ad3a-42e2-a3be-d0a2a64c0dcb"
    },
    {
      "cell_type": "code",
      "execution_count": null,
      "metadata": {},
      "outputs": [],
      "source": [
        "library(xml2)\n",
        "my_url <- str_c(\"https://raw.githubusercontent.com/taroyabuki\",\n",
        "                \"/fromzero/master/data/exam.xml\")\n",
        "my_xml <- read_xml(my_url)      # XML\u30c7\u30fc\u30bf\u306e\u8aad\u307f\u8fbc\u307f\n",
        "#my_xml <- read_xml(\"exam.xml\") # \uff08\u30d5\u30a1\u30a4\u30eb\u3092\u4f7f\u3046\u5834\u5408\uff09\n",
        "xml_ns(my_xml)                  # \u540d\u524d\u7a7a\u9593\u306e\u78ba\u8a8d\uff08d1\uff09\n",
        "#> d1 <-> https://www.example.net/ns/1.0"
      ],
      "id": "09486ae1-3edc-4751-91e2-fed1c46f43ae"
    },
    {
      "cell_type": "code",
      "execution_count": null,
      "metadata": {},
      "outputs": [],
      "source": [
        "my_records <- xml_find_all(my_xml, \".//d1:record\")"
      ],
      "id": "c7859a6b-8c95-44f6-8a49-33c7ec888738"
    },
    {
      "cell_type": "code",
      "execution_count": null,
      "metadata": {},
      "outputs": [],
      "source": [
        "f <- function(record) {\n",
        "  tmp <- xml_attrs(record)                    # \u5c5e\u6027\u3092\u5168\u3066\u53d6\u308a\u51fa\u3057\uff0c\n",
        "  xml_children(record) %>% walk(function(e) {\n",
        "    tmp[xml_name(e)] <<- xml_text(e)          # \u5b50\u8981\u7d20\u306e\u540d\u524d\u3068\u5185\u5bb9\u3092\u8ffd\u52a0\u3059\u308b\uff0e\n",
        "  })\n",
        "  tmp\n",
        "}"
      ],
      "id": "3add98ad-6344-4776-be99-ad32583d12c4"
    },
    {
      "cell_type": "code",
      "execution_count": null,
      "metadata": {},
      "outputs": [],
      "source": [
        "my_data <- my_records %>% map_dfr(f)\n",
        "my_data$english <- as.numeric(my_data$english)\n",
        "my_data$math    <- as.numeric(my_data$math)\n",
        "my_data\n",
        "#>   english  math gender name\n",
        "#>     <dbl> <dbl> <chr>  <chr>\n",
        "#> 1      60    70 f      A\n",
        "#> 2      90    80 m      B\n",
        "#> 3      70    90 m      C\n",
        "#> 4      90   100 f      D"
      ],
      "id": "0f75e172-2e6a-4f57-92a9-8cfeba9b45e6"
    },
    {
      "id": "3e687233",
      "cell_type": "markdown",
      "source": "## 5.2 \u30c7\u30fc\u30bf\u306e\u5909\u63db",
      "metadata": {}
    },
    {
      "cell_type": "code",
      "execution_count": null,
      "metadata": {},
      "outputs": [],
      "source": [
        "x1 <- c(1, 2, 3)\n",
        "\n",
        "z1 <- scale(x1)\n",
        "# \u3042\u308b\u3044\u306f\n",
        "z1 <- (x1 - mean(x1)) / sd(x1)\n",
        "\n",
        "z1\n",
        "#> [1] -1  0  1"
      ],
      "id": "fec384c0-383e-4a20-adb3-3d5429656834"
    },
    {
      "cell_type": "code",
      "execution_count": null,
      "metadata": {},
      "outputs": [],
      "source": [
        "c(mean(z1), sd(z1))\n",
        "#> [1] 0 1"
      ],
      "id": "35c4a3dd-b116-49ef-aaf6-25fd327aa683"
    },
    {
      "cell_type": "code",
      "execution_count": null,
      "metadata": {},
      "outputs": [],
      "source": [
        "z1 * sd(x1) + mean(x1)\n",
        "#> [1] 1 2 3"
      ],
      "id": "335c8235-f247-4bb2-af49-bdb104c5ce7f"
    },
    {
      "cell_type": "code",
      "execution_count": null,
      "metadata": {},
      "outputs": [],
      "source": [
        "x2 <- c(1, 3, 5)\n",
        "z2 <- (x2 - mean(x1)) / sd(x1)\n",
        "c(mean(z2), sd(z2))\n",
        "#> [1] 1 2"
      ],
      "id": "cb114f79-f13d-4149-aaf3-acfe0f456fd0"
    },
    {
      "cell_type": "code",
      "execution_count": null,
      "metadata": {},
      "outputs": [],
      "source": [
        "library(caret)\n",
        "library(tidyverse)\n",
        "\n",
        "my_df <- data.frame(\n",
        "  id = c(1, 2, 3),\n",
        "  class = as.factor(\n",
        "    c(\"A\", \"B\", \"C\")))\n",
        "\n",
        "my_enc <- my_df %>%\n",
        "  dummyVars(formula = ~ .)\n",
        "\n",
        "my_enc %>% predict(my_df)\n",
        "#>   id class.A class.B class.C\n",
        "#> 1  1       1       0       0\n",
        "#> 2  2       0       1       0\n",
        "#> 3  3       0       0       1"
      ],
      "id": "0f926e83-a46d-4f91-a000-7c55f6c32ae7"
    },
    {
      "cell_type": "code",
      "execution_count": null,
      "metadata": {},
      "outputs": [],
      "source": [
        "my_df2 <- data.frame(\n",
        "  id =    c( 4 ,  5 ,  6 ),\n",
        "  class = c(\"B\", \"C\", \"B\"))\n",
        "my_enc %>% predict(my_df2)\n",
        "#>   id class.A class.B class.C\n",
        "#> 1  4       0       1       0\n",
        "#> 2  5       0       0       1\n",
        "#> 3  6       0       1       0"
      ],
      "id": "6884fbca-0b3d-4abf-9f85-53621729dfe1"
    },
    {
      "cell_type": "code",
      "execution_count": null,
      "metadata": {},
      "outputs": [],
      "source": [
        "my_enc <- my_df %>%\n",
        "  dummyVars(formula = ~ .,\n",
        "            fullRank = TRUE)\n",
        "my_enc %>% predict(my_df)\n",
        "#>   id class.B class.C\n",
        "#> 1  1       0       0\n",
        "#> 2  2       1       0\n",
        "#> 3  3       0       1\n",
        "\n",
        "my_enc %>% predict(my_df2)\n",
        "#>   id class.B class.C\n",
        "#> 1  4       1       0\n",
        "#> 2  5       0       1\n",
        "#> 3  6       1       0"
      ],
      "id": "07634285-e459-46cc-87ec-eb105499db9f"
    },
    {
      "id": "fa96bf80",
      "cell_type": "markdown",
      "source": "# 6 \u6a5f\u68b0\u5b66\u7fd2\u306e\u76ee\u7684\u30fb\u30c7\u30fc\u30bf\u30fb\u624b\u6cd5\n\n\n",
      "metadata": {}
    },
    {
      "id": "352a7fb7",
      "cell_type": "markdown",
      "source": "## 6.1 \u6a5f\u68b0\u5b66\u7fd2\u306e\u76ee\u7684\uff08\u672c\u66f8\u306e\u5834\u5408\uff09\n\n\n",
      "metadata": {}
    },
    {
      "id": "a380c5fd",
      "cell_type": "markdown",
      "source": "## 6.2 \u6a5f\u68b0\u5b66\u7fd2\u306e\u305f\u3081\u306e\u30c7\u30fc\u30bf",
      "metadata": {}
    },
    {
      "cell_type": "code",
      "execution_count": null,
      "metadata": {},
      "outputs": [],
      "source": [
        "iris\n",
        "#>     Sepal.Length Sepal.Width Petal.Length Petal.Width    Species\n",
        "#> 1            5.1         3.5          1.4         0.2     setosa\n",
        "# \u4ee5\u4e0b\u7701\u7565"
      ],
      "id": "9bb2e803-8587-4b50-8f05-3d32ebc4f11d"
    },
    {
      "id": "275c5c19",
      "cell_type": "markdown",
      "source": "## 6.3 \u6a5f\u68b0\u5b66\u7fd2\u306e\u305f\u3081\u306e\u624b\u6cd5\n\n\n",
      "metadata": {}
    },
    {
      "id": "01b99cda",
      "cell_type": "markdown",
      "source": "# 7 \u56de\u5e301\uff08\u5358\u56de\u5e30\uff09",
      "metadata": {}
    },
    {
      "cell_type": "code",
      "execution_count": null,
      "metadata": {},
      "outputs": [],
      "source": [
        "# Google Colaboratory\u306e\u74b0\u5883\u8a2d\u5b9a\n",
        "if (file.exists(\"/content\")) {\n",
        "  options(Ncpus = parallel::detectCores())\n",
        "  install.packages(c(\"caret\", \"doParallel\", \"pastecs\"))\n",
        "}"
      ],
      "id": "72cec6d5-df90-48a1-bacc-02302e91aff0"
    },
    {
      "id": "388a329f",
      "cell_type": "markdown",
      "source": "## 7.1 \u81ea\u52d5\u8eca\u306e\u505c\u6b62\u8ddd\u96e2\n\n\n",
      "metadata": {}
    },
    {
      "id": "dc1cc397",
      "cell_type": "markdown",
      "source": "## 7.2 \u30c7\u30fc\u30bf\u306e\u78ba\u8a8d",
      "metadata": {}
    },
    {
      "cell_type": "code",
      "execution_count": null,
      "metadata": {},
      "outputs": [],
      "source": [
        "library(caret)\n",
        "library(tidyverse)\n",
        "my_data <- cars"
      ],
      "id": "825e0336-504c-496c-858e-ae2ba17f8541"
    },
    {
      "cell_type": "code",
      "execution_count": null,
      "metadata": {},
      "outputs": [],
      "source": [
        "dim(my_data)\n",
        "#> [1] 50  2"
      ],
      "id": "c8413c31-1a8b-409f-b9ea-61b2488ee658"
    },
    {
      "cell_type": "code",
      "execution_count": null,
      "metadata": {},
      "outputs": [],
      "source": [
        "head(my_data)\n",
        "#>   speed dist\n",
        "#> 1     4    2\n",
        "#> 2     4   10\n",
        "#> 3     7    4\n",
        "#> 4     7   22\n",
        "#> 5     8   16\n",
        "#> 6     9   10"
      ],
      "id": "5a83e070-e3f2-4039-94f5-66b7efa6b0ec"
    },
    {
      "cell_type": "code",
      "execution_count": null,
      "metadata": {},
      "outputs": [],
      "source": [
        "options(digits = 3)\n",
        "pastecs::stat.desc(my_data)\n",
        "#>                speed    dist\n",
        "#> nbr.val       50.000   50.00\n",
        "#> nbr.null       0.000    0.00\n",
        "#> nbr.na         0.000    0.00\n",
        "#> min            4.000    2.00\n",
        "#> max           25.000  120.00\n",
        "#> range         21.000  118.00\n",
        "#> sum          770.000 2149.00\n",
        "#> median        15.000   36.00\n",
        "#> mean          15.400   42.98\n",
        "#> SE.mean        0.748    3.64\n",
        "#> CI.mean.0.95   1.503    7.32\n",
        "#> var           27.959  664.06\n",
        "#> std.dev        5.288   25.77\n",
        "#> coef.var       0.343    0.60"
      ],
      "id": "3d095d2d-69d9-4f50-a330-803ee6dc1078"
    },
    {
      "cell_type": "code",
      "execution_count": null,
      "metadata": {},
      "outputs": [],
      "source": [
        "my_data %>%\n",
        "  ggplot(aes(x = speed, y = dist)) +\n",
        "  geom_point()"
      ],
      "id": "85270abd-1309-4d4e-b940-c21158ec2bd3"
    },
    {
      "id": "99aff890",
      "cell_type": "markdown",
      "source": "## 7.3 \u56de\u5e30\u5206\u6790",
      "metadata": {}
    },
    {
      "cell_type": "code",
      "execution_count": null,
      "metadata": {},
      "outputs": [],
      "source": [
        "library(tidyverse)\n",
        "\n",
        "my_data <- cars\n",
        "tmp <- data.frame(speed = 21.5, dist = 67)\n",
        "my_data %>% ggplot(aes(x = speed, y = dist)) +\n",
        "  coord_cartesian(xlim = c(4, 25), ylim = c(0, 120)) +\n",
        "  geom_point() +\n",
        "  stat_smooth(formula = y ~ x, method = \"lm\") +\n",
        "  geom_pointrange(data = tmp, aes(ymin = -9, ymax = dist),  linetype = \"dotted\") +\n",
        "  geom_pointrange(data = tmp, aes(xmin =  0, xmax = speed), linetype = \"dotted\")"
      ],
      "id": "ffb01f96-206d-4948-b3e4-cedacb798053"
    },
    {
      "cell_type": "code",
      "execution_count": null,
      "metadata": {},
      "outputs": [],
      "source": [
        "library(caret)\n",
        "library(tidyverse)\n",
        "my_data <- cars"
      ],
      "id": "d2286cd7-cc81-4449-8a3e-3e573ea319bf"
    },
    {
      "cell_type": "code",
      "execution_count": null,
      "metadata": {},
      "outputs": [],
      "source": [
        "my_model <- train(form = dist ~ speed, # \u30e2\u30c7\u30eb\u5f0f\uff08\u51fa\u529b\u5909\u6570\u3068\u5165\u529b\u5909\u6570\u306e\u95a2\u4fc2\uff09\n",
        "                  data = my_data,      # \u30c7\u30fc\u30bf\n",
        "                  method = \"lm\")       # \u624b\u6cd5"
      ],
      "id": "3697f5a8-635d-4afa-875a-bde7038e254c"
    },
    {
      "cell_type": "code",
      "execution_count": null,
      "metadata": {},
      "outputs": [],
      "source": [
        "coef(my_model$finalModel)\n",
        "#> (Intercept)       speed\n",
        "#> -17.579095    3.932409"
      ],
      "id": "f97a0f3b-b29d-45ff-a699-68a29c0882b3"
    },
    {
      "cell_type": "code",
      "execution_count": null,
      "metadata": {},
      "outputs": [],
      "source": [
        "tmp <- data.frame(speed = 21.5)\n",
        "my_model %>% predict(tmp)\n",
        "#>        1\n",
        "#> 66.96769"
      ],
      "id": "a200dc2e-77e2-41ee-b06e-44a692bfb6c0"
    },
    {
      "cell_type": "code",
      "execution_count": null,
      "metadata": {},
      "outputs": [],
      "source": [
        "f <- function(x) { my_model %>% predict(data.frame(speed = x)) }"
      ],
      "id": "baae9098-aba9-4bae-a56d-4eaf70b9949d"
    },
    {
      "cell_type": "code",
      "execution_count": null,
      "metadata": {},
      "outputs": [],
      "source": [
        "my_data %>%\n",
        "  ggplot(aes(x = speed, y = dist,\n",
        "             color = \"data\")) +\n",
        "  geom_point() +\n",
        "  stat_function(\n",
        "    fun = f,\n",
        "    mapping = aes(color = \"model\"))"
      ],
      "id": "76564707-be7f-4417-a0c3-2c51b95e9969"
    },
    {
      "id": "1e118d5e",
      "cell_type": "markdown",
      "source": "## 7.4 \u5f53\u3066\u306f\u307e\u308a\u306e\u826f\u3055\u306e\u6307\u6a19",
      "metadata": {}
    },
    {
      "cell_type": "code",
      "execution_count": null,
      "metadata": {},
      "outputs": [],
      "source": [
        "library(caret)\n",
        "library(tidyverse)\n",
        "my_data <- cars\n",
        "my_model <- train(form = dist ~ speed, data = my_data, method = \"lm\")\n",
        "\n",
        "y  <- my_data$dist\n",
        "y_ <- my_model %>% predict(my_data)\n",
        "my_data$y_ <- y_"
      ],
      "id": "b16b38b5-614f-4660-b64a-a59a0e413cdd"
    },
    {
      "cell_type": "code",
      "execution_count": null,
      "metadata": {},
      "outputs": [],
      "source": [
        "my_data$residual <- y - y_\n",
        "head(my_data)\n",
        "#>   speed dist        y_  residual\n",
        "#> 1     4    2 -1.849460  3.849460\n",
        "#> 2     4   10 -1.849460 11.849460\n",
        "#> 3     7    4  9.947766 -5.947766\n",
        "#> 4     7   22  9.947766 12.052234\n",
        "#> 5     8   16 13.880175  2.119825\n",
        "#> 6     9   10 17.812584 -7.812584"
      ],
      "id": "9a9bd375-f8f5-42ed-9448-437eaaf5dc2f"
    },
    {
      "cell_type": "code",
      "execution_count": null,
      "metadata": {},
      "outputs": [],
      "source": [
        "my_data %>%\n",
        "  ggplot(aes(x = speed, y = dist)) +\n",
        "  geom_point() +\n",
        "  geom_line(aes(x = speed, y = y_)) +\n",
        "  geom_linerange(mapping = aes(ymin = y_, ymax = dist), linetype = \"dotted\")"
      ],
      "id": "994de148-9699-44b3-b881-284efc351231"
    },
    {
      "cell_type": "code",
      "execution_count": null,
      "metadata": {},
      "outputs": [],
      "source": [
        "RMSE(y_, y)\n",
        "# \u3042\u308b\u3044\u306f\n",
        "mean((my_data$residual^2))**0.5\n",
        "\n",
        "#> [1] 15.06886"
      ],
      "id": "f1d9218b-4e8c-4652-b890-fb12c81bff1d"
    },
    {
      "cell_type": "code",
      "execution_count": null,
      "metadata": {},
      "outputs": [],
      "source": [
        "R2(pred = y_, obs = y,\n",
        "   form = \"traditional\")\n",
        "#> [1] 0.6510794"
      ],
      "id": "d5bf0b01-12f0-4c0f-aa9b-8ea96994a0a2"
    },
    {
      "cell_type": "code",
      "execution_count": null,
      "metadata": {},
      "outputs": [],
      "source": [
        "R2(pred = y_, obs = y,\n",
        "   form = \"corr\")\n",
        "# \u3042\u308b\u3044\u306f\n",
        "summary(my_model$finalModel)$r.squared\n",
        "#> [1] 0.6510794"
      ],
      "id": "c68ba408-b695-4dab-9bfc-3b8b7068d7a3"
    },
    {
      "cell_type": "code",
      "execution_count": null,
      "metadata": {},
      "outputs": [],
      "source": [
        "my_test <- my_data[1:3, ]\n",
        "y  <- my_test$dist\n",
        "y_ <- my_model %>% predict(my_test)\n",
        "\n",
        "R2(pred = y_, obs = y,\n",
        "   form = \"traditional\")\n",
        "#> [1] -4.498191  # \u6c7a\u5b9a\u4fc2\u65701\n",
        "\n",
        "R2(pred = y_, obs = y,\n",
        "   form = \"corr\")\n",
        "#> [1] 0.07692308 # \u6c7a\u5b9a\u4fc2\u65706"
      ],
      "id": "c0a7db91-dc19-4bbd-916a-8d575bf7453c"
    },
    {
      "cell_type": "code",
      "execution_count": null,
      "metadata": {},
      "outputs": [],
      "source": [
        "library(caret)\n",
        "library(tidyverse)\n",
        "my_data <- cars\n",
        "my_idx <- c(2, 11, 27, 34, 39, 44)\n",
        "my_sample <- my_data[my_idx, ]"
      ],
      "id": "f7238834-31df-4251-afed-7dd5378d2f6a"
    },
    {
      "cell_type": "code",
      "execution_count": null,
      "metadata": {},
      "outputs": [],
      "source": [
        "options(warn = -1) # \u3053\u308c\u4ee5\u964d\uff0c\u8b66\u544a\u3092\u8868\u793a\u3057\u306a\u3044\uff0e\n",
        "my_model <- train(form = dist ~ poly(speed, degree = 5, raw = TRUE),\n",
        "                  data = my_sample,\n",
        "                  method = \"lm\")\n",
        "options(warn = 0)  # \u3053\u308c\u4ee5\u964d\uff0c\u8b66\u544a\u3092\u8868\u793a\u3059\u308b\uff0e\n",
        "\n",
        "y  <- my_sample$dist\n",
        "y_ <- my_model %>% predict(my_sample)"
      ],
      "id": "e384bf9d-e049-4b25-9f39-9d3156058bb4"
    },
    {
      "cell_type": "code",
      "execution_count": null,
      "metadata": {},
      "outputs": [],
      "source": [
        "RMSE(y_, y)\n",
        "#> [1] 1.042275e-10 # RMSE\n",
        "\n",
        "R2(pred = y_, obs = y,\n",
        "   form = \"traditional\")\n",
        "#> [1] 1 # \u6c7a\u5b9a\u4fc2\u65701\n",
        "\n",
        "R2(pred = y_, obs = y,\n",
        "   form = \"corr\")\n",
        "#> [1] 1 # \u6c7a\u5b9a\u4fc2\u65706"
      ],
      "id": "a0ee0ab0-506d-4076-994a-2ef8ef6b4ac9"
    },
    {
      "cell_type": "code",
      "execution_count": null,
      "metadata": {},
      "outputs": [],
      "source": [
        "f <- function(x) { my_model %>% predict(data.frame(speed = x)) }\n",
        "\n",
        "my_data %>%\n",
        "  ggplot(aes(x = speed, y = dist, color = \"data\")) +\n",
        "  geom_point() +\n",
        "  geom_point(data = my_sample, mapping = aes(color = \"sample\")) +\n",
        "  stat_function(fun = f, mapping = aes(color = \"model\")) +\n",
        "  coord_cartesian(ylim = c(0, 120))"
      ],
      "id": "2ef620d7-9abd-4c4e-a8b9-b06a9fe2085a"
    },
    {
      "id": "6abbb6c5",
      "cell_type": "markdown",
      "source": "## 7.5 K\u6700\u8fd1\u508d\u6cd5",
      "metadata": {}
    },
    {
      "cell_type": "code",
      "execution_count": null,
      "metadata": {},
      "outputs": [],
      "source": [
        "# \u6e96\u5099\n",
        "library(caret)\n",
        "library(tidyverse)\n",
        "my_data <- cars\n",
        "\n",
        "# \u8a13\u7df4\n",
        "my_model <- train(form = dist ~ speed, data = my_data, method = \"knn\")\n",
        "\n",
        "# \u53ef\u8996\u5316\u306e\u6e96\u5099\n",
        "f <- function(x) { my_model %>% predict(data.frame(speed = x))}"
      ],
      "id": "5d05f3c5-c9bb-4c81-a852-a279d4a07723"
    },
    {
      "cell_type": "code",
      "execution_count": null,
      "metadata": {},
      "outputs": [],
      "source": [
        "my_data %>%\n",
        "  ggplot(aes(x = speed,\n",
        "             y = dist,\n",
        "             color = \"data\")) +\n",
        "  geom_point() +\n",
        "  stat_function(\n",
        "    fun = f,\n",
        "    mapping = aes(color = \"model\"))"
      ],
      "id": "4821e834-3aa3-486f-9004-8080b588ab62"
    },
    {
      "cell_type": "code",
      "execution_count": null,
      "metadata": {},
      "outputs": [],
      "source": [
        "y  <- my_data$dist\n",
        "y_ <- my_model %>% predict(my_data)\n",
        "\n",
        "RMSE(y_, y)\n",
        "#> [1] 13.96845 # RMSE\n",
        "\n",
        "R2(pred = y_, obs = y,\n",
        "   form = \"traditional\")\n",
        "#> [1] 0.7001789 # \u6c7a\u5b9a\u4fc2\u65701\n",
        "\n",
        "R2(pred = y_, obs = y,\n",
        "   form = \"corr\")\n",
        "#> [1] 0.7017314 # \u6c7a\u5b9a\u4fc2\u65706"
      ],
      "id": "eb03d048-7c1f-49d1-b99c-b9e400132c7b"
    },
    {
      "id": "e0695c06",
      "cell_type": "markdown",
      "source": "## 7.6 \u691c\u8a3c",
      "metadata": {}
    },
    {
      "cell_type": "code",
      "execution_count": null,
      "metadata": {},
      "outputs": [],
      "source": [
        "library(caret)\n",
        "library(tidyverse)\n",
        "my_data <- cars\n",
        "my_model <- train(form = dist ~ speed, data = my_data, method = \"lm\")\n",
        "\n",
        "my_model$results\n",
        "#>   intercept    RMSE  Rsquared      MAE   RMSESD RsquaredSD    MAESD\n",
        "#> 1      TRUE 16.0206 0.6662176 12.14701 2.518604 0.09249158 1.920564"
      ],
      "id": "94b612e6-fa26-42ed-b224-02780a3a8604"
    },
    {
      "cell_type": "code",
      "execution_count": null,
      "metadata": {},
      "outputs": [],
      "source": [
        "my_model <- train(form = dist ~ speed, data = my_data, method = \"lm\",\n",
        "                  trControl = trainControl(method = \"cv\", number = 5))\n",
        "my_model$results\n",
        "#>   intercept     RMSE  Rsquared      MAE  RMSESD RsquaredSD    MAESD\n",
        "#> 1      TRUE 15.06708 0.6724501 12.12448 4.75811  0.1848932 3.052435"
      ],
      "id": "55a705d4-c667-4bfc-92db-c89e4dbc5f7a"
    },
    {
      "cell_type": "code",
      "execution_count": null,
      "metadata": {},
      "outputs": [],
      "source": [
        "my_model <- train(form = dist ~ speed, data = my_data, method = \"lm\",\n",
        "                  trControl = trainControl(method = \"LOOCV\"))\n",
        "my_model$results\n",
        "#>   intercept     RMSE  Rsquared      MAE\n",
        "#> 1      TRUE 15.69731 0.6217139 12.05918"
      ],
      "id": "8fa8a9e3-fda6-4bd2-a58f-ac266738dec8"
    },
    {
      "cell_type": "code",
      "execution_count": null,
      "metadata": {},
      "outputs": [],
      "source": [
        "library(doParallel)\n",
        "cl <- makeCluster(detectCores())\n",
        "registerDoParallel(cl)"
      ],
      "id": "0b346a53-6246-4d1a-9881-a8dcc7d38a99"
    },
    {
      "cell_type": "code",
      "execution_count": null,
      "metadata": {},
      "outputs": [],
      "source": [
        "library(caret)\n",
        "library(tidyverse)\n",
        "my_data <- cars\n",
        "my_model <- train(form = dist ~ speed, data = my_data, method = \"lm\")\n",
        "y  <- my_data$dist\n",
        "y_ <- my_model %>% predict(my_data)"
      ],
      "id": "c648088f-1a0d-4fdf-9b9e-7a060bbaa6b4"
    },
    {
      "cell_type": "code",
      "execution_count": null,
      "metadata": {},
      "outputs": [],
      "source": [
        "# RMSE\uff08\u8a13\u7df4\uff09\n",
        "RMSE(y_, y)\n",
        "#> [1] 15.06886\n",
        "\n",
        "# \u6c7a\u5b9a\u4fc2\u65701\uff08\u8a13\u7df4\uff09\n",
        "R2(pred = y_, obs = y,\n",
        "   form = \"traditional\")\n",
        "#> [1] 0.6510794\n",
        "\n",
        "# \u6c7a\u5b9a\u4fc2\u65706\uff08\u8a13\u7df4\uff09\n",
        "R2(pred = y_, obs = y,\n",
        "   form = \"corr\")\n",
        "#> [1] 0.6510794"
      ],
      "id": "76846456-2ff8-48b5-b080-5d6521996ba2"
    },
    {
      "cell_type": "code",
      "execution_count": null,
      "metadata": {},
      "outputs": [],
      "source": [
        "postResample(pred = y_, obs = y)\n",
        "#>       RMSE   Rsquared        MAE\n",
        "#> 15.0688560  0.6510794 11.5801191"
      ],
      "id": "1ca76d2b-2536-4886-9691-b814402c9c36"
    },
    {
      "cell_type": "code",
      "execution_count": null,
      "metadata": {},
      "outputs": [],
      "source": [
        "my_model <- train(form = dist ~ speed, data = my_data, method = \"lm\")\n",
        "my_model$results\n",
        "#>   intercept     RMSE  Rsquared      MAE ...\n",
        "#> 1      TRUE 14.88504 0.6700353 11.59226 ...\n",
        "# \u5de6\u304b\u3089\uff0cRMSE\uff08\u691c\u8a3c\uff09\uff0c\u6c7a\u5b9a\u4fc2\u65706\uff08\u691c\u8a3c\uff09\uff0cMAE\uff08\u691c\u8a3c\uff09"
      ],
      "id": "0e8576ce-4a7a-439a-a321-aab475ef57dc"
    },
    {
      "cell_type": "code",
      "execution_count": null,
      "metadata": {},
      "outputs": [],
      "source": [
        "my_model <- train(form = dist ~ speed, data = my_data, method = \"lm\",\n",
        "                  trControl = trainControl(method = \"LOOCV\"))\n",
        "\n",
        "# \u65b9\u6cd51\n",
        "my_model$results\n",
        "#>   intercept     RMSE  Rsquared      MAE\n",
        "#> 1      TRUE 15.69731 0.6217139 12.05918\n",
        "\n",
        "# \u65b9\u6cd52\n",
        "y  <- my_model$pred$obs\n",
        "y_ <- my_model$pred$pred\n",
        "mean((y - y_)^2)**0.5\n",
        "#> [1] 15.69731"
      ],
      "id": "8e3f40a6-eefb-4817-8a96-90725cc5f8db"
    },
    {
      "cell_type": "code",
      "execution_count": null,
      "metadata": {},
      "outputs": [],
      "source": [
        "mean(((y - y_)^2)**0.5)\n",
        "#> [1] 12.05918"
      ],
      "id": "077c0be3-e41f-4398-b79b-ddc76ade57c3"
    },
    {
      "cell_type": "code",
      "execution_count": null,
      "metadata": {},
      "outputs": [],
      "source": [
        "library(caret)\n",
        "library(tidyverse)\n",
        "my_data <- cars\n",
        "\n",
        "my_lm_model <- train(form = dist ~ speed, data = my_data, method = \"lm\",\n",
        "                     trControl = trainControl(method = \"LOOCV\"))\n",
        "\n",
        "my_knn_model <- train(form = dist ~ speed, data = my_data, method = \"knn\",\n",
        "                      tuneGrid = data.frame(k = 5),\n",
        "                      trControl = trainControl(method = \"LOOCV\"))"
      ],
      "id": "f0a72bec-4f9f-46a6-9014-66af657c3857"
    },
    {
      "cell_type": "code",
      "execution_count": null,
      "metadata": {},
      "outputs": [],
      "source": [
        "my_lm_model$results$RMSE\n",
        "#> [1] 15.69731 # \u7dda\u5f62\u56de\u5e30\u5206\u6790\n",
        "\n",
        "my_knn_model$results$RMSE\n",
        "#> [1] 15.79924 # K\u6700\u8fd1\u508d\u6cd5"
      ],
      "id": "1df3aba4-b00c-48c3-b1a4-136d20128ffd"
    },
    {
      "cell_type": "code",
      "execution_count": null,
      "metadata": {},
      "outputs": [],
      "source": [
        "y     <- my_data$dist\n",
        "y_lm  <- my_lm_model$pred$pred\n",
        "y_knn <- my_knn_model$pred$pred\n",
        "\n",
        "my_df <- data.frame(\n",
        "  lm  = (y - y_lm)^2,\n",
        "  knn = (y - y_knn)^2)\n",
        "\n",
        "head(my_df)\n",
        "#>           lm      knn\n",
        "#> 1  18.913720 108.1600\n",
        "#> 2 179.215044   0.6400\n",
        "#> 3  41.034336 175.5625\n",
        "#> 4 168.490212  49.0000\n",
        "#> 5   5.085308   9.0000\n",
        "#> 6  67.615888 112.8906"
      ],
      "id": "dfba3512-1d51-4953-ac9a-44dde0c7bd0c"
    },
    {
      "cell_type": "code",
      "execution_count": null,
      "metadata": {},
      "outputs": [],
      "source": [
        "boxplot(my_df, ylab = \"r^2\")"
      ],
      "id": "38b126b8-9ba0-4e74-9fe1-e759fcf0a0bc"
    },
    {
      "cell_type": "code",
      "execution_count": null,
      "metadata": {},
      "outputs": [],
      "source": [
        "t.test(x = my_df$lm, y = my_df$knn,\n",
        "       conf.level = 0.95,\n",
        "       paired = TRUE,\n",
        "       alternative = \"two.sided\")\n",
        "\n",
        "#>  Paired t-test\n",
        "#>\n",
        "#> data:  my_df$lm and my_df$knn\n",
        "#> t = -0.12838, df = 49, p-value = 0.8984\n",
        "#> alternative hypothesis: true difference in means is not equal to 0\n",
        "#> 95 percent confidence interval:\n",
        "#>  -53.46930  47.04792\n",
        "#> sample estimates:\n",
        "#> mean of the differences\n",
        "#>               -3.210688"
      ],
      "id": "0df2677d-b4c8-4463-b6e3-97013387dcae"
    },
    {
      "id": "a4489591",
      "cell_type": "markdown",
      "source": "## 7.7 \u30d1\u30e9\u30e1\u30fc\u30bf\u30c1\u30e5\u30fc\u30cb\u30f3\u30b0",
      "metadata": {}
    },
    {
      "cell_type": "code",
      "execution_count": null,
      "metadata": {},
      "outputs": [],
      "source": [
        "library(caret)\n",
        "library(tidyverse)\n",
        "my_data <- cars\n",
        "my_model <- train(form = dist ~ speed, data = my_data, method = \"knn\")\n",
        "my_model$results\n",
        "#>   k     RMSE  Rsquared      MAE   RMSESD RsquaredSD    MAESD\n",
        "#> 1 5 15.72114 0.6615765 12.54588 3.013243 0.11043907 2.372245\n",
        "#> 2 7 16.19047 0.6601173 12.68464 3.165330 0.09990158 2.329326\n",
        "#> 3 9 16.30276 0.6556700 12.84811 3.367423 0.09645747 2.471620"
      ],
      "id": "3424c9ff-df80-49da-af57-bd2e65d1f4a2"
    },
    {
      "cell_type": "code",
      "execution_count": null,
      "metadata": {},
      "outputs": [],
      "source": [
        "my_params <- expand.grid(k = 1:15)\n",
        "\n",
        "my_model <- train(form = dist ~ speed, data = my_data, method = \"knn\",\n",
        "                  tuneGrid = my_params,\n",
        "                  trControl = trainControl(method = \"LOOCV\"))"
      ],
      "id": "b9dd2bdc-7656-450e-b3af-523a49b2fa55"
    },
    {
      "cell_type": "code",
      "execution_count": null,
      "metadata": {},
      "outputs": [],
      "source": [
        "head(my_model$results)\n",
        "#>   k     RMSE  Rsquared      MAE\n",
        "#> 1 1 17.22299 0.5777197 13.84900\n",
        "#> 2 2 16.81462 0.5936438 13.03469\n",
        "#> 3 3 16.32874 0.6218866 12.74524\n",
        "#> 4 4 15.98970 0.6086993 12.27888\n",
        "#> 5 5 15.79924 0.6169267 11.96067\n",
        "#> 6 6 15.98720 0.6079396 12.26667"
      ],
      "id": "db362fff-4cf8-4ab0-ae92-5719f7981dbe"
    },
    {
      "cell_type": "code",
      "execution_count": null,
      "metadata": {},
      "outputs": [],
      "source": [
        "ggplot(my_model)"
      ],
      "id": "2c08f852-5c0e-4385-8b6f-27126eeb0718"
    },
    {
      "cell_type": "code",
      "execution_count": null,
      "metadata": {},
      "outputs": [],
      "source": [
        "my_model$bestTune\n",
        "#>   k\n",
        "#> 5 5"
      ],
      "id": "84f76569-911d-4087-b9e6-242a7157c8ce"
    },
    {
      "cell_type": "code",
      "execution_count": null,
      "metadata": {},
      "outputs": [],
      "source": [
        "my_model$results %>%\n",
        "  filter(RMSE == min(RMSE))\n",
        "#>   k     RMSE  Rsquared      MAE\n",
        "#> 1 5 15.79924 0.6169267 11.96067"
      ],
      "id": "6d15bab7-360f-4890-be1b-e12d1681875b"
    },
    {
      "cell_type": "code",
      "execution_count": null,
      "metadata": {},
      "outputs": [],
      "source": [
        "y  <- my_data$dist\n",
        "y_ <- my_model %>% predict(my_data)\n",
        "RMSE(y_, y)\n",
        "#> [1] 13.96845"
      ],
      "id": "aab7562a-5620-4e0a-925d-90d810d09b78"
    },
    {
      "cell_type": "code",
      "execution_count": null,
      "metadata": {},
      "outputs": [],
      "source": [
        "library(caret)\n",
        "library(tidyverse)\n",
        "my_data <- cars\n",
        "\n",
        "my_loocv <- function(k) {\n",
        "  my_model <- train(form = dist ~ speed, data = my_data, method = \"knn\",\n",
        "                    tuneGrid = data.frame(k = k),\n",
        "                    trControl = trainControl(method = \"LOOCV\"))\n",
        "  y  <- my_data$dist\n",
        "  y_ <- my_model %>% predict(my_data)\n",
        "  list(k = k,\n",
        "       training = RMSE(y_, y),             # RMSE\uff08\u8a13\u7df4\uff09\n",
        "       validation = my_model$results$RMSE) # RMSE\uff08\u691c\u8a3c\uff09\n",
        "}\n",
        "\n",
        "my_results <- 1:15 %>% map_dfr(my_loocv)"
      ],
      "id": "f046f926-69b5-4246-8320-b3b86f7f888f"
    },
    {
      "cell_type": "code",
      "execution_count": null,
      "metadata": {},
      "outputs": [],
      "source": [
        "my_results %>%\n",
        "  pivot_longer(-k) %>%\n",
        "  ggplot(aes(x = k, y = value,\n",
        "             color = name)) +\n",
        "  geom_line() + geom_point() +\n",
        "  xlab(\"#Neighbors\") + ylab(\"RMSE\") +\n",
        "  theme(legend.position = c(1, 0),\n",
        "        legend.justification = c(1, 0))"
      ],
      "id": "d54a7fec-ad09-457e-a89b-2236fc68d70f"
    },
    {
      "id": "c8031439",
      "cell_type": "markdown",
      "source": "# 8 \u56de\u5e302\uff08\u91cd\u56de\u5e30\uff09",
      "metadata": {}
    },
    {
      "cell_type": "code",
      "execution_count": null,
      "metadata": {},
      "outputs": [],
      "source": [
        "# Google Colaboratory\u306e\u74b0\u5883\u8a2d\u5b9a\n",
        "if (file.exists(\"/content\")) {\n",
        "  options(Ncpus = parallel::detectCores())\n",
        "  install.packages(c(\"caret\", \"ggfortify\", \"glmnet\", \"glmnetUtils\", \"leaps\", \"neuralnet\", \"psych\"))\n",
        "}"
      ],
      "id": "86129095-a357-4f22-886b-808f822b079b"
    },
    {
      "id": "5d8ffede",
      "cell_type": "markdown",
      "source": "## 8.1 \u30d6\u30c9\u30a6\u306e\u751f\u80b2\u6761\u4ef6\u3068\u30ef\u30a4\u30f3\u306e\u4fa1\u683c",
      "metadata": {}
    },
    {
      "cell_type": "code",
      "execution_count": null,
      "metadata": {},
      "outputs": [],
      "source": [
        "library(tidyverse)\n",
        "my_url <- \"http://www.liquidasset.com/winedata.html\"\n",
        "tmp <- read.table(file = my_url,   # \u8aad\u307f\u8fbc\u3080\u5bfe\u8c61\n",
        "                  header = TRUE,   # 1\u884c\u76ee\u306f\u5909\u6570\u540d\n",
        "                  na.string = \".\", # \u6b20\u640d\u5024\u3092\u8868\u3059\u6587\u5b57\u5217\n",
        "                  skip = 62,       # \u8aad\u307f\u98db\u3070\u3059\u884c\u6570\n",
        "                  nrows = 38)      # \u8aad\u307f\u8fbc\u3080\u884c\u6570\n",
        "psych::describe(tmp)\n",
        "#>         vars  n    mean     sd  median trimmed    mad     min     max ...\n",
        "#> OBS        1 38   19.50  11.11   19.50   19.50  14.08    1.00   38.00 ...\n",
        "#> VINT       2 38 1970.50  11.11 1970.50 1970.50  14.08 1952.00 1989.00 ...\n",
        "#> LPRICE2    3 27   -1.45   0.63   -1.51   -1.49   0.72   -2.29    0.00 ...\n",
        "#> WRAIN      4 38  605.00 135.28  586.50  603.06 174.95  376.00  845.00 ...\n",
        "#> DEGREES    5 37   16.52   0.66   16.53   16.55   0.67   14.98   17.65 ...\n",
        "#> HRAIN      6 38  137.00  66.74  120.50  132.19  59.30   38.00  292.00 ...\n",
        "#> TIME_SV    7 38   12.50  11.11   12.50   12.50  14.08   -6.00   31.00 ..."
      ],
      "id": "42e1085f-267c-489e-ac38-e1b38cf2e461"
    },
    {
      "cell_type": "code",
      "execution_count": null,
      "metadata": {},
      "outputs": [],
      "source": [
        "my_data <- na.omit(tmp[, -c(1, 2)])\n",
        "head(my_data)\n",
        "#>    LPRICE2 WRAIN DEGREES ...\n",
        "#> 1 -0.99868   600 17.1167 ...\n",
        "#> 2 -0.45440   690 16.7333 ...\n",
        "#> 4 -0.80796   502 17.1500 ...\n",
        "#> 6 -1.50926   420 16.1333 ...\n",
        "#> 7 -1.71655   582 16.4167 ...\n",
        "#> 8 -0.41800   485 17.4833 ..."
      ],
      "id": "20db9444-6a8b-4ec5-b809-53efe07f8acf"
    },
    {
      "cell_type": "code",
      "execution_count": null,
      "metadata": {},
      "outputs": [],
      "source": [
        "dim(my_data)\n",
        "#> [1] 27  5"
      ],
      "id": "667ea12f-6a76-4d55-8501-d8cafa4464b5"
    },
    {
      "cell_type": "code",
      "execution_count": null,
      "metadata": {},
      "outputs": [],
      "source": [
        "my_data %>% write_csv(\"wine.csv\")"
      ],
      "id": "5c82762b-80e5-4048-ad2f-163a1d02db17"
    },
    {
      "cell_type": "code",
      "execution_count": null,
      "metadata": {},
      "outputs": [],
      "source": [
        "#my_data <- read_csv(\"wine.csv\") # \u4f5c\u3063\u305f\u30d5\u30a1\u30a4\u30eb\u3092\u4f7f\u3046\u5834\u5408\n",
        "my_url <- str_c(\"https://raw.githubusercontent.com/taroyabuki\",\n",
        "                \"/fromzero/master/data/wine.csv\")\n",
        "my_data <- read_csv(my_url)"
      ],
      "id": "0dcd3446-7353-4ecb-a6af-e325c9876a04"
    },
    {
      "id": "eb37e1c2",
      "cell_type": "markdown",
      "source": "## 8.2 \u91cd\u56de\u5e30\u5206\u6790",
      "metadata": {}
    },
    {
      "cell_type": "code",
      "execution_count": null,
      "metadata": {},
      "outputs": [],
      "source": [
        "library(caret)\n",
        "library(tidyverse)\n",
        "my_url <- str_c(\"https://raw.githubusercontent.com/taroyabuki\",\n",
        "                \"/fromzero/master/data/wine.csv\")\n",
        "my_data <- read_csv(my_url)\n",
        "\n",
        "my_model <- train(form = LPRICE2 ~ WRAIN + DEGREES + HRAIN + TIME_SV,\n",
        "                  data = my_data,\n",
        "                  method = \"lm\",\n",
        "                  trControl = trainControl(method = \"LOOCV\"))"
      ],
      "id": "fdea4df9-62f1-49c1-a36f-79fc0694b627"
    },
    {
      "cell_type": "code",
      "execution_count": null,
      "metadata": {},
      "outputs": [],
      "source": [
        "coef(my_model$finalModel) %>%\n",
        "  as.data.frame\n",
        "#>                         .\n",
        "#> (Intercept) -12.145333577\n",
        "#> WRAIN         0.001166782\n",
        "#> DEGREES       0.616392441\n",
        "#> HRAIN        -0.003860554\n",
        "#> TIME_SV       0.023847413"
      ],
      "id": "40f63281-a147-4f30-a8e5-cd1e590ba71f"
    },
    {
      "cell_type": "code",
      "execution_count": null,
      "metadata": {},
      "outputs": [],
      "source": [
        "my_test <- data.frame(\n",
        "  WRAIN = 500, DEGREES = 17,\n",
        "  HRAIN = 120, TIME_SV = 2)\n",
        "my_model %>% predict(my_test)\n",
        "#>         1\n",
        "#> -1.498843"
      ],
      "id": "2678f0c0-8ed4-450f-9fe8-65fb428b11c4"
    },
    {
      "cell_type": "code",
      "execution_count": null,
      "metadata": {},
      "outputs": [],
      "source": [
        "y  <- my_data$LPRICE2\n",
        "y_ <- my_model %>% predict(my_data)\n",
        "\n",
        "RMSE(y_, y)\n",
        "#> [1] 0.2586167 # RMSE\uff08\u8a13\u7df4\uff09\n",
        "\n",
        "R2(pred = y_, obs = y,\n",
        "   form = \"traditional\")\n",
        "#> [1] 0.8275278 # \u6c7a\u5b9a\u4fc2\u65701\uff08\u8a13\u7df4\uff09\n",
        "\n",
        "R2(pred = y_, obs = y,\n",
        "   form = \"corr\")\n",
        "#> [1] 0.8275278 # \u6c7a\u5b9a\u4fc2\u65706\uff08\u8a13\u7df4\uff09"
      ],
      "id": "d5036d48-646e-4950-8ede-22a66136951d"
    },
    {
      "cell_type": "code",
      "execution_count": null,
      "metadata": {},
      "outputs": [],
      "source": [
        "my_model$results\n",
        "#>   intercept      RMSE  Rsquared       MAE\n",
        "#> 1      TRUE 0.3230043 0.7361273 0.2767282"
      ],
      "id": "96a96696-1cf3-434c-8bfc-4dde45df7751"
    },
    {
      "cell_type": "code",
      "execution_count": null,
      "metadata": {},
      "outputs": [],
      "source": [
        "M <- my_data[, -1] %>%\n",
        "  mutate(b0 = 1) %>% as.matrix\n",
        "b <- MASS::ginv(M) %*% y\n",
        "matrix(b,\n",
        "       dimnames = list(colnames(M)))\n",
        "#>                  [,1]\n",
        "#> WRAIN     0.001166782\n",
        "#> DEGREES   0.616392441\n",
        "#> HRAIN    -0.003860554\n",
        "#> TIME_SV   0.023847413\n",
        "#> b0      -12.145333577"
      ],
      "id": "93122916-df81-4dd0-90c1-25cc3e0bbde2"
    },
    {
      "id": "c6a23c76",
      "cell_type": "markdown",
      "source": "## 8.3 \u6a19\u6e96\u5316",
      "metadata": {}
    },
    {
      "cell_type": "code",
      "execution_count": null,
      "metadata": {},
      "outputs": [],
      "source": [
        "library(caret)\n",
        "library(tidyverse)\n",
        "my_url <- str_c(\"https://raw.githubusercontent.com/taroyabuki\",\n",
        "                \"/fromzero/master/data/wine.csv\")\n",
        "my_data <- read_csv(my_url)\n",
        "\n",
        "my_data %>%\n",
        "  mutate_if(is.numeric, scale) %>% # \u6570\u5024\u306e\u5217\u306e\u6a19\u6e96\u5316\n",
        "  pivot_longer(-LPRICE2) %>%\n",
        "  ggplot(aes(x = name, y = value)) +\n",
        "  geom_boxplot() +\n",
        "  stat_summary(fun = mean, geom = \"point\", size = 3) +\n",
        "  xlab(NULL)"
      ],
      "id": "1726300f-1217-4a0f-807e-e2c4639d02b5"
    },
    {
      "cell_type": "code",
      "execution_count": null,
      "metadata": {},
      "outputs": [],
      "source": [
        "my_model <- train(\n",
        "  form = LPRICE2 ~ .,\n",
        "  data = my_data,\n",
        "  method = \"lm\",\n",
        "  preProcess = c(\"center\", \"scale\"))"
      ],
      "id": "f3ccd46c-407b-4a74-9f0c-6c16a01d1089"
    },
    {
      "cell_type": "code",
      "execution_count": null,
      "metadata": {},
      "outputs": [],
      "source": [
        "coef(my_model$finalModel) %>%\n",
        "  as.data.frame\n",
        "#>                      .\n",
        "#> (Intercept) -1.4517652\n",
        "#> WRAIN        0.1505557\n",
        "#> DEGREES      0.4063194\n",
        "#> HRAIN       -0.2820746\n",
        "#> TIME_SV      0.1966549"
      ],
      "id": "7eb20858-5b9b-4188-a5b3-b63a756198f9"
    },
    {
      "cell_type": "code",
      "execution_count": null,
      "metadata": {},
      "outputs": [],
      "source": [
        "my_test <- data.frame(\n",
        "  WRAIN = 500, DEGREES = 17,\n",
        "  HRAIN = 120, TIME_SV = 2)\n",
        "my_model %>% predict(my_test)\n",
        "#>         1\n",
        "#> -1.498843"
      ],
      "id": "c5368c9c-fe0d-4efb-8e73-8b4cbb318d60"
    },
    {
      "id": "ba022f1e",
      "cell_type": "markdown",
      "source": "## 8.4 \u5165\u529b\u5909\u6570\u306e\u6570\u3068\u30e2\u30c7\u30eb\u306e\u826f\u3055",
      "metadata": {}
    },
    {
      "cell_type": "code",
      "execution_count": null,
      "metadata": {},
      "outputs": [],
      "source": [
        "library(caret)\n",
        "library(tidyverse)\n",
        "my_url <- str_c(\"https://raw.githubusercontent.com/taroyabuki\",\n",
        "                \"/fromzero/master/data/wine.csv\")\n",
        "my_data <- read_csv(my_url)\n",
        "\n",
        "n <- nrow(my_data)\n",
        "my_data2 <- my_data %>% mutate(v1 = 0:(n - 1) %% 2,\n",
        "                               v2 = 0:(n - 1) %% 3)\n",
        "head(my_data2)\n",
        "#> # A tibble: 6 x 7\n",
        "#>   LPRICE2 WRAIN DEGREES HRAIN TIME_SV    v1    v2\n",
        "#>     <dbl> <dbl>   <dbl> <dbl>   <dbl> <dbl> <dbl>\n",
        "#> 1  -0.999   600    17.1   160      31     0     0\n",
        "#> 2  -0.454   690    16.7    80      30     1     1\n",
        "#> 3  -0.808   502    17.2   130      28     0     2\n",
        "#> 4  -1.51    420    16.1   110      26     1     0\n",
        "#> 5  -1.72    582    16.4   187      25     0     1\n",
        "#> 6  -0.418   485    17.5   187      24     1     2"
      ],
      "id": "d2bb6bfd-19dd-4bd4-8917-300736e3de76"
    },
    {
      "cell_type": "code",
      "execution_count": null,
      "metadata": {},
      "outputs": [],
      "source": [
        "my_model2 <- train(form = LPRICE2 ~ ., data = my_data2, method = \"lm\",\n",
        "                   trControl = trainControl(method = \"LOOCV\"))\n",
        "y  <- my_data2$LPRICE2\n",
        "y_ <- my_model2 %>% predict(my_data2)\n",
        "\n",
        "RMSE(y_, y)\n",
        "#> [1] 0.256212 # RMSE\uff08\u8a13\u7df4\uff09\n",
        "\n",
        "my_model2$results$RMSE\n",
        "#> [1] 0.3569918 # RMSE\uff08\u691c\u8a3c\uff09"
      ],
      "id": "9f93dda6-afbd-4202-8556-6e486f0f7a73"
    },
    {
      "id": "34e49ee1",
      "cell_type": "markdown",
      "source": "## 8.5 \u5909\u6570\u9078\u629e",
      "metadata": {}
    },
    {
      "cell_type": "code",
      "execution_count": null,
      "metadata": {},
      "outputs": [],
      "source": [
        "library(caret)\n",
        "library(tidyverse)\n",
        "my_url <- str_c(\"https://raw.githubusercontent.com/taroyabuki\",\n",
        "                \"/fromzero/master/data/wine.csv\")\n",
        "my_data <- read_csv(my_url)\n",
        "n <- nrow(my_data)\n",
        "my_data2 <- my_data %>% mutate(v1 = 0:(n - 1) %% 2,\n",
        "                               v2 = 0:(n - 1) %% 3)"
      ],
      "id": "6d8eae6e-fa48-4070-9da2-e8445aac31f2"
    },
    {
      "cell_type": "code",
      "execution_count": null,
      "metadata": {},
      "outputs": [],
      "source": [
        "my_model <- train(form = LPRICE2 ~ .,\n",
        "                  data = my_data2,\n",
        "                  method = \"leapForward\", # \u5909\u6570\u5897\u52a0\u6cd5\n",
        "                  trControl = trainControl(method = \"LOOCV\"),\n",
        "                  tuneGrid = data.frame(nvmax = 1:6)) # \u9078\u629e\u3059\u308b\u5909\u6570\u306e\u4e0a\u9650\n",
        "summary(my_model$finalModel)$outmat\n",
        "#>          WRAIN DEGREES HRAIN TIME_SV v1  v2\n",
        "#> 1  ( 1 ) \" \"   \"*\"     \" \"   \" \"     \" \" \" \"\n",
        "#> 2  ( 1 ) \" \"   \"*\"     \"*\"   \" \"     \" \" \" \"\n",
        "#> 3  ( 1 ) \" \"   \"*\"     \"*\"   \"*\"     \" \" \" \"\n",
        "#> 4  ( 1 ) \"*\"   \"*\"     \"*\"   \"*\"     \" \" \" \""
      ],
      "id": "d367511c-d519-452b-b819-98e678863366"
    },
    {
      "id": "8076b889",
      "cell_type": "markdown",
      "source": "## 8.6 \u88dc\u8db3\uff1a\u6b63\u5247\u5316",
      "metadata": {}
    },
    {
      "cell_type": "code",
      "execution_count": null,
      "metadata": {},
      "outputs": [],
      "source": [
        "library(caret)\n",
        "library(tidyverse)\n",
        "my_url <- str_c(\"https://raw.githubusercontent.com/taroyabuki\",\n",
        "                \"/fromzero/master/data/wine.csv\")\n",
        "my_data <- read_csv(my_url)"
      ],
      "id": "37835660-227d-4bc5-b4aa-fbbcf28c0aa6"
    },
    {
      "cell_type": "code",
      "execution_count": null,
      "metadata": {},
      "outputs": [],
      "source": [
        "A <- 2\n",
        "B <- 0.1\n",
        "\n",
        "my_model <- train(\n",
        "  form = LPRICE2 ~ .,\n",
        "  data = my_data,\n",
        "  method = \"glmnet\",\n",
        "  standardize = TRUE,\n",
        "  tuneGrid = data.frame(\n",
        "    lambda = A,\n",
        "    alpha = B))"
      ],
      "id": "91714af9-5d85-43a8-835b-5293c21be7f5"
    },
    {
      "cell_type": "code",
      "execution_count": null,
      "metadata": {},
      "outputs": [],
      "source": [
        "coef(my_model$finalModel, A)\n",
        "#>                         1\n",
        "#> (Intercept) -2.8015519302\n",
        "#> WRAIN        .\n",
        "#> DEGREES      0.0832910512\n",
        "#> HRAIN       -0.0004147386\n",
        "#> TIME_SV      0.0023104647"
      ],
      "id": "86e1c14a-80b2-4ad3-876f-2e268adfbae3"
    },
    {
      "cell_type": "code",
      "execution_count": null,
      "metadata": {},
      "outputs": [],
      "source": [
        "my_test <- data.frame(\n",
        "  WRAIN = 500, DEGREES = 17,\n",
        "  HRAIN = 120, TIME_SV = 2)\n",
        "my_model %>% predict(my_test)\n",
        "#> [1] -1.430752"
      ],
      "id": "52722467-9488-4e3a-9b7e-7208bb1f90c7"
    },
    {
      "cell_type": "code",
      "execution_count": null,
      "metadata": {},
      "outputs": [],
      "source": [
        "library(ggfortify)\n",
        "library(glmnetUtils)\n",
        "\n",
        "my_data2 <- my_data %>% scale %>%\n",
        "  as.data.frame\n",
        "\n",
        "B <- 0.1\n",
        "\n",
        "glmnet(\n",
        "  form = LPRICE2 ~ .,\n",
        "  data = my_data2,\n",
        "  alpha = B) %>%\n",
        "  autoplot(xvar = \"lambda\") +\n",
        "  xlab(\"log A ( = log lambda)\") +\n",
        "  theme(legend.position = c(0.15, 0.25))"
      ],
      "id": "88511895-8ffb-43bd-bb13-700621a06096"
    },
    {
      "cell_type": "code",
      "execution_count": null,
      "metadata": {},
      "outputs": [],
      "source": [
        "As <- seq(0, 0.1, length.out = 21)\n",
        "Bs <- seq(0, 0.1, length.out =  6)\n",
        "\n",
        "my_model <- train(\n",
        "  form = LPRICE2 ~ ., data = my_data, method = \"glmnet\", standardize = TRUE,\n",
        "  trControl = trainControl(method = \"LOOCV\"),\n",
        "  tuneGrid = expand.grid(lambda = As, alpha  = Bs))\n",
        "\n",
        "my_model$bestTune\n",
        "#>   alpha lambda\n",
        "#> 8     0  0.035"
      ],
      "id": "82a7d10b-588a-43b1-85fe-20c669020018"
    },
    {
      "cell_type": "code",
      "execution_count": null,
      "metadata": {},
      "outputs": [],
      "source": [
        "tmp <- \"B ( = alpha)\"\n",
        "ggplot(my_model) +\n",
        "  theme(legend.position = c(0, 1), legend.justification = c(0, 1)) +\n",
        "  xlab(\"A ( = lambda)\") +\n",
        "  guides(shape = guide_legend(tmp), color = guide_legend(tmp))"
      ],
      "id": "78f44d74-9def-4e07-863a-c6984e4fc0dc"
    },
    {
      "cell_type": "code",
      "execution_count": null,
      "metadata": {},
      "outputs": [],
      "source": [
        "my_model$results %>%\n",
        "  filter(RMSE == min(RMSE))\n",
        "#>   alpha lambda      RMSE ...\n",
        "#> 1     0 0.0595 0.3117092 ..."
      ],
      "id": "729f5ea9-cda9-43ca-a366-8bf587da1797"
    },
    {
      "id": "e39c1e5c",
      "cell_type": "markdown",
      "source": "## 8.7 \u30cb\u30e5\u30fc\u30e9\u30eb\u30cd\u30c3\u30c8\u30ef\u30fc\u30af",
      "metadata": {}
    },
    {
      "cell_type": "code",
      "execution_count": null,
      "metadata": {},
      "outputs": [],
      "source": [
        "curve(1 / (1 + exp(-x)), -6, 6)"
      ],
      "id": "46eac172-bd2f-4470-8308-5bcabf45462a"
    },
    {
      "cell_type": "code",
      "execution_count": null,
      "metadata": {},
      "outputs": [],
      "source": [
        "library(caret)\n",
        "library(tidyverse)\n",
        "my_url <- str_c(\"https://raw.githubusercontent.com/taroyabuki\",\n",
        "                \"/fromzero/master/data/wine.csv\")\n",
        "my_data <- read_csv(my_url)"
      ],
      "id": "ef80ae05-878a-4f56-b926-49c016e9c0c4"
    },
    {
      "cell_type": "code",
      "execution_count": null,
      "metadata": {},
      "outputs": [],
      "source": [
        "my_model <- train(form = LPRICE2 ~ .,\n",
        "                  data = my_data,\n",
        "                  method = \"neuralnet\",              # \u30cb\u30e5\u30fc\u30e9\u30eb\u30cd\u30c3\u30c8\u30ef\u30fc\u30af\n",
        "                  preProcess = c(\"center\", \"scale\"), # \u6a19\u6e96\u5316\n",
        "                  trControl = trainControl(method = \"LOOCV\"))\n",
        "plot(my_model$finalModel) # \u8a13\u7df4\u6e08\u30cd\u30c3\u30c8\u30ef\u30fc\u30af\u306e\u63cf\u753b"
      ],
      "id": "03c31744-57ba-4853-b9dd-ba9876780ee6"
    },
    {
      "cell_type": "code",
      "execution_count": null,
      "metadata": {},
      "outputs": [],
      "source": [
        "my_model$results\n",
        "#>   layer1 layer2 layer3      RMSE ...\n",
        "#> 1      1      0      0 0.3504016 ...\n",
        "#> 2      3      0      0 0.4380399 ...\n",
        "#> 3      5      0      0 0.4325535 ..."
      ],
      "id": "216a28e8-b438-4fac-b845-75a2ecb16bc8"
    },
    {
      "cell_type": "code",
      "execution_count": null,
      "metadata": {},
      "outputs": [],
      "source": [
        "my_model <- train(\n",
        "  form = LPRICE2 ~ .,\n",
        "  data = my_data,\n",
        "  method = \"neuralnet\",\n",
        "  preProcess = c(\"center\", \"scale\"),\n",
        "  trControl = trainControl(method = \"LOOCV\"),\n",
        "  tuneGrid = expand.grid(layer1 = 1:5,\n",
        "                         layer2 = 0:2,\n",
        "                         layer3 = 0))"
      ],
      "id": "0c5131da-7d15-4bbb-aed6-cc256bab727e"
    },
    {
      "cell_type": "code",
      "execution_count": null,
      "metadata": {},
      "outputs": [],
      "source": [
        "my_model$results %>%\n",
        "  filter(RMSE == min(RMSE))\n",
        "#>   layer1 layer2 layer3      RMSE ...\n",
        "#> 1      2      0      0 0.3165704 ..."
      ],
      "id": "1f335ab2-ea3d-4dab-b7b9-32cb9b9407b9"
    },
    {
      "id": "64e67b21",
      "cell_type": "markdown",
      "source": "# 9 \u5206\u985e1\uff08\u591a\u5024\u5206\u985e\uff09",
      "metadata": {}
    },
    {
      "cell_type": "code",
      "execution_count": null,
      "metadata": {},
      "outputs": [],
      "source": [
        "# Google Colaboratory\u306e\u74b0\u5883\u8a2d\u5b9a\n",
        "if (file.exists(\"/content\")) {\n",
        "  options(Ncpus = parallel::detectCores())\n",
        "  install.packages(c(\"caret\", \"furrr\", \"psych\", \"randomForest\", \"rpart.plot\", \"xgboost\"))\n",
        "}"
      ],
      "id": "7fef936b-5326-4007-8790-a161bd5dde25"
    },
    {
      "id": "c9c62b51",
      "cell_type": "markdown",
      "source": "## 9.1 \u30a2\u30e4\u30e1\u306e\u30c7\u30fc\u30bf",
      "metadata": {}
    },
    {
      "cell_type": "code",
      "execution_count": null,
      "metadata": {},
      "outputs": [],
      "source": [
        "my_data <- iris\n",
        "head(my_data)\n",
        "#>   Sepal.Length Sepal.Width Petal.Length Petal.Width Species\n",
        "#> 1          5.1         3.5          1.4         0.2  setosa\n",
        "#> 2          4.9         3.0          1.4         0.2  setosa\n",
        "#> 3          4.7         3.2          1.3         0.2  setosa\n",
        "#> 4          4.6         3.1          1.5         0.2  setosa\n",
        "#> 5          5.0         3.6          1.4         0.2  setosa\n",
        "#> 6          5.4         3.9          1.7         0.4  setosa"
      ],
      "id": "6465d525-e69f-4404-a22a-5a3d82249035"
    },
    {
      "cell_type": "code",
      "execution_count": null,
      "metadata": {},
      "outputs": [],
      "source": [
        "psych::describe(my_data)\n",
        "#>              vars   n mean   sd median trimmed  mad min max range ...\n",
        "#> Sepal.Length    1 150 5.84 0.83   5.80    5.81 1.04 4.3 7.9   3.6 ...\n",
        "#> Sepal.Width     2 150 3.06 0.44   3.00    3.04 0.44 2.0 4.4   2.4 ...\n",
        "#> Petal.Length    3 150 3.76 1.77   4.35    3.76 1.85 1.0 6.9   5.9 ...\n",
        "#> Petal.Width     4 150 1.20 0.76   1.30    1.18 1.04 0.1 2.5   2.4 ...\n",
        "#> Species*        5 150 2.00 0.82   2.00    2.00 1.48 1.0 3.0   2.0 ..."
      ],
      "id": "0cc4b3b1-3231-4f0a-8102-51af9a845495"
    },
    {
      "id": "0fc921e8",
      "cell_type": "markdown",
      "source": "## 9.2 \u6728\u306b\u3088\u308b\u5206\u985e",
      "metadata": {}
    },
    {
      "cell_type": "code",
      "execution_count": null,
      "metadata": {},
      "outputs": [],
      "source": [
        "library(caret)\n",
        "library(tidyverse)\n",
        "my_data <- iris\n",
        "my_model <- train(form = Species ~ ., data = my_data, method = \"rpart\")"
      ],
      "id": "46a4a39b-7dff-4c41-a0fd-de9aca34e551"
    },
    {
      "cell_type": "code",
      "execution_count": null,
      "metadata": {},
      "outputs": [],
      "source": [
        "rpart.plot::rpart.plot(my_model$finalModel, extra = 1)"
      ],
      "id": "3ae63ddd-c691-46e0-8b65-ef7585d575d1"
    },
    {
      "cell_type": "code",
      "execution_count": null,
      "metadata": {},
      "outputs": [],
      "source": [
        "my_test <- tribble(\n",
        "~Sepal.Length, ~Sepal.Width, ~Petal.Length, ~Petal.Width,\n",
        "          5.0,          3.5,           1.5,          0.5,\n",
        "          6.5,          3.0,           5.0,          2.0)\n",
        "\n",
        "my_model %>% predict(my_test)\n",
        "#> [1] setosa    virginica\n",
        "#> Levels: setosa versicolor virginica"
      ],
      "id": "a2b37e2f-573c-48ff-9736-1ad0c4c6d5fb"
    },
    {
      "cell_type": "code",
      "execution_count": null,
      "metadata": {},
      "outputs": [],
      "source": [
        "my_model %>% predict(my_test,\n",
        "                     type = \"prob\")\n",
        "#>   setosa versicolor virginica\n",
        "#> 1      1 0.00000000 0.0000000\n",
        "#> 2      0 0.02173913 0.9782609"
      ],
      "id": "f703cead-db18-4c5c-a81a-6b4f56ceb623"
    },
    {
      "id": "91f3e50e",
      "cell_type": "markdown",
      "source": "## 9.3 \u6b63\u89e3\u7387",
      "metadata": {}
    },
    {
      "cell_type": "code",
      "execution_count": null,
      "metadata": {},
      "outputs": [],
      "source": [
        "library(caret)\n",
        "library(tidyverse)\n",
        "my_data <- iris\n",
        "my_model <- train(form = Species ~ ., data = my_data, method = \"rpart2\")\n",
        "\n",
        "y  <- my_data$Species\n",
        "y_ <- my_model %>% predict(my_data)\n",
        "confusionMatrix(data = y_, reference = y)\n",
        "#> Confusion Matrix and Statistics\n",
        "#>\n",
        "#>             Reference\n",
        "#> Prediction   setosa versicolor virginica\n",
        "#>   setosa         50          0         0\n",
        "#>   versicolor      0         49         1\n",
        "#>   virginica       0          5        45\n",
        "# \u4ee5\u4e0b\u306f\u5272\u611b"
      ],
      "id": "8903d0d7-aaf5-42c4-85db-74721c39f5ca"
    },
    {
      "cell_type": "code",
      "execution_count": null,
      "metadata": {},
      "outputs": [],
      "source": [
        "y  <- my_data$Species\n",
        "y_ <- my_model %>% predict(my_data)\n",
        "mean(y_ == y)\n",
        "#> [1] 0.96"
      ],
      "id": "01f58b66-9a29-48c7-8f05-ffbd1dd40017"
    },
    {
      "cell_type": "code",
      "execution_count": null,
      "metadata": {},
      "outputs": [],
      "source": [
        "my_model <- train(form = Species ~ ., data = my_data, method = \"rpart2\",\n",
        "                  trControl = trainControl(method = \"LOOCV\"))\n",
        "my_model$results\n",
        "#>   maxdepth  Accuracy Kappa\n",
        "#> 1        1 0.3333333  0.00\n",
        "#> 2        2 0.9533333  0.93"
      ],
      "id": "fef7704d-fd59-4bea-800d-2d593b1a503d"
    },
    {
      "cell_type": "code",
      "execution_count": null,
      "metadata": {},
      "outputs": [],
      "source": [
        "my_model <- train(form = Species ~ ., data = my_data, method = \"rpart2\",\n",
        "                  tuneGrid = data.frame(maxdepth = 1:10),\n",
        "                  trControl = trainControl(method = \"LOOCV\"))\n",
        "my_model$results %>% filter(Accuracy == max(Accuracy))\n",
        "#>   maxdepth  Accuracy Kappa\n",
        "#> 1        2 0.9533333  0.93"
      ],
      "id": "cb1c9c53-a9a4-4528-a2b5-ac77d6daec3d"
    },
    {
      "cell_type": "code",
      "execution_count": null,
      "metadata": {},
      "outputs": [],
      "source": [
        "# \u30d1\u30e9\u30e1\u30fc\u30bf\u3092\u4e0e\u3048\u308b\u3068\u6b63\u89e3\u7387\uff08LOOCV\uff09\u3092\u8fd4\u3059\u95a2\u6570\n",
        "my_loocv <- function(maxdepth, minbucket, minsplit) {\n",
        "  my_model <- train(form = Species ~ ., data = my_data, method = \"rpart2\",\n",
        "                    trControl = trainControl(method = \"LOOCV\"),\n",
        "                    tuneGrid = data.frame(maxdepth = maxdepth),\n",
        "                    control = rpart::rpart.control(cp = 0.01,\n",
        "                                                   minbucket = minbucket,\n",
        "                                                   minsplit = minsplit))\n",
        "  list(maxdepth = maxdepth,\n",
        "       minbucket = minbucket,\n",
        "       minsplit = minsplit,\n",
        "       Accuracy = my_model$results$Accuracy)\n",
        "}"
      ],
      "id": "7aafb54f-f9a2-40cb-b28e-99bfba50beb2"
    },
    {
      "cell_type": "code",
      "execution_count": null,
      "metadata": {},
      "outputs": [],
      "source": [
        "my_params <- expand.grid(\n",
        "  maxdepth = 2:5,\n",
        "  minbucket = 1:7,\n",
        "  minsplit = c(2, 20))\n",
        "\n",
        "library(furrr)\n",
        "plan(multisession) # \u4e26\u5217\u51e6\u7406\u306e\u6e96\u5099\n",
        "my_results <- my_params %>% future_pmap_dfr(my_loocv, # \u5b9f\u884c\n",
        "  .options = furrr_options(seed = TRUE))\n",
        "\n",
        "my_results %>% filter(Accuracy == max(Accuracy)) # \u6b63\u89e3\u7387\uff08\u691c\u8a3c\uff09\u306e\u6700\u5927\u5024\n",
        "#>   maxdepth minbucket minsplit Accuracy\n",
        "#>      <int>     <int>    <dbl>    <dbl>\n",
        "#> 1        3         5        2    0.973\n",
        "#> 2        4         5        2    0.973\n",
        "#> 3        5         5        2    0.973\n",
        "#> 4        3         5       20    0.973\n",
        "#> 5        4         5       20    0.973\n",
        "#> 6        5         5       20    0.973"
      ],
      "id": "853c100f-b2c2-4136-b8a5-ecf1b0000414"
    },
    {
      "cell_type": "code",
      "execution_count": null,
      "metadata": {},
      "outputs": [],
      "source": [
        "my_model <- train(form = Species ~ ., data = my_data, method = \"rpart2\",\n",
        "                  trControl = trainControl(method = \"none\"),\n",
        "                  tuneGrid = data.frame(maxdepth = 3),\n",
        "                  control = rpart::rpart.control(cp = 0.01,\n",
        "                                                 minbucket = 5,\n",
        "                                                 minsplit = 2))"
      ],
      "id": "d043a8a8-ce07-4cdf-aace-46d810a0da17"
    },
    {
      "cell_type": "code",
      "execution_count": null,
      "metadata": {},
      "outputs": [],
      "source": [
        "rpart.plot::rpart.plot(\n",
        "  my_model$finalModel, extra = 1)"
      ],
      "id": "0f3adb7b-9d50-46c7-b560-007370c696a7"
    },
    {
      "id": "5c21e364",
      "cell_type": "markdown",
      "source": "## 9.4 \u8907\u6570\u306e\u6728\u3092\u4f7f\u3046\u65b9\u6cd5",
      "metadata": {}
    },
    {
      "cell_type": "code",
      "execution_count": null,
      "metadata": {},
      "outputs": [],
      "source": [
        "library(caret)\n",
        "library(tidyverse)\n",
        "my_data <- iris\n",
        "\n",
        "my_model <- train(form = Species ~ ., data = my_data, method = \"rf\",\n",
        "                  tuneGrid = data.frame(mtry = 2:4), # \u7701\u7565\u53ef\n",
        "                  trControl = trainControl(method = \"LOOCV\"))\n",
        "my_model$results\n",
        "#>   mtry Accuracy Kappa\n",
        "#> 1    2     0.96  0.94\n",
        "#> 2    3     0.96  0.94\n",
        "#> 3    4     0.96  0.94"
      ],
      "id": "62fdbd30-dcff-4f63-b978-29d8d15bef4d"
    },
    {
      "cell_type": "code",
      "execution_count": null,
      "metadata": {},
      "outputs": [],
      "source": [
        "my_model <- train(\n",
        "  form = Species ~ ., data = my_data, method = \"xgbTree\",\n",
        "  tuneGrid = expand.grid(\n",
        "    nrounds          = c(50, 100, 150),\n",
        "    max_depth        = c(1, 2, 3),\n",
        "    eta              = c(0.3, 0.4),\n",
        "    gamma            = 0,\n",
        "    colsample_bytree = c(0.6, 0.8),\n",
        "    min_child_weight = 1,\n",
        "    subsample        = c(0.5, 0.75, 1)),\n",
        "  trControl = trainControl(method = \"cv\", number = 5)) # 5\u5206\u5272\u4ea4\u5dee\u691c\u8a3c\n",
        "my_model$results %>% filter(Accuracy == max(Accuracy)) %>% head(5) %>% t\n",
        "#>                            1           2           3           4           5\n",
        "#> eta               0.30000000  0.30000000  0.30000000  0.40000000  0.30000000\n",
        "#> max_depth         1.00000000  1.00000000  1.00000000  1.00000000  3.00000000\n",
        "#> gamma             0.00000000  0.00000000  0.00000000  0.00000000  0.00000000\n",
        "#> colsample_bytree  0.60000000  0.60000000  0.80000000  0.60000000  0.80000000\n",
        "#> min_child_weight  1.00000000  1.00000000  1.00000000  1.00000000  1.00000000\n",
        "#> subsample         0.50000000  0.75000000  0.75000000  0.50000000  0.50000000\n",
        "#> nrounds          50.00000000 50.00000000 50.00000000 50.00000000 50.00000000\n",
        "#> Accuracy          0.96000000  0.96000000  0.96000000  0.96000000  0.96000000\n",
        "#> Kappa             0.94000000  0.94000000  0.94000000  0.94000000  0.94000000\n",
        "#> AccuracySD        0.02788867  0.02788867  0.02788867  0.01490712  0.01490712\n",
        "#> KappaSD           0.04183300  0.04183300  0.04183300  0.02236068  0.02236068"
      ],
      "id": "8f072098-3530-431a-b435-e63d65cb5087"
    },
    {
      "cell_type": "code",
      "execution_count": null,
      "metadata": {},
      "outputs": [],
      "source": [
        "my_model <- train(form = Species ~ ., data = my_data, method = \"rf\")\n",
        "ggplot(varImp(my_model))"
      ],
      "id": "165cbd6f-7f24-4b85-a2e9-47613ec0b48b"
    },
    {
      "id": "8958141f",
      "cell_type": "markdown",
      "source": "## 9.5 \u6b20\u640d\u306e\u3042\u308b\u30c7\u30fc\u30bf\u3067\u306e\u5b66\u7fd2",
      "metadata": {}
    },
    {
      "cell_type": "code",
      "execution_count": null,
      "metadata": {},
      "outputs": [],
      "source": [
        "library(caret)\n",
        "library(tidyverse)\n",
        "my_data <- iris\n",
        "\n",
        "n <- nrow(my_data)\n",
        "my_data$Petal.Length[0:(n - 1) %% 10 == 0] <- NA\n",
        "my_data$Petal.Width[ 0:(n - 1) %% 10 == 1] <- NA\n",
        "\n",
        "psych::describe(my_data) # n\u306e\u5024\u304c135\u306e\u5909\u6570\u306b\uff0c150 - 135 = 15\u500b\u306e\u6b20\u640d\u304c\u3042\u308b\uff0e\n",
        "#>              vars   n mean   sd median trimmed  mad min max range ...\n",
        "#> Sepal.Length    1 150 5.84 0.83    5.8    5.81 1.04 4.3 7.9   3.6 ...\n",
        "#> Sepal.Width     2 150 3.06 0.44    3.0    3.04 0.44 2.0 4.4   2.4 ...\n",
        "#> Petal.Length    3 135 3.75 1.76    4.3    3.75 1.78 1.0 6.9   5.9 ...\n",
        "#> Petal.Width     4 135 1.20 0.77    1.3    1.18 1.04 0.1 2.5   2.4 ...\n",
        "#> Species*        5 150 2.00 0.82    2.0    2.00 1.48 1.0 3.0   2.0 ..."
      ],
      "id": "98957af1-e4da-43b8-ac4a-f71b19a05342"
    },
    {
      "cell_type": "code",
      "execution_count": null,
      "metadata": {},
      "outputs": [],
      "source": [
        "my_model <- train(\n",
        "  form = Species ~ ., data = my_data, method = \"rpart2\",\n",
        "  na.action = na.pass,         # \u6b20\u640d\u304c\u3042\u3063\u3066\u3082\u5b66\u7fd2\u3092\u6b62\u3081\u306a\u3044\uff0e\n",
        "  preProcess = \"medianImpute\", # \u6b20\u640d\u3092\u4e2d\u592e\u5024\u3067\u57cb\u3081\u308b\uff0e\n",
        "  trControl = trainControl(method = \"LOOCV\"),\n",
        "  tuneGrid = data.frame(maxdepth = 20),          # \u6728\u306e\u9ad8\u3055\u306e\u4e0a\u9650\n",
        "  control = rpart::rpart.control(minsplit = 2,   # \u5206\u5c90\u306e\u6761\u4ef6\n",
        "                                 minbucket = 1)) # \u7d42\u7aef\u30ce\u30fc\u30c9\u306e\u6761\u4ef6\n",
        "max(my_model$results$Accuracy)\n",
        "#> [1] 0.9266667"
      ],
      "id": "b71ea1ee-185e-4679-bef5-249393b8e4c3"
    },
    {
      "cell_type": "code",
      "execution_count": null,
      "metadata": {},
      "outputs": [],
      "source": [
        "my_model <- train(form = Species ~ ., data = my_data, method = \"xgbTree\",\n",
        "                  na.action = na.pass,\n",
        "                  trControl = trainControl(method = \"cv\", number = 5))\n",
        "max(my_model$results$Accuracy)\n",
        "#> [1] 0.966666666666667"
      ],
      "id": "1680243f-40c8-41e3-8e46-8d2d7b8e64bd"
    },
    {
      "id": "79328920",
      "cell_type": "markdown",
      "source": "## 9.6 \u4ed6\u306e\u5206\u985e\u624b\u6cd5",
      "metadata": {}
    },
    {
      "cell_type": "code",
      "execution_count": null,
      "metadata": {},
      "outputs": [],
      "source": [
        "library(caret)\n",
        "library(tidyverse)\n",
        "my_data <- iris\n",
        "\n",
        "my_model <- train(form = Species ~ ., data = my_data, method = \"knn\",\n",
        "                  trControl = trainControl(method = \"LOOCV\"))\n",
        "my_model$results %>% filter(Accuracy == max(Accuracy))\n",
        "#>   k  Accuracy Kappa\n",
        "#> 1 9 0.9733333  0.96"
      ],
      "id": "90af81ea-9d7d-4048-8940-ba4bf4709554"
    },
    {
      "cell_type": "code",
      "execution_count": null,
      "metadata": {},
      "outputs": [],
      "source": [
        "library(caret)\n",
        "library(tidyverse)\n",
        "my_data <- iris\n",
        "\n",
        "my_model <- train(form = Species ~ ., data = my_data, method = \"nnet\",\n",
        "                  preProcess = c(\"center\", \"scale\"), # \u6a19\u6e96\u5316\n",
        "                  trControl = trainControl(method = \"LOOCV\"),\n",
        "                  trace = FALSE) # \u9014\u4e2d\u7d4c\u904e\u3092\u8868\u793a\u3057\u306a\u3044\n",
        "my_model$results %>% filter(Accuracy == max(Accuracy))\n",
        "#>   size decay  Accuracy Kappa\n",
        "#> 1    3   0.1 0.9733333  0.96\n",
        "#> 2    5   0.1 0.9733333  0.96"
      ],
      "id": "ae214763-5193-47a4-b7c0-d97594857a8a"
    },
    {
      "id": "4e90ddbd",
      "cell_type": "markdown",
      "source": "# 10 \u5206\u985e2\uff082\u5024\u5206\u985e\uff09",
      "metadata": {}
    },
    {
      "cell_type": "code",
      "execution_count": null,
      "metadata": {},
      "outputs": [],
      "source": [
        "# Google Colaboratory\u306e\u74b0\u5883\u8a2d\u5b9a\n",
        "if (file.exists(\"/content\")) {\n",
        "  options(Ncpus = parallel::detectCores())\n",
        "  install.packages(c(\"caret\", \"PRROC\", \"rpart.plot\"))\n",
        "}"
      ],
      "id": "031c05a9-edff-454f-89fe-a69ac2dabb35"
    },
    {
      "id": "d2629254",
      "cell_type": "markdown",
      "source": "## 10.1 2\u5024\u5206\u985e\u306e\u6027\u80fd\u6307\u6a19",
      "metadata": {}
    },
    {
      "cell_type": "code",
      "execution_count": null,
      "metadata": {},
      "outputs": [],
      "source": [
        "y       <- c(  0,   1,   1,   0,   1,   0,    1,   0,   0,   1)\n",
        "y_score <- c(0.7, 0.8, 0.3, 0.4, 0.9, 0.6, 0.99, 0.1, 0.2, 0.5)"
      ],
      "id": "76d7435a-2136-4cb2-b034-1202ccd93aaf"
    },
    {
      "cell_type": "code",
      "execution_count": null,
      "metadata": {},
      "outputs": [],
      "source": [
        "y_ <- ifelse(0.5 <= y_score, 1, 0)\n",
        "y_\n",
        "#> [1] 1 1 0 0 1 1 1 0 0 1"
      ],
      "id": "c82f4e58-c89c-43cb-8275-076b78fbe003"
    },
    {
      "cell_type": "code",
      "execution_count": null,
      "metadata": {},
      "outputs": [],
      "source": [
        "library(caret)\n",
        "confusionMatrix(data      = as.factor(y_), # \u4e88\u6e2c\n",
        "                reference = as.factor(y),  # \u6b63\u89e3\n",
        "                positive = \"1\",            # \u300c1\u300d\u3092\u967d\u6027\u3068\u3059\u308b\uff0e\n",
        "                mode = \"everything\")       # \u5168\u3066\u306e\u6307\u6a19\u3092\u6c42\u3081\u308b\uff0e\n",
        "#> Confusion Matrix and Statistics\n",
        "#>\n",
        "#>           Reference\n",
        "#> Prediction 0 1\n",
        "#>          0 3 1\n",
        "#>          1 2 4\n",
        "#>\n",
        "#>                Accuracy : 0.7\n",
        "#>                  95% CI : (0.3475, 0.9333)\n",
        "#>     No Information Rate : 0.5\n",
        "#>     P-Value [Acc > NIR] : 0.1719\n",
        "#>\n",
        "#>                   Kappa : 0.4\n",
        "#>\n",
        "#>  Mcnemar's Test P-Value : 1.0000\n",
        "#>\n",
        "#>             Sensitivity : 0.8000\n",
        "#>             Specificity : 0.6000\n",
        "#>          Pos Pred Value : 0.6667\n",
        "#>          Neg Pred Value : 0.7500\n",
        "#>               Precision : 0.6667\n",
        "#>                  Recall : 0.8000\n",
        "#>                      F1 : 0.7273\n",
        "#>              Prevalence : 0.5000\n",
        "#>          Detection Rate : 0.4000\n",
        "#>    Detection Prevalence : 0.6000\n",
        "#>       Balanced Accuracy : 0.7000\n",
        "#>\n",
        "#>        'Positive' Class : 1"
      ],
      "id": "2abe55f0-a2f8-42e2-b956-4d12a3fdd593"
    },
    {
      "id": "00d662d3",
      "cell_type": "markdown",
      "source": "## 10.2 \u30c8\u30ec\u30fc\u30c9\u30aa\u30d5",
      "metadata": {}
    },
    {
      "cell_type": "code",
      "execution_count": null,
      "metadata": {},
      "outputs": [],
      "source": [
        "library(PRROC)\n",
        "library(tidyverse)\n",
        "\n",
        "y       <- c(  0,   1,   1,   0,   1,   0,    1,   0,   0,   1)\n",
        "y_score <- c(0.7, 0.8, 0.3, 0.4, 0.9, 0.6, 0.99, 0.1, 0.2, 0.5)\n",
        "y_      <- ifelse(0.5 <= y_score, 1, 0)\n",
        "\n",
        "c(sum((y == 0) & (y_ == 1)) / sum(y == 0), # FPR\n",
        "  sum((y == 1) & (y_ == 1)) / sum(y == 1)) # TPR\n",
        "#> [1] 0.4 0.8"
      ],
      "id": "e5ea4505-3138-4c7d-be18-5457c59966ea"
    },
    {
      "cell_type": "code",
      "execution_count": null,
      "metadata": {},
      "outputs": [],
      "source": [
        "my_roc <- roc.curve(scores.class0 = y_score[y == 1], # \u7b54\u3048\u304c1\u306e\u3082\u306e\u306e\u30b9\u30b3\u30a2\n",
        "                    scores.class1 = y_score[y == 0], # \u7b54\u3048\u304c0\u306e\u3082\u306e\u306e\u30b9\u30b3\u30a2\n",
        "                    curve = TRUE)\n",
        "my_roc %>% plot(xlab = \"False Positive Rate\",\n",
        "                ylab = \"True Positive Rate\",\n",
        "                legend = FALSE)"
      ],
      "id": "3d367162-ea24-47fd-946a-d33cf2f8f828"
    },
    {
      "cell_type": "code",
      "execution_count": null,
      "metadata": {},
      "outputs": [],
      "source": [
        "my_roc$auc\n",
        "#> [1] 0.8"
      ],
      "id": "7f62e24d-75ec-4f49-9f6a-82f56c1f35e8"
    },
    {
      "cell_type": "code",
      "execution_count": null,
      "metadata": {},
      "outputs": [],
      "source": [
        "c(sum((y == 1) & (y_ == 1)) / sum(y  == 1), # Recall == TPR\n",
        "  sum((y == 1) & (y_ == 1)) / sum(y_ == 1)) # Precision\n",
        "#> [1] 0.8000000 0.6666667"
      ],
      "id": "504e820c-86f8-4538-bced-178004f0a44b"
    },
    {
      "cell_type": "code",
      "execution_count": null,
      "metadata": {},
      "outputs": [],
      "source": [
        "my_pr <- pr.curve(scores.class0 = y_score[y == 1],\n",
        "                  scores.class1 = y_score[y == 0],\n",
        "                  curve = TRUE)\n",
        "my_pr %>% plot(xlab = \"Recall\",\n",
        "               ylab = \"Precision\",\n",
        "               legend = FALSE)"
      ],
      "id": "33fb738c-693a-4b64-821d-786a2bce8f22"
    },
    {
      "cell_type": "code",
      "execution_count": null,
      "metadata": {},
      "outputs": [],
      "source": [
        "my_pr$auc.integral\n",
        "#> [1] 0.8469525"
      ],
      "id": "f529d03d-317e-4017-a041-fbf92951cd59"
    },
    {
      "id": "6b7498ae",
      "cell_type": "markdown",
      "source": "## 10.3 \u30bf\u30a4\u30bf\u30cb\u30c3\u30af",
      "metadata": {}
    },
    {
      "cell_type": "code",
      "execution_count": null,
      "metadata": {},
      "outputs": [],
      "source": [
        "library(caret)\n",
        "library(PRROC)\n",
        "library(tidyverse)\n",
        "\n",
        "my_url <- str_c(\"https://raw.githubusercontent.com/taroyabuki\",\n",
        "                \"/fromzero/master/data/titanic.csv\")\n",
        "my_data <- read_csv(my_url)"
      ],
      "id": "b55dc618-de0d-4078-a6ea-a3938fbb1ee4"
    },
    {
      "cell_type": "code",
      "execution_count": null,
      "metadata": {},
      "outputs": [],
      "source": [
        "head(my_data)\n",
        "#> # A tibble: 6 x 4\n",
        "#>   Class Sex   Age   Survived\n",
        "#>   <chr> <chr> <chr> <chr>\n",
        "#> 1 1st   Male  Child Yes\n",
        "#> 2 1st   Male  Child Yes\n",
        "#> 3 1st   Male  Child Yes\n",
        "#> 4 1st   Male  Child Yes\n",
        "#> 5 1st   Male  Child Yes\n",
        "#> 6 1st   Male  Adult No"
      ],
      "id": "9a4a4a70-c751-4df8-8329-8bb75214f494"
    },
    {
      "cell_type": "code",
      "execution_count": null,
      "metadata": {},
      "outputs": [],
      "source": [
        "my_model <- train(form = Survived ~ ., data = my_data, method = \"rpart2\",\n",
        "                  tuneGrid = data.frame(maxdepth = 2),\n",
        "                  trControl = trainControl(method = \"LOOCV\"))"
      ],
      "id": "1be1322f-fa71-4e7a-b872-21f124e5e852"
    },
    {
      "cell_type": "code",
      "execution_count": null,
      "metadata": {},
      "outputs": [],
      "source": [
        "rpart.plot::rpart.plot(my_model$finalModel, extra = 1)"
      ],
      "id": "23d390e8-55aa-4dfe-954e-e83f84741e6d"
    },
    {
      "cell_type": "code",
      "execution_count": null,
      "metadata": {},
      "outputs": [],
      "source": [
        "my_model$results\n",
        "#>   maxdepth  Accuracy     Kappa\n",
        "#> 1        2 0.7832803 0.4096365"
      ],
      "id": "cde43693-4846-4ea6-89ab-788cba507e24"
    },
    {
      "cell_type": "code",
      "execution_count": null,
      "metadata": {},
      "outputs": [],
      "source": [
        "y <- my_data$Survived\n",
        "tmp <- my_model %>% predict(newdata = my_data, type = \"prob\")\n",
        "y_score <- tmp$Yes\n",
        "\n",
        "my_roc <- roc.curve(scores.class0 = y_score[y == \"Yes\"],\n",
        "                    scores.class1 = y_score[y == \"No\"],\n",
        "                    curve = TRUE)\n",
        "my_roc$auc\n",
        "#> [1] 0.7114887\n",
        "\n",
        "my_roc %>% plot(xlab = \"False Positive Rate\",\n",
        "                ylab = \"True Positive Rate\",\n",
        "                legend = FALSE)"
      ],
      "id": "af2cd283-2662-4245-9bf5-aa0cadea6de1"
    },
    {
      "cell_type": "code",
      "execution_count": null,
      "metadata": {},
      "outputs": [],
      "source": [
        "X <- my_data %>% select(Class) # \u8cea\u7684\u5165\u529b\u5909\u6570\n",
        "y <- my_data$Survived          # \u51fa\u529b\u5909\u6570\n",
        "\n",
        "options(warn = -1) # \u3053\u308c\u4ee5\u964d\uff0c\u8b66\u544a\u3092\u8868\u793a\u3057\u306a\u3044\uff0e\n",
        "my_model1 <- train(x = X, y = y, method = \"rpart2\",\n",
        "                   tuneGrid = data.frame(maxdepth = 2),\n",
        "                   trControl = trainControl(method = \"LOOCV\"))\n",
        "options(warn = 0)  # \u3053\u308c\u4ee5\u964d\uff0c\u8b66\u544a\u3092\u8868\u793a\u3059\u308b\uff0e\n",
        "\n",
        "rpart.plot::rpart.plot(my_model1$finalModel, extra = 1)\n",
        "my_model1$results\n",
        "#>   maxdepth  Accuracy     Kappa\n",
        "#> 1        2 0.7137665 0.2373133"
      ],
      "id": "d5612a69-c092-452b-90e3-374e8f23248f"
    },
    {
      "cell_type": "code",
      "execution_count": null,
      "metadata": {},
      "outputs": [],
      "source": [
        "my_enc <- my_data %>% dummyVars(formula = Survived ~ Class)\n",
        "my_data2 <- my_enc %>%\n",
        "  predict(my_data) %>%\n",
        "  as.data.frame %>%\n",
        "  mutate(Survived = my_data$Survived)\n",
        "\n",
        "my_model2 <- train(form = Survived ~ ., data = my_data2, method = \"rpart2\",\n",
        "                   tuneGrid = data.frame(maxdepth = 2),\n",
        "                   trControl = trainControl(method = \"LOOCV\"))\n",
        "rpart.plot::rpart.plot(my_model2$finalModel, extra = 1)\n",
        "my_model2$results\n",
        "#>   maxdepth  Accuracy     Kappa\n",
        "#> 1        2 0.7137665 0.2373133"
      ],
      "id": "051d44e3-5e1f-48c6-8612-bb0dca89d154"
    },
    {
      "cell_type": "code",
      "execution_count": null,
      "metadata": {},
      "outputs": [],
      "source": [
        "my_model3 <- train(form = Survived ~ Class, data = my_data, method = \"rpart2\",\n",
        "                   tuneGrid = data.frame(maxdepth = 2),\n",
        "                   trControl = trainControl(method = \"LOOCV\"))\n",
        "rpart.plot::rpart.plot(my_model3$finalModel, extra = 1)\n",
        "my_model3$results\n",
        "#>   maxdepth  Accuracy     Kappa\n",
        "#> 1        2 0.6915039 0.2674485"
      ],
      "id": "586f85db-a45b-4aee-9ca5-75955976a307"
    },
    {
      "id": "51ee426e",
      "cell_type": "markdown",
      "source": "## 10.4 \u30ed\u30b8\u30b9\u30c6\u30a3\u30c3\u30af\u56de\u5e30",
      "metadata": {}
    },
    {
      "cell_type": "code",
      "execution_count": null,
      "metadata": {},
      "outputs": [],
      "source": [
        "curve(1 / (1 + exp(-x)), -6, 6)"
      ],
      "id": "ec798124-9bb4-49b1-a47c-ace485a41cd7"
    },
    {
      "cell_type": "code",
      "execution_count": null,
      "metadata": {},
      "outputs": [],
      "source": [
        "library(caret)\n",
        "library(PRROC)\n",
        "library(tidyverse)\n",
        "\n",
        "my_url <- str_c(\"https://raw.githubusercontent.com/taroyabuki\",\n",
        "                \"/fromzero/master/data/titanic.csv\")\n",
        "my_data <- read_csv(my_url)\n",
        "\n",
        "my_model <- train(form = Survived ~ ., data = my_data, method = \"glm\",\n",
        "                  trControl = trainControl(method = \"LOOCV\"))"
      ],
      "id": "7a1a2984-1b88-4326-9e06-200e50a5981b"
    },
    {
      "cell_type": "code",
      "execution_count": null,
      "metadata": {},
      "outputs": [],
      "source": [
        "coef(my_model$finalModel) %>%\n",
        "  as.data.frame\n",
        "#>                      .\n",
        "#> (Intercept)  2.0438374\n",
        "#> Class2nd    -1.0180950\n",
        "#> Class3rd    -1.7777622\n",
        "#> ClassCrew   -0.8576762\n",
        "#> SexMale     -2.4200603\n",
        "#> AgeChild     1.0615424"
      ],
      "id": "3731de58-06fd-44ea-b330-c4ae4f0b4438"
    },
    {
      "cell_type": "code",
      "execution_count": null,
      "metadata": {},
      "outputs": [],
      "source": [
        "my_model$results\n",
        "#>   parameter  Accuracy     Kappa\n",
        "#> 1      none 0.7782826 0.4448974"
      ],
      "id": "581e5f94-4302-473a-a96e-3d862d30b5d3"
    },
    {
      "id": "b05b8498",
      "cell_type": "markdown",
      "source": "# 11 \u6df1\u5c64\u5b66\u7fd2\u3068AutoML",
      "metadata": {}
    },
    {
      "cell_type": "code",
      "execution_count": null,
      "metadata": {},
      "outputs": [],
      "source": [
        "# Google Colaboratory\u306e\u74b0\u5883\u8a2d\u5b9a\n",
        "if (file.exists(\"/content\")) {\n",
        "  options(Ncpus = parallel::detectCores())\n",
        "  install.packages(c(\"h2o\", \"keras\"))\n",
        "}"
      ],
      "id": "e0c34414-4fc3-4c3d-850e-b07c283b385c"
    },
    {
      "id": "1dd2749a",
      "cell_type": "markdown",
      "source": "## 11.1 Keras\u306b\u3088\u308b\u56de\u5e30",
      "metadata": {}
    },
    {
      "cell_type": "code",
      "execution_count": null,
      "metadata": {},
      "outputs": [],
      "source": [
        "library(keras)\n",
        "library(tidyverse)\n",
        "my_url <- str_c(\"https://raw.githubusercontent.com/taroyabuki\",\n",
        "                \"/fromzero/master/data/wine.csv\")\n",
        "tmp <- read_csv(my_url)"
      ],
      "id": "705c4911-c0fb-48ca-8037-d683222d1f35"
    },
    {
      "cell_type": "code",
      "execution_count": null,
      "metadata": {},
      "outputs": [],
      "source": [
        "my_data <- tmp[sample(nrow(tmp)), ]"
      ],
      "id": "7d2da064-abfd-4c20-8ea5-f20101664d0e"
    },
    {
      "cell_type": "code",
      "execution_count": null,
      "metadata": {},
      "outputs": [],
      "source": [
        "X <- my_data %>%\n",
        "  select(-LPRICE2) %>% scale\n",
        "y <- my_data$LPRICE2"
      ],
      "id": "4022d64f-4988-4cdb-8fb9-edf0d9430391"
    },
    {
      "cell_type": "code",
      "execution_count": null,
      "metadata": {},
      "outputs": [],
      "source": [
        "curve(activation_relu(x), -3, 3)"
      ],
      "id": "b67fcc40-10d1-4e43-9840-7bd409472eb1"
    },
    {
      "cell_type": "code",
      "execution_count": null,
      "metadata": {},
      "outputs": [],
      "source": [
        "my_model <- keras_model_sequential() %>%\n",
        "  layer_dense(units = 3, activation = \"relu\", input_shape = c(4)) %>%\n",
        "  layer_dense(units = 1)\n",
        "\n",
        "summary(my_model) # \u30cd\u30c3\u30c8\u30ef\u30fc\u30af\u306e\u6982\u8981\n",
        "# \u5272\u611b\uff08Python\u306e\u7d50\u679c\u3092\u53c2\u7167\uff09"
      ],
      "id": "e986cabc-b798-4bc5-bbf2-64355255802f"
    },
    {
      "cell_type": "code",
      "execution_count": null,
      "metadata": {},
      "outputs": [],
      "source": [
        "my_model %>% compile(\n",
        "  loss = \"mse\",\n",
        "  optimizer = \"rmsprop\")"
      ],
      "id": "6f4402f6-bf08-4610-8959-16cd2c7d9e30"
    },
    {
      "cell_type": "code",
      "execution_count": null,
      "metadata": {},
      "outputs": [],
      "source": [
        "my_cb <- callback_early_stopping(\n",
        "  patience = 20,\n",
        "  restore_best_weights = TRUE)"
      ],
      "id": "c97f0e45-3029-48f2-8660-38776636fcc0"
    },
    {
      "cell_type": "code",
      "execution_count": null,
      "metadata": {},
      "outputs": [],
      "source": [
        "my_history <- my_model %>% fit(\n",
        "    x = X,\n",
        "    y = y,\n",
        "    validation_split = 0.25,\n",
        "    batch_size = 10,\n",
        "    epochs = 500,\n",
        "    callbacks = list(my_cb),\n",
        "    verbose = 0)"
      ],
      "id": "1125db88-0de1-4ef2-9900-cad0be8449a7"
    },
    {
      "cell_type": "code",
      "execution_count": null,
      "metadata": {},
      "outputs": [],
      "source": [
        "plot(my_history)"
      ],
      "id": "9732d3fd-61b1-4f90-ad4f-87862ee12f01"
    },
    {
      "cell_type": "code",
      "execution_count": null,
      "metadata": {},
      "outputs": [],
      "source": [
        "my_history\n",
        "#> Final epoch (plot to see history):\n",
        "#>     loss: 0.06124\n",
        "#> val_loss: 0.1132"
      ],
      "id": "03837d35-8633-4a23-bed1-6fc11e89b4d5"
    },
    {
      "cell_type": "code",
      "execution_count": null,
      "metadata": {},
      "outputs": [],
      "source": [
        "y_ <- my_model %>% predict(X)\n",
        "mean((y_ - y)^2)**0.5\n",
        "#> [1] 0.2724372"
      ],
      "id": "6585f05d-aee8-4f55-9571-e14dce0f0f4d"
    },
    {
      "id": "5a8e4a85",
      "cell_type": "markdown",
      "source": "## 11.2 Keras\u306b\u3088\u308b\u5206\u985e",
      "metadata": {}
    },
    {
      "cell_type": "code",
      "execution_count": null,
      "metadata": {},
      "outputs": [],
      "source": [
        "library(keras)\n",
        "library(tidyverse)\n",
        "my_data <- iris[sample(nrow(iris)), ]"
      ],
      "id": "0748d60d-84d6-467c-ac5d-e936a8194203"
    },
    {
      "cell_type": "code",
      "execution_count": null,
      "metadata": {},
      "outputs": [],
      "source": [
        "X <- my_data %>%\n",
        "  select(-Species) %>% scale\n",
        "y <- as.integer(my_data$Species) - 1"
      ],
      "id": "0ea81d01-1e7c-45f6-8a57-004723d07157"
    },
    {
      "cell_type": "code",
      "execution_count": null,
      "metadata": {},
      "outputs": [],
      "source": [
        "my_model <- keras_model_sequential() %>%\n",
        "  layer_dense(units = 3, activation = \"relu\", input_shape = c(4)) %>%\n",
        "  layer_dense(units = 3, activation = \"softmax\")"
      ],
      "id": "3e44c01b-2b51-439a-950f-af8a8afd913a"
    },
    {
      "cell_type": "code",
      "execution_count": null,
      "metadata": {},
      "outputs": [],
      "source": [
        "my_model %>% compile(loss = \"sparse_categorical_crossentropy\",\n",
        "                     optimizer = \"rmsprop\",\n",
        "                     metrics = c(\"accuracy\"))"
      ],
      "id": "a9375c87-4e80-481e-a0e0-c1c2d0d2b6f6"
    },
    {
      "cell_type": "code",
      "execution_count": null,
      "metadata": {},
      "outputs": [],
      "source": [
        "my_cb <- callback_early_stopping(\n",
        "  patience = 20,\n",
        "  restore_best_weights = TRUE)\n",
        "\n",
        "my_history <- my_model %>%\n",
        "  fit(x = X,\n",
        "    y = y,\n",
        "    validation_split = 0.25,\n",
        "    batch_size = 10,\n",
        "    epochs = 500,\n",
        "    callbacks = list(my_cb),\n",
        "    verbose = 0)\n",
        "\n",
        "plot(my_history)"
      ],
      "id": "c16b68cd-7f4c-4675-ba34-e183cea078ab"
    },
    {
      "cell_type": "code",
      "execution_count": null,
      "metadata": {},
      "outputs": [],
      "source": [
        "my_history\n",
        "#> Final epoch (plot to see history):\n",
        "#>         loss: 0.06206\n",
        "#>     accuracy: 0.9732\n",
        "#>     val_loss: 0.1269\n",
        "#> val_accuracy: 0.9211"
      ],
      "id": "bc41dc52-ad82-4bbd-9f4e-2b43a1107148"
    },
    {
      "cell_type": "code",
      "execution_count": null,
      "metadata": {},
      "outputs": [],
      "source": [
        "tmp <- my_model %>% predict(X)\n",
        "y_ <- apply(tmp, 1, which.max) - 1\n",
        "mean(y_ == y)\n",
        "#> [1] 0.9666667"
      ],
      "id": "67098d5e-9e8b-4177-9f4b-7410d89f3825"
    },
    {
      "cell_type": "code",
      "execution_count": null,
      "metadata": {},
      "outputs": [],
      "source": [
        "-mean(log(c(0.8, 0.7, 0.3, 0.8)))\n",
        "#> 0.5017337\n",
        "\n",
        "-mean(log(c(0.7, 0.6, 0.2, 0.7)))\n",
        "#> 0.7084034"
      ],
      "id": "91db81aa-debf-4d56-9141-dd01f8e4e504"
    },
    {
      "cell_type": "code",
      "execution_count": null,
      "metadata": {},
      "outputs": [],
      "source": [
        "y <- c(2, 1, 0, 1)\n",
        "y_1 <- list(c(0.1, 0.1, 0.8),\n",
        "            c(0.1, 0.7, 0.2),\n",
        "            c(0.3, 0.4, 0.3),\n",
        "            c(0.1, 0.8, 0.1))\n",
        "y_2 <- list(c(0.1, 0.2, 0.7),\n",
        "            c(0.2, 0.6, 0.2),\n",
        "            c(0.2, 0.5, 0.3),\n",
        "            c(0.2, 0.7, 0.1))"
      ],
      "id": "8b31fd63-23e3-4011-8667-8e51538a3f8f"
    },
    {
      "cell_type": "code",
      "execution_count": null,
      "metadata": {},
      "outputs": [],
      "source": [
        "c(mean(as.array(loss_sparse_categorical_crossentropy(y_true = y, y_pred = y_1))),\n",
        "  mean(as.array(loss_sparse_categorical_crossentropy(y_true = y, y_pred = y_2))))\n",
        "#> [1] 0.5017337 0.7084033"
      ],
      "id": "ba2925d1-be3b-49e3-87bd-c6fb02428192"
    },
    {
      "id": "28ee91dd",
      "cell_type": "markdown",
      "source": "## 11.3 MNIST\uff1a\u624b\u66f8\u304d\u6570\u5b57\u306e\u5206\u985e",
      "metadata": {}
    },
    {
      "cell_type": "code",
      "execution_count": null,
      "metadata": {},
      "outputs": [],
      "source": [
        "library(keras)\n",
        "library(tidyverse)\n",
        "keras::`%<-%`(c(c(x_train, y_train), c(x_test, y_test)), dataset_mnist())"
      ],
      "id": "1d7ac920-1e2c-486f-bf9d-6819ad7bdca4"
    },
    {
      "cell_type": "code",
      "execution_count": null,
      "metadata": {},
      "outputs": [],
      "source": [
        "dim(x_train)\n",
        "#> [1] 60000    28    28"
      ],
      "id": "e7df9d33-990d-4635-b902-c075bb78c6bc"
    },
    {
      "cell_type": "code",
      "execution_count": null,
      "metadata": {},
      "outputs": [],
      "source": [
        "x_train[5, , ]"
      ],
      "id": "e9a48ea4-a302-464a-a3aa-f3dce125954f"
    },
    {
      "cell_type": "code",
      "execution_count": null,
      "metadata": {},
      "outputs": [],
      "source": [
        "plot(as.raster(x = x_train[5, , ],\n",
        "               max = max(x_train)))"
      ],
      "id": "ffa4d700-24ab-4d68-8d44-34b47b141d0a"
    },
    {
      "cell_type": "code",
      "execution_count": null,
      "metadata": {},
      "outputs": [],
      "source": [
        "head(y_train)\n",
        "#> [1] 5 0 4 1 9 2"
      ],
      "id": "0b4f9e72-9b88-40f3-9765-58947a6f8e92"
    },
    {
      "cell_type": "code",
      "execution_count": null,
      "metadata": {},
      "outputs": [],
      "source": [
        "c(min(x_train), max(x_train))\n",
        "#> [1]   0 255"
      ],
      "id": "6fc935b8-24d7-45cd-b25e-39393d3ad898"
    },
    {
      "cell_type": "code",
      "execution_count": null,
      "metadata": {},
      "outputs": [],
      "source": [
        "x_train <- x_train / 255\n",
        "x_test  <- x_test  / 255"
      ],
      "id": "384ec5a3-fcbf-4aa7-8ee2-d832fd9bb847"
    },
    {
      "cell_type": "code",
      "execution_count": null,
      "metadata": {},
      "outputs": [],
      "source": [
        "my_index <- sample(1:60000, 6000)\n",
        "x_train <- x_train[my_index, , ]\n",
        "y_train <- y_train[my_index]"
      ],
      "id": "0b1512c3-7f78-459d-9a7e-3e7e4bfa2a14"
    },
    {
      "cell_type": "code",
      "execution_count": null,
      "metadata": {},
      "outputs": [],
      "source": [
        "my_model <- keras_model_sequential() %>%\n",
        "  layer_flatten(input_shape = c(28, 28)) %>%\n",
        "  layer_dense(units = 256, activation = \"relu\") %>%\n",
        "  layer_dense(units = 10, activation = \"softmax\")\n",
        "summary(my_model)\n",
        "# \u5272\u611b\uff08Python\u306e\u7d50\u679c\u3092\u53c2\u7167\uff09\n",
        "\n",
        "my_model %>% compile(loss = \"sparse_categorical_crossentropy\",\n",
        "                     optimizer = \"rmsprop\",\n",
        "                     metrics = c(\"accuracy\"))\n",
        "\n",
        "my_cb <- callback_early_stopping(patience = 5,\n",
        "                                 restore_best_weights = TRUE)"
      ],
      "id": "aabaadbf-48bd-405e-a4b3-106f0f13842e"
    },
    {
      "cell_type": "code",
      "execution_count": null,
      "metadata": {},
      "outputs": [],
      "source": [
        "my_history <- my_model %>%\n",
        "  fit(x = x_train,\n",
        "      y = y_train,\n",
        "      validation_split = 0.2,\n",
        "      batch_size = 128,\n",
        "      epochs = 20,\n",
        "      callbacks = list(my_cb),\n",
        "      verbose = 0)\n",
        "\n",
        "plot(my_history)"
      ],
      "id": "396c678a-36c7-4acf-a57c-14ad6d6eccf5"
    },
    {
      "cell_type": "code",
      "execution_count": null,
      "metadata": {},
      "outputs": [],
      "source": [
        "tmp <- my_model %>% predict(x_test)\n",
        "y_ <- apply(tmp, 1, which.max) - 1\n",
        "table(y_, y_test)"
      ],
      "id": "c2d3e998-e7b4-4c22-bccb-6dce44338985"
    },
    {
      "cell_type": "code",
      "execution_count": null,
      "metadata": {},
      "outputs": [],
      "source": [
        "#>    y_test\n",
        "#> y_     0    1    2    3    4    5    6    7    8    9\n",
        "#>   0  962    0    8    2    0    6   11    0    8   11\n",
        "#>   1    0 1110    1    0    3    1    3    8    2    4\n",
        "#>   2    0    5  959   13    4    4    2   16    6    1\n",
        "#>   3    1    1   22  958    1   27    0    7   33   13\n",
        "#>   4    2    0    6    1  905    8    6    6    3   14\n",
        "#>   5    5    2    0   12    1  809    9    1   15    4\n",
        "#>   6    6    3    8    0    8   11  922    0    5    1\n",
        "#>   7    1    1    7    7    1    2    0  963    4    8\n",
        "#>   8    2   13   19   13    4   16    5    0  890    5\n",
        "#>   9    1    0    2    4   55    8    0   27    8  948"
      ],
      "id": "fd778b30-863f-4d25-8dfd-6d6fa950a34f"
    },
    {
      "cell_type": "code",
      "execution_count": null,
      "metadata": {},
      "outputs": [],
      "source": [
        "mean(y_ == y_test)\n",
        "#> [1] 0.9426000"
      ],
      "id": "9cd3b705-bff5-4369-a9cb-f05ebe6ab0d6"
    },
    {
      "cell_type": "code",
      "execution_count": null,
      "metadata": {},
      "outputs": [],
      "source": [
        "my_model %>%\n",
        "  evaluate(x = x_test, y = y_test)\n",
        "#>      loss  accuracy\n",
        "#> 0.2071411 0.9426000"
      ],
      "id": "4c8a8ca9-a6f1-4b88-a058-6840c67d00c9"
    },
    {
      "cell_type": "code",
      "execution_count": null,
      "metadata": {},
      "outputs": [],
      "source": [
        "x_train2d <- x_train %>% array_reshape(c(-1, 28, 28, 1))\n",
        "x_test2d  <- x_test  %>% array_reshape(c(-1, 28, 28, 1))"
      ],
      "id": "42c9f22d-5356-4660-96eb-335d065d53a8"
    },
    {
      "cell_type": "code",
      "execution_count": null,
      "metadata": {},
      "outputs": [],
      "source": [
        "my_model <- keras_model_sequential() %>%\n",
        "  layer_conv_2d(filters = 32, kernel_size = 3,  # \u7573\u307f\u8fbc\u307f\u5c64\n",
        "                activation = \"relu\",\n",
        "                input_shape = c(28, 28, 1)) %>%\n",
        "  layer_max_pooling_2d(pool_size = 2) %>%       # \u30d7\u30fc\u30ea\u30f3\u30b0\u5c64\n",
        "  layer_flatten() %>%\n",
        "  layer_dense(units = 128, activation = \"relu\") %>%\n",
        "  layer_dense(units = 10, activation = \"softmax\")\n",
        "\n",
        "summary(my_model)\n",
        "# \u5272\u611b\uff08Python \u306e\u7d50\u679c\u3092\u53c2\u7167\uff09\n",
        "\n",
        "my_model %>% compile(loss = \"sparse_categorical_crossentropy\",\n",
        "                     optimizer = \"rmsprop\",\n",
        "                     metrics = c(\"accuracy\"))\n",
        "\n",
        "my_cb <- callback_early_stopping(patience = 5,\n",
        "                                 restore_best_weights = TRUE)"
      ],
      "id": "98a69b02-a92f-46bd-8459-654e92176a87"
    },
    {
      "cell_type": "code",
      "execution_count": null,
      "metadata": {},
      "outputs": [],
      "source": [
        "my_history <- my_model %>%\n",
        "  fit(x = x_train2d,\n",
        "      y = y_train,\n",
        "      validation_split = 0.2,\n",
        "      batch_size = 128,\n",
        "      epochs = 20,\n",
        "      callbacks = list(my_cb),\n",
        "      verbose = 0)\n",
        "\n",
        "plot(my_history)"
      ],
      "id": "1003e76d-1845-4a0d-a982-bfcf86e6400a"
    },
    {
      "cell_type": "code",
      "execution_count": null,
      "metadata": {},
      "outputs": [],
      "source": [
        "my_model %>%\n",
        "  evaluate(x = x_test2d, y = y_test)\n",
        "#>      loss  accuracy\n",
        "#> 0.1392894 0.9607000"
      ],
      "id": "f345ba85-9c22-41d1-a4bf-bf25003db84a"
    },
    {
      "cell_type": "code",
      "execution_count": null,
      "metadata": {},
      "outputs": [],
      "source": [
        "my_model <- keras_model_sequential() %>%\n",
        "  layer_conv_2d(filters = 20, kernel_size = 5, activation = \"relu\",\n",
        "                input_shape = c(28, 28, 1)) %>%\n",
        "  layer_max_pooling_2d(pool_size = 2, strides = 2) %>%\n",
        "  layer_conv_2d(filters = 50, kernel_size = 5, activation = \"relu\") %>%\n",
        "  layer_max_pooling_2d(pool_size = 2, strides = 2) %>%\n",
        "  layer_dropout(rate = 0.25) %>%\n",
        "  layer_flatten() %>%\n",
        "  layer_dense(units = 500, activation = \"relu\") %>%\n",
        "  layer_dropout(rate = 0.5) %>%\n",
        "  layer_dense(units = 10, activation = \"softmax\")\n",
        "\n",
        "my_model %>% compile(\n",
        "  loss = \"sparse_categorical_crossentropy\",\n",
        "  optimizer = \"rmsprop\",\n",
        "  metrics = c(\"accuracy\"))\n",
        "\n",
        "my_cb <- callback_early_stopping(patience = 5,\n",
        "                                 restore_best_weights = TRUE)"
      ],
      "id": "2f64432d-123e-4c43-9ba4-4a4d1fd04e65"
    },
    {
      "cell_type": "code",
      "execution_count": null,
      "metadata": {},
      "outputs": [],
      "source": [
        "my_history <- my_model %>%\n",
        "  fit(x = x_train2d,\n",
        "      y = y_train,\n",
        "      validation_split = 0.2,\n",
        "      batch_size = 128,\n",
        "      epochs = 20,\n",
        "      callbacks = list(my_cb),\n",
        "      verbose = 0)\n",
        "\n",
        "plot(my_history)"
      ],
      "id": "ebec66ee-26fe-40a7-a6d1-1489a2319e47"
    },
    {
      "cell_type": "code",
      "execution_count": null,
      "metadata": {},
      "outputs": [],
      "source": [
        "my_model %>%\n",
        "  evaluate(x = x_test2d, y = y_test)\n",
        "#>      loss  accuracy\n",
        "#> 0.07309694 0.98060000"
      ],
      "id": "74819a70-cb2c-4ebd-bb3e-254996600750"
    },
    {
      "cell_type": "code",
      "execution_count": null,
      "metadata": {},
      "outputs": [],
      "source": [
        "y_prob <- my_model %>% predict(x_test2d) # \u30ab\u30c6\u30b4\u30ea\u306b\u5c5e\u3059\u308b\u78ba\u7387\n",
        "\n",
        "my_result <- data.frame(\n",
        "  y_prob = apply(y_prob, 1, max),           # \u78ba\u7387\u306e\u6700\u5927\u5024\n",
        "  y_     = apply(y_prob, 1, which.max) - 1, # \u4e88\u6e2c\u30ab\u30c6\u30b4\u30ea\n",
        "  y      = y_test,                          # \u6b63\u89e3\n",
        "  id     = seq_len(length(y_test))) %>%     # \u756a\u53f7\n",
        "  filter(y_ != y) %>%                       # \u4e88\u6e2c\u304c\u306f\u305a\u308c\u305f\u3082\u306e\u3092\u6b8b\u3059\n",
        "  arrange(desc(y_prob))                     # \u78ba\u7387\u306e\u5927\u304d\u3044\u9806\u306b\u4e26\u3073\u66ff\u3048\u308b"
      ],
      "id": "430665cc-dba0-41e2-85aa-9d77760fcda5"
    },
    {
      "cell_type": "code",
      "execution_count": null,
      "metadata": {},
      "outputs": [],
      "source": [
        "head(my_result)\n",
        "#>      y_prob y_ y   id\n",
        "#> 1 0.9998116  9 4 2131\n",
        "#> 2 0.9988768  6 5 9730\n",
        "#> 3 0.9986107  3 5 2598\n",
        "#> 4 0.9971705  3 5 2036\n",
        "#> 5 0.9888211  1 6 2655\n",
        "#> 6 0.9857675  0 6 2119"
      ],
      "id": "5a16c1f3-0268-4d4c-a654-7747cd7f9701"
    },
    {
      "cell_type": "code",
      "execution_count": null,
      "metadata": {},
      "outputs": [],
      "source": [
        "tmp <- my_result[1:5, ]$id\n",
        "my_labels <- sprintf(\"%s (%s)\",\n",
        "  my_result[1:5, ]$y, tmp)\n",
        "my_fig <- expand.grid(\n",
        "  label = my_labels,\n",
        "  y = 28:1,\n",
        "  x = 1:28)\n",
        "my_fig$z <- as.vector(\n",
        "  x_test[tmp, , ])\n",
        "\n",
        "my_fig %>% ggplot(\n",
        "  aes(x = x, y = y, fill = z)) +\n",
        "  geom_raster() +\n",
        "  coord_fixed() +\n",
        "  theme_void() +\n",
        "  theme(legend.position = \"none\") +\n",
        "  facet_grid(. ~ label)"
      ],
      "id": "d27f356f-1ba4-4bb3-b997-a891265ffd7f"
    },
    {
      "id": "b4bd95cf",
      "cell_type": "markdown",
      "source": "## 11.4 AutoML",
      "metadata": {}
    },
    {
      "cell_type": "code",
      "execution_count": null,
      "metadata": {},
      "outputs": [],
      "source": [
        "library(h2o)\n",
        "library(keras)\n",
        "library(tidyverse)\n",
        "\n",
        "h2o.init()\n",
        "h2o.no_progress()\n",
        "# h2o.shutdown(prompt = FALSE) # \u505c\u6b62"
      ],
      "id": "55878cb4-c51c-4afb-8658-6908d90d48ad"
    },
    {
      "cell_type": "code",
      "execution_count": null,
      "metadata": {},
      "outputs": [],
      "source": [
        "my_url <- str_c(\"https://raw.githubusercontent.com/taroyabuki\",\n",
        "                \"/fromzero/master/data/wine.csv\")\n",
        "my_data <- read_csv(my_url)\n",
        "my_frame <- as.h2o(my_data) # \u901a\u5e38\u306e\u30c7\u30fc\u30bf\u30d5\u30ec\u30fc\u30e0\u3092H2OFrame\u306b\u5909\u63db\u3059\u308b\uff0e\n",
        "# \u3042\u308b\u3044\u306f\n",
        "my_frame <- h2o.importFile(my_url, header = TRUE) # \u30c7\u30fc\u30bf\u3092\u8aad\u307f\u8fbc\u3080\uff0e"
      ],
      "id": "09f87dd1-fd42-42fa-859f-42228480e62a"
    },
    {
      "cell_type": "code",
      "execution_count": null,
      "metadata": {},
      "outputs": [],
      "source": [
        "my_frame\n",
        "#>    LPRICE2 WRAIN DEGREES HRAIN ...\n",
        "#> 1 -0.99868   600 17.1167   160 ...\n",
        "#> 2 -0.45440   690 16.7333    80 ...\n",
        "#> 3 -0.80796   502 17.1500   130 ...\n",
        "#> 4 -1.50926   420 16.1333   110 ...\n",
        "#> 5 -1.71655   582 16.4167   187 ...\n",
        "#> 6 -0.41800   485 17.4833   187 ...\n",
        "#>\n",
        "#> [27 rows x 5 columns]\n",
        "\n",
        "# \u901a\u5e38\u306e\u30c7\u30fc\u30bf\u30d5\u30ec\u30fc\u30e0\u306b\u623b\u3059\uff0e\n",
        "my_frame %>% as.data.frame %>% head\n",
        "# \u7d50\u679c\u306f\u5272\u611b\uff08\u898b\u305f\u76ee\u306f\u540c\u3058\uff09"
      ],
      "id": "5467cf0d-42da-445a-b3c9-068e1bc747cd"
    },
    {
      "cell_type": "code",
      "execution_count": null,
      "metadata": {},
      "outputs": [],
      "source": [
        "my_model <- h2o.automl(\n",
        "    y = \"LPRICE2\",\n",
        "    training_frame = my_frame,\n",
        "    max_runtime_secs = 60)"
      ],
      "id": "0bd1d86d-080f-4152-810e-86a63fa92653"
    },
    {
      "cell_type": "code",
      "execution_count": null,
      "metadata": {},
      "outputs": [],
      "source": [
        "min(my_model@leaderboard$rmse)\n",
        "#> [1] 0.2922861"
      ],
      "id": "03660b2a-4827-4e5e-ac0f-433683ec03af"
    },
    {
      "cell_type": "code",
      "execution_count": null,
      "metadata": {},
      "outputs": [],
      "source": [
        "tmp <- my_model %>%\n",
        "  predict(my_frame) %>%\n",
        "  as.data.frame\n",
        "y_ <- tmp$predict\n",
        "y  <- my_data$LPRICE2\n",
        "\n",
        "plot(y, y_)"
      ],
      "id": "21133d86-aeb8-4f21-bd98-5bf08b105fd7"
    },
    {
      "cell_type": "code",
      "execution_count": null,
      "metadata": {},
      "outputs": [],
      "source": [
        "keras::`%<-%`(c(c(x_train, y_train), c(x_test, y_test)), dataset_mnist())\n",
        "my_index <- sample(1:60000, 6000)\n",
        "x_train <- x_train[my_index, , ]\n",
        "y_train <- y_train[my_index]"
      ],
      "id": "124efc38-f46a-4905-9353-23a4335b6c20"
    },
    {
      "cell_type": "code",
      "execution_count": null,
      "metadata": {},
      "outputs": [],
      "source": [
        "tmp <- x_train %>%\n",
        "  array_reshape(c(-1, 28 * 28)) %>%\n",
        "  as.data.frame\n",
        "tmp$y <- as.factor(y_train)\n",
        "my_train <- as.h2o(tmp)\n",
        "\n",
        "tmp <- x_test %>%\n",
        "  array_reshape(c(-1, 28 * 28)) %>%\n",
        "  as.data.frame\n",
        "my_test <- as.h2o(tmp)"
      ],
      "id": "2c889424-5677-4a6e-89b3-c79ea40fa320"
    },
    {
      "cell_type": "code",
      "execution_count": null,
      "metadata": {},
      "outputs": [],
      "source": [
        "my_model <- h2o.automl(\n",
        "    y = \"y\",\n",
        "    training_frame = my_train,\n",
        "    max_runtime_secs = 120)"
      ],
      "id": "cd176713-b25a-494b-8c84-a6cf276fff8f"
    },
    {
      "cell_type": "code",
      "execution_count": null,
      "metadata": {},
      "outputs": [],
      "source": [
        "min(my_model@leaderboard$\n",
        "    mean_per_class_error)\n",
        "#> [1] 0.0806190885648608"
      ],
      "id": "e1b18e16-a435-426d-afb7-ebce2265ef05"
    },
    {
      "cell_type": "code",
      "execution_count": null,
      "metadata": {},
      "outputs": [],
      "source": [
        "tmp <- my_model %>%\n",
        "  predict(my_test) %>% as.data.frame\n",
        "y_ <- tmp$predict\n",
        "\n",
        "mean(y_ == y_test)\n",
        "#> [1] 0.9306"
      ],
      "id": "acbf926a-769b-4531-9932-90301ec1bda2"
    },
    {
      "id": "bbbd2265",
      "cell_type": "markdown",
      "source": "# 12 \u6642\u7cfb\u5217\u4e88\u6e2c",
      "metadata": {}
    },
    {
      "cell_type": "code",
      "execution_count": null,
      "metadata": {},
      "outputs": [],
      "source": [
        "# Google Colaboratory\u306e\u74b0\u5883\u8a2d\u5b9a\n",
        "if (file.exists(\"/content\")) {\n",
        "  options(Ncpus = parallel::detectCores())\n",
        "  install.packages(c(\"caret\", \"fable\", \"prophet\", \"tsibble\"))\n",
        "}"
      ],
      "id": "0e7299c8-a746-40ca-9eb3-cfd0957be0d7"
    },
    {
      "id": "46cfafd8",
      "cell_type": "markdown",
      "source": "## 12.1 \u65e5\u6642\u3068\u65e5\u6642\u306e\u5217",
      "metadata": {}
    },
    {
      "cell_type": "code",
      "execution_count": null,
      "metadata": {},
      "outputs": [],
      "source": [
        "as.POSIXct(\"2021-01-01\")\n",
        "#> [1] \"2021-01-01 JST\""
      ],
      "id": "88abfbf7-1f73-4a39-a827-8d583efd1fe9"
    },
    {
      "cell_type": "code",
      "execution_count": null,
      "metadata": {},
      "outputs": [],
      "source": [
        "library(tsibble)\n",
        "\n",
        "seq(from = 2021, to = 2023, by = 1)\n",
        "#> [1] 2021 2022 2023\n",
        "\n",
        "seq(from = yearmonth(\"202101\"), to = yearmonth(\"202103\"), by = 2)\n",
        "#> <yearmonth[2]>\n",
        "#> [1] \"2021 1\" \"2021 3\"\n",
        "\n",
        "seq(from = as.POSIXct(\"2021-01-01\"), to = as.POSIXct(\"2021-01-03\"), by = \"1 day\")\n",
        "#> [1] \"2021-01-01 JST\" \"2021-01-02 JST\" \"2021-01-03 JST\"\n",
        "\n",
        "seq(from = as.POSIXct(\"2021-01-01 00:00:00\"),\n",
        "    to   = as.POSIXct(\"2021-01-01 03:00:00\"), by = \"2 hour\")\n",
        "#> [1] \"2021-01-01 00:00:00 JST\" \"2021-01-01 02:00:00 JST\""
      ],
      "id": "138dc89e-ad24-4420-8a4b-e4ea5d383f90"
    },
    {
      "id": "684ba0f4",
      "cell_type": "markdown",
      "source": "## 12.2 \u6642\u7cfb\u5217\u30c7\u30fc\u30bf\u306e\u4e88\u6e2c",
      "metadata": {}
    },
    {
      "cell_type": "code",
      "execution_count": null,
      "metadata": {},
      "outputs": [],
      "source": [
        "my_data <- as.vector(AirPassengers)"
      ],
      "id": "c3586734-ea8f-48a7-bbd7-a6b6f30f0595"
    },
    {
      "cell_type": "code",
      "execution_count": null,
      "metadata": {},
      "outputs": [],
      "source": [
        "n <- length(my_data) # \u30c7\u30fc\u30bf\u6570\uff08144\uff09\n",
        "k <- 108             # \u8a13\u7df4\u30c7\u30fc\u30bf\u6570"
      ],
      "id": "f00d11a1-0190-4142-9222-4975957fa945"
    },
    {
      "cell_type": "code",
      "execution_count": null,
      "metadata": {},
      "outputs": [],
      "source": [
        "library(tidyverse)\n",
        "library(tsibble)\n",
        "\n",
        "my_ds <- seq(\n",
        "  from = yearmonth(\"1949/01\"),\n",
        "  to   = yearmonth(\"1960/12\"),\n",
        "  by   = 1)\n",
        "my_label <- rep(\n",
        "  c(\"train\", \"test\"),\n",
        "  c(k, n - k))\n",
        "my_df <- tsibble(\n",
        "  ds    = my_ds,\n",
        "  x     = 0:(n - 1),\n",
        "  y     = my_data,\n",
        "  label = my_label,\n",
        "  index = ds) # \u65e5\u6642\u306e\u5217\u306e\u6307\u5b9a\n",
        "\n",
        "head(my_df)\n",
        "#> # A tsibble: 6 x 4 [1M]\n",
        "#>       ds     x     y label\n",
        "#>    <mth> <int> <dbl> <chr>\n",
        "#> 1 1949 1     0   112 train\n",
        "#> 2 1949 2     1   118 train\n",
        "#> 3 1949 3     2   132 train\n",
        "#> 4 1949 4     3   129 train\n",
        "#> 5 1949 5     4   121 train\n",
        "#> 6 1949 6     5   135 train"
      ],
      "id": "f6f668c4-9fca-4ede-a8e2-e434a7f2e6b4"
    },
    {
      "cell_type": "code",
      "execution_count": null,
      "metadata": {},
      "outputs": [],
      "source": [
        "my_train <- my_df[  1:k , ]\n",
        "my_test  <- my_df[-(1:k), ]\n",
        "y <- my_test$y"
      ],
      "id": "f119ac75-79b3-4a3e-acb5-783782a646b8"
    },
    {
      "cell_type": "code",
      "execution_count": null,
      "metadata": {},
      "outputs": [],
      "source": [
        "my_plot <- my_df %>%\n",
        "  ggplot(aes(x = ds,\n",
        "             y = y,\n",
        "             color = label)) +\n",
        "  geom_line()\n",
        "my_plot"
      ],
      "id": "b8ae41cc-227f-4547-bdcb-9fd6a98aea30"
    },
    {
      "cell_type": "code",
      "execution_count": null,
      "metadata": {},
      "outputs": [],
      "source": [
        "library(caret)\n",
        "my_lm_model <- train(form = y ~ x, data = my_train, method = \"lm\")\n",
        "y_ <- my_lm_model %>% predict(my_test)\n",
        "caret::RMSE(y, y_) # RMSE\uff08\u30c6\u30b9\u30c8\uff09\n",
        "#> [1] 70.63707"
      ],
      "id": "8378e21c-7393-44d7-a862-9b4db5176455"
    },
    {
      "cell_type": "code",
      "execution_count": null,
      "metadata": {},
      "outputs": [],
      "source": [
        "y_ <- my_lm_model %>% predict(my_df)\n",
        "tmp <- my_df %>%\n",
        "  mutate(y = y_, label = \"model\")\n",
        "my_plot + geom_line(data = tmp)"
      ],
      "id": "3b4ead0c-681f-44bf-9e2d-ce60406fde2d"
    },
    {
      "cell_type": "code",
      "execution_count": null,
      "metadata": {},
      "outputs": [],
      "source": [
        "library(fable)\n",
        "my_arima_model <- my_train %>% model(ARIMA(y))\n",
        "my_arima_model\n",
        "#> # A mable: 1 x 1\n",
        "#>                  `ARIMA(y)`\n",
        "#>                     <model>\n",
        "#> 1 <ARIMA(1,1,0)(0,1,0)[12]>"
      ],
      "id": "b281dfdb-7c68-43a6-a09b-d5a6fca84ed5"
    },
    {
      "cell_type": "code",
      "execution_count": null,
      "metadata": {},
      "outputs": [],
      "source": [
        "tmp <- my_arima_model %>% forecast(h = \"3 years\")\n",
        "head(tmp)\n",
        "#> # A fable: 6 x 4 [1M]\n",
        "#> # Key:     .model [1]\n",
        "#> .model       ds           y .mean\n",
        "#> <chr>     <mth>      <dist> <dbl>\n",
        "#> 1 ARIMA(y) 1958 1  N(346, 94)  346.\n",
        "#> 2 ARIMA(y) 1958 2 N(332, 148)  332.\n",
        "#> 3 ARIMA(y) 1958 3 N(387, 210)  387.\n",
        "#> 4 ARIMA(y) 1958 4 N(379, 271)  379.\n",
        "#> 5 ARIMA(y) 1958 5 N(386, 332)  386.\n",
        "#> 6 ARIMA(y) 1958 6 N(453, 393)  453."
      ],
      "id": "8fa4af23-d838-4a01-b81b-d564f0e16091"
    },
    {
      "cell_type": "code",
      "execution_count": null,
      "metadata": {},
      "outputs": [],
      "source": [
        "y_ <- tmp$.mean\n",
        "caret::RMSE(y_, y)\n",
        "#> [1] 22.13223"
      ],
      "id": "ed808910-5abb-41b9-be3d-a938ed0fa01b"
    },
    {
      "cell_type": "code",
      "execution_count": null,
      "metadata": {},
      "outputs": [],
      "source": [
        "# \u4e88\u6e2c\u7d50\u679c\u306e\u307f\u3067\u3088\u3044\u5834\u5408\n",
        "#tmp %>% autoplot\n",
        "\n",
        "tmp %>% autoplot +\n",
        "  geom_line(data = my_df,\n",
        "            aes(x = ds,\n",
        "                y = y,\n",
        "                color = label))"
      ],
      "id": "3f954565-58e2-43ce-8eee-4c77a697fe58"
    },
    {
      "cell_type": "code",
      "execution_count": null,
      "metadata": {},
      "outputs": [],
      "source": [
        "library(prophet)\n",
        "my_prophet_model <- my_train %>%\n",
        "  prophet(seasonality.mode = \"multiplicative\")"
      ],
      "id": "0a23421a-5ef7-4578-9322-b1fcb1016fc8"
    },
    {
      "cell_type": "code",
      "execution_count": null,
      "metadata": {},
      "outputs": [],
      "source": [
        "tmp <- my_prophet_model %>% predict(my_test)\n",
        "head(tmp[, c(\"ds\", \"yhat\", \"yhat_lower\", \"yhat_upper\")])\n",
        "#> # A tibble: 6 x 4\n",
        "#>   ds                   yhat yhat_lower yhat_upper\n",
        "#>   <dttm>              <dbl>      <dbl>      <dbl>\n",
        "#> 1 1958-01-01 00:00:00  359.       350.       368.\n",
        "#> 2 1958-02-01 00:00:00  350.       342.       360.\n",
        "#> 3 1958-03-01 00:00:00  407.       398.       416.\n",
        "#> 4 1958-04-01 00:00:00  398.       389.       407.\n",
        "#> 5 1958-05-01 00:00:00  402.       393.       411.\n",
        "#> 6 1958-06-01 00:00:00  459.       450.       469."
      ],
      "id": "8361164c-80e3-46cb-ae58-b9bd4ed056e8"
    },
    {
      "cell_type": "code",
      "execution_count": null,
      "metadata": {},
      "outputs": [],
      "source": [
        "y_ <- tmp$yhat\n",
        "caret::RMSE(y_, y)\n",
        "#> [1] 33.68719"
      ],
      "id": "f3803e04-4a7e-4e6e-82cd-c96c4f8eeab2"
    },
    {
      "cell_type": "code",
      "execution_count": null,
      "metadata": {},
      "outputs": [],
      "source": [
        "# my_prophet_model %>% plot(tmp) # \u4e88\u6e2c\u7d50\u679c\u306e\u307f\u3067\u3088\u3044\u5834\u5408\n",
        "\n",
        "my_prophet_model %>% plot(tmp) +\n",
        "  geom_line(data = my_train, aes(x = as.POSIXct(ds))) +\n",
        "  geom_line(data = my_test,  aes(x = as.POSIXct(ds)), color = \"red\")"
      ],
      "id": "1024dbd5-9c6f-44f9-bf57-453464416a8f"
    },
    {
      "id": "9c1ddb85",
      "cell_type": "markdown",
      "source": "# 13 \u6559\u5e2b\u306a\u3057\u5b66\u7fd2",
      "metadata": {}
    },
    {
      "cell_type": "code",
      "execution_count": null,
      "metadata": {},
      "outputs": [],
      "source": [
        "# Google Colaboratory\u306e\u74b0\u5883\u8a2d\u5b9a\n",
        "if (file.exists(\"/content\")) {\n",
        "  options(Ncpus = parallel::detectCores())\n",
        "  install.packages(c(\"factoextra\", \"ggbiplot\", \"igraph\"))\n",
        "}"
      ],
      "id": "b9e9b4fe-b804-47db-8b8a-003fcb79dacb"
    },
    {
      "id": "5317959d",
      "cell_type": "markdown",
      "source": "## 13.1 \u4e3b\u6210\u5206\u5206\u6790",
      "metadata": {}
    },
    {
      "cell_type": "code",
      "execution_count": null,
      "metadata": {},
      "outputs": [],
      "source": [
        "library(tidyverse)\n",
        "\n",
        "my_data <- data.frame(\n",
        "  language  = c(  0,  20,  20,  25,  22,  17),\n",
        "  english   = c(  0,  20,  40,  20,  24,  18),\n",
        "  math      = c(100,  20,   5,  30,  17,  25),\n",
        "  science   = c(  0,  20,   5,  25,  16,  23),\n",
        "  society   = c(  0,  20,  30,   0,  21,  17),\n",
        "  row.names = c(\"A\", \"B\", \"C\", \"D\", \"E\", \"F\"))\n",
        "my_result <- my_data %>% prcomp # \u4e3b\u6210\u5206\u5206\u6790\u306e\u5b9f\u884c"
      ],
      "id": "fe266b79-a191-412a-896b-6e3e8f4de5ca"
    },
    {
      "cell_type": "code",
      "execution_count": null,
      "metadata": {},
      "outputs": [],
      "source": [
        "my_result$x # \u4e3b\u6210\u5206\u30b9\u30b3\u30a2\n",
        "#>          PC1        PC2 ...\n",
        "#> A -74.907282  -7.010808 ...\n",
        "#> B  13.818842   2.753459 ...\n",
        "#> C  33.714034 -18.417290 ...\n",
        "#> D   1.730630  17.876372 ...\n",
        "#> E  17.837474  -1.064998 ...\n",
        "#> F   7.806303   5.863266 ..."
      ],
      "id": "12415d41-414b-4c72-9e83-1f8f228bd2ba"
    },
    {
      "cell_type": "code",
      "execution_count": null,
      "metadata": {},
      "outputs": [],
      "source": [
        "my_result %>% ggbiplot::ggbiplot(\n",
        "  labels = row.names(my_data),\n",
        "  scale = 0)"
      ],
      "id": "050798a6-ad31-4bd0-b0f6-cd7902145af3"
    },
    {
      "cell_type": "code",
      "execution_count": null,
      "metadata": {},
      "outputs": [],
      "source": [
        "my_result$rotation %>% t\n",
        "#>       language    english         math    science    society\n",
        "#> PC1  0.2074983  0.3043604 -0.887261240  0.1301984  0.2452041\n",
        "#> PC2  0.2794627 -0.3250521 -0.097642669  0.7026667 -0.5594347\n",
        "#> PC3 -0.3061175 -0.6157986 -0.056345381  0.3384462  0.6398152\n",
        "#> PC4  0.7649426 -0.4716969 -0.007654992 -0.4180454  0.1324548\n",
        "#> PC5  0.4472136  0.4472136  0.447213595  0.4472136  0.4472136"
      ],
      "id": "42518822-dc70-4122-b43a-a39380a4aa93"
    },
    {
      "cell_type": "code",
      "execution_count": null,
      "metadata": {},
      "outputs": [],
      "source": [
        "summary(my_result)\n",
        "#> Importance of components:\n",
        "#>                            PC1      PC2     PC3     PC4       PC5\n",
        "#> Standard deviation     38.2644 12.25566 5.58845 1.52970 1.232e-15\n",
        "#> Proportion of Variance  0.8885  0.09115 0.01895 0.00142 0.000e+00\n",
        "#> Cumulative Proportion   0.8885  0.97963 0.99858 1.00000 1.000e+00"
      ],
      "id": "7b5c304e-7a3d-4b97-8c66-d8662dd4fe9a"
    },
    {
      "cell_type": "code",
      "execution_count": null,
      "metadata": {},
      "outputs": [],
      "source": [
        "my_result <- prcomp(\n",
        "  x = my_data,\n",
        "  scale = TRUE)       # \u6a19\u6e96\u5316\n",
        "# \u3042\u308b\u3044\u306f\n",
        "my_result <- prcomp(\n",
        "  x = scale(my_data)) # \u6a19\u6e96\u5316\u30c7\u30fc\u30bf\n",
        "\n",
        "my_result$x # \u4e3b\u6210\u5206\u30b9\u30b3\u30a2\n",
        "#>          PC1        PC2 ...\n",
        "#> A -3.6737215 -0.5688501 ...\n",
        "#> B  0.6528793  0.2469258 ...\n",
        "#> C  1.5682936 -1.7425981 ...\n",
        "#> D  0.2505043  1.6400394 ...\n",
        "#> E  0.8861864 -0.1104931 ...\n",
        "#> F  0.3158579  0.5349762 ..."
      ],
      "id": "4b0f2ae6-c78e-4e79-aa2e-fdae255faef3"
    },
    {
      "cell_type": "code",
      "execution_count": null,
      "metadata": {},
      "outputs": [],
      "source": [
        "Z  <- my_data %>% scale(scale = FALSE) %>% as.matrix # \u6a19\u6e96\u5316\u3057\u306a\u3044\u5834\u5408\n",
        "#Z <- my_data %>% scale(scale = TRUE)  %>% as.matrix # \u6a19\u6e96\u5316\u3059\u308b\u5834\u5408\n",
        "\n",
        "n <- nrow(my_data)\n",
        "S <- var(Z)                          # \u5206\u6563\u5171\u5206\u6563\u884c\u5217\n",
        "#S <- t(Z) %*% Z / (n - 1)           # \uff08\u540c\u3058\u7d50\u679c\uff09\n",
        "tmp <- eigen(S)                      # \u56fa\u6709\u5024\u3068\u56fa\u6709\u30d9\u30af\u30c8\u30eb\n",
        "Z %*% tmp$vectors                    # \u4e3b\u6210\u5206\u30b9\u30b3\u30a2\uff08\u7d50\u679c\u306f\u5272\u611b\uff09\n",
        "cumsum(tmp$values) / sum(tmp$values) # \u7d2f\u7a4d\u5bc4\u4e0e\u7387\n",
        "#> [1] 0.8884833 0.9796285 0.9985801 1.0000000 1.0000000"
      ],
      "id": "b8b44a49-e993-4e23-b8ad-8fb06a6b311e"
    },
    {
      "cell_type": "code",
      "execution_count": null,
      "metadata": {},
      "outputs": [],
      "source": [
        "udv <- svd(Z) # \u7279\u7570\u5024\u5206\u89e3\n",
        "U <- udv$u\n",
        "d <- udv$d\n",
        "V <- udv$v\n",
        "W <- diag(d)\n",
        "\n",
        "c(all.equal(Z, U %*% W %*% t(V), check.attributes = FALSE), # \u78ba\u8a8d1\n",
        "  all.equal(t(U) %*% U, diag(dim(U)[2])),                   # \u78ba\u8a8d2\n",
        "  all.equal(t(V) %*% V, diag(dim(V)[2])))                   # \u78ba\u8a8d3\n",
        "#> [1] TRUE TRUE TRUE\n",
        "\n",
        "U %*% W            # \u4e3b\u6210\u5206\u30b9\u30b3\u30a2\uff08\u7d50\u679c\u306f\u5272\u611b\uff09\n",
        "\n",
        "e <- d^2 / (n - 1) # \u5206\u6563\u5171\u5206\u6563\u884c\u5217\u306e\u56fa\u6709\u5024\n",
        "cumsum(e) / sum(e) # \u7d2f\u7a4d\u5bc4\u4e0e\u7387\n",
        "#> [1] 0.8884833 0.9796285 0.9985801 1.0000000 1.0000000"
      ],
      "id": "f90d5a8f-7ea6-45f8-a9a6-d38910c07377"
    },
    {
      "id": "429bac06",
      "cell_type": "markdown",
      "source": "## 13.2 \u30af\u30e9\u30b9\u30bf\u5206\u6790",
      "metadata": {}
    },
    {
      "cell_type": "code",
      "execution_count": null,
      "metadata": {},
      "outputs": [],
      "source": [
        "library(tidyverse)\n",
        "\n",
        "my_data <- data.frame(\n",
        "  x         = c(  0, -16,  10,  10),\n",
        "  y         = c(  0,   0,  10, -15),\n",
        "  row.names = c(\"A\", \"B\", \"C\", \"D\"))\n",
        "\n",
        "my_result <- my_data %>%\n",
        "  dist(\"euclidian\") %>% # dist\u3060\u3051\u3067\u3082\u53ef\n",
        "  hclust(\"complete\")    # hclust\u3060\u3051\u3067\u3082\u53ef"
      ],
      "id": "857a822b-50e2-4e71-934e-14c640a9a88f"
    },
    {
      "cell_type": "code",
      "execution_count": null,
      "metadata": {},
      "outputs": [],
      "source": [
        "my_result %>% factoextra::fviz_dend(\n",
        "  k = 3, # \u30af\u30e9\u30b9\u30bf\u6570\n",
        "  rect = TRUE, rect_fill = TRUE)"
      ],
      "id": "ed810dd6-2bec-44e9-8e48-7afff8de6ec0"
    },
    {
      "cell_type": "code",
      "execution_count": null,
      "metadata": {},
      "outputs": [],
      "source": [
        "my_result %>% factoextra::fviz_dend(\n",
        "  k = 3,\n",
        "  rect = TRUE, rect_fill = TRUE,\n",
        "  type = \"phylogenic\")"
      ],
      "id": "e468a316-e8b4-448a-a016-799315bf03c0"
    },
    {
      "cell_type": "code",
      "execution_count": null,
      "metadata": {},
      "outputs": [],
      "source": [
        "my_result %>% cutree(3)\n",
        "#> A B C D\n",
        "#> 1 2 1 3"
      ],
      "id": "4823a852-0347-40ce-a44e-1143e1f43fbc"
    },
    {
      "cell_type": "code",
      "execution_count": null,
      "metadata": {},
      "outputs": [],
      "source": [
        "library(tidyverse)\n",
        "\n",
        "my_data <- data.frame(\n",
        "  language  = c(  0,  20,  20,  25,  22,  17),\n",
        "  english   = c(  0,  20,  40,  20,  24,  18),\n",
        "  math      = c(100,  20,   5,  30,  17,  25),\n",
        "  science   = c(  0,  20,   5,  25,  16,  23),\n",
        "  society   = c(  0,  20,  30,   0,  21,  17),\n",
        "  row.names = c(\"A\", \"B\", \"C\", \"D\", \"E\", \"F\"))\n",
        "\n",
        "try( # RMarkdown\u3067\u767a\u751f\u3059\u308b\u30a8\u30e9\u30fc\u3092\u56de\u907f\u3059\u308b\uff0e\n",
        "  my_data %>% scale %>%                        # \u5217\u3054\u3068\u306e\u6a19\u6e96\u5316\n",
        "    gplots::heatmap.2(cexRow = 1, cexCol = 1), # \u30e9\u30d9\u30eb\u306e\u30b5\u30a4\u30ba\u3092\u6307\u5b9a\u3057\u3066\u63cf\u753b\u3059\u308b\uff0e\n",
        "  silent = TRUE)"
      ],
      "id": "eafd5a7e-4884-413a-ac3e-983e1ceddd38"
    },
    {
      "cell_type": "code",
      "execution_count": null,
      "metadata": {},
      "outputs": [],
      "source": [
        "library(tidyverse)\n",
        "\n",
        "my_data <- data.frame(\n",
        "  x         = c(  0, -16,  10,  10),\n",
        "  y         = c(  0,   0,  10, -15),\n",
        "  row.names = c(\"A\", \"B\", \"C\", \"D\"))\n",
        "\n",
        "my_result <- my_data %>% kmeans(3)"
      ],
      "id": "ec11575e-5a88-4dac-a3a9-f52acbe0147f"
    },
    {
      "cell_type": "code",
      "execution_count": null,
      "metadata": {},
      "outputs": [],
      "source": [
        "my_result$cluster\n",
        "#> A B C D\n",
        "#> 2 3 2 1"
      ],
      "id": "f2ff84d9-16d0-4724-ba17-108a877e678d"
    },
    {
      "cell_type": "code",
      "execution_count": null,
      "metadata": {},
      "outputs": [],
      "source": [
        "library(tidyverse)\n",
        "library(factoextra)\n",
        "\n",
        "my_data <- iris[, -5]\n",
        "\n",
        "f <- 2:5 %>% map(function(k) {\n",
        "  my_data %>% kmeans(k) %>%\n",
        "    fviz_cluster(data = my_data, geom = \"point\") +\n",
        "    ggtitle(sprintf(\"k = %s\", k))\n",
        "})\n",
        "gridExtra::grid.arrange(f[[1]], f[[2]], f[[3]], f[[4]], ncol = 2)"
      ],
      "id": "cff2c80f-f264-4fbc-b756-4d72a37e02e8"
    },
    {
      "cell_type": "code",
      "execution_count": null,
      "metadata": {},
      "outputs": [],
      "source": [
        "fviz_nbclust(my_data, kmeans, method = \"wss\")"
      ],
      "id": "7ea26b08-f578-4289-8207-3786eeb7f8a3"
    },
    {
      "cell_type": "code",
      "execution_count": null,
      "metadata": {},
      "outputs": [],
      "source": [
        "library(tidyverse)\n",
        "my_data <- iris[, -5] %>% scale\n",
        "\n",
        "my_result <- prcomp(my_data)$x %>% as.data.frame # \u4e3b\u6210\u5206\u5206\u6790\n",
        "\n",
        "# \u975e\u968e\u5c64\u7684\u30af\u30e9\u30b9\u30bf\u5206\u6790\u306e\u5834\u5408\n",
        "my_result$cluster <- (my_data %>% scale %>% kmeans(3))$cluster %>% as.factor\n",
        "\n",
        "# \u968e\u5c64\u7684\u30af\u30e9\u30b9\u30bf\u5206\u6790\u306e\u5834\u5408\n",
        "#my_result$cluster <- my_data %>% dist %>% hclust %>% cutree(3) %>% as.factor\n",
        "\n",
        "my_result %>%\n",
        "  ggplot(aes(x = PC1, y = PC2, color = cluster)) + # \u8272\u3067\u30af\u30e9\u30b9\u30bf\u3092\u8868\u73fe\u3059\u308b\uff0e\n",
        "  geom_point(shape = iris$Species) +               # \u5f62\u3067\u54c1\u7a2e\u3092\u8868\u73fe\u3059\u308b\uff0e\n",
        "  theme(legend.position = \"none\")"
      ],
      "id": "ccb76efd-b721-4a0f-ba1b-6abeb4d167be"
    }
  ],
  "nbformat": 4,
  "nbformat_minor": 5,
  "metadata": {
    "kernelspec": {
      "name": "ir",
      "display_name": "R"
    }
  }
}