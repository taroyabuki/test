{
  "cells": [
    {
      "id": "4fb91120",
      "cell_type": "markdown",
      "source": [
        "[辻真吾・矢吹太朗『ゼロからはじめるデータサイエンス入門』（講談社, 2021）](https://github.com/taroyabuki/fromzero)"
      ],
      "metadata": {
        "id": "4fb91120"
      }
    },
    {
      "cell_type": "code",
      "execution_count": null,
      "metadata": {
        "id": "89a5b8b9-a413-421b-afd9-e570de30f175"
      },
      "outputs": [],
      "source": [
        "# これはRのコードの例です．\n",
        "1 + 1"
      ],
      "id": "89a5b8b9-a413-421b-afd9-e570de30f175"
    },
    {
      "id": "8c0359e4",
      "cell_type": "markdown",
      "source": [
        "# 1 コンピュータとネットワーク\n",
        "\n",
        "\n"
      ],
      "metadata": {
        "id": "8c0359e4"
      }
    },
    {
      "id": "8ffca27e",
      "cell_type": "markdown",
      "source": [
        "## 1.1 コンピュータの基本操作\n",
        "\n",
        "\n"
      ],
      "metadata": {
        "id": "8ffca27e"
      }
    },
    {
      "id": "af98991e",
      "cell_type": "markdown",
      "source": [
        "## 1.2 ネットワークの仕組み\n",
        "\n",
        "\n"
      ],
      "metadata": {
        "id": "af98991e"
      }
    },
    {
      "id": "1e9a0dbb",
      "cell_type": "markdown",
      "source": [
        "# 2 データサイエンスのための環境\n",
        "\n",
        "\n"
      ],
      "metadata": {
        "id": "1e9a0dbb"
      }
    },
    {
      "id": "afaaea87",
      "cell_type": "markdown",
      "source": [
        "## 2.1 実行環境の選択\n",
        "\n",
        "\n"
      ],
      "metadata": {
        "id": "afaaea87"
      }
    },
    {
      "id": "0cd44546",
      "cell_type": "markdown",
      "source": [
        "## 2.2 クラウド\n",
        "\n",
        "\n"
      ],
      "metadata": {
        "id": "0cd44546"
      }
    },
    {
      "id": "a0cdaec4",
      "cell_type": "markdown",
      "source": [
        "## 2.3 Docker\n",
        "\n",
        "\n"
      ],
      "metadata": {
        "id": "a0cdaec4"
      }
    },
    {
      "id": "3d953d16",
      "cell_type": "markdown",
      "source": [
        "## 2.4 ターミナルの使い方\n",
        "\n",
        "\n"
      ],
      "metadata": {
        "id": "3d953d16"
      }
    },
    {
      "id": "e13aecd1",
      "cell_type": "markdown",
      "source": [
        "## 2.5 RとPython\n",
        "\n",
        "\n"
      ],
      "metadata": {
        "id": "e13aecd1"
      }
    },
    {
      "id": "2c7bc49c",
      "cell_type": "markdown",
      "source": [
        "## 2.6 サンプルコードの利用"
      ],
      "metadata": {
        "id": "2c7bc49c"
      }
    },
    {
      "cell_type": "code",
      "execution_count": null,
      "metadata": {
        "id": "c2980f60-9ef6-4c6a-bdc3-97ae22f9b223"
      },
      "outputs": [],
      "source": [
        "1 + 1\n",
        "\n",
        "print(1 + 2)\n",
        "\n",
        "1 + 3"
      ],
      "id": "c2980f60-9ef6-4c6a-bdc3-97ae22f9b223"
    },
    {
      "id": "31c69af0",
      "cell_type": "markdown",
      "source": [
        "# 3 RとPython"
      ],
      "metadata": {
        "id": "31c69af0"
      }
    },
    {
      "cell_type": "code",
      "execution_count": null,
      "metadata": {
        "id": "b0cc9802-aa47-46ce-a795-e7a0bd92b39d"
      },
      "outputs": [],
      "source": [
        "# Google Colaboratoryの環境設定\n",
        "if (file.exists(\"/content\")) {\n",
        "  options(Ncpus = parallel::detectCores())\n",
        "  install.packages(c(\"furrr\", \"keras\", \"proxy\"))\n",
        "}"
      ],
      "id": "b0cc9802-aa47-46ce-a795-e7a0bd92b39d"
    },
    {
      "id": "f58c83ca",
      "cell_type": "markdown",
      "source": [
        "## 3.1 入門"
      ],
      "metadata": {
        "id": "f58c83ca"
      }
    },
    {
      "cell_type": "code",
      "execution_count": null,
      "metadata": {
        "id": "662db70d-3f09-46ff-9a81-fadcee558d49"
      },
      "outputs": [],
      "source": [
        "0x10"
      ],
      "id": "662db70d-3f09-46ff-9a81-fadcee558d49"
    },
    {
      "cell_type": "code",
      "execution_count": null,
      "metadata": {
        "id": "4c6cf9a8-759b-4438-a7d3-39a140df8e5e"
      },
      "outputs": [],
      "source": [
        "1.23e5"
      ],
      "id": "4c6cf9a8-759b-4438-a7d3-39a140df8e5e"
    },
    {
      "cell_type": "code",
      "execution_count": null,
      "metadata": {
        "id": "8bf2d7d6-39c8-4533-80d9-8d1073199167"
      },
      "outputs": [],
      "source": [
        "2 * 3"
      ],
      "id": "8bf2d7d6-39c8-4533-80d9-8d1073199167"
    },
    {
      "cell_type": "code",
      "execution_count": null,
      "metadata": {
        "id": "15a453d9-29e9-404b-9e3b-418a6ba67a44"
      },
      "outputs": [],
      "source": [
        "10 / 3"
      ],
      "id": "15a453d9-29e9-404b-9e3b-418a6ba67a44"
    },
    {
      "cell_type": "code",
      "execution_count": null,
      "metadata": {
        "id": "2402fd5f-6328-45e3-8787-f37b7d2eb1a6"
      },
      "outputs": [],
      "source": [
        "10 %/% 3 # 商\n",
        "\n",
        "10 %% 3  # 余り"
      ],
      "id": "2402fd5f-6328-45e3-8787-f37b7d2eb1a6"
    },
    {
      "cell_type": "code",
      "execution_count": null,
      "metadata": {
        "id": "4468ff75-2fc2-4281-91cd-3e6204043188"
      },
      "outputs": [],
      "source": [
        "x <- 2\n",
        "y <- 3\n",
        "x * y\n",
        "\n",
        "keras::`%<-%`(c(x, y), c(20, 30)) # まとめて名付け\n",
        "x * y"
      ],
      "id": "4468ff75-2fc2-4281-91cd-3e6204043188"
    },
    {
      "cell_type": "code",
      "execution_count": null,
      "metadata": {
        "id": "52d7ae7c-a6fb-4048-8892-c56046c36b50"
      },
      "outputs": [],
      "source": [
        "x <- 1 + 1\n",
        "# この段階では結果は表示されない\n",
        "\n",
        "x # 変数名を評価する．"
      ],
      "id": "52d7ae7c-a6fb-4048-8892-c56046c36b50"
    },
    {
      "cell_type": "code",
      "execution_count": null,
      "metadata": {
        "id": "40b4d79d-ded4-47e9-915b-be0fb246f4fb"
      },
      "outputs": [],
      "source": [
        "my_s <- \"abcde\""
      ],
      "id": "40b4d79d-ded4-47e9-915b-be0fb246f4fb"
    },
    {
      "cell_type": "code",
      "execution_count": null,
      "metadata": {
        "id": "0161f3c2-d975-4594-9372-0033fff35b2e"
      },
      "outputs": [],
      "source": [
        "nchar(my_s)"
      ],
      "id": "0161f3c2-d975-4594-9372-0033fff35b2e"
    },
    {
      "cell_type": "code",
      "execution_count": null,
      "metadata": {
        "id": "04043456-46a8-45e3-bbcf-80a725789588"
      },
      "outputs": [],
      "source": [
        "library(tidyverse)\n",
        "str_c(\"This is \", \"a\", \" pen.\")"
      ],
      "id": "04043456-46a8-45e3-bbcf-80a725789588"
    },
    {
      "cell_type": "code",
      "execution_count": null,
      "metadata": {
        "id": "c6491372-f6de-4e95-8f8b-f91dcba40712"
      },
      "outputs": [],
      "source": [
        "substr(x = my_s, start = 2, stop = 4)"
      ],
      "id": "c6491372-f6de-4e95-8f8b-f91dcba40712"
    },
    {
      "cell_type": "code",
      "execution_count": null,
      "metadata": {
        "id": "b911f730-889e-4c13-a4b8-46a3461d7f91"
      },
      "outputs": [],
      "source": [
        "tmp <- \"%s is %s.\"\n",
        "sprintf(tmp, \"This\", \"a pen\")"
      ],
      "id": "b911f730-889e-4c13-a4b8-46a3461d7f91"
    },
    {
      "cell_type": "code",
      "execution_count": null,
      "metadata": {
        "id": "e03b9980-c55b-4e67-987e-3e96c32381eb"
      },
      "outputs": [],
      "source": [
        "1 <= 2\n",
        "\n",
        "1 < 0"
      ],
      "id": "e03b9980-c55b-4e67-987e-3e96c32381eb"
    },
    {
      "cell_type": "code",
      "execution_count": null,
      "metadata": {
        "id": "6ece8c0c-6e4a-426c-bdd1-8847f5a580a1"
      },
      "outputs": [],
      "source": [
        "0.1 + 0.1 + 0.1 == 0.3\n",
        "\n",
        "all.equal(0.1 + 0.1 + 0.1, 0.3)"
      ],
      "id": "6ece8c0c-6e4a-426c-bdd1-8847f5a580a1"
    },
    {
      "cell_type": "code",
      "execution_count": null,
      "metadata": {
        "id": "bb01cb91-57e2-4e87-8bcb-a4480d2f4f7f"
      },
      "outputs": [],
      "source": [
        "TRUE & FALSE # 論理積（かつ）\n",
        "\n",
        "TRUE | FALSE # 論理和（または）\n",
        "\n",
        "!TRUE        # 否定（でない）"
      ],
      "id": "bb01cb91-57e2-4e87-8bcb-a4480d2f4f7f"
    },
    {
      "cell_type": "code",
      "execution_count": null,
      "metadata": {
        "id": "dc78f2b5-2e7f-4d4a-914c-ba844849d972"
      },
      "outputs": [],
      "source": [
        "ifelse(3 < 5, 0, 10)"
      ],
      "id": "dc78f2b5-2e7f-4d4a-914c-ba844849d972"
    },
    {
      "cell_type": "code",
      "execution_count": null,
      "metadata": {
        "id": "4babe062-5b21-4083-a440-f4ca792c1c09"
      },
      "outputs": [],
      "source": [
        "getwd()"
      ],
      "id": "4babe062-5b21-4083-a440-f4ca792c1c09"
    },
    {
      "cell_type": "code",
      "execution_count": null,
      "metadata": {
        "id": "f167b584-be23-43b6-95cf-d834d3a752e6"
      },
      "outputs": [],
      "source": [
        "setwd(\"..\")\n",
        "getwd()"
      ],
      "id": "f167b584-be23-43b6-95cf-d834d3a752e6"
    },
    {
      "id": "af8ddd2a",
      "cell_type": "markdown",
      "source": [
        "## 3.2 関数"
      ],
      "metadata": {
        "id": "af8ddd2a"
      }
    },
    {
      "cell_type": "code",
      "execution_count": null,
      "metadata": {
        "id": "70e1c66c-5fa2-4a3a-982b-6df61fdad05c"
      },
      "outputs": [],
      "source": [
        "sqrt(4)"
      ],
      "id": "70e1c66c-5fa2-4a3a-982b-6df61fdad05c"
    },
    {
      "cell_type": "code",
      "execution_count": null,
      "metadata": {
        "id": "0c7c3b2e-a09e-4256-82ad-f27bef7b19b8"
      },
      "outputs": [],
      "source": [
        "log(100, 10)"
      ],
      "id": "0c7c3b2e-a09e-4256-82ad-f27bef7b19b8"
    },
    {
      "cell_type": "code",
      "execution_count": null,
      "metadata": {
        "id": "3098ad53-c5fb-4bce-b5a3-99cdbbfe04c2"
      },
      "outputs": [],
      "source": [
        "log(100)         # 自然対数\n",
        "# あるいは\n",
        "log(100, exp(1)) # 省略しない場合\n"
      ],
      "id": "3098ad53-c5fb-4bce-b5a3-99cdbbfe04c2"
    },
    {
      "cell_type": "code",
      "execution_count": null,
      "metadata": {
        "id": "a6b7f995-840c-479c-adf7-2f86c3a80f1d"
      },
      "outputs": [],
      "source": [
        "log10(100) # 常用対数\n",
        "\n",
        "log2(1024) # 底が2の対数"
      ],
      "id": "a6b7f995-840c-479c-adf7-2f86c3a80f1d"
    },
    {
      "cell_type": "code",
      "execution_count": null,
      "metadata": {
        "id": "75885fca-32cf-4c38-8b34-548989b2a1ab"
      },
      "outputs": [],
      "source": [
        "library(tidyverse)\n",
        "4 %>% sqrt"
      ],
      "id": "75885fca-32cf-4c38-8b34-548989b2a1ab"
    },
    {
      "cell_type": "code",
      "execution_count": null,
      "metadata": {
        "id": "39f360f4-2421-49de-ae56-98bc196059b5"
      },
      "outputs": [],
      "source": [
        "exp(log(5))       # 通常の書き方\n",
        "# あるいは\n",
        "5 %>% log %>% exp # パイプを使う書き方\n"
      ],
      "id": "39f360f4-2421-49de-ae56-98bc196059b5"
    },
    {
      "cell_type": "code",
      "execution_count": null,
      "metadata": {
        "id": "79b32f39-99c2-4bb5-b5c0-18ec8e53cb41"
      },
      "outputs": [],
      "source": [
        "f <- function(a, b) {\n",
        "  a - b\n",
        "}"
      ],
      "id": "79b32f39-99c2-4bb5-b5c0-18ec8e53cb41"
    },
    {
      "cell_type": "code",
      "execution_count": null,
      "metadata": {
        "id": "e1066e4a-6c7a-454b-a25b-059398eab2fb"
      },
      "outputs": [],
      "source": [
        "f(3, 5)"
      ],
      "id": "e1066e4a-6c7a-454b-a25b-059398eab2fb"
    },
    {
      "cell_type": "code",
      "execution_count": null,
      "metadata": {
        "id": "8451a6d8-4ebb-4288-a570-5483635f1e5a"
      },
      "outputs": [],
      "source": [
        "f <- function(a, b = 5) {\n",
        "  a - b\n",
        "}\n",
        "\n",
        "f(3) # f(3, 5)と同じこと"
      ],
      "id": "8451a6d8-4ebb-4288-a570-5483635f1e5a"
    },
    {
      "cell_type": "code",
      "execution_count": null,
      "metadata": {
        "id": "f0a67300-1b1f-48c5-9a07-582e9bf5e3eb"
      },
      "outputs": [],
      "source": [
        "(function(a, b) { a - b })(3, 5)"
      ],
      "id": "f0a67300-1b1f-48c5-9a07-582e9bf5e3eb"
    },
    {
      "id": "b17b823d",
      "cell_type": "markdown",
      "source": [
        "## 3.3 コレクション"
      ],
      "metadata": {
        "id": "b17b823d"
      }
    },
    {
      "cell_type": "code",
      "execution_count": null,
      "metadata": {
        "id": "c0c32d20-4dfc-4e67-9d83-7011997fea83"
      },
      "outputs": [],
      "source": [
        "x <- c(\"foo\", \"bar\", \"baz\")"
      ],
      "id": "c0c32d20-4dfc-4e67-9d83-7011997fea83"
    },
    {
      "cell_type": "code",
      "execution_count": null,
      "metadata": {
        "id": "1930f902-1815-42a1-ad3d-aba5adc6a589"
      },
      "outputs": [],
      "source": [
        "length(x)"
      ],
      "id": "1930f902-1815-42a1-ad3d-aba5adc6a589"
    },
    {
      "cell_type": "code",
      "execution_count": null,
      "metadata": {
        "id": "ea1a2c0d-da44-4ead-ad49-e3243c441481"
      },
      "outputs": [],
      "source": [
        "x[2]"
      ],
      "id": "ea1a2c0d-da44-4ead-ad49-e3243c441481"
    },
    {
      "cell_type": "code",
      "execution_count": null,
      "metadata": {
        "id": "4e3baf35-8d61-4ee9-8a63-e57d7efe3598"
      },
      "outputs": [],
      "source": [
        "x[2] <- \"BAR\"\n",
        "x # 結果の確認\n",
        "\n",
        "x[2] <- \"bar\" # 元に戻す．"
      ],
      "id": "4e3baf35-8d61-4ee9-8a63-e57d7efe3598"
    },
    {
      "cell_type": "code",
      "execution_count": null,
      "metadata": {
        "id": "edc7b5bb-eac6-48d2-8b64-240803346ea3"
      },
      "outputs": [],
      "source": [
        "x[-2]"
      ],
      "id": "edc7b5bb-eac6-48d2-8b64-240803346ea3"
    },
    {
      "cell_type": "code",
      "execution_count": null,
      "metadata": {
        "id": "ed7aab60-705f-4a0f-8ab8-7570a59f53fd"
      },
      "outputs": [],
      "source": [
        "c(x, \"qux\")"
      ],
      "id": "ed7aab60-705f-4a0f-8ab8-7570a59f53fd"
    },
    {
      "cell_type": "code",
      "execution_count": null,
      "metadata": {
        "id": "b6f0057d-3323-4524-a3e5-bb61f8d4645a"
      },
      "outputs": [],
      "source": [
        "x <- c(x, \"qux\")\n",
        "x # 結果の確認"
      ],
      "id": "b6f0057d-3323-4524-a3e5-bb61f8d4645a"
    },
    {
      "cell_type": "code",
      "execution_count": null,
      "metadata": {
        "id": "1783a298-4dd4-4769-bb15-63d854c7cee9"
      },
      "outputs": [],
      "source": [
        "1:5"
      ],
      "id": "1783a298-4dd4-4769-bb15-63d854c7cee9"
    },
    {
      "cell_type": "code",
      "execution_count": null,
      "metadata": {
        "id": "0470def9-1027-49d9-aca2-bf8c0e31c130"
      },
      "outputs": [],
      "source": [
        "seq(from = 0, to = 10, by = 2)"
      ],
      "id": "0470def9-1027-49d9-aca2-bf8c0e31c130"
    },
    {
      "cell_type": "code",
      "execution_count": null,
      "metadata": {
        "id": "9857025b-e0f3-4303-a53f-dd00628b425c"
      },
      "outputs": [],
      "source": [
        "seq(from = 0, to = 1, by = 0.5)"
      ],
      "id": "9857025b-e0f3-4303-a53f-dd00628b425c"
    },
    {
      "cell_type": "code",
      "execution_count": null,
      "metadata": {
        "id": "cadec736-cfd2-4440-9d81-02a4975ea22f"
      },
      "outputs": [],
      "source": [
        "seq(from = 0, to = 100, length.out = 5)"
      ],
      "id": "cadec736-cfd2-4440-9d81-02a4975ea22f"
    },
    {
      "cell_type": "code",
      "execution_count": null,
      "metadata": {
        "id": "ddddf699-65b9-45bf-a6d3-986d3e2e49c4"
      },
      "outputs": [],
      "source": [
        "rep(x = 10, times = 5)"
      ],
      "id": "ddddf699-65b9-45bf-a6d3-986d3e2e49c4"
    },
    {
      "cell_type": "code",
      "execution_count": null,
      "metadata": {
        "id": "ad5cf4b4-381d-4525-b355-362f2d228d8f"
      },
      "outputs": [],
      "source": [
        "tmp <- c(\"グー\", \"パー\", \"グー\", \"パー\")\n",
        "x <- factor(tmp, levels = c(\"グー\", \"チョキ\", \"パー\"))\n",
        "x"
      ],
      "id": "ad5cf4b4-381d-4525-b355-362f2d228d8f"
    },
    {
      "cell_type": "code",
      "execution_count": null,
      "metadata": {
        "id": "459a9be5-8b9b-422d-aaf9-0b7c96bf7791"
      },
      "outputs": [],
      "source": [
        "x <- c(2, 3, 5, 7)\n",
        "\n",
        "x + 10 # 加算\n",
        "\n",
        "x * 10 # 乗算"
      ],
      "id": "459a9be5-8b9b-422d-aaf9-0b7c96bf7791"
    },
    {
      "cell_type": "code",
      "execution_count": null,
      "metadata": {
        "id": "91f19bd3-f0e7-47b4-8c3d-c5ac39f5dbc5"
      },
      "outputs": [],
      "source": [
        "x <- c(2, 3)\n",
        "sin(x)"
      ],
      "id": "91f19bd3-f0e7-47b4-8c3d-c5ac39f5dbc5"
    },
    {
      "cell_type": "code",
      "execution_count": null,
      "metadata": {
        "id": "3b5c3afa-5938-4f46-9e63-55bc26530704"
      },
      "outputs": [],
      "source": [
        "x <- c(2,  3,   5,    7)\n",
        "y <- c(1, 10, 100, 1000)\n",
        "x + y\n",
        "\n",
        "x * y"
      ],
      "id": "3b5c3afa-5938-4f46-9e63-55bc26530704"
    },
    {
      "cell_type": "code",
      "execution_count": null,
      "metadata": {
        "id": "af858b96-bdbc-4c48-88ef-ff2f25b76cb4"
      },
      "outputs": [],
      "source": [
        "sum(x * y)"
      ],
      "id": "af858b96-bdbc-4c48-88ef-ff2f25b76cb4"
    },
    {
      "cell_type": "code",
      "execution_count": null,
      "metadata": {
        "id": "89f7cc8f-64d3-4ac6-ac32-23da32fbada3"
      },
      "outputs": [],
      "source": [
        "x <- c(TRUE, FALSE)\n",
        "y <- c(TRUE, TRUE)\n",
        "x & y"
      ],
      "id": "89f7cc8f-64d3-4ac6-ac32-23da32fbada3"
    },
    {
      "cell_type": "code",
      "execution_count": null,
      "metadata": {
        "id": "2724d110-9dcb-4616-87ef-73a204cbb9fe"
      },
      "outputs": [],
      "source": [
        "u <- c(1, 2, 3)\n",
        "v <- c(1, 2, 3)\n",
        "w <- c(1, 2, 4)\n",
        "\n",
        "identical(u, v) # 全体の比較\n",
        "\n",
        "identical(u, w) # 全体の比較\n",
        "\n",
        "u == v          # 要素ごとの比較\n",
        "\n",
        "u == w          # 要素ごとの比較"
      ],
      "id": "2724d110-9dcb-4616-87ef-73a204cbb9fe"
    },
    {
      "cell_type": "code",
      "execution_count": null,
      "metadata": {
        "id": "e34f0c59-26ab-4960-9cb9-d760b17d0a68"
      },
      "outputs": [],
      "source": [
        "sum(u == w)  # 同じ要素の数\n",
        "\n",
        "mean(u == w) # 同じ要素の割合"
      ],
      "id": "e34f0c59-26ab-4960-9cb9-d760b17d0a68"
    },
    {
      "cell_type": "code",
      "execution_count": null,
      "metadata": {
        "id": "c73827b7-8537-4eef-9734-48f13e0095b2"
      },
      "outputs": [],
      "source": [
        "x <- list(1, \"two\")"
      ],
      "id": "c73827b7-8537-4eef-9734-48f13e0095b2"
    },
    {
      "cell_type": "code",
      "execution_count": null,
      "metadata": {
        "id": "6fe65154-d7d1-401f-a6f8-36f8508da3fd"
      },
      "outputs": [],
      "source": [
        "x[[2]]"
      ],
      "id": "6fe65154-d7d1-401f-a6f8-36f8508da3fd"
    },
    {
      "cell_type": "code",
      "execution_count": null,
      "metadata": {
        "id": "7736d647-7d04-49b8-87d0-257eb6697841"
      },
      "outputs": [],
      "source": [
        "x <- list(\"apple\"  = \"りんご\",\n",
        "          \"orange\" = \"みかん\")"
      ],
      "id": "7736d647-7d04-49b8-87d0-257eb6697841"
    },
    {
      "cell_type": "code",
      "execution_count": null,
      "metadata": {
        "id": "0ad9ecc7-7c1e-4a4e-b23e-3d345d248dba"
      },
      "outputs": [],
      "source": [
        "x[[\"grape\"]] <- \"ぶどう\""
      ],
      "id": "0ad9ecc7-7c1e-4a4e-b23e-3d345d248dba"
    },
    {
      "cell_type": "code",
      "execution_count": null,
      "metadata": {
        "id": "ef7a46e3-edd2-4a2b-b779-997cf108c80d"
      },
      "outputs": [],
      "source": [
        "x$apple\n",
        "# あるいは\n",
        "x$\"apple\"\n",
        "# あるいは\n",
        "x[[\"apple\"]]\n",
        "# あるいは\n",
        "tmp <- \"apple\"\n",
        "x[[tmp]]\n"
      ],
      "id": "ef7a46e3-edd2-4a2b-b779-997cf108c80d"
    },
    {
      "cell_type": "code",
      "execution_count": null,
      "metadata": {
        "id": "c694cd29-d091-4b0c-b2f8-3cda1aa1a170"
      },
      "outputs": [],
      "source": [
        "x <- c(\"foo\", \"bar\", \"baz\")\n",
        "y <- x\n",
        "y[2] <- \"BAR\" # yを更新する．\n",
        "y\n",
        "\n",
        "x             # xは変わらない．"
      ],
      "id": "c694cd29-d091-4b0c-b2f8-3cda1aa1a170"
    },
    {
      "id": "5d7877f8",
      "cell_type": "markdown",
      "source": [
        "## 3.4 データフレーム"
      ],
      "metadata": {
        "id": "5d7877f8"
      }
    },
    {
      "cell_type": "code",
      "execution_count": null,
      "metadata": {
        "id": "ce4c8d7b-1b4e-4ee3-a9e8-cd6f72e09c37"
      },
      "outputs": [],
      "source": [
        "library(tidyverse)"
      ],
      "id": "ce4c8d7b-1b4e-4ee3-a9e8-cd6f72e09c37"
    },
    {
      "cell_type": "code",
      "execution_count": null,
      "metadata": {
        "id": "8565857b-b858-4054-adbf-46aaa9153ef6"
      },
      "outputs": [],
      "source": [
        "my_df <- data.frame(\n",
        "  name    = c(\"A\", \"B\", \"C\", \"D\"),\n",
        "  english = c( 60,  90,  70,  90),\n",
        "  math    = c( 70,  80,  90, 100),\n",
        "  gender  = c(\"f\", \"m\", \"m\", \"f\"))"
      ],
      "id": "8565857b-b858-4054-adbf-46aaa9153ef6"
    },
    {
      "cell_type": "code",
      "execution_count": null,
      "metadata": {
        "id": "1631ad20-4545-4efa-aa57-fdf906c0817b"
      },
      "outputs": [],
      "source": [
        "my_df <- tribble(\n",
        "  ~name, ~english, ~math, ~gender,\n",
        "  \"A\",         60,    70,     \"f\",\n",
        "  \"B\",         90,    80,     \"m\",\n",
        "  \"C\",         70,    90,     \"m\",\n",
        "  \"D\",         90,   100,     \"f\")"
      ],
      "id": "1631ad20-4545-4efa-aa57-fdf906c0817b"
    },
    {
      "cell_type": "code",
      "execution_count": null,
      "metadata": {
        "id": "91613885-e40b-4014-a1ba-d6cae0694d31"
      },
      "outputs": [],
      "source": [
        "head(my_df)\n",
        "# 結果は割愛"
      ],
      "id": "91613885-e40b-4014-a1ba-d6cae0694d31"
    },
    {
      "cell_type": "code",
      "execution_count": null,
      "metadata": {
        "id": "e2da1c9e-4440-49dc-8344-a0fed545744c"
      },
      "outputs": [],
      "source": [
        "dim(my_df)  # 行数と列数\n",
        "\n",
        "nrow(my_df) # 行数\n",
        "\n",
        "ncol(my_df) # 列数"
      ],
      "id": "e2da1c9e-4440-49dc-8344-a0fed545744c"
    },
    {
      "cell_type": "code",
      "execution_count": null,
      "metadata": {
        "id": "08fd599c-9fc0-4ed9-98ad-36025e8f9001"
      },
      "outputs": [],
      "source": [
        "my_df2 <- expand.grid(\n",
        "  X = c(1, 2, 3),\n",
        "  Y = c(10, 100))\n",
        "my_df2"
      ],
      "id": "08fd599c-9fc0-4ed9-98ad-36025e8f9001"
    },
    {
      "cell_type": "code",
      "execution_count": null,
      "metadata": {
        "id": "25353e6b-caa7-4c8c-a651-c22b411b4c4a"
      },
      "outputs": [],
      "source": [
        "colnames(my_df2)"
      ],
      "id": "25353e6b-caa7-4c8c-a651-c22b411b4c4a"
    },
    {
      "cell_type": "code",
      "execution_count": null,
      "metadata": {
        "id": "5680a132-d846-4c9a-8c9a-a53c3585910c"
      },
      "outputs": [],
      "source": [
        "colnames(my_df2) <- c(\"P\", \"Q\")\n",
        "my_df2\n",
        "# 以下省略"
      ],
      "id": "5680a132-d846-4c9a-8c9a-a53c3585910c"
    },
    {
      "cell_type": "code",
      "execution_count": null,
      "metadata": {
        "id": "1c1f4b2d-7356-4b61-bc0f-1050a2d29777"
      },
      "outputs": [],
      "source": [
        "row.names(my_df)"
      ],
      "id": "1c1f4b2d-7356-4b61-bc0f-1050a2d29777"
    },
    {
      "cell_type": "code",
      "execution_count": null,
      "metadata": {
        "id": "8d9e737a-cbd3-4fbc-880d-c2d94fa7f969"
      },
      "outputs": [],
      "source": [
        "row.names(my_df2) <-\n",
        "  c(\"a\", \"b\", \"c\", \"d\", \"e\", \"f\")\n",
        "my_df2\n",
        "# 以下省略"
      ],
      "id": "8d9e737a-cbd3-4fbc-880d-c2d94fa7f969"
    },
    {
      "cell_type": "code",
      "execution_count": null,
      "metadata": {
        "id": "f7bf2317-869c-4391-a54f-535200abfbc6"
      },
      "outputs": [],
      "source": [
        "my_df3 <- data.frame(\n",
        "  english =   c( 60,  90,  70,  90),\n",
        "  math    =   c( 70,  80,  90, 100),\n",
        "  gender  =   c(\"f\", \"m\", \"m\", \"f\"),\n",
        "  row.names = c(\"A\", \"B\", \"C\", \"D\"))\n",
        "my_df3"
      ],
      "id": "f7bf2317-869c-4391-a54f-535200abfbc6"
    },
    {
      "cell_type": "code",
      "execution_count": null,
      "metadata": {
        "id": "fde25c23-199a-449b-8e5e-b146f5fcdafa"
      },
      "outputs": [],
      "source": [
        "tmp <- data.frame(\n",
        "  name    = \"E\",\n",
        "  english =  80,\n",
        "  math    =  80,\n",
        "  gender  = \"m\")\n",
        "my_df2 <- rbind(my_df, tmp)"
      ],
      "id": "fde25c23-199a-449b-8e5e-b146f5fcdafa"
    },
    {
      "cell_type": "code",
      "execution_count": null,
      "metadata": {
        "id": "21b97704-c748-4ac1-aa4f-e2921c3a03cf"
      },
      "outputs": [],
      "source": [
        "my_df2 <- my_df %>%\n",
        "  mutate(id = c(1, 2, 3, 4))"
      ],
      "id": "21b97704-c748-4ac1-aa4f-e2921c3a03cf"
    },
    {
      "cell_type": "code",
      "execution_count": null,
      "metadata": {
        "id": "a1437905-dcf6-41fa-96d0-5c1dc54fcce8"
      },
      "outputs": [],
      "source": [
        "my_df3 <- my_df               # コピー\n",
        "my_df3[\"id\"] <- c(1, 2, 3, 4) # 更新\n",
        "my_df3 # 結果の確認（割愛）"
      ],
      "id": "a1437905-dcf6-41fa-96d0-5c1dc54fcce8"
    },
    {
      "cell_type": "code",
      "execution_count": null,
      "metadata": {
        "id": "cb14be3e-5cc6-428f-bb94-b5edf57a4def"
      },
      "outputs": [],
      "source": [
        "my_df[1, 2]"
      ],
      "id": "cb14be3e-5cc6-428f-bb94-b5edf57a4def"
    },
    {
      "cell_type": "code",
      "execution_count": null,
      "metadata": {
        "id": "7b4bcb31-2efc-4de7-8713-4b45fec79302"
      },
      "outputs": [],
      "source": [
        "x <- my_df[, 2]\n",
        "# あるいは\n",
        "x <- my_df$english\n",
        "# あるいは\n",
        "x <- my_df$\"english\"\n",
        "# あるいは\n",
        "x <- my_df[[\"english\"]]\n",
        "# あるいは\n",
        "tmp <- \"english\"\n",
        "x <- my_df[[tmp]]\n",
        "\n",
        "x # 結果の確認（割愛）"
      ],
      "id": "7b4bcb31-2efc-4de7-8713-4b45fec79302"
    },
    {
      "cell_type": "code",
      "execution_count": null,
      "metadata": {
        "id": "6b15c2f0-0c2d-44d3-9652-2f31e8edfdc9"
      },
      "outputs": [],
      "source": [
        "x <- my_df %>% select(name, math)"
      ],
      "id": "6b15c2f0-0c2d-44d3-9652-2f31e8edfdc9"
    },
    {
      "cell_type": "code",
      "execution_count": null,
      "metadata": {
        "id": "7556d89f-bc80-4a27-b3ed-2b7a93f71790"
      },
      "outputs": [],
      "source": [
        "x <- my_df[, c(1, 3)]"
      ],
      "id": "7556d89f-bc80-4a27-b3ed-2b7a93f71790"
    },
    {
      "cell_type": "code",
      "execution_count": null,
      "metadata": {
        "id": "69003ff5-d7a9-4920-90bf-83621d88d0d5"
      },
      "outputs": [],
      "source": [
        "x <- my_df %>%\n",
        "  select(-c(english, gender))\n",
        "# あるいは\n",
        "x <- my_df[, -c(2, 4)]"
      ],
      "id": "69003ff5-d7a9-4920-90bf-83621d88d0d5"
    },
    {
      "cell_type": "code",
      "execution_count": null,
      "metadata": {
        "id": "43f5a494-fdb8-45a0-a971-bf9910a296cd"
      },
      "outputs": [],
      "source": [
        "x <- my_df[c(1, 3), ]"
      ],
      "id": "43f5a494-fdb8-45a0-a971-bf9910a296cd"
    },
    {
      "cell_type": "code",
      "execution_count": null,
      "metadata": {
        "id": "9e1578d2-fcb3-46f7-a85c-7c2b7f7df728"
      },
      "outputs": [],
      "source": [
        "x <- my_df[-c(2, 4), ]"
      ],
      "id": "9e1578d2-fcb3-46f7-a85c-7c2b7f7df728"
    },
    {
      "cell_type": "code",
      "execution_count": null,
      "metadata": {
        "id": "04866399-32ea-4e0f-aeed-5ade823223ca"
      },
      "outputs": [],
      "source": [
        "x <- my_df[my_df$gender == \"m\", ]\n",
        "# あるいは\n",
        "x <- my_df %>% filter(gender == \"m\")"
      ],
      "id": "04866399-32ea-4e0f-aeed-5ade823223ca"
    },
    {
      "cell_type": "code",
      "execution_count": null,
      "metadata": {
        "id": "e71077d1-f7fe-4ce9-8d40-d002ce2782a7"
      },
      "outputs": [],
      "source": [
        "x <- my_df[my_df$english > 80 & my_df$gender == \"m\", ]\n",
        "# あるいは\n",
        "x <- my_df %>% filter(english > 80 & gender == \"m\")"
      ],
      "id": "e71077d1-f7fe-4ce9-8d40-d002ce2782a7"
    },
    {
      "cell_type": "code",
      "execution_count": null,
      "metadata": {
        "id": "f4d2b6c8-4183-433d-a839-5a76dce50cf6"
      },
      "outputs": [],
      "source": [
        "x <- my_df[my_df$english == max(my_df$english), ]\n",
        "# あるいは\n",
        "x <- my_df %>% filter(english == max(my_df$english))"
      ],
      "id": "f4d2b6c8-4183-433d-a839-5a76dce50cf6"
    },
    {
      "cell_type": "code",
      "execution_count": null,
      "metadata": {
        "id": "1783c53f-c9b2-4eaa-87ac-52045c513516"
      },
      "outputs": [],
      "source": [
        "my_df2 <- my_df # コピー\n",
        "my_df2[my_df$gender == \"m\", ]$gender <- \"M\""
      ],
      "id": "1783c53f-c9b2-4eaa-87ac-52045c513516"
    },
    {
      "cell_type": "code",
      "execution_count": null,
      "metadata": {
        "id": "e42c5e40-9e74-4568-aa82-ad662a80bfdf"
      },
      "outputs": [],
      "source": [
        "my_df2"
      ],
      "id": "e42c5e40-9e74-4568-aa82-ad662a80bfdf"
    },
    {
      "cell_type": "code",
      "execution_count": null,
      "metadata": {
        "id": "fb1fd254-aa9a-48ff-b1c9-92ff1625c135"
      },
      "outputs": [],
      "source": [
        "x <- my_df %>% arrange(english)"
      ],
      "id": "fb1fd254-aa9a-48ff-b1c9-92ff1625c135"
    },
    {
      "cell_type": "code",
      "execution_count": null,
      "metadata": {
        "id": "9068082f-e602-4f72-9998-92c26b3306bd"
      },
      "outputs": [],
      "source": [
        "x <- my_df %>% arrange(-english)"
      ],
      "id": "9068082f-e602-4f72-9998-92c26b3306bd"
    },
    {
      "cell_type": "code",
      "execution_count": null,
      "metadata": {
        "id": "b2d327b6-93ac-46c3-9847-7a77721cd0a4"
      },
      "outputs": [],
      "source": [
        "x <- c(2, 3, 5, 7, 11, 13, 17, 19, 23,\n",
        "       29, 31, 37)\n",
        "A <- matrix(\n",
        "  data = x,     # 1次元データ\n",
        "  nrow = 3,     # 行数\n",
        "  byrow = TRUE) # 行ごとの生成\n",
        "A"
      ],
      "id": "b2d327b6-93ac-46c3-9847-7a77721cd0a4"
    },
    {
      "cell_type": "code",
      "execution_count": null,
      "metadata": {
        "id": "2ac16b38-8128-4701-8b12-ff4ec0e7af03"
      },
      "outputs": [],
      "source": [
        "A <- my_df[, c(2, 3)] %>% as.matrix\n",
        "A"
      ],
      "id": "2ac16b38-8128-4701-8b12-ff4ec0e7af03"
    },
    {
      "cell_type": "code",
      "execution_count": null,
      "metadata": {
        "id": "8dc8a8a0-1985-4068-b137-247cc423b0ab"
      },
      "outputs": [],
      "source": [
        "as.data.frame(A)"
      ],
      "id": "8dc8a8a0-1985-4068-b137-247cc423b0ab"
    },
    {
      "cell_type": "code",
      "execution_count": null,
      "metadata": {
        "id": "4133032b-9862-4167-a8ce-bcfffaa2c479"
      },
      "outputs": [],
      "source": [
        "t(A)"
      ],
      "id": "4133032b-9862-4167-a8ce-bcfffaa2c479"
    },
    {
      "cell_type": "code",
      "execution_count": null,
      "metadata": {
        "id": "85826b4a-bcd8-4e72-b622-d5d2eb09459b"
      },
      "outputs": [],
      "source": [
        "t(A) %*% A"
      ],
      "id": "85826b4a-bcd8-4e72-b622-d5d2eb09459b"
    },
    {
      "cell_type": "code",
      "execution_count": null,
      "metadata": {
        "id": "13cff1f3-51af-4b75-bc75-74a06b73f5c1"
      },
      "outputs": [],
      "source": [
        "my_wider <- data.frame(\n",
        "  day = c(25, 26, 27),\n",
        "  min = c(20, 21, 15),\n",
        "  max = c(24, 27, 21))"
      ],
      "id": "13cff1f3-51af-4b75-bc75-74a06b73f5c1"
    },
    {
      "cell_type": "code",
      "execution_count": null,
      "metadata": {
        "id": "d1243cc4-8c82-4114-b57c-628920f80dd8"
      },
      "outputs": [],
      "source": [
        "my_longer <- my_wider %>%\n",
        "  pivot_longer(-day)\n",
        "my_longer"
      ],
      "id": "d1243cc4-8c82-4114-b57c-628920f80dd8"
    },
    {
      "cell_type": "code",
      "execution_count": null,
      "metadata": {
        "id": "9177c4c2-4049-4560-a56c-f039a6cea398"
      },
      "outputs": [],
      "source": [
        "my_longer %>% pivot_wider()"
      ],
      "id": "9177c4c2-4049-4560-a56c-f039a6cea398"
    },
    {
      "cell_type": "code",
      "execution_count": null,
      "metadata": {
        "id": "80dbca79-2e91-4dd6-8c53-3e9a3bfadb6e"
      },
      "outputs": [],
      "source": [
        "my_longer %>%\n",
        "  ggplot(aes(x = day, y = value,\n",
        "             color = name)) +\n",
        "  geom_point() +\n",
        "  geom_line() +\n",
        "  ylab(\"temperature\") + # y軸ラベル\n",
        "  scale_x_continuous(\n",
        "    breaks = my_longer$day) # x軸目盛り"
      ],
      "id": "80dbca79-2e91-4dd6-8c53-3e9a3bfadb6e"
    },
    {
      "id": "6950156d",
      "cell_type": "markdown",
      "source": [
        "## 3.5 1次元データの（非）類似度"
      ],
      "metadata": {
        "id": "6950156d"
      }
    },
    {
      "cell_type": "code",
      "execution_count": null,
      "metadata": {
        "id": "aea2d42b-e243-40ef-a50d-487389a9990b"
      },
      "outputs": [],
      "source": [
        "A <- c(3,   4,  5)\n",
        "B <- c(3,   4, 29)\n",
        "C <- c(9, -18,  8)\n",
        "AB <- B - A\n",
        "AC <- C - A\n",
        "\n",
        "sum(AB^2)^0.5\n",
        "\n",
        "sum(AC^2)^0.5"
      ],
      "id": "aea2d42b-e243-40ef-a50d-487389a9990b"
    },
    {
      "cell_type": "code",
      "execution_count": null,
      "metadata": {
        "id": "5a829e76-7a3e-43d3-b1f8-043fd3060a28"
      },
      "outputs": [],
      "source": [
        "sum(abs(AB))\n",
        "\n",
        "sum(abs(AC))"
      ],
      "id": "5a829e76-7a3e-43d3-b1f8-043fd3060a28"
    },
    {
      "cell_type": "code",
      "execution_count": null,
      "metadata": {
        "id": "6216db4e-4bd9-43a5-b1e9-e0c4acca14ed"
      },
      "outputs": [],
      "source": [
        "sum(A * B) /\n",
        "  sum(A * A)^0.5 / sum(B * B)^0.5\n",
        "\n",
        "sum(A * C) /\n",
        "  sum(A * A)^0.5 / sum(C * C)^0.5"
      ],
      "id": "6216db4e-4bd9-43a5-b1e9-e0c4acca14ed"
    },
    {
      "cell_type": "code",
      "execution_count": null,
      "metadata": {
        "id": "12fac64d-f59a-4c1e-95c5-08c74fd666f6"
      },
      "outputs": [],
      "source": [
        "cor(A, B)\n",
        "\n",
        "cor(A, C)"
      ],
      "id": "12fac64d-f59a-4c1e-95c5-08c74fd666f6"
    },
    {
      "cell_type": "code",
      "execution_count": null,
      "metadata": {
        "id": "94f47398-e380-4c97-a410-c2895104289d"
      },
      "outputs": [],
      "source": [
        "library(tidyverse)\n",
        "\n",
        "\n",
        "\n",
        "my_df <- data.frame(\n",
        "  x = c(3,  3,   9),\n",
        "  y = c(4,  4, -18),\n",
        "  z = c(5, 29,   8),\n",
        "  row.names = c(\"A\", \"B\", \"C\"))\n",
        "\n",
        "# ユークリッド距離\n",
        "my_df %>% proxy::dist(\"Euclidean\")\n",
        "\n",
        "\n",
        "# マンハッタン距離\n",
        "my_df %>% proxy::dist(\"Manhattan\")\n",
        "\n",
        "\n",
        "# コサイン類似度\n",
        "my_df %>% proxy::simil(\"cosine\")\n",
        "\n",
        "\n",
        "# 相関係数\n",
        "my_df %>% proxy::simil(\"correlation\")"
      ],
      "id": "94f47398-e380-4c97-a410-c2895104289d"
    },
    {
      "id": "0cd5c4e4",
      "cell_type": "markdown",
      "source": [
        "## 3.6 Rのパッケージ，Pythonのモジュール"
      ],
      "metadata": {
        "id": "0cd5c4e4"
      }
    },
    {
      "cell_type": "code",
      "execution_count": null,
      "metadata": {
        "id": "78b4efd7-de84-4d29-8ff5-8aebaa335bc0"
      },
      "outputs": [],
      "source": [
        "library(tidyverse)"
      ],
      "id": "78b4efd7-de84-4d29-8ff5-8aebaa335bc0"
    },
    {
      "id": "79cda9bf",
      "cell_type": "markdown",
      "source": [
        "## 3.7 反復処理"
      ],
      "metadata": {
        "id": "79cda9bf"
      }
    },
    {
      "cell_type": "code",
      "execution_count": null,
      "metadata": {
        "id": "06ce1532-f91c-4359-9774-e73609e1c8b8"
      },
      "outputs": [],
      "source": [
        "library(tidyverse)"
      ],
      "id": "06ce1532-f91c-4359-9774-e73609e1c8b8"
    },
    {
      "cell_type": "code",
      "execution_count": null,
      "metadata": {
        "id": "d6e791e3-a129-437a-882f-5262d1b2d3dc"
      },
      "outputs": [],
      "source": [
        "f1 <- function(x) {\n",
        "  tmp <- runif(x)\n",
        "  mean(tmp)\n",
        "}\n",
        "\n",
        "f1(10)           # 動作確認"
      ],
      "id": "d6e791e3-a129-437a-882f-5262d1b2d3dc"
    },
    {
      "cell_type": "code",
      "execution_count": null,
      "metadata": {
        "id": "b0f24b3d-d5c9-4aac-bdb0-b7a467f2a61b"
      },
      "outputs": [],
      "source": [
        "replicate(n = 3, expr = f1(10))"
      ],
      "id": "b0f24b3d-d5c9-4aac-bdb0-b7a467f2a61b"
    },
    {
      "cell_type": "code",
      "execution_count": null,
      "metadata": {
        "id": "ccbbf93e-2d87-4863-84b1-27ba9ffa12f6"
      },
      "outputs": [],
      "source": [
        "rep(x = f1(10), times = 3)"
      ],
      "id": "ccbbf93e-2d87-4863-84b1-27ba9ffa12f6"
    },
    {
      "cell_type": "code",
      "execution_count": null,
      "metadata": {
        "id": "79219792-ab2d-4c79-9fd2-680e87e040e7"
      },
      "outputs": [],
      "source": [
        "v <- c(5, 10, 100)\n",
        "v %>% map_dbl(f1)"
      ],
      "id": "79219792-ab2d-4c79-9fd2-680e87e040e7"
    },
    {
      "cell_type": "code",
      "execution_count": null,
      "metadata": {
        "id": "ef729c39-21c0-493f-be58-d24432e041c6"
      },
      "outputs": [],
      "source": [
        "rep(x = 10, times = 3) %>% map_dbl(f1)\n",
        "# 結果は割愛"
      ],
      "id": "ef729c39-21c0-493f-be58-d24432e041c6"
    },
    {
      "cell_type": "code",
      "execution_count": null,
      "metadata": {
        "id": "bcb87e05-889e-4248-b9f9-e27fc5f4f046"
      },
      "outputs": [],
      "source": [
        "f2 <- function(n) {\n",
        "  tmp <- runif(n)\n",
        "  list(x = n,\n",
        "       p = mean(tmp),\n",
        "       q = sd(tmp))\n",
        "}\n",
        "\n",
        "f2(10) # 動作確認"
      ],
      "id": "bcb87e05-889e-4248-b9f9-e27fc5f4f046"
    },
    {
      "cell_type": "code",
      "execution_count": null,
      "metadata": {
        "id": "9ceb8c4e-a02d-4210-b70b-210be3420fb3"
      },
      "outputs": [],
      "source": [
        "v <- c(5, 10, 100)\n",
        "v %>% map_dfr(f2)"
      ],
      "id": "9ceb8c4e-a02d-4210-b70b-210be3420fb3"
    },
    {
      "cell_type": "code",
      "execution_count": null,
      "metadata": {
        "id": "3ac6b6d9-452e-4464-8edf-690e2ef3c082"
      },
      "outputs": [],
      "source": [
        "f3 <- function(x, y) {\n",
        "  tmp <- runif(x, min = 1,\n",
        "                  max = y + 1) %>%\n",
        "    as.integer\n",
        "  list(x = x,\n",
        "       y = y,\n",
        "       p = mean(tmp),\n",
        "       q = sd(tmp))\n",
        "}\n",
        "\n",
        "f3(x = 10, y = 6) # 動作確認"
      ],
      "id": "3ac6b6d9-452e-4464-8edf-690e2ef3c082"
    },
    {
      "cell_type": "code",
      "execution_count": null,
      "metadata": {
        "id": "00665e06-e3d7-4fc9-bf2b-201601f066da"
      },
      "outputs": [],
      "source": [
        "my_df <- data.frame(\n",
        "  x = c(5, 10, 100,  5, 10, 100),\n",
        "  y = c(6,  6,   6, 12, 12,  12))\n",
        "\n",
        "my_df %>% pmap_dfr(f3)"
      ],
      "id": "00665e06-e3d7-4fc9-bf2b-201601f066da"
    },
    {
      "cell_type": "code",
      "execution_count": null,
      "metadata": {
        "id": "5a5a50d0-af2e-40b2-b756-562fac9989bc"
      },
      "outputs": [],
      "source": [
        "library(furrr)\n",
        "plan(multisession) # 準備\n",
        "\n",
        "v <- c(5, 10, 100)\n",
        "v %>% future_map_dbl(f1, .options =\n",
        "  furrr_options(seed = TRUE))\n",
        "# 結果は割愛"
      ],
      "id": "5a5a50d0-af2e-40b2-b756-562fac9989bc"
    },
    {
      "id": "c2a07293",
      "cell_type": "markdown",
      "source": [
        "## 3.8 その他"
      ],
      "metadata": {
        "id": "c2a07293"
      }
    },
    {
      "cell_type": "code",
      "execution_count": null,
      "metadata": {
        "id": "aaa2399a-b245-4409-9d54-da2fd6c2d6b2"
      },
      "outputs": [],
      "source": [
        "x <- 123\n",
        "typeof(x)"
      ],
      "id": "aaa2399a-b245-4409-9d54-da2fd6c2d6b2"
    },
    {
      "cell_type": "code",
      "execution_count": null,
      "metadata": {
        "id": "a94a0731-f3b7-4a80-a254-1e2cf1979bb9"
      },
      "outputs": [],
      "source": [
        "?log\n",
        "# あるいは\n",
        "help(log)"
      ],
      "id": "a94a0731-f3b7-4a80-a254-1e2cf1979bb9"
    },
    {
      "cell_type": "code",
      "execution_count": null,
      "metadata": {
        "id": "3405300e-cde6-4439-920b-e1a010ea6194"
      },
      "outputs": [],
      "source": [
        "v <- c(1, NA, 3)\n",
        "v"
      ],
      "id": "3405300e-cde6-4439-920b-e1a010ea6194"
    },
    {
      "cell_type": "code",
      "execution_count": null,
      "metadata": {
        "id": "a7b3c56e-607e-4e26-8522-651d81e989fc"
      },
      "outputs": [],
      "source": [
        "is.na(v[2])\n",
        "\n",
        "v[2] == NA # 誤り"
      ],
      "id": "a7b3c56e-607e-4e26-8522-651d81e989fc"
    },
    {
      "id": "12d05d21",
      "cell_type": "markdown",
      "source": [
        "# 4 統計入門"
      ],
      "metadata": {
        "id": "12d05d21"
      }
    },
    {
      "cell_type": "code",
      "execution_count": null,
      "metadata": {
        "id": "1ff09dc2-e055-4ddb-ba86-48a5696ff5a7"
      },
      "outputs": [],
      "source": [
        "# Google Colaboratoryの環境設定\n",
        "if (file.exists(\"/content\")) {\n",
        "  options(Ncpus = parallel::detectCores())\n",
        "  install.packages(c(\"exactci\", \"ggmosaic\", \"pastecs\", \"psych\", \"vcd\"))\n",
        "}"
      ],
      "id": "1ff09dc2-e055-4ddb-ba86-48a5696ff5a7"
    },
    {
      "id": "707436e2",
      "cell_type": "markdown",
      "source": [
        "## 4.1 記述統計"
      ],
      "metadata": {
        "id": "707436e2"
      }
    },
    {
      "cell_type": "code",
      "execution_count": null,
      "metadata": {
        "id": "5099500a-2a74-4fd4-aee6-a8c17b48e975"
      },
      "outputs": [],
      "source": [
        "x <- c(165, 170, 175, 180, 185)\n",
        "mean(x) # 平均"
      ],
      "id": "5099500a-2a74-4fd4-aee6-a8c17b48e975"
    },
    {
      "cell_type": "code",
      "execution_count": null,
      "metadata": {
        "id": "41ab9c46-e91a-4942-a504-d218276e99e1"
      },
      "outputs": [],
      "source": [
        "n <- length(x) # サンプルサイズ\n",
        "sum(x) / n"
      ],
      "id": "41ab9c46-e91a-4942-a504-d218276e99e1"
    },
    {
      "cell_type": "code",
      "execution_count": null,
      "metadata": {
        "id": "7606808e-e183-4dcd-86e8-076580c816f1"
      },
      "outputs": [],
      "source": [
        "y <- c(173, 174, 175, 176, 177)\n",
        "mean(y)"
      ],
      "id": "7606808e-e183-4dcd-86e8-076580c816f1"
    },
    {
      "cell_type": "code",
      "execution_count": null,
      "metadata": {
        "id": "c502d936-7d94-4108-80bd-502afe2c3794"
      },
      "outputs": [],
      "source": [
        "var(x) # xの分散\n",
        "\n",
        "var(y) # yの分散"
      ],
      "id": "c502d936-7d94-4108-80bd-502afe2c3794"
    },
    {
      "cell_type": "code",
      "execution_count": null,
      "metadata": {
        "id": "9feba618-3730-45c1-8877-9657dd829d27"
      },
      "outputs": [],
      "source": [
        "sum((x - mean(x))^2) / (n - 1)"
      ],
      "id": "9feba618-3730-45c1-8877-9657dd829d27"
    },
    {
      "cell_type": "code",
      "execution_count": null,
      "metadata": {
        "id": "2e8c7176-5cd8-4b87-aae7-c04270187f14"
      },
      "outputs": [],
      "source": [
        "sd(x) # xの標準偏差\n",
        "\n",
        "sd(y) # yの標準偏差"
      ],
      "id": "2e8c7176-5cd8-4b87-aae7-c04270187f14"
    },
    {
      "cell_type": "code",
      "execution_count": null,
      "metadata": {
        "id": "9a1cb7c8-f5d6-4600-a36e-adc3643b75dd"
      },
      "outputs": [],
      "source": [
        "var(x)**0.5 # xの標準偏差"
      ],
      "id": "9a1cb7c8-f5d6-4600-a36e-adc3643b75dd"
    },
    {
      "cell_type": "code",
      "execution_count": null,
      "metadata": {
        "id": "68437ce8-9359-4525-ab63-6898ab15902e"
      },
      "outputs": [],
      "source": [
        "psych::describe(x)\n",
        "\n",
        "# あるいは\n",
        "\n",
        "pastecs::stat.desc(x)"
      ],
      "id": "68437ce8-9359-4525-ab63-6898ab15902e"
    },
    {
      "cell_type": "code",
      "execution_count": null,
      "metadata": {
        "id": "c6badfa1-0db3-49c2-9644-d5546b870846"
      },
      "outputs": [],
      "source": [
        "quantile(x)"
      ],
      "id": "c6badfa1-0db3-49c2-9644-d5546b870846"
    },
    {
      "cell_type": "code",
      "execution_count": null,
      "metadata": {
        "id": "fe963eb8-2ad0-4ccc-8e08-b7b0d83ee441"
      },
      "outputs": [],
      "source": [
        "x <- c(165, 170, 175, 180, 185)\n",
        "\n",
        "var(x)                # 不偏分散\n",
        "\n",
        "mean((x - mean(x))^2) # 標本分散\n",
        "# あるいは\n",
        "n <- length(x)\n",
        "var(x) * (n - 1) / n  # 標本分散"
      ],
      "id": "fe963eb8-2ad0-4ccc-8e08-b7b0d83ee441"
    },
    {
      "cell_type": "code",
      "execution_count": null,
      "metadata": {
        "id": "8e3f41d2-eabc-40ae-b05a-6427b7497da8"
      },
      "outputs": [],
      "source": [
        "sd(x)                     # √不偏分散\n",
        "\n",
        "mean((x - mean(x))^2)^0.5 # √標本分散\n",
        "# あるいは\n",
        "sd(x) * sqrt((n - 1) / n) # √標本分散"
      ],
      "id": "8e3f41d2-eabc-40ae-b05a-6427b7497da8"
    },
    {
      "cell_type": "code",
      "execution_count": null,
      "metadata": {
        "id": "e06dd74f-f05d-4be9-8e80-17082b9a8872"
      },
      "outputs": [],
      "source": [
        "sd(x) / length(x)**0.5"
      ],
      "id": "e06dd74f-f05d-4be9-8e80-17082b9a8872"
    },
    {
      "cell_type": "code",
      "execution_count": null,
      "metadata": {
        "id": "1675d8ac-bf44-4dd9-a18c-bf009a0f0aa2"
      },
      "outputs": [],
      "source": [
        "library(tidyverse)\n",
        "\n",
        "my_df <- data.frame(\n",
        "  name    = c(\"A\", \"B\", \"C\", \"D\"),\n",
        "  english = c( 60,  90,  70,  90),\n",
        "  math    = c( 70,  80,  90, 100),\n",
        "  gender  = c(\"f\", \"m\", \"m\", \"f\"))"
      ],
      "id": "1675d8ac-bf44-4dd9-a18c-bf009a0f0aa2"
    },
    {
      "cell_type": "code",
      "execution_count": null,
      "metadata": {
        "id": "a786d91b-bb0e-4ff9-81ad-8fa1a369a973"
      },
      "outputs": [],
      "source": [
        "var(my_df$english)"
      ],
      "id": "a786d91b-bb0e-4ff9-81ad-8fa1a369a973"
    },
    {
      "cell_type": "code",
      "execution_count": null,
      "metadata": {
        "id": "627485cd-c603-415c-ae28-d8d70592fef4"
      },
      "outputs": [],
      "source": [
        "# 結果はベクタ\n",
        "my_df[, c(2, 3)] %>% sapply(var)\n",
        "\n",
        "# 結果はリスト\n",
        "my_df[, c(2, 3)] %>% lapply(var)\n",
        "\n",
        "# 結果はデータフレーム\n",
        "my_df[, c(2, 3)] %>% # 2, 3列目\n",
        "  summarize(across(  # の\n",
        "    everything(),    # 全ての\n",
        "    var))            # 不偏分散\n",
        "# あるいは\n",
        "my_df %>%              # データフレーム\n",
        "  summarize(across(    # の\n",
        "    where(is.numeric), # 数値の列の\n",
        "    var))              # 不偏分散\n",
        "# あるいは\n",
        "my_df %>%              # データフレーム\n",
        "  summarize(across(    # の\n",
        "    where(is.numeric), # 数値の列の\n",
        "    function(x) { var(x) })) # 不偏分散\n"
      ],
      "id": "627485cd-c603-415c-ae28-d8d70592fef4"
    },
    {
      "cell_type": "code",
      "execution_count": null,
      "metadata": {
        "id": "230e562d-9bc9-46e9-9fcf-569230adca6a"
      },
      "outputs": [],
      "source": [
        "psych::describe(my_df)\n",
        "\n",
        "# あるいは\n",
        "\n",
        "pastecs::stat.desc(my_df)\n",
        "# 以下省略"
      ],
      "id": "230e562d-9bc9-46e9-9fcf-569230adca6a"
    },
    {
      "cell_type": "code",
      "execution_count": null,
      "metadata": {
        "id": "93914fb2-9c65-4c95-8064-5d3c3e288123"
      },
      "outputs": [],
      "source": [
        "table(my_df$gender)\n"
      ],
      "id": "93914fb2-9c65-4c95-8064-5d3c3e288123"
    },
    {
      "cell_type": "code",
      "execution_count": null,
      "metadata": {
        "id": "43b95076-7e9f-4e8d-924e-5d34a690adf9"
      },
      "outputs": [],
      "source": [
        "my_df2 <- data.frame(\n",
        "  gender = my_df$gender,\n",
        "  excel = my_df$math >= 80)\n",
        "table(my_df2)\n"
      ],
      "id": "43b95076-7e9f-4e8d-924e-5d34a690adf9"
    },
    {
      "cell_type": "code",
      "execution_count": null,
      "metadata": {
        "id": "819974a1-868a-47b3-9524-33e25d37d667"
      },
      "outputs": [],
      "source": [
        "my_df %>% group_by(gender) %>%\n",
        "  summarize(across(\n",
        "    where(is.numeric), mean),\n",
        "    .groups = \"drop\") # グループ化解除\n"
      ],
      "id": "819974a1-868a-47b3-9524-33e25d37d667"
    },
    {
      "id": "5df52877",
      "cell_type": "markdown",
      "source": [
        "## 4.2 データの可視化"
      ],
      "metadata": {
        "id": "5df52877"
      }
    },
    {
      "cell_type": "code",
      "execution_count": null,
      "metadata": {
        "id": "ef22f3f3-548c-4323-b3e6-1516b63ae098"
      },
      "outputs": [],
      "source": [
        "head(iris)"
      ],
      "id": "ef22f3f3-548c-4323-b3e6-1516b63ae098"
    },
    {
      "cell_type": "code",
      "execution_count": null,
      "metadata": {
        "id": "61260457-f90f-478b-bc30-956daa352da4"
      },
      "outputs": [],
      "source": [
        "hist(iris$Sepal.Length)"
      ],
      "id": "61260457-f90f-478b-bc30-956daa352da4"
    },
    {
      "cell_type": "code",
      "execution_count": null,
      "metadata": {
        "id": "ae396fe7-e8a3-4a11-89e2-b31fd21f715c"
      },
      "outputs": [],
      "source": [
        "x <- c(10, 20, 30)\n",
        "hist(x, breaks = 2) # 階級数は2"
      ],
      "id": "ae396fe7-e8a3-4a11-89e2-b31fd21f715c"
    },
    {
      "cell_type": "code",
      "execution_count": null,
      "metadata": {
        "id": "b013c34e-51b7-4b46-9264-98187357ebc6"
      },
      "outputs": [],
      "source": [
        "x <- iris$Sepal.Length\n",
        "tmp <- seq(min(x), max(x),\n",
        "           length.out = 10)\n",
        "hist(x, breaks = tmp, right = FALSE)"
      ],
      "id": "b013c34e-51b7-4b46-9264-98187357ebc6"
    },
    {
      "cell_type": "code",
      "execution_count": null,
      "metadata": {
        "id": "512ff670-e147-46df-a9ce-1c6ca98a6b9b"
      },
      "outputs": [],
      "source": [
        "plot(iris$Sepal.Length,\n",
        "     iris$Sepal.Width)"
      ],
      "id": "512ff670-e147-46df-a9ce-1c6ca98a6b9b"
    },
    {
      "cell_type": "code",
      "execution_count": null,
      "metadata": {
        "id": "6fe8db64-efc4-41f4-ba63-3eff048ce582"
      },
      "outputs": [],
      "source": [
        "boxplot(iris[, -5])"
      ],
      "id": "6fe8db64-efc4-41f4-ba63-3eff048ce582"
    },
    {
      "cell_type": "code",
      "execution_count": null,
      "metadata": {
        "id": "cc9f46b2-32d5-45f6-bb37-e6069a4b7df2"
      },
      "outputs": [],
      "source": [
        "library(tidyverse)\n",
        "my_df <- psych::describe(iris[, -5])\n",
        "my_df %>% select(mean, sd, se)"
      ],
      "id": "cc9f46b2-32d5-45f6-bb37-e6069a4b7df2"
    },
    {
      "cell_type": "code",
      "execution_count": null,
      "metadata": {
        "id": "295b4656-6510-4554-a68d-5380f1f0dc1b"
      },
      "outputs": [],
      "source": [
        "tmp <- rownames(my_df)\n",
        "my_df %>% ggplot(aes(x = factor(tmp, levels = tmp), y = mean)) +\n",
        "  geom_col() +\n",
        "  geom_errorbar(aes(ymin = mean - se, ymax = mean + se)) +\n",
        "  xlab(NULL)"
      ],
      "id": "295b4656-6510-4554-a68d-5380f1f0dc1b"
    },
    {
      "cell_type": "code",
      "execution_count": null,
      "metadata": {
        "id": "dd66a278-ead8-469c-842d-99a71e8ec81b"
      },
      "outputs": [],
      "source": [
        "my_group <- iris %>% group_by(Species)       # 品種ごとに，\n",
        "\n",
        "my_df <- my_group %>%                        # 各変数の，平均と\n",
        "  summarize(across(everything(), mean)) %>%\n",
        "  pivot_longer(-Species)\n",
        "\n",
        "tmp <- my_group %>%                          # 標準誤差を求める．\n",
        "  summarize(across(everything(), ~ sd(.) / length(.)**0.5)) %>%\n",
        "  pivot_longer(-Species)\n",
        "\n",
        "my_df$se <- tmp$value\n",
        "head(my_df)"
      ],
      "id": "dd66a278-ead8-469c-842d-99a71e8ec81b"
    },
    {
      "cell_type": "code",
      "execution_count": null,
      "metadata": {
        "id": "736d4744-134a-4c79-b4ed-1825c2a1bdd7"
      },
      "outputs": [],
      "source": [
        "my_df %>%\n",
        "  ggplot(aes(x = Species, y = value, fill = name)) +\n",
        "  geom_col(position = \"dodge\") +\n",
        "  geom_errorbar(aes(ymin = value - se, ymax = value + se), position = \"dodge\")"
      ],
      "id": "736d4744-134a-4c79-b4ed-1825c2a1bdd7"
    },
    {
      "cell_type": "code",
      "execution_count": null,
      "metadata": {
        "id": "611c1cd4-7c91-46f2-aabf-2a99d8af9ba6"
      },
      "outputs": [],
      "source": [
        "# 各変数の平均\n",
        "iris %>% pivot_longer(-Species) %>%\n",
        "  ggplot(aes(x = name, y = value)) +\n",
        "  geom_bar(stat = \"summary\", fun = mean) +\n",
        "  stat_summary(geom = \"errorbar\", fun.data = mean_se) +\n",
        "  xlab(NULL)\n",
        "\n",
        "# 各変数の平均（品種ごと）\n",
        "iris %>% pivot_longer(-Species) %>%\n",
        "  ggplot(aes(x = Species, y = value, fill = name)) +\n",
        "  geom_bar(stat = \"summary\", fun = mean, position = \"dodge\") +\n",
        "  stat_summary(geom = \"errorbar\", fun.data = mean_se, position = \"dodge\")"
      ],
      "id": "611c1cd4-7c91-46f2-aabf-2a99d8af9ba6"
    },
    {
      "cell_type": "code",
      "execution_count": null,
      "metadata": {
        "id": "01bb1379-06db-49ac-ad2b-eb3e4c40cf98"
      },
      "outputs": [],
      "source": [
        "my_df <- data.frame(\n",
        "  Species = iris$Species,\n",
        "  w_Sepal = iris$Sepal.Width > 3)\n",
        "table(my_df) # 分割表\n",
        "\n",
        "mosaicplot(\n",
        "  formula = ~ Species + w_Sepal,\n",
        "  data = my_df)"
      ],
      "id": "01bb1379-06db-49ac-ad2b-eb3e4c40cf98"
    },
    {
      "cell_type": "code",
      "execution_count": null,
      "metadata": {
        "id": "c79fadc7-4163-4e28-9eb2-67e3dcdcba59"
      },
      "outputs": [],
      "source": [
        "library(vcd)\n",
        "vcd::mosaic(formula = ~w_Sepal + Species, data = my_df,\n",
        "            labeling = labeling_values)"
      ],
      "id": "c79fadc7-4163-4e28-9eb2-67e3dcdcba59"
    },
    {
      "cell_type": "code",
      "execution_count": null,
      "metadata": {
        "id": "e65ab78b-84b9-4f55-b915-0fbff7736677"
      },
      "outputs": [],
      "source": [
        "curve(x^3 - x, -2, 2)"
      ],
      "id": "e65ab78b-84b9-4f55-b915-0fbff7736677"
    },
    {
      "cell_type": "code",
      "execution_count": null,
      "metadata": {
        "id": "7202c5f8-3ffa-4e53-ab1a-d936bec5b956"
      },
      "outputs": [],
      "source": [
        "x <- iris$Sepal.Length\n",
        "tmp <- seq(min(x), max(x),\n",
        "           length.out = 10)\n",
        "iris %>%\n",
        "  ggplot(aes(x = Sepal.Length)) +\n",
        "  geom_histogram(breaks = tmp,\n",
        "                 closed = \"left\")"
      ],
      "id": "7202c5f8-3ffa-4e53-ab1a-d936bec5b956"
    },
    {
      "cell_type": "code",
      "execution_count": null,
      "metadata": {
        "id": "4479aac0-cd41-4557-8167-64e0ccb11283"
      },
      "outputs": [],
      "source": [
        "iris %>%\n",
        "  ggplot(aes(x = Sepal.Length,\n",
        "             y = Sepal.Width)) +\n",
        "  geom_point()"
      ],
      "id": "4479aac0-cd41-4557-8167-64e0ccb11283"
    },
    {
      "cell_type": "code",
      "execution_count": null,
      "metadata": {
        "id": "e6b46641-8bca-4bb5-8fc9-09b16b9f29f6"
      },
      "outputs": [],
      "source": [
        "iris %>%\n",
        "  pivot_longer(-Species) %>%\n",
        "  ggplot(aes(\n",
        "    x = factor(name,\n",
        "               levels = names(iris)),\n",
        "    y = value)) +\n",
        "  geom_boxplot() +\n",
        "  xlab(NULL)"
      ],
      "id": "e6b46641-8bca-4bb5-8fc9-09b16b9f29f6"
    },
    {
      "cell_type": "code",
      "execution_count": null,
      "metadata": {
        "id": "c5646c82-d65a-4c72-bb00-aacbe55eba61"
      },
      "outputs": [],
      "source": [
        "library(ggmosaic)\n",
        "my_df <- data.frame(\n",
        "  Species = iris$Species,\n",
        "  w_Sepal = iris$Sepal.Width > 3)\n",
        "my_df %>%\n",
        "  ggplot() +\n",
        "  geom_mosaic(\n",
        "    aes(x = product(w_Sepal, Species)))"
      ],
      "id": "c5646c82-d65a-4c72-bb00-aacbe55eba61"
    },
    {
      "cell_type": "code",
      "execution_count": null,
      "metadata": {
        "id": "79726745-73e7-431b-b8da-45b2f2286b9f"
      },
      "outputs": [],
      "source": [
        "f <- function(x) { x^3 - x }\n",
        "data.frame(x = c(-2, 2)) %>%\n",
        "  ggplot(aes(x = x)) +\n",
        "  stat_function(fun = f)"
      ],
      "id": "79726745-73e7-431b-b8da-45b2f2286b9f"
    },
    {
      "id": "c5e78b9f",
      "cell_type": "markdown",
      "source": [
        "## 4.3 乱数"
      ],
      "metadata": {
        "id": "c5e78b9f"
      }
    },
    {
      "cell_type": "code",
      "execution_count": null,
      "metadata": {
        "id": "34fa43c6-d8c6-48cc-9bce-71f3b8d464f4"
      },
      "outputs": [],
      "source": [
        "x <- sample(x = 1:6,        # 範囲\n",
        "            size = 10000,   # 乱数の数\n",
        "            replace = TRUE) # 重複あり\n",
        "hist(x, breaks = 0:6) # ヒストグラム"
      ],
      "id": "34fa43c6-d8c6-48cc-9bce-71f3b8d464f4"
    },
    {
      "cell_type": "code",
      "execution_count": null,
      "metadata": {
        "id": "71ed57ca-55e2-4523-9605-3a9eb19eda0f"
      },
      "outputs": [],
      "source": [
        "x <- runif(min = 0,  # 最小\n",
        "           max = 1,  # 最大\n",
        "           n = 1000) # 乱数の数\n",
        "hist(x)"
      ],
      "id": "71ed57ca-55e2-4523-9605-3a9eb19eda0f"
    },
    {
      "cell_type": "code",
      "execution_count": null,
      "metadata": {
        "id": "fb9898f0-ece5-4bd7-adbd-467696344741"
      },
      "outputs": [],
      "source": [
        "x <- as.integer(      # 整数に変換\n",
        "  runif(min = 1,      # 最小\n",
        "        max = 7,      # 最大 + 1\n",
        "        n = 1000))    # 乱数の数\n",
        "hist(x, breaks = 0:6) # 結果は割愛"
      ],
      "id": "fb9898f0-ece5-4bd7-adbd-467696344741"
    },
    {
      "cell_type": "code",
      "execution_count": null,
      "metadata": {
        "id": "57150815-51e5-47ba-8503-b1553b6254a1"
      },
      "outputs": [],
      "source": [
        "n <- 100\n",
        "p <- 0.5\n",
        "r <- 10000\n",
        "x <- rbinom(size = n, # 試行回数\n",
        "            prob = p, # 確率\n",
        "            n = r)    # 乱数の数\n",
        "hist(x, breaks = max(x) - min(x))"
      ],
      "id": "57150815-51e5-47ba-8503-b1553b6254a1"
    },
    {
      "cell_type": "code",
      "execution_count": null,
      "metadata": {
        "id": "8f385687-8151-4ee6-8530-21e89355755c"
      },
      "outputs": [],
      "source": [
        "r <- 10000\n",
        "x <- rnorm(mean = 50, # 平均\n",
        "           sd = 5,    # 標準偏差\n",
        "           n = r)     # 乱数の数\n",
        "hist(x, breaks = 40)"
      ],
      "id": "8f385687-8151-4ee6-8530-21e89355755c"
    },
    {
      "cell_type": "code",
      "execution_count": null,
      "metadata": {
        "id": "6aab74f6-3396-4bc5-b409-c43f31bd90c3"
      },
      "outputs": [],
      "source": [
        "library(tidyverse)\n",
        "\n",
        "f <- function(k) {\n",
        "  n <- 10000\n",
        "  tmp <- replicate(n = n, expr = g(rnorm(n =  k, sd = 3)))\n",
        "  list(k = k,\n",
        "       mean = mean(tmp),       # 平均\n",
        "       se = sd(tmp) / sqrt(n)) # 標準誤差\n",
        "}"
      ],
      "id": "6aab74f6-3396-4bc5-b409-c43f31bd90c3"
    },
    {
      "cell_type": "code",
      "execution_count": null,
      "metadata": {
        "id": "d6175b3a-e9f6-4239-9c51-719a2f1e8be4"
      },
      "outputs": [],
      "source": [
        "g <- var\n",
        "c(10, 20, 30) %>% map_dfr(f)"
      ],
      "id": "d6175b3a-e9f6-4239-9c51-719a2f1e8be4"
    },
    {
      "cell_type": "code",
      "execution_count": null,
      "metadata": {
        "id": "ca6d0837-9460-467f-8450-f41fd9740eea"
      },
      "outputs": [],
      "source": [
        "g <- sd\n",
        "c(5, 10, 15, 20) %>% map_dfr(f)"
      ],
      "id": "ca6d0837-9460-467f-8450-f41fd9740eea"
    },
    {
      "cell_type": "code",
      "execution_count": null,
      "metadata": {
        "id": "2a2ddb2e-67fc-4373-a6ba-8375718984dd"
      },
      "outputs": [],
      "source": [
        "g <- function(x) {\n",
        "  n <- length(x)\n",
        "  sd(x) *\n",
        "    sqrt((n - 1) / 2) *\n",
        "    gamma((n - 1) / 2) /\n",
        "    gamma(n / 2)\n",
        "}\n",
        "c(10, 20, 30) %>% map_dfr(f)"
      ],
      "id": "2a2ddb2e-67fc-4373-a6ba-8375718984dd"
    },
    {
      "id": "46207108",
      "cell_type": "markdown",
      "source": [
        "## 4.4 統計的推測"
      ],
      "metadata": {
        "id": "46207108"
      }
    },
    {
      "cell_type": "code",
      "execution_count": null,
      "metadata": {
        "id": "57c87ae1-a9b2-4729-add2-3cede0060fb4"
      },
      "outputs": [],
      "source": [
        "library(exactci)\n",
        "library(tidyverse)\n",
        "\n",
        "a <- 0.05                              # 有意水準\n",
        "binom.exact(x = 2,                     # 当たった回数\n",
        "            n = 15,                    # くじを引いた回数\n",
        "            p = 4 / 10,                # 当たる確率（仮説）\n",
        "            plot = TRUE,               # p値の描画（結果は次項に掲載）\n",
        "            conf.level = 1 - a,        # 信頼係数（デフォルト）\n",
        "            tsmethod = \"minlike\",      # p値の定義\n",
        "            alternative = \"two.sided\") # 両側検定（デフォルト）\n",
        "                                       # 左片側検定なら'less'\n",
        "                                       # 右片側検定なら'greater'\n"
      ],
      "id": "57c87ae1-a9b2-4729-add2-3cede0060fb4"
    },
    {
      "cell_type": "code",
      "execution_count": null,
      "metadata": {
        "id": "64764b70-f354-482a-ab41-4f7ffbb5693c"
      },
      "outputs": [],
      "source": [
        "t <- 4 / 10               # 当たる確率\n",
        "n <- 15                   # くじを引いた回数\n",
        "x <- 0:n                  # 当たった回数\n",
        "my_pr  <- dbinom(x, n, t) # x回当たる確率\n",
        "my_pr2 <- dbinom(2, n, t) # 2回当たる確率\n",
        "\n",
        "my_data <- data.frame(x = x,\n",
        "                      probability = my_pr,\n",
        "                      color = my_pr <= my_pr2) # 当たる確率が，2回当たる確率以下\n",
        "\n",
        "my_data %>% ggplot(aes(x = x, y = probability, color = color)) +\n",
        "  geom_point(size = 3) +\n",
        "  geom_linerange(aes(ymin = 0, ymax = probability), ) + # 垂直線\n",
        "  geom_hline(yintercept = my_pr2) +                     # 水平線\n",
        "  theme(legend.position = \"none\")                       # 凡例を表示しない．"
      ],
      "id": "64764b70-f354-482a-ab41-4f7ffbb5693c"
    },
    {
      "cell_type": "code",
      "execution_count": null,
      "metadata": {
        "id": "5f11d822-ac4a-42c7-ae6c-e20abb8bbcd3"
      },
      "outputs": [],
      "source": [
        "# 前項の結果（再掲）"
      ],
      "id": "5f11d822-ac4a-42c7-ae6c-e20abb8bbcd3"
    },
    {
      "cell_type": "code",
      "execution_count": null,
      "metadata": {
        "id": "28a9946d-408e-420b-a4fd-a4965c26153d"
      },
      "outputs": [],
      "source": [
        "# 前項冒頭のコード"
      ],
      "id": "28a9946d-408e-420b-a4fd-a4965c26153d"
    },
    {
      "cell_type": "code",
      "execution_count": null,
      "metadata": {
        "id": "518050c1-9fe8-4362-b8a3-99006d86029f"
      },
      "outputs": [],
      "source": [
        "X <- c(32.1, 26.2, 27.5, 31.8, 32.1, 31.2, 30.1, 32.4, 32.3, 29.9,\n",
        "       29.6, 26.6, 31.2, 30.9, 29.3)\n",
        "Y <- c(35.4, 34.6, 31.1, 32.4, 33.3, 34.7, 35.3, 34.3, 32.1, 28.3,\n",
        "       33.3, 30.5, 32.6, 33.3, 32.2)\n",
        "\n",
        "t.test(x = X, y = Y,\n",
        "       conf.level = 0.95,         # 信頼係数（デフォルト）\n",
        "       paired = TRUE,             # 対標本である．\n",
        "       alternative = \"two.sided\") # 両側検定（デフォルト）\n",
        "                                  # 左片側検定なら'less'\n",
        "                                  # 右片側検定なら'greater'\n"
      ],
      "id": "518050c1-9fe8-4362-b8a3-99006d86029f"
    },
    {
      "cell_type": "code",
      "execution_count": null,
      "metadata": {
        "id": "6b73fcca-e4b5-4ef0-bdfb-cedab887dee9"
      },
      "outputs": [],
      "source": [
        "t.test(x = X, y = Y,\n",
        "       paired = FALSE,   # 対標本ではない（デフォルト）．\n",
        "       var.equal = TRUE, # 等分散を仮定する．仮定しないならFALSE（デフォルト）．\n",
        "       alternative = \"two.sided\",\n",
        "       conf.level = 0.95)\n"
      ],
      "id": "6b73fcca-e4b5-4ef0-bdfb-cedab887dee9"
    },
    {
      "cell_type": "code",
      "execution_count": null,
      "metadata": {
        "id": "838b7190-a33f-437e-b742-3ece62a89442"
      },
      "outputs": [],
      "source": [
        "my_url <- str_c(\"https://raw.githubusercontent.com/taroyabuki\",\n",
        "                \"/fromzero/master/data/smoker.csv\")\n",
        "my_data <- read_csv(my_url)"
      ],
      "id": "838b7190-a33f-437e-b742-3ece62a89442"
    },
    {
      "cell_type": "code",
      "execution_count": null,
      "metadata": {
        "id": "adaa8ec6-9f53-448d-abb9-7c48500a1edd"
      },
      "outputs": [],
      "source": [
        "head(my_data)"
      ],
      "id": "adaa8ec6-9f53-448d-abb9-7c48500a1edd"
    },
    {
      "cell_type": "code",
      "execution_count": null,
      "metadata": {
        "id": "2b8bfed5-6912-4d5b-8456-97cbcabf7ef1"
      },
      "outputs": [],
      "source": [
        "my_table <- table(my_data)\n",
        "my_table"
      ],
      "id": "2b8bfed5-6912-4d5b-8456-97cbcabf7ef1"
    },
    {
      "cell_type": "code",
      "execution_count": null,
      "metadata": {
        "id": "486224b6-4dee-4920-9905-c0e4f2fe845c"
      },
      "outputs": [],
      "source": [
        "chisq.test(my_table, correct = FALSE)\n"
      ],
      "id": "486224b6-4dee-4920-9905-c0e4f2fe845c"
    },
    {
      "cell_type": "code",
      "execution_count": null,
      "metadata": {
        "id": "42fa9cc6-4143-42da-a7a3-8ab8c7d159a2"
      },
      "outputs": [],
      "source": [
        "X <- rep(0:1, c(13, 2)) # 手順1\n",
        "X\n",
        "\n",
        "tmp <- sample(X, size = length(X), replace = TRUE) # 手順2\n",
        "tmp\n",
        "\n",
        "sum(tmp) # 手順3\n",
        "\n",
        "n <- 10^5\n",
        "result <- replicate(n, sum(sample(X, size = length(X), replace = TRUE))) # 手順4"
      ],
      "id": "42fa9cc6-4143-42da-a7a3-8ab8c7d159a2"
    },
    {
      "cell_type": "code",
      "execution_count": null,
      "metadata": {
        "id": "c50d65bb-db78-4346-a020-bf70543b32e0"
      },
      "outputs": [],
      "source": [
        "hist(x = result, breaks = 0:15,\n",
        "     right = FALSE)"
      ],
      "id": "c50d65bb-db78-4346-a020-bf70543b32e0"
    },
    {
      "cell_type": "code",
      "execution_count": null,
      "metadata": {
        "id": "b4b29ffa-3830-4322-b217-f6cedcad77ba"
      },
      "outputs": [],
      "source": [
        "quantile(result, c(0.025, 0.975))"
      ],
      "id": "b4b29ffa-3830-4322-b217-f6cedcad77ba"
    },
    {
      "id": "9a5c22de",
      "cell_type": "markdown",
      "source": [
        "# 5 前処理"
      ],
      "metadata": {
        "id": "9a5c22de"
      }
    },
    {
      "cell_type": "code",
      "execution_count": null,
      "metadata": {
        "id": "1a81b51a-c41a-4e47-8f5e-e660e4464da1"
      },
      "outputs": [],
      "source": [
        "# Google Colaboratoryの環境設定\n",
        "if (file.exists(\"/content\")) {\n",
        "  options(Ncpus = parallel::detectCores())\n",
        "  install.packages(\"caret\")\n",
        "}"
      ],
      "id": "1a81b51a-c41a-4e47-8f5e-e660e4464da1"
    },
    {
      "id": "76d3dca6",
      "cell_type": "markdown",
      "source": [
        "## 5.1 データの読み込み"
      ],
      "metadata": {
        "id": "76d3dca6"
      }
    },
    {
      "cell_type": "code",
      "execution_count": null,
      "metadata": {
        "id": "e4094dca-dfe3-47b8-8467-07973d55d662"
      },
      "outputs": [],
      "source": [
        "library(tidyverse)\n",
        "system(str_c(\"wget https://raw.githubusercontent.com/taroyabuki\",\n",
        "             \"/fromzero/master/data/exam.csv\"))"
      ],
      "id": "e4094dca-dfe3-47b8-8467-07973d55d662"
    },
    {
      "cell_type": "code",
      "execution_count": null,
      "metadata": {
        "id": "d63d5622-c93c-4e9f-9dbb-85bc2c4e0409"
      },
      "outputs": [],
      "source": [
        "my_df <- read_csv(\"exam.csv\")\n",
        "# あるいは\n",
        "my_df <- read.csv(\"exam.csv\",\n",
        "  stringsAsFactors = FALSE)\n",
        "\n",
        "my_df"
      ],
      "id": "d63d5622-c93c-4e9f-9dbb-85bc2c4e0409"
    },
    {
      "cell_type": "code",
      "execution_count": null,
      "metadata": {
        "id": "bd3ef83b-bc45-46b2-948c-97a983a28158"
      },
      "outputs": [],
      "source": [
        "my_url <- str_c(\"https://raw.githubusercontent.com/taroyabuki\",\n",
        "                \"/fromzero/master/data/exam.csv\")\n",
        "my_df <- read_csv(my_url)\n",
        "# あるいは\n",
        "my_df <- read.csv(my_url, stringsAsFactors = FALSE)"
      ],
      "id": "bd3ef83b-bc45-46b2-948c-97a983a28158"
    },
    {
      "cell_type": "code",
      "execution_count": null,
      "metadata": {
        "id": "027aeb7f-74eb-4204-8c30-3f75f893609d"
      },
      "outputs": [],
      "source": [
        "my_df2 <- read.csv(\n",
        "  file = \"exam.csv\",\n",
        "  stringsAsFactors = FALSE,\n",
        "  row.names = 1)\n",
        "my_df2"
      ],
      "id": "027aeb7f-74eb-4204-8c30-3f75f893609d"
    },
    {
      "cell_type": "code",
      "execution_count": null,
      "metadata": {
        "id": "1b039341-5d93-49d8-ac33-6a930cd0beb9"
      },
      "outputs": [],
      "source": [
        "my_df %>% write_csv(\"exam2.csv\")\n",
        "# あるいは\n",
        "my_df %>% write.csv(\n",
        "  file = \"exam2.csv\",\n",
        "  row.names = FALSE)"
      ],
      "id": "1b039341-5d93-49d8-ac33-6a930cd0beb9"
    },
    {
      "cell_type": "code",
      "execution_count": null,
      "metadata": {
        "id": "3c8cf9a0-ea2a-47d1-8fdc-87ee91cbbeea"
      },
      "outputs": [],
      "source": [
        "my_df2 %>% write.csv(\"exam3.csv\")"
      ],
      "id": "3c8cf9a0-ea2a-47d1-8fdc-87ee91cbbeea"
    },
    {
      "cell_type": "code",
      "execution_count": null,
      "metadata": {
        "id": "fca23bde-631e-4527-bffd-d121e64cb09d"
      },
      "outputs": [],
      "source": [
        "my_df <- read_csv(file = \"exam.csv\",\n",
        "  locale = locale(encoding = \"UTF-8\"))\n",
        "# あるいは\n",
        "my_df <- read.csv(file = \"exam.csv\",\n",
        "  stringsAsFactors = FALSE,\n",
        "  fileEncoding = \"UTF-8\")"
      ],
      "id": "fca23bde-631e-4527-bffd-d121e64cb09d"
    },
    {
      "cell_type": "code",
      "execution_count": null,
      "metadata": {
        "id": "1a1f1104-1ba1-4c99-bf04-79b4475c7f0a"
      },
      "outputs": [],
      "source": [
        "my_df %>% write_csv(\"exam2.csv\")\n",
        "# あるいは\n",
        "my_df %>% write.csv(file = \"exam2.csv\", row.names = FALSE,\n",
        "                    fileEncoding = \"UTF-8\")"
      ],
      "id": "1a1f1104-1ba1-4c99-bf04-79b4475c7f0a"
    },
    {
      "cell_type": "code",
      "execution_count": null,
      "metadata": {
        "id": "3e8ae7bb-f112-4d08-8711-3d722f489a11"
      },
      "outputs": [],
      "source": [
        "my_url <- \"https://taroyabuki.github.io/fromzero/exam.html\"\n",
        "my_tables <- xml2::read_html(my_url) %>% rvest::html_table()"
      ],
      "id": "3e8ae7bb-f112-4d08-8711-3d722f489a11"
    },
    {
      "cell_type": "code",
      "execution_count": null,
      "metadata": {
        "id": "be347bda-0bf0-4e17-a653-8c12b1e8d4d7"
      },
      "outputs": [],
      "source": [
        "my_tables"
      ],
      "id": "be347bda-0bf0-4e17-a653-8c12b1e8d4d7"
    },
    {
      "cell_type": "code",
      "execution_count": null,
      "metadata": {
        "id": "efc3f4ef-91b4-4575-a3e3-430aa413287d"
      },
      "outputs": [],
      "source": [
        "tmp <- my_tables[[1]]\n",
        "tmp"
      ],
      "id": "efc3f4ef-91b4-4575-a3e3-430aa413287d"
    },
    {
      "cell_type": "code",
      "execution_count": null,
      "metadata": {
        "id": "8d8e3e73-fcaf-42f5-8bb2-e3139070a2a8"
      },
      "outputs": [],
      "source": [
        "# 1行目のデータを使って列の名前を付け直す．\n",
        "colnames(tmp) <- tmp[1, ]\n",
        "\n",
        "# 1行目と1列目を削除する．\n",
        "my_data <- tmp[-1, -1]\n",
        "my_data"
      ],
      "id": "8d8e3e73-fcaf-42f5-8bb2-e3139070a2a8"
    },
    {
      "cell_type": "code",
      "execution_count": null,
      "metadata": {
        "id": "dc75c6e6-6572-4c5d-b3c0-7a99a5927c6b"
      },
      "outputs": [],
      "source": [
        "library(jsonlite)\n",
        "my_url <- str_c(\"https://raw.githubusercontent.com/taroyabuki\",\n",
        "                \"/fromzero/master/data/exam.json\")\n",
        "my_data <- fromJSON(my_url)\n",
        "#my_data <- fromJSON(\"exam.json\") # （ファイルを使う場合）\n",
        "my_data"
      ],
      "id": "dc75c6e6-6572-4c5d-b3c0-7a99a5927c6b"
    },
    {
      "cell_type": "code",
      "execution_count": null,
      "metadata": {
        "id": "9181e228-a731-4259-9e81-0a6e1ba8f2ff"
      },
      "outputs": [],
      "source": [
        "library(xml2)\n",
        "my_url <- str_c(\"https://raw.githubusercontent.com/taroyabuki\",\n",
        "                \"/fromzero/master/data/exam.xml\")\n",
        "my_xml <- read_xml(my_url)      # XMLデータの読み込み\n",
        "#my_xml <- read_xml(\"exam.xml\") # （ファイルを使う場合）\n",
        "xml_ns(my_xml)                  # 名前空間の確認（d1）"
      ],
      "id": "9181e228-a731-4259-9e81-0a6e1ba8f2ff"
    },
    {
      "cell_type": "code",
      "execution_count": null,
      "metadata": {
        "id": "4273b5a1-70c4-4f78-b09b-b631df4b5931"
      },
      "outputs": [],
      "source": [
        "my_records <- xml_find_all(my_xml, \".//d1:record\")"
      ],
      "id": "4273b5a1-70c4-4f78-b09b-b631df4b5931"
    },
    {
      "cell_type": "code",
      "execution_count": null,
      "metadata": {
        "id": "c54ef893-cdce-462c-811c-9e3761c97ce4"
      },
      "outputs": [],
      "source": [
        "f <- function(record) {\n",
        "  tmp <- xml_attrs(record)                    # 属性を全て取り出し，\n",
        "  xml_children(record) %>% walk(function(e) {\n",
        "    tmp[xml_name(e)] <<- xml_text(e)          # 子要素の名前と内容を追加する．\n",
        "  })\n",
        "  tmp\n",
        "}"
      ],
      "id": "c54ef893-cdce-462c-811c-9e3761c97ce4"
    },
    {
      "cell_type": "code",
      "execution_count": null,
      "metadata": {
        "id": "736b7995-6d0a-4a70-a78d-c5cba865f167"
      },
      "outputs": [],
      "source": [
        "my_data <- my_records %>% map_dfr(f)\n",
        "my_data$english <- as.numeric(my_data$english)\n",
        "my_data$math    <- as.numeric(my_data$math)\n",
        "my_data"
      ],
      "id": "736b7995-6d0a-4a70-a78d-c5cba865f167"
    },
    {
      "id": "233b4b1b",
      "cell_type": "markdown",
      "source": [
        "## 5.2 データの変換"
      ],
      "metadata": {
        "id": "233b4b1b"
      }
    },
    {
      "cell_type": "code",
      "execution_count": null,
      "metadata": {
        "id": "25f311fe-096e-4e5f-923f-aef84be1512a"
      },
      "outputs": [],
      "source": [
        "x1 <- c(1, 2, 3)\n",
        "\n",
        "z1 <- scale(x1)\n",
        "# あるいは\n",
        "z1 <- (x1 - mean(x1)) / sd(x1)\n",
        "\n",
        "z1"
      ],
      "id": "25f311fe-096e-4e5f-923f-aef84be1512a"
    },
    {
      "cell_type": "code",
      "execution_count": null,
      "metadata": {
        "id": "ce4da20f-023b-46ce-a9bb-1ec5320be1b1"
      },
      "outputs": [],
      "source": [
        "c(mean(z1), sd(z1))"
      ],
      "id": "ce4da20f-023b-46ce-a9bb-1ec5320be1b1"
    },
    {
      "cell_type": "code",
      "execution_count": null,
      "metadata": {
        "id": "4baded87-fddc-459d-8396-e6b06ca31927"
      },
      "outputs": [],
      "source": [
        "z1 * sd(x1) + mean(x1)"
      ],
      "id": "4baded87-fddc-459d-8396-e6b06ca31927"
    },
    {
      "cell_type": "code",
      "execution_count": null,
      "metadata": {
        "id": "45357021-087c-478e-8eca-0efb2b506174"
      },
      "outputs": [],
      "source": [
        "x2 <- c(1, 3, 5)\n",
        "z2 <- (x2 - mean(x1)) / sd(x1)\n",
        "c(mean(z2), sd(z2))"
      ],
      "id": "45357021-087c-478e-8eca-0efb2b506174"
    },
    {
      "cell_type": "code",
      "execution_count": null,
      "metadata": {
        "id": "3a1bed42-7eaf-4b3f-920b-3269b75f1a3e"
      },
      "outputs": [],
      "source": [
        "library(caret)\n",
        "library(tidyverse)\n",
        "\n",
        "my_df <- data.frame(\n",
        "  id = c(1, 2, 3),\n",
        "  class = as.factor(\n",
        "    c(\"A\", \"B\", \"C\")))\n",
        "\n",
        "my_enc <- my_df %>%\n",
        "  dummyVars(formula = ~ .)\n",
        "\n",
        "my_enc %>% predict(my_df)"
      ],
      "id": "3a1bed42-7eaf-4b3f-920b-3269b75f1a3e"
    },
    {
      "cell_type": "code",
      "execution_count": null,
      "metadata": {
        "id": "98b195bb-95d4-427a-a1ba-9cfa305e07ce"
      },
      "outputs": [],
      "source": [
        "my_df2 <- data.frame(\n",
        "  id =    c( 4 ,  5 ,  6 ),\n",
        "  class = c(\"B\", \"C\", \"B\"))\n",
        "my_enc %>% predict(my_df2)"
      ],
      "id": "98b195bb-95d4-427a-a1ba-9cfa305e07ce"
    },
    {
      "cell_type": "code",
      "execution_count": null,
      "metadata": {
        "id": "80749de8-754c-4c66-98d0-24b2c3ddb1e5"
      },
      "outputs": [],
      "source": [
        "my_enc <- my_df %>%\n",
        "  dummyVars(formula = ~ .,\n",
        "            fullRank = TRUE)\n",
        "my_enc %>% predict(my_df)\n",
        "\n",
        "my_enc %>% predict(my_df2)"
      ],
      "id": "80749de8-754c-4c66-98d0-24b2c3ddb1e5"
    },
    {
      "id": "c6b0d873",
      "cell_type": "markdown",
      "source": [
        "# 6 機械学習の目的・データ・手法\n",
        "\n",
        "\n"
      ],
      "metadata": {
        "id": "c6b0d873"
      }
    },
    {
      "id": "04afe056",
      "cell_type": "markdown",
      "source": [
        "## 6.1 機械学習の目的（本書の場合）\n",
        "\n",
        "\n"
      ],
      "metadata": {
        "id": "04afe056"
      }
    },
    {
      "id": "570cbaa1",
      "cell_type": "markdown",
      "source": [
        "## 6.2 機械学習のためのデータ"
      ],
      "metadata": {
        "id": "570cbaa1"
      }
    },
    {
      "cell_type": "code",
      "execution_count": null,
      "metadata": {
        "id": "f300bd32-1e3e-4949-8add-e0afec7e8e70"
      },
      "outputs": [],
      "source": [
        "iris\n",
        "# 以下省略"
      ],
      "id": "f300bd32-1e3e-4949-8add-e0afec7e8e70"
    },
    {
      "id": "8abed67b",
      "cell_type": "markdown",
      "source": [
        "## 6.3 機械学習のための手法\n",
        "\n",
        "\n"
      ],
      "metadata": {
        "id": "8abed67b"
      }
    },
    {
      "id": "52bf1d4c",
      "cell_type": "markdown",
      "source": [
        "# 7 回帰1（単回帰）"
      ],
      "metadata": {
        "id": "52bf1d4c"
      }
    },
    {
      "cell_type": "code",
      "execution_count": null,
      "metadata": {
        "id": "d8742a35-1482-4a63-86e5-ad3bad8b85d7"
      },
      "outputs": [],
      "source": [
        "# Google Colaboratoryの環境設定\n",
        "if (file.exists(\"/content\")) {\n",
        "  options(Ncpus = parallel::detectCores())\n",
        "  install.packages(c(\"caret\", \"doParallel\", \"pastecs\"))\n",
        "}"
      ],
      "id": "d8742a35-1482-4a63-86e5-ad3bad8b85d7"
    },
    {
      "id": "3fd64e88",
      "cell_type": "markdown",
      "source": [
        "## 7.1 自動車の停止距離\n",
        "\n",
        "\n"
      ],
      "metadata": {
        "id": "3fd64e88"
      }
    },
    {
      "id": "13e1a7c2",
      "cell_type": "markdown",
      "source": [
        "## 7.2 データの確認"
      ],
      "metadata": {
        "id": "13e1a7c2"
      }
    },
    {
      "cell_type": "code",
      "execution_count": null,
      "metadata": {
        "id": "bd4129c2-b8eb-4d2d-af66-45542c5015f2"
      },
      "outputs": [],
      "source": [
        "library(caret)\n",
        "library(tidyverse)\n",
        "my_data <- cars"
      ],
      "id": "bd4129c2-b8eb-4d2d-af66-45542c5015f2"
    },
    {
      "cell_type": "code",
      "execution_count": null,
      "metadata": {
        "id": "5d277e83-c69f-4f9e-8f54-47d312d89da9"
      },
      "outputs": [],
      "source": [
        "dim(my_data)"
      ],
      "id": "5d277e83-c69f-4f9e-8f54-47d312d89da9"
    },
    {
      "cell_type": "code",
      "execution_count": null,
      "metadata": {
        "id": "cc26bc08-14de-4df5-a5e6-8526d7f2e2bb"
      },
      "outputs": [],
      "source": [
        "head(my_data)"
      ],
      "id": "cc26bc08-14de-4df5-a5e6-8526d7f2e2bb"
    },
    {
      "cell_type": "code",
      "execution_count": null,
      "metadata": {
        "id": "de68dbd1-07ba-45ea-b570-babdc976760e"
      },
      "outputs": [],
      "source": [
        "options(digits = 3)\n",
        "pastecs::stat.desc(my_data)"
      ],
      "id": "de68dbd1-07ba-45ea-b570-babdc976760e"
    },
    {
      "cell_type": "code",
      "execution_count": null,
      "metadata": {
        "id": "9d8dc5d4-ad68-4c1e-8bef-4406952723ed"
      },
      "outputs": [],
      "source": [
        "my_data %>%\n",
        "  ggplot(aes(x = speed, y = dist)) +\n",
        "  geom_point()"
      ],
      "id": "9d8dc5d4-ad68-4c1e-8bef-4406952723ed"
    },
    {
      "id": "25256121",
      "cell_type": "markdown",
      "source": [
        "## 7.3 回帰分析"
      ],
      "metadata": {
        "id": "25256121"
      }
    },
    {
      "cell_type": "code",
      "execution_count": null,
      "metadata": {
        "id": "d6de91a8-600e-4911-bb57-8abd33f7d0e6"
      },
      "outputs": [],
      "source": [
        "library(tidyverse)\n",
        "\n",
        "my_data <- cars\n",
        "tmp <- data.frame(speed = 21.5, dist = 67)\n",
        "my_data %>% ggplot(aes(x = speed, y = dist)) +\n",
        "  coord_cartesian(xlim = c(4, 25), ylim = c(0, 120)) +\n",
        "  geom_point() +\n",
        "  stat_smooth(formula = y ~ x, method = \"lm\") +\n",
        "  geom_pointrange(data = tmp, aes(ymin = -9, ymax = dist),  linetype = \"dotted\") +\n",
        "  geom_pointrange(data = tmp, aes(xmin =  0, xmax = speed), linetype = \"dotted\")"
      ],
      "id": "d6de91a8-600e-4911-bb57-8abd33f7d0e6"
    },
    {
      "cell_type": "code",
      "execution_count": null,
      "metadata": {
        "id": "23d85026-5dc6-4647-b89d-875f304779be"
      },
      "outputs": [],
      "source": [
        "library(caret)\n",
        "library(tidyverse)\n",
        "my_data <- cars"
      ],
      "id": "23d85026-5dc6-4647-b89d-875f304779be"
    },
    {
      "cell_type": "code",
      "execution_count": null,
      "metadata": {
        "id": "3c134731-ea30-41ce-bc43-2b1701bd05c8"
      },
      "outputs": [],
      "source": [
        "my_model <- train(form = dist ~ speed, # モデル式（出力変数と入力変数の関係）\n",
        "                  data = my_data,      # データ\n",
        "                  method = \"lm\")       # 手法"
      ],
      "id": "3c134731-ea30-41ce-bc43-2b1701bd05c8"
    },
    {
      "cell_type": "code",
      "execution_count": null,
      "metadata": {
        "id": "43a52202-7986-43e7-9ea2-b5dd13cd7fd9"
      },
      "outputs": [],
      "source": [
        "coef(my_model$finalModel)"
      ],
      "id": "43a52202-7986-43e7-9ea2-b5dd13cd7fd9"
    },
    {
      "cell_type": "code",
      "execution_count": null,
      "metadata": {
        "id": "4586a49b-c563-47f6-89fb-a3872afd00d2"
      },
      "outputs": [],
      "source": [
        "tmp <- data.frame(speed = 21.5)\n",
        "my_model %>% predict(tmp)"
      ],
      "id": "4586a49b-c563-47f6-89fb-a3872afd00d2"
    },
    {
      "cell_type": "code",
      "execution_count": null,
      "metadata": {
        "id": "ac882dc3-035a-43b9-8a67-248920d16ce6"
      },
      "outputs": [],
      "source": [
        "f <- function(x) { my_model %>% predict(data.frame(speed = x)) }"
      ],
      "id": "ac882dc3-035a-43b9-8a67-248920d16ce6"
    },
    {
      "cell_type": "code",
      "execution_count": null,
      "metadata": {
        "id": "6921ef3c-7bed-4f6d-bed8-90abe35b8d43"
      },
      "outputs": [],
      "source": [
        "my_data %>%\n",
        "  ggplot(aes(x = speed, y = dist,\n",
        "             color = \"data\")) +\n",
        "  geom_point() +\n",
        "  stat_function(\n",
        "    fun = f,\n",
        "    mapping = aes(color = \"model\"))"
      ],
      "id": "6921ef3c-7bed-4f6d-bed8-90abe35b8d43"
    },
    {
      "id": "9cdb1b4b",
      "cell_type": "markdown",
      "source": [
        "## 7.4 当てはまりの良さの指標"
      ],
      "metadata": {
        "id": "9cdb1b4b"
      }
    },
    {
      "cell_type": "code",
      "execution_count": null,
      "metadata": {
        "id": "a5733646-02c8-4393-964c-dc28afc1557a"
      },
      "outputs": [],
      "source": [
        "library(caret)\n",
        "library(tidyverse)\n",
        "my_data <- cars\n",
        "my_model <- train(form = dist ~ speed, data = my_data, method = \"lm\")\n",
        "\n",
        "y  <- my_data$dist\n",
        "y_ <- my_model %>% predict(my_data)\n",
        "my_data$y_ <- y_"
      ],
      "id": "a5733646-02c8-4393-964c-dc28afc1557a"
    },
    {
      "cell_type": "code",
      "execution_count": null,
      "metadata": {
        "id": "48e86d5c-1b25-4613-8b1b-b5650fefa7c4"
      },
      "outputs": [],
      "source": [
        "my_data$residual <- y - y_\n",
        "head(my_data)"
      ],
      "id": "48e86d5c-1b25-4613-8b1b-b5650fefa7c4"
    },
    {
      "cell_type": "code",
      "execution_count": null,
      "metadata": {
        "id": "544ffa86-32d9-45ae-b468-ffc56207916d"
      },
      "outputs": [],
      "source": [
        "my_data %>%\n",
        "  ggplot(aes(x = speed, y = dist)) +\n",
        "  geom_point() +\n",
        "  geom_line(aes(x = speed, y = y_)) +\n",
        "  geom_linerange(mapping = aes(ymin = y_, ymax = dist), linetype = \"dotted\")"
      ],
      "id": "544ffa86-32d9-45ae-b468-ffc56207916d"
    },
    {
      "cell_type": "code",
      "execution_count": null,
      "metadata": {
        "id": "9dd1d13d-7268-40ac-b631-8e8b1d517267"
      },
      "outputs": [],
      "source": [
        "RMSE(y_, y)\n",
        "# あるいは\n",
        "mean((my_data$residual^2))**0.5\n"
      ],
      "id": "9dd1d13d-7268-40ac-b631-8e8b1d517267"
    },
    {
      "cell_type": "code",
      "execution_count": null,
      "metadata": {
        "id": "ec759b32-00df-4f78-9aec-9277757d2c47"
      },
      "outputs": [],
      "source": [
        "R2(pred = y_, obs = y,\n",
        "   form = \"traditional\")"
      ],
      "id": "ec759b32-00df-4f78-9aec-9277757d2c47"
    },
    {
      "cell_type": "code",
      "execution_count": null,
      "metadata": {
        "id": "52c865e0-2f4b-46c7-8baa-c857fe855de5"
      },
      "outputs": [],
      "source": [
        "R2(pred = y_, obs = y,\n",
        "   form = \"corr\")\n",
        "# あるいは\n",
        "summary(my_model$finalModel)$r.squared"
      ],
      "id": "52c865e0-2f4b-46c7-8baa-c857fe855de5"
    },
    {
      "cell_type": "code",
      "execution_count": null,
      "metadata": {
        "id": "f569fd88-4226-4c8b-904b-d1caf934f6b0"
      },
      "outputs": [],
      "source": [
        "my_test <- my_data[1:3, ]\n",
        "y  <- my_test$dist\n",
        "y_ <- my_model %>% predict(my_test)\n",
        "\n",
        "R2(pred = y_, obs = y,\n",
        "   form = \"traditional\")\n",
        "\n",
        "R2(pred = y_, obs = y,\n",
        "   form = \"corr\")"
      ],
      "id": "f569fd88-4226-4c8b-904b-d1caf934f6b0"
    },
    {
      "cell_type": "code",
      "execution_count": null,
      "metadata": {
        "id": "8ff39039-7174-45ca-b208-e70167614fde"
      },
      "outputs": [],
      "source": [
        "library(caret)\n",
        "library(tidyverse)\n",
        "my_data <- cars\n",
        "my_idx <- c(2, 11, 27, 34, 39, 44)\n",
        "my_sample <- my_data[my_idx, ]"
      ],
      "id": "8ff39039-7174-45ca-b208-e70167614fde"
    },
    {
      "cell_type": "code",
      "execution_count": null,
      "metadata": {
        "id": "b42320cd-7abd-4709-8ad1-186220d82033"
      },
      "outputs": [],
      "source": [
        "options(warn = -1) # これ以降，警告を表示しない．\n",
        "my_model <- train(form = dist ~ poly(speed, degree = 5, raw = TRUE),\n",
        "                  data = my_sample,\n",
        "                  method = \"lm\")\n",
        "options(warn = 0)  # これ以降，警告を表示する．\n",
        "\n",
        "y  <- my_sample$dist\n",
        "y_ <- my_model %>% predict(my_sample)"
      ],
      "id": "b42320cd-7abd-4709-8ad1-186220d82033"
    },
    {
      "cell_type": "code",
      "execution_count": null,
      "metadata": {
        "id": "a5297903-2bb2-4c79-85d0-589802899656"
      },
      "outputs": [],
      "source": [
        "RMSE(y_, y)\n",
        "\n",
        "R2(pred = y_, obs = y,\n",
        "   form = \"traditional\")\n",
        "\n",
        "R2(pred = y_, obs = y,\n",
        "   form = \"corr\")"
      ],
      "id": "a5297903-2bb2-4c79-85d0-589802899656"
    },
    {
      "cell_type": "code",
      "execution_count": null,
      "metadata": {
        "id": "68ab84d8-f215-4710-8978-4b9865a9774b"
      },
      "outputs": [],
      "source": [
        "f <- function(x) { my_model %>% predict(data.frame(speed = x)) }\n",
        "\n",
        "my_data %>%\n",
        "  ggplot(aes(x = speed, y = dist, color = \"data\")) +\n",
        "  geom_point() +\n",
        "  geom_point(data = my_sample, mapping = aes(color = \"sample\")) +\n",
        "  stat_function(fun = f, mapping = aes(color = \"model\")) +\n",
        "  coord_cartesian(ylim = c(0, 120))"
      ],
      "id": "68ab84d8-f215-4710-8978-4b9865a9774b"
    },
    {
      "id": "1c15efbf",
      "cell_type": "markdown",
      "source": [
        "## 7.5 K最近傍法"
      ],
      "metadata": {
        "id": "1c15efbf"
      }
    },
    {
      "cell_type": "code",
      "execution_count": null,
      "metadata": {
        "id": "a3667d88-7ec6-460d-b2b3-7056cf087b87"
      },
      "outputs": [],
      "source": [
        "# 準備\n",
        "library(caret)\n",
        "library(tidyverse)\n",
        "my_data <- cars\n",
        "\n",
        "# 訓練\n",
        "my_model <- train(form = dist ~ speed, data = my_data, method = \"knn\")\n",
        "\n",
        "# 可視化の準備\n",
        "f <- function(x) { my_model %>% predict(data.frame(speed = x))}"
      ],
      "id": "a3667d88-7ec6-460d-b2b3-7056cf087b87"
    },
    {
      "cell_type": "code",
      "execution_count": null,
      "metadata": {
        "id": "97141ea8-3c6c-49bb-97cd-809bb10a35be"
      },
      "outputs": [],
      "source": [
        "my_data %>%\n",
        "  ggplot(aes(x = speed,\n",
        "             y = dist,\n",
        "             color = \"data\")) +\n",
        "  geom_point() +\n",
        "  stat_function(\n",
        "    fun = f,\n",
        "    mapping = aes(color = \"model\"))"
      ],
      "id": "97141ea8-3c6c-49bb-97cd-809bb10a35be"
    },
    {
      "cell_type": "code",
      "execution_count": null,
      "metadata": {
        "id": "4d0b86be-b92b-419b-84e8-a6193d7f3f29"
      },
      "outputs": [],
      "source": [
        "y  <- my_data$dist\n",
        "y_ <- my_model %>% predict(my_data)\n",
        "\n",
        "RMSE(y_, y)\n",
        "\n",
        "R2(pred = y_, obs = y,\n",
        "   form = \"traditional\")\n",
        "\n",
        "R2(pred = y_, obs = y,\n",
        "   form = \"corr\")"
      ],
      "id": "4d0b86be-b92b-419b-84e8-a6193d7f3f29"
    },
    {
      "id": "1549c6aa",
      "cell_type": "markdown",
      "source": [
        "## 7.6 検証"
      ],
      "metadata": {
        "id": "1549c6aa"
      }
    },
    {
      "cell_type": "code",
      "execution_count": null,
      "metadata": {
        "id": "f98029a5-e16f-4bc6-a831-30c684bb4590"
      },
      "outputs": [],
      "source": [
        "library(caret)\n",
        "library(tidyverse)\n",
        "my_data <- cars\n",
        "my_model <- train(form = dist ~ speed, data = my_data, method = \"lm\")\n",
        "\n",
        "my_model$results"
      ],
      "id": "f98029a5-e16f-4bc6-a831-30c684bb4590"
    },
    {
      "cell_type": "code",
      "execution_count": null,
      "metadata": {
        "id": "4cc7de04-14cf-4464-9001-e6c889af3a0d"
      },
      "outputs": [],
      "source": [
        "my_model <- train(form = dist ~ speed, data = my_data, method = \"lm\",\n",
        "                  trControl = trainControl(method = \"cv\", number = 5))\n",
        "my_model$results"
      ],
      "id": "4cc7de04-14cf-4464-9001-e6c889af3a0d"
    },
    {
      "cell_type": "code",
      "execution_count": null,
      "metadata": {
        "id": "d88872bf-7c16-44d8-8ab3-b82a5822664f"
      },
      "outputs": [],
      "source": [
        "my_model <- train(form = dist ~ speed, data = my_data, method = \"lm\",\n",
        "                  trControl = trainControl(method = \"LOOCV\"))\n",
        "my_model$results"
      ],
      "id": "d88872bf-7c16-44d8-8ab3-b82a5822664f"
    },
    {
      "cell_type": "code",
      "execution_count": null,
      "metadata": {
        "id": "12caa493-ecea-4a2a-9e35-115eb7631fcd"
      },
      "outputs": [],
      "source": [
        "library(doParallel)\n",
        "cl <- makeCluster(detectCores())\n",
        "registerDoParallel(cl)"
      ],
      "id": "12caa493-ecea-4a2a-9e35-115eb7631fcd"
    },
    {
      "cell_type": "code",
      "execution_count": null,
      "metadata": {
        "id": "7438e32f-bfd3-4d01-999b-5974bc08da77"
      },
      "outputs": [],
      "source": [
        "library(caret)\n",
        "library(tidyverse)\n",
        "my_data <- cars\n",
        "my_model <- train(form = dist ~ speed, data = my_data, method = \"lm\")\n",
        "y  <- my_data$dist\n",
        "y_ <- my_model %>% predict(my_data)"
      ],
      "id": "7438e32f-bfd3-4d01-999b-5974bc08da77"
    },
    {
      "cell_type": "code",
      "execution_count": null,
      "metadata": {
        "id": "26699c89-b17d-4d15-bb33-e0a657dd940c"
      },
      "outputs": [],
      "source": [
        "# RMSE（訓練）\n",
        "RMSE(y_, y)\n",
        "\n",
        "# 決定係数1（訓練）\n",
        "R2(pred = y_, obs = y,\n",
        "   form = \"traditional\")\n",
        "\n",
        "# 決定係数6（訓練）\n",
        "R2(pred = y_, obs = y,\n",
        "   form = \"corr\")"
      ],
      "id": "26699c89-b17d-4d15-bb33-e0a657dd940c"
    },
    {
      "cell_type": "code",
      "execution_count": null,
      "metadata": {
        "id": "1af180a7-4cf6-488c-9075-a869d5ebf23a"
      },
      "outputs": [],
      "source": [
        "postResample(pred = y_, obs = y)"
      ],
      "id": "1af180a7-4cf6-488c-9075-a869d5ebf23a"
    },
    {
      "cell_type": "code",
      "execution_count": null,
      "metadata": {
        "id": "3af927d0-7814-469f-b92b-4a02b92715ee"
      },
      "outputs": [],
      "source": [
        "my_model <- train(form = dist ~ speed, data = my_data, method = \"lm\")\n",
        "my_model$results\n",
        "# 左から，RMSE（検証），決定係数6（検証），MAE（検証）"
      ],
      "id": "3af927d0-7814-469f-b92b-4a02b92715ee"
    },
    {
      "cell_type": "code",
      "execution_count": null,
      "metadata": {
        "id": "d2132856-02a5-4478-9355-3fadcf13100f"
      },
      "outputs": [],
      "source": [
        "my_model <- train(form = dist ~ speed, data = my_data, method = \"lm\",\n",
        "                  trControl = trainControl(method = \"LOOCV\"))\n",
        "\n",
        "# 方法1\n",
        "my_model$results\n",
        "\n",
        "# 方法2\n",
        "y  <- my_model$pred$obs\n",
        "y_ <- my_model$pred$pred\n",
        "mean((y - y_)^2)**0.5"
      ],
      "id": "d2132856-02a5-4478-9355-3fadcf13100f"
    },
    {
      "cell_type": "code",
      "execution_count": null,
      "metadata": {
        "id": "5f6b82bb-3c4e-4125-8889-6a1419ed9726"
      },
      "outputs": [],
      "source": [
        "mean(((y - y_)^2)**0.5)"
      ],
      "id": "5f6b82bb-3c4e-4125-8889-6a1419ed9726"
    },
    {
      "cell_type": "code",
      "execution_count": null,
      "metadata": {
        "id": "b92e27d6-bd4b-4652-a348-d4f707f08c02"
      },
      "outputs": [],
      "source": [
        "library(caret)\n",
        "library(tidyverse)\n",
        "my_data <- cars\n",
        "\n",
        "my_lm_model <- train(form = dist ~ speed, data = my_data, method = \"lm\",\n",
        "                     trControl = trainControl(method = \"LOOCV\"))\n",
        "\n",
        "my_knn_model <- train(form = dist ~ speed, data = my_data, method = \"knn\",\n",
        "                      tuneGrid = data.frame(k = 5),\n",
        "                      trControl = trainControl(method = \"LOOCV\"))"
      ],
      "id": "b92e27d6-bd4b-4652-a348-d4f707f08c02"
    },
    {
      "cell_type": "code",
      "execution_count": null,
      "metadata": {
        "id": "46faf3b2-cd16-41ab-8e6d-1397b97ada15"
      },
      "outputs": [],
      "source": [
        "my_lm_model$results$RMSE\n",
        "\n",
        "my_knn_model$results$RMSE"
      ],
      "id": "46faf3b2-cd16-41ab-8e6d-1397b97ada15"
    },
    {
      "cell_type": "code",
      "execution_count": null,
      "metadata": {
        "id": "d0269d24-8def-4669-82ad-d377de578500"
      },
      "outputs": [],
      "source": [
        "y     <- my_data$dist\n",
        "y_lm  <- my_lm_model$pred$pred\n",
        "y_knn <- my_knn_model$pred$pred\n",
        "\n",
        "my_df <- data.frame(\n",
        "  lm  = (y - y_lm)^2,\n",
        "  knn = (y - y_knn)^2)\n",
        "\n",
        "head(my_df)"
      ],
      "id": "d0269d24-8def-4669-82ad-d377de578500"
    },
    {
      "cell_type": "code",
      "execution_count": null,
      "metadata": {
        "id": "08cb9b48-4c9d-4b22-9a52-8ee18d8ddf3d"
      },
      "outputs": [],
      "source": [
        "boxplot(my_df, ylab = \"r^2\")"
      ],
      "id": "08cb9b48-4c9d-4b22-9a52-8ee18d8ddf3d"
    },
    {
      "cell_type": "code",
      "execution_count": null,
      "metadata": {
        "id": "91617ae8-3275-443d-b188-f27dc716cbb5"
      },
      "outputs": [],
      "source": [
        "t.test(x = my_df$lm, y = my_df$knn,\n",
        "       conf.level = 0.95,\n",
        "       paired = TRUE,\n",
        "       alternative = \"two.sided\")\n"
      ],
      "id": "91617ae8-3275-443d-b188-f27dc716cbb5"
    },
    {
      "id": "713c8379",
      "cell_type": "markdown",
      "source": [
        "## 7.7 パラメータチューニング"
      ],
      "metadata": {
        "id": "713c8379"
      }
    },
    {
      "cell_type": "code",
      "execution_count": null,
      "metadata": {
        "id": "3fbe01af-7254-467c-9bdd-1d6752ff722e"
      },
      "outputs": [],
      "source": [
        "library(caret)\n",
        "library(tidyverse)\n",
        "my_data <- cars\n",
        "my_model <- train(form = dist ~ speed, data = my_data, method = \"knn\")\n",
        "my_model$results"
      ],
      "id": "3fbe01af-7254-467c-9bdd-1d6752ff722e"
    },
    {
      "cell_type": "code",
      "execution_count": null,
      "metadata": {
        "id": "9e9ea1bd-f5d0-453b-9840-7b91f87e4b79"
      },
      "outputs": [],
      "source": [
        "my_params <- expand.grid(k = 1:15)\n",
        "\n",
        "my_model <- train(form = dist ~ speed, data = my_data, method = \"knn\",\n",
        "                  tuneGrid = my_params,\n",
        "                  trControl = trainControl(method = \"LOOCV\"))"
      ],
      "id": "9e9ea1bd-f5d0-453b-9840-7b91f87e4b79"
    },
    {
      "cell_type": "code",
      "execution_count": null,
      "metadata": {
        "id": "9dd22b17-163b-4224-bf18-eb21d86b94aa"
      },
      "outputs": [],
      "source": [
        "head(my_model$results)"
      ],
      "id": "9dd22b17-163b-4224-bf18-eb21d86b94aa"
    },
    {
      "cell_type": "code",
      "execution_count": null,
      "metadata": {
        "id": "38a87d1b-e7de-4c23-b29d-d1b4b9c3f03e"
      },
      "outputs": [],
      "source": [
        "ggplot(my_model)"
      ],
      "id": "38a87d1b-e7de-4c23-b29d-d1b4b9c3f03e"
    },
    {
      "cell_type": "code",
      "execution_count": null,
      "metadata": {
        "id": "2e8ded91-31d8-43f1-bf62-1c92d94394be"
      },
      "outputs": [],
      "source": [
        "my_model$bestTune"
      ],
      "id": "2e8ded91-31d8-43f1-bf62-1c92d94394be"
    },
    {
      "cell_type": "code",
      "execution_count": null,
      "metadata": {
        "id": "4caa1a77-962a-49b4-a1f6-69e2876c52ae"
      },
      "outputs": [],
      "source": [
        "my_model$results %>%\n",
        "  filter(RMSE == min(RMSE))"
      ],
      "id": "4caa1a77-962a-49b4-a1f6-69e2876c52ae"
    },
    {
      "cell_type": "code",
      "execution_count": null,
      "metadata": {
        "id": "437becdb-1a93-43bc-afd9-482e4879a3f9"
      },
      "outputs": [],
      "source": [
        "y  <- my_data$dist\n",
        "y_ <- my_model %>% predict(my_data)\n",
        "RMSE(y_, y)"
      ],
      "id": "437becdb-1a93-43bc-afd9-482e4879a3f9"
    },
    {
      "cell_type": "code",
      "execution_count": null,
      "metadata": {
        "id": "e16e0041-a0bf-4bdb-81eb-c24e8f924840"
      },
      "outputs": [],
      "source": [
        "library(caret)\n",
        "library(tidyverse)\n",
        "my_data <- cars\n",
        "\n",
        "my_loocv <- function(k) {\n",
        "  my_model <- train(form = dist ~ speed, data = my_data, method = \"knn\",\n",
        "                    tuneGrid = data.frame(k = k),\n",
        "                    trControl = trainControl(method = \"LOOCV\"))\n",
        "  y  <- my_data$dist\n",
        "  y_ <- my_model %>% predict(my_data)\n",
        "  list(k = k,\n",
        "       training = RMSE(y_, y),             # RMSE（訓練）\n",
        "       validation = my_model$results$RMSE) # RMSE（検証）\n",
        "}\n",
        "\n",
        "my_results <- 1:15 %>% map_dfr(my_loocv)"
      ],
      "id": "e16e0041-a0bf-4bdb-81eb-c24e8f924840"
    },
    {
      "cell_type": "code",
      "execution_count": null,
      "metadata": {
        "id": "bbae3565-b172-4bba-89b1-e8b6bf8a040b"
      },
      "outputs": [],
      "source": [
        "my_results %>%\n",
        "  pivot_longer(-k) %>%\n",
        "  ggplot(aes(x = k, y = value,\n",
        "             color = name)) +\n",
        "  geom_line() + geom_point() +\n",
        "  xlab(\"#Neighbors\") + ylab(\"RMSE\") +\n",
        "  theme(legend.position = c(1, 0),\n",
        "        legend.justification = c(1, 0))"
      ],
      "id": "bbae3565-b172-4bba-89b1-e8b6bf8a040b"
    },
    {
      "cell_type": "code",
      "execution_count": null,
      "metadata": {
        "id": "73f032c1-a3a1-43be-9e68-fd3fbe2e6969"
      },
      "outputs": [],
      "source": [
        "# 並列クラスタの停止\n",
        "stopCluster(cl)\n",
        "registerDoSEQ()"
      ],
      "id": "73f032c1-a3a1-43be-9e68-fd3fbe2e6969"
    },
    {
      "id": "e73226d4",
      "cell_type": "markdown",
      "source": [
        "# 8 回帰2（重回帰）"
      ],
      "metadata": {
        "id": "e73226d4"
      }
    },
    {
      "cell_type": "code",
      "execution_count": null,
      "metadata": {
        "id": "fa36eced-851a-4e35-8f7a-57e9c5de1fd3"
      },
      "outputs": [],
      "source": [
        "# Google Colaboratoryの環境設定\n",
        "if (file.exists(\"/content\")) {\n",
        "  options(Ncpus = parallel::detectCores())\n",
        "  install.packages(c(\"caret\", \"ggfortify\", \"glmnet\", \"glmnetUtils\", \"leaps\", \"neuralnet\", \"psych\"))\n",
        "}"
      ],
      "id": "fa36eced-851a-4e35-8f7a-57e9c5de1fd3"
    },
    {
      "id": "32cddf20",
      "cell_type": "markdown",
      "source": [
        "## 8.1 ブドウの生育条件とワインの価格"
      ],
      "metadata": {
        "id": "32cddf20"
      }
    },
    {
      "cell_type": "code",
      "execution_count": null,
      "metadata": {
        "id": "23f5e765-6f81-4988-ba0e-27a0acbbbc27"
      },
      "outputs": [],
      "source": [
        "library(tidyverse)\n",
        "my_url <- \"http://www.liquidasset.com/winedata.html\"\n",
        "tmp <- read.table(file = my_url,   # 読み込む対象\n",
        "                  header = TRUE,   # 1行目は変数名\n",
        "                  na.string = \".\", # 欠損値を表す文字列\n",
        "                  skip = 62,       # 読み飛ばす行数\n",
        "                  nrows = 38)      # 読み込む行数\n",
        "psych::describe(tmp)"
      ],
      "id": "23f5e765-6f81-4988-ba0e-27a0acbbbc27"
    },
    {
      "cell_type": "code",
      "execution_count": null,
      "metadata": {
        "id": "2bc7bdf9-83e4-4ecc-ab19-2b8888a420c0"
      },
      "outputs": [],
      "source": [
        "my_data <- na.omit(tmp[, -c(1, 2)])\n",
        "head(my_data)"
      ],
      "id": "2bc7bdf9-83e4-4ecc-ab19-2b8888a420c0"
    },
    {
      "cell_type": "code",
      "execution_count": null,
      "metadata": {
        "id": "dfbc8bae-1160-4bd8-a03d-1f01943da466"
      },
      "outputs": [],
      "source": [
        "dim(my_data)"
      ],
      "id": "dfbc8bae-1160-4bd8-a03d-1f01943da466"
    },
    {
      "cell_type": "code",
      "execution_count": null,
      "metadata": {
        "id": "c85c0d46-12c3-41e1-a96e-6ffa09a2b25c"
      },
      "outputs": [],
      "source": [
        "my_data %>% write_csv(\"wine.csv\")"
      ],
      "id": "c85c0d46-12c3-41e1-a96e-6ffa09a2b25c"
    },
    {
      "cell_type": "code",
      "execution_count": null,
      "metadata": {
        "id": "17291412-26a5-4ce7-8466-363a05a9449d"
      },
      "outputs": [],
      "source": [
        "#my_data <- read_csv(\"wine.csv\") # 作ったファイルを使う場合\n",
        "my_url <- str_c(\"https://raw.githubusercontent.com/taroyabuki\",\n",
        "                \"/fromzero/master/data/wine.csv\")\n",
        "my_data <- read_csv(my_url)"
      ],
      "id": "17291412-26a5-4ce7-8466-363a05a9449d"
    },
    {
      "id": "9be6b4c0",
      "cell_type": "markdown",
      "source": [
        "## 8.2 重回帰分析"
      ],
      "metadata": {
        "id": "9be6b4c0"
      }
    },
    {
      "cell_type": "code",
      "execution_count": null,
      "metadata": {
        "id": "17d21e54-308e-4b33-a1cf-cf2e59712e95"
      },
      "outputs": [],
      "source": [
        "library(caret)\n",
        "library(tidyverse)\n",
        "my_url <- str_c(\"https://raw.githubusercontent.com/taroyabuki\",\n",
        "                \"/fromzero/master/data/wine.csv\")\n",
        "my_data <- read_csv(my_url)\n",
        "\n",
        "my_model <- train(form = LPRICE2 ~ WRAIN + DEGREES + HRAIN + TIME_SV,\n",
        "                  data = my_data,\n",
        "                  method = \"lm\",\n",
        "                  trControl = trainControl(method = \"LOOCV\"))"
      ],
      "id": "17d21e54-308e-4b33-a1cf-cf2e59712e95"
    },
    {
      "cell_type": "code",
      "execution_count": null,
      "metadata": {
        "id": "05c1d031-cf1f-441e-a63b-6e54e034f3a9"
      },
      "outputs": [],
      "source": [
        "coef(my_model$finalModel) %>%\n",
        "  as.data.frame"
      ],
      "id": "05c1d031-cf1f-441e-a63b-6e54e034f3a9"
    },
    {
      "cell_type": "code",
      "execution_count": null,
      "metadata": {
        "id": "089ae835-5e1d-4887-9bcf-223159b23f8f"
      },
      "outputs": [],
      "source": [
        "my_test <- data.frame(\n",
        "  WRAIN = 500, DEGREES = 17,\n",
        "  HRAIN = 120, TIME_SV = 2)\n",
        "my_model %>% predict(my_test)"
      ],
      "id": "089ae835-5e1d-4887-9bcf-223159b23f8f"
    },
    {
      "cell_type": "code",
      "execution_count": null,
      "metadata": {
        "id": "ecd27483-ee95-4e51-8bb3-ccd862b93452"
      },
      "outputs": [],
      "source": [
        "y  <- my_data$LPRICE2\n",
        "y_ <- my_model %>% predict(my_data)\n",
        "\n",
        "RMSE(y_, y)\n",
        "\n",
        "R2(pred = y_, obs = y,\n",
        "   form = \"traditional\")\n",
        "\n",
        "R2(pred = y_, obs = y,\n",
        "   form = \"corr\")"
      ],
      "id": "ecd27483-ee95-4e51-8bb3-ccd862b93452"
    },
    {
      "cell_type": "code",
      "execution_count": null,
      "metadata": {
        "id": "9bf51c52-74ad-4098-966e-eada0c759306"
      },
      "outputs": [],
      "source": [
        "my_model$results"
      ],
      "id": "9bf51c52-74ad-4098-966e-eada0c759306"
    },
    {
      "cell_type": "code",
      "execution_count": null,
      "metadata": {
        "id": "c25b2a1d-b506-4915-8b74-449729e0e60f"
      },
      "outputs": [],
      "source": [
        "M <- my_data[, -1] %>%\n",
        "  mutate(b0 = 1) %>% as.matrix\n",
        "b <- MASS::ginv(M) %*% y\n",
        "matrix(b,\n",
        "       dimnames = list(colnames(M)))"
      ],
      "id": "c25b2a1d-b506-4915-8b74-449729e0e60f"
    },
    {
      "id": "32dd1e7b",
      "cell_type": "markdown",
      "source": [
        "## 8.3 標準化"
      ],
      "metadata": {
        "id": "32dd1e7b"
      }
    },
    {
      "cell_type": "code",
      "execution_count": null,
      "metadata": {
        "id": "8c677c16-152b-46d7-a866-c76e14bb4284"
      },
      "outputs": [],
      "source": [
        "library(caret)\n",
        "library(tidyverse)\n",
        "my_url <- str_c(\"https://raw.githubusercontent.com/taroyabuki\",\n",
        "                \"/fromzero/master/data/wine.csv\")\n",
        "my_data <- read_csv(my_url)\n",
        "\n",
        "my_data %>%\n",
        "  mutate_if(is.numeric, scale) %>% # 数値の列の標準化\n",
        "  pivot_longer(-LPRICE2) %>%\n",
        "  ggplot(aes(x = name, y = value)) +\n",
        "  geom_boxplot() +\n",
        "  stat_summary(fun = mean, geom = \"point\", size = 3) +\n",
        "  xlab(NULL)"
      ],
      "id": "8c677c16-152b-46d7-a866-c76e14bb4284"
    },
    {
      "cell_type": "code",
      "execution_count": null,
      "metadata": {
        "id": "bfbe37be-9ad7-4f51-8b98-78366118543e"
      },
      "outputs": [],
      "source": [
        "my_model <- train(\n",
        "  form = LPRICE2 ~ .,\n",
        "  data = my_data,\n",
        "  method = \"lm\",\n",
        "  preProcess = c(\"center\", \"scale\"))"
      ],
      "id": "bfbe37be-9ad7-4f51-8b98-78366118543e"
    },
    {
      "cell_type": "code",
      "execution_count": null,
      "metadata": {
        "id": "4b53b8f2-b28f-4567-ae87-ca5d14ebc677"
      },
      "outputs": [],
      "source": [
        "coef(my_model$finalModel) %>%\n",
        "  as.data.frame"
      ],
      "id": "4b53b8f2-b28f-4567-ae87-ca5d14ebc677"
    },
    {
      "cell_type": "code",
      "execution_count": null,
      "metadata": {
        "id": "be397f14-17be-4c64-ba9c-e895174bae62"
      },
      "outputs": [],
      "source": [
        "my_test <- data.frame(\n",
        "  WRAIN = 500, DEGREES = 17,\n",
        "  HRAIN = 120, TIME_SV = 2)\n",
        "my_model %>% predict(my_test)"
      ],
      "id": "be397f14-17be-4c64-ba9c-e895174bae62"
    },
    {
      "id": "ff262b78",
      "cell_type": "markdown",
      "source": [
        "## 8.4 入力変数の数とモデルの良さ"
      ],
      "metadata": {
        "id": "ff262b78"
      }
    },
    {
      "cell_type": "code",
      "execution_count": null,
      "metadata": {
        "id": "43efa257-1a5f-4b64-8c86-488f83212fe7"
      },
      "outputs": [],
      "source": [
        "library(caret)\n",
        "library(tidyverse)\n",
        "my_url <- str_c(\"https://raw.githubusercontent.com/taroyabuki\",\n",
        "                \"/fromzero/master/data/wine.csv\")\n",
        "my_data <- read_csv(my_url)\n",
        "\n",
        "n <- nrow(my_data)\n",
        "my_data2 <- my_data %>% mutate(v1 = 0:(n - 1) %% 2,\n",
        "                               v2 = 0:(n - 1) %% 3)\n",
        "head(my_data2)"
      ],
      "id": "43efa257-1a5f-4b64-8c86-488f83212fe7"
    },
    {
      "cell_type": "code",
      "execution_count": null,
      "metadata": {
        "id": "25aacd74-44a7-4b41-8f0c-5da570e23064"
      },
      "outputs": [],
      "source": [
        "my_model2 <- train(form = LPRICE2 ~ ., data = my_data2, method = \"lm\",\n",
        "                   trControl = trainControl(method = \"LOOCV\"))\n",
        "y  <- my_data2$LPRICE2\n",
        "y_ <- my_model2 %>% predict(my_data2)\n",
        "\n",
        "RMSE(y_, y)\n",
        "\n",
        "my_model2$results$RMSE"
      ],
      "id": "25aacd74-44a7-4b41-8f0c-5da570e23064"
    },
    {
      "id": "d9d87b1c",
      "cell_type": "markdown",
      "source": [
        "## 8.5 変数選択"
      ],
      "metadata": {
        "id": "d9d87b1c"
      }
    },
    {
      "cell_type": "code",
      "execution_count": null,
      "metadata": {
        "id": "40be1d64-3d59-4b3a-9810-a78bb145ebf8"
      },
      "outputs": [],
      "source": [
        "library(caret)\n",
        "library(tidyverse)\n",
        "my_url <- str_c(\"https://raw.githubusercontent.com/taroyabuki\",\n",
        "                \"/fromzero/master/data/wine.csv\")\n",
        "my_data <- read_csv(my_url)\n",
        "n <- nrow(my_data)\n",
        "my_data2 <- my_data %>% mutate(v1 = 0:(n - 1) %% 2,\n",
        "                               v2 = 0:(n - 1) %% 3)"
      ],
      "id": "40be1d64-3d59-4b3a-9810-a78bb145ebf8"
    },
    {
      "cell_type": "code",
      "execution_count": null,
      "metadata": {
        "id": "43ce0766-0e99-4b19-b57d-b962f044df37"
      },
      "outputs": [],
      "source": [
        "my_model <- train(form = LPRICE2 ~ .,\n",
        "                  data = my_data2,\n",
        "                  method = \"leapForward\", # 変数増加法\n",
        "                  trControl = trainControl(method = \"LOOCV\"),\n",
        "                  tuneGrid = data.frame(nvmax = 1:6)) # 選択する変数の上限\n",
        "summary(my_model$finalModel)$outmat"
      ],
      "id": "43ce0766-0e99-4b19-b57d-b962f044df37"
    },
    {
      "id": "0b8cb244",
      "cell_type": "markdown",
      "source": [
        "## 8.6 補足：正則化"
      ],
      "metadata": {
        "id": "0b8cb244"
      }
    },
    {
      "cell_type": "code",
      "execution_count": null,
      "metadata": {
        "id": "24de4f44-dd77-4115-9408-cd8a10a5820a"
      },
      "outputs": [],
      "source": [
        "library(caret)\n",
        "library(tidyverse)\n",
        "my_url <- str_c(\"https://raw.githubusercontent.com/taroyabuki\",\n",
        "                \"/fromzero/master/data/wine.csv\")\n",
        "my_data <- read_csv(my_url)"
      ],
      "id": "24de4f44-dd77-4115-9408-cd8a10a5820a"
    },
    {
      "cell_type": "code",
      "execution_count": null,
      "metadata": {
        "id": "c192907b-0ef9-49a0-b8e3-5b0958999587"
      },
      "outputs": [],
      "source": [
        "A <- 2\n",
        "B <- 0.1\n",
        "\n",
        "my_model <- train(\n",
        "  form = LPRICE2 ~ .,\n",
        "  data = my_data,\n",
        "  method = \"glmnet\",\n",
        "  standardize = TRUE,\n",
        "  tuneGrid = data.frame(\n",
        "    lambda = A,\n",
        "    alpha = B))"
      ],
      "id": "c192907b-0ef9-49a0-b8e3-5b0958999587"
    },
    {
      "cell_type": "code",
      "execution_count": null,
      "metadata": {
        "id": "7566d208-5f40-4fc2-b4d4-1d0f3dcdb1a9"
      },
      "outputs": [],
      "source": [
        "coef(my_model$finalModel, A)"
      ],
      "id": "7566d208-5f40-4fc2-b4d4-1d0f3dcdb1a9"
    },
    {
      "cell_type": "code",
      "execution_count": null,
      "metadata": {
        "id": "4a997fcc-32db-48ad-84cb-31e29cd8ba22"
      },
      "outputs": [],
      "source": [
        "my_test <- data.frame(\n",
        "  WRAIN = 500, DEGREES = 17,\n",
        "  HRAIN = 120, TIME_SV = 2)\n",
        "my_model %>% predict(my_test)"
      ],
      "id": "4a997fcc-32db-48ad-84cb-31e29cd8ba22"
    },
    {
      "cell_type": "code",
      "execution_count": null,
      "metadata": {
        "id": "463a73d5-b2aa-40e1-a9b2-7ce1d986a110"
      },
      "outputs": [],
      "source": [
        "library(ggfortify)\n",
        "library(glmnetUtils)\n",
        "\n",
        "my_data2 <- my_data %>% scale %>%\n",
        "  as.data.frame\n",
        "\n",
        "B <- 0.1\n",
        "\n",
        "glmnet(\n",
        "  form = LPRICE2 ~ .,\n",
        "  data = my_data2,\n",
        "  alpha = B) %>%\n",
        "  autoplot(xvar = \"lambda\") +\n",
        "  xlab(\"log A ( = log lambda)\") +\n",
        "  theme(legend.position = c(0.15, 0.25))"
      ],
      "id": "463a73d5-b2aa-40e1-a9b2-7ce1d986a110"
    },
    {
      "cell_type": "code",
      "execution_count": null,
      "metadata": {
        "id": "b1a78dbc-86f0-4385-b65b-78f5f0a81b9e"
      },
      "outputs": [],
      "source": [
        "As <- seq(0, 0.1, length.out = 21)\n",
        "Bs <- seq(0, 0.1, length.out =  6)\n",
        "\n",
        "my_model <- train(\n",
        "  form = LPRICE2 ~ ., data = my_data, method = \"glmnet\", standardize = TRUE,\n",
        "  trControl = trainControl(method = \"LOOCV\"),\n",
        "  tuneGrid = expand.grid(lambda = As, alpha  = Bs))\n",
        "\n",
        "my_model$bestTune"
      ],
      "id": "b1a78dbc-86f0-4385-b65b-78f5f0a81b9e"
    },
    {
      "cell_type": "code",
      "execution_count": null,
      "metadata": {
        "id": "57425b71-6574-4474-94ac-9afc83c5a24a"
      },
      "outputs": [],
      "source": [
        "tmp <- \"B ( = alpha)\"\n",
        "ggplot(my_model) +\n",
        "  theme(legend.position = c(0, 1), legend.justification = c(0, 1)) +\n",
        "  xlab(\"A ( = lambda)\") +\n",
        "  guides(shape = guide_legend(tmp), color = guide_legend(tmp))"
      ],
      "id": "57425b71-6574-4474-94ac-9afc83c5a24a"
    },
    {
      "cell_type": "code",
      "execution_count": null,
      "metadata": {
        "id": "6d0431e8-0905-4f5b-ac81-1612d66ffb4c"
      },
      "outputs": [],
      "source": [
        "my_model$results %>%\n",
        "  filter(RMSE == min(RMSE))"
      ],
      "id": "6d0431e8-0905-4f5b-ac81-1612d66ffb4c"
    },
    {
      "id": "5d8b3dac",
      "cell_type": "markdown",
      "source": [
        "## 8.7 ニューラルネットワーク"
      ],
      "metadata": {
        "id": "5d8b3dac"
      }
    },
    {
      "cell_type": "code",
      "execution_count": null,
      "metadata": {
        "id": "6b6af626-f0dd-4ecb-81bd-8a27848fe6fa"
      },
      "outputs": [],
      "source": [
        "curve(1 / (1 + exp(-x)), -6, 6)"
      ],
      "id": "6b6af626-f0dd-4ecb-81bd-8a27848fe6fa"
    },
    {
      "cell_type": "code",
      "execution_count": null,
      "metadata": {
        "id": "767342a5-bd25-4d76-9760-88024ffefc28"
      },
      "outputs": [],
      "source": [
        "library(caret)\n",
        "library(tidyverse)\n",
        "my_url <- str_c(\"https://raw.githubusercontent.com/taroyabuki\",\n",
        "                \"/fromzero/master/data/wine.csv\")\n",
        "my_data <- read_csv(my_url)"
      ],
      "id": "767342a5-bd25-4d76-9760-88024ffefc28"
    },
    {
      "cell_type": "code",
      "execution_count": null,
      "metadata": {
        "id": "cbc6e663-2f1a-4402-81f5-faa5a130d120"
      },
      "outputs": [],
      "source": [
        "my_model <- train(form = LPRICE2 ~ .,\n",
        "                  data = my_data,\n",
        "                  method = \"neuralnet\",              # ニューラルネットワーク\n",
        "                  preProcess = c(\"center\", \"scale\"), # 標準化\n",
        "                  trControl = trainControl(method = \"LOOCV\"))\n",
        "plot(my_model$finalModel) # 訓練済ネットワークの描画"
      ],
      "id": "cbc6e663-2f1a-4402-81f5-faa5a130d120"
    },
    {
      "cell_type": "code",
      "execution_count": null,
      "metadata": {
        "id": "387dd6e2-b5d1-42f9-bd7e-2777e230bb40"
      },
      "outputs": [],
      "source": [
        "my_model$results"
      ],
      "id": "387dd6e2-b5d1-42f9-bd7e-2777e230bb40"
    },
    {
      "cell_type": "code",
      "execution_count": null,
      "metadata": {
        "id": "39c691e7-4dd9-4845-ac83-fbfc9c7f6144"
      },
      "outputs": [],
      "source": [
        "my_model <- train(\n",
        "  form = LPRICE2 ~ .,\n",
        "  data = my_data,\n",
        "  method = \"neuralnet\",\n",
        "  preProcess = c(\"center\", \"scale\"),\n",
        "  trControl = trainControl(method = \"LOOCV\"),\n",
        "  tuneGrid = expand.grid(layer1 = 1:5,\n",
        "                         layer2 = 0:2,\n",
        "                         layer3 = 0))"
      ],
      "id": "39c691e7-4dd9-4845-ac83-fbfc9c7f6144"
    },
    {
      "cell_type": "code",
      "execution_count": null,
      "metadata": {
        "id": "4faddbb2-1b94-42ea-8d32-62ab63d0bc24"
      },
      "outputs": [],
      "source": [
        "my_model$results %>%\n",
        "  filter(RMSE == min(RMSE))"
      ],
      "id": "4faddbb2-1b94-42ea-8d32-62ab63d0bc24"
    },
    {
      "id": "b6d934dd",
      "cell_type": "markdown",
      "source": [
        "# 9 分類1（多値分類）"
      ],
      "metadata": {
        "id": "b6d934dd"
      }
    },
    {
      "cell_type": "code",
      "execution_count": null,
      "metadata": {
        "id": "ba1475a9-c70a-46f6-b5ab-378f259a4cda"
      },
      "outputs": [],
      "source": [
        "# Google Colaboratoryの環境設定\n",
        "if (file.exists(\"/content\")) {\n",
        "  options(Ncpus = parallel::detectCores())\n",
        "  install.packages(c(\"caret\", \"furrr\", \"psych\", \"randomForest\", \"rpart.plot\", \"xgboost\"))\n",
        "}"
      ],
      "id": "ba1475a9-c70a-46f6-b5ab-378f259a4cda"
    },
    {
      "id": "dd213172",
      "cell_type": "markdown",
      "source": [
        "## 9.1 アヤメのデータ"
      ],
      "metadata": {
        "id": "dd213172"
      }
    },
    {
      "cell_type": "code",
      "execution_count": null,
      "metadata": {
        "id": "dc8018c1-48a4-49f0-a0cb-c316c5fd7c7a"
      },
      "outputs": [],
      "source": [
        "my_data <- iris\n",
        "head(my_data)"
      ],
      "id": "dc8018c1-48a4-49f0-a0cb-c316c5fd7c7a"
    },
    {
      "cell_type": "code",
      "execution_count": null,
      "metadata": {
        "id": "c08b4eb9-d4c2-433b-983e-1e87a2b1183d"
      },
      "outputs": [],
      "source": [
        "psych::describe(my_data)"
      ],
      "id": "c08b4eb9-d4c2-433b-983e-1e87a2b1183d"
    },
    {
      "id": "859bf115",
      "cell_type": "markdown",
      "source": [
        "## 9.2 木による分類"
      ],
      "metadata": {
        "id": "859bf115"
      }
    },
    {
      "cell_type": "code",
      "execution_count": null,
      "metadata": {
        "id": "5fd54635-5b28-4319-994e-80f54e7904a1"
      },
      "outputs": [],
      "source": [
        "library(caret)\n",
        "library(tidyverse)\n",
        "my_data <- iris\n",
        "my_model <- train(form = Species ~ ., data = my_data, method = \"rpart\")"
      ],
      "id": "5fd54635-5b28-4319-994e-80f54e7904a1"
    },
    {
      "cell_type": "code",
      "execution_count": null,
      "metadata": {
        "id": "c6b4e346-702d-4e57-884d-1180224cb249"
      },
      "outputs": [],
      "source": [
        "rpart.plot::rpart.plot(my_model$finalModel, extra = 1)"
      ],
      "id": "c6b4e346-702d-4e57-884d-1180224cb249"
    },
    {
      "cell_type": "code",
      "execution_count": null,
      "metadata": {
        "id": "2e288e88-bc13-47b2-bd88-b4d1eb02cece"
      },
      "outputs": [],
      "source": [
        "my_test <- tribble(\n",
        "~Sepal.Length, ~Sepal.Width, ~Petal.Length, ~Petal.Width,\n",
        "          5.0,          3.5,           1.5,          0.5,\n",
        "          6.5,          3.0,           5.0,          2.0)\n",
        "\n",
        "my_model %>% predict(my_test)"
      ],
      "id": "2e288e88-bc13-47b2-bd88-b4d1eb02cece"
    },
    {
      "cell_type": "code",
      "execution_count": null,
      "metadata": {
        "id": "895dcfcb-e0d1-484a-a681-1966edabfe73"
      },
      "outputs": [],
      "source": [
        "my_model %>% predict(my_test,\n",
        "                     type = \"prob\")"
      ],
      "id": "895dcfcb-e0d1-484a-a681-1966edabfe73"
    },
    {
      "id": "8817482d",
      "cell_type": "markdown",
      "source": [
        "## 9.3 正解率"
      ],
      "metadata": {
        "id": "8817482d"
      }
    },
    {
      "cell_type": "code",
      "execution_count": null,
      "metadata": {
        "id": "9a986bc1-195c-4b6f-887d-a2681a69ae8c"
      },
      "outputs": [],
      "source": [
        "library(caret)\n",
        "library(tidyverse)\n",
        "my_data <- iris\n",
        "my_model <- train(form = Species ~ ., data = my_data, method = \"rpart2\")\n",
        "\n",
        "y  <- my_data$Species\n",
        "y_ <- my_model %>% predict(my_data)\n",
        "confusionMatrix(data = y_, reference = y)\n",
        "# 以下は割愛"
      ],
      "id": "9a986bc1-195c-4b6f-887d-a2681a69ae8c"
    },
    {
      "cell_type": "code",
      "execution_count": null,
      "metadata": {
        "id": "8036ca09-f421-4c30-9c1b-5c85169d76af"
      },
      "outputs": [],
      "source": [
        "y  <- my_data$Species\n",
        "y_ <- my_model %>% predict(my_data)\n",
        "mean(y_ == y)"
      ],
      "id": "8036ca09-f421-4c30-9c1b-5c85169d76af"
    },
    {
      "cell_type": "code",
      "execution_count": null,
      "metadata": {
        "id": "4722fa3a-2b79-4569-b3d9-4b01c8c1e442"
      },
      "outputs": [],
      "source": [
        "my_model <- train(form = Species ~ ., data = my_data, method = \"rpart2\",\n",
        "                  trControl = trainControl(method = \"LOOCV\"))\n",
        "my_model$results"
      ],
      "id": "4722fa3a-2b79-4569-b3d9-4b01c8c1e442"
    },
    {
      "cell_type": "code",
      "execution_count": null,
      "metadata": {
        "id": "d09b8d56-b222-4645-91e4-e2bacef244f4"
      },
      "outputs": [],
      "source": [
        "my_model <- train(form = Species ~ ., data = my_data, method = \"rpart2\",\n",
        "                  tuneGrid = data.frame(maxdepth = 1:10),\n",
        "                  trControl = trainControl(method = \"LOOCV\"))\n",
        "my_model$results %>% filter(Accuracy == max(Accuracy))"
      ],
      "id": "d09b8d56-b222-4645-91e4-e2bacef244f4"
    },
    {
      "cell_type": "code",
      "execution_count": null,
      "metadata": {
        "id": "43c9e24e-b866-448c-84f2-c14992265520"
      },
      "outputs": [],
      "source": [
        "# パラメータを与えると正解率（LOOCV）を返す関数\n",
        "my_loocv <- function(maxdepth, minbucket, minsplit) {\n",
        "  my_model <- train(form = Species ~ ., data = my_data, method = \"rpart2\",\n",
        "                    trControl = trainControl(method = \"LOOCV\"),\n",
        "                    tuneGrid = data.frame(maxdepth = maxdepth),\n",
        "                    control = rpart::rpart.control(cp = 0.01,\n",
        "                                                   minbucket = minbucket,\n",
        "                                                   minsplit = minsplit))\n",
        "  list(maxdepth = maxdepth,\n",
        "       minbucket = minbucket,\n",
        "       minsplit = minsplit,\n",
        "       Accuracy = my_model$results$Accuracy)\n",
        "}"
      ],
      "id": "43c9e24e-b866-448c-84f2-c14992265520"
    },
    {
      "cell_type": "code",
      "execution_count": null,
      "metadata": {
        "id": "473e1afb-99fa-42c2-bb97-daf1313a327f"
      },
      "outputs": [],
      "source": [
        "my_params <- expand.grid(\n",
        "  maxdepth = 2:5,\n",
        "  minbucket = 1:7,\n",
        "  minsplit = c(2, 20))\n",
        "\n",
        "library(furrr)\n",
        "plan(multisession) # 並列処理の準備\n",
        "my_results <- my_params %>% future_pmap_dfr(my_loocv, # 実行\n",
        "  .options = furrr_options(seed = TRUE))\n",
        "\n",
        "my_results %>% filter(Accuracy == max(Accuracy)) # 正解率（検証）の最大値"
      ],
      "id": "473e1afb-99fa-42c2-bb97-daf1313a327f"
    },
    {
      "cell_type": "code",
      "execution_count": null,
      "metadata": {
        "id": "73cd838a-6866-4440-99a1-928f1f3b4a1a"
      },
      "outputs": [],
      "source": [
        "my_model <- train(form = Species ~ ., data = my_data, method = \"rpart2\",\n",
        "                  trControl = trainControl(method = \"none\"),\n",
        "                  tuneGrid = data.frame(maxdepth = 3),\n",
        "                  control = rpart::rpart.control(cp = 0.01,\n",
        "                                                 minbucket = 5,\n",
        "                                                 minsplit = 2))"
      ],
      "id": "73cd838a-6866-4440-99a1-928f1f3b4a1a"
    },
    {
      "cell_type": "code",
      "execution_count": null,
      "metadata": {
        "id": "55ffcf59-0fcb-41a6-9535-8ff75f7f2f88"
      },
      "outputs": [],
      "source": [
        "rpart.plot::rpart.plot(\n",
        "  my_model$finalModel, extra = 1)"
      ],
      "id": "55ffcf59-0fcb-41a6-9535-8ff75f7f2f88"
    },
    {
      "id": "0e70df44",
      "cell_type": "markdown",
      "source": [
        "## 9.4 複数の木を使う方法"
      ],
      "metadata": {
        "id": "0e70df44"
      }
    },
    {
      "cell_type": "code",
      "execution_count": null,
      "metadata": {
        "id": "4a11655d-c0fa-40a5-8e29-f3013ca3a95a"
      },
      "outputs": [],
      "source": [
        "library(caret)\n",
        "library(tidyverse)\n",
        "my_data <- iris\n",
        "\n",
        "my_model <- train(form = Species ~ ., data = my_data, method = \"rf\",\n",
        "                  tuneGrid = data.frame(mtry = 2:4), # 省略可\n",
        "                  trControl = trainControl(method = \"LOOCV\"))\n",
        "my_model$results"
      ],
      "id": "4a11655d-c0fa-40a5-8e29-f3013ca3a95a"
    },
    {
      "cell_type": "code",
      "execution_count": null,
      "metadata": {
        "id": "fc0f08dd-8eda-4dea-9580-0e39132c710f"
      },
      "outputs": [],
      "source": [
        "my_model <- train(\n",
        "  form = Species ~ ., data = my_data, method = \"xgbTree\",\n",
        "  tuneGrid = expand.grid(\n",
        "    nrounds          = c(50, 100, 150),\n",
        "    max_depth        = c(1, 2, 3),\n",
        "    eta              = c(0.3, 0.4),\n",
        "    gamma            = 0,\n",
        "    colsample_bytree = c(0.6, 0.8),\n",
        "    min_child_weight = 1,\n",
        "    subsample        = c(0.5, 0.75, 1)),\n",
        "  trControl = trainControl(method = \"cv\", number = 5)) # 5分割交差検証\n",
        "my_model$results %>% filter(Accuracy == max(Accuracy)) %>% head(5) %>% t"
      ],
      "id": "fc0f08dd-8eda-4dea-9580-0e39132c710f"
    },
    {
      "cell_type": "code",
      "execution_count": null,
      "metadata": {
        "id": "b81f9fcd-76fa-4154-9f4f-426c78b95f31"
      },
      "outputs": [],
      "source": [
        "my_model <- train(form = Species ~ ., data = my_data, method = \"rf\")\n",
        "ggplot(varImp(my_model))"
      ],
      "id": "b81f9fcd-76fa-4154-9f4f-426c78b95f31"
    },
    {
      "id": "dd6c26ef",
      "cell_type": "markdown",
      "source": [
        "## 9.5 欠損のあるデータでの学習"
      ],
      "metadata": {
        "id": "dd6c26ef"
      }
    },
    {
      "cell_type": "code",
      "execution_count": null,
      "metadata": {
        "id": "f729c0b7-3db5-4169-97c6-ca68709d3ff1"
      },
      "outputs": [],
      "source": [
        "library(caret)\n",
        "library(tidyverse)\n",
        "my_data <- iris\n",
        "\n",
        "n <- nrow(my_data)\n",
        "my_data$Petal.Length[0:(n - 1) %% 10 == 0] <- NA\n",
        "my_data$Petal.Width[ 0:(n - 1) %% 10 == 1] <- NA\n",
        "\n",
        "psych::describe(my_data) # nの値が135の変数に，150 - 135 = 15個の欠損がある．"
      ],
      "id": "f729c0b7-3db5-4169-97c6-ca68709d3ff1"
    },
    {
      "cell_type": "code",
      "execution_count": null,
      "metadata": {
        "id": "6bbada8a-00c1-456f-88fa-ea6fc59b97a5"
      },
      "outputs": [],
      "source": [
        "my_model <- train(\n",
        "  form = Species ~ ., data = my_data, method = \"rpart2\",\n",
        "  na.action = na.pass,         # 欠損があっても学習を止めない．\n",
        "  preProcess = \"medianImpute\", # 欠損を中央値で埋める．\n",
        "  trControl = trainControl(method = \"LOOCV\"),\n",
        "  tuneGrid = data.frame(maxdepth = 20),          # 木の高さの上限\n",
        "  control = rpart::rpart.control(minsplit = 2,   # 分岐の条件\n",
        "                                 minbucket = 1)) # 終端ノードの条件\n",
        "max(my_model$results$Accuracy)"
      ],
      "id": "6bbada8a-00c1-456f-88fa-ea6fc59b97a5"
    },
    {
      "cell_type": "code",
      "execution_count": null,
      "metadata": {
        "id": "c70f6f4d-a4fb-44d3-965b-2eda7627d3cd"
      },
      "outputs": [],
      "source": [
        "my_model <- train(form = Species ~ ., data = my_data, method = \"xgbTree\",\n",
        "                  na.action = na.pass,\n",
        "                  trControl = trainControl(method = \"cv\", number = 5))\n",
        "max(my_model$results$Accuracy)"
      ],
      "id": "c70f6f4d-a4fb-44d3-965b-2eda7627d3cd"
    },
    {
      "id": "3b941484",
      "cell_type": "markdown",
      "source": [
        "## 9.6 他の分類手法"
      ],
      "metadata": {
        "id": "3b941484"
      }
    },
    {
      "cell_type": "code",
      "execution_count": null,
      "metadata": {
        "id": "a63fcd9d-fd08-4774-b83a-291b0e8c7d64"
      },
      "outputs": [],
      "source": [
        "library(caret)\n",
        "library(tidyverse)\n",
        "my_data <- iris\n",
        "\n",
        "my_model <- train(form = Species ~ ., data = my_data, method = \"knn\",\n",
        "                  trControl = trainControl(method = \"LOOCV\"))\n",
        "my_model$results %>% filter(Accuracy == max(Accuracy))"
      ],
      "id": "a63fcd9d-fd08-4774-b83a-291b0e8c7d64"
    },
    {
      "cell_type": "code",
      "execution_count": null,
      "metadata": {
        "id": "558366b7-244e-419c-84fb-7999cfa770b8"
      },
      "outputs": [],
      "source": [
        "library(caret)\n",
        "library(tidyverse)\n",
        "my_data <- iris\n",
        "\n",
        "my_model <- train(form = Species ~ ., data = my_data, method = \"nnet\",\n",
        "                  preProcess = c(\"center\", \"scale\"), # 標準化\n",
        "                  trControl = trainControl(method = \"LOOCV\"),\n",
        "                  trace = FALSE) # 途中経過を表示しない\n",
        "my_model$results %>% filter(Accuracy == max(Accuracy))"
      ],
      "id": "558366b7-244e-419c-84fb-7999cfa770b8"
    },
    {
      "id": "1be2ae24",
      "cell_type": "markdown",
      "source": [
        "# 10 分類2（2値分類）"
      ],
      "metadata": {
        "id": "1be2ae24"
      }
    },
    {
      "cell_type": "code",
      "execution_count": null,
      "metadata": {
        "id": "d96c943d-2f57-4610-849c-14c34c4cc643"
      },
      "outputs": [],
      "source": [
        "# Google Colaboratoryの環境設定\n",
        "if (file.exists(\"/content\")) {\n",
        "  options(Ncpus = parallel::detectCores())\n",
        "  install.packages(c(\"caret\", \"PRROC\", \"rpart.plot\"))\n",
        "}"
      ],
      "id": "d96c943d-2f57-4610-849c-14c34c4cc643"
    },
    {
      "id": "86e1ed3f",
      "cell_type": "markdown",
      "source": [
        "## 10.1 2値分類の性能指標"
      ],
      "metadata": {
        "id": "86e1ed3f"
      }
    },
    {
      "cell_type": "code",
      "execution_count": null,
      "metadata": {
        "id": "60f7d18a-8287-4a2b-8fe1-c3264bc72bbb"
      },
      "outputs": [],
      "source": [
        "y       <- c(  0,   1,   1,   0,   1,   0,    1,   0,   0,   1)\n",
        "y_score <- c(0.7, 0.8, 0.3, 0.4, 0.9, 0.6, 0.99, 0.1, 0.2, 0.5)"
      ],
      "id": "60f7d18a-8287-4a2b-8fe1-c3264bc72bbb"
    },
    {
      "cell_type": "code",
      "execution_count": null,
      "metadata": {
        "id": "ff8c9583-b44d-4ca9-ac85-00f02c0804c8"
      },
      "outputs": [],
      "source": [
        "y_ <- ifelse(0.5 <= y_score, 1, 0)\n",
        "y_"
      ],
      "id": "ff8c9583-b44d-4ca9-ac85-00f02c0804c8"
    },
    {
      "cell_type": "code",
      "execution_count": null,
      "metadata": {
        "id": "3ec1c1b8-407a-4b4f-a1dc-14d1532137fb"
      },
      "outputs": [],
      "source": [
        "library(caret)\n",
        "confusionMatrix(data      = as.factor(y_), # 予測\n",
        "                reference = as.factor(y),  # 正解\n",
        "                positive = \"1\",            # 「1」を陽性とする．\n",
        "                mode = \"everything\")       # 全ての指標を求める．"
      ],
      "id": "3ec1c1b8-407a-4b4f-a1dc-14d1532137fb"
    },
    {
      "id": "d65c3d10",
      "cell_type": "markdown",
      "source": [
        "## 10.2 トレードオフ"
      ],
      "metadata": {
        "id": "d65c3d10"
      }
    },
    {
      "cell_type": "code",
      "execution_count": null,
      "metadata": {
        "id": "2c7b3a64-a408-4aa1-98a6-8a56416730a3"
      },
      "outputs": [],
      "source": [
        "library(PRROC)\n",
        "library(tidyverse)\n",
        "\n",
        "y       <- c(  0,   1,   1,   0,   1,   0,    1,   0,   0,   1)\n",
        "y_score <- c(0.7, 0.8, 0.3, 0.4, 0.9, 0.6, 0.99, 0.1, 0.2, 0.5)\n",
        "y_      <- ifelse(0.5 <= y_score, 1, 0)\n",
        "\n",
        "c(sum((y == 0) & (y_ == 1)) / sum(y == 0), # FPR\n",
        "  sum((y == 1) & (y_ == 1)) / sum(y == 1)) # TPR"
      ],
      "id": "2c7b3a64-a408-4aa1-98a6-8a56416730a3"
    },
    {
      "cell_type": "code",
      "execution_count": null,
      "metadata": {
        "id": "a75b9e91-243f-46b3-897c-e913216b6f6b"
      },
      "outputs": [],
      "source": [
        "my_roc <- roc.curve(scores.class0 = y_score[y == 1], # 答えが1のもののスコア\n",
        "                    scores.class1 = y_score[y == 0], # 答えが0のもののスコア\n",
        "                    curve = TRUE)\n",
        "my_roc %>% plot(xlab = \"False Positive Rate\",\n",
        "                ylab = \"True Positive Rate\",\n",
        "                legend = FALSE)"
      ],
      "id": "a75b9e91-243f-46b3-897c-e913216b6f6b"
    },
    {
      "cell_type": "code",
      "execution_count": null,
      "metadata": {
        "id": "75d7da66-649f-4cc9-b5d0-47529c79802f"
      },
      "outputs": [],
      "source": [
        "my_roc$auc"
      ],
      "id": "75d7da66-649f-4cc9-b5d0-47529c79802f"
    },
    {
      "cell_type": "code",
      "execution_count": null,
      "metadata": {
        "id": "c756b2b0-ff0e-4308-aaef-879013226b05"
      },
      "outputs": [],
      "source": [
        "c(sum((y == 1) & (y_ == 1)) / sum(y  == 1), # Recall == TPR\n",
        "  sum((y == 1) & (y_ == 1)) / sum(y_ == 1)) # Precision"
      ],
      "id": "c756b2b0-ff0e-4308-aaef-879013226b05"
    },
    {
      "cell_type": "code",
      "execution_count": null,
      "metadata": {
        "id": "bd5c8e23-ac17-4b6a-a68c-cd9ee3001a5f"
      },
      "outputs": [],
      "source": [
        "my_pr <- pr.curve(scores.class0 = y_score[y == 1],\n",
        "                  scores.class1 = y_score[y == 0],\n",
        "                  curve = TRUE)\n",
        "my_pr %>% plot(xlab = \"Recall\",\n",
        "               ylab = \"Precision\",\n",
        "               legend = FALSE)"
      ],
      "id": "bd5c8e23-ac17-4b6a-a68c-cd9ee3001a5f"
    },
    {
      "cell_type": "code",
      "execution_count": null,
      "metadata": {
        "id": "ef014c73-479c-427a-8729-7367d474c8dd"
      },
      "outputs": [],
      "source": [
        "my_pr$auc.integral"
      ],
      "id": "ef014c73-479c-427a-8729-7367d474c8dd"
    },
    {
      "id": "a156d38d",
      "cell_type": "markdown",
      "source": [
        "## 10.3 タイタニック"
      ],
      "metadata": {
        "id": "a156d38d"
      }
    },
    {
      "cell_type": "code",
      "execution_count": null,
      "metadata": {
        "id": "3ec347ec-ab5a-4c11-98c1-3e0eb4dae922"
      },
      "outputs": [],
      "source": [
        "library(caret)\n",
        "library(PRROC)\n",
        "library(tidyverse)\n",
        "\n",
        "my_url <- str_c(\"https://raw.githubusercontent.com/taroyabuki\",\n",
        "                \"/fromzero/master/data/titanic.csv\")\n",
        "my_data <- read_csv(my_url)"
      ],
      "id": "3ec347ec-ab5a-4c11-98c1-3e0eb4dae922"
    },
    {
      "cell_type": "code",
      "execution_count": null,
      "metadata": {
        "id": "ab92a7b4-59fc-4f55-93a2-1b639c67faec"
      },
      "outputs": [],
      "source": [
        "head(my_data)"
      ],
      "id": "ab92a7b4-59fc-4f55-93a2-1b639c67faec"
    },
    {
      "cell_type": "code",
      "execution_count": null,
      "metadata": {
        "id": "bda5259c-64f9-4c00-a7eb-a5aa9953bd84"
      },
      "outputs": [],
      "source": [
        "my_model <- train(form = Survived ~ ., data = my_data, method = \"rpart2\",\n",
        "                  tuneGrid = data.frame(maxdepth = 2),\n",
        "                  trControl = trainControl(method = \"LOOCV\"))"
      ],
      "id": "bda5259c-64f9-4c00-a7eb-a5aa9953bd84"
    },
    {
      "cell_type": "code",
      "execution_count": null,
      "metadata": {
        "id": "9818ef2d-5af7-468e-ab61-887077bc5638"
      },
      "outputs": [],
      "source": [
        "rpart.plot::rpart.plot(my_model$finalModel, extra = 1)"
      ],
      "id": "9818ef2d-5af7-468e-ab61-887077bc5638"
    },
    {
      "cell_type": "code",
      "execution_count": null,
      "metadata": {
        "id": "684d999b-fda7-48af-9370-71dc15139209"
      },
      "outputs": [],
      "source": [
        "my_model$results"
      ],
      "id": "684d999b-fda7-48af-9370-71dc15139209"
    },
    {
      "cell_type": "code",
      "execution_count": null,
      "metadata": {
        "id": "88b21578-2577-4a67-90ee-2f9b70babd2b"
      },
      "outputs": [],
      "source": [
        "y <- my_data$Survived\n",
        "tmp <- my_model %>% predict(newdata = my_data, type = \"prob\")\n",
        "y_score <- tmp$Yes\n",
        "\n",
        "my_roc <- roc.curve(scores.class0 = y_score[y == \"Yes\"],\n",
        "                    scores.class1 = y_score[y == \"No\"],\n",
        "                    curve = TRUE)\n",
        "my_roc$auc\n",
        "\n",
        "my_roc %>% plot(xlab = \"False Positive Rate\",\n",
        "                ylab = \"True Positive Rate\",\n",
        "                legend = FALSE)"
      ],
      "id": "88b21578-2577-4a67-90ee-2f9b70babd2b"
    },
    {
      "cell_type": "code",
      "execution_count": null,
      "metadata": {
        "id": "31805dbf-835c-4e3c-a775-c10992ef8a50"
      },
      "outputs": [],
      "source": [
        "X <- my_data %>% select(Class) # 質的入力変数\n",
        "y <- my_data$Survived          # 出力変数\n",
        "\n",
        "options(warn = -1) # これ以降，警告を表示しない．\n",
        "my_model1 <- train(x = X, y = y, method = \"rpart2\",\n",
        "                   tuneGrid = data.frame(maxdepth = 2),\n",
        "                   trControl = trainControl(method = \"LOOCV\"))\n",
        "options(warn = 0)  # これ以降，警告を表示する．\n",
        "\n",
        "rpart.plot::rpart.plot(my_model1$finalModel, extra = 1)\n",
        "my_model1$results"
      ],
      "id": "31805dbf-835c-4e3c-a775-c10992ef8a50"
    },
    {
      "cell_type": "code",
      "execution_count": null,
      "metadata": {
        "id": "a3fa9221-c312-4920-8ca4-34fe9795b82a"
      },
      "outputs": [],
      "source": [
        "my_enc <- my_data %>% dummyVars(formula = Survived ~ Class)\n",
        "my_data2 <- my_enc %>%\n",
        "  predict(my_data) %>%\n",
        "  as.data.frame %>%\n",
        "  mutate(Survived = my_data$Survived)\n",
        "\n",
        "my_model2 <- train(form = Survived ~ ., data = my_data2, method = \"rpart2\",\n",
        "                   tuneGrid = data.frame(maxdepth = 2),\n",
        "                   trControl = trainControl(method = \"LOOCV\"))\n",
        "rpart.plot::rpart.plot(my_model2$finalModel, extra = 1)\n",
        "my_model2$results"
      ],
      "id": "a3fa9221-c312-4920-8ca4-34fe9795b82a"
    },
    {
      "cell_type": "code",
      "execution_count": null,
      "metadata": {
        "id": "c88e0e6d-06e7-434d-beda-4104717742f6"
      },
      "outputs": [],
      "source": [
        "my_model3 <- train(form = Survived ~ Class, data = my_data, method = \"rpart2\",\n",
        "                   tuneGrid = data.frame(maxdepth = 2),\n",
        "                   trControl = trainControl(method = \"LOOCV\"))\n",
        "rpart.plot::rpart.plot(my_model3$finalModel, extra = 1)\n",
        "my_model3$results"
      ],
      "id": "c88e0e6d-06e7-434d-beda-4104717742f6"
    },
    {
      "id": "0442351f",
      "cell_type": "markdown",
      "source": [
        "## 10.4 ロジスティック回帰"
      ],
      "metadata": {
        "id": "0442351f"
      }
    },
    {
      "cell_type": "code",
      "execution_count": null,
      "metadata": {
        "id": "4de3db92-eabf-40b3-892b-261955b9d4fa"
      },
      "outputs": [],
      "source": [
        "curve(1 / (1 + exp(-x)), -6, 6)"
      ],
      "id": "4de3db92-eabf-40b3-892b-261955b9d4fa"
    },
    {
      "cell_type": "code",
      "execution_count": null,
      "metadata": {
        "id": "9e16e1d2-75f2-4d6a-89c4-586771b8afc0"
      },
      "outputs": [],
      "source": [
        "library(caret)\n",
        "library(PRROC)\n",
        "library(tidyverse)\n",
        "\n",
        "my_url <- str_c(\"https://raw.githubusercontent.com/taroyabuki\",\n",
        "                \"/fromzero/master/data/titanic.csv\")\n",
        "my_data <- read_csv(my_url)\n",
        "\n",
        "my_model <- train(form = Survived ~ ., data = my_data, method = \"glm\",\n",
        "                  trControl = trainControl(method = \"LOOCV\"))"
      ],
      "id": "9e16e1d2-75f2-4d6a-89c4-586771b8afc0"
    },
    {
      "cell_type": "code",
      "execution_count": null,
      "metadata": {
        "id": "2334831e-2de6-4aa7-b1e5-955316519b27"
      },
      "outputs": [],
      "source": [
        "coef(my_model$finalModel) %>%\n",
        "  as.data.frame"
      ],
      "id": "2334831e-2de6-4aa7-b1e5-955316519b27"
    },
    {
      "cell_type": "code",
      "execution_count": null,
      "metadata": {
        "id": "426b3258-24e6-48ae-8d5c-847e0f6a7191"
      },
      "outputs": [],
      "source": [
        "my_model$results"
      ],
      "id": "426b3258-24e6-48ae-8d5c-847e0f6a7191"
    },
    {
      "id": "e28af1dd",
      "cell_type": "markdown",
      "source": [
        "# 11 深層学習とAutoML"
      ],
      "metadata": {
        "id": "e28af1dd"
      }
    },
    {
      "cell_type": "code",
      "execution_count": null,
      "metadata": {
        "id": "7da4df78-6529-4690-90e1-5a936de27d54"
      },
      "outputs": [],
      "source": [
        "# Google Colaboratoryの環境設定\n",
        "if (file.exists(\"/content\")) {\n",
        "  options(Ncpus = parallel::detectCores())\n",
        "  install.packages(c(\"h2o\", \"keras\"))\n",
        "}"
      ],
      "id": "7da4df78-6529-4690-90e1-5a936de27d54"
    },
    {
      "id": "fde56c3f",
      "cell_type": "markdown",
      "source": [
        "## 11.1 Kerasによる回帰"
      ],
      "metadata": {
        "id": "fde56c3f"
      }
    },
    {
      "cell_type": "code",
      "execution_count": null,
      "metadata": {
        "id": "57bc9a30-2631-4376-a5df-ab28583ac47c"
      },
      "outputs": [],
      "source": [
        "library(keras)\n",
        "library(tidyverse)\n",
        "my_url <- str_c(\"https://raw.githubusercontent.com/taroyabuki\",\n",
        "                \"/fromzero/master/data/wine.csv\")\n",
        "tmp <- read_csv(my_url)"
      ],
      "id": "57bc9a30-2631-4376-a5df-ab28583ac47c"
    },
    {
      "cell_type": "code",
      "execution_count": null,
      "metadata": {
        "id": "9106a155-9e2b-43ea-a641-ff22fab1900e"
      },
      "outputs": [],
      "source": [
        "my_data <- tmp[sample(nrow(tmp)), ]"
      ],
      "id": "9106a155-9e2b-43ea-a641-ff22fab1900e"
    },
    {
      "cell_type": "code",
      "execution_count": null,
      "metadata": {
        "id": "bf5af20f-a8bc-456b-bcaf-c93002eed283"
      },
      "outputs": [],
      "source": [
        "X <- my_data %>%\n",
        "  select(-LPRICE2) %>% scale\n",
        "y <- my_data$LPRICE2"
      ],
      "id": "bf5af20f-a8bc-456b-bcaf-c93002eed283"
    },
    {
      "cell_type": "code",
      "execution_count": null,
      "metadata": {
        "id": "45cfe1e4-0939-4133-ba6e-617459d3736d"
      },
      "outputs": [],
      "source": [
        "curve(activation_relu(x), -3, 3)"
      ],
      "id": "45cfe1e4-0939-4133-ba6e-617459d3736d"
    },
    {
      "cell_type": "code",
      "execution_count": null,
      "metadata": {
        "id": "bef361df-1b9b-439b-8091-d94d715471bb"
      },
      "outputs": [],
      "source": [
        "my_model <- keras_model_sequential() %>%\n",
        "  layer_dense(units = 3, activation = \"relu\", input_shape = c(4)) %>%\n",
        "  layer_dense(units = 1)\n",
        "\n",
        "summary(my_model) # ネットワークの概要\n",
        "# 割愛（Pythonの結果を参照）"
      ],
      "id": "bef361df-1b9b-439b-8091-d94d715471bb"
    },
    {
      "cell_type": "code",
      "execution_count": null,
      "metadata": {
        "id": "7ba37ade-a008-49c7-9d8a-06c519041959"
      },
      "outputs": [],
      "source": [
        "my_model %>% compile(\n",
        "  loss = \"mse\",\n",
        "  optimizer = \"rmsprop\")"
      ],
      "id": "7ba37ade-a008-49c7-9d8a-06c519041959"
    },
    {
      "cell_type": "code",
      "execution_count": null,
      "metadata": {
        "id": "1c3ab725-85ea-4b1a-80ca-7adb44a7e187"
      },
      "outputs": [],
      "source": [
        "my_cb <- callback_early_stopping(\n",
        "  patience = 20,\n",
        "  restore_best_weights = TRUE)"
      ],
      "id": "1c3ab725-85ea-4b1a-80ca-7adb44a7e187"
    },
    {
      "cell_type": "code",
      "execution_count": null,
      "metadata": {
        "id": "89cc8288-9c47-4820-a087-76f9e9201634"
      },
      "outputs": [],
      "source": [
        "my_history <- my_model %>% fit(\n",
        "    x = X,\n",
        "    y = y,\n",
        "    validation_split = 0.25,\n",
        "    batch_size = 10,\n",
        "    epochs = 500,\n",
        "    callbacks = list(my_cb),\n",
        "    verbose = 0)"
      ],
      "id": "89cc8288-9c47-4820-a087-76f9e9201634"
    },
    {
      "cell_type": "code",
      "execution_count": null,
      "metadata": {
        "id": "71e51d95-3d9d-49ae-92e2-696384e07284"
      },
      "outputs": [],
      "source": [
        "plot(my_history)"
      ],
      "id": "71e51d95-3d9d-49ae-92e2-696384e07284"
    },
    {
      "cell_type": "code",
      "execution_count": null,
      "metadata": {
        "id": "f75b3ca8-9bdf-47ab-b9ef-18a6d8b76762"
      },
      "outputs": [],
      "source": [
        "my_history"
      ],
      "id": "f75b3ca8-9bdf-47ab-b9ef-18a6d8b76762"
    },
    {
      "cell_type": "code",
      "execution_count": null,
      "metadata": {
        "id": "12219b00-4c87-4893-bf81-ac862a4dc5fd"
      },
      "outputs": [],
      "source": [
        "y_ <- my_model %>% predict(X)\n",
        "mean((y_ - y)^2)**0.5"
      ],
      "id": "12219b00-4c87-4893-bf81-ac862a4dc5fd"
    },
    {
      "id": "cab87b2a",
      "cell_type": "markdown",
      "source": [
        "## 11.2 Kerasによる分類"
      ],
      "metadata": {
        "id": "cab87b2a"
      }
    },
    {
      "cell_type": "code",
      "execution_count": null,
      "metadata": {
        "id": "fe9bab29-c78a-49c7-ae6a-7ee7d41836c7"
      },
      "outputs": [],
      "source": [
        "library(keras)\n",
        "library(tidyverse)\n",
        "my_data <- iris[sample(nrow(iris)), ]"
      ],
      "id": "fe9bab29-c78a-49c7-ae6a-7ee7d41836c7"
    },
    {
      "cell_type": "code",
      "execution_count": null,
      "metadata": {
        "id": "ec756c4d-d2fa-4bdf-8291-78ded5bb5cd6"
      },
      "outputs": [],
      "source": [
        "X <- my_data %>%\n",
        "  select(-Species) %>% scale\n",
        "y <- as.integer(my_data$Species) - 1"
      ],
      "id": "ec756c4d-d2fa-4bdf-8291-78ded5bb5cd6"
    },
    {
      "cell_type": "code",
      "execution_count": null,
      "metadata": {
        "id": "4570672f-0470-4456-bc6f-aacc1da56e01"
      },
      "outputs": [],
      "source": [
        "my_model <- keras_model_sequential() %>%\n",
        "  layer_dense(units = 3, activation = \"relu\", input_shape = c(4)) %>%\n",
        "  layer_dense(units = 3, activation = \"softmax\")"
      ],
      "id": "4570672f-0470-4456-bc6f-aacc1da56e01"
    },
    {
      "cell_type": "code",
      "execution_count": null,
      "metadata": {
        "id": "03c111cb-c96c-415e-809d-fe92e975d22b"
      },
      "outputs": [],
      "source": [
        "my_model %>% compile(loss = \"sparse_categorical_crossentropy\",\n",
        "                     optimizer = \"rmsprop\",\n",
        "                     metrics = c(\"accuracy\"))"
      ],
      "id": "03c111cb-c96c-415e-809d-fe92e975d22b"
    },
    {
      "cell_type": "code",
      "execution_count": null,
      "metadata": {
        "id": "34b6e0c5-fe53-4298-ae5c-a21c3c683da7"
      },
      "outputs": [],
      "source": [
        "my_cb <- callback_early_stopping(\n",
        "  patience = 20,\n",
        "  restore_best_weights = TRUE)\n",
        "\n",
        "my_history <- my_model %>%\n",
        "  fit(x = X,\n",
        "    y = y,\n",
        "    validation_split = 0.25,\n",
        "    batch_size = 10,\n",
        "    epochs = 500,\n",
        "    callbacks = list(my_cb),\n",
        "    verbose = 0)\n",
        "\n",
        "plot(my_history)"
      ],
      "id": "34b6e0c5-fe53-4298-ae5c-a21c3c683da7"
    },
    {
      "cell_type": "code",
      "execution_count": null,
      "metadata": {
        "id": "6d9d6bca-7590-42b5-b50d-054eead96e9b"
      },
      "outputs": [],
      "source": [
        "my_history"
      ],
      "id": "6d9d6bca-7590-42b5-b50d-054eead96e9b"
    },
    {
      "cell_type": "code",
      "execution_count": null,
      "metadata": {
        "id": "6705340b-bc08-40fe-bc62-35c828232232"
      },
      "outputs": [],
      "source": [
        "tmp <- my_model %>% predict(X)\n",
        "y_ <- apply(tmp, 1, which.max) - 1\n",
        "mean(y_ == y)"
      ],
      "id": "6705340b-bc08-40fe-bc62-35c828232232"
    },
    {
      "cell_type": "code",
      "execution_count": null,
      "metadata": {
        "id": "42cae536-5660-48ab-9a69-796df694571f"
      },
      "outputs": [],
      "source": [
        "-mean(log(c(0.8, 0.7, 0.3, 0.8)))\n",
        "\n",
        "-mean(log(c(0.7, 0.6, 0.2, 0.7)))"
      ],
      "id": "42cae536-5660-48ab-9a69-796df694571f"
    },
    {
      "cell_type": "code",
      "execution_count": null,
      "metadata": {
        "id": "55f972ca-c818-46fe-9c10-2a7f71284707"
      },
      "outputs": [],
      "source": [
        "y <- c(2, 1, 0, 1)\n",
        "y_1 <- list(c(0.1, 0.1, 0.8),\n",
        "            c(0.1, 0.7, 0.2),\n",
        "            c(0.3, 0.4, 0.3),\n",
        "            c(0.1, 0.8, 0.1))\n",
        "y_2 <- list(c(0.1, 0.2, 0.7),\n",
        "            c(0.2, 0.6, 0.2),\n",
        "            c(0.2, 0.5, 0.3),\n",
        "            c(0.2, 0.7, 0.1))"
      ],
      "id": "55f972ca-c818-46fe-9c10-2a7f71284707"
    },
    {
      "cell_type": "code",
      "execution_count": null,
      "metadata": {
        "id": "e58b91a4-b409-45e9-8c0a-3a20769f07bb"
      },
      "outputs": [],
      "source": [
        "c(mean(as.array(loss_sparse_categorical_crossentropy(y_true = y, y_pred = y_1))),\n",
        "  mean(as.array(loss_sparse_categorical_crossentropy(y_true = y, y_pred = y_2))))"
      ],
      "id": "e58b91a4-b409-45e9-8c0a-3a20769f07bb"
    },
    {
      "id": "3c476c25",
      "cell_type": "markdown",
      "source": [
        "## 11.3 MNIST：手書き数字の分類"
      ],
      "metadata": {
        "id": "3c476c25"
      }
    },
    {
      "cell_type": "code",
      "execution_count": null,
      "metadata": {
        "id": "137724ee-acb7-4cdc-8e9b-9dc0007ed8dd"
      },
      "outputs": [],
      "source": [
        "library(keras)\n",
        "library(tidyverse)\n",
        "keras::`%<-%`(c(c(x_train, y_train), c(x_test, y_test)), dataset_mnist())"
      ],
      "id": "137724ee-acb7-4cdc-8e9b-9dc0007ed8dd"
    },
    {
      "cell_type": "code",
      "execution_count": null,
      "metadata": {
        "id": "a526a148-5a0f-4562-83ff-08503443767d"
      },
      "outputs": [],
      "source": [
        "dim(x_train)"
      ],
      "id": "a526a148-5a0f-4562-83ff-08503443767d"
    },
    {
      "cell_type": "code",
      "execution_count": null,
      "metadata": {
        "id": "a270bd71-552c-4598-b0b1-ca5b8fb63376"
      },
      "outputs": [],
      "source": [
        "x_train[5, , ]"
      ],
      "id": "a270bd71-552c-4598-b0b1-ca5b8fb63376"
    },
    {
      "cell_type": "code",
      "execution_count": null,
      "metadata": {
        "id": "3625cd6c-8f4d-4a76-bb50-7b765f77be55"
      },
      "outputs": [],
      "source": [
        "plot(as.raster(x = x_train[5, , ],\n",
        "               max = max(x_train)))"
      ],
      "id": "3625cd6c-8f4d-4a76-bb50-7b765f77be55"
    },
    {
      "cell_type": "code",
      "execution_count": null,
      "metadata": {
        "id": "47c55d79-7b8e-436b-b8b1-543566cfd9c2"
      },
      "outputs": [],
      "source": [
        "head(y_train)"
      ],
      "id": "47c55d79-7b8e-436b-b8b1-543566cfd9c2"
    },
    {
      "cell_type": "code",
      "execution_count": null,
      "metadata": {
        "id": "f2bc3a05-d119-436e-bc5d-b8d5bf021ac7"
      },
      "outputs": [],
      "source": [
        "c(min(x_train), max(x_train))"
      ],
      "id": "f2bc3a05-d119-436e-bc5d-b8d5bf021ac7"
    },
    {
      "cell_type": "code",
      "execution_count": null,
      "metadata": {
        "id": "7c58a30f-ccff-4ec5-9fc2-ec673006b3fc"
      },
      "outputs": [],
      "source": [
        "x_train <- x_train / 255\n",
        "x_test  <- x_test  / 255"
      ],
      "id": "7c58a30f-ccff-4ec5-9fc2-ec673006b3fc"
    },
    {
      "cell_type": "code",
      "execution_count": null,
      "metadata": {
        "id": "813cee6c-57b3-4053-a1e2-55de0bf9c660"
      },
      "outputs": [],
      "source": [
        "my_index <- sample(1:60000, 6000)\n",
        "x_train <- x_train[my_index, , ]\n",
        "y_train <- y_train[my_index]"
      ],
      "id": "813cee6c-57b3-4053-a1e2-55de0bf9c660"
    },
    {
      "cell_type": "code",
      "execution_count": null,
      "metadata": {
        "id": "92ce9fc1-e31e-4d8e-9cb1-2e0ceacc2bb1"
      },
      "outputs": [],
      "source": [
        "my_model <- keras_model_sequential() %>%\n",
        "  layer_flatten(input_shape = c(28, 28)) %>%\n",
        "  layer_dense(units = 256, activation = \"relu\") %>%\n",
        "  layer_dense(units = 10, activation = \"softmax\")\n",
        "summary(my_model)\n",
        "# 割愛（Pythonの結果を参照）\n",
        "\n",
        "my_model %>% compile(loss = \"sparse_categorical_crossentropy\",\n",
        "                     optimizer = \"rmsprop\",\n",
        "                     metrics = c(\"accuracy\"))\n",
        "\n",
        "my_cb <- callback_early_stopping(patience = 5,\n",
        "                                 restore_best_weights = TRUE)"
      ],
      "id": "92ce9fc1-e31e-4d8e-9cb1-2e0ceacc2bb1"
    },
    {
      "cell_type": "code",
      "execution_count": null,
      "metadata": {
        "id": "7009dfc0-4c36-43a4-9059-f97537e71550"
      },
      "outputs": [],
      "source": [
        "my_history <- my_model %>%\n",
        "  fit(x = x_train,\n",
        "      y = y_train,\n",
        "      validation_split = 0.2,\n",
        "      batch_size = 128,\n",
        "      epochs = 20,\n",
        "      callbacks = list(my_cb),\n",
        "      verbose = 0)\n",
        "\n",
        "plot(my_history)"
      ],
      "id": "7009dfc0-4c36-43a4-9059-f97537e71550"
    },
    {
      "cell_type": "code",
      "execution_count": null,
      "metadata": {
        "id": "5eda13d6-698d-43f9-a00a-78ef7cd5c994"
      },
      "outputs": [],
      "source": [
        "tmp <- my_model %>% predict(x_test)\n",
        "y_ <- apply(tmp, 1, which.max) - 1\n",
        "table(y_, y_test)"
      ],
      "id": "5eda13d6-698d-43f9-a00a-78ef7cd5c994"
    },
    {
      "cell_type": "code",
      "execution_count": null,
      "metadata": {
        "id": "aea76940-9c08-4679-8f7f-c4f8bf9ddc2c"
      },
      "outputs": [],
      "source": [],
      "id": "aea76940-9c08-4679-8f7f-c4f8bf9ddc2c"
    },
    {
      "cell_type": "code",
      "execution_count": null,
      "metadata": {
        "id": "742a81ae-650d-486a-91b5-c93d76440e06"
      },
      "outputs": [],
      "source": [
        "mean(y_ == y_test)"
      ],
      "id": "742a81ae-650d-486a-91b5-c93d76440e06"
    },
    {
      "cell_type": "code",
      "execution_count": null,
      "metadata": {
        "id": "bdda345e-580d-4c0e-b496-9d95db605834"
      },
      "outputs": [],
      "source": [
        "my_model %>%\n",
        "  evaluate(x = x_test, y = y_test)"
      ],
      "id": "bdda345e-580d-4c0e-b496-9d95db605834"
    },
    {
      "cell_type": "code",
      "execution_count": null,
      "metadata": {
        "id": "28c7aa54-aa10-494f-a67d-0a446052b834"
      },
      "outputs": [],
      "source": [
        "x_train2d <- x_train %>% array_reshape(c(-1, 28, 28, 1))\n",
        "x_test2d  <- x_test  %>% array_reshape(c(-1, 28, 28, 1))"
      ],
      "id": "28c7aa54-aa10-494f-a67d-0a446052b834"
    },
    {
      "cell_type": "code",
      "execution_count": null,
      "metadata": {
        "id": "c87684de-35e5-4664-8445-99f7dce84a0b"
      },
      "outputs": [],
      "source": [
        "my_model <- keras_model_sequential() %>%\n",
        "  layer_conv_2d(filters = 32, kernel_size = 3,  # 畳み込み層\n",
        "                activation = \"relu\",\n",
        "                input_shape = c(28, 28, 1)) %>%\n",
        "  layer_max_pooling_2d(pool_size = 2) %>%       # プーリング層\n",
        "  layer_flatten() %>%\n",
        "  layer_dense(units = 128, activation = \"relu\") %>%\n",
        "  layer_dense(units = 10, activation = \"softmax\")\n",
        "\n",
        "summary(my_model)\n",
        "# 割愛（Python の結果を参照）\n",
        "\n",
        "my_model %>% compile(loss = \"sparse_categorical_crossentropy\",\n",
        "                     optimizer = \"rmsprop\",\n",
        "                     metrics = c(\"accuracy\"))\n",
        "\n",
        "my_cb <- callback_early_stopping(patience = 5,\n",
        "                                 restore_best_weights = TRUE)"
      ],
      "id": "c87684de-35e5-4664-8445-99f7dce84a0b"
    },
    {
      "cell_type": "code",
      "execution_count": null,
      "metadata": {
        "id": "80a7dd36-e862-4fd4-9dcc-2c9a5fb98bdd"
      },
      "outputs": [],
      "source": [
        "my_history <- my_model %>%\n",
        "  fit(x = x_train2d,\n",
        "      y = y_train,\n",
        "      validation_split = 0.2,\n",
        "      batch_size = 128,\n",
        "      epochs = 20,\n",
        "      callbacks = list(my_cb),\n",
        "      verbose = 0)\n",
        "\n",
        "plot(my_history)"
      ],
      "id": "80a7dd36-e862-4fd4-9dcc-2c9a5fb98bdd"
    },
    {
      "cell_type": "code",
      "execution_count": null,
      "metadata": {
        "id": "e6a67811-8655-40d3-8c00-a0450020be97"
      },
      "outputs": [],
      "source": [
        "my_model %>%\n",
        "  evaluate(x = x_test2d, y = y_test)"
      ],
      "id": "e6a67811-8655-40d3-8c00-a0450020be97"
    },
    {
      "cell_type": "code",
      "execution_count": null,
      "metadata": {
        "id": "a4e239bb-5a30-4fff-8f33-54bad674b143"
      },
      "outputs": [],
      "source": [
        "my_model <- keras_model_sequential() %>%\n",
        "  layer_conv_2d(filters = 20, kernel_size = 5, activation = \"relu\",\n",
        "                input_shape = c(28, 28, 1)) %>%\n",
        "  layer_max_pooling_2d(pool_size = 2, strides = 2) %>%\n",
        "  layer_conv_2d(filters = 50, kernel_size = 5, activation = \"relu\") %>%\n",
        "  layer_max_pooling_2d(pool_size = 2, strides = 2) %>%\n",
        "  layer_dropout(rate = 0.25) %>%\n",
        "  layer_flatten() %>%\n",
        "  layer_dense(units = 500, activation = \"relu\") %>%\n",
        "  layer_dropout(rate = 0.5) %>%\n",
        "  layer_dense(units = 10, activation = \"softmax\")\n",
        "\n",
        "my_model %>% compile(\n",
        "  loss = \"sparse_categorical_crossentropy\",\n",
        "  optimizer = \"rmsprop\",\n",
        "  metrics = c(\"accuracy\"))\n",
        "\n",
        "my_cb <- callback_early_stopping(patience = 5,\n",
        "                                 restore_best_weights = TRUE)"
      ],
      "id": "a4e239bb-5a30-4fff-8f33-54bad674b143"
    },
    {
      "cell_type": "code",
      "execution_count": null,
      "metadata": {
        "id": "e9af256b-7de6-41e9-a721-460d05cb70ca"
      },
      "outputs": [],
      "source": [
        "my_history <- my_model %>%\n",
        "  fit(x = x_train2d,\n",
        "      y = y_train,\n",
        "      validation_split = 0.2,\n",
        "      batch_size = 128,\n",
        "      epochs = 20,\n",
        "      callbacks = list(my_cb),\n",
        "      verbose = 0)\n",
        "\n",
        "plot(my_history)"
      ],
      "id": "e9af256b-7de6-41e9-a721-460d05cb70ca"
    },
    {
      "cell_type": "code",
      "execution_count": null,
      "metadata": {
        "id": "c720b2cc-6e4a-4b90-bd9b-237e593b292b"
      },
      "outputs": [],
      "source": [
        "my_model %>%\n",
        "  evaluate(x = x_test2d, y = y_test)"
      ],
      "id": "c720b2cc-6e4a-4b90-bd9b-237e593b292b"
    },
    {
      "cell_type": "code",
      "execution_count": null,
      "metadata": {
        "id": "461ab77a-0dd0-4fc9-ae57-7c33f0c77707"
      },
      "outputs": [],
      "source": [
        "y_prob <- my_model %>% predict(x_test2d) # カテゴリに属する確率\n",
        "\n",
        "my_result <- data.frame(\n",
        "  y_prob = apply(y_prob, 1, max),           # 確率の最大値\n",
        "  y_     = apply(y_prob, 1, which.max) - 1, # 予測カテゴリ\n",
        "  y      = y_test,                          # 正解\n",
        "  id     = seq_len(length(y_test))) %>%     # 番号\n",
        "  filter(y_ != y) %>%                       # 予測がはずれたものを残す\n",
        "  arrange(desc(y_prob))                     # 確率の大きい順に並び替える"
      ],
      "id": "461ab77a-0dd0-4fc9-ae57-7c33f0c77707"
    },
    {
      "cell_type": "code",
      "execution_count": null,
      "metadata": {
        "id": "036d6a85-bb74-466b-8c58-3ceb54f7b0f1"
      },
      "outputs": [],
      "source": [
        "head(my_result)"
      ],
      "id": "036d6a85-bb74-466b-8c58-3ceb54f7b0f1"
    },
    {
      "cell_type": "code",
      "execution_count": null,
      "metadata": {
        "id": "3522091f-e478-4190-bc34-2f5805f448fd"
      },
      "outputs": [],
      "source": [
        "tmp <- my_result[1:5, ]$id\n",
        "my_labels <- sprintf(\"%s (%s)\",\n",
        "  my_result[1:5, ]$y, tmp)\n",
        "my_fig <- expand.grid(\n",
        "  label = my_labels,\n",
        "  y = 28:1,\n",
        "  x = 1:28)\n",
        "my_fig$z <- as.vector(\n",
        "  x_test[tmp, , ])\n",
        "\n",
        "my_fig %>% ggplot(\n",
        "  aes(x = x, y = y, fill = z)) +\n",
        "  geom_raster() +\n",
        "  coord_fixed() +\n",
        "  theme_void() +\n",
        "  theme(legend.position = \"none\") +\n",
        "  facet_grid(. ~ label)"
      ],
      "id": "3522091f-e478-4190-bc34-2f5805f448fd"
    },
    {
      "id": "7f8eac25",
      "cell_type": "markdown",
      "source": [
        "## 11.4 AutoML"
      ],
      "metadata": {
        "id": "7f8eac25"
      }
    },
    {
      "cell_type": "code",
      "execution_count": null,
      "metadata": {
        "id": "9ec2a9dc-1e0e-4f38-8529-c8d03f240221"
      },
      "outputs": [],
      "source": [
        "library(h2o)\n",
        "library(keras)\n",
        "library(tidyverse)\n",
        "\n",
        "h2o.init()\n",
        "h2o.no_progress()\n",
        "# h2o.shutdown(prompt = FALSE) # 停止"
      ],
      "id": "9ec2a9dc-1e0e-4f38-8529-c8d03f240221"
    },
    {
      "cell_type": "code",
      "execution_count": null,
      "metadata": {
        "id": "1cef8980-296c-46e2-a3f0-5a4ab46052e9"
      },
      "outputs": [],
      "source": [
        "my_url <- str_c(\"https://raw.githubusercontent.com/taroyabuki\",\n",
        "                \"/fromzero/master/data/wine.csv\")\n",
        "my_data <- read_csv(my_url)\n",
        "my_frame <- as.h2o(my_data) # 通常のデータフレームをH2OFrameに変換する．\n",
        "# あるいは\n",
        "my_frame <- h2o.importFile(my_url, header = TRUE) # データを読み込む．"
      ],
      "id": "1cef8980-296c-46e2-a3f0-5a4ab46052e9"
    },
    {
      "cell_type": "code",
      "execution_count": null,
      "metadata": {
        "id": "af07b1db-1714-4606-ab3b-eb203d746b0c"
      },
      "outputs": [],
      "source": [
        "my_frame\n",
        "\n",
        "# 通常のデータフレームに戻す．\n",
        "my_frame %>% as.data.frame %>% head\n",
        "# 結果は割愛（見た目は同じ）"
      ],
      "id": "af07b1db-1714-4606-ab3b-eb203d746b0c"
    },
    {
      "cell_type": "code",
      "execution_count": null,
      "metadata": {
        "id": "dda5e771-86b3-47ce-b382-2917c17f079c"
      },
      "outputs": [],
      "source": [
        "my_model <- h2o.automl(\n",
        "    y = \"LPRICE2\",\n",
        "    training_frame = my_frame,\n",
        "    max_runtime_secs = 60)"
      ],
      "id": "dda5e771-86b3-47ce-b382-2917c17f079c"
    },
    {
      "cell_type": "code",
      "execution_count": null,
      "metadata": {
        "id": "94ed5ffd-704e-4987-bf38-9041a4fba107"
      },
      "outputs": [],
      "source": [
        "min(my_model@leaderboard$rmse)"
      ],
      "id": "94ed5ffd-704e-4987-bf38-9041a4fba107"
    },
    {
      "cell_type": "code",
      "execution_count": null,
      "metadata": {
        "id": "e92dde1d-85c5-4922-b6d4-51256ed24b50"
      },
      "outputs": [],
      "source": [
        "tmp <- my_model %>%\n",
        "  predict(my_frame) %>%\n",
        "  as.data.frame\n",
        "y_ <- tmp$predict\n",
        "y  <- my_data$LPRICE2\n",
        "\n",
        "plot(y, y_)"
      ],
      "id": "e92dde1d-85c5-4922-b6d4-51256ed24b50"
    },
    {
      "cell_type": "code",
      "execution_count": null,
      "metadata": {
        "id": "b7ccf72b-034f-4e7f-a69a-7fe1c6e081a5"
      },
      "outputs": [],
      "source": [
        "keras::`%<-%`(c(c(x_train, y_train), c(x_test, y_test)), dataset_mnist())\n",
        "my_index <- sample(1:60000, 6000)\n",
        "x_train <- x_train[my_index, , ]\n",
        "y_train <- y_train[my_index]"
      ],
      "id": "b7ccf72b-034f-4e7f-a69a-7fe1c6e081a5"
    },
    {
      "cell_type": "code",
      "execution_count": null,
      "metadata": {
        "id": "457504c0-9479-4b73-8444-86e9c2ada48b"
      },
      "outputs": [],
      "source": [
        "tmp <- x_train %>%\n",
        "  array_reshape(c(-1, 28 * 28)) %>%\n",
        "  as.data.frame\n",
        "tmp$y <- as.factor(y_train)\n",
        "my_train <- as.h2o(tmp)\n",
        "\n",
        "tmp <- x_test %>%\n",
        "  array_reshape(c(-1, 28 * 28)) %>%\n",
        "  as.data.frame\n",
        "my_test <- as.h2o(tmp)"
      ],
      "id": "457504c0-9479-4b73-8444-86e9c2ada48b"
    },
    {
      "cell_type": "code",
      "execution_count": null,
      "metadata": {
        "id": "8aa88908-9d86-48c2-a029-b7e4216bc7ac"
      },
      "outputs": [],
      "source": [
        "my_model <- h2o.automl(\n",
        "    y = \"y\",\n",
        "    training_frame = my_train,\n",
        "    max_runtime_secs = 120)"
      ],
      "id": "8aa88908-9d86-48c2-a029-b7e4216bc7ac"
    },
    {
      "cell_type": "code",
      "execution_count": null,
      "metadata": {
        "id": "4712b640-58b6-46df-a0d4-99b1b080046c"
      },
      "outputs": [],
      "source": [
        "min(my_model@leaderboard$\n",
        "    mean_per_class_error)"
      ],
      "id": "4712b640-58b6-46df-a0d4-99b1b080046c"
    },
    {
      "cell_type": "code",
      "execution_count": null,
      "metadata": {
        "id": "eb3a3825-ad94-498b-84e4-ddec243aea6a"
      },
      "outputs": [],
      "source": [
        "tmp <- my_model %>%\n",
        "  predict(my_test) %>% as.data.frame\n",
        "y_ <- tmp$predict\n",
        "\n",
        "mean(y_ == y_test)"
      ],
      "id": "eb3a3825-ad94-498b-84e4-ddec243aea6a"
    },
    {
      "id": "fb55f67d",
      "cell_type": "markdown",
      "source": [
        "# 12 時系列予測"
      ],
      "metadata": {
        "id": "fb55f67d"
      }
    },
    {
      "cell_type": "code",
      "execution_count": null,
      "metadata": {
        "id": "625a9e53-ca5c-4fe9-8491-f5aa9f53d83a"
      },
      "outputs": [],
      "source": [
        "# Google Colaboratoryの環境設定\n",
        "if (file.exists(\"/content\")) {\n",
        "  options(Ncpus = parallel::detectCores())\n",
        "  install.packages(c(\"caret\", \"fable\", \"prophet\", \"tsibble\"))\n",
        "}"
      ],
      "id": "625a9e53-ca5c-4fe9-8491-f5aa9f53d83a"
    },
    {
      "id": "1ee7831a",
      "cell_type": "markdown",
      "source": [
        "## 12.1 日時と日時の列"
      ],
      "metadata": {
        "id": "1ee7831a"
      }
    },
    {
      "cell_type": "code",
      "execution_count": null,
      "metadata": {
        "id": "3818d3ab-e2b1-474c-8b3c-43115fb2f9b9"
      },
      "outputs": [],
      "source": [
        "as.POSIXct(\"2021-01-01\")"
      ],
      "id": "3818d3ab-e2b1-474c-8b3c-43115fb2f9b9"
    },
    {
      "cell_type": "code",
      "execution_count": null,
      "metadata": {
        "id": "7d066471-2d6e-4605-9838-a0edecb918da"
      },
      "outputs": [],
      "source": [
        "library(tsibble)\n",
        "\n",
        "seq(from = 2021, to = 2023, by = 1)\n",
        "\n",
        "seq(from = yearmonth(\"202101\"), to = yearmonth(\"202103\"), by = 2)\n",
        "\n",
        "seq(from = as.POSIXct(\"2021-01-01\"), to = as.POSIXct(\"2021-01-03\"), by = \"1 day\")\n",
        "\n",
        "seq(from = as.POSIXct(\"2021-01-01 00:00:00\"),\n",
        "    to   = as.POSIXct(\"2021-01-01 03:00:00\"), by = \"2 hour\")"
      ],
      "id": "7d066471-2d6e-4605-9838-a0edecb918da"
    },
    {
      "id": "f09b20fd",
      "cell_type": "markdown",
      "source": [
        "## 12.2 時系列データの予測"
      ],
      "metadata": {
        "id": "f09b20fd"
      }
    },
    {
      "cell_type": "code",
      "execution_count": null,
      "metadata": {
        "id": "40484617-bbb6-40cc-b024-5a5cb6d30720"
      },
      "outputs": [],
      "source": [
        "my_data <- as.vector(AirPassengers)"
      ],
      "id": "40484617-bbb6-40cc-b024-5a5cb6d30720"
    },
    {
      "cell_type": "code",
      "execution_count": null,
      "metadata": {
        "id": "b69990c4-c65d-444f-9dbb-dd28132e537d"
      },
      "outputs": [],
      "source": [
        "n <- length(my_data) # データ数（144）\n",
        "k <- 108             # 訓練データ数"
      ],
      "id": "b69990c4-c65d-444f-9dbb-dd28132e537d"
    },
    {
      "cell_type": "code",
      "execution_count": null,
      "metadata": {
        "id": "edcf6e96-2feb-4871-a39e-5919d0d4331c"
      },
      "outputs": [],
      "source": [
        "library(tidyverse)\n",
        "library(tsibble)\n",
        "\n",
        "my_ds <- seq(\n",
        "  from = yearmonth(\"1949/01\"),\n",
        "  to   = yearmonth(\"1960/12\"),\n",
        "  by   = 1)\n",
        "my_label <- rep(\n",
        "  c(\"train\", \"test\"),\n",
        "  c(k, n - k))\n",
        "my_df <- tsibble(\n",
        "  ds    = my_ds,\n",
        "  x     = 0:(n - 1),\n",
        "  y     = my_data,\n",
        "  label = my_label,\n",
        "  index = ds) # 日時の列の指定\n",
        "\n",
        "head(my_df)"
      ],
      "id": "edcf6e96-2feb-4871-a39e-5919d0d4331c"
    },
    {
      "cell_type": "code",
      "execution_count": null,
      "metadata": {
        "id": "af6eedd4-d2b1-4421-a508-32a23925d2a2"
      },
      "outputs": [],
      "source": [
        "my_train <- my_df[  1:k , ]\n",
        "my_test  <- my_df[-(1:k), ]\n",
        "y <- my_test$y"
      ],
      "id": "af6eedd4-d2b1-4421-a508-32a23925d2a2"
    },
    {
      "cell_type": "code",
      "execution_count": null,
      "metadata": {
        "id": "e098ee5d-c61b-4256-97fb-8bd129f9ca17"
      },
      "outputs": [],
      "source": [
        "my_plot <- my_df %>%\n",
        "  ggplot(aes(x = ds,\n",
        "             y = y,\n",
        "             color = label)) +\n",
        "  geom_line()\n",
        "my_plot"
      ],
      "id": "e098ee5d-c61b-4256-97fb-8bd129f9ca17"
    },
    {
      "cell_type": "code",
      "execution_count": null,
      "metadata": {
        "id": "ca4817c2-b65a-487b-a861-26bf4ed4d388"
      },
      "outputs": [],
      "source": [
        "library(caret)\n",
        "my_lm_model <- train(form = y ~ x, data = my_train, method = \"lm\")\n",
        "y_ <- my_lm_model %>% predict(my_test)\n",
        "caret::RMSE(y, y_) # RMSE（テスト）"
      ],
      "id": "ca4817c2-b65a-487b-a861-26bf4ed4d388"
    },
    {
      "cell_type": "code",
      "execution_count": null,
      "metadata": {
        "id": "b320513a-d3c5-4ed0-9f0d-0eeae721322e"
      },
      "outputs": [],
      "source": [
        "y_ <- my_lm_model %>% predict(my_df)\n",
        "tmp <- my_df %>%\n",
        "  mutate(y = y_, label = \"model\")\n",
        "my_plot + geom_line(data = tmp)"
      ],
      "id": "b320513a-d3c5-4ed0-9f0d-0eeae721322e"
    },
    {
      "cell_type": "code",
      "execution_count": null,
      "metadata": {
        "id": "12bb4898-489e-4844-b821-995e5ccc4484"
      },
      "outputs": [],
      "source": [
        "library(fable)\n",
        "my_arima_model <- my_train %>% model(ARIMA(y))\n",
        "my_arima_model"
      ],
      "id": "12bb4898-489e-4844-b821-995e5ccc4484"
    },
    {
      "cell_type": "code",
      "execution_count": null,
      "metadata": {
        "id": "d9613e01-9835-4d7c-9dd1-101b834ce048"
      },
      "outputs": [],
      "source": [
        "tmp <- my_arima_model %>% forecast(h = \"3 years\")\n",
        "head(tmp)"
      ],
      "id": "d9613e01-9835-4d7c-9dd1-101b834ce048"
    },
    {
      "cell_type": "code",
      "execution_count": null,
      "metadata": {
        "id": "ff718d87-e17a-497c-9408-1efa99a0a93e"
      },
      "outputs": [],
      "source": [
        "y_ <- tmp$.mean\n",
        "caret::RMSE(y_, y)"
      ],
      "id": "ff718d87-e17a-497c-9408-1efa99a0a93e"
    },
    {
      "cell_type": "code",
      "execution_count": null,
      "metadata": {
        "id": "5c928500-53f5-48b2-83a1-3b20d58ab939"
      },
      "outputs": [],
      "source": [
        "# 予測結果のみでよい場合\n",
        "#tmp %>% autoplot\n",
        "\n",
        "tmp %>% autoplot +\n",
        "  geom_line(data = my_df,\n",
        "            aes(x = ds,\n",
        "                y = y,\n",
        "                color = label))"
      ],
      "id": "5c928500-53f5-48b2-83a1-3b20d58ab939"
    },
    {
      "cell_type": "code",
      "execution_count": null,
      "metadata": {
        "id": "4ca026fa-b180-49a3-9b80-982e1f6f7779"
      },
      "outputs": [],
      "source": [
        "library(prophet)\n",
        "my_prophet_model <- my_train %>%\n",
        "  prophet(seasonality.mode = \"multiplicative\")"
      ],
      "id": "4ca026fa-b180-49a3-9b80-982e1f6f7779"
    },
    {
      "cell_type": "code",
      "execution_count": null,
      "metadata": {
        "id": "d8cff818-3b6b-4236-968a-4c959bb4213b"
      },
      "outputs": [],
      "source": [
        "tmp <- my_prophet_model %>% predict(my_test)\n",
        "head(tmp[, c(\"ds\", \"yhat\", \"yhat_lower\", \"yhat_upper\")])"
      ],
      "id": "d8cff818-3b6b-4236-968a-4c959bb4213b"
    },
    {
      "cell_type": "code",
      "execution_count": null,
      "metadata": {
        "id": "84dff683-baaa-4906-926a-6d5ba5008b47"
      },
      "outputs": [],
      "source": [
        "y_ <- tmp$yhat\n",
        "caret::RMSE(y_, y)"
      ],
      "id": "84dff683-baaa-4906-926a-6d5ba5008b47"
    },
    {
      "cell_type": "code",
      "execution_count": null,
      "metadata": {
        "id": "6d58ef9c-ae97-4f17-8903-0c6d4d183c4a"
      },
      "outputs": [],
      "source": [
        "# my_prophet_model %>% plot(tmp) # 予測結果のみでよい場合\n",
        "\n",
        "my_prophet_model %>% plot(tmp) +\n",
        "  geom_line(data = my_train, aes(x = as.POSIXct(ds))) +\n",
        "  geom_line(data = my_test,  aes(x = as.POSIXct(ds)), color = \"red\")"
      ],
      "id": "6d58ef9c-ae97-4f17-8903-0c6d4d183c4a"
    },
    {
      "id": "eb514f5f",
      "cell_type": "markdown",
      "source": [
        "# 13 教師なし学習"
      ],
      "metadata": {
        "id": "eb514f5f"
      }
    },
    {
      "cell_type": "code",
      "execution_count": null,
      "metadata": {
        "id": "ed80ad69-a53a-4260-bb57-ed2799d0bc1d"
      },
      "outputs": [],
      "source": [
        "# Google Colaboratoryの環境設定\n",
        "if (file.exists(\"/content\")) {\n",
        "  options(Ncpus = parallel::detectCores())\n",
        "  install.packages(c(\"factoextra\", \"ggbiplot\", \"igraph\"))\n",
        "}"
      ],
      "id": "ed80ad69-a53a-4260-bb57-ed2799d0bc1d"
    },
    {
      "id": "d7e6c61a",
      "cell_type": "markdown",
      "source": [
        "## 13.1 主成分分析"
      ],
      "metadata": {
        "id": "d7e6c61a"
      }
    },
    {
      "cell_type": "code",
      "execution_count": null,
      "metadata": {
        "id": "35929a86-a969-4ae8-af5f-931a98309fb9"
      },
      "outputs": [],
      "source": [
        "library(tidyverse)\n",
        "\n",
        "my_data <- data.frame(\n",
        "  language  = c(  0,  20,  20,  25,  22,  17),\n",
        "  english   = c(  0,  20,  40,  20,  24,  18),\n",
        "  math      = c(100,  20,   5,  30,  17,  25),\n",
        "  science   = c(  0,  20,   5,  25,  16,  23),\n",
        "  society   = c(  0,  20,  30,   0,  21,  17),\n",
        "  row.names = c(\"A\", \"B\", \"C\", \"D\", \"E\", \"F\"))\n",
        "my_result <- my_data %>% prcomp # 主成分分析の実行"
      ],
      "id": "35929a86-a969-4ae8-af5f-931a98309fb9"
    },
    {
      "cell_type": "code",
      "execution_count": null,
      "metadata": {
        "id": "ed87272b-4e27-45e0-a4fb-ba40cdfa66d2"
      },
      "outputs": [],
      "source": [
        "my_result$x # 主成分スコア"
      ],
      "id": "ed87272b-4e27-45e0-a4fb-ba40cdfa66d2"
    },
    {
      "cell_type": "code",
      "execution_count": null,
      "metadata": {
        "id": "01874b7d-1ffe-47bf-b6fa-0ceec4433b95"
      },
      "outputs": [],
      "source": [
        "my_result %>% ggbiplot::ggbiplot(\n",
        "  labels = row.names(my_data),\n",
        "  scale = 0)"
      ],
      "id": "01874b7d-1ffe-47bf-b6fa-0ceec4433b95"
    },
    {
      "cell_type": "code",
      "execution_count": null,
      "metadata": {
        "id": "fd42be9a-a56f-4b9d-96da-3eb79a678234"
      },
      "outputs": [],
      "source": [
        "my_result$rotation %>% t"
      ],
      "id": "fd42be9a-a56f-4b9d-96da-3eb79a678234"
    },
    {
      "cell_type": "code",
      "execution_count": null,
      "metadata": {
        "id": "5ca6e463-fa81-4b0a-a784-ab04071ee672"
      },
      "outputs": [],
      "source": [
        "summary(my_result)"
      ],
      "id": "5ca6e463-fa81-4b0a-a784-ab04071ee672"
    },
    {
      "cell_type": "code",
      "execution_count": null,
      "metadata": {
        "id": "3e501d90-100b-46fe-9549-02a54af45fe8"
      },
      "outputs": [],
      "source": [
        "my_result <- prcomp(\n",
        "  x = my_data,\n",
        "  scale = TRUE)       # 標準化\n",
        "# あるいは\n",
        "my_result <- prcomp(\n",
        "  x = scale(my_data)) # 標準化データ\n",
        "\n",
        "my_result$x # 主成分スコア"
      ],
      "id": "3e501d90-100b-46fe-9549-02a54af45fe8"
    },
    {
      "cell_type": "code",
      "execution_count": null,
      "metadata": {
        "id": "836f55b2-83ae-4348-8c64-4c2708a0f471"
      },
      "outputs": [],
      "source": [
        "Z  <- my_data %>% scale(scale = FALSE) %>% as.matrix # 標準化しない場合\n",
        "#Z <- my_data %>% scale(scale = TRUE)  %>% as.matrix # 標準化する場合\n",
        "\n",
        "n <- nrow(my_data)\n",
        "S <- var(Z)                          # 分散共分散行列\n",
        "#S <- t(Z) %*% Z / (n - 1)           # （同じ結果）\n",
        "tmp <- eigen(S)                      # 固有値と固有ベクトル\n",
        "Z %*% tmp$vectors                    # 主成分スコア（結果は割愛）\n",
        "cumsum(tmp$values) / sum(tmp$values) # 累積寄与率"
      ],
      "id": "836f55b2-83ae-4348-8c64-4c2708a0f471"
    },
    {
      "cell_type": "code",
      "execution_count": null,
      "metadata": {
        "id": "95f5024a-6533-4c3a-a845-8e6387aa2939"
      },
      "outputs": [],
      "source": [
        "udv <- svd(Z) # 特異値分解\n",
        "U <- udv$u\n",
        "d <- udv$d\n",
        "V <- udv$v\n",
        "W <- diag(d)\n",
        "\n",
        "c(all.equal(Z, U %*% W %*% t(V), check.attributes = FALSE), # 確認1\n",
        "  all.equal(t(U) %*% U, diag(dim(U)[2])),                   # 確認2\n",
        "  all.equal(t(V) %*% V, diag(dim(V)[2])))                   # 確認3\n",
        "\n",
        "U %*% W            # 主成分スコア（結果は割愛）\n",
        "\n",
        "e <- d^2 / (n - 1) # 分散共分散行列の固有値\n",
        "cumsum(e) / sum(e) # 累積寄与率"
      ],
      "id": "95f5024a-6533-4c3a-a845-8e6387aa2939"
    },
    {
      "id": "68d212e2",
      "cell_type": "markdown",
      "source": [
        "## 13.2 クラスタ分析"
      ],
      "metadata": {
        "id": "68d212e2"
      }
    },
    {
      "cell_type": "code",
      "execution_count": null,
      "metadata": {
        "id": "d4e44186-cc65-4fb7-b088-800a077cde52"
      },
      "outputs": [],
      "source": [
        "library(tidyverse)\n",
        "\n",
        "my_data <- data.frame(\n",
        "  x         = c(  0, -16,  10,  10),\n",
        "  y         = c(  0,   0,  10, -15),\n",
        "  row.names = c(\"A\", \"B\", \"C\", \"D\"))\n",
        "\n",
        "my_result <- my_data %>%\n",
        "  dist(\"euclidian\") %>% # distだけでも可\n",
        "  hclust(\"complete\")    # hclustだけでも可"
      ],
      "id": "d4e44186-cc65-4fb7-b088-800a077cde52"
    },
    {
      "cell_type": "code",
      "execution_count": null,
      "metadata": {
        "id": "01d0e7ff-dfee-4734-81de-f98a3742fb97"
      },
      "outputs": [],
      "source": [
        "my_result %>% factoextra::fviz_dend(\n",
        "  k = 3, # クラスタ数\n",
        "  rect = TRUE, rect_fill = TRUE)"
      ],
      "id": "01d0e7ff-dfee-4734-81de-f98a3742fb97"
    },
    {
      "cell_type": "code",
      "execution_count": null,
      "metadata": {
        "id": "da590f51-665d-4a9f-bded-9437982a04ac"
      },
      "outputs": [],
      "source": [
        "my_result %>% factoextra::fviz_dend(\n",
        "  k = 3,\n",
        "  rect = TRUE, rect_fill = TRUE,\n",
        "  type = \"phylogenic\")"
      ],
      "id": "da590f51-665d-4a9f-bded-9437982a04ac"
    },
    {
      "cell_type": "code",
      "execution_count": null,
      "metadata": {
        "id": "f7fa5d7a-a0fb-43db-80be-de5a686d012a"
      },
      "outputs": [],
      "source": [
        "my_result %>% cutree(3)"
      ],
      "id": "f7fa5d7a-a0fb-43db-80be-de5a686d012a"
    },
    {
      "cell_type": "code",
      "execution_count": null,
      "metadata": {
        "id": "d73b3665-3f95-4723-be23-6a6219313f95"
      },
      "outputs": [],
      "source": [
        "library(tidyverse)\n",
        "\n",
        "my_data <- data.frame(\n",
        "  language  = c(  0,  20,  20,  25,  22,  17),\n",
        "  english   = c(  0,  20,  40,  20,  24,  18),\n",
        "  math      = c(100,  20,   5,  30,  17,  25),\n",
        "  science   = c(  0,  20,   5,  25,  16,  23),\n",
        "  society   = c(  0,  20,  30,   0,  21,  17),\n",
        "  row.names = c(\"A\", \"B\", \"C\", \"D\", \"E\", \"F\"))\n",
        "\n",
        "try( # RMarkdownで発生するエラーを回避する．\n",
        "  my_data %>% scale %>%                        # 列ごとの標準化\n",
        "    gplots::heatmap.2(cexRow = 1, cexCol = 1), # ラベルのサイズを指定して描画する．\n",
        "  silent = TRUE)"
      ],
      "id": "d73b3665-3f95-4723-be23-6a6219313f95"
    },
    {
      "cell_type": "code",
      "execution_count": null,
      "metadata": {
        "id": "ef130bc0-6001-4f62-9da2-cde5a756831e"
      },
      "outputs": [],
      "source": [
        "library(tidyverse)\n",
        "\n",
        "my_data <- data.frame(\n",
        "  x         = c(  0, -16,  10,  10),\n",
        "  y         = c(  0,   0,  10, -15),\n",
        "  row.names = c(\"A\", \"B\", \"C\", \"D\"))\n",
        "\n",
        "my_result <- my_data %>% kmeans(3)"
      ],
      "id": "ef130bc0-6001-4f62-9da2-cde5a756831e"
    },
    {
      "cell_type": "code",
      "execution_count": null,
      "metadata": {
        "id": "59944c70-954e-44fd-9e4a-9eacbabb1580"
      },
      "outputs": [],
      "source": [
        "my_result$cluster"
      ],
      "id": "59944c70-954e-44fd-9e4a-9eacbabb1580"
    },
    {
      "cell_type": "code",
      "execution_count": null,
      "metadata": {
        "id": "dc03f4fa-6ac8-4a18-8e1c-4291e1c767aa"
      },
      "outputs": [],
      "source": [
        "library(tidyverse)\n",
        "library(factoextra)\n",
        "\n",
        "my_data <- iris[, -5]\n",
        "\n",
        "f <- 2:5 %>% map(function(k) {\n",
        "  my_data %>% kmeans(k) %>%\n",
        "    fviz_cluster(data = my_data, geom = \"point\") +\n",
        "    ggtitle(sprintf(\"k = %s\", k))\n",
        "})\n",
        "gridExtra::grid.arrange(f[[1]], f[[2]], f[[3]], f[[4]], ncol = 2)"
      ],
      "id": "dc03f4fa-6ac8-4a18-8e1c-4291e1c767aa"
    },
    {
      "cell_type": "code",
      "execution_count": null,
      "metadata": {
        "id": "f43052a2-ac59-4fc4-bf44-92b91af68030"
      },
      "outputs": [],
      "source": [
        "fviz_nbclust(my_data, kmeans, method = \"wss\")"
      ],
      "id": "f43052a2-ac59-4fc4-bf44-92b91af68030"
    },
    {
      "cell_type": "code",
      "execution_count": null,
      "metadata": {
        "id": "93d62027-d667-4d38-981a-46ec4db143c4"
      },
      "outputs": [],
      "source": [
        "library(tidyverse)\n",
        "my_data <- iris[, -5] %>% scale\n",
        "\n",
        "my_result <- prcomp(my_data)$x %>% as.data.frame # 主成分分析\n",
        "\n",
        "# 非階層的クラスタ分析の場合\n",
        "my_result$cluster <- (my_data %>% scale %>% kmeans(3))$cluster %>% as.factor\n",
        "\n",
        "# 階層的クラスタ分析の場合\n",
        "#my_result$cluster <- my_data %>% dist %>% hclust %>% cutree(3) %>% as.factor\n",
        "\n",
        "my_result %>%\n",
        "  ggplot(aes(x = PC1, y = PC2, color = cluster)) + # 色でクラスタを表現する．\n",
        "  geom_point(shape = iris$Species) +               # 形で品種を表現する．\n",
        "  theme(legend.position = \"none\")"
      ],
      "id": "93d62027-d667-4d38-981a-46ec4db143c4"
    }
  ],
  "nbformat": 4,
  "nbformat_minor": 5,
  "metadata": {
    "kernelspec": {
      "name": "ir",
      "display_name": "R"
    },
    "colab": {
      "provenance": [],
      "toc_visible": true
    }
  }
}