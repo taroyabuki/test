{
  "cells": [
    {
      "cell_type": "markdown",
      "source": [
        "[辻真吾・矢吹太朗『ゼロからはじめるデータサイエンス入門』（講談社, 2021）](https://github.com/taroyabuki/fromzero)"
      ],
      "metadata": {
        "id": "xA3gRC0lw3bV"
      },
      "id": "xA3gRC0lw3bV"
    },
    {
      "cell_type": "code",
      "execution_count": null,
      "metadata": {
        "id": "YLCHXkyGw3bX"
      },
      "outputs": [],
      "source": [
        "# Google Colaboratoryの環境設定\n",
        "if 'COLAB_GPU' in os.environ:\n",
        "  !pip install h2o pandarallel pca pmdarima prophet | tail -n 1"
      ],
      "id": "YLCHXkyGw3bX"
    },
    {
      "cell_type": "code",
      "execution_count": null,
      "metadata": {
        "id": "x01nkX85w3bY"
      },
      "outputs": [],
      "source": [
        "# これはPythonのコードの例です．\n",
        "1 + 1\n",
        "#> 2 # 注目すべき実行結果です．"
      ],
      "id": "x01nkX85w3bY"
    },
    {
      "cell_type": "markdown",
      "source": [
        "# 1 コンピュータとネットワーク\n",
        "\n",
        "\n"
      ],
      "metadata": {
        "id": "2wJVl9Tzw3bZ"
      },
      "id": "2wJVl9Tzw3bZ"
    },
    {
      "cell_type": "markdown",
      "source": [
        "## 1.1 コンピュータの基本操作\n",
        "\n",
        "\n"
      ],
      "metadata": {
        "id": "ivzYsgmlw3bZ"
      },
      "id": "ivzYsgmlw3bZ"
    },
    {
      "cell_type": "markdown",
      "source": [
        "## 1.2 ネットワークの仕組み\n",
        "\n",
        "\n"
      ],
      "metadata": {
        "id": "WDz6vjBPw3bZ"
      },
      "id": "WDz6vjBPw3bZ"
    },
    {
      "cell_type": "markdown",
      "source": [
        "# 2 データサイエンスのための環境\n",
        "\n",
        "\n"
      ],
      "metadata": {
        "id": "FlNhvR45w3bZ"
      },
      "id": "FlNhvR45w3bZ"
    },
    {
      "cell_type": "markdown",
      "source": [
        "## 2.1 実行環境の選択\n",
        "\n",
        "\n"
      ],
      "metadata": {
        "id": "1RVwb8GAw3ba"
      },
      "id": "1RVwb8GAw3ba"
    },
    {
      "cell_type": "markdown",
      "source": [
        "## 2.2 クラウド\n",
        "\n",
        "\n"
      ],
      "metadata": {
        "id": "Of_1VcO2w3ba"
      },
      "id": "Of_1VcO2w3ba"
    },
    {
      "cell_type": "markdown",
      "source": [
        "## 2.3 Docker\n",
        "\n",
        "\n"
      ],
      "metadata": {
        "id": "5k68uk8Rw3ba"
      },
      "id": "5k68uk8Rw3ba"
    },
    {
      "cell_type": "markdown",
      "source": [
        "## 2.4 ターミナルの使い方\n",
        "\n",
        "\n"
      ],
      "metadata": {
        "id": "z9f4SRZqw3ba"
      },
      "id": "z9f4SRZqw3ba"
    },
    {
      "cell_type": "markdown",
      "source": [
        "## 2.5 RとPython\n",
        "\n",
        "\n"
      ],
      "metadata": {
        "id": "bKVdlKVSw3bb"
      },
      "id": "bKVdlKVSw3bb"
    },
    {
      "cell_type": "markdown",
      "source": [
        "## 2.6 サンプルコードの利用"
      ],
      "metadata": {
        "id": "FClU8scfw3bb"
      },
      "id": "FClU8scfw3bb"
    },
    {
      "cell_type": "code",
      "execution_count": null,
      "metadata": {
        "id": "KqXkO_rew3bb"
      },
      "outputs": [],
      "source": [
        "1 + 1\n",
        "# 2 # これは表示されない．\n",
        "\n",
        "print(1 + 2)\n",
        "# 3 # 表示される．\n",
        "\n",
        "1 + 3\n",
        "# 4 # 表示される．"
      ],
      "id": "KqXkO_rew3bb"
    },
    {
      "cell_type": "markdown",
      "source": [
        "# 3 RとPython\n",
        "\n",
        "\n"
      ],
      "metadata": {
        "id": "tvk0pzj2w3bb"
      },
      "id": "tvk0pzj2w3bb"
    },
    {
      "cell_type": "markdown",
      "source": [
        "## 3.1 入門"
      ],
      "metadata": {
        "id": "9p53oAr-w3bb"
      },
      "id": "9p53oAr-w3bb"
    },
    {
      "cell_type": "code",
      "execution_count": null,
      "metadata": {
        "id": "eAeaDzcqw3bb"
      },
      "outputs": [],
      "source": [
        "0x10\n",
        "#> 16"
      ],
      "id": "eAeaDzcqw3bb"
    },
    {
      "cell_type": "code",
      "execution_count": null,
      "metadata": {
        "id": "WsSBxdGJw3bb"
      },
      "outputs": [],
      "source": [
        "1.23e5\n",
        "#> 123000.0"
      ],
      "id": "WsSBxdGJw3bb"
    },
    {
      "cell_type": "code",
      "execution_count": null,
      "metadata": {
        "id": "lBlCnfFiw3bb"
      },
      "outputs": [],
      "source": [
        "2 * 3\n",
        "#> 6"
      ],
      "id": "lBlCnfFiw3bb"
    },
    {
      "cell_type": "code",
      "execution_count": null,
      "metadata": {
        "id": "SmPbPrcxw3bc"
      },
      "outputs": [],
      "source": [
        "10 / 3\n",
        "#> 3.3333333333333335"
      ],
      "id": "SmPbPrcxw3bc"
    },
    {
      "cell_type": "code",
      "execution_count": null,
      "metadata": {
        "id": "oxD-TuSbw3bc"
      },
      "outputs": [],
      "source": [
        "10 // 3 # 商\n",
        "#> 3\n",
        "\n",
        "10 % 3  # 余り\n",
        "#> 1"
      ],
      "id": "oxD-TuSbw3bc"
    },
    {
      "cell_type": "code",
      "execution_count": null,
      "metadata": {
        "id": "315oKRiYw3bc"
      },
      "outputs": [],
      "source": [
        "x = 2\n",
        "y = 3\n",
        "x * y\n",
        "#> 6\n",
        "\n",
        "x, y = 20, 30 # まとめて名付け\n",
        "x * y\n",
        "#> 600"
      ],
      "id": "315oKRiYw3bc"
    },
    {
      "cell_type": "code",
      "execution_count": null,
      "metadata": {
        "id": "Tf25AhVsw3bc"
      },
      "outputs": [],
      "source": [
        "x = 1 + 1\n",
        "# この段階では結果は表示されない\n",
        "\n",
        "x # 変数名を評価する．\n",
        "#> 2"
      ],
      "id": "Tf25AhVsw3bc"
    },
    {
      "cell_type": "code",
      "execution_count": null,
      "metadata": {
        "id": "WuyyEr6vw3bc"
      },
      "outputs": [],
      "source": [
        "my_s = 'abcde'"
      ],
      "id": "WuyyEr6vw3bc"
    },
    {
      "cell_type": "code",
      "execution_count": null,
      "metadata": {
        "id": "n0891PWaw3bc"
      },
      "outputs": [],
      "source": [
        "len(my_s)\n",
        "#> 5"
      ],
      "id": "n0891PWaw3bc"
    },
    {
      "cell_type": "code",
      "execution_count": null,
      "metadata": {
        "id": "qx1bf5tUw3bc"
      },
      "outputs": [],
      "source": [
        "'This is' ' a' ' pen.'\n",
        "# あるいは\n",
        "'This is ' + 'a' + ' pen.'\n",
        "#> 'This is a pen.'"
      ],
      "id": "qx1bf5tUw3bc"
    },
    {
      "cell_type": "code",
      "execution_count": null,
      "metadata": {
        "id": "C-fWUYD_w3bc"
      },
      "outputs": [],
      "source": [
        "my_s[1:4]\n",
        "#> 'bcd'"
      ],
      "id": "C-fWUYD_w3bc"
    },
    {
      "cell_type": "code",
      "execution_count": null,
      "metadata": {
        "id": "je8fAKeKw3bd"
      },
      "outputs": [],
      "source": [
        "tmp = \"{} is {}.\"\n",
        "tmp.format('This', 'a pen')\n",
        "#> 'This is a pen.'"
      ],
      "id": "je8fAKeKw3bd"
    },
    {
      "cell_type": "code",
      "execution_count": null,
      "metadata": {
        "id": "ew4cSd3cw3bd"
      },
      "outputs": [],
      "source": [
        "1 <= 2\n",
        "#> True\n",
        "\n",
        "1 < 0\n",
        "#> False"
      ],
      "id": "ew4cSd3cw3bd"
    },
    {
      "cell_type": "code",
      "execution_count": null,
      "metadata": {
        "id": "ehItw8YXw3bd"
      },
      "outputs": [],
      "source": [
        "0.1 + 0.1 + 0.1 == 0.3\n",
        "#> False\n",
        "\n",
        "import math\n",
        "math.isclose(0.1 + 0.1 + 0.1, 0.3)\n",
        "#> True"
      ],
      "id": "ehItw8YXw3bd"
    },
    {
      "cell_type": "code",
      "execution_count": null,
      "metadata": {
        "id": "5_RnO2kFw3bd"
      },
      "outputs": [],
      "source": [
        "True and False # 論理積（かつ）\n",
        "#> False\n",
        "\n",
        "True or False  # 論理和（または）\n",
        "#> True\n",
        "\n",
        "not True       # 否定（でない）\n",
        "#> False"
      ],
      "id": "5_RnO2kFw3bd"
    },
    {
      "cell_type": "code",
      "execution_count": null,
      "metadata": {
        "id": "gtBTgRvTw3bd"
      },
      "outputs": [],
      "source": [
        "0 if 3 < 5 else 10\n",
        "#> 0"
      ],
      "id": "gtBTgRvTw3bd"
    },
    {
      "cell_type": "code",
      "execution_count": null,
      "metadata": {
        "id": "_Pva44mUw3bd"
      },
      "outputs": [],
      "source": [
        "import os\n",
        "os.getcwd()\n",
        "#> '/home/jovyan/work'"
      ],
      "id": "_Pva44mUw3bd"
    },
    {
      "cell_type": "code",
      "execution_count": null,
      "metadata": {
        "id": "cFtZf8d_w3bd"
      },
      "outputs": [],
      "source": [
        "os.chdir('..')\n",
        "os.getcwd()\n",
        "#> '/home/jovyan'"
      ],
      "id": "cFtZf8d_w3bd"
    },
    {
      "cell_type": "markdown",
      "source": [
        "## 3.2 関数"
      ],
      "metadata": {
        "id": "Yq7oLZW2w3bd"
      },
      "id": "Yq7oLZW2w3bd"
    },
    {
      "cell_type": "code",
      "execution_count": null,
      "metadata": {
        "id": "W4n1je7Zw3bd"
      },
      "outputs": [],
      "source": [
        "import math\n",
        "math.sqrt(4)\n",
        "#> 2.0"
      ],
      "id": "W4n1je7Zw3bd"
    },
    {
      "cell_type": "code",
      "execution_count": null,
      "metadata": {
        "id": "dnJ3MNJBw3be"
      },
      "outputs": [],
      "source": [
        "math.log(100, 10)\n",
        "#> 2.0"
      ],
      "id": "dnJ3MNJBw3be"
    },
    {
      "cell_type": "code",
      "execution_count": null,
      "metadata": {
        "id": "EoFWHb1yw3be"
      },
      "outputs": [],
      "source": [
        "math.log(100)         # 自然対数\n",
        "# あるいは\n",
        "math.log(100, math.e) # 省略しない場合\n",
        "\n",
        "#> 4.605170185988092"
      ],
      "id": "EoFWHb1yw3be"
    },
    {
      "cell_type": "code",
      "execution_count": null,
      "metadata": {
        "id": "pLTv2zQzw3be"
      },
      "outputs": [],
      "source": [
        "math.log10(100) # 常用対数\n",
        "#> 2.0\n",
        "\n",
        "math.log2(1024) # 底が2の対数\n",
        "#> 10.0"
      ],
      "id": "pLTv2zQzw3be"
    },
    {
      "cell_type": "code",
      "execution_count": null,
      "metadata": {
        "id": "Cp0AJxV1w3bh"
      },
      "outputs": [],
      "source": [
        "def f(a, b):\n",
        "    return a - b"
      ],
      "id": "Cp0AJxV1w3bh"
    },
    {
      "cell_type": "code",
      "execution_count": null,
      "metadata": {
        "id": "lv1phP1Tw3bh"
      },
      "outputs": [],
      "source": [
        "f(3, 5)\n",
        "#> -2"
      ],
      "id": "lv1phP1Tw3bh"
    },
    {
      "cell_type": "code",
      "execution_count": null,
      "metadata": {
        "id": "qSBdLZTPw3bh"
      },
      "outputs": [],
      "source": [
        "def f(a, b=5):\n",
        "    return a - b\n",
        "\n",
        "f(3) # f(3, 5)と同じこと\n",
        "#> -2"
      ],
      "id": "qSBdLZTPw3bh"
    },
    {
      "cell_type": "code",
      "execution_count": null,
      "metadata": {
        "id": "LXCypWFNw3bh"
      },
      "outputs": [],
      "source": [
        "(lambda a, b: a - b)(3, 5)\n",
        "#> -2"
      ],
      "id": "LXCypWFNw3bh"
    },
    {
      "cell_type": "markdown",
      "source": [
        "## 3.3 コレクション"
      ],
      "metadata": {
        "id": "y8KR5Etyw3bi"
      },
      "id": "y8KR5Etyw3bi"
    },
    {
      "cell_type": "code",
      "execution_count": null,
      "metadata": {
        "id": "7_LRZuWpw3bi"
      },
      "outputs": [],
      "source": [
        "x = ['foo', 'bar', 'baz']"
      ],
      "id": "7_LRZuWpw3bi"
    },
    {
      "cell_type": "code",
      "execution_count": null,
      "metadata": {
        "id": "ME2-TXTYw3bi"
      },
      "outputs": [],
      "source": [
        "len(x)\n",
        "#> 3"
      ],
      "id": "ME2-TXTYw3bi"
    },
    {
      "cell_type": "code",
      "execution_count": null,
      "metadata": {
        "id": "7eXc9ZjYw3bi"
      },
      "outputs": [],
      "source": [
        "x[1]\n",
        "#> 'bar'"
      ],
      "id": "7eXc9ZjYw3bi"
    },
    {
      "cell_type": "code",
      "execution_count": null,
      "metadata": {
        "id": "HMF_6AMAw3bi"
      },
      "outputs": [],
      "source": [
        "x[1] = 'BAR'\n",
        "x # 結果の確認\n",
        "#> ['foo', 'BAR', 'baz']\n",
        "\n",
        "x[1] = 'bar' # 元に戻す．"
      ],
      "id": "HMF_6AMAw3bi"
    },
    {
      "cell_type": "code",
      "execution_count": null,
      "metadata": {
        "id": "aQ7aeKjaw3bi"
      },
      "outputs": [],
      "source": [
        "x[-2]\n",
        "#> 'bar'"
      ],
      "id": "aQ7aeKjaw3bi"
    },
    {
      "cell_type": "code",
      "execution_count": null,
      "metadata": {
        "id": "zC730W6dw3bk"
      },
      "outputs": [],
      "source": [
        "x + ['qux']\n",
        "#> ['foo', 'bar', 'baz', 'qux']"
      ],
      "id": "zC730W6dw3bk"
    },
    {
      "cell_type": "code",
      "execution_count": null,
      "metadata": {
        "id": "lSEpi6xrw3bk"
      },
      "outputs": [],
      "source": [
        "x = x + ['qux']\n",
        "# あるいは\n",
        "#x.append('qux')\n",
        "\n",
        "x # 結果の確認\n",
        "#> ['foo', 'bar', 'baz', 'qux']"
      ],
      "id": "lSEpi6xrw3bk"
    },
    {
      "cell_type": "code",
      "execution_count": null,
      "metadata": {
        "id": "WjHPbRVzw3bk"
      },
      "outputs": [],
      "source": [
        "list(range(5))\n",
        "#> [0, 1, 2, 3, 4]"
      ],
      "id": "WjHPbRVzw3bk"
    },
    {
      "cell_type": "code",
      "execution_count": null,
      "metadata": {
        "id": "m57pKc8-w3bk"
      },
      "outputs": [],
      "source": [
        "list(range(0, 11, 2))\n",
        "#> [0, 2, 4, 6, 8, 10]"
      ],
      "id": "m57pKc8-w3bk"
    },
    {
      "cell_type": "code",
      "execution_count": null,
      "metadata": {
        "id": "7BlpBIDyw3bk"
      },
      "outputs": [],
      "source": [
        "import numpy as np\n",
        "np.arange(0, 1.1, 0.5)\n",
        "#> array([0. , 0.5, 1. ])"
      ],
      "id": "7BlpBIDyw3bk"
    },
    {
      "cell_type": "code",
      "execution_count": null,
      "metadata": {
        "id": "sKxWA1U7w3bk"
      },
      "outputs": [],
      "source": [
        "np.linspace(0, 100, 5)\n",
        "#> array([ 0., 25., 50., 75., 100.])"
      ],
      "id": "sKxWA1U7w3bk"
    },
    {
      "cell_type": "code",
      "execution_count": null,
      "metadata": {
        "id": "hBb2PxlHw3bk"
      },
      "outputs": [],
      "source": [
        "[10] * 5\n",
        "#> [10, 10, 10, 10, 10]"
      ],
      "id": "hBb2PxlHw3bk"
    },
    {
      "cell_type": "code",
      "execution_count": null,
      "metadata": {
        "id": "F79JanjBw3bk"
      },
      "outputs": [],
      "source": [
        "import numpy as np\n",
        "x = np.array([2, 3, 5, 7])\n",
        "\n",
        "x + 10 # 加算\n",
        "#> array([12, 13, 15, 17])\n",
        "\n",
        "x * 10 # 乗算\n",
        "#> array([20, 30, 50, 70])"
      ],
      "id": "F79JanjBw3bk"
    },
    {
      "cell_type": "code",
      "execution_count": null,
      "metadata": {
        "id": "ggmxZ7Qew3bl"
      },
      "outputs": [],
      "source": [
        "x = [2, 3]\n",
        "np.sin(x)\n",
        "#> array([0.90929743, 0.14112001])"
      ],
      "id": "ggmxZ7Qew3bl"
    },
    {
      "cell_type": "code",
      "execution_count": null,
      "metadata": {
        "id": "aNkw6Q8nw3bl"
      },
      "outputs": [],
      "source": [
        "x = np.array([2,  3,   5,    7])\n",
        "y = np.array([1, 10, 100, 1000])\n",
        "x + y\n",
        "#> array([   3,   13,  105, 1007])\n",
        "\n",
        "x * y\n",
        "#> array([   2,   30,  500, 7000])"
      ],
      "id": "aNkw6Q8nw3bl"
    },
    {
      "cell_type": "code",
      "execution_count": null,
      "metadata": {
        "id": "0C-RuUU9w3bl"
      },
      "outputs": [],
      "source": [
        "np.dot(x, y)\n",
        "# あるいは\n",
        "x @ y\n",
        "\n",
        "#> 7532"
      ],
      "id": "0C-RuUU9w3bl"
    },
    {
      "cell_type": "code",
      "execution_count": null,
      "metadata": {
        "id": "kclsDDhAw3bl"
      },
      "outputs": [],
      "source": [
        "x = np.array([True, False])\n",
        "y = np.array([True, True])\n",
        "x & y\n",
        "#> array([ True, False])"
      ],
      "id": "kclsDDhAw3bl"
    },
    {
      "cell_type": "code",
      "execution_count": null,
      "metadata": {
        "id": "kRF8JQimw3bl"
      },
      "outputs": [],
      "source": [
        "u = np.array([1, 2, 3])\n",
        "v = np.array([1, 2, 3])\n",
        "w = np.array([1, 2, 4])\n",
        "\n",
        "all(u == v) # 全体の比較\n",
        "#> True\n",
        "\n",
        "all(u == w) # 全体の比較\n",
        "#> False\n",
        "\n",
        "u == v      # 要素ごとの比較\n",
        "#> array([ True,  True,  True])\n",
        "\n",
        "u == w      # 要素ごとの比較\n",
        "#> array([ True,  True, False])"
      ],
      "id": "kRF8JQimw3bl"
    },
    {
      "cell_type": "code",
      "execution_count": null,
      "metadata": {
        "id": "7R2DgJHTw3bl"
      },
      "outputs": [],
      "source": [
        "(u == w).sum()  # 同じ要素の数\n",
        "#> 2\n",
        "\n",
        "(u == w).mean() # 同じ要素の割合\n",
        "#> [1] 0.6666667"
      ],
      "id": "7R2DgJHTw3bl"
    },
    {
      "cell_type": "code",
      "execution_count": null,
      "metadata": {
        "id": "2euqvI4vw3bl"
      },
      "outputs": [],
      "source": [
        "x = [1, \"two\"]"
      ],
      "id": "2euqvI4vw3bl"
    },
    {
      "cell_type": "code",
      "execution_count": null,
      "metadata": {
        "id": "Ahmgf6vXw3bl"
      },
      "outputs": [],
      "source": [
        "x[1]\n",
        "#> 'two'"
      ],
      "id": "Ahmgf6vXw3bl"
    },
    {
      "cell_type": "code",
      "execution_count": null,
      "metadata": {
        "id": "qaCciLoPw3bm"
      },
      "outputs": [],
      "source": [
        "x = {'apple' : 'りんご',\n",
        "     'orange': 'みかん'}"
      ],
      "id": "qaCciLoPw3bm"
    },
    {
      "cell_type": "code",
      "execution_count": null,
      "metadata": {
        "id": "YsLrOxD3w3bm"
      },
      "outputs": [],
      "source": [
        "x['grape'] = 'ぶどう'"
      ],
      "id": "YsLrOxD3w3bm"
    },
    {
      "cell_type": "code",
      "execution_count": null,
      "metadata": {
        "id": "EB0BIXbfw3bm"
      },
      "outputs": [],
      "source": [
        "x['apple']\n",
        "# あるいは\n",
        "tmp = 'apple'\n",
        "x[tmp]\n",
        "\n",
        "#> 'りんご'"
      ],
      "id": "EB0BIXbfw3bm"
    },
    {
      "cell_type": "code",
      "execution_count": null,
      "metadata": {
        "id": "O901PuCYw3bm"
      },
      "outputs": [],
      "source": [
        "x = ['foo', 'bar', 'baz']\n",
        "y = x\n",
        "y[1] = 'BAR' # yを更新する．\n",
        "y\n",
        "#> ['foo', 'BAR', 'baz']\n",
        "\n",
        "x            # xも変わる．\n",
        "#> ['foo', 'BAR', 'baz']"
      ],
      "id": "O901PuCYw3bm"
    },
    {
      "cell_type": "code",
      "execution_count": null,
      "metadata": {
        "id": "CNDaYispw3bm"
      },
      "outputs": [],
      "source": [
        "x = ['foo', 'bar', 'baz']\n",
        "y = x.copy()             # 「y = x」とせずに，コピーする．\n",
        "x == y, x is y\n",
        "#> (True, False)         # xとyは，等価（内容は同じ）だが同一ではない．\n",
        "\n",
        "y[1] = 'BAR'             # yを更新しても，\n",
        "x\n",
        "#> ['foo', 'bar', 'baz'] # xは変化しない．"
      ],
      "id": "CNDaYispw3bm"
    },
    {
      "cell_type": "markdown",
      "source": [
        "## 3.4 データフレーム"
      ],
      "metadata": {
        "id": "WycvB68dw3bm"
      },
      "id": "WycvB68dw3bm"
    },
    {
      "cell_type": "code",
      "execution_count": null,
      "metadata": {
        "id": "YsGVKz_Nw3bm"
      },
      "outputs": [],
      "source": [
        "import pandas as pd"
      ],
      "id": "YsGVKz_Nw3bm"
    },
    {
      "cell_type": "code",
      "execution_count": null,
      "metadata": {
        "id": "WudFfH0bw3bm"
      },
      "outputs": [],
      "source": [
        "my_df = pd.DataFrame({\n",
        "    'name':    ['A', 'B', 'C', 'D'],\n",
        "    'english': [ 60,  90,  70,  90],\n",
        "    'math':    [ 70,  80,  90, 100],\n",
        "    'gender':  ['f', 'm', 'm', 'f']})"
      ],
      "id": "WudFfH0bw3bm"
    },
    {
      "cell_type": "code",
      "execution_count": null,
      "metadata": {
        "id": "4SqLUHO9w3bm"
      },
      "outputs": [],
      "source": [
        "my_df = pd.DataFrame([\n",
        "    ['A', 60,  70, 'f'],\n",
        "    ['B', 90,  80, 'm'],\n",
        "    ['C', 70,  90, 'm'],\n",
        "    ['D', 90, 100, 'f']],\n",
        "    columns=['name', 'english',\n",
        "             'math', 'gender'])"
      ],
      "id": "4SqLUHO9w3bm"
    },
    {
      "cell_type": "code",
      "execution_count": null,
      "metadata": {
        "id": "JvSa489Ow3bn"
      },
      "outputs": [],
      "source": [
        "my_df.head()\n",
        "# 結果は割愛"
      ],
      "id": "JvSa489Ow3bn"
    },
    {
      "cell_type": "code",
      "execution_count": null,
      "metadata": {
        "id": "Ws-kEnefw3bn"
      },
      "outputs": [],
      "source": [
        "r, c = my_df.shape # 行数と列数\n",
        "r, c\n",
        "#> (4, 4)\n",
        "\n",
        "r # 行数（len(my_df)も可）\n",
        "#> 4\n",
        "\n",
        "c # 列数\n",
        "#> 4"
      ],
      "id": "Ws-kEnefw3bn"
    },
    {
      "cell_type": "code",
      "execution_count": null,
      "metadata": {
        "id": "-gQ9e0pYw3bn"
      },
      "outputs": [],
      "source": [
        "from itertools import product\n",
        "my_df2 = pd.DataFrame(\n",
        "    product([1, 2, 3],\n",
        "            [10, 100]),\n",
        "    columns=['X', 'Y'])\n",
        "my_df2\n",
        "#>    X    Y\n",
        "#> 0  1   10\n",
        "#> 1  1  100\n",
        "#> 2  2   10\n",
        "#> 3  2  100\n",
        "#> 4  3   10\n",
        "#> 5  3  100"
      ],
      "id": "-gQ9e0pYw3bn"
    },
    {
      "cell_type": "code",
      "execution_count": null,
      "metadata": {
        "id": "zOUYBYENw3bn"
      },
      "outputs": [],
      "source": [
        "my_df2.columns\n",
        "#> Index(['X', 'Y'], dtype='object')"
      ],
      "id": "zOUYBYENw3bn"
    },
    {
      "cell_type": "code",
      "execution_count": null,
      "metadata": {
        "id": "HZCuMFUVw3bn"
      },
      "outputs": [],
      "source": [
        "my_df2.columns = ['P', 'Q']\n",
        "my_df2\n",
        "#>    P    Q\n",
        "#> 0  1   10\n",
        "#> 1  1  100\n",
        "# 以下省略"
      ],
      "id": "HZCuMFUVw3bn"
    },
    {
      "cell_type": "code",
      "execution_count": null,
      "metadata": {
        "id": "uue6wBPMw3bn"
      },
      "outputs": [],
      "source": [
        "list(my_df.index)\n",
        "#> [0, 1, 2, 3]"
      ],
      "id": "uue6wBPMw3bn"
    },
    {
      "cell_type": "code",
      "execution_count": null,
      "metadata": {
        "id": "zcGyN8hjw3bo"
      },
      "outputs": [],
      "source": [
        "my_df2.index = [\n",
        "    'a', 'b', 'c', 'd', 'e', 'f']\n",
        "my_df2\n",
        "#>    P    Q\n",
        "#> a  1   10\n",
        "#> b  1  100\n",
        "#> c  2   10\n",
        "# 以下省略"
      ],
      "id": "zcGyN8hjw3bo"
    },
    {
      "cell_type": "code",
      "execution_count": null,
      "metadata": {
        "id": "HtBDcKTuw3bo"
      },
      "outputs": [],
      "source": [
        "my_df3 = pd.DataFrame({\n",
        "    'english': [ 60,  90,  70,  90],\n",
        "    'math':    [ 70,  80,  90, 100],\n",
        "    'gender':  ['f', 'm', 'm', 'f']},\n",
        "    index=     ['A', 'B', 'C', 'D'])\n",
        "my_df3\n",
        "#>    english  math gender\n",
        "#> A       60    70      f\n",
        "#> B       90    80      m\n",
        "#> C       70    90      m\n",
        "#> D       90   100      f"
      ],
      "id": "HtBDcKTuw3bo"
    },
    {
      "cell_type": "code",
      "execution_count": null,
      "metadata": {
        "id": "dKm-pX4ow3bo"
      },
      "outputs": [],
      "source": [
        "tmp = pd.DataFrame({\n",
        "    'name'   : ['E'],\n",
        "    'english': [80],\n",
        "    'math'   : [80],\n",
        "    'gender' : ['m']})\n",
        "my_df2 = my_df.append(tmp)"
      ],
      "id": "dKm-pX4ow3bo"
    },
    {
      "cell_type": "code",
      "execution_count": null,
      "metadata": {
        "id": "tkHiQ4t0w3bo"
      },
      "outputs": [],
      "source": [
        "my_df2 = my_df.assign(id=[1, 2, 3, 4])"
      ],
      "id": "tkHiQ4t0w3bo"
    },
    {
      "cell_type": "code",
      "execution_count": null,
      "metadata": {
        "id": "1HJWl-RIw3bo"
      },
      "outputs": [],
      "source": [
        "my_df3 = my_df.copy()       # コピー\n",
        "my_df3['id'] = [1, 2, 3, 4] # 更新\n",
        "my_df3 # 結果の確認（割愛）"
      ],
      "id": "1HJWl-RIw3bo"
    },
    {
      "cell_type": "code",
      "execution_count": null,
      "metadata": {
        "id": "EUOIGvllw3bo"
      },
      "outputs": [],
      "source": [
        "my_df.iloc[0, 1]\n",
        "#> 60"
      ],
      "id": "EUOIGvllw3bo"
    },
    {
      "cell_type": "code",
      "execution_count": null,
      "metadata": {
        "id": "4rWsLcHuw3bo"
      },
      "outputs": [],
      "source": [
        "x = my_df.iloc[:, 1]\n",
        "# あるいは\n",
        "x = my_df['english']\n",
        "# あるいは\n",
        "x = my_df.english\n",
        "# あるいは\n",
        "tmp = 'english'\n",
        "x = my_df[tmp]\n",
        "\n",
        "x # 結果の確認（割愛）"
      ],
      "id": "4rWsLcHuw3bo"
    },
    {
      "cell_type": "code",
      "execution_count": null,
      "metadata": {
        "id": "AZiJx9BLw3bo"
      },
      "outputs": [],
      "source": [
        "x = my_df[['name', 'math']]\n",
        "# あるいは\n",
        "x = my_df.loc[:, ['name', 'math']]"
      ],
      "id": "AZiJx9BLw3bo"
    },
    {
      "cell_type": "code",
      "execution_count": null,
      "metadata": {
        "id": "IM7rt_wxw3bp"
      },
      "outputs": [],
      "source": [
        "x = my_df.take([0, 2], axis=1)\n",
        "# あるいは\n",
        "x = my_df.iloc[:, [0, 2]]"
      ],
      "id": "IM7rt_wxw3bp"
    },
    {
      "cell_type": "code",
      "execution_count": null,
      "metadata": {
        "id": "J_06sWNIw3bp"
      },
      "outputs": [],
      "source": [
        "x = my_df.drop(\n",
        "    columns=['english', 'gender'])\n",
        "# あるいは\n",
        "x = my_df.drop(\n",
        "    columns=my_df.columns[[1, 3]])"
      ],
      "id": "J_06sWNIw3bp"
    },
    {
      "cell_type": "code",
      "execution_count": null,
      "metadata": {
        "id": "cAKapB4Qw3bp"
      },
      "outputs": [],
      "source": [
        "x = my_df.take([0, 2])\n",
        "# あるいは\n",
        "x = my_df.iloc[[0, 2], :]"
      ],
      "id": "cAKapB4Qw3bp"
    },
    {
      "cell_type": "code",
      "execution_count": null,
      "metadata": {
        "id": "izk2WnIiw3bp"
      },
      "outputs": [],
      "source": [
        "x = my_df.drop([1, 3])"
      ],
      "id": "izk2WnIiw3bp"
    },
    {
      "cell_type": "code",
      "execution_count": null,
      "metadata": {
        "id": "P9iOcb0Sw3bp"
      },
      "outputs": [],
      "source": [
        "x = my_df[my_df['gender'] == 'm']\n",
        "# あるいは\n",
        "x = my_df.query('gender == \"m\"')"
      ],
      "id": "P9iOcb0Sw3bp"
    },
    {
      "cell_type": "code",
      "execution_count": null,
      "metadata": {
        "id": "zK3BvKisw3bp"
      },
      "outputs": [],
      "source": [
        "x = my_df[(my_df['english'] > 80) & (my_df['gender'] == \"m\")]\n",
        "# あるいは\n",
        "x = my_df.query('english > 80 and gender == \"m\"')"
      ],
      "id": "zK3BvKisw3bp"
    },
    {
      "cell_type": "code",
      "execution_count": null,
      "metadata": {
        "id": "51feMXARw3bp"
      },
      "outputs": [],
      "source": [
        "x = my_df[my_df['english'] == my_df['english'].max()]\n",
        "# あるいは\n",
        "tmp = my_df['english'].max()\n",
        "x = my_df.query('english == @tmp')"
      ],
      "id": "51feMXARw3bp"
    },
    {
      "cell_type": "code",
      "execution_count": null,
      "metadata": {
        "id": "6hYzgxkaw3bp"
      },
      "outputs": [],
      "source": [
        "my_df2 = my_df.copy() # コピー\n",
        "my_df2.loc[my_df['gender'] == 'm', 'gender'] = 'M'"
      ],
      "id": "6hYzgxkaw3bp"
    },
    {
      "cell_type": "code",
      "execution_count": null,
      "metadata": {
        "id": "MJnPQfxhw3bp"
      },
      "outputs": [],
      "source": [
        "my_df2\n",
        "#>   name  english  math gender\n",
        "#> 0    A       60    70      f\n",
        "#> 1    B       90    80      M\n",
        "#> 2    C       70    90      M\n",
        "#> 3    D       90   100      f"
      ],
      "id": "MJnPQfxhw3bp"
    },
    {
      "cell_type": "code",
      "execution_count": null,
      "metadata": {
        "id": "DjRHqtf1w3bp"
      },
      "outputs": [],
      "source": [
        "x = my_df.sort_values('english')"
      ],
      "id": "DjRHqtf1w3bp"
    },
    {
      "cell_type": "code",
      "execution_count": null,
      "metadata": {
        "id": "UanpNnNEw3bq"
      },
      "outputs": [],
      "source": [
        "x = my_df.sort_values('english',\n",
        "    ascending=False)"
      ],
      "id": "UanpNnNEw3bq"
    },
    {
      "cell_type": "code",
      "execution_count": null,
      "metadata": {
        "id": "8FCA4GAEw3bq"
      },
      "outputs": [],
      "source": [
        "import numpy as np\n",
        "x = [2, 3, 5, 7, 11, 13, 17, 19, 23,\n",
        "     29, 31, 37]\n",
        "A = np.array(x).reshape(3, 4)\n",
        "A\n",
        "#> array([[ 2,  3,  5,  7],\n",
        "#>        [11, 13, 17, 19],\n",
        "#>        [23, 29, 31, 37]])"
      ],
      "id": "8FCA4GAEw3bq"
    },
    {
      "cell_type": "code",
      "execution_count": null,
      "metadata": {
        "id": "ZZL4Ngv7w3bq"
      },
      "outputs": [],
      "source": [
        "A = my_df.iloc[:, [1, 2]].values\n",
        "A\n",
        "#> array([[ 60,  70],\n",
        "#>        [ 90,  80],\n",
        "#>        [ 70,  90],\n",
        "#>        [ 90, 100]])"
      ],
      "id": "ZZL4Ngv7w3bq"
    },
    {
      "cell_type": "code",
      "execution_count": null,
      "metadata": {
        "id": "-UtDQIrVw3bq"
      },
      "outputs": [],
      "source": [
        "pd.DataFrame(A)\n",
        "#>     0    1\n",
        "#> 0  60   70\n",
        "#> 1  90   80\n",
        "#> 2  70   90\n",
        "#> 3  90  100"
      ],
      "id": "-UtDQIrVw3bq"
    },
    {
      "cell_type": "code",
      "execution_count": null,
      "metadata": {
        "id": "_SxJ_IMaw3bq"
      },
      "outputs": [],
      "source": [
        "A.T\n",
        "#> array([[ 60,  90,  70,  90],\n",
        "#>        [ 70,  80,  90, 100]])"
      ],
      "id": "_SxJ_IMaw3bq"
    },
    {
      "cell_type": "code",
      "execution_count": null,
      "metadata": {
        "id": "EpR7xq7Ww3bq"
      },
      "outputs": [],
      "source": [
        "A.T @ A\n",
        "#> array([[24700, 26700],\n",
        "#>        [26700, 29400]])"
      ],
      "id": "EpR7xq7Ww3bq"
    },
    {
      "cell_type": "code",
      "execution_count": null,
      "metadata": {
        "id": "J-9sbF6rw3bq"
      },
      "outputs": [],
      "source": [
        "my_df = pd.DataFrame({\n",
        "    'day': [25, 26, 27],\n",
        "    'min': [20, 21, 15],\n",
        "    'max': [24, 27, 21]})"
      ],
      "id": "J-9sbF6rw3bq"
    },
    {
      "cell_type": "code",
      "execution_count": null,
      "metadata": {
        "id": "cgEXBj0mw3bq"
      },
      "outputs": [],
      "source": [
        "my_longer = my_df.melt(id_vars='day')\n",
        "my_longer\n",
        "#>    day variable  value\n",
        "#> 0   25      min     20\n",
        "#> 1   26      min     21\n",
        "#> 2   27      min     15\n",
        "#> 3   25      max     24\n",
        "#> 4   26      max     27\n",
        "#> 5   27      max     21"
      ],
      "id": "cgEXBj0mw3bq"
    },
    {
      "cell_type": "code",
      "execution_count": null,
      "metadata": {
        "id": "2jNRS861w3br"
      },
      "outputs": [],
      "source": [
        "my_wider = my_longer.pivot(\n",
        "    index='day',\n",
        "    columns='variable',\n",
        "    values='value')\n",
        "my_wider\n",
        "#> variable  max  min\n",
        "#> day\n",
        "#> 25         24   20\n",
        "#> 26         27   21\n",
        "#> 27         21   15"
      ],
      "id": "2jNRS861w3br"
    },
    {
      "cell_type": "code",
      "execution_count": null,
      "metadata": {
        "id": "7yTBZQckw3br"
      },
      "outputs": [],
      "source": [
        "my_wider.plot(\n",
        "    style='o-',\n",
        "    xticks=my_wider.index, # x軸目盛り\n",
        "    ylabel='temperature')  # y軸ラベル"
      ],
      "id": "7yTBZQckw3br"
    },
    {
      "cell_type": "markdown",
      "source": [
        "## 3.5 1次元データの（非）類似度"
      ],
      "metadata": {
        "id": "4XLhwuHbw3br"
      },
      "id": "4XLhwuHbw3br"
    },
    {
      "cell_type": "code",
      "execution_count": null,
      "metadata": {
        "id": "QOiYHpEfw3br"
      },
      "outputs": [],
      "source": [
        "import numpy as np\n",
        "from scipy.spatial import distance\n",
        "from scipy.stats import pearsonr\n",
        "\n",
        "A = np.array([3,   4,  5])\n",
        "B = np.array([3,   4, 29])\n",
        "C = np.array([9, -18,  8])\n",
        "\n",
        "distance.euclidean(A, B)\n",
        "#> 24.0\n",
        "\n",
        "distance.euclidean(A, C)\n",
        "#> 23.0"
      ],
      "id": "QOiYHpEfw3br"
    },
    {
      "cell_type": "code",
      "execution_count": null,
      "metadata": {
        "id": "6TfrOTk0w3br"
      },
      "outputs": [],
      "source": [
        "distance.cityblock(A, B)\n",
        "#> 24\n",
        "\n",
        "distance.cityblock(A, C)\n",
        "#> 31"
      ],
      "id": "6TfrOTk0w3br"
    },
    {
      "cell_type": "code",
      "execution_count": null,
      "metadata": {
        "id": "OV1bjOiZw3br"
      },
      "outputs": [],
      "source": [
        "1 - distance.cosine(A, B)\n",
        "#> 0.8169678632647616\n",
        "\n",
        "1 - distance.cosine(A, C)\n",
        "#> -0.032651157422416865"
      ],
      "id": "OV1bjOiZw3br"
    },
    {
      "cell_type": "code",
      "execution_count": null,
      "metadata": {
        "id": "89bU_9qww3bs"
      },
      "outputs": [],
      "source": [
        "1 - distance.correlation(A, B)\n",
        "# あるいは\n",
        "pearsonr(A, B)[0]\n",
        "#> 0.8824975032927698\n",
        "\n",
        "1 - distance.correlation(A, C)\n",
        "# あるいは\n",
        "pearsonr(A, C)[0]\n",
        "#> -0.032662766723200676"
      ],
      "id": "89bU_9qww3bs"
    },
    {
      "cell_type": "code",
      "execution_count": null,
      "metadata": {
        "id": "g05PGooVw3bs"
      },
      "outputs": [],
      "source": [
        "# 小数点以下は3桁表示\n",
        "np.set_printoptions(precision=3)\n",
        "import pandas as pd\n",
        "\n",
        "my_df = pd.DataFrame({\n",
        "    'x': [3,  3,   9],\n",
        "    'y': [4,  4, -18],\n",
        "    'z': [5, 29,   8]},\n",
        "    index=['A', 'B', 'C'])\n",
        "\n",
        "# ユークリッド距離\n",
        "distance.cdist(my_df, my_df,\n",
        "               metric='euclidean')\n",
        "#> array([[ 0., 24., 23.],\n",
        "#>        [24.,  0., 31.],\n",
        "#>        [23., 31.,  0.]])\n",
        "\n",
        "# マンハッタン距離\n",
        "distance.cdist(my_df, my_df,\n",
        "               metric='cityblock')\n",
        "#> array([[ 0., 24., 31.],\n",
        "#>        [24.,  0., 49.],\n",
        "#>        [31., 49.,  0.]])\n",
        "\n",
        "# コサイン類似度\n",
        "1 - distance.cdist(my_df, my_df,\n",
        "    metric='cosine')\n",
        "#> array([[ 1.   ,  0.817, -0.033],\n",
        "#>        [ 0.817,  1.   ,  0.293],\n",
        "#>        [-0.033,  0.293,  1.   ]])\n",
        "\n",
        "# 相関係数\n",
        "1 - distance.cdist(my_df, my_df,\n",
        "    metric='correlation')\n",
        "#> array([[ 1.   ,  0.882, -0.033],\n",
        "#>        [ 0.882,  1.   ,  0.441],\n",
        "#>        [-0.033,  0.441,  1.   ]])"
      ],
      "id": "g05PGooVw3bs"
    },
    {
      "cell_type": "markdown",
      "source": [
        "## 3.6 Rのパッケージ，Pythonのモジュール"
      ],
      "metadata": {
        "id": "4XzVk5Lzw3bs"
      },
      "id": "4XzVk5Lzw3bs"
    },
    {
      "cell_type": "code",
      "execution_count": null,
      "metadata": {
        "id": "gMckR33_w3bs"
      },
      "outputs": [],
      "source": [
        "import math\n",
        "import numpy as np\n",
        "import pandas as pd"
      ],
      "id": "gMckR33_w3bs"
    },
    {
      "cell_type": "code",
      "execution_count": null,
      "metadata": {
        "id": "cwLq8lItw3bs"
      },
      "outputs": [],
      "source": [
        "import numpy\n",
        "numpy.array([1, 2, 3, 4])"
      ],
      "id": "cwLq8lItw3bs"
    },
    {
      "cell_type": "code",
      "execution_count": null,
      "metadata": {
        "id": "YcMVoVVgw3bs"
      },
      "outputs": [],
      "source": [
        "import numpy as np\n",
        "np.array([1, 2, 3, 4])"
      ],
      "id": "YcMVoVVgw3bs"
    },
    {
      "cell_type": "code",
      "execution_count": null,
      "metadata": {
        "id": "izyYyLtyw3bs"
      },
      "outputs": [],
      "source": [
        "from numpy import array\n",
        "array([1, 2, 3, 4])"
      ],
      "id": "izyYyLtyw3bs"
    },
    {
      "cell_type": "code",
      "execution_count": null,
      "metadata": {
        "id": "eT0ViJriw3bs"
      },
      "outputs": [],
      "source": [
        "from numpy import *\n",
        "array([1, 2, 3, 4])"
      ],
      "id": "eT0ViJriw3bs"
    },
    {
      "cell_type": "markdown",
      "source": [
        "## 3.7 反復処理"
      ],
      "metadata": {
        "id": "0obWGlu0w3bt"
      },
      "id": "0obWGlu0w3bt"
    },
    {
      "cell_type": "code",
      "execution_count": null,
      "metadata": {
        "id": "c_JAw9xHw3bt"
      },
      "outputs": [],
      "source": [
        "import numpy as np\n",
        "import pandas as pd"
      ],
      "id": "c_JAw9xHw3bt"
    },
    {
      "cell_type": "code",
      "execution_count": null,
      "metadata": {
        "id": "nHE-JGuVw3bt"
      },
      "outputs": [],
      "source": [
        "def f1(x):\n",
        "    tmp = np.random.random(x)\n",
        "    return np.mean(tmp)\n",
        "\n",
        "f1(10)                # 動作確認\n",
        "#> 0.5427033207230424 # 結果の例"
      ],
      "id": "nHE-JGuVw3bt"
    },
    {
      "cell_type": "code",
      "execution_count": null,
      "metadata": {
        "id": "gYWYwMWIw3bt"
      },
      "outputs": [],
      "source": [
        "[f1(10) for i in range(3)]\n",
        "#> [0.4864425069985622,\n",
        "#>  0.4290935578857099,\n",
        "#>  0.535206509631883]"
      ],
      "id": "gYWYwMWIw3bt"
    },
    {
      "cell_type": "code",
      "execution_count": null,
      "metadata": {
        "id": "Ykzzrl7Kw3bt"
      },
      "outputs": [],
      "source": [
        "[f1(10)] * 3\n",
        "#> [0.43725641184595576,\n",
        "#>  0.43725641184595576,\n",
        "#>  0.43725641184595576]"
      ],
      "id": "Ykzzrl7Kw3bt"
    },
    {
      "cell_type": "code",
      "execution_count": null,
      "metadata": {
        "id": "SM3eXTrcw3bt"
      },
      "outputs": [],
      "source": [
        "v = [5, 10, 100]\n",
        "[f1(x) for x in v] # 方法1\n",
        "#> [0.454, 0.419, 0.552]\n",
        "\n",
        "# あるいは\n",
        "\n",
        "v = pd.Series([5, 10, 100])\n",
        "v.apply(f1)        # 方法2\n",
        "#> 0    0.394206\n",
        "#> 1    0.503949\n",
        "#> 2    0.532698\n",
        "#> dtype: float64"
      ],
      "id": "SM3eXTrcw3bt"
    },
    {
      "cell_type": "code",
      "execution_count": null,
      "metadata": {
        "id": "YDzMnFV3w3bt"
      },
      "outputs": [],
      "source": [
        "pd.Series([10] * 3).apply(f1)\n",
        "# 結果は割愛"
      ],
      "id": "YDzMnFV3w3bt"
    },
    {
      "cell_type": "code",
      "execution_count": null,
      "metadata": {
        "id": "MgbjhSi_w3bt"
      },
      "outputs": [],
      "source": [
        "def f2(n):\n",
        "    tmp = np.random.random(n)\n",
        "    return pd.Series([\n",
        "        n,\n",
        "        tmp.mean(),\n",
        "        tmp.std(ddof=1)],\n",
        "        index=['x', 'p', 'q'])\n",
        "\n",
        "f2(10) # 動作確認\n",
        "#> x    10.000000\n",
        "#> p     0.405898 （平均の例）\n",
        "#> q     0.317374 （標準偏差の例）\n",
        "#> dtype: float64"
      ],
      "id": "MgbjhSi_w3bt"
    },
    {
      "cell_type": "code",
      "execution_count": null,
      "metadata": {
        "id": "yb4xgTOJw3bu"
      },
      "outputs": [],
      "source": [
        "v = pd.Series([5, 10, 100])\n",
        "v.apply(f2)\n",
        "#>        x         p         q\n",
        "#> 0    5.0  0.507798  0.207970\n",
        "#> 1   10.0  0.687198  0.264427\n",
        "#> 2  100.0  0.487872  0.280743"
      ],
      "id": "yb4xgTOJw3bu"
    },
    {
      "cell_type": "code",
      "execution_count": null,
      "metadata": {
        "id": "FTZqP8Qjw3bu"
      },
      "outputs": [],
      "source": [
        "def f3(x, y):\n",
        "    tmp = np.random.random(x) * y\n",
        "    return pd.Series([\n",
        "        x,\n",
        "        y,\n",
        "        tmp.mean(),\n",
        "        tmp.std(ddof=1)],\n",
        "        index=['x', 'y', 'p', 'q'])\n",
        "\n",
        "f3(10, 6) # 動作確認\n",
        "#> x    10.000000\n",
        "#> y     6.000000\n",
        "#> p     2.136413 （平均の例）\n",
        "#> q     1.798755 （標準偏差の例）\n",
        "#> dtype: float64"
      ],
      "id": "FTZqP8Qjw3bu"
    },
    {
      "cell_type": "code",
      "execution_count": null,
      "metadata": {
        "id": "NB0svJ7Sw3bw"
      },
      "outputs": [],
      "source": [
        "my_df = pd.DataFrame({\n",
        "    'x': [5, 10, 100,  5, 10, 100],\n",
        "    'y': [6,  6,   6, 12, 12,  12]})\n",
        "\n",
        "my_df.apply(\n",
        "  lambda row: f3(row['x'], row['y']),\n",
        "  axis=1)\n",
        "# あるいは\n",
        "my_df.apply(lambda row:\n",
        "            f3(*row), axis=1)\n",
        "\n",
        "#>        x     y    p    q\n",
        "#> 0   5.00  6.00 3.37 1.96\n",
        "#> 1  10.00  6.00 1.92 0.95\n",
        "#> 2 100.00  6.00 2.90 1.73\n",
        "#> 3   5.00 12.00 6.82 3.00\n",
        "#> 4  10.00 12.00 7.05 2.42\n",
        "#> 5 100.00 12.00 5.90 3.54"
      ],
      "id": "NB0svJ7Sw3bw"
    },
    {
      "cell_type": "code",
      "execution_count": null,
      "metadata": {
        "id": "NKkbc0eow3bw"
      },
      "outputs": [],
      "source": [
        "from pandarallel import pandarallel\n",
        "pandarallel.initialize() # 準備\n",
        "\n",
        "v = pd.Series([5, 10, 100])\n",
        "v.parallel_apply(f1)\n",
        "# 結果は割愛"
      ],
      "id": "NKkbc0eow3bw"
    },
    {
      "cell_type": "markdown",
      "source": [
        "## 3.8 その他"
      ],
      "metadata": {
        "id": "WzhOuAFdw3bw"
      },
      "id": "WzhOuAFdw3bw"
    },
    {
      "cell_type": "code",
      "execution_count": null,
      "metadata": {
        "id": "QB38PczHw3bx"
      },
      "outputs": [],
      "source": [
        "x = 123\n",
        "type(x)\n",
        "#> int"
      ],
      "id": "QB38PczHw3bx"
    },
    {
      "cell_type": "code",
      "execution_count": null,
      "metadata": {
        "id": "50Oyu2rJw3bx"
      },
      "outputs": [],
      "source": [
        "%whos\n",
        "#> Variable   Type      Data/Info\n",
        "#> ------------------------------\n",
        "#> x          int       123"
      ],
      "id": "50Oyu2rJw3bx"
    },
    {
      "cell_type": "code",
      "execution_count": null,
      "metadata": {
        "id": "rRzbq6RHw3bx"
      },
      "outputs": [],
      "source": [
        "import math\n",
        "?math.log\n",
        "# あるいは\n",
        "help(math.log)"
      ],
      "id": "rRzbq6RHw3bx"
    },
    {
      "cell_type": "code",
      "execution_count": null,
      "metadata": {
        "id": "eH8NT07bw3bx"
      },
      "outputs": [],
      "source": [
        "import numpy as np\n",
        "v = [1, np.nan, 3]\n",
        "v\n",
        "#> [1, nan, 3]"
      ],
      "id": "eH8NT07bw3bx"
    },
    {
      "cell_type": "code",
      "execution_count": null,
      "metadata": {
        "id": "DMC8GLtXw3bx"
      },
      "outputs": [],
      "source": [
        "np.isnan(v[1])\n",
        "#> True\n",
        "\n",
        "v[1] == np.nan # 誤り\n",
        "#> False"
      ],
      "id": "DMC8GLtXw3bx"
    },
    {
      "cell_type": "markdown",
      "source": [
        "# 4 統計入門\n",
        "\n",
        "\n"
      ],
      "metadata": {
        "id": "TVTJdUO_w3bx"
      },
      "id": "TVTJdUO_w3bx"
    },
    {
      "cell_type": "markdown",
      "source": [
        "## 4.1 記述統計"
      ],
      "metadata": {
        "id": "0JSJiENWw3bx"
      },
      "id": "0JSJiENWw3bx"
    },
    {
      "cell_type": "code",
      "execution_count": null,
      "metadata": {
        "id": "VIbu0DbNw3bx"
      },
      "outputs": [],
      "source": [
        "import numpy as np\n",
        "import pandas as pd\n",
        "\n",
        "x = [165, 170, 175, 180, 185]\n",
        "np.mean(x) # リストの場合\n",
        "#> 175.0\n",
        "\n",
        "x = np.array( # アレイ\n",
        "    [165, 170, 175, 180, 185])\n",
        "x.mean() # np.mean(x)も可\n",
        "#> 175.0\n",
        "\n",
        "x = pd.Series( # シリーズ\n",
        "    [165, 170, 175, 180, 185])\n",
        "x.mean() # np.mean(x)も可\n",
        "#> 175.0"
      ],
      "id": "VIbu0DbNw3bx"
    },
    {
      "cell_type": "code",
      "execution_count": null,
      "metadata": {
        "id": "aO68WIhTw3by"
      },
      "outputs": [],
      "source": [
        "n = len(x) # サンプルサイズ\n",
        "sum(x) / n\n",
        "#> 175.0"
      ],
      "id": "aO68WIhTw3by"
    },
    {
      "cell_type": "code",
      "execution_count": null,
      "metadata": {
        "id": "AgLKwB0jw3by"
      },
      "outputs": [],
      "source": [
        "y = [173, 174, 175, 176, 177]\n",
        "np.mean(y)\n",
        "#> 175.0"
      ],
      "id": "AgLKwB0jw3by"
    },
    {
      "cell_type": "code",
      "execution_count": null,
      "metadata": {
        "id": "SS43UDyOw3by"
      },
      "outputs": [],
      "source": [
        "np.var(x, ddof=1) # xの分散\n",
        "#> 62.5\n",
        "\n",
        "np.var(y, ddof=1) # yの分散\n",
        "#> 2.5"
      ],
      "id": "SS43UDyOw3by"
    },
    {
      "cell_type": "code",
      "execution_count": null,
      "metadata": {
        "id": "s261ck8Xw3by"
      },
      "outputs": [],
      "source": [
        "sum((x - np.mean(x))**2) / (n - 1)\n",
        "#> 62.5"
      ],
      "id": "s261ck8Xw3by"
    },
    {
      "cell_type": "code",
      "execution_count": null,
      "metadata": {
        "id": "7laDSmQmw3by"
      },
      "outputs": [],
      "source": [
        "np.std(x, ddof=1) # xの標準偏差\n",
        "#> 7.905694150420948\n",
        "\n",
        "np.std(y, ddof=1) # yの標準偏差\n",
        "#> 1.5811388300841898"
      ],
      "id": "7laDSmQmw3by"
    },
    {
      "cell_type": "code",
      "execution_count": null,
      "metadata": {
        "id": "tdLrbZ9Mw3by"
      },
      "outputs": [],
      "source": [
        "np.var(x, ddof=1)**0.5 # xの標準偏差\n",
        "#> 7.905694150420948"
      ],
      "id": "tdLrbZ9Mw3by"
    },
    {
      "cell_type": "code",
      "execution_count": null,
      "metadata": {
        "id": "TBcWJDHjw3by"
      },
      "outputs": [],
      "source": [
        "s = pd.Series(x)\n",
        "s.describe()\n",
        "#> count      5.000000 （データ数）\n",
        "#> mean     175.000000 （平均）\n",
        "#> std        7.905694 （標準偏差）\n",
        "#> min      165.000000 （最小値）\n",
        "#> 25%      170.000000 （第1四分位数）\n",
        "#> 50%      175.000000 （中央値）\n",
        "#> 75%      180.000000 （第3四分位数）\n",
        "#> max      185.000000 （最大値）\n",
        "#> dtype: float64"
      ],
      "id": "TBcWJDHjw3by"
    },
    {
      "cell_type": "code",
      "execution_count": null,
      "metadata": {
        "id": "V_s4bSQ3w3bz"
      },
      "outputs": [],
      "source": [
        "# s.describe()で計算済み"
      ],
      "id": "V_s4bSQ3w3bz"
    },
    {
      "cell_type": "code",
      "execution_count": null,
      "metadata": {
        "id": "SRI0z3i3w3bz"
      },
      "outputs": [],
      "source": [
        "x = [165, 170, 175, 180, 185]\n",
        "\n",
        "np.var(x, ddof=1) # 不偏分散\n",
        "#> 62.5\n",
        "\n",
        "np.var(x, ddof=0) # 標本分散\n",
        "#> 50.0"
      ],
      "id": "SRI0z3i3w3bz"
    },
    {
      "cell_type": "code",
      "execution_count": null,
      "metadata": {
        "id": "sv1FooPZw3bz"
      },
      "outputs": [],
      "source": [
        "np.std(x, ddof=1) # √不偏分散\n",
        "#> 7.905694150420949\n",
        "\n",
        "np.std(x, ddof=0) # √標本分散\n",
        "#> 7.0710678118654755"
      ],
      "id": "sv1FooPZw3bz"
    },
    {
      "cell_type": "code",
      "execution_count": null,
      "metadata": {
        "id": "DnIV5RRfw3bz"
      },
      "outputs": [],
      "source": [
        "np.std(x, ddof=1) / len(x)**0.5\n",
        "#> 3.5355339059327373"
      ],
      "id": "DnIV5RRfw3bz"
    },
    {
      "cell_type": "code",
      "execution_count": null,
      "metadata": {
        "id": "BP15XUS1w3bz"
      },
      "outputs": [],
      "source": [
        "import numpy as np\n",
        "import pandas as pd\n",
        "\n",
        "my_df = pd.DataFrame({\n",
        "    'name':    ['A', 'B', 'C', 'D'],\n",
        "    'english': [ 60,  90,  70,  90],\n",
        "    'math':    [ 70,  80,  90, 100],\n",
        "    'gender':  ['f', 'm', 'm', 'f']})"
      ],
      "id": "BP15XUS1w3bz"
    },
    {
      "cell_type": "code",
      "execution_count": null,
      "metadata": {
        "id": "LplLQ5w1w3bz"
      },
      "outputs": [],
      "source": [
        "my_df['english'].var(ddof=1)\n",
        "# あるいは\n",
        "np.var(my_df['english'], ddof=1)\n",
        "\n",
        "#> 225.0"
      ],
      "id": "LplLQ5w1w3bz"
    },
    {
      "cell_type": "code",
      "execution_count": null,
      "metadata": {
        "id": "FaYBSdn_w3bz"
      },
      "outputs": [],
      "source": [
        "my_df.var()\n",
        "# あるいは\n",
        "my_df.apply('var')\n",
        "# あるいは\n",
        "my_df.iloc[:, [1, 2]].apply(\n",
        "    lambda x: np.var(x, ddof=1))\n",
        "\n",
        "#> english    225.000000\n",
        "#> math       166.666667\n",
        "#> dtype: float64"
      ],
      "id": "FaYBSdn_w3bz"
    },
    {
      "cell_type": "code",
      "execution_count": null,
      "metadata": {
        "id": "5hzOqtrZw3bz"
      },
      "outputs": [],
      "source": [
        "my_df.describe()\n",
        "#>        english        math\n",
        "#> count      4.0    4.000000\n",
        "#> mean      77.5   85.000000\n",
        "#> std       15.0   12.909944\n",
        "#> min       60.0   70.000000\n",
        "#> 25%       67.5   77.500000\n",
        "#> 50%       80.0   85.000000\n",
        "#> 75%       90.0   92.500000\n",
        "#> max       90.0  100.000000"
      ],
      "id": "5hzOqtrZw3bz"
    },
    {
      "cell_type": "code",
      "execution_count": null,
      "metadata": {
        "id": "YaxRim4Uw3bz"
      },
      "outputs": [],
      "source": [
        "from collections import Counter\n",
        "Counter(my_df.gender)\n",
        "#> Counter({'f': 2, 'm': 2})\n",
        "\n",
        "# あるいは\n",
        "\n",
        "my_df.groupby('gender').apply(len)\n",
        "#> gender\n",
        "#> f    2\n",
        "#> m    2\n",
        "#> dtype: int64"
      ],
      "id": "YaxRim4Uw3bz"
    },
    {
      "cell_type": "code",
      "execution_count": null,
      "metadata": {
        "id": "ip_fJYguw3b0"
      },
      "outputs": [],
      "source": [
        "my_df2 = my_df.assign(\n",
        "    excel=my_df.math >= 80)\n",
        "pd.crosstab(my_df2.gender,\n",
        "            my_df2.excel)\n",
        "#> excel   False  True\n",
        "#> gender\n",
        "#> f           1      1\n",
        "#> m           0      2"
      ],
      "id": "ip_fJYguw3b0"
    },
    {
      "cell_type": "code",
      "execution_count": null,
      "metadata": {
        "id": "HKYKmafmw3b0"
      },
      "outputs": [],
      "source": [
        "my_df.groupby('gender').mean()\n",
        "# あるいは\n",
        "my_df.groupby('gender').agg('mean')\n",
        "# あるいは\n",
        "my_df.groupby('gender').agg(np.mean)\n",
        "\n",
        "#>         english  math\n",
        "#> gender\n",
        "#> f          75.0  85.0\n",
        "#> m          80.0  85.0"
      ],
      "id": "HKYKmafmw3b0"
    },
    {
      "cell_type": "markdown",
      "source": [
        "## 4.2 データの可視化"
      ],
      "metadata": {
        "id": "Fje7A6HQw3b0"
      },
      "id": "Fje7A6HQw3b0"
    },
    {
      "cell_type": "code",
      "execution_count": null,
      "metadata": {
        "id": "Dngj10svw3b0"
      },
      "outputs": [],
      "source": [
        "import numpy as np\n",
        "import pandas as pd\n",
        "import statsmodels.api as sm\n",
        "iris = sm.datasets.get_rdataset('iris', 'datasets').data\n",
        "iris.head()\n",
        "#>    Sepal.Length  Sepal.Width  Petal.Length  Petal.Width Species\n",
        "#> 0           5.1          3.5           1.4          0.2  setosa\n",
        "#> 1           4.9          3.0           1.4          0.2  setosa\n",
        "#> 2           4.7          3.2           1.3          0.2  setosa\n",
        "#> 3           4.6          3.1           1.5          0.2  setosa\n",
        "#> 4           5.0          3.6           1.4          0.2  setosa"
      ],
      "id": "Dngj10svw3b0"
    },
    {
      "cell_type": "code",
      "execution_count": null,
      "metadata": {
        "id": "5eqL-Kfgw3b0"
      },
      "outputs": [],
      "source": [
        "iris.hist('Sepal.Length')"
      ],
      "id": "5eqL-Kfgw3b0"
    },
    {
      "cell_type": "code",
      "execution_count": null,
      "metadata": {
        "id": "0EX3H2Paw3b0"
      },
      "outputs": [],
      "source": [
        "my_df = pd.DataFrame(\n",
        "    {'x': [10, 20, 30]})\n",
        "my_df.hist('x', bins=2) # 階級数は2"
      ],
      "id": "0EX3H2Paw3b0"
    },
    {
      "cell_type": "code",
      "execution_count": null,
      "metadata": {
        "id": "gdrZuTnSw3b0"
      },
      "outputs": [],
      "source": [
        "x = iris['Sepal.Length']\n",
        "tmp = np.linspace(min(x), max(x), 10)\n",
        "iris.hist('Sepal.Length',\n",
        "          bins=tmp.round(2))"
      ],
      "id": "gdrZuTnSw3b0"
    },
    {
      "cell_type": "code",
      "execution_count": null,
      "metadata": {
        "id": "BuB9PuElw3b1"
      },
      "outputs": [],
      "source": [
        "iris.plot('Sepal.Length',\n",
        "          'Sepal.Width',\n",
        "          kind='scatter')"
      ],
      "id": "BuB9PuElw3b1"
    },
    {
      "cell_type": "code",
      "execution_count": null,
      "metadata": {
        "id": "Kd85D9kNw3b1"
      },
      "outputs": [],
      "source": [
        "iris.boxplot()"
      ],
      "id": "Kd85D9kNw3b1"
    },
    {
      "cell_type": "code",
      "execution_count": null,
      "metadata": {
        "id": "B0zBXUk6w3b1"
      },
      "outputs": [],
      "source": [
        "pd.options.display.float_format = (\n",
        "    '{:.2f}'.format)\n",
        "my_df = (iris.describe().transpose()\n",
        "    [['mean', 'std']])\n",
        "my_df['se'] = (my_df['std'] /\n",
        "               len(iris)**0.5)\n",
        "my_df\n",
        "#>               mean  std   se\n",
        "#> Sepal.Length  5.84 0.83 0.07\n",
        "#> Sepal.Width   3.06 0.44 0.04\n",
        "#> Petal.Length  3.76 1.77 0.14\n",
        "#> Petal.Width   1.20 0.76 0.06"
      ],
      "id": "B0zBXUk6w3b1"
    },
    {
      "cell_type": "code",
      "execution_count": null,
      "metadata": {
        "id": "78ZeCQpFw3b1"
      },
      "outputs": [],
      "source": [
        "my_df.plot(y='mean', kind='bar', yerr='se', capsize=10)"
      ],
      "id": "78ZeCQpFw3b1"
    },
    {
      "cell_type": "code",
      "execution_count": null,
      "metadata": {
        "id": "WO2iJYAaw3b1"
      },
      "outputs": [],
      "source": [
        "my_group = iris.groupby('Species')                    # 品種ごとに，\n",
        "my_df = my_group.agg('mean')                          # 各変数の，平均と\n",
        "my_se = my_group.agg(lambda x: x.std() / len(x)**0.5) # 標準誤差を求める．\n",
        "my_se\n",
        "#>             Sepal.Length  Sepal.Width  Petal.Length  Petal.Width\n",
        "#> Species\n",
        "#> setosa              0.05         0.05          0.02         0.01\n",
        "#> versicolor          0.07         0.04          0.07         0.03\n",
        "#> virginica           0.09         0.05          0.08         0.04"
      ],
      "id": "WO2iJYAaw3b1"
    },
    {
      "cell_type": "code",
      "execution_count": null,
      "metadata": {
        "id": "E6LHbPCkw3b1"
      },
      "outputs": [],
      "source": [
        "my_group.agg('mean').plot(kind='bar', yerr=my_se, capsize=5)"
      ],
      "id": "E6LHbPCkw3b1"
    },
    {
      "cell_type": "code",
      "execution_count": null,
      "metadata": {
        "id": "8ch4fGl0w3b1"
      },
      "outputs": [],
      "source": [
        "from statsmodels.graphics.mosaicplot \\\n",
        "    import mosaic\n",
        "\n",
        "my_df = pd.DataFrame({\n",
        "    'Species': iris.Species,\n",
        "    'w_Sepal': iris['Sepal.Width'] > 3})\n",
        "\n",
        "my_table = pd.crosstab( # 分割表\n",
        "    my_df['Species'],\n",
        "    my_df['w_Sepal'])\n",
        "my_table\n",
        "#> w_Sepal     False  True\n",
        "#> Species\n",
        "#> setosa          8     42\n",
        "#> versicolor     42      8\n",
        "#> virginica      33     17\n",
        "\n",
        "mosaic(my_df,\n",
        "       index=['Species', 'w_Sepal'])"
      ],
      "id": "8ch4fGl0w3b1"
    },
    {
      "cell_type": "code",
      "execution_count": null,
      "metadata": {
        "id": "FQvkZhqLw3b1"
      },
      "outputs": [],
      "source": [
        "my_table.columns = [str(x) for x in my_table.columns]\n",
        "my_table.index   = [str(x) for x in my_table.index]\n",
        "mosaic(my_df, index=['Species', 'w_Sepal'], labelizer=lambda k: my_table.loc[k])"
      ],
      "id": "FQvkZhqLw3b1"
    },
    {
      "cell_type": "code",
      "execution_count": null,
      "metadata": {
        "id": "MpqLZVqmw3b2"
      },
      "outputs": [],
      "source": [
        "import matplotlib.pyplot as plt\n",
        "import numpy as np\n",
        "\n",
        "x = np.linspace(-2, 2, 100)\n",
        "y = x**3 - x\n",
        "plt.plot(x, y)"
      ],
      "id": "MpqLZVqmw3b2"
    },
    {
      "cell_type": "markdown",
      "source": [
        "## 4.3 乱数"
      ],
      "metadata": {
        "id": "nuHOh0f1w3b2"
      },
      "id": "nuHOh0f1w3b2"
    },
    {
      "cell_type": "code",
      "execution_count": null,
      "metadata": {
        "id": "Qmvo0hSpw3b2"
      },
      "outputs": [],
      "source": [
        "import matplotlib.pyplot as plt\n",
        "import numpy as np\n",
        "rng = np.random.default_rng()"
      ],
      "id": "Qmvo0hSpw3b2"
    },
    {
      "cell_type": "code",
      "execution_count": null,
      "metadata": {
        "id": "uEZzGFG9w3b2"
      },
      "outputs": [],
      "source": [
        "x = np.random.choice(\n",
        "    a=range(1, 7), # 1から6\n",
        "    size=10000,    # 乱数の数\n",
        "    replace=True)  # 重複あり\n",
        "# あるいは\n",
        "x = np.random.randint(\n",
        "# あるいは\n",
        "#x = rng.integers(\n",
        "    low=1,      # 最小\n",
        "    high=7,     # 最大+1\n",
        "    size=10000) # 乱数の数\n",
        "\n",
        "plt.hist(x, bins=6) # ヒストグラム"
      ],
      "id": "uEZzGFG9w3b2"
    },
    {
      "cell_type": "code",
      "execution_count": null,
      "metadata": {
        "id": "dWMcrQuLw3b2"
      },
      "outputs": [],
      "source": [
        "x = np.random.random(size=1000)\n",
        "# あるいは\n",
        "x = rng.random(size=10000)\n",
        "# あるいは\n",
        "x = np.random.uniform(\n",
        "    low=0,     # 最小\n",
        "    high=1,    # 最大\n",
        "    size=1000) # 乱数の数\n",
        "plt.hist(x)"
      ],
      "id": "dWMcrQuLw3b2"
    },
    {
      "cell_type": "code",
      "execution_count": null,
      "metadata": {
        "id": "N0hpIi9ow3b2"
      },
      "outputs": [],
      "source": [
        "tmp = np.random.uniform(\n",
        "    low=1,     # 最小\n",
        "    high=7,    # 最大 + 1\n",
        "    size=1000) # 乱数の数\n",
        "x = [int(k) for k in tmp]\n",
        "plt.hist(x, bins=6) # 結果は割愛"
      ],
      "id": "N0hpIi9ow3b2"
    },
    {
      "cell_type": "code",
      "execution_count": null,
      "metadata": {
        "id": "6r3-W-ALw3b2"
      },
      "outputs": [],
      "source": [
        "n = 100\n",
        "p = 0.5\n",
        "r = 10000\n",
        "x = np.random.binomial(\n",
        "# あるいは\n",
        "#x = rng.binomial(\n",
        "    n=n,    # 試行回数\n",
        "    p=p,    # 確率\n",
        "    size=r) # 乱数の数\n",
        "plt.hist(x, bins=max(x) - min(x))"
      ],
      "id": "6r3-W-ALw3b2"
    },
    {
      "cell_type": "code",
      "execution_count": null,
      "metadata": {
        "id": "XJQkmAVow3b3"
      },
      "outputs": [],
      "source": [
        "r = 10000\n",
        "x = np.random.normal(\n",
        "# あるいは\n",
        "#x = rng.normal(\n",
        "    loc=50,  # 平均\n",
        "    scale=5, # 標準偏差\n",
        "    size=r)  # 乱数の数\n",
        "plt.hist(x, bins=40)"
      ],
      "id": "XJQkmAVow3b3"
    },
    {
      "cell_type": "code",
      "execution_count": null,
      "metadata": {
        "id": "lwCVsXicw3b3"
      },
      "outputs": [],
      "source": [
        "import numpy as np\n",
        "import pandas as pd\n",
        "\n",
        "def f(k):\n",
        "    n = 10000\n",
        "    tmp = [g(np.random.normal(size=k, scale=3)) for _ in range(n)]\n",
        "    return pd.Series([k,\n",
        "                      np.mean(tmp),                  # 平均\n",
        "                      np.std(tmp, ddof=1) / n**0.5], # 標準誤差\n",
        "                     index=['k', 'mean', 'se'])"
      ],
      "id": "lwCVsXicw3b3"
    },
    {
      "cell_type": "code",
      "execution_count": null,
      "metadata": {
        "id": "LR79vSTlw3b3"
      },
      "outputs": [],
      "source": [
        "def g(x):\n",
        "    return np.var(x, ddof=1)\n",
        "pd.Series([10, 20, 30]).apply(f)\n",
        "#>       k      mean        se\n",
        "#> 0  10.0  9.025140  0.042690\n",
        "#> 1  20.0  9.022280  0.029525\n",
        "#> 2  30.0  8.983166  0.023584"
      ],
      "id": "LR79vSTlw3b3"
    },
    {
      "cell_type": "code",
      "execution_count": null,
      "metadata": {
        "id": "5hwOwiBsw3b3"
      },
      "outputs": [],
      "source": [
        "def g(x):\n",
        "    return np.std(x, ddof=1)\n",
        "pd.Series([10, 20, 30]).apply(f)\n",
        "#>       k      mean        se\n",
        "#> 0  10.0  2.923114  0.006983\n",
        "#> 1  20.0  2.961450  0.004811\n",
        "#> 2  30.0  2.968328  0.003977"
      ],
      "id": "5hwOwiBsw3b3"
    },
    {
      "cell_type": "code",
      "execution_count": null,
      "metadata": {
        "id": "eYWtq2Rhw3b3"
      },
      "outputs": [],
      "source": [
        "from math import gamma\n",
        "\n",
        "def g(x):\n",
        "    n = len(x)\n",
        "    return (np.std(x, ddof=1) *\n",
        "            (np.sqrt((n - 1) / 2) *\n",
        "             gamma((n - 1) / 2) /\n",
        "             gamma(n / 2)))\n",
        "pd.Series([10, 20, 30]).apply(f)\n",
        "#>       k      mean        se\n",
        "#> 0  10.0  3.005788  0.007121\n",
        "#> 1  20.0  3.001857  0.004894\n",
        "#> 2  30.0  2.995965  0.003925"
      ],
      "id": "eYWtq2Rhw3b3"
    },
    {
      "cell_type": "markdown",
      "source": [
        "## 4.4 統計的推測"
      ],
      "metadata": {
        "id": "A3_pIyGmw3b3"
      },
      "id": "A3_pIyGmw3b3"
    },
    {
      "cell_type": "code",
      "execution_count": null,
      "metadata": {
        "id": "SQdfbt5-w3b3"
      },
      "outputs": [],
      "source": [
        "from statsmodels.stats.proportion import binom_test, proportion_confint\n",
        "\n",
        "binom_test(count=2,                 # 当たった回数\n",
        "           nobs=15,                 # くじを引いた回数\n",
        "           prop=4 / 10,             # 当たる確率（仮説）\n",
        "           alternative='two-sided') # 両側検定（デフォルト）\n",
        "                                    # 左片側検定なら'smaller'\n",
        "                                    # 右片側検定なら'larger'\n",
        "#> 0.03646166155263999"
      ],
      "id": "SQdfbt5-w3b3"
    },
    {
      "cell_type": "code",
      "execution_count": null,
      "metadata": {
        "id": "mHIMO_-Ww3b3"
      },
      "outputs": [],
      "source": [
        "import numpy as np\n",
        "import pandas as pd\n",
        "from scipy import stats\n",
        "\n",
        "t = 4 / 10                        # 当たる確率\n",
        "n = 15                            # くじを引いた回数\n",
        "x = np.array(range(0, n + 1))     # 当たった回数\n",
        "my_pr  = stats.binom.pmf(x, n, t) # x回当たる確率\n",
        "my_pr2 = stats.binom.pmf(2, n, t) # 2回当たる確率\n",
        "\n",
        "my_data = pd.DataFrame({'x': x, 'y1': my_pr, 'y2': my_pr})\n",
        "my_data.loc[my_pr >  my_pr2, 'y1'] = np.nan # 当たる確率が，2回当たる確率超過\n",
        "my_data.loc[my_pr <= my_pr2, 'y2'] = np.nan # 当たる確率が，2回当たる確率以下\n",
        "ax = my_data.plot(x='x', style='o', ylabel='probability',\n",
        "                  legend=False)         # 凡例を表示しない．\n",
        "ax.hlines(y=my_pr2, xmin=0, xmax=15)    # 水平線\n",
        "ax.vlines(x=x,      ymin=0, ymax=my_pr) # 垂直線"
      ],
      "id": "mHIMO_-Ww3b3"
    },
    {
      "cell_type": "code",
      "execution_count": null,
      "metadata": {
        "id": "3_eEiJLow3b3"
      },
      "outputs": [],
      "source": [
        "a = 0.05\n",
        "proportion_confint(\n",
        "    count=2, # 当たった回数\n",
        "    nobs=15, # くじを引いた回数\n",
        "    alpha=a, # 有意水準（省略可）\n",
        "    method='binom_test')\n",
        "#> (0.024225732468536626,\n",
        "#>  0.3967139842509865)"
      ],
      "id": "3_eEiJLow3b3"
    },
    {
      "cell_type": "code",
      "execution_count": null,
      "metadata": {
        "id": "4O0GHjOPw3b4"
      },
      "outputs": [],
      "source": [
        "a = 0.05 # 有意水準\n",
        "tmp = np.linspace(0, 1, 100)\n",
        "\n",
        "my_df = pd.DataFrame({\n",
        "    't': tmp,                                                  # 当たる確率\n",
        "    'q': a,                                                    # 水平線\n",
        "    'p': [binom_test(count=2, nobs=15, prop=t) for t in tmp]}) # p値\n",
        "\n",
        "my_df.plot(x='t', legend=None, xlabel=r'$\\theta$', ylabel=r'p-value')"
      ],
      "id": "4O0GHjOPw3b4"
    },
    {
      "cell_type": "code",
      "execution_count": null,
      "metadata": {
        "id": "yckq7W_pw3b4"
      },
      "outputs": [],
      "source": [
        "from statsmodels.stats.weightstats import CompareMeans, DescrStatsW\n",
        "\n",
        "X = [32.1, 26.2, 27.5, 31.8, 32.1, 31.2, 30.1, 32.4, 32.3, 29.9,\n",
        "     29.6, 26.6, 31.2, 30.9, 29.3]\n",
        "Y = [35.4, 34.6, 31.1, 32.4, 33.3, 34.7, 35.3, 34.3, 32.1, 28.3,\n",
        "     33.3, 30.5, 32.6, 33.3, 32.2]\n",
        "\n",
        "a = 0.05          # 有意水準（デフォルト） = 1 - 信頼係数\n",
        "alt = 'two-sided' # 両側検定（デフォルト）\n",
        "                  # 左片側検定なら'smaller'\n",
        "                  # 右片側検定なら'larger'\n",
        "\n",
        "d = DescrStatsW(np.array(X) - np.array(Y)) # 対標本の場合\n",
        "d.ttest_mean(alternative=alt)[1]           # p値\n",
        "#> 0.0006415571512322235\n",
        "\n",
        "d.tconfint_mean(alpha=a, alternative=alt) # 信頼区間\n",
        "#> (-3.9955246743198867, -1.3644753256801117)"
      ],
      "id": "yckq7W_pw3b4"
    },
    {
      "cell_type": "code",
      "execution_count": null,
      "metadata": {
        "id": "39szm5Oew3b4"
      },
      "outputs": [],
      "source": [
        "c = CompareMeans(DescrStatsW(X), DescrStatsW(Y)) # 対標本でない場合\n",
        "\n",
        "ve = 'pooled' # 等分散を仮定する（デフォルト）．仮定しないなら'unequal'．\n",
        "c.ttest_ind(alternative=alt, usevar=ve)[1] # p値\n",
        "#> 0.000978530937238609\n",
        "\n",
        "c.tconfint_diff(alpha=a, alternative=alt, usevar=ve) # 信頼区間\n",
        "#> (-4.170905570517185, -1.1890944294828283)"
      ],
      "id": "39szm5Oew3b4"
    },
    {
      "cell_type": "code",
      "execution_count": null,
      "metadata": {
        "id": "hJ6-Mm4Yw3b4"
      },
      "outputs": [],
      "source": [
        "import pandas as pd\n",
        "my_url = ('https://raw.githubusercontent.com/taroyabuki'\n",
        "          '/fromzero/master/data/smoker.csv')\n",
        "my_data = pd.read_csv(my_url)"
      ],
      "id": "hJ6-Mm4Yw3b4"
    },
    {
      "cell_type": "code",
      "execution_count": null,
      "metadata": {
        "id": "xMJx3Nnuw3b6"
      },
      "outputs": [],
      "source": [
        "my_data.head()\n",
        "#>   alive smoker\n",
        "#> 0   Yes     No\n",
        "#> 1   Yes     No\n",
        "#> 2   Yes     No\n",
        "#> 3   Yes     No\n",
        "#> 4   Yes     No"
      ],
      "id": "xMJx3Nnuw3b6"
    },
    {
      "cell_type": "code",
      "execution_count": null,
      "metadata": {
        "id": "4e969tRSw3b6"
      },
      "outputs": [],
      "source": [
        "my_table = pd.crosstab(\n",
        "    my_data['alive'],\n",
        "    my_data['smoker'])\n",
        "my_table\n",
        "#> smoker   No  Yes\n",
        "#> alive\n",
        "#> No      117   54\n",
        "#> Yes     950  348"
      ],
      "id": "4e969tRSw3b6"
    },
    {
      "cell_type": "code",
      "execution_count": null,
      "metadata": {
        "id": "Fw2xwkSxw3b6"
      },
      "outputs": [],
      "source": [
        "from scipy.stats import chi2_contingency\n",
        "chi2_contingency(my_table, correction=False)[1]\n",
        "#> 0.18860725715300422"
      ],
      "id": "Fw2xwkSxw3b6"
    },
    {
      "cell_type": "code",
      "execution_count": null,
      "metadata": {
        "id": "P-D_LkxPw3b6"
      },
      "outputs": [],
      "source": [
        "X = [0] * 13 + [1] * 2 # 手順1\n",
        "X\n",
        "#> [0, 0, 0, 0, 0, 0, 0, 0, 0, 0, 0, 0, 0, 1, 1]\n",
        "\n",
        "tmp = np.random.choice(X, 15, replace=True) # 手順2\n",
        "tmp\n",
        "#> array([0, 0, 0, 0, 0, 0, 0, 1, 0, 0, 0, 0, 1, 0, 0])\n",
        "\n",
        "sum(tmp) # 手順3\n",
        "#> 2\n",
        "\n",
        "n = 10**5\n",
        "result = [sum(np.random.choice(X, len(X), replace=True)) for _ in range(n)] # 手順4"
      ],
      "id": "P-D_LkxPw3b6"
    },
    {
      "cell_type": "code",
      "execution_count": null,
      "metadata": {
        "id": "5jBF1x2Iw3b6"
      },
      "outputs": [],
      "source": [
        "import matplotlib.pyplot as plt\n",
        "plt.hist(result, bins=range(0, 16))"
      ],
      "id": "5jBF1x2Iw3b6"
    },
    {
      "cell_type": "code",
      "execution_count": null,
      "metadata": {
        "id": "DnYIGpzDw3b6"
      },
      "outputs": [],
      "source": [
        "np.quantile(result, [0.025, 0.975])\n",
        "#> array([0., 5.])"
      ],
      "id": "DnYIGpzDw3b6"
    },
    {
      "cell_type": "markdown",
      "source": [
        "# 5 前処理\n",
        "\n",
        "\n"
      ],
      "metadata": {
        "id": "tzqsGgaAw3b7"
      },
      "id": "tzqsGgaAw3b7"
    },
    {
      "cell_type": "markdown",
      "source": [
        "## 5.1 データの読み込み"
      ],
      "metadata": {
        "id": "Jy2rhb1Iw3b7"
      },
      "id": "Jy2rhb1Iw3b7"
    },
    {
      "cell_type": "code",
      "execution_count": null,
      "metadata": {
        "id": "cWaUcsWqw3b8"
      },
      "outputs": [],
      "source": [
        "!wget https://raw.githubusercontent.com/taroyabuki/fromzero/master/data/exam.csv"
      ],
      "id": "cWaUcsWqw3b8"
    },
    {
      "cell_type": "code",
      "execution_count": null,
      "metadata": {
        "id": "FWg8mX_8w3b8"
      },
      "outputs": [],
      "source": [
        "import pandas as pd\n",
        "my_df = pd.read_csv('exam.csv')\n",
        "my_df\n",
        "#>   name  english  math gender\n",
        "#> 0    A       60    70      f\n",
        "#> 1    B       90    80      m\n",
        "#> 2    C       70    90      m\n",
        "#> 3    D       90   100      f"
      ],
      "id": "FWg8mX_8w3b8"
    },
    {
      "cell_type": "code",
      "execution_count": null,
      "metadata": {
        "id": "q31Ru50kw3b8"
      },
      "outputs": [],
      "source": [
        "my_url = ('https://raw.githubusercontent.com/taroyabuki'\n",
        "          '/fromzero/master/data/exam.csv')\n",
        "my_df = pd.read_csv(my_url)"
      ],
      "id": "q31Ru50kw3b8"
    },
    {
      "cell_type": "code",
      "execution_count": null,
      "metadata": {
        "id": "tJ0nfzKOw3b8"
      },
      "outputs": [],
      "source": [
        "my_df2 = pd.read_csv('exam.csv',\n",
        "    index_col='name')\n",
        "my_df2\n",
        "#>       english  math gender\n",
        "#> name\n",
        "#> A          60    70      f\n",
        "#> B          90    80      m\n",
        "#> C          70    90      m\n",
        "#> D          90   100      f"
      ],
      "id": "tJ0nfzKOw3b8"
    },
    {
      "cell_type": "code",
      "execution_count": null,
      "metadata": {
        "id": "aUOfxRBrw3b8"
      },
      "outputs": [],
      "source": [
        "my_df.to_csv('exam2.csv', index=False)"
      ],
      "id": "aUOfxRBrw3b8"
    },
    {
      "cell_type": "code",
      "execution_count": null,
      "metadata": {
        "id": "qN63vxwww3b8"
      },
      "outputs": [],
      "source": [
        "my_df2.to_csv('exam3.csv')"
      ],
      "id": "qN63vxwww3b8"
    },
    {
      "cell_type": "code",
      "execution_count": null,
      "metadata": {
        "id": "L23AZgLVw3b8"
      },
      "outputs": [],
      "source": [
        "my_df = pd.read_csv('exam.csv',\n",
        "    encoding='UTF-8')"
      ],
      "id": "L23AZgLVw3b8"
    },
    {
      "cell_type": "code",
      "execution_count": null,
      "metadata": {
        "id": "fLUKgsD9w3b8"
      },
      "outputs": [],
      "source": [
        "my_df.to_csv('exam2.csv', index=False, encoding='UTF-8')"
      ],
      "id": "fLUKgsD9w3b8"
    },
    {
      "cell_type": "code",
      "execution_count": null,
      "metadata": {
        "id": "cd6rzYlLw3b8"
      },
      "outputs": [],
      "source": [
        "my_url = 'https://taroyabuki.github.io/fromzero/exam.html'\n",
        "my_tables = pd.read_html(my_url)"
      ],
      "id": "cd6rzYlLw3b8"
    },
    {
      "cell_type": "code",
      "execution_count": null,
      "metadata": {
        "id": "uGfsbfNKw3b8"
      },
      "outputs": [],
      "source": [
        "my_tables\n",
        "#> [   Unnamed: 0 name  english ...\n",
        "#>  0         NaN    A       60 ...\n",
        "#>  1         NaN    B       90 ...\n",
        "#>  2         NaN    C       70 ...\n",
        "#>  3         NaN    D       90 ...]"
      ],
      "id": "uGfsbfNKw3b8"
    },
    {
      "cell_type": "code",
      "execution_count": null,
      "metadata": {
        "id": "HA0ndY6cw3b9"
      },
      "outputs": [],
      "source": [
        "my_tables[0]\n",
        "#>    Unnamed: 0 name  english ...\n",
        "#> 0         NaN    A       60 ...\n",
        "#> 1         NaN    B       90 ...\n",
        "#> 2         NaN    C       70 ...\n",
        "#> 3         NaN    D       90 ..."
      ],
      "id": "HA0ndY6cw3b9"
    },
    {
      "cell_type": "code",
      "execution_count": null,
      "metadata": {
        "id": "tqUDjNAow3b9"
      },
      "outputs": [],
      "source": [
        "# 1列目以降を取り出す．\n",
        "my_data = my_tables[0].iloc[:, 1:]\n",
        "my_data\n",
        "#>   name  english  math gender\n",
        "#> 0    A       60    70      f\n",
        "#> 1    B       90    80      m\n",
        "#> 2    C       70    90      m\n",
        "#> 3    D       90   100      f"
      ],
      "id": "tqUDjNAow3b9"
    },
    {
      "cell_type": "code",
      "execution_count": null,
      "metadata": {
        "id": "QiyxF0hcw3b9"
      },
      "outputs": [],
      "source": [
        "my_url = ('https://raw.githubusercontent.com/taroyabuki'\n",
        "          '/fromzero/master/data/exam.json')\n",
        "my_data = pd.read_json(my_url)\n",
        "#my_data = pd.read_json('exam.json') # （ファイルを使う場合）\n",
        "my_data\n",
        "#>   name  english  math gender\n",
        "#> 0    A       60    70      f\n",
        "#> 1    B       90    80      m\n",
        "#> 2    C       70    90      m\n",
        "#> 3    D       90   100      f"
      ],
      "id": "QiyxF0hcw3b9"
    },
    {
      "cell_type": "code",
      "execution_count": null,
      "metadata": {
        "id": "mFHurfxZw3b9"
      },
      "outputs": [],
      "source": [
        "import xml.etree.ElementTree as ET\n",
        "from urllib.request import urlopen\n",
        "\n",
        "my_url = ('https://raw.githubusercontent.com/taroyabuki'\n",
        "          '/fromzero/master/data/exam.xml')\n",
        "with urlopen(my_url) as f:\n",
        "    my_tree = ET.parse(f)       # XMLデータの読み込み\n",
        "\n",
        "#my_tree = ET.parse('exam.xml') # （ファイルを使う場合）\n",
        "my_ns = '{https://www.example.net/ns/1.0}' # 名前空間"
      ],
      "id": "mFHurfxZw3b9"
    },
    {
      "cell_type": "code",
      "execution_count": null,
      "metadata": {
        "id": "1Fej5qK_w3b9"
      },
      "outputs": [],
      "source": [
        "my_records = my_tree.findall(f'.//{my_ns}record')"
      ],
      "id": "1Fej5qK_w3b9"
    },
    {
      "cell_type": "code",
      "execution_count": null,
      "metadata": {
        "id": "SpbzZxc5w3b9"
      },
      "outputs": [],
      "source": [
        "def f(record):\n",
        "    my_dic1 = record.attrib # 属性を取り出す．\n",
        "    # 子要素の名前と内容のペアを辞書にする．\n",
        "    my_dic2 = {child.tag.replace(my_ns, ''): child.text for child in list(record)}\n",
        "    return {**my_dic1, **my_dic2} # 辞書を結合する．"
      ],
      "id": "SpbzZxc5w3b9"
    },
    {
      "cell_type": "code",
      "execution_count": null,
      "metadata": {
        "id": "EeQvZ0riw3b9"
      },
      "outputs": [],
      "source": [
        "my_data = pd.DataFrame([f(record) for record in my_records])\n",
        "my_data['english'] = pd.to_numeric(my_data['english'])\n",
        "my_data['math']    = pd.to_numeric(my_data['math'])\n",
        "my_data\n",
        "#>    english  math gender name\n",
        "#> 0       60    70      f    A\n",
        "#> 1       90    80      m    B\n",
        "#> 2       70    90      m    C\n",
        "#> 3       90   100      f    D"
      ],
      "id": "EeQvZ0riw3b9"
    },
    {
      "cell_type": "markdown",
      "source": [
        "## 5.2 データの変換"
      ],
      "metadata": {
        "id": "ODslejPew3b9"
      },
      "id": "ODslejPew3b9"
    },
    {
      "cell_type": "code",
      "execution_count": null,
      "metadata": {
        "id": "_b3oyAZIw3b9"
      },
      "outputs": [],
      "source": [
        "import numpy as np\n",
        "from scipy.stats import zscore\n",
        "\n",
        "x1 = [1, 2, 3]\n",
        "\n",
        "z1 = ((x1 - np.mean(x1)) /\n",
        "      np.std(x1, ddof=1))\n",
        "# あるいは\n",
        "z1 = zscore(x1, ddof=1)\n",
        "\n",
        "z1\n",
        "#> array([-1.,  0.,  1.])"
      ],
      "id": "_b3oyAZIw3b9"
    },
    {
      "cell_type": "code",
      "execution_count": null,
      "metadata": {
        "id": "RLE7pDNBw3b9"
      },
      "outputs": [],
      "source": [
        "z1.mean(), np.std(z1, ddof=1)\n",
        "#> (0.0, 1.0)"
      ],
      "id": "RLE7pDNBw3b9"
    },
    {
      "cell_type": "code",
      "execution_count": null,
      "metadata": {
        "id": "HGJKCg9hw3b9"
      },
      "outputs": [],
      "source": [
        "z1 * np.std(x1, ddof=1) + np.mean(x1)\n",
        "#> array([1., 2., 3.])"
      ],
      "id": "HGJKCg9hw3b9"
    },
    {
      "cell_type": "code",
      "execution_count": null,
      "metadata": {
        "id": "E4hwV7W2w3b-"
      },
      "outputs": [],
      "source": [
        "x2 = [1, 3, 5]\n",
        "z2 = ((x2 - np.mean(x1)) /\n",
        "      np.std(x1, ddof=1))\n",
        "z2.mean(), np.std(z2, ddof=1)\n",
        "#> (1.0, 2.0)"
      ],
      "id": "E4hwV7W2w3b-"
    },
    {
      "cell_type": "code",
      "execution_count": null,
      "metadata": {
        "id": "t_lkueovw3b-"
      },
      "outputs": [],
      "source": [
        "import pandas as pd\n",
        "from sklearn.preprocessing import (\n",
        "    OneHotEncoder)\n",
        "\n",
        "my_df = pd.DataFrame({\n",
        "    'id':    [ 1 ,  2 ,  3 ],\n",
        "    'class': ['A', 'B', 'C']})\n",
        "\n",
        "my_enc = OneHotEncoder()\n",
        "tmp = my_enc.fit_transform(\n",
        "    my_df[['class']]).toarray()\n",
        "my_names = my_enc.get_feature_names() \\\n",
        "if hasattr(my_enc, 'get_feature_names') \\\n",
        "else my_enc.get_feature_names_out()\n",
        "pd.DataFrame(tmp, columns=my_names)\n",
        "#>    x0_A  x0_B  x0_C\n",
        "#> 0   1.0   0.0   0.0\n",
        "#> 1   0.0   1.0   0.0\n",
        "#> 2   0.0   0.0   1.0"
      ],
      "id": "t_lkueovw3b-"
    },
    {
      "cell_type": "code",
      "execution_count": null,
      "metadata": {
        "id": "E9uuSNg0w3b-"
      },
      "outputs": [],
      "source": [
        "my_df2 = pd.DataFrame({\n",
        "    'id':    [ 4 ,  5,   6 ],\n",
        "    'class': ['B', 'C', 'B']})\n",
        "tmp = my_enc.transform(\n",
        "    my_df2[['class']]).toarray()\n",
        "pd.DataFrame(tmp, columns=my_names)\n",
        "#>    x0_A  x0_B  x0_C\n",
        "#> 0   0.0   1.0   0.0\n",
        "#> 1   0.0   0.0   1.0\n",
        "#> 2   0.0   1.0   0.0"
      ],
      "id": "E9uuSNg0w3b-"
    },
    {
      "cell_type": "code",
      "execution_count": null,
      "metadata": {
        "id": "YjuJEuZqw3b-"
      },
      "outputs": [],
      "source": [
        "my_enc = OneHotEncoder(drop='first')\n",
        "\n",
        "tmp = my_enc.fit_transform(\n",
        "    my_df[['class']]).toarray()\n",
        "my_names = my_enc.get_feature_names() \\\n",
        "if hasattr(my_enc, 'get_feature_names') \\\n",
        "else my_enc.get_feature_names_out()\n",
        "pd.DataFrame(tmp, columns=my_names)\n",
        "#>    x0_B  x0_C\n",
        "#> 0   0.0   0.0\n",
        "#> 1   1.0   0.0\n",
        "#> 2   0.0   1.0\n",
        "\n",
        "tmp = my_enc.transform(\n",
        "    my_df2[['class']]).toarray()\n",
        "pd.DataFrame(tmp, columns=my_names)\n",
        "#>    x0_B  x0_C\n",
        "#> 0   1.0   0.0\n",
        "#> 1   0.0   1.0\n",
        "#> 2   1.0   0.0"
      ],
      "id": "YjuJEuZqw3b-"
    },
    {
      "cell_type": "markdown",
      "source": [
        "# 6 機械学習の目的・データ・手法\n",
        "\n",
        "\n"
      ],
      "metadata": {
        "id": "J_-bQDjUw3b-"
      },
      "id": "J_-bQDjUw3b-"
    },
    {
      "cell_type": "markdown",
      "source": [
        "## 6.1 機械学習の目的（本書の場合）\n",
        "\n",
        "\n"
      ],
      "metadata": {
        "id": "McPEOlCow3b-"
      },
      "id": "McPEOlCow3b-"
    },
    {
      "cell_type": "markdown",
      "source": [
        "## 6.2 機械学習のためのデータ"
      ],
      "metadata": {
        "id": "lAQftezLw3b-"
      },
      "id": "lAQftezLw3b-"
    },
    {
      "cell_type": "code",
      "execution_count": null,
      "metadata": {
        "id": "HE5rfQ0Iw3b-"
      },
      "outputs": [],
      "source": [
        "import statsmodels.api as sm\n",
        "iris = sm.datasets.get_rdataset('iris', 'datasets').data\n",
        "iris.head()\n",
        "#>    Sepal.Length  Sepal.Width  Petal.Length  Petal.Width Species\n",
        "#> 0           5.1          3.5           1.4          0.2  setosa\n",
        "# 以下省略"
      ],
      "id": "HE5rfQ0Iw3b-"
    },
    {
      "cell_type": "code",
      "execution_count": null,
      "metadata": {
        "id": "RFnUddmHw3b-"
      },
      "outputs": [],
      "source": [
        "import seaborn as sns\n",
        "iris = sns.load_dataset('iris')\n",
        "iris.head()\n",
        "#>    sepal_length  sepal_width  petal_length  petal_width species\n",
        "#> 0           5.1          3.5           1.4          0.2  setosa\n",
        "# 以下省略"
      ],
      "id": "RFnUddmHw3b-"
    },
    {
      "cell_type": "code",
      "execution_count": null,
      "metadata": {
        "id": "Tn_UlyTow3b-"
      },
      "outputs": [],
      "source": [
        "import pandas as pd\n",
        "from sklearn.datasets import load_iris\n",
        "tmp = load_iris()\n",
        "iris = pd.DataFrame(tmp.data, columns=tmp.feature_names)\n",
        "iris['target'] = tmp.target_names[tmp.target]\n",
        "iris.head()\n",
        "#>    sepal length (cm)  sepal width (cm)  ...  petal width (cm)  target\n",
        "#> 0                5.1               3.5  ...               0.2  setosa\n",
        "# 以下省略"
      ],
      "id": "Tn_UlyTow3b-"
    },
    {
      "cell_type": "markdown",
      "source": [
        "## 6.3 機械学習のための手法\n",
        "\n",
        "\n"
      ],
      "metadata": {
        "id": "mV7EAcu1w3b-"
      },
      "id": "mV7EAcu1w3b-"
    },
    {
      "cell_type": "markdown",
      "source": [
        "# 7 回帰1（単回帰）\n",
        "\n",
        "\n"
      ],
      "metadata": {
        "id": "2BtOFYMqw3b-"
      },
      "id": "2BtOFYMqw3b-"
    },
    {
      "cell_type": "markdown",
      "source": [
        "## 7.1 自動車の停止距離\n",
        "\n",
        "\n"
      ],
      "metadata": {
        "id": "5XK5VB89w3b_"
      },
      "id": "5XK5VB89w3b_"
    },
    {
      "cell_type": "markdown",
      "source": [
        "## 7.2 データの確認"
      ],
      "metadata": {
        "id": "AYah_I-gw3b_"
      },
      "id": "AYah_I-gw3b_"
    },
    {
      "cell_type": "code",
      "execution_count": null,
      "metadata": {
        "id": "kJpwJ3V4w3b_"
      },
      "outputs": [],
      "source": [
        "import statsmodels.api as sm\n",
        "my_data = sm.datasets.get_rdataset('cars', 'datasets').data"
      ],
      "id": "kJpwJ3V4w3b_"
    },
    {
      "cell_type": "code",
      "execution_count": null,
      "metadata": {
        "id": "Qea1ajFbw3b_"
      },
      "outputs": [],
      "source": [
        "my_data.shape\n",
        "#> (50, 2)"
      ],
      "id": "Qea1ajFbw3b_"
    },
    {
      "cell_type": "code",
      "execution_count": null,
      "metadata": {
        "id": "OzeTHmjuw3b_"
      },
      "outputs": [],
      "source": [
        "my_data.head()\n",
        "#>    speed  dist\n",
        "#> 0      4     2\n",
        "#> 1      4    10\n",
        "#> 2      7     4\n",
        "#> 3      7    22\n",
        "#> 4      8    16"
      ],
      "id": "OzeTHmjuw3b_"
    },
    {
      "cell_type": "code",
      "execution_count": null,
      "metadata": {
        "id": "FwEbTGLuw3b_"
      },
      "outputs": [],
      "source": [
        "my_data.describe()\n",
        "#>            speed        dist\n",
        "#> count  50.000000   50.000000\n",
        "#> mean   15.400000   42.980000\n",
        "#> std     5.287644   25.769377\n",
        "#> min     4.000000    2.000000\n",
        "#> 25%    12.000000   26.000000\n",
        "#> 50%    15.000000   36.000000\n",
        "#> 75%    19.000000   56.000000\n",
        "#> max    25.000000  120.000000"
      ],
      "id": "FwEbTGLuw3b_"
    },
    {
      "cell_type": "code",
      "execution_count": null,
      "metadata": {
        "id": "pWIVyUDRw3b_"
      },
      "outputs": [],
      "source": [
        "my_data.plot(x='speed', style='o')"
      ],
      "id": "pWIVyUDRw3b_"
    },
    {
      "cell_type": "markdown",
      "source": [
        "## 7.3 回帰分析"
      ],
      "metadata": {
        "id": "wRgn-ZmLw3b_"
      },
      "id": "wRgn-ZmLw3b_"
    },
    {
      "cell_type": "code",
      "execution_count": null,
      "metadata": {
        "id": "fVUDoevYw3b_"
      },
      "outputs": [],
      "source": [
        "import seaborn as sns\n",
        "import statsmodels.api as sm\n",
        "\n",
        "my_data = sm.datasets.get_rdataset('cars', 'datasets').data\n",
        "ax = sns.regplot(x='speed', y='dist', data=my_data)\n",
        "ax.vlines(x=21.5, ymin=-5, ymax=67,   linestyles='dotted')\n",
        "ax.hlines(y=67,   xmin=4,  xmax=21.5, linestyles='dotted')\n",
        "ax.set_xlim(4, 25)\n",
        "ax.set_ylim(-5, 125)"
      ],
      "id": "fVUDoevYw3b_"
    },
    {
      "cell_type": "code",
      "execution_count": null,
      "metadata": {
        "id": "REyzI-6Lw3b_"
      },
      "outputs": [],
      "source": [
        "import statsmodels.api as sm\n",
        "my_data = sm.datasets.get_rdataset('cars', 'datasets').data\n",
        "X, y = my_data[['speed']], my_data['dist']"
      ],
      "id": "REyzI-6Lw3b_"
    },
    {
      "cell_type": "code",
      "execution_count": null,
      "metadata": {
        "id": "YUwWs2oxw3cA"
      },
      "outputs": [],
      "source": [
        "# モデルの指定\n",
        "from sklearn.linear_model import LinearRegression\n",
        "my_model = LinearRegression()\n",
        "\n",
        "# 訓練（モデルをデータにフィットさせる．）\n",
        "my_model.fit(X, y)\n",
        "\n",
        "# まとめて実行してもよい．\n",
        "# my_model = LinearRegression().fit(X, y)"
      ],
      "id": "YUwWs2oxw3cA"
    },
    {
      "cell_type": "code",
      "execution_count": null,
      "metadata": {
        "id": "5CkRz6JWw3cA"
      },
      "outputs": [],
      "source": [
        "my_model.intercept_, my_model.coef_\n",
        "#> (-17.579094890510973,\n",
        "#>  array([3.93240876]))"
      ],
      "id": "5CkRz6JWw3cA"
    },
    {
      "cell_type": "code",
      "execution_count": null,
      "metadata": {
        "id": "lGw2jDLkw3cA"
      },
      "outputs": [],
      "source": [
        "tmp = [[21.5]]\n",
        "my_model.predict(tmp)\n",
        "#> array([66.96769343])"
      ],
      "id": "lGw2jDLkw3cA"
    },
    {
      "cell_type": "code",
      "execution_count": null,
      "metadata": {
        "id": "9ak4opK7w3cA"
      },
      "outputs": [],
      "source": [
        "import numpy as np\n",
        "import pandas as pd\n",
        "\n",
        "tmp = pd.DataFrame({'speed': np.linspace(min(my_data.speed),\n",
        "                                         max(my_data.speed),\n",
        "                                         100)})\n",
        "tmp['model'] = my_model.predict(tmp)"
      ],
      "id": "9ak4opK7w3cA"
    },
    {
      "cell_type": "code",
      "execution_count": null,
      "metadata": {
        "id": "7BTQ04H-w3cA"
      },
      "outputs": [],
      "source": [
        "pd.concat([my_data, tmp]).plot(\n",
        "    x='speed', style=['o', '-'])"
      ],
      "id": "7BTQ04H-w3cA"
    },
    {
      "cell_type": "markdown",
      "source": [
        "## 7.4 当てはまりの良さの指標"
      ],
      "metadata": {
        "id": "-ePpnjhBw3cA"
      },
      "id": "-ePpnjhBw3cA"
    },
    {
      "cell_type": "code",
      "execution_count": null,
      "metadata": {
        "id": "1s2EhyHYw3cA"
      },
      "outputs": [],
      "source": [
        "import pandas as pd\n",
        "import statsmodels.api as sm\n",
        "from sklearn.linear_model import LinearRegression\n",
        "from sklearn.metrics import mean_squared_error, r2_score\n",
        "\n",
        "my_data = sm.datasets.get_rdataset('cars', 'datasets').data\n",
        "X, y = my_data[['speed']], my_data['dist']\n",
        "\n",
        "my_model = LinearRegression()\n",
        "my_model.fit(X, y)\n",
        "y_ = my_model.predict(X)\n",
        "my_data['y_'] = y_"
      ],
      "id": "1s2EhyHYw3cA"
    },
    {
      "cell_type": "code",
      "execution_count": null,
      "metadata": {
        "id": "SWEsS5FRw3cA"
      },
      "outputs": [],
      "source": [
        "pd.options.display.float_format = (\n",
        "    '{:.2f}'.format)\n",
        "my_data['residual'] = y - y_\n",
        "my_data.head()\n",
        "#>    speed  dist    y_  residual\n",
        "#> 0      4     2 -1.85      3.85\n",
        "#> 1      4    10 -1.85     11.85\n",
        "#> 2      7     4  9.95     -5.95\n",
        "#> 3      7    22  9.95     12.05\n",
        "#> 4      8    16 13.88      2.12"
      ],
      "id": "SWEsS5FRw3cA"
    },
    {
      "cell_type": "code",
      "execution_count": null,
      "metadata": {
        "id": "AE5ld1jsw3cA"
      },
      "outputs": [],
      "source": [
        "ax = my_data.plot(x='speed', y='dist', style='o', legend=False)\n",
        "my_data.plot(x='speed', y='y_', style='-', legend=False, ax=ax)\n",
        "ax.vlines(x=X, ymin=y, ymax=y_, linestyles='dotted')"
      ],
      "id": "AE5ld1jsw3cA"
    },
    {
      "cell_type": "code",
      "execution_count": null,
      "metadata": {
        "id": "IUkFYGS-w3cA"
      },
      "outputs": [],
      "source": [
        "mean_squared_error(y, y_)**0.5\n",
        "# あるいは\n",
        "(my_data['residual']**2).mean()**0.5\n",
        "\n",
        "#> 15.068855995791381"
      ],
      "id": "IUkFYGS-w3cA"
    },
    {
      "cell_type": "code",
      "execution_count": null,
      "metadata": {
        "id": "A-3z-uk7w3cA"
      },
      "outputs": [],
      "source": [
        "my_model.score(X, y)\n",
        "# あるいは\n",
        "r2_score(y_true=y, y_pred=y_)\n",
        "#> 0.6510793807582509"
      ],
      "id": "A-3z-uk7w3cA"
    },
    {
      "cell_type": "code",
      "execution_count": null,
      "metadata": {
        "id": "p5rV6gDlw3cB"
      },
      "outputs": [],
      "source": [
        "import numpy as np\n",
        "np.corrcoef(y, y_)[0, 1]**2\n",
        "#> 0.6510793807582511"
      ],
      "id": "p5rV6gDlw3cB"
    },
    {
      "cell_type": "code",
      "execution_count": null,
      "metadata": {
        "id": "Jz9_QlX0w3cB"
      },
      "outputs": [],
      "source": [
        "my_test = my_data[:3]\n",
        "X = my_test[['speed']]\n",
        "y = my_test['dist']\n",
        "y_ = my_model.predict(X)\n",
        "\n",
        "my_model.score(X, y)\n",
        "# あるいは\n",
        "r2_score(y_true=y, y_pred=y_)\n",
        "#> -4.498191310376778 # 決定係数1\n",
        "\n",
        "np.corrcoef(y, y_)[0, 1]**2\n",
        "#> 0.0769230769230769 # 決定係数6"
      ],
      "id": "Jz9_QlX0w3cB"
    },
    {
      "cell_type": "code",
      "execution_count": null,
      "metadata": {
        "id": "MgHzXkEAw3cB"
      },
      "outputs": [],
      "source": [
        "import numpy as np\n",
        "import pandas as pd\n",
        "import statsmodels.api as sm\n",
        "from sklearn.linear_model import LinearRegression\n",
        "from sklearn.preprocessing import PolynomialFeatures\n",
        "\n",
        "my_data = sm.datasets.get_rdataset('cars', 'datasets').data\n",
        "\n",
        "my_idx = [1, 10, 26, 33, 38, 43]\n",
        "my_sample = my_data.iloc[my_idx, ]\n",
        "X, y = my_sample[['speed']], my_sample['dist']"
      ],
      "id": "MgHzXkEAw3cB"
    },
    {
      "cell_type": "code",
      "execution_count": null,
      "metadata": {
        "id": "c0qTbDslw3cB"
      },
      "outputs": [],
      "source": [
        "d = 5\n",
        "X5 = PolynomialFeatures(d, include_bias=False).fit_transform(X) # Xの1乗から5乗の変数\n",
        "\n",
        "my_model = LinearRegression()\n",
        "my_model.fit(X5, y)\n",
        "y_ = my_model.predict(X5)"
      ],
      "id": "c0qTbDslw3cB"
    },
    {
      "cell_type": "code",
      "execution_count": null,
      "metadata": {
        "id": "Wl0YLShGw3cB"
      },
      "outputs": [],
      "source": [
        "((y - y_)**2).mean()**0.5\n",
        "#> 7.725744805546204e-07 # RMSE\n",
        "\n",
        "my_model.score(X5, y)\n",
        "#> 0.9999999999999989 # 決定係数1\n",
        "\n",
        "np.corrcoef(y, y_)[0, 1]**2\n",
        "#> 0.9999999999999991 # 決定係数6"
      ],
      "id": "Wl0YLShGw3cB"
    },
    {
      "cell_type": "code",
      "execution_count": null,
      "metadata": {
        "id": "e309b0omw3cB"
      },
      "outputs": [],
      "source": [
        "tmp = pd.DataFrame({'speed': np.linspace(min(my_data.speed),\n",
        "                                         max(my_data.speed),\n",
        "                                         100)})\n",
        "X5 = PolynomialFeatures(d, include_bias=False).fit_transform(tmp)\n",
        "tmp['model'] = my_model.predict(X5)\n",
        "\n",
        "my_sample = my_sample.assign(sample=y)\n",
        "my_df = pd.concat([my_data, my_sample, tmp])\n",
        "my_df.plot(x='speed', style=['o', 'o', '-'], ylim=(0, 130))"
      ],
      "id": "e309b0omw3cB"
    },
    {
      "cell_type": "markdown",
      "source": [
        "## 7.5 K最近傍法"
      ],
      "metadata": {
        "id": "OKhvzlh9w3cB"
      },
      "id": "OKhvzlh9w3cB"
    },
    {
      "cell_type": "code",
      "execution_count": null,
      "metadata": {
        "id": "RE30oChyw3cD"
      },
      "outputs": [],
      "source": [
        "# 準備\n",
        "import numpy as np\n",
        "import pandas as pd\n",
        "import statsmodels.api as sm\n",
        "from sklearn.neighbors import KNeighborsRegressor\n",
        "\n",
        "my_data = sm.datasets.get_rdataset('cars', 'datasets').data\n",
        "X, y = my_data[['speed']], my_data['dist']\n",
        "\n",
        "# 訓練\n",
        "my_model = KNeighborsRegressor()\n",
        "my_model.fit(X, y)\n",
        "\n",
        "# 可視化の準備\n",
        "tmp = pd.DataFrame({'speed': np.linspace(min(my_data.speed),\n",
        "                                         max(my_data.speed),\n",
        "                                         100)})\n",
        "tmp['model'] = my_model.predict(tmp)"
      ],
      "id": "RE30oChyw3cD"
    },
    {
      "cell_type": "code",
      "execution_count": null,
      "metadata": {
        "id": "6lj6hgGrw3cD"
      },
      "outputs": [],
      "source": [
        "pd.concat([my_data, tmp]).plot(\n",
        "    x='speed', style=['o', '-'])"
      ],
      "id": "6lj6hgGrw3cD"
    },
    {
      "cell_type": "code",
      "execution_count": null,
      "metadata": {
        "id": "DTz8J_IGw3cD"
      },
      "outputs": [],
      "source": [
        "y_ = my_model.predict(X)\n",
        "\n",
        "((y - y_)**2).mean()**0.5\n",
        "#> 13.087184571174962 # RMSE\n",
        "\n",
        "my_model.score(X, y)\n",
        "#> 0.7368165812204317 # 決定係数1\n",
        "\n",
        "np.corrcoef(y, y_)[0, 1]**2\n",
        "#> 0.7380949412509705 # 決定係数6"
      ],
      "id": "DTz8J_IGw3cD"
    },
    {
      "cell_type": "markdown",
      "source": [
        "## 7.6 検証"
      ],
      "metadata": {
        "id": "IZB_7gsww3cD"
      },
      "id": "IZB_7gsww3cD"
    },
    {
      "cell_type": "code",
      "execution_count": null,
      "metadata": {
        "id": "T7fhEfKvw3cD"
      },
      "outputs": [],
      "source": [
        "import statsmodels.api as sm\n",
        "from sklearn.linear_model import LinearRegression\n",
        "from sklearn.model_selection import cross_val_score\n",
        "\n",
        "# データの準備\n",
        "my_data = sm.datasets.get_rdataset('cars', 'datasets').data\n",
        "X, y = my_data[['speed']], my_data['dist']\n",
        "\n",
        "# モデルの指定\n",
        "my_model = LinearRegression()\n",
        "\n",
        "# 検証（5分割交差検証）\n",
        "my_scores = cross_val_score(my_model, X, y)\n",
        "\n",
        "# 5個の決定係数1を得る．\n",
        "my_scores\n",
        "#> array([-0.25789256, -0.21421069, -0.30902773, -0.27346232,  0.02312918])\n",
        "\n",
        "# 平均を決定係数1（検証）とする．\n",
        "my_scores.mean()\n",
        "#> -0.20629282165364665"
      ],
      "id": "T7fhEfKvw3cD"
    },
    {
      "cell_type": "code",
      "execution_count": null,
      "metadata": {
        "id": "zJEa_bpQw3cD"
      },
      "outputs": [],
      "source": [
        "my_scores = cross_val_score(my_model, X, y,\n",
        "                            scoring='neg_root_mean_squared_error')\n",
        "-my_scores.mean()\n",
        "#> 15.58402474583013 # RMSE（検証）"
      ],
      "id": "zJEa_bpQw3cD"
    },
    {
      "cell_type": "code",
      "execution_count": null,
      "metadata": {
        "id": "bOXjAsYww3cD"
      },
      "outputs": [],
      "source": [
        "import numpy as np\n",
        "import statsmodels.api as sm\n",
        "from sklearn.linear_model import LinearRegression\n",
        "from sklearn.metrics import mean_squared_error, r2_score\n",
        "from sklearn.model_selection import cross_val_score, LeaveOneOut\n",
        "\n",
        "my_data = sm.datasets.get_rdataset('cars', 'datasets').data\n",
        "X, y = my_data[['speed']], my_data['dist']\n",
        "my_model = LinearRegression().fit(X, y)\n",
        "y_ = my_model.predict(X)"
      ],
      "id": "bOXjAsYww3cD"
    },
    {
      "cell_type": "code",
      "execution_count": null,
      "metadata": {
        "id": "Gqwm2h6lw3cD"
      },
      "outputs": [],
      "source": [
        "# RMSE（訓練）\n",
        "mean_squared_error(y, y_)**0.5\n",
        "#> 15.068855995791381\n",
        "\n",
        "# 決定係数1（訓練）\n",
        "my_model.score(X, y)\n",
        "# あるいは\n",
        "r2_score(y_true=y, y_pred=y_)\n",
        "#> 0.6510793807582509\n",
        "\n",
        "# 決定係数6（訓練）\n",
        "np.corrcoef(y, y_)[0, 1]**2\n",
        "#> 0.6510793807582511"
      ],
      "id": "Gqwm2h6lw3cD"
    },
    {
      "cell_type": "code",
      "execution_count": null,
      "metadata": {
        "id": "I0y1WZ1Tw3cD"
      },
      "outputs": [],
      "source": [
        "my_scores = cross_val_score(my_model, X, y,\n",
        "                            scoring='neg_root_mean_squared_error')\n",
        "-my_scores.mean()\n",
        "#> 15.301860331378464  # RMSE（検証）\n",
        "\n",
        "my_scores = cross_val_score(my_model, X, y, scoring='r2') # scoring='r2'は省略可\n",
        "my_scores.mean()\n",
        "#> 0.49061365458235245 # 決定係数1（検証）"
      ],
      "id": "I0y1WZ1Tw3cD"
    },
    {
      "cell_type": "code",
      "execution_count": null,
      "metadata": {
        "id": "rca-DyL7w3cE"
      },
      "outputs": [],
      "source": [
        "# 方法1\n",
        "my_scores1 = cross_val_score(my_model, X, y, cv=LeaveOneOut(),\n",
        "                             scoring='neg_mean_squared_error')\n",
        "(-my_scores1.mean())**0.5\n",
        "#> 15.697306009399101\n",
        "\n",
        "# 方法2\n",
        "my_scores2 = cross_val_score(my_model, X, y, cv=LeaveOneOut(),\n",
        "                             scoring='neg_root_mean_squared_error')\n",
        "(my_scores2**2).mean()**0.5\n",
        "#> 15.697306009399101"
      ],
      "id": "rca-DyL7w3cE"
    },
    {
      "cell_type": "code",
      "execution_count": null,
      "metadata": {
        "id": "9D4L9SN7w3cE"
      },
      "outputs": [],
      "source": [
        "-my_scores2.mean()\n",
        "#> 12.059178648637483"
      ],
      "id": "9D4L9SN7w3cE"
    },
    {
      "cell_type": "code",
      "execution_count": null,
      "metadata": {
        "id": "k3qLcjbcw3cE"
      },
      "outputs": [],
      "source": [
        "import pandas as pd\n",
        "import statsmodels.api as sm\n",
        "from sklearn.linear_model import LinearRegression\n",
        "from sklearn.metrics import mean_squared_error\n",
        "from sklearn.model_selection import cross_val_score, LeaveOneOut\n",
        "from sklearn.neighbors import KNeighborsRegressor\n",
        "\n",
        "my_data = sm.datasets.get_rdataset('cars', 'datasets').data\n",
        "X, y = my_data[['speed']], my_data['dist']\n",
        "\n",
        "my_lm_scores = cross_val_score(\n",
        "    LinearRegression(),\n",
        "    X, y, cv=LeaveOneOut(), scoring='neg_mean_squared_error')\n",
        "\n",
        "my_knn_socres = cross_val_score(\n",
        "    KNeighborsRegressor(n_neighbors=5),\n",
        "    X, y, cv=LeaveOneOut(), scoring='neg_mean_squared_error')"
      ],
      "id": "k3qLcjbcw3cE"
    },
    {
      "cell_type": "code",
      "execution_count": null,
      "metadata": {
        "id": "ScBeXPilw3cE"
      },
      "outputs": [],
      "source": [
        "(-my_lm_scores.mean())**0.5\n",
        "#> 15.697306009399101 # 線形回帰分析\n",
        "\n",
        "(-my_knn_socres.mean())**0.5\n",
        "#> 16.07308308943869 # K最近傍法"
      ],
      "id": "ScBeXPilw3cE"
    },
    {
      "cell_type": "code",
      "execution_count": null,
      "metadata": {
        "id": "DM-kS5ySw3cE"
      },
      "outputs": [],
      "source": [
        "my_df = pd.DataFrame({\n",
        "    'lm': -my_lm_scores,\n",
        "    'knn': -my_knn_socres})\n",
        "my_df.head()\n",
        "#>            lm     knn\n",
        "#> 0   18.913720  108.16\n",
        "#> 1  179.215044    0.64\n",
        "#> 2   41.034336   64.00\n",
        "#> 3  168.490212  184.96\n",
        "#> 4    5.085308    0.00"
      ],
      "id": "DM-kS5ySw3cE"
    },
    {
      "cell_type": "code",
      "execution_count": null,
      "metadata": {
        "id": "XPF12UEdw3cE"
      },
      "outputs": [],
      "source": [
        "my_df.boxplot().set_ylabel(\"$r^2$\")"
      ],
      "id": "XPF12UEdw3cE"
    },
    {
      "cell_type": "code",
      "execution_count": null,
      "metadata": {
        "id": "lM0rRIOiw3cE"
      },
      "outputs": [],
      "source": [
        "from statsmodels.stats.weightstats import DescrStatsW\n",
        "d = DescrStatsW(my_df.lm - my_df.knn)\n",
        "d.ttest_mean()[1] # p値\n",
        "#> 0.6952755720536115\n",
        "\n",
        "d.tconfint_mean(alpha=0.05, alternative='two-sided') # 信頼区間\n",
        "#> (-72.8275283312228, 48.95036023665703)"
      ],
      "id": "lM0rRIOiw3cE"
    },
    {
      "cell_type": "markdown",
      "source": [
        "## 7.7 パラメータチューニング"
      ],
      "metadata": {
        "id": "01sELERBw3cE"
      },
      "id": "01sELERBw3cE"
    },
    {
      "cell_type": "code",
      "execution_count": null,
      "metadata": {
        "id": "rNQ-t-Zhw3cE"
      },
      "outputs": [],
      "source": [
        "import pandas as pd\n",
        "import statsmodels.api as sm\n",
        "from sklearn.metrics import mean_squared_error\n",
        "from sklearn.model_selection import GridSearchCV, LeaveOneOut\n",
        "from sklearn.neighbors import KNeighborsRegressor\n",
        "\n",
        "my_data = sm.datasets.get_rdataset('cars', 'datasets').data\n",
        "X, y = my_data[['speed']], my_data['dist']\n",
        "\n",
        "my_params = {'n_neighbors': range(1, 16)} # 探索範囲（1以上16未満の整数）\n",
        "\n",
        "my_search = GridSearchCV(estimator=KNeighborsRegressor(),\n",
        "                         param_grid=my_params,\n",
        "                         cv=LeaveOneOut(),\n",
        "                         scoring='neg_mean_squared_error')\n",
        "my_search.fit(X, y)"
      ],
      "id": "rNQ-t-Zhw3cE"
    },
    {
      "cell_type": "code",
      "execution_count": null,
      "metadata": {
        "id": "7Vy6-H5Aw3cE"
      },
      "outputs": [],
      "source": [
        "tmp = my_search.cv_results_                # チューニングの詳細\n",
        "my_scores = (-tmp['mean_test_score'])**0.5 # RMSE\n",
        "my_results = pd.DataFrame(tmp['params']).assign(validation=my_scores)"
      ],
      "id": "7Vy6-H5Aw3cE"
    },
    {
      "cell_type": "code",
      "execution_count": null,
      "metadata": {
        "id": "EdelT1D2w3cF"
      },
      "outputs": [],
      "source": [
        "my_results.head()\n",
        "#>    n_neighbors  validation\n",
        "#> 0            1   20.089798\n",
        "#> 1            2   17.577685\n",
        "#> 2            3   16.348836\n",
        "#> 3            4   16.198804\n",
        "#> 4            5   16.073083"
      ],
      "id": "EdelT1D2w3cF"
    },
    {
      "cell_type": "code",
      "execution_count": null,
      "metadata": {
        "id": "0zaXU7uvw3cF"
      },
      "outputs": [],
      "source": [
        "my_results.plot(x='n_neighbors',\n",
        "                style='o-',\n",
        "                ylabel='RMSE')"
      ],
      "id": "0zaXU7uvw3cF"
    },
    {
      "cell_type": "code",
      "execution_count": null,
      "metadata": {
        "id": "fzU-7Tf8w3cF"
      },
      "outputs": [],
      "source": [
        "my_search.best_params_\n",
        "#> {'n_neighbors': 5}"
      ],
      "id": "fzU-7Tf8w3cF"
    },
    {
      "cell_type": "code",
      "execution_count": null,
      "metadata": {
        "id": "gbvy0-WUw3cF"
      },
      "outputs": [],
      "source": [
        "(-my_search.best_score_)**0.5\n",
        "#> 16.07308308943869"
      ],
      "id": "gbvy0-WUw3cF"
    },
    {
      "cell_type": "code",
      "execution_count": null,
      "metadata": {
        "id": "kZ0hc2TVw3cF"
      },
      "outputs": [],
      "source": [
        "my_model = my_search.best_estimator_\n",
        "y_ = my_model.predict(X)\n",
        "mean_squared_error(y_, y)**0.5\n",
        "#> 13.087184571174962"
      ],
      "id": "kZ0hc2TVw3cF"
    },
    {
      "cell_type": "code",
      "execution_count": null,
      "metadata": {
        "id": "Wv6XJOmpw3cF"
      },
      "outputs": [],
      "source": [
        "import pandas as pd\n",
        "import statsmodels.api as sm\n",
        "from sklearn.metrics import mean_squared_error\n",
        "from sklearn.model_selection import cross_val_score, LeaveOneOut\n",
        "from sklearn.neighbors import KNeighborsRegressor\n",
        "\n",
        "my_data = sm.datasets.get_rdataset('cars', 'datasets').data\n",
        "X, y = my_data[['speed']], my_data['dist']\n",
        "\n",
        "def my_loocv(k):\n",
        "    my_model = KNeighborsRegressor(n_neighbors=k)\n",
        "    my_scores = cross_val_score(estimator=my_model, X=X, y=y,\n",
        "                                cv=LeaveOneOut(),\n",
        "                                scoring='neg_mean_squared_error')\n",
        "    y_ = my_model.fit(X, y).predict(X)\n",
        "    return pd.Series([k,\n",
        "                      (-my_scores.mean())**0.5,        # RMSE（検証）\n",
        "                      mean_squared_error(y_, y)**0.5], # RMSE（訓練）\n",
        "                     index=['n_neighbors', 'validation', 'training'])\n",
        "\n",
        "my_results = pd.Series(range(1, 16)).apply(my_loocv)"
      ],
      "id": "Wv6XJOmpw3cF"
    },
    {
      "cell_type": "code",
      "execution_count": null,
      "metadata": {
        "id": "GCbyeqDqw3cF"
      },
      "outputs": [],
      "source": [
        "my_results.plot(x='n_neighbors',\n",
        "                style='o-',\n",
        "                ylabel='RMSE')"
      ],
      "id": "GCbyeqDqw3cF"
    },
    {
      "cell_type": "markdown",
      "source": [
        "# 8 回帰2（重回帰）\n",
        "\n",
        "\n"
      ],
      "metadata": {
        "id": "yKnptS6Xw3cF"
      },
      "id": "yKnptS6Xw3cF"
    },
    {
      "cell_type": "markdown",
      "source": [
        "## 8.1 ブドウの生育条件とワインの価格"
      ],
      "metadata": {
        "id": "AYiM7OoYw3cF"
      },
      "id": "AYiM7OoYw3cF"
    },
    {
      "cell_type": "code",
      "execution_count": null,
      "metadata": {
        "id": "vBCDMoc6w3cF"
      },
      "outputs": [],
      "source": [
        "import pandas as pd\n",
        "my_url = 'http://www.liquidasset.com/winedata.html'\n",
        "tmp = pd.read_table(my_url, skiprows=62, nrows=38, sep='\\\\s+', na_values='.')\n",
        "tmp.describe()\n",
        "#>              OBS         VINT    LPRICE2       WRAIN    DEGREES ...\n",
        "#> count  38.000000    38.000000  27.000000   38.000000  37.000000 ...\n",
        "#> mean   19.500000  1970.500000  -1.451765  605.000000  16.522973 ...\n",
        "# 以下省略"
      ],
      "id": "vBCDMoc6w3cF"
    },
    {
      "cell_type": "code",
      "execution_count": null,
      "metadata": {
        "id": "gFBIngOvw3cF"
      },
      "outputs": [],
      "source": [
        "my_data = tmp.iloc[:, 2:].dropna()\n",
        "my_data.head()\n",
        "#>    LPRICE2  WRAIN  DEGREES ...\n",
        "#> 0 -0.99868    600  17.1167 ...\n",
        "#> 1 -0.45440    690  16.7333 ...\n",
        "#> 3 -0.80796    502  17.1500 ...\n",
        "#> 5 -1.50926    420  16.1333 ...\n",
        "#> 6 -1.71655    582  16.4167 ..."
      ],
      "id": "gFBIngOvw3cF"
    },
    {
      "cell_type": "code",
      "execution_count": null,
      "metadata": {
        "id": "csxBTbLvw3cF"
      },
      "outputs": [],
      "source": [
        "my_data.shape\n",
        "#> (27, 5)"
      ],
      "id": "csxBTbLvw3cF"
    },
    {
      "cell_type": "code",
      "execution_count": null,
      "metadata": {
        "id": "PqsufdrAw3cG"
      },
      "outputs": [],
      "source": [
        "my_data.to_csv('wine.csv',\n",
        "               index=False)"
      ],
      "id": "PqsufdrAw3cG"
    },
    {
      "cell_type": "code",
      "execution_count": null,
      "metadata": {
        "id": "pa2Xh4mnw3cG"
      },
      "outputs": [],
      "source": [
        "#my_data = pd.read_csv('wine.csv') # 作ったファイルを使う場合\n",
        "my_url = ('https://raw.githubusercontent.com/taroyabuki'\n",
        "          '/fromzero/master/data/wine.csv')\n",
        "my_data = pd.read_csv(my_url)"
      ],
      "id": "pa2Xh4mnw3cG"
    },
    {
      "cell_type": "markdown",
      "source": [
        "## 8.2 重回帰分析"
      ],
      "metadata": {
        "id": "bmMFGQ3fw3cG"
      },
      "id": "bmMFGQ3fw3cG"
    },
    {
      "cell_type": "code",
      "execution_count": null,
      "metadata": {
        "id": "cuxXc88Ew3cG"
      },
      "outputs": [],
      "source": [
        "import numpy as np\n",
        "import pandas as pd\n",
        "from sklearn.linear_model import LinearRegression\n",
        "from sklearn.metrics import mean_squared_error\n",
        "from sklearn.model_selection import cross_val_score, LeaveOneOut\n",
        "\n",
        "my_url = ('https://raw.githubusercontent.com/taroyabuki'\n",
        "          '/fromzero/master/data/wine.csv')\n",
        "my_data = pd.read_csv(my_url)\n",
        "X, y = my_data.drop(columns=['LPRICE2']), my_data['LPRICE2']\n",
        "\n",
        "my_model = LinearRegression().fit(X, y)"
      ],
      "id": "cuxXc88Ew3cG"
    },
    {
      "cell_type": "code",
      "execution_count": null,
      "metadata": {
        "id": "LSAF3Uwgw3cG"
      },
      "outputs": [],
      "source": [
        "my_model.intercept_\n",
        "#> -12.145333576510417\n",
        "\n",
        "pd.Series(my_model.coef_,\n",
        "          index=X.columns)\n",
        "#> WRAIN      0.001167\n",
        "#> DEGREES    0.616392\n",
        "#> HRAIN     -0.003861\n",
        "#> TIME_SV    0.023847\n",
        "#> dtype: float64"
      ],
      "id": "LSAF3Uwgw3cG"
    },
    {
      "cell_type": "code",
      "execution_count": null,
      "metadata": {
        "id": "CypF1Y1Yw3cG"
      },
      "outputs": [],
      "source": [
        "my_test = [[500, 17, 120, 2]]\n",
        "my_model.predict(my_test)\n",
        "#> array([-1.49884253])"
      ],
      "id": "CypF1Y1Yw3cG"
    },
    {
      "cell_type": "code",
      "execution_count": null,
      "metadata": {
        "id": "ZZdXdTZSw3cG"
      },
      "outputs": [],
      "source": [
        "y_ = my_model.predict(X)\n",
        "\n",
        "mean_squared_error(y_, y)**0.5\n",
        "#> 0.2586166620130621 # RMSE（訓練）\n",
        "\n",
        "my_model.score(X, y)\n",
        "#> 0.8275277990052154 # 決定係数1\n",
        "\n",
        "np.corrcoef(y, y_)[0, 1]**2\n",
        "#> 0.8275277990052158 # 決定係数6"
      ],
      "id": "ZZdXdTZSw3cG"
    },
    {
      "cell_type": "code",
      "execution_count": null,
      "metadata": {
        "id": "19p01ebEw3cG"
      },
      "outputs": [],
      "source": [
        "my_scores = cross_val_score(my_model, X, y,\n",
        "                            cv=LeaveOneOut(),\n",
        "                            scoring='neg_mean_squared_error')\n",
        "(-my_scores.mean())**0.5\n",
        "#> 0.32300426518411957 # RMSE（検証）"
      ],
      "id": "19p01ebEw3cG"
    },
    {
      "cell_type": "code",
      "execution_count": null,
      "metadata": {
        "id": "3QIyeR9ew3cH"
      },
      "outputs": [],
      "source": [
        "import numpy as np\n",
        "M = np.matrix(X.assign(b0=1))\n",
        "b = np.linalg.pinv(M) @ y\n",
        "pd.Series(b,\n",
        "    index=list(X.columns) + ['b0'])\n",
        "#> WRAIN       0.001167\n",
        "#> DEGREES     0.616392\n",
        "#> HRAIN      -0.003861\n",
        "#> TIME_SV     0.023847\n",
        "#> b0        -12.145334\n",
        "#> dtype: float64"
      ],
      "id": "3QIyeR9ew3cH"
    },
    {
      "cell_type": "markdown",
      "source": [
        "## 8.3 標準化"
      ],
      "metadata": {
        "id": "lqWSBm9tw3cH"
      },
      "id": "lqWSBm9tw3cH"
    },
    {
      "cell_type": "code",
      "execution_count": null,
      "metadata": {
        "id": "wu7A1Ravw3cH"
      },
      "outputs": [],
      "source": [
        "import pandas as pd\n",
        "from sklearn.linear_model import LinearRegression\n",
        "from sklearn.pipeline import Pipeline\n",
        "from sklearn.preprocessing import StandardScaler\n",
        "my_url = ('https://raw.githubusercontent.com/taroyabuki'\n",
        "          '/fromzero/master/data/wine.csv')\n",
        "my_data = pd.read_csv(my_url)\n",
        "X, y = my_data.drop(columns=['LPRICE2']), my_data['LPRICE2']\n",
        "\n",
        "# StandardScalerで標準化した結果をデータフレームに戻してから描画する．\n",
        "pd.DataFrame(StandardScaler().fit_transform(X), columns=X.columns\n",
        "            ).boxplot(showmeans=True)"
      ],
      "id": "wu7A1Ravw3cH"
    },
    {
      "cell_type": "code",
      "execution_count": null,
      "metadata": {
        "id": "81v7ElcBw3cH"
      },
      "outputs": [],
      "source": [
        "my_pipeline = Pipeline([\n",
        "    ('sc', StandardScaler()),\n",
        "    ('lr', LinearRegression())])\n",
        "my_pipeline.fit(X, y)"
      ],
      "id": "81v7ElcBw3cH"
    },
    {
      "cell_type": "code",
      "execution_count": null,
      "metadata": {
        "id": "99rWz-pRw3cH"
      },
      "outputs": [],
      "source": [
        "# 線形回帰の部分だけを取り出す．\n",
        "my_lr = my_pipeline.named_steps.lr\n",
        "my_lr.intercept_\n",
        "#> -1.4517651851851847\n",
        "\n",
        "pd.Series(my_lr.coef_,\n",
        "          index=X.columns)\n",
        "#> WRAIN      0.147741\n",
        "#> DEGREES    0.398724\n",
        "#> HRAIN     -0.276802\n",
        "#> TIME_SV    0.192979\n",
        "#> dtype: float64"
      ],
      "id": "99rWz-pRw3cH"
    },
    {
      "cell_type": "code",
      "execution_count": null,
      "metadata": {
        "id": "zeUEGeznw3cH"
      },
      "outputs": [],
      "source": [
        "my_test = [[500, 17, 120, 2]]\n",
        "my_pipeline.predict(my_test)\n",
        "#> array([-1.49884253])"
      ],
      "id": "zeUEGeznw3cH"
    },
    {
      "cell_type": "markdown",
      "source": [
        "## 8.4 入力変数の数とモデルの良さ"
      ],
      "metadata": {
        "id": "asVNzx5Tw3cH"
      },
      "id": "asVNzx5Tw3cH"
    },
    {
      "cell_type": "code",
      "execution_count": null,
      "metadata": {
        "id": "rdXS_RhWw3cH"
      },
      "outputs": [],
      "source": [
        "import pandas as pd\n",
        "from sklearn.linear_model import LinearRegression\n",
        "from sklearn.metrics import mean_squared_error\n",
        "from sklearn.model_selection import cross_val_score, LeaveOneOut\n",
        "\n",
        "my_url = ('https://raw.githubusercontent.com/taroyabuki'\n",
        "          '/fromzero/master/data/wine.csv')\n",
        "my_data = pd.read_csv(my_url)\n",
        "\n",
        "n = len(my_data)\n",
        "my_data2 = my_data.assign(v1=[i % 2 for i in range(n)],\n",
        "                          v2=[i % 3 for i in range(n)])\n",
        "my_data2.head()\n",
        "#>    LPRICE2  WRAIN  DEGREES  HRAIN  TIME_SV  v1  v2\n",
        "#> 0 -0.99868    600  17.1167    160       31   0   0\n",
        "#> 1 -0.45440    690  16.7333     80       30   1   1\n",
        "#> 2 -0.80796    502  17.1500    130       28   0   2\n",
        "#> 3 -1.50926    420  16.1333    110       26   1   0\n",
        "#> 4 -1.71655    582  16.4167    187       25   0   1"
      ],
      "id": "rdXS_RhWw3cH"
    },
    {
      "cell_type": "code",
      "execution_count": null,
      "metadata": {
        "id": "ygvgq4XGw3cH"
      },
      "outputs": [],
      "source": [
        "X, y = my_data2.drop(columns=['LPRICE2']), my_data2['LPRICE2']\n",
        "my_model2 = LinearRegression().fit(X, y)\n",
        "\n",
        "y_ = my_model2.predict(X)\n",
        "mean_squared_error(y_, y)**0.5\n",
        "#> 0.2562120047505748 # RMSE（訓練）\n",
        "\n",
        "my_scores = cross_val_score(my_model2, X, y,\n",
        "                            cv=LeaveOneOut(),\n",
        "                            scoring='neg_mean_squared_error')\n",
        "(-my_scores.mean())**0.5\n",
        "#> 0.3569918035928941 # RMSE（検証）"
      ],
      "id": "ygvgq4XGw3cH"
    },
    {
      "cell_type": "markdown",
      "source": [
        "## 8.5 変数選択"
      ],
      "metadata": {
        "id": "lJA2P8vJw3cH"
      },
      "id": "lJA2P8vJw3cH"
    },
    {
      "cell_type": "code",
      "execution_count": null,
      "metadata": {
        "id": "HWcL2bQkw3cH"
      },
      "outputs": [],
      "source": [
        "import pandas as pd\n",
        "from sklearn.feature_selection import SequentialFeatureSelector\n",
        "from sklearn.linear_model import LinearRegression\n",
        "from sklearn.model_selection import GridSearchCV, LeaveOneOut\n",
        "from sklearn.pipeline import Pipeline\n",
        "\n",
        "my_url = ('https://raw.githubusercontent.com/taroyabuki'\n",
        "          '/fromzero/master/data/wine.csv')\n",
        "my_data = pd.read_csv(my_url)\n",
        "\n",
        "n = len(my_data)\n",
        "my_data2 = my_data.assign(v1=[i % 2 for i in range(n)],\n",
        "                          v2=[i % 3 for i in range(n)])\n",
        "X, y = my_data2.drop(columns=['LPRICE2']), my_data2['LPRICE2']"
      ],
      "id": "HWcL2bQkw3cH"
    },
    {
      "cell_type": "code",
      "execution_count": null,
      "metadata": {
        "id": "GCXJ0h9Lw3cI"
      },
      "outputs": [],
      "source": [
        "my_sfs = SequentialFeatureSelector(\n",
        "    estimator=LinearRegression(),\n",
        "    direction='forward', # 変数増加法\n",
        "    cv=LeaveOneOut(),\n",
        "    scoring='neg_mean_squared_error')\n",
        "\n",
        "my_pipeline = Pipeline([         # 変数選択の後で再訓練を行うようにする．\n",
        "    ('sfs', my_sfs),             # 変数選択\n",
        "    ('lr', LinearRegression())]) # 回帰分析\n",
        "\n",
        "my_params = {'sfs__n_features_to_select': range(1, 6)} # 選択する変数の上限\n",
        "my_search = GridSearchCV(estimator=my_pipeline,\n",
        "                         param_grid=my_params,\n",
        "                         cv=LeaveOneOut(),\n",
        "                         scoring='neg_mean_squared_error',\n",
        "                         n_jobs=-1).fit(X, y)\n",
        "my_model = my_search.best_estimator_ # 最良のパラメータで再訓練したモデル\n",
        "my_search.best_estimator_.named_steps.sfs.get_support()\n",
        "#> array([ True,  True,  True,  True, False, False])"
      ],
      "id": "GCXJ0h9Lw3cI"
    },
    {
      "cell_type": "markdown",
      "source": [
        "## 8.6 補足：正則化"
      ],
      "metadata": {
        "id": "R1HwnFoaw3cI"
      },
      "id": "R1HwnFoaw3cI"
    },
    {
      "cell_type": "code",
      "execution_count": null,
      "metadata": {
        "id": "JWtFxayyw3cI"
      },
      "outputs": [],
      "source": [
        "import numpy as np\n",
        "import pandas as pd\n",
        "import warnings\n",
        "from sklearn.exceptions import ConvergenceWarning\n",
        "from sklearn.linear_model import ElasticNet, enet_path\n",
        "from sklearn.model_selection import GridSearchCV, LeaveOneOut\n",
        "from sklearn.pipeline import Pipeline\n",
        "from sklearn.preprocessing import StandardScaler\n",
        "from scipy.stats import zscore\n",
        "warnings.simplefilter('ignore', ConvergenceWarning) # これ以降，警告を表示しない．\n",
        "\n",
        "my_url = ('https://raw.githubusercontent.com/taroyabuki'\n",
        "          '/fromzero/master/data/wine.csv')\n",
        "my_data = pd.read_csv(my_url)\n",
        "X, y = my_data.drop(columns=['LPRICE2']), my_data['LPRICE2']"
      ],
      "id": "JWtFxayyw3cI"
    },
    {
      "cell_type": "code",
      "execution_count": null,
      "metadata": {
        "id": "Fe0C6O9Fw3cI"
      },
      "outputs": [],
      "source": [
        "A = 2\n",
        "B = 0.1\n",
        "\n",
        "my_pipeline = Pipeline([\n",
        "    ('sc', StandardScaler()),\n",
        "    ('enet', ElasticNet(\n",
        "        alpha=A,\n",
        "        l1_ratio=B))])\n",
        "my_pipeline.fit(X, y)"
      ],
      "id": "Fe0C6O9Fw3cI"
    },
    {
      "cell_type": "code",
      "execution_count": null,
      "metadata": {
        "id": "q_p_ZL9lw3cI"
      },
      "outputs": [],
      "source": [
        "my_enet = my_pipeline.named_steps.enet\n",
        "my_enet.intercept_\n",
        "#> -1.4517651851851852\n",
        "\n",
        "pd.Series(my_enet.coef_,\n",
        "          index=X.columns)\n",
        "#> WRAIN      0.000000\n",
        "#> DEGREES    0.074101\n",
        "#> HRAIN     -0.041159\n",
        "#> TIME_SV    0.024027\n",
        "#> dtype: float64"
      ],
      "id": "q_p_ZL9lw3cI"
    },
    {
      "cell_type": "code",
      "execution_count": null,
      "metadata": {
        "id": "jNk3r83Rw3cI"
      },
      "outputs": [],
      "source": [
        "my_test = pd.DataFrame(\n",
        "    [[500, 17, 120, 2]])\n",
        "my_pipeline.predict(my_test)\n",
        "#> array([-1.41981616])"
      ],
      "id": "jNk3r83Rw3cI"
    },
    {
      "cell_type": "code",
      "execution_count": null,
      "metadata": {
        "id": "g_34kjb3w3cI"
      },
      "outputs": [],
      "source": [
        "As = np.e**np.arange(2, -5.5, -0.1)\n",
        "B = 0.1\n",
        "\n",
        "_, my_path, _ = enet_path(\n",
        "    zscore(X), zscore(y),\n",
        "    alphas=As,\n",
        "    l1_ratio=B)\n",
        "\n",
        "pd.DataFrame(\n",
        "    my_path.T,\n",
        "    columns=X.columns,\n",
        "    index=np.log(As)\n",
        ").plot(\n",
        "    xlabel='log A ( = log alpha)',\n",
        "    ylabel='Coefficients')"
      ],
      "id": "g_34kjb3w3cI"
    },
    {
      "cell_type": "code",
      "execution_count": null,
      "metadata": {
        "id": "XdXrHSLrw3cI"
      },
      "outputs": [],
      "source": [
        "As = np.linspace(0, 0.1, 21)\n",
        "Bs = np.linspace(0, 0.1,  6)\n",
        "\n",
        "my_pipeline = Pipeline([('sc', StandardScaler()),\n",
        "                        ('enet', ElasticNet())])\n",
        "my_search = GridSearchCV(\n",
        "    estimator=my_pipeline,\n",
        "    param_grid={'enet__alpha': As, 'enet__l1_ratio': Bs},\n",
        "    cv=LeaveOneOut(),\n",
        "    scoring='neg_mean_squared_error',\n",
        "    n_jobs=-1).fit(X, y)\n",
        "my_model = my_search.best_estimator_ # 最良モデル\n",
        "\n",
        "my_search.best_params_               # 最良パラメータ\n",
        "#> {'enet__alpha': 0.075, 'enet__l1_ratio': 0.0}"
      ],
      "id": "XdXrHSLrw3cI"
    },
    {
      "cell_type": "code",
      "execution_count": null,
      "metadata": {
        "id": "QDGv79uWw3cI"
      },
      "outputs": [],
      "source": [
        "tmp = my_search.cv_results_                # チューニングの詳細\n",
        "my_scores = (-tmp['mean_test_score'])**0.5 # RMSE\n",
        "\n",
        "my_results = pd.DataFrame(tmp['params']).assign(RMSE=my_scores).pivot(\n",
        "    index='enet__alpha',\n",
        "    columns='enet__l1_ratio',\n",
        "    values='RMSE')\n",
        "\n",
        "my_results.plot(style='o-', xlabel='A ( = alpha)', ylabel='RMSE').legend(\n",
        "    title='B ( = l1_ratio)')"
      ],
      "id": "QDGv79uWw3cI"
    },
    {
      "cell_type": "code",
      "execution_count": null,
      "metadata": {
        "id": "JApB-Ogtw3cI"
      },
      "outputs": [],
      "source": [
        "(-my_search.best_score_)**0.5\n",
        "#> 0.31945619679509646"
      ],
      "id": "JApB-Ogtw3cI"
    },
    {
      "cell_type": "markdown",
      "source": [
        "## 8.7 ニューラルネットワーク"
      ],
      "metadata": {
        "id": "xBWOgfbqw3cJ"
      },
      "id": "xBWOgfbqw3cJ"
    },
    {
      "cell_type": "code",
      "execution_count": null,
      "metadata": {
        "id": "k3auoxGvw3cJ"
      },
      "outputs": [],
      "source": [
        "import matplotlib.pyplot as plt\n",
        "import numpy as np\n",
        "x = np.linspace(-6, 6, 100)\n",
        "y = 1 / (1 + np.exp(-x))\n",
        "plt.plot(x, y)"
      ],
      "id": "k3auoxGvw3cJ"
    },
    {
      "cell_type": "code",
      "execution_count": null,
      "metadata": {
        "id": "B_EMngPMw3cJ"
      },
      "outputs": [],
      "source": [
        "import pandas as pd\n",
        "import warnings\n",
        "from sklearn.exceptions import ConvergenceWarning\n",
        "from sklearn.neural_network import MLPRegressor\n",
        "from sklearn.model_selection import cross_val_score, GridSearchCV, LeaveOneOut\n",
        "from sklearn.pipeline import Pipeline\n",
        "from sklearn.preprocessing import StandardScaler\n",
        "\n",
        "my_url = ('https://raw.githubusercontent.com/taroyabuki'\n",
        "          '/fromzero/master/data/wine.csv')\n",
        "my_data = pd.read_csv(my_url)\n",
        "X, y = my_data.drop(columns=['LPRICE2']), my_data['LPRICE2']"
      ],
      "id": "B_EMngPMw3cJ"
    },
    {
      "cell_type": "code",
      "execution_count": null,
      "metadata": {
        "id": "FfStogKKw3cJ"
      },
      "outputs": [],
      "source": [
        "warnings.simplefilter(\"ignore\", ConvergenceWarning)  # これ以降，警告を表示しない．\n",
        "my_pipeline = Pipeline([('sc', StandardScaler()),    # 標準化\n",
        "                        ('mlp', MLPRegressor())])    # ニューラルネットワーク\n",
        "my_pipeline.fit(X, y)                                # 訓練\n",
        "\n",
        "my_scores = cross_val_score(my_pipeline, X, y, cv=LeaveOneOut(),\n",
        "                            scoring='neg_mean_squared_error')\n",
        "warnings.simplefilter(\"default\", ConvergenceWarning) # これ以降，警告を表示する．"
      ],
      "id": "FfStogKKw3cJ"
    },
    {
      "cell_type": "code",
      "execution_count": null,
      "metadata": {
        "id": "hKg0dZG4w3cJ"
      },
      "outputs": [],
      "source": [
        "(-my_scores.mean())**0.5\n",
        "#> 0.41735891601426384"
      ],
      "id": "hKg0dZG4w3cJ"
    },
    {
      "cell_type": "code",
      "execution_count": null,
      "metadata": {
        "id": "vcN0g0F6w3cJ"
      },
      "outputs": [],
      "source": [
        "my_pipeline = Pipeline([\n",
        "    ('sc', StandardScaler()),\n",
        "    ('mlp', MLPRegressor(tol=1e-5,         # 改善したと見なす基準\n",
        "                         max_iter=5000))]) # 改善しなくなるまでの反復数\n",
        "my_layers = (1, 3, 5,                                         # 隠れ層1層の場合\n",
        "             (1, 1), (3, 1), (5, 1), (1, 2), (3, 2), (5, 2))  # 隠れ層2層の場合\n",
        "my_params = {'mlp__hidden_layer_sizes': my_layers}\n",
        "my_search = GridSearchCV(estimator=my_pipeline,\n",
        "                         param_grid=my_params,\n",
        "                         cv=LeaveOneOut(),\n",
        "                         scoring='neg_mean_squared_error',\n",
        "                         n_jobs=-1).fit(X, y)\n",
        "my_model = my_search.best_estimator_ # 最良モデル\n",
        "\n",
        "my_search.best_params_               # 最良パラメータ\n",
        "#> {'mlp__hidden_layer_sizes': 5}"
      ],
      "id": "vcN0g0F6w3cJ"
    },
    {
      "cell_type": "code",
      "execution_count": null,
      "metadata": {
        "id": "GQFcvOV3w3cJ"
      },
      "outputs": [],
      "source": [
        "(-my_search.best_score_)**0.5\n",
        "#> 0.3759690731968538"
      ],
      "id": "GQFcvOV3w3cJ"
    },
    {
      "cell_type": "markdown",
      "source": [
        "# 9 分類1（多値分類）\n",
        "\n",
        "\n"
      ],
      "metadata": {
        "id": "wTz8S_4hw3cJ"
      },
      "id": "wTz8S_4hw3cJ"
    },
    {
      "cell_type": "markdown",
      "source": [
        "## 9.1 アヤメのデータ"
      ],
      "metadata": {
        "id": "cZh5Pf8Dw3cJ"
      },
      "id": "cZh5Pf8Dw3cJ"
    },
    {
      "cell_type": "code",
      "execution_count": null,
      "metadata": {
        "id": "kEBNK9oqw3cJ"
      },
      "outputs": [],
      "source": [
        "import statsmodels.api as sm\n",
        "my_data = sm.datasets.get_rdataset('iris', 'datasets').data\n",
        "my_data.head()\n",
        "#>    Sepal.Length  Sepal.Width  Petal.Length  Petal.Width Species\n",
        "#> 0           5.1          3.5           1.4          0.2  setosa\n",
        "#> 1           4.9          3.0           1.4          0.2  setosa\n",
        "#> 2           4.7          3.2           1.3          0.2  setosa\n",
        "#> 3           4.6          3.1           1.5          0.2  setosa\n",
        "#> 4           5.0          3.6           1.4          0.2  setosa"
      ],
      "id": "kEBNK9oqw3cJ"
    },
    {
      "cell_type": "code",
      "execution_count": null,
      "metadata": {
        "id": "hZ8iFRrVw3cK"
      },
      "outputs": [],
      "source": [
        "my_data.describe()\n",
        "#>        Sepal.Length  Sepal.Width  Petal.Length  Petal.Width\n",
        "#> count    150.000000   150.000000    150.000000   150.000000\n",
        "#> mean       5.843333     3.057333      3.758000     1.199333\n",
        "# 以下省略"
      ],
      "id": "hZ8iFRrVw3cK"
    },
    {
      "cell_type": "markdown",
      "source": [
        "## 9.2 木による分類"
      ],
      "metadata": {
        "id": "UEpJSkqSw3cK"
      },
      "id": "UEpJSkqSw3cK"
    },
    {
      "cell_type": "code",
      "execution_count": null,
      "metadata": {
        "id": "KtF4w1JEw3cK"
      },
      "outputs": [],
      "source": [
        "import graphviz\n",
        "import pandas as pd\n",
        "import statsmodels.api as sm\n",
        "from sklearn import tree\n",
        "\n",
        "my_data = sm.datasets.get_rdataset('iris', 'datasets').data\n",
        "X, y = my_data.iloc[:, 0:4], my_data.Species\n",
        "\n",
        "my_model = tree.DecisionTreeClassifier(max_depth=2, random_state=0)\n",
        "my_model.fit(X, y)"
      ],
      "id": "KtF4w1JEw3cK"
    },
    {
      "cell_type": "code",
      "execution_count": null,
      "metadata": {
        "id": "l6Q8KDrKw3cK"
      },
      "outputs": [],
      "source": [
        "my_dot = tree.export_graphviz(\n",
        "    decision_tree=my_model,\n",
        "    out_file=None,                 # ファイルに出力しない．\n",
        "    feature_names=X.columns,       # 変数名\n",
        "    class_names=my_model.classes_, # カテゴリ名\n",
        "    filled=True)                   # 色を塗る．\n",
        "graphviz.Source(my_dot)"
      ],
      "id": "l6Q8KDrKw3cK"
    },
    {
      "cell_type": "code",
      "execution_count": null,
      "metadata": {
        "id": "vk6vHjZtw3cK"
      },
      "outputs": [],
      "source": [
        "my_test = pd.DataFrame([[5.0, 3.5, 1.5, 0.5],\n",
        "                        [6.5, 3.0, 5.0, 2.0]])\n",
        "my_model.predict(my_test)\n",
        "#> array(['setosa', 'virginica'], dtype=object)"
      ],
      "id": "vk6vHjZtw3cK"
    },
    {
      "cell_type": "code",
      "execution_count": null,
      "metadata": {
        "id": "jyzRdzzww3cK"
      },
      "outputs": [],
      "source": [
        "pd.DataFrame(\n",
        "    my_model.predict_proba(my_test),\n",
        "    columns=my_model.classes_)\n",
        "#>    setosa  versicolor  virginica\n",
        "#> 0     1.0    0.000000   0.000000\n",
        "#> 1     0.0    0.021739   0.978261"
      ],
      "id": "jyzRdzzww3cK"
    },
    {
      "cell_type": "markdown",
      "source": [
        "## 9.3 正解率"
      ],
      "metadata": {
        "id": "8b-bW8qrw3cK"
      },
      "id": "8b-bW8qrw3cK"
    },
    {
      "cell_type": "code",
      "execution_count": null,
      "metadata": {
        "id": "_pOOIBZuw3cK"
      },
      "outputs": [],
      "source": [
        "import graphviz\n",
        "import pandas as pd\n",
        "import statsmodels.api as sm\n",
        "from sklearn import tree\n",
        "from sklearn.metrics import confusion_matrix\n",
        "from sklearn.model_selection import cross_val_score, GridSearchCV, LeaveOneOut\n",
        "\n",
        "my_data = sm.datasets.get_rdataset('iris', 'datasets').data\n",
        "X, y = my_data.iloc[:, 0:4], my_data.Species\n",
        "\n",
        "my_model = tree.DecisionTreeClassifier(max_depth=2, random_state=0).fit(X, y)\n",
        "y_ = my_model.predict(X)\n",
        "confusion_matrix(y_true=y, y_pred=y_)\n",
        "#> array([[50,  0,  0],\n",
        "#>        [ 0, 49,  1],\n",
        "#>        [ 0,  5, 45]])"
      ],
      "id": "_pOOIBZuw3cK"
    },
    {
      "cell_type": "code",
      "execution_count": null,
      "metadata": {
        "id": "WT1G_I3Aw3cK"
      },
      "outputs": [],
      "source": [
        "my_model.score(X, y)\n",
        "# あるいは\n",
        "y_ = my_model.predict(X)\n",
        "(y_ == y).mean()\n",
        "\n",
        "#> 0.96"
      ],
      "id": "WT1G_I3Aw3cK"
    },
    {
      "cell_type": "code",
      "execution_count": null,
      "metadata": {
        "id": "ezZuJgVSw3cK"
      },
      "outputs": [],
      "source": [
        "cross_val_score(my_model, X, y, cv=LeaveOneOut()).mean()\n",
        "#> 0.9533333333333334"
      ],
      "id": "ezZuJgVSw3cK"
    },
    {
      "cell_type": "code",
      "execution_count": null,
      "metadata": {
        "id": "h5oxhLdxw3cL"
      },
      "outputs": [],
      "source": [
        "my_search = GridSearchCV(estimator=tree.DecisionTreeClassifier(random_state=0),\n",
        "                         param_grid={'max_depth': range(1, 11)},\n",
        "                         cv=LeaveOneOut(),\n",
        "                         n_jobs=-1).fit(X, y)\n",
        "my_search.best_params_, my_search.best_score_\n",
        "#> ({'max_depth': 2}, 0.9533333333333334)"
      ],
      "id": "h5oxhLdxw3cL"
    },
    {
      "cell_type": "code",
      "execution_count": null,
      "metadata": {
        "id": "4lhEBSdxw3cL"
      },
      "outputs": [],
      "source": [
        "my_params = {\n",
        "    'max_depth': range(2, 6),\n",
        "    'min_samples_split': [2, 20],\n",
        "    'min_samples_leaf': range(1, 8)}\n",
        "\n",
        "my_search = GridSearchCV(\n",
        "    estimator=tree.DecisionTreeClassifier(min_impurity_decrease=0.01,\n",
        "                                          random_state=0),\n",
        "    param_grid=my_params,\n",
        "    cv=LeaveOneOut(),\n",
        "    n_jobs=-1).fit(X, y)\n",
        "my_search.best_params_, my_search.best_score_\n",
        "#> ({'max_depth': 3, 'min_samples_leaf': 5, 'min_samples_split': 2},\n",
        "#>  0.9733333333333334)\n",
        "\n",
        "tmp = my_search.cv_results_\n",
        "my_results = pd.DataFrame(tmp['params']).assign(\n",
        "    Accuracy=tmp['mean_test_score'])\n",
        "# 正解率（検証）の最大値\n",
        "my_results[my_results.Accuracy == my_results.Accuracy.max()]\n",
        "#>     max_depth  min_samples_leaf  min_samples_split  Accuracy\n",
        "#> 22          3                 5                  2  0.973333\n",
        "#> 23          3                 5                 20  0.973333\n",
        "#> 36          4                 5                  2  0.973333\n",
        "#> 37          4                 5                 20  0.973333\n",
        "#> 50          5                 5                  2  0.973333\n",
        "#> 51          5                 5                 20  0.973333"
      ],
      "id": "4lhEBSdxw3cL"
    },
    {
      "cell_type": "code",
      "execution_count": null,
      "metadata": {
        "id": "0M7PSAF5w3cL"
      },
      "outputs": [],
      "source": [
        "my_model = my_search.best_estimator_\n",
        "my_dot = tree.export_graphviz(\n",
        "    decision_tree=my_model,\n",
        "    out_file=None,\n",
        "    feature_names=X.columns,\n",
        "    class_names=my_model.classes_,\n",
        "    filled=True)\n",
        "graphviz.Source(my_dot)"
      ],
      "id": "0M7PSAF5w3cL"
    },
    {
      "cell_type": "markdown",
      "source": [
        "## 9.4 複数の木を使う方法"
      ],
      "metadata": {
        "id": "8RM7D1diw3cL"
      },
      "id": "8RM7D1diw3cL"
    },
    {
      "cell_type": "code",
      "execution_count": null,
      "metadata": {
        "id": "KnxAghtQw3cL"
      },
      "outputs": [],
      "source": [
        "import pandas as pd\n",
        "import statsmodels.api as sm\n",
        "import warnings\n",
        "import xgboost\n",
        "from sklearn.ensemble import RandomForestClassifier\n",
        "from sklearn.model_selection import GridSearchCV, LeaveOneOut\n",
        "from sklearn.preprocessing import LabelEncoder\n",
        "\n",
        "my_data = sm.datasets.get_rdataset('iris', 'datasets').data\n",
        "X, y = my_data.iloc[:, 0:4], my_data.Species\n",
        "label_encoder = LabelEncoder(); y = label_encoder.fit_transform(y)\n",
        "\n",
        "my_search = GridSearchCV(RandomForestClassifier(),\n",
        "                         param_grid={'max_features': [2, 3, 4]},\n",
        "                         cv=LeaveOneOut(),\n",
        "                         n_jobs=-1).fit(X, y)\n",
        "my_search.best_params_\n",
        "#> {'max_features': 2}\n",
        "\n",
        "my_search.cv_results_['mean_test_score']\n",
        "#> array([0.96      , 0.96      , 0.95333333])"
      ],
      "id": "KnxAghtQw3cL"
    },
    {
      "cell_type": "code",
      "execution_count": null,
      "metadata": {
        "id": "0z501w3Ew3cL"
      },
      "outputs": [],
      "source": [
        "warnings.simplefilter('ignore') # これ以降，警告を表示しない．\n",
        "my_search = GridSearchCV(\n",
        "    xgboost.XGBClassifier(eval_metric='mlogloss'),\n",
        "    param_grid={'n_estimators'    : [50, 100, 150],\n",
        "                'max_depth'       : [1, 2, 3],\n",
        "                'learning_rate'   : [0.3, 0.4],\n",
        "                'gamma'           : [0],\n",
        "                'colsample_bytree': [0.6, 0.8],\n",
        "                'min_child_weight': [1],\n",
        "                'subsample'       : [0.5, 0.75, 1]},\n",
        "    cv=5, # 5分割交差検証\n",
        "    n_jobs=1).fit(X, y) # n_jobs=-1ではない．\n",
        "warnings.simplefilter('default') # これ以降，警告を表示する．\n",
        "\n",
        "my_search.best_params_\n",
        "#> {'colsample_bytree': 0.6,\n",
        "#>  'gamma': 0,\n",
        "#>  'learning_rate': 0.3,\n",
        "#>  'max_depth': 1,\n",
        "#>  'min_child_weight': 1,\n",
        "#>  'n_estimators': 50,\n",
        "#>  'subsample': 0.75}\n",
        "\n",
        "my_search.best_score_\n",
        "#> 0.9666666666666668"
      ],
      "id": "0z501w3Ew3cL"
    },
    {
      "cell_type": "code",
      "execution_count": null,
      "metadata": {
        "id": "uX7k5hcDw3cL"
      },
      "outputs": [],
      "source": [
        "my_model = RandomForestClassifier().fit(X, y)\n",
        "tmp = pd.Series(my_model.feature_importances_, index=X.columns)\n",
        "tmp.sort_values().plot(kind='barh')"
      ],
      "id": "uX7k5hcDw3cL"
    },
    {
      "cell_type": "markdown",
      "source": [
        "## 9.5 欠損のあるデータでの学習"
      ],
      "metadata": {
        "id": "sc3Pt_VBw3cL"
      },
      "id": "sc3Pt_VBw3cL"
    },
    {
      "cell_type": "code",
      "execution_count": null,
      "metadata": {
        "id": "f2rbNEqmw3cL"
      },
      "outputs": [],
      "source": [
        "import numpy as np\n",
        "import statsmodels.api as sm\n",
        "import warnings\n",
        "import xgboost\n",
        "from sklearn import tree\n",
        "from sklearn.impute import SimpleImputer\n",
        "from sklearn.model_selection import cross_val_score, LeaveOneOut\n",
        "from sklearn.pipeline import Pipeline\n",
        "\n",
        "my_data = sm.datasets.get_rdataset('iris', 'datasets').data\n",
        "\n",
        "n = len(my_data)\n",
        "my_data['Petal.Length'] = [np.nan if i % 10 == 0 else\n",
        "                           my_data['Petal.Length'][i] for i in range(n)]\n",
        "my_data['Petal.Width']  = [np.nan if i % 10 == 1 else\n",
        "                           my_data['Petal.Width'][i]  for i in range(n)]\n",
        "\n",
        "my_data.describe() # countの値が135の変数に，150-135=15個の欠損がある．\n",
        "#>        Sepal.Length  Sepal.Width  Petal.Length  Petal.Width\n",
        "#> count    150.000000   150.000000    135.000000   135.000000\n",
        "#> mean       5.843333     3.057333      3.751852     1.197037\n",
        "# 以下省略\n",
        "\n",
        "X, y = my_data.iloc[:, 0:4], my_data.Species"
      ],
      "id": "f2rbNEqmw3cL"
    },
    {
      "cell_type": "code",
      "execution_count": null,
      "metadata": {
        "id": "AYL-k8nXw3cM"
      },
      "outputs": [],
      "source": [
        "my_pipeline = Pipeline([\n",
        "    ('imputer', SimpleImputer(strategy='median')), # 欠損を中央値で埋める．\n",
        "    ('tree', tree.DecisionTreeClassifier(random_state=0))])\n",
        "my_scores = cross_val_score(my_pipeline, X, y, cv=LeaveOneOut(), n_jobs=-1)\n",
        "my_scores.mean()\n",
        "#> 0.9333333333333333"
      ],
      "id": "AYL-k8nXw3cM"
    },
    {
      "cell_type": "code",
      "execution_count": null,
      "metadata": {
        "id": "GrumLr6nw3cM"
      },
      "outputs": [],
      "source": [
        "from sklearn.preprocessing import LabelEncoder\n",
        "label_encoder = LabelEncoder()\n",
        "y = label_encoder.fit_transform(y)\n",
        "\n",
        "warnings.simplefilter('ignore')  # これ以降，警告を表示しない．\n",
        "my_scores = cross_val_score(\n",
        "    xgboost.XGBClassifier(eval_metric='mlogloss'), X, y, cv=5)\n",
        "warnings.simplefilter('default') # これ以降，警告を表示する．\n",
        "\n",
        "my_scores.mean()\n",
        "#> 0.9666666666666668"
      ],
      "id": "GrumLr6nw3cM"
    },
    {
      "cell_type": "markdown",
      "source": [
        "## 9.6 他の分類手法"
      ],
      "metadata": {
        "id": "FF5FoDQgw3cM"
      },
      "id": "FF5FoDQgw3cM"
    },
    {
      "cell_type": "code",
      "execution_count": null,
      "metadata": {
        "id": "bz_XkNeMw3cM"
      },
      "outputs": [],
      "source": [
        "import statsmodels.api as sm\n",
        "from sklearn.model_selection import cross_val_score, LeaveOneOut\n",
        "from sklearn.neighbors import KNeighborsClassifier\n",
        "\n",
        "my_data = sm.datasets.get_rdataset('iris', 'datasets').data\n",
        "X, y = my_data.iloc[:, 0:4], my_data.Species\n",
        "\n",
        "my_scores = cross_val_score(KNeighborsClassifier(), X, y, cv=LeaveOneOut())\n",
        "my_scores.mean()\n",
        "#> 0.9666666666666667"
      ],
      "id": "bz_XkNeMw3cM"
    },
    {
      "cell_type": "code",
      "execution_count": null,
      "metadata": {
        "id": "XjpCFlOBw3cM"
      },
      "outputs": [],
      "source": [
        "import statsmodels.api as sm\n",
        "from sklearn.model_selection import cross_val_score, LeaveOneOut\n",
        "from sklearn.neural_network import MLPClassifier\n",
        "from sklearn.pipeline import Pipeline\n",
        "from sklearn.preprocessing import StandardScaler\n",
        "\n",
        "my_data = sm.datasets.get_rdataset('iris', 'datasets').data\n",
        "X, y = my_data.iloc[:, 0:4], my_data.Species\n",
        "\n",
        "my_pipeline = Pipeline([('sc',  StandardScaler()),              # 標準化\n",
        "                        ('mlp', MLPClassifier(max_iter=1000))]) # ニューラルネットワーク\n",
        "my_scores = cross_val_score(my_pipeline, X, y, cv=LeaveOneOut(), n_jobs=-1)\n",
        "my_scores.mean()\n",
        "#> 0.9533333333333334"
      ],
      "id": "XjpCFlOBw3cM"
    },
    {
      "cell_type": "markdown",
      "source": [
        "# 10 分類2（2値分類）\n",
        "\n",
        "\n"
      ],
      "metadata": {
        "id": "CL6XbG7Vw3cM"
      },
      "id": "CL6XbG7Vw3cM"
    },
    {
      "cell_type": "markdown",
      "source": [
        "## 10.1 2値分類の性能指標"
      ],
      "metadata": {
        "id": "C1-9N0qAw3cM"
      },
      "id": "C1-9N0qAw3cM"
    },
    {
      "cell_type": "code",
      "execution_count": null,
      "metadata": {
        "id": "jwIupuNKw3cM"
      },
      "outputs": [],
      "source": [
        "import numpy as np\n",
        "from sklearn.metrics import classification_report, confusion_matrix\n",
        "\n",
        "y       = np.array([  0,   1,   1,   0,   1,   0,    1,   0,   0,   1])\n",
        "y_score = np.array([0.7, 0.8, 0.3, 0.4, 0.9, 0.6, 0.99, 0.1, 0.2, 0.5])"
      ],
      "id": "jwIupuNKw3cM"
    },
    {
      "cell_type": "code",
      "execution_count": null,
      "metadata": {
        "id": "hUy5-BC1w3cM"
      },
      "outputs": [],
      "source": [
        "y_ = np.array([1 if 0.5 <= p else 0 for p in y_score])\n",
        "y_\n",
        "#> array([1, 1, 0, 0, 1, 1, 1, 0, 0, 1])"
      ],
      "id": "hUy5-BC1w3cM"
    },
    {
      "cell_type": "code",
      "execution_count": null,
      "metadata": {
        "id": "rRLB644Vw3cN"
      },
      "outputs": [],
      "source": [
        "confusion_matrix(y_true=y, y_pred=y_)\n",
        "#> array([[3, 2],\n",
        "#>        [1, 4]])\n",
        "\n",
        "print(classification_report(y_true=y, y_pred=y_))\n",
        "#>               precision    recall  f1-score   support\n",
        "#>\n",
        "#>            0       0.75      0.60      0.67         5\n",
        "#>            1       0.67      0.80      0.73         5\n",
        "#>\n",
        "#>     accuracy                           0.70        10\n",
        "#>    macro avg       0.71      0.70      0.70        10\n",
        "#> weighted avg       0.71      0.70      0.70        10"
      ],
      "id": "rRLB644Vw3cN"
    },
    {
      "cell_type": "markdown",
      "source": [
        "## 10.2 トレードオフ"
      ],
      "metadata": {
        "id": "Qaz2tuRzw3cN"
      },
      "id": "Qaz2tuRzw3cN"
    },
    {
      "cell_type": "code",
      "execution_count": null,
      "metadata": {
        "id": "LZda8Cshw3cN"
      },
      "outputs": [],
      "source": [
        "import numpy as np\n",
        "from sklearn.metrics import (roc_curve, RocCurveDisplay,\n",
        "    precision_recall_curve, PrecisionRecallDisplay, auc)\n",
        "\n",
        "y       = np.array([  0,   1,   1,   0,   1,   0,    1,   0,   0,   1])\n",
        "y_score = np.array([0.7, 0.8, 0.3, 0.4, 0.9, 0.6, 0.99, 0.1, 0.2, 0.5])\n",
        "y_      = np.array([1 if 0.5 <= p else 0 for p in y_score])\n",
        "\n",
        "[sum((y == 0) & (y_ == 1)) / sum(y == 0), # FPR\n",
        " sum((y == 1) & (y_ == 1)) / sum(y == 1)] # TPR\n",
        "#> [0.4, 0.8]"
      ],
      "id": "LZda8Cshw3cN"
    },
    {
      "cell_type": "code",
      "execution_count": null,
      "metadata": {
        "id": "IHIR-qGvw3cN"
      },
      "outputs": [],
      "source": [
        "my_fpr, my_tpr, _ = roc_curve(y_true=y,\n",
        "                              y_score=y_score,\n",
        "                              pos_label=1) # 1が陽性である．\n",
        "RocCurveDisplay(fpr=my_fpr, tpr=my_tpr).plot()"
      ],
      "id": "IHIR-qGvw3cN"
    },
    {
      "cell_type": "code",
      "execution_count": null,
      "metadata": {
        "id": "vxrQFgs6w3cN"
      },
      "outputs": [],
      "source": [
        "auc(x=my_fpr, y=my_tpr)\n",
        "#> 0.8"
      ],
      "id": "vxrQFgs6w3cN"
    },
    {
      "cell_type": "code",
      "execution_count": null,
      "metadata": {
        "id": "jL3RDfSEw3cN"
      },
      "outputs": [],
      "source": [
        "[sum((y == 1) & (y_ == 1)) / sum(y  == 1), # Recall == TPR\n",
        " sum((y == 1) & (y_ == 1)) / sum(y_ == 1)] # Precision\n",
        "#> [0.8, 0.6666666666666666]"
      ],
      "id": "jL3RDfSEw3cN"
    },
    {
      "cell_type": "code",
      "execution_count": null,
      "metadata": {
        "id": "vPQW-xVaw3cN"
      },
      "outputs": [],
      "source": [
        "my_precision, my_recall, _ = precision_recall_curve(y_true=y,\n",
        "                                                    probas_pred=y_score,\n",
        "                                                    pos_label=1)\n",
        "PrecisionRecallDisplay(precision=my_precision, recall=my_recall).plot()"
      ],
      "id": "vPQW-xVaw3cN"
    },
    {
      "cell_type": "code",
      "execution_count": null,
      "metadata": {
        "id": "pxikex5Zw3cN"
      },
      "outputs": [],
      "source": [
        "auc(x=my_recall, y=my_precision)\n",
        "#> 0.8463095238095237"
      ],
      "id": "pxikex5Zw3cN"
    },
    {
      "cell_type": "markdown",
      "source": [
        "## 10.3 タイタニック"
      ],
      "metadata": {
        "id": "2yrt-kG0w3cN"
      },
      "id": "2yrt-kG0w3cN"
    },
    {
      "cell_type": "code",
      "execution_count": null,
      "metadata": {
        "id": "CbR1gPbew3cN"
      },
      "outputs": [],
      "source": [
        "import graphviz\n",
        "import pandas as pd\n",
        "from sklearn import tree\n",
        "from sklearn.metrics import roc_curve, RocCurveDisplay, auc\n",
        "from sklearn.model_selection import cross_val_score, LeaveOneOut\n",
        "from sklearn.pipeline import Pipeline\n",
        "from sklearn.preprocessing import OneHotEncoder\n",
        "\n",
        "my_url = ('https://raw.githubusercontent.com/taroyabuki'\n",
        "          '/fromzero/master/data/titanic.csv')\n",
        "my_data = pd.read_csv(my_url)"
      ],
      "id": "CbR1gPbew3cN"
    },
    {
      "cell_type": "code",
      "execution_count": null,
      "metadata": {
        "id": "Ce8r32dqw3cN"
      },
      "outputs": [],
      "source": [
        "my_data.head()\n",
        "#>   Class   Sex    Age Survived\n",
        "#> 0   1st  Male  Child      Yes\n",
        "#> 1   1st  Male  Child      Yes\n",
        "#> 2   1st  Male  Child      Yes\n",
        "#> 3   1st  Male  Child      Yes\n",
        "#> 4   1st  Male  Child      Yes"
      ],
      "id": "Ce8r32dqw3cN"
    },
    {
      "cell_type": "code",
      "execution_count": null,
      "metadata": {
        "id": "Bwf4uDf5w3cN"
      },
      "outputs": [],
      "source": [
        "X, y = my_data.iloc[:, 0:3], my_data.Survived\n",
        "\n",
        "my_pipeline = Pipeline([\n",
        "    ('ohe', OneHotEncoder(drop='first')),\n",
        "    ('tree', tree.DecisionTreeClassifier(max_depth=2, random_state=0,\n",
        "                                         min_impurity_decrease=0.01))])\n",
        "my_pipeline.fit(X, y)"
      ],
      "id": "Bwf4uDf5w3cN"
    },
    {
      "cell_type": "code",
      "execution_count": null,
      "metadata": {
        "id": "HiLCoyIdw3cO"
      },
      "outputs": [],
      "source": [
        "my_enc  = my_pipeline.named_steps['ohe']  # パイプラインからエンコーダを取り出す．\n",
        "my_tree = my_pipeline.named_steps['tree'] # パイプラインから木を取り出す．\n",
        "\n",
        "my_dot = tree.export_graphviz(\n",
        "    decision_tree=my_tree,\n",
        "    out_file=None,\n",
        "    feature_names=my_enc.get_feature_names() \\\n",
        "    if hasattr(my_enc, 'get_feature_names') else my_enc.get_feature_names_out(),\n",
        "    class_names=my_pipeline.classes_,\n",
        "    filled=True)\n",
        "graphviz.Source(my_dot)"
      ],
      "id": "HiLCoyIdw3cO"
    },
    {
      "cell_type": "code",
      "execution_count": null,
      "metadata": {
        "id": "a2yVma7vw3cO"
      },
      "outputs": [],
      "source": [
        "my_scores = cross_val_score(\n",
        "    my_pipeline, X, y,\n",
        "    cv=LeaveOneOut(),\n",
        "    n_jobs=-1)\n",
        "my_scores.mean()\n",
        "#> 0.7832803271240345"
      ],
      "id": "a2yVma7vw3cO"
    },
    {
      "cell_type": "code",
      "execution_count": null,
      "metadata": {
        "id": "P5mE_lGKw3cO"
      },
      "outputs": [],
      "source": [
        "tmp = pd.DataFrame(\n",
        "    my_pipeline.predict_proba(X),\n",
        "    columns=my_pipeline.classes_)\n",
        "y_score = tmp.Yes\n",
        "\n",
        "my_fpr, my_tpr, _ = roc_curve(y_true=y,\n",
        "                              y_score=y_score,\n",
        "                              pos_label='Yes')\n",
        "my_auc = auc(x=my_fpr, y=my_tpr)\n",
        "my_auc\n",
        "#> 0.7114886868858494\n",
        "\n",
        "RocCurveDisplay(fpr=my_fpr, tpr=my_tpr, roc_auc=my_auc).plot()"
      ],
      "id": "P5mE_lGKw3cO"
    },
    {
      "cell_type": "markdown",
      "source": [
        "## 10.4 ロジスティック回帰"
      ],
      "metadata": {
        "id": "Ynk3n7LJw3cO"
      },
      "id": "Ynk3n7LJw3cO"
    },
    {
      "cell_type": "code",
      "execution_count": null,
      "metadata": {
        "id": "aMOWbTNKw3cO"
      },
      "outputs": [],
      "source": [
        "import matplotlib.pyplot as plt\n",
        "import numpy as np\n",
        "\n",
        "x = np.arange(-6, 6, 0.1)\n",
        "y = 1 / (1 + np.exp(-x))\n",
        "plt.plot(x, y)"
      ],
      "id": "aMOWbTNKw3cO"
    },
    {
      "cell_type": "code",
      "execution_count": null,
      "metadata": {
        "id": "fh5NHBFtw3cO"
      },
      "outputs": [],
      "source": [
        "import pandas as pd\n",
        "from sklearn.linear_model import LogisticRegression\n",
        "from sklearn.model_selection import cross_val_score, LeaveOneOut\n",
        "from sklearn.pipeline import Pipeline\n",
        "from sklearn.preprocessing import OneHotEncoder\n",
        "\n",
        "my_url = ('https://raw.githubusercontent.com/taroyabuki'\n",
        "          '/fromzero/master/data/titanic.csv')\n",
        "my_data = pd.read_csv(my_url)\n",
        "\n",
        "X, y = my_data.iloc[:, 0:3], my_data.Survived\n",
        "\n",
        "my_pipeline = Pipeline([('ohe', OneHotEncoder(drop='first')),\n",
        "                        ('lr', LogisticRegression(penalty='none'))])\n",
        "my_pipeline.fit(X, y)"
      ],
      "id": "fh5NHBFtw3cO"
    },
    {
      "cell_type": "code",
      "execution_count": null,
      "metadata": {
        "id": "RtjWXRrDw3cO"
      },
      "outputs": [],
      "source": [
        "my_ohe = my_pipeline.named_steps.ohe\n",
        "my_lr  = my_pipeline.named_steps.lr\n",
        "\n",
        "my_lr.intercept_[0]\n",
        "#> 2.043878162056783\n",
        "\n",
        "tmp = my_ohe.get_feature_names() \\\n",
        "if hasattr(my_ohe, 'get_feature_names') \\\n",
        "else my_ohe.get_feature_names_out()\n",
        "pd.Series(my_lr.coef_[0],\n",
        "          index=tmp)\n",
        "#> x0_2nd     -1.018069\n",
        "#> x0_3rd     -1.777746\n",
        "#> x0_Crew    -0.857708\n",
        "#> x1_Male    -2.420090\n",
        "#> x2_Child    1.061531\n",
        "#> dtype: float64"
      ],
      "id": "RtjWXRrDw3cO"
    },
    {
      "cell_type": "code",
      "execution_count": null,
      "metadata": {
        "id": "VdJBbnpYw3cO"
      },
      "outputs": [],
      "source": [
        "my_scores = cross_val_score(\n",
        "    my_pipeline, X, y,\n",
        "    cv=LeaveOneOut(),\n",
        "    n_jobs=-1)\n",
        "my_scores.mean()\n",
        "#> 0.7782825988187188"
      ],
      "id": "VdJBbnpYw3cO"
    },
    {
      "cell_type": "markdown",
      "source": [
        "# 11 深層学習とAutoML\n",
        "\n",
        "\n"
      ],
      "metadata": {
        "id": "ZjmUMWH2w3cO"
      },
      "id": "ZjmUMWH2w3cO"
    },
    {
      "cell_type": "markdown",
      "source": [
        "## 11.1 Kerasによる回帰"
      ],
      "metadata": {
        "id": "cW0ODze_w3cP"
      },
      "id": "cW0ODze_w3cP"
    },
    {
      "cell_type": "code",
      "execution_count": null,
      "metadata": {
        "id": "U3Bdu1YUw3cP"
      },
      "outputs": [],
      "source": [
        "import matplotlib.pyplot as plt\n",
        "import numpy as np\n",
        "import pandas as pd\n",
        "from keras import activations, callbacks, layers, models\n",
        "from sklearn.preprocessing import StandardScaler\n",
        "from sklearn.utils import shuffle\n",
        "\n",
        "my_url = ('https://raw.githubusercontent.com/taroyabuki'\n",
        "          '/fromzero/master/data/wine.csv')\n",
        "tmp = pd.read_csv(my_url)"
      ],
      "id": "U3Bdu1YUw3cP"
    },
    {
      "cell_type": "code",
      "execution_count": null,
      "metadata": {
        "id": "m5oKcHxfw3cP"
      },
      "outputs": [],
      "source": [
        "my_data = shuffle(tmp)"
      ],
      "id": "m5oKcHxfw3cP"
    },
    {
      "cell_type": "code",
      "execution_count": null,
      "metadata": {
        "id": "IDSl8W1hw3cP"
      },
      "outputs": [],
      "source": [
        "my_scaler = StandardScaler()\n",
        "X = my_scaler.fit_transform(\n",
        "    my_data.drop(columns=['LPRICE2']))\n",
        "y = my_data['LPRICE2']"
      ],
      "id": "IDSl8W1hw3cP"
    },
    {
      "cell_type": "code",
      "execution_count": null,
      "metadata": {
        "id": "HV01K6aww3cP"
      },
      "outputs": [],
      "source": [
        "x = np.linspace(-3, 3, 100)\n",
        "plt.plot(x, activations.relu(x))\n",
        "plt.xlabel('x')\n",
        "plt.ylabel('ReLU(x)')"
      ],
      "id": "HV01K6aww3cP"
    },
    {
      "cell_type": "code",
      "execution_count": null,
      "metadata": {
        "id": "zZiYj3cbw3cP"
      },
      "outputs": [],
      "source": [
        "my_model = models.Sequential()\n",
        "my_model.add(layers.Dense(units=3, activation='relu', input_shape=[4]))\n",
        "my_model.add(layers.Dense(units=1))\n",
        "\n",
        "my_model.summary() # ネットワークの概要\n",
        "#> Model: \"sequential\"\n",
        "#> _________________________________________________________________\n",
        "#> Layer (type)                 Output Shape              Param #\n",
        "#> =================================================================\n",
        "#> dense (Dense)                (None, 3)                 15\n",
        "#> _________________________________________________________________\n",
        "#> dense_1 (Dense)              (None, 1)                 4\n",
        "#> =================================================================\n",
        "#> Total params: 19\n",
        "#> Trainable params: 19\n",
        "#> Non-trainable params: 0"
      ],
      "id": "zZiYj3cbw3cP"
    },
    {
      "cell_type": "code",
      "execution_count": null,
      "metadata": {
        "id": "rtXC6RYIw3cQ"
      },
      "outputs": [],
      "source": [
        "my_model.compile(\n",
        "    loss='mse',\n",
        "    optimizer='rmsprop')"
      ],
      "id": "rtXC6RYIw3cQ"
    },
    {
      "cell_type": "code",
      "execution_count": null,
      "metadata": {
        "id": "fKYH7kRMw3cQ"
      },
      "outputs": [],
      "source": [
        "my_cb = callbacks.EarlyStopping(\n",
        "    patience=20,\n",
        "    restore_best_weights=True)"
      ],
      "id": "fKYH7kRMw3cQ"
    },
    {
      "cell_type": "code",
      "execution_count": null,
      "metadata": {
        "id": "bXvNc7Hjw3cQ"
      },
      "outputs": [],
      "source": [
        "my_history = my_model.fit(\n",
        "    x=X,\n",
        "    y=y,\n",
        "    validation_split=0.25,\n",
        "    batch_size=10,\n",
        "    epochs=500,\n",
        "    callbacks=[my_cb],\n",
        "    verbose=0)"
      ],
      "id": "bXvNc7Hjw3cQ"
    },
    {
      "cell_type": "code",
      "execution_count": null,
      "metadata": {
        "id": "0XzuVJ7xw3cQ"
      },
      "outputs": [],
      "source": [
        "tmp = pd.DataFrame(my_history.history)\n",
        "tmp.plot(xlabel='epoch')"
      ],
      "id": "0XzuVJ7xw3cQ"
    },
    {
      "cell_type": "code",
      "execution_count": null,
      "metadata": {
        "id": "es0N0T73w3cQ"
      },
      "outputs": [],
      "source": [
        "tmp.iloc[-1, ]\n",
        "#> loss        0.192743\n",
        "#> val_loss    0.342249\n",
        "#> Name: 499, dtype: float64"
      ],
      "id": "es0N0T73w3cQ"
    },
    {
      "cell_type": "code",
      "execution_count": null,
      "metadata": {
        "id": "rrbentQmw3cQ"
      },
      "outputs": [],
      "source": [
        "y_ = my_model.predict(X)\n",
        "((y_.ravel() - y)**2).mean()\n",
        "#> 0.23050613964540986"
      ],
      "id": "rrbentQmw3cQ"
    },
    {
      "cell_type": "markdown",
      "source": [
        "## 11.2 Kerasによる分類"
      ],
      "metadata": {
        "id": "AQmFrEtiw3cQ"
      },
      "id": "AQmFrEtiw3cQ"
    },
    {
      "cell_type": "code",
      "execution_count": null,
      "metadata": {
        "id": "SV4zlD6ow3cQ"
      },
      "outputs": [],
      "source": [
        "import numpy as np\n",
        "import pandas as pd\n",
        "import statsmodels.api as sm\n",
        "from keras import callbacks, layers, losses, models\n",
        "from sklearn.preprocessing import StandardScaler, LabelEncoder\n",
        "from sklearn.utils import shuffle\n",
        "\n",
        "tmp = sm.datasets.get_rdataset('iris', 'datasets').data\n",
        "my_data = shuffle(tmp)"
      ],
      "id": "SV4zlD6ow3cQ"
    },
    {
      "cell_type": "code",
      "execution_count": null,
      "metadata": {
        "id": "6DROUNtTw3cR"
      },
      "outputs": [],
      "source": [
        "my_scaler = StandardScaler()\n",
        "X = my_scaler.fit_transform(\n",
        "    my_data.drop(columns=['Species']))\n",
        "my_enc = LabelEncoder()\n",
        "y = my_enc.fit_transform(\n",
        "    my_data['Species'])"
      ],
      "id": "6DROUNtTw3cR"
    },
    {
      "cell_type": "code",
      "execution_count": null,
      "metadata": {
        "id": "OFwO7GMjw3cR"
      },
      "outputs": [],
      "source": [
        "my_model = models.Sequential()\n",
        "my_model.add(layers.Dense(units=3, activation='relu', input_shape=[4]))\n",
        "my_model.add(layers.Dense(units=3, activation='softmax'))"
      ],
      "id": "OFwO7GMjw3cR"
    },
    {
      "cell_type": "code",
      "execution_count": null,
      "metadata": {
        "id": "To3WAo-Rw3cR"
      },
      "outputs": [],
      "source": [
        "my_model.compile(loss='sparse_categorical_crossentropy',\n",
        "                 optimizer='rmsprop',\n",
        "                 metrics=['accuracy'])"
      ],
      "id": "To3WAo-Rw3cR"
    },
    {
      "cell_type": "code",
      "execution_count": null,
      "metadata": {
        "id": "U6e40w2ew3cR"
      },
      "outputs": [],
      "source": [
        "my_cb = callbacks.EarlyStopping(\n",
        "    patience=20,\n",
        "    restore_best_weights=True)\n",
        "\n",
        "my_history = my_model.fit(\n",
        "    x=X,\n",
        "    y=y,\n",
        "    validation_split=0.25,\n",
        "    batch_size=10,\n",
        "    epochs=500,\n",
        "    callbacks=[my_cb],\n",
        "    verbose=0)\n",
        "\n",
        "tmp = pd.DataFrame(my_history.history)\n",
        "tmp.plot(xlabel='epoch')"
      ],
      "id": "U6e40w2ew3cR"
    },
    {
      "cell_type": "code",
      "execution_count": null,
      "metadata": {
        "id": "e-ECI0REw3cR"
      },
      "outputs": [],
      "source": [
        "tmp.iloc[-1, ]\n",
        "#> loss            0.067497\n",
        "#> accuracy        0.973214\n",
        "#> val_loss        0.143529\n",
        "#> val_accuracy    0.921053"
      ],
      "id": "e-ECI0REw3cR"
    },
    {
      "cell_type": "code",
      "execution_count": null,
      "metadata": {
        "id": "35mxRR58w3cR"
      },
      "outputs": [],
      "source": [
        "tmp = my_model.predict(X)\n",
        "y_ = np.argmax(tmp, axis=-1)\n",
        "(y_ == y).mean()\n",
        "#> 0.96"
      ],
      "id": "35mxRR58w3cR"
    },
    {
      "cell_type": "code",
      "execution_count": null,
      "metadata": {
        "id": "3gai6w1Iw3cR"
      },
      "outputs": [],
      "source": [
        "-np.log([0.8, 0.7, 0.3, 0.8]).mean()\n",
        "#> 0.5017337127232719\n",
        "\n",
        "-np.log([0.7, 0.6, 0.2, 0.7]).mean()\n",
        "#> 0.708403356019389"
      ],
      "id": "3gai6w1Iw3cR"
    },
    {
      "cell_type": "code",
      "execution_count": null,
      "metadata": {
        "id": "qvW1e733w3cR"
      },
      "outputs": [],
      "source": [
        "y = [2, 1, 0, 1]\n",
        "y_1 = [[0.1, 0.1, 0.8],\n",
        "       [0.1, 0.7, 0.2],\n",
        "       [0.3, 0.4, 0.3],\n",
        "       [0.1, 0.8, 0.1]]\n",
        "y_2 = [[0.1, 0.2, 0.7],\n",
        "       [0.2, 0.6, 0.2],\n",
        "       [0.2, 0.5, 0.3],\n",
        "       [0.2, 0.7, 0.1]]"
      ],
      "id": "qvW1e733w3cR"
    },
    {
      "cell_type": "code",
      "execution_count": null,
      "metadata": {
        "id": "yhaOOmqDw3cR"
      },
      "outputs": [],
      "source": [
        "[losses.sparse_categorical_crossentropy(y_true=y, y_pred=y_1).numpy().mean(),\n",
        " losses.sparse_categorical_crossentropy(y_true=y, y_pred=y_2).numpy().mean()]\n",
        "#> [0.5017337, 0.70840335]"
      ],
      "id": "yhaOOmqDw3cR"
    },
    {
      "cell_type": "markdown",
      "source": [
        "## 11.3 MNIST：手書き数字の分類"
      ],
      "metadata": {
        "id": "VibdgZxKw3cR"
      },
      "id": "VibdgZxKw3cR"
    },
    {
      "cell_type": "code",
      "execution_count": null,
      "metadata": {
        "id": "IaacZ75Fw3cR"
      },
      "outputs": [],
      "source": [
        "import matplotlib.pyplot as plt\n",
        "import numpy as np\n",
        "import pandas as pd\n",
        "import tensorflow as tf\n",
        "from random import sample\n",
        "from keras import callbacks, layers, models\n",
        "from sklearn.metrics import confusion_matrix\n",
        "\n",
        "(x_train, y_train), (x_test, y_test) = tf.keras.datasets.mnist.load_data()"
      ],
      "id": "IaacZ75Fw3cR"
    },
    {
      "cell_type": "code",
      "execution_count": null,
      "metadata": {
        "id": "ZWHQJe5xw3cS"
      },
      "outputs": [],
      "source": [
        "x_train.shape\n",
        "#> (60000, 28, 28)"
      ],
      "id": "ZWHQJe5xw3cS"
    },
    {
      "cell_type": "code",
      "execution_count": null,
      "metadata": {
        "id": "aXDz_8agw3cS"
      },
      "outputs": [],
      "source": [
        "np.set_printoptions(linewidth=170)\n",
        "x_train[4, :, :]"
      ],
      "id": "aXDz_8agw3cS"
    },
    {
      "cell_type": "code",
      "execution_count": null,
      "metadata": {
        "id": "H5lxFa7pw3cS"
      },
      "outputs": [],
      "source": [
        "plt.matshow(x_train[4, :, :])"
      ],
      "id": "H5lxFa7pw3cS"
    },
    {
      "cell_type": "code",
      "execution_count": null,
      "metadata": {
        "id": "H5kKXOm8w3cS"
      },
      "outputs": [],
      "source": [
        "y_train\n",
        "#> array([5, 0, 4, ..., 5, 6, 8],\n",
        "#>       dtype=uint8)"
      ],
      "id": "H5kKXOm8w3cS"
    },
    {
      "cell_type": "code",
      "execution_count": null,
      "metadata": {
        "id": "7ksqJsiZw3cS"
      },
      "outputs": [],
      "source": [
        "x_train.min(), x_train.max()\n",
        "#> (0, 255)"
      ],
      "id": "7ksqJsiZw3cS"
    },
    {
      "cell_type": "code",
      "execution_count": null,
      "metadata": {
        "id": "mA4HPdLfw3cS"
      },
      "outputs": [],
      "source": [
        "x_train = x_train / 255\n",
        "x_test  = x_test  / 255"
      ],
      "id": "mA4HPdLfw3cS"
    },
    {
      "cell_type": "code",
      "execution_count": null,
      "metadata": {
        "id": "Ufiha7DIw3cS"
      },
      "outputs": [],
      "source": [
        "my_index = sample(range(60000), 6000)\n",
        "x_train = x_train[my_index, :, :]\n",
        "y_train = y_train[my_index]"
      ],
      "id": "Ufiha7DIw3cS"
    },
    {
      "cell_type": "code",
      "execution_count": null,
      "metadata": {
        "id": "uwo5rhCSw3cS"
      },
      "outputs": [],
      "source": [
        "my_model = models.Sequential()\n",
        "my_model.add(layers.Flatten(input_shape=[28, 28]))\n",
        "my_model.add(layers.Dense(units=256, activation=\"relu\"))\n",
        "my_model.add(layers.Dense(units=10, activation=\"softmax\"))\n",
        "\n",
        "my_model.summary()\n",
        "#> Model: \"sequential\"\n",
        "#> _________________________________________________________________\n",
        "#> Layer (type)                 Output Shape              Param #\n",
        "#> =================================================================\n",
        "#> flatten (Flatten)            (None, 784)               0\n",
        "#> _________________________________________________________________\n",
        "#> dense (Dense)                (None, 256)               200960\n",
        "#> _________________________________________________________________\n",
        "#> dense_1 (Dense)              (None, 10)                2570\n",
        "#> =================================================================\n",
        "#> Total params: 203,530\n",
        "#> Trainable params: 203,530\n",
        "#> Non-trainable params: 0\n",
        "#> _________________________________________________________________\n",
        "\n",
        "my_model.compile(loss='sparse_categorical_crossentropy',\n",
        "                 optimizer='rmsprop',\n",
        "                 metrics=['accuracy'])\n",
        "\n",
        "my_cb = callbacks.EarlyStopping(patience=5, restore_best_weights=True)"
      ],
      "id": "uwo5rhCSw3cS"
    },
    {
      "cell_type": "code",
      "execution_count": null,
      "metadata": {
        "id": "iERxZT-xw3cS"
      },
      "outputs": [],
      "source": [
        "my_history = my_model.fit(\n",
        "    x=x_train,\n",
        "    y=y_train,\n",
        "    validation_split=0.2,\n",
        "    batch_size=128,\n",
        "    epochs=20,\n",
        "    callbacks=[my_cb],\n",
        "    verbose=0)\n",
        "\n",
        "tmp = pd.DataFrame(my_history.history)\n",
        "tmp.plot(xlabel='epoch', style='o-')"
      ],
      "id": "iERxZT-xw3cS"
    },
    {
      "cell_type": "code",
      "execution_count": null,
      "metadata": {
        "id": "ISYxFFVTw3cS"
      },
      "outputs": [],
      "source": [
        "tmp = my_model.predict(x_test)\n",
        "y_ = np.argmax(tmp, axis=-1)\n",
        "confusion_matrix(y_true=y_test,\n",
        "                 y_pred=y_)"
      ],
      "id": "ISYxFFVTw3cS"
    },
    {
      "cell_type": "code",
      "execution_count": null,
      "metadata": {
        "id": "wGS5jVG-w3cT"
      },
      "outputs": [],
      "source": [
        "#> [[ 962    0    2    1    1    2    7    1    2    2]\n",
        "#>  [   0 1123    4    0    0    1    3    0    4    0]\n",
        "#>  [  11    4  954   11    6    2    7    9   26    2]\n",
        "#>  [   3    0   20  930    2   12    2   11   21    9]\n",
        "#>  [   1    1    7    0  927    1   11    1    5   28]\n",
        "#>  [  10    1    3   16    4  812   11    7   24    4]\n",
        "#>  [   9    3    4    0    9   10  919    0    4    0]\n",
        "#>  [   3    6   17    4   11    0    0  965    2   20]\n",
        "#>  [   8    4    6   12    6    9    9    7  901   12]\n",
        "#>  [   9    8    0    8   31    4    1   14    7  927]]"
      ],
      "id": "wGS5jVG-w3cT"
    },
    {
      "cell_type": "code",
      "execution_count": null,
      "metadata": {
        "id": "2Di9hxPpw3cT"
      },
      "outputs": [],
      "source": [
        "(y_ == y_test).mean()\n",
        "#> 0.942"
      ],
      "id": "2Di9hxPpw3cT"
    },
    {
      "cell_type": "code",
      "execution_count": null,
      "metadata": {
        "id": "fQF3V2g-w3cT"
      },
      "outputs": [],
      "source": [
        "my_model.evaluate(x=x_test, y=y_test)\n",
        "#> [0.20125965774059296,\n",
        "#>  0.9419999718666077]"
      ],
      "id": "fQF3V2g-w3cT"
    },
    {
      "cell_type": "code",
      "execution_count": null,
      "metadata": {
        "id": "x1gXvV1mw3cT"
      },
      "outputs": [],
      "source": [
        "x_train2d = x_train.reshape(-1, 28, 28, 1)\n",
        "x_test2d = x_test.reshape(-1, 28, 28, 1)"
      ],
      "id": "x1gXvV1mw3cT"
    },
    {
      "cell_type": "code",
      "execution_count": null,
      "metadata": {
        "id": "TvFxqgU3w3cT"
      },
      "outputs": [],
      "source": [
        "my_model = models.Sequential()\n",
        "my_model.add(layers.Conv2D(filters=32, kernel_size=3, # 畳み込み層\n",
        "                           activation='relu',\n",
        "                           input_shape=[28, 28, 1]))\n",
        "my_model.add(layers.MaxPooling2D(pool_size=2))        # プーリング層\n",
        "my_model.add(layers.Flatten())\n",
        "my_model.add(layers.Dense(128, activation='relu'))\n",
        "my_model.add(layers.Dense(10, activation='softmax'))\n",
        "\n",
        "my_model.summary()\n",
        "#> Model: \"sequential\"\n",
        "#> _________________________________________________________________\n",
        "#> Layer (type)                 Output Shape              Param #\n",
        "#> =================================================================\n",
        "#> conv2d (Conv2D)              (None, 26, 26, 32)        320\n",
        "#> _________________________________________________________________\n",
        "#> max_pooling2d (MaxPooling2D) (None, 13, 13, 32)        0\n",
        "#> _________________________________________________________________\n",
        "#> flatten (Flatten)            (None, 5408)              0\n",
        "#> _________________________________________________________________\n",
        "#> dense (Dense)                (None, 128)               692352\n",
        "#> _________________________________________________________________\n",
        "#> dense_1 (Dense)              (None, 10)                1290\n",
        "#> =================================================================\n",
        "#> Total params: 693,962\n",
        "#> Trainable params: 693,962\n",
        "#> Non-trainable params: 0\n",
        "#> _________________________________________________________________\n",
        "\n",
        "my_model.compile(loss='sparse_categorical_crossentropy',\n",
        "                 optimizer='rmsprop',\n",
        "                 metrics=['accuracy'])\n",
        "\n",
        "from keras.callbacks import EarlyStopping\n",
        "my_cb = EarlyStopping(patience=5,\n",
        "                      restore_best_weights=True)"
      ],
      "id": "TvFxqgU3w3cT"
    },
    {
      "cell_type": "code",
      "execution_count": null,
      "metadata": {
        "id": "niTGndRBw3cT"
      },
      "outputs": [],
      "source": [
        "my_history = my_model.fit(\n",
        "    x=x_train2d,\n",
        "    y=y_train,\n",
        "    validation_split=0.2,\n",
        "    batch_size=128,\n",
        "    epochs=20,\n",
        "    callbacks=my_cb,\n",
        "    verbose=0)\n",
        "\n",
        "tmp = pd.DataFrame(my_history.history)\n",
        "tmp.plot(xlabel='epoch', style='o-')"
      ],
      "id": "niTGndRBw3cT"
    },
    {
      "cell_type": "code",
      "execution_count": null,
      "metadata": {
        "id": "JeRU4qqXw3cV"
      },
      "outputs": [],
      "source": [
        "my_model.evaluate(x=x_test2d, y=y_test)\n",
        "#> [0.1359061449766159,\n",
        "#>  0.9581000208854675]"
      ],
      "id": "JeRU4qqXw3cV"
    },
    {
      "cell_type": "code",
      "execution_count": null,
      "metadata": {
        "id": "eUaMd920w3cV"
      },
      "outputs": [],
      "source": [
        "my_model = models.Sequential()\n",
        "my_model.add(layers.Conv2D(filters=20, kernel_size=5, activation='relu',\n",
        "                           input_shape=(28, 28, 1)))\n",
        "my_model.add(layers.MaxPooling2D(pool_size=2, strides=2))\n",
        "my_model.add(layers.Conv2D(filters=20, kernel_size=5, activation='relu'))\n",
        "my_model.add(layers.MaxPooling2D(pool_size=2, strides=2))\n",
        "my_model.add(layers.Dropout(rate=0.25))\n",
        "my_model.add(layers.Flatten())\n",
        "my_model.add(layers.Dense(500, activation='relu'))\n",
        "my_model.add(layers.Dropout(rate=0.5))\n",
        "my_model.add(layers.Dense(10, activation='softmax'))\n",
        "\n",
        "my_model.compile(loss='sparse_categorical_crossentropy',\n",
        "                 optimizer='rmsprop',\n",
        "                 metrics=['accuracy'])\n",
        "\n",
        "my_cb = callbacks.EarlyStopping(patience=5,\n",
        "                                restore_best_weights=True)"
      ],
      "id": "eUaMd920w3cV"
    },
    {
      "cell_type": "code",
      "execution_count": null,
      "metadata": {
        "id": "4vLADsMvw3cV"
      },
      "outputs": [],
      "source": [
        "my_history = my_model.fit(\n",
        "    x=x_train2d,\n",
        "    y=y_train,\n",
        "    validation_split=0.2,\n",
        "    batch_size=128,\n",
        "    epochs=20,\n",
        "    callbacks=my_cb,\n",
        "    verbose=0)\n",
        "\n",
        "tmp = pd.DataFrame(my_history.history)\n",
        "tmp.plot(xlabel='epoch', style='o-')"
      ],
      "id": "4vLADsMvw3cV"
    },
    {
      "cell_type": "code",
      "execution_count": null,
      "metadata": {
        "id": "9ZHb8yTDw3cV"
      },
      "outputs": [],
      "source": [
        "my_model.evaluate(x=x_test2d, y=y_test)\n",
        "#> [0.06491111218929291,\n",
        "#>  0.9797000288963318]"
      ],
      "id": "9ZHb8yTDw3cV"
    },
    {
      "cell_type": "code",
      "execution_count": null,
      "metadata": {
        "id": "YrTIiWQQw3cV"
      },
      "outputs": [],
      "source": [
        "y_prob = my_model.predict(x_test2d)                    # カテゴリに属する確率\n",
        "\n",
        "tmp = pd.DataFrame({\n",
        "    'y_prob': np.max(y_prob, axis=1),                  # 確率の最大値\n",
        "    'y_': np.argmax(y_prob, axis=1),                   # 予測カテゴリ\n",
        "    'y': y_test,                                       # 正解\n",
        "    'id': range(len(y_test))})                         # 番号\n",
        "\n",
        "tmp = tmp[tmp.y_ != tmp.y]                             # 予測がはずれたものを残す\n",
        "my_result = tmp.sort_values('y_prob', ascending=False) # 確率の大きい順に並び替える"
      ],
      "id": "YrTIiWQQw3cV"
    },
    {
      "cell_type": "code",
      "execution_count": null,
      "metadata": {
        "id": "9n9TEm7Nw3cV"
      },
      "outputs": [],
      "source": [
        "my_result.head()\n",
        "#>         y_prob  y_  y    id\n",
        "#> 2654  0.999997   1  6  2654\n",
        "#> 1232  0.999988   4  9  1232\n",
        "#> 3520  0.999926   4  6  3520\n",
        "#> 9729  0.999881   6  5  9729\n",
        "#> 2896  0.999765   0  8  2896"
      ],
      "id": "9n9TEm7Nw3cV"
    },
    {
      "cell_type": "code",
      "execution_count": null,
      "metadata": {
        "id": "RzOI6iT8w3cV"
      },
      "outputs": [],
      "source": [
        "for i in range(5):\n",
        "    plt.subplot(1, 5, i + 1)\n",
        "    ans = my_result['y'].iloc[i]\n",
        "    id = my_result['id'].iloc[i]\n",
        "    plt.title(f'{ans} ({id})')\n",
        "    plt.imshow(x_test[id])\n",
        "    plt.axis('off')"
      ],
      "id": "RzOI6iT8w3cV"
    },
    {
      "cell_type": "markdown",
      "source": [
        "## 11.4 AutoML"
      ],
      "metadata": {
        "id": "4vdaoplhw3cV"
      },
      "id": "4vdaoplhw3cV"
    },
    {
      "cell_type": "code",
      "execution_count": null,
      "metadata": {
        "id": "Fyyi1PXEw3cV"
      },
      "outputs": [],
      "source": [
        "import h2o\n",
        "import pandas as pd\n",
        "import tensorflow as tf\n",
        "from h2o.automl import H2OAutoML\n",
        "from random import sample\n",
        "\n",
        "h2o.init()\n",
        "h2o.no_progress()\n",
        "# h2o.cluster().shutdown() # 停止"
      ],
      "id": "Fyyi1PXEw3cV"
    },
    {
      "cell_type": "code",
      "execution_count": null,
      "metadata": {
        "id": "oXZc8Luvw3cV"
      },
      "outputs": [],
      "source": [
        "my_url = ('https://raw.githubusercontent.com/taroyabuki'\n",
        "          '/fromzero/master/data/wine.csv')\n",
        "my_data = pd.read_csv(my_url)\n",
        "my_frame = h2o.H2OFrame(my_data) # 通常のデータフレームをH2OFrameに変換する．\n",
        "# あるいは\n",
        "my_frame = h2o.import_file(my_url, header=1) # データを読み込む．"
      ],
      "id": "oXZc8Luvw3cV"
    },
    {
      "cell_type": "code",
      "execution_count": null,
      "metadata": {
        "id": "QQuQSIFGw3cV"
      },
      "outputs": [],
      "source": [
        "my_frame.head(5)\n",
        "#>   LPRICE2    WRAIN    DEGREES  ...\n",
        "#> ---------  -------  ---------  ...\n",
        "#>  -0.99868      600    17.1167  ...\n",
        "#>  -0.4544       690    16.7333  ...\n",
        "#>  -0.80796      502    17.15    ...\n",
        "#>  -1.50926      420    16.1333  ...\n",
        "#>  -1.71655      582    16.4167  ...\n",
        "\n",
        "# 通常のデータフレームに戻す．\n",
        "h2o.as_list(my_frame).head()\n",
        "# 結果は割愛（見た目は同じ）"
      ],
      "id": "QQuQSIFGw3cV"
    },
    {
      "cell_type": "code",
      "execution_count": null,
      "metadata": {
        "id": "i-Bau8KDw3cV"
      },
      "outputs": [],
      "source": [
        "my_model = H2OAutoML(\n",
        "    max_runtime_secs=60)\n",
        "my_model.train(\n",
        "    y='LPRICE2',\n",
        "    training_frame=my_frame)"
      ],
      "id": "i-Bau8KDw3cV"
    },
    {
      "cell_type": "code",
      "execution_count": null,
      "metadata": {
        "id": "1UJTaeYEw3cV"
      },
      "outputs": [],
      "source": [
        "my_model.leaderboard['rmse'].min()\n",
        "#> 0.2704643402377778"
      ],
      "id": "1UJTaeYEw3cV"
    },
    {
      "cell_type": "code",
      "execution_count": null,
      "metadata": {
        "id": "HZlUU_IIw3cW"
      },
      "outputs": [],
      "source": [
        "tmp = h2o.as_list(\n",
        "    my_model.predict(my_frame))\n",
        "\n",
        "pd.DataFrame({\n",
        "    'y': my_data['LPRICE2'],\n",
        "    'y_': tmp['predict']}\n",
        ").plot('y', 'y_', kind='scatter')"
      ],
      "id": "HZlUU_IIw3cW"
    },
    {
      "cell_type": "code",
      "execution_count": null,
      "metadata": {
        "id": "viIoqgXCw3cW"
      },
      "outputs": [],
      "source": [
        "(x_train, y_train), (x_test, y_test) = tf.keras.datasets.mnist.load_data()\n",
        "my_index = sample(range(60000), 6000)\n",
        "x_train = x_train[my_index, :, :]\n",
        "y_train = y_train[my_index]"
      ],
      "id": "viIoqgXCw3cW"
    },
    {
      "cell_type": "code",
      "execution_count": null,
      "metadata": {
        "id": "KUfg-0w2w3cW"
      },
      "outputs": [],
      "source": [
        "tmp = pd.DataFrame(\n",
        "    x_train.reshape(-1, 28 * 28))\n",
        "y = 'y'\n",
        "tmp[y] = y_train\n",
        "my_train = h2o.H2OFrame(tmp)\n",
        "my_train[y] = my_train[y].asfactor()\n",
        "\n",
        "tmp = pd.DataFrame(\n",
        "    x_test.reshape(-1, 28 * 28))\n",
        "my_test = h2o.H2OFrame(tmp)"
      ],
      "id": "KUfg-0w2w3cW"
    },
    {
      "cell_type": "code",
      "execution_count": null,
      "metadata": {
        "id": "6u3TTckOw3cW"
      },
      "outputs": [],
      "source": [
        "my_model = H2OAutoML(\n",
        "    max_runtime_secs=120)\n",
        "my_model.train(\n",
        "    y=y,\n",
        "    training_frame=my_train)"
      ],
      "id": "6u3TTckOw3cW"
    },
    {
      "cell_type": "code",
      "execution_count": null,
      "metadata": {
        "id": "nsburJqKw3cW"
      },
      "outputs": [],
      "source": [
        "my_model.leaderboard[\n",
        "    'mean_per_class_error'].min()\n",
        "#> 0.06803754348177862"
      ],
      "id": "nsburJqKw3cW"
    },
    {
      "cell_type": "code",
      "execution_count": null,
      "metadata": {
        "id": "9y7t3rPxw3cW"
      },
      "outputs": [],
      "source": [
        "tmp = h2o.as_list(\n",
        "    my_model.predict(my_test))\n",
        "y_ = tmp.predict\n",
        "\n",
        "(y_ == y_test).mean()\n",
        "#> 0.938"
      ],
      "id": "9y7t3rPxw3cW"
    },
    {
      "cell_type": "markdown",
      "source": [
        "# 12 時系列予測\n",
        "\n",
        "\n"
      ],
      "metadata": {
        "id": "4VftN8OKw3cW"
      },
      "id": "4VftN8OKw3cW"
    },
    {
      "cell_type": "markdown",
      "source": [
        "## 12.1 日時と日時の列"
      ],
      "metadata": {
        "id": "qFed11Xqw3cW"
      },
      "id": "qFed11Xqw3cW"
    },
    {
      "cell_type": "code",
      "execution_count": null,
      "metadata": {
        "id": "Cb93cvCCw3cW"
      },
      "outputs": [],
      "source": [
        "import pandas as pd\n",
        "pd.to_datetime('2020-01-01')\n",
        "#> Timestamp('2020-01-01 00:00:00')"
      ],
      "id": "Cb93cvCCw3cW"
    },
    {
      "cell_type": "code",
      "execution_count": null,
      "metadata": {
        "id": "08wyO3Qnw3cW"
      },
      "outputs": [],
      "source": [
        "pd.date_range(start='2021-01-01', end='2023-01-01', freq='1A')\n",
        "#> DatetimeIndex(['2021-12-31', '2022-12-31'],\n",
        "#>               dtype='datetime64[ns]', freq='A-DEC')\n",
        "\n",
        "pd.date_range(start='2021-01-01', end='2023-01-01', freq='1AS')\n",
        "#> DatetimeIndex(['2021-01-01', '2022-01-01', '2023-01-01'],\n",
        "#>               dtype='datetime64[ns]', freq='AS-JAN')\n",
        "\n",
        "pd.date_range(start='2021-01-01', end='2021-03-01', freq='2M')\n",
        "#> DatetimeIndex(['2021-01-31'], dtype='datetime64[ns]', freq='2M')\n",
        "\n",
        "pd.date_range(start='2021-01-01', end='2021-03-01', freq='2MS')\n",
        "#> DatetimeIndex(['2021-01-01', '2021-03-01'],\n",
        "#>               dtype='datetime64[ns]', freq='2MS')\n",
        "\n",
        "pd.date_range(start='2021-01-01', end='2021-01-03', freq='1D')\n",
        "#> DatetimeIndex(['2021-01-01', '2021-01-02', '2021-01-03'],\n",
        "#>               dtype='datetime64[ns]', freq='D')\n",
        "\n",
        "pd.date_range(start='2021-01-01 00:00:00', end='2021-01-01 03:00:00', freq='2H')\n",
        "#> DatetimeIndex(['2021-01-01 00:00:00', '2021-01-01 02:00:00'],\n",
        "#>               dtype='datetime64[ns]', freq='2H')"
      ],
      "id": "08wyO3Qnw3cW"
    },
    {
      "cell_type": "markdown",
      "source": [
        "## 12.2 時系列データの予測"
      ],
      "metadata": {
        "id": "SVDYl6oVw3cW"
      },
      "id": "SVDYl6oVw3cW"
    },
    {
      "cell_type": "code",
      "execution_count": null,
      "metadata": {
        "id": "Q6x8LM9qw3cX"
      },
      "outputs": [],
      "source": [
        "import matplotlib.pyplot as plt\n",
        "import pandas as pd\n",
        "from pmdarima.datasets import airpassengers\n",
        "from sklearn.metrics import mean_squared_error\n",
        "\n",
        "my_data = airpassengers.load_airpassengers()"
      ],
      "id": "Q6x8LM9qw3cX"
    },
    {
      "cell_type": "code",
      "execution_count": null,
      "metadata": {
        "id": "BUVeJjxsw3cX"
      },
      "outputs": [],
      "source": [
        "n = len(my_data) # データ数（144）\n",
        "k = 108          # 訓練データ数"
      ],
      "id": "BUVeJjxsw3cX"
    },
    {
      "cell_type": "code",
      "execution_count": null,
      "metadata": {
        "id": "sVyVPUdgw3cX"
      },
      "outputs": [],
      "source": [
        "my_ds = pd.date_range(\n",
        "    start='1949/01/01',\n",
        "    end='1960/12/01',\n",
        "    freq='MS')\n",
        "my_df = pd.DataFrame({\n",
        "    'ds': my_ds,\n",
        "    'x': range(n),\n",
        "    'y': my_data},\n",
        "    index=my_ds)\n",
        "my_df.head()\n",
        "#>                    ds  x      y\n",
        "#> 1949-01-01 1949-01-01  0  112.0\n",
        "#> 1949-02-01 1949-02-01  1  118.0\n",
        "#> 1949-03-01 1949-03-01  2  132.0\n",
        "#> 1949-04-01 1949-04-01  3  129.0\n",
        "#> 1949-05-01 1949-05-01  4  121.0"
      ],
      "id": "sVyVPUdgw3cX"
    },
    {
      "cell_type": "code",
      "execution_count": null,
      "metadata": {
        "id": "Hbuu5U1Uw3cX"
      },
      "outputs": [],
      "source": [
        "my_train = my_df[        :k]\n",
        "my_test  = my_df[-(n - k): ]\n",
        "y = my_test.y"
      ],
      "id": "Hbuu5U1Uw3cX"
    },
    {
      "cell_type": "code",
      "execution_count": null,
      "metadata": {
        "id": "GkaCMKljw3cX"
      },
      "outputs": [],
      "source": [
        "plt.plot(my_train.y, label='train')\n",
        "plt.plot(my_test.y,  label='test')\n",
        "plt.legend()"
      ],
      "id": "GkaCMKljw3cX"
    },
    {
      "cell_type": "code",
      "execution_count": null,
      "metadata": {
        "id": "YdxmejLgw3cX"
      },
      "outputs": [],
      "source": [
        "from sklearn.linear_model import LinearRegression\n",
        "\n",
        "my_lm_model = LinearRegression()\n",
        "my_lm_model.fit(my_train[['x']], my_train.y)\n",
        "\n",
        "X = my_test[['x']]\n",
        "y_ = my_lm_model.predict(X)\n",
        "mean_squared_error(y, y_)**0.5 # RMSE（テスト）\n",
        "#> 70.63707081783771"
      ],
      "id": "YdxmejLgw3cX"
    },
    {
      "cell_type": "code",
      "execution_count": null,
      "metadata": {
        "id": "zMCYNkefw3cX"
      },
      "outputs": [],
      "source": [
        "y_ = my_lm_model.predict(my_df[['x']])\n",
        "tmp = pd.DataFrame(y_,\n",
        "                   index=my_df.index)\n",
        "plt.plot(my_train.y, label='train')\n",
        "plt.plot(my_test.y,  label='test')\n",
        "plt.plot(tmp, label='model')\n",
        "plt.legend()"
      ],
      "id": "zMCYNkefw3cX"
    },
    {
      "cell_type": "code",
      "execution_count": null,
      "metadata": {
        "id": "MfjTArhqw3cX"
      },
      "outputs": [],
      "source": [
        "import pmdarima as pm\n",
        "my_arima_model = pm.auto_arima(my_train.y, m=12, trace=True)\n",
        "#> （省略）\n",
        "#> Best model:  ARIMA(1,1,0)(0,1,0)[12]\n",
        "#> Total fit time: 0.838 seconds"
      ],
      "id": "MfjTArhqw3cX"
    },
    {
      "cell_type": "code",
      "execution_count": null,
      "metadata": {
        "id": "KFCqUxFNw3cX"
      },
      "outputs": [],
      "source": [
        "y_, my_ci = my_arima_model.predict(len(my_test),         # 期間はテストデータと同じ．\n",
        "                                   alpha=0.05,           # 有意水準（デフォルト）\n",
        "                                   return_conf_int=True) # 信頼区間を求める．\n",
        "tmp = pd.DataFrame({'y': y_,\n",
        "                    'Lo': my_ci[:, 0],\n",
        "                    'Hi': my_ci[:, 1]},\n",
        "                   index=my_test.index)\n",
        "tmp.head()\n",
        "#>                      y          Lo          Hi\n",
        "#> 1958-01-01  345.964471  327.088699  364.840243\n",
        "#> 1958-02-01  331.731920  308.036230  355.427610\n",
        "#> 1958-03-01  386.787992  358.515741  415.060244\n",
        "#> 1958-04-01  378.774472  346.695454  410.853490\n",
        "#> 1958-05-01  385.777732  350.270765  421.284700"
      ],
      "id": "KFCqUxFNw3cX"
    },
    {
      "cell_type": "code",
      "execution_count": null,
      "metadata": {
        "id": "IF8udKyuw3cX"
      },
      "outputs": [],
      "source": [
        "mean_squared_error(y, y_)**0.5\n",
        "#> 22.132236727738697"
      ],
      "id": "IF8udKyuw3cX"
    },
    {
      "cell_type": "code",
      "execution_count": null,
      "metadata": {
        "id": "QNdDlojMw3cX"
      },
      "outputs": [],
      "source": [
        "plt.plot(my_train.y, label='train')\n",
        "plt.plot(my_test.y,  label='test')\n",
        "plt.plot(tmp.y,      label='model')\n",
        "plt.fill_between(tmp.index,\n",
        "                 tmp.Lo,\n",
        "                 tmp.Hi,\n",
        "                 alpha=0.25) # 不透明度\n",
        "plt.legend(loc='upper left')"
      ],
      "id": "QNdDlojMw3cX"
    },
    {
      "cell_type": "code",
      "execution_count": null,
      "metadata": {
        "id": "YcLTvHd1w3cX"
      },
      "outputs": [],
      "source": [
        "try: from fbprophet import Prophet\n",
        "except ImportError: from prophet import Prophet\n",
        "my_prophet_model = Prophet(seasonality_mode='multiplicative')\n",
        "my_prophet_model.fit(my_train)"
      ],
      "id": "YcLTvHd1w3cX"
    },
    {
      "cell_type": "code",
      "execution_count": null,
      "metadata": {
        "id": "0N6O6DKdw3cY"
      },
      "outputs": [],
      "source": [
        "tmp = my_prophet_model.predict(my_test)\n",
        "tmp[['ds', 'yhat', 'yhat_lower', 'yhat_upper']].head()\n",
        "#>           ds        yhat  yhat_lower  yhat_upper\n",
        "#> 0 1958-01-01  359.239305  350.910898  368.464588\n",
        "#> 1 1958-02-01  350.690546  341.748862  359.964881\n",
        "#> 2 1958-03-01  407.188556  398.483316  415.463759\n",
        "#> 3 1958-04-01  398.481739  389.244105  406.742333\n",
        "#> 4 1958-05-01  402.595604  393.721421  411.331761"
      ],
      "id": "0N6O6DKdw3cY"
    },
    {
      "cell_type": "code",
      "execution_count": null,
      "metadata": {
        "id": "nm6AqCDAw3cY"
      },
      "outputs": [],
      "source": [
        "y_ = tmp.yhat\n",
        "mean_squared_error(y, y_)**0.5\n",
        "#> 33.795549086036466"
      ],
      "id": "nm6AqCDAw3cY"
    },
    {
      "cell_type": "code",
      "execution_count": null,
      "metadata": {
        "id": "yGkK-KRiw3cY"
      },
      "outputs": [],
      "source": [
        "# my_prophet_model.plot(tmp) # 予測結果のみでよい場合\n",
        "\n",
        "fig = my_prophet_model.plot(tmp)\n",
        "fig.axes[0].plot(my_train.ds, my_train.y)\n",
        "fig.axes[0].plot(my_test.ds, my_test.y, color='red')"
      ],
      "id": "yGkK-KRiw3cY"
    },
    {
      "cell_type": "markdown",
      "source": [
        "# 13 教師なし学習\n",
        "\n",
        "\n"
      ],
      "metadata": {
        "id": "MUqQFbHpw3cY"
      },
      "id": "MUqQFbHpw3cY"
    },
    {
      "cell_type": "markdown",
      "source": [
        "## 13.1 主成分分析"
      ],
      "metadata": {
        "id": "-GKfPvmDw3cY"
      },
      "id": "-GKfPvmDw3cY"
    },
    {
      "cell_type": "code",
      "execution_count": null,
      "metadata": {
        "id": "BrDN9W5Yw3cY"
      },
      "outputs": [],
      "source": [
        "import numpy as np\n",
        "import pandas as pd\n",
        "from pca import pca\n",
        "from scipy.stats import zscore\n",
        "\n",
        "my_data = pd.DataFrame(\n",
        "    {'language': [  0,  20,  20,  25,  22,  17],\n",
        "     'english':  [  0,  20,  40,  20,  24,  18],\n",
        "     'math':     [100,  20,   5,  30,  17,  25],\n",
        "     'science':  [  0,  20,   5,  25,  16,  23],\n",
        "     'society':  [  0,  20,  30,   0,  21,  17]},\n",
        "    index=       ['A', 'B', 'C', 'D', 'E', 'F'])\n",
        "my_model = pca(n_components=5)\n",
        "my_result = my_model.fit_transform(my_data) # 主成分分析の実行"
      ],
      "id": "BrDN9W5Yw3cY"
    },
    {
      "cell_type": "code",
      "execution_count": null,
      "metadata": {
        "id": "VnrgxKwiw3cY"
      },
      "outputs": [],
      "source": [
        "my_result['PC'] # 主成分スコア\n",
        "#>          PC1        PC2 ...\n",
        "#> A  74.907282   7.010808 ...\n",
        "#> B -13.818842  -2.753459 ...\n",
        "#> C -33.714034  18.417290 ...\n",
        "#> D  -1.730630 -17.876372 ...\n",
        "#> E -17.837474   1.064998 ...\n",
        "#> F  -7.806303  -5.863266 ..."
      ],
      "id": "VnrgxKwiw3cY"
    },
    {
      "cell_type": "code",
      "execution_count": null,
      "metadata": {
        "id": "4K7Rqj7lw3cY"
      },
      "outputs": [],
      "source": [
        "my_model.biplot(legend=False)"
      ],
      "id": "4K7Rqj7lw3cY"
    },
    {
      "cell_type": "code",
      "execution_count": null,
      "metadata": {
        "id": "-BfThrpsw3cY"
      },
      "outputs": [],
      "source": [
        "my_result['loadings']\n",
        "#>      language   english      math   science   society\n",
        "#> PC1 -0.207498 -0.304360  0.887261 -0.130198 -0.245204\n",
        "#> PC2 -0.279463  0.325052  0.097643 -0.702667  0.559435\n",
        "#> PC3  0.306117  0.615799  0.056345 -0.338446 -0.639815\n",
        "#> PC4  0.764943 -0.471697 -0.007655 -0.418045  0.132455\n",
        "#> PC5 -0.447214 -0.447214 -0.447214 -0.447214 -0.447214"
      ],
      "id": "-BfThrpsw3cY"
    },
    {
      "cell_type": "code",
      "execution_count": null,
      "metadata": {
        "id": "yOH-IYZiw3cZ"
      },
      "outputs": [],
      "source": [
        "my_result['explained_var']\n",
        "#> array([0.88848331, 0.97962854, 0.99858005, 1.        , 1.        ])"
      ],
      "id": "yOH-IYZiw3cZ"
    },
    {
      "cell_type": "code",
      "execution_count": null,
      "metadata": {
        "id": "ngmzMFZbw3cZ"
      },
      "outputs": [],
      "source": [
        "tmp = zscore(my_data, ddof=1) # 標準化\n",
        "my_result = my_model.fit_transform(\n",
        "    tmp)\n",
        "my_result['PC'] # 主成分スコア\n",
        "#>           PC1       PC2 ...\n",
        "#> 1.0  3.673722  0.568850 ...\n",
        "#> 1.0 -0.652879 -0.246926 ...\n",
        "#> 1.0 -1.568294  1.742598 ...\n",
        "#> 1.0 -0.250504 -1.640039 ...\n",
        "#> 1.0 -0.886186  0.110493 ...\n",
        "#> 1.0 -0.315858 -0.534976 ..."
      ],
      "id": "ngmzMFZbw3cZ"
    },
    {
      "cell_type": "code",
      "execution_count": null,
      "metadata": {
        "id": "z6HPWbBCw3cZ"
      },
      "outputs": [],
      "source": [
        "tmp = my_data - my_data.mean()\n",
        "Z  = np.matrix(tmp)                       # 標準化しない場合\n",
        "#Z = np.matrix(tmp / my_data.std(ddof=1)) # √不偏分散で標準化する場合\n",
        "#Z = np.matrix(tmp / my_data.std(ddof=0)) # pca(normalize=True)に合わせる場合\n",
        "\n",
        "n = len(my_data)\n",
        "S = np.cov(Z, rowvar=0, ddof=0)      # 分散共分散行列\n",
        "#S = Z.T @ Z / n                     # （同じ結果）\n",
        "vals, vecs = np.linalg.eig(S)        # 固有値と固有ベクトル\n",
        "idx = np.argsort(-vals)              # 固有値の大きい順の番号\n",
        "vals, vecs = vals[idx], vecs[:, idx] # 固有値の大きい順での並べ替え\n",
        "Z @ vecs                             # 主成分スコア（結果は割愛）\n",
        "vals.cumsum() / vals.sum()           # 累積寄与率\n",
        "#> array([0.88848331, 0.97962854, 0.99858005, 1.        , 1.        ])"
      ],
      "id": "z6HPWbBCw3cZ"
    },
    {
      "cell_type": "code",
      "execution_count": null,
      "metadata": {
        "id": "qKBS3jeQw3cZ"
      },
      "outputs": [],
      "source": [
        "U, d, V =  np.linalg.svd(Z, full_matrices=False)     # 特異値分解\n",
        "W = np.diag(d)\n",
        "\n",
        "[np.isclose(Z, U @ W @ V).all(),                     # 確認1\n",
        " np.isclose(U.T @ U, np.identity(U.shape[1])).all(), # 確認2\n",
        " np.isclose(V @ V.T, np.identity(V.shape[0])).all()] # 確認3\n",
        "#> [True, True, True]\n",
        "\n",
        "U @ W                # 主成分スコア（結果は割愛）\n",
        "\n",
        "e = d ** 2 / n       # 分散共分散行列の固有値\n",
        "e.cumsum() / e.sum() # 累積寄与率\n",
        "#> array([0.88848331, 0.97962854, 0.99858005, 1.        , 1.        ])"
      ],
      "id": "qKBS3jeQw3cZ"
    },
    {
      "cell_type": "markdown",
      "source": [
        "## 13.2 クラスタ分析"
      ],
      "metadata": {
        "id": "WqXuYgiHw3cZ"
      },
      "id": "WqXuYgiHw3cZ"
    },
    {
      "cell_type": "code",
      "execution_count": null,
      "metadata": {
        "id": "Yyn3HZCyw3cZ"
      },
      "outputs": [],
      "source": [
        "import pandas as pd\n",
        "from scipy.cluster import hierarchy\n",
        "\n",
        "my_data = pd.DataFrame(\n",
        "    {'x': [  0, -16,  10,  10],\n",
        "     'y': [  0,   0,  10, -15]},\n",
        "    index=['A', 'B', 'C', 'D'])\n",
        "\n",
        "my_result = hierarchy.linkage(\n",
        "    my_data,\n",
        "    metric='euclidean', # 省略可\n",
        "    method='complete')"
      ],
      "id": "Yyn3HZCyw3cZ"
    },
    {
      "cell_type": "code",
      "execution_count": null,
      "metadata": {
        "id": "0UP2Jmmfw3cZ"
      },
      "outputs": [],
      "source": [
        "hierarchy.dendrogram(my_result,\n",
        "    labels=my_data.index)"
      ],
      "id": "0UP2Jmmfw3cZ"
    },
    {
      "cell_type": "code",
      "execution_count": null,
      "metadata": {
        "id": "r2K1fq9Lw3cZ"
      },
      "outputs": [],
      "source": [
        "hierarchy.cut_tree(my_result, 3)\n",
        "#> array([[0], [1], [0], [2]])\n",
        "\n",
        "# 補足（見やすくする）\n",
        "my_data.assign(cluster=\n",
        "  hierarchy.cut_tree(my_result, 3))\n",
        "#>     x   y  cluster\n",
        "#> A   0   0        0\n",
        "#> B -16   0        1\n",
        "#> C  10  10        0\n",
        "#> D  10 -15        2"
      ],
      "id": "r2K1fq9Lw3cZ"
    },
    {
      "cell_type": "code",
      "execution_count": null,
      "metadata": {
        "id": "5DP-OeoKw3cZ"
      },
      "outputs": [],
      "source": [
        "import pandas as pd\n",
        "import seaborn as sns\n",
        "\n",
        "my_data = pd.DataFrame(\n",
        "    {'language': [  0,  20,  20,  25,  22,  17],\n",
        "     'english':  [  0,  20,  40,  20,  24,  18],\n",
        "     'math':     [100,  20,   5,  30,  17,  25],\n",
        "     'science':  [  0,  20,   5,  25,  16,  23],\n",
        "     'society':  [  0,  20,  30,   0,  21,  17]},\n",
        "    index=       ['A', 'B', 'C', 'D', 'E', 'F'])\n",
        "\n",
        "sns.clustermap(my_data, z_score=1) # 列ごとの標準化"
      ],
      "id": "5DP-OeoKw3cZ"
    },
    {
      "cell_type": "code",
      "execution_count": null,
      "metadata": {
        "id": "3zqG78Wlw3cZ"
      },
      "outputs": [],
      "source": [
        "import pandas as pd\n",
        "from sklearn.cluster import KMeans\n",
        "\n",
        "my_data = pd.DataFrame(\n",
        "    {'x': [  0, -16,  10,  10],\n",
        "     'y': [  0,   0,  10, -15]},\n",
        "    index=['A', 'B', 'C', 'D'])\n",
        "\n",
        "my_result = KMeans(\n",
        "    n_clusters=3).fit(my_data)"
      ],
      "id": "3zqG78Wlw3cZ"
    },
    {
      "cell_type": "code",
      "execution_count": null,
      "metadata": {
        "id": "n6TJNTJrw3cZ"
      },
      "outputs": [],
      "source": [
        "my_result.labels_\n",
        "#> array([1, 0, 1, 2], dtype=int32)\n",
        "\n",
        "# 補足（見やすくする）\n",
        "my_data.assign(\n",
        "  cluster=my_result.labels_)\n",
        "#>     x   y  cluster\n",
        "#> A   0   0        1\n",
        "#> B -16   0        0\n",
        "#> C  10  10        1\n",
        "#> D  10 -15        2"
      ],
      "id": "n6TJNTJrw3cZ"
    },
    {
      "cell_type": "code",
      "execution_count": null,
      "metadata": {
        "id": "f6wSjeoJw3cZ"
      },
      "outputs": [],
      "source": [
        "import pandas as pd\n",
        "import statsmodels.api as sm\n",
        "from sklearn.cluster import KMeans\n",
        "\n",
        "iris = sm.datasets.get_rdataset('iris', 'datasets').data\n",
        "my_data = iris.iloc[:, 0:4]\n",
        "\n",
        "k = range(1, 11)\n",
        "my_df = pd.DataFrame({\n",
        "    'k': k,\n",
        "    'inertia': [KMeans(k).fit(my_data).inertia_ for k in range(1, 11)]})\n",
        "my_df.plot(x='k', style='o-', legend=False)"
      ],
      "id": "f6wSjeoJw3cZ"
    },
    {
      "cell_type": "code",
      "execution_count": null,
      "metadata": {
        "id": "VM606iCHw3ca"
      },
      "outputs": [],
      "source": [
        "import seaborn as sns\n",
        "import statsmodels.api as sm\n",
        "from pca import pca\n",
        "from scipy.cluster import hierarchy\n",
        "from scipy.stats import zscore\n",
        "from sklearn.cluster import KMeans\n",
        "\n",
        "iris = sm.datasets.get_rdataset('iris', 'datasets').data\n",
        "my_data = zscore(iris.iloc[:, 0:4])\n",
        "\n",
        "my_model = pca() # 主成分分析\n",
        "my_result = my_model.fit_transform(my_data)['PC']\n",
        "my_result['Species'] = list(iris.Species)\n",
        "\n",
        "# 非階層的クラスタ分析の場合\n",
        "my_result['cluster'] = KMeans(n_clusters=3).fit(my_data).labels_\n",
        "\n",
        "# 階層的クラスタ分析の場合\n",
        "#my_result['cluster'] = hierarchy.cut_tree(\n",
        "#    hierarchy.linkage(my_data, method='complete'), 3)[:,0]\n",
        "\n",
        "sns.scatterplot(x='PC1', y='PC2', data=my_result, legend=False,\n",
        "                hue='cluster',   # 色でクラスタを表現する．\n",
        "                style='Species', # 形で品種を表現する．\n",
        "                palette='bright')"
      ],
      "id": "VM606iCHw3ca"
    }
  ],
  "nbformat": 4,
  "nbformat_minor": 5,
  "metadata": {
    "kernelspec": {
      "name": "python3",
      "display_name": "Python 3"
    },
    "colab": {
      "provenance": [],
      "toc_visible": true
    }
  }
}