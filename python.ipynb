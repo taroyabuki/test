{
  "cells": [
    {
      "id": "9f81b37f",
      "cell_type": "markdown",
      "source": [
        "[辻真吾・矢吹太朗『ゼロからはじめるデータサイエンス入門』（講談社, 2021）](https://github.com/taroyabuki/fromzero)"
      ],
      "metadata": {
        "id": "9f81b37f"
      }
    },
    {
      "cell_type": "code",
      "execution_count": null,
      "metadata": {
        "id": "91f0fe5c-58cf-41b0-a5d6-d2958f727245"
      },
      "outputs": [],
      "source": [
        "# Google Colaboratoryの環境設定\n",
        "import os\n",
        "if 'COLAB_GPU' in os.environ:\n",
        "  !python -m pip install h2o pandarallel pca pmdarima prophet | tail -n 1"
      ],
      "id": "91f0fe5c-58cf-41b0-a5d6-d2958f727245"
    },
    {
      "cell_type": "code",
      "execution_count": null,
      "metadata": {
        "id": "aa6ff16d-5dc8-436e-855f-b36855dad2f0"
      },
      "outputs": [],
      "source": [
        "# これはPythonのコードの例です．\n",
        "1 + 1"
      ],
      "id": "aa6ff16d-5dc8-436e-855f-b36855dad2f0"
    },
    {
      "id": "853fe7eb",
      "cell_type": "markdown",
      "source": [
        "# 1 コンピュータとネットワーク\n",
        "\n",
        "\n"
      ],
      "metadata": {
        "id": "853fe7eb"
      }
    },
    {
      "id": "b6c663ca",
      "cell_type": "markdown",
      "source": [
        "## 1.1 コンピュータの基本操作\n",
        "\n",
        "\n"
      ],
      "metadata": {
        "id": "b6c663ca"
      }
    },
    {
      "id": "0423c722",
      "cell_type": "markdown",
      "source": [
        "## 1.2 ネットワークの仕組み\n",
        "\n",
        "\n"
      ],
      "metadata": {
        "id": "0423c722"
      }
    },
    {
      "id": "1e5039e8",
      "cell_type": "markdown",
      "source": [
        "# 2 データサイエンスのための環境\n",
        "\n",
        "\n"
      ],
      "metadata": {
        "id": "1e5039e8"
      }
    },
    {
      "id": "5effb02f",
      "cell_type": "markdown",
      "source": [
        "## 2.1 実行環境の選択\n",
        "\n",
        "\n"
      ],
      "metadata": {
        "id": "5effb02f"
      }
    },
    {
      "id": "53d60157",
      "cell_type": "markdown",
      "source": [
        "## 2.2 クラウド\n",
        "\n",
        "\n"
      ],
      "metadata": {
        "id": "53d60157"
      }
    },
    {
      "id": "fccf5e5f",
      "cell_type": "markdown",
      "source": [
        "## 2.3 Docker\n",
        "\n",
        "\n"
      ],
      "metadata": {
        "id": "fccf5e5f"
      }
    },
    {
      "id": "c902f68e",
      "cell_type": "markdown",
      "source": [
        "## 2.4 ターミナルの使い方\n",
        "\n",
        "\n"
      ],
      "metadata": {
        "id": "c902f68e"
      }
    },
    {
      "id": "770295b3",
      "cell_type": "markdown",
      "source": [
        "## 2.5 RとPython\n",
        "\n",
        "\n"
      ],
      "metadata": {
        "id": "770295b3"
      }
    },
    {
      "id": "589f06db",
      "cell_type": "markdown",
      "source": [
        "## 2.6 サンプルコードの利用"
      ],
      "metadata": {
        "id": "589f06db"
      }
    },
    {
      "cell_type": "code",
      "execution_count": null,
      "metadata": {
        "id": "656cc9cd-a1f4-4a35-a769-8b903eec8bd1"
      },
      "outputs": [],
      "source": [
        "1 + 1\n",
        "# 2 # これは表示されない．\n",
        "\n",
        "print(1 + 2)\n",
        "# 3 # 表示される．\n",
        "\n",
        "1 + 3\n",
        "# 4 # 表示される．"
      ],
      "id": "656cc9cd-a1f4-4a35-a769-8b903eec8bd1"
    },
    {
      "id": "c3429202",
      "cell_type": "markdown",
      "source": [
        "# 3 RとPython\n",
        "\n",
        "\n"
      ],
      "metadata": {
        "id": "c3429202"
      }
    },
    {
      "id": "62cadfe6",
      "cell_type": "markdown",
      "source": [
        "## 3.1 入門"
      ],
      "metadata": {
        "id": "62cadfe6"
      }
    },
    {
      "cell_type": "code",
      "execution_count": null,
      "metadata": {
        "id": "80f4adca-2752-4509-9aed-bf13c21dab4d"
      },
      "outputs": [],
      "source": [
        "0x10"
      ],
      "id": "80f4adca-2752-4509-9aed-bf13c21dab4d"
    },
    {
      "cell_type": "code",
      "execution_count": null,
      "metadata": {
        "id": "c6cdc3bc-4bb9-4c1d-8b82-23fd6aa6342e"
      },
      "outputs": [],
      "source": [
        "1.23e5"
      ],
      "id": "c6cdc3bc-4bb9-4c1d-8b82-23fd6aa6342e"
    },
    {
      "cell_type": "code",
      "execution_count": null,
      "metadata": {
        "id": "1a2b4831-3f7f-43a3-a988-1cffed59d0cc"
      },
      "outputs": [],
      "source": [
        "2 * 3"
      ],
      "id": "1a2b4831-3f7f-43a3-a988-1cffed59d0cc"
    },
    {
      "cell_type": "code",
      "execution_count": null,
      "metadata": {
        "id": "3d2705c4-20dd-49b3-9b0f-8b34eb5d49b3"
      },
      "outputs": [],
      "source": [
        "10 / 3"
      ],
      "id": "3d2705c4-20dd-49b3-9b0f-8b34eb5d49b3"
    },
    {
      "cell_type": "code",
      "execution_count": null,
      "metadata": {
        "id": "7dba654c-25f1-4cf5-97cb-99f542d01941"
      },
      "outputs": [],
      "source": [
        "10 // 3 # 商\n",
        "\n",
        "10 % 3  # 余り"
      ],
      "id": "7dba654c-25f1-4cf5-97cb-99f542d01941"
    },
    {
      "cell_type": "code",
      "execution_count": null,
      "metadata": {
        "id": "0def7a6a-d003-4814-9732-215e3757ee34"
      },
      "outputs": [],
      "source": [
        "x = 2\n",
        "y = 3\n",
        "x * y\n",
        "\n",
        "x, y = 20, 30 # まとめて名付け\n",
        "x * y"
      ],
      "id": "0def7a6a-d003-4814-9732-215e3757ee34"
    },
    {
      "cell_type": "code",
      "execution_count": null,
      "metadata": {
        "id": "9d8f5ec6-3ceb-4e5c-960e-3d0c0ee57abe"
      },
      "outputs": [],
      "source": [
        "x = 1 + 1\n",
        "# この段階では結果は表示されない\n",
        "\n",
        "x # 変数名を評価する．"
      ],
      "id": "9d8f5ec6-3ceb-4e5c-960e-3d0c0ee57abe"
    },
    {
      "cell_type": "code",
      "execution_count": null,
      "metadata": {
        "id": "a177651f-1e74-4b12-b5a0-c2f766849131"
      },
      "outputs": [],
      "source": [
        "my_s = 'abcde'"
      ],
      "id": "a177651f-1e74-4b12-b5a0-c2f766849131"
    },
    {
      "cell_type": "code",
      "execution_count": null,
      "metadata": {
        "id": "9641dc0d-9167-4f93-92ea-b3ce49a73f19"
      },
      "outputs": [],
      "source": [
        "len(my_s)"
      ],
      "id": "9641dc0d-9167-4f93-92ea-b3ce49a73f19"
    },
    {
      "cell_type": "code",
      "execution_count": null,
      "metadata": {
        "id": "db9e9784-9dcf-47b6-9d14-2f5f9945d2cf"
      },
      "outputs": [],
      "source": [
        "'This is' ' a' ' pen.'\n",
        "# あるいは\n",
        "'This is ' + 'a' + ' pen.'"
      ],
      "id": "db9e9784-9dcf-47b6-9d14-2f5f9945d2cf"
    },
    {
      "cell_type": "code",
      "execution_count": null,
      "metadata": {
        "id": "6a474c6f-400e-47fa-9f79-2a00c4fe7d3d"
      },
      "outputs": [],
      "source": [
        "my_s[1:4]"
      ],
      "id": "6a474c6f-400e-47fa-9f79-2a00c4fe7d3d"
    },
    {
      "cell_type": "code",
      "execution_count": null,
      "metadata": {
        "id": "67e3643e-12fd-48c2-9651-6703ffe7970c"
      },
      "outputs": [],
      "source": [
        "tmp = \"{} is {}.\"\n",
        "tmp.format('This', 'a pen')"
      ],
      "id": "67e3643e-12fd-48c2-9651-6703ffe7970c"
    },
    {
      "cell_type": "code",
      "execution_count": null,
      "metadata": {
        "id": "9a4e6e09-af2f-4a6f-8b0e-ddccdd4077eb"
      },
      "outputs": [],
      "source": [
        "1 <= 2\n",
        "\n",
        "1 < 0"
      ],
      "id": "9a4e6e09-af2f-4a6f-8b0e-ddccdd4077eb"
    },
    {
      "cell_type": "code",
      "execution_count": null,
      "metadata": {
        "id": "227c9d76-2175-4561-829a-b64a525b444a"
      },
      "outputs": [],
      "source": [
        "0.1 + 0.1 + 0.1 == 0.3\n",
        "\n",
        "import math\n",
        "math.isclose(0.1 + 0.1 + 0.1, 0.3)"
      ],
      "id": "227c9d76-2175-4561-829a-b64a525b444a"
    },
    {
      "cell_type": "code",
      "execution_count": null,
      "metadata": {
        "id": "d2eee4ed-18fc-407b-bda9-875033e2d69a"
      },
      "outputs": [],
      "source": [
        "True and False # 論理積（かつ）\n",
        "\n",
        "True or False  # 論理和（または）\n",
        "\n",
        "not True       # 否定（でない）"
      ],
      "id": "d2eee4ed-18fc-407b-bda9-875033e2d69a"
    },
    {
      "cell_type": "code",
      "execution_count": null,
      "metadata": {
        "id": "98b943fb-e484-49e0-a5c4-958e9ea98a07"
      },
      "outputs": [],
      "source": [
        "0 if 3 < 5 else 10"
      ],
      "id": "98b943fb-e484-49e0-a5c4-958e9ea98a07"
    },
    {
      "cell_type": "code",
      "execution_count": null,
      "metadata": {
        "id": "27e098ea-20d3-44e5-ac0b-b3fbaff970c7"
      },
      "outputs": [],
      "source": [
        "import os\n",
        "os.getcwd()"
      ],
      "id": "27e098ea-20d3-44e5-ac0b-b3fbaff970c7"
    },
    {
      "cell_type": "code",
      "execution_count": null,
      "metadata": {
        "id": "687c76f1-f019-4ae2-a787-5531ce82d141"
      },
      "outputs": [],
      "source": [
        "os.chdir('..')\n",
        "os.getcwd()"
      ],
      "id": "687c76f1-f019-4ae2-a787-5531ce82d141"
    },
    {
      "id": "8111dc0f",
      "cell_type": "markdown",
      "source": [
        "## 3.2 関数"
      ],
      "metadata": {
        "id": "8111dc0f"
      }
    },
    {
      "cell_type": "code",
      "execution_count": null,
      "metadata": {
        "id": "fd4a5ea1-72d9-43d3-b71d-61838c78a1e9"
      },
      "outputs": [],
      "source": [
        "import math\n",
        "math.sqrt(4)"
      ],
      "id": "fd4a5ea1-72d9-43d3-b71d-61838c78a1e9"
    },
    {
      "cell_type": "code",
      "execution_count": null,
      "metadata": {
        "id": "1156d886-6f9c-4b33-acda-a0287d445fbf"
      },
      "outputs": [],
      "source": [
        "math.log(100, 10)"
      ],
      "id": "1156d886-6f9c-4b33-acda-a0287d445fbf"
    },
    {
      "cell_type": "code",
      "execution_count": null,
      "metadata": {
        "id": "7b9e9b37-27a8-4eb7-999c-b529c8f75018"
      },
      "outputs": [],
      "source": [
        "math.log(100)         # 自然対数\n",
        "# あるいは\n",
        "math.log(100, math.e) # 省略しない場合\n"
      ],
      "id": "7b9e9b37-27a8-4eb7-999c-b529c8f75018"
    },
    {
      "cell_type": "code",
      "execution_count": null,
      "metadata": {
        "id": "47330d4e-8368-435c-8c8d-d9c79e9f63e1"
      },
      "outputs": [],
      "source": [
        "math.log10(100) # 常用対数\n",
        "\n",
        "math.log2(1024) # 底が2の対数"
      ],
      "id": "47330d4e-8368-435c-8c8d-d9c79e9f63e1"
    },
    {
      "cell_type": "code",
      "execution_count": null,
      "metadata": {
        "id": "4bf177ab-19f6-4d00-8e8a-df4845204e4b"
      },
      "outputs": [],
      "source": [
        "def f(a, b):\n",
        "    return a - b"
      ],
      "id": "4bf177ab-19f6-4d00-8e8a-df4845204e4b"
    },
    {
      "cell_type": "code",
      "execution_count": null,
      "metadata": {
        "id": "f69c1932-bf3a-4649-abf1-19c2431ccc8e"
      },
      "outputs": [],
      "source": [
        "f(3, 5)"
      ],
      "id": "f69c1932-bf3a-4649-abf1-19c2431ccc8e"
    },
    {
      "cell_type": "code",
      "execution_count": null,
      "metadata": {
        "id": "01d245ef-15b7-4198-aceb-bb2e6b929fa8"
      },
      "outputs": [],
      "source": [
        "def f(a, b=5):\n",
        "    return a - b\n",
        "\n",
        "f(3) # f(3, 5)と同じこと"
      ],
      "id": "01d245ef-15b7-4198-aceb-bb2e6b929fa8"
    },
    {
      "cell_type": "code",
      "execution_count": null,
      "metadata": {
        "id": "1709d2b7-6525-4726-a950-49b8e03f5165"
      },
      "outputs": [],
      "source": [
        "(lambda a, b: a - b)(3, 5)"
      ],
      "id": "1709d2b7-6525-4726-a950-49b8e03f5165"
    },
    {
      "id": "153d0540",
      "cell_type": "markdown",
      "source": [
        "## 3.3 コレクション"
      ],
      "metadata": {
        "id": "153d0540"
      }
    },
    {
      "cell_type": "code",
      "execution_count": null,
      "metadata": {
        "id": "c1b3caad-25dd-434f-bde6-c79fefc6923e"
      },
      "outputs": [],
      "source": [
        "x = ['foo', 'bar', 'baz']"
      ],
      "id": "c1b3caad-25dd-434f-bde6-c79fefc6923e"
    },
    {
      "cell_type": "code",
      "execution_count": null,
      "metadata": {
        "id": "9857f55d-a453-4090-b816-cb4bd3e81078"
      },
      "outputs": [],
      "source": [
        "len(x)"
      ],
      "id": "9857f55d-a453-4090-b816-cb4bd3e81078"
    },
    {
      "cell_type": "code",
      "execution_count": null,
      "metadata": {
        "id": "b7fc0d3b-c1cd-4484-be0c-110e147a3363"
      },
      "outputs": [],
      "source": [
        "x[1]"
      ],
      "id": "b7fc0d3b-c1cd-4484-be0c-110e147a3363"
    },
    {
      "cell_type": "code",
      "execution_count": null,
      "metadata": {
        "id": "6bb8e747-ede3-4f46-bf91-265639edc9e9"
      },
      "outputs": [],
      "source": [
        "x[1] = 'BAR'\n",
        "x # 結果の確認\n",
        "\n",
        "x[1] = 'bar' # 元に戻す．"
      ],
      "id": "6bb8e747-ede3-4f46-bf91-265639edc9e9"
    },
    {
      "cell_type": "code",
      "execution_count": null,
      "metadata": {
        "id": "afc7cc12-c96e-48ba-aa18-ad329b86fb5b"
      },
      "outputs": [],
      "source": [
        "x[-2]"
      ],
      "id": "afc7cc12-c96e-48ba-aa18-ad329b86fb5b"
    },
    {
      "cell_type": "code",
      "execution_count": null,
      "metadata": {
        "id": "b10475e9-8625-4652-9182-009159449ec1"
      },
      "outputs": [],
      "source": [
        "x + ['qux']"
      ],
      "id": "b10475e9-8625-4652-9182-009159449ec1"
    },
    {
      "cell_type": "code",
      "execution_count": null,
      "metadata": {
        "id": "dba9a459-c0db-4515-b561-c4043a12e3e9"
      },
      "outputs": [],
      "source": [
        "x = x + ['qux']\n",
        "# あるいは\n",
        "#x.append('qux')\n",
        "\n",
        "x # 結果の確認"
      ],
      "id": "dba9a459-c0db-4515-b561-c4043a12e3e9"
    },
    {
      "cell_type": "code",
      "execution_count": null,
      "metadata": {
        "id": "c828b27a-cd46-481a-87d3-e6553cd04312"
      },
      "outputs": [],
      "source": [
        "list(range(5))"
      ],
      "id": "c828b27a-cd46-481a-87d3-e6553cd04312"
    },
    {
      "cell_type": "code",
      "execution_count": null,
      "metadata": {
        "id": "fb247cf2-327e-4d0a-a07f-5a832a1cce46"
      },
      "outputs": [],
      "source": [
        "list(range(0, 11, 2))"
      ],
      "id": "fb247cf2-327e-4d0a-a07f-5a832a1cce46"
    },
    {
      "cell_type": "code",
      "execution_count": null,
      "metadata": {
        "id": "7f11ad09-1748-477e-99fd-8e687f442f03"
      },
      "outputs": [],
      "source": [
        "import numpy as np\n",
        "np.arange(0, 1.1, 0.5)"
      ],
      "id": "7f11ad09-1748-477e-99fd-8e687f442f03"
    },
    {
      "cell_type": "code",
      "execution_count": null,
      "metadata": {
        "id": "c2746421-1edf-47ce-bc6a-666fb8f1726b"
      },
      "outputs": [],
      "source": [
        "np.linspace(0, 100, 5)"
      ],
      "id": "c2746421-1edf-47ce-bc6a-666fb8f1726b"
    },
    {
      "cell_type": "code",
      "execution_count": null,
      "metadata": {
        "id": "cfdbaebd-a32d-434e-9f91-9665acb4a2e0"
      },
      "outputs": [],
      "source": [
        "[10] * 5"
      ],
      "id": "cfdbaebd-a32d-434e-9f91-9665acb4a2e0"
    },
    {
      "cell_type": "code",
      "execution_count": null,
      "metadata": {
        "id": "d133093a-c3d1-47f8-948e-9ee02840c874"
      },
      "outputs": [],
      "source": [
        "import numpy as np\n",
        "x = np.array([2, 3, 5, 7])\n",
        "\n",
        "x + 10 # 加算\n",
        "\n",
        "x * 10 # 乗算"
      ],
      "id": "d133093a-c3d1-47f8-948e-9ee02840c874"
    },
    {
      "cell_type": "code",
      "execution_count": null,
      "metadata": {
        "id": "e5535825-7ca4-44b8-a886-6686f54b77a6"
      },
      "outputs": [],
      "source": [
        "x = [2, 3]\n",
        "np.sin(x)"
      ],
      "id": "e5535825-7ca4-44b8-a886-6686f54b77a6"
    },
    {
      "cell_type": "code",
      "execution_count": null,
      "metadata": {
        "id": "a622d034-9892-4b3a-9284-472cce5443fe"
      },
      "outputs": [],
      "source": [
        "x = np.array([2,  3,   5,    7])\n",
        "y = np.array([1, 10, 100, 1000])\n",
        "x + y\n",
        "\n",
        "x * y"
      ],
      "id": "a622d034-9892-4b3a-9284-472cce5443fe"
    },
    {
      "cell_type": "code",
      "execution_count": null,
      "metadata": {
        "id": "831f923e-c39a-4d3c-8b72-84865ceee441"
      },
      "outputs": [],
      "source": [
        "np.dot(x, y)\n",
        "# あるいは\n",
        "x @ y\n"
      ],
      "id": "831f923e-c39a-4d3c-8b72-84865ceee441"
    },
    {
      "cell_type": "code",
      "execution_count": null,
      "metadata": {
        "id": "9ec75ba2-5c77-4574-81f3-90705badc270"
      },
      "outputs": [],
      "source": [
        "x = np.array([True, False])\n",
        "y = np.array([True, True])\n",
        "x & y"
      ],
      "id": "9ec75ba2-5c77-4574-81f3-90705badc270"
    },
    {
      "cell_type": "code",
      "execution_count": null,
      "metadata": {
        "id": "0415a8a7-db03-4050-9a79-6de1be0481bb"
      },
      "outputs": [],
      "source": [
        "u = np.array([1, 2, 3])\n",
        "v = np.array([1, 2, 3])\n",
        "w = np.array([1, 2, 4])\n",
        "\n",
        "all(u == v) # 全体の比較\n",
        "\n",
        "all(u == w) # 全体の比較\n",
        "\n",
        "u == v      # 要素ごとの比較\n",
        "\n",
        "u == w      # 要素ごとの比較"
      ],
      "id": "0415a8a7-db03-4050-9a79-6de1be0481bb"
    },
    {
      "cell_type": "code",
      "execution_count": null,
      "metadata": {
        "id": "57a5531a-3bda-4fdf-91ea-642c866d2829"
      },
      "outputs": [],
      "source": [
        "(u == w).sum()  # 同じ要素の数\n",
        "\n",
        "(u == w).mean() # 同じ要素の割合"
      ],
      "id": "57a5531a-3bda-4fdf-91ea-642c866d2829"
    },
    {
      "cell_type": "code",
      "execution_count": null,
      "metadata": {
        "id": "82b03bca-2f5f-4557-b235-420089f55954"
      },
      "outputs": [],
      "source": [
        "x = [1, \"two\"]"
      ],
      "id": "82b03bca-2f5f-4557-b235-420089f55954"
    },
    {
      "cell_type": "code",
      "execution_count": null,
      "metadata": {
        "id": "37ebe847-8fad-4379-90b7-532faba02a09"
      },
      "outputs": [],
      "source": [
        "x[1]"
      ],
      "id": "37ebe847-8fad-4379-90b7-532faba02a09"
    },
    {
      "cell_type": "code",
      "execution_count": null,
      "metadata": {
        "id": "55f540aa-2a9a-481b-826d-f68f4932cffe"
      },
      "outputs": [],
      "source": [
        "x = {'apple' : 'りんご',\n",
        "     'orange': 'みかん'}"
      ],
      "id": "55f540aa-2a9a-481b-826d-f68f4932cffe"
    },
    {
      "cell_type": "code",
      "execution_count": null,
      "metadata": {
        "id": "64edc55a-fecd-4542-a77d-b2491592ce3d"
      },
      "outputs": [],
      "source": [
        "x['grape'] = 'ぶどう'"
      ],
      "id": "64edc55a-fecd-4542-a77d-b2491592ce3d"
    },
    {
      "cell_type": "code",
      "execution_count": null,
      "metadata": {
        "id": "58ec2edc-fab4-432b-9b37-9cc567bb5551"
      },
      "outputs": [],
      "source": [
        "x['apple']\n",
        "# あるいは\n",
        "tmp = 'apple'\n",
        "x[tmp]\n"
      ],
      "id": "58ec2edc-fab4-432b-9b37-9cc567bb5551"
    },
    {
      "cell_type": "code",
      "execution_count": null,
      "metadata": {
        "id": "bcf1ed56-f038-4fcf-9a2e-70ba83a205fc"
      },
      "outputs": [],
      "source": [
        "x = ['foo', 'bar', 'baz']\n",
        "y = x\n",
        "y[1] = 'BAR' # yを更新する．\n",
        "y\n",
        "\n",
        "x            # xも変わる．"
      ],
      "id": "bcf1ed56-f038-4fcf-9a2e-70ba83a205fc"
    },
    {
      "cell_type": "code",
      "execution_count": null,
      "metadata": {
        "id": "f0122fa2-cbaa-4337-b341-1632a416e561"
      },
      "outputs": [],
      "source": [
        "x = ['foo', 'bar', 'baz']\n",
        "y = x.copy()             # 「y = x」とせずに，コピーする．\n",
        "x == y, x is y\n",
        "\n",
        "y[1] = 'BAR'             # yを更新しても，\n",
        "x"
      ],
      "id": "f0122fa2-cbaa-4337-b341-1632a416e561"
    },
    {
      "id": "d5b96271",
      "cell_type": "markdown",
      "source": [
        "## 3.4 データフレーム"
      ],
      "metadata": {
        "id": "d5b96271"
      }
    },
    {
      "cell_type": "code",
      "execution_count": null,
      "metadata": {
        "id": "2f81e95b-13e0-41b9-825a-2d1986ece330"
      },
      "outputs": [],
      "source": [
        "import pandas as pd"
      ],
      "id": "2f81e95b-13e0-41b9-825a-2d1986ece330"
    },
    {
      "cell_type": "code",
      "execution_count": null,
      "metadata": {
        "id": "f151e73d-0434-46aa-8fdc-d74b631a7531"
      },
      "outputs": [],
      "source": [
        "my_df = pd.DataFrame({\n",
        "    'name':    ['A', 'B', 'C', 'D'],\n",
        "    'english': [ 60,  90,  70,  90],\n",
        "    'math':    [ 70,  80,  90, 100],\n",
        "    'gender':  ['f', 'm', 'm', 'f']})"
      ],
      "id": "f151e73d-0434-46aa-8fdc-d74b631a7531"
    },
    {
      "cell_type": "code",
      "execution_count": null,
      "metadata": {
        "id": "6545e817-0972-43d9-820c-1fff029d6286"
      },
      "outputs": [],
      "source": [
        "my_df = pd.DataFrame([\n",
        "    ['A', 60,  70, 'f'],\n",
        "    ['B', 90,  80, 'm'],\n",
        "    ['C', 70,  90, 'm'],\n",
        "    ['D', 90, 100, 'f']],\n",
        "    columns=['name', 'english',\n",
        "             'math', 'gender'])"
      ],
      "id": "6545e817-0972-43d9-820c-1fff029d6286"
    },
    {
      "cell_type": "code",
      "execution_count": null,
      "metadata": {
        "id": "4bf7df8b-a0e1-469b-aa24-7f30949e0e32"
      },
      "outputs": [],
      "source": [
        "my_df.head()\n",
        "# 結果は割愛"
      ],
      "id": "4bf7df8b-a0e1-469b-aa24-7f30949e0e32"
    },
    {
      "cell_type": "code",
      "execution_count": null,
      "metadata": {
        "id": "c8f0fb2f-8f18-421c-9758-c8fa7534ac5a"
      },
      "outputs": [],
      "source": [
        "r, c = my_df.shape # 行数と列数\n",
        "r, c\n",
        "\n",
        "r # 行数（len(my_df)も可）\n",
        "\n",
        "c # 列数"
      ],
      "id": "c8f0fb2f-8f18-421c-9758-c8fa7534ac5a"
    },
    {
      "cell_type": "code",
      "execution_count": null,
      "metadata": {
        "id": "b54cf39a-0a32-4e8a-8be7-6d44b8099dad"
      },
      "outputs": [],
      "source": [
        "from itertools import product\n",
        "my_df2 = pd.DataFrame(\n",
        "    product([1, 2, 3],\n",
        "            [10, 100]),\n",
        "    columns=['X', 'Y'])\n",
        "my_df2"
      ],
      "id": "b54cf39a-0a32-4e8a-8be7-6d44b8099dad"
    },
    {
      "cell_type": "code",
      "execution_count": null,
      "metadata": {
        "id": "544958dc-37b4-4fb3-91c0-834bccfa6d32"
      },
      "outputs": [],
      "source": [
        "my_df2.columns"
      ],
      "id": "544958dc-37b4-4fb3-91c0-834bccfa6d32"
    },
    {
      "cell_type": "code",
      "execution_count": null,
      "metadata": {
        "id": "cac3cb11-d5d0-4969-bdb3-eb9c0d29c700"
      },
      "outputs": [],
      "source": [
        "my_df2.columns = ['P', 'Q']\n",
        "my_df2\n",
        "# 以下省略"
      ],
      "id": "cac3cb11-d5d0-4969-bdb3-eb9c0d29c700"
    },
    {
      "cell_type": "code",
      "execution_count": null,
      "metadata": {
        "id": "26c75745-e038-407d-a9d0-30f10be2c5d2"
      },
      "outputs": [],
      "source": [
        "list(my_df.index)"
      ],
      "id": "26c75745-e038-407d-a9d0-30f10be2c5d2"
    },
    {
      "cell_type": "code",
      "execution_count": null,
      "metadata": {
        "id": "381efdba-34a4-48d9-988c-30bfec9c7575"
      },
      "outputs": [],
      "source": [
        "my_df2.index = [\n",
        "    'a', 'b', 'c', 'd', 'e', 'f']\n",
        "my_df2\n",
        "# 以下省略"
      ],
      "id": "381efdba-34a4-48d9-988c-30bfec9c7575"
    },
    {
      "cell_type": "code",
      "execution_count": null,
      "metadata": {
        "id": "aa89a6fe-4609-4295-a54f-6d4da0937877"
      },
      "outputs": [],
      "source": [
        "my_df3 = pd.DataFrame({\n",
        "    'english': [ 60,  90,  70,  90],\n",
        "    'math':    [ 70,  80,  90, 100],\n",
        "    'gender':  ['f', 'm', 'm', 'f']},\n",
        "    index=     ['A', 'B', 'C', 'D'])\n",
        "my_df3"
      ],
      "id": "aa89a6fe-4609-4295-a54f-6d4da0937877"
    },
    {
      "cell_type": "code",
      "execution_count": null,
      "metadata": {
        "id": "e1f2db4f-7887-40f8-85fb-83d4c4e46f9a"
      },
      "outputs": [],
      "source": [
        "tmp = pd.DataFrame({\n",
        "    'name'   : ['E'],\n",
        "    'english': [80],\n",
        "    'math'   : [80],\n",
        "    'gender' : ['m']})\n",
        "my_df2 = my_df.append(tmp)"
      ],
      "id": "e1f2db4f-7887-40f8-85fb-83d4c4e46f9a"
    },
    {
      "cell_type": "code",
      "execution_count": null,
      "metadata": {
        "id": "ee5244e1-d559-4892-8467-ba870749b79f"
      },
      "outputs": [],
      "source": [
        "my_df2 = my_df.assign(id=[1, 2, 3, 4])"
      ],
      "id": "ee5244e1-d559-4892-8467-ba870749b79f"
    },
    {
      "cell_type": "code",
      "execution_count": null,
      "metadata": {
        "id": "2751595e-bab5-451d-88ca-1b2947a7d4a8"
      },
      "outputs": [],
      "source": [
        "my_df3 = my_df.copy()       # コピー\n",
        "my_df3['id'] = [1, 2, 3, 4] # 更新\n",
        "my_df3 # 結果の確認（割愛）"
      ],
      "id": "2751595e-bab5-451d-88ca-1b2947a7d4a8"
    },
    {
      "cell_type": "code",
      "execution_count": null,
      "metadata": {
        "id": "a47fa95a-fa9b-450d-bc66-582888f62484"
      },
      "outputs": [],
      "source": [
        "my_df.iloc[0, 1]"
      ],
      "id": "a47fa95a-fa9b-450d-bc66-582888f62484"
    },
    {
      "cell_type": "code",
      "execution_count": null,
      "metadata": {
        "id": "7c091f6b-0a4e-4538-97df-ed71c103dbfe"
      },
      "outputs": [],
      "source": [
        "x = my_df.iloc[:, 1]\n",
        "# あるいは\n",
        "x = my_df['english']\n",
        "# あるいは\n",
        "x = my_df.english\n",
        "# あるいは\n",
        "tmp = 'english'\n",
        "x = my_df[tmp]\n",
        "\n",
        "x # 結果の確認（割愛）"
      ],
      "id": "7c091f6b-0a4e-4538-97df-ed71c103dbfe"
    },
    {
      "cell_type": "code",
      "execution_count": null,
      "metadata": {
        "id": "237aa3b8-9ded-4955-9813-f02e901bc472"
      },
      "outputs": [],
      "source": [
        "x = my_df[['name', 'math']]\n",
        "# あるいは\n",
        "x = my_df.loc[:, ['name', 'math']]"
      ],
      "id": "237aa3b8-9ded-4955-9813-f02e901bc472"
    },
    {
      "cell_type": "code",
      "execution_count": null,
      "metadata": {
        "id": "581c8d4f-a045-4373-88f1-bd8f913b53ac"
      },
      "outputs": [],
      "source": [
        "x = my_df.take([0, 2], axis=1)\n",
        "# あるいは\n",
        "x = my_df.iloc[:, [0, 2]]"
      ],
      "id": "581c8d4f-a045-4373-88f1-bd8f913b53ac"
    },
    {
      "cell_type": "code",
      "execution_count": null,
      "metadata": {
        "id": "91b6db74-d18f-41a7-b66c-e3263a3592d4"
      },
      "outputs": [],
      "source": [
        "x = my_df.drop(\n",
        "    columns=['english', 'gender'])\n",
        "# あるいは\n",
        "x = my_df.drop(\n",
        "    columns=my_df.columns[[1, 3]])"
      ],
      "id": "91b6db74-d18f-41a7-b66c-e3263a3592d4"
    },
    {
      "cell_type": "code",
      "execution_count": null,
      "metadata": {
        "id": "3c8d4d76-2116-4b0e-ba04-39b39d50d4f2"
      },
      "outputs": [],
      "source": [
        "x = my_df.take([0, 2])\n",
        "# あるいは\n",
        "x = my_df.iloc[[0, 2], :]"
      ],
      "id": "3c8d4d76-2116-4b0e-ba04-39b39d50d4f2"
    },
    {
      "cell_type": "code",
      "execution_count": null,
      "metadata": {
        "id": "30512e7e-00da-428c-87a8-233a92258fd9"
      },
      "outputs": [],
      "source": [
        "x = my_df.drop([1, 3])"
      ],
      "id": "30512e7e-00da-428c-87a8-233a92258fd9"
    },
    {
      "cell_type": "code",
      "execution_count": null,
      "metadata": {
        "id": "250bf60f-1ab8-43ae-9c27-f4fe7bc2fa2b"
      },
      "outputs": [],
      "source": [
        "x = my_df[my_df['gender'] == 'm']\n",
        "# あるいは\n",
        "x = my_df.query('gender == \"m\"')"
      ],
      "id": "250bf60f-1ab8-43ae-9c27-f4fe7bc2fa2b"
    },
    {
      "cell_type": "code",
      "execution_count": null,
      "metadata": {
        "id": "358a9cd9-85b0-459b-8db6-634c9b663df1"
      },
      "outputs": [],
      "source": [
        "x = my_df[(my_df['english'] > 80) & (my_df['gender'] == \"m\")]\n",
        "# あるいは\n",
        "x = my_df.query('english > 80 and gender == \"m\"')"
      ],
      "id": "358a9cd9-85b0-459b-8db6-634c9b663df1"
    },
    {
      "cell_type": "code",
      "execution_count": null,
      "metadata": {
        "id": "ad1c83ef-3d61-4384-8f8c-9cc075c6de7c"
      },
      "outputs": [],
      "source": [
        "x = my_df[my_df['english'] == my_df['english'].max()]\n",
        "# あるいは\n",
        "tmp = my_df['english'].max()\n",
        "x = my_df.query('english == @tmp')"
      ],
      "id": "ad1c83ef-3d61-4384-8f8c-9cc075c6de7c"
    },
    {
      "cell_type": "code",
      "execution_count": null,
      "metadata": {
        "id": "1a3d5448-4171-4cc9-ae2f-6b5003466df0"
      },
      "outputs": [],
      "source": [
        "my_df2 = my_df.copy() # コピー\n",
        "my_df2.loc[my_df['gender'] == 'm', 'gender'] = 'M'"
      ],
      "id": "1a3d5448-4171-4cc9-ae2f-6b5003466df0"
    },
    {
      "cell_type": "code",
      "execution_count": null,
      "metadata": {
        "id": "551f7d32-bfe1-4805-940b-7023bc561057"
      },
      "outputs": [],
      "source": [
        "my_df2"
      ],
      "id": "551f7d32-bfe1-4805-940b-7023bc561057"
    },
    {
      "cell_type": "code",
      "execution_count": null,
      "metadata": {
        "id": "21ca792b-9141-49eb-befd-0c52b39e9373"
      },
      "outputs": [],
      "source": [
        "x = my_df.sort_values('english')"
      ],
      "id": "21ca792b-9141-49eb-befd-0c52b39e9373"
    },
    {
      "cell_type": "code",
      "execution_count": null,
      "metadata": {
        "id": "44199176-6a90-41df-9b54-1f2be781fa98"
      },
      "outputs": [],
      "source": [
        "x = my_df.sort_values('english',\n",
        "    ascending=False)"
      ],
      "id": "44199176-6a90-41df-9b54-1f2be781fa98"
    },
    {
      "cell_type": "code",
      "execution_count": null,
      "metadata": {
        "id": "da781bd8-e82b-44db-a5f3-220ad93b1d43"
      },
      "outputs": [],
      "source": [
        "import numpy as np\n",
        "x = [2, 3, 5, 7, 11, 13, 17, 19, 23,\n",
        "     29, 31, 37]\n",
        "A = np.array(x).reshape(3, 4)\n",
        "A"
      ],
      "id": "da781bd8-e82b-44db-a5f3-220ad93b1d43"
    },
    {
      "cell_type": "code",
      "execution_count": null,
      "metadata": {
        "id": "12380577-414d-4b75-a172-d418a167f1dc"
      },
      "outputs": [],
      "source": [
        "A = my_df.iloc[:, [1, 2]].values\n",
        "A"
      ],
      "id": "12380577-414d-4b75-a172-d418a167f1dc"
    },
    {
      "cell_type": "code",
      "execution_count": null,
      "metadata": {
        "id": "9f727207-35cf-49f5-a5f6-b73fab88413f"
      },
      "outputs": [],
      "source": [
        "pd.DataFrame(A)"
      ],
      "id": "9f727207-35cf-49f5-a5f6-b73fab88413f"
    },
    {
      "cell_type": "code",
      "execution_count": null,
      "metadata": {
        "id": "a630ddda-827b-4f92-bb7b-5027c425047c"
      },
      "outputs": [],
      "source": [
        "A.T"
      ],
      "id": "a630ddda-827b-4f92-bb7b-5027c425047c"
    },
    {
      "cell_type": "code",
      "execution_count": null,
      "metadata": {
        "id": "a96f006f-b2be-4d3b-8956-29719b56c403"
      },
      "outputs": [],
      "source": [
        "A.T @ A"
      ],
      "id": "a96f006f-b2be-4d3b-8956-29719b56c403"
    },
    {
      "cell_type": "code",
      "execution_count": null,
      "metadata": {
        "id": "bc04b51f-c086-43f6-8f39-e0473e94b468"
      },
      "outputs": [],
      "source": [
        "my_df = pd.DataFrame({\n",
        "    'day': [25, 26, 27],\n",
        "    'min': [20, 21, 15],\n",
        "    'max': [24, 27, 21]})"
      ],
      "id": "bc04b51f-c086-43f6-8f39-e0473e94b468"
    },
    {
      "cell_type": "code",
      "execution_count": null,
      "metadata": {
        "id": "168099a3-987e-43b0-b028-e7a0e7699867"
      },
      "outputs": [],
      "source": [
        "my_longer = my_df.melt(id_vars='day')\n",
        "my_longer"
      ],
      "id": "168099a3-987e-43b0-b028-e7a0e7699867"
    },
    {
      "cell_type": "code",
      "execution_count": null,
      "metadata": {
        "id": "d3d08dec-ba57-4e13-870a-9ef18f261183"
      },
      "outputs": [],
      "source": [
        "my_wider = my_longer.pivot(\n",
        "    index='day',\n",
        "    columns='variable',\n",
        "    values='value')\n",
        "my_wider"
      ],
      "id": "d3d08dec-ba57-4e13-870a-9ef18f261183"
    },
    {
      "cell_type": "code",
      "execution_count": null,
      "metadata": {
        "id": "2bca2e0a-94cd-4b24-81b3-9d1377346fb0"
      },
      "outputs": [],
      "source": [
        "my_wider.plot(\n",
        "    style='o-',\n",
        "    xticks=my_wider.index, # x軸目盛り\n",
        "    ylabel='temperature')  # y軸ラベル"
      ],
      "id": "2bca2e0a-94cd-4b24-81b3-9d1377346fb0"
    },
    {
      "id": "0bb227a4",
      "cell_type": "markdown",
      "source": [
        "## 3.5 1次元データの（非）類似度"
      ],
      "metadata": {
        "id": "0bb227a4"
      }
    },
    {
      "cell_type": "code",
      "execution_count": null,
      "metadata": {
        "id": "8602cc1d-cd35-4209-95ad-f8458b5f06d0"
      },
      "outputs": [],
      "source": [
        "import numpy as np\n",
        "from scipy.spatial import distance\n",
        "from scipy.stats import pearsonr\n",
        "\n",
        "A = np.array([3,   4,  5])\n",
        "B = np.array([3,   4, 29])\n",
        "C = np.array([9, -18,  8])\n",
        "\n",
        "distance.euclidean(A, B)\n",
        "\n",
        "distance.euclidean(A, C)"
      ],
      "id": "8602cc1d-cd35-4209-95ad-f8458b5f06d0"
    },
    {
      "cell_type": "code",
      "execution_count": null,
      "metadata": {
        "id": "393b57c2-9ee1-4687-bb96-dd6e67dca55a"
      },
      "outputs": [],
      "source": [
        "distance.cityblock(A, B)\n",
        "\n",
        "distance.cityblock(A, C)"
      ],
      "id": "393b57c2-9ee1-4687-bb96-dd6e67dca55a"
    },
    {
      "cell_type": "code",
      "execution_count": null,
      "metadata": {
        "id": "9dd87a6f-bdcc-4057-8a0b-ead31f4e3c9a"
      },
      "outputs": [],
      "source": [
        "1 - distance.cosine(A, B)\n",
        "\n",
        "1 - distance.cosine(A, C)"
      ],
      "id": "9dd87a6f-bdcc-4057-8a0b-ead31f4e3c9a"
    },
    {
      "cell_type": "code",
      "execution_count": null,
      "metadata": {
        "id": "c926bf7e-2088-48d5-83a1-aa8f7dca82de"
      },
      "outputs": [],
      "source": [
        "1 - distance.correlation(A, B)\n",
        "# あるいは\n",
        "pearsonr(A, B)[0]\n",
        "\n",
        "1 - distance.correlation(A, C)\n",
        "# あるいは\n",
        "pearsonr(A, C)[0]"
      ],
      "id": "c926bf7e-2088-48d5-83a1-aa8f7dca82de"
    },
    {
      "cell_type": "code",
      "execution_count": null,
      "metadata": {
        "id": "d7d3e82a-b060-4473-a4fb-c7a1195d39d6"
      },
      "outputs": [],
      "source": [
        "# 小数点以下は3桁表示\n",
        "np.set_printoptions(precision=3)\n",
        "import pandas as pd\n",
        "\n",
        "my_df = pd.DataFrame({\n",
        "    'x': [3,  3,   9],\n",
        "    'y': [4,  4, -18],\n",
        "    'z': [5, 29,   8]},\n",
        "    index=['A', 'B', 'C'])\n",
        "\n",
        "# ユークリッド距離\n",
        "distance.cdist(my_df, my_df,\n",
        "               metric='euclidean')\n",
        "\n",
        "# マンハッタン距離\n",
        "distance.cdist(my_df, my_df,\n",
        "               metric='cityblock')\n",
        "\n",
        "# コサイン類似度\n",
        "1 - distance.cdist(my_df, my_df,\n",
        "    metric='cosine')\n",
        "\n",
        "# 相関係数\n",
        "1 - distance.cdist(my_df, my_df,\n",
        "    metric='correlation')"
      ],
      "id": "d7d3e82a-b060-4473-a4fb-c7a1195d39d6"
    },
    {
      "id": "ffb83f69",
      "cell_type": "markdown",
      "source": [
        "## 3.6 Rのパッケージ，Pythonのモジュール"
      ],
      "metadata": {
        "id": "ffb83f69"
      }
    },
    {
      "cell_type": "code",
      "execution_count": null,
      "metadata": {
        "id": "998c8498-ec63-4167-bc6e-4aff67ad64fa"
      },
      "outputs": [],
      "source": [
        "import math\n",
        "import numpy as np\n",
        "import pandas as pd"
      ],
      "id": "998c8498-ec63-4167-bc6e-4aff67ad64fa"
    },
    {
      "cell_type": "code",
      "execution_count": null,
      "metadata": {
        "id": "0afc3160-6022-43b4-9d63-67641802ebf7"
      },
      "outputs": [],
      "source": [
        "import numpy\n",
        "numpy.array([1, 2, 3, 4])"
      ],
      "id": "0afc3160-6022-43b4-9d63-67641802ebf7"
    },
    {
      "cell_type": "code",
      "execution_count": null,
      "metadata": {
        "id": "49ceb805-0b26-4f0c-a9ae-a31b730ab04b"
      },
      "outputs": [],
      "source": [
        "import numpy as np\n",
        "np.array([1, 2, 3, 4])"
      ],
      "id": "49ceb805-0b26-4f0c-a9ae-a31b730ab04b"
    },
    {
      "cell_type": "code",
      "execution_count": null,
      "metadata": {
        "id": "e209c98e-1ddc-4c58-ae85-637b33dcae0a"
      },
      "outputs": [],
      "source": [
        "from numpy import array\n",
        "array([1, 2, 3, 4])"
      ],
      "id": "e209c98e-1ddc-4c58-ae85-637b33dcae0a"
    },
    {
      "cell_type": "code",
      "execution_count": null,
      "metadata": {
        "id": "e6bfe89a-d9b8-42bd-b5ec-f8ff1ff3c4bd"
      },
      "outputs": [],
      "source": [
        "from numpy import *\n",
        "array([1, 2, 3, 4])"
      ],
      "id": "e6bfe89a-d9b8-42bd-b5ec-f8ff1ff3c4bd"
    },
    {
      "id": "99e69a77",
      "cell_type": "markdown",
      "source": [
        "## 3.7 反復処理"
      ],
      "metadata": {
        "id": "99e69a77"
      }
    },
    {
      "cell_type": "code",
      "execution_count": null,
      "metadata": {
        "id": "e0c63023-37d6-4422-9b82-ec877252bf09"
      },
      "outputs": [],
      "source": [
        "import numpy as np\n",
        "import pandas as pd"
      ],
      "id": "e0c63023-37d6-4422-9b82-ec877252bf09"
    },
    {
      "cell_type": "code",
      "execution_count": null,
      "metadata": {
        "id": "343b60f7-a1de-4720-a5c2-972839b83e7a"
      },
      "outputs": [],
      "source": [
        "def f1(x):\n",
        "    tmp = np.random.random(x)\n",
        "    return np.mean(tmp)\n",
        "\n",
        "f1(10)                # 動作確認"
      ],
      "id": "343b60f7-a1de-4720-a5c2-972839b83e7a"
    },
    {
      "cell_type": "code",
      "execution_count": null,
      "metadata": {
        "id": "3c0c194d-5a65-4a3f-855d-e86559b91830"
      },
      "outputs": [],
      "source": [
        "[f1(10) for i in range(3)]"
      ],
      "id": "3c0c194d-5a65-4a3f-855d-e86559b91830"
    },
    {
      "cell_type": "code",
      "execution_count": null,
      "metadata": {
        "id": "ad29f8be-d132-4328-9de2-b023605da9f1"
      },
      "outputs": [],
      "source": [
        "[f1(10)] * 3"
      ],
      "id": "ad29f8be-d132-4328-9de2-b023605da9f1"
    },
    {
      "cell_type": "code",
      "execution_count": null,
      "metadata": {
        "id": "3aaef649-fd1c-44d5-8b6c-f5d6eaf96a89"
      },
      "outputs": [],
      "source": [
        "v = [5, 10, 100]\n",
        "[f1(x) for x in v] # 方法1\n",
        "\n",
        "# あるいは\n",
        "\n",
        "v = pd.Series([5, 10, 100])\n",
        "v.apply(f1)        # 方法2"
      ],
      "id": "3aaef649-fd1c-44d5-8b6c-f5d6eaf96a89"
    },
    {
      "cell_type": "code",
      "execution_count": null,
      "metadata": {
        "id": "eee00a5f-4004-4c4e-b0e1-e3fd24b97dd1"
      },
      "outputs": [],
      "source": [
        "pd.Series([10] * 3).apply(f1)\n",
        "# 結果は割愛"
      ],
      "id": "eee00a5f-4004-4c4e-b0e1-e3fd24b97dd1"
    },
    {
      "cell_type": "code",
      "execution_count": null,
      "metadata": {
        "id": "889b3fb2-9b51-4aef-a0c1-7f84f1752f46"
      },
      "outputs": [],
      "source": [
        "def f2(n):\n",
        "    tmp = np.random.random(n)\n",
        "    return pd.Series([\n",
        "        n,\n",
        "        tmp.mean(),\n",
        "        tmp.std(ddof=1)],\n",
        "        index=['x', 'p', 'q'])\n",
        "\n",
        "f2(10) # 動作確認"
      ],
      "id": "889b3fb2-9b51-4aef-a0c1-7f84f1752f46"
    },
    {
      "cell_type": "code",
      "execution_count": null,
      "metadata": {
        "id": "9ed3851a-290e-442a-8f98-c02525d4b8b0"
      },
      "outputs": [],
      "source": [
        "v = pd.Series([5, 10, 100])\n",
        "v.apply(f2)"
      ],
      "id": "9ed3851a-290e-442a-8f98-c02525d4b8b0"
    },
    {
      "cell_type": "code",
      "execution_count": null,
      "metadata": {
        "id": "0ef991f2-7ee6-4894-af49-32ea8c2c7a15"
      },
      "outputs": [],
      "source": [
        "def f3(x, y):\n",
        "    tmp = np.random.random(x) * y\n",
        "    return pd.Series([\n",
        "        x,\n",
        "        y,\n",
        "        tmp.mean(),\n",
        "        tmp.std(ddof=1)],\n",
        "        index=['x', 'y', 'p', 'q'])\n",
        "\n",
        "f3(10, 6) # 動作確認"
      ],
      "id": "0ef991f2-7ee6-4894-af49-32ea8c2c7a15"
    },
    {
      "cell_type": "code",
      "execution_count": null,
      "metadata": {
        "id": "03450a15-bbcd-421d-bf94-bb644c467828"
      },
      "outputs": [],
      "source": [
        "my_df = pd.DataFrame({\n",
        "    'x': [5, 10, 100,  5, 10, 100],\n",
        "    'y': [6,  6,   6, 12, 12,  12]})\n",
        "\n",
        "my_df.apply(\n",
        "  lambda row: f3(row['x'], row['y']),\n",
        "  axis=1)\n",
        "# あるいは\n",
        "my_df.apply(lambda row:\n",
        "            f3(*row), axis=1)\n"
      ],
      "id": "03450a15-bbcd-421d-bf94-bb644c467828"
    },
    {
      "cell_type": "code",
      "execution_count": null,
      "metadata": {
        "id": "3250ab0f-b819-4517-b359-e25e29ee4222"
      },
      "outputs": [],
      "source": [
        "from pandarallel import pandarallel\n",
        "pandarallel.initialize() # 準備\n",
        "\n",
        "v = pd.Series([5, 10, 100])\n",
        "v.parallel_apply(f1)\n",
        "# 結果は割愛"
      ],
      "id": "3250ab0f-b819-4517-b359-e25e29ee4222"
    },
    {
      "id": "ef6ec287",
      "cell_type": "markdown",
      "source": [
        "## 3.8 その他"
      ],
      "metadata": {
        "id": "ef6ec287"
      }
    },
    {
      "cell_type": "code",
      "execution_count": null,
      "metadata": {
        "id": "243bff08-397c-4412-b484-1f9e7027cd45"
      },
      "outputs": [],
      "source": [
        "x = 123\n",
        "type(x)"
      ],
      "id": "243bff08-397c-4412-b484-1f9e7027cd45"
    },
    {
      "cell_type": "code",
      "execution_count": null,
      "metadata": {
        "id": "ac188a42-bd72-4e12-8f4a-c4e918e2c796"
      },
      "outputs": [],
      "source": [
        "%whos"
      ],
      "id": "ac188a42-bd72-4e12-8f4a-c4e918e2c796"
    },
    {
      "cell_type": "code",
      "execution_count": null,
      "metadata": {
        "id": "d2c01ae5-c0e6-41b3-8ee5-2e9f48a8fcc0"
      },
      "outputs": [],
      "source": [
        "import math\n",
        "?math.log\n",
        "# あるいは\n",
        "help(math.log)"
      ],
      "id": "d2c01ae5-c0e6-41b3-8ee5-2e9f48a8fcc0"
    },
    {
      "cell_type": "code",
      "execution_count": null,
      "metadata": {
        "id": "2ab56a21-1a3b-42f1-8771-de3f46b02fe0"
      },
      "outputs": [],
      "source": [
        "import numpy as np\n",
        "v = [1, np.nan, 3]\n",
        "v"
      ],
      "id": "2ab56a21-1a3b-42f1-8771-de3f46b02fe0"
    },
    {
      "cell_type": "code",
      "execution_count": null,
      "metadata": {
        "id": "e733a203-2d90-43e8-b61b-8616c0da607c"
      },
      "outputs": [],
      "source": [
        "np.isnan(v[1])\n",
        "\n",
        "v[1] == np.nan # 誤り"
      ],
      "id": "e733a203-2d90-43e8-b61b-8616c0da607c"
    },
    {
      "id": "04324d89",
      "cell_type": "markdown",
      "source": [
        "# 4 統計入門\n",
        "\n",
        "\n"
      ],
      "metadata": {
        "id": "04324d89"
      }
    },
    {
      "id": "48187dd7",
      "cell_type": "markdown",
      "source": [
        "## 4.1 記述統計"
      ],
      "metadata": {
        "id": "48187dd7"
      }
    },
    {
      "cell_type": "code",
      "execution_count": null,
      "metadata": {
        "id": "3bda2c3d-582c-485f-81c0-25cc925defd3"
      },
      "outputs": [],
      "source": [
        "import numpy as np\n",
        "import pandas as pd\n",
        "\n",
        "x = [165, 170, 175, 180, 185]\n",
        "np.mean(x) # リストの場合\n",
        "\n",
        "x = np.array( # アレイ\n",
        "    [165, 170, 175, 180, 185])\n",
        "x.mean() # np.mean(x)も可\n",
        "\n",
        "x = pd.Series( # シリーズ\n",
        "    [165, 170, 175, 180, 185])\n",
        "x.mean() # np.mean(x)も可"
      ],
      "id": "3bda2c3d-582c-485f-81c0-25cc925defd3"
    },
    {
      "cell_type": "code",
      "execution_count": null,
      "metadata": {
        "id": "602935c1-16af-499c-9401-b7aa7670779f"
      },
      "outputs": [],
      "source": [
        "n = len(x) # サンプルサイズ\n",
        "sum(x) / n"
      ],
      "id": "602935c1-16af-499c-9401-b7aa7670779f"
    },
    {
      "cell_type": "code",
      "execution_count": null,
      "metadata": {
        "id": "0bc90947-7bfe-466a-af23-c5169378131a"
      },
      "outputs": [],
      "source": [
        "y = [173, 174, 175, 176, 177]\n",
        "np.mean(y)"
      ],
      "id": "0bc90947-7bfe-466a-af23-c5169378131a"
    },
    {
      "cell_type": "code",
      "execution_count": null,
      "metadata": {
        "id": "cb30df07-b744-46fb-bb94-3e1b6afa2c6d"
      },
      "outputs": [],
      "source": [
        "np.var(x, ddof=1) # xの分散\n",
        "\n",
        "np.var(y, ddof=1) # yの分散"
      ],
      "id": "cb30df07-b744-46fb-bb94-3e1b6afa2c6d"
    },
    {
      "cell_type": "code",
      "execution_count": null,
      "metadata": {
        "id": "2c498ecd-805e-44ea-91d8-5d5193c0f11e"
      },
      "outputs": [],
      "source": [
        "sum((x - np.mean(x))**2) / (n - 1)"
      ],
      "id": "2c498ecd-805e-44ea-91d8-5d5193c0f11e"
    },
    {
      "cell_type": "code",
      "execution_count": null,
      "metadata": {
        "id": "78d32a18-d4a5-49db-90dd-d33708457cb4"
      },
      "outputs": [],
      "source": [
        "np.std(x, ddof=1) # xの標準偏差\n",
        "\n",
        "np.std(y, ddof=1) # yの標準偏差"
      ],
      "id": "78d32a18-d4a5-49db-90dd-d33708457cb4"
    },
    {
      "cell_type": "code",
      "execution_count": null,
      "metadata": {
        "id": "2ac2c356-5018-40fa-9cc4-52da11b62df6"
      },
      "outputs": [],
      "source": [
        "np.var(x, ddof=1)**0.5 # xの標準偏差"
      ],
      "id": "2ac2c356-5018-40fa-9cc4-52da11b62df6"
    },
    {
      "cell_type": "code",
      "execution_count": null,
      "metadata": {
        "id": "9fe985cf-33cf-4101-b03e-746a7de15265"
      },
      "outputs": [],
      "source": [
        "s = pd.Series(x)\n",
        "s.describe()"
      ],
      "id": "9fe985cf-33cf-4101-b03e-746a7de15265"
    },
    {
      "cell_type": "code",
      "execution_count": null,
      "metadata": {
        "id": "42034e2c-25e9-481c-adb5-55456332e29b"
      },
      "outputs": [],
      "source": [
        "# s.describe()で計算済み"
      ],
      "id": "42034e2c-25e9-481c-adb5-55456332e29b"
    },
    {
      "cell_type": "code",
      "execution_count": null,
      "metadata": {
        "id": "8750cb22-9fe3-41c8-9011-0f0b2f3e5f63"
      },
      "outputs": [],
      "source": [
        "x = [165, 170, 175, 180, 185]\n",
        "\n",
        "np.var(x, ddof=1) # 不偏分散\n",
        "\n",
        "np.var(x, ddof=0) # 標本分散"
      ],
      "id": "8750cb22-9fe3-41c8-9011-0f0b2f3e5f63"
    },
    {
      "cell_type": "code",
      "execution_count": null,
      "metadata": {
        "id": "d6582fc8-430b-4c72-95f9-dc4ba2eb25b2"
      },
      "outputs": [],
      "source": [
        "np.std(x, ddof=1) # √不偏分散\n",
        "\n",
        "np.std(x, ddof=0) # √標本分散"
      ],
      "id": "d6582fc8-430b-4c72-95f9-dc4ba2eb25b2"
    },
    {
      "cell_type": "code",
      "execution_count": null,
      "metadata": {
        "id": "8cb70f28-c61e-44b9-91d8-84fc02b39779"
      },
      "outputs": [],
      "source": [
        "np.std(x, ddof=1) / len(x)**0.5"
      ],
      "id": "8cb70f28-c61e-44b9-91d8-84fc02b39779"
    },
    {
      "cell_type": "code",
      "execution_count": null,
      "metadata": {
        "id": "68c6b467-bf45-4541-a4c4-8365f89ae3a6"
      },
      "outputs": [],
      "source": [
        "import numpy as np\n",
        "import pandas as pd\n",
        "\n",
        "my_df = pd.DataFrame({\n",
        "    'name':    ['A', 'B', 'C', 'D'],\n",
        "    'english': [ 60,  90,  70,  90],\n",
        "    'math':    [ 70,  80,  90, 100],\n",
        "    'gender':  ['f', 'm', 'm', 'f']})"
      ],
      "id": "68c6b467-bf45-4541-a4c4-8365f89ae3a6"
    },
    {
      "cell_type": "code",
      "execution_count": null,
      "metadata": {
        "id": "eb726b7a-a635-4b1e-86c1-c8287d4cf072"
      },
      "outputs": [],
      "source": [
        "my_df['english'].var(ddof=1)\n",
        "# あるいは\n",
        "np.var(my_df['english'], ddof=1)\n"
      ],
      "id": "eb726b7a-a635-4b1e-86c1-c8287d4cf072"
    },
    {
      "cell_type": "code",
      "execution_count": null,
      "metadata": {
        "id": "35faef43-a9e4-4259-a6cd-62e33ce49cf0"
      },
      "outputs": [],
      "source": [
        "my_df.var()\n",
        "# あるいは\n",
        "my_df.apply('var')\n",
        "# あるいは\n",
        "my_df.iloc[:, [1, 2]].apply(\n",
        "    lambda x: np.var(x, ddof=1))\n"
      ],
      "id": "35faef43-a9e4-4259-a6cd-62e33ce49cf0"
    },
    {
      "cell_type": "code",
      "execution_count": null,
      "metadata": {
        "id": "ee755c11-71bf-4d7c-b341-83c17f7e2e4c"
      },
      "outputs": [],
      "source": [
        "my_df.describe()"
      ],
      "id": "ee755c11-71bf-4d7c-b341-83c17f7e2e4c"
    },
    {
      "cell_type": "code",
      "execution_count": null,
      "metadata": {
        "id": "8a0106fe-df06-4fbf-b2ef-2c7b79919fb9"
      },
      "outputs": [],
      "source": [
        "from collections import Counter\n",
        "Counter(my_df.gender)\n",
        "\n",
        "# あるいは\n",
        "\n",
        "my_df.groupby('gender').apply(len)"
      ],
      "id": "8a0106fe-df06-4fbf-b2ef-2c7b79919fb9"
    },
    {
      "cell_type": "code",
      "execution_count": null,
      "metadata": {
        "id": "3ca45e19-9409-4aab-8ea9-7ff57c37146d"
      },
      "outputs": [],
      "source": [
        "my_df2 = my_df.assign(\n",
        "    excel=my_df.math >= 80)\n",
        "pd.crosstab(my_df2.gender,\n",
        "            my_df2.excel)"
      ],
      "id": "3ca45e19-9409-4aab-8ea9-7ff57c37146d"
    },
    {
      "cell_type": "code",
      "execution_count": null,
      "metadata": {
        "id": "c72a67c9-acd1-4699-9923-bcac009d9ca1"
      },
      "outputs": [],
      "source": [
        "my_df.groupby('gender').mean()\n",
        "# あるいは\n",
        "my_df.groupby('gender').agg('mean')\n",
        "# あるいは\n",
        "my_df.groupby('gender').agg(np.mean)\n"
      ],
      "id": "c72a67c9-acd1-4699-9923-bcac009d9ca1"
    },
    {
      "id": "6ea6d26e",
      "cell_type": "markdown",
      "source": [
        "## 4.2 データの可視化"
      ],
      "metadata": {
        "id": "6ea6d26e"
      }
    },
    {
      "cell_type": "code",
      "execution_count": null,
      "metadata": {
        "id": "845c7e96-3af4-4c70-820b-e89547beb6d1"
      },
      "outputs": [],
      "source": [
        "import numpy as np\n",
        "import pandas as pd\n",
        "import statsmodels.api as sm\n",
        "iris = sm.datasets.get_rdataset('iris', 'datasets').data\n",
        "iris.head()"
      ],
      "id": "845c7e96-3af4-4c70-820b-e89547beb6d1"
    },
    {
      "cell_type": "code",
      "execution_count": null,
      "metadata": {
        "id": "267cafb7-83ad-4cf6-a53e-833926be4a0a"
      },
      "outputs": [],
      "source": [
        "iris.hist('Sepal.Length')"
      ],
      "id": "267cafb7-83ad-4cf6-a53e-833926be4a0a"
    },
    {
      "cell_type": "code",
      "execution_count": null,
      "metadata": {
        "id": "229e07c1-9113-4df0-bd54-4c6bc87fe60a"
      },
      "outputs": [],
      "source": [
        "my_df = pd.DataFrame(\n",
        "    {'x': [10, 20, 30]})\n",
        "my_df.hist('x', bins=2) # 階級数は2"
      ],
      "id": "229e07c1-9113-4df0-bd54-4c6bc87fe60a"
    },
    {
      "cell_type": "code",
      "execution_count": null,
      "metadata": {
        "id": "fec4cb20-85c2-497f-8f30-671bcfad6319"
      },
      "outputs": [],
      "source": [
        "x = iris['Sepal.Length']\n",
        "tmp = np.linspace(min(x), max(x), 10)\n",
        "iris.hist('Sepal.Length',\n",
        "          bins=tmp.round(2))"
      ],
      "id": "fec4cb20-85c2-497f-8f30-671bcfad6319"
    },
    {
      "cell_type": "code",
      "execution_count": null,
      "metadata": {
        "id": "47dc9baa-a817-4639-a072-ad452c853693"
      },
      "outputs": [],
      "source": [
        "iris.plot('Sepal.Length',\n",
        "          'Sepal.Width',\n",
        "          kind='scatter')"
      ],
      "id": "47dc9baa-a817-4639-a072-ad452c853693"
    },
    {
      "cell_type": "code",
      "execution_count": null,
      "metadata": {
        "id": "b7e613bf-171c-4d65-94b1-150eb07eb472"
      },
      "outputs": [],
      "source": [
        "iris.boxplot()"
      ],
      "id": "b7e613bf-171c-4d65-94b1-150eb07eb472"
    },
    {
      "cell_type": "code",
      "execution_count": null,
      "metadata": {
        "id": "540e2ad0-031f-47ad-bea8-afe7fd5509f2"
      },
      "outputs": [],
      "source": [
        "pd.options.display.float_format = (\n",
        "    '{:.2f}'.format)\n",
        "my_df = (iris.describe().transpose()\n",
        "    [['mean', 'std']])\n",
        "my_df['se'] = (my_df['std'] /\n",
        "               len(iris)**0.5)\n",
        "my_df"
      ],
      "id": "540e2ad0-031f-47ad-bea8-afe7fd5509f2"
    },
    {
      "cell_type": "code",
      "execution_count": null,
      "metadata": {
        "id": "3ba8491d-9c02-4d71-9f2a-a16207c6a7fd"
      },
      "outputs": [],
      "source": [
        "my_df.plot(y='mean', kind='bar', yerr='se', capsize=10)"
      ],
      "id": "3ba8491d-9c02-4d71-9f2a-a16207c6a7fd"
    },
    {
      "cell_type": "code",
      "execution_count": null,
      "metadata": {
        "id": "0d086c2b-ea6b-4ce5-87e0-6bb6d89d5cc7"
      },
      "outputs": [],
      "source": [
        "my_group = iris.groupby('Species')                    # 品種ごとに，\n",
        "my_df = my_group.agg('mean')                          # 各変数の，平均と\n",
        "my_se = my_group.agg(lambda x: x.std() / len(x)**0.5) # 標準誤差を求める．\n",
        "my_se"
      ],
      "id": "0d086c2b-ea6b-4ce5-87e0-6bb6d89d5cc7"
    },
    {
      "cell_type": "code",
      "execution_count": null,
      "metadata": {
        "id": "a1b534eb-19ed-44ba-a283-5daa54f09e8e"
      },
      "outputs": [],
      "source": [
        "my_group.agg('mean').plot(kind='bar', yerr=my_se, capsize=5)"
      ],
      "id": "a1b534eb-19ed-44ba-a283-5daa54f09e8e"
    },
    {
      "cell_type": "code",
      "execution_count": null,
      "metadata": {
        "id": "1d93aeff-5545-4e65-98ec-87ac838c4401"
      },
      "outputs": [],
      "source": [
        "from statsmodels.graphics.mosaicplot \\\n",
        "    import mosaic\n",
        "\n",
        "my_df = pd.DataFrame({\n",
        "    'Species': iris.Species,\n",
        "    'w_Sepal': iris['Sepal.Width'] > 3})\n",
        "\n",
        "my_table = pd.crosstab( # 分割表\n",
        "    my_df['Species'],\n",
        "    my_df['w_Sepal'])\n",
        "my_table\n",
        "\n",
        "mosaic(my_df,\n",
        "       index=['Species', 'w_Sepal'])"
      ],
      "id": "1d93aeff-5545-4e65-98ec-87ac838c4401"
    },
    {
      "cell_type": "code",
      "execution_count": null,
      "metadata": {
        "id": "fe5e890f-3446-478f-935a-abda925aa475"
      },
      "outputs": [],
      "source": [
        "my_table.columns = [str(x) for x in my_table.columns]\n",
        "my_table.index   = [str(x) for x in my_table.index]\n",
        "mosaic(my_df, index=['Species', 'w_Sepal'], labelizer=lambda k: my_table.loc[k])"
      ],
      "id": "fe5e890f-3446-478f-935a-abda925aa475"
    },
    {
      "cell_type": "code",
      "execution_count": null,
      "metadata": {
        "id": "1df4015e-8de7-4ca1-9ffc-a7a29a5a3a02"
      },
      "outputs": [],
      "source": [
        "import matplotlib.pyplot as plt\n",
        "import numpy as np\n",
        "\n",
        "x = np.linspace(-2, 2, 100)\n",
        "y = x**3 - x\n",
        "plt.plot(x, y)"
      ],
      "id": "1df4015e-8de7-4ca1-9ffc-a7a29a5a3a02"
    },
    {
      "id": "de05315e",
      "cell_type": "markdown",
      "source": [
        "## 4.3 乱数"
      ],
      "metadata": {
        "id": "de05315e"
      }
    },
    {
      "cell_type": "code",
      "execution_count": null,
      "metadata": {
        "id": "93c6fb9b-d2b1-486e-8f6e-aa88cd264cf5"
      },
      "outputs": [],
      "source": [
        "import matplotlib.pyplot as plt\n",
        "import numpy as np\n",
        "rng = np.random.default_rng()"
      ],
      "id": "93c6fb9b-d2b1-486e-8f6e-aa88cd264cf5"
    },
    {
      "cell_type": "code",
      "execution_count": null,
      "metadata": {
        "id": "5e783a03-50a5-4969-b14e-866f310343a9"
      },
      "outputs": [],
      "source": [
        "x = np.random.choice(\n",
        "    a=range(1, 7), # 1から6\n",
        "    size=10000,    # 乱数の数\n",
        "    replace=True)  # 重複あり\n",
        "# あるいは\n",
        "x = np.random.randint(\n",
        "# あるいは\n",
        "#x = rng.integers(\n",
        "    low=1,      # 最小\n",
        "    high=7,     # 最大+1\n",
        "    size=10000) # 乱数の数\n",
        "\n",
        "plt.hist(x, bins=6) # ヒストグラム"
      ],
      "id": "5e783a03-50a5-4969-b14e-866f310343a9"
    },
    {
      "cell_type": "code",
      "execution_count": null,
      "metadata": {
        "id": "099af12a-d83b-4d8a-9ced-bad40ba48ba0"
      },
      "outputs": [],
      "source": [
        "x = np.random.random(size=1000)\n",
        "# あるいは\n",
        "x = rng.random(size=10000)\n",
        "# あるいは\n",
        "x = np.random.uniform(\n",
        "    low=0,     # 最小\n",
        "    high=1,    # 最大\n",
        "    size=1000) # 乱数の数\n",
        "plt.hist(x)"
      ],
      "id": "099af12a-d83b-4d8a-9ced-bad40ba48ba0"
    },
    {
      "cell_type": "code",
      "execution_count": null,
      "metadata": {
        "id": "5c4c1d15-a1c4-49bd-bd0e-bdbfa2ea7c4e"
      },
      "outputs": [],
      "source": [
        "tmp = np.random.uniform(\n",
        "    low=1,     # 最小\n",
        "    high=7,    # 最大 + 1\n",
        "    size=1000) # 乱数の数\n",
        "x = [int(k) for k in tmp]\n",
        "plt.hist(x, bins=6) # 結果は割愛"
      ],
      "id": "5c4c1d15-a1c4-49bd-bd0e-bdbfa2ea7c4e"
    },
    {
      "cell_type": "code",
      "execution_count": null,
      "metadata": {
        "id": "18effaca-44d9-41d6-884a-83c6a8bc6b5f"
      },
      "outputs": [],
      "source": [
        "n = 100\n",
        "p = 0.5\n",
        "r = 10000\n",
        "x = np.random.binomial(\n",
        "# あるいは\n",
        "#x = rng.binomial(\n",
        "    n=n,    # 試行回数\n",
        "    p=p,    # 確率\n",
        "    size=r) # 乱数の数\n",
        "plt.hist(x, bins=max(x) - min(x))"
      ],
      "id": "18effaca-44d9-41d6-884a-83c6a8bc6b5f"
    },
    {
      "cell_type": "code",
      "execution_count": null,
      "metadata": {
        "id": "c9540d5f-0d6c-4ec1-9da4-55d4ac3a146c"
      },
      "outputs": [],
      "source": [
        "r = 10000\n",
        "x = np.random.normal(\n",
        "# あるいは\n",
        "#x = rng.normal(\n",
        "    loc=50,  # 平均\n",
        "    scale=5, # 標準偏差\n",
        "    size=r)  # 乱数の数\n",
        "plt.hist(x, bins=40)"
      ],
      "id": "c9540d5f-0d6c-4ec1-9da4-55d4ac3a146c"
    },
    {
      "cell_type": "code",
      "execution_count": null,
      "metadata": {
        "id": "3d316cce-f797-4167-94ae-97053bd044c7"
      },
      "outputs": [],
      "source": [
        "import numpy as np\n",
        "import pandas as pd\n",
        "\n",
        "def f(k):\n",
        "    n = 10000\n",
        "    tmp = [g(np.random.normal(size=k, scale=3)) for _ in range(n)]\n",
        "    return pd.Series([k,\n",
        "                      np.mean(tmp),                  # 平均\n",
        "                      np.std(tmp, ddof=1) / n**0.5], # 標準誤差\n",
        "                     index=['k', 'mean', 'se'])"
      ],
      "id": "3d316cce-f797-4167-94ae-97053bd044c7"
    },
    {
      "cell_type": "code",
      "execution_count": null,
      "metadata": {
        "id": "6dc1d6c0-3c2d-442b-b8ad-c24c5685e59a"
      },
      "outputs": [],
      "source": [
        "def g(x):\n",
        "    return np.var(x, ddof=1)\n",
        "pd.Series([10, 20, 30]).apply(f)"
      ],
      "id": "6dc1d6c0-3c2d-442b-b8ad-c24c5685e59a"
    },
    {
      "cell_type": "code",
      "execution_count": null,
      "metadata": {
        "id": "d8cb238a-9598-4e0f-8828-58395800b149"
      },
      "outputs": [],
      "source": [
        "def g(x):\n",
        "    return np.std(x, ddof=1)\n",
        "pd.Series([10, 20, 30]).apply(f)"
      ],
      "id": "d8cb238a-9598-4e0f-8828-58395800b149"
    },
    {
      "cell_type": "code",
      "execution_count": null,
      "metadata": {
        "id": "ad0b273e-2f00-4e1a-9392-a03826b533d3"
      },
      "outputs": [],
      "source": [
        "from math import gamma\n",
        "\n",
        "def g(x):\n",
        "    n = len(x)\n",
        "    return (np.std(x, ddof=1) *\n",
        "            (np.sqrt((n - 1) / 2) *\n",
        "             gamma((n - 1) / 2) /\n",
        "             gamma(n / 2)))\n",
        "pd.Series([10, 20, 30]).apply(f)"
      ],
      "id": "ad0b273e-2f00-4e1a-9392-a03826b533d3"
    },
    {
      "id": "fc9f343e",
      "cell_type": "markdown",
      "source": [
        "## 4.4 統計的推測"
      ],
      "metadata": {
        "id": "fc9f343e"
      }
    },
    {
      "cell_type": "code",
      "execution_count": null,
      "metadata": {
        "id": "5192ae3e-65b3-455a-bd94-157f7d291e66"
      },
      "outputs": [],
      "source": [
        "from statsmodels.stats.proportion import binom_test, proportion_confint\n",
        "\n",
        "binom_test(count=2,                 # 当たった回数\n",
        "           nobs=15,                 # くじを引いた回数\n",
        "           prop=4 / 10,             # 当たる確率（仮説）\n",
        "           alternative='two-sided') # 両側検定（デフォルト）\n",
        "                                    # 左片側検定なら'smaller'\n",
        "                                    # 右片側検定なら'larger'"
      ],
      "id": "5192ae3e-65b3-455a-bd94-157f7d291e66"
    },
    {
      "cell_type": "code",
      "execution_count": null,
      "metadata": {
        "id": "ee9e6b14-dc78-4d2b-89f9-d67efa6e1042"
      },
      "outputs": [],
      "source": [
        "import numpy as np\n",
        "import pandas as pd\n",
        "from scipy import stats\n",
        "\n",
        "t = 4 / 10                        # 当たる確率\n",
        "n = 15                            # くじを引いた回数\n",
        "x = np.array(range(0, n + 1))     # 当たった回数\n",
        "my_pr  = stats.binom.pmf(x, n, t) # x回当たる確率\n",
        "my_pr2 = stats.binom.pmf(2, n, t) # 2回当たる確率\n",
        "\n",
        "my_data = pd.DataFrame({'x': x, 'y1': my_pr, 'y2': my_pr})\n",
        "my_data.loc[my_pr >  my_pr2, 'y1'] = np.nan # 当たる確率が，2回当たる確率超過\n",
        "my_data.loc[my_pr <= my_pr2, 'y2'] = np.nan # 当たる確率が，2回当たる確率以下\n",
        "ax = my_data.plot(x='x', style='o', ylabel='probability',\n",
        "                  legend=False)         # 凡例を表示しない．\n",
        "ax.hlines(y=my_pr2, xmin=0, xmax=15)    # 水平線\n",
        "ax.vlines(x=x,      ymin=0, ymax=my_pr) # 垂直線"
      ],
      "id": "ee9e6b14-dc78-4d2b-89f9-d67efa6e1042"
    },
    {
      "cell_type": "code",
      "execution_count": null,
      "metadata": {
        "id": "240f0294-9591-4e30-be09-9a1e3af75390"
      },
      "outputs": [],
      "source": [
        "a = 0.05\n",
        "proportion_confint(\n",
        "    count=2, # 当たった回数\n",
        "    nobs=15, # くじを引いた回数\n",
        "    alpha=a, # 有意水準（省略可）\n",
        "    method='binom_test')"
      ],
      "id": "240f0294-9591-4e30-be09-9a1e3af75390"
    },
    {
      "cell_type": "code",
      "execution_count": null,
      "metadata": {
        "id": "aa44d068-3c6b-4f1e-b764-d5f425c9153f"
      },
      "outputs": [],
      "source": [
        "a = 0.05 # 有意水準\n",
        "tmp = np.linspace(0, 1, 100)\n",
        "\n",
        "my_df = pd.DataFrame({\n",
        "    't': tmp,                                                  # 当たる確率\n",
        "    'q': a,                                                    # 水平線\n",
        "    'p': [binom_test(count=2, nobs=15, prop=t) for t in tmp]}) # p値\n",
        "\n",
        "my_df.plot(x='t', legend=None, xlabel=r'$\\theta$', ylabel=r'p-value')"
      ],
      "id": "aa44d068-3c6b-4f1e-b764-d5f425c9153f"
    },
    {
      "cell_type": "code",
      "execution_count": null,
      "metadata": {
        "id": "590c116e-04ea-40ea-a93c-a95038c29659"
      },
      "outputs": [],
      "source": [
        "from statsmodels.stats.weightstats import CompareMeans, DescrStatsW\n",
        "\n",
        "X = [32.1, 26.2, 27.5, 31.8, 32.1, 31.2, 30.1, 32.4, 32.3, 29.9,\n",
        "     29.6, 26.6, 31.2, 30.9, 29.3]\n",
        "Y = [35.4, 34.6, 31.1, 32.4, 33.3, 34.7, 35.3, 34.3, 32.1, 28.3,\n",
        "     33.3, 30.5, 32.6, 33.3, 32.2]\n",
        "\n",
        "a = 0.05          # 有意水準（デフォルト） = 1 - 信頼係数\n",
        "alt = 'two-sided' # 両側検定（デフォルト）\n",
        "                  # 左片側検定なら'smaller'\n",
        "                  # 右片側検定なら'larger'\n",
        "\n",
        "d = DescrStatsW(np.array(X) - np.array(Y)) # 対標本の場合\n",
        "d.ttest_mean(alternative=alt)[1]           # p値\n",
        "\n",
        "d.tconfint_mean(alpha=a, alternative=alt) # 信頼区間"
      ],
      "id": "590c116e-04ea-40ea-a93c-a95038c29659"
    },
    {
      "cell_type": "code",
      "execution_count": null,
      "metadata": {
        "id": "57740b84-ceeb-4923-a38d-e078f7157f2e"
      },
      "outputs": [],
      "source": [
        "c = CompareMeans(DescrStatsW(X), DescrStatsW(Y)) # 対標本でない場合\n",
        "\n",
        "ve = 'pooled' # 等分散を仮定する（デフォルト）．仮定しないなら'unequal'．\n",
        "c.ttest_ind(alternative=alt, usevar=ve)[1] # p値\n",
        "\n",
        "c.tconfint_diff(alpha=a, alternative=alt, usevar=ve) # 信頼区間"
      ],
      "id": "57740b84-ceeb-4923-a38d-e078f7157f2e"
    },
    {
      "cell_type": "code",
      "execution_count": null,
      "metadata": {
        "id": "cfa905c2-63b2-424c-8c1a-dccecccb5746"
      },
      "outputs": [],
      "source": [
        "import pandas as pd\n",
        "my_url = ('https://raw.githubusercontent.com/taroyabuki'\n",
        "          '/fromzero/master/data/smoker.csv')\n",
        "my_data = pd.read_csv(my_url)"
      ],
      "id": "cfa905c2-63b2-424c-8c1a-dccecccb5746"
    },
    {
      "cell_type": "code",
      "execution_count": null,
      "metadata": {
        "id": "07df9fdb-f47e-4f83-9193-8a3027e4637e"
      },
      "outputs": [],
      "source": [
        "my_data.head()"
      ],
      "id": "07df9fdb-f47e-4f83-9193-8a3027e4637e"
    },
    {
      "cell_type": "code",
      "execution_count": null,
      "metadata": {
        "id": "7b325ff0-4cf6-4761-a522-3c827481fbb5"
      },
      "outputs": [],
      "source": [
        "my_table = pd.crosstab(\n",
        "    my_data['alive'],\n",
        "    my_data['smoker'])\n",
        "my_table"
      ],
      "id": "7b325ff0-4cf6-4761-a522-3c827481fbb5"
    },
    {
      "cell_type": "code",
      "execution_count": null,
      "metadata": {
        "id": "5dfaeaa4-b078-43ef-9ed3-f51615c1636d"
      },
      "outputs": [],
      "source": [
        "from scipy.stats import chi2_contingency\n",
        "chi2_contingency(my_table, correction=False)[1]"
      ],
      "id": "5dfaeaa4-b078-43ef-9ed3-f51615c1636d"
    },
    {
      "cell_type": "code",
      "execution_count": null,
      "metadata": {
        "id": "e374f15d-e74f-4067-82f7-31e0d2ba7b02"
      },
      "outputs": [],
      "source": [
        "X = [0] * 13 + [1] * 2 # 手順1\n",
        "X\n",
        "\n",
        "tmp = np.random.choice(X, 15, replace=True) # 手順2\n",
        "tmp\n",
        "\n",
        "sum(tmp) # 手順3\n",
        "\n",
        "n = 10**5\n",
        "result = [sum(np.random.choice(X, len(X), replace=True)) for _ in range(n)] # 手順4"
      ],
      "id": "e374f15d-e74f-4067-82f7-31e0d2ba7b02"
    },
    {
      "cell_type": "code",
      "execution_count": null,
      "metadata": {
        "id": "acc08592-f029-49ec-a489-240474f01458"
      },
      "outputs": [],
      "source": [
        "import matplotlib.pyplot as plt\n",
        "plt.hist(result, bins=range(0, 16))"
      ],
      "id": "acc08592-f029-49ec-a489-240474f01458"
    },
    {
      "cell_type": "code",
      "execution_count": null,
      "metadata": {
        "id": "5e58a7af-259e-4106-a7b8-dd6eb1968303"
      },
      "outputs": [],
      "source": [
        "np.quantile(result, [0.025, 0.975])"
      ],
      "id": "5e58a7af-259e-4106-a7b8-dd6eb1968303"
    },
    {
      "id": "8d8d085d",
      "cell_type": "markdown",
      "source": [
        "# 5 前処理\n",
        "\n",
        "\n"
      ],
      "metadata": {
        "id": "8d8d085d"
      }
    },
    {
      "id": "f75043be",
      "cell_type": "markdown",
      "source": [
        "## 5.1 データの読み込み"
      ],
      "metadata": {
        "id": "f75043be"
      }
    },
    {
      "cell_type": "code",
      "execution_count": null,
      "metadata": {
        "id": "828f39f1-a312-4e14-9db8-d44490662899"
      },
      "outputs": [],
      "source": [
        "!wget https://raw.githubusercontent.com/taroyabuki/fromzero/master/data/exam.csv"
      ],
      "id": "828f39f1-a312-4e14-9db8-d44490662899"
    },
    {
      "cell_type": "code",
      "execution_count": null,
      "metadata": {
        "id": "3e858242-d75d-4f9d-b186-2155bd62e882"
      },
      "outputs": [],
      "source": [
        "import pandas as pd\n",
        "my_df = pd.read_csv('exam.csv')\n",
        "my_df"
      ],
      "id": "3e858242-d75d-4f9d-b186-2155bd62e882"
    },
    {
      "cell_type": "code",
      "execution_count": null,
      "metadata": {
        "id": "cb54b046-a555-4708-9a1a-9894b5103876"
      },
      "outputs": [],
      "source": [
        "my_url = ('https://raw.githubusercontent.com/taroyabuki'\n",
        "          '/fromzero/master/data/exam.csv')\n",
        "my_df = pd.read_csv(my_url)"
      ],
      "id": "cb54b046-a555-4708-9a1a-9894b5103876"
    },
    {
      "cell_type": "code",
      "execution_count": null,
      "metadata": {
        "id": "84e180c0-ca26-4bd4-a2e7-4284f45959ab"
      },
      "outputs": [],
      "source": [
        "my_df2 = pd.read_csv('exam.csv',\n",
        "    index_col='name')\n",
        "my_df2"
      ],
      "id": "84e180c0-ca26-4bd4-a2e7-4284f45959ab"
    },
    {
      "cell_type": "code",
      "execution_count": null,
      "metadata": {
        "id": "1fa62ffe-ff02-48b4-a282-3f1401be7a0c"
      },
      "outputs": [],
      "source": [
        "my_df.to_csv('exam2.csv', index=False)"
      ],
      "id": "1fa62ffe-ff02-48b4-a282-3f1401be7a0c"
    },
    {
      "cell_type": "code",
      "execution_count": null,
      "metadata": {
        "id": "525eb294-5b1d-48a9-b0d1-ba2aaf0cba8c"
      },
      "outputs": [],
      "source": [
        "my_df2.to_csv('exam3.csv')"
      ],
      "id": "525eb294-5b1d-48a9-b0d1-ba2aaf0cba8c"
    },
    {
      "cell_type": "code",
      "execution_count": null,
      "metadata": {
        "id": "814e1ab9-25e3-4a31-9b61-89ea4b654dc3"
      },
      "outputs": [],
      "source": [
        "my_df = pd.read_csv('exam.csv',\n",
        "    encoding='UTF-8')"
      ],
      "id": "814e1ab9-25e3-4a31-9b61-89ea4b654dc3"
    },
    {
      "cell_type": "code",
      "execution_count": null,
      "metadata": {
        "id": "5dab8069-5d5a-4c83-b935-a67847ea428b"
      },
      "outputs": [],
      "source": [
        "my_df.to_csv('exam2.csv', index=False, encoding='UTF-8')"
      ],
      "id": "5dab8069-5d5a-4c83-b935-a67847ea428b"
    },
    {
      "cell_type": "code",
      "execution_count": null,
      "metadata": {
        "id": "3ee54a0a-6426-499f-a306-870170d80696"
      },
      "outputs": [],
      "source": [
        "my_url = 'https://taroyabuki.github.io/fromzero/exam.html'\n",
        "my_tables = pd.read_html(my_url)"
      ],
      "id": "3ee54a0a-6426-499f-a306-870170d80696"
    },
    {
      "cell_type": "code",
      "execution_count": null,
      "metadata": {
        "id": "9d91ff6b-1a56-466d-aa27-b3aa6b244f9a"
      },
      "outputs": [],
      "source": [
        "my_tables"
      ],
      "id": "9d91ff6b-1a56-466d-aa27-b3aa6b244f9a"
    },
    {
      "cell_type": "code",
      "execution_count": null,
      "metadata": {
        "id": "8b59abfb-8331-4de9-acd8-fcbb680e4df7"
      },
      "outputs": [],
      "source": [
        "my_tables[0]"
      ],
      "id": "8b59abfb-8331-4de9-acd8-fcbb680e4df7"
    },
    {
      "cell_type": "code",
      "execution_count": null,
      "metadata": {
        "id": "252fe361-5696-45f1-b60a-40ed47cec3c5"
      },
      "outputs": [],
      "source": [
        "# 1列目以降を取り出す．\n",
        "my_data = my_tables[0].iloc[:, 1:]\n",
        "my_data"
      ],
      "id": "252fe361-5696-45f1-b60a-40ed47cec3c5"
    },
    {
      "cell_type": "code",
      "execution_count": null,
      "metadata": {
        "id": "89ca1c47-5b7c-4cf1-9e89-9f8c18493d90"
      },
      "outputs": [],
      "source": [
        "my_url = ('https://raw.githubusercontent.com/taroyabuki'\n",
        "          '/fromzero/master/data/exam.json')\n",
        "my_data = pd.read_json(my_url)\n",
        "#my_data = pd.read_json('exam.json') # （ファイルを使う場合）\n",
        "my_data"
      ],
      "id": "89ca1c47-5b7c-4cf1-9e89-9f8c18493d90"
    },
    {
      "cell_type": "code",
      "execution_count": null,
      "metadata": {
        "id": "6be8fa20-e89b-4244-b916-3370e3a86aad"
      },
      "outputs": [],
      "source": [
        "import xml.etree.ElementTree as ET\n",
        "from urllib.request import urlopen\n",
        "\n",
        "my_url = ('https://raw.githubusercontent.com/taroyabuki'\n",
        "          '/fromzero/master/data/exam.xml')\n",
        "with urlopen(my_url) as f:\n",
        "    my_tree = ET.parse(f)       # XMLデータの読み込み\n",
        "\n",
        "#my_tree = ET.parse('exam.xml') # （ファイルを使う場合）\n",
        "my_ns = '{https://www.example.net/ns/1.0}' # 名前空間"
      ],
      "id": "6be8fa20-e89b-4244-b916-3370e3a86aad"
    },
    {
      "cell_type": "code",
      "execution_count": null,
      "metadata": {
        "id": "76f081c5-9557-4761-a9d4-aaeda4c4117a"
      },
      "outputs": [],
      "source": [
        "my_records = my_tree.findall(f'.//{my_ns}record')"
      ],
      "id": "76f081c5-9557-4761-a9d4-aaeda4c4117a"
    },
    {
      "cell_type": "code",
      "execution_count": null,
      "metadata": {
        "id": "2ae1c682-9083-4b10-b27f-5b402b05933f"
      },
      "outputs": [],
      "source": [
        "def f(record):\n",
        "    my_dic1 = record.attrib # 属性を取り出す．\n",
        "    # 子要素の名前と内容のペアを辞書にする．\n",
        "    my_dic2 = {child.tag.replace(my_ns, ''): child.text for child in list(record)}\n",
        "    return {**my_dic1, **my_dic2} # 辞書を結合する．"
      ],
      "id": "2ae1c682-9083-4b10-b27f-5b402b05933f"
    },
    {
      "cell_type": "code",
      "execution_count": null,
      "metadata": {
        "id": "51da9c0f-1edf-4e3a-9707-95311042a7cd"
      },
      "outputs": [],
      "source": [
        "my_data = pd.DataFrame([f(record) for record in my_records])\n",
        "my_data['english'] = pd.to_numeric(my_data['english'])\n",
        "my_data['math']    = pd.to_numeric(my_data['math'])\n",
        "my_data"
      ],
      "id": "51da9c0f-1edf-4e3a-9707-95311042a7cd"
    },
    {
      "id": "510a5741",
      "cell_type": "markdown",
      "source": [
        "## 5.2 データの変換"
      ],
      "metadata": {
        "id": "510a5741"
      }
    },
    {
      "cell_type": "code",
      "execution_count": null,
      "metadata": {
        "id": "95c34740-3e53-4309-aa65-dcb9e652218e"
      },
      "outputs": [],
      "source": [
        "import numpy as np\n",
        "from scipy.stats import zscore\n",
        "\n",
        "x1 = [1, 2, 3]\n",
        "\n",
        "z1 = ((x1 - np.mean(x1)) /\n",
        "      np.std(x1, ddof=1))\n",
        "# あるいは\n",
        "z1 = zscore(x1, ddof=1)\n",
        "\n",
        "z1"
      ],
      "id": "95c34740-3e53-4309-aa65-dcb9e652218e"
    },
    {
      "cell_type": "code",
      "execution_count": null,
      "metadata": {
        "id": "2750c35e-b521-4aa0-9242-6b35b25adde5"
      },
      "outputs": [],
      "source": [
        "z1.mean(), np.std(z1, ddof=1)"
      ],
      "id": "2750c35e-b521-4aa0-9242-6b35b25adde5"
    },
    {
      "cell_type": "code",
      "execution_count": null,
      "metadata": {
        "id": "25995b89-ee57-49e2-939f-2d3abcb4b002"
      },
      "outputs": [],
      "source": [
        "z1 * np.std(x1, ddof=1) + np.mean(x1)"
      ],
      "id": "25995b89-ee57-49e2-939f-2d3abcb4b002"
    },
    {
      "cell_type": "code",
      "execution_count": null,
      "metadata": {
        "id": "448cf085-fb81-4ebb-be46-d4a142f29b03"
      },
      "outputs": [],
      "source": [
        "x2 = [1, 3, 5]\n",
        "z2 = ((x2 - np.mean(x1)) /\n",
        "      np.std(x1, ddof=1))\n",
        "z2.mean(), np.std(z2, ddof=1)"
      ],
      "id": "448cf085-fb81-4ebb-be46-d4a142f29b03"
    },
    {
      "cell_type": "code",
      "execution_count": null,
      "metadata": {
        "id": "b86e7876-e42a-449d-be85-f48165f25d10"
      },
      "outputs": [],
      "source": [
        "import pandas as pd\n",
        "from sklearn.preprocessing import (\n",
        "    OneHotEncoder)\n",
        "\n",
        "my_df = pd.DataFrame({\n",
        "    'id':    [ 1 ,  2 ,  3 ],\n",
        "    'class': ['A', 'B', 'C']})\n",
        "\n",
        "my_enc = OneHotEncoder()\n",
        "tmp = my_enc.fit_transform(\n",
        "    my_df[['class']]).toarray()\n",
        "my_names = my_enc.get_feature_names() \\\n",
        "if hasattr(my_enc, 'get_feature_names') \\\n",
        "else my_enc.get_feature_names_out()\n",
        "pd.DataFrame(tmp, columns=my_names)"
      ],
      "id": "b86e7876-e42a-449d-be85-f48165f25d10"
    },
    {
      "cell_type": "code",
      "execution_count": null,
      "metadata": {
        "id": "a60c4fd3-c085-4145-8513-5bc93d78a6ff"
      },
      "outputs": [],
      "source": [
        "my_df2 = pd.DataFrame({\n",
        "    'id':    [ 4 ,  5,   6 ],\n",
        "    'class': ['B', 'C', 'B']})\n",
        "tmp = my_enc.transform(\n",
        "    my_df2[['class']]).toarray()\n",
        "pd.DataFrame(tmp, columns=my_names)"
      ],
      "id": "a60c4fd3-c085-4145-8513-5bc93d78a6ff"
    },
    {
      "cell_type": "code",
      "execution_count": null,
      "metadata": {
        "id": "b50cee53-650d-4f7f-8a1b-94d8b22318c5"
      },
      "outputs": [],
      "source": [
        "my_enc = OneHotEncoder(drop='first')\n",
        "\n",
        "tmp = my_enc.fit_transform(\n",
        "    my_df[['class']]).toarray()\n",
        "my_names = my_enc.get_feature_names() \\\n",
        "if hasattr(my_enc, 'get_feature_names') \\\n",
        "else my_enc.get_feature_names_out()\n",
        "pd.DataFrame(tmp, columns=my_names)\n",
        "\n",
        "tmp = my_enc.transform(\n",
        "    my_df2[['class']]).toarray()\n",
        "pd.DataFrame(tmp, columns=my_names)"
      ],
      "id": "b50cee53-650d-4f7f-8a1b-94d8b22318c5"
    },
    {
      "id": "1b52cdfc",
      "cell_type": "markdown",
      "source": [
        "# 6 機械学習の目的・データ・手法\n",
        "\n",
        "\n"
      ],
      "metadata": {
        "id": "1b52cdfc"
      }
    },
    {
      "id": "cf11f421",
      "cell_type": "markdown",
      "source": [
        "## 6.1 機械学習の目的（本書の場合）\n",
        "\n",
        "\n"
      ],
      "metadata": {
        "id": "cf11f421"
      }
    },
    {
      "id": "8a5834e9",
      "cell_type": "markdown",
      "source": [
        "## 6.2 機械学習のためのデータ"
      ],
      "metadata": {
        "id": "8a5834e9"
      }
    },
    {
      "cell_type": "code",
      "execution_count": null,
      "metadata": {
        "id": "01227832-437c-4a38-ba3b-43f9cb0e3eda"
      },
      "outputs": [],
      "source": [
        "import statsmodels.api as sm\n",
        "iris = sm.datasets.get_rdataset('iris', 'datasets').data\n",
        "iris.head()\n",
        "# 以下省略"
      ],
      "id": "01227832-437c-4a38-ba3b-43f9cb0e3eda"
    },
    {
      "cell_type": "code",
      "execution_count": null,
      "metadata": {
        "id": "41102ff8-a649-4140-bb77-16182f437e03"
      },
      "outputs": [],
      "source": [
        "import seaborn as sns\n",
        "iris = sns.load_dataset('iris')\n",
        "iris.head()\n",
        "# 以下省略"
      ],
      "id": "41102ff8-a649-4140-bb77-16182f437e03"
    },
    {
      "cell_type": "code",
      "execution_count": null,
      "metadata": {
        "id": "27f3b461-3c04-4803-b5a9-068b7de4e1a9"
      },
      "outputs": [],
      "source": [
        "import pandas as pd\n",
        "from sklearn.datasets import load_iris\n",
        "tmp = load_iris()\n",
        "iris = pd.DataFrame(tmp.data, columns=tmp.feature_names)\n",
        "iris['target'] = tmp.target_names[tmp.target]\n",
        "iris.head()\n",
        "# 以下省略"
      ],
      "id": "27f3b461-3c04-4803-b5a9-068b7de4e1a9"
    },
    {
      "id": "657b0b9c",
      "cell_type": "markdown",
      "source": [
        "## 6.3 機械学習のための手法\n",
        "\n",
        "\n"
      ],
      "metadata": {
        "id": "657b0b9c"
      }
    },
    {
      "id": "76e34db3",
      "cell_type": "markdown",
      "source": [
        "# 7 回帰1（単回帰）\n",
        "\n",
        "\n"
      ],
      "metadata": {
        "id": "76e34db3"
      }
    },
    {
      "id": "43993810",
      "cell_type": "markdown",
      "source": [
        "## 7.1 自動車の停止距離\n",
        "\n",
        "\n"
      ],
      "metadata": {
        "id": "43993810"
      }
    },
    {
      "id": "64ada983",
      "cell_type": "markdown",
      "source": [
        "## 7.2 データの確認"
      ],
      "metadata": {
        "id": "64ada983"
      }
    },
    {
      "cell_type": "code",
      "execution_count": null,
      "metadata": {
        "id": "8fc3d32c-a1ec-4a22-bd20-95918bf516a3"
      },
      "outputs": [],
      "source": [
        "import statsmodels.api as sm\n",
        "my_data = sm.datasets.get_rdataset('cars', 'datasets').data"
      ],
      "id": "8fc3d32c-a1ec-4a22-bd20-95918bf516a3"
    },
    {
      "cell_type": "code",
      "execution_count": null,
      "metadata": {
        "id": "b2fab5ad-2265-4541-985f-06201015f519"
      },
      "outputs": [],
      "source": [
        "my_data.shape"
      ],
      "id": "b2fab5ad-2265-4541-985f-06201015f519"
    },
    {
      "cell_type": "code",
      "execution_count": null,
      "metadata": {
        "id": "f0cff58b-2751-446e-89e2-6a41b5908089"
      },
      "outputs": [],
      "source": [
        "my_data.head()"
      ],
      "id": "f0cff58b-2751-446e-89e2-6a41b5908089"
    },
    {
      "cell_type": "code",
      "execution_count": null,
      "metadata": {
        "id": "31f4885e-e195-4e14-9ae2-3aa35f762303"
      },
      "outputs": [],
      "source": [
        "my_data.describe()"
      ],
      "id": "31f4885e-e195-4e14-9ae2-3aa35f762303"
    },
    {
      "cell_type": "code",
      "execution_count": null,
      "metadata": {
        "id": "cc6ecac7-d487-45a3-a4c3-4e4b934aa8ee"
      },
      "outputs": [],
      "source": [
        "my_data.plot(x='speed', style='o')"
      ],
      "id": "cc6ecac7-d487-45a3-a4c3-4e4b934aa8ee"
    },
    {
      "id": "d305019e",
      "cell_type": "markdown",
      "source": [
        "## 7.3 回帰分析"
      ],
      "metadata": {
        "id": "d305019e"
      }
    },
    {
      "cell_type": "code",
      "execution_count": null,
      "metadata": {
        "id": "82f419a4-8d0b-4daa-8594-eee764f2c93c"
      },
      "outputs": [],
      "source": [
        "import seaborn as sns\n",
        "import statsmodels.api as sm\n",
        "\n",
        "my_data = sm.datasets.get_rdataset('cars', 'datasets').data\n",
        "ax = sns.regplot(x='speed', y='dist', data=my_data)\n",
        "ax.vlines(x=21.5, ymin=-5, ymax=67,   linestyles='dotted')\n",
        "ax.hlines(y=67,   xmin=4,  xmax=21.5, linestyles='dotted')\n",
        "ax.set_xlim(4, 25)\n",
        "ax.set_ylim(-5, 125)"
      ],
      "id": "82f419a4-8d0b-4daa-8594-eee764f2c93c"
    },
    {
      "cell_type": "code",
      "execution_count": null,
      "metadata": {
        "id": "85279ca0-de6e-4083-bbb1-88821c94d543"
      },
      "outputs": [],
      "source": [
        "import statsmodels.api as sm\n",
        "my_data = sm.datasets.get_rdataset('cars', 'datasets').data\n",
        "X, y = my_data[['speed']], my_data['dist']"
      ],
      "id": "85279ca0-de6e-4083-bbb1-88821c94d543"
    },
    {
      "cell_type": "code",
      "execution_count": null,
      "metadata": {
        "id": "e1863111-de15-4c8e-8ed1-c57f8e242e05"
      },
      "outputs": [],
      "source": [
        "# モデルの指定\n",
        "from sklearn.linear_model import LinearRegression\n",
        "my_model = LinearRegression()\n",
        "\n",
        "# 訓練（モデルをデータにフィットさせる．）\n",
        "my_model.fit(X, y)\n",
        "\n",
        "# まとめて実行してもよい．\n",
        "# my_model = LinearRegression().fit(X, y)"
      ],
      "id": "e1863111-de15-4c8e-8ed1-c57f8e242e05"
    },
    {
      "cell_type": "code",
      "execution_count": null,
      "metadata": {
        "id": "0d9ebbd5-ca2c-4f36-8391-b1770fb19ea6"
      },
      "outputs": [],
      "source": [
        "my_model.intercept_, my_model.coef_"
      ],
      "id": "0d9ebbd5-ca2c-4f36-8391-b1770fb19ea6"
    },
    {
      "cell_type": "code",
      "execution_count": null,
      "metadata": {
        "id": "7a59d7fd-4b29-4464-9a00-31c25f599897"
      },
      "outputs": [],
      "source": [
        "tmp = [[21.5]]\n",
        "my_model.predict(tmp)"
      ],
      "id": "7a59d7fd-4b29-4464-9a00-31c25f599897"
    },
    {
      "cell_type": "code",
      "execution_count": null,
      "metadata": {
        "id": "68e4cd3f-de05-40a0-ac87-f6c9d02a2be1"
      },
      "outputs": [],
      "source": [
        "import numpy as np\n",
        "import pandas as pd\n",
        "\n",
        "tmp = pd.DataFrame({'speed': np.linspace(min(my_data.speed),\n",
        "                                         max(my_data.speed),\n",
        "                                         100)})\n",
        "tmp['model'] = my_model.predict(tmp)"
      ],
      "id": "68e4cd3f-de05-40a0-ac87-f6c9d02a2be1"
    },
    {
      "cell_type": "code",
      "execution_count": null,
      "metadata": {
        "id": "d290fabe-2cf1-4bbb-bb22-268d81920727"
      },
      "outputs": [],
      "source": [
        "pd.concat([my_data, tmp]).plot(\n",
        "    x='speed', style=['o', '-'])"
      ],
      "id": "d290fabe-2cf1-4bbb-bb22-268d81920727"
    },
    {
      "id": "ded33f1e",
      "cell_type": "markdown",
      "source": [
        "## 7.4 当てはまりの良さの指標"
      ],
      "metadata": {
        "id": "ded33f1e"
      }
    },
    {
      "cell_type": "code",
      "execution_count": null,
      "metadata": {
        "id": "877f6c4d-a28e-4b7f-83a4-8b184523d9c3"
      },
      "outputs": [],
      "source": [
        "import pandas as pd\n",
        "import statsmodels.api as sm\n",
        "from sklearn.linear_model import LinearRegression\n",
        "from sklearn.metrics import mean_squared_error, r2_score\n",
        "\n",
        "my_data = sm.datasets.get_rdataset('cars', 'datasets').data\n",
        "X, y = my_data[['speed']], my_data['dist']\n",
        "\n",
        "my_model = LinearRegression()\n",
        "my_model.fit(X, y)\n",
        "y_ = my_model.predict(X)\n",
        "my_data['y_'] = y_"
      ],
      "id": "877f6c4d-a28e-4b7f-83a4-8b184523d9c3"
    },
    {
      "cell_type": "code",
      "execution_count": null,
      "metadata": {
        "id": "1dbeef1a-e951-4b93-a215-064d5803130b"
      },
      "outputs": [],
      "source": [
        "pd.options.display.float_format = (\n",
        "    '{:.2f}'.format)\n",
        "my_data['residual'] = y - y_\n",
        "my_data.head()"
      ],
      "id": "1dbeef1a-e951-4b93-a215-064d5803130b"
    },
    {
      "cell_type": "code",
      "execution_count": null,
      "metadata": {
        "id": "1259fe9c-05ae-48d9-9833-b7602954d100"
      },
      "outputs": [],
      "source": [
        "ax = my_data.plot(x='speed', y='dist', style='o', legend=False)\n",
        "my_data.plot(x='speed', y='y_', style='-', legend=False, ax=ax)\n",
        "ax.vlines(x=X, ymin=y, ymax=y_, linestyles='dotted')"
      ],
      "id": "1259fe9c-05ae-48d9-9833-b7602954d100"
    },
    {
      "cell_type": "code",
      "execution_count": null,
      "metadata": {
        "id": "8441e56f-f0d7-46cd-bf41-5dfe7870d5a0"
      },
      "outputs": [],
      "source": [
        "mean_squared_error(y, y_)**0.5\n",
        "# あるいは\n",
        "(my_data['residual']**2).mean()**0.5\n"
      ],
      "id": "8441e56f-f0d7-46cd-bf41-5dfe7870d5a0"
    },
    {
      "cell_type": "code",
      "execution_count": null,
      "metadata": {
        "id": "df75247f-134b-404b-8863-5eed53e4492f"
      },
      "outputs": [],
      "source": [
        "my_model.score(X, y)\n",
        "# あるいは\n",
        "r2_score(y_true=y, y_pred=y_)"
      ],
      "id": "df75247f-134b-404b-8863-5eed53e4492f"
    },
    {
      "cell_type": "code",
      "execution_count": null,
      "metadata": {
        "id": "be88b21d-0922-4cde-a645-3531cff50efb"
      },
      "outputs": [],
      "source": [
        "import numpy as np\n",
        "np.corrcoef(y, y_)[0, 1]**2"
      ],
      "id": "be88b21d-0922-4cde-a645-3531cff50efb"
    },
    {
      "cell_type": "code",
      "execution_count": null,
      "metadata": {
        "id": "317b3232-d718-4b60-ae44-2f42295925a4"
      },
      "outputs": [],
      "source": [
        "my_test = my_data[:3]\n",
        "X = my_test[['speed']]\n",
        "y = my_test['dist']\n",
        "y_ = my_model.predict(X)\n",
        "\n",
        "my_model.score(X, y)\n",
        "# あるいは\n",
        "r2_score(y_true=y, y_pred=y_)\n",
        "\n",
        "np.corrcoef(y, y_)[0, 1]**2"
      ],
      "id": "317b3232-d718-4b60-ae44-2f42295925a4"
    },
    {
      "cell_type": "code",
      "execution_count": null,
      "metadata": {
        "id": "25a9d19a-8cbd-434e-9526-44dee51378fd"
      },
      "outputs": [],
      "source": [
        "import numpy as np\n",
        "import pandas as pd\n",
        "import statsmodels.api as sm\n",
        "from sklearn.linear_model import LinearRegression\n",
        "from sklearn.preprocessing import PolynomialFeatures\n",
        "\n",
        "my_data = sm.datasets.get_rdataset('cars', 'datasets').data\n",
        "\n",
        "my_idx = [1, 10, 26, 33, 38, 43]\n",
        "my_sample = my_data.iloc[my_idx, ]\n",
        "X, y = my_sample[['speed']], my_sample['dist']"
      ],
      "id": "25a9d19a-8cbd-434e-9526-44dee51378fd"
    },
    {
      "cell_type": "code",
      "execution_count": null,
      "metadata": {
        "id": "b2360172-ff0d-4c58-ae78-ff47ade9c8bf"
      },
      "outputs": [],
      "source": [
        "d = 5\n",
        "X5 = PolynomialFeatures(d, include_bias=False).fit_transform(X) # Xの1乗から5乗の変数\n",
        "\n",
        "my_model = LinearRegression()\n",
        "my_model.fit(X5, y)\n",
        "y_ = my_model.predict(X5)"
      ],
      "id": "b2360172-ff0d-4c58-ae78-ff47ade9c8bf"
    },
    {
      "cell_type": "code",
      "execution_count": null,
      "metadata": {
        "id": "1d6b0a7a-7530-432c-b8f7-002a30915b90"
      },
      "outputs": [],
      "source": [
        "((y - y_)**2).mean()**0.5\n",
        "\n",
        "my_model.score(X5, y)\n",
        "\n",
        "np.corrcoef(y, y_)[0, 1]**2"
      ],
      "id": "1d6b0a7a-7530-432c-b8f7-002a30915b90"
    },
    {
      "cell_type": "code",
      "execution_count": null,
      "metadata": {
        "id": "bad39311-27ab-4be1-bc39-c6447e782fbb"
      },
      "outputs": [],
      "source": [
        "tmp = pd.DataFrame({'speed': np.linspace(min(my_data.speed),\n",
        "                                         max(my_data.speed),\n",
        "                                         100)})\n",
        "X5 = PolynomialFeatures(d, include_bias=False).fit_transform(tmp)\n",
        "tmp['model'] = my_model.predict(X5)\n",
        "\n",
        "my_sample = my_sample.assign(sample=y)\n",
        "my_df = pd.concat([my_data, my_sample, tmp])\n",
        "my_df.plot(x='speed', style=['o', 'o', '-'], ylim=(0, 130))"
      ],
      "id": "bad39311-27ab-4be1-bc39-c6447e782fbb"
    },
    {
      "id": "d5bcfa20",
      "cell_type": "markdown",
      "source": [
        "## 7.5 K最近傍法"
      ],
      "metadata": {
        "id": "d5bcfa20"
      }
    },
    {
      "cell_type": "code",
      "execution_count": null,
      "metadata": {
        "id": "ff663456-bc3c-4ca9-b43d-87b84406ea19"
      },
      "outputs": [],
      "source": [
        "# 準備\n",
        "import numpy as np\n",
        "import pandas as pd\n",
        "import statsmodels.api as sm\n",
        "from sklearn.neighbors import KNeighborsRegressor\n",
        "\n",
        "my_data = sm.datasets.get_rdataset('cars', 'datasets').data\n",
        "X, y = my_data[['speed']], my_data['dist']\n",
        "\n",
        "# 訓練\n",
        "my_model = KNeighborsRegressor()\n",
        "my_model.fit(X, y)\n",
        "\n",
        "# 可視化の準備\n",
        "tmp = pd.DataFrame({'speed': np.linspace(min(my_data.speed),\n",
        "                                         max(my_data.speed),\n",
        "                                         100)})\n",
        "tmp['model'] = my_model.predict(tmp)"
      ],
      "id": "ff663456-bc3c-4ca9-b43d-87b84406ea19"
    },
    {
      "cell_type": "code",
      "execution_count": null,
      "metadata": {
        "id": "4a03c9e1-0285-4946-9b91-add78fc699d3"
      },
      "outputs": [],
      "source": [
        "pd.concat([my_data, tmp]).plot(\n",
        "    x='speed', style=['o', '-'])"
      ],
      "id": "4a03c9e1-0285-4946-9b91-add78fc699d3"
    },
    {
      "cell_type": "code",
      "execution_count": null,
      "metadata": {
        "id": "677371fa-4f71-48ad-9aa7-3b9152ba8409"
      },
      "outputs": [],
      "source": [
        "y_ = my_model.predict(X)\n",
        "\n",
        "((y - y_)**2).mean()**0.5\n",
        "\n",
        "my_model.score(X, y)\n",
        "\n",
        "np.corrcoef(y, y_)[0, 1]**2"
      ],
      "id": "677371fa-4f71-48ad-9aa7-3b9152ba8409"
    },
    {
      "id": "4d01cec4",
      "cell_type": "markdown",
      "source": [
        "## 7.6 検証"
      ],
      "metadata": {
        "id": "4d01cec4"
      }
    },
    {
      "cell_type": "code",
      "execution_count": null,
      "metadata": {
        "id": "c4efd068-ef82-41a2-9e3a-8a44e63238ca"
      },
      "outputs": [],
      "source": [
        "import statsmodels.api as sm\n",
        "from sklearn.linear_model import LinearRegression\n",
        "from sklearn.model_selection import cross_val_score\n",
        "\n",
        "# データの準備\n",
        "my_data = sm.datasets.get_rdataset('cars', 'datasets').data\n",
        "X, y = my_data[['speed']], my_data['dist']\n",
        "\n",
        "# モデルの指定\n",
        "my_model = LinearRegression()\n",
        "\n",
        "# 検証（5分割交差検証）\n",
        "my_scores = cross_val_score(my_model, X, y)\n",
        "\n",
        "# 5個の決定係数1を得る．\n",
        "my_scores\n",
        "\n",
        "# 平均を決定係数1（検証）とする．\n",
        "my_scores.mean()"
      ],
      "id": "c4efd068-ef82-41a2-9e3a-8a44e63238ca"
    },
    {
      "cell_type": "code",
      "execution_count": null,
      "metadata": {
        "id": "66a05e7e-3bb0-46d6-a38a-04bd00966a49"
      },
      "outputs": [],
      "source": [
        "my_scores = cross_val_score(my_model, X, y,\n",
        "                            scoring='neg_root_mean_squared_error')\n",
        "-my_scores.mean()"
      ],
      "id": "66a05e7e-3bb0-46d6-a38a-04bd00966a49"
    },
    {
      "cell_type": "code",
      "execution_count": null,
      "metadata": {
        "id": "6160561c-50d2-4dc5-affa-ffe0fec01c54"
      },
      "outputs": [],
      "source": [
        "import numpy as np\n",
        "import statsmodels.api as sm\n",
        "from sklearn.linear_model import LinearRegression\n",
        "from sklearn.metrics import mean_squared_error, r2_score\n",
        "from sklearn.model_selection import cross_val_score, LeaveOneOut\n",
        "\n",
        "my_data = sm.datasets.get_rdataset('cars', 'datasets').data\n",
        "X, y = my_data[['speed']], my_data['dist']\n",
        "my_model = LinearRegression().fit(X, y)\n",
        "y_ = my_model.predict(X)"
      ],
      "id": "6160561c-50d2-4dc5-affa-ffe0fec01c54"
    },
    {
      "cell_type": "code",
      "execution_count": null,
      "metadata": {
        "id": "d0d6aa3b-a211-488d-960e-75609936f89f"
      },
      "outputs": [],
      "source": [
        "# RMSE（訓練）\n",
        "mean_squared_error(y, y_)**0.5\n",
        "\n",
        "# 決定係数1（訓練）\n",
        "my_model.score(X, y)\n",
        "# あるいは\n",
        "r2_score(y_true=y, y_pred=y_)\n",
        "\n",
        "# 決定係数6（訓練）\n",
        "np.corrcoef(y, y_)[0, 1]**2"
      ],
      "id": "d0d6aa3b-a211-488d-960e-75609936f89f"
    },
    {
      "cell_type": "code",
      "execution_count": null,
      "metadata": {
        "id": "c9faec71-4134-4cc0-8e6b-b9db403b6b86"
      },
      "outputs": [],
      "source": [
        "my_scores = cross_val_score(my_model, X, y,\n",
        "                            scoring='neg_root_mean_squared_error')\n",
        "-my_scores.mean()\n",
        "\n",
        "my_scores = cross_val_score(my_model, X, y, scoring='r2') # scoring='r2'は省略可\n",
        "my_scores.mean()"
      ],
      "id": "c9faec71-4134-4cc0-8e6b-b9db403b6b86"
    },
    {
      "cell_type": "code",
      "execution_count": null,
      "metadata": {
        "id": "c65d1ae1-c249-43d5-a0fc-fc562e74c709"
      },
      "outputs": [],
      "source": [
        "# 方法1\n",
        "my_scores1 = cross_val_score(my_model, X, y, cv=LeaveOneOut(),\n",
        "                             scoring='neg_mean_squared_error')\n",
        "(-my_scores1.mean())**0.5\n",
        "\n",
        "# 方法2\n",
        "my_scores2 = cross_val_score(my_model, X, y, cv=LeaveOneOut(),\n",
        "                             scoring='neg_root_mean_squared_error')\n",
        "(my_scores2**2).mean()**0.5"
      ],
      "id": "c65d1ae1-c249-43d5-a0fc-fc562e74c709"
    },
    {
      "cell_type": "code",
      "execution_count": null,
      "metadata": {
        "id": "0cc63232-1797-4265-a583-a8fcb6b6f7d2"
      },
      "outputs": [],
      "source": [
        "-my_scores2.mean()"
      ],
      "id": "0cc63232-1797-4265-a583-a8fcb6b6f7d2"
    },
    {
      "cell_type": "code",
      "execution_count": null,
      "metadata": {
        "id": "805413e5-5b57-4c51-8c2a-d544c2b365d8"
      },
      "outputs": [],
      "source": [
        "import pandas as pd\n",
        "import statsmodels.api as sm\n",
        "from sklearn.linear_model import LinearRegression\n",
        "from sklearn.metrics import mean_squared_error\n",
        "from sklearn.model_selection import cross_val_score, LeaveOneOut\n",
        "from sklearn.neighbors import KNeighborsRegressor\n",
        "\n",
        "my_data = sm.datasets.get_rdataset('cars', 'datasets').data\n",
        "X, y = my_data[['speed']], my_data['dist']\n",
        "\n",
        "my_lm_scores = cross_val_score(\n",
        "    LinearRegression(),\n",
        "    X, y, cv=LeaveOneOut(), scoring='neg_mean_squared_error')\n",
        "\n",
        "my_knn_socres = cross_val_score(\n",
        "    KNeighborsRegressor(n_neighbors=5),\n",
        "    X, y, cv=LeaveOneOut(), scoring='neg_mean_squared_error')"
      ],
      "id": "805413e5-5b57-4c51-8c2a-d544c2b365d8"
    },
    {
      "cell_type": "code",
      "execution_count": null,
      "metadata": {
        "id": "93b5e5de-5d23-4f50-890c-a6bc4cdbf6c2"
      },
      "outputs": [],
      "source": [
        "(-my_lm_scores.mean())**0.5\n",
        "\n",
        "(-my_knn_socres.mean())**0.5"
      ],
      "id": "93b5e5de-5d23-4f50-890c-a6bc4cdbf6c2"
    },
    {
      "cell_type": "code",
      "execution_count": null,
      "metadata": {
        "id": "6c91199d-9954-4899-ab18-e99c6559c3c8"
      },
      "outputs": [],
      "source": [
        "my_df = pd.DataFrame({\n",
        "    'lm': -my_lm_scores,\n",
        "    'knn': -my_knn_socres})\n",
        "my_df.head()"
      ],
      "id": "6c91199d-9954-4899-ab18-e99c6559c3c8"
    },
    {
      "cell_type": "code",
      "execution_count": null,
      "metadata": {
        "id": "c7c42cc4-a8ab-4ea5-aa52-c780c6229159"
      },
      "outputs": [],
      "source": [
        "my_df.boxplot().set_ylabel(\"$r^2$\")"
      ],
      "id": "c7c42cc4-a8ab-4ea5-aa52-c780c6229159"
    },
    {
      "cell_type": "code",
      "execution_count": null,
      "metadata": {
        "id": "22bc562d-276d-424a-9d4d-849527dbaa04"
      },
      "outputs": [],
      "source": [
        "from statsmodels.stats.weightstats import DescrStatsW\n",
        "d = DescrStatsW(my_df.lm - my_df.knn)\n",
        "d.ttest_mean()[1] # p値\n",
        "\n",
        "d.tconfint_mean(alpha=0.05, alternative='two-sided') # 信頼区間"
      ],
      "id": "22bc562d-276d-424a-9d4d-849527dbaa04"
    },
    {
      "id": "43deb434",
      "cell_type": "markdown",
      "source": [
        "## 7.7 パラメータチューニング"
      ],
      "metadata": {
        "id": "43deb434"
      }
    },
    {
      "cell_type": "code",
      "execution_count": null,
      "metadata": {
        "id": "ba83a59c-cd13-4f59-8bd3-7532386468b0"
      },
      "outputs": [],
      "source": [
        "import pandas as pd\n",
        "import statsmodels.api as sm\n",
        "from sklearn.metrics import mean_squared_error\n",
        "from sklearn.model_selection import GridSearchCV, LeaveOneOut\n",
        "from sklearn.neighbors import KNeighborsRegressor\n",
        "\n",
        "my_data = sm.datasets.get_rdataset('cars', 'datasets').data\n",
        "X, y = my_data[['speed']], my_data['dist']\n",
        "\n",
        "my_params = {'n_neighbors': range(1, 16)} # 探索範囲（1以上16未満の整数）\n",
        "\n",
        "my_search = GridSearchCV(estimator=KNeighborsRegressor(),\n",
        "                         param_grid=my_params,\n",
        "                         cv=LeaveOneOut(),\n",
        "                         scoring='neg_mean_squared_error')\n",
        "my_search.fit(X, y)"
      ],
      "id": "ba83a59c-cd13-4f59-8bd3-7532386468b0"
    },
    {
      "cell_type": "code",
      "execution_count": null,
      "metadata": {
        "id": "62691c96-4e58-41e9-8cb5-b7c0a5f6965c"
      },
      "outputs": [],
      "source": [
        "tmp = my_search.cv_results_                # チューニングの詳細\n",
        "my_scores = (-tmp['mean_test_score'])**0.5 # RMSE\n",
        "my_results = pd.DataFrame(tmp['params']).assign(validation=my_scores)"
      ],
      "id": "62691c96-4e58-41e9-8cb5-b7c0a5f6965c"
    },
    {
      "cell_type": "code",
      "execution_count": null,
      "metadata": {
        "id": "115a6a18-534d-40ed-a889-b1420740146b"
      },
      "outputs": [],
      "source": [
        "my_results.head()"
      ],
      "id": "115a6a18-534d-40ed-a889-b1420740146b"
    },
    {
      "cell_type": "code",
      "execution_count": null,
      "metadata": {
        "id": "f7c8550a-47cb-41ce-b21c-1870a384850c"
      },
      "outputs": [],
      "source": [
        "my_results.plot(x='n_neighbors',\n",
        "                style='o-',\n",
        "                ylabel='RMSE')"
      ],
      "id": "f7c8550a-47cb-41ce-b21c-1870a384850c"
    },
    {
      "cell_type": "code",
      "execution_count": null,
      "metadata": {
        "id": "d4563692-0ca3-4d94-85bd-a7c75a925008"
      },
      "outputs": [],
      "source": [
        "my_search.best_params_"
      ],
      "id": "d4563692-0ca3-4d94-85bd-a7c75a925008"
    },
    {
      "cell_type": "code",
      "execution_count": null,
      "metadata": {
        "id": "9d243e7c-04d4-4ca4-8aa3-0a70719f803a"
      },
      "outputs": [],
      "source": [
        "(-my_search.best_score_)**0.5"
      ],
      "id": "9d243e7c-04d4-4ca4-8aa3-0a70719f803a"
    },
    {
      "cell_type": "code",
      "execution_count": null,
      "metadata": {
        "id": "43a82630-ebf4-437c-bf79-8ee3e5cbfc23"
      },
      "outputs": [],
      "source": [
        "my_model = my_search.best_estimator_\n",
        "y_ = my_model.predict(X)\n",
        "mean_squared_error(y_, y)**0.5"
      ],
      "id": "43a82630-ebf4-437c-bf79-8ee3e5cbfc23"
    },
    {
      "cell_type": "code",
      "execution_count": null,
      "metadata": {
        "id": "2ecb81d5-5fb5-424a-bc2a-301e504cf147"
      },
      "outputs": [],
      "source": [
        "import pandas as pd\n",
        "import statsmodels.api as sm\n",
        "from sklearn.metrics import mean_squared_error\n",
        "from sklearn.model_selection import cross_val_score, LeaveOneOut\n",
        "from sklearn.neighbors import KNeighborsRegressor\n",
        "\n",
        "my_data = sm.datasets.get_rdataset('cars', 'datasets').data\n",
        "X, y = my_data[['speed']], my_data['dist']\n",
        "\n",
        "def my_loocv(k):\n",
        "    my_model = KNeighborsRegressor(n_neighbors=k)\n",
        "    my_scores = cross_val_score(estimator=my_model, X=X, y=y,\n",
        "                                cv=LeaveOneOut(),\n",
        "                                scoring='neg_mean_squared_error')\n",
        "    y_ = my_model.fit(X, y).predict(X)\n",
        "    return pd.Series([k,\n",
        "                      (-my_scores.mean())**0.5,        # RMSE（検証）\n",
        "                      mean_squared_error(y_, y)**0.5], # RMSE（訓練）\n",
        "                     index=['n_neighbors', 'validation', 'training'])\n",
        "\n",
        "my_results = pd.Series(range(1, 16)).apply(my_loocv)"
      ],
      "id": "2ecb81d5-5fb5-424a-bc2a-301e504cf147"
    },
    {
      "cell_type": "code",
      "execution_count": null,
      "metadata": {
        "id": "02f7b4bf-0556-4aea-88cf-883310845281"
      },
      "outputs": [],
      "source": [
        "my_results.plot(x='n_neighbors',\n",
        "                style='o-',\n",
        "                ylabel='RMSE')"
      ],
      "id": "02f7b4bf-0556-4aea-88cf-883310845281"
    },
    {
      "id": "90983511",
      "cell_type": "markdown",
      "source": [
        "# 8 回帰2（重回帰）\n",
        "\n",
        "\n"
      ],
      "metadata": {
        "id": "90983511"
      }
    },
    {
      "id": "871c52bc",
      "cell_type": "markdown",
      "source": [
        "## 8.1 ブドウの生育条件とワインの価格"
      ],
      "metadata": {
        "id": "871c52bc"
      }
    },
    {
      "cell_type": "code",
      "execution_count": null,
      "metadata": {
        "id": "6e20e979-2273-4884-a38a-0033eeb2ca4f"
      },
      "outputs": [],
      "source": [
        "import pandas as pd\n",
        "my_url = 'http://www.liquidasset.com/winedata.html'\n",
        "tmp = pd.read_table(my_url, skiprows=62, nrows=38, sep='\\\\s+', na_values='.')\n",
        "tmp.describe()\n",
        "# 以下省略"
      ],
      "id": "6e20e979-2273-4884-a38a-0033eeb2ca4f"
    },
    {
      "cell_type": "code",
      "execution_count": null,
      "metadata": {
        "id": "154cf88e-f028-45e9-ab72-21ac1ecc3705"
      },
      "outputs": [],
      "source": [
        "my_data = tmp.iloc[:, 2:].dropna()\n",
        "my_data.head()"
      ],
      "id": "154cf88e-f028-45e9-ab72-21ac1ecc3705"
    },
    {
      "cell_type": "code",
      "execution_count": null,
      "metadata": {
        "id": "2bbb5c1f-0d12-4d17-9f24-771498daeda6"
      },
      "outputs": [],
      "source": [
        "my_data.shape"
      ],
      "id": "2bbb5c1f-0d12-4d17-9f24-771498daeda6"
    },
    {
      "cell_type": "code",
      "execution_count": null,
      "metadata": {
        "id": "de59f45a-8746-4b4f-8a5d-38157069f55a"
      },
      "outputs": [],
      "source": [
        "my_data.to_csv('wine.csv',\n",
        "               index=False)"
      ],
      "id": "de59f45a-8746-4b4f-8a5d-38157069f55a"
    },
    {
      "cell_type": "code",
      "execution_count": null,
      "metadata": {
        "id": "475b50db-4370-4e86-ad38-08656a39d0a2"
      },
      "outputs": [],
      "source": [
        "#my_data = pd.read_csv('wine.csv') # 作ったファイルを使う場合\n",
        "my_url = ('https://raw.githubusercontent.com/taroyabuki'\n",
        "          '/fromzero/master/data/wine.csv')\n",
        "my_data = pd.read_csv(my_url)"
      ],
      "id": "475b50db-4370-4e86-ad38-08656a39d0a2"
    },
    {
      "id": "d9e36274",
      "cell_type": "markdown",
      "source": [
        "## 8.2 重回帰分析"
      ],
      "metadata": {
        "id": "d9e36274"
      }
    },
    {
      "cell_type": "code",
      "execution_count": null,
      "metadata": {
        "id": "8eab53bb-3e5a-46ca-84fa-ffb9bd7b64a0"
      },
      "outputs": [],
      "source": [
        "import numpy as np\n",
        "import pandas as pd\n",
        "from sklearn.linear_model import LinearRegression\n",
        "from sklearn.metrics import mean_squared_error\n",
        "from sklearn.model_selection import cross_val_score, LeaveOneOut\n",
        "\n",
        "my_url = ('https://raw.githubusercontent.com/taroyabuki'\n",
        "          '/fromzero/master/data/wine.csv')\n",
        "my_data = pd.read_csv(my_url)\n",
        "X, y = my_data.drop(columns=['LPRICE2']), my_data['LPRICE2']\n",
        "\n",
        "my_model = LinearRegression().fit(X, y)"
      ],
      "id": "8eab53bb-3e5a-46ca-84fa-ffb9bd7b64a0"
    },
    {
      "cell_type": "code",
      "execution_count": null,
      "metadata": {
        "id": "77cfeed4-b30c-49ec-9a00-51feedbe99bb"
      },
      "outputs": [],
      "source": [
        "my_model.intercept_\n",
        "\n",
        "pd.Series(my_model.coef_,\n",
        "          index=X.columns)"
      ],
      "id": "77cfeed4-b30c-49ec-9a00-51feedbe99bb"
    },
    {
      "cell_type": "code",
      "execution_count": null,
      "metadata": {
        "id": "a90ee8c4-321e-4fe4-92e6-54e5f7280beb"
      },
      "outputs": [],
      "source": [
        "my_test = [[500, 17, 120, 2]]\n",
        "my_model.predict(my_test)"
      ],
      "id": "a90ee8c4-321e-4fe4-92e6-54e5f7280beb"
    },
    {
      "cell_type": "code",
      "execution_count": null,
      "metadata": {
        "id": "fd24f4d3-ea9e-49fe-a978-e0beed7b83c0"
      },
      "outputs": [],
      "source": [
        "y_ = my_model.predict(X)\n",
        "\n",
        "mean_squared_error(y_, y)**0.5\n",
        "\n",
        "my_model.score(X, y)\n",
        "\n",
        "np.corrcoef(y, y_)[0, 1]**2"
      ],
      "id": "fd24f4d3-ea9e-49fe-a978-e0beed7b83c0"
    },
    {
      "cell_type": "code",
      "execution_count": null,
      "metadata": {
        "id": "f882cce4-2ccc-4575-89ae-e2e15d325982"
      },
      "outputs": [],
      "source": [
        "my_scores = cross_val_score(my_model, X, y,\n",
        "                            cv=LeaveOneOut(),\n",
        "                            scoring='neg_mean_squared_error')\n",
        "(-my_scores.mean())**0.5"
      ],
      "id": "f882cce4-2ccc-4575-89ae-e2e15d325982"
    },
    {
      "cell_type": "code",
      "execution_count": null,
      "metadata": {
        "id": "d0790809-c73f-48a4-8097-1a4ac9745eb2"
      },
      "outputs": [],
      "source": [
        "import numpy as np\n",
        "M = np.matrix(X.assign(b0=1))\n",
        "b = np.linalg.pinv(M) @ y\n",
        "pd.Series(b,\n",
        "    index=list(X.columns) + ['b0'])"
      ],
      "id": "d0790809-c73f-48a4-8097-1a4ac9745eb2"
    },
    {
      "id": "c97a1b1d",
      "cell_type": "markdown",
      "source": [
        "## 8.3 標準化"
      ],
      "metadata": {
        "id": "c97a1b1d"
      }
    },
    {
      "cell_type": "code",
      "execution_count": null,
      "metadata": {
        "id": "649a2bb3-ecae-4ef8-a6d7-da176965821e"
      },
      "outputs": [],
      "source": [
        "import pandas as pd\n",
        "from sklearn.linear_model import LinearRegression\n",
        "from sklearn.pipeline import Pipeline\n",
        "from sklearn.preprocessing import StandardScaler\n",
        "my_url = ('https://raw.githubusercontent.com/taroyabuki'\n",
        "          '/fromzero/master/data/wine.csv')\n",
        "my_data = pd.read_csv(my_url)\n",
        "X, y = my_data.drop(columns=['LPRICE2']), my_data['LPRICE2']\n",
        "\n",
        "# StandardScalerで標準化した結果をデータフレームに戻してから描画する．\n",
        "pd.DataFrame(StandardScaler().fit_transform(X), columns=X.columns\n",
        "            ).boxplot(showmeans=True)"
      ],
      "id": "649a2bb3-ecae-4ef8-a6d7-da176965821e"
    },
    {
      "cell_type": "code",
      "execution_count": null,
      "metadata": {
        "id": "b55f2188-15c1-4303-b557-8bd170feef1a"
      },
      "outputs": [],
      "source": [
        "my_pipeline = Pipeline([\n",
        "    ('sc', StandardScaler()),\n",
        "    ('lr', LinearRegression())])\n",
        "my_pipeline.fit(X, y)"
      ],
      "id": "b55f2188-15c1-4303-b557-8bd170feef1a"
    },
    {
      "cell_type": "code",
      "execution_count": null,
      "metadata": {
        "id": "474f8bdc-fe77-42f0-ba48-348cdd2c882c"
      },
      "outputs": [],
      "source": [
        "# 線形回帰の部分だけを取り出す．\n",
        "my_lr = my_pipeline.named_steps.lr\n",
        "my_lr.intercept_\n",
        "\n",
        "pd.Series(my_lr.coef_,\n",
        "          index=X.columns)"
      ],
      "id": "474f8bdc-fe77-42f0-ba48-348cdd2c882c"
    },
    {
      "cell_type": "code",
      "execution_count": null,
      "metadata": {
        "id": "23e24fa5-3ad5-44dc-89d7-d6d07cef539b"
      },
      "outputs": [],
      "source": [
        "my_test = [[500, 17, 120, 2]]\n",
        "my_pipeline.predict(my_test)"
      ],
      "id": "23e24fa5-3ad5-44dc-89d7-d6d07cef539b"
    },
    {
      "id": "aa76819c",
      "cell_type": "markdown",
      "source": [
        "## 8.4 入力変数の数とモデルの良さ"
      ],
      "metadata": {
        "id": "aa76819c"
      }
    },
    {
      "cell_type": "code",
      "execution_count": null,
      "metadata": {
        "id": "fc93e57c-1250-4616-a85e-3bef0a16548b"
      },
      "outputs": [],
      "source": [
        "import pandas as pd\n",
        "from sklearn.linear_model import LinearRegression\n",
        "from sklearn.metrics import mean_squared_error\n",
        "from sklearn.model_selection import cross_val_score, LeaveOneOut\n",
        "\n",
        "my_url = ('https://raw.githubusercontent.com/taroyabuki'\n",
        "          '/fromzero/master/data/wine.csv')\n",
        "my_data = pd.read_csv(my_url)\n",
        "\n",
        "n = len(my_data)\n",
        "my_data2 = my_data.assign(v1=[i % 2 for i in range(n)],\n",
        "                          v2=[i % 3 for i in range(n)])\n",
        "my_data2.head()"
      ],
      "id": "fc93e57c-1250-4616-a85e-3bef0a16548b"
    },
    {
      "cell_type": "code",
      "execution_count": null,
      "metadata": {
        "id": "2c75f5fd-9075-4b46-b6aa-6d0563e47392"
      },
      "outputs": [],
      "source": [
        "X, y = my_data2.drop(columns=['LPRICE2']), my_data2['LPRICE2']\n",
        "my_model2 = LinearRegression().fit(X, y)\n",
        "\n",
        "y_ = my_model2.predict(X)\n",
        "mean_squared_error(y_, y)**0.5\n",
        "\n",
        "my_scores = cross_val_score(my_model2, X, y,\n",
        "                            cv=LeaveOneOut(),\n",
        "                            scoring='neg_mean_squared_error')\n",
        "(-my_scores.mean())**0.5"
      ],
      "id": "2c75f5fd-9075-4b46-b6aa-6d0563e47392"
    },
    {
      "id": "5c2dd5cf",
      "cell_type": "markdown",
      "source": [
        "## 8.5 変数選択"
      ],
      "metadata": {
        "id": "5c2dd5cf"
      }
    },
    {
      "cell_type": "code",
      "execution_count": null,
      "metadata": {
        "id": "a3c7faee-70d9-49a9-a7ee-1fb560324a6d"
      },
      "outputs": [],
      "source": [
        "import pandas as pd\n",
        "from sklearn.feature_selection import SequentialFeatureSelector\n",
        "from sklearn.linear_model import LinearRegression\n",
        "from sklearn.model_selection import GridSearchCV, LeaveOneOut\n",
        "from sklearn.pipeline import Pipeline\n",
        "\n",
        "my_url = ('https://raw.githubusercontent.com/taroyabuki'\n",
        "          '/fromzero/master/data/wine.csv')\n",
        "my_data = pd.read_csv(my_url)\n",
        "\n",
        "n = len(my_data)\n",
        "my_data2 = my_data.assign(v1=[i % 2 for i in range(n)],\n",
        "                          v2=[i % 3 for i in range(n)])\n",
        "X, y = my_data2.drop(columns=['LPRICE2']), my_data2['LPRICE2']"
      ],
      "id": "a3c7faee-70d9-49a9-a7ee-1fb560324a6d"
    },
    {
      "cell_type": "code",
      "execution_count": null,
      "metadata": {
        "id": "b60fa4d8-8087-4ad3-83d7-fef72a81ca76"
      },
      "outputs": [],
      "source": [
        "my_sfs = SequentialFeatureSelector(\n",
        "    estimator=LinearRegression(),\n",
        "    direction='forward', # 変数増加法\n",
        "    cv=LeaveOneOut(),\n",
        "    scoring='neg_mean_squared_error')\n",
        "\n",
        "my_pipeline = Pipeline([         # 変数選択の後で再訓練を行うようにする．\n",
        "    ('sfs', my_sfs),             # 変数選択\n",
        "    ('lr', LinearRegression())]) # 回帰分析\n",
        "\n",
        "my_params = {'sfs__n_features_to_select': range(1, 6)} # 選択する変数の上限\n",
        "my_search = GridSearchCV(estimator=my_pipeline,\n",
        "                         param_grid=my_params,\n",
        "                         cv=LeaveOneOut(),\n",
        "                         scoring='neg_mean_squared_error',\n",
        "                         n_jobs=-1).fit(X, y)\n",
        "my_model = my_search.best_estimator_ # 最良のパラメータで再訓練したモデル\n",
        "my_search.best_estimator_.named_steps.sfs.get_support()"
      ],
      "id": "b60fa4d8-8087-4ad3-83d7-fef72a81ca76"
    },
    {
      "id": "57cbe571",
      "cell_type": "markdown",
      "source": [
        "## 8.6 補足：正則化"
      ],
      "metadata": {
        "id": "57cbe571"
      }
    },
    {
      "cell_type": "code",
      "execution_count": null,
      "metadata": {
        "id": "1e630de3-4a31-43cd-a392-92d82484c53d"
      },
      "outputs": [],
      "source": [
        "import numpy as np\n",
        "import pandas as pd\n",
        "import warnings\n",
        "from sklearn.exceptions import ConvergenceWarning\n",
        "from sklearn.linear_model import ElasticNet, enet_path\n",
        "from sklearn.model_selection import GridSearchCV, LeaveOneOut\n",
        "from sklearn.pipeline import Pipeline\n",
        "from sklearn.preprocessing import StandardScaler\n",
        "from scipy.stats import zscore\n",
        "warnings.simplefilter('ignore', ConvergenceWarning) # これ以降，警告を表示しない．\n",
        "\n",
        "my_url = ('https://raw.githubusercontent.com/taroyabuki'\n",
        "          '/fromzero/master/data/wine.csv')\n",
        "my_data = pd.read_csv(my_url)\n",
        "X, y = my_data.drop(columns=['LPRICE2']), my_data['LPRICE2']"
      ],
      "id": "1e630de3-4a31-43cd-a392-92d82484c53d"
    },
    {
      "cell_type": "code",
      "execution_count": null,
      "metadata": {
        "id": "c4c1b841-228a-411e-849a-ffea5b5a0257"
      },
      "outputs": [],
      "source": [
        "A = 2\n",
        "B = 0.1\n",
        "\n",
        "my_pipeline = Pipeline([\n",
        "    ('sc', StandardScaler()),\n",
        "    ('enet', ElasticNet(\n",
        "        alpha=A,\n",
        "        l1_ratio=B))])\n",
        "my_pipeline.fit(X, y)"
      ],
      "id": "c4c1b841-228a-411e-849a-ffea5b5a0257"
    },
    {
      "cell_type": "code",
      "execution_count": null,
      "metadata": {
        "id": "b2ca1947-d5c6-4ca5-b37e-2ed8b385a77c"
      },
      "outputs": [],
      "source": [
        "my_enet = my_pipeline.named_steps.enet\n",
        "my_enet.intercept_\n",
        "\n",
        "pd.Series(my_enet.coef_,\n",
        "          index=X.columns)"
      ],
      "id": "b2ca1947-d5c6-4ca5-b37e-2ed8b385a77c"
    },
    {
      "cell_type": "code",
      "execution_count": null,
      "metadata": {
        "id": "00448bc3-43ff-4a0e-8b91-a2fb50ab522a"
      },
      "outputs": [],
      "source": [
        "my_test = pd.DataFrame(\n",
        "    [[500, 17, 120, 2]])\n",
        "my_pipeline.predict(my_test)"
      ],
      "id": "00448bc3-43ff-4a0e-8b91-a2fb50ab522a"
    },
    {
      "cell_type": "code",
      "execution_count": null,
      "metadata": {
        "id": "0b4b8b0d-a302-4c32-a614-826c1d2bf88b"
      },
      "outputs": [],
      "source": [
        "As = np.e**np.arange(2, -5.5, -0.1)\n",
        "B = 0.1\n",
        "\n",
        "_, my_path, _ = enet_path(\n",
        "    zscore(X), zscore(y),\n",
        "    alphas=As,\n",
        "    l1_ratio=B)\n",
        "\n",
        "pd.DataFrame(\n",
        "    my_path.T,\n",
        "    columns=X.columns,\n",
        "    index=np.log(As)\n",
        ").plot(\n",
        "    xlabel='log A ( = log alpha)',\n",
        "    ylabel='Coefficients')"
      ],
      "id": "0b4b8b0d-a302-4c32-a614-826c1d2bf88b"
    },
    {
      "cell_type": "code",
      "execution_count": null,
      "metadata": {
        "id": "c2e3096a-9a5c-4f1f-866d-4359c5cfaf09"
      },
      "outputs": [],
      "source": [
        "As = np.linspace(0, 0.1, 21)\n",
        "Bs = np.linspace(0, 0.1,  6)\n",
        "\n",
        "my_pipeline = Pipeline([('sc', StandardScaler()),\n",
        "                        ('enet', ElasticNet())])\n",
        "my_search = GridSearchCV(\n",
        "    estimator=my_pipeline,\n",
        "    param_grid={'enet__alpha': As, 'enet__l1_ratio': Bs},\n",
        "    cv=LeaveOneOut(),\n",
        "    scoring='neg_mean_squared_error',\n",
        "    n_jobs=-1).fit(X, y)\n",
        "my_model = my_search.best_estimator_ # 最良モデル\n",
        "\n",
        "my_search.best_params_               # 最良パラメータ"
      ],
      "id": "c2e3096a-9a5c-4f1f-866d-4359c5cfaf09"
    },
    {
      "cell_type": "code",
      "execution_count": null,
      "metadata": {
        "id": "0653a130-7942-4011-9155-e2762e3a512a"
      },
      "outputs": [],
      "source": [
        "tmp = my_search.cv_results_                # チューニングの詳細\n",
        "my_scores = (-tmp['mean_test_score'])**0.5 # RMSE\n",
        "\n",
        "my_results = pd.DataFrame(tmp['params']).assign(RMSE=my_scores).pivot(\n",
        "    index='enet__alpha',\n",
        "    columns='enet__l1_ratio',\n",
        "    values='RMSE')\n",
        "\n",
        "my_results.plot(style='o-', xlabel='A ( = alpha)', ylabel='RMSE').legend(\n",
        "    title='B ( = l1_ratio)')"
      ],
      "id": "0653a130-7942-4011-9155-e2762e3a512a"
    },
    {
      "cell_type": "code",
      "execution_count": null,
      "metadata": {
        "id": "83891880-c719-48a9-839b-b8fd1d9a5c4c"
      },
      "outputs": [],
      "source": [
        "(-my_search.best_score_)**0.5"
      ],
      "id": "83891880-c719-48a9-839b-b8fd1d9a5c4c"
    },
    {
      "id": "84f48447",
      "cell_type": "markdown",
      "source": [
        "## 8.7 ニューラルネットワーク"
      ],
      "metadata": {
        "id": "84f48447"
      }
    },
    {
      "cell_type": "code",
      "execution_count": null,
      "metadata": {
        "id": "8d943edf-2211-4541-9e2f-041f81b9df09"
      },
      "outputs": [],
      "source": [
        "import matplotlib.pyplot as plt\n",
        "import numpy as np\n",
        "x = np.linspace(-6, 6, 100)\n",
        "y = 1 / (1 + np.exp(-x))\n",
        "plt.plot(x, y)"
      ],
      "id": "8d943edf-2211-4541-9e2f-041f81b9df09"
    },
    {
      "cell_type": "code",
      "execution_count": null,
      "metadata": {
        "id": "207e24c4-1397-4c03-b91c-44cd569c4610"
      },
      "outputs": [],
      "source": [
        "import pandas as pd\n",
        "import warnings\n",
        "from sklearn.exceptions import ConvergenceWarning\n",
        "from sklearn.neural_network import MLPRegressor\n",
        "from sklearn.model_selection import cross_val_score, GridSearchCV, LeaveOneOut\n",
        "from sklearn.pipeline import Pipeline\n",
        "from sklearn.preprocessing import StandardScaler\n",
        "\n",
        "my_url = ('https://raw.githubusercontent.com/taroyabuki'\n",
        "          '/fromzero/master/data/wine.csv')\n",
        "my_data = pd.read_csv(my_url)\n",
        "X, y = my_data.drop(columns=['LPRICE2']), my_data['LPRICE2']"
      ],
      "id": "207e24c4-1397-4c03-b91c-44cd569c4610"
    },
    {
      "cell_type": "code",
      "execution_count": null,
      "metadata": {
        "id": "73fec4db-d0dd-447a-bf24-219e8a706ca5"
      },
      "outputs": [],
      "source": [
        "warnings.simplefilter(\"ignore\", ConvergenceWarning)  # これ以降，警告を表示しない．\n",
        "my_pipeline = Pipeline([('sc', StandardScaler()),    # 標準化\n",
        "                        ('mlp', MLPRegressor())])    # ニューラルネットワーク\n",
        "my_pipeline.fit(X, y)                                # 訓練\n",
        "\n",
        "my_scores = cross_val_score(my_pipeline, X, y, cv=LeaveOneOut(),\n",
        "                            scoring='neg_mean_squared_error')\n",
        "warnings.simplefilter(\"default\", ConvergenceWarning) # これ以降，警告を表示する．"
      ],
      "id": "73fec4db-d0dd-447a-bf24-219e8a706ca5"
    },
    {
      "cell_type": "code",
      "execution_count": null,
      "metadata": {
        "id": "b8719afb-1a0d-4f3b-9404-6a3b5b8e4772"
      },
      "outputs": [],
      "source": [
        "(-my_scores.mean())**0.5"
      ],
      "id": "b8719afb-1a0d-4f3b-9404-6a3b5b8e4772"
    },
    {
      "cell_type": "code",
      "execution_count": null,
      "metadata": {
        "id": "27d5725c-2c02-41c5-9fd2-e01207886994"
      },
      "outputs": [],
      "source": [
        "my_pipeline = Pipeline([\n",
        "    ('sc', StandardScaler()),\n",
        "    ('mlp', MLPRegressor(tol=1e-5,         # 改善したと見なす基準\n",
        "                         max_iter=5000))]) # 改善しなくなるまでの反復数\n",
        "my_layers = (1, 3, 5,                                         # 隠れ層1層の場合\n",
        "             (1, 1), (3, 1), (5, 1), (1, 2), (3, 2), (5, 2))  # 隠れ層2層の場合\n",
        "my_params = {'mlp__hidden_layer_sizes': my_layers}\n",
        "my_search = GridSearchCV(estimator=my_pipeline,\n",
        "                         param_grid=my_params,\n",
        "                         cv=LeaveOneOut(),\n",
        "                         scoring='neg_mean_squared_error',\n",
        "                         n_jobs=-1).fit(X, y)\n",
        "my_model = my_search.best_estimator_ # 最良モデル\n",
        "\n",
        "my_search.best_params_               # 最良パラメータ"
      ],
      "id": "27d5725c-2c02-41c5-9fd2-e01207886994"
    },
    {
      "cell_type": "code",
      "execution_count": null,
      "metadata": {
        "id": "7dd1b2a7-0acc-4fbd-ac4a-f0bc10d158a3"
      },
      "outputs": [],
      "source": [
        "(-my_search.best_score_)**0.5"
      ],
      "id": "7dd1b2a7-0acc-4fbd-ac4a-f0bc10d158a3"
    },
    {
      "id": "99ba5dcc",
      "cell_type": "markdown",
      "source": [
        "# 9 分類1（多値分類）\n",
        "\n",
        "\n"
      ],
      "metadata": {
        "id": "99ba5dcc"
      }
    },
    {
      "id": "6c5b267e",
      "cell_type": "markdown",
      "source": [
        "## 9.1 アヤメのデータ"
      ],
      "metadata": {
        "id": "6c5b267e"
      }
    },
    {
      "cell_type": "code",
      "execution_count": null,
      "metadata": {
        "id": "cb72c8b1-007a-45ef-9d45-4e836bd2bbee"
      },
      "outputs": [],
      "source": [
        "import statsmodels.api as sm\n",
        "my_data = sm.datasets.get_rdataset('iris', 'datasets').data\n",
        "my_data.head()"
      ],
      "id": "cb72c8b1-007a-45ef-9d45-4e836bd2bbee"
    },
    {
      "cell_type": "code",
      "execution_count": null,
      "metadata": {
        "id": "0b9dce7e-d638-41d0-9a01-1380c055bf13"
      },
      "outputs": [],
      "source": [
        "my_data.describe()\n",
        "# 以下省略"
      ],
      "id": "0b9dce7e-d638-41d0-9a01-1380c055bf13"
    },
    {
      "id": "1d5059be",
      "cell_type": "markdown",
      "source": [
        "## 9.2 木による分類"
      ],
      "metadata": {
        "id": "1d5059be"
      }
    },
    {
      "cell_type": "code",
      "execution_count": null,
      "metadata": {
        "id": "77c52518-9b99-40d4-9e27-ed51882f07ff"
      },
      "outputs": [],
      "source": [
        "import graphviz\n",
        "import pandas as pd\n",
        "import statsmodels.api as sm\n",
        "from sklearn import tree\n",
        "\n",
        "my_data = sm.datasets.get_rdataset('iris', 'datasets').data\n",
        "X, y = my_data.iloc[:, 0:4], my_data.Species\n",
        "\n",
        "my_model = tree.DecisionTreeClassifier(max_depth=2, random_state=0)\n",
        "my_model.fit(X, y)"
      ],
      "id": "77c52518-9b99-40d4-9e27-ed51882f07ff"
    },
    {
      "cell_type": "code",
      "execution_count": null,
      "metadata": {
        "id": "9a058eb4-638f-4a0d-be04-c73a3b54d879"
      },
      "outputs": [],
      "source": [
        "my_dot = tree.export_graphviz(\n",
        "    decision_tree=my_model,\n",
        "    out_file=None,                 # ファイルに出力しない．\n",
        "    feature_names=X.columns,       # 変数名\n",
        "    class_names=my_model.classes_, # カテゴリ名\n",
        "    filled=True)                   # 色を塗る．\n",
        "graphviz.Source(my_dot)"
      ],
      "id": "9a058eb4-638f-4a0d-be04-c73a3b54d879"
    },
    {
      "cell_type": "code",
      "execution_count": null,
      "metadata": {
        "id": "5655cb2c-0e1d-443f-aa67-0888d547bd12"
      },
      "outputs": [],
      "source": [
        "my_test = pd.DataFrame([[5.0, 3.5, 1.5, 0.5],\n",
        "                        [6.5, 3.0, 5.0, 2.0]])\n",
        "my_model.predict(my_test)"
      ],
      "id": "5655cb2c-0e1d-443f-aa67-0888d547bd12"
    },
    {
      "cell_type": "code",
      "execution_count": null,
      "metadata": {
        "id": "7a418cd0-fae7-4ac2-bb77-b3fc683fa1f5"
      },
      "outputs": [],
      "source": [
        "pd.DataFrame(\n",
        "    my_model.predict_proba(my_test),\n",
        "    columns=my_model.classes_)"
      ],
      "id": "7a418cd0-fae7-4ac2-bb77-b3fc683fa1f5"
    },
    {
      "id": "3efd2a1e",
      "cell_type": "markdown",
      "source": [
        "## 9.3 正解率"
      ],
      "metadata": {
        "id": "3efd2a1e"
      }
    },
    {
      "cell_type": "code",
      "execution_count": null,
      "metadata": {
        "id": "18d799a3-a968-49c3-b362-e00c74b1eeb3"
      },
      "outputs": [],
      "source": [
        "import graphviz\n",
        "import pandas as pd\n",
        "import statsmodels.api as sm\n",
        "from sklearn import tree\n",
        "from sklearn.metrics import confusion_matrix\n",
        "from sklearn.model_selection import cross_val_score, GridSearchCV, LeaveOneOut\n",
        "\n",
        "my_data = sm.datasets.get_rdataset('iris', 'datasets').data\n",
        "X, y = my_data.iloc[:, 0:4], my_data.Species\n",
        "\n",
        "my_model = tree.DecisionTreeClassifier(max_depth=2, random_state=0).fit(X, y)\n",
        "y_ = my_model.predict(X)\n",
        "confusion_matrix(y_true=y, y_pred=y_)"
      ],
      "id": "18d799a3-a968-49c3-b362-e00c74b1eeb3"
    },
    {
      "cell_type": "code",
      "execution_count": null,
      "metadata": {
        "id": "28fd6ba3-c796-4ce0-87d4-b5e18d20a5e6"
      },
      "outputs": [],
      "source": [
        "my_model.score(X, y)\n",
        "# あるいは\n",
        "y_ = my_model.predict(X)\n",
        "(y_ == y).mean()\n"
      ],
      "id": "28fd6ba3-c796-4ce0-87d4-b5e18d20a5e6"
    },
    {
      "cell_type": "code",
      "execution_count": null,
      "metadata": {
        "id": "ee246cd5-fdd8-45db-a8bb-b903f1f46a52"
      },
      "outputs": [],
      "source": [
        "cross_val_score(my_model, X, y, cv=LeaveOneOut()).mean()"
      ],
      "id": "ee246cd5-fdd8-45db-a8bb-b903f1f46a52"
    },
    {
      "cell_type": "code",
      "execution_count": null,
      "metadata": {
        "id": "509f3806-8ec6-4ac1-9f56-0682993f391f"
      },
      "outputs": [],
      "source": [
        "my_search = GridSearchCV(estimator=tree.DecisionTreeClassifier(random_state=0),\n",
        "                         param_grid={'max_depth': range(1, 11)},\n",
        "                         cv=LeaveOneOut(),\n",
        "                         n_jobs=-1).fit(X, y)\n",
        "my_search.best_params_, my_search.best_score_"
      ],
      "id": "509f3806-8ec6-4ac1-9f56-0682993f391f"
    },
    {
      "cell_type": "code",
      "execution_count": null,
      "metadata": {
        "id": "88ceb2c7-c40a-4bd1-bead-b390dbba20da"
      },
      "outputs": [],
      "source": [
        "my_params = {\n",
        "    'max_depth': range(2, 6),\n",
        "    'min_samples_split': [2, 20],\n",
        "    'min_samples_leaf': range(1, 8)}\n",
        "\n",
        "my_search = GridSearchCV(\n",
        "    estimator=tree.DecisionTreeClassifier(min_impurity_decrease=0.01,\n",
        "                                          random_state=0),\n",
        "    param_grid=my_params,\n",
        "    cv=LeaveOneOut(),\n",
        "    n_jobs=-1).fit(X, y)\n",
        "my_search.best_params_, my_search.best_score_\n",
        "\n",
        "tmp = my_search.cv_results_\n",
        "my_results = pd.DataFrame(tmp['params']).assign(\n",
        "    Accuracy=tmp['mean_test_score'])\n",
        "# 正解率（検証）の最大値\n",
        "my_results[my_results.Accuracy == my_results.Accuracy.max()]"
      ],
      "id": "88ceb2c7-c40a-4bd1-bead-b390dbba20da"
    },
    {
      "cell_type": "code",
      "execution_count": null,
      "metadata": {
        "id": "fbe50068-8a01-4732-95f5-15cf00b584aa"
      },
      "outputs": [],
      "source": [
        "my_model = my_search.best_estimator_\n",
        "my_dot = tree.export_graphviz(\n",
        "    decision_tree=my_model,\n",
        "    out_file=None,\n",
        "    feature_names=X.columns,\n",
        "    class_names=my_model.classes_,\n",
        "    filled=True)\n",
        "graphviz.Source(my_dot)"
      ],
      "id": "fbe50068-8a01-4732-95f5-15cf00b584aa"
    },
    {
      "id": "85606900",
      "cell_type": "markdown",
      "source": [
        "## 9.4 複数の木を使う方法"
      ],
      "metadata": {
        "id": "85606900"
      }
    },
    {
      "cell_type": "code",
      "execution_count": null,
      "metadata": {
        "id": "a7c5f058-613e-4666-a96c-7745e1356e46"
      },
      "outputs": [],
      "source": [
        "import pandas as pd\n",
        "import statsmodels.api as sm\n",
        "import warnings\n",
        "import xgboost\n",
        "from sklearn.ensemble import RandomForestClassifier\n",
        "from sklearn.model_selection import GridSearchCV, LeaveOneOut\n",
        "from sklearn.preprocessing import LabelEncoder\n",
        "\n",
        "my_data = sm.datasets.get_rdataset('iris', 'datasets').data\n",
        "X, y = my_data.iloc[:, 0:4], my_data.Species\n",
        "label_encoder = LabelEncoder(); y = label_encoder.fit_transform(y)\n",
        "\n",
        "my_search = GridSearchCV(RandomForestClassifier(),\n",
        "                         param_grid={'max_features': [2, 3, 4]},\n",
        "                         cv=LeaveOneOut(),\n",
        "                         n_jobs=-1).fit(X, y)\n",
        "my_search.best_params_\n",
        "\n",
        "my_search.cv_results_['mean_test_score']"
      ],
      "id": "a7c5f058-613e-4666-a96c-7745e1356e46"
    },
    {
      "cell_type": "code",
      "execution_count": null,
      "metadata": {
        "id": "48b43c3b-ae59-47fe-825f-58879f59e456"
      },
      "outputs": [],
      "source": [
        "warnings.simplefilter('ignore') # これ以降，警告を表示しない．\n",
        "my_search = GridSearchCV(\n",
        "    xgboost.XGBClassifier(eval_metric='mlogloss'),\n",
        "    param_grid={'n_estimators'    : [50, 100, 150],\n",
        "                'max_depth'       : [1, 2, 3],\n",
        "                'learning_rate'   : [0.3, 0.4],\n",
        "                'gamma'           : [0],\n",
        "                'colsample_bytree': [0.6, 0.8],\n",
        "                'min_child_weight': [1],\n",
        "                'subsample'       : [0.5, 0.75, 1]},\n",
        "    cv=5, # 5分割交差検証\n",
        "    n_jobs=1).fit(X, y) # n_jobs=-1ではない．\n",
        "warnings.simplefilter('default') # これ以降，警告を表示する．\n",
        "\n",
        "my_search.best_params_\n",
        "\n",
        "my_search.best_score_"
      ],
      "id": "48b43c3b-ae59-47fe-825f-58879f59e456"
    },
    {
      "cell_type": "code",
      "execution_count": null,
      "metadata": {
        "id": "ebbe91bd-bcd5-4e95-84bb-d4d81db33d85"
      },
      "outputs": [],
      "source": [
        "my_model = RandomForestClassifier().fit(X, y)\n",
        "tmp = pd.Series(my_model.feature_importances_, index=X.columns)\n",
        "tmp.sort_values().plot(kind='barh')"
      ],
      "id": "ebbe91bd-bcd5-4e95-84bb-d4d81db33d85"
    },
    {
      "id": "798569c3",
      "cell_type": "markdown",
      "source": [
        "## 9.5 欠損のあるデータでの学習"
      ],
      "metadata": {
        "id": "798569c3"
      }
    },
    {
      "cell_type": "code",
      "execution_count": null,
      "metadata": {
        "id": "74a0b412-5c7e-457a-aff3-69b5518e5008"
      },
      "outputs": [],
      "source": [
        "import numpy as np\n",
        "import statsmodels.api as sm\n",
        "import warnings\n",
        "import xgboost\n",
        "from sklearn import tree\n",
        "from sklearn.impute import SimpleImputer\n",
        "from sklearn.model_selection import cross_val_score, LeaveOneOut\n",
        "from sklearn.pipeline import Pipeline\n",
        "\n",
        "my_data = sm.datasets.get_rdataset('iris', 'datasets').data\n",
        "\n",
        "n = len(my_data)\n",
        "my_data['Petal.Length'] = [np.nan if i % 10 == 0 else\n",
        "                           my_data['Petal.Length'][i] for i in range(n)]\n",
        "my_data['Petal.Width']  = [np.nan if i % 10 == 1 else\n",
        "                           my_data['Petal.Width'][i]  for i in range(n)]\n",
        "\n",
        "my_data.describe() # countの値が135の変数に，150-135=15個の欠損がある．\n",
        "# 以下省略\n",
        "\n",
        "X, y = my_data.iloc[:, 0:4], my_data.Species"
      ],
      "id": "74a0b412-5c7e-457a-aff3-69b5518e5008"
    },
    {
      "cell_type": "code",
      "execution_count": null,
      "metadata": {
        "id": "90c598a6-9ea9-4a3c-99d2-f36be81989c1"
      },
      "outputs": [],
      "source": [
        "my_pipeline = Pipeline([\n",
        "    ('imputer', SimpleImputer(strategy='median')), # 欠損を中央値で埋める．\n",
        "    ('tree', tree.DecisionTreeClassifier(random_state=0))])\n",
        "my_scores = cross_val_score(my_pipeline, X, y, cv=LeaveOneOut(), n_jobs=-1)\n",
        "my_scores.mean()"
      ],
      "id": "90c598a6-9ea9-4a3c-99d2-f36be81989c1"
    },
    {
      "cell_type": "code",
      "execution_count": null,
      "metadata": {
        "id": "7a4de895-6942-4585-a308-4ce49bd23aa8"
      },
      "outputs": [],
      "source": [
        "from sklearn.preprocessing import LabelEncoder\n",
        "label_encoder = LabelEncoder()\n",
        "y = label_encoder.fit_transform(y)\n",
        "\n",
        "warnings.simplefilter('ignore')  # これ以降，警告を表示しない．\n",
        "my_scores = cross_val_score(\n",
        "    xgboost.XGBClassifier(eval_metric='mlogloss'), X, y, cv=5)\n",
        "warnings.simplefilter('default') # これ以降，警告を表示する．\n",
        "\n",
        "my_scores.mean()"
      ],
      "id": "7a4de895-6942-4585-a308-4ce49bd23aa8"
    },
    {
      "id": "adaa1b0e",
      "cell_type": "markdown",
      "source": [
        "## 9.6 他の分類手法"
      ],
      "metadata": {
        "id": "adaa1b0e"
      }
    },
    {
      "cell_type": "code",
      "execution_count": null,
      "metadata": {
        "id": "bf4699d3-7110-4e5c-b46e-c6e9a4e106a5"
      },
      "outputs": [],
      "source": [
        "import statsmodels.api as sm\n",
        "from sklearn.model_selection import cross_val_score, LeaveOneOut\n",
        "from sklearn.neighbors import KNeighborsClassifier\n",
        "\n",
        "my_data = sm.datasets.get_rdataset('iris', 'datasets').data\n",
        "X, y = my_data.iloc[:, 0:4], my_data.Species\n",
        "\n",
        "my_scores = cross_val_score(KNeighborsClassifier(), X, y, cv=LeaveOneOut())\n",
        "my_scores.mean()"
      ],
      "id": "bf4699d3-7110-4e5c-b46e-c6e9a4e106a5"
    },
    {
      "cell_type": "code",
      "execution_count": null,
      "metadata": {
        "id": "5ee58cc8-3ba2-49d7-acfe-40bc51c667cd"
      },
      "outputs": [],
      "source": [
        "import statsmodels.api as sm\n",
        "from sklearn.model_selection import cross_val_score, LeaveOneOut\n",
        "from sklearn.neural_network import MLPClassifier\n",
        "from sklearn.pipeline import Pipeline\n",
        "from sklearn.preprocessing import StandardScaler\n",
        "\n",
        "my_data = sm.datasets.get_rdataset('iris', 'datasets').data\n",
        "X, y = my_data.iloc[:, 0:4], my_data.Species\n",
        "\n",
        "my_pipeline = Pipeline([('sc',  StandardScaler()),              # 標準化\n",
        "                        ('mlp', MLPClassifier(max_iter=1000))]) # ニューラルネットワーク\n",
        "my_scores = cross_val_score(my_pipeline, X, y, cv=LeaveOneOut(), n_jobs=-1)\n",
        "my_scores.mean()"
      ],
      "id": "5ee58cc8-3ba2-49d7-acfe-40bc51c667cd"
    },
    {
      "id": "c711602c",
      "cell_type": "markdown",
      "source": [
        "# 10 分類2（2値分類）\n",
        "\n",
        "\n"
      ],
      "metadata": {
        "id": "c711602c"
      }
    },
    {
      "id": "bc9e3c57",
      "cell_type": "markdown",
      "source": [
        "## 10.1 2値分類の性能指標"
      ],
      "metadata": {
        "id": "bc9e3c57"
      }
    },
    {
      "cell_type": "code",
      "execution_count": null,
      "metadata": {
        "id": "69a0997d-38ac-4fb0-b475-57c03c8bf03a"
      },
      "outputs": [],
      "source": [
        "import numpy as np\n",
        "from sklearn.metrics import classification_report, confusion_matrix\n",
        "\n",
        "y       = np.array([  0,   1,   1,   0,   1,   0,    1,   0,   0,   1])\n",
        "y_score = np.array([0.7, 0.8, 0.3, 0.4, 0.9, 0.6, 0.99, 0.1, 0.2, 0.5])"
      ],
      "id": "69a0997d-38ac-4fb0-b475-57c03c8bf03a"
    },
    {
      "cell_type": "code",
      "execution_count": null,
      "metadata": {
        "id": "e0ea4d12-d58d-4346-844a-c5693ac61764"
      },
      "outputs": [],
      "source": [
        "y_ = np.array([1 if 0.5 <= p else 0 for p in y_score])\n",
        "y_"
      ],
      "id": "e0ea4d12-d58d-4346-844a-c5693ac61764"
    },
    {
      "cell_type": "code",
      "execution_count": null,
      "metadata": {
        "id": "a14beb4a-49a5-4490-95d6-cc6ef26006af"
      },
      "outputs": [],
      "source": [
        "confusion_matrix(y_true=y, y_pred=y_)\n",
        "\n",
        "print(classification_report(y_true=y, y_pred=y_))"
      ],
      "id": "a14beb4a-49a5-4490-95d6-cc6ef26006af"
    },
    {
      "id": "6ba49f71",
      "cell_type": "markdown",
      "source": [
        "## 10.2 トレードオフ"
      ],
      "metadata": {
        "id": "6ba49f71"
      }
    },
    {
      "cell_type": "code",
      "execution_count": null,
      "metadata": {
        "id": "8ad42daa-3455-4538-b40c-b7537d6d144e"
      },
      "outputs": [],
      "source": [
        "import numpy as np\n",
        "from sklearn.metrics import (roc_curve, RocCurveDisplay,\n",
        "    precision_recall_curve, PrecisionRecallDisplay, auc)\n",
        "\n",
        "y       = np.array([  0,   1,   1,   0,   1,   0,    1,   0,   0,   1])\n",
        "y_score = np.array([0.7, 0.8, 0.3, 0.4, 0.9, 0.6, 0.99, 0.1, 0.2, 0.5])\n",
        "y_      = np.array([1 if 0.5 <= p else 0 for p in y_score])\n",
        "\n",
        "[sum((y == 0) & (y_ == 1)) / sum(y == 0), # FPR\n",
        " sum((y == 1) & (y_ == 1)) / sum(y == 1)] # TPR"
      ],
      "id": "8ad42daa-3455-4538-b40c-b7537d6d144e"
    },
    {
      "cell_type": "code",
      "execution_count": null,
      "metadata": {
        "id": "baaffb7a-7460-4833-9c79-5febae69676c"
      },
      "outputs": [],
      "source": [
        "my_fpr, my_tpr, _ = roc_curve(y_true=y,\n",
        "                              y_score=y_score,\n",
        "                              pos_label=1) # 1が陽性である．\n",
        "RocCurveDisplay(fpr=my_fpr, tpr=my_tpr).plot()"
      ],
      "id": "baaffb7a-7460-4833-9c79-5febae69676c"
    },
    {
      "cell_type": "code",
      "execution_count": null,
      "metadata": {
        "id": "ce8a56cd-9196-4023-915f-b91291bfb7d6"
      },
      "outputs": [],
      "source": [
        "auc(x=my_fpr, y=my_tpr)"
      ],
      "id": "ce8a56cd-9196-4023-915f-b91291bfb7d6"
    },
    {
      "cell_type": "code",
      "execution_count": null,
      "metadata": {
        "id": "8be68d2c-b9ef-439b-98a8-228be0798285"
      },
      "outputs": [],
      "source": [
        "[sum((y == 1) & (y_ == 1)) / sum(y  == 1), # Recall == TPR\n",
        " sum((y == 1) & (y_ == 1)) / sum(y_ == 1)] # Precision"
      ],
      "id": "8be68d2c-b9ef-439b-98a8-228be0798285"
    },
    {
      "cell_type": "code",
      "execution_count": null,
      "metadata": {
        "id": "ce800cb7-2243-4ac7-8a8c-19ef0cff994c"
      },
      "outputs": [],
      "source": [
        "my_precision, my_recall, _ = precision_recall_curve(y_true=y,\n",
        "                                                    probas_pred=y_score,\n",
        "                                                    pos_label=1)\n",
        "PrecisionRecallDisplay(precision=my_precision, recall=my_recall).plot()"
      ],
      "id": "ce800cb7-2243-4ac7-8a8c-19ef0cff994c"
    },
    {
      "cell_type": "code",
      "execution_count": null,
      "metadata": {
        "id": "46c3a617-f9eb-4699-a03a-40794cdcba8b"
      },
      "outputs": [],
      "source": [
        "auc(x=my_recall, y=my_precision)"
      ],
      "id": "46c3a617-f9eb-4699-a03a-40794cdcba8b"
    },
    {
      "id": "2dd45aab",
      "cell_type": "markdown",
      "source": [
        "## 10.3 タイタニック"
      ],
      "metadata": {
        "id": "2dd45aab"
      }
    },
    {
      "cell_type": "code",
      "execution_count": null,
      "metadata": {
        "id": "cebfb60c-fca3-42d6-95d2-fc8ddec9b64e"
      },
      "outputs": [],
      "source": [
        "import graphviz\n",
        "import pandas as pd\n",
        "from sklearn import tree\n",
        "from sklearn.metrics import roc_curve, RocCurveDisplay, auc\n",
        "from sklearn.model_selection import cross_val_score, LeaveOneOut\n",
        "from sklearn.pipeline import Pipeline\n",
        "from sklearn.preprocessing import OneHotEncoder\n",
        "\n",
        "my_url = ('https://raw.githubusercontent.com/taroyabuki'\n",
        "          '/fromzero/master/data/titanic.csv')\n",
        "my_data = pd.read_csv(my_url)"
      ],
      "id": "cebfb60c-fca3-42d6-95d2-fc8ddec9b64e"
    },
    {
      "cell_type": "code",
      "execution_count": null,
      "metadata": {
        "id": "771c39a2-e52f-49a1-99b0-2f8324b72124"
      },
      "outputs": [],
      "source": [
        "my_data.head()"
      ],
      "id": "771c39a2-e52f-49a1-99b0-2f8324b72124"
    },
    {
      "cell_type": "code",
      "execution_count": null,
      "metadata": {
        "id": "8787a3ac-7916-4ece-a65c-78b175a460c1"
      },
      "outputs": [],
      "source": [
        "X, y = my_data.iloc[:, 0:3], my_data.Survived\n",
        "\n",
        "my_pipeline = Pipeline([\n",
        "    ('ohe', OneHotEncoder(drop='first')),\n",
        "    ('tree', tree.DecisionTreeClassifier(max_depth=2, random_state=0,\n",
        "                                         min_impurity_decrease=0.01))])\n",
        "my_pipeline.fit(X, y)"
      ],
      "id": "8787a3ac-7916-4ece-a65c-78b175a460c1"
    },
    {
      "cell_type": "code",
      "execution_count": null,
      "metadata": {
        "id": "59b608fe-c47a-4499-8044-b07905c13737"
      },
      "outputs": [],
      "source": [
        "my_enc  = my_pipeline.named_steps['ohe']  # パイプラインからエンコーダを取り出す．\n",
        "my_tree = my_pipeline.named_steps['tree'] # パイプラインから木を取り出す．\n",
        "\n",
        "my_dot = tree.export_graphviz(\n",
        "    decision_tree=my_tree,\n",
        "    out_file=None,\n",
        "    feature_names=my_enc.get_feature_names() \\\n",
        "    if hasattr(my_enc, 'get_feature_names') else my_enc.get_feature_names_out(),\n",
        "    class_names=my_pipeline.classes_,\n",
        "    filled=True)\n",
        "graphviz.Source(my_dot)"
      ],
      "id": "59b608fe-c47a-4499-8044-b07905c13737"
    },
    {
      "cell_type": "code",
      "execution_count": null,
      "metadata": {
        "id": "950a7ab4-4e33-45d5-9acf-4ee802e4d1a1"
      },
      "outputs": [],
      "source": [
        "my_scores = cross_val_score(\n",
        "    my_pipeline, X, y,\n",
        "    cv=LeaveOneOut(),\n",
        "    n_jobs=-1)\n",
        "my_scores.mean()"
      ],
      "id": "950a7ab4-4e33-45d5-9acf-4ee802e4d1a1"
    },
    {
      "cell_type": "code",
      "execution_count": null,
      "metadata": {
        "id": "8297dd56-c4f2-4c1d-8895-dde932619ef6"
      },
      "outputs": [],
      "source": [
        "tmp = pd.DataFrame(\n",
        "    my_pipeline.predict_proba(X),\n",
        "    columns=my_pipeline.classes_)\n",
        "y_score = tmp.Yes\n",
        "\n",
        "my_fpr, my_tpr, _ = roc_curve(y_true=y,\n",
        "                              y_score=y_score,\n",
        "                              pos_label='Yes')\n",
        "my_auc = auc(x=my_fpr, y=my_tpr)\n",
        "my_auc\n",
        "\n",
        "RocCurveDisplay(fpr=my_fpr, tpr=my_tpr, roc_auc=my_auc).plot()"
      ],
      "id": "8297dd56-c4f2-4c1d-8895-dde932619ef6"
    },
    {
      "id": "9759a7a9",
      "cell_type": "markdown",
      "source": [
        "## 10.4 ロジスティック回帰"
      ],
      "metadata": {
        "id": "9759a7a9"
      }
    },
    {
      "cell_type": "code",
      "execution_count": null,
      "metadata": {
        "id": "857484a2-a4c3-4b08-a061-b30a501449f5"
      },
      "outputs": [],
      "source": [
        "import matplotlib.pyplot as plt\n",
        "import numpy as np\n",
        "\n",
        "x = np.arange(-6, 6, 0.1)\n",
        "y = 1 / (1 + np.exp(-x))\n",
        "plt.plot(x, y)"
      ],
      "id": "857484a2-a4c3-4b08-a061-b30a501449f5"
    },
    {
      "cell_type": "code",
      "execution_count": null,
      "metadata": {
        "id": "59b6c1e1-8be2-4f9e-bb2b-d60b5f2c248c"
      },
      "outputs": [],
      "source": [
        "import pandas as pd\n",
        "from sklearn.linear_model import LogisticRegression\n",
        "from sklearn.model_selection import cross_val_score, LeaveOneOut\n",
        "from sklearn.pipeline import Pipeline\n",
        "from sklearn.preprocessing import OneHotEncoder\n",
        "\n",
        "my_url = ('https://raw.githubusercontent.com/taroyabuki'\n",
        "          '/fromzero/master/data/titanic.csv')\n",
        "my_data = pd.read_csv(my_url)\n",
        "\n",
        "X, y = my_data.iloc[:, 0:3], my_data.Survived\n",
        "\n",
        "my_pipeline = Pipeline([('ohe', OneHotEncoder(drop='first')),\n",
        "                        ('lr', LogisticRegression(penalty='none'))])\n",
        "my_pipeline.fit(X, y)"
      ],
      "id": "59b6c1e1-8be2-4f9e-bb2b-d60b5f2c248c"
    },
    {
      "cell_type": "code",
      "execution_count": null,
      "metadata": {
        "id": "605d9dc3-caf4-4e90-86ca-b52f7426aae6"
      },
      "outputs": [],
      "source": [
        "my_ohe = my_pipeline.named_steps.ohe\n",
        "my_lr  = my_pipeline.named_steps.lr\n",
        "\n",
        "my_lr.intercept_[0]\n",
        "\n",
        "tmp = my_ohe.get_feature_names() \\\n",
        "if hasattr(my_ohe, 'get_feature_names') \\\n",
        "else my_ohe.get_feature_names_out()\n",
        "pd.Series(my_lr.coef_[0],\n",
        "          index=tmp)"
      ],
      "id": "605d9dc3-caf4-4e90-86ca-b52f7426aae6"
    },
    {
      "cell_type": "code",
      "execution_count": null,
      "metadata": {
        "id": "e076154d-a218-4b45-9e6e-df2ee3167ee0"
      },
      "outputs": [],
      "source": [
        "my_scores = cross_val_score(\n",
        "    my_pipeline, X, y,\n",
        "    cv=LeaveOneOut(),\n",
        "    n_jobs=-1)\n",
        "my_scores.mean()"
      ],
      "id": "e076154d-a218-4b45-9e6e-df2ee3167ee0"
    },
    {
      "id": "0d3589ea",
      "cell_type": "markdown",
      "source": [
        "# 11 深層学習とAutoML\n",
        "\n",
        "\n"
      ],
      "metadata": {
        "id": "0d3589ea"
      }
    },
    {
      "id": "c471fcf2",
      "cell_type": "markdown",
      "source": [
        "## 11.1 Kerasによる回帰"
      ],
      "metadata": {
        "id": "c471fcf2"
      }
    },
    {
      "cell_type": "code",
      "execution_count": null,
      "metadata": {
        "id": "55cbb845-883a-4875-9640-ebdb5f329903"
      },
      "outputs": [],
      "source": [
        "import matplotlib.pyplot as plt\n",
        "import numpy as np\n",
        "import pandas as pd\n",
        "from keras import activations, callbacks, layers, models\n",
        "from sklearn.preprocessing import StandardScaler\n",
        "from sklearn.utils import shuffle\n",
        "\n",
        "my_url = ('https://raw.githubusercontent.com/taroyabuki'\n",
        "          '/fromzero/master/data/wine.csv')\n",
        "tmp = pd.read_csv(my_url)"
      ],
      "id": "55cbb845-883a-4875-9640-ebdb5f329903"
    },
    {
      "cell_type": "code",
      "execution_count": null,
      "metadata": {
        "id": "d16516ef-da99-4651-9b2c-c695bf39967a"
      },
      "outputs": [],
      "source": [
        "my_data = shuffle(tmp)"
      ],
      "id": "d16516ef-da99-4651-9b2c-c695bf39967a"
    },
    {
      "cell_type": "code",
      "execution_count": null,
      "metadata": {
        "id": "ce572e41-9cc3-4720-9681-d54c7f37ec09"
      },
      "outputs": [],
      "source": [
        "my_scaler = StandardScaler()\n",
        "X = my_scaler.fit_transform(\n",
        "    my_data.drop(columns=['LPRICE2']))\n",
        "y = my_data['LPRICE2']"
      ],
      "id": "ce572e41-9cc3-4720-9681-d54c7f37ec09"
    },
    {
      "cell_type": "code",
      "execution_count": null,
      "metadata": {
        "id": "03215e64-d448-4f4b-b9ae-8881882a1173"
      },
      "outputs": [],
      "source": [
        "x = np.linspace(-3, 3, 100)\n",
        "plt.plot(x, activations.relu(x))\n",
        "plt.xlabel('x')\n",
        "plt.ylabel('ReLU(x)')"
      ],
      "id": "03215e64-d448-4f4b-b9ae-8881882a1173"
    },
    {
      "cell_type": "code",
      "execution_count": null,
      "metadata": {
        "id": "3a3db7f5-6087-4ad8-bb08-8bcb73eeda67"
      },
      "outputs": [],
      "source": [
        "my_model = models.Sequential()\n",
        "my_model.add(layers.Dense(units=3, activation='relu', input_shape=[4]))\n",
        "my_model.add(layers.Dense(units=1))\n",
        "\n",
        "my_model.summary() # ネットワークの概要"
      ],
      "id": "3a3db7f5-6087-4ad8-bb08-8bcb73eeda67"
    },
    {
      "cell_type": "code",
      "execution_count": null,
      "metadata": {
        "id": "04d66b96-090f-41bc-9af3-8c54cf163e32"
      },
      "outputs": [],
      "source": [
        "my_model.compile(\n",
        "    loss='mse',\n",
        "    optimizer='rmsprop')"
      ],
      "id": "04d66b96-090f-41bc-9af3-8c54cf163e32"
    },
    {
      "cell_type": "code",
      "execution_count": null,
      "metadata": {
        "id": "0c044c9d-2671-4a0a-8021-6d77af14d288"
      },
      "outputs": [],
      "source": [
        "my_cb = callbacks.EarlyStopping(\n",
        "    patience=20,\n",
        "    restore_best_weights=True)"
      ],
      "id": "0c044c9d-2671-4a0a-8021-6d77af14d288"
    },
    {
      "cell_type": "code",
      "execution_count": null,
      "metadata": {
        "id": "0ae7e931-7236-4aca-8653-308b87bcc080"
      },
      "outputs": [],
      "source": [
        "my_history = my_model.fit(\n",
        "    x=X,\n",
        "    y=y,\n",
        "    validation_split=0.25,\n",
        "    batch_size=10,\n",
        "    epochs=500,\n",
        "    callbacks=[my_cb],\n",
        "    verbose=0)"
      ],
      "id": "0ae7e931-7236-4aca-8653-308b87bcc080"
    },
    {
      "cell_type": "code",
      "execution_count": null,
      "metadata": {
        "id": "a14999f8-c01f-4974-9eb0-3484290d244a"
      },
      "outputs": [],
      "source": [
        "tmp = pd.DataFrame(my_history.history)\n",
        "tmp.plot(xlabel='epoch')"
      ],
      "id": "a14999f8-c01f-4974-9eb0-3484290d244a"
    },
    {
      "cell_type": "code",
      "execution_count": null,
      "metadata": {
        "id": "482dfc84-1c69-45b7-bbec-0877c5a31be0"
      },
      "outputs": [],
      "source": [
        "tmp.iloc[-1, ]"
      ],
      "id": "482dfc84-1c69-45b7-bbec-0877c5a31be0"
    },
    {
      "cell_type": "code",
      "execution_count": null,
      "metadata": {
        "id": "f0b3de6d-0b30-44a2-b418-92746cb8c2c2"
      },
      "outputs": [],
      "source": [
        "y_ = my_model.predict(X)\n",
        "((y_.ravel() - y)**2).mean()"
      ],
      "id": "f0b3de6d-0b30-44a2-b418-92746cb8c2c2"
    },
    {
      "id": "017b2464",
      "cell_type": "markdown",
      "source": [
        "## 11.2 Kerasによる分類"
      ],
      "metadata": {
        "id": "017b2464"
      }
    },
    {
      "cell_type": "code",
      "execution_count": null,
      "metadata": {
        "id": "82da5e7c-145c-4955-8d7f-408cdabca81b"
      },
      "outputs": [],
      "source": [
        "import numpy as np\n",
        "import pandas as pd\n",
        "import statsmodels.api as sm\n",
        "from keras import callbacks, layers, losses, models\n",
        "from sklearn.preprocessing import StandardScaler, LabelEncoder\n",
        "from sklearn.utils import shuffle\n",
        "\n",
        "tmp = sm.datasets.get_rdataset('iris', 'datasets').data\n",
        "my_data = shuffle(tmp)"
      ],
      "id": "82da5e7c-145c-4955-8d7f-408cdabca81b"
    },
    {
      "cell_type": "code",
      "execution_count": null,
      "metadata": {
        "id": "ae52afb5-f2c8-4c44-ace3-5599b33a10d8"
      },
      "outputs": [],
      "source": [
        "my_scaler = StandardScaler()\n",
        "X = my_scaler.fit_transform(\n",
        "    my_data.drop(columns=['Species']))\n",
        "my_enc = LabelEncoder()\n",
        "y = my_enc.fit_transform(\n",
        "    my_data['Species'])"
      ],
      "id": "ae52afb5-f2c8-4c44-ace3-5599b33a10d8"
    },
    {
      "cell_type": "code",
      "execution_count": null,
      "metadata": {
        "id": "39e431b2-99c2-4bf9-bb16-b7f297aa230b"
      },
      "outputs": [],
      "source": [
        "my_model = models.Sequential()\n",
        "my_model.add(layers.Dense(units=3, activation='relu', input_shape=[4]))\n",
        "my_model.add(layers.Dense(units=3, activation='softmax'))"
      ],
      "id": "39e431b2-99c2-4bf9-bb16-b7f297aa230b"
    },
    {
      "cell_type": "code",
      "execution_count": null,
      "metadata": {
        "id": "25e2ec6e-ad75-4942-a9e5-2ec1e06eb635"
      },
      "outputs": [],
      "source": [
        "my_model.compile(loss='sparse_categorical_crossentropy',\n",
        "                 optimizer='rmsprop',\n",
        "                 metrics=['accuracy'])"
      ],
      "id": "25e2ec6e-ad75-4942-a9e5-2ec1e06eb635"
    },
    {
      "cell_type": "code",
      "execution_count": null,
      "metadata": {
        "id": "f05ddd28-af71-46bd-8ecb-0a2c10a20aaa"
      },
      "outputs": [],
      "source": [
        "my_cb = callbacks.EarlyStopping(\n",
        "    patience=20,\n",
        "    restore_best_weights=True)\n",
        "\n",
        "my_history = my_model.fit(\n",
        "    x=X,\n",
        "    y=y,\n",
        "    validation_split=0.25,\n",
        "    batch_size=10,\n",
        "    epochs=500,\n",
        "    callbacks=[my_cb],\n",
        "    verbose=0)\n",
        "\n",
        "tmp = pd.DataFrame(my_history.history)\n",
        "tmp.plot(xlabel='epoch')"
      ],
      "id": "f05ddd28-af71-46bd-8ecb-0a2c10a20aaa"
    },
    {
      "cell_type": "code",
      "execution_count": null,
      "metadata": {
        "id": "ec8b893d-cfc0-4c41-a0e6-2f0c700afee7"
      },
      "outputs": [],
      "source": [
        "tmp.iloc[-1, ]"
      ],
      "id": "ec8b893d-cfc0-4c41-a0e6-2f0c700afee7"
    },
    {
      "cell_type": "code",
      "execution_count": null,
      "metadata": {
        "id": "e1021dbe-5d78-4e5e-ba6a-392836204066"
      },
      "outputs": [],
      "source": [
        "tmp = my_model.predict(X)\n",
        "y_ = np.argmax(tmp, axis=-1)\n",
        "(y_ == y).mean()"
      ],
      "id": "e1021dbe-5d78-4e5e-ba6a-392836204066"
    },
    {
      "cell_type": "code",
      "execution_count": null,
      "metadata": {
        "id": "27e278a8-758b-4948-aee4-098d6c3d19cf"
      },
      "outputs": [],
      "source": [
        "-np.log([0.8, 0.7, 0.3, 0.8]).mean()\n",
        "\n",
        "-np.log([0.7, 0.6, 0.2, 0.7]).mean()"
      ],
      "id": "27e278a8-758b-4948-aee4-098d6c3d19cf"
    },
    {
      "cell_type": "code",
      "execution_count": null,
      "metadata": {
        "id": "c6e00327-d653-43e4-a649-e15d9a4114eb"
      },
      "outputs": [],
      "source": [
        "y = [2, 1, 0, 1]\n",
        "y_1 = [[0.1, 0.1, 0.8],\n",
        "       [0.1, 0.7, 0.2],\n",
        "       [0.3, 0.4, 0.3],\n",
        "       [0.1, 0.8, 0.1]]\n",
        "y_2 = [[0.1, 0.2, 0.7],\n",
        "       [0.2, 0.6, 0.2],\n",
        "       [0.2, 0.5, 0.3],\n",
        "       [0.2, 0.7, 0.1]]"
      ],
      "id": "c6e00327-d653-43e4-a649-e15d9a4114eb"
    },
    {
      "cell_type": "code",
      "execution_count": null,
      "metadata": {
        "id": "60508eac-b603-4ea8-90df-0c7c46c57bc3"
      },
      "outputs": [],
      "source": [
        "[losses.sparse_categorical_crossentropy(y_true=y, y_pred=y_1).numpy().mean(),\n",
        " losses.sparse_categorical_crossentropy(y_true=y, y_pred=y_2).numpy().mean()]"
      ],
      "id": "60508eac-b603-4ea8-90df-0c7c46c57bc3"
    },
    {
      "id": "c55ec9d2",
      "cell_type": "markdown",
      "source": [
        "## 11.3 MNIST：手書き数字の分類"
      ],
      "metadata": {
        "id": "c55ec9d2"
      }
    },
    {
      "cell_type": "code",
      "execution_count": null,
      "metadata": {
        "id": "553d49f6-6b4e-481d-9996-378c75732c96"
      },
      "outputs": [],
      "source": [
        "import matplotlib.pyplot as plt\n",
        "import numpy as np\n",
        "import pandas as pd\n",
        "import tensorflow as tf\n",
        "from random import sample\n",
        "from keras import callbacks, layers, models\n",
        "from sklearn.metrics import confusion_matrix\n",
        "\n",
        "(x_train, y_train), (x_test, y_test) = tf.keras.datasets.mnist.load_data()"
      ],
      "id": "553d49f6-6b4e-481d-9996-378c75732c96"
    },
    {
      "cell_type": "code",
      "execution_count": null,
      "metadata": {
        "id": "c7bff700-3dd8-4d9b-b728-2772321cb936"
      },
      "outputs": [],
      "source": [
        "x_train.shape"
      ],
      "id": "c7bff700-3dd8-4d9b-b728-2772321cb936"
    },
    {
      "cell_type": "code",
      "execution_count": null,
      "metadata": {
        "id": "5b7ab1d6-8913-4909-b93d-d4d76ee2a2b2"
      },
      "outputs": [],
      "source": [
        "np.set_printoptions(linewidth=170)\n",
        "x_train[4, :, :]"
      ],
      "id": "5b7ab1d6-8913-4909-b93d-d4d76ee2a2b2"
    },
    {
      "cell_type": "code",
      "execution_count": null,
      "metadata": {
        "id": "c13de290-5d2d-41bd-955f-a5563b26fa4c"
      },
      "outputs": [],
      "source": [
        "plt.matshow(x_train[4, :, :])"
      ],
      "id": "c13de290-5d2d-41bd-955f-a5563b26fa4c"
    },
    {
      "cell_type": "code",
      "execution_count": null,
      "metadata": {
        "id": "31264ee9-ff3a-4fe2-bab6-d3207bed43f5"
      },
      "outputs": [],
      "source": [
        "y_train"
      ],
      "id": "31264ee9-ff3a-4fe2-bab6-d3207bed43f5"
    },
    {
      "cell_type": "code",
      "execution_count": null,
      "metadata": {
        "id": "11352bc9-6882-4b04-981e-1494629edf2c"
      },
      "outputs": [],
      "source": [
        "x_train.min(), x_train.max()"
      ],
      "id": "11352bc9-6882-4b04-981e-1494629edf2c"
    },
    {
      "cell_type": "code",
      "execution_count": null,
      "metadata": {
        "id": "64360395-f487-4058-ba79-4057f60b71d7"
      },
      "outputs": [],
      "source": [
        "x_train = x_train / 255\n",
        "x_test  = x_test  / 255"
      ],
      "id": "64360395-f487-4058-ba79-4057f60b71d7"
    },
    {
      "cell_type": "code",
      "execution_count": null,
      "metadata": {
        "id": "3cbbf30a-0934-4c03-89e0-be77866fd6b4"
      },
      "outputs": [],
      "source": [
        "my_index = sample(range(60000), 6000)\n",
        "x_train = x_train[my_index, :, :]\n",
        "y_train = y_train[my_index]"
      ],
      "id": "3cbbf30a-0934-4c03-89e0-be77866fd6b4"
    },
    {
      "cell_type": "code",
      "execution_count": null,
      "metadata": {
        "id": "f9c7f968-c5ad-41d4-a52b-4f3af3059748"
      },
      "outputs": [],
      "source": [
        "my_model = models.Sequential()\n",
        "my_model.add(layers.Flatten(input_shape=[28, 28]))\n",
        "my_model.add(layers.Dense(units=256, activation=\"relu\"))\n",
        "my_model.add(layers.Dense(units=10, activation=\"softmax\"))\n",
        "\n",
        "my_model.summary()\n",
        "\n",
        "my_model.compile(loss='sparse_categorical_crossentropy',\n",
        "                 optimizer='rmsprop',\n",
        "                 metrics=['accuracy'])\n",
        "\n",
        "my_cb = callbacks.EarlyStopping(patience=5, restore_best_weights=True)"
      ],
      "id": "f9c7f968-c5ad-41d4-a52b-4f3af3059748"
    },
    {
      "cell_type": "code",
      "execution_count": null,
      "metadata": {
        "id": "e02f1c62-b5d8-492a-95a2-7e71c76cc857"
      },
      "outputs": [],
      "source": [
        "my_history = my_model.fit(\n",
        "    x=x_train,\n",
        "    y=y_train,\n",
        "    validation_split=0.2,\n",
        "    batch_size=128,\n",
        "    epochs=20,\n",
        "    callbacks=[my_cb],\n",
        "    verbose=0)\n",
        "\n",
        "tmp = pd.DataFrame(my_history.history)\n",
        "tmp.plot(xlabel='epoch', style='o-')"
      ],
      "id": "e02f1c62-b5d8-492a-95a2-7e71c76cc857"
    },
    {
      "cell_type": "code",
      "execution_count": null,
      "metadata": {
        "id": "384ccb27-1696-4d16-881b-be94186cdfe5"
      },
      "outputs": [],
      "source": [
        "tmp = my_model.predict(x_test)\n",
        "y_ = np.argmax(tmp, axis=-1)\n",
        "confusion_matrix(y_true=y_test,\n",
        "                 y_pred=y_)"
      ],
      "id": "384ccb27-1696-4d16-881b-be94186cdfe5"
    },
    {
      "cell_type": "code",
      "execution_count": null,
      "metadata": {
        "id": "4ae08c22-2f2c-49e9-8db5-256872e58f0c"
      },
      "outputs": [],
      "source": [],
      "id": "4ae08c22-2f2c-49e9-8db5-256872e58f0c"
    },
    {
      "cell_type": "code",
      "execution_count": null,
      "metadata": {
        "id": "1cf28966-abb4-4e5a-adcf-8a1d5ae3b3ad"
      },
      "outputs": [],
      "source": [
        "(y_ == y_test).mean()"
      ],
      "id": "1cf28966-abb4-4e5a-adcf-8a1d5ae3b3ad"
    },
    {
      "cell_type": "code",
      "execution_count": null,
      "metadata": {
        "id": "83dca02f-df54-4a55-9305-f0ade9ee864c"
      },
      "outputs": [],
      "source": [
        "my_model.evaluate(x=x_test, y=y_test)"
      ],
      "id": "83dca02f-df54-4a55-9305-f0ade9ee864c"
    },
    {
      "cell_type": "code",
      "execution_count": null,
      "metadata": {
        "id": "61ceaf9b-8717-4785-9ae1-3529a3fcc3ce"
      },
      "outputs": [],
      "source": [
        "x_train2d = x_train.reshape(-1, 28, 28, 1)\n",
        "x_test2d = x_test.reshape(-1, 28, 28, 1)"
      ],
      "id": "61ceaf9b-8717-4785-9ae1-3529a3fcc3ce"
    },
    {
      "cell_type": "code",
      "execution_count": null,
      "metadata": {
        "id": "fe1ef074-fccb-48d7-9f97-e49eda7b7496"
      },
      "outputs": [],
      "source": [
        "my_model = models.Sequential()\n",
        "my_model.add(layers.Conv2D(filters=32, kernel_size=3, # 畳み込み層\n",
        "                           activation='relu',\n",
        "                           input_shape=[28, 28, 1]))\n",
        "my_model.add(layers.MaxPooling2D(pool_size=2))        # プーリング層\n",
        "my_model.add(layers.Flatten())\n",
        "my_model.add(layers.Dense(128, activation='relu'))\n",
        "my_model.add(layers.Dense(10, activation='softmax'))\n",
        "\n",
        "my_model.summary()\n",
        "\n",
        "my_model.compile(loss='sparse_categorical_crossentropy',\n",
        "                 optimizer='rmsprop',\n",
        "                 metrics=['accuracy'])\n",
        "\n",
        "from keras.callbacks import EarlyStopping\n",
        "my_cb = EarlyStopping(patience=5,\n",
        "                      restore_best_weights=True)"
      ],
      "id": "fe1ef074-fccb-48d7-9f97-e49eda7b7496"
    },
    {
      "cell_type": "code",
      "execution_count": null,
      "metadata": {
        "id": "5631fb90-8ea6-4648-a8c2-7436ae6349b0"
      },
      "outputs": [],
      "source": [
        "my_history = my_model.fit(\n",
        "    x=x_train2d,\n",
        "    y=y_train,\n",
        "    validation_split=0.2,\n",
        "    batch_size=128,\n",
        "    epochs=20,\n",
        "    callbacks=my_cb,\n",
        "    verbose=0)\n",
        "\n",
        "tmp = pd.DataFrame(my_history.history)\n",
        "tmp.plot(xlabel='epoch', style='o-')"
      ],
      "id": "5631fb90-8ea6-4648-a8c2-7436ae6349b0"
    },
    {
      "cell_type": "code",
      "execution_count": null,
      "metadata": {
        "id": "6502ba1b-8676-4d0d-84f8-b02b11a29ba7"
      },
      "outputs": [],
      "source": [
        "my_model.evaluate(x=x_test2d, y=y_test)"
      ],
      "id": "6502ba1b-8676-4d0d-84f8-b02b11a29ba7"
    },
    {
      "cell_type": "code",
      "execution_count": null,
      "metadata": {
        "id": "2a3f2932-9637-40a7-a563-cb31a9cbb207"
      },
      "outputs": [],
      "source": [
        "my_model = models.Sequential()\n",
        "my_model.add(layers.Conv2D(filters=20, kernel_size=5, activation='relu',\n",
        "                           input_shape=(28, 28, 1)))\n",
        "my_model.add(layers.MaxPooling2D(pool_size=2, strides=2))\n",
        "my_model.add(layers.Conv2D(filters=20, kernel_size=5, activation='relu'))\n",
        "my_model.add(layers.MaxPooling2D(pool_size=2, strides=2))\n",
        "my_model.add(layers.Dropout(rate=0.25))\n",
        "my_model.add(layers.Flatten())\n",
        "my_model.add(layers.Dense(500, activation='relu'))\n",
        "my_model.add(layers.Dropout(rate=0.5))\n",
        "my_model.add(layers.Dense(10, activation='softmax'))\n",
        "\n",
        "my_model.compile(loss='sparse_categorical_crossentropy',\n",
        "                 optimizer='rmsprop',\n",
        "                 metrics=['accuracy'])\n",
        "\n",
        "my_cb = callbacks.EarlyStopping(patience=5,\n",
        "                                restore_best_weights=True)"
      ],
      "id": "2a3f2932-9637-40a7-a563-cb31a9cbb207"
    },
    {
      "cell_type": "code",
      "execution_count": null,
      "metadata": {
        "id": "ca8bf984-35ab-4259-a684-5891fc69eae7"
      },
      "outputs": [],
      "source": [
        "my_history = my_model.fit(\n",
        "    x=x_train2d,\n",
        "    y=y_train,\n",
        "    validation_split=0.2,\n",
        "    batch_size=128,\n",
        "    epochs=20,\n",
        "    callbacks=my_cb,\n",
        "    verbose=0)\n",
        "\n",
        "tmp = pd.DataFrame(my_history.history)\n",
        "tmp.plot(xlabel='epoch', style='o-')"
      ],
      "id": "ca8bf984-35ab-4259-a684-5891fc69eae7"
    },
    {
      "cell_type": "code",
      "execution_count": null,
      "metadata": {
        "id": "20e7efa8-ffdf-4f22-9612-c8ef2612f7b3"
      },
      "outputs": [],
      "source": [
        "my_model.evaluate(x=x_test2d, y=y_test)"
      ],
      "id": "20e7efa8-ffdf-4f22-9612-c8ef2612f7b3"
    },
    {
      "cell_type": "code",
      "execution_count": null,
      "metadata": {
        "id": "6cbad710-9d99-43a8-a285-968255d740eb"
      },
      "outputs": [],
      "source": [
        "y_prob = my_model.predict(x_test2d)                    # カテゴリに属する確率\n",
        "\n",
        "tmp = pd.DataFrame({\n",
        "    'y_prob': np.max(y_prob, axis=1),                  # 確率の最大値\n",
        "    'y_': np.argmax(y_prob, axis=1),                   # 予測カテゴリ\n",
        "    'y': y_test,                                       # 正解\n",
        "    'id': range(len(y_test))})                         # 番号\n",
        "\n",
        "tmp = tmp[tmp.y_ != tmp.y]                             # 予測がはずれたものを残す\n",
        "my_result = tmp.sort_values('y_prob', ascending=False) # 確率の大きい順に並び替える"
      ],
      "id": "6cbad710-9d99-43a8-a285-968255d740eb"
    },
    {
      "cell_type": "code",
      "execution_count": null,
      "metadata": {
        "id": "2be0b01c-1495-40c7-aa13-1ed26b0a82af"
      },
      "outputs": [],
      "source": [
        "my_result.head()"
      ],
      "id": "2be0b01c-1495-40c7-aa13-1ed26b0a82af"
    },
    {
      "cell_type": "code",
      "execution_count": null,
      "metadata": {
        "id": "15d83277-bd7b-4e38-93e9-545e6b2969e9"
      },
      "outputs": [],
      "source": [
        "for i in range(5):\n",
        "    plt.subplot(1, 5, i + 1)\n",
        "    ans = my_result['y'].iloc[i]\n",
        "    id = my_result['id'].iloc[i]\n",
        "    plt.title(f'{ans} ({id})')\n",
        "    plt.imshow(x_test[id])\n",
        "    plt.axis('off')"
      ],
      "id": "15d83277-bd7b-4e38-93e9-545e6b2969e9"
    },
    {
      "id": "a57b21b1",
      "cell_type": "markdown",
      "source": [
        "## 11.4 AutoML"
      ],
      "metadata": {
        "id": "a57b21b1"
      }
    },
    {
      "cell_type": "code",
      "execution_count": null,
      "metadata": {
        "id": "2bf124f7-b1fa-4d3d-b577-be5b2e56795e"
      },
      "outputs": [],
      "source": [
        "import h2o\n",
        "import pandas as pd\n",
        "import tensorflow as tf\n",
        "from h2o.automl import H2OAutoML\n",
        "from random import sample\n",
        "\n",
        "h2o.init()\n",
        "h2o.no_progress()\n",
        "# h2o.cluster().shutdown() # 停止"
      ],
      "id": "2bf124f7-b1fa-4d3d-b577-be5b2e56795e"
    },
    {
      "cell_type": "code",
      "execution_count": null,
      "metadata": {
        "id": "8d965e92-0dc3-4e0a-9922-1a75be61bb94"
      },
      "outputs": [],
      "source": [
        "my_url = ('https://raw.githubusercontent.com/taroyabuki'\n",
        "          '/fromzero/master/data/wine.csv')\n",
        "my_data = pd.read_csv(my_url)\n",
        "my_frame = h2o.H2OFrame(my_data) # 通常のデータフレームをH2OFrameに変換する．\n",
        "# あるいは\n",
        "my_frame = h2o.import_file(my_url, header=1) # データを読み込む．"
      ],
      "id": "8d965e92-0dc3-4e0a-9922-1a75be61bb94"
    },
    {
      "cell_type": "code",
      "execution_count": null,
      "metadata": {
        "id": "9d876765-bc29-4aa0-bc87-feb3597d0dac"
      },
      "outputs": [],
      "source": [
        "my_frame.head(5)\n",
        "\n",
        "# 通常のデータフレームに戻す．\n",
        "h2o.as_list(my_frame).head()\n",
        "# 結果は割愛（見た目は同じ）"
      ],
      "id": "9d876765-bc29-4aa0-bc87-feb3597d0dac"
    },
    {
      "cell_type": "code",
      "execution_count": null,
      "metadata": {
        "id": "356cc0ec-8b69-4d42-8ca5-fc3bbb8f298b"
      },
      "outputs": [],
      "source": [
        "my_model = H2OAutoML(\n",
        "    max_runtime_secs=60)\n",
        "my_model.train(\n",
        "    y='LPRICE2',\n",
        "    training_frame=my_frame)"
      ],
      "id": "356cc0ec-8b69-4d42-8ca5-fc3bbb8f298b"
    },
    {
      "cell_type": "code",
      "execution_count": null,
      "metadata": {
        "id": "d0928bd9-b54a-4197-9c40-ccbd9c4dcf66"
      },
      "outputs": [],
      "source": [
        "my_model.leaderboard['rmse'].min()"
      ],
      "id": "d0928bd9-b54a-4197-9c40-ccbd9c4dcf66"
    },
    {
      "cell_type": "code",
      "execution_count": null,
      "metadata": {
        "id": "a552fb49-57e9-4ac7-a91b-547858ef7f91"
      },
      "outputs": [],
      "source": [
        "tmp = h2o.as_list(\n",
        "    my_model.predict(my_frame))\n",
        "\n",
        "pd.DataFrame({\n",
        "    'y': my_data['LPRICE2'],\n",
        "    'y_': tmp['predict']}\n",
        ").plot('y', 'y_', kind='scatter')"
      ],
      "id": "a552fb49-57e9-4ac7-a91b-547858ef7f91"
    },
    {
      "cell_type": "code",
      "execution_count": null,
      "metadata": {
        "id": "e3454a56-82be-48fa-9543-5050a672df34"
      },
      "outputs": [],
      "source": [
        "(x_train, y_train), (x_test, y_test) = tf.keras.datasets.mnist.load_data()\n",
        "my_index = sample(range(60000), 6000)\n",
        "x_train = x_train[my_index, :, :]\n",
        "y_train = y_train[my_index]"
      ],
      "id": "e3454a56-82be-48fa-9543-5050a672df34"
    },
    {
      "cell_type": "code",
      "execution_count": null,
      "metadata": {
        "id": "19d626a3-4d6f-4b80-8eb7-c6cb18046744"
      },
      "outputs": [],
      "source": [
        "tmp = pd.DataFrame(\n",
        "    x_train.reshape(-1, 28 * 28))\n",
        "y = 'y'\n",
        "tmp[y] = y_train\n",
        "my_train = h2o.H2OFrame(tmp)\n",
        "my_train[y] = my_train[y].asfactor()\n",
        "\n",
        "tmp = pd.DataFrame(\n",
        "    x_test.reshape(-1, 28 * 28))\n",
        "my_test = h2o.H2OFrame(tmp)"
      ],
      "id": "19d626a3-4d6f-4b80-8eb7-c6cb18046744"
    },
    {
      "cell_type": "code",
      "execution_count": null,
      "metadata": {
        "id": "06c1189e-43f5-4485-9101-ea89c23dc7ce"
      },
      "outputs": [],
      "source": [
        "my_model = H2OAutoML(\n",
        "    max_runtime_secs=120)\n",
        "my_model.train(\n",
        "    y=y,\n",
        "    training_frame=my_train)"
      ],
      "id": "06c1189e-43f5-4485-9101-ea89c23dc7ce"
    },
    {
      "cell_type": "code",
      "execution_count": null,
      "metadata": {
        "id": "8140aea1-70b4-45b0-ace3-f2f6f077280b"
      },
      "outputs": [],
      "source": [
        "my_model.leaderboard[\n",
        "    'mean_per_class_error'].min()"
      ],
      "id": "8140aea1-70b4-45b0-ace3-f2f6f077280b"
    },
    {
      "cell_type": "code",
      "execution_count": null,
      "metadata": {
        "id": "a7c42f4d-4fd0-4705-ab87-336a24ac9add"
      },
      "outputs": [],
      "source": [
        "tmp = h2o.as_list(\n",
        "    my_model.predict(my_test))\n",
        "y_ = tmp.predict\n",
        "\n",
        "(y_ == y_test).mean()"
      ],
      "id": "a7c42f4d-4fd0-4705-ab87-336a24ac9add"
    },
    {
      "id": "e77c87bc",
      "cell_type": "markdown",
      "source": [
        "# 12 時系列予測\n",
        "\n",
        "\n"
      ],
      "metadata": {
        "id": "e77c87bc"
      }
    },
    {
      "id": "7f015d80",
      "cell_type": "markdown",
      "source": [
        "## 12.1 日時と日時の列"
      ],
      "metadata": {
        "id": "7f015d80"
      }
    },
    {
      "cell_type": "code",
      "execution_count": null,
      "metadata": {
        "id": "b50213b6-9452-48ed-a968-d1c71131ea35"
      },
      "outputs": [],
      "source": [
        "import pandas as pd\n",
        "pd.to_datetime('2020-01-01')"
      ],
      "id": "b50213b6-9452-48ed-a968-d1c71131ea35"
    },
    {
      "cell_type": "code",
      "execution_count": null,
      "metadata": {
        "id": "083cf32f-fe6c-479d-b7ce-823f1401c907"
      },
      "outputs": [],
      "source": [
        "pd.date_range(start='2021-01-01', end='2023-01-01', freq='1A')\n",
        "\n",
        "pd.date_range(start='2021-01-01', end='2023-01-01', freq='1AS')\n",
        "\n",
        "pd.date_range(start='2021-01-01', end='2021-03-01', freq='2M')\n",
        "\n",
        "pd.date_range(start='2021-01-01', end='2021-03-01', freq='2MS')\n",
        "\n",
        "pd.date_range(start='2021-01-01', end='2021-01-03', freq='1D')\n",
        "\n",
        "pd.date_range(start='2021-01-01 00:00:00', end='2021-01-01 03:00:00', freq='2H')"
      ],
      "id": "083cf32f-fe6c-479d-b7ce-823f1401c907"
    },
    {
      "id": "10db1deb",
      "cell_type": "markdown",
      "source": [
        "## 12.2 時系列データの予測"
      ],
      "metadata": {
        "id": "10db1deb"
      }
    },
    {
      "cell_type": "code",
      "execution_count": null,
      "metadata": {
        "id": "f2bc1694-509e-40fa-be55-7bdadc4d1bd1"
      },
      "outputs": [],
      "source": [
        "import matplotlib.pyplot as plt\n",
        "import pandas as pd\n",
        "from pmdarima.datasets import airpassengers\n",
        "from sklearn.metrics import mean_squared_error\n",
        "\n",
        "my_data = airpassengers.load_airpassengers()"
      ],
      "id": "f2bc1694-509e-40fa-be55-7bdadc4d1bd1"
    },
    {
      "cell_type": "code",
      "execution_count": null,
      "metadata": {
        "id": "79c1e3bf-7264-45bf-ab7a-b2df86e9645d"
      },
      "outputs": [],
      "source": [
        "n = len(my_data) # データ数（144）\n",
        "k = 108          # 訓練データ数"
      ],
      "id": "79c1e3bf-7264-45bf-ab7a-b2df86e9645d"
    },
    {
      "cell_type": "code",
      "execution_count": null,
      "metadata": {
        "id": "37fd08e5-f068-4e3f-8270-2285a9820965"
      },
      "outputs": [],
      "source": [
        "my_ds = pd.date_range(\n",
        "    start='1949/01/01',\n",
        "    end='1960/12/01',\n",
        "    freq='MS')\n",
        "my_df = pd.DataFrame({\n",
        "    'ds': my_ds,\n",
        "    'x': range(n),\n",
        "    'y': my_data},\n",
        "    index=my_ds)\n",
        "my_df.head()"
      ],
      "id": "37fd08e5-f068-4e3f-8270-2285a9820965"
    },
    {
      "cell_type": "code",
      "execution_count": null,
      "metadata": {
        "id": "0744e455-964b-484e-b6ec-fd0d92f1d169"
      },
      "outputs": [],
      "source": [
        "my_train = my_df[        :k]\n",
        "my_test  = my_df[-(n - k): ]\n",
        "y = my_test.y"
      ],
      "id": "0744e455-964b-484e-b6ec-fd0d92f1d169"
    },
    {
      "cell_type": "code",
      "execution_count": null,
      "metadata": {
        "id": "77bcc42d-05b2-42f0-950d-148ff2881538"
      },
      "outputs": [],
      "source": [
        "plt.plot(my_train.y, label='train')\n",
        "plt.plot(my_test.y,  label='test')\n",
        "plt.legend()"
      ],
      "id": "77bcc42d-05b2-42f0-950d-148ff2881538"
    },
    {
      "cell_type": "code",
      "execution_count": null,
      "metadata": {
        "id": "43b1b5b2-9219-48fc-bf74-e3baa1e647b1"
      },
      "outputs": [],
      "source": [
        "from sklearn.linear_model import LinearRegression\n",
        "\n",
        "my_lm_model = LinearRegression()\n",
        "my_lm_model.fit(my_train[['x']], my_train.y)\n",
        "\n",
        "X = my_test[['x']]\n",
        "y_ = my_lm_model.predict(X)\n",
        "mean_squared_error(y, y_)**0.5 # RMSE（テスト）"
      ],
      "id": "43b1b5b2-9219-48fc-bf74-e3baa1e647b1"
    },
    {
      "cell_type": "code",
      "execution_count": null,
      "metadata": {
        "id": "5591dab8-be0e-4617-ae8d-687ce1f68db8"
      },
      "outputs": [],
      "source": [
        "y_ = my_lm_model.predict(my_df[['x']])\n",
        "tmp = pd.DataFrame(y_,\n",
        "                   index=my_df.index)\n",
        "plt.plot(my_train.y, label='train')\n",
        "plt.plot(my_test.y,  label='test')\n",
        "plt.plot(tmp, label='model')\n",
        "plt.legend()"
      ],
      "id": "5591dab8-be0e-4617-ae8d-687ce1f68db8"
    },
    {
      "cell_type": "code",
      "execution_count": null,
      "metadata": {
        "id": "c5b9a9e6-dd2c-4726-89ca-f516f5a05d16"
      },
      "outputs": [],
      "source": [
        "import pmdarima as pm\n",
        "my_arima_model = pm.auto_arima(my_train.y, m=12, trace=True)"
      ],
      "id": "c5b9a9e6-dd2c-4726-89ca-f516f5a05d16"
    },
    {
      "cell_type": "code",
      "execution_count": null,
      "metadata": {
        "id": "4b8fb079-6333-4925-8305-0ad4a050f6d7"
      },
      "outputs": [],
      "source": [
        "y_, my_ci = my_arima_model.predict(len(my_test),         # 期間はテストデータと同じ．\n",
        "                                   alpha=0.05,           # 有意水準（デフォルト）\n",
        "                                   return_conf_int=True) # 信頼区間を求める．\n",
        "tmp = pd.DataFrame({'y': y_,\n",
        "                    'Lo': my_ci[:, 0],\n",
        "                    'Hi': my_ci[:, 1]},\n",
        "                   index=my_test.index)\n",
        "tmp.head()"
      ],
      "id": "4b8fb079-6333-4925-8305-0ad4a050f6d7"
    },
    {
      "cell_type": "code",
      "execution_count": null,
      "metadata": {
        "id": "309aa38b-6bb4-4805-b020-04c7f704b4c0"
      },
      "outputs": [],
      "source": [
        "mean_squared_error(y, y_)**0.5"
      ],
      "id": "309aa38b-6bb4-4805-b020-04c7f704b4c0"
    },
    {
      "cell_type": "code",
      "execution_count": null,
      "metadata": {
        "id": "0afc735c-f7f2-4823-9eba-f9b879cc375a"
      },
      "outputs": [],
      "source": [
        "plt.plot(my_train.y, label='train')\n",
        "plt.plot(my_test.y,  label='test')\n",
        "plt.plot(tmp.y,      label='model')\n",
        "plt.fill_between(tmp.index,\n",
        "                 tmp.Lo,\n",
        "                 tmp.Hi,\n",
        "                 alpha=0.25) # 不透明度\n",
        "plt.legend(loc='upper left')"
      ],
      "id": "0afc735c-f7f2-4823-9eba-f9b879cc375a"
    },
    {
      "cell_type": "code",
      "execution_count": null,
      "metadata": {
        "id": "4a2fb469-a6bf-406c-842f-31a28a34892f"
      },
      "outputs": [],
      "source": [
        "try: from fbprophet import Prophet\n",
        "except ImportError: from prophet import Prophet\n",
        "my_prophet_model = Prophet(seasonality_mode='multiplicative')\n",
        "my_prophet_model.fit(my_train)"
      ],
      "id": "4a2fb469-a6bf-406c-842f-31a28a34892f"
    },
    {
      "cell_type": "code",
      "execution_count": null,
      "metadata": {
        "id": "77e457f4-fef9-4c6a-b053-7448f3fef9a2"
      },
      "outputs": [],
      "source": [
        "tmp = my_prophet_model.predict(my_test)\n",
        "tmp[['ds', 'yhat', 'yhat_lower', 'yhat_upper']].head()"
      ],
      "id": "77e457f4-fef9-4c6a-b053-7448f3fef9a2"
    },
    {
      "cell_type": "code",
      "execution_count": null,
      "metadata": {
        "id": "4b8f76c1-db1d-4f56-bf42-64af80196864"
      },
      "outputs": [],
      "source": [
        "y_ = tmp.yhat\n",
        "mean_squared_error(y, y_)**0.5"
      ],
      "id": "4b8f76c1-db1d-4f56-bf42-64af80196864"
    },
    {
      "cell_type": "code",
      "execution_count": null,
      "metadata": {
        "id": "17332d01-00a3-4b30-898f-a12e1ebfacc5"
      },
      "outputs": [],
      "source": [
        "# my_prophet_model.plot(tmp) # 予測結果のみでよい場合\n",
        "\n",
        "fig = my_prophet_model.plot(tmp)\n",
        "fig.axes[0].plot(my_train.ds, my_train.y)\n",
        "fig.axes[0].plot(my_test.ds, my_test.y, color='red')"
      ],
      "id": "17332d01-00a3-4b30-898f-a12e1ebfacc5"
    },
    {
      "id": "717311b4",
      "cell_type": "markdown",
      "source": [
        "# 13 教師なし学習\n",
        "\n",
        "\n"
      ],
      "metadata": {
        "id": "717311b4"
      }
    },
    {
      "id": "df2103ad",
      "cell_type": "markdown",
      "source": [
        "## 13.1 主成分分析"
      ],
      "metadata": {
        "id": "df2103ad"
      }
    },
    {
      "cell_type": "code",
      "execution_count": null,
      "metadata": {
        "id": "5cabd91e-0754-45f7-850e-c7bb1c2bc407"
      },
      "outputs": [],
      "source": [
        "import numpy as np\n",
        "import pandas as pd\n",
        "from pca import pca\n",
        "from scipy.stats import zscore\n",
        "\n",
        "my_data = pd.DataFrame(\n",
        "    {'language': [  0,  20,  20,  25,  22,  17],\n",
        "     'english':  [  0,  20,  40,  20,  24,  18],\n",
        "     'math':     [100,  20,   5,  30,  17,  25],\n",
        "     'science':  [  0,  20,   5,  25,  16,  23],\n",
        "     'society':  [  0,  20,  30,   0,  21,  17]},\n",
        "    index=       ['A', 'B', 'C', 'D', 'E', 'F'])\n",
        "my_model = pca(n_components=5)\n",
        "my_result = my_model.fit_transform(my_data) # 主成分分析の実行"
      ],
      "id": "5cabd91e-0754-45f7-850e-c7bb1c2bc407"
    },
    {
      "cell_type": "code",
      "execution_count": null,
      "metadata": {
        "id": "c0120e62-a143-426f-a22f-94288b09505d"
      },
      "outputs": [],
      "source": [
        "my_result['PC'] # 主成分スコア"
      ],
      "id": "c0120e62-a143-426f-a22f-94288b09505d"
    },
    {
      "cell_type": "code",
      "execution_count": null,
      "metadata": {
        "id": "c4e68c23-abc9-4bdd-92ba-46a956a4fa12"
      },
      "outputs": [],
      "source": [
        "my_model.biplot(legend=False)"
      ],
      "id": "c4e68c23-abc9-4bdd-92ba-46a956a4fa12"
    },
    {
      "cell_type": "code",
      "execution_count": null,
      "metadata": {
        "id": "d3362f0c-b38f-4520-908a-74315c68a855"
      },
      "outputs": [],
      "source": [
        "my_result['loadings']"
      ],
      "id": "d3362f0c-b38f-4520-908a-74315c68a855"
    },
    {
      "cell_type": "code",
      "execution_count": null,
      "metadata": {
        "id": "8f77d000-6566-4fbc-b0c9-526d196b4b81"
      },
      "outputs": [],
      "source": [
        "my_result['explained_var']"
      ],
      "id": "8f77d000-6566-4fbc-b0c9-526d196b4b81"
    },
    {
      "cell_type": "code",
      "execution_count": null,
      "metadata": {
        "id": "e8738c2b-b5ad-4289-8fd0-cc4eba876683"
      },
      "outputs": [],
      "source": [
        "tmp = zscore(my_data, ddof=1) # 標準化\n",
        "my_result = my_model.fit_transform(\n",
        "    tmp)\n",
        "my_result['PC'] # 主成分スコア"
      ],
      "id": "e8738c2b-b5ad-4289-8fd0-cc4eba876683"
    },
    {
      "cell_type": "code",
      "execution_count": null,
      "metadata": {
        "id": "561f50d1-9107-4262-bf2f-fd10f82c0201"
      },
      "outputs": [],
      "source": [
        "tmp = my_data - my_data.mean()\n",
        "Z  = np.matrix(tmp)                       # 標準化しない場合\n",
        "#Z = np.matrix(tmp / my_data.std(ddof=1)) # √不偏分散で標準化する場合\n",
        "#Z = np.matrix(tmp / my_data.std(ddof=0)) # pca(normalize=True)に合わせる場合\n",
        "\n",
        "n = len(my_data)\n",
        "S = np.cov(Z, rowvar=0, ddof=0)      # 分散共分散行列\n",
        "#S = Z.T @ Z / n                     # （同じ結果）\n",
        "vals, vecs = np.linalg.eig(S)        # 固有値と固有ベクトル\n",
        "idx = np.argsort(-vals)              # 固有値の大きい順の番号\n",
        "vals, vecs = vals[idx], vecs[:, idx] # 固有値の大きい順での並べ替え\n",
        "Z @ vecs                             # 主成分スコア（結果は割愛）\n",
        "vals.cumsum() / vals.sum()           # 累積寄与率"
      ],
      "id": "561f50d1-9107-4262-bf2f-fd10f82c0201"
    },
    {
      "cell_type": "code",
      "execution_count": null,
      "metadata": {
        "id": "5f1c0d7f-ecbb-4951-83ee-bf45b84a926a"
      },
      "outputs": [],
      "source": [
        "U, d, V =  np.linalg.svd(Z, full_matrices=False)     # 特異値分解\n",
        "W = np.diag(d)\n",
        "\n",
        "[np.isclose(Z, U @ W @ V).all(),                     # 確認1\n",
        " np.isclose(U.T @ U, np.identity(U.shape[1])).all(), # 確認2\n",
        " np.isclose(V @ V.T, np.identity(V.shape[0])).all()] # 確認3\n",
        "\n",
        "U @ W                # 主成分スコア（結果は割愛）\n",
        "\n",
        "e = d ** 2 / n       # 分散共分散行列の固有値\n",
        "e.cumsum() / e.sum() # 累積寄与率"
      ],
      "id": "5f1c0d7f-ecbb-4951-83ee-bf45b84a926a"
    },
    {
      "id": "6efea33e",
      "cell_type": "markdown",
      "source": [
        "## 13.2 クラスタ分析"
      ],
      "metadata": {
        "id": "6efea33e"
      }
    },
    {
      "cell_type": "code",
      "execution_count": null,
      "metadata": {
        "id": "07d9ac5d-eae1-4af7-abab-1375e3a018dd"
      },
      "outputs": [],
      "source": [
        "import pandas as pd\n",
        "from scipy.cluster import hierarchy\n",
        "\n",
        "my_data = pd.DataFrame(\n",
        "    {'x': [  0, -16,  10,  10],\n",
        "     'y': [  0,   0,  10, -15]},\n",
        "    index=['A', 'B', 'C', 'D'])\n",
        "\n",
        "my_result = hierarchy.linkage(\n",
        "    my_data,\n",
        "    metric='euclidean', # 省略可\n",
        "    method='complete')"
      ],
      "id": "07d9ac5d-eae1-4af7-abab-1375e3a018dd"
    },
    {
      "cell_type": "code",
      "execution_count": null,
      "metadata": {
        "id": "9ae98ae4-7798-455b-928b-7f8a019b2e36"
      },
      "outputs": [],
      "source": [
        "hierarchy.dendrogram(my_result,\n",
        "    labels=my_data.index)"
      ],
      "id": "9ae98ae4-7798-455b-928b-7f8a019b2e36"
    },
    {
      "cell_type": "code",
      "execution_count": null,
      "metadata": {
        "id": "c7d2dc0a-69e9-43d0-9fb5-e22f10dfa6c7"
      },
      "outputs": [],
      "source": [
        "hierarchy.cut_tree(my_result, 3)\n",
        "\n",
        "# 補足（見やすくする）\n",
        "my_data.assign(cluster=\n",
        "  hierarchy.cut_tree(my_result, 3))"
      ],
      "id": "c7d2dc0a-69e9-43d0-9fb5-e22f10dfa6c7"
    },
    {
      "cell_type": "code",
      "execution_count": null,
      "metadata": {
        "id": "693a5040-e21f-4a0c-87e6-5d311a1ef4d5"
      },
      "outputs": [],
      "source": [
        "import pandas as pd\n",
        "import seaborn as sns\n",
        "\n",
        "my_data = pd.DataFrame(\n",
        "    {'language': [  0,  20,  20,  25,  22,  17],\n",
        "     'english':  [  0,  20,  40,  20,  24,  18],\n",
        "     'math':     [100,  20,   5,  30,  17,  25],\n",
        "     'science':  [  0,  20,   5,  25,  16,  23],\n",
        "     'society':  [  0,  20,  30,   0,  21,  17]},\n",
        "    index=       ['A', 'B', 'C', 'D', 'E', 'F'])\n",
        "\n",
        "sns.clustermap(my_data, z_score=1) # 列ごとの標準化"
      ],
      "id": "693a5040-e21f-4a0c-87e6-5d311a1ef4d5"
    },
    {
      "cell_type": "code",
      "execution_count": null,
      "metadata": {
        "id": "9f9a9fff-6011-46f1-9b71-489fbc8b9ece"
      },
      "outputs": [],
      "source": [
        "import pandas as pd\n",
        "from sklearn.cluster import KMeans\n",
        "\n",
        "my_data = pd.DataFrame(\n",
        "    {'x': [  0, -16,  10,  10],\n",
        "     'y': [  0,   0,  10, -15]},\n",
        "    index=['A', 'B', 'C', 'D'])\n",
        "\n",
        "my_result = KMeans(\n",
        "    n_clusters=3).fit(my_data)"
      ],
      "id": "9f9a9fff-6011-46f1-9b71-489fbc8b9ece"
    },
    {
      "cell_type": "code",
      "execution_count": null,
      "metadata": {
        "id": "570a485a-db78-422c-a90f-247e74c14600"
      },
      "outputs": [],
      "source": [
        "my_result.labels_\n",
        "\n",
        "# 補足（見やすくする）\n",
        "my_data.assign(\n",
        "  cluster=my_result.labels_)"
      ],
      "id": "570a485a-db78-422c-a90f-247e74c14600"
    },
    {
      "cell_type": "code",
      "execution_count": null,
      "metadata": {
        "id": "9d84ad7e-e39f-4d68-ab09-c4aca9dc7e15"
      },
      "outputs": [],
      "source": [
        "import pandas as pd\n",
        "import statsmodels.api as sm\n",
        "from sklearn.cluster import KMeans\n",
        "\n",
        "iris = sm.datasets.get_rdataset('iris', 'datasets').data\n",
        "my_data = iris.iloc[:, 0:4]\n",
        "\n",
        "k = range(1, 11)\n",
        "my_df = pd.DataFrame({\n",
        "    'k': k,\n",
        "    'inertia': [KMeans(k).fit(my_data).inertia_ for k in range(1, 11)]})\n",
        "my_df.plot(x='k', style='o-', legend=False)"
      ],
      "id": "9d84ad7e-e39f-4d68-ab09-c4aca9dc7e15"
    },
    {
      "cell_type": "code",
      "execution_count": null,
      "metadata": {
        "id": "cba137fc-5095-4dda-8369-196cbede128d"
      },
      "outputs": [],
      "source": [
        "import seaborn as sns\n",
        "import statsmodels.api as sm\n",
        "from pca import pca\n",
        "from scipy.cluster import hierarchy\n",
        "from scipy.stats import zscore\n",
        "from sklearn.cluster import KMeans\n",
        "\n",
        "iris = sm.datasets.get_rdataset('iris', 'datasets').data\n",
        "my_data = zscore(iris.iloc[:, 0:4])\n",
        "\n",
        "my_model = pca() # 主成分分析\n",
        "my_result = my_model.fit_transform(my_data)['PC']\n",
        "my_result['Species'] = list(iris.Species)\n",
        "\n",
        "# 非階層的クラスタ分析の場合\n",
        "my_result['cluster'] = KMeans(n_clusters=3).fit(my_data).labels_\n",
        "\n",
        "# 階層的クラスタ分析の場合\n",
        "#my_result['cluster'] = hierarchy.cut_tree(\n",
        "#    hierarchy.linkage(my_data, method='complete'), 3)[:,0]\n",
        "\n",
        "sns.scatterplot(x='PC1', y='PC2', data=my_result, legend=False,\n",
        "                hue='cluster',   # 色でクラスタを表現する．\n",
        "                style='Species', # 形で品種を表現する．\n",
        "                palette='bright')"
      ],
      "id": "cba137fc-5095-4dda-8369-196cbede128d"
    }
  ],
  "nbformat": 4,
  "nbformat_minor": 5,
  "metadata": {
    "kernelspec": {
      "name": "python3",
      "display_name": "Python 3"
    },
    "colab": {
      "provenance": [],
      "toc_visible": true
    }
  }
}