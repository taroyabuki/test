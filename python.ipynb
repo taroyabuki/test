{
  "cells": [
    {
      "id": "bff04a02",
      "cell_type": "markdown",
      "source": "[\u8fbb\u771f\u543e\u30fb\u77e2\u5439\u592a\u6717\u300e\u30bc\u30ed\u304b\u3089\u306f\u3058\u3081\u308b\u30c7\u30fc\u30bf\u30b5\u30a4\u30a8\u30f3\u30b9\u5165\u9580\u300f\uff08\u8b1b\u8ac7\u793e,\u00a02021\uff09](https://github.com/taroyabuki/fromzero)",
      "metadata": {}
    },
    {
      "cell_type": "code",
      "execution_count": null,
      "metadata": {},
      "outputs": [],
      "source": [
        "# Google Colaboratory\u306e\u74b0\u5883\u8a2d\u5b9a\n",
        "import os\n",
        "if 'COLAB_GPU' in os.environ:\n",
        "  !python -m pip install h2o pandarallel pca pmdarima | tail -n 1"
      ],
      "id": "94da1f7b-be50-4043-b5f3-5eb3c6ce6a18"
    },
    {
      "cell_type": "code",
      "execution_count": null,
      "metadata": {},
      "outputs": [],
      "source": [
        "# \u3053\u308c\u306fPython\u306e\u30b3\u30fc\u30c9\u306e\u4f8b\u3067\u3059\uff0e\n",
        "1 + 1"
      ],
      "id": "64d81db2-7706-4cf0-8874-2a41dd293672"
    },
    {
      "id": "fc75b4bb",
      "cell_type": "markdown",
      "source": "# 1 \u30b3\u30f3\u30d4\u30e5\u30fc\u30bf\u3068\u30cd\u30c3\u30c8\u30ef\u30fc\u30af\n\n\n",
      "metadata": {}
    },
    {
      "id": "9ed27a25",
      "cell_type": "markdown",
      "source": "## 1.1 \u30b3\u30f3\u30d4\u30e5\u30fc\u30bf\u306e\u57fa\u672c\u64cd\u4f5c\n\n\n",
      "metadata": {}
    },
    {
      "id": "b99a43da",
      "cell_type": "markdown",
      "source": "## 1.2 \u30cd\u30c3\u30c8\u30ef\u30fc\u30af\u306e\u4ed5\u7d44\u307f\n\n\n",
      "metadata": {}
    },
    {
      "id": "0d38e074",
      "cell_type": "markdown",
      "source": "# 2 \u30c7\u30fc\u30bf\u30b5\u30a4\u30a8\u30f3\u30b9\u306e\u305f\u3081\u306e\u74b0\u5883\n\n\n",
      "metadata": {}
    },
    {
      "id": "90471f5c",
      "cell_type": "markdown",
      "source": "## 2.1 \u5b9f\u884c\u74b0\u5883\u306e\u9078\u629e\n\n\n",
      "metadata": {}
    },
    {
      "id": "e11f562e",
      "cell_type": "markdown",
      "source": "## 2.2 \u30af\u30e9\u30a6\u30c9\n\n\n",
      "metadata": {}
    },
    {
      "id": "bab6b7a9",
      "cell_type": "markdown",
      "source": "## 2.3 Docker\n\n\n",
      "metadata": {}
    },
    {
      "id": "9e49d94d",
      "cell_type": "markdown",
      "source": "## 2.4 \u30bf\u30fc\u30df\u30ca\u30eb\u306e\u4f7f\u3044\u65b9\n\n\n",
      "metadata": {}
    },
    {
      "id": "f2eaae32",
      "cell_type": "markdown",
      "source": "## 2.5 R\u3068Python\n\n\n",
      "metadata": {}
    },
    {
      "id": "712848c2",
      "cell_type": "markdown",
      "source": "## 2.6 \u30b5\u30f3\u30d7\u30eb\u30b3\u30fc\u30c9\u306e\u5229\u7528",
      "metadata": {}
    },
    {
      "cell_type": "code",
      "execution_count": null,
      "metadata": {},
      "outputs": [],
      "source": [
        "1 + 1\n",
        "# 2 # \u3053\u308c\u306f\u8868\u793a\u3055\u308c\u306a\u3044\uff0e\n",
        "\n",
        "print(1 + 2)\n",
        "# 3 # \u8868\u793a\u3055\u308c\u308b\uff0e\n",
        "\n",
        "1 + 3\n",
        "# 4 # \u8868\u793a\u3055\u308c\u308b\uff0e"
      ],
      "id": "9339201c-7fe4-4e52-81b3-7d5522c0bd71"
    },
    {
      "id": "7c983d53",
      "cell_type": "markdown",
      "source": "# 3 R\u3068Python\n\n\n",
      "metadata": {}
    },
    {
      "id": "6d87856d",
      "cell_type": "markdown",
      "source": "## 3.1 \u5165\u9580",
      "metadata": {}
    },
    {
      "cell_type": "code",
      "execution_count": null,
      "metadata": {},
      "outputs": [],
      "source": [
        "0x10"
      ],
      "id": "20bdbcb2-0132-4de7-8f3e-098b0c1739a2"
    },
    {
      "cell_type": "code",
      "execution_count": null,
      "metadata": {},
      "outputs": [],
      "source": [
        "1.23e5"
      ],
      "id": "df5f6d34-6a71-4341-a5fc-3746e752c16a"
    },
    {
      "cell_type": "code",
      "execution_count": null,
      "metadata": {},
      "outputs": [],
      "source": [
        "2 * 3"
      ],
      "id": "c7995ee2-778f-4070-915a-35718d72f98a"
    },
    {
      "cell_type": "code",
      "execution_count": null,
      "metadata": {},
      "outputs": [],
      "source": [
        "10 / 3"
      ],
      "id": "2627cbfd-e672-4599-bde3-9cc8e661d17e"
    },
    {
      "cell_type": "code",
      "execution_count": null,
      "metadata": {},
      "outputs": [],
      "source": [
        "10 // 3 # \u5546\n",
        "\n",
        "10 % 3  # \u4f59\u308a"
      ],
      "id": "b0652120-0280-4356-866a-57067904a3b3"
    },
    {
      "cell_type": "code",
      "execution_count": null,
      "metadata": {},
      "outputs": [],
      "source": [
        "x = 2\n",
        "y = 3\n",
        "x * y\n",
        "\n",
        "x, y = 20, 30 # \u307e\u3068\u3081\u3066\u540d\u4ed8\u3051\n",
        "x * y"
      ],
      "id": "b0c062b9-5f54-4498-84cc-bb27fdd0f326"
    },
    {
      "cell_type": "code",
      "execution_count": null,
      "metadata": {},
      "outputs": [],
      "source": [
        "x = 1 + 1\n",
        "# \u3053\u306e\u6bb5\u968e\u3067\u306f\u7d50\u679c\u306f\u8868\u793a\u3055\u308c\u306a\u3044\n",
        "\n",
        "x # \u5909\u6570\u540d\u3092\u8a55\u4fa1\u3059\u308b\uff0e"
      ],
      "id": "1a9c83a7-9199-4724-a8c1-6c0bfb9b5251"
    },
    {
      "cell_type": "code",
      "execution_count": null,
      "metadata": {},
      "outputs": [],
      "source": [
        "my_s = 'abcde'"
      ],
      "id": "6db2af6b-e4a1-4447-b0ad-14548469a277"
    },
    {
      "cell_type": "code",
      "execution_count": null,
      "metadata": {},
      "outputs": [],
      "source": [
        "len(my_s)"
      ],
      "id": "0843fbc0-1b75-465f-b702-30f2bc25809f"
    },
    {
      "cell_type": "code",
      "execution_count": null,
      "metadata": {},
      "outputs": [],
      "source": [
        "'This is' ' a' ' pen.'\n",
        "# \u3042\u308b\u3044\u306f\n",
        "'This is ' + 'a' + ' pen.'"
      ],
      "id": "983deaa6-64c6-4b91-8b8f-6b7df019450e"
    },
    {
      "cell_type": "code",
      "execution_count": null,
      "metadata": {},
      "outputs": [],
      "source": [
        "my_s[1:4]"
      ],
      "id": "d7507791-18cf-45bd-8391-99205a7276d9"
    },
    {
      "cell_type": "code",
      "execution_count": null,
      "metadata": {},
      "outputs": [],
      "source": [
        "tmp = \"{} is {}.\"\n",
        "tmp.format('This', 'a pen')"
      ],
      "id": "9161e0a8-7e26-4c22-88c1-53058fcb0e76"
    },
    {
      "cell_type": "code",
      "execution_count": null,
      "metadata": {},
      "outputs": [],
      "source": [
        "1 <= 2\n",
        "\n",
        "1 < 0"
      ],
      "id": "d1832f14-18e8-4f22-ba0c-4cd31ce5e9da"
    },
    {
      "cell_type": "code",
      "execution_count": null,
      "metadata": {},
      "outputs": [],
      "source": [
        "0.1 + 0.1 + 0.1 == 0.3\n",
        "\n",
        "import math\n",
        "math.isclose(0.1 + 0.1 + 0.1, 0.3)"
      ],
      "id": "68bcb1ce-b44f-45e3-8b28-d51d0dba4adb"
    },
    {
      "cell_type": "code",
      "execution_count": null,
      "metadata": {},
      "outputs": [],
      "source": [
        "True and False # \u8ad6\u7406\u7a4d\uff08\u304b\u3064\uff09\n",
        "\n",
        "True or False  # \u8ad6\u7406\u548c\uff08\u307e\u305f\u306f\uff09\n",
        "\n",
        "not True       # \u5426\u5b9a\uff08\u3067\u306a\u3044\uff09"
      ],
      "id": "0ea56e0c-8da9-4956-9e2f-861e160d84df"
    },
    {
      "cell_type": "code",
      "execution_count": null,
      "metadata": {},
      "outputs": [],
      "source": [
        "0 if 3 < 5 else 10"
      ],
      "id": "c2689fbc-f48f-4586-a35d-d27679f03463"
    },
    {
      "cell_type": "code",
      "execution_count": null,
      "metadata": {},
      "outputs": [],
      "source": [
        "import os\n",
        "os.getcwd()"
      ],
      "id": "7b17eb0f-d929-40d8-bdcd-bd4068557164"
    },
    {
      "cell_type": "code",
      "execution_count": null,
      "metadata": {},
      "outputs": [],
      "source": [
        "os.chdir('..')\n",
        "os.getcwd()"
      ],
      "id": "f6463f09-a96c-4c46-a80b-ac85bc7cec0d"
    },
    {
      "id": "6024e0cc",
      "cell_type": "markdown",
      "source": "## 3.2 \u95a2\u6570",
      "metadata": {}
    },
    {
      "cell_type": "code",
      "execution_count": null,
      "metadata": {},
      "outputs": [],
      "source": [
        "import math\n",
        "math.sqrt(4)"
      ],
      "id": "7b972bd9-26a1-42a4-941a-73827bb58920"
    },
    {
      "cell_type": "code",
      "execution_count": null,
      "metadata": {},
      "outputs": [],
      "source": [
        "math.log(100, 10)"
      ],
      "id": "94af52ab-ea86-4bd1-bc9b-a68dbcd2e1d6"
    },
    {
      "cell_type": "code",
      "execution_count": null,
      "metadata": {},
      "outputs": [],
      "source": [
        "math.log(100)         # \u81ea\u7136\u5bfe\u6570\n",
        "# \u3042\u308b\u3044\u306f\n",
        "math.log(100, math.e) # \u7701\u7565\u3057\u306a\u3044\u5834\u5408\n"
      ],
      "id": "8c15329a-1883-4136-aaf2-a4f35862612a"
    },
    {
      "cell_type": "code",
      "execution_count": null,
      "metadata": {},
      "outputs": [],
      "source": [
        "math.log10(100) # \u5e38\u7528\u5bfe\u6570\n",
        "\n",
        "math.log2(1024) # \u5e95\u304c2\u306e\u5bfe\u6570"
      ],
      "id": "31ffa5ae-80bf-458e-9a1d-49418b9b75eb"
    },
    {
      "cell_type": "code",
      "execution_count": null,
      "metadata": {},
      "outputs": [],
      "source": [
        "def f(a, b):\n",
        "    return a - b"
      ],
      "id": "43b3a66f-6393-496c-9d5b-8146c2368a94"
    },
    {
      "cell_type": "code",
      "execution_count": null,
      "metadata": {},
      "outputs": [],
      "source": [
        "f(3, 5)"
      ],
      "id": "2169483f-cbe6-410f-ae0c-3b2437bc50cf"
    },
    {
      "cell_type": "code",
      "execution_count": null,
      "metadata": {},
      "outputs": [],
      "source": [
        "def f(a, b=5):\n",
        "    return a - b\n",
        "\n",
        "f(3) # f(3, 5)\u3068\u540c\u3058\u3053\u3068"
      ],
      "id": "196dbb08-be85-40da-a5ba-064b40cfa0f0"
    },
    {
      "cell_type": "code",
      "execution_count": null,
      "metadata": {},
      "outputs": [],
      "source": [
        "(lambda a, b: a - b)(3, 5)"
      ],
      "id": "23bdcab7-a734-4873-b1a2-668387f12848"
    },
    {
      "id": "0f82b54b",
      "cell_type": "markdown",
      "source": "## 3.3 \u30b3\u30ec\u30af\u30b7\u30e7\u30f3",
      "metadata": {}
    },
    {
      "cell_type": "code",
      "execution_count": null,
      "metadata": {},
      "outputs": [],
      "source": [
        "x = ['foo', 'bar', 'baz']"
      ],
      "id": "22d46799-8ea8-43d8-9fc9-b0f6779b212e"
    },
    {
      "cell_type": "code",
      "execution_count": null,
      "metadata": {},
      "outputs": [],
      "source": [
        "len(x)"
      ],
      "id": "c323c1b9-6606-456a-bdfd-266ec133f31c"
    },
    {
      "cell_type": "code",
      "execution_count": null,
      "metadata": {},
      "outputs": [],
      "source": [
        "x[1]"
      ],
      "id": "dd9033fa-bd34-472c-b6d2-ce54a4572bc8"
    },
    {
      "cell_type": "code",
      "execution_count": null,
      "metadata": {},
      "outputs": [],
      "source": [
        "x[1] = 'BAR'\n",
        "x # \u7d50\u679c\u306e\u78ba\u8a8d\n",
        "\n",
        "x[1] = 'bar' # \u5143\u306b\u623b\u3059\uff0e"
      ],
      "id": "d752a037-486e-44ec-8133-8cf393025cd7"
    },
    {
      "cell_type": "code",
      "execution_count": null,
      "metadata": {},
      "outputs": [],
      "source": [
        "x[-2]"
      ],
      "id": "6414e6b2-3519-40cf-988f-6047f4285af9"
    },
    {
      "cell_type": "code",
      "execution_count": null,
      "metadata": {},
      "outputs": [],
      "source": [
        "x + ['qux']"
      ],
      "id": "e07ecce3-71c1-43b2-aa82-cce015106e73"
    },
    {
      "cell_type": "code",
      "execution_count": null,
      "metadata": {},
      "outputs": [],
      "source": [
        "x = x + ['qux']\n",
        "# \u3042\u308b\u3044\u306f\n",
        "#x.append('qux')\n",
        "\n",
        "x # \u7d50\u679c\u306e\u78ba\u8a8d"
      ],
      "id": "23c15f89-c034-441c-bdd6-6ba13ebf4f38"
    },
    {
      "cell_type": "code",
      "execution_count": null,
      "metadata": {},
      "outputs": [],
      "source": [
        "list(range(5))"
      ],
      "id": "4eedf625-3bc6-41d8-a28d-f59ba1cd29af"
    },
    {
      "cell_type": "code",
      "execution_count": null,
      "metadata": {},
      "outputs": [],
      "source": [
        "list(range(0, 11, 2))"
      ],
      "id": "28c3f4c6-1a5e-409b-820f-b7ef486c9f3d"
    },
    {
      "cell_type": "code",
      "execution_count": null,
      "metadata": {},
      "outputs": [],
      "source": [
        "import numpy as np\n",
        "np.arange(0, 1.1, 0.5)"
      ],
      "id": "f2fac332-de9c-4506-8b78-39ae98714efd"
    },
    {
      "cell_type": "code",
      "execution_count": null,
      "metadata": {},
      "outputs": [],
      "source": [
        "np.linspace(0, 100, 5)"
      ],
      "id": "6dabc93a-1569-4e94-a196-04da19f6c3ae"
    },
    {
      "cell_type": "code",
      "execution_count": null,
      "metadata": {},
      "outputs": [],
      "source": [
        "[10] * 5"
      ],
      "id": "5f28d840-5ab1-4880-b750-acb30c3bfd51"
    },
    {
      "cell_type": "code",
      "execution_count": null,
      "metadata": {},
      "outputs": [],
      "source": [
        "import numpy as np\n",
        "x = np.array([2, 3, 5, 7])\n",
        "\n",
        "x + 10 # \u52a0\u7b97\n",
        "\n",
        "x * 10 # \u4e57\u7b97"
      ],
      "id": "916b3760-5e06-4275-995e-fb84ecce9378"
    },
    {
      "cell_type": "code",
      "execution_count": null,
      "metadata": {},
      "outputs": [],
      "source": [
        "x = [2, 3]\n",
        "np.sin(x)"
      ],
      "id": "0aa041bf-40dd-4964-84bd-d0830bf64087"
    },
    {
      "cell_type": "code",
      "execution_count": null,
      "metadata": {},
      "outputs": [],
      "source": [
        "x = np.array([2,  3,   5,    7])\n",
        "y = np.array([1, 10, 100, 1000])\n",
        "x + y\n",
        "\n",
        "x * y"
      ],
      "id": "d6a9080c-6cc7-4864-a40b-53ceb5919da4"
    },
    {
      "cell_type": "code",
      "execution_count": null,
      "metadata": {},
      "outputs": [],
      "source": [
        "np.dot(x, y)\n",
        "# \u3042\u308b\u3044\u306f\n",
        "x @ y\n"
      ],
      "id": "c234eafc-4a6f-41c3-9ce9-662fa4745f6f"
    },
    {
      "cell_type": "code",
      "execution_count": null,
      "metadata": {},
      "outputs": [],
      "source": [
        "x = np.array([True, False])\n",
        "y = np.array([True, True])\n",
        "x & y"
      ],
      "id": "fc195af6-b6e8-4938-bf5d-66509747a340"
    },
    {
      "cell_type": "code",
      "execution_count": null,
      "metadata": {},
      "outputs": [],
      "source": [
        "u = np.array([1, 2, 3])\n",
        "v = np.array([1, 2, 3])\n",
        "w = np.array([1, 2, 4])\n",
        "\n",
        "all(u == v) # \u5168\u4f53\u306e\u6bd4\u8f03\n",
        "\n",
        "all(u == w) # \u5168\u4f53\u306e\u6bd4\u8f03\n",
        "\n",
        "u == v      # \u8981\u7d20\u3054\u3068\u306e\u6bd4\u8f03\n",
        "\n",
        "u == w      # \u8981\u7d20\u3054\u3068\u306e\u6bd4\u8f03"
      ],
      "id": "ee670438-31c7-4fac-98d5-c0f739bf76c4"
    },
    {
      "cell_type": "code",
      "execution_count": null,
      "metadata": {},
      "outputs": [],
      "source": [
        "(u == w).sum()  # \u540c\u3058\u8981\u7d20\u306e\u6570\n",
        "\n",
        "(u == w).mean() # \u540c\u3058\u8981\u7d20\u306e\u5272\u5408"
      ],
      "id": "b5fe4882-f575-4ffc-82e6-32c0c81563e1"
    },
    {
      "cell_type": "code",
      "execution_count": null,
      "metadata": {},
      "outputs": [],
      "source": [
        "x = [1, \"two\"]"
      ],
      "id": "914dfa51-a580-442c-a709-91e7112584f5"
    },
    {
      "cell_type": "code",
      "execution_count": null,
      "metadata": {},
      "outputs": [],
      "source": [
        "x[1]"
      ],
      "id": "8e4afd4c-fa45-4ec5-8304-b752377d864b"
    },
    {
      "cell_type": "code",
      "execution_count": null,
      "metadata": {},
      "outputs": [],
      "source": [
        "x = {'apple' : '\u308a\u3093\u3054',\n",
        "     'orange': '\u307f\u304b\u3093'}"
      ],
      "id": "941ac635-3124-4134-9fc2-bafdf93a4670"
    },
    {
      "cell_type": "code",
      "execution_count": null,
      "metadata": {},
      "outputs": [],
      "source": [
        "x['grape'] = '\u3076\u3069\u3046'"
      ],
      "id": "d46067c9-deb8-4889-8181-b4a343c40690"
    },
    {
      "cell_type": "code",
      "execution_count": null,
      "metadata": {},
      "outputs": [],
      "source": [
        "x['apple']\n",
        "# \u3042\u308b\u3044\u306f\n",
        "tmp = 'apple'\n",
        "x[tmp]\n"
      ],
      "id": "78f21d21-0398-4748-a34e-65b25066ff27"
    },
    {
      "cell_type": "code",
      "execution_count": null,
      "metadata": {},
      "outputs": [],
      "source": [
        "x = ['foo', 'bar', 'baz']\n",
        "y = x\n",
        "y[1] = 'BAR' # y\u3092\u66f4\u65b0\u3059\u308b\uff0e\n",
        "y\n",
        "\n",
        "x            # x\u3082\u5909\u308f\u308b\uff0e"
      ],
      "id": "b5b4e478-b2c2-4896-ae17-dfa7e43233e0"
    },
    {
      "cell_type": "code",
      "execution_count": null,
      "metadata": {},
      "outputs": [],
      "source": [
        "x = ['foo', 'bar', 'baz']\n",
        "y = x.copy()             # \u300cy = x\u300d\u3068\u305b\u305a\u306b\uff0c\u30b3\u30d4\u30fc\u3059\u308b\uff0e\n",
        "x == y, x is y\n",
        "\n",
        "y[1] = 'BAR'             # y\u3092\u66f4\u65b0\u3057\u3066\u3082\uff0c\n",
        "x"
      ],
      "id": "24c887b7-829b-4f24-9e54-8a113f1bb3f2"
    },
    {
      "id": "c5ca334a",
      "cell_type": "markdown",
      "source": "## 3.4 \u30c7\u30fc\u30bf\u30d5\u30ec\u30fc\u30e0",
      "metadata": {}
    },
    {
      "cell_type": "code",
      "execution_count": null,
      "metadata": {},
      "outputs": [],
      "source": [
        "import pandas as pd"
      ],
      "id": "27d5e2d5-0765-4cc7-b207-371de58cd3f6"
    },
    {
      "cell_type": "code",
      "execution_count": null,
      "metadata": {},
      "outputs": [],
      "source": [
        "my_df = pd.DataFrame({\n",
        "    'name':    ['A', 'B', 'C', 'D'],\n",
        "    'english': [ 60,  90,  70,  90],\n",
        "    'math':    [ 70,  80,  90, 100],\n",
        "    'gender':  ['f', 'm', 'm', 'f']})"
      ],
      "id": "38cd8aa3-d976-4fbe-b7fb-d1921c99392a"
    },
    {
      "cell_type": "code",
      "execution_count": null,
      "metadata": {},
      "outputs": [],
      "source": [
        "my_df = pd.DataFrame([\n",
        "    ['A', 60,  70, 'f'],\n",
        "    ['B', 90,  80, 'm'],\n",
        "    ['C', 70,  90, 'm'],\n",
        "    ['D', 90, 100, 'f']],\n",
        "    columns=['name', 'english',\n",
        "             'math', 'gender'])"
      ],
      "id": "569e1780-09fe-432a-89f3-2535e94ecb51"
    },
    {
      "cell_type": "code",
      "execution_count": null,
      "metadata": {},
      "outputs": [],
      "source": [
        "my_df.head()\n",
        "# \u7d50\u679c\u306f\u5272\u611b"
      ],
      "id": "b6a6d99f-dd45-49e6-91ad-4f837e64bbe7"
    },
    {
      "cell_type": "code",
      "execution_count": null,
      "metadata": {},
      "outputs": [],
      "source": [
        "r, c = my_df.shape # \u884c\u6570\u3068\u5217\u6570\n",
        "r, c\n",
        "\n",
        "r # \u884c\u6570\uff08len(my_df)\u3082\u53ef\uff09\n",
        "\n",
        "c # \u5217\u6570"
      ],
      "id": "8077f943-4c25-4fa9-a160-e3fb5eaba140"
    },
    {
      "cell_type": "code",
      "execution_count": null,
      "metadata": {},
      "outputs": [],
      "source": [
        "from itertools import product\n",
        "my_df2 = pd.DataFrame(\n",
        "    product([1, 2, 3],\n",
        "            [10, 100]),\n",
        "    columns=['X', 'Y'])\n",
        "my_df2"
      ],
      "id": "7804319c-0472-42a0-acdf-24940bd5da3a"
    },
    {
      "cell_type": "code",
      "execution_count": null,
      "metadata": {},
      "outputs": [],
      "source": [
        "my_df2.columns"
      ],
      "id": "aa7397e2-2a6a-4020-b9b6-28203f88fcb9"
    },
    {
      "cell_type": "code",
      "execution_count": null,
      "metadata": {},
      "outputs": [],
      "source": [
        "my_df2.columns = ['P', 'Q']\n",
        "my_df2\n",
        "# \u4ee5\u4e0b\u7701\u7565"
      ],
      "id": "27f966dd-905e-43f9-83a6-607c8da783ed"
    },
    {
      "cell_type": "code",
      "execution_count": null,
      "metadata": {},
      "outputs": [],
      "source": [
        "list(my_df.index)"
      ],
      "id": "f9527fb3-49c9-47db-a2c4-1e2775ee8d14"
    },
    {
      "cell_type": "code",
      "execution_count": null,
      "metadata": {},
      "outputs": [],
      "source": [
        "my_df2.index = [\n",
        "    'a', 'b', 'c', 'd', 'e', 'f']\n",
        "my_df2\n",
        "# \u4ee5\u4e0b\u7701\u7565"
      ],
      "id": "862c2ab5-6107-4156-ab22-00ed5606b5e7"
    },
    {
      "cell_type": "code",
      "execution_count": null,
      "metadata": {},
      "outputs": [],
      "source": [
        "my_df3 = pd.DataFrame({\n",
        "    'english': [ 60,  90,  70,  90],\n",
        "    'math':    [ 70,  80,  90, 100],\n",
        "    'gender':  ['f', 'm', 'm', 'f']},\n",
        "    index=     ['A', 'B', 'C', 'D'])\n",
        "my_df3"
      ],
      "id": "1c69a6fa-e6c1-4790-ade4-e160bdda35f3"
    },
    {
      "cell_type": "code",
      "execution_count": null,
      "metadata": {},
      "outputs": [],
      "source": [
        "tmp = pd.DataFrame({\n",
        "    'name'   : ['E'],\n",
        "    'english': [80],\n",
        "    'math'   : [80],\n",
        "    'gender' : ['m']})\n",
        "my_df2 = my_df.append(tmp)"
      ],
      "id": "8a48baf0-9003-4948-8315-b21434b2b219"
    },
    {
      "cell_type": "code",
      "execution_count": null,
      "metadata": {},
      "outputs": [],
      "source": [
        "my_df2 = my_df.assign(id=[1, 2, 3, 4])"
      ],
      "id": "03acc731-ef43-428a-af59-cacf15e804c3"
    },
    {
      "cell_type": "code",
      "execution_count": null,
      "metadata": {},
      "outputs": [],
      "source": [
        "my_df3 = my_df.copy()       # \u30b3\u30d4\u30fc\n",
        "my_df3['id'] = [1, 2, 3, 4] # \u66f4\u65b0\n",
        "my_df3 # \u7d50\u679c\u306e\u78ba\u8a8d\uff08\u5272\u611b\uff09"
      ],
      "id": "287dafd2-65b8-481f-835d-7599978e3c7a"
    },
    {
      "cell_type": "code",
      "execution_count": null,
      "metadata": {},
      "outputs": [],
      "source": [
        "my_df.iloc[0, 1]"
      ],
      "id": "2e393640-ba1e-402e-a491-4f4347be0d4f"
    },
    {
      "cell_type": "code",
      "execution_count": null,
      "metadata": {},
      "outputs": [],
      "source": [
        "x = my_df.iloc[:, 1]\n",
        "# \u3042\u308b\u3044\u306f\n",
        "x = my_df['english']\n",
        "# \u3042\u308b\u3044\u306f\n",
        "x = my_df.english\n",
        "# \u3042\u308b\u3044\u306f\n",
        "tmp = 'english'\n",
        "x = my_df[tmp]\n",
        "\n",
        "x # \u7d50\u679c\u306e\u78ba\u8a8d\uff08\u5272\u611b\uff09"
      ],
      "id": "7fba0bf9-32d1-4d98-ac60-ed74d9b680dd"
    },
    {
      "cell_type": "code",
      "execution_count": null,
      "metadata": {},
      "outputs": [],
      "source": [
        "x = my_df[['name', 'math']]\n",
        "# \u3042\u308b\u3044\u306f\n",
        "x = my_df.loc[:, ['name', 'math']]"
      ],
      "id": "7533bcc9-9387-41a3-a9fb-a638475eebde"
    },
    {
      "cell_type": "code",
      "execution_count": null,
      "metadata": {},
      "outputs": [],
      "source": [
        "x = my_df.take([0, 2], axis=1)\n",
        "# \u3042\u308b\u3044\u306f\n",
        "x = my_df.iloc[:, [0, 2]]"
      ],
      "id": "603b84e7-1139-4853-b9d4-79cd1009e665"
    },
    {
      "cell_type": "code",
      "execution_count": null,
      "metadata": {},
      "outputs": [],
      "source": [
        "x = my_df.drop(\n",
        "    columns=['english', 'gender'])\n",
        "# \u3042\u308b\u3044\u306f\n",
        "x = my_df.drop(\n",
        "    columns=my_df.columns[[1, 3]])"
      ],
      "id": "0e2fdb35-bd8d-4a49-ad6f-9f07d2bab2a7"
    },
    {
      "cell_type": "code",
      "execution_count": null,
      "metadata": {},
      "outputs": [],
      "source": [
        "x = my_df.take([0, 2])\n",
        "# \u3042\u308b\u3044\u306f\n",
        "x = my_df.iloc[[0, 2], :]"
      ],
      "id": "1586e38c-d283-4821-993f-674ba3dce69f"
    },
    {
      "cell_type": "code",
      "execution_count": null,
      "metadata": {},
      "outputs": [],
      "source": [
        "x = my_df.drop([1, 3])"
      ],
      "id": "60a5e6fa-6d4d-4312-97d8-7b1f16100d7b"
    },
    {
      "cell_type": "code",
      "execution_count": null,
      "metadata": {},
      "outputs": [],
      "source": [
        "x = my_df[my_df['gender'] == 'm']\n",
        "# \u3042\u308b\u3044\u306f\n",
        "x = my_df.query('gender == \"m\"')"
      ],
      "id": "2b033c97-2366-42fe-ac5f-16ac14ca4661"
    },
    {
      "cell_type": "code",
      "execution_count": null,
      "metadata": {},
      "outputs": [],
      "source": [
        "x = my_df[(my_df['english'] > 80) & (my_df['gender'] == \"m\")]\n",
        "# \u3042\u308b\u3044\u306f\n",
        "x = my_df.query('english > 80 and gender == \"m\"')"
      ],
      "id": "f812d964-adaf-4b56-944e-65952b66268e"
    },
    {
      "cell_type": "code",
      "execution_count": null,
      "metadata": {},
      "outputs": [],
      "source": [
        "x = my_df[my_df['english'] == my_df['english'].max()]\n",
        "# \u3042\u308b\u3044\u306f\n",
        "tmp = my_df['english'].max()\n",
        "x = my_df.query('english == @tmp')"
      ],
      "id": "bc53de04-2e46-4f69-883c-31c1f8241360"
    },
    {
      "cell_type": "code",
      "execution_count": null,
      "metadata": {},
      "outputs": [],
      "source": [
        "my_df2 = my_df.copy() # \u30b3\u30d4\u30fc\n",
        "my_df2.loc[my_df['gender'] == 'm', 'gender'] = 'M'"
      ],
      "id": "a08e8745-0f85-4669-a4c0-413d033b865d"
    },
    {
      "cell_type": "code",
      "execution_count": null,
      "metadata": {},
      "outputs": [],
      "source": [
        "my_df2"
      ],
      "id": "92df7c16-6bcb-4aac-b35b-eebd15cf6cd2"
    },
    {
      "cell_type": "code",
      "execution_count": null,
      "metadata": {},
      "outputs": [],
      "source": [
        "x = my_df.sort_values('english')"
      ],
      "id": "d505af8e-e47a-42dd-8fa9-d70373c15567"
    },
    {
      "cell_type": "code",
      "execution_count": null,
      "metadata": {},
      "outputs": [],
      "source": [
        "x = my_df.sort_values('english',\n",
        "    ascending=False)"
      ],
      "id": "3a7c01b7-df40-41f7-99a4-e8850710bbe7"
    },
    {
      "cell_type": "code",
      "execution_count": null,
      "metadata": {},
      "outputs": [],
      "source": [
        "import numpy as np\n",
        "x = [2, 3, 5, 7, 11, 13, 17, 19, 23,\n",
        "     29, 31, 37]\n",
        "A = np.array(x).reshape(3, 4)\n",
        "A"
      ],
      "id": "f1370692-ac74-46e7-972c-eb79207e3b3f"
    },
    {
      "cell_type": "code",
      "execution_count": null,
      "metadata": {},
      "outputs": [],
      "source": [
        "A = my_df.iloc[:, [1, 2]].values\n",
        "A"
      ],
      "id": "6be29939-5009-4e38-8eeb-567d020093cf"
    },
    {
      "cell_type": "code",
      "execution_count": null,
      "metadata": {},
      "outputs": [],
      "source": [
        "pd.DataFrame(A)"
      ],
      "id": "949950bb-e536-4031-8c0b-fde342985a6f"
    },
    {
      "cell_type": "code",
      "execution_count": null,
      "metadata": {},
      "outputs": [],
      "source": [
        "A.T"
      ],
      "id": "8407d240-aa26-4644-b831-178f9c7a55e0"
    },
    {
      "cell_type": "code",
      "execution_count": null,
      "metadata": {},
      "outputs": [],
      "source": [
        "A.T @ A"
      ],
      "id": "4df1f2ae-f4f9-4e3b-bd24-c9d5604f717f"
    },
    {
      "cell_type": "code",
      "execution_count": null,
      "metadata": {},
      "outputs": [],
      "source": [
        "my_df = pd.DataFrame({\n",
        "    'day': [25, 26, 27],\n",
        "    'min': [20, 21, 15],\n",
        "    'max': [24, 27, 21]})"
      ],
      "id": "00e57d19-e1d9-44ec-b924-ef716b91394d"
    },
    {
      "cell_type": "code",
      "execution_count": null,
      "metadata": {},
      "outputs": [],
      "source": [
        "my_longer = my_df.melt(id_vars='day')\n",
        "my_longer"
      ],
      "id": "4286a371-7759-45e8-9533-d9ba2ef81118"
    },
    {
      "cell_type": "code",
      "execution_count": null,
      "metadata": {},
      "outputs": [],
      "source": [
        "my_wider = my_longer.pivot(\n",
        "    index='day',\n",
        "    columns='variable',\n",
        "    values='value')\n",
        "my_wider"
      ],
      "id": "f9989556-c9dc-48c8-a0df-018f18fd3a92"
    },
    {
      "cell_type": "code",
      "execution_count": null,
      "metadata": {},
      "outputs": [],
      "source": [
        "my_wider.plot(\n",
        "    style='o-',\n",
        "    xticks=my_wider.index, # x\u8ef8\u76ee\u76db\u308a\n",
        "    ylabel='temperature')  # y\u8ef8\u30e9\u30d9\u30eb"
      ],
      "id": "9a2e6a0a-c4ff-4b9e-bc93-f3b0c75cc0df"
    },
    {
      "id": "6c27dfb8",
      "cell_type": "markdown",
      "source": "## 3.5 1\u6b21\u5143\u30c7\u30fc\u30bf\u306e\uff08\u975e\uff09\u985e\u4f3c\u5ea6",
      "metadata": {}
    },
    {
      "cell_type": "code",
      "execution_count": null,
      "metadata": {},
      "outputs": [],
      "source": [
        "import numpy as np\n",
        "from scipy.spatial import distance\n",
        "from scipy.stats import pearsonr\n",
        "\n",
        "A = np.array([3,   4,  5])\n",
        "B = np.array([3,   4, 29])\n",
        "C = np.array([9, -18,  8])\n",
        "\n",
        "distance.euclidean(A, B)\n",
        "\n",
        "distance.euclidean(A, C)"
      ],
      "id": "4229551e-3ce8-4e2d-984b-0616c62708af"
    },
    {
      "cell_type": "code",
      "execution_count": null,
      "metadata": {},
      "outputs": [],
      "source": [
        "distance.cityblock(A, B)\n",
        "\n",
        "distance.cityblock(A, C)"
      ],
      "id": "63978b22-621d-44bc-ad30-ee84d859b715"
    },
    {
      "cell_type": "code",
      "execution_count": null,
      "metadata": {},
      "outputs": [],
      "source": [
        "1 - distance.cosine(A, B)\n",
        "\n",
        "1 - distance.cosine(A, C)"
      ],
      "id": "0f12b618-50f7-4263-9dc1-67f904353954"
    },
    {
      "cell_type": "code",
      "execution_count": null,
      "metadata": {},
      "outputs": [],
      "source": [
        "1 - distance.correlation(A, B)\n",
        "# \u3042\u308b\u3044\u306f\n",
        "pearsonr(A, B)[0]\n",
        "\n",
        "1 - distance.correlation(A, C)\n",
        "# \u3042\u308b\u3044\u306f\n",
        "pearsonr(A, C)[0]"
      ],
      "id": "ae19e143-988f-420b-83c5-c730ee38b54d"
    },
    {
      "cell_type": "code",
      "execution_count": null,
      "metadata": {},
      "outputs": [],
      "source": [
        "# \u5c0f\u6570\u70b9\u4ee5\u4e0b\u306f3\u6841\u8868\u793a\n",
        "np.set_printoptions(precision=3)\n",
        "import pandas as pd\n",
        "\n",
        "my_df = pd.DataFrame({\n",
        "    'x': [3,  3,   9],\n",
        "    'y': [4,  4, -18],\n",
        "    'z': [5, 29,   8]},\n",
        "    index=['A', 'B', 'C'])\n",
        "\n",
        "# \u30e6\u30fc\u30af\u30ea\u30c3\u30c9\u8ddd\u96e2\n",
        "distance.cdist(my_df, my_df,\n",
        "               metric='euclidean')\n",
        "\n",
        "# \u30de\u30f3\u30cf\u30c3\u30bf\u30f3\u8ddd\u96e2\n",
        "distance.cdist(my_df, my_df,\n",
        "               metric='cityblock')\n",
        "\n",
        "# \u30b3\u30b5\u30a4\u30f3\u985e\u4f3c\u5ea6\n",
        "1 - distance.cdist(my_df, my_df,\n",
        "    metric='cosine')\n",
        "\n",
        "# \u76f8\u95a2\u4fc2\u6570\n",
        "1 - distance.cdist(my_df, my_df,\n",
        "    metric='correlation')"
      ],
      "id": "b6f766e6-651b-4fe6-85b3-a0f1bfac3967"
    },
    {
      "id": "4fdb20fa",
      "cell_type": "markdown",
      "source": "## 3.6 R\u306e\u30d1\u30c3\u30b1\u30fc\u30b8\uff0cPython\u306e\u30e2\u30b8\u30e5\u30fc\u30eb",
      "metadata": {}
    },
    {
      "cell_type": "code",
      "execution_count": null,
      "metadata": {},
      "outputs": [],
      "source": [
        "import math\n",
        "import numpy as np\n",
        "import pandas as pd"
      ],
      "id": "8ecc434d-b8c1-4d06-820e-772db98ddbd3"
    },
    {
      "cell_type": "code",
      "execution_count": null,
      "metadata": {},
      "outputs": [],
      "source": [
        "import numpy\n",
        "numpy.array([1, 2, 3, 4])"
      ],
      "id": "13514a6e-39ce-470d-9646-d441b7bead5b"
    },
    {
      "cell_type": "code",
      "execution_count": null,
      "metadata": {},
      "outputs": [],
      "source": [
        "import numpy as np\n",
        "np.array([1, 2, 3, 4])"
      ],
      "id": "4696990a-e7a7-4fc1-99ad-b4a4ae22d16d"
    },
    {
      "cell_type": "code",
      "execution_count": null,
      "metadata": {},
      "outputs": [],
      "source": [
        "from numpy import array\n",
        "array([1, 2, 3, 4])"
      ],
      "id": "cfc85aa2-4d57-4460-8c00-2063edc56bf6"
    },
    {
      "cell_type": "code",
      "execution_count": null,
      "metadata": {},
      "outputs": [],
      "source": [
        "from numpy import *\n",
        "array([1, 2, 3, 4])"
      ],
      "id": "8390310b-406c-4562-b824-acc8db6be16c"
    },
    {
      "id": "75b26eb4",
      "cell_type": "markdown",
      "source": "## 3.7 \u53cd\u5fa9\u51e6\u7406",
      "metadata": {}
    },
    {
      "cell_type": "code",
      "execution_count": null,
      "metadata": {},
      "outputs": [],
      "source": [
        "import numpy as np\n",
        "import pandas as pd"
      ],
      "id": "e793ce65-c699-41b9-9328-2a51008fbe5a"
    },
    {
      "cell_type": "code",
      "execution_count": null,
      "metadata": {},
      "outputs": [],
      "source": [
        "def f1(x):\n",
        "    tmp = np.random.random(x)\n",
        "    return np.mean(tmp)\n",
        "\n",
        "f1(10)                # \u52d5\u4f5c\u78ba\u8a8d"
      ],
      "id": "15c31f73-6335-417e-a95d-0428f1071513"
    },
    {
      "cell_type": "code",
      "execution_count": null,
      "metadata": {},
      "outputs": [],
      "source": [
        "[f1(10) for i in range(3)]"
      ],
      "id": "d69a9955-180e-41e2-a8bb-7a89f3186d56"
    },
    {
      "cell_type": "code",
      "execution_count": null,
      "metadata": {},
      "outputs": [],
      "source": [
        "[f1(10)] * 3"
      ],
      "id": "ace40497-d103-470a-9a68-c86e44534ea3"
    },
    {
      "cell_type": "code",
      "execution_count": null,
      "metadata": {},
      "outputs": [],
      "source": [
        "v = [5, 10, 100]\n",
        "[f1(x) for x in v] # \u65b9\u6cd51\n",
        "\n",
        "# \u3042\u308b\u3044\u306f\n",
        "\n",
        "v = pd.Series([5, 10, 100])\n",
        "v.apply(f1)        # \u65b9\u6cd52"
      ],
      "id": "b1e8917c-c5b8-4d87-b141-35c3a29206fc"
    },
    {
      "cell_type": "code",
      "execution_count": null,
      "metadata": {},
      "outputs": [],
      "source": [
        "pd.Series([10] * 3).apply(f1)\n",
        "# \u7d50\u679c\u306f\u5272\u611b"
      ],
      "id": "39cd29ba-456b-40a8-8749-3113503208a8"
    },
    {
      "cell_type": "code",
      "execution_count": null,
      "metadata": {},
      "outputs": [],
      "source": [
        "def f2(n):\n",
        "    tmp = np.random.random(n)\n",
        "    return pd.Series([\n",
        "        n,\n",
        "        tmp.mean(),\n",
        "        tmp.std(ddof=1)],\n",
        "        index=['x', 'p', 'q'])\n",
        "\n",
        "f2(10) # \u52d5\u4f5c\u78ba\u8a8d"
      ],
      "id": "2ae15655-d051-4885-96c2-ace961b082bd"
    },
    {
      "cell_type": "code",
      "execution_count": null,
      "metadata": {},
      "outputs": [],
      "source": [
        "v = pd.Series([5, 10, 100])\n",
        "v.apply(f2)"
      ],
      "id": "791c7535-16d3-4a1a-a325-c5a3b3e63c80"
    },
    {
      "cell_type": "code",
      "execution_count": null,
      "metadata": {},
      "outputs": [],
      "source": [
        "def f3(x, y):\n",
        "    tmp = np.random.random(x) * y\n",
        "    return pd.Series([\n",
        "        x,\n",
        "        y,\n",
        "        tmp.mean(),\n",
        "        tmp.std(ddof=1)],\n",
        "        index=['x', 'y', 'p', 'q'])\n",
        "\n",
        "f3(10, 6) # \u52d5\u4f5c\u78ba\u8a8d"
      ],
      "id": "7dfa98f1-2c04-46ba-bcb6-e38fed284522"
    },
    {
      "cell_type": "code",
      "execution_count": null,
      "metadata": {},
      "outputs": [],
      "source": [
        "my_df = pd.DataFrame({\n",
        "    'x': [5, 10, 100,  5, 10, 100],\n",
        "    'y': [6,  6,   6, 12, 12,  12]})\n",
        "\n",
        "my_df.apply(\n",
        "  lambda row: f3(row['x'], row['y']),\n",
        "  axis=1)\n",
        "# \u3042\u308b\u3044\u306f\n",
        "my_df.apply(lambda row:\n",
        "            f3(*row), axis=1)\n"
      ],
      "id": "a851beca-e40d-4942-b8a1-d30b8279e065"
    },
    {
      "cell_type": "code",
      "execution_count": null,
      "metadata": {},
      "outputs": [],
      "source": [
        "from pandarallel import pandarallel\n",
        "pandarallel.initialize() # \u6e96\u5099\n",
        "\n",
        "v = pd.Series([5, 10, 100])\n",
        "v.parallel_apply(f1)\n",
        "# \u7d50\u679c\u306f\u5272\u611b"
      ],
      "id": "51d60af5-3c67-42e3-9f09-618fbcc3d5b6"
    },
    {
      "id": "a436eef5",
      "cell_type": "markdown",
      "source": "## 3.8 \u305d\u306e\u4ed6",
      "metadata": {}
    },
    {
      "cell_type": "code",
      "execution_count": null,
      "metadata": {},
      "outputs": [],
      "source": [
        "x = 123\n",
        "type(x)"
      ],
      "id": "20b1e021-34c6-4f96-ade6-84830c784dcb"
    },
    {
      "cell_type": "code",
      "execution_count": null,
      "metadata": {},
      "outputs": [],
      "source": [
        "%whos"
      ],
      "id": "3f54889b-5ac5-46fe-8fab-8e60b7de00f9"
    },
    {
      "cell_type": "code",
      "execution_count": null,
      "metadata": {},
      "outputs": [],
      "source": [
        "import math\n",
        "?math.log\n",
        "# \u3042\u308b\u3044\u306f\n",
        "help(math.log)"
      ],
      "id": "deb9b8a2-f644-47c4-bb20-d16d0a0e4584"
    },
    {
      "cell_type": "code",
      "execution_count": null,
      "metadata": {},
      "outputs": [],
      "source": [
        "import numpy as np\n",
        "v = [1, np.nan, 3]\n",
        "v"
      ],
      "id": "be60f9f8-0bea-4866-a98f-1f17c572a241"
    },
    {
      "cell_type": "code",
      "execution_count": null,
      "metadata": {},
      "outputs": [],
      "source": [
        "np.isnan(v[1])\n",
        "\n",
        "v[1] == np.nan # \u8aa4\u308a"
      ],
      "id": "352fc627-7230-4ede-8715-a6e429edf945"
    },
    {
      "id": "11b190ba",
      "cell_type": "markdown",
      "source": "# 4 \u7d71\u8a08\u5165\u9580\n\n\n",
      "metadata": {}
    },
    {
      "id": "eb031e1f",
      "cell_type": "markdown",
      "source": "## 4.1 \u8a18\u8ff0\u7d71\u8a08",
      "metadata": {}
    },
    {
      "cell_type": "code",
      "execution_count": null,
      "metadata": {},
      "outputs": [],
      "source": [
        "import numpy as np\n",
        "import pandas as pd\n",
        "\n",
        "x = [165, 170, 175, 180, 185]\n",
        "np.mean(x) # \u30ea\u30b9\u30c8\u306e\u5834\u5408\n",
        "\n",
        "x = np.array( # \u30a2\u30ec\u30a4\n",
        "    [165, 170, 175, 180, 185])\n",
        "x.mean() # np.mean(x)\u3082\u53ef\n",
        "\n",
        "x = pd.Series( # \u30b7\u30ea\u30fc\u30ba\n",
        "    [165, 170, 175, 180, 185])\n",
        "x.mean() # np.mean(x)\u3082\u53ef"
      ],
      "id": "9887a864-8a84-4ef0-847a-1b2b336f2709"
    },
    {
      "cell_type": "code",
      "execution_count": null,
      "metadata": {},
      "outputs": [],
      "source": [
        "n = len(x) # \u30b5\u30f3\u30d7\u30eb\u30b5\u30a4\u30ba\n",
        "sum(x) / n"
      ],
      "id": "60e7c47d-c8f3-4619-9ae6-68e592cac176"
    },
    {
      "cell_type": "code",
      "execution_count": null,
      "metadata": {},
      "outputs": [],
      "source": [
        "y = [173, 174, 175, 176, 177]\n",
        "np.mean(y)"
      ],
      "id": "98282cf9-279f-4d1c-a1ae-463617cb57a7"
    },
    {
      "cell_type": "code",
      "execution_count": null,
      "metadata": {},
      "outputs": [],
      "source": [
        "np.var(x, ddof=1) # x\u306e\u5206\u6563\n",
        "\n",
        "np.var(y, ddof=1) # y\u306e\u5206\u6563"
      ],
      "id": "e5502f52-7364-4d22-8c07-61196edd3087"
    },
    {
      "cell_type": "code",
      "execution_count": null,
      "metadata": {},
      "outputs": [],
      "source": [
        "sum((x - np.mean(x))**2) / (n - 1)"
      ],
      "id": "738486cf-0a1f-4cae-af93-0c5305ae0b33"
    },
    {
      "cell_type": "code",
      "execution_count": null,
      "metadata": {},
      "outputs": [],
      "source": [
        "np.std(x, ddof=1) # x\u306e\u6a19\u6e96\u504f\u5dee\n",
        "\n",
        "np.std(y, ddof=1) # y\u306e\u6a19\u6e96\u504f\u5dee"
      ],
      "id": "cc7013ba-ec05-4fcb-8186-fde6e8b1cccc"
    },
    {
      "cell_type": "code",
      "execution_count": null,
      "metadata": {},
      "outputs": [],
      "source": [
        "np.var(x, ddof=1)**0.5 # x\u306e\u6a19\u6e96\u504f\u5dee"
      ],
      "id": "0113f562-894e-4506-8c1f-caade818ad66"
    },
    {
      "cell_type": "code",
      "execution_count": null,
      "metadata": {},
      "outputs": [],
      "source": [
        "s = pd.Series(x)\n",
        "s.describe()"
      ],
      "id": "ee4ad9ba-818b-49a1-ac13-05e2aaeefb47"
    },
    {
      "cell_type": "code",
      "execution_count": null,
      "metadata": {},
      "outputs": [],
      "source": [
        "# s.describe()\u3067\u8a08\u7b97\u6e08\u307f"
      ],
      "id": "9b300f67-322a-489a-b159-cce83d9d25e6"
    },
    {
      "cell_type": "code",
      "execution_count": null,
      "metadata": {},
      "outputs": [],
      "source": [
        "x = [165, 170, 175, 180, 185]\n",
        "\n",
        "np.var(x, ddof=1) # \u4e0d\u504f\u5206\u6563\n",
        "\n",
        "np.var(x, ddof=0) # \u6a19\u672c\u5206\u6563"
      ],
      "id": "b1819d66-8a0b-495a-be5c-4e39d2cca978"
    },
    {
      "cell_type": "code",
      "execution_count": null,
      "metadata": {},
      "outputs": [],
      "source": [
        "np.std(x, ddof=1) # \u221a\u4e0d\u504f\u5206\u6563\n",
        "\n",
        "np.std(x, ddof=0) # \u221a\u6a19\u672c\u5206\u6563"
      ],
      "id": "395a026f-e529-46f3-87d9-0a3abbe4c9d9"
    },
    {
      "cell_type": "code",
      "execution_count": null,
      "metadata": {},
      "outputs": [],
      "source": [
        "np.std(x, ddof=1) / len(x)**0.5"
      ],
      "id": "f1e2279d-e747-4c28-ad3d-b4b8da75aebc"
    },
    {
      "cell_type": "code",
      "execution_count": null,
      "metadata": {},
      "outputs": [],
      "source": [
        "import numpy as np\n",
        "import pandas as pd\n",
        "\n",
        "my_df = pd.DataFrame({\n",
        "    'name':    ['A', 'B', 'C', 'D'],\n",
        "    'english': [ 60,  90,  70,  90],\n",
        "    'math':    [ 70,  80,  90, 100],\n",
        "    'gender':  ['f', 'm', 'm', 'f']})"
      ],
      "id": "9ee8a58f-7bf3-41b6-914a-94067fd0ecf4"
    },
    {
      "cell_type": "code",
      "execution_count": null,
      "metadata": {},
      "outputs": [],
      "source": [
        "my_df['english'].var(ddof=1)\n",
        "# \u3042\u308b\u3044\u306f\n",
        "np.var(my_df['english'], ddof=1)\n"
      ],
      "id": "74451927-4ce4-4784-b366-1b7efffb452d"
    },
    {
      "cell_type": "code",
      "execution_count": null,
      "metadata": {},
      "outputs": [],
      "source": [
        "my_df.var()\n",
        "# \u3042\u308b\u3044\u306f\n",
        "my_df.apply('var')\n",
        "# \u3042\u308b\u3044\u306f\n",
        "my_df.iloc[:, [1, 2]].apply(\n",
        "    lambda x: np.var(x, ddof=1))\n"
      ],
      "id": "45b73756-a613-4cb3-8eb1-df9b983d041c"
    },
    {
      "cell_type": "code",
      "execution_count": null,
      "metadata": {},
      "outputs": [],
      "source": [
        "my_df.describe()"
      ],
      "id": "2b072572-4d5b-4c83-9c65-ca3a716eaca6"
    },
    {
      "cell_type": "code",
      "execution_count": null,
      "metadata": {},
      "outputs": [],
      "source": [
        "from collections import Counter\n",
        "Counter(my_df.gender)\n",
        "\n",
        "# \u3042\u308b\u3044\u306f\n",
        "\n",
        "my_df.groupby('gender').apply(len)"
      ],
      "id": "c169bef4-dd63-4990-a351-2a78b2397111"
    },
    {
      "cell_type": "code",
      "execution_count": null,
      "metadata": {},
      "outputs": [],
      "source": [
        "my_df2 = my_df.assign(\n",
        "    excel=my_df.math >= 80)\n",
        "pd.crosstab(my_df2.gender,\n",
        "            my_df2.excel)"
      ],
      "id": "ee33bd87-8d6b-41f8-be17-d82d29734de9"
    },
    {
      "cell_type": "code",
      "execution_count": null,
      "metadata": {},
      "outputs": [],
      "source": [
        "my_df.groupby('gender').mean()\n",
        "# \u3042\u308b\u3044\u306f\n",
        "my_df.groupby('gender').agg('mean')\n",
        "# \u3042\u308b\u3044\u306f\n",
        "my_df.groupby('gender').agg(np.mean)\n"
      ],
      "id": "4019b41e-28f3-45de-a51e-5c01e04df5ed"
    },
    {
      "id": "aafa5f78",
      "cell_type": "markdown",
      "source": "## 4.2 \u30c7\u30fc\u30bf\u306e\u53ef\u8996\u5316",
      "metadata": {}
    },
    {
      "cell_type": "code",
      "execution_count": null,
      "metadata": {},
      "outputs": [],
      "source": [
        "import numpy as np\n",
        "import pandas as pd\n",
        "import statsmodels.api as sm\n",
        "iris = sm.datasets.get_rdataset('iris', 'datasets').data\n",
        "iris.head()"
      ],
      "id": "5039e602-2b1d-4570-bd2d-1b2fdc0f22e5"
    },
    {
      "cell_type": "code",
      "execution_count": null,
      "metadata": {},
      "outputs": [],
      "source": [
        "iris.hist('Sepal.Length')"
      ],
      "id": "c9666b1d-bdb8-4b87-82de-78821dcd2d30"
    },
    {
      "cell_type": "code",
      "execution_count": null,
      "metadata": {},
      "outputs": [],
      "source": [
        "my_df = pd.DataFrame(\n",
        "    {'x': [10, 20, 30]})\n",
        "my_df.hist('x', bins=2) # \u968e\u7d1a\u6570\u306f2"
      ],
      "id": "7a238c70-88d3-4481-8c00-3be750087071"
    },
    {
      "cell_type": "code",
      "execution_count": null,
      "metadata": {},
      "outputs": [],
      "source": [
        "x = iris['Sepal.Length']\n",
        "tmp = np.linspace(min(x), max(x), 10)\n",
        "iris.hist('Sepal.Length',\n",
        "          bins=tmp.round(2))"
      ],
      "id": "df22d07d-cdac-470c-9e25-eb7e8d8c5d71"
    },
    {
      "cell_type": "code",
      "execution_count": null,
      "metadata": {},
      "outputs": [],
      "source": [
        "iris.plot('Sepal.Length',\n",
        "          'Sepal.Width',\n",
        "          kind='scatter')"
      ],
      "id": "666fa1f4-3cea-4cda-8797-f593c0bcd403"
    },
    {
      "cell_type": "code",
      "execution_count": null,
      "metadata": {},
      "outputs": [],
      "source": [
        "iris.boxplot()"
      ],
      "id": "53cb9583-9148-43ed-8697-0a86809fe7cb"
    },
    {
      "cell_type": "code",
      "execution_count": null,
      "metadata": {},
      "outputs": [],
      "source": [
        "pd.options.display.float_format = (\n",
        "    '{:.2f}'.format)\n",
        "my_df = (iris.describe().transpose()\n",
        "    [['mean', 'std']])\n",
        "my_df['se'] = (my_df['std'] /\n",
        "               len(iris)**0.5)\n",
        "my_df"
      ],
      "id": "333ca6d8-4045-4313-a01f-dd3714284944"
    },
    {
      "cell_type": "code",
      "execution_count": null,
      "metadata": {},
      "outputs": [],
      "source": [
        "my_df.plot(y='mean', kind='bar', yerr='se', capsize=10)"
      ],
      "id": "a96251d4-9af0-4103-9f95-428efea331b3"
    },
    {
      "cell_type": "code",
      "execution_count": null,
      "metadata": {},
      "outputs": [],
      "source": [
        "my_group = iris.groupby('Species')                    # \u54c1\u7a2e\u3054\u3068\u306b\uff0c\n",
        "my_df = my_group.agg('mean')                          # \u5404\u5909\u6570\u306e\uff0c\u5e73\u5747\u3068\n",
        "my_se = my_group.agg(lambda x: x.std() / len(x)**0.5) # \u6a19\u6e96\u8aa4\u5dee\u3092\u6c42\u3081\u308b\uff0e\n",
        "my_se"
      ],
      "id": "1a45b9de-df64-4051-813f-e0dd4c3dbb12"
    },
    {
      "cell_type": "code",
      "execution_count": null,
      "metadata": {},
      "outputs": [],
      "source": [
        "my_group.agg('mean').plot(kind='bar', yerr=my_se, capsize=5)"
      ],
      "id": "40b12300-d616-4055-ab9a-89e1304116d5"
    },
    {
      "cell_type": "code",
      "execution_count": null,
      "metadata": {},
      "outputs": [],
      "source": [
        "from statsmodels.graphics.mosaicplot \\\n",
        "    import mosaic\n",
        "\n",
        "my_df = pd.DataFrame({\n",
        "    'Species': iris.Species,\n",
        "    'w_Sepal': iris['Sepal.Width'] > 3})\n",
        "\n",
        "my_table = pd.crosstab( # \u5206\u5272\u8868\n",
        "    my_df['Species'],\n",
        "    my_df['w_Sepal'])\n",
        "my_table\n",
        "\n",
        "mosaic(my_df,\n",
        "       index=['Species', 'w_Sepal'])"
      ],
      "id": "14bfb4b2-9b95-4641-8648-b2754b4e7fc4"
    },
    {
      "cell_type": "code",
      "execution_count": null,
      "metadata": {},
      "outputs": [],
      "source": [
        "my_table.columns = [str(x) for x in my_table.columns]\n",
        "my_table.index   = [str(x) for x in my_table.index]\n",
        "mosaic(my_df, index=['Species', 'w_Sepal'], labelizer=lambda k: my_table.loc[k])"
      ],
      "id": "20aa0da3-b81e-4217-8093-021a74536f41"
    },
    {
      "cell_type": "code",
      "execution_count": null,
      "metadata": {},
      "outputs": [],
      "source": [
        "import matplotlib.pyplot as plt\n",
        "import numpy as np\n",
        "\n",
        "x = np.linspace(-2, 2, 100)\n",
        "y = x**3 - x\n",
        "plt.plot(x, y)"
      ],
      "id": "3027f2dd-85ac-4b67-8178-e172f1db9591"
    },
    {
      "id": "8cdcd984",
      "cell_type": "markdown",
      "source": "## 4.3 \u4e71\u6570",
      "metadata": {}
    },
    {
      "cell_type": "code",
      "execution_count": null,
      "metadata": {},
      "outputs": [],
      "source": [
        "import matplotlib.pyplot as plt\n",
        "import numpy as np\n",
        "rng = np.random.default_rng()"
      ],
      "id": "d55b0139-6551-44ac-8ee2-135e8df64c9a"
    },
    {
      "cell_type": "code",
      "execution_count": null,
      "metadata": {},
      "outputs": [],
      "source": [
        "x = np.random.choice(\n",
        "    a=range(1, 7), # 1\u304b\u30896\n",
        "    size=10000,    # \u4e71\u6570\u306e\u6570\n",
        "    replace=True)  # \u91cd\u8907\u3042\u308a\n",
        "# \u3042\u308b\u3044\u306f\n",
        "x = np.random.randint(\n",
        "# \u3042\u308b\u3044\u306f\n",
        "#x = rng.integers(\n",
        "    low=1,      # \u6700\u5c0f\n",
        "    high=7,     # \u6700\u5927+1\n",
        "    size=10000) # \u4e71\u6570\u306e\u6570\n",
        "\n",
        "plt.hist(x, bins=6) # \u30d2\u30b9\u30c8\u30b0\u30e9\u30e0"
      ],
      "id": "e6a21365-1ed8-4c20-a77f-43d5068fa06e"
    },
    {
      "cell_type": "code",
      "execution_count": null,
      "metadata": {},
      "outputs": [],
      "source": [
        "x = np.random.random(size=1000)\n",
        "# \u3042\u308b\u3044\u306f\n",
        "x = rng.random(size=10000)\n",
        "# \u3042\u308b\u3044\u306f\n",
        "x = np.random.uniform(\n",
        "    low=0,     # \u6700\u5c0f\n",
        "    high=1,    # \u6700\u5927\n",
        "    size=1000) # \u4e71\u6570\u306e\u6570\n",
        "plt.hist(x)"
      ],
      "id": "0124cd24-da43-4934-be27-e922807ebb75"
    },
    {
      "cell_type": "code",
      "execution_count": null,
      "metadata": {},
      "outputs": [],
      "source": [
        "tmp = np.random.uniform(\n",
        "    low=1,     # \u6700\u5c0f\n",
        "    high=7,    # \u6700\u5927 + 1\n",
        "    size=1000) # \u4e71\u6570\u306e\u6570\n",
        "x = [int(k) for k in tmp]\n",
        "plt.hist(x, bins=6) # \u7d50\u679c\u306f\u5272\u611b"
      ],
      "id": "3ee9b95c-5078-4a4b-af19-1b814967e760"
    },
    {
      "cell_type": "code",
      "execution_count": null,
      "metadata": {},
      "outputs": [],
      "source": [
        "n = 100\n",
        "p = 0.5\n",
        "r = 10000\n",
        "x = np.random.binomial(\n",
        "# \u3042\u308b\u3044\u306f\n",
        "#x = rng.binomial(\n",
        "    n=n,    # \u8a66\u884c\u56de\u6570\n",
        "    p=p,    # \u78ba\u7387\n",
        "    size=r) # \u4e71\u6570\u306e\u6570\n",
        "plt.hist(x, bins=max(x) - min(x))"
      ],
      "id": "aeff29ca-86f9-4515-a803-28793b0b8eed"
    },
    {
      "cell_type": "code",
      "execution_count": null,
      "metadata": {},
      "outputs": [],
      "source": [
        "r = 10000\n",
        "x = np.random.normal(\n",
        "# \u3042\u308b\u3044\u306f\n",
        "#x = rng.normal(\n",
        "    loc=50,  # \u5e73\u5747\n",
        "    scale=5, # \u6a19\u6e96\u504f\u5dee\n",
        "    size=r)  # \u4e71\u6570\u306e\u6570\n",
        "plt.hist(x, bins=40)"
      ],
      "id": "9e9fa087-5b10-4ae1-83f5-abc9a1328278"
    },
    {
      "cell_type": "code",
      "execution_count": null,
      "metadata": {},
      "outputs": [],
      "source": [
        "import numpy as np\n",
        "import pandas as pd\n",
        "\n",
        "def f(k):\n",
        "    n = 10000\n",
        "    tmp = [g(np.random.normal(size=k, scale=3)) for _ in range(n)]\n",
        "    return pd.Series([k,\n",
        "                      np.mean(tmp),                  # \u5e73\u5747\n",
        "                      np.std(tmp, ddof=1) / n**0.5], # \u6a19\u6e96\u8aa4\u5dee\n",
        "                     index=['k', 'mean', 'se'])"
      ],
      "id": "1b9b1ea1-6257-4409-81cf-a93f342c7479"
    },
    {
      "cell_type": "code",
      "execution_count": null,
      "metadata": {},
      "outputs": [],
      "source": [
        "def g(x):\n",
        "    return np.var(x, ddof=1)\n",
        "pd.Series([10, 20, 30]).apply(f)"
      ],
      "id": "10809c5d-6854-43ad-bc4b-ac29b12bd74b"
    },
    {
      "cell_type": "code",
      "execution_count": null,
      "metadata": {},
      "outputs": [],
      "source": [
        "def g(x):\n",
        "    return np.std(x, ddof=1)\n",
        "pd.Series([10, 20, 30]).apply(f)"
      ],
      "id": "83acc241-bb9b-48f4-9383-3875c50e7309"
    },
    {
      "cell_type": "code",
      "execution_count": null,
      "metadata": {},
      "outputs": [],
      "source": [
        "from math import gamma\n",
        "\n",
        "def g(x):\n",
        "    n = len(x)\n",
        "    return (np.std(x, ddof=1) *\n",
        "            (np.sqrt((n - 1) / 2) *\n",
        "             gamma((n - 1) / 2) /\n",
        "             gamma(n / 2)))\n",
        "pd.Series([10, 20, 30]).apply(f)"
      ],
      "id": "e2c5dc3d-5197-4ee8-8386-991a20118035"
    },
    {
      "id": "b6d0f506",
      "cell_type": "markdown",
      "source": "## 4.4 \u7d71\u8a08\u7684\u63a8\u6e2c",
      "metadata": {}
    },
    {
      "cell_type": "code",
      "execution_count": null,
      "metadata": {},
      "outputs": [],
      "source": [
        "from statsmodels.stats.proportion import binom_test, proportion_confint\n",
        "\n",
        "binom_test(count=2,                 # \u5f53\u305f\u3063\u305f\u56de\u6570\n",
        "           nobs=15,                 # \u304f\u3058\u3092\u5f15\u3044\u305f\u56de\u6570\n",
        "           prop=4 / 10,             # \u5f53\u305f\u308b\u78ba\u7387\uff08\u4eee\u8aac\uff09\n",
        "           alternative='two-sided') # \u4e21\u5074\u691c\u5b9a\uff08\u30c7\u30d5\u30a9\u30eb\u30c8\uff09\n",
        "                                    # \u5de6\u7247\u5074\u691c\u5b9a\u306a\u3089'smaller'\n",
        "                                    # \u53f3\u7247\u5074\u691c\u5b9a\u306a\u3089'larger'"
      ],
      "id": "e46feb32-ecc2-4111-b676-3a7716a0cb78"
    },
    {
      "cell_type": "code",
      "execution_count": null,
      "metadata": {},
      "outputs": [],
      "source": [
        "import numpy as np\n",
        "import pandas as pd\n",
        "from scipy import stats\n",
        "\n",
        "t = 4 / 10                        # \u5f53\u305f\u308b\u78ba\u7387\n",
        "n = 15                            # \u304f\u3058\u3092\u5f15\u3044\u305f\u56de\u6570\n",
        "x = np.array(range(0, n + 1))     # \u5f53\u305f\u3063\u305f\u56de\u6570\n",
        "my_pr  = stats.binom.pmf(x, n, t) # x\u56de\u5f53\u305f\u308b\u78ba\u7387\n",
        "my_pr2 = stats.binom.pmf(2, n, t) # 2\u56de\u5f53\u305f\u308b\u78ba\u7387\n",
        "\n",
        "my_data = pd.DataFrame({'x': x, 'y1': my_pr, 'y2': my_pr})\n",
        "my_data.loc[my_pr >  my_pr2, 'y1'] = np.nan # \u5f53\u305f\u308b\u78ba\u7387\u304c\uff0c2\u56de\u5f53\u305f\u308b\u78ba\u7387\u8d85\u904e\n",
        "my_data.loc[my_pr <= my_pr2, 'y2'] = np.nan # \u5f53\u305f\u308b\u78ba\u7387\u304c\uff0c2\u56de\u5f53\u305f\u308b\u78ba\u7387\u4ee5\u4e0b\n",
        "ax = my_data.plot(x='x', style='o', ylabel='probability',\n",
        "                  legend=False)         # \u51e1\u4f8b\u3092\u8868\u793a\u3057\u306a\u3044\uff0e\n",
        "ax.hlines(y=my_pr2, xmin=0, xmax=15)    # \u6c34\u5e73\u7dda\n",
        "ax.vlines(x=x,      ymin=0, ymax=my_pr) # \u5782\u76f4\u7dda"
      ],
      "id": "72e2514e-344d-443a-8d7d-69316ad7e606"
    },
    {
      "cell_type": "code",
      "execution_count": null,
      "metadata": {},
      "outputs": [],
      "source": [
        "a = 0.05\n",
        "proportion_confint(\n",
        "    count=2, # \u5f53\u305f\u3063\u305f\u56de\u6570\n",
        "    nobs=15, # \u304f\u3058\u3092\u5f15\u3044\u305f\u56de\u6570\n",
        "    alpha=a, # \u6709\u610f\u6c34\u6e96\uff08\u7701\u7565\u53ef\uff09\n",
        "    method='binom_test')"
      ],
      "id": "2151c68d-79b1-4836-a733-f20a01147dd4"
    },
    {
      "cell_type": "code",
      "execution_count": null,
      "metadata": {},
      "outputs": [],
      "source": [
        "a = 0.05 # \u6709\u610f\u6c34\u6e96\n",
        "tmp = np.linspace(0, 1, 100)\n",
        "\n",
        "my_df = pd.DataFrame({\n",
        "    't': tmp,                                                  # \u5f53\u305f\u308b\u78ba\u7387\n",
        "    'q': a,                                                    # \u6c34\u5e73\u7dda\n",
        "    'p': [binom_test(count=2, nobs=15, prop=t) for t in tmp]}) # p\u5024\n",
        "\n",
        "my_df.plot(x='t', legend=None, xlabel=r'$\\theta$', ylabel=r'p-value')"
      ],
      "id": "aed39a64-eb72-4fc2-b2c5-cc655da0c6dd"
    },
    {
      "cell_type": "code",
      "execution_count": null,
      "metadata": {},
      "outputs": [],
      "source": [
        "from statsmodels.stats.weightstats import CompareMeans, DescrStatsW\n",
        "\n",
        "X = [32.1, 26.2, 27.5, 31.8, 32.1, 31.2, 30.1, 32.4, 32.3, 29.9,\n",
        "     29.6, 26.6, 31.2, 30.9, 29.3]\n",
        "Y = [35.4, 34.6, 31.1, 32.4, 33.3, 34.7, 35.3, 34.3, 32.1, 28.3,\n",
        "     33.3, 30.5, 32.6, 33.3, 32.2]\n",
        "\n",
        "a = 0.05          # \u6709\u610f\u6c34\u6e96\uff08\u30c7\u30d5\u30a9\u30eb\u30c8\uff09 = 1 - \u4fe1\u983c\u4fc2\u6570\n",
        "alt = 'two-sided' # \u4e21\u5074\u691c\u5b9a\uff08\u30c7\u30d5\u30a9\u30eb\u30c8\uff09\n",
        "                  # \u5de6\u7247\u5074\u691c\u5b9a\u306a\u3089'smaller'\n",
        "                  # \u53f3\u7247\u5074\u691c\u5b9a\u306a\u3089'larger'\n",
        "\n",
        "d = DescrStatsW(np.array(X) - np.array(Y)) # \u5bfe\u6a19\u672c\u306e\u5834\u5408\n",
        "d.ttest_mean(alternative=alt)[1]           # p\u5024\n",
        "\n",
        "d.tconfint_mean(alpha=a, alternative=alt) # \u4fe1\u983c\u533a\u9593"
      ],
      "id": "9cd59d6b-e4b6-4b62-988a-8466ea55088f"
    },
    {
      "cell_type": "code",
      "execution_count": null,
      "metadata": {},
      "outputs": [],
      "source": [
        "c = CompareMeans(DescrStatsW(X), DescrStatsW(Y)) # \u5bfe\u6a19\u672c\u3067\u306a\u3044\u5834\u5408\n",
        "\n",
        "ve = 'pooled' # \u7b49\u5206\u6563\u3092\u4eee\u5b9a\u3059\u308b\uff08\u30c7\u30d5\u30a9\u30eb\u30c8\uff09\uff0e\u4eee\u5b9a\u3057\u306a\u3044\u306a\u3089'unequal'\uff0e\n",
        "c.ttest_ind(alternative=alt, usevar=ve)[1] # p\u5024\n",
        "\n",
        "c.tconfint_diff(alpha=a, alternative=alt, usevar=ve) # \u4fe1\u983c\u533a\u9593"
      ],
      "id": "34f703a4-a4d5-4162-b41b-5ea7de988a4d"
    },
    {
      "cell_type": "code",
      "execution_count": null,
      "metadata": {},
      "outputs": [],
      "source": [
        "import pandas as pd\n",
        "my_url = ('https://raw.githubusercontent.com/taroyabuki'\n",
        "          '/fromzero/master/data/smoker.csv')\n",
        "my_data = pd.read_csv(my_url)"
      ],
      "id": "3535e011-7fe1-4f69-bde6-e0a133de7974"
    },
    {
      "cell_type": "code",
      "execution_count": null,
      "metadata": {},
      "outputs": [],
      "source": [
        "my_data.head()"
      ],
      "id": "5d9970a0-b748-4985-8975-28c79738910b"
    },
    {
      "cell_type": "code",
      "execution_count": null,
      "metadata": {},
      "outputs": [],
      "source": [
        "my_table = pd.crosstab(\n",
        "    my_data['alive'],\n",
        "    my_data['smoker'])\n",
        "my_table"
      ],
      "id": "8aa7f72f-1e2d-4a37-95e6-3e9115f215f9"
    },
    {
      "cell_type": "code",
      "execution_count": null,
      "metadata": {},
      "outputs": [],
      "source": [
        "from scipy.stats import chi2_contingency\n",
        "chi2_contingency(my_table, correction=False)[1]"
      ],
      "id": "3afde666-43f0-4c19-af2e-a4cb03745782"
    },
    {
      "cell_type": "code",
      "execution_count": null,
      "metadata": {},
      "outputs": [],
      "source": [
        "X = [0] * 13 + [1] * 2 # \u624b\u98061\n",
        "X\n",
        "\n",
        "tmp = np.random.choice(X, 15, replace=True) # \u624b\u98062\n",
        "tmp\n",
        "\n",
        "sum(tmp) # \u624b\u98063\n",
        "\n",
        "n = 10**5\n",
        "result = [sum(np.random.choice(X, len(X), replace=True)) for _ in range(n)] # \u624b\u98064"
      ],
      "id": "7f2b6bf1-e72f-4b21-bc40-5b996c404932"
    },
    {
      "cell_type": "code",
      "execution_count": null,
      "metadata": {},
      "outputs": [],
      "source": [
        "import matplotlib.pyplot as plt\n",
        "plt.hist(result, bins=range(0, 16))"
      ],
      "id": "0ea0c1c9-36d8-4da7-9527-f93550b468a9"
    },
    {
      "cell_type": "code",
      "execution_count": null,
      "metadata": {},
      "outputs": [],
      "source": [
        "np.quantile(result, [0.025, 0.975])"
      ],
      "id": "fea71e7e-3fd9-4f05-be99-ead9405a2e4b"
    },
    {
      "id": "b791847c",
      "cell_type": "markdown",
      "source": "# 5 \u524d\u51e6\u7406\n\n\n",
      "metadata": {}
    },
    {
      "id": "66d4c089",
      "cell_type": "markdown",
      "source": "## 5.1 \u30c7\u30fc\u30bf\u306e\u8aad\u307f\u8fbc\u307f",
      "metadata": {}
    },
    {
      "cell_type": "code",
      "execution_count": null,
      "metadata": {},
      "outputs": [],
      "source": [
        "!wget https://raw.githubusercontent.com/taroyabuki/fromzero/master/data/exam.csv"
      ],
      "id": "694e9ba8-e357-4c2f-af8f-63ec1af58469"
    },
    {
      "cell_type": "code",
      "execution_count": null,
      "metadata": {},
      "outputs": [],
      "source": [
        "import pandas as pd\n",
        "my_df = pd.read_csv('exam.csv')\n",
        "my_df"
      ],
      "id": "233d2e49-25ac-4e56-8045-48f78cf7e55d"
    },
    {
      "cell_type": "code",
      "execution_count": null,
      "metadata": {},
      "outputs": [],
      "source": [
        "my_url = ('https://raw.githubusercontent.com/taroyabuki'\n",
        "          '/fromzero/master/data/exam.csv')\n",
        "my_df = pd.read_csv(my_url)"
      ],
      "id": "5d80dae8-b9b5-4a6b-802b-4f7ab243d81d"
    },
    {
      "cell_type": "code",
      "execution_count": null,
      "metadata": {},
      "outputs": [],
      "source": [
        "my_df2 = pd.read_csv('exam.csv',\n",
        "    index_col='name')\n",
        "my_df2"
      ],
      "id": "dcb02c1a-0372-4270-ac2b-f9c39a449981"
    },
    {
      "cell_type": "code",
      "execution_count": null,
      "metadata": {},
      "outputs": [],
      "source": [
        "my_df.to_csv('exam2.csv', index=False)"
      ],
      "id": "a8288a9e-4a6d-4d59-8b03-1078a776f8f1"
    },
    {
      "cell_type": "code",
      "execution_count": null,
      "metadata": {},
      "outputs": [],
      "source": [
        "my_df2.to_csv('exam3.csv')"
      ],
      "id": "67c1279f-85dd-47d9-b18f-38ac8f881def"
    },
    {
      "cell_type": "code",
      "execution_count": null,
      "metadata": {},
      "outputs": [],
      "source": [
        "my_df = pd.read_csv('exam.csv',\n",
        "    encoding='UTF-8')"
      ],
      "id": "2d3ab84c-1df2-4ba7-81cd-db3f576211bf"
    },
    {
      "cell_type": "code",
      "execution_count": null,
      "metadata": {},
      "outputs": [],
      "source": [
        "my_df.to_csv('exam2.csv', index=False, encoding='UTF-8')"
      ],
      "id": "eacbbd75-ea64-44a3-95e5-676b6d7aef80"
    },
    {
      "cell_type": "code",
      "execution_count": null,
      "metadata": {},
      "outputs": [],
      "source": [
        "my_url = 'https://taroyabuki.github.io/fromzero/exam.html'\n",
        "my_tables = pd.read_html(my_url)"
      ],
      "id": "85ff6c3b-a162-4095-bdbf-2aa6723adb3c"
    },
    {
      "cell_type": "code",
      "execution_count": null,
      "metadata": {},
      "outputs": [],
      "source": [
        "my_tables"
      ],
      "id": "cbe5ead2-189d-422f-8806-5fafe71bf953"
    },
    {
      "cell_type": "code",
      "execution_count": null,
      "metadata": {},
      "outputs": [],
      "source": [
        "my_tables[0]"
      ],
      "id": "4b0da9c6-3303-4e21-9fa1-735bfb2f1e23"
    },
    {
      "cell_type": "code",
      "execution_count": null,
      "metadata": {},
      "outputs": [],
      "source": [
        "# 1\u5217\u76ee\u4ee5\u964d\u3092\u53d6\u308a\u51fa\u3059\uff0e\n",
        "my_data = my_tables[0].iloc[:, 1:]\n",
        "my_data"
      ],
      "id": "d3fbf9ff-f114-4ecc-be36-63a9c4f10949"
    },
    {
      "cell_type": "code",
      "execution_count": null,
      "metadata": {},
      "outputs": [],
      "source": [
        "my_url = ('https://raw.githubusercontent.com/taroyabuki'\n",
        "          '/fromzero/master/data/exam.json')\n",
        "my_data = pd.read_json(my_url)\n",
        "#my_data = pd.read_json('exam.json') # \uff08\u30d5\u30a1\u30a4\u30eb\u3092\u4f7f\u3046\u5834\u5408\uff09\n",
        "my_data"
      ],
      "id": "71a340f0-0ee6-4db6-b30d-a73bf4377b96"
    },
    {
      "cell_type": "code",
      "execution_count": null,
      "metadata": {},
      "outputs": [],
      "source": [
        "import xml.etree.ElementTree as ET\n",
        "from urllib.request import urlopen\n",
        "\n",
        "my_url = ('https://raw.githubusercontent.com/taroyabuki'\n",
        "          '/fromzero/master/data/exam.xml')\n",
        "with urlopen(my_url) as f:\n",
        "    my_tree = ET.parse(f)       # XML\u30c7\u30fc\u30bf\u306e\u8aad\u307f\u8fbc\u307f\n",
        "\n",
        "#my_tree = ET.parse('exam.xml') # \uff08\u30d5\u30a1\u30a4\u30eb\u3092\u4f7f\u3046\u5834\u5408\uff09\n",
        "my_ns = '{https://www.example.net/ns/1.0}' # \u540d\u524d\u7a7a\u9593"
      ],
      "id": "54f663ba-2829-4387-94fd-4fc878c05a8c"
    },
    {
      "cell_type": "code",
      "execution_count": null,
      "metadata": {},
      "outputs": [],
      "source": [
        "my_records = my_tree.findall(f'.//{my_ns}record')"
      ],
      "id": "c2f4b855-4f24-46da-a77b-8ddc26ae975d"
    },
    {
      "cell_type": "code",
      "execution_count": null,
      "metadata": {},
      "outputs": [],
      "source": [
        "def f(record):\n",
        "    my_dic1 = record.attrib # \u5c5e\u6027\u3092\u53d6\u308a\u51fa\u3059\uff0e\n",
        "    # \u5b50\u8981\u7d20\u306e\u540d\u524d\u3068\u5185\u5bb9\u306e\u30da\u30a2\u3092\u8f9e\u66f8\u306b\u3059\u308b\uff0e\n",
        "    my_dic2 = {child.tag.replace(my_ns, ''): child.text for child in list(record)}\n",
        "    return {**my_dic1, **my_dic2} # \u8f9e\u66f8\u3092\u7d50\u5408\u3059\u308b\uff0e"
      ],
      "id": "ca029d91-7094-431e-bebd-84d40b63c3a5"
    },
    {
      "cell_type": "code",
      "execution_count": null,
      "metadata": {},
      "outputs": [],
      "source": [
        "my_data = pd.DataFrame([f(record) for record in my_records])\n",
        "my_data['english'] = pd.to_numeric(my_data['english'])\n",
        "my_data['math']    = pd.to_numeric(my_data['math'])\n",
        "my_data"
      ],
      "id": "be96f8bc-213a-4efc-951a-89bbfbe4322d"
    },
    {
      "id": "47f17a6f",
      "cell_type": "markdown",
      "source": "## 5.2 \u30c7\u30fc\u30bf\u306e\u5909\u63db",
      "metadata": {}
    },
    {
      "cell_type": "code",
      "execution_count": null,
      "metadata": {},
      "outputs": [],
      "source": [
        "import numpy as np\n",
        "from scipy.stats import zscore\n",
        "\n",
        "x1 = [1, 2, 3]\n",
        "\n",
        "z1 = ((x1 - np.mean(x1)) /\n",
        "      np.std(x1, ddof=1))\n",
        "# \u3042\u308b\u3044\u306f\n",
        "z1 = zscore(x1, ddof=1)\n",
        "\n",
        "z1"
      ],
      "id": "f5184cc6-995a-4e20-8e73-1dd1e3d2ceb9"
    },
    {
      "cell_type": "code",
      "execution_count": null,
      "metadata": {},
      "outputs": [],
      "source": [
        "z1.mean(), np.std(z1, ddof=1)"
      ],
      "id": "adf9d08d-8d8b-4c48-8495-b472de2584d7"
    },
    {
      "cell_type": "code",
      "execution_count": null,
      "metadata": {},
      "outputs": [],
      "source": [
        "z1 * np.std(x1, ddof=1) + np.mean(x1)"
      ],
      "id": "9aba30b5-a636-4026-9f06-0633237c529b"
    },
    {
      "cell_type": "code",
      "execution_count": null,
      "metadata": {},
      "outputs": [],
      "source": [
        "x2 = [1, 3, 5]\n",
        "z2 = ((x2 - np.mean(x1)) /\n",
        "      np.std(x1, ddof=1))\n",
        "z2.mean(), np.std(z2, ddof=1)"
      ],
      "id": "8d4e49b0-f87e-4345-b373-15832f7b89a0"
    },
    {
      "cell_type": "code",
      "execution_count": null,
      "metadata": {},
      "outputs": [],
      "source": [
        "import pandas as pd\n",
        "from sklearn.preprocessing import (\n",
        "    OneHotEncoder)\n",
        "\n",
        "my_df = pd.DataFrame({\n",
        "    'id':    [ 1 ,  2 ,  3 ],\n",
        "    'class': ['A', 'B', 'C']})\n",
        "\n",
        "my_enc = OneHotEncoder()\n",
        "tmp = my_enc.fit_transform(\n",
        "    my_df[['class']]).toarray()\n",
        "my_names = my_enc.get_feature_names() \\\n",
        "if hasattr(my_enc, 'get_feature_names') \\\n",
        "else my_enc.get_feature_names_out()\n",
        "pd.DataFrame(tmp, columns=my_names)"
      ],
      "id": "f36d6e94-2a82-4054-9f18-08c628f0186a"
    },
    {
      "cell_type": "code",
      "execution_count": null,
      "metadata": {},
      "outputs": [],
      "source": [
        "my_df2 = pd.DataFrame({\n",
        "    'id':    [ 4 ,  5,   6 ],\n",
        "    'class': ['B', 'C', 'B']})\n",
        "tmp = my_enc.transform(\n",
        "    my_df2[['class']]).toarray()\n",
        "pd.DataFrame(tmp, columns=my_names)"
      ],
      "id": "113c220e-bfe9-43fa-b01e-a25033621a93"
    },
    {
      "cell_type": "code",
      "execution_count": null,
      "metadata": {},
      "outputs": [],
      "source": [
        "my_enc = OneHotEncoder(drop='first')\n",
        "\n",
        "tmp = my_enc.fit_transform(\n",
        "    my_df[['class']]).toarray()\n",
        "my_names = my_enc.get_feature_names() \\\n",
        "if hasattr(my_enc, 'get_feature_names') \\\n",
        "else my_enc.get_feature_names_out()\n",
        "pd.DataFrame(tmp, columns=my_names)\n",
        "\n",
        "tmp = my_enc.transform(\n",
        "    my_df2[['class']]).toarray()\n",
        "pd.DataFrame(tmp, columns=my_names)"
      ],
      "id": "e9e3b655-7b19-4f93-afc7-9a3534481ea2"
    },
    {
      "id": "d2f526b7",
      "cell_type": "markdown",
      "source": "# 6 \u6a5f\u68b0\u5b66\u7fd2\u306e\u76ee\u7684\u30fb\u30c7\u30fc\u30bf\u30fb\u624b\u6cd5\n\n\n",
      "metadata": {}
    },
    {
      "id": "f12c8f2c",
      "cell_type": "markdown",
      "source": "## 6.1 \u6a5f\u68b0\u5b66\u7fd2\u306e\u76ee\u7684\uff08\u672c\u66f8\u306e\u5834\u5408\uff09\n\n\n",
      "metadata": {}
    },
    {
      "id": "a720ce2d",
      "cell_type": "markdown",
      "source": "## 6.2 \u6a5f\u68b0\u5b66\u7fd2\u306e\u305f\u3081\u306e\u30c7\u30fc\u30bf",
      "metadata": {}
    },
    {
      "cell_type": "code",
      "execution_count": null,
      "metadata": {},
      "outputs": [],
      "source": [
        "import statsmodels.api as sm\n",
        "iris = sm.datasets.get_rdataset('iris', 'datasets').data\n",
        "iris.head()\n",
        "# \u4ee5\u4e0b\u7701\u7565"
      ],
      "id": "27fbd4e5-ab05-46c4-b8ac-056ec37dbbea"
    },
    {
      "cell_type": "code",
      "execution_count": null,
      "metadata": {},
      "outputs": [],
      "source": [
        "import seaborn as sns\n",
        "iris = sns.load_dataset('iris')\n",
        "iris.head()\n",
        "# \u4ee5\u4e0b\u7701\u7565"
      ],
      "id": "6bc7cbc4-afe4-4d04-ad03-d6af7196aacf"
    },
    {
      "cell_type": "code",
      "execution_count": null,
      "metadata": {},
      "outputs": [],
      "source": [
        "import pandas as pd\n",
        "from sklearn.datasets import load_iris\n",
        "tmp = load_iris()\n",
        "iris = pd.DataFrame(tmp.data, columns=tmp.feature_names)\n",
        "iris['target'] = tmp.target_names[tmp.target]\n",
        "iris.head()\n",
        "# \u4ee5\u4e0b\u7701\u7565"
      ],
      "id": "70ce2711-255d-4855-83f8-0e02e03d2b3e"
    },
    {
      "id": "462762bf",
      "cell_type": "markdown",
      "source": "## 6.3 \u6a5f\u68b0\u5b66\u7fd2\u306e\u305f\u3081\u306e\u624b\u6cd5\n\n\n",
      "metadata": {}
    },
    {
      "id": "33583a20",
      "cell_type": "markdown",
      "source": "# 7 \u56de\u5e301\uff08\u5358\u56de\u5e30\uff09\n\n\n",
      "metadata": {}
    },
    {
      "id": "e138ab2f",
      "cell_type": "markdown",
      "source": "## 7.1 \u81ea\u52d5\u8eca\u306e\u505c\u6b62\u8ddd\u96e2\n\n\n",
      "metadata": {}
    },
    {
      "id": "f64d71ce",
      "cell_type": "markdown",
      "source": "## 7.2 \u30c7\u30fc\u30bf\u306e\u78ba\u8a8d",
      "metadata": {}
    },
    {
      "cell_type": "code",
      "execution_count": null,
      "metadata": {},
      "outputs": [],
      "source": [
        "import statsmodels.api as sm\n",
        "my_data = sm.datasets.get_rdataset('cars', 'datasets').data"
      ],
      "id": "f590a6f3-7b7d-4701-9185-a165d50dad0a"
    },
    {
      "cell_type": "code",
      "execution_count": null,
      "metadata": {},
      "outputs": [],
      "source": [
        "my_data.shape"
      ],
      "id": "4e81f2a9-3a29-44da-bbb8-a716c63ff80d"
    },
    {
      "cell_type": "code",
      "execution_count": null,
      "metadata": {},
      "outputs": [],
      "source": [
        "my_data.head()"
      ],
      "id": "c935d79b-82cb-4681-b783-22d63b525eba"
    },
    {
      "cell_type": "code",
      "execution_count": null,
      "metadata": {},
      "outputs": [],
      "source": [
        "my_data.describe()"
      ],
      "id": "35b031fc-d52e-48b1-ad71-18dac17cfd8b"
    },
    {
      "cell_type": "code",
      "execution_count": null,
      "metadata": {},
      "outputs": [],
      "source": [
        "my_data.plot(x='speed', style='o')"
      ],
      "id": "a980cac2-54ee-4eea-800e-9a78516719d7"
    },
    {
      "id": "3ad809aa",
      "cell_type": "markdown",
      "source": "## 7.3 \u56de\u5e30\u5206\u6790",
      "metadata": {}
    },
    {
      "cell_type": "code",
      "execution_count": null,
      "metadata": {},
      "outputs": [],
      "source": [
        "import seaborn as sns\n",
        "import statsmodels.api as sm\n",
        "\n",
        "my_data = sm.datasets.get_rdataset('cars', 'datasets').data\n",
        "ax = sns.regplot(x='speed', y='dist', data=my_data)\n",
        "ax.vlines(x=21.5, ymin=-5, ymax=67,   linestyles='dotted')\n",
        "ax.hlines(y=67,   xmin=4,  xmax=21.5, linestyles='dotted')\n",
        "ax.set_xlim(4, 25)\n",
        "ax.set_ylim(-5, 125)"
      ],
      "id": "e1cb123a-da8a-4d97-963e-f7523a054f3c"
    },
    {
      "cell_type": "code",
      "execution_count": null,
      "metadata": {},
      "outputs": [],
      "source": [
        "import statsmodels.api as sm\n",
        "my_data = sm.datasets.get_rdataset('cars', 'datasets').data\n",
        "X, y = my_data[['speed']], my_data['dist']"
      ],
      "id": "38790a55-85ed-4d25-bb62-de220c563fc0"
    },
    {
      "cell_type": "code",
      "execution_count": null,
      "metadata": {},
      "outputs": [],
      "source": [
        "# \u30e2\u30c7\u30eb\u306e\u6307\u5b9a\n",
        "from sklearn.linear_model import LinearRegression\n",
        "my_model = LinearRegression()\n",
        "\n",
        "# \u8a13\u7df4\uff08\u30e2\u30c7\u30eb\u3092\u30c7\u30fc\u30bf\u306b\u30d5\u30a3\u30c3\u30c8\u3055\u305b\u308b\uff0e\uff09\n",
        "my_model.fit(X, y)\n",
        "\n",
        "# \u307e\u3068\u3081\u3066\u5b9f\u884c\u3057\u3066\u3082\u3088\u3044\uff0e\n",
        "# my_model = LinearRegression().fit(X, y)"
      ],
      "id": "7de06776-c537-4603-8d05-4333073d374f"
    },
    {
      "cell_type": "code",
      "execution_count": null,
      "metadata": {},
      "outputs": [],
      "source": [
        "my_model.intercept_, my_model.coef_"
      ],
      "id": "4f698190-b2d8-4505-ad54-cbca48592773"
    },
    {
      "cell_type": "code",
      "execution_count": null,
      "metadata": {},
      "outputs": [],
      "source": [
        "tmp = [[21.5]]\n",
        "my_model.predict(tmp)"
      ],
      "id": "e6276dfe-f491-4605-9815-018855b93cbb"
    },
    {
      "cell_type": "code",
      "execution_count": null,
      "metadata": {},
      "outputs": [],
      "source": [
        "import numpy as np\n",
        "import pandas as pd\n",
        "\n",
        "tmp = pd.DataFrame({'speed': np.linspace(min(my_data.speed),\n",
        "                                         max(my_data.speed),\n",
        "                                         100)})\n",
        "tmp['model'] = my_model.predict(tmp)"
      ],
      "id": "08c8c858-c98c-4e0f-b744-829a69e9f0f4"
    },
    {
      "cell_type": "code",
      "execution_count": null,
      "metadata": {},
      "outputs": [],
      "source": [
        "pd.concat([my_data, tmp]).plot(\n",
        "    x='speed', style=['o', '-'])"
      ],
      "id": "a59212ae-981b-44df-89d5-eb9ea515bbfc"
    },
    {
      "id": "7797552f",
      "cell_type": "markdown",
      "source": "## 7.4 \u5f53\u3066\u306f\u307e\u308a\u306e\u826f\u3055\u306e\u6307\u6a19",
      "metadata": {}
    },
    {
      "cell_type": "code",
      "execution_count": null,
      "metadata": {},
      "outputs": [],
      "source": [
        "import pandas as pd\n",
        "import statsmodels.api as sm\n",
        "from sklearn.linear_model import LinearRegression\n",
        "from sklearn.metrics import mean_squared_error, r2_score\n",
        "\n",
        "my_data = sm.datasets.get_rdataset('cars', 'datasets').data\n",
        "X, y = my_data[['speed']], my_data['dist']\n",
        "\n",
        "my_model = LinearRegression()\n",
        "my_model.fit(X, y)\n",
        "y_ = my_model.predict(X)\n",
        "my_data['y_'] = y_"
      ],
      "id": "986bf203-bad1-4f88-8e4a-226dc24a3002"
    },
    {
      "cell_type": "code",
      "execution_count": null,
      "metadata": {},
      "outputs": [],
      "source": [
        "pd.options.display.float_format = (\n",
        "    '{:.2f}'.format)\n",
        "my_data['residual'] = y - y_\n",
        "my_data.head()"
      ],
      "id": "3d218688-f1a2-4811-b797-7c2fb1998e18"
    },
    {
      "cell_type": "code",
      "execution_count": null,
      "metadata": {},
      "outputs": [],
      "source": [
        "ax = my_data.plot(x='speed', y='dist', style='o', legend=False)\n",
        "my_data.plot(x='speed', y='y_', style='-', legend=False, ax=ax)\n",
        "ax.vlines(x=X, ymin=y, ymax=y_, linestyles='dotted')"
      ],
      "id": "3e610c40-8df2-42d7-b052-43939c41b87d"
    },
    {
      "cell_type": "code",
      "execution_count": null,
      "metadata": {},
      "outputs": [],
      "source": [
        "mean_squared_error(y, y_)**0.5\n",
        "# \u3042\u308b\u3044\u306f\n",
        "(my_data['residual']**2).mean()**0.5\n"
      ],
      "id": "6254ba17-ade9-450c-892c-48f972491a49"
    },
    {
      "cell_type": "code",
      "execution_count": null,
      "metadata": {},
      "outputs": [],
      "source": [
        "my_model.score(X, y)\n",
        "# \u3042\u308b\u3044\u306f\n",
        "r2_score(y_true=y, y_pred=y_)"
      ],
      "id": "fbb46c95-aab3-4647-a3e8-f20046fcaa05"
    },
    {
      "cell_type": "code",
      "execution_count": null,
      "metadata": {},
      "outputs": [],
      "source": [
        "import numpy as np\n",
        "np.corrcoef(y, y_)[0, 1]**2"
      ],
      "id": "235e6e06-f27e-4049-a149-5f1d87909f21"
    },
    {
      "cell_type": "code",
      "execution_count": null,
      "metadata": {},
      "outputs": [],
      "source": [
        "my_test = my_data[:3]\n",
        "X = my_test[['speed']]\n",
        "y = my_test['dist']\n",
        "y_ = my_model.predict(X)\n",
        "\n",
        "my_model.score(X, y)\n",
        "# \u3042\u308b\u3044\u306f\n",
        "r2_score(y_true=y, y_pred=y_)\n",
        "\n",
        "np.corrcoef(y, y_)[0, 1]**2"
      ],
      "id": "4eccd217-52c1-4abd-8f33-6eb7cfd9ddb0"
    },
    {
      "cell_type": "code",
      "execution_count": null,
      "metadata": {},
      "outputs": [],
      "source": [
        "import numpy as np\n",
        "import pandas as pd\n",
        "import statsmodels.api as sm\n",
        "from sklearn.linear_model import LinearRegression\n",
        "from sklearn.preprocessing import PolynomialFeatures\n",
        "\n",
        "my_data = sm.datasets.get_rdataset('cars', 'datasets').data\n",
        "\n",
        "my_idx = [1, 10, 26, 33, 38, 43]\n",
        "my_sample = my_data.iloc[my_idx, ]\n",
        "X, y = my_sample[['speed']], my_sample['dist']"
      ],
      "id": "8c4edee0-64b4-4120-a658-08c57c6c57f6"
    },
    {
      "cell_type": "code",
      "execution_count": null,
      "metadata": {},
      "outputs": [],
      "source": [
        "d = 5\n",
        "X5 = PolynomialFeatures(d, include_bias=False).fit_transform(X) # X\u306e1\u4e57\u304b\u30895\u4e57\u306e\u5909\u6570\n",
        "\n",
        "my_model = LinearRegression()\n",
        "my_model.fit(X5, y)\n",
        "y_ = my_model.predict(X5)"
      ],
      "id": "fc9081e9-2729-45c3-a3f9-5eb71551e975"
    },
    {
      "cell_type": "code",
      "execution_count": null,
      "metadata": {},
      "outputs": [],
      "source": [
        "((y - y_)**2).mean()**0.5\n",
        "\n",
        "my_model.score(X5, y)\n",
        "\n",
        "np.corrcoef(y, y_)[0, 1]**2"
      ],
      "id": "c21e9b82-c0dc-4d23-a6d0-14330ae11df9"
    },
    {
      "cell_type": "code",
      "execution_count": null,
      "metadata": {},
      "outputs": [],
      "source": [
        "tmp = pd.DataFrame({'speed': np.linspace(min(my_data.speed),\n",
        "                                         max(my_data.speed),\n",
        "                                         100)})\n",
        "X5 = PolynomialFeatures(d, include_bias=False).fit_transform(tmp)\n",
        "tmp['model'] = my_model.predict(X5)\n",
        "\n",
        "my_sample = my_sample.assign(sample=y)\n",
        "my_df = pd.concat([my_data, my_sample, tmp])\n",
        "my_df.plot(x='speed', style=['o', 'o', '-'], ylim=(0, 130))"
      ],
      "id": "141e6254-d0a4-45a4-934a-fcc37988e542"
    },
    {
      "id": "19256f87",
      "cell_type": "markdown",
      "source": "## 7.5 K\u6700\u8fd1\u508d\u6cd5",
      "metadata": {}
    },
    {
      "cell_type": "code",
      "execution_count": null,
      "metadata": {},
      "outputs": [],
      "source": [
        "# \u6e96\u5099\n",
        "import numpy as np\n",
        "import pandas as pd\n",
        "import statsmodels.api as sm\n",
        "from sklearn.neighbors import KNeighborsRegressor\n",
        "\n",
        "my_data = sm.datasets.get_rdataset('cars', 'datasets').data\n",
        "X, y = my_data[['speed']], my_data['dist']\n",
        "\n",
        "# \u8a13\u7df4\n",
        "my_model = KNeighborsRegressor()\n",
        "my_model.fit(X, y)\n",
        "\n",
        "# \u53ef\u8996\u5316\u306e\u6e96\u5099\n",
        "tmp = pd.DataFrame({'speed': np.linspace(min(my_data.speed),\n",
        "                                         max(my_data.speed),\n",
        "                                         100)})\n",
        "tmp['model'] = my_model.predict(tmp)"
      ],
      "id": "37442a6e-80bd-462d-b407-2090436f49fd"
    },
    {
      "cell_type": "code",
      "execution_count": null,
      "metadata": {},
      "outputs": [],
      "source": [
        "pd.concat([my_data, tmp]).plot(\n",
        "    x='speed', style=['o', '-'])"
      ],
      "id": "75304363-7afd-4363-8364-d5090ab0816f"
    },
    {
      "cell_type": "code",
      "execution_count": null,
      "metadata": {},
      "outputs": [],
      "source": [
        "y_ = my_model.predict(X)\n",
        "\n",
        "((y - y_)**2).mean()**0.5\n",
        "\n",
        "my_model.score(X, y)\n",
        "\n",
        "np.corrcoef(y, y_)[0, 1]**2"
      ],
      "id": "487b1740-a6c1-48a9-b944-76b0cef0b43c"
    },
    {
      "id": "81d46944",
      "cell_type": "markdown",
      "source": "## 7.6 \u691c\u8a3c",
      "metadata": {}
    },
    {
      "cell_type": "code",
      "execution_count": null,
      "metadata": {},
      "outputs": [],
      "source": [
        "import statsmodels.api as sm\n",
        "from sklearn.linear_model import LinearRegression\n",
        "from sklearn.model_selection import cross_val_score\n",
        "\n",
        "# \u30c7\u30fc\u30bf\u306e\u6e96\u5099\n",
        "my_data = sm.datasets.get_rdataset('cars', 'datasets').data\n",
        "X, y = my_data[['speed']], my_data['dist']\n",
        "\n",
        "# \u30e2\u30c7\u30eb\u306e\u6307\u5b9a\n",
        "my_model = LinearRegression()\n",
        "\n",
        "# \u691c\u8a3c\uff085\u5206\u5272\u4ea4\u5dee\u691c\u8a3c\uff09\n",
        "my_scores = cross_val_score(my_model, X, y)\n",
        "\n",
        "# 5\u500b\u306e\u6c7a\u5b9a\u4fc2\u65701\u3092\u5f97\u308b\uff0e\n",
        "my_scores\n",
        "\n",
        "# \u5e73\u5747\u3092\u6c7a\u5b9a\u4fc2\u65701\uff08\u691c\u8a3c\uff09\u3068\u3059\u308b\uff0e\n",
        "my_scores.mean()"
      ],
      "id": "9da3b69b-1c04-4cf3-8d9d-ad7b15c671a8"
    },
    {
      "cell_type": "code",
      "execution_count": null,
      "metadata": {},
      "outputs": [],
      "source": [
        "my_scores = cross_val_score(my_model, X, y,\n",
        "                            scoring='neg_root_mean_squared_error')\n",
        "-my_scores.mean()"
      ],
      "id": "2ad6253e-d5c6-433d-89ed-bf9d798c7a5e"
    },
    {
      "cell_type": "code",
      "execution_count": null,
      "metadata": {},
      "outputs": [],
      "source": [
        "import numpy as np\n",
        "import statsmodels.api as sm\n",
        "from sklearn.linear_model import LinearRegression\n",
        "from sklearn.metrics import mean_squared_error, r2_score\n",
        "from sklearn.model_selection import cross_val_score, LeaveOneOut\n",
        "\n",
        "my_data = sm.datasets.get_rdataset('cars', 'datasets').data\n",
        "X, y = my_data[['speed']], my_data['dist']\n",
        "my_model = LinearRegression().fit(X, y)\n",
        "y_ = my_model.predict(X)"
      ],
      "id": "b86e0659-d14a-408d-8b31-416e1c1eb873"
    },
    {
      "cell_type": "code",
      "execution_count": null,
      "metadata": {},
      "outputs": [],
      "source": [
        "# RMSE\uff08\u8a13\u7df4\uff09\n",
        "mean_squared_error(y, y_)**0.5\n",
        "\n",
        "# \u6c7a\u5b9a\u4fc2\u65701\uff08\u8a13\u7df4\uff09\n",
        "my_model.score(X, y)\n",
        "# \u3042\u308b\u3044\u306f\n",
        "r2_score(y_true=y, y_pred=y_)\n",
        "\n",
        "# \u6c7a\u5b9a\u4fc2\u65706\uff08\u8a13\u7df4\uff09\n",
        "np.corrcoef(y, y_)[0, 1]**2"
      ],
      "id": "1a680c6d-98fe-4c5e-be3f-225bab0db77c"
    },
    {
      "cell_type": "code",
      "execution_count": null,
      "metadata": {},
      "outputs": [],
      "source": [
        "my_scores = cross_val_score(my_model, X, y,\n",
        "                            scoring='neg_root_mean_squared_error')\n",
        "-my_scores.mean()\n",
        "\n",
        "my_scores = cross_val_score(my_model, X, y, scoring='r2') # scoring='r2'\u306f\u7701\u7565\u53ef\n",
        "my_scores.mean()"
      ],
      "id": "468f56ac-dd80-4591-8836-70c164c067a5"
    },
    {
      "cell_type": "code",
      "execution_count": null,
      "metadata": {},
      "outputs": [],
      "source": [
        "# \u65b9\u6cd51\n",
        "my_scores1 = cross_val_score(my_model, X, y, cv=LeaveOneOut(),\n",
        "                             scoring='neg_mean_squared_error')\n",
        "(-my_scores1.mean())**0.5\n",
        "\n",
        "# \u65b9\u6cd52\n",
        "my_scores2 = cross_val_score(my_model, X, y, cv=LeaveOneOut(),\n",
        "                             scoring='neg_root_mean_squared_error')\n",
        "(my_scores2**2).mean()**0.5"
      ],
      "id": "d524241b-7bd5-4a42-9aa3-e06618e6d714"
    },
    {
      "cell_type": "code",
      "execution_count": null,
      "metadata": {},
      "outputs": [],
      "source": [
        "-my_scores2.mean()"
      ],
      "id": "ff21bfc4-83ca-4abd-b6d0-1be4714f0cd4"
    },
    {
      "cell_type": "code",
      "execution_count": null,
      "metadata": {},
      "outputs": [],
      "source": [
        "import pandas as pd\n",
        "import statsmodels.api as sm\n",
        "from sklearn.linear_model import LinearRegression\n",
        "from sklearn.metrics import mean_squared_error\n",
        "from sklearn.model_selection import cross_val_score, LeaveOneOut\n",
        "from sklearn.neighbors import KNeighborsRegressor\n",
        "\n",
        "my_data = sm.datasets.get_rdataset('cars', 'datasets').data\n",
        "X, y = my_data[['speed']], my_data['dist']\n",
        "\n",
        "my_lm_scores = cross_val_score(\n",
        "    LinearRegression(),\n",
        "    X, y, cv=LeaveOneOut(), scoring='neg_mean_squared_error')\n",
        "\n",
        "my_knn_socres = cross_val_score(\n",
        "    KNeighborsRegressor(n_neighbors=5),\n",
        "    X, y, cv=LeaveOneOut(), scoring='neg_mean_squared_error')"
      ],
      "id": "670a8ed1-2f7e-41a9-aba2-bbf247e85b53"
    },
    {
      "cell_type": "code",
      "execution_count": null,
      "metadata": {},
      "outputs": [],
      "source": [
        "(-my_lm_scores.mean())**0.5\n",
        "\n",
        "(-my_knn_socres.mean())**0.5"
      ],
      "id": "145c7061-1d31-484d-ae2f-71f36b028455"
    },
    {
      "cell_type": "code",
      "execution_count": null,
      "metadata": {},
      "outputs": [],
      "source": [
        "my_df = pd.DataFrame({\n",
        "    'lm': -my_lm_scores,\n",
        "    'knn': -my_knn_socres})\n",
        "my_df.head()"
      ],
      "id": "dd023c94-b3fd-4ad2-a2df-8b06e149bc71"
    },
    {
      "cell_type": "code",
      "execution_count": null,
      "metadata": {},
      "outputs": [],
      "source": [
        "my_df.boxplot().set_ylabel(\"$r^2$\")"
      ],
      "id": "f7a8d114-d719-4a32-b6e9-c9ba949d7ec3"
    },
    {
      "cell_type": "code",
      "execution_count": null,
      "metadata": {},
      "outputs": [],
      "source": [
        "from statsmodels.stats.weightstats import DescrStatsW\n",
        "d = DescrStatsW(my_df.lm - my_df.knn)\n",
        "d.ttest_mean()[1] # p\u5024\n",
        "\n",
        "d.tconfint_mean(alpha=0.05, alternative='two-sided') # \u4fe1\u983c\u533a\u9593"
      ],
      "id": "784f8748-a352-42d0-b854-629f9831dd64"
    },
    {
      "id": "95a0c1f7",
      "cell_type": "markdown",
      "source": "## 7.7 \u30d1\u30e9\u30e1\u30fc\u30bf\u30c1\u30e5\u30fc\u30cb\u30f3\u30b0",
      "metadata": {}
    },
    {
      "cell_type": "code",
      "execution_count": null,
      "metadata": {},
      "outputs": [],
      "source": [
        "import pandas as pd\n",
        "import statsmodels.api as sm\n",
        "from sklearn.metrics import mean_squared_error\n",
        "from sklearn.model_selection import GridSearchCV, LeaveOneOut\n",
        "from sklearn.neighbors import KNeighborsRegressor\n",
        "\n",
        "my_data = sm.datasets.get_rdataset('cars', 'datasets').data\n",
        "X, y = my_data[['speed']], my_data['dist']\n",
        "\n",
        "my_params = {'n_neighbors': range(1, 16)} # \u63a2\u7d22\u7bc4\u56f2\uff081\u4ee5\u4e0a16\u672a\u6e80\u306e\u6574\u6570\uff09\n",
        "\n",
        "my_search = GridSearchCV(estimator=KNeighborsRegressor(),\n",
        "                         param_grid=my_params,\n",
        "                         cv=LeaveOneOut(),\n",
        "                         scoring='neg_mean_squared_error')\n",
        "my_search.fit(X, y)"
      ],
      "id": "9c4f41ba-9e70-4b53-85fb-e9b1d770204f"
    },
    {
      "cell_type": "code",
      "execution_count": null,
      "metadata": {},
      "outputs": [],
      "source": [
        "tmp = my_search.cv_results_                # \u30c1\u30e5\u30fc\u30cb\u30f3\u30b0\u306e\u8a73\u7d30\n",
        "my_scores = (-tmp['mean_test_score'])**0.5 # RMSE\n",
        "my_results = pd.DataFrame(tmp['params']).assign(validation=my_scores)"
      ],
      "id": "63d8ca74-90f4-471c-8fa4-43ecc21fb445"
    },
    {
      "cell_type": "code",
      "execution_count": null,
      "metadata": {},
      "outputs": [],
      "source": [
        "my_results.head()"
      ],
      "id": "99f7d6e3-f691-4f2d-ab1c-c1e1dfe0e1cd"
    },
    {
      "cell_type": "code",
      "execution_count": null,
      "metadata": {},
      "outputs": [],
      "source": [
        "my_results.plot(x='n_neighbors',\n",
        "                style='o-',\n",
        "                ylabel='RMSE')"
      ],
      "id": "cf67dea9-e992-4d2d-891a-0603a25b9449"
    },
    {
      "cell_type": "code",
      "execution_count": null,
      "metadata": {},
      "outputs": [],
      "source": [
        "my_search.best_params_"
      ],
      "id": "942aaa31-189c-4494-97dc-836fee3e1946"
    },
    {
      "cell_type": "code",
      "execution_count": null,
      "metadata": {},
      "outputs": [],
      "source": [
        "(-my_search.best_score_)**0.5"
      ],
      "id": "d23d4ee3-21ee-43da-ba1c-0d0dd9b6f1f4"
    },
    {
      "cell_type": "code",
      "execution_count": null,
      "metadata": {},
      "outputs": [],
      "source": [
        "my_model = my_search.best_estimator_\n",
        "y_ = my_model.predict(X)\n",
        "mean_squared_error(y_, y)**0.5"
      ],
      "id": "9eb532bf-1510-4acd-8535-74d955d501a9"
    },
    {
      "cell_type": "code",
      "execution_count": null,
      "metadata": {},
      "outputs": [],
      "source": [
        "import pandas as pd\n",
        "import statsmodels.api as sm\n",
        "from sklearn.metrics import mean_squared_error\n",
        "from sklearn.model_selection import cross_val_score, LeaveOneOut\n",
        "from sklearn.neighbors import KNeighborsRegressor\n",
        "\n",
        "my_data = sm.datasets.get_rdataset('cars', 'datasets').data\n",
        "X, y = my_data[['speed']], my_data['dist']\n",
        "\n",
        "def my_loocv(k):\n",
        "    my_model = KNeighborsRegressor(n_neighbors=k)\n",
        "    my_scores = cross_val_score(estimator=my_model, X=X, y=y,\n",
        "                                cv=LeaveOneOut(),\n",
        "                                scoring='neg_mean_squared_error')\n",
        "    y_ = my_model.fit(X, y).predict(X)\n",
        "    return pd.Series([k,\n",
        "                      (-my_scores.mean())**0.5,        # RMSE\uff08\u691c\u8a3c\uff09\n",
        "                      mean_squared_error(y_, y)**0.5], # RMSE\uff08\u8a13\u7df4\uff09\n",
        "                     index=['n_neighbors', 'validation', 'training'])\n",
        "\n",
        "my_results = pd.Series(range(1, 16)).apply(my_loocv)"
      ],
      "id": "0e071b8b-92be-4a10-b102-aca46e9cd3dd"
    },
    {
      "cell_type": "code",
      "execution_count": null,
      "metadata": {},
      "outputs": [],
      "source": [
        "my_results.plot(x='n_neighbors',\n",
        "                style='o-',\n",
        "                ylabel='RMSE')"
      ],
      "id": "3d9f52a4-979e-4679-8a3a-3c3679fef05c"
    },
    {
      "id": "085b3ac7",
      "cell_type": "markdown",
      "source": "# 8 \u56de\u5e302\uff08\u91cd\u56de\u5e30\uff09\n\n\n",
      "metadata": {}
    },
    {
      "id": "85830cef",
      "cell_type": "markdown",
      "source": "## 8.1 \u30d6\u30c9\u30a6\u306e\u751f\u80b2\u6761\u4ef6\u3068\u30ef\u30a4\u30f3\u306e\u4fa1\u683c",
      "metadata": {}
    },
    {
      "cell_type": "code",
      "execution_count": null,
      "metadata": {},
      "outputs": [],
      "source": [
        "import pandas as pd\n",
        "my_url = 'http://www.liquidasset.com/winedata.html'\n",
        "tmp = pd.read_table(my_url, skiprows=62, nrows=38, sep='\\\\s+', na_values='.')\n",
        "tmp.describe()\n",
        "# \u4ee5\u4e0b\u7701\u7565"
      ],
      "id": "f146fbd7-71f0-4dfc-9589-b25fd706da89"
    },
    {
      "cell_type": "code",
      "execution_count": null,
      "metadata": {},
      "outputs": [],
      "source": [
        "my_data = tmp.iloc[:, 2:].dropna()\n",
        "my_data.head()"
      ],
      "id": "328e4e75-1839-46f8-9c27-fc4c2c7856ee"
    },
    {
      "cell_type": "code",
      "execution_count": null,
      "metadata": {},
      "outputs": [],
      "source": [
        "my_data.shape"
      ],
      "id": "b1717888-366c-43b0-9238-b3b7788fb532"
    },
    {
      "cell_type": "code",
      "execution_count": null,
      "metadata": {},
      "outputs": [],
      "source": [
        "my_data.to_csv('wine.csv',\n",
        "               index=False)"
      ],
      "id": "be97b009-a655-487a-8580-247cdfe86b8c"
    },
    {
      "cell_type": "code",
      "execution_count": null,
      "metadata": {},
      "outputs": [],
      "source": [
        "#my_data = pd.read_csv('wine.csv') # \u4f5c\u3063\u305f\u30d5\u30a1\u30a4\u30eb\u3092\u4f7f\u3046\u5834\u5408\n",
        "my_url = ('https://raw.githubusercontent.com/taroyabuki'\n",
        "          '/fromzero/master/data/wine.csv')\n",
        "my_data = pd.read_csv(my_url)"
      ],
      "id": "929e5498-6cb2-4bc3-86b9-9fcb9c90ecb8"
    },
    {
      "id": "73d1a5ef",
      "cell_type": "markdown",
      "source": "## 8.2 \u91cd\u56de\u5e30\u5206\u6790",
      "metadata": {}
    },
    {
      "cell_type": "code",
      "execution_count": null,
      "metadata": {},
      "outputs": [],
      "source": [
        "import numpy as np\n",
        "import pandas as pd\n",
        "from sklearn.linear_model import LinearRegression\n",
        "from sklearn.metrics import mean_squared_error\n",
        "from sklearn.model_selection import cross_val_score, LeaveOneOut\n",
        "\n",
        "my_url = ('https://raw.githubusercontent.com/taroyabuki'\n",
        "          '/fromzero/master/data/wine.csv')\n",
        "my_data = pd.read_csv(my_url)\n",
        "X, y = my_data.drop(columns=['LPRICE2']), my_data['LPRICE2']\n",
        "\n",
        "my_model = LinearRegression().fit(X, y)"
      ],
      "id": "f8769e86-c137-461b-9857-f915c445c181"
    },
    {
      "cell_type": "code",
      "execution_count": null,
      "metadata": {},
      "outputs": [],
      "source": [
        "my_model.intercept_\n",
        "\n",
        "pd.Series(my_model.coef_,\n",
        "          index=X.columns)"
      ],
      "id": "59b0f682-debb-4887-94da-33d06513d1ba"
    },
    {
      "cell_type": "code",
      "execution_count": null,
      "metadata": {},
      "outputs": [],
      "source": [
        "my_test = [[500, 17, 120, 2]]\n",
        "my_model.predict(my_test)"
      ],
      "id": "e91aa067-b01d-4f23-b4ce-bcca71e4089c"
    },
    {
      "cell_type": "code",
      "execution_count": null,
      "metadata": {},
      "outputs": [],
      "source": [
        "y_ = my_model.predict(X)\n",
        "\n",
        "mean_squared_error(y_, y)**0.5\n",
        "\n",
        "my_model.score(X, y)\n",
        "\n",
        "np.corrcoef(y, y_)[0, 1]**2"
      ],
      "id": "cff50873-d55e-402e-876c-9f9bea3433eb"
    },
    {
      "cell_type": "code",
      "execution_count": null,
      "metadata": {},
      "outputs": [],
      "source": [
        "my_scores = cross_val_score(my_model, X, y,\n",
        "                            cv=LeaveOneOut(),\n",
        "                            scoring='neg_mean_squared_error')\n",
        "(-my_scores.mean())**0.5"
      ],
      "id": "d3617b32-1419-4aab-8643-4b3c3da96034"
    },
    {
      "cell_type": "code",
      "execution_count": null,
      "metadata": {},
      "outputs": [],
      "source": [
        "import numpy as np\n",
        "M = np.matrix(X.assign(b0=1))\n",
        "b = np.linalg.pinv(M) @ y\n",
        "pd.Series(b,\n",
        "    index=list(X.columns) + ['b0'])"
      ],
      "id": "35bb2e1a-26f9-46a6-9eea-ed435e24e47d"
    },
    {
      "id": "f248a8cf",
      "cell_type": "markdown",
      "source": "## 8.3 \u6a19\u6e96\u5316",
      "metadata": {}
    },
    {
      "cell_type": "code",
      "execution_count": null,
      "metadata": {},
      "outputs": [],
      "source": [
        "import pandas as pd\n",
        "from sklearn.linear_model import LinearRegression\n",
        "from sklearn.pipeline import Pipeline\n",
        "from sklearn.preprocessing import StandardScaler\n",
        "my_url = ('https://raw.githubusercontent.com/taroyabuki'\n",
        "          '/fromzero/master/data/wine.csv')\n",
        "my_data = pd.read_csv(my_url)\n",
        "X, y = my_data.drop(columns=['LPRICE2']), my_data['LPRICE2']\n",
        "\n",
        "# StandardScaler\u3067\u6a19\u6e96\u5316\u3057\u305f\u7d50\u679c\u3092\u30c7\u30fc\u30bf\u30d5\u30ec\u30fc\u30e0\u306b\u623b\u3057\u3066\u304b\u3089\u63cf\u753b\u3059\u308b\uff0e\n",
        "pd.DataFrame(StandardScaler().fit_transform(X), columns=X.columns\n",
        "            ).boxplot(showmeans=True)"
      ],
      "id": "729904fa-8836-42f0-9c16-f7960ebb9bdf"
    },
    {
      "cell_type": "code",
      "execution_count": null,
      "metadata": {},
      "outputs": [],
      "source": [
        "my_pipeline = Pipeline([\n",
        "    ('sc', StandardScaler()),\n",
        "    ('lr', LinearRegression())])\n",
        "my_pipeline.fit(X, y)"
      ],
      "id": "d642b5a9-f565-4ccd-8cb6-6ed7f07f9c5e"
    },
    {
      "cell_type": "code",
      "execution_count": null,
      "metadata": {},
      "outputs": [],
      "source": [
        "# \u7dda\u5f62\u56de\u5e30\u306e\u90e8\u5206\u3060\u3051\u3092\u53d6\u308a\u51fa\u3059\uff0e\n",
        "my_lr = my_pipeline.named_steps.lr\n",
        "my_lr.intercept_\n",
        "\n",
        "pd.Series(my_lr.coef_,\n",
        "          index=X.columns)"
      ],
      "id": "4f0b0c6f-faae-45bf-8f0a-49dcf1811953"
    },
    {
      "cell_type": "code",
      "execution_count": null,
      "metadata": {},
      "outputs": [],
      "source": [
        "my_test = [[500, 17, 120, 2]]\n",
        "my_pipeline.predict(my_test)"
      ],
      "id": "411f32f0-9a70-401b-b54f-730e3b4ccb36"
    },
    {
      "id": "52900ba4",
      "cell_type": "markdown",
      "source": "## 8.4 \u5165\u529b\u5909\u6570\u306e\u6570\u3068\u30e2\u30c7\u30eb\u306e\u826f\u3055",
      "metadata": {}
    },
    {
      "cell_type": "code",
      "execution_count": null,
      "metadata": {},
      "outputs": [],
      "source": [
        "import pandas as pd\n",
        "from sklearn.linear_model import LinearRegression\n",
        "from sklearn.metrics import mean_squared_error\n",
        "from sklearn.model_selection import cross_val_score, LeaveOneOut\n",
        "\n",
        "my_url = ('https://raw.githubusercontent.com/taroyabuki'\n",
        "          '/fromzero/master/data/wine.csv')\n",
        "my_data = pd.read_csv(my_url)\n",
        "\n",
        "n = len(my_data)\n",
        "my_data2 = my_data.assign(v1=[i % 2 for i in range(n)],\n",
        "                          v2=[i % 3 for i in range(n)])\n",
        "my_data2.head()"
      ],
      "id": "70cc3a16-b9c7-4fc3-bee2-11a3fd86f070"
    },
    {
      "cell_type": "code",
      "execution_count": null,
      "metadata": {},
      "outputs": [],
      "source": [
        "X, y = my_data2.drop(columns=['LPRICE2']), my_data2['LPRICE2']\n",
        "my_model2 = LinearRegression().fit(X, y)\n",
        "\n",
        "y_ = my_model2.predict(X)\n",
        "mean_squared_error(y_, y)**0.5\n",
        "\n",
        "my_scores = cross_val_score(my_model2, X, y,\n",
        "                            cv=LeaveOneOut(),\n",
        "                            scoring='neg_mean_squared_error')\n",
        "(-my_scores.mean())**0.5"
      ],
      "id": "a0cd83ac-4314-4381-a5d2-ecd1432f4727"
    },
    {
      "id": "b74f9f76",
      "cell_type": "markdown",
      "source": "## 8.5 \u5909\u6570\u9078\u629e",
      "metadata": {}
    },
    {
      "cell_type": "code",
      "execution_count": null,
      "metadata": {},
      "outputs": [],
      "source": [
        "import pandas as pd\n",
        "from sklearn.feature_selection import SequentialFeatureSelector\n",
        "from sklearn.linear_model import LinearRegression\n",
        "from sklearn.model_selection import GridSearchCV, LeaveOneOut\n",
        "from sklearn.pipeline import Pipeline\n",
        "\n",
        "my_url = ('https://raw.githubusercontent.com/taroyabuki'\n",
        "          '/fromzero/master/data/wine.csv')\n",
        "my_data = pd.read_csv(my_url)\n",
        "\n",
        "n = len(my_data)\n",
        "my_data2 = my_data.assign(v1=[i % 2 for i in range(n)],\n",
        "                          v2=[i % 3 for i in range(n)])\n",
        "X, y = my_data2.drop(columns=['LPRICE2']), my_data2['LPRICE2']"
      ],
      "id": "1355918d-c775-41e3-9047-a61fe8743741"
    },
    {
      "cell_type": "code",
      "execution_count": null,
      "metadata": {},
      "outputs": [],
      "source": [
        "my_sfs = SequentialFeatureSelector(\n",
        "    estimator=LinearRegression(),\n",
        "    direction='forward', # \u5909\u6570\u5897\u52a0\u6cd5\n",
        "    cv=LeaveOneOut(),\n",
        "    scoring='neg_mean_squared_error')\n",
        "\n",
        "my_pipeline = Pipeline([         # \u5909\u6570\u9078\u629e\u306e\u5f8c\u3067\u518d\u8a13\u7df4\u3092\u884c\u3046\u3088\u3046\u306b\u3059\u308b\uff0e\n",
        "    ('sfs', my_sfs),             # \u5909\u6570\u9078\u629e\n",
        "    ('lr', LinearRegression())]) # \u56de\u5e30\u5206\u6790\n",
        "\n",
        "my_params = {'sfs__n_features_to_select': range(1, 6)} # \u9078\u629e\u3059\u308b\u5909\u6570\u306e\u4e0a\u9650\n",
        "my_search = GridSearchCV(estimator=my_pipeline,\n",
        "                         param_grid=my_params,\n",
        "                         cv=LeaveOneOut(),\n",
        "                         scoring='neg_mean_squared_error',\n",
        "                         n_jobs=-1).fit(X, y)\n",
        "my_model = my_search.best_estimator_ # \u6700\u826f\u306e\u30d1\u30e9\u30e1\u30fc\u30bf\u3067\u518d\u8a13\u7df4\u3057\u305f\u30e2\u30c7\u30eb\n",
        "my_search.best_estimator_.named_steps.sfs.get_support()"
      ],
      "id": "7d66ab63-b268-4076-b194-3b8a213f9d6a"
    },
    {
      "id": "b9328fc5",
      "cell_type": "markdown",
      "source": "## 8.6 \u88dc\u8db3\uff1a\u6b63\u5247\u5316",
      "metadata": {}
    },
    {
      "cell_type": "code",
      "execution_count": null,
      "metadata": {},
      "outputs": [],
      "source": [
        "import numpy as np\n",
        "import pandas as pd\n",
        "import warnings\n",
        "from sklearn.exceptions import ConvergenceWarning\n",
        "from sklearn.linear_model import ElasticNet, enet_path\n",
        "from sklearn.model_selection import GridSearchCV, LeaveOneOut\n",
        "from sklearn.pipeline import Pipeline\n",
        "from sklearn.preprocessing import StandardScaler\n",
        "from scipy.stats import zscore\n",
        "warnings.simplefilter('ignore', ConvergenceWarning) # \u3053\u308c\u4ee5\u964d\uff0c\u8b66\u544a\u3092\u8868\u793a\u3057\u306a\u3044\uff0e\n",
        "\n",
        "my_url = ('https://raw.githubusercontent.com/taroyabuki'\n",
        "          '/fromzero/master/data/wine.csv')\n",
        "my_data = pd.read_csv(my_url)\n",
        "X, y = my_data.drop(columns=['LPRICE2']), my_data['LPRICE2']"
      ],
      "id": "105e6dcd-8192-4690-a5ae-9db92c9ea213"
    },
    {
      "cell_type": "code",
      "execution_count": null,
      "metadata": {},
      "outputs": [],
      "source": [
        "A = 2\n",
        "B = 0.1\n",
        "\n",
        "my_pipeline = Pipeline([\n",
        "    ('sc', StandardScaler()),\n",
        "    ('enet', ElasticNet(\n",
        "        alpha=A,\n",
        "        l1_ratio=B))])\n",
        "my_pipeline.fit(X, y)"
      ],
      "id": "e5584674-7998-4cf5-a5a9-2148b6a62814"
    },
    {
      "cell_type": "code",
      "execution_count": null,
      "metadata": {},
      "outputs": [],
      "source": [
        "my_enet = my_pipeline.named_steps.enet\n",
        "my_enet.intercept_\n",
        "\n",
        "pd.Series(my_enet.coef_,\n",
        "          index=X.columns)"
      ],
      "id": "5db34d02-36b2-4b76-9c66-813494ab84dc"
    },
    {
      "cell_type": "code",
      "execution_count": null,
      "metadata": {},
      "outputs": [],
      "source": [
        "my_test = pd.DataFrame(\n",
        "    [[500, 17, 120, 2]])\n",
        "my_pipeline.predict(my_test)"
      ],
      "id": "23a60425-9649-40f8-b19d-4f63207bc502"
    },
    {
      "cell_type": "code",
      "execution_count": null,
      "metadata": {},
      "outputs": [],
      "source": [
        "As = np.e**np.arange(2, -5.5, -0.1)\n",
        "B = 0.1\n",
        "\n",
        "_, my_path, _ = enet_path(\n",
        "    zscore(X), zscore(y),\n",
        "    alphas=As,\n",
        "    l1_ratio=B)\n",
        "\n",
        "pd.DataFrame(\n",
        "    my_path.T,\n",
        "    columns=X.columns,\n",
        "    index=np.log(As)\n",
        ").plot(\n",
        "    xlabel='log A ( = log alpha)',\n",
        "    ylabel='Coefficients')"
      ],
      "id": "bde64daa-8fcd-46bd-8d8e-79aec851ad3d"
    },
    {
      "cell_type": "code",
      "execution_count": null,
      "metadata": {},
      "outputs": [],
      "source": [
        "As = np.linspace(0, 0.1, 21)\n",
        "Bs = np.linspace(0, 0.1,  6)\n",
        "\n",
        "my_pipeline = Pipeline([('sc', StandardScaler()),\n",
        "                        ('enet', ElasticNet())])\n",
        "my_search = GridSearchCV(\n",
        "    estimator=my_pipeline,\n",
        "    param_grid={'enet__alpha': As, 'enet__l1_ratio': Bs},\n",
        "    cv=LeaveOneOut(),\n",
        "    scoring='neg_mean_squared_error',\n",
        "    n_jobs=-1).fit(X, y)\n",
        "my_model = my_search.best_estimator_ # \u6700\u826f\u30e2\u30c7\u30eb\n",
        "\n",
        "my_search.best_params_               # \u6700\u826f\u30d1\u30e9\u30e1\u30fc\u30bf"
      ],
      "id": "cdef8299-5293-43d9-914c-2917c79968fd"
    },
    {
      "cell_type": "code",
      "execution_count": null,
      "metadata": {},
      "outputs": [],
      "source": [
        "tmp = my_search.cv_results_                # \u30c1\u30e5\u30fc\u30cb\u30f3\u30b0\u306e\u8a73\u7d30\n",
        "my_scores = (-tmp['mean_test_score'])**0.5 # RMSE\n",
        "\n",
        "my_results = pd.DataFrame(tmp['params']).assign(RMSE=my_scores).pivot(\n",
        "    index='enet__alpha',\n",
        "    columns='enet__l1_ratio',\n",
        "    values='RMSE')\n",
        "\n",
        "my_results.plot(style='o-', xlabel='A ( = alpha)', ylabel='RMSE').legend(\n",
        "    title='B ( = l1_ratio)')"
      ],
      "id": "3671e390-a527-4ff3-b6d1-0603423164d5"
    },
    {
      "cell_type": "code",
      "execution_count": null,
      "metadata": {},
      "outputs": [],
      "source": [
        "(-my_search.best_score_)**0.5"
      ],
      "id": "cf9d7042-97df-40e4-9fab-e629266ed115"
    },
    {
      "id": "867bbe68",
      "cell_type": "markdown",
      "source": "## 8.7 \u30cb\u30e5\u30fc\u30e9\u30eb\u30cd\u30c3\u30c8\u30ef\u30fc\u30af",
      "metadata": {}
    },
    {
      "cell_type": "code",
      "execution_count": null,
      "metadata": {},
      "outputs": [],
      "source": [
        "import matplotlib.pyplot as plt\n",
        "import numpy as np\n",
        "x = np.linspace(-6, 6, 100)\n",
        "y = 1 / (1 + np.exp(-x))\n",
        "plt.plot(x, y)"
      ],
      "id": "ff561387-5960-4e70-8579-e97540d55654"
    },
    {
      "cell_type": "code",
      "execution_count": null,
      "metadata": {},
      "outputs": [],
      "source": [
        "import pandas as pd\n",
        "import warnings\n",
        "from sklearn.exceptions import ConvergenceWarning\n",
        "from sklearn.neural_network import MLPRegressor\n",
        "from sklearn.model_selection import cross_val_score, GridSearchCV, LeaveOneOut\n",
        "from sklearn.pipeline import Pipeline\n",
        "from sklearn.preprocessing import StandardScaler\n",
        "\n",
        "my_url = ('https://raw.githubusercontent.com/taroyabuki'\n",
        "          '/fromzero/master/data/wine.csv')\n",
        "my_data = pd.read_csv(my_url)\n",
        "X, y = my_data.drop(columns=['LPRICE2']), my_data['LPRICE2']"
      ],
      "id": "5bbc122b-db6b-4065-9c1d-e701581f8cba"
    },
    {
      "cell_type": "code",
      "execution_count": null,
      "metadata": {},
      "outputs": [],
      "source": [
        "warnings.simplefilter(\"ignore\", ConvergenceWarning)  # \u3053\u308c\u4ee5\u964d\uff0c\u8b66\u544a\u3092\u8868\u793a\u3057\u306a\u3044\uff0e\n",
        "my_pipeline = Pipeline([('sc', StandardScaler()),    # \u6a19\u6e96\u5316\n",
        "                        ('mlp', MLPRegressor())])    # \u30cb\u30e5\u30fc\u30e9\u30eb\u30cd\u30c3\u30c8\u30ef\u30fc\u30af\n",
        "my_pipeline.fit(X, y)                                # \u8a13\u7df4\n",
        "\n",
        "my_scores = cross_val_score(my_pipeline, X, y, cv=LeaveOneOut(),\n",
        "                            scoring='neg_mean_squared_error')\n",
        "warnings.simplefilter(\"default\", ConvergenceWarning) # \u3053\u308c\u4ee5\u964d\uff0c\u8b66\u544a\u3092\u8868\u793a\u3059\u308b\uff0e"
      ],
      "id": "f5160dde-a3fa-47b1-bb5f-a07bfd475760"
    },
    {
      "cell_type": "code",
      "execution_count": null,
      "metadata": {},
      "outputs": [],
      "source": [
        "(-my_scores.mean())**0.5"
      ],
      "id": "63fa5284-b993-4e1d-9558-00f0fa0af787"
    },
    {
      "cell_type": "code",
      "execution_count": null,
      "metadata": {},
      "outputs": [],
      "source": [
        "my_pipeline = Pipeline([\n",
        "    ('sc', StandardScaler()),\n",
        "    ('mlp', MLPRegressor(tol=1e-5,         # \u6539\u5584\u3057\u305f\u3068\u898b\u306a\u3059\u57fa\u6e96\n",
        "                         max_iter=5000))]) # \u6539\u5584\u3057\u306a\u304f\u306a\u308b\u307e\u3067\u306e\u53cd\u5fa9\u6570\n",
        "my_layers = (1, 3, 5,                                         # \u96a0\u308c\u5c641\u5c64\u306e\u5834\u5408\n",
        "             (1, 1), (3, 1), (5, 1), (1, 2), (3, 2), (5, 2))  # \u96a0\u308c\u5c642\u5c64\u306e\u5834\u5408\n",
        "my_params = {'mlp__hidden_layer_sizes': my_layers}\n",
        "my_search = GridSearchCV(estimator=my_pipeline,\n",
        "                         param_grid=my_params,\n",
        "                         cv=LeaveOneOut(),\n",
        "                         scoring='neg_mean_squared_error',\n",
        "                         n_jobs=-1).fit(X, y)\n",
        "my_model = my_search.best_estimator_ # \u6700\u826f\u30e2\u30c7\u30eb\n",
        "\n",
        "my_search.best_params_               # \u6700\u826f\u30d1\u30e9\u30e1\u30fc\u30bf"
      ],
      "id": "e577b1ae-225b-42fd-a7c1-c2ce2cbea7a3"
    },
    {
      "cell_type": "code",
      "execution_count": null,
      "metadata": {},
      "outputs": [],
      "source": [
        "(-my_search.best_score_)**0.5"
      ],
      "id": "77b73eb3-cf57-4509-b54e-9ac4d241dc09"
    },
    {
      "id": "78b3f880",
      "cell_type": "markdown",
      "source": "# 9 \u5206\u985e1\uff08\u591a\u5024\u5206\u985e\uff09\n\n\n",
      "metadata": {}
    },
    {
      "id": "ffc9af4d",
      "cell_type": "markdown",
      "source": "## 9.1 \u30a2\u30e4\u30e1\u306e\u30c7\u30fc\u30bf",
      "metadata": {}
    },
    {
      "cell_type": "code",
      "execution_count": null,
      "metadata": {},
      "outputs": [],
      "source": [
        "import statsmodels.api as sm\n",
        "my_data = sm.datasets.get_rdataset('iris', 'datasets').data\n",
        "my_data.head()"
      ],
      "id": "242b0374-7c20-49b4-ba84-d0a334387475"
    },
    {
      "cell_type": "code",
      "execution_count": null,
      "metadata": {},
      "outputs": [],
      "source": [
        "my_data.describe()\n",
        "# \u4ee5\u4e0b\u7701\u7565"
      ],
      "id": "22ec60ed-fd87-4b2f-a8da-2a25cdf426d1"
    },
    {
      "id": "e80ab097",
      "cell_type": "markdown",
      "source": "## 9.2 \u6728\u306b\u3088\u308b\u5206\u985e",
      "metadata": {}
    },
    {
      "cell_type": "code",
      "execution_count": null,
      "metadata": {},
      "outputs": [],
      "source": [
        "import graphviz\n",
        "import pandas as pd\n",
        "import statsmodels.api as sm\n",
        "from sklearn import tree\n",
        "\n",
        "my_data = sm.datasets.get_rdataset('iris', 'datasets').data\n",
        "X, y = my_data.iloc[:, 0:4], my_data.Species\n",
        "\n",
        "my_model = tree.DecisionTreeClassifier(max_depth=2, random_state=0)\n",
        "my_model.fit(X, y)"
      ],
      "id": "44f5c7e7-7422-474a-86d7-03494a9d81fa"
    },
    {
      "cell_type": "code",
      "execution_count": null,
      "metadata": {},
      "outputs": [],
      "source": [
        "my_dot = tree.export_graphviz(\n",
        "    decision_tree=my_model,\n",
        "    out_file=None,                 # \u30d5\u30a1\u30a4\u30eb\u306b\u51fa\u529b\u3057\u306a\u3044\uff0e\n",
        "    feature_names=X.columns,       # \u5909\u6570\u540d\n",
        "    class_names=my_model.classes_, # \u30ab\u30c6\u30b4\u30ea\u540d\n",
        "    filled=True)                   # \u8272\u3092\u5857\u308b\uff0e\n",
        "graphviz.Source(my_dot)"
      ],
      "id": "8bb8f24f-e754-4bdd-b231-52fa6d9b15ff"
    },
    {
      "cell_type": "code",
      "execution_count": null,
      "metadata": {},
      "outputs": [],
      "source": [
        "my_test = pd.DataFrame([[5.0, 3.5, 1.5, 0.5],\n",
        "                        [6.5, 3.0, 5.0, 2.0]])\n",
        "my_model.predict(my_test)"
      ],
      "id": "f5df8050-b1eb-44b1-9d9b-367db6395dfb"
    },
    {
      "cell_type": "code",
      "execution_count": null,
      "metadata": {},
      "outputs": [],
      "source": [
        "pd.DataFrame(\n",
        "    my_model.predict_proba(my_test),\n",
        "    columns=my_model.classes_)"
      ],
      "id": "957208b5-a8ae-4d21-8ea1-2e3658a3855c"
    },
    {
      "id": "27239747",
      "cell_type": "markdown",
      "source": "## 9.3 \u6b63\u89e3\u7387",
      "metadata": {}
    },
    {
      "cell_type": "code",
      "execution_count": null,
      "metadata": {},
      "outputs": [],
      "source": [
        "import graphviz\n",
        "import pandas as pd\n",
        "import statsmodels.api as sm\n",
        "from sklearn import tree\n",
        "from sklearn.metrics import confusion_matrix\n",
        "from sklearn.model_selection import cross_val_score, GridSearchCV, LeaveOneOut\n",
        "\n",
        "my_data = sm.datasets.get_rdataset('iris', 'datasets').data\n",
        "X, y = my_data.iloc[:, 0:4], my_data.Species\n",
        "\n",
        "my_model = tree.DecisionTreeClassifier(max_depth=2, random_state=0).fit(X, y)\n",
        "y_ = my_model.predict(X)\n",
        "confusion_matrix(y_true=y, y_pred=y_)"
      ],
      "id": "3654c675-bdf9-4ddf-96e2-2e025438806c"
    },
    {
      "cell_type": "code",
      "execution_count": null,
      "metadata": {},
      "outputs": [],
      "source": [
        "my_model.score(X, y)\n",
        "# \u3042\u308b\u3044\u306f\n",
        "y_ = my_model.predict(X)\n",
        "(y_ == y).mean()\n"
      ],
      "id": "e4da49a8-7172-4a60-8b34-da5554e6088e"
    },
    {
      "cell_type": "code",
      "execution_count": null,
      "metadata": {},
      "outputs": [],
      "source": [
        "cross_val_score(my_model, X, y, cv=LeaveOneOut()).mean()"
      ],
      "id": "14f222b4-682d-47fb-b266-185a4a7eec0e"
    },
    {
      "cell_type": "code",
      "execution_count": null,
      "metadata": {},
      "outputs": [],
      "source": [
        "my_search = GridSearchCV(estimator=tree.DecisionTreeClassifier(random_state=0),\n",
        "                         param_grid={'max_depth': range(1, 11)},\n",
        "                         cv=LeaveOneOut(),\n",
        "                         n_jobs=-1).fit(X, y)\n",
        "my_search.best_params_, my_search.best_score_"
      ],
      "id": "305aeebc-057d-4917-aca3-6bdf677cca79"
    },
    {
      "cell_type": "code",
      "execution_count": null,
      "metadata": {},
      "outputs": [],
      "source": [
        "my_params = {\n",
        "    'max_depth': range(2, 6),\n",
        "    'min_samples_split': [2, 20],\n",
        "    'min_samples_leaf': range(1, 8)}\n",
        "\n",
        "my_search = GridSearchCV(\n",
        "    estimator=tree.DecisionTreeClassifier(min_impurity_decrease=0.01,\n",
        "                                          random_state=0),\n",
        "    param_grid=my_params,\n",
        "    cv=LeaveOneOut(),\n",
        "    n_jobs=-1).fit(X, y)\n",
        "my_search.best_params_, my_search.best_score_\n",
        "\n",
        "tmp = my_search.cv_results_\n",
        "my_results = pd.DataFrame(tmp['params']).assign(\n",
        "    Accuracy=tmp['mean_test_score'])\n",
        "# \u6b63\u89e3\u7387\uff08\u691c\u8a3c\uff09\u306e\u6700\u5927\u5024\n",
        "my_results[my_results.Accuracy == my_results.Accuracy.max()]"
      ],
      "id": "5b98dc54-f832-4c00-9fb0-7ba415da3361"
    },
    {
      "cell_type": "code",
      "execution_count": null,
      "metadata": {},
      "outputs": [],
      "source": [
        "my_model = my_search.best_estimator_\n",
        "my_dot = tree.export_graphviz(\n",
        "    decision_tree=my_model,\n",
        "    out_file=None,\n",
        "    feature_names=X.columns,\n",
        "    class_names=my_model.classes_,\n",
        "    filled=True)\n",
        "graphviz.Source(my_dot)"
      ],
      "id": "1f17b37a-c384-42ff-a647-536775d1257e"
    },
    {
      "id": "222e410e",
      "cell_type": "markdown",
      "source": "## 9.4 \u8907\u6570\u306e\u6728\u3092\u4f7f\u3046\u65b9\u6cd5",
      "metadata": {}
    },
    {
      "cell_type": "code",
      "execution_count": null,
      "metadata": {},
      "outputs": [],
      "source": [
        "import pandas as pd\n",
        "import statsmodels.api as sm\n",
        "import warnings\n",
        "import xgboost\n",
        "from sklearn.ensemble import RandomForestClassifier\n",
        "from sklearn.model_selection import GridSearchCV, LeaveOneOut\n",
        "from sklearn.preprocessing import LabelEncoder\n",
        "\n",
        "my_data = sm.datasets.get_rdataset('iris', 'datasets').data\n",
        "X, y = my_data.iloc[:, 0:4], my_data.Species\n",
        "label_encoder = LabelEncoder(); y = label_encoder.fit_transform(y)\n",
        "\n",
        "my_search = GridSearchCV(RandomForestClassifier(),\n",
        "                         param_grid={'max_features': [2, 3, 4]},\n",
        "                         cv=LeaveOneOut(),\n",
        "                         n_jobs=-1).fit(X, y)\n",
        "my_search.best_params_\n",
        "\n",
        "my_search.cv_results_['mean_test_score']"
      ],
      "id": "47ef215e-6da3-463c-993b-7c1029a3cf47"
    },
    {
      "cell_type": "code",
      "execution_count": null,
      "metadata": {},
      "outputs": [],
      "source": [
        "warnings.simplefilter('ignore') # \u3053\u308c\u4ee5\u964d\uff0c\u8b66\u544a\u3092\u8868\u793a\u3057\u306a\u3044\uff0e\n",
        "my_search = GridSearchCV(\n",
        "    xgboost.XGBClassifier(eval_metric='mlogloss'),\n",
        "    param_grid={'n_estimators'    : [50, 100, 150],\n",
        "                'max_depth'       : [1, 2, 3],\n",
        "                'learning_rate'   : [0.3, 0.4],\n",
        "                'gamma'           : [0],\n",
        "                'colsample_bytree': [0.6, 0.8],\n",
        "                'min_child_weight': [1],\n",
        "                'subsample'       : [0.5, 0.75, 1]},\n",
        "    cv=5, # 5\u5206\u5272\u4ea4\u5dee\u691c\u8a3c\n",
        "    n_jobs=1).fit(X, y) # n_jobs=-1\u3067\u306f\u306a\u3044\uff0e\n",
        "warnings.simplefilter('default') # \u3053\u308c\u4ee5\u964d\uff0c\u8b66\u544a\u3092\u8868\u793a\u3059\u308b\uff0e\n",
        "\n",
        "my_search.best_params_\n",
        "\n",
        "my_search.best_score_"
      ],
      "id": "3f2273f8-7172-49f3-bdd0-c047a7d9228d"
    },
    {
      "cell_type": "code",
      "execution_count": null,
      "metadata": {},
      "outputs": [],
      "source": [
        "my_model = RandomForestClassifier().fit(X, y)\n",
        "tmp = pd.Series(my_model.feature_importances_, index=X.columns)\n",
        "tmp.sort_values().plot(kind='barh')"
      ],
      "id": "7b52cd69-0705-42c3-a7d3-9a0860d14c88"
    },
    {
      "id": "5772f61a",
      "cell_type": "markdown",
      "source": "## 9.5 \u6b20\u640d\u306e\u3042\u308b\u30c7\u30fc\u30bf\u3067\u306e\u5b66\u7fd2",
      "metadata": {}
    },
    {
      "cell_type": "code",
      "execution_count": null,
      "metadata": {},
      "outputs": [],
      "source": [
        "import numpy as np\n",
        "import statsmodels.api as sm\n",
        "import warnings\n",
        "import xgboost\n",
        "from sklearn import tree\n",
        "from sklearn.impute import SimpleImputer\n",
        "from sklearn.model_selection import cross_val_score, LeaveOneOut\n",
        "from sklearn.pipeline import Pipeline\n",
        "\n",
        "my_data = sm.datasets.get_rdataset('iris', 'datasets').data\n",
        "\n",
        "n = len(my_data)\n",
        "my_data['Petal.Length'] = [np.nan if i % 10 == 0 else\n",
        "                           my_data['Petal.Length'][i] for i in range(n)]\n",
        "my_data['Petal.Width']  = [np.nan if i % 10 == 1 else\n",
        "                           my_data['Petal.Width'][i]  for i in range(n)]\n",
        "\n",
        "my_data.describe() # count\u306e\u5024\u304c135\u306e\u5909\u6570\u306b\uff0c150-135=15\u500b\u306e\u6b20\u640d\u304c\u3042\u308b\uff0e\n",
        "# \u4ee5\u4e0b\u7701\u7565\n",
        "\n",
        "X, y = my_data.iloc[:, 0:4], my_data.Species"
      ],
      "id": "78a98a6a-2807-45f8-8283-fd32fde0272c"
    },
    {
      "cell_type": "code",
      "execution_count": null,
      "metadata": {},
      "outputs": [],
      "source": [
        "my_pipeline = Pipeline([\n",
        "    ('imputer', SimpleImputer(strategy='median')), # \u6b20\u640d\u3092\u4e2d\u592e\u5024\u3067\u57cb\u3081\u308b\uff0e\n",
        "    ('tree', tree.DecisionTreeClassifier(random_state=0))])\n",
        "my_scores = cross_val_score(my_pipeline, X, y, cv=LeaveOneOut(), n_jobs=-1)\n",
        "my_scores.mean()"
      ],
      "id": "18b81eea-9c77-4d9b-8912-ac351ef5a0a0"
    },
    {
      "cell_type": "code",
      "execution_count": null,
      "metadata": {},
      "outputs": [],
      "source": [
        "from sklearn.preprocessing import LabelEncoder\n",
        "label_encoder = LabelEncoder()\n",
        "y = label_encoder.fit_transform(y)\n",
        "\n",
        "warnings.simplefilter('ignore')  # \u3053\u308c\u4ee5\u964d\uff0c\u8b66\u544a\u3092\u8868\u793a\u3057\u306a\u3044\uff0e\n",
        "my_scores = cross_val_score(\n",
        "    xgboost.XGBClassifier(eval_metric='mlogloss'), X, y, cv=5)\n",
        "warnings.simplefilter('default') # \u3053\u308c\u4ee5\u964d\uff0c\u8b66\u544a\u3092\u8868\u793a\u3059\u308b\uff0e\n",
        "\n",
        "my_scores.mean()"
      ],
      "id": "9181b708-6272-4689-b402-4cecf7a182a7"
    },
    {
      "id": "0eaf065f",
      "cell_type": "markdown",
      "source": "## 9.6 \u4ed6\u306e\u5206\u985e\u624b\u6cd5",
      "metadata": {}
    },
    {
      "cell_type": "code",
      "execution_count": null,
      "metadata": {},
      "outputs": [],
      "source": [
        "import statsmodels.api as sm\n",
        "from sklearn.model_selection import cross_val_score, LeaveOneOut\n",
        "from sklearn.neighbors import KNeighborsClassifier\n",
        "\n",
        "my_data = sm.datasets.get_rdataset('iris', 'datasets').data\n",
        "X, y = my_data.iloc[:, 0:4], my_data.Species\n",
        "\n",
        "my_scores = cross_val_score(KNeighborsClassifier(), X, y, cv=LeaveOneOut())\n",
        "my_scores.mean()"
      ],
      "id": "db9b5461-298f-413a-81e0-18d08e9180cd"
    },
    {
      "cell_type": "code",
      "execution_count": null,
      "metadata": {},
      "outputs": [],
      "source": [
        "import statsmodels.api as sm\n",
        "from sklearn.model_selection import cross_val_score, LeaveOneOut\n",
        "from sklearn.neural_network import MLPClassifier\n",
        "from sklearn.pipeline import Pipeline\n",
        "from sklearn.preprocessing import StandardScaler\n",
        "\n",
        "my_data = sm.datasets.get_rdataset('iris', 'datasets').data\n",
        "X, y = my_data.iloc[:, 0:4], my_data.Species\n",
        "\n",
        "my_pipeline = Pipeline([('sc',  StandardScaler()),              # \u6a19\u6e96\u5316\n",
        "                        ('mlp', MLPClassifier(max_iter=1000))]) # \u30cb\u30e5\u30fc\u30e9\u30eb\u30cd\u30c3\u30c8\u30ef\u30fc\u30af\n",
        "my_scores = cross_val_score(my_pipeline, X, y, cv=LeaveOneOut(), n_jobs=-1)\n",
        "my_scores.mean()"
      ],
      "id": "9ee1ab34-281f-46b2-85a1-23f5f2c072b9"
    },
    {
      "id": "55aa553a",
      "cell_type": "markdown",
      "source": "# 10 \u5206\u985e2\uff082\u5024\u5206\u985e\uff09\n\n\n",
      "metadata": {}
    },
    {
      "id": "fe8e5fff",
      "cell_type": "markdown",
      "source": "## 10.1 2\u5024\u5206\u985e\u306e\u6027\u80fd\u6307\u6a19",
      "metadata": {}
    },
    {
      "cell_type": "code",
      "execution_count": null,
      "metadata": {},
      "outputs": [],
      "source": [
        "import numpy as np\n",
        "from sklearn.metrics import classification_report, confusion_matrix\n",
        "\n",
        "y       = np.array([  0,   1,   1,   0,   1,   0,    1,   0,   0,   1])\n",
        "y_score = np.array([0.7, 0.8, 0.3, 0.4, 0.9, 0.6, 0.99, 0.1, 0.2, 0.5])"
      ],
      "id": "a9c4ce17-9440-458c-9ba7-2505e0a6750e"
    },
    {
      "cell_type": "code",
      "execution_count": null,
      "metadata": {},
      "outputs": [],
      "source": [
        "y_ = np.array([1 if 0.5 <= p else 0 for p in y_score])\n",
        "y_"
      ],
      "id": "4f3aa91a-47a8-40b8-aaf7-0838d71758aa"
    },
    {
      "cell_type": "code",
      "execution_count": null,
      "metadata": {},
      "outputs": [],
      "source": [
        "confusion_matrix(y_true=y, y_pred=y_)\n",
        "\n",
        "print(classification_report(y_true=y, y_pred=y_))"
      ],
      "id": "10c54fd8-56df-4e6a-8b39-c42f0bff792d"
    },
    {
      "id": "47cb3770",
      "cell_type": "markdown",
      "source": "## 10.2 \u30c8\u30ec\u30fc\u30c9\u30aa\u30d5",
      "metadata": {}
    },
    {
      "cell_type": "code",
      "execution_count": null,
      "metadata": {},
      "outputs": [],
      "source": [
        "import numpy as np\n",
        "from sklearn.metrics import (roc_curve, RocCurveDisplay,\n",
        "    precision_recall_curve, PrecisionRecallDisplay, auc)\n",
        "\n",
        "y       = np.array([  0,   1,   1,   0,   1,   0,    1,   0,   0,   1])\n",
        "y_score = np.array([0.7, 0.8, 0.3, 0.4, 0.9, 0.6, 0.99, 0.1, 0.2, 0.5])\n",
        "y_      = np.array([1 if 0.5 <= p else 0 for p in y_score])\n",
        "\n",
        "[sum((y == 0) & (y_ == 1)) / sum(y == 0), # FPR\n",
        " sum((y == 1) & (y_ == 1)) / sum(y == 1)] # TPR"
      ],
      "id": "b8f4ad5c-bdf8-4d70-a923-150be2edd2cb"
    },
    {
      "cell_type": "code",
      "execution_count": null,
      "metadata": {},
      "outputs": [],
      "source": [
        "my_fpr, my_tpr, _ = roc_curve(y_true=y,\n",
        "                              y_score=y_score,\n",
        "                              pos_label=1) # 1\u304c\u967d\u6027\u3067\u3042\u308b\uff0e\n",
        "RocCurveDisplay(fpr=my_fpr, tpr=my_tpr).plot()"
      ],
      "id": "3cbbbe3e-3add-4ac3-a7a7-5dda590d3c17"
    },
    {
      "cell_type": "code",
      "execution_count": null,
      "metadata": {},
      "outputs": [],
      "source": [
        "auc(x=my_fpr, y=my_tpr)"
      ],
      "id": "7ab34360-0f2d-4a6c-bcb1-9deff4ed5cbe"
    },
    {
      "cell_type": "code",
      "execution_count": null,
      "metadata": {},
      "outputs": [],
      "source": [
        "[sum((y == 1) & (y_ == 1)) / sum(y  == 1), # Recall == TPR\n",
        " sum((y == 1) & (y_ == 1)) / sum(y_ == 1)] # Precision"
      ],
      "id": "9447e08b-627d-46a9-a4c2-b6bf199ff2b6"
    },
    {
      "cell_type": "code",
      "execution_count": null,
      "metadata": {},
      "outputs": [],
      "source": [
        "my_precision, my_recall, _ = precision_recall_curve(y_true=y,\n",
        "                                                    probas_pred=y_score,\n",
        "                                                    pos_label=1)\n",
        "PrecisionRecallDisplay(precision=my_precision, recall=my_recall).plot()"
      ],
      "id": "04e920d2-bf87-4588-ae79-872ec6687d9a"
    },
    {
      "cell_type": "code",
      "execution_count": null,
      "metadata": {},
      "outputs": [],
      "source": [
        "auc(x=my_recall, y=my_precision)"
      ],
      "id": "c9d88f90-9ba6-4202-b3de-31b8ed286580"
    },
    {
      "id": "ccebe8c5",
      "cell_type": "markdown",
      "source": "## 10.3 \u30bf\u30a4\u30bf\u30cb\u30c3\u30af",
      "metadata": {}
    },
    {
      "cell_type": "code",
      "execution_count": null,
      "metadata": {},
      "outputs": [],
      "source": [
        "import graphviz\n",
        "import pandas as pd\n",
        "from sklearn import tree\n",
        "from sklearn.metrics import roc_curve, RocCurveDisplay, auc\n",
        "from sklearn.model_selection import cross_val_score, LeaveOneOut\n",
        "from sklearn.pipeline import Pipeline\n",
        "from sklearn.preprocessing import OneHotEncoder\n",
        "\n",
        "my_url = ('https://raw.githubusercontent.com/taroyabuki'\n",
        "          '/fromzero/master/data/titanic.csv')\n",
        "my_data = pd.read_csv(my_url)"
      ],
      "id": "06b941f6-88e5-40eb-a93b-bf52badd8647"
    },
    {
      "cell_type": "code",
      "execution_count": null,
      "metadata": {},
      "outputs": [],
      "source": [
        "my_data.head()"
      ],
      "id": "b79203b8-3895-4ddc-a04a-05ac056e33f3"
    },
    {
      "cell_type": "code",
      "execution_count": null,
      "metadata": {},
      "outputs": [],
      "source": [
        "X, y = my_data.iloc[:, 0:3], my_data.Survived\n",
        "\n",
        "my_pipeline = Pipeline([\n",
        "    ('ohe', OneHotEncoder(drop='first')),\n",
        "    ('tree', tree.DecisionTreeClassifier(max_depth=2, random_state=0,\n",
        "                                         min_impurity_decrease=0.01))])\n",
        "my_pipeline.fit(X, y)"
      ],
      "id": "d9092210-12be-49c3-86e3-5d62f24a6e06"
    },
    {
      "cell_type": "code",
      "execution_count": null,
      "metadata": {},
      "outputs": [],
      "source": [
        "my_enc  = my_pipeline.named_steps['ohe']  # \u30d1\u30a4\u30d7\u30e9\u30a4\u30f3\u304b\u3089\u30a8\u30f3\u30b3\u30fc\u30c0\u3092\u53d6\u308a\u51fa\u3059\uff0e\n",
        "my_tree = my_pipeline.named_steps['tree'] # \u30d1\u30a4\u30d7\u30e9\u30a4\u30f3\u304b\u3089\u6728\u3092\u53d6\u308a\u51fa\u3059\uff0e\n",
        "\n",
        "my_dot = tree.export_graphviz(\n",
        "    decision_tree=my_tree,\n",
        "    out_file=None,\n",
        "    feature_names=my_enc.get_feature_names() \\\n",
        "    if hasattr(my_enc, 'get_feature_names') else my_enc.get_feature_names_out(),\n",
        "    class_names=my_pipeline.classes_,\n",
        "    filled=True)\n",
        "graphviz.Source(my_dot)"
      ],
      "id": "21aa1bf7-67a6-4758-b5c7-62cf9e759090"
    },
    {
      "cell_type": "code",
      "execution_count": null,
      "metadata": {},
      "outputs": [],
      "source": [
        "my_scores = cross_val_score(\n",
        "    my_pipeline, X, y,\n",
        "    cv=LeaveOneOut(),\n",
        "    n_jobs=-1)\n",
        "my_scores.mean()"
      ],
      "id": "90c48193-01b2-4449-954d-70862fa04b5d"
    },
    {
      "cell_type": "code",
      "execution_count": null,
      "metadata": {},
      "outputs": [],
      "source": [
        "tmp = pd.DataFrame(\n",
        "    my_pipeline.predict_proba(X),\n",
        "    columns=my_pipeline.classes_)\n",
        "y_score = tmp.Yes\n",
        "\n",
        "my_fpr, my_tpr, _ = roc_curve(y_true=y,\n",
        "                              y_score=y_score,\n",
        "                              pos_label='Yes')\n",
        "my_auc = auc(x=my_fpr, y=my_tpr)\n",
        "my_auc\n",
        "\n",
        "RocCurveDisplay(fpr=my_fpr, tpr=my_tpr, roc_auc=my_auc).plot()"
      ],
      "id": "4ba45165-d126-4da3-ba4b-7df22532993a"
    },
    {
      "id": "189bc381",
      "cell_type": "markdown",
      "source": "## 10.4 \u30ed\u30b8\u30b9\u30c6\u30a3\u30c3\u30af\u56de\u5e30",
      "metadata": {}
    },
    {
      "cell_type": "code",
      "execution_count": null,
      "metadata": {},
      "outputs": [],
      "source": [
        "import matplotlib.pyplot as plt\n",
        "import numpy as np\n",
        "\n",
        "x = np.arange(-6, 6, 0.1)\n",
        "y = 1 / (1 + np.exp(-x))\n",
        "plt.plot(x, y)"
      ],
      "id": "ec2fe3c3-cfe4-4359-8c9a-0fdb3f86f8da"
    },
    {
      "cell_type": "code",
      "execution_count": null,
      "metadata": {},
      "outputs": [],
      "source": [
        "import pandas as pd\n",
        "from sklearn.linear_model import LogisticRegression\n",
        "from sklearn.model_selection import cross_val_score, LeaveOneOut\n",
        "from sklearn.pipeline import Pipeline\n",
        "from sklearn.preprocessing import OneHotEncoder\n",
        "\n",
        "my_url = ('https://raw.githubusercontent.com/taroyabuki'\n",
        "          '/fromzero/master/data/titanic.csv')\n",
        "my_data = pd.read_csv(my_url)\n",
        "\n",
        "X, y = my_data.iloc[:, 0:3], my_data.Survived\n",
        "\n",
        "my_pipeline = Pipeline([('ohe', OneHotEncoder(drop='first')),\n",
        "                        ('lr', LogisticRegression(penalty='none'))])\n",
        "my_pipeline.fit(X, y)"
      ],
      "id": "3e459326-0bd2-48ef-8cf4-7610611b3fd9"
    },
    {
      "cell_type": "code",
      "execution_count": null,
      "metadata": {},
      "outputs": [],
      "source": [
        "my_ohe = my_pipeline.named_steps.ohe\n",
        "my_lr  = my_pipeline.named_steps.lr\n",
        "\n",
        "my_lr.intercept_[0]\n",
        "\n",
        "tmp = my_ohe.get_feature_names() \\\n",
        "if hasattr(my_ohe, 'get_feature_names') \\\n",
        "else my_ohe.get_feature_names_out()\n",
        "pd.Series(my_lr.coef_[0],\n",
        "          index=tmp)"
      ],
      "id": "6fba87eb-055d-4943-8d60-b4003bef2a06"
    },
    {
      "cell_type": "code",
      "execution_count": null,
      "metadata": {},
      "outputs": [],
      "source": [
        "my_scores = cross_val_score(\n",
        "    my_pipeline, X, y,\n",
        "    cv=LeaveOneOut(),\n",
        "    n_jobs=-1)\n",
        "my_scores.mean()"
      ],
      "id": "e90331c3-6ecf-45c3-a5ab-93752aafe627"
    },
    {
      "id": "b6e4d28b",
      "cell_type": "markdown",
      "source": "# 11 \u6df1\u5c64\u5b66\u7fd2\u3068AutoML\n\n\n",
      "metadata": {}
    },
    {
      "id": "f039c4ec",
      "cell_type": "markdown",
      "source": "## 11.1 Keras\u306b\u3088\u308b\u56de\u5e30",
      "metadata": {}
    },
    {
      "cell_type": "code",
      "execution_count": null,
      "metadata": {},
      "outputs": [],
      "source": [
        "import matplotlib.pyplot as plt\n",
        "import numpy as np\n",
        "import pandas as pd\n",
        "from keras import activations, callbacks, layers, models\n",
        "from sklearn.preprocessing import StandardScaler\n",
        "from sklearn.utils import shuffle\n",
        "\n",
        "my_url = ('https://raw.githubusercontent.com/taroyabuki'\n",
        "          '/fromzero/master/data/wine.csv')\n",
        "tmp = pd.read_csv(my_url)"
      ],
      "id": "b13ae2bd-0e11-40f8-9419-1ef1ff223622"
    },
    {
      "cell_type": "code",
      "execution_count": null,
      "metadata": {},
      "outputs": [],
      "source": [
        "my_data = shuffle(tmp)"
      ],
      "id": "e0550461-873d-4ab9-9d0d-f14767fb736e"
    },
    {
      "cell_type": "code",
      "execution_count": null,
      "metadata": {},
      "outputs": [],
      "source": [
        "my_scaler = StandardScaler()\n",
        "X = my_scaler.fit_transform(\n",
        "    my_data.drop(columns=['LPRICE2']))\n",
        "y = my_data['LPRICE2']"
      ],
      "id": "ea6c4088-a119-4b87-95fc-c7ec572983cc"
    },
    {
      "cell_type": "code",
      "execution_count": null,
      "metadata": {},
      "outputs": [],
      "source": [
        "x = np.linspace(-3, 3, 100)\n",
        "plt.plot(x, activations.relu(x))\n",
        "plt.xlabel('x')\n",
        "plt.ylabel('ReLU(x)')"
      ],
      "id": "63956f20-8bad-46e2-8000-b8dbd8489a17"
    },
    {
      "cell_type": "code",
      "execution_count": null,
      "metadata": {},
      "outputs": [],
      "source": [
        "my_model = models.Sequential()\n",
        "my_model.add(layers.Dense(units=3, activation='relu', input_shape=[4]))\n",
        "my_model.add(layers.Dense(units=1))\n",
        "\n",
        "my_model.summary() # \u30cd\u30c3\u30c8\u30ef\u30fc\u30af\u306e\u6982\u8981"
      ],
      "id": "aa0c042c-2fbc-4aa0-b9be-463555cc4549"
    },
    {
      "cell_type": "code",
      "execution_count": null,
      "metadata": {},
      "outputs": [],
      "source": [
        "my_model.compile(\n",
        "    loss='mse',\n",
        "    optimizer='rmsprop')"
      ],
      "id": "7a3b426e-b31c-4d08-8e6e-01563569138c"
    },
    {
      "cell_type": "code",
      "execution_count": null,
      "metadata": {},
      "outputs": [],
      "source": [
        "my_cb = callbacks.EarlyStopping(\n",
        "    patience=20,\n",
        "    restore_best_weights=True)"
      ],
      "id": "e0ee6033-577d-43cb-9770-7d9d87508e07"
    },
    {
      "cell_type": "code",
      "execution_count": null,
      "metadata": {},
      "outputs": [],
      "source": [
        "my_history = my_model.fit(\n",
        "    x=X,\n",
        "    y=y,\n",
        "    validation_split=0.25,\n",
        "    batch_size=10,\n",
        "    epochs=500,\n",
        "    callbacks=[my_cb],\n",
        "    verbose=0)"
      ],
      "id": "a4c42d22-7779-4f7b-b369-5e29d0999e08"
    },
    {
      "cell_type": "code",
      "execution_count": null,
      "metadata": {},
      "outputs": [],
      "source": [
        "tmp = pd.DataFrame(my_history.history)\n",
        "tmp.plot(xlabel='epoch')"
      ],
      "id": "9511be59-52ca-4455-add3-0ad554c18d42"
    },
    {
      "cell_type": "code",
      "execution_count": null,
      "metadata": {},
      "outputs": [],
      "source": [
        "tmp.iloc[-1, ]"
      ],
      "id": "b3d6645b-e01f-4b03-b25f-88e97ebe855f"
    },
    {
      "cell_type": "code",
      "execution_count": null,
      "metadata": {},
      "outputs": [],
      "source": [
        "y_ = my_model.predict(X)\n",
        "((y_.ravel() - y)**2).mean()"
      ],
      "id": "b9dfb27d-778f-40cc-8315-68de9736995b"
    },
    {
      "id": "6e69670d",
      "cell_type": "markdown",
      "source": "## 11.2 Keras\u306b\u3088\u308b\u5206\u985e",
      "metadata": {}
    },
    {
      "cell_type": "code",
      "execution_count": null,
      "metadata": {},
      "outputs": [],
      "source": [
        "import numpy as np\n",
        "import pandas as pd\n",
        "import statsmodels.api as sm\n",
        "from keras import callbacks, layers, losses, models\n",
        "from sklearn.preprocessing import StandardScaler, LabelEncoder\n",
        "from sklearn.utils import shuffle\n",
        "\n",
        "tmp = sm.datasets.get_rdataset('iris', 'datasets').data\n",
        "my_data = shuffle(tmp)"
      ],
      "id": "566c6572-0b33-4343-8851-26d4835c473f"
    },
    {
      "cell_type": "code",
      "execution_count": null,
      "metadata": {},
      "outputs": [],
      "source": [
        "my_scaler = StandardScaler()\n",
        "X = my_scaler.fit_transform(\n",
        "    my_data.drop(columns=['Species']))\n",
        "my_enc = LabelEncoder()\n",
        "y = my_enc.fit_transform(\n",
        "    my_data['Species'])"
      ],
      "id": "fcd0d2ff-94a8-400a-acc2-e4d759d1c68c"
    },
    {
      "cell_type": "code",
      "execution_count": null,
      "metadata": {},
      "outputs": [],
      "source": [
        "my_model = models.Sequential()\n",
        "my_model.add(layers.Dense(units=3, activation='relu', input_shape=[4]))\n",
        "my_model.add(layers.Dense(units=3, activation='softmax'))"
      ],
      "id": "f4ae5f11-51b1-4148-bf65-f94dc1e2716b"
    },
    {
      "cell_type": "code",
      "execution_count": null,
      "metadata": {},
      "outputs": [],
      "source": [
        "my_model.compile(loss='sparse_categorical_crossentropy',\n",
        "                 optimizer='rmsprop',\n",
        "                 metrics=['accuracy'])"
      ],
      "id": "a3d60151-9c39-4c81-9cfe-7bbe92945a68"
    },
    {
      "cell_type": "code",
      "execution_count": null,
      "metadata": {},
      "outputs": [],
      "source": [
        "my_cb = callbacks.EarlyStopping(\n",
        "    patience=20,\n",
        "    restore_best_weights=True)\n",
        "\n",
        "my_history = my_model.fit(\n",
        "    x=X,\n",
        "    y=y,\n",
        "    validation_split=0.25,\n",
        "    batch_size=10,\n",
        "    epochs=500,\n",
        "    callbacks=[my_cb],\n",
        "    verbose=0)\n",
        "\n",
        "tmp = pd.DataFrame(my_history.history)\n",
        "tmp.plot(xlabel='epoch')"
      ],
      "id": "0cfa5784-5912-4b4c-a0b1-685f3fe98513"
    },
    {
      "cell_type": "code",
      "execution_count": null,
      "metadata": {},
      "outputs": [],
      "source": [
        "tmp.iloc[-1, ]"
      ],
      "id": "2f30c700-a65c-4607-bb04-3777efd9193b"
    },
    {
      "cell_type": "code",
      "execution_count": null,
      "metadata": {},
      "outputs": [],
      "source": [
        "tmp = my_model.predict(X)\n",
        "y_ = np.argmax(tmp, axis=-1)\n",
        "(y_ == y).mean()"
      ],
      "id": "7defdb11-a5cd-46eb-a36a-aaba02b378a7"
    },
    {
      "cell_type": "code",
      "execution_count": null,
      "metadata": {},
      "outputs": [],
      "source": [
        "-np.log([0.8, 0.7, 0.3, 0.8]).mean()\n",
        "\n",
        "-np.log([0.7, 0.6, 0.2, 0.7]).mean()"
      ],
      "id": "83517c2f-783b-460e-a029-5c9e560b514b"
    },
    {
      "cell_type": "code",
      "execution_count": null,
      "metadata": {},
      "outputs": [],
      "source": [
        "y = [2, 1, 0, 1]\n",
        "y_1 = [[0.1, 0.1, 0.8],\n",
        "       [0.1, 0.7, 0.2],\n",
        "       [0.3, 0.4, 0.3],\n",
        "       [0.1, 0.8, 0.1]]\n",
        "y_2 = [[0.1, 0.2, 0.7],\n",
        "       [0.2, 0.6, 0.2],\n",
        "       [0.2, 0.5, 0.3],\n",
        "       [0.2, 0.7, 0.1]]"
      ],
      "id": "7474f0bb-8d7b-4a49-b4a4-67f603c866f3"
    },
    {
      "cell_type": "code",
      "execution_count": null,
      "metadata": {},
      "outputs": [],
      "source": [
        "[losses.sparse_categorical_crossentropy(y_true=y, y_pred=y_1).numpy().mean(),\n",
        " losses.sparse_categorical_crossentropy(y_true=y, y_pred=y_2).numpy().mean()]"
      ],
      "id": "00754066-512f-43b6-9dfe-5fd772c5e824"
    },
    {
      "id": "cb73a38c",
      "cell_type": "markdown",
      "source": "## 11.3 MNIST\uff1a\u624b\u66f8\u304d\u6570\u5b57\u306e\u5206\u985e",
      "metadata": {}
    },
    {
      "cell_type": "code",
      "execution_count": null,
      "metadata": {},
      "outputs": [],
      "source": [
        "import matplotlib.pyplot as plt\n",
        "import numpy as np\n",
        "import pandas as pd\n",
        "import tensorflow as tf\n",
        "from random import sample\n",
        "from keras import callbacks, layers, models\n",
        "from sklearn.metrics import confusion_matrix\n",
        "\n",
        "(x_train, y_train), (x_test, y_test) = tf.keras.datasets.mnist.load_data()"
      ],
      "id": "f30c54ba-4763-479a-99b8-6c9c5fb35b77"
    },
    {
      "cell_type": "code",
      "execution_count": null,
      "metadata": {},
      "outputs": [],
      "source": [
        "x_train.shape"
      ],
      "id": "7d32c0d2-6fe6-4051-93d2-608e27fce42d"
    },
    {
      "cell_type": "code",
      "execution_count": null,
      "metadata": {},
      "outputs": [],
      "source": [
        "np.set_printoptions(linewidth=170)\n",
        "x_train[4, :, :]"
      ],
      "id": "b0860f34-2150-49fe-a8dc-9ca3dc2a15b5"
    },
    {
      "cell_type": "code",
      "execution_count": null,
      "metadata": {},
      "outputs": [],
      "source": [
        "plt.matshow(x_train[4, :, :])"
      ],
      "id": "39c8e7fc-f0b0-4b32-a355-a12fb03eb1bf"
    },
    {
      "cell_type": "code",
      "execution_count": null,
      "metadata": {},
      "outputs": [],
      "source": [
        "y_train"
      ],
      "id": "682e4935-34c2-466a-aa4a-2e63159601f6"
    },
    {
      "cell_type": "code",
      "execution_count": null,
      "metadata": {},
      "outputs": [],
      "source": [
        "x_train.min(), x_train.max()"
      ],
      "id": "4d5dcaed-6ea0-423f-905f-b1ef7f096cce"
    },
    {
      "cell_type": "code",
      "execution_count": null,
      "metadata": {},
      "outputs": [],
      "source": [
        "x_train = x_train / 255\n",
        "x_test  = x_test  / 255"
      ],
      "id": "95974e0b-643b-4067-a381-76a9e188b0e2"
    },
    {
      "cell_type": "code",
      "execution_count": null,
      "metadata": {},
      "outputs": [],
      "source": [
        "my_index = sample(range(60000), 6000)\n",
        "x_train = x_train[my_index, :, :]\n",
        "y_train = y_train[my_index]"
      ],
      "id": "7009590b-6bb1-47b3-acf1-bca2d175c0f5"
    },
    {
      "cell_type": "code",
      "execution_count": null,
      "metadata": {},
      "outputs": [],
      "source": [
        "my_model = models.Sequential()\n",
        "my_model.add(layers.Flatten(input_shape=[28, 28]))\n",
        "my_model.add(layers.Dense(units=256, activation=\"relu\"))\n",
        "my_model.add(layers.Dense(units=10, activation=\"softmax\"))\n",
        "\n",
        "my_model.summary()\n",
        "\n",
        "my_model.compile(loss='sparse_categorical_crossentropy',\n",
        "                 optimizer='rmsprop',\n",
        "                 metrics=['accuracy'])\n",
        "\n",
        "my_cb = callbacks.EarlyStopping(patience=5, restore_best_weights=True)"
      ],
      "id": "e9adad5d-de51-4529-aae7-f13105cc75ea"
    },
    {
      "cell_type": "code",
      "execution_count": null,
      "metadata": {},
      "outputs": [],
      "source": [
        "my_history = my_model.fit(\n",
        "    x=x_train,\n",
        "    y=y_train,\n",
        "    validation_split=0.2,\n",
        "    batch_size=128,\n",
        "    epochs=20,\n",
        "    callbacks=[my_cb],\n",
        "    verbose=0)\n",
        "\n",
        "tmp = pd.DataFrame(my_history.history)\n",
        "tmp.plot(xlabel='epoch', style='o-')"
      ],
      "id": "a904fda7-b9a5-4979-bdf4-190dd7957838"
    },
    {
      "cell_type": "code",
      "execution_count": null,
      "metadata": {},
      "outputs": [],
      "source": [
        "tmp = my_model.predict(x_test)\n",
        "y_ = np.argmax(tmp, axis=-1)\n",
        "confusion_matrix(y_true=y_test,\n",
        "                 y_pred=y_)"
      ],
      "id": "13b4dbba-81f9-480a-9ac1-652f548a6578"
    },
    {
      "cell_type": "code",
      "execution_count": null,
      "metadata": {},
      "outputs": [],
      "source": [],
      "id": "15ba914e-35d2-46b1-b671-9906e9a4c6d0"
    },
    {
      "cell_type": "code",
      "execution_count": null,
      "metadata": {},
      "outputs": [],
      "source": [
        "(y_ == y_test).mean()"
      ],
      "id": "47a54946-f9be-4af0-a53c-56c028101e4f"
    },
    {
      "cell_type": "code",
      "execution_count": null,
      "metadata": {},
      "outputs": [],
      "source": [
        "my_model.evaluate(x=x_test, y=y_test)"
      ],
      "id": "3a9b64e0-9787-4ff5-b161-79204f67bf99"
    },
    {
      "cell_type": "code",
      "execution_count": null,
      "metadata": {},
      "outputs": [],
      "source": [
        "x_train2d = x_train.reshape(-1, 28, 28, 1)\n",
        "x_test2d = x_test.reshape(-1, 28, 28, 1)"
      ],
      "id": "080e5ece-a69f-415a-97df-763875b8247a"
    },
    {
      "cell_type": "code",
      "execution_count": null,
      "metadata": {},
      "outputs": [],
      "source": [
        "my_model = models.Sequential()\n",
        "my_model.add(layers.Conv2D(filters=32, kernel_size=3, # \u7573\u307f\u8fbc\u307f\u5c64\n",
        "                           activation='relu',\n",
        "                           input_shape=[28, 28, 1]))\n",
        "my_model.add(layers.MaxPooling2D(pool_size=2))        # \u30d7\u30fc\u30ea\u30f3\u30b0\u5c64\n",
        "my_model.add(layers.Flatten())\n",
        "my_model.add(layers.Dense(128, activation='relu'))\n",
        "my_model.add(layers.Dense(10, activation='softmax'))\n",
        "\n",
        "my_model.summary()\n",
        "\n",
        "my_model.compile(loss='sparse_categorical_crossentropy',\n",
        "                 optimizer='rmsprop',\n",
        "                 metrics=['accuracy'])\n",
        "\n",
        "from keras.callbacks import EarlyStopping\n",
        "my_cb = EarlyStopping(patience=5,\n",
        "                      restore_best_weights=True)"
      ],
      "id": "351aa245-5b79-49f4-81ba-8268cd5250c4"
    },
    {
      "cell_type": "code",
      "execution_count": null,
      "metadata": {},
      "outputs": [],
      "source": [
        "my_history = my_model.fit(\n",
        "    x=x_train2d,\n",
        "    y=y_train,\n",
        "    validation_split=0.2,\n",
        "    batch_size=128,\n",
        "    epochs=20,\n",
        "    callbacks=my_cb,\n",
        "    verbose=0)\n",
        "\n",
        "tmp = pd.DataFrame(my_history.history)\n",
        "tmp.plot(xlabel='epoch', style='o-')"
      ],
      "id": "bea240d5-aa81-4c45-94db-7f427000714a"
    },
    {
      "cell_type": "code",
      "execution_count": null,
      "metadata": {},
      "outputs": [],
      "source": [
        "my_model.evaluate(x=x_test2d, y=y_test)"
      ],
      "id": "6f8ece04-ae5b-447c-9789-93e3f2f1e7f6"
    },
    {
      "cell_type": "code",
      "execution_count": null,
      "metadata": {},
      "outputs": [],
      "source": [
        "my_model = models.Sequential()\n",
        "my_model.add(layers.Conv2D(filters=20, kernel_size=5, activation='relu',\n",
        "                           input_shape=(28, 28, 1)))\n",
        "my_model.add(layers.MaxPooling2D(pool_size=2, strides=2))\n",
        "my_model.add(layers.Conv2D(filters=20, kernel_size=5, activation='relu'))\n",
        "my_model.add(layers.MaxPooling2D(pool_size=2, strides=2))\n",
        "my_model.add(layers.Dropout(rate=0.25))\n",
        "my_model.add(layers.Flatten())\n",
        "my_model.add(layers.Dense(500, activation='relu'))\n",
        "my_model.add(layers.Dropout(rate=0.5))\n",
        "my_model.add(layers.Dense(10, activation='softmax'))\n",
        "\n",
        "my_model.compile(loss='sparse_categorical_crossentropy',\n",
        "                 optimizer='rmsprop',\n",
        "                 metrics=['accuracy'])\n",
        "\n",
        "my_cb = callbacks.EarlyStopping(patience=5,\n",
        "                                restore_best_weights=True)"
      ],
      "id": "82ec40ca-907c-4de7-837b-8ae067116d45"
    },
    {
      "cell_type": "code",
      "execution_count": null,
      "metadata": {},
      "outputs": [],
      "source": [
        "my_history = my_model.fit(\n",
        "    x=x_train2d,\n",
        "    y=y_train,\n",
        "    validation_split=0.2,\n",
        "    batch_size=128,\n",
        "    epochs=20,\n",
        "    callbacks=my_cb,\n",
        "    verbose=0)\n",
        "\n",
        "tmp = pd.DataFrame(my_history.history)\n",
        "tmp.plot(xlabel='epoch', style='o-')"
      ],
      "id": "87c5f0d5-2f6c-42d1-ad22-ddfe3cd577eb"
    },
    {
      "cell_type": "code",
      "execution_count": null,
      "metadata": {},
      "outputs": [],
      "source": [
        "my_model.evaluate(x=x_test2d, y=y_test)"
      ],
      "id": "56d6bb62-aa29-46c6-b1d0-f1bf547d97ba"
    },
    {
      "cell_type": "code",
      "execution_count": null,
      "metadata": {},
      "outputs": [],
      "source": [
        "y_prob = my_model.predict(x_test2d)                    # \u30ab\u30c6\u30b4\u30ea\u306b\u5c5e\u3059\u308b\u78ba\u7387\n",
        "\n",
        "tmp = pd.DataFrame({\n",
        "    'y_prob': np.max(y_prob, axis=1),                  # \u78ba\u7387\u306e\u6700\u5927\u5024\n",
        "    'y_': np.argmax(y_prob, axis=1),                   # \u4e88\u6e2c\u30ab\u30c6\u30b4\u30ea\n",
        "    'y': y_test,                                       # \u6b63\u89e3\n",
        "    'id': range(len(y_test))})                         # \u756a\u53f7\n",
        "\n",
        "tmp = tmp[tmp.y_ != tmp.y]                             # \u4e88\u6e2c\u304c\u306f\u305a\u308c\u305f\u3082\u306e\u3092\u6b8b\u3059\n",
        "my_result = tmp.sort_values('y_prob', ascending=False) # \u78ba\u7387\u306e\u5927\u304d\u3044\u9806\u306b\u4e26\u3073\u66ff\u3048\u308b"
      ],
      "id": "4ecd8d3b-3a79-4dee-8d01-65d857b55857"
    },
    {
      "cell_type": "code",
      "execution_count": null,
      "metadata": {},
      "outputs": [],
      "source": [
        "my_result.head()"
      ],
      "id": "4a0b47d8-0c33-437a-a217-ad2c1649d0bf"
    },
    {
      "cell_type": "code",
      "execution_count": null,
      "metadata": {},
      "outputs": [],
      "source": [
        "for i in range(5):\n",
        "    plt.subplot(1, 5, i + 1)\n",
        "    ans = my_result['y'].iloc[i]\n",
        "    id = my_result['id'].iloc[i]\n",
        "    plt.title(f'{ans} ({id})')\n",
        "    plt.imshow(x_test[id])\n",
        "    plt.axis('off')"
      ],
      "id": "82fe9a45-9f1d-4fd5-9e2a-b11cd35ef61d"
    },
    {
      "id": "e3810017",
      "cell_type": "markdown",
      "source": "## 11.4 AutoML",
      "metadata": {}
    },
    {
      "cell_type": "code",
      "execution_count": null,
      "metadata": {},
      "outputs": [],
      "source": [
        "import h2o\n",
        "import pandas as pd\n",
        "import tensorflow as tf\n",
        "from h2o.automl import H2OAutoML\n",
        "from random import sample\n",
        "\n",
        "h2o.init()\n",
        "h2o.no_progress()\n",
        "# h2o.cluster().shutdown() # \u505c\u6b62"
      ],
      "id": "32e6ab2c-cbe7-477c-8a8c-3b7fccabd8fb"
    },
    {
      "cell_type": "code",
      "execution_count": null,
      "metadata": {},
      "outputs": [],
      "source": [
        "my_url = ('https://raw.githubusercontent.com/taroyabuki'\n",
        "          '/fromzero/master/data/wine.csv')\n",
        "my_data = pd.read_csv(my_url)\n",
        "my_frame = h2o.H2OFrame(my_data) # \u901a\u5e38\u306e\u30c7\u30fc\u30bf\u30d5\u30ec\u30fc\u30e0\u3092H2OFrame\u306b\u5909\u63db\u3059\u308b\uff0e\n",
        "# \u3042\u308b\u3044\u306f\n",
        "my_frame = h2o.import_file(my_url, header=1) # \u30c7\u30fc\u30bf\u3092\u8aad\u307f\u8fbc\u3080\uff0e"
      ],
      "id": "8ee98405-91d3-4156-8b76-b5ed631340bc"
    },
    {
      "cell_type": "code",
      "execution_count": null,
      "metadata": {},
      "outputs": [],
      "source": [
        "my_frame.head(5)\n",
        "\n",
        "# \u901a\u5e38\u306e\u30c7\u30fc\u30bf\u30d5\u30ec\u30fc\u30e0\u306b\u623b\u3059\uff0e\n",
        "h2o.as_list(my_frame).head()\n",
        "# \u7d50\u679c\u306f\u5272\u611b\uff08\u898b\u305f\u76ee\u306f\u540c\u3058\uff09"
      ],
      "id": "f90d8ab8-d99b-4082-a488-6ddf9ae0f741"
    },
    {
      "cell_type": "code",
      "execution_count": null,
      "metadata": {},
      "outputs": [],
      "source": [
        "my_model = H2OAutoML(\n",
        "    max_runtime_secs=60)\n",
        "my_model.train(\n",
        "    y='LPRICE2',\n",
        "    training_frame=my_frame)"
      ],
      "id": "cac4b2d3-59d3-48ac-b2ff-aeaa31528b8d"
    },
    {
      "cell_type": "code",
      "execution_count": null,
      "metadata": {},
      "outputs": [],
      "source": [
        "my_model.leaderboard['rmse'].min()"
      ],
      "id": "ac51f258-5d9c-4e24-9c8f-006f08e26497"
    },
    {
      "cell_type": "code",
      "execution_count": null,
      "metadata": {},
      "outputs": [],
      "source": [
        "tmp = h2o.as_list(\n",
        "    my_model.predict(my_frame))\n",
        "\n",
        "pd.DataFrame({\n",
        "    'y': my_data['LPRICE2'],\n",
        "    'y_': tmp['predict']}\n",
        ").plot('y', 'y_', kind='scatter')"
      ],
      "id": "5c3d9500-bbbc-44d1-a64b-cfd9a56bdd26"
    },
    {
      "cell_type": "code",
      "execution_count": null,
      "metadata": {},
      "outputs": [],
      "source": [
        "(x_train, y_train), (x_test, y_test) = tf.keras.datasets.mnist.load_data()\n",
        "my_index = sample(range(60000), 6000)\n",
        "x_train = x_train[my_index, :, :]\n",
        "y_train = y_train[my_index]"
      ],
      "id": "e5d36257-6f26-4138-8d24-c06a8b4cafe9"
    },
    {
      "cell_type": "code",
      "execution_count": null,
      "metadata": {},
      "outputs": [],
      "source": [
        "tmp = pd.DataFrame(\n",
        "    x_train.reshape(-1, 28 * 28))\n",
        "y = 'y'\n",
        "tmp[y] = y_train\n",
        "my_train = h2o.H2OFrame(tmp)\n",
        "my_train[y] = my_train[y].asfactor()\n",
        "\n",
        "tmp = pd.DataFrame(\n",
        "    x_test.reshape(-1, 28 * 28))\n",
        "my_test = h2o.H2OFrame(tmp)"
      ],
      "id": "a85248fe-daeb-4698-9e1f-85cda0aa3649"
    },
    {
      "cell_type": "code",
      "execution_count": null,
      "metadata": {},
      "outputs": [],
      "source": [
        "my_model = H2OAutoML(\n",
        "    max_runtime_secs=120)\n",
        "my_model.train(\n",
        "    y=y,\n",
        "    training_frame=my_train)"
      ],
      "id": "4bc5d1db-f75b-49bb-8d98-41e70d139d7d"
    },
    {
      "cell_type": "code",
      "execution_count": null,
      "metadata": {},
      "outputs": [],
      "source": [
        "my_model.leaderboard[\n",
        "    'mean_per_class_error'].min()"
      ],
      "id": "307fc438-8537-4fa0-92ef-c681697b0be7"
    },
    {
      "cell_type": "code",
      "execution_count": null,
      "metadata": {},
      "outputs": [],
      "source": [
        "tmp = h2o.as_list(\n",
        "    my_model.predict(my_test))\n",
        "y_ = tmp.predict\n",
        "\n",
        "(y_ == y_test).mean()"
      ],
      "id": "f5b256cc-20d1-4417-8557-8cff1814a850"
    },
    {
      "id": "dda702ba",
      "cell_type": "markdown",
      "source": "# 12 \u6642\u7cfb\u5217\u4e88\u6e2c\n\n\n",
      "metadata": {}
    },
    {
      "id": "a2cd393b",
      "cell_type": "markdown",
      "source": "## 12.1 \u65e5\u6642\u3068\u65e5\u6642\u306e\u5217",
      "metadata": {}
    },
    {
      "cell_type": "code",
      "execution_count": null,
      "metadata": {},
      "outputs": [],
      "source": [
        "import pandas as pd\n",
        "pd.to_datetime('2020-01-01')"
      ],
      "id": "68867b51-7ad7-41ff-be74-e2a229222c47"
    },
    {
      "cell_type": "code",
      "execution_count": null,
      "metadata": {},
      "outputs": [],
      "source": [
        "pd.date_range(start='2021-01-01', end='2023-01-01', freq='1A')\n",
        "\n",
        "pd.date_range(start='2021-01-01', end='2023-01-01', freq='1AS')\n",
        "\n",
        "pd.date_range(start='2021-01-01', end='2021-03-01', freq='2M')\n",
        "\n",
        "pd.date_range(start='2021-01-01', end='2021-03-01', freq='2MS')\n",
        "\n",
        "pd.date_range(start='2021-01-01', end='2021-01-03', freq='1D')\n",
        "\n",
        "pd.date_range(start='2021-01-01 00:00:00', end='2021-01-01 03:00:00', freq='2H')"
      ],
      "id": "9f2160f0-fffe-47e2-9a78-f0c2a0239dc8"
    },
    {
      "id": "03f7ace5",
      "cell_type": "markdown",
      "source": "## 12.2 \u6642\u7cfb\u5217\u30c7\u30fc\u30bf\u306e\u4e88\u6e2c",
      "metadata": {}
    },
    {
      "cell_type": "code",
      "execution_count": null,
      "metadata": {},
      "outputs": [],
      "source": [
        "import matplotlib.pyplot as plt\n",
        "import pandas as pd\n",
        "from pmdarima.datasets import airpassengers\n",
        "from sklearn.metrics import mean_squared_error\n",
        "\n",
        "my_data = airpassengers.load_airpassengers()"
      ],
      "id": "dc6d4587-a2f9-4566-8bcd-999905172c1b"
    },
    {
      "cell_type": "code",
      "execution_count": null,
      "metadata": {},
      "outputs": [],
      "source": [
        "n = len(my_data) # \u30c7\u30fc\u30bf\u6570\uff08144\uff09\n",
        "k = 108          # \u8a13\u7df4\u30c7\u30fc\u30bf\u6570"
      ],
      "id": "f4662430-3e54-47e9-b4ae-9b3a4e10953a"
    },
    {
      "cell_type": "code",
      "execution_count": null,
      "metadata": {},
      "outputs": [],
      "source": [
        "my_ds = pd.date_range(\n",
        "    start='1949/01/01',\n",
        "    end='1960/12/01',\n",
        "    freq='MS')\n",
        "my_df = pd.DataFrame({\n",
        "    'ds': my_ds,\n",
        "    'x': range(n),\n",
        "    'y': my_data},\n",
        "    index=my_ds)\n",
        "my_df.head()"
      ],
      "id": "a32aeee7-427b-4b5c-86a2-3ba1fb1a306e"
    },
    {
      "cell_type": "code",
      "execution_count": null,
      "metadata": {},
      "outputs": [],
      "source": [
        "my_train = my_df[        :k]\n",
        "my_test  = my_df[-(n - k): ]\n",
        "y = my_test.y"
      ],
      "id": "a3fe7b93-d956-4c4a-8324-1b565ea00c4e"
    },
    {
      "cell_type": "code",
      "execution_count": null,
      "metadata": {},
      "outputs": [],
      "source": [
        "plt.plot(my_train.y, label='train')\n",
        "plt.plot(my_test.y,  label='test')\n",
        "plt.legend()"
      ],
      "id": "30a53144-7b47-407e-a044-cfa3981923fb"
    },
    {
      "cell_type": "code",
      "execution_count": null,
      "metadata": {},
      "outputs": [],
      "source": [
        "from sklearn.linear_model import LinearRegression\n",
        "\n",
        "my_lm_model = LinearRegression()\n",
        "my_lm_model.fit(my_train[['x']], my_train.y)\n",
        "\n",
        "X = my_test[['x']]\n",
        "y_ = my_lm_model.predict(X)\n",
        "mean_squared_error(y, y_)**0.5 # RMSE\uff08\u30c6\u30b9\u30c8\uff09"
      ],
      "id": "16914da2-e24c-42d5-9ae5-545d6828ddbc"
    },
    {
      "cell_type": "code",
      "execution_count": null,
      "metadata": {},
      "outputs": [],
      "source": [
        "y_ = my_lm_model.predict(my_df[['x']])\n",
        "tmp = pd.DataFrame(y_,\n",
        "                   index=my_df.index)\n",
        "plt.plot(my_train.y, label='train')\n",
        "plt.plot(my_test.y,  label='test')\n",
        "plt.plot(tmp, label='model')\n",
        "plt.legend()"
      ],
      "id": "7fd74532-8092-4eec-a172-ed4577cfbb97"
    },
    {
      "cell_type": "code",
      "execution_count": null,
      "metadata": {},
      "outputs": [],
      "source": [
        "import pmdarima as pm\n",
        "my_arima_model = pm.auto_arima(my_train.y, m=12, trace=True)"
      ],
      "id": "ecbb104f-08df-4419-9cbe-dffa2fb99c8b"
    },
    {
      "cell_type": "code",
      "execution_count": null,
      "metadata": {},
      "outputs": [],
      "source": [
        "y_, my_ci = my_arima_model.predict(len(my_test),         # \u671f\u9593\u306f\u30c6\u30b9\u30c8\u30c7\u30fc\u30bf\u3068\u540c\u3058\uff0e\n",
        "                                   alpha=0.05,           # \u6709\u610f\u6c34\u6e96\uff08\u30c7\u30d5\u30a9\u30eb\u30c8\uff09\n",
        "                                   return_conf_int=True) # \u4fe1\u983c\u533a\u9593\u3092\u6c42\u3081\u308b\uff0e\n",
        "tmp = pd.DataFrame({'y': y_,\n",
        "                    'Lo': my_ci[:, 0],\n",
        "                    'Hi': my_ci[:, 1]},\n",
        "                   index=my_test.index)\n",
        "tmp.head()"
      ],
      "id": "aba8c001-d94e-4f19-9b03-e341c47cf5bb"
    },
    {
      "cell_type": "code",
      "execution_count": null,
      "metadata": {},
      "outputs": [],
      "source": [
        "mean_squared_error(y, y_)**0.5"
      ],
      "id": "43de6f4d-6460-4702-bcb3-4a03a931ccc3"
    },
    {
      "cell_type": "code",
      "execution_count": null,
      "metadata": {},
      "outputs": [],
      "source": [
        "plt.plot(my_train.y, label='train')\n",
        "plt.plot(my_test.y,  label='test')\n",
        "plt.plot(tmp.y,      label='model')\n",
        "plt.fill_between(tmp.index,\n",
        "                 tmp.Lo,\n",
        "                 tmp.Hi,\n",
        "                 alpha=0.25) # \u4e0d\u900f\u660e\u5ea6\n",
        "plt.legend(loc='upper left')"
      ],
      "id": "1ab3741d-74fd-4d75-a872-0cf5378b67ad"
    },
    {
      "cell_type": "code",
      "execution_count": null,
      "metadata": {},
      "outputs": [],
      "source": [
        "try: from fbprophet import Prophet\n",
        "except ImportError: from prophet import Prophet\n",
        "my_prophet_model = Prophet(seasonality_mode='multiplicative')\n",
        "my_prophet_model.fit(my_train)"
      ],
      "id": "9a88c9e6-06ff-451a-9d37-b281688416ba"
    },
    {
      "cell_type": "code",
      "execution_count": null,
      "metadata": {},
      "outputs": [],
      "source": [
        "tmp = my_prophet_model.predict(my_test)\n",
        "tmp[['ds', 'yhat', 'yhat_lower', 'yhat_upper']].head()"
      ],
      "id": "3eddf759-8f95-485e-85ca-a80048bd7bb1"
    },
    {
      "cell_type": "code",
      "execution_count": null,
      "metadata": {},
      "outputs": [],
      "source": [
        "y_ = tmp.yhat\n",
        "mean_squared_error(y, y_)**0.5"
      ],
      "id": "aeaa45b9-78d7-44b2-8a51-8898cb2112d0"
    },
    {
      "cell_type": "code",
      "execution_count": null,
      "metadata": {},
      "outputs": [],
      "source": [
        "# my_prophet_model.plot(tmp) # \u4e88\u6e2c\u7d50\u679c\u306e\u307f\u3067\u3088\u3044\u5834\u5408\n",
        "\n",
        "fig = my_prophet_model.plot(tmp)\n",
        "fig.axes[0].plot(my_train.ds, my_train.y)\n",
        "fig.axes[0].plot(my_test.ds, my_test.y, color='red')"
      ],
      "id": "e8ba8c53-2032-44e5-b389-6d563bad1a87"
    },
    {
      "id": "72d5009a",
      "cell_type": "markdown",
      "source": "# 13 \u6559\u5e2b\u306a\u3057\u5b66\u7fd2\n\n\n",
      "metadata": {}
    },
    {
      "id": "bec4adae",
      "cell_type": "markdown",
      "source": "## 13.1 \u4e3b\u6210\u5206\u5206\u6790",
      "metadata": {}
    },
    {
      "cell_type": "code",
      "execution_count": null,
      "metadata": {},
      "outputs": [],
      "source": [
        "import numpy as np\n",
        "import pandas as pd\n",
        "from pca import pca\n",
        "from scipy.stats import zscore\n",
        "\n",
        "my_data = pd.DataFrame(\n",
        "    {'language': [  0,  20,  20,  25,  22,  17],\n",
        "     'english':  [  0,  20,  40,  20,  24,  18],\n",
        "     'math':     [100,  20,   5,  30,  17,  25],\n",
        "     'science':  [  0,  20,   5,  25,  16,  23],\n",
        "     'society':  [  0,  20,  30,   0,  21,  17]},\n",
        "    index=       ['A', 'B', 'C', 'D', 'E', 'F'])\n",
        "my_model = pca(n_components=5)\n",
        "my_result = my_model.fit_transform(my_data) # \u4e3b\u6210\u5206\u5206\u6790\u306e\u5b9f\u884c"
      ],
      "id": "3502f201-76c7-4feb-a7c1-622ff546b0db"
    },
    {
      "cell_type": "code",
      "execution_count": null,
      "metadata": {},
      "outputs": [],
      "source": [
        "my_result['PC'] # \u4e3b\u6210\u5206\u30b9\u30b3\u30a2"
      ],
      "id": "670848b1-7194-4640-b991-0664994d5aee"
    },
    {
      "cell_type": "code",
      "execution_count": null,
      "metadata": {},
      "outputs": [],
      "source": [
        "my_model.biplot(legend=False)"
      ],
      "id": "ee031f09-48fb-4c46-a5e7-9c70646d204d"
    },
    {
      "cell_type": "code",
      "execution_count": null,
      "metadata": {},
      "outputs": [],
      "source": [
        "my_result['loadings']"
      ],
      "id": "40b99a96-60ca-480d-818c-5af45df1c7d7"
    },
    {
      "cell_type": "code",
      "execution_count": null,
      "metadata": {},
      "outputs": [],
      "source": [
        "my_result['explained_var']"
      ],
      "id": "ce5574c8-45c7-478b-b8d9-6cbd4a814b9e"
    },
    {
      "cell_type": "code",
      "execution_count": null,
      "metadata": {},
      "outputs": [],
      "source": [
        "tmp = zscore(my_data, ddof=1) # \u6a19\u6e96\u5316\n",
        "my_result = my_model.fit_transform(\n",
        "    tmp)\n",
        "my_result['PC'] # \u4e3b\u6210\u5206\u30b9\u30b3\u30a2"
      ],
      "id": "e8734af6-5859-4948-99cf-6b40510ebbaa"
    },
    {
      "cell_type": "code",
      "execution_count": null,
      "metadata": {},
      "outputs": [],
      "source": [
        "tmp = my_data - my_data.mean()\n",
        "Z  = np.matrix(tmp)                       # \u6a19\u6e96\u5316\u3057\u306a\u3044\u5834\u5408\n",
        "#Z = np.matrix(tmp / my_data.std(ddof=1)) # \u221a\u4e0d\u504f\u5206\u6563\u3067\u6a19\u6e96\u5316\u3059\u308b\u5834\u5408\n",
        "#Z = np.matrix(tmp / my_data.std(ddof=0)) # pca(normalize=True)\u306b\u5408\u308f\u305b\u308b\u5834\u5408\n",
        "\n",
        "n = len(my_data)\n",
        "S = np.cov(Z, rowvar=0, ddof=0)      # \u5206\u6563\u5171\u5206\u6563\u884c\u5217\n",
        "#S = Z.T @ Z / n                     # \uff08\u540c\u3058\u7d50\u679c\uff09\n",
        "vals, vecs = np.linalg.eig(S)        # \u56fa\u6709\u5024\u3068\u56fa\u6709\u30d9\u30af\u30c8\u30eb\n",
        "idx = np.argsort(-vals)              # \u56fa\u6709\u5024\u306e\u5927\u304d\u3044\u9806\u306e\u756a\u53f7\n",
        "vals, vecs = vals[idx], vecs[:, idx] # \u56fa\u6709\u5024\u306e\u5927\u304d\u3044\u9806\u3067\u306e\u4e26\u3079\u66ff\u3048\n",
        "Z @ vecs                             # \u4e3b\u6210\u5206\u30b9\u30b3\u30a2\uff08\u7d50\u679c\u306f\u5272\u611b\uff09\n",
        "vals.cumsum() / vals.sum()           # \u7d2f\u7a4d\u5bc4\u4e0e\u7387"
      ],
      "id": "d6314692-b1d0-480c-964a-4854e196f260"
    },
    {
      "cell_type": "code",
      "execution_count": null,
      "metadata": {},
      "outputs": [],
      "source": [
        "U, d, V =  np.linalg.svd(Z, full_matrices=False)     # \u7279\u7570\u5024\u5206\u89e3\n",
        "W = np.diag(d)\n",
        "\n",
        "[np.isclose(Z, U @ W @ V).all(),                     # \u78ba\u8a8d1\n",
        " np.isclose(U.T @ U, np.identity(U.shape[1])).all(), # \u78ba\u8a8d2\n",
        " np.isclose(V @ V.T, np.identity(V.shape[0])).all()] # \u78ba\u8a8d3\n",
        "\n",
        "U @ W                # \u4e3b\u6210\u5206\u30b9\u30b3\u30a2\uff08\u7d50\u679c\u306f\u5272\u611b\uff09\n",
        "\n",
        "e = d ** 2 / n       # \u5206\u6563\u5171\u5206\u6563\u884c\u5217\u306e\u56fa\u6709\u5024\n",
        "e.cumsum() / e.sum() # \u7d2f\u7a4d\u5bc4\u4e0e\u7387"
      ],
      "id": "b8071e3f-154c-41c9-8c35-d1ad2c657b69"
    },
    {
      "id": "6660a3ce",
      "cell_type": "markdown",
      "source": "## 13.2 \u30af\u30e9\u30b9\u30bf\u5206\u6790",
      "metadata": {}
    },
    {
      "cell_type": "code",
      "execution_count": null,
      "metadata": {},
      "outputs": [],
      "source": [
        "import pandas as pd\n",
        "from scipy.cluster import hierarchy\n",
        "\n",
        "my_data = pd.DataFrame(\n",
        "    {'x': [  0, -16,  10,  10],\n",
        "     'y': [  0,   0,  10, -15]},\n",
        "    index=['A', 'B', 'C', 'D'])\n",
        "\n",
        "my_result = hierarchy.linkage(\n",
        "    my_data,\n",
        "    metric='euclidean', # \u7701\u7565\u53ef\n",
        "    method='complete')"
      ],
      "id": "6d12ed28-882b-409c-b67f-35e800216443"
    },
    {
      "cell_type": "code",
      "execution_count": null,
      "metadata": {},
      "outputs": [],
      "source": [
        "hierarchy.dendrogram(my_result,\n",
        "    labels=my_data.index)"
      ],
      "id": "a7ae9e12-72b4-4509-8da0-605df9696bc2"
    },
    {
      "cell_type": "code",
      "execution_count": null,
      "metadata": {},
      "outputs": [],
      "source": [
        "hierarchy.cut_tree(my_result, 3)\n",
        "\n",
        "# \u88dc\u8db3\uff08\u898b\u3084\u3059\u304f\u3059\u308b\uff09\n",
        "my_data.assign(cluster=\n",
        "  hierarchy.cut_tree(my_result, 3))"
      ],
      "id": "dd580b04-ae49-4b70-aec8-ce4e406a0985"
    },
    {
      "cell_type": "code",
      "execution_count": null,
      "metadata": {},
      "outputs": [],
      "source": [
        "import pandas as pd\n",
        "import seaborn as sns\n",
        "\n",
        "my_data = pd.DataFrame(\n",
        "    {'language': [  0,  20,  20,  25,  22,  17],\n",
        "     'english':  [  0,  20,  40,  20,  24,  18],\n",
        "     'math':     [100,  20,   5,  30,  17,  25],\n",
        "     'science':  [  0,  20,   5,  25,  16,  23],\n",
        "     'society':  [  0,  20,  30,   0,  21,  17]},\n",
        "    index=       ['A', 'B', 'C', 'D', 'E', 'F'])\n",
        "\n",
        "sns.clustermap(my_data, z_score=1) # \u5217\u3054\u3068\u306e\u6a19\u6e96\u5316"
      ],
      "id": "5e5059fe-fadc-4f4f-a5d4-fbaf14625a87"
    },
    {
      "cell_type": "code",
      "execution_count": null,
      "metadata": {},
      "outputs": [],
      "source": [
        "import pandas as pd\n",
        "from sklearn.cluster import KMeans\n",
        "\n",
        "my_data = pd.DataFrame(\n",
        "    {'x': [  0, -16,  10,  10],\n",
        "     'y': [  0,   0,  10, -15]},\n",
        "    index=['A', 'B', 'C', 'D'])\n",
        "\n",
        "my_result = KMeans(\n",
        "    n_clusters=3).fit(my_data)"
      ],
      "id": "c4f34b67-5c44-4ebe-8d2b-aac1f28894a4"
    },
    {
      "cell_type": "code",
      "execution_count": null,
      "metadata": {},
      "outputs": [],
      "source": [
        "my_result.labels_\n",
        "\n",
        "# \u88dc\u8db3\uff08\u898b\u3084\u3059\u304f\u3059\u308b\uff09\n",
        "my_data.assign(\n",
        "  cluster=my_result.labels_)"
      ],
      "id": "66cf2793-ff39-458f-a937-b8651f072467"
    },
    {
      "cell_type": "code",
      "execution_count": null,
      "metadata": {},
      "outputs": [],
      "source": [
        "import pandas as pd\n",
        "import statsmodels.api as sm\n",
        "from sklearn.cluster import KMeans\n",
        "\n",
        "iris = sm.datasets.get_rdataset('iris', 'datasets').data\n",
        "my_data = iris.iloc[:, 0:4]\n",
        "\n",
        "k = range(1, 11)\n",
        "my_df = pd.DataFrame({\n",
        "    'k': k,\n",
        "    'inertia': [KMeans(k).fit(my_data).inertia_ for k in range(1, 11)]})\n",
        "my_df.plot(x='k', style='o-', legend=False)"
      ],
      "id": "92fd214b-b35b-4acd-8059-b47c7c9b28b2"
    },
    {
      "cell_type": "code",
      "execution_count": null,
      "metadata": {},
      "outputs": [],
      "source": [
        "import seaborn as sns\n",
        "import statsmodels.api as sm\n",
        "from pca import pca\n",
        "from scipy.cluster import hierarchy\n",
        "from scipy.stats import zscore\n",
        "from sklearn.cluster import KMeans\n",
        "\n",
        "iris = sm.datasets.get_rdataset('iris', 'datasets').data\n",
        "my_data = zscore(iris.iloc[:, 0:4])\n",
        "\n",
        "my_model = pca() # \u4e3b\u6210\u5206\u5206\u6790\n",
        "my_result = my_model.fit_transform(my_data)['PC']\n",
        "my_result['Species'] = list(iris.Species)\n",
        "\n",
        "# \u975e\u968e\u5c64\u7684\u30af\u30e9\u30b9\u30bf\u5206\u6790\u306e\u5834\u5408\n",
        "my_result['cluster'] = KMeans(n_clusters=3).fit(my_data).labels_\n",
        "\n",
        "# \u968e\u5c64\u7684\u30af\u30e9\u30b9\u30bf\u5206\u6790\u306e\u5834\u5408\n",
        "#my_result['cluster'] = hierarchy.cut_tree(\n",
        "#    hierarchy.linkage(my_data, method='complete'), 3)[:,0]\n",
        "\n",
        "sns.scatterplot(x='PC1', y='PC2', data=my_result, legend=False,\n",
        "                hue='cluster',   # \u8272\u3067\u30af\u30e9\u30b9\u30bf\u3092\u8868\u73fe\u3059\u308b\uff0e\n",
        "                style='Species', # \u5f62\u3067\u54c1\u7a2e\u3092\u8868\u73fe\u3059\u308b\uff0e\n",
        "                palette='bright')"
      ],
      "id": "8fdf190a-fe1a-4b2a-8bb6-24b38517b8da"
    }
  ],
  "nbformat": 4,
  "nbformat_minor": 5,
  "metadata": {
    "kernelspec": {
      "name": "python3",
      "display_name": "Python 3"
    }
  }
}