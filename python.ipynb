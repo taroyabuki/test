{
  "cells": [
    {
      "cell_type": "markdown",
      "source": [
        "[辻真吾・矢吹太朗『ゼロからはじめるデータサイエンス入門』（講談社, 2021）](https://github.com/taroyabuki/fromzero)"
      ],
      "metadata": {
        "id": "IqfXDvp-gnGr"
      },
      "id": "IqfXDvp-gnGr"
    },
    {
      "cell_type": "code",
      "execution_count": null,
      "metadata": {
        "id": "w29E54BLgnGu"
      },
      "outputs": [],
      "source": [
        "# Google Colaboratoryの環境設定\n",
        "import os\n",
        "if 'COLAB_GPU' in os.environ:\n",
        "  !python -m pip install h2o pandarallel pca pmdarima prophet | tail -n 1"
      ],
      "id": "w29E54BLgnGu"
    },
    {
      "cell_type": "code",
      "execution_count": null,
      "metadata": {
        "id": "OYW4jD4dgnGw"
      },
      "outputs": [],
      "source": [
        "# これはPythonのコードの例です．\n",
        "1 + 1\n",
        "#> 2 # 注目すべき実行結果です．"
      ],
      "id": "OYW4jD4dgnGw"
    },
    {
      "cell_type": "markdown",
      "source": [
        "# 1 コンピュータとネットワーク\n",
        "\n",
        "\n"
      ],
      "metadata": {
        "id": "VymiwxfkgnGx"
      },
      "id": "VymiwxfkgnGx"
    },
    {
      "cell_type": "markdown",
      "source": [
        "## 1.1 コンピュータの基本操作\n",
        "\n",
        "\n"
      ],
      "metadata": {
        "id": "o-K3WjeCgnGx"
      },
      "id": "o-K3WjeCgnGx"
    },
    {
      "cell_type": "markdown",
      "source": [
        "## 1.2 ネットワークの仕組み\n",
        "\n",
        "\n"
      ],
      "metadata": {
        "id": "skvzbGpJgnGx"
      },
      "id": "skvzbGpJgnGx"
    },
    {
      "cell_type": "markdown",
      "source": [
        "# 2 データサイエンスのための環境\n",
        "\n",
        "\n"
      ],
      "metadata": {
        "id": "qIxtZKcHgnGy"
      },
      "id": "qIxtZKcHgnGy"
    },
    {
      "cell_type": "markdown",
      "source": [
        "## 2.1 実行環境の選択\n",
        "\n",
        "\n"
      ],
      "metadata": {
        "id": "2fkRpWnlgnGy"
      },
      "id": "2fkRpWnlgnGy"
    },
    {
      "cell_type": "markdown",
      "source": [
        "## 2.2 クラウド\n",
        "\n",
        "\n"
      ],
      "metadata": {
        "id": "THcLW6_UgnGz"
      },
      "id": "THcLW6_UgnGz"
    },
    {
      "cell_type": "markdown",
      "source": [
        "## 2.3 Docker\n",
        "\n",
        "\n"
      ],
      "metadata": {
        "id": "Rj4gX7QIgnGz"
      },
      "id": "Rj4gX7QIgnGz"
    },
    {
      "cell_type": "markdown",
      "source": [
        "## 2.4 ターミナルの使い方\n",
        "\n",
        "\n"
      ],
      "metadata": {
        "id": "nHOUIV99gnGz"
      },
      "id": "nHOUIV99gnGz"
    },
    {
      "cell_type": "markdown",
      "source": [
        "## 2.5 RとPython\n",
        "\n",
        "\n"
      ],
      "metadata": {
        "id": "YmJqY4ZCgnG0"
      },
      "id": "YmJqY4ZCgnG0"
    },
    {
      "cell_type": "markdown",
      "source": [
        "## 2.6 サンプルコードの利用"
      ],
      "metadata": {
        "id": "tIL1gLJ9gnG0"
      },
      "id": "tIL1gLJ9gnG0"
    },
    {
      "cell_type": "code",
      "execution_count": null,
      "metadata": {
        "id": "zc1ZRutSgnG0"
      },
      "outputs": [],
      "source": [
        "1 + 1\n",
        "# 2 # これは表示されない．\n",
        "\n",
        "print(1 + 2)\n",
        "# 3 # 表示される．\n",
        "\n",
        "1 + 3\n",
        "# 4 # 表示される．"
      ],
      "id": "zc1ZRutSgnG0"
    },
    {
      "cell_type": "markdown",
      "source": [
        "# 3 RとPython\n",
        "\n",
        "\n"
      ],
      "metadata": {
        "id": "4hkEhI4NgnG1"
      },
      "id": "4hkEhI4NgnG1"
    },
    {
      "cell_type": "markdown",
      "source": [
        "## 3.1 入門"
      ],
      "metadata": {
        "id": "Jf8wMcLqgnG1"
      },
      "id": "Jf8wMcLqgnG1"
    },
    {
      "cell_type": "code",
      "execution_count": null,
      "metadata": {
        "id": "XsUsBArngnG1"
      },
      "outputs": [],
      "source": [
        "0x10\n",
        "#> 16"
      ],
      "id": "XsUsBArngnG1"
    },
    {
      "cell_type": "code",
      "execution_count": null,
      "metadata": {
        "id": "wnhfDHj4gnG1"
      },
      "outputs": [],
      "source": [
        "1.23e5\n",
        "#> 123000.0"
      ],
      "id": "wnhfDHj4gnG1"
    },
    {
      "cell_type": "code",
      "execution_count": null,
      "metadata": {
        "id": "dI1VcZN7gnG1"
      },
      "outputs": [],
      "source": [
        "2 * 3\n",
        "#> 6"
      ],
      "id": "dI1VcZN7gnG1"
    },
    {
      "cell_type": "code",
      "execution_count": null,
      "metadata": {
        "id": "LBpg1o-SgnG2"
      },
      "outputs": [],
      "source": [
        "10 / 3\n",
        "#> 3.3333333333333335"
      ],
      "id": "LBpg1o-SgnG2"
    },
    {
      "cell_type": "code",
      "execution_count": null,
      "metadata": {
        "id": "SS5mcf5HgnG2"
      },
      "outputs": [],
      "source": [
        "10 // 3 # 商\n",
        "#> 3\n",
        "\n",
        "10 % 3  # 余り\n",
        "#> 1"
      ],
      "id": "SS5mcf5HgnG2"
    },
    {
      "cell_type": "code",
      "execution_count": null,
      "metadata": {
        "id": "V-GbCIs_gnG2"
      },
      "outputs": [],
      "source": [
        "x = 2\n",
        "y = 3\n",
        "x * y\n",
        "#> 6\n",
        "\n",
        "x, y = 20, 30 # まとめて名付け\n",
        "x * y\n",
        "#> 600"
      ],
      "id": "V-GbCIs_gnG2"
    },
    {
      "cell_type": "code",
      "execution_count": null,
      "metadata": {
        "id": "i5vDuKnOgnG3"
      },
      "outputs": [],
      "source": [
        "x = 1 + 1\n",
        "# この段階では結果は表示されない\n",
        "\n",
        "x # 変数名を評価する．\n",
        "#> 2"
      ],
      "id": "i5vDuKnOgnG3"
    },
    {
      "cell_type": "code",
      "execution_count": null,
      "metadata": {
        "id": "M4B8rO07gnG3"
      },
      "outputs": [],
      "source": [
        "my_s = 'abcde'"
      ],
      "id": "M4B8rO07gnG3"
    },
    {
      "cell_type": "code",
      "execution_count": null,
      "metadata": {
        "id": "lufVaWBhgnG3"
      },
      "outputs": [],
      "source": [
        "len(my_s)\n",
        "#> 5"
      ],
      "id": "lufVaWBhgnG3"
    },
    {
      "cell_type": "code",
      "execution_count": null,
      "metadata": {
        "id": "lzLRJKrSgnG3"
      },
      "outputs": [],
      "source": [
        "'This is' ' a' ' pen.'\n",
        "# あるいは\n",
        "'This is ' + 'a' + ' pen.'\n",
        "#> 'This is a pen.'"
      ],
      "id": "lzLRJKrSgnG3"
    },
    {
      "cell_type": "code",
      "execution_count": null,
      "metadata": {
        "id": "4Awzu-vKgnG3"
      },
      "outputs": [],
      "source": [
        "my_s[1:4]\n",
        "#> 'bcd'"
      ],
      "id": "4Awzu-vKgnG3"
    },
    {
      "cell_type": "code",
      "execution_count": null,
      "metadata": {
        "id": "GuqugBEPgnG4"
      },
      "outputs": [],
      "source": [
        "tmp = \"{} is {}.\"\n",
        "tmp.format('This', 'a pen')\n",
        "#> 'This is a pen.'"
      ],
      "id": "GuqugBEPgnG4"
    },
    {
      "cell_type": "code",
      "execution_count": null,
      "metadata": {
        "id": "WYE8wclJgnG4"
      },
      "outputs": [],
      "source": [
        "1 <= 2\n",
        "#> True\n",
        "\n",
        "1 < 0\n",
        "#> False"
      ],
      "id": "WYE8wclJgnG4"
    },
    {
      "cell_type": "code",
      "execution_count": null,
      "metadata": {
        "id": "E9XtOBq0gnG4"
      },
      "outputs": [],
      "source": [
        "0.1 + 0.1 + 0.1 == 0.3\n",
        "#> False\n",
        "\n",
        "import math\n",
        "math.isclose(0.1 + 0.1 + 0.1, 0.3)\n",
        "#> True"
      ],
      "id": "E9XtOBq0gnG4"
    },
    {
      "cell_type": "code",
      "execution_count": null,
      "metadata": {
        "id": "UDP5zLPngnG4"
      },
      "outputs": [],
      "source": [
        "True and False # 論理積（かつ）\n",
        "#> False\n",
        "\n",
        "True or False  # 論理和（または）\n",
        "#> True\n",
        "\n",
        "not True       # 否定（でない）\n",
        "#> False"
      ],
      "id": "UDP5zLPngnG4"
    },
    {
      "cell_type": "code",
      "execution_count": null,
      "metadata": {
        "id": "mSY0eAVVgnG4"
      },
      "outputs": [],
      "source": [
        "0 if 3 < 5 else 10\n",
        "#> 0"
      ],
      "id": "mSY0eAVVgnG4"
    },
    {
      "cell_type": "code",
      "execution_count": null,
      "metadata": {
        "id": "gVEjnpErgnG5"
      },
      "outputs": [],
      "source": [
        "import os\n",
        "os.getcwd()\n",
        "#> '/home/jovyan/work'"
      ],
      "id": "gVEjnpErgnG5"
    },
    {
      "cell_type": "code",
      "execution_count": null,
      "metadata": {
        "id": "lL2EZIRTgnG5"
      },
      "outputs": [],
      "source": [
        "os.chdir('..')\n",
        "os.getcwd()\n",
        "#> '/home/jovyan'"
      ],
      "id": "lL2EZIRTgnG5"
    },
    {
      "cell_type": "markdown",
      "source": [
        "## 3.2 関数"
      ],
      "metadata": {
        "id": "SOGoMdBAgnG5"
      },
      "id": "SOGoMdBAgnG5"
    },
    {
      "cell_type": "code",
      "execution_count": null,
      "metadata": {
        "id": "-7tZeISugnG5"
      },
      "outputs": [],
      "source": [
        "import math\n",
        "math.sqrt(4)\n",
        "#> 2.0"
      ],
      "id": "-7tZeISugnG5"
    },
    {
      "cell_type": "code",
      "execution_count": null,
      "metadata": {
        "id": "M5AjuGUSgnG6"
      },
      "outputs": [],
      "source": [
        "math.log(100, 10)\n",
        "#> 2.0"
      ],
      "id": "M5AjuGUSgnG6"
    },
    {
      "cell_type": "code",
      "execution_count": null,
      "metadata": {
        "id": "RYC9QYsognG6"
      },
      "outputs": [],
      "source": [
        "math.log(100)         # 自然対数\n",
        "# あるいは\n",
        "math.log(100, math.e) # 省略しない場合\n",
        "\n",
        "#> 4.605170185988092"
      ],
      "id": "RYC9QYsognG6"
    },
    {
      "cell_type": "code",
      "execution_count": null,
      "metadata": {
        "id": "2JctoRFagnG6"
      },
      "outputs": [],
      "source": [
        "math.log10(100) # 常用対数\n",
        "#> 2.0\n",
        "\n",
        "math.log2(1024) # 底が2の対数\n",
        "#> 10.0"
      ],
      "id": "2JctoRFagnG6"
    },
    {
      "cell_type": "code",
      "execution_count": null,
      "metadata": {
        "id": "bjdEGg3OgnG_"
      },
      "outputs": [],
      "source": [
        "def f(a, b):\n",
        "    return a - b"
      ],
      "id": "bjdEGg3OgnG_"
    },
    {
      "cell_type": "code",
      "execution_count": null,
      "metadata": {
        "id": "OyklPxUTgnG_"
      },
      "outputs": [],
      "source": [
        "f(3, 5)\n",
        "#> -2"
      ],
      "id": "OyklPxUTgnG_"
    },
    {
      "cell_type": "code",
      "execution_count": null,
      "metadata": {
        "id": "5K2mbYNqgnG_"
      },
      "outputs": [],
      "source": [
        "def f(a, b=5):\n",
        "    return a - b\n",
        "\n",
        "f(3) # f(3, 5)と同じこと\n",
        "#> -2"
      ],
      "id": "5K2mbYNqgnG_"
    },
    {
      "cell_type": "code",
      "execution_count": null,
      "metadata": {
        "id": "kAZwjfuCgnG_"
      },
      "outputs": [],
      "source": [
        "(lambda a, b: a - b)(3, 5)\n",
        "#> -2"
      ],
      "id": "kAZwjfuCgnG_"
    },
    {
      "cell_type": "markdown",
      "source": [
        "## 3.3 コレクション"
      ],
      "metadata": {
        "id": "AUb9KWCvgnG_"
      },
      "id": "AUb9KWCvgnG_"
    },
    {
      "cell_type": "code",
      "execution_count": null,
      "metadata": {
        "id": "C4ZF9KbFgnHA"
      },
      "outputs": [],
      "source": [
        "x = ['foo', 'bar', 'baz']"
      ],
      "id": "C4ZF9KbFgnHA"
    },
    {
      "cell_type": "code",
      "execution_count": null,
      "metadata": {
        "id": "gIwiOeKtgnHA"
      },
      "outputs": [],
      "source": [
        "len(x)\n",
        "#> 3"
      ],
      "id": "gIwiOeKtgnHA"
    },
    {
      "cell_type": "code",
      "execution_count": null,
      "metadata": {
        "id": "MsMbCjAtgnHA"
      },
      "outputs": [],
      "source": [
        "x[1]\n",
        "#> 'bar'"
      ],
      "id": "MsMbCjAtgnHA"
    },
    {
      "cell_type": "code",
      "execution_count": null,
      "metadata": {
        "id": "jLPLPP6ngnHA"
      },
      "outputs": [],
      "source": [
        "x[1] = 'BAR'\n",
        "x # 結果の確認\n",
        "#> ['foo', 'BAR', 'baz']\n",
        "\n",
        "x[1] = 'bar' # 元に戻す．"
      ],
      "id": "jLPLPP6ngnHA"
    },
    {
      "cell_type": "code",
      "execution_count": null,
      "metadata": {
        "id": "kN7-vgDPgnHB"
      },
      "outputs": [],
      "source": [
        "x[-2]\n",
        "#> 'bar'"
      ],
      "id": "kN7-vgDPgnHB"
    },
    {
      "cell_type": "code",
      "execution_count": null,
      "metadata": {
        "id": "hISCsxdLgnHB"
      },
      "outputs": [],
      "source": [
        "x + ['qux']\n",
        "#> ['foo', 'bar', 'baz', 'qux']"
      ],
      "id": "hISCsxdLgnHB"
    },
    {
      "cell_type": "code",
      "execution_count": null,
      "metadata": {
        "id": "MC9VXC4lgnHB"
      },
      "outputs": [],
      "source": [
        "x = x + ['qux']\n",
        "# あるいは\n",
        "#x.append('qux')\n",
        "\n",
        "x # 結果の確認\n",
        "#> ['foo', 'bar', 'baz', 'qux']"
      ],
      "id": "MC9VXC4lgnHB"
    },
    {
      "cell_type": "code",
      "execution_count": null,
      "metadata": {
        "id": "jEvzFCT2gnHB"
      },
      "outputs": [],
      "source": [
        "list(range(5))\n",
        "#> [0, 1, 2, 3, 4]"
      ],
      "id": "jEvzFCT2gnHB"
    },
    {
      "cell_type": "code",
      "execution_count": null,
      "metadata": {
        "id": "MZm-4q4LgnHC"
      },
      "outputs": [],
      "source": [
        "list(range(0, 11, 2))\n",
        "#> [0, 2, 4, 6, 8, 10]"
      ],
      "id": "MZm-4q4LgnHC"
    },
    {
      "cell_type": "code",
      "execution_count": null,
      "metadata": {
        "id": "iH-82mPNgnHC"
      },
      "outputs": [],
      "source": [
        "import numpy as np\n",
        "np.arange(0, 1.1, 0.5)\n",
        "#> array([0. , 0.5, 1. ])"
      ],
      "id": "iH-82mPNgnHC"
    },
    {
      "cell_type": "code",
      "execution_count": null,
      "metadata": {
        "id": "2Gg9Y5DPgnHC"
      },
      "outputs": [],
      "source": [
        "np.linspace(0, 100, 5)\n",
        "#> array([ 0., 25., 50., 75., 100.])"
      ],
      "id": "2Gg9Y5DPgnHC"
    },
    {
      "cell_type": "code",
      "execution_count": null,
      "metadata": {
        "id": "GELT1I_0gnHC"
      },
      "outputs": [],
      "source": [
        "[10] * 5\n",
        "#> [10, 10, 10, 10, 10]"
      ],
      "id": "GELT1I_0gnHC"
    },
    {
      "cell_type": "code",
      "execution_count": null,
      "metadata": {
        "id": "hDBotmxJgnHC"
      },
      "outputs": [],
      "source": [
        "import numpy as np\n",
        "x = np.array([2, 3, 5, 7])\n",
        "\n",
        "x + 10 # 加算\n",
        "#> array([12, 13, 15, 17])\n",
        "\n",
        "x * 10 # 乗算\n",
        "#> array([20, 30, 50, 70])"
      ],
      "id": "hDBotmxJgnHC"
    },
    {
      "cell_type": "code",
      "execution_count": null,
      "metadata": {
        "id": "MwisOLaUgnHD"
      },
      "outputs": [],
      "source": [
        "x = [2, 3]\n",
        "np.sin(x)\n",
        "#> array([0.90929743, 0.14112001])"
      ],
      "id": "MwisOLaUgnHD"
    },
    {
      "cell_type": "code",
      "execution_count": null,
      "metadata": {
        "id": "BMGBM6-XgnHD"
      },
      "outputs": [],
      "source": [
        "x = np.array([2,  3,   5,    7])\n",
        "y = np.array([1, 10, 100, 1000])\n",
        "x + y\n",
        "#> array([   3,   13,  105, 1007])\n",
        "\n",
        "x * y\n",
        "#> array([   2,   30,  500, 7000])"
      ],
      "id": "BMGBM6-XgnHD"
    },
    {
      "cell_type": "code",
      "execution_count": null,
      "metadata": {
        "id": "V0_ZiVIrgnHD"
      },
      "outputs": [],
      "source": [
        "np.dot(x, y)\n",
        "# あるいは\n",
        "x @ y\n",
        "\n",
        "#> 7532"
      ],
      "id": "V0_ZiVIrgnHD"
    },
    {
      "cell_type": "code",
      "execution_count": null,
      "metadata": {
        "id": "sPJaW71DgnHD"
      },
      "outputs": [],
      "source": [
        "x = np.array([True, False])\n",
        "y = np.array([True, True])\n",
        "x & y\n",
        "#> array([ True, False])"
      ],
      "id": "sPJaW71DgnHD"
    },
    {
      "cell_type": "code",
      "execution_count": null,
      "metadata": {
        "id": "nX8xLgdngnHE"
      },
      "outputs": [],
      "source": [
        "u = np.array([1, 2, 3])\n",
        "v = np.array([1, 2, 3])\n",
        "w = np.array([1, 2, 4])\n",
        "\n",
        "all(u == v) # 全体の比較\n",
        "#> True\n",
        "\n",
        "all(u == w) # 全体の比較\n",
        "#> False\n",
        "\n",
        "u == v      # 要素ごとの比較\n",
        "#> array([ True,  True,  True])\n",
        "\n",
        "u == w      # 要素ごとの比較\n",
        "#> array([ True,  True, False])"
      ],
      "id": "nX8xLgdngnHE"
    },
    {
      "cell_type": "code",
      "execution_count": null,
      "metadata": {
        "id": "_LtFI4FYgnHE"
      },
      "outputs": [],
      "source": [
        "(u == w).sum()  # 同じ要素の数\n",
        "#> 2\n",
        "\n",
        "(u == w).mean() # 同じ要素の割合\n",
        "#> [1] 0.6666667"
      ],
      "id": "_LtFI4FYgnHE"
    },
    {
      "cell_type": "code",
      "execution_count": null,
      "metadata": {
        "id": "g69140e-gnHE"
      },
      "outputs": [],
      "source": [
        "x = [1, \"two\"]"
      ],
      "id": "g69140e-gnHE"
    },
    {
      "cell_type": "code",
      "execution_count": null,
      "metadata": {
        "id": "NQwHJPIvgnHE"
      },
      "outputs": [],
      "source": [
        "x[1]\n",
        "#> 'two'"
      ],
      "id": "NQwHJPIvgnHE"
    },
    {
      "cell_type": "code",
      "execution_count": null,
      "metadata": {
        "id": "ZNCKExkCgnHF"
      },
      "outputs": [],
      "source": [
        "x = {'apple' : 'りんご',\n",
        "     'orange': 'みかん'}"
      ],
      "id": "ZNCKExkCgnHF"
    },
    {
      "cell_type": "code",
      "execution_count": null,
      "metadata": {
        "id": "fcb7GWpbgnHF"
      },
      "outputs": [],
      "source": [
        "x['grape'] = 'ぶどう'"
      ],
      "id": "fcb7GWpbgnHF"
    },
    {
      "cell_type": "code",
      "execution_count": null,
      "metadata": {
        "id": "l9qfVWsjgnHF"
      },
      "outputs": [],
      "source": [
        "x['apple']\n",
        "# あるいは\n",
        "tmp = 'apple'\n",
        "x[tmp]\n",
        "\n",
        "#> 'りんご'"
      ],
      "id": "l9qfVWsjgnHF"
    },
    {
      "cell_type": "code",
      "execution_count": null,
      "metadata": {
        "id": "ftsgrSn6gnHF"
      },
      "outputs": [],
      "source": [
        "x = ['foo', 'bar', 'baz']\n",
        "y = x\n",
        "y[1] = 'BAR' # yを更新する．\n",
        "y\n",
        "#> ['foo', 'BAR', 'baz']\n",
        "\n",
        "x            # xも変わる．\n",
        "#> ['foo', 'BAR', 'baz']"
      ],
      "id": "ftsgrSn6gnHF"
    },
    {
      "cell_type": "code",
      "execution_count": null,
      "metadata": {
        "id": "_7lckK7bgnHG"
      },
      "outputs": [],
      "source": [
        "x = ['foo', 'bar', 'baz']\n",
        "y = x.copy()             # 「y = x」とせずに，コピーする．\n",
        "x == y, x is y\n",
        "#> (True, False)         # xとyは，等価（内容は同じ）だが同一ではない．\n",
        "\n",
        "y[1] = 'BAR'             # yを更新しても，\n",
        "x\n",
        "#> ['foo', 'bar', 'baz'] # xは変化しない．"
      ],
      "id": "_7lckK7bgnHG"
    },
    {
      "cell_type": "markdown",
      "source": [
        "## 3.4 データフレーム"
      ],
      "metadata": {
        "id": "V2tTgDHbgnHG"
      },
      "id": "V2tTgDHbgnHG"
    },
    {
      "cell_type": "code",
      "execution_count": null,
      "metadata": {
        "id": "bDPGHr15gnHG"
      },
      "outputs": [],
      "source": [
        "import pandas as pd"
      ],
      "id": "bDPGHr15gnHG"
    },
    {
      "cell_type": "code",
      "execution_count": null,
      "metadata": {
        "id": "ac_M4cp3gnHG"
      },
      "outputs": [],
      "source": [
        "my_df = pd.DataFrame({\n",
        "    'name':    ['A', 'B', 'C', 'D'],\n",
        "    'english': [ 60,  90,  70,  90],\n",
        "    'math':    [ 70,  80,  90, 100],\n",
        "    'gender':  ['f', 'm', 'm', 'f']})"
      ],
      "id": "ac_M4cp3gnHG"
    },
    {
      "cell_type": "code",
      "execution_count": null,
      "metadata": {
        "id": "_2pAjRIAgnHG"
      },
      "outputs": [],
      "source": [
        "my_df = pd.DataFrame([\n",
        "    ['A', 60,  70, 'f'],\n",
        "    ['B', 90,  80, 'm'],\n",
        "    ['C', 70,  90, 'm'],\n",
        "    ['D', 90, 100, 'f']],\n",
        "    columns=['name', 'english',\n",
        "             'math', 'gender'])"
      ],
      "id": "_2pAjRIAgnHG"
    },
    {
      "cell_type": "code",
      "execution_count": null,
      "metadata": {
        "id": "f-bJfWrBgnHH"
      },
      "outputs": [],
      "source": [
        "my_df.head()\n",
        "# 結果は割愛"
      ],
      "id": "f-bJfWrBgnHH"
    },
    {
      "cell_type": "code",
      "execution_count": null,
      "metadata": {
        "id": "FRkohu9IgnHH"
      },
      "outputs": [],
      "source": [
        "r, c = my_df.shape # 行数と列数\n",
        "r, c\n",
        "#> (4, 4)\n",
        "\n",
        "r # 行数（len(my_df)も可）\n",
        "#> 4\n",
        "\n",
        "c # 列数\n",
        "#> 4"
      ],
      "id": "FRkohu9IgnHH"
    },
    {
      "cell_type": "code",
      "execution_count": null,
      "metadata": {
        "id": "Ho7gIUndgnHH"
      },
      "outputs": [],
      "source": [
        "from itertools import product\n",
        "my_df2 = pd.DataFrame(\n",
        "    product([1, 2, 3],\n",
        "            [10, 100]),\n",
        "    columns=['X', 'Y'])\n",
        "my_df2\n",
        "#>    X    Y\n",
        "#> 0  1   10\n",
        "#> 1  1  100\n",
        "#> 2  2   10\n",
        "#> 3  2  100\n",
        "#> 4  3   10\n",
        "#> 5  3  100"
      ],
      "id": "Ho7gIUndgnHH"
    },
    {
      "cell_type": "code",
      "execution_count": null,
      "metadata": {
        "id": "JVQeoEWLgnHJ"
      },
      "outputs": [],
      "source": [
        "my_df2.columns\n",
        "#> Index(['X', 'Y'], dtype='object')"
      ],
      "id": "JVQeoEWLgnHJ"
    },
    {
      "cell_type": "code",
      "execution_count": null,
      "metadata": {
        "id": "lqTCbPFdgnHJ"
      },
      "outputs": [],
      "source": [
        "my_df2.columns = ['P', 'Q']\n",
        "my_df2\n",
        "#>    P    Q\n",
        "#> 0  1   10\n",
        "#> 1  1  100\n",
        "# 以下省略"
      ],
      "id": "lqTCbPFdgnHJ"
    },
    {
      "cell_type": "code",
      "execution_count": null,
      "metadata": {
        "id": "G89Rd2KHgnHJ"
      },
      "outputs": [],
      "source": [
        "list(my_df.index)\n",
        "#> [0, 1, 2, 3]"
      ],
      "id": "G89Rd2KHgnHJ"
    },
    {
      "cell_type": "code",
      "execution_count": null,
      "metadata": {
        "id": "93m1Nr6SgnHJ"
      },
      "outputs": [],
      "source": [
        "my_df2.index = [\n",
        "    'a', 'b', 'c', 'd', 'e', 'f']\n",
        "my_df2\n",
        "#>    P    Q\n",
        "#> a  1   10\n",
        "#> b  1  100\n",
        "#> c  2   10\n",
        "# 以下省略"
      ],
      "id": "93m1Nr6SgnHJ"
    },
    {
      "cell_type": "code",
      "execution_count": null,
      "metadata": {
        "id": "V0G0aDUDgnHJ"
      },
      "outputs": [],
      "source": [
        "my_df3 = pd.DataFrame({\n",
        "    'english': [ 60,  90,  70,  90],\n",
        "    'math':    [ 70,  80,  90, 100],\n",
        "    'gender':  ['f', 'm', 'm', 'f']},\n",
        "    index=     ['A', 'B', 'C', 'D'])\n",
        "my_df3\n",
        "#>    english  math gender\n",
        "#> A       60    70      f\n",
        "#> B       90    80      m\n",
        "#> C       70    90      m\n",
        "#> D       90   100      f"
      ],
      "id": "V0G0aDUDgnHJ"
    },
    {
      "cell_type": "code",
      "execution_count": null,
      "metadata": {
        "id": "ugdajOoCgnHK"
      },
      "outputs": [],
      "source": [
        "tmp = pd.DataFrame({\n",
        "    'name'   : ['E'],\n",
        "    'english': [80],\n",
        "    'math'   : [80],\n",
        "    'gender' : ['m']})\n",
        "my_df2 = my_df.append(tmp)"
      ],
      "id": "ugdajOoCgnHK"
    },
    {
      "cell_type": "code",
      "execution_count": null,
      "metadata": {
        "id": "kx2rYoVwgnHK"
      },
      "outputs": [],
      "source": [
        "my_df2 = my_df.assign(id=[1, 2, 3, 4])"
      ],
      "id": "kx2rYoVwgnHK"
    },
    {
      "cell_type": "code",
      "execution_count": null,
      "metadata": {
        "id": "aJXcibM7gnHK"
      },
      "outputs": [],
      "source": [
        "my_df3 = my_df.copy()       # コピー\n",
        "my_df3['id'] = [1, 2, 3, 4] # 更新\n",
        "my_df3 # 結果の確認（割愛）"
      ],
      "id": "aJXcibM7gnHK"
    },
    {
      "cell_type": "code",
      "execution_count": null,
      "metadata": {
        "id": "a74R9sf4gnHK"
      },
      "outputs": [],
      "source": [
        "my_df.iloc[0, 1]\n",
        "#> 60"
      ],
      "id": "a74R9sf4gnHK"
    },
    {
      "cell_type": "code",
      "execution_count": null,
      "metadata": {
        "id": "fKudjRBpgnHK"
      },
      "outputs": [],
      "source": [
        "x = my_df.iloc[:, 1]\n",
        "# あるいは\n",
        "x = my_df['english']\n",
        "# あるいは\n",
        "x = my_df.english\n",
        "# あるいは\n",
        "tmp = 'english'\n",
        "x = my_df[tmp]\n",
        "\n",
        "x # 結果の確認（割愛）"
      ],
      "id": "fKudjRBpgnHK"
    },
    {
      "cell_type": "code",
      "execution_count": null,
      "metadata": {
        "id": "z9FI3wF1gnHL"
      },
      "outputs": [],
      "source": [
        "x = my_df[['name', 'math']]\n",
        "# あるいは\n",
        "x = my_df.loc[:, ['name', 'math']]"
      ],
      "id": "z9FI3wF1gnHL"
    },
    {
      "cell_type": "code",
      "execution_count": null,
      "metadata": {
        "id": "nUfVGFS-gnHL"
      },
      "outputs": [],
      "source": [
        "x = my_df.take([0, 2], axis=1)\n",
        "# あるいは\n",
        "x = my_df.iloc[:, [0, 2]]"
      ],
      "id": "nUfVGFS-gnHL"
    },
    {
      "cell_type": "code",
      "execution_count": null,
      "metadata": {
        "id": "O7iVwNvvgnHL"
      },
      "outputs": [],
      "source": [
        "x = my_df.drop(\n",
        "    columns=['english', 'gender'])\n",
        "# あるいは\n",
        "x = my_df.drop(\n",
        "    columns=my_df.columns[[1, 3]])"
      ],
      "id": "O7iVwNvvgnHL"
    },
    {
      "cell_type": "code",
      "execution_count": null,
      "metadata": {
        "id": "FsAEntVDgnHL"
      },
      "outputs": [],
      "source": [
        "x = my_df.take([0, 2])\n",
        "# あるいは\n",
        "x = my_df.iloc[[0, 2], :]"
      ],
      "id": "FsAEntVDgnHL"
    },
    {
      "cell_type": "code",
      "execution_count": null,
      "metadata": {
        "id": "cggyD6kwgnHL"
      },
      "outputs": [],
      "source": [
        "x = my_df.drop([1, 3])"
      ],
      "id": "cggyD6kwgnHL"
    },
    {
      "cell_type": "code",
      "execution_count": null,
      "metadata": {
        "id": "BICas6A2gnHL"
      },
      "outputs": [],
      "source": [
        "x = my_df[my_df['gender'] == 'm']\n",
        "# あるいは\n",
        "x = my_df.query('gender == \"m\"')"
      ],
      "id": "BICas6A2gnHL"
    },
    {
      "cell_type": "code",
      "execution_count": null,
      "metadata": {
        "id": "K7PjYS4UgnHM"
      },
      "outputs": [],
      "source": [
        "x = my_df[(my_df['english'] > 80) & (my_df['gender'] == \"m\")]\n",
        "# あるいは\n",
        "x = my_df.query('english > 80 and gender == \"m\"')"
      ],
      "id": "K7PjYS4UgnHM"
    },
    {
      "cell_type": "code",
      "execution_count": null,
      "metadata": {
        "id": "P0KEYcM0gnHM"
      },
      "outputs": [],
      "source": [
        "x = my_df[my_df['english'] == my_df['english'].max()]\n",
        "# あるいは\n",
        "tmp = my_df['english'].max()\n",
        "x = my_df.query('english == @tmp')"
      ],
      "id": "P0KEYcM0gnHM"
    },
    {
      "cell_type": "code",
      "execution_count": null,
      "metadata": {
        "id": "a-w4BodngnHM"
      },
      "outputs": [],
      "source": [
        "my_df2 = my_df.copy() # コピー\n",
        "my_df2.loc[my_df['gender'] == 'm', 'gender'] = 'M'"
      ],
      "id": "a-w4BodngnHM"
    },
    {
      "cell_type": "code",
      "execution_count": null,
      "metadata": {
        "id": "ij0rVYMUgnHM"
      },
      "outputs": [],
      "source": [
        "my_df2\n",
        "#>   name  english  math gender\n",
        "#> 0    A       60    70      f\n",
        "#> 1    B       90    80      M\n",
        "#> 2    C       70    90      M\n",
        "#> 3    D       90   100      f"
      ],
      "id": "ij0rVYMUgnHM"
    },
    {
      "cell_type": "code",
      "execution_count": null,
      "metadata": {
        "id": "XWQQF_x1gnHM"
      },
      "outputs": [],
      "source": [
        "x = my_df.sort_values('english')"
      ],
      "id": "XWQQF_x1gnHM"
    },
    {
      "cell_type": "code",
      "execution_count": null,
      "metadata": {
        "id": "RLw6bW7-gnHN"
      },
      "outputs": [],
      "source": [
        "x = my_df.sort_values('english',\n",
        "    ascending=False)"
      ],
      "id": "RLw6bW7-gnHN"
    },
    {
      "cell_type": "code",
      "execution_count": null,
      "metadata": {
        "id": "VzGOkaKugnHN"
      },
      "outputs": [],
      "source": [
        "import numpy as np\n",
        "x = [2, 3, 5, 7, 11, 13, 17, 19, 23,\n",
        "     29, 31, 37]\n",
        "A = np.array(x).reshape(3, 4)\n",
        "A\n",
        "#> array([[ 2,  3,  5,  7],\n",
        "#>        [11, 13, 17, 19],\n",
        "#>        [23, 29, 31, 37]])"
      ],
      "id": "VzGOkaKugnHN"
    },
    {
      "cell_type": "code",
      "execution_count": null,
      "metadata": {
        "id": "N2-6PDv1gnHN"
      },
      "outputs": [],
      "source": [
        "A = my_df.iloc[:, [1, 2]].values\n",
        "A\n",
        "#> array([[ 60,  70],\n",
        "#>        [ 90,  80],\n",
        "#>        [ 70,  90],\n",
        "#>        [ 90, 100]])"
      ],
      "id": "N2-6PDv1gnHN"
    },
    {
      "cell_type": "code",
      "execution_count": null,
      "metadata": {
        "id": "MoFl2HssgnHN"
      },
      "outputs": [],
      "source": [
        "pd.DataFrame(A)\n",
        "#>     0    1\n",
        "#> 0  60   70\n",
        "#> 1  90   80\n",
        "#> 2  70   90\n",
        "#> 3  90  100"
      ],
      "id": "MoFl2HssgnHN"
    },
    {
      "cell_type": "code",
      "execution_count": null,
      "metadata": {
        "id": "x-cV8DUpgnHN"
      },
      "outputs": [],
      "source": [
        "A.T\n",
        "#> array([[ 60,  90,  70,  90],\n",
        "#>        [ 70,  80,  90, 100]])"
      ],
      "id": "x-cV8DUpgnHN"
    },
    {
      "cell_type": "code",
      "execution_count": null,
      "metadata": {
        "id": "BVi6JniEgnHN"
      },
      "outputs": [],
      "source": [
        "A.T @ A\n",
        "#> array([[24700, 26700],\n",
        "#>        [26700, 29400]])"
      ],
      "id": "BVi6JniEgnHN"
    },
    {
      "cell_type": "code",
      "execution_count": null,
      "metadata": {
        "id": "qTz3pkfygnHO"
      },
      "outputs": [],
      "source": [
        "my_df = pd.DataFrame({\n",
        "    'day': [25, 26, 27],\n",
        "    'min': [20, 21, 15],\n",
        "    'max': [24, 27, 21]})"
      ],
      "id": "qTz3pkfygnHO"
    },
    {
      "cell_type": "code",
      "execution_count": null,
      "metadata": {
        "id": "FOH-E22qgnHO"
      },
      "outputs": [],
      "source": [
        "my_longer = my_df.melt(id_vars='day')\n",
        "my_longer\n",
        "#>    day variable  value\n",
        "#> 0   25      min     20\n",
        "#> 1   26      min     21\n",
        "#> 2   27      min     15\n",
        "#> 3   25      max     24\n",
        "#> 4   26      max     27\n",
        "#> 5   27      max     21"
      ],
      "id": "FOH-E22qgnHO"
    },
    {
      "cell_type": "code",
      "execution_count": null,
      "metadata": {
        "id": "61xGg3r4gnHO"
      },
      "outputs": [],
      "source": [
        "my_wider = my_longer.pivot(\n",
        "    index='day',\n",
        "    columns='variable',\n",
        "    values='value')\n",
        "my_wider\n",
        "#> variable  max  min\n",
        "#> day\n",
        "#> 25         24   20\n",
        "#> 26         27   21\n",
        "#> 27         21   15"
      ],
      "id": "61xGg3r4gnHO"
    },
    {
      "cell_type": "code",
      "execution_count": null,
      "metadata": {
        "id": "uZCIlwe6gnHO"
      },
      "outputs": [],
      "source": [
        "my_wider.plot(\n",
        "    style='o-',\n",
        "    xticks=my_wider.index, # x軸目盛り\n",
        "    ylabel='temperature')  # y軸ラベル"
      ],
      "id": "uZCIlwe6gnHO"
    },
    {
      "cell_type": "markdown",
      "source": [
        "## 3.5 1次元データの（非）類似度"
      ],
      "metadata": {
        "id": "Nhnu-0mtgnHO"
      },
      "id": "Nhnu-0mtgnHO"
    },
    {
      "cell_type": "code",
      "execution_count": null,
      "metadata": {
        "id": "nIdveJ7rgnHP"
      },
      "outputs": [],
      "source": [
        "import numpy as np\n",
        "from scipy.spatial import distance\n",
        "from scipy.stats import pearsonr\n",
        "\n",
        "A = np.array([3,   4,  5])\n",
        "B = np.array([3,   4, 29])\n",
        "C = np.array([9, -18,  8])\n",
        "\n",
        "distance.euclidean(A, B)\n",
        "#> 24.0\n",
        "\n",
        "distance.euclidean(A, C)\n",
        "#> 23.0"
      ],
      "id": "nIdveJ7rgnHP"
    },
    {
      "cell_type": "code",
      "execution_count": null,
      "metadata": {
        "id": "BE6eSp9YgnHP"
      },
      "outputs": [],
      "source": [
        "distance.cityblock(A, B)\n",
        "#> 24\n",
        "\n",
        "distance.cityblock(A, C)\n",
        "#> 31"
      ],
      "id": "BE6eSp9YgnHP"
    },
    {
      "cell_type": "code",
      "execution_count": null,
      "metadata": {
        "id": "crlbhlgygnHP"
      },
      "outputs": [],
      "source": [
        "1 - distance.cosine(A, B)\n",
        "#> 0.8169678632647616\n",
        "\n",
        "1 - distance.cosine(A, C)\n",
        "#> -0.032651157422416865"
      ],
      "id": "crlbhlgygnHP"
    },
    {
      "cell_type": "code",
      "execution_count": null,
      "metadata": {
        "id": "T_gS9TypgnHP"
      },
      "outputs": [],
      "source": [
        "1 - distance.correlation(A, B)\n",
        "# あるいは\n",
        "pearsonr(A, B)[0]\n",
        "#> 0.8824975032927698\n",
        "\n",
        "1 - distance.correlation(A, C)\n",
        "# あるいは\n",
        "pearsonr(A, C)[0]\n",
        "#> -0.032662766723200676"
      ],
      "id": "T_gS9TypgnHP"
    },
    {
      "cell_type": "code",
      "execution_count": null,
      "metadata": {
        "id": "wZYlcW1kgnHP"
      },
      "outputs": [],
      "source": [
        "# 小数点以下は3桁表示\n",
        "np.set_printoptions(precision=3)\n",
        "import pandas as pd\n",
        "\n",
        "my_df = pd.DataFrame({\n",
        "    'x': [3,  3,   9],\n",
        "    'y': [4,  4, -18],\n",
        "    'z': [5, 29,   8]},\n",
        "    index=['A', 'B', 'C'])\n",
        "\n",
        "# ユークリッド距離\n",
        "distance.cdist(my_df, my_df,\n",
        "               metric='euclidean')\n",
        "#> array([[ 0., 24., 23.],\n",
        "#>        [24.,  0., 31.],\n",
        "#>        [23., 31.,  0.]])\n",
        "\n",
        "# マンハッタン距離\n",
        "distance.cdist(my_df, my_df,\n",
        "               metric='cityblock')\n",
        "#> array([[ 0., 24., 31.],\n",
        "#>        [24.,  0., 49.],\n",
        "#>        [31., 49.,  0.]])\n",
        "\n",
        "# コサイン類似度\n",
        "1 - distance.cdist(my_df, my_df,\n",
        "    metric='cosine')\n",
        "#> array([[ 1.   ,  0.817, -0.033],\n",
        "#>        [ 0.817,  1.   ,  0.293],\n",
        "#>        [-0.033,  0.293,  1.   ]])\n",
        "\n",
        "# 相関係数\n",
        "1 - distance.cdist(my_df, my_df,\n",
        "    metric='correlation')\n",
        "#> array([[ 1.   ,  0.882, -0.033],\n",
        "#>        [ 0.882,  1.   ,  0.441],\n",
        "#>        [-0.033,  0.441,  1.   ]])"
      ],
      "id": "wZYlcW1kgnHP"
    },
    {
      "cell_type": "markdown",
      "source": [
        "## 3.6 Rのパッケージ，Pythonのモジュール"
      ],
      "metadata": {
        "id": "Squvuiz4gnHQ"
      },
      "id": "Squvuiz4gnHQ"
    },
    {
      "cell_type": "code",
      "execution_count": null,
      "metadata": {
        "id": "yoabesezgnHQ"
      },
      "outputs": [],
      "source": [
        "import math\n",
        "import numpy as np\n",
        "import pandas as pd"
      ],
      "id": "yoabesezgnHQ"
    },
    {
      "cell_type": "code",
      "execution_count": null,
      "metadata": {
        "id": "4uayX-U_gnHQ"
      },
      "outputs": [],
      "source": [
        "import numpy\n",
        "numpy.array([1, 2, 3, 4])"
      ],
      "id": "4uayX-U_gnHQ"
    },
    {
      "cell_type": "code",
      "execution_count": null,
      "metadata": {
        "id": "sX_9LAL4gnHQ"
      },
      "outputs": [],
      "source": [
        "import numpy as np\n",
        "np.array([1, 2, 3, 4])"
      ],
      "id": "sX_9LAL4gnHQ"
    },
    {
      "cell_type": "code",
      "execution_count": null,
      "metadata": {
        "id": "HnnUNGU3gnHQ"
      },
      "outputs": [],
      "source": [
        "from numpy import array\n",
        "array([1, 2, 3, 4])"
      ],
      "id": "HnnUNGU3gnHQ"
    },
    {
      "cell_type": "code",
      "execution_count": null,
      "metadata": {
        "id": "KpcvK69QgnHR"
      },
      "outputs": [],
      "source": [
        "from numpy import *\n",
        "array([1, 2, 3, 4])"
      ],
      "id": "KpcvK69QgnHR"
    },
    {
      "cell_type": "markdown",
      "source": [
        "## 3.7 反復処理"
      ],
      "metadata": {
        "id": "_GZtalpNgnHR"
      },
      "id": "_GZtalpNgnHR"
    },
    {
      "cell_type": "code",
      "execution_count": null,
      "metadata": {
        "id": "wFI4nxbUgnHR"
      },
      "outputs": [],
      "source": [
        "import numpy as np\n",
        "import pandas as pd"
      ],
      "id": "wFI4nxbUgnHR"
    },
    {
      "cell_type": "code",
      "execution_count": null,
      "metadata": {
        "id": "pimsIbZ5gnHR"
      },
      "outputs": [],
      "source": [
        "def f1(x):\n",
        "    tmp = np.random.random(x)\n",
        "    return np.mean(tmp)\n",
        "\n",
        "f1(10)                # 動作確認\n",
        "#> 0.5427033207230424 # 結果の例"
      ],
      "id": "pimsIbZ5gnHR"
    },
    {
      "cell_type": "code",
      "execution_count": null,
      "metadata": {
        "id": "cx53AwXZgnHR"
      },
      "outputs": [],
      "source": [
        "[f1(10) for i in range(3)]\n",
        "#> [0.4864425069985622,\n",
        "#>  0.4290935578857099,\n",
        "#>  0.535206509631883]"
      ],
      "id": "cx53AwXZgnHR"
    },
    {
      "cell_type": "code",
      "execution_count": null,
      "metadata": {
        "id": "xXraCPkXgnHR"
      },
      "outputs": [],
      "source": [
        "[f1(10)] * 3\n",
        "#> [0.43725641184595576,\n",
        "#>  0.43725641184595576,\n",
        "#>  0.43725641184595576]"
      ],
      "id": "xXraCPkXgnHR"
    },
    {
      "cell_type": "code",
      "execution_count": null,
      "metadata": {
        "id": "vsh9qANignHS"
      },
      "outputs": [],
      "source": [
        "v = [5, 10, 100]\n",
        "[f1(x) for x in v] # 方法1\n",
        "#> [0.454, 0.419, 0.552]\n",
        "\n",
        "# あるいは\n",
        "\n",
        "v = pd.Series([5, 10, 100])\n",
        "v.apply(f1)        # 方法2\n",
        "#> 0    0.394206\n",
        "#> 1    0.503949\n",
        "#> 2    0.532698\n",
        "#> dtype: float64"
      ],
      "id": "vsh9qANignHS"
    },
    {
      "cell_type": "code",
      "execution_count": null,
      "metadata": {
        "id": "JuN4b0gzgnHS"
      },
      "outputs": [],
      "source": [
        "pd.Series([10] * 3).apply(f1)\n",
        "# 結果は割愛"
      ],
      "id": "JuN4b0gzgnHS"
    },
    {
      "cell_type": "code",
      "execution_count": null,
      "metadata": {
        "id": "Lzg79fA6gnHS"
      },
      "outputs": [],
      "source": [
        "def f2(n):\n",
        "    tmp = np.random.random(n)\n",
        "    return pd.Series([\n",
        "        n,\n",
        "        tmp.mean(),\n",
        "        tmp.std(ddof=1)],\n",
        "        index=['x', 'p', 'q'])\n",
        "\n",
        "f2(10) # 動作確認\n",
        "#> x    10.000000\n",
        "#> p     0.405898 （平均の例）\n",
        "#> q     0.317374 （標準偏差の例）\n",
        "#> dtype: float64"
      ],
      "id": "Lzg79fA6gnHS"
    },
    {
      "cell_type": "code",
      "execution_count": null,
      "metadata": {
        "id": "d3ssCT3XgnHS"
      },
      "outputs": [],
      "source": [
        "v = pd.Series([5, 10, 100])\n",
        "v.apply(f2)\n",
        "#>        x         p         q\n",
        "#> 0    5.0  0.507798  0.207970\n",
        "#> 1   10.0  0.687198  0.264427\n",
        "#> 2  100.0  0.487872  0.280743"
      ],
      "id": "d3ssCT3XgnHS"
    },
    {
      "cell_type": "code",
      "execution_count": null,
      "metadata": {
        "id": "ecmqJh33gnHS"
      },
      "outputs": [],
      "source": [
        "def f3(x, y):\n",
        "    tmp = np.random.random(x) * y\n",
        "    return pd.Series([\n",
        "        x,\n",
        "        y,\n",
        "        tmp.mean(),\n",
        "        tmp.std(ddof=1)],\n",
        "        index=['x', 'y', 'p', 'q'])\n",
        "\n",
        "f3(10, 6) # 動作確認\n",
        "#> x    10.000000\n",
        "#> y     6.000000\n",
        "#> p     2.136413 （平均の例）\n",
        "#> q     1.798755 （標準偏差の例）\n",
        "#> dtype: float64"
      ],
      "id": "ecmqJh33gnHS"
    },
    {
      "cell_type": "code",
      "execution_count": null,
      "metadata": {
        "id": "6u61wY2xgnHT"
      },
      "outputs": [],
      "source": [
        "my_df = pd.DataFrame({\n",
        "    'x': [5, 10, 100,  5, 10, 100],\n",
        "    'y': [6,  6,   6, 12, 12,  12]})\n",
        "\n",
        "my_df.apply(\n",
        "  lambda row: f3(row['x'], row['y']),\n",
        "  axis=1)\n",
        "# あるいは\n",
        "my_df.apply(lambda row:\n",
        "            f3(*row), axis=1)\n",
        "\n",
        "#>        x     y    p    q\n",
        "#> 0   5.00  6.00 3.37 1.96\n",
        "#> 1  10.00  6.00 1.92 0.95\n",
        "#> 2 100.00  6.00 2.90 1.73\n",
        "#> 3   5.00 12.00 6.82 3.00\n",
        "#> 4  10.00 12.00 7.05 2.42\n",
        "#> 5 100.00 12.00 5.90 3.54"
      ],
      "id": "6u61wY2xgnHT"
    },
    {
      "cell_type": "code",
      "execution_count": null,
      "metadata": {
        "id": "l-Sq5QvdgnHT"
      },
      "outputs": [],
      "source": [
        "from pandarallel import pandarallel\n",
        "pandarallel.initialize() # 準備\n",
        "\n",
        "v = pd.Series([5, 10, 100])\n",
        "v.parallel_apply(f1)\n",
        "# 結果は割愛"
      ],
      "id": "l-Sq5QvdgnHT"
    },
    {
      "cell_type": "markdown",
      "source": [
        "## 3.8 その他"
      ],
      "metadata": {
        "id": "6F1uvLZjgnHV"
      },
      "id": "6F1uvLZjgnHV"
    },
    {
      "cell_type": "code",
      "execution_count": null,
      "metadata": {
        "id": "mRzkXsgRgnHV"
      },
      "outputs": [],
      "source": [
        "x = 123\n",
        "type(x)\n",
        "#> int"
      ],
      "id": "mRzkXsgRgnHV"
    },
    {
      "cell_type": "code",
      "execution_count": null,
      "metadata": {
        "id": "tbFfN7obgnHV"
      },
      "outputs": [],
      "source": [
        "%whos\n",
        "#> Variable   Type      Data/Info\n",
        "#> ------------------------------\n",
        "#> x          int       123"
      ],
      "id": "tbFfN7obgnHV"
    },
    {
      "cell_type": "code",
      "execution_count": null,
      "metadata": {
        "id": "bjJH4jPEgnHV"
      },
      "outputs": [],
      "source": [
        "import math\n",
        "?math.log\n",
        "# あるいは\n",
        "help(math.log)"
      ],
      "id": "bjJH4jPEgnHV"
    },
    {
      "cell_type": "code",
      "execution_count": null,
      "metadata": {
        "id": "zEyOljbbgnHW"
      },
      "outputs": [],
      "source": [
        "import numpy as np\n",
        "v = [1, np.nan, 3]\n",
        "v\n",
        "#> [1, nan, 3]"
      ],
      "id": "zEyOljbbgnHW"
    },
    {
      "cell_type": "code",
      "execution_count": null,
      "metadata": {
        "id": "6_Up-ifognHW"
      },
      "outputs": [],
      "source": [
        "np.isnan(v[1])\n",
        "#> True\n",
        "\n",
        "v[1] == np.nan # 誤り\n",
        "#> False"
      ],
      "id": "6_Up-ifognHW"
    },
    {
      "cell_type": "markdown",
      "source": [
        "# 4 統計入門\n",
        "\n",
        "\n"
      ],
      "metadata": {
        "id": "TsBVzRfzgnHW"
      },
      "id": "TsBVzRfzgnHW"
    },
    {
      "cell_type": "markdown",
      "source": [
        "## 4.1 記述統計"
      ],
      "metadata": {
        "id": "TUKGqG2sgnHX"
      },
      "id": "TUKGqG2sgnHX"
    },
    {
      "cell_type": "code",
      "execution_count": null,
      "metadata": {
        "id": "_u6AfDHLgnHX"
      },
      "outputs": [],
      "source": [
        "import numpy as np\n",
        "import pandas as pd\n",
        "\n",
        "x = [165, 170, 175, 180, 185]\n",
        "np.mean(x) # リストの場合\n",
        "#> 175.0\n",
        "\n",
        "x = np.array( # アレイ\n",
        "    [165, 170, 175, 180, 185])\n",
        "x.mean() # np.mean(x)も可\n",
        "#> 175.0\n",
        "\n",
        "x = pd.Series( # シリーズ\n",
        "    [165, 170, 175, 180, 185])\n",
        "x.mean() # np.mean(x)も可\n",
        "#> 175.0"
      ],
      "id": "_u6AfDHLgnHX"
    },
    {
      "cell_type": "code",
      "execution_count": null,
      "metadata": {
        "id": "mO2GSUyUgnHX"
      },
      "outputs": [],
      "source": [
        "n = len(x) # サンプルサイズ\n",
        "sum(x) / n\n",
        "#> 175.0"
      ],
      "id": "mO2GSUyUgnHX"
    },
    {
      "cell_type": "code",
      "execution_count": null,
      "metadata": {
        "id": "vSpe-vINgnHX"
      },
      "outputs": [],
      "source": [
        "y = [173, 174, 175, 176, 177]\n",
        "np.mean(y)\n",
        "#> 175.0"
      ],
      "id": "vSpe-vINgnHX"
    },
    {
      "cell_type": "code",
      "execution_count": null,
      "metadata": {
        "id": "c98b7cAKgnHY"
      },
      "outputs": [],
      "source": [
        "np.var(x, ddof=1) # xの分散\n",
        "#> 62.5\n",
        "\n",
        "np.var(y, ddof=1) # yの分散\n",
        "#> 2.5"
      ],
      "id": "c98b7cAKgnHY"
    },
    {
      "cell_type": "code",
      "execution_count": null,
      "metadata": {
        "id": "H1BuhFPZgnHY"
      },
      "outputs": [],
      "source": [
        "sum((x - np.mean(x))**2) / (n - 1)\n",
        "#> 62.5"
      ],
      "id": "H1BuhFPZgnHY"
    },
    {
      "cell_type": "code",
      "execution_count": null,
      "metadata": {
        "id": "DPg5XZoXgnHY"
      },
      "outputs": [],
      "source": [
        "np.std(x, ddof=1) # xの標準偏差\n",
        "#> 7.905694150420948\n",
        "\n",
        "np.std(y, ddof=1) # yの標準偏差\n",
        "#> 1.5811388300841898"
      ],
      "id": "DPg5XZoXgnHY"
    },
    {
      "cell_type": "code",
      "execution_count": null,
      "metadata": {
        "id": "gISq2rUsgnHY"
      },
      "outputs": [],
      "source": [
        "np.var(x, ddof=1)**0.5 # xの標準偏差\n",
        "#> 7.905694150420948"
      ],
      "id": "gISq2rUsgnHY"
    },
    {
      "cell_type": "code",
      "execution_count": null,
      "metadata": {
        "id": "yYmJ0r6ygnHY"
      },
      "outputs": [],
      "source": [
        "s = pd.Series(x)\n",
        "s.describe()\n",
        "#> count      5.000000 （データ数）\n",
        "#> mean     175.000000 （平均）\n",
        "#> std        7.905694 （標準偏差）\n",
        "#> min      165.000000 （最小値）\n",
        "#> 25%      170.000000 （第1四分位数）\n",
        "#> 50%      175.000000 （中央値）\n",
        "#> 75%      180.000000 （第3四分位数）\n",
        "#> max      185.000000 （最大値）\n",
        "#> dtype: float64"
      ],
      "id": "yYmJ0r6ygnHY"
    },
    {
      "cell_type": "code",
      "execution_count": null,
      "metadata": {
        "id": "YyQbTHNQgnHZ"
      },
      "outputs": [],
      "source": [
        "# s.describe()で計算済み"
      ],
      "id": "YyQbTHNQgnHZ"
    },
    {
      "cell_type": "code",
      "execution_count": null,
      "metadata": {
        "id": "CVziHXSegnHZ"
      },
      "outputs": [],
      "source": [
        "x = [165, 170, 175, 180, 185]\n",
        "\n",
        "np.var(x, ddof=1) # 不偏分散\n",
        "#> 62.5\n",
        "\n",
        "np.var(x, ddof=0) # 標本分散\n",
        "#> 50.0"
      ],
      "id": "CVziHXSegnHZ"
    },
    {
      "cell_type": "code",
      "execution_count": null,
      "metadata": {
        "id": "eohTbfwqgnHZ"
      },
      "outputs": [],
      "source": [
        "np.std(x, ddof=1) # √不偏分散\n",
        "#> 7.905694150420949\n",
        "\n",
        "np.std(x, ddof=0) # √標本分散\n",
        "#> 7.0710678118654755"
      ],
      "id": "eohTbfwqgnHZ"
    },
    {
      "cell_type": "code",
      "execution_count": null,
      "metadata": {
        "id": "R83yTaS-gnHZ"
      },
      "outputs": [],
      "source": [
        "np.std(x, ddof=1) / len(x)**0.5\n",
        "#> 3.5355339059327373"
      ],
      "id": "R83yTaS-gnHZ"
    },
    {
      "cell_type": "code",
      "execution_count": null,
      "metadata": {
        "id": "A3lW9TRpgnHa"
      },
      "outputs": [],
      "source": [
        "import numpy as np\n",
        "import pandas as pd\n",
        "\n",
        "my_df = pd.DataFrame({\n",
        "    'name':    ['A', 'B', 'C', 'D'],\n",
        "    'english': [ 60,  90,  70,  90],\n",
        "    'math':    [ 70,  80,  90, 100],\n",
        "    'gender':  ['f', 'm', 'm', 'f']})"
      ],
      "id": "A3lW9TRpgnHa"
    },
    {
      "cell_type": "code",
      "execution_count": null,
      "metadata": {
        "id": "reUEx4B0gnHa"
      },
      "outputs": [],
      "source": [
        "my_df['english'].var(ddof=1)\n",
        "# あるいは\n",
        "np.var(my_df['english'], ddof=1)\n",
        "\n",
        "#> 225.0"
      ],
      "id": "reUEx4B0gnHa"
    },
    {
      "cell_type": "code",
      "execution_count": null,
      "metadata": {
        "id": "0TzIEbsdgnHa"
      },
      "outputs": [],
      "source": [
        "my_df.var()\n",
        "# あるいは\n",
        "my_df.apply('var')\n",
        "# あるいは\n",
        "my_df.iloc[:, [1, 2]].apply(\n",
        "    lambda x: np.var(x, ddof=1))\n",
        "\n",
        "#> english    225.000000\n",
        "#> math       166.666667\n",
        "#> dtype: float64"
      ],
      "id": "0TzIEbsdgnHa"
    },
    {
      "cell_type": "code",
      "execution_count": null,
      "metadata": {
        "id": "KN7wQ0KFgnHa"
      },
      "outputs": [],
      "source": [
        "my_df.describe()\n",
        "#>        english        math\n",
        "#> count      4.0    4.000000\n",
        "#> mean      77.5   85.000000\n",
        "#> std       15.0   12.909944\n",
        "#> min       60.0   70.000000\n",
        "#> 25%       67.5   77.500000\n",
        "#> 50%       80.0   85.000000\n",
        "#> 75%       90.0   92.500000\n",
        "#> max       90.0  100.000000"
      ],
      "id": "KN7wQ0KFgnHa"
    },
    {
      "cell_type": "code",
      "execution_count": null,
      "metadata": {
        "id": "tvUrQSXsgnHb"
      },
      "outputs": [],
      "source": [
        "from collections import Counter\n",
        "Counter(my_df.gender)\n",
        "#> Counter({'f': 2, 'm': 2})\n",
        "\n",
        "# あるいは\n",
        "\n",
        "my_df.groupby('gender').apply(len)\n",
        "#> gender\n",
        "#> f    2\n",
        "#> m    2\n",
        "#> dtype: int64"
      ],
      "id": "tvUrQSXsgnHb"
    },
    {
      "cell_type": "code",
      "execution_count": null,
      "metadata": {
        "id": "IIN_NB8sgnHb"
      },
      "outputs": [],
      "source": [
        "my_df2 = my_df.assign(\n",
        "    excel=my_df.math >= 80)\n",
        "pd.crosstab(my_df2.gender,\n",
        "            my_df2.excel)\n",
        "#> excel   False  True\n",
        "#> gender\n",
        "#> f           1      1\n",
        "#> m           0      2"
      ],
      "id": "IIN_NB8sgnHb"
    },
    {
      "cell_type": "code",
      "execution_count": null,
      "metadata": {
        "id": "OfKaLujvgnHb"
      },
      "outputs": [],
      "source": [
        "my_df.groupby('gender').mean()\n",
        "# あるいは\n",
        "my_df.groupby('gender').agg('mean')\n",
        "# あるいは\n",
        "my_df.groupby('gender').agg(np.mean)\n",
        "\n",
        "#>         english  math\n",
        "#> gender\n",
        "#> f          75.0  85.0\n",
        "#> m          80.0  85.0"
      ],
      "id": "OfKaLujvgnHb"
    },
    {
      "cell_type": "markdown",
      "source": [
        "## 4.2 データの可視化"
      ],
      "metadata": {
        "id": "RHAWo2TTgnHb"
      },
      "id": "RHAWo2TTgnHb"
    },
    {
      "cell_type": "code",
      "execution_count": null,
      "metadata": {
        "id": "MrfWNeOognHb"
      },
      "outputs": [],
      "source": [
        "import numpy as np\n",
        "import pandas as pd\n",
        "import statsmodels.api as sm\n",
        "iris = sm.datasets.get_rdataset('iris', 'datasets').data\n",
        "iris.head()\n",
        "#>    Sepal.Length  Sepal.Width  Petal.Length  Petal.Width Species\n",
        "#> 0           5.1          3.5           1.4          0.2  setosa\n",
        "#> 1           4.9          3.0           1.4          0.2  setosa\n",
        "#> 2           4.7          3.2           1.3          0.2  setosa\n",
        "#> 3           4.6          3.1           1.5          0.2  setosa\n",
        "#> 4           5.0          3.6           1.4          0.2  setosa"
      ],
      "id": "MrfWNeOognHb"
    },
    {
      "cell_type": "code",
      "execution_count": null,
      "metadata": {
        "id": "khXUqx82gnHc"
      },
      "outputs": [],
      "source": [
        "iris.hist('Sepal.Length')"
      ],
      "id": "khXUqx82gnHc"
    },
    {
      "cell_type": "code",
      "execution_count": null,
      "metadata": {
        "id": "pEf2WOU4gnHc"
      },
      "outputs": [],
      "source": [
        "my_df = pd.DataFrame(\n",
        "    {'x': [10, 20, 30]})\n",
        "my_df.hist('x', bins=2) # 階級数は2"
      ],
      "id": "pEf2WOU4gnHc"
    },
    {
      "cell_type": "code",
      "execution_count": null,
      "metadata": {
        "id": "XZBCVtZngnHc"
      },
      "outputs": [],
      "source": [
        "x = iris['Sepal.Length']\n",
        "tmp = np.linspace(min(x), max(x), 10)\n",
        "iris.hist('Sepal.Length',\n",
        "          bins=tmp.round(2))"
      ],
      "id": "XZBCVtZngnHc"
    },
    {
      "cell_type": "code",
      "execution_count": null,
      "metadata": {
        "id": "yGfgRaqJgnHc"
      },
      "outputs": [],
      "source": [
        "iris.plot('Sepal.Length',\n",
        "          'Sepal.Width',\n",
        "          kind='scatter')"
      ],
      "id": "yGfgRaqJgnHc"
    },
    {
      "cell_type": "code",
      "execution_count": null,
      "metadata": {
        "id": "0tYCapX9gnHd"
      },
      "outputs": [],
      "source": [
        "iris.boxplot()"
      ],
      "id": "0tYCapX9gnHd"
    },
    {
      "cell_type": "code",
      "execution_count": null,
      "metadata": {
        "id": "Pa7WRbOqgnHd"
      },
      "outputs": [],
      "source": [
        "pd.options.display.float_format = (\n",
        "    '{:.2f}'.format)\n",
        "my_df = (iris.describe().transpose()\n",
        "    [['mean', 'std']])\n",
        "my_df['se'] = (my_df['std'] /\n",
        "               len(iris)**0.5)\n",
        "my_df\n",
        "#>               mean  std   se\n",
        "#> Sepal.Length  5.84 0.83 0.07\n",
        "#> Sepal.Width   3.06 0.44 0.04\n",
        "#> Petal.Length  3.76 1.77 0.14\n",
        "#> Petal.Width   1.20 0.76 0.06"
      ],
      "id": "Pa7WRbOqgnHd"
    },
    {
      "cell_type": "code",
      "execution_count": null,
      "metadata": {
        "id": "79k1wT5RgnHd"
      },
      "outputs": [],
      "source": [
        "my_df.plot(y='mean', kind='bar', yerr='se', capsize=10)"
      ],
      "id": "79k1wT5RgnHd"
    },
    {
      "cell_type": "code",
      "execution_count": null,
      "metadata": {
        "id": "AMLe8PRMgnHd"
      },
      "outputs": [],
      "source": [
        "my_group = iris.groupby('Species')                    # 品種ごとに，\n",
        "my_df = my_group.agg('mean')                          # 各変数の，平均と\n",
        "my_se = my_group.agg(lambda x: x.std() / len(x)**0.5) # 標準誤差を求める．\n",
        "my_se\n",
        "#>             Sepal.Length  Sepal.Width  Petal.Length  Petal.Width\n",
        "#> Species\n",
        "#> setosa              0.05         0.05          0.02         0.01\n",
        "#> versicolor          0.07         0.04          0.07         0.03\n",
        "#> virginica           0.09         0.05          0.08         0.04"
      ],
      "id": "AMLe8PRMgnHd"
    },
    {
      "cell_type": "code",
      "execution_count": null,
      "metadata": {
        "id": "5lYT2p_QgnHd"
      },
      "outputs": [],
      "source": [
        "my_group.agg('mean').plot(kind='bar', yerr=my_se, capsize=5)"
      ],
      "id": "5lYT2p_QgnHd"
    },
    {
      "cell_type": "code",
      "execution_count": null,
      "metadata": {
        "id": "lE9cramzgnHe"
      },
      "outputs": [],
      "source": [
        "from statsmodels.graphics.mosaicplot \\\n",
        "    import mosaic\n",
        "\n",
        "my_df = pd.DataFrame({\n",
        "    'Species': iris.Species,\n",
        "    'w_Sepal': iris['Sepal.Width'] > 3})\n",
        "\n",
        "my_table = pd.crosstab( # 分割表\n",
        "    my_df['Species'],\n",
        "    my_df['w_Sepal'])\n",
        "my_table\n",
        "#> w_Sepal     False  True\n",
        "#> Species\n",
        "#> setosa          8     42\n",
        "#> versicolor     42      8\n",
        "#> virginica      33     17\n",
        "\n",
        "mosaic(my_df,\n",
        "       index=['Species', 'w_Sepal'])"
      ],
      "id": "lE9cramzgnHe"
    },
    {
      "cell_type": "code",
      "execution_count": null,
      "metadata": {
        "id": "K2gmbFSVgnHe"
      },
      "outputs": [],
      "source": [
        "my_table.columns = [str(x) for x in my_table.columns]\n",
        "my_table.index   = [str(x) for x in my_table.index]\n",
        "mosaic(my_df, index=['Species', 'w_Sepal'], labelizer=lambda k: my_table.loc[k])"
      ],
      "id": "K2gmbFSVgnHe"
    },
    {
      "cell_type": "code",
      "execution_count": null,
      "metadata": {
        "id": "GSlnjjYSgnHf"
      },
      "outputs": [],
      "source": [
        "import matplotlib.pyplot as plt\n",
        "import numpy as np\n",
        "\n",
        "x = np.linspace(-2, 2, 100)\n",
        "y = x**3 - x\n",
        "plt.plot(x, y)"
      ],
      "id": "GSlnjjYSgnHf"
    },
    {
      "cell_type": "markdown",
      "source": [
        "## 4.3 乱数"
      ],
      "metadata": {
        "id": "49KCnmyFgnHf"
      },
      "id": "49KCnmyFgnHf"
    },
    {
      "cell_type": "code",
      "execution_count": null,
      "metadata": {
        "id": "Mu911c1kgnHf"
      },
      "outputs": [],
      "source": [
        "import matplotlib.pyplot as plt\n",
        "import numpy as np\n",
        "rng = np.random.default_rng()"
      ],
      "id": "Mu911c1kgnHf"
    },
    {
      "cell_type": "code",
      "execution_count": null,
      "metadata": {
        "id": "Cyp2m_QxgnHf"
      },
      "outputs": [],
      "source": [
        "x = np.random.choice(\n",
        "    a=range(1, 7), # 1から6\n",
        "    size=10000,    # 乱数の数\n",
        "    replace=True)  # 重複あり\n",
        "# あるいは\n",
        "x = np.random.randint(\n",
        "# あるいは\n",
        "#x = rng.integers(\n",
        "    low=1,      # 最小\n",
        "    high=7,     # 最大+1\n",
        "    size=10000) # 乱数の数\n",
        "\n",
        "plt.hist(x, bins=6) # ヒストグラム"
      ],
      "id": "Cyp2m_QxgnHf"
    },
    {
      "cell_type": "code",
      "execution_count": null,
      "metadata": {
        "id": "0dIMC-SvgnHf"
      },
      "outputs": [],
      "source": [
        "x = np.random.random(size=1000)\n",
        "# あるいは\n",
        "x = rng.random(size=10000)\n",
        "# あるいは\n",
        "x = np.random.uniform(\n",
        "    low=0,     # 最小\n",
        "    high=1,    # 最大\n",
        "    size=1000) # 乱数の数\n",
        "plt.hist(x)"
      ],
      "id": "0dIMC-SvgnHf"
    },
    {
      "cell_type": "code",
      "execution_count": null,
      "metadata": {
        "id": "8ZP7acg5gnHg"
      },
      "outputs": [],
      "source": [
        "tmp = np.random.uniform(\n",
        "    low=1,     # 最小\n",
        "    high=7,    # 最大 + 1\n",
        "    size=1000) # 乱数の数\n",
        "x = [int(k) for k in tmp]\n",
        "plt.hist(x, bins=6) # 結果は割愛"
      ],
      "id": "8ZP7acg5gnHg"
    },
    {
      "cell_type": "code",
      "execution_count": null,
      "metadata": {
        "id": "fJ1aGA2agnHg"
      },
      "outputs": [],
      "source": [
        "n = 100\n",
        "p = 0.5\n",
        "r = 10000\n",
        "x = np.random.binomial(\n",
        "# あるいは\n",
        "#x = rng.binomial(\n",
        "    n=n,    # 試行回数\n",
        "    p=p,    # 確率\n",
        "    size=r) # 乱数の数\n",
        "plt.hist(x, bins=max(x) - min(x))"
      ],
      "id": "fJ1aGA2agnHg"
    },
    {
      "cell_type": "code",
      "execution_count": null,
      "metadata": {
        "id": "LetZVeuNgnHg"
      },
      "outputs": [],
      "source": [
        "r = 10000\n",
        "x = np.random.normal(\n",
        "# あるいは\n",
        "#x = rng.normal(\n",
        "    loc=50,  # 平均\n",
        "    scale=5, # 標準偏差\n",
        "    size=r)  # 乱数の数\n",
        "plt.hist(x, bins=40)"
      ],
      "id": "LetZVeuNgnHg"
    },
    {
      "cell_type": "code",
      "execution_count": null,
      "metadata": {
        "id": "RbT-qasignHg"
      },
      "outputs": [],
      "source": [
        "import numpy as np\n",
        "import pandas as pd\n",
        "\n",
        "def f(k):\n",
        "    n = 10000\n",
        "    tmp = [g(np.random.normal(size=k, scale=3)) for _ in range(n)]\n",
        "    return pd.Series([k,\n",
        "                      np.mean(tmp),                  # 平均\n",
        "                      np.std(tmp, ddof=1) / n**0.5], # 標準誤差\n",
        "                     index=['k', 'mean', 'se'])"
      ],
      "id": "RbT-qasignHg"
    },
    {
      "cell_type": "code",
      "execution_count": null,
      "metadata": {
        "id": "3pD0QywzgnHh"
      },
      "outputs": [],
      "source": [
        "def g(x):\n",
        "    return np.var(x, ddof=1)\n",
        "pd.Series([10, 20, 30]).apply(f)\n",
        "#>       k      mean        se\n",
        "#> 0  10.0  9.025140  0.042690\n",
        "#> 1  20.0  9.022280  0.029525\n",
        "#> 2  30.0  8.983166  0.023584"
      ],
      "id": "3pD0QywzgnHh"
    },
    {
      "cell_type": "code",
      "execution_count": null,
      "metadata": {
        "id": "magqXd9ngnHh"
      },
      "outputs": [],
      "source": [
        "def g(x):\n",
        "    return np.std(x, ddof=1)\n",
        "pd.Series([10, 20, 30]).apply(f)\n",
        "#>       k      mean        se\n",
        "#> 0  10.0  2.923114  0.006983\n",
        "#> 1  20.0  2.961450  0.004811\n",
        "#> 2  30.0  2.968328  0.003977"
      ],
      "id": "magqXd9ngnHh"
    },
    {
      "cell_type": "code",
      "execution_count": null,
      "metadata": {
        "id": "Int6mPaCgnHh"
      },
      "outputs": [],
      "source": [
        "from math import gamma\n",
        "\n",
        "def g(x):\n",
        "    n = len(x)\n",
        "    return (np.std(x, ddof=1) *\n",
        "            (np.sqrt((n - 1) / 2) *\n",
        "             gamma((n - 1) / 2) /\n",
        "             gamma(n / 2)))\n",
        "pd.Series([10, 20, 30]).apply(f)\n",
        "#>       k      mean        se\n",
        "#> 0  10.0  3.005788  0.007121\n",
        "#> 1  20.0  3.001857  0.004894\n",
        "#> 2  30.0  2.995965  0.003925"
      ],
      "id": "Int6mPaCgnHh"
    },
    {
      "cell_type": "markdown",
      "source": [
        "## 4.4 統計的推測"
      ],
      "metadata": {
        "id": "_tCLOeVbgnHh"
      },
      "id": "_tCLOeVbgnHh"
    },
    {
      "cell_type": "code",
      "execution_count": null,
      "metadata": {
        "id": "dEkZ9o0_gnHi"
      },
      "outputs": [],
      "source": [
        "from statsmodels.stats.proportion import binom_test, proportion_confint\n",
        "\n",
        "binom_test(count=2,                 # 当たった回数\n",
        "           nobs=15,                 # くじを引いた回数\n",
        "           prop=4 / 10,             # 当たる確率（仮説）\n",
        "           alternative='two-sided') # 両側検定（デフォルト）\n",
        "                                    # 左片側検定なら'smaller'\n",
        "                                    # 右片側検定なら'larger'\n",
        "#> 0.03646166155263999"
      ],
      "id": "dEkZ9o0_gnHi"
    },
    {
      "cell_type": "code",
      "execution_count": null,
      "metadata": {
        "id": "FiJ2WFvsgnHi"
      },
      "outputs": [],
      "source": [
        "import numpy as np\n",
        "import pandas as pd\n",
        "from scipy import stats\n",
        "\n",
        "t = 4 / 10                        # 当たる確率\n",
        "n = 15                            # くじを引いた回数\n",
        "x = np.array(range(0, n + 1))     # 当たった回数\n",
        "my_pr  = stats.binom.pmf(x, n, t) # x回当たる確率\n",
        "my_pr2 = stats.binom.pmf(2, n, t) # 2回当たる確率\n",
        "\n",
        "my_data = pd.DataFrame({'x': x, 'y1': my_pr, 'y2': my_pr})\n",
        "my_data.loc[my_pr >  my_pr2, 'y1'] = np.nan # 当たる確率が，2回当たる確率超過\n",
        "my_data.loc[my_pr <= my_pr2, 'y2'] = np.nan # 当たる確率が，2回当たる確率以下\n",
        "ax = my_data.plot(x='x', style='o', ylabel='probability',\n",
        "                  legend=False)         # 凡例を表示しない．\n",
        "ax.hlines(y=my_pr2, xmin=0, xmax=15)    # 水平線\n",
        "ax.vlines(x=x,      ymin=0, ymax=my_pr) # 垂直線"
      ],
      "id": "FiJ2WFvsgnHi"
    },
    {
      "cell_type": "code",
      "execution_count": null,
      "metadata": {
        "id": "TeSEfOr9gnHj"
      },
      "outputs": [],
      "source": [
        "a = 0.05\n",
        "proportion_confint(\n",
        "    count=2, # 当たった回数\n",
        "    nobs=15, # くじを引いた回数\n",
        "    alpha=a, # 有意水準（省略可）\n",
        "    method='binom_test')\n",
        "#> (0.024225732468536626,\n",
        "#>  0.3967139842509865)"
      ],
      "id": "TeSEfOr9gnHj"
    },
    {
      "cell_type": "code",
      "execution_count": null,
      "metadata": {
        "id": "49Qkw1RkgnHk"
      },
      "outputs": [],
      "source": [
        "a = 0.05 # 有意水準\n",
        "tmp = np.linspace(0, 1, 100)\n",
        "\n",
        "my_df = pd.DataFrame({\n",
        "    't': tmp,                                                  # 当たる確率\n",
        "    'q': a,                                                    # 水平線\n",
        "    'p': [binom_test(count=2, nobs=15, prop=t) for t in tmp]}) # p値\n",
        "\n",
        "my_df.plot(x='t', legend=None, xlabel=r'$\\theta$', ylabel=r'p-value')"
      ],
      "id": "49Qkw1RkgnHk"
    },
    {
      "cell_type": "code",
      "execution_count": null,
      "metadata": {
        "id": "NihO59ZrgnHk"
      },
      "outputs": [],
      "source": [
        "from statsmodels.stats.weightstats import CompareMeans, DescrStatsW\n",
        "\n",
        "X = [32.1, 26.2, 27.5, 31.8, 32.1, 31.2, 30.1, 32.4, 32.3, 29.9,\n",
        "     29.6, 26.6, 31.2, 30.9, 29.3]\n",
        "Y = [35.4, 34.6, 31.1, 32.4, 33.3, 34.7, 35.3, 34.3, 32.1, 28.3,\n",
        "     33.3, 30.5, 32.6, 33.3, 32.2]\n",
        "\n",
        "a = 0.05          # 有意水準（デフォルト） = 1 - 信頼係数\n",
        "alt = 'two-sided' # 両側検定（デフォルト）\n",
        "                  # 左片側検定なら'smaller'\n",
        "                  # 右片側検定なら'larger'\n",
        "\n",
        "d = DescrStatsW(np.array(X) - np.array(Y)) # 対標本の場合\n",
        "d.ttest_mean(alternative=alt)[1]           # p値\n",
        "#> 0.0006415571512322235\n",
        "\n",
        "d.tconfint_mean(alpha=a, alternative=alt) # 信頼区間\n",
        "#> (-3.9955246743198867, -1.3644753256801117)"
      ],
      "id": "NihO59ZrgnHk"
    },
    {
      "cell_type": "code",
      "execution_count": null,
      "metadata": {
        "id": "ob8LejergnHl"
      },
      "outputs": [],
      "source": [
        "c = CompareMeans(DescrStatsW(X), DescrStatsW(Y)) # 対標本でない場合\n",
        "\n",
        "ve = 'pooled' # 等分散を仮定する（デフォルト）．仮定しないなら'unequal'．\n",
        "c.ttest_ind(alternative=alt, usevar=ve)[1] # p値\n",
        "#> 0.000978530937238609\n",
        "\n",
        "c.tconfint_diff(alpha=a, alternative=alt, usevar=ve) # 信頼区間\n",
        "#> (-4.170905570517185, -1.1890944294828283)"
      ],
      "id": "ob8LejergnHl"
    },
    {
      "cell_type": "code",
      "execution_count": null,
      "metadata": {
        "id": "ceAcBIXYgnHl"
      },
      "outputs": [],
      "source": [
        "import pandas as pd\n",
        "my_url = ('https://raw.githubusercontent.com/taroyabuki'\n",
        "          '/fromzero/master/data/smoker.csv')\n",
        "my_data = pd.read_csv(my_url)"
      ],
      "id": "ceAcBIXYgnHl"
    },
    {
      "cell_type": "code",
      "execution_count": null,
      "metadata": {
        "id": "v9mkpOmvgnHl"
      },
      "outputs": [],
      "source": [
        "my_data.head()\n",
        "#>   alive smoker\n",
        "#> 0   Yes     No\n",
        "#> 1   Yes     No\n",
        "#> 2   Yes     No\n",
        "#> 3   Yes     No\n",
        "#> 4   Yes     No"
      ],
      "id": "v9mkpOmvgnHl"
    },
    {
      "cell_type": "code",
      "execution_count": null,
      "metadata": {
        "id": "0hagSYCfgnHl"
      },
      "outputs": [],
      "source": [
        "my_table = pd.crosstab(\n",
        "    my_data['alive'],\n",
        "    my_data['smoker'])\n",
        "my_table\n",
        "#> smoker   No  Yes\n",
        "#> alive\n",
        "#> No      117   54\n",
        "#> Yes     950  348"
      ],
      "id": "0hagSYCfgnHl"
    },
    {
      "cell_type": "code",
      "execution_count": null,
      "metadata": {
        "id": "9T7z9xFvgnHm"
      },
      "outputs": [],
      "source": [
        "from scipy.stats import chi2_contingency\n",
        "chi2_contingency(my_table, correction=False)[1]\n",
        "#> 0.18860725715300422"
      ],
      "id": "9T7z9xFvgnHm"
    },
    {
      "cell_type": "code",
      "execution_count": null,
      "metadata": {
        "id": "np8LLd9lgnHm"
      },
      "outputs": [],
      "source": [
        "X = [0] * 13 + [1] * 2 # 手順1\n",
        "X\n",
        "#> [0, 0, 0, 0, 0, 0, 0, 0, 0, 0, 0, 0, 0, 1, 1]\n",
        "\n",
        "tmp = np.random.choice(X, 15, replace=True) # 手順2\n",
        "tmp\n",
        "#> array([0, 0, 0, 0, 0, 0, 0, 1, 0, 0, 0, 0, 1, 0, 0])\n",
        "\n",
        "sum(tmp) # 手順3\n",
        "#> 2\n",
        "\n",
        "n = 10**5\n",
        "result = [sum(np.random.choice(X, len(X), replace=True)) for _ in range(n)] # 手順4"
      ],
      "id": "np8LLd9lgnHm"
    },
    {
      "cell_type": "code",
      "execution_count": null,
      "metadata": {
        "id": "ApaEi4OFgnHm"
      },
      "outputs": [],
      "source": [
        "import matplotlib.pyplot as plt\n",
        "plt.hist(result, bins=range(0, 16))"
      ],
      "id": "ApaEi4OFgnHm"
    },
    {
      "cell_type": "code",
      "execution_count": null,
      "metadata": {
        "id": "kq_OzssognHm"
      },
      "outputs": [],
      "source": [
        "np.quantile(result, [0.025, 0.975])\n",
        "#> array([0., 5.])"
      ],
      "id": "kq_OzssognHm"
    },
    {
      "cell_type": "markdown",
      "source": [
        "# 5 前処理\n",
        "\n",
        "\n"
      ],
      "metadata": {
        "id": "C55igtj9gnHn"
      },
      "id": "C55igtj9gnHn"
    },
    {
      "cell_type": "markdown",
      "source": [
        "## 5.1 データの読み込み"
      ],
      "metadata": {
        "id": "BKEU6kRVgnHn"
      },
      "id": "BKEU6kRVgnHn"
    },
    {
      "cell_type": "code",
      "execution_count": null,
      "metadata": {
        "id": "Hw38lF_MgnHn"
      },
      "outputs": [],
      "source": [
        "!wget https://raw.githubusercontent.com/taroyabuki/fromzero/master/data/exam.csv"
      ],
      "id": "Hw38lF_MgnHn"
    },
    {
      "cell_type": "code",
      "execution_count": null,
      "metadata": {
        "id": "9seraEkIgnHn"
      },
      "outputs": [],
      "source": [
        "import pandas as pd\n",
        "my_df = pd.read_csv('exam.csv')\n",
        "my_df\n",
        "#>   name  english  math gender\n",
        "#> 0    A       60    70      f\n",
        "#> 1    B       90    80      m\n",
        "#> 2    C       70    90      m\n",
        "#> 3    D       90   100      f"
      ],
      "id": "9seraEkIgnHn"
    },
    {
      "cell_type": "code",
      "execution_count": null,
      "metadata": {
        "id": "qsV5YT4egnHo"
      },
      "outputs": [],
      "source": [
        "my_url = ('https://raw.githubusercontent.com/taroyabuki'\n",
        "          '/fromzero/master/data/exam.csv')\n",
        "my_df = pd.read_csv(my_url)"
      ],
      "id": "qsV5YT4egnHo"
    },
    {
      "cell_type": "code",
      "execution_count": null,
      "metadata": {
        "id": "mGD0CzNmgnHo"
      },
      "outputs": [],
      "source": [
        "my_df2 = pd.read_csv('exam.csv',\n",
        "    index_col='name')\n",
        "my_df2\n",
        "#>       english  math gender\n",
        "#> name\n",
        "#> A          60    70      f\n",
        "#> B          90    80      m\n",
        "#> C          70    90      m\n",
        "#> D          90   100      f"
      ],
      "id": "mGD0CzNmgnHo"
    },
    {
      "cell_type": "code",
      "execution_count": null,
      "metadata": {
        "id": "9uO32yB4gnHo"
      },
      "outputs": [],
      "source": [
        "my_df.to_csv('exam2.csv', index=False)"
      ],
      "id": "9uO32yB4gnHo"
    },
    {
      "cell_type": "code",
      "execution_count": null,
      "metadata": {
        "id": "o3tgE5chgnHo"
      },
      "outputs": [],
      "source": [
        "my_df2.to_csv('exam3.csv')"
      ],
      "id": "o3tgE5chgnHo"
    },
    {
      "cell_type": "code",
      "execution_count": null,
      "metadata": {
        "id": "I0lg_Vz6gnHp"
      },
      "outputs": [],
      "source": [
        "my_df = pd.read_csv('exam.csv',\n",
        "    encoding='UTF-8')"
      ],
      "id": "I0lg_Vz6gnHp"
    },
    {
      "cell_type": "code",
      "execution_count": null,
      "metadata": {
        "id": "kLJ_-CBVgnHp"
      },
      "outputs": [],
      "source": [
        "my_df.to_csv('exam2.csv', index=False, encoding='UTF-8')"
      ],
      "id": "kLJ_-CBVgnHp"
    },
    {
      "cell_type": "code",
      "execution_count": null,
      "metadata": {
        "id": "8DbfkriugnHp"
      },
      "outputs": [],
      "source": [
        "my_url = 'https://taroyabuki.github.io/fromzero/exam.html'\n",
        "my_tables = pd.read_html(my_url)"
      ],
      "id": "8DbfkriugnHp"
    },
    {
      "cell_type": "code",
      "execution_count": null,
      "metadata": {
        "id": "RaQK6u1kgnHp"
      },
      "outputs": [],
      "source": [
        "my_tables\n",
        "#> [   Unnamed: 0 name  english ...\n",
        "#>  0         NaN    A       60 ...\n",
        "#>  1         NaN    B       90 ...\n",
        "#>  2         NaN    C       70 ...\n",
        "#>  3         NaN    D       90 ...]"
      ],
      "id": "RaQK6u1kgnHp"
    },
    {
      "cell_type": "code",
      "execution_count": null,
      "metadata": {
        "id": "vTWvJ3gAgnHq"
      },
      "outputs": [],
      "source": [
        "my_tables[0]\n",
        "#>    Unnamed: 0 name  english ...\n",
        "#> 0         NaN    A       60 ...\n",
        "#> 1         NaN    B       90 ...\n",
        "#> 2         NaN    C       70 ...\n",
        "#> 3         NaN    D       90 ..."
      ],
      "id": "vTWvJ3gAgnHq"
    },
    {
      "cell_type": "code",
      "execution_count": null,
      "metadata": {
        "id": "-XnkCHSsgnHq"
      },
      "outputs": [],
      "source": [
        "# 1列目以降を取り出す．\n",
        "my_data = my_tables[0].iloc[:, 1:]\n",
        "my_data\n",
        "#>   name  english  math gender\n",
        "#> 0    A       60    70      f\n",
        "#> 1    B       90    80      m\n",
        "#> 2    C       70    90      m\n",
        "#> 3    D       90   100      f"
      ],
      "id": "-XnkCHSsgnHq"
    },
    {
      "cell_type": "code",
      "execution_count": null,
      "metadata": {
        "id": "cCX3Pu71gnHq"
      },
      "outputs": [],
      "source": [
        "my_url = ('https://raw.githubusercontent.com/taroyabuki'\n",
        "          '/fromzero/master/data/exam.json')\n",
        "my_data = pd.read_json(my_url)\n",
        "#my_data = pd.read_json('exam.json') # （ファイルを使う場合）\n",
        "my_data\n",
        "#>   name  english  math gender\n",
        "#> 0    A       60    70      f\n",
        "#> 1    B       90    80      m\n",
        "#> 2    C       70    90      m\n",
        "#> 3    D       90   100      f"
      ],
      "id": "cCX3Pu71gnHq"
    },
    {
      "cell_type": "code",
      "execution_count": null,
      "metadata": {
        "id": "HXwuM_KWgnHq"
      },
      "outputs": [],
      "source": [
        "import xml.etree.ElementTree as ET\n",
        "from urllib.request import urlopen\n",
        "\n",
        "my_url = ('https://raw.githubusercontent.com/taroyabuki'\n",
        "          '/fromzero/master/data/exam.xml')\n",
        "with urlopen(my_url) as f:\n",
        "    my_tree = ET.parse(f)       # XMLデータの読み込み\n",
        "\n",
        "#my_tree = ET.parse('exam.xml') # （ファイルを使う場合）\n",
        "my_ns = '{https://www.example.net/ns/1.0}' # 名前空間"
      ],
      "id": "HXwuM_KWgnHq"
    },
    {
      "cell_type": "code",
      "execution_count": null,
      "metadata": {
        "id": "YWx-IhAwgnHr"
      },
      "outputs": [],
      "source": [
        "my_records = my_tree.findall(f'.//{my_ns}record')"
      ],
      "id": "YWx-IhAwgnHr"
    },
    {
      "cell_type": "code",
      "execution_count": null,
      "metadata": {
        "id": "BB0yGn86gnHr"
      },
      "outputs": [],
      "source": [
        "def f(record):\n",
        "    my_dic1 = record.attrib # 属性を取り出す．\n",
        "    # 子要素の名前と内容のペアを辞書にする．\n",
        "    my_dic2 = {child.tag.replace(my_ns, ''): child.text for child in list(record)}\n",
        "    return {**my_dic1, **my_dic2} # 辞書を結合する．"
      ],
      "id": "BB0yGn86gnHr"
    },
    {
      "cell_type": "code",
      "execution_count": null,
      "metadata": {
        "id": "RdhSe_01gnHr"
      },
      "outputs": [],
      "source": [
        "my_data = pd.DataFrame([f(record) for record in my_records])\n",
        "my_data['english'] = pd.to_numeric(my_data['english'])\n",
        "my_data['math']    = pd.to_numeric(my_data['math'])\n",
        "my_data\n",
        "#>    english  math gender name\n",
        "#> 0       60    70      f    A\n",
        "#> 1       90    80      m    B\n",
        "#> 2       70    90      m    C\n",
        "#> 3       90   100      f    D"
      ],
      "id": "RdhSe_01gnHr"
    },
    {
      "cell_type": "markdown",
      "source": [
        "## 5.2 データの変換"
      ],
      "metadata": {
        "id": "g1M-OTwngnHr"
      },
      "id": "g1M-OTwngnHr"
    },
    {
      "cell_type": "code",
      "execution_count": null,
      "metadata": {
        "id": "or_Y-shugnHr"
      },
      "outputs": [],
      "source": [
        "import numpy as np\n",
        "from scipy.stats import zscore\n",
        "\n",
        "x1 = [1, 2, 3]\n",
        "\n",
        "z1 = ((x1 - np.mean(x1)) /\n",
        "      np.std(x1, ddof=1))\n",
        "# あるいは\n",
        "z1 = zscore(x1, ddof=1)\n",
        "\n",
        "z1\n",
        "#> array([-1.,  0.,  1.])"
      ],
      "id": "or_Y-shugnHr"
    },
    {
      "cell_type": "code",
      "execution_count": null,
      "metadata": {
        "id": "scbfGhMjgnHs"
      },
      "outputs": [],
      "source": [
        "z1.mean(), np.std(z1, ddof=1)\n",
        "#> (0.0, 1.0)"
      ],
      "id": "scbfGhMjgnHs"
    },
    {
      "cell_type": "code",
      "execution_count": null,
      "metadata": {
        "id": "wVNhLyCKgnHs"
      },
      "outputs": [],
      "source": [
        "z1 * np.std(x1, ddof=1) + np.mean(x1)\n",
        "#> array([1., 2., 3.])"
      ],
      "id": "wVNhLyCKgnHs"
    },
    {
      "cell_type": "code",
      "execution_count": null,
      "metadata": {
        "id": "77s9p6xIgnHs"
      },
      "outputs": [],
      "source": [
        "x2 = [1, 3, 5]\n",
        "z2 = ((x2 - np.mean(x1)) /\n",
        "      np.std(x1, ddof=1))\n",
        "z2.mean(), np.std(z2, ddof=1)\n",
        "#> (1.0, 2.0)"
      ],
      "id": "77s9p6xIgnHs"
    },
    {
      "cell_type": "code",
      "execution_count": null,
      "metadata": {
        "id": "Ev9jZ2PmgnHs"
      },
      "outputs": [],
      "source": [
        "import pandas as pd\n",
        "from sklearn.preprocessing import (\n",
        "    OneHotEncoder)\n",
        "\n",
        "my_df = pd.DataFrame({\n",
        "    'id':    [ 1 ,  2 ,  3 ],\n",
        "    'class': ['A', 'B', 'C']})\n",
        "\n",
        "my_enc = OneHotEncoder()\n",
        "tmp = my_enc.fit_transform(\n",
        "    my_df[['class']]).toarray()\n",
        "my_names = my_enc.get_feature_names() \\\n",
        "if hasattr(my_enc, 'get_feature_names') \\\n",
        "else my_enc.get_feature_names_out()\n",
        "pd.DataFrame(tmp, columns=my_names)\n",
        "#>    x0_A  x0_B  x0_C\n",
        "#> 0   1.0   0.0   0.0\n",
        "#> 1   0.0   1.0   0.0\n",
        "#> 2   0.0   0.0   1.0"
      ],
      "id": "Ev9jZ2PmgnHs"
    },
    {
      "cell_type": "code",
      "execution_count": null,
      "metadata": {
        "id": "hNTjFVUngnHt"
      },
      "outputs": [],
      "source": [
        "my_df2 = pd.DataFrame({\n",
        "    'id':    [ 4 ,  5,   6 ],\n",
        "    'class': ['B', 'C', 'B']})\n",
        "tmp = my_enc.transform(\n",
        "    my_df2[['class']]).toarray()\n",
        "pd.DataFrame(tmp, columns=my_names)\n",
        "#>    x0_A  x0_B  x0_C\n",
        "#> 0   0.0   1.0   0.0\n",
        "#> 1   0.0   0.0   1.0\n",
        "#> 2   0.0   1.0   0.0"
      ],
      "id": "hNTjFVUngnHt"
    },
    {
      "cell_type": "code",
      "execution_count": null,
      "metadata": {
        "id": "qpYNAyP1gnHt"
      },
      "outputs": [],
      "source": [
        "my_enc = OneHotEncoder(drop='first')\n",
        "\n",
        "tmp = my_enc.fit_transform(\n",
        "    my_df[['class']]).toarray()\n",
        "my_names = my_enc.get_feature_names() \\\n",
        "if hasattr(my_enc, 'get_feature_names') \\\n",
        "else my_enc.get_feature_names_out()\n",
        "pd.DataFrame(tmp, columns=my_names)\n",
        "#>    x0_B  x0_C\n",
        "#> 0   0.0   0.0\n",
        "#> 1   1.0   0.0\n",
        "#> 2   0.0   1.0\n",
        "\n",
        "tmp = my_enc.transform(\n",
        "    my_df2[['class']]).toarray()\n",
        "pd.DataFrame(tmp, columns=my_names)\n",
        "#>    x0_B  x0_C\n",
        "#> 0   1.0   0.0\n",
        "#> 1   0.0   1.0\n",
        "#> 2   1.0   0.0"
      ],
      "id": "qpYNAyP1gnHt"
    },
    {
      "cell_type": "markdown",
      "source": [
        "# 6 機械学習の目的・データ・手法\n",
        "\n",
        "\n"
      ],
      "metadata": {
        "id": "10ar5_i1gnHt"
      },
      "id": "10ar5_i1gnHt"
    },
    {
      "cell_type": "markdown",
      "source": [
        "## 6.1 機械学習の目的（本書の場合）\n",
        "\n",
        "\n"
      ],
      "metadata": {
        "id": "EFQN4T2VgnHt"
      },
      "id": "EFQN4T2VgnHt"
    },
    {
      "cell_type": "markdown",
      "source": [
        "## 6.2 機械学習のためのデータ"
      ],
      "metadata": {
        "id": "IbAd_5XzgnHt"
      },
      "id": "IbAd_5XzgnHt"
    },
    {
      "cell_type": "code",
      "execution_count": null,
      "metadata": {
        "id": "NGfSNS_TgnHu"
      },
      "outputs": [],
      "source": [
        "import statsmodels.api as sm\n",
        "iris = sm.datasets.get_rdataset('iris', 'datasets').data\n",
        "iris.head()\n",
        "#>    Sepal.Length  Sepal.Width  Petal.Length  Petal.Width Species\n",
        "#> 0           5.1          3.5           1.4          0.2  setosa\n",
        "# 以下省略"
      ],
      "id": "NGfSNS_TgnHu"
    },
    {
      "cell_type": "code",
      "execution_count": null,
      "metadata": {
        "id": "H4BHR1WignHu"
      },
      "outputs": [],
      "source": [
        "import seaborn as sns\n",
        "iris = sns.load_dataset('iris')\n",
        "iris.head()\n",
        "#>    sepal_length  sepal_width  petal_length  petal_width species\n",
        "#> 0           5.1          3.5           1.4          0.2  setosa\n",
        "# 以下省略"
      ],
      "id": "H4BHR1WignHu"
    },
    {
      "cell_type": "code",
      "execution_count": null,
      "metadata": {
        "id": "qEdDCo4dgnHu"
      },
      "outputs": [],
      "source": [
        "import pandas as pd\n",
        "from sklearn.datasets import load_iris\n",
        "tmp = load_iris()\n",
        "iris = pd.DataFrame(tmp.data, columns=tmp.feature_names)\n",
        "iris['target'] = tmp.target_names[tmp.target]\n",
        "iris.head()\n",
        "#>    sepal length (cm)  sepal width (cm)  ...  petal width (cm)  target\n",
        "#> 0                5.1               3.5  ...               0.2  setosa\n",
        "# 以下省略"
      ],
      "id": "qEdDCo4dgnHu"
    },
    {
      "cell_type": "markdown",
      "source": [
        "## 6.3 機械学習のための手法\n",
        "\n",
        "\n"
      ],
      "metadata": {
        "id": "ylNBjGu0gnHu"
      },
      "id": "ylNBjGu0gnHu"
    },
    {
      "cell_type": "markdown",
      "source": [
        "# 7 回帰1（単回帰）\n",
        "\n",
        "\n"
      ],
      "metadata": {
        "id": "vZnh8j48gnHv"
      },
      "id": "vZnh8j48gnHv"
    },
    {
      "cell_type": "markdown",
      "source": [
        "## 7.1 自動車の停止距離\n",
        "\n",
        "\n"
      ],
      "metadata": {
        "id": "Fujdoy1CgnHv"
      },
      "id": "Fujdoy1CgnHv"
    },
    {
      "cell_type": "markdown",
      "source": [
        "## 7.2 データの確認"
      ],
      "metadata": {
        "id": "kWTrXe0bgnHv"
      },
      "id": "kWTrXe0bgnHv"
    },
    {
      "cell_type": "code",
      "execution_count": null,
      "metadata": {
        "id": "DpvarVSxgnHv"
      },
      "outputs": [],
      "source": [
        "import statsmodels.api as sm\n",
        "my_data = sm.datasets.get_rdataset('cars', 'datasets').data"
      ],
      "id": "DpvarVSxgnHv"
    },
    {
      "cell_type": "code",
      "execution_count": null,
      "metadata": {
        "id": "_GBOrrIZgnHv"
      },
      "outputs": [],
      "source": [
        "my_data.shape\n",
        "#> (50, 2)"
      ],
      "id": "_GBOrrIZgnHv"
    },
    {
      "cell_type": "code",
      "execution_count": null,
      "metadata": {
        "id": "oKepMSQignHw"
      },
      "outputs": [],
      "source": [
        "my_data.head()\n",
        "#>    speed  dist\n",
        "#> 0      4     2\n",
        "#> 1      4    10\n",
        "#> 2      7     4\n",
        "#> 3      7    22\n",
        "#> 4      8    16"
      ],
      "id": "oKepMSQignHw"
    },
    {
      "cell_type": "code",
      "execution_count": null,
      "metadata": {
        "id": "T4zg0OO9gnHw"
      },
      "outputs": [],
      "source": [
        "my_data.describe()\n",
        "#>            speed        dist\n",
        "#> count  50.000000   50.000000\n",
        "#> mean   15.400000   42.980000\n",
        "#> std     5.287644   25.769377\n",
        "#> min     4.000000    2.000000\n",
        "#> 25%    12.000000   26.000000\n",
        "#> 50%    15.000000   36.000000\n",
        "#> 75%    19.000000   56.000000\n",
        "#> max    25.000000  120.000000"
      ],
      "id": "T4zg0OO9gnHw"
    },
    {
      "cell_type": "code",
      "execution_count": null,
      "metadata": {
        "id": "1HK_1kLzgnHw"
      },
      "outputs": [],
      "source": [
        "my_data.plot(x='speed', style='o')"
      ],
      "id": "1HK_1kLzgnHw"
    },
    {
      "cell_type": "markdown",
      "source": [
        "## 7.3 回帰分析"
      ],
      "metadata": {
        "id": "pR9e4YX4gnHw"
      },
      "id": "pR9e4YX4gnHw"
    },
    {
      "cell_type": "code",
      "execution_count": null,
      "metadata": {
        "id": "iNO71GtbgnHx"
      },
      "outputs": [],
      "source": [
        "import seaborn as sns\n",
        "import statsmodels.api as sm\n",
        "\n",
        "my_data = sm.datasets.get_rdataset('cars', 'datasets').data\n",
        "ax = sns.regplot(x='speed', y='dist', data=my_data)\n",
        "ax.vlines(x=21.5, ymin=-5, ymax=67,   linestyles='dotted')\n",
        "ax.hlines(y=67,   xmin=4,  xmax=21.5, linestyles='dotted')\n",
        "ax.set_xlim(4, 25)\n",
        "ax.set_ylim(-5, 125)"
      ],
      "id": "iNO71GtbgnHx"
    },
    {
      "cell_type": "code",
      "execution_count": null,
      "metadata": {
        "id": "HDJiFBNOgnHx"
      },
      "outputs": [],
      "source": [
        "import statsmodels.api as sm\n",
        "my_data = sm.datasets.get_rdataset('cars', 'datasets').data\n",
        "X, y = my_data[['speed']], my_data['dist']"
      ],
      "id": "HDJiFBNOgnHx"
    },
    {
      "cell_type": "code",
      "execution_count": null,
      "metadata": {
        "id": "Oxo-opCegnHx"
      },
      "outputs": [],
      "source": [
        "# モデルの指定\n",
        "from sklearn.linear_model import LinearRegression\n",
        "my_model = LinearRegression()\n",
        "\n",
        "# 訓練（モデルをデータにフィットさせる．）\n",
        "my_model.fit(X, y)\n",
        "\n",
        "# まとめて実行してもよい．\n",
        "# my_model = LinearRegression().fit(X, y)"
      ],
      "id": "Oxo-opCegnHx"
    },
    {
      "cell_type": "code",
      "execution_count": null,
      "metadata": {
        "id": "4FMW7hxAgnHx"
      },
      "outputs": [],
      "source": [
        "my_model.intercept_, my_model.coef_\n",
        "#> (-17.579094890510973,\n",
        "#>  array([3.93240876]))"
      ],
      "id": "4FMW7hxAgnHx"
    },
    {
      "cell_type": "code",
      "execution_count": null,
      "metadata": {
        "id": "OfqU_Ui_gnHy"
      },
      "outputs": [],
      "source": [
        "tmp = [[21.5]]\n",
        "my_model.predict(tmp)\n",
        "#> array([66.96769343])"
      ],
      "id": "OfqU_Ui_gnHy"
    },
    {
      "cell_type": "code",
      "execution_count": null,
      "metadata": {
        "id": "QQXKoOOBgnHy"
      },
      "outputs": [],
      "source": [
        "import numpy as np\n",
        "import pandas as pd\n",
        "\n",
        "tmp = pd.DataFrame({'speed': np.linspace(min(my_data.speed),\n",
        "                                         max(my_data.speed),\n",
        "                                         100)})\n",
        "tmp['model'] = my_model.predict(tmp)"
      ],
      "id": "QQXKoOOBgnHy"
    },
    {
      "cell_type": "code",
      "execution_count": null,
      "metadata": {
        "id": "9I1Qbz_7gnHy"
      },
      "outputs": [],
      "source": [
        "pd.concat([my_data, tmp]).plot(\n",
        "    x='speed', style=['o', '-'])"
      ],
      "id": "9I1Qbz_7gnHy"
    },
    {
      "cell_type": "markdown",
      "source": [
        "## 7.4 当てはまりの良さの指標"
      ],
      "metadata": {
        "id": "LWk5lCUegnHy"
      },
      "id": "LWk5lCUegnHy"
    },
    {
      "cell_type": "code",
      "execution_count": null,
      "metadata": {
        "id": "rXccUg2CgnHy"
      },
      "outputs": [],
      "source": [
        "import pandas as pd\n",
        "import statsmodels.api as sm\n",
        "from sklearn.linear_model import LinearRegression\n",
        "from sklearn.metrics import mean_squared_error, r2_score\n",
        "\n",
        "my_data = sm.datasets.get_rdataset('cars', 'datasets').data\n",
        "X, y = my_data[['speed']], my_data['dist']\n",
        "\n",
        "my_model = LinearRegression()\n",
        "my_model.fit(X, y)\n",
        "y_ = my_model.predict(X)\n",
        "my_data['y_'] = y_"
      ],
      "id": "rXccUg2CgnHy"
    },
    {
      "cell_type": "code",
      "execution_count": null,
      "metadata": {
        "id": "DRBG7IizgnHz"
      },
      "outputs": [],
      "source": [
        "pd.options.display.float_format = (\n",
        "    '{:.2f}'.format)\n",
        "my_data['residual'] = y - y_\n",
        "my_data.head()\n",
        "#>    speed  dist    y_  residual\n",
        "#> 0      4     2 -1.85      3.85\n",
        "#> 1      4    10 -1.85     11.85\n",
        "#> 2      7     4  9.95     -5.95\n",
        "#> 3      7    22  9.95     12.05\n",
        "#> 4      8    16 13.88      2.12"
      ],
      "id": "DRBG7IizgnHz"
    },
    {
      "cell_type": "code",
      "execution_count": null,
      "metadata": {
        "id": "SUPdKAXVgnHz"
      },
      "outputs": [],
      "source": [
        "ax = my_data.plot(x='speed', y='dist', style='o', legend=False)\n",
        "my_data.plot(x='speed', y='y_', style='-', legend=False, ax=ax)\n",
        "ax.vlines(x=X, ymin=y, ymax=y_, linestyles='dotted')"
      ],
      "id": "SUPdKAXVgnHz"
    },
    {
      "cell_type": "code",
      "execution_count": null,
      "metadata": {
        "id": "lz-XU7jhgnHz"
      },
      "outputs": [],
      "source": [
        "mean_squared_error(y, y_)**0.5\n",
        "# あるいは\n",
        "(my_data['residual']**2).mean()**0.5\n",
        "\n",
        "#> 15.068855995791381"
      ],
      "id": "lz-XU7jhgnHz"
    },
    {
      "cell_type": "code",
      "execution_count": null,
      "metadata": {
        "id": "vzakUFOrgnHz"
      },
      "outputs": [],
      "source": [
        "my_model.score(X, y)\n",
        "# あるいは\n",
        "r2_score(y_true=y, y_pred=y_)\n",
        "#> 0.6510793807582509"
      ],
      "id": "vzakUFOrgnHz"
    },
    {
      "cell_type": "code",
      "execution_count": null,
      "metadata": {
        "id": "v323CZIQgnH0"
      },
      "outputs": [],
      "source": [
        "import numpy as np\n",
        "np.corrcoef(y, y_)[0, 1]**2\n",
        "#> 0.6510793807582511"
      ],
      "id": "v323CZIQgnH0"
    },
    {
      "cell_type": "code",
      "execution_count": null,
      "metadata": {
        "id": "3IftdXwGgnH0"
      },
      "outputs": [],
      "source": [
        "my_test = my_data[:3]\n",
        "X = my_test[['speed']]\n",
        "y = my_test['dist']\n",
        "y_ = my_model.predict(X)\n",
        "\n",
        "my_model.score(X, y)\n",
        "# あるいは\n",
        "r2_score(y_true=y, y_pred=y_)\n",
        "#> -4.498191310376778 # 決定係数1\n",
        "\n",
        "np.corrcoef(y, y_)[0, 1]**2\n",
        "#> 0.0769230769230769 # 決定係数6"
      ],
      "id": "3IftdXwGgnH0"
    },
    {
      "cell_type": "code",
      "execution_count": null,
      "metadata": {
        "id": "r8Xd7U5jgnH1"
      },
      "outputs": [],
      "source": [
        "import numpy as np\n",
        "import pandas as pd\n",
        "import statsmodels.api as sm\n",
        "from sklearn.linear_model import LinearRegression\n",
        "from sklearn.preprocessing import PolynomialFeatures\n",
        "\n",
        "my_data = sm.datasets.get_rdataset('cars', 'datasets').data\n",
        "\n",
        "my_idx = [1, 10, 26, 33, 38, 43]\n",
        "my_sample = my_data.iloc[my_idx, ]\n",
        "X, y = my_sample[['speed']], my_sample['dist']"
      ],
      "id": "r8Xd7U5jgnH1"
    },
    {
      "cell_type": "code",
      "execution_count": null,
      "metadata": {
        "id": "IRCII2zFgnH1"
      },
      "outputs": [],
      "source": [
        "d = 5\n",
        "X5 = PolynomialFeatures(d, include_bias=False).fit_transform(X) # Xの1乗から5乗の変数\n",
        "\n",
        "my_model = LinearRegression()\n",
        "my_model.fit(X5, y)\n",
        "y_ = my_model.predict(X5)"
      ],
      "id": "IRCII2zFgnH1"
    },
    {
      "cell_type": "code",
      "execution_count": null,
      "metadata": {
        "id": "bTjo9aisgnH1"
      },
      "outputs": [],
      "source": [
        "((y - y_)**2).mean()**0.5\n",
        "#> 7.725744805546204e-07 # RMSE\n",
        "\n",
        "my_model.score(X5, y)\n",
        "#> 0.9999999999999989 # 決定係数1\n",
        "\n",
        "np.corrcoef(y, y_)[0, 1]**2\n",
        "#> 0.9999999999999991 # 決定係数6"
      ],
      "id": "bTjo9aisgnH1"
    },
    {
      "cell_type": "code",
      "execution_count": null,
      "metadata": {
        "id": "hW5D5Jn_gnH1"
      },
      "outputs": [],
      "source": [
        "tmp = pd.DataFrame({'speed': np.linspace(min(my_data.speed),\n",
        "                                         max(my_data.speed),\n",
        "                                         100)})\n",
        "X5 = PolynomialFeatures(d, include_bias=False).fit_transform(tmp)\n",
        "tmp['model'] = my_model.predict(X5)\n",
        "\n",
        "my_sample = my_sample.assign(sample=y)\n",
        "my_df = pd.concat([my_data, my_sample, tmp])\n",
        "my_df.plot(x='speed', style=['o', 'o', '-'], ylim=(0, 130))"
      ],
      "id": "hW5D5Jn_gnH1"
    },
    {
      "cell_type": "markdown",
      "source": [
        "## 7.5 K最近傍法"
      ],
      "metadata": {
        "id": "a74raYK4gnH2"
      },
      "id": "a74raYK4gnH2"
    },
    {
      "cell_type": "code",
      "execution_count": null,
      "metadata": {
        "id": "nE4zDHEfgnH2"
      },
      "outputs": [],
      "source": [
        "# 準備\n",
        "import numpy as np\n",
        "import pandas as pd\n",
        "import statsmodels.api as sm\n",
        "from sklearn.neighbors import KNeighborsRegressor\n",
        "\n",
        "my_data = sm.datasets.get_rdataset('cars', 'datasets').data\n",
        "X, y = my_data[['speed']], my_data['dist']\n",
        "\n",
        "# 訓練\n",
        "my_model = KNeighborsRegressor()\n",
        "my_model.fit(X, y)\n",
        "\n",
        "# 可視化の準備\n",
        "tmp = pd.DataFrame({'speed': np.linspace(min(my_data.speed),\n",
        "                                         max(my_data.speed),\n",
        "                                         100)})\n",
        "tmp['model'] = my_model.predict(tmp)"
      ],
      "id": "nE4zDHEfgnH2"
    },
    {
      "cell_type": "code",
      "execution_count": null,
      "metadata": {
        "id": "Us55lGSFgnH2"
      },
      "outputs": [],
      "source": [
        "pd.concat([my_data, tmp]).plot(\n",
        "    x='speed', style=['o', '-'])"
      ],
      "id": "Us55lGSFgnH2"
    },
    {
      "cell_type": "code",
      "execution_count": null,
      "metadata": {
        "id": "FzWHsEYmgnH3"
      },
      "outputs": [],
      "source": [
        "y_ = my_model.predict(X)\n",
        "\n",
        "((y - y_)**2).mean()**0.5\n",
        "#> 13.087184571174962 # RMSE\n",
        "\n",
        "my_model.score(X, y)\n",
        "#> 0.7368165812204317 # 決定係数1\n",
        "\n",
        "np.corrcoef(y, y_)[0, 1]**2\n",
        "#> 0.7380949412509705 # 決定係数6"
      ],
      "id": "FzWHsEYmgnH3"
    },
    {
      "cell_type": "markdown",
      "source": [
        "## 7.6 検証"
      ],
      "metadata": {
        "id": "QgHA4-oPgnH3"
      },
      "id": "QgHA4-oPgnH3"
    },
    {
      "cell_type": "code",
      "execution_count": null,
      "metadata": {
        "id": "KLmXHZZ8gnH3"
      },
      "outputs": [],
      "source": [
        "import statsmodels.api as sm\n",
        "from sklearn.linear_model import LinearRegression\n",
        "from sklearn.model_selection import cross_val_score\n",
        "\n",
        "# データの準備\n",
        "my_data = sm.datasets.get_rdataset('cars', 'datasets').data\n",
        "X, y = my_data[['speed']], my_data['dist']\n",
        "\n",
        "# モデルの指定\n",
        "my_model = LinearRegression()\n",
        "\n",
        "# 検証（5分割交差検証）\n",
        "my_scores = cross_val_score(my_model, X, y)\n",
        "\n",
        "# 5個の決定係数1を得る．\n",
        "my_scores\n",
        "#> array([-0.25789256, -0.21421069, -0.30902773, -0.27346232,  0.02312918])\n",
        "\n",
        "# 平均を決定係数1（検証）とする．\n",
        "my_scores.mean()\n",
        "#> -0.20629282165364665"
      ],
      "id": "KLmXHZZ8gnH3"
    },
    {
      "cell_type": "code",
      "execution_count": null,
      "metadata": {
        "id": "8piauymUgnH3"
      },
      "outputs": [],
      "source": [
        "my_scores = cross_val_score(my_model, X, y,\n",
        "                            scoring='neg_root_mean_squared_error')\n",
        "-my_scores.mean()\n",
        "#> 15.58402474583013 # RMSE（検証）"
      ],
      "id": "8piauymUgnH3"
    },
    {
      "cell_type": "code",
      "execution_count": null,
      "metadata": {
        "id": "EkNizn5PgnH4"
      },
      "outputs": [],
      "source": [
        "import numpy as np\n",
        "import statsmodels.api as sm\n",
        "from sklearn.linear_model import LinearRegression\n",
        "from sklearn.metrics import mean_squared_error, r2_score\n",
        "from sklearn.model_selection import cross_val_score, LeaveOneOut\n",
        "\n",
        "my_data = sm.datasets.get_rdataset('cars', 'datasets').data\n",
        "X, y = my_data[['speed']], my_data['dist']\n",
        "my_model = LinearRegression().fit(X, y)\n",
        "y_ = my_model.predict(X)"
      ],
      "id": "EkNizn5PgnH4"
    },
    {
      "cell_type": "code",
      "execution_count": null,
      "metadata": {
        "id": "q1amoDpmgnH4"
      },
      "outputs": [],
      "source": [
        "# RMSE（訓練）\n",
        "mean_squared_error(y, y_)**0.5\n",
        "#> 15.068855995791381\n",
        "\n",
        "# 決定係数1（訓練）\n",
        "my_model.score(X, y)\n",
        "# あるいは\n",
        "r2_score(y_true=y, y_pred=y_)\n",
        "#> 0.6510793807582509\n",
        "\n",
        "# 決定係数6（訓練）\n",
        "np.corrcoef(y, y_)[0, 1]**2\n",
        "#> 0.6510793807582511"
      ],
      "id": "q1amoDpmgnH4"
    },
    {
      "cell_type": "code",
      "execution_count": null,
      "metadata": {
        "id": "7otkkn53gnH4"
      },
      "outputs": [],
      "source": [
        "my_scores = cross_val_score(my_model, X, y,\n",
        "                            scoring='neg_root_mean_squared_error')\n",
        "-my_scores.mean()\n",
        "#> 15.301860331378464  # RMSE（検証）\n",
        "\n",
        "my_scores = cross_val_score(my_model, X, y, scoring='r2') # scoring='r2'は省略可\n",
        "my_scores.mean()\n",
        "#> 0.49061365458235245 # 決定係数1（検証）"
      ],
      "id": "7otkkn53gnH4"
    },
    {
      "cell_type": "code",
      "execution_count": null,
      "metadata": {
        "id": "KGMr13yKgnH5"
      },
      "outputs": [],
      "source": [
        "# 方法1\n",
        "my_scores1 = cross_val_score(my_model, X, y, cv=LeaveOneOut(),\n",
        "                             scoring='neg_mean_squared_error')\n",
        "(-my_scores1.mean())**0.5\n",
        "#> 15.697306009399101\n",
        "\n",
        "# 方法2\n",
        "my_scores2 = cross_val_score(my_model, X, y, cv=LeaveOneOut(),\n",
        "                             scoring='neg_root_mean_squared_error')\n",
        "(my_scores2**2).mean()**0.5\n",
        "#> 15.697306009399101"
      ],
      "id": "KGMr13yKgnH5"
    },
    {
      "cell_type": "code",
      "execution_count": null,
      "metadata": {
        "id": "MNqfJsn2gnH5"
      },
      "outputs": [],
      "source": [
        "-my_scores2.mean()\n",
        "#> 12.059178648637483"
      ],
      "id": "MNqfJsn2gnH5"
    },
    {
      "cell_type": "code",
      "execution_count": null,
      "metadata": {
        "id": "9U8qclxegnH5"
      },
      "outputs": [],
      "source": [
        "import pandas as pd\n",
        "import statsmodels.api as sm\n",
        "from sklearn.linear_model import LinearRegression\n",
        "from sklearn.metrics import mean_squared_error\n",
        "from sklearn.model_selection import cross_val_score, LeaveOneOut\n",
        "from sklearn.neighbors import KNeighborsRegressor\n",
        "\n",
        "my_data = sm.datasets.get_rdataset('cars', 'datasets').data\n",
        "X, y = my_data[['speed']], my_data['dist']\n",
        "\n",
        "my_lm_scores = cross_val_score(\n",
        "    LinearRegression(),\n",
        "    X, y, cv=LeaveOneOut(), scoring='neg_mean_squared_error')\n",
        "\n",
        "my_knn_socres = cross_val_score(\n",
        "    KNeighborsRegressor(n_neighbors=5),\n",
        "    X, y, cv=LeaveOneOut(), scoring='neg_mean_squared_error')"
      ],
      "id": "9U8qclxegnH5"
    },
    {
      "cell_type": "code",
      "execution_count": null,
      "metadata": {
        "id": "pqbiSuqGgnH5"
      },
      "outputs": [],
      "source": [
        "(-my_lm_scores.mean())**0.5\n",
        "#> 15.697306009399101 # 線形回帰分析\n",
        "\n",
        "(-my_knn_socres.mean())**0.5\n",
        "#> 16.07308308943869 # K最近傍法"
      ],
      "id": "pqbiSuqGgnH5"
    },
    {
      "cell_type": "code",
      "execution_count": null,
      "metadata": {
        "id": "pRDLlr9pgnH6"
      },
      "outputs": [],
      "source": [
        "my_df = pd.DataFrame({\n",
        "    'lm': -my_lm_scores,\n",
        "    'knn': -my_knn_socres})\n",
        "my_df.head()\n",
        "#>            lm     knn\n",
        "#> 0   18.913720  108.16\n",
        "#> 1  179.215044    0.64\n",
        "#> 2   41.034336   64.00\n",
        "#> 3  168.490212  184.96\n",
        "#> 4    5.085308    0.00"
      ],
      "id": "pRDLlr9pgnH6"
    },
    {
      "cell_type": "code",
      "execution_count": null,
      "metadata": {
        "id": "A4NfRV50gnH6"
      },
      "outputs": [],
      "source": [
        "my_df.boxplot().set_ylabel(\"$r^2$\")"
      ],
      "id": "A4NfRV50gnH6"
    },
    {
      "cell_type": "code",
      "execution_count": null,
      "metadata": {
        "id": "99INAPbQgnH6"
      },
      "outputs": [],
      "source": [
        "from statsmodels.stats.weightstats import DescrStatsW\n",
        "d = DescrStatsW(my_df.lm - my_df.knn)\n",
        "d.ttest_mean()[1] # p値\n",
        "#> 0.6952755720536115\n",
        "\n",
        "d.tconfint_mean(alpha=0.05, alternative='two-sided') # 信頼区間\n",
        "#> (-72.8275283312228, 48.95036023665703)"
      ],
      "id": "99INAPbQgnH6"
    },
    {
      "cell_type": "markdown",
      "source": [
        "## 7.7 パラメータチューニング"
      ],
      "metadata": {
        "id": "93z8iswmgnH7"
      },
      "id": "93z8iswmgnH7"
    },
    {
      "cell_type": "code",
      "execution_count": null,
      "metadata": {
        "id": "rlYgp8VSgnH7"
      },
      "outputs": [],
      "source": [
        "import pandas as pd\n",
        "import statsmodels.api as sm\n",
        "from sklearn.metrics import mean_squared_error\n",
        "from sklearn.model_selection import GridSearchCV, LeaveOneOut\n",
        "from sklearn.neighbors import KNeighborsRegressor\n",
        "\n",
        "my_data = sm.datasets.get_rdataset('cars', 'datasets').data\n",
        "X, y = my_data[['speed']], my_data['dist']\n",
        "\n",
        "my_params = {'n_neighbors': range(1, 16)} # 探索範囲（1以上16未満の整数）\n",
        "\n",
        "my_search = GridSearchCV(estimator=KNeighborsRegressor(),\n",
        "                         param_grid=my_params,\n",
        "                         cv=LeaveOneOut(),\n",
        "                         scoring='neg_mean_squared_error')\n",
        "my_search.fit(X, y)"
      ],
      "id": "rlYgp8VSgnH7"
    },
    {
      "cell_type": "code",
      "execution_count": null,
      "metadata": {
        "id": "tk_ruw1fgnH7"
      },
      "outputs": [],
      "source": [
        "tmp = my_search.cv_results_                # チューニングの詳細\n",
        "my_scores = (-tmp['mean_test_score'])**0.5 # RMSE\n",
        "my_results = pd.DataFrame(tmp['params']).assign(validation=my_scores)"
      ],
      "id": "tk_ruw1fgnH7"
    },
    {
      "cell_type": "code",
      "execution_count": null,
      "metadata": {
        "id": "b14JUG1WgnH7"
      },
      "outputs": [],
      "source": [
        "my_results.head()\n",
        "#>    n_neighbors  validation\n",
        "#> 0            1   20.089798\n",
        "#> 1            2   17.577685\n",
        "#> 2            3   16.348836\n",
        "#> 3            4   16.198804\n",
        "#> 4            5   16.073083"
      ],
      "id": "b14JUG1WgnH7"
    },
    {
      "cell_type": "code",
      "execution_count": null,
      "metadata": {
        "id": "CX8Caj1zgnH8"
      },
      "outputs": [],
      "source": [
        "my_results.plot(x='n_neighbors',\n",
        "                style='o-',\n",
        "                ylabel='RMSE')"
      ],
      "id": "CX8Caj1zgnH8"
    },
    {
      "cell_type": "code",
      "execution_count": null,
      "metadata": {
        "id": "fyA2MRwqgnH8"
      },
      "outputs": [],
      "source": [
        "my_search.best_params_\n",
        "#> {'n_neighbors': 5}"
      ],
      "id": "fyA2MRwqgnH8"
    },
    {
      "cell_type": "code",
      "execution_count": null,
      "metadata": {
        "id": "pDmG6JZygnH8"
      },
      "outputs": [],
      "source": [
        "(-my_search.best_score_)**0.5\n",
        "#> 16.07308308943869"
      ],
      "id": "pDmG6JZygnH8"
    },
    {
      "cell_type": "code",
      "execution_count": null,
      "metadata": {
        "id": "nqyzAdsRgnH8"
      },
      "outputs": [],
      "source": [
        "my_model = my_search.best_estimator_\n",
        "y_ = my_model.predict(X)\n",
        "mean_squared_error(y_, y)**0.5\n",
        "#> 13.087184571174962"
      ],
      "id": "nqyzAdsRgnH8"
    },
    {
      "cell_type": "code",
      "execution_count": null,
      "metadata": {
        "id": "33Qu_4VLgnH8"
      },
      "outputs": [],
      "source": [
        "import pandas as pd\n",
        "import statsmodels.api as sm\n",
        "from sklearn.metrics import mean_squared_error\n",
        "from sklearn.model_selection import cross_val_score, LeaveOneOut\n",
        "from sklearn.neighbors import KNeighborsRegressor\n",
        "\n",
        "my_data = sm.datasets.get_rdataset('cars', 'datasets').data\n",
        "X, y = my_data[['speed']], my_data['dist']\n",
        "\n",
        "def my_loocv(k):\n",
        "    my_model = KNeighborsRegressor(n_neighbors=k)\n",
        "    my_scores = cross_val_score(estimator=my_model, X=X, y=y,\n",
        "                                cv=LeaveOneOut(),\n",
        "                                scoring='neg_mean_squared_error')\n",
        "    y_ = my_model.fit(X, y).predict(X)\n",
        "    return pd.Series([k,\n",
        "                      (-my_scores.mean())**0.5,        # RMSE（検証）\n",
        "                      mean_squared_error(y_, y)**0.5], # RMSE（訓練）\n",
        "                     index=['n_neighbors', 'validation', 'training'])\n",
        "\n",
        "my_results = pd.Series(range(1, 16)).apply(my_loocv)"
      ],
      "id": "33Qu_4VLgnH8"
    },
    {
      "cell_type": "code",
      "execution_count": null,
      "metadata": {
        "id": "t9bJH5s3gnH9"
      },
      "outputs": [],
      "source": [
        "my_results.plot(x='n_neighbors',\n",
        "                style='o-',\n",
        "                ylabel='RMSE')"
      ],
      "id": "t9bJH5s3gnH9"
    },
    {
      "cell_type": "markdown",
      "source": [
        "# 8 回帰2（重回帰）\n",
        "\n",
        "\n"
      ],
      "metadata": {
        "id": "NQPF2jcCgnH9"
      },
      "id": "NQPF2jcCgnH9"
    },
    {
      "cell_type": "markdown",
      "source": [
        "## 8.1 ブドウの生育条件とワインの価格"
      ],
      "metadata": {
        "id": "cBbwzbaegnH9"
      },
      "id": "cBbwzbaegnH9"
    },
    {
      "cell_type": "code",
      "execution_count": null,
      "metadata": {
        "id": "8gRaa7DsgnH9"
      },
      "outputs": [],
      "source": [
        "import pandas as pd\n",
        "my_url = 'http://www.liquidasset.com/winedata.html'\n",
        "tmp = pd.read_table(my_url, skiprows=62, nrows=38, sep='\\\\s+', na_values='.')\n",
        "tmp.describe()\n",
        "#>              OBS         VINT    LPRICE2       WRAIN    DEGREES ...\n",
        "#> count  38.000000    38.000000  27.000000   38.000000  37.000000 ...\n",
        "#> mean   19.500000  1970.500000  -1.451765  605.000000  16.522973 ...\n",
        "# 以下省略"
      ],
      "id": "8gRaa7DsgnH9"
    },
    {
      "cell_type": "code",
      "execution_count": null,
      "metadata": {
        "id": "PVErAa2MgnH-"
      },
      "outputs": [],
      "source": [
        "my_data = tmp.iloc[:, 2:].dropna()\n",
        "my_data.head()\n",
        "#>    LPRICE2  WRAIN  DEGREES ...\n",
        "#> 0 -0.99868    600  17.1167 ...\n",
        "#> 1 -0.45440    690  16.7333 ...\n",
        "#> 3 -0.80796    502  17.1500 ...\n",
        "#> 5 -1.50926    420  16.1333 ...\n",
        "#> 6 -1.71655    582  16.4167 ..."
      ],
      "id": "PVErAa2MgnH-"
    },
    {
      "cell_type": "code",
      "execution_count": null,
      "metadata": {
        "id": "cKzD5D1agnH-"
      },
      "outputs": [],
      "source": [
        "my_data.shape\n",
        "#> (27, 5)"
      ],
      "id": "cKzD5D1agnH-"
    },
    {
      "cell_type": "code",
      "execution_count": null,
      "metadata": {
        "id": "jMeo295AgnH-"
      },
      "outputs": [],
      "source": [
        "my_data.to_csv('wine.csv',\n",
        "               index=False)"
      ],
      "id": "jMeo295AgnH-"
    },
    {
      "cell_type": "code",
      "execution_count": null,
      "metadata": {
        "id": "huLVl2E9gnH-"
      },
      "outputs": [],
      "source": [
        "#my_data = pd.read_csv('wine.csv') # 作ったファイルを使う場合\n",
        "my_url = ('https://raw.githubusercontent.com/taroyabuki'\n",
        "          '/fromzero/master/data/wine.csv')\n",
        "my_data = pd.read_csv(my_url)"
      ],
      "id": "huLVl2E9gnH-"
    },
    {
      "cell_type": "markdown",
      "source": [
        "## 8.2 重回帰分析"
      ],
      "metadata": {
        "id": "c2scy7YpgnH-"
      },
      "id": "c2scy7YpgnH-"
    },
    {
      "cell_type": "code",
      "execution_count": null,
      "metadata": {
        "id": "kwiNo4TsgnH_"
      },
      "outputs": [],
      "source": [
        "import numpy as np\n",
        "import pandas as pd\n",
        "from sklearn.linear_model import LinearRegression\n",
        "from sklearn.metrics import mean_squared_error\n",
        "from sklearn.model_selection import cross_val_score, LeaveOneOut\n",
        "\n",
        "my_url = ('https://raw.githubusercontent.com/taroyabuki'\n",
        "          '/fromzero/master/data/wine.csv')\n",
        "my_data = pd.read_csv(my_url)\n",
        "X, y = my_data.drop(columns=['LPRICE2']), my_data['LPRICE2']\n",
        "\n",
        "my_model = LinearRegression().fit(X, y)"
      ],
      "id": "kwiNo4TsgnH_"
    },
    {
      "cell_type": "code",
      "execution_count": null,
      "metadata": {
        "id": "66nLHONmgnH_"
      },
      "outputs": [],
      "source": [
        "my_model.intercept_\n",
        "#> -12.145333576510417\n",
        "\n",
        "pd.Series(my_model.coef_,\n",
        "          index=X.columns)\n",
        "#> WRAIN      0.001167\n",
        "#> DEGREES    0.616392\n",
        "#> HRAIN     -0.003861\n",
        "#> TIME_SV    0.023847\n",
        "#> dtype: float64"
      ],
      "id": "66nLHONmgnH_"
    },
    {
      "cell_type": "code",
      "execution_count": null,
      "metadata": {
        "id": "dRYGTmOognH_"
      },
      "outputs": [],
      "source": [
        "my_test = [[500, 17, 120, 2]]\n",
        "my_model.predict(my_test)\n",
        "#> array([-1.49884253])"
      ],
      "id": "dRYGTmOognH_"
    },
    {
      "cell_type": "code",
      "execution_count": null,
      "metadata": {
        "id": "HNJeK_L_gnIA"
      },
      "outputs": [],
      "source": [
        "y_ = my_model.predict(X)\n",
        "\n",
        "mean_squared_error(y_, y)**0.5\n",
        "#> 0.2586166620130621 # RMSE（訓練）\n",
        "\n",
        "my_model.score(X, y)\n",
        "#> 0.8275277990052154 # 決定係数1\n",
        "\n",
        "np.corrcoef(y, y_)[0, 1]**2\n",
        "#> 0.8275277990052158 # 決定係数6"
      ],
      "id": "HNJeK_L_gnIA"
    },
    {
      "cell_type": "code",
      "execution_count": null,
      "metadata": {
        "id": "sIlLIjU0gnIA"
      },
      "outputs": [],
      "source": [
        "my_scores = cross_val_score(my_model, X, y,\n",
        "                            cv=LeaveOneOut(),\n",
        "                            scoring='neg_mean_squared_error')\n",
        "(-my_scores.mean())**0.5\n",
        "#> 0.32300426518411957 # RMSE（検証）"
      ],
      "id": "sIlLIjU0gnIA"
    },
    {
      "cell_type": "code",
      "execution_count": null,
      "metadata": {
        "id": "5Xq1WrDggnIA"
      },
      "outputs": [],
      "source": [
        "import numpy as np\n",
        "M = np.matrix(X.assign(b0=1))\n",
        "b = np.linalg.pinv(M) @ y\n",
        "pd.Series(b,\n",
        "    index=list(X.columns) + ['b0'])\n",
        "#> WRAIN       0.001167\n",
        "#> DEGREES     0.616392\n",
        "#> HRAIN      -0.003861\n",
        "#> TIME_SV     0.023847\n",
        "#> b0        -12.145334\n",
        "#> dtype: float64"
      ],
      "id": "5Xq1WrDggnIA"
    },
    {
      "cell_type": "markdown",
      "source": [
        "## 8.3 標準化"
      ],
      "metadata": {
        "id": "TOdrTfBggnIB"
      },
      "id": "TOdrTfBggnIB"
    },
    {
      "cell_type": "code",
      "execution_count": null,
      "metadata": {
        "id": "qqCQ3nI-gnIB"
      },
      "outputs": [],
      "source": [
        "import pandas as pd\n",
        "from sklearn.linear_model import LinearRegression\n",
        "from sklearn.pipeline import Pipeline\n",
        "from sklearn.preprocessing import StandardScaler\n",
        "my_url = ('https://raw.githubusercontent.com/taroyabuki'\n",
        "          '/fromzero/master/data/wine.csv')\n",
        "my_data = pd.read_csv(my_url)\n",
        "X, y = my_data.drop(columns=['LPRICE2']), my_data['LPRICE2']\n",
        "\n",
        "# StandardScalerで標準化した結果をデータフレームに戻してから描画する．\n",
        "pd.DataFrame(StandardScaler().fit_transform(X), columns=X.columns\n",
        "            ).boxplot(showmeans=True)"
      ],
      "id": "qqCQ3nI-gnIB"
    },
    {
      "cell_type": "code",
      "execution_count": null,
      "metadata": {
        "id": "_kuUtVkQgnIB"
      },
      "outputs": [],
      "source": [
        "my_pipeline = Pipeline([\n",
        "    ('sc', StandardScaler()),\n",
        "    ('lr', LinearRegression())])\n",
        "my_pipeline.fit(X, y)"
      ],
      "id": "_kuUtVkQgnIB"
    },
    {
      "cell_type": "code",
      "execution_count": null,
      "metadata": {
        "id": "QWliFzH_gnIB"
      },
      "outputs": [],
      "source": [
        "# 線形回帰の部分だけを取り出す．\n",
        "my_lr = my_pipeline.named_steps.lr\n",
        "my_lr.intercept_\n",
        "#> -1.4517651851851847\n",
        "\n",
        "pd.Series(my_lr.coef_,\n",
        "          index=X.columns)\n",
        "#> WRAIN      0.147741\n",
        "#> DEGREES    0.398724\n",
        "#> HRAIN     -0.276802\n",
        "#> TIME_SV    0.192979\n",
        "#> dtype: float64"
      ],
      "id": "QWliFzH_gnIB"
    },
    {
      "cell_type": "code",
      "execution_count": null,
      "metadata": {
        "id": "FsjMgCnRgnIE"
      },
      "outputs": [],
      "source": [
        "my_test = [[500, 17, 120, 2]]\n",
        "my_pipeline.predict(my_test)\n",
        "#> array([-1.49884253])"
      ],
      "id": "FsjMgCnRgnIE"
    },
    {
      "cell_type": "markdown",
      "source": [
        "## 8.4 入力変数の数とモデルの良さ"
      ],
      "metadata": {
        "id": "PZfv2OBFgnIF"
      },
      "id": "PZfv2OBFgnIF"
    },
    {
      "cell_type": "code",
      "execution_count": null,
      "metadata": {
        "id": "Sar7AQTugnIF"
      },
      "outputs": [],
      "source": [
        "import pandas as pd\n",
        "from sklearn.linear_model import LinearRegression\n",
        "from sklearn.metrics import mean_squared_error\n",
        "from sklearn.model_selection import cross_val_score, LeaveOneOut\n",
        "\n",
        "my_url = ('https://raw.githubusercontent.com/taroyabuki'\n",
        "          '/fromzero/master/data/wine.csv')\n",
        "my_data = pd.read_csv(my_url)\n",
        "\n",
        "n = len(my_data)\n",
        "my_data2 = my_data.assign(v1=[i % 2 for i in range(n)],\n",
        "                          v2=[i % 3 for i in range(n)])\n",
        "my_data2.head()\n",
        "#>    LPRICE2  WRAIN  DEGREES  HRAIN  TIME_SV  v1  v2\n",
        "#> 0 -0.99868    600  17.1167    160       31   0   0\n",
        "#> 1 -0.45440    690  16.7333     80       30   1   1\n",
        "#> 2 -0.80796    502  17.1500    130       28   0   2\n",
        "#> 3 -1.50926    420  16.1333    110       26   1   0\n",
        "#> 4 -1.71655    582  16.4167    187       25   0   1"
      ],
      "id": "Sar7AQTugnIF"
    },
    {
      "cell_type": "code",
      "execution_count": null,
      "metadata": {
        "id": "PeiUZyuLgnIF"
      },
      "outputs": [],
      "source": [
        "X, y = my_data2.drop(columns=['LPRICE2']), my_data2['LPRICE2']\n",
        "my_model2 = LinearRegression().fit(X, y)\n",
        "\n",
        "y_ = my_model2.predict(X)\n",
        "mean_squared_error(y_, y)**0.5\n",
        "#> 0.2562120047505748 # RMSE（訓練）\n",
        "\n",
        "my_scores = cross_val_score(my_model2, X, y,\n",
        "                            cv=LeaveOneOut(),\n",
        "                            scoring='neg_mean_squared_error')\n",
        "(-my_scores.mean())**0.5\n",
        "#> 0.3569918035928941 # RMSE（検証）"
      ],
      "id": "PeiUZyuLgnIF"
    },
    {
      "cell_type": "markdown",
      "source": [
        "## 8.5 変数選択"
      ],
      "metadata": {
        "id": "IpHI5QvOgnIF"
      },
      "id": "IpHI5QvOgnIF"
    },
    {
      "cell_type": "code",
      "execution_count": null,
      "metadata": {
        "id": "p0Utc7yMgnIF"
      },
      "outputs": [],
      "source": [
        "import pandas as pd\n",
        "from sklearn.feature_selection import SequentialFeatureSelector\n",
        "from sklearn.linear_model import LinearRegression\n",
        "from sklearn.model_selection import GridSearchCV, LeaveOneOut\n",
        "from sklearn.pipeline import Pipeline\n",
        "\n",
        "my_url = ('https://raw.githubusercontent.com/taroyabuki'\n",
        "          '/fromzero/master/data/wine.csv')\n",
        "my_data = pd.read_csv(my_url)\n",
        "\n",
        "n = len(my_data)\n",
        "my_data2 = my_data.assign(v1=[i % 2 for i in range(n)],\n",
        "                          v2=[i % 3 for i in range(n)])\n",
        "X, y = my_data2.drop(columns=['LPRICE2']), my_data2['LPRICE2']"
      ],
      "id": "p0Utc7yMgnIF"
    },
    {
      "cell_type": "code",
      "execution_count": null,
      "metadata": {
        "id": "39LxOrjbgnIG"
      },
      "outputs": [],
      "source": [
        "my_sfs = SequentialFeatureSelector(\n",
        "    estimator=LinearRegression(),\n",
        "    direction='forward', # 変数増加法\n",
        "    cv=LeaveOneOut(),\n",
        "    scoring='neg_mean_squared_error')\n",
        "\n",
        "my_pipeline = Pipeline([         # 変数選択の後で再訓練を行うようにする．\n",
        "    ('sfs', my_sfs),             # 変数選択\n",
        "    ('lr', LinearRegression())]) # 回帰分析\n",
        "\n",
        "my_params = {'sfs__n_features_to_select': range(1, 6)} # 選択する変数の上限\n",
        "my_search = GridSearchCV(estimator=my_pipeline,\n",
        "                         param_grid=my_params,\n",
        "                         cv=LeaveOneOut(),\n",
        "                         scoring='neg_mean_squared_error',\n",
        "                         n_jobs=-1).fit(X, y)\n",
        "my_model = my_search.best_estimator_ # 最良のパラメータで再訓練したモデル\n",
        "my_search.best_estimator_.named_steps.sfs.get_support()\n",
        "#> array([ True,  True,  True,  True, False, False])"
      ],
      "id": "39LxOrjbgnIG"
    },
    {
      "cell_type": "markdown",
      "source": [
        "## 8.6 補足：正則化"
      ],
      "metadata": {
        "id": "rnvB-fDlgnIG"
      },
      "id": "rnvB-fDlgnIG"
    },
    {
      "cell_type": "code",
      "execution_count": null,
      "metadata": {
        "id": "qN-qePbggnIG"
      },
      "outputs": [],
      "source": [
        "import numpy as np\n",
        "import pandas as pd\n",
        "import warnings\n",
        "from sklearn.exceptions import ConvergenceWarning\n",
        "from sklearn.linear_model import ElasticNet, enet_path\n",
        "from sklearn.model_selection import GridSearchCV, LeaveOneOut\n",
        "from sklearn.pipeline import Pipeline\n",
        "from sklearn.preprocessing import StandardScaler\n",
        "from scipy.stats import zscore\n",
        "warnings.simplefilter('ignore', ConvergenceWarning) # これ以降，警告を表示しない．\n",
        "\n",
        "my_url = ('https://raw.githubusercontent.com/taroyabuki'\n",
        "          '/fromzero/master/data/wine.csv')\n",
        "my_data = pd.read_csv(my_url)\n",
        "X, y = my_data.drop(columns=['LPRICE2']), my_data['LPRICE2']"
      ],
      "id": "qN-qePbggnIG"
    },
    {
      "cell_type": "code",
      "execution_count": null,
      "metadata": {
        "id": "gHLdlEcngnIG"
      },
      "outputs": [],
      "source": [
        "A = 2\n",
        "B = 0.1\n",
        "\n",
        "my_pipeline = Pipeline([\n",
        "    ('sc', StandardScaler()),\n",
        "    ('enet', ElasticNet(\n",
        "        alpha=A,\n",
        "        l1_ratio=B))])\n",
        "my_pipeline.fit(X, y)"
      ],
      "id": "gHLdlEcngnIG"
    },
    {
      "cell_type": "code",
      "execution_count": null,
      "metadata": {
        "id": "hpo0NRbdgnIH"
      },
      "outputs": [],
      "source": [
        "my_enet = my_pipeline.named_steps.enet\n",
        "my_enet.intercept_\n",
        "#> -1.4517651851851852\n",
        "\n",
        "pd.Series(my_enet.coef_,\n",
        "          index=X.columns)\n",
        "#> WRAIN      0.000000\n",
        "#> DEGREES    0.074101\n",
        "#> HRAIN     -0.041159\n",
        "#> TIME_SV    0.024027\n",
        "#> dtype: float64"
      ],
      "id": "hpo0NRbdgnIH"
    },
    {
      "cell_type": "code",
      "execution_count": null,
      "metadata": {
        "id": "SMYo00LignIH"
      },
      "outputs": [],
      "source": [
        "my_test = pd.DataFrame(\n",
        "    [[500, 17, 120, 2]])\n",
        "my_pipeline.predict(my_test)\n",
        "#> array([-1.41981616])"
      ],
      "id": "SMYo00LignIH"
    },
    {
      "cell_type": "code",
      "execution_count": null,
      "metadata": {
        "id": "Il7KBzwygnIH"
      },
      "outputs": [],
      "source": [
        "As = np.e**np.arange(2, -5.5, -0.1)\n",
        "B = 0.1\n",
        "\n",
        "_, my_path, _ = enet_path(\n",
        "    zscore(X), zscore(y),\n",
        "    alphas=As,\n",
        "    l1_ratio=B)\n",
        "\n",
        "pd.DataFrame(\n",
        "    my_path.T,\n",
        "    columns=X.columns,\n",
        "    index=np.log(As)\n",
        ").plot(\n",
        "    xlabel='log A ( = log alpha)',\n",
        "    ylabel='Coefficients')"
      ],
      "id": "Il7KBzwygnIH"
    },
    {
      "cell_type": "code",
      "execution_count": null,
      "metadata": {
        "id": "pLd5uR3fgnIQ"
      },
      "outputs": [],
      "source": [
        "As = np.linspace(0, 0.1, 21)\n",
        "Bs = np.linspace(0, 0.1,  6)\n",
        "\n",
        "my_pipeline = Pipeline([('sc', StandardScaler()),\n",
        "                        ('enet', ElasticNet())])\n",
        "my_search = GridSearchCV(\n",
        "    estimator=my_pipeline,\n",
        "    param_grid={'enet__alpha': As, 'enet__l1_ratio': Bs},\n",
        "    cv=LeaveOneOut(),\n",
        "    scoring='neg_mean_squared_error',\n",
        "    n_jobs=-1).fit(X, y)\n",
        "my_model = my_search.best_estimator_ # 最良モデル\n",
        "\n",
        "my_search.best_params_               # 最良パラメータ\n",
        "#> {'enet__alpha': 0.075, 'enet__l1_ratio': 0.0}"
      ],
      "id": "pLd5uR3fgnIQ"
    },
    {
      "cell_type": "code",
      "execution_count": null,
      "metadata": {
        "id": "P7Rqs2U4gnIR"
      },
      "outputs": [],
      "source": [
        "tmp = my_search.cv_results_                # チューニングの詳細\n",
        "my_scores = (-tmp['mean_test_score'])**0.5 # RMSE\n",
        "\n",
        "my_results = pd.DataFrame(tmp['params']).assign(RMSE=my_scores).pivot(\n",
        "    index='enet__alpha',\n",
        "    columns='enet__l1_ratio',\n",
        "    values='RMSE')\n",
        "\n",
        "my_results.plot(style='o-', xlabel='A ( = alpha)', ylabel='RMSE').legend(\n",
        "    title='B ( = l1_ratio)')"
      ],
      "id": "P7Rqs2U4gnIR"
    },
    {
      "cell_type": "code",
      "execution_count": null,
      "metadata": {
        "id": "0A3IBHU2gnIR"
      },
      "outputs": [],
      "source": [
        "(-my_search.best_score_)**0.5\n",
        "#> 0.31945619679509646"
      ],
      "id": "0A3IBHU2gnIR"
    },
    {
      "cell_type": "markdown",
      "source": [
        "## 8.7 ニューラルネットワーク"
      ],
      "metadata": {
        "id": "OXOJOy_UgnIR"
      },
      "id": "OXOJOy_UgnIR"
    },
    {
      "cell_type": "code",
      "execution_count": null,
      "metadata": {
        "id": "DoDabwt8gnIR"
      },
      "outputs": [],
      "source": [
        "import matplotlib.pyplot as plt\n",
        "import numpy as np\n",
        "x = np.linspace(-6, 6, 100)\n",
        "y = 1 / (1 + np.exp(-x))\n",
        "plt.plot(x, y)"
      ],
      "id": "DoDabwt8gnIR"
    },
    {
      "cell_type": "code",
      "execution_count": null,
      "metadata": {
        "id": "cKftSM-OgnIS"
      },
      "outputs": [],
      "source": [
        "import pandas as pd\n",
        "import warnings\n",
        "from sklearn.exceptions import ConvergenceWarning\n",
        "from sklearn.neural_network import MLPRegressor\n",
        "from sklearn.model_selection import cross_val_score, GridSearchCV, LeaveOneOut\n",
        "from sklearn.pipeline import Pipeline\n",
        "from sklearn.preprocessing import StandardScaler\n",
        "\n",
        "my_url = ('https://raw.githubusercontent.com/taroyabuki'\n",
        "          '/fromzero/master/data/wine.csv')\n",
        "my_data = pd.read_csv(my_url)\n",
        "X, y = my_data.drop(columns=['LPRICE2']), my_data['LPRICE2']"
      ],
      "id": "cKftSM-OgnIS"
    },
    {
      "cell_type": "code",
      "execution_count": null,
      "metadata": {
        "id": "ryyuo5bsgnIS"
      },
      "outputs": [],
      "source": [
        "warnings.simplefilter(\"ignore\", ConvergenceWarning)  # これ以降，警告を表示しない．\n",
        "my_pipeline = Pipeline([('sc', StandardScaler()),    # 標準化\n",
        "                        ('mlp', MLPRegressor())])    # ニューラルネットワーク\n",
        "my_pipeline.fit(X, y)                                # 訓練\n",
        "\n",
        "my_scores = cross_val_score(my_pipeline, X, y, cv=LeaveOneOut(),\n",
        "                            scoring='neg_mean_squared_error')\n",
        "warnings.simplefilter(\"default\", ConvergenceWarning) # これ以降，警告を表示する．"
      ],
      "id": "ryyuo5bsgnIS"
    },
    {
      "cell_type": "code",
      "execution_count": null,
      "metadata": {
        "id": "HB00uM2NgnIS"
      },
      "outputs": [],
      "source": [
        "(-my_scores.mean())**0.5\n",
        "#> 0.41735891601426384"
      ],
      "id": "HB00uM2NgnIS"
    },
    {
      "cell_type": "code",
      "execution_count": null,
      "metadata": {
        "id": "JoHlcuUJgnIS"
      },
      "outputs": [],
      "source": [
        "my_pipeline = Pipeline([\n",
        "    ('sc', StandardScaler()),\n",
        "    ('mlp', MLPRegressor(tol=1e-5,         # 改善したと見なす基準\n",
        "                         max_iter=5000))]) # 改善しなくなるまでの反復数\n",
        "my_layers = (1, 3, 5,                                         # 隠れ層1層の場合\n",
        "             (1, 1), (3, 1), (5, 1), (1, 2), (3, 2), (5, 2))  # 隠れ層2層の場合\n",
        "my_params = {'mlp__hidden_layer_sizes': my_layers}\n",
        "my_search = GridSearchCV(estimator=my_pipeline,\n",
        "                         param_grid=my_params,\n",
        "                         cv=LeaveOneOut(),\n",
        "                         scoring='neg_mean_squared_error',\n",
        "                         n_jobs=-1).fit(X, y)\n",
        "my_model = my_search.best_estimator_ # 最良モデル\n",
        "\n",
        "my_search.best_params_               # 最良パラメータ\n",
        "#> {'mlp__hidden_layer_sizes': 5}"
      ],
      "id": "JoHlcuUJgnIS"
    },
    {
      "cell_type": "code",
      "execution_count": null,
      "metadata": {
        "id": "7ZtXRX5sgnIT"
      },
      "outputs": [],
      "source": [
        "(-my_search.best_score_)**0.5\n",
        "#> 0.3759690731968538"
      ],
      "id": "7ZtXRX5sgnIT"
    },
    {
      "cell_type": "markdown",
      "source": [
        "# 9 分類1（多値分類）\n",
        "\n",
        "\n"
      ],
      "metadata": {
        "id": "tNqc8U7VgnIT"
      },
      "id": "tNqc8U7VgnIT"
    },
    {
      "cell_type": "markdown",
      "source": [
        "## 9.1 アヤメのデータ"
      ],
      "metadata": {
        "id": "SCMJKA_vgnIT"
      },
      "id": "SCMJKA_vgnIT"
    },
    {
      "cell_type": "code",
      "execution_count": null,
      "metadata": {
        "id": "sz7804HzgnIT"
      },
      "outputs": [],
      "source": [
        "import statsmodels.api as sm\n",
        "my_data = sm.datasets.get_rdataset('iris', 'datasets').data\n",
        "my_data.head()\n",
        "#>    Sepal.Length  Sepal.Width  Petal.Length  Petal.Width Species\n",
        "#> 0           5.1          3.5           1.4          0.2  setosa\n",
        "#> 1           4.9          3.0           1.4          0.2  setosa\n",
        "#> 2           4.7          3.2           1.3          0.2  setosa\n",
        "#> 3           4.6          3.1           1.5          0.2  setosa\n",
        "#> 4           5.0          3.6           1.4          0.2  setosa"
      ],
      "id": "sz7804HzgnIT"
    },
    {
      "cell_type": "code",
      "execution_count": null,
      "metadata": {
        "id": "UXHDrJ3ygnIT"
      },
      "outputs": [],
      "source": [
        "my_data.describe()\n",
        "#>        Sepal.Length  Sepal.Width  Petal.Length  Petal.Width\n",
        "#> count    150.000000   150.000000    150.000000   150.000000\n",
        "#> mean       5.843333     3.057333      3.758000     1.199333\n",
        "# 以下省略"
      ],
      "id": "UXHDrJ3ygnIT"
    },
    {
      "cell_type": "markdown",
      "source": [
        "## 9.2 木による分類"
      ],
      "metadata": {
        "id": "qatMuJ_ggnIT"
      },
      "id": "qatMuJ_ggnIT"
    },
    {
      "cell_type": "code",
      "execution_count": null,
      "metadata": {
        "id": "x6tuoUtHgnIU"
      },
      "outputs": [],
      "source": [
        "import graphviz\n",
        "import pandas as pd\n",
        "import statsmodels.api as sm\n",
        "from sklearn import tree\n",
        "\n",
        "my_data = sm.datasets.get_rdataset('iris', 'datasets').data\n",
        "X, y = my_data.iloc[:, 0:4], my_data.Species\n",
        "\n",
        "my_model = tree.DecisionTreeClassifier(max_depth=2, random_state=0)\n",
        "my_model.fit(X, y)"
      ],
      "id": "x6tuoUtHgnIU"
    },
    {
      "cell_type": "code",
      "execution_count": null,
      "metadata": {
        "id": "ubDHgh_7gnIU"
      },
      "outputs": [],
      "source": [
        "my_dot = tree.export_graphviz(\n",
        "    decision_tree=my_model,\n",
        "    out_file=None,                 # ファイルに出力しない．\n",
        "    feature_names=X.columns,       # 変数名\n",
        "    class_names=my_model.classes_, # カテゴリ名\n",
        "    filled=True)                   # 色を塗る．\n",
        "graphviz.Source(my_dot)"
      ],
      "id": "ubDHgh_7gnIU"
    },
    {
      "cell_type": "code",
      "execution_count": null,
      "metadata": {
        "id": "-TQsKt8pgnIU"
      },
      "outputs": [],
      "source": [
        "my_test = pd.DataFrame([[5.0, 3.5, 1.5, 0.5],\n",
        "                        [6.5, 3.0, 5.0, 2.0]])\n",
        "my_model.predict(my_test)\n",
        "#> array(['setosa', 'virginica'], dtype=object)"
      ],
      "id": "-TQsKt8pgnIU"
    },
    {
      "cell_type": "code",
      "execution_count": null,
      "metadata": {
        "id": "BLPhg2oIgnIU"
      },
      "outputs": [],
      "source": [
        "pd.DataFrame(\n",
        "    my_model.predict_proba(my_test),\n",
        "    columns=my_model.classes_)\n",
        "#>    setosa  versicolor  virginica\n",
        "#> 0     1.0    0.000000   0.000000\n",
        "#> 1     0.0    0.021739   0.978261"
      ],
      "id": "BLPhg2oIgnIU"
    },
    {
      "cell_type": "markdown",
      "source": [
        "## 9.3 正解率"
      ],
      "metadata": {
        "id": "PuvSx4eQgnIU"
      },
      "id": "PuvSx4eQgnIU"
    },
    {
      "cell_type": "code",
      "execution_count": null,
      "metadata": {
        "id": "_pKHSj0YgnIU"
      },
      "outputs": [],
      "source": [
        "import graphviz\n",
        "import pandas as pd\n",
        "import statsmodels.api as sm\n",
        "from sklearn import tree\n",
        "from sklearn.metrics import confusion_matrix\n",
        "from sklearn.model_selection import cross_val_score, GridSearchCV, LeaveOneOut\n",
        "\n",
        "my_data = sm.datasets.get_rdataset('iris', 'datasets').data\n",
        "X, y = my_data.iloc[:, 0:4], my_data.Species\n",
        "\n",
        "my_model = tree.DecisionTreeClassifier(max_depth=2, random_state=0).fit(X, y)\n",
        "y_ = my_model.predict(X)\n",
        "confusion_matrix(y_true=y, y_pred=y_)\n",
        "#> array([[50,  0,  0],\n",
        "#>        [ 0, 49,  1],\n",
        "#>        [ 0,  5, 45]])"
      ],
      "id": "_pKHSj0YgnIU"
    },
    {
      "cell_type": "code",
      "execution_count": null,
      "metadata": {
        "id": "TbM7wPF-gnIV"
      },
      "outputs": [],
      "source": [
        "my_model.score(X, y)\n",
        "# あるいは\n",
        "y_ = my_model.predict(X)\n",
        "(y_ == y).mean()\n",
        "\n",
        "#> 0.96"
      ],
      "id": "TbM7wPF-gnIV"
    },
    {
      "cell_type": "code",
      "execution_count": null,
      "metadata": {
        "id": "noEluCt-gnIV"
      },
      "outputs": [],
      "source": [
        "cross_val_score(my_model, X, y, cv=LeaveOneOut()).mean()\n",
        "#> 0.9533333333333334"
      ],
      "id": "noEluCt-gnIV"
    },
    {
      "cell_type": "code",
      "execution_count": null,
      "metadata": {
        "id": "QH29U4YOgnIV"
      },
      "outputs": [],
      "source": [
        "my_search = GridSearchCV(estimator=tree.DecisionTreeClassifier(random_state=0),\n",
        "                         param_grid={'max_depth': range(1, 11)},\n",
        "                         cv=LeaveOneOut(),\n",
        "                         n_jobs=-1).fit(X, y)\n",
        "my_search.best_params_, my_search.best_score_\n",
        "#> ({'max_depth': 2}, 0.9533333333333334)"
      ],
      "id": "QH29U4YOgnIV"
    },
    {
      "cell_type": "code",
      "execution_count": null,
      "metadata": {
        "id": "FvpsidAOgnIV"
      },
      "outputs": [],
      "source": [
        "my_params = {\n",
        "    'max_depth': range(2, 6),\n",
        "    'min_samples_split': [2, 20],\n",
        "    'min_samples_leaf': range(1, 8)}\n",
        "\n",
        "my_search = GridSearchCV(\n",
        "    estimator=tree.DecisionTreeClassifier(min_impurity_decrease=0.01,\n",
        "                                          random_state=0),\n",
        "    param_grid=my_params,\n",
        "    cv=LeaveOneOut(),\n",
        "    n_jobs=-1).fit(X, y)\n",
        "my_search.best_params_, my_search.best_score_\n",
        "#> ({'max_depth': 3, 'min_samples_leaf': 5, 'min_samples_split': 2},\n",
        "#>  0.9733333333333334)\n",
        "\n",
        "tmp = my_search.cv_results_\n",
        "my_results = pd.DataFrame(tmp['params']).assign(\n",
        "    Accuracy=tmp['mean_test_score'])\n",
        "# 正解率（検証）の最大値\n",
        "my_results[my_results.Accuracy == my_results.Accuracy.max()]\n",
        "#>     max_depth  min_samples_leaf  min_samples_split  Accuracy\n",
        "#> 22          3                 5                  2  0.973333\n",
        "#> 23          3                 5                 20  0.973333\n",
        "#> 36          4                 5                  2  0.973333\n",
        "#> 37          4                 5                 20  0.973333\n",
        "#> 50          5                 5                  2  0.973333\n",
        "#> 51          5                 5                 20  0.973333"
      ],
      "id": "FvpsidAOgnIV"
    },
    {
      "cell_type": "code",
      "execution_count": null,
      "metadata": {
        "id": "hdGbKVb1gnIW"
      },
      "outputs": [],
      "source": [
        "my_model = my_search.best_estimator_\n",
        "my_dot = tree.export_graphviz(\n",
        "    decision_tree=my_model,\n",
        "    out_file=None,\n",
        "    feature_names=X.columns,\n",
        "    class_names=my_model.classes_,\n",
        "    filled=True)\n",
        "graphviz.Source(my_dot)"
      ],
      "id": "hdGbKVb1gnIW"
    },
    {
      "cell_type": "markdown",
      "source": [
        "## 9.4 複数の木を使う方法"
      ],
      "metadata": {
        "id": "wW-i3XN3gnIW"
      },
      "id": "wW-i3XN3gnIW"
    },
    {
      "cell_type": "code",
      "execution_count": null,
      "metadata": {
        "id": "SuHLSABognIW"
      },
      "outputs": [],
      "source": [
        "import pandas as pd\n",
        "import statsmodels.api as sm\n",
        "import warnings\n",
        "import xgboost\n",
        "from sklearn.ensemble import RandomForestClassifier\n",
        "from sklearn.model_selection import GridSearchCV, LeaveOneOut\n",
        "from sklearn.preprocessing import LabelEncoder\n",
        "\n",
        "my_data = sm.datasets.get_rdataset('iris', 'datasets').data\n",
        "X, y = my_data.iloc[:, 0:4], my_data.Species\n",
        "label_encoder = LabelEncoder(); y = label_encoder.fit_transform(y)\n",
        "\n",
        "my_search = GridSearchCV(RandomForestClassifier(),\n",
        "                         param_grid={'max_features': [2, 3, 4]},\n",
        "                         cv=LeaveOneOut(),\n",
        "                         n_jobs=-1).fit(X, y)\n",
        "my_search.best_params_\n",
        "#> {'max_features': 2}\n",
        "\n",
        "my_search.cv_results_['mean_test_score']\n",
        "#> array([0.96      , 0.96      , 0.95333333])"
      ],
      "id": "SuHLSABognIW"
    },
    {
      "cell_type": "code",
      "execution_count": null,
      "metadata": {
        "id": "XyLh7Qr5gnIW"
      },
      "outputs": [],
      "source": [
        "warnings.simplefilter('ignore') # これ以降，警告を表示しない．\n",
        "my_search = GridSearchCV(\n",
        "    xgboost.XGBClassifier(eval_metric='mlogloss'),\n",
        "    param_grid={'n_estimators'    : [50, 100, 150],\n",
        "                'max_depth'       : [1, 2, 3],\n",
        "                'learning_rate'   : [0.3, 0.4],\n",
        "                'gamma'           : [0],\n",
        "                'colsample_bytree': [0.6, 0.8],\n",
        "                'min_child_weight': [1],\n",
        "                'subsample'       : [0.5, 0.75, 1]},\n",
        "    cv=5, # 5分割交差検証\n",
        "    n_jobs=1).fit(X, y) # n_jobs=-1ではない．\n",
        "warnings.simplefilter('default') # これ以降，警告を表示する．\n",
        "\n",
        "my_search.best_params_\n",
        "#> {'colsample_bytree': 0.6,\n",
        "#>  'gamma': 0,\n",
        "#>  'learning_rate': 0.3,\n",
        "#>  'max_depth': 1,\n",
        "#>  'min_child_weight': 1,\n",
        "#>  'n_estimators': 50,\n",
        "#>  'subsample': 0.75}\n",
        "\n",
        "my_search.best_score_\n",
        "#> 0.9666666666666668"
      ],
      "id": "XyLh7Qr5gnIW"
    },
    {
      "cell_type": "code",
      "execution_count": null,
      "metadata": {
        "id": "fn4vamnmgnIW"
      },
      "outputs": [],
      "source": [
        "my_model = RandomForestClassifier().fit(X, y)\n",
        "tmp = pd.Series(my_model.feature_importances_, index=X.columns)\n",
        "tmp.sort_values().plot(kind='barh')"
      ],
      "id": "fn4vamnmgnIW"
    },
    {
      "cell_type": "markdown",
      "source": [
        "## 9.5 欠損のあるデータでの学習"
      ],
      "metadata": {
        "id": "FxGajg_zgnIW"
      },
      "id": "FxGajg_zgnIW"
    },
    {
      "cell_type": "code",
      "execution_count": null,
      "metadata": {
        "id": "3GQ22kiBgnIX"
      },
      "outputs": [],
      "source": [
        "import numpy as np\n",
        "import statsmodels.api as sm\n",
        "import warnings\n",
        "import xgboost\n",
        "from sklearn import tree\n",
        "from sklearn.impute import SimpleImputer\n",
        "from sklearn.model_selection import cross_val_score, LeaveOneOut\n",
        "from sklearn.pipeline import Pipeline\n",
        "\n",
        "my_data = sm.datasets.get_rdataset('iris', 'datasets').data\n",
        "\n",
        "n = len(my_data)\n",
        "my_data['Petal.Length'] = [np.nan if i % 10 == 0 else\n",
        "                           my_data['Petal.Length'][i] for i in range(n)]\n",
        "my_data['Petal.Width']  = [np.nan if i % 10 == 1 else\n",
        "                           my_data['Petal.Width'][i]  for i in range(n)]\n",
        "\n",
        "my_data.describe() # countの値が135の変数に，150-135=15個の欠損がある．\n",
        "#>        Sepal.Length  Sepal.Width  Petal.Length  Petal.Width\n",
        "#> count    150.000000   150.000000    135.000000   135.000000\n",
        "#> mean       5.843333     3.057333      3.751852     1.197037\n",
        "# 以下省略\n",
        "\n",
        "X, y = my_data.iloc[:, 0:4], my_data.Species"
      ],
      "id": "3GQ22kiBgnIX"
    },
    {
      "cell_type": "code",
      "execution_count": null,
      "metadata": {
        "id": "GQLkTZ9bgnIX"
      },
      "outputs": [],
      "source": [
        "my_pipeline = Pipeline([\n",
        "    ('imputer', SimpleImputer(strategy='median')), # 欠損を中央値で埋める．\n",
        "    ('tree', tree.DecisionTreeClassifier(random_state=0))])\n",
        "my_scores = cross_val_score(my_pipeline, X, y, cv=LeaveOneOut(), n_jobs=-1)\n",
        "my_scores.mean()\n",
        "#> 0.9333333333333333"
      ],
      "id": "GQLkTZ9bgnIX"
    },
    {
      "cell_type": "code",
      "execution_count": null,
      "metadata": {
        "id": "6L7vwURBgnIX"
      },
      "outputs": [],
      "source": [
        "from sklearn.preprocessing import LabelEncoder\n",
        "label_encoder = LabelEncoder()\n",
        "y = label_encoder.fit_transform(y)\n",
        "\n",
        "warnings.simplefilter('ignore')  # これ以降，警告を表示しない．\n",
        "my_scores = cross_val_score(\n",
        "    xgboost.XGBClassifier(eval_metric='mlogloss'), X, y, cv=5)\n",
        "warnings.simplefilter('default') # これ以降，警告を表示する．\n",
        "\n",
        "my_scores.mean()\n",
        "#> 0.9666666666666668"
      ],
      "id": "6L7vwURBgnIX"
    },
    {
      "cell_type": "markdown",
      "source": [
        "## 9.6 他の分類手法"
      ],
      "metadata": {
        "id": "jdHvTm8RgnIX"
      },
      "id": "jdHvTm8RgnIX"
    },
    {
      "cell_type": "code",
      "execution_count": null,
      "metadata": {
        "id": "sMSldQ9ggnIY"
      },
      "outputs": [],
      "source": [
        "import statsmodels.api as sm\n",
        "from sklearn.model_selection import cross_val_score, LeaveOneOut\n",
        "from sklearn.neighbors import KNeighborsClassifier\n",
        "\n",
        "my_data = sm.datasets.get_rdataset('iris', 'datasets').data\n",
        "X, y = my_data.iloc[:, 0:4], my_data.Species\n",
        "\n",
        "my_scores = cross_val_score(KNeighborsClassifier(), X, y, cv=LeaveOneOut())\n",
        "my_scores.mean()\n",
        "#> 0.9666666666666667"
      ],
      "id": "sMSldQ9ggnIY"
    },
    {
      "cell_type": "code",
      "execution_count": null,
      "metadata": {
        "id": "GQJ30EkIgnIY"
      },
      "outputs": [],
      "source": [
        "import statsmodels.api as sm\n",
        "from sklearn.model_selection import cross_val_score, LeaveOneOut\n",
        "from sklearn.neural_network import MLPClassifier\n",
        "from sklearn.pipeline import Pipeline\n",
        "from sklearn.preprocessing import StandardScaler\n",
        "\n",
        "my_data = sm.datasets.get_rdataset('iris', 'datasets').data\n",
        "X, y = my_data.iloc[:, 0:4], my_data.Species\n",
        "\n",
        "my_pipeline = Pipeline([('sc',  StandardScaler()),              # 標準化\n",
        "                        ('mlp', MLPClassifier(max_iter=1000))]) # ニューラルネットワーク\n",
        "my_scores = cross_val_score(my_pipeline, X, y, cv=LeaveOneOut(), n_jobs=-1)\n",
        "my_scores.mean()\n",
        "#> 0.9533333333333334"
      ],
      "id": "GQJ30EkIgnIY"
    },
    {
      "cell_type": "markdown",
      "source": [
        "# 10 分類2（2値分類）\n",
        "\n",
        "\n"
      ],
      "metadata": {
        "id": "x7CLJvYWgnIY"
      },
      "id": "x7CLJvYWgnIY"
    },
    {
      "cell_type": "markdown",
      "source": [
        "## 10.1 2値分類の性能指標"
      ],
      "metadata": {
        "id": "-BFebC2jgnIY"
      },
      "id": "-BFebC2jgnIY"
    },
    {
      "cell_type": "code",
      "execution_count": null,
      "metadata": {
        "id": "vLmEzcf1gnIY"
      },
      "outputs": [],
      "source": [
        "import numpy as np\n",
        "from sklearn.metrics import classification_report, confusion_matrix\n",
        "\n",
        "y       = np.array([  0,   1,   1,   0,   1,   0,    1,   0,   0,   1])\n",
        "y_score = np.array([0.7, 0.8, 0.3, 0.4, 0.9, 0.6, 0.99, 0.1, 0.2, 0.5])"
      ],
      "id": "vLmEzcf1gnIY"
    },
    {
      "cell_type": "code",
      "execution_count": null,
      "metadata": {
        "id": "inRrlCQignIY"
      },
      "outputs": [],
      "source": [
        "y_ = np.array([1 if 0.5 <= p else 0 for p in y_score])\n",
        "y_\n",
        "#> array([1, 1, 0, 0, 1, 1, 1, 0, 0, 1])"
      ],
      "id": "inRrlCQignIY"
    },
    {
      "cell_type": "code",
      "execution_count": null,
      "metadata": {
        "id": "ecR2gW4HgnIZ"
      },
      "outputs": [],
      "source": [
        "confusion_matrix(y_true=y, y_pred=y_)\n",
        "#> array([[3, 2],\n",
        "#>        [1, 4]])\n",
        "\n",
        "print(classification_report(y_true=y, y_pred=y_))\n",
        "#>               precision    recall  f1-score   support\n",
        "#>\n",
        "#>            0       0.75      0.60      0.67         5\n",
        "#>            1       0.67      0.80      0.73         5\n",
        "#>\n",
        "#>     accuracy                           0.70        10\n",
        "#>    macro avg       0.71      0.70      0.70        10\n",
        "#> weighted avg       0.71      0.70      0.70        10"
      ],
      "id": "ecR2gW4HgnIZ"
    },
    {
      "cell_type": "markdown",
      "source": [
        "## 10.2 トレードオフ"
      ],
      "metadata": {
        "id": "ORZjE4oRgnIZ"
      },
      "id": "ORZjE4oRgnIZ"
    },
    {
      "cell_type": "code",
      "execution_count": null,
      "metadata": {
        "id": "BlaDHT2SgnIZ"
      },
      "outputs": [],
      "source": [
        "import numpy as np\n",
        "from sklearn.metrics import (roc_curve, RocCurveDisplay,\n",
        "    precision_recall_curve, PrecisionRecallDisplay, auc)\n",
        "\n",
        "y       = np.array([  0,   1,   1,   0,   1,   0,    1,   0,   0,   1])\n",
        "y_score = np.array([0.7, 0.8, 0.3, 0.4, 0.9, 0.6, 0.99, 0.1, 0.2, 0.5])\n",
        "y_      = np.array([1 if 0.5 <= p else 0 for p in y_score])\n",
        "\n",
        "[sum((y == 0) & (y_ == 1)) / sum(y == 0), # FPR\n",
        " sum((y == 1) & (y_ == 1)) / sum(y == 1)] # TPR\n",
        "#> [0.4, 0.8]"
      ],
      "id": "BlaDHT2SgnIZ"
    },
    {
      "cell_type": "code",
      "execution_count": null,
      "metadata": {
        "id": "yKd4GwYTgnIZ"
      },
      "outputs": [],
      "source": [
        "my_fpr, my_tpr, _ = roc_curve(y_true=y,\n",
        "                              y_score=y_score,\n",
        "                              pos_label=1) # 1が陽性である．\n",
        "RocCurveDisplay(fpr=my_fpr, tpr=my_tpr).plot()"
      ],
      "id": "yKd4GwYTgnIZ"
    },
    {
      "cell_type": "code",
      "execution_count": null,
      "metadata": {
        "id": "_WgGt5H1gnIZ"
      },
      "outputs": [],
      "source": [
        "auc(x=my_fpr, y=my_tpr)\n",
        "#> 0.8"
      ],
      "id": "_WgGt5H1gnIZ"
    },
    {
      "cell_type": "code",
      "execution_count": null,
      "metadata": {
        "id": "78JGBWaXgnIZ"
      },
      "outputs": [],
      "source": [
        "[sum((y == 1) & (y_ == 1)) / sum(y  == 1), # Recall == TPR\n",
        " sum((y == 1) & (y_ == 1)) / sum(y_ == 1)] # Precision\n",
        "#> [0.8, 0.6666666666666666]"
      ],
      "id": "78JGBWaXgnIZ"
    },
    {
      "cell_type": "code",
      "execution_count": null,
      "metadata": {
        "id": "ytN-vEvPgnIa"
      },
      "outputs": [],
      "source": [
        "my_precision, my_recall, _ = precision_recall_curve(y_true=y,\n",
        "                                                    probas_pred=y_score,\n",
        "                                                    pos_label=1)\n",
        "PrecisionRecallDisplay(precision=my_precision, recall=my_recall).plot()"
      ],
      "id": "ytN-vEvPgnIa"
    },
    {
      "cell_type": "code",
      "execution_count": null,
      "metadata": {
        "id": "PYEhT8UjgnIa"
      },
      "outputs": [],
      "source": [
        "auc(x=my_recall, y=my_precision)\n",
        "#> 0.8463095238095237"
      ],
      "id": "PYEhT8UjgnIa"
    },
    {
      "cell_type": "markdown",
      "source": [
        "## 10.3 タイタニック"
      ],
      "metadata": {
        "id": "dTswXuA_gnIa"
      },
      "id": "dTswXuA_gnIa"
    },
    {
      "cell_type": "code",
      "execution_count": null,
      "metadata": {
        "id": "6xXjtm15gnIb"
      },
      "outputs": [],
      "source": [
        "import graphviz\n",
        "import pandas as pd\n",
        "from sklearn import tree\n",
        "from sklearn.metrics import roc_curve, RocCurveDisplay, auc\n",
        "from sklearn.model_selection import cross_val_score, LeaveOneOut\n",
        "from sklearn.pipeline import Pipeline\n",
        "from sklearn.preprocessing import OneHotEncoder\n",
        "\n",
        "my_url = ('https://raw.githubusercontent.com/taroyabuki'\n",
        "          '/fromzero/master/data/titanic.csv')\n",
        "my_data = pd.read_csv(my_url)"
      ],
      "id": "6xXjtm15gnIb"
    },
    {
      "cell_type": "code",
      "execution_count": null,
      "metadata": {
        "id": "1SDCWarugnIb"
      },
      "outputs": [],
      "source": [
        "my_data.head()\n",
        "#>   Class   Sex    Age Survived\n",
        "#> 0   1st  Male  Child      Yes\n",
        "#> 1   1st  Male  Child      Yes\n",
        "#> 2   1st  Male  Child      Yes\n",
        "#> 3   1st  Male  Child      Yes\n",
        "#> 4   1st  Male  Child      Yes"
      ],
      "id": "1SDCWarugnIb"
    },
    {
      "cell_type": "code",
      "execution_count": null,
      "metadata": {
        "id": "p7UgP2k4gnIb"
      },
      "outputs": [],
      "source": [
        "X, y = my_data.iloc[:, 0:3], my_data.Survived\n",
        "\n",
        "my_pipeline = Pipeline([\n",
        "    ('ohe', OneHotEncoder(drop='first')),\n",
        "    ('tree', tree.DecisionTreeClassifier(max_depth=2, random_state=0,\n",
        "                                         min_impurity_decrease=0.01))])\n",
        "my_pipeline.fit(X, y)"
      ],
      "id": "p7UgP2k4gnIb"
    },
    {
      "cell_type": "code",
      "execution_count": null,
      "metadata": {
        "id": "NePkmHWkgnIc"
      },
      "outputs": [],
      "source": [
        "my_enc  = my_pipeline.named_steps['ohe']  # パイプラインからエンコーダを取り出す．\n",
        "my_tree = my_pipeline.named_steps['tree'] # パイプラインから木を取り出す．\n",
        "\n",
        "my_dot = tree.export_graphviz(\n",
        "    decision_tree=my_tree,\n",
        "    out_file=None,\n",
        "    feature_names=my_enc.get_feature_names() \\\n",
        "    if hasattr(my_enc, 'get_feature_names') else my_enc.get_feature_names_out(),\n",
        "    class_names=my_pipeline.classes_,\n",
        "    filled=True)\n",
        "graphviz.Source(my_dot)"
      ],
      "id": "NePkmHWkgnIc"
    },
    {
      "cell_type": "code",
      "execution_count": null,
      "metadata": {
        "id": "OTrzRivGgnIc"
      },
      "outputs": [],
      "source": [
        "my_scores = cross_val_score(\n",
        "    my_pipeline, X, y,\n",
        "    cv=LeaveOneOut(),\n",
        "    n_jobs=-1)\n",
        "my_scores.mean()\n",
        "#> 0.7832803271240345"
      ],
      "id": "OTrzRivGgnIc"
    },
    {
      "cell_type": "code",
      "execution_count": null,
      "metadata": {
        "id": "QraJShGrgnIc"
      },
      "outputs": [],
      "source": [
        "tmp = pd.DataFrame(\n",
        "    my_pipeline.predict_proba(X),\n",
        "    columns=my_pipeline.classes_)\n",
        "y_score = tmp.Yes\n",
        "\n",
        "my_fpr, my_tpr, _ = roc_curve(y_true=y,\n",
        "                              y_score=y_score,\n",
        "                              pos_label='Yes')\n",
        "my_auc = auc(x=my_fpr, y=my_tpr)\n",
        "my_auc\n",
        "#> 0.7114886868858494\n",
        "\n",
        "RocCurveDisplay(fpr=my_fpr, tpr=my_tpr, roc_auc=my_auc).plot()"
      ],
      "id": "QraJShGrgnIc"
    },
    {
      "cell_type": "markdown",
      "source": [
        "## 10.4 ロジスティック回帰"
      ],
      "metadata": {
        "id": "CTzsPYB_gnIc"
      },
      "id": "CTzsPYB_gnIc"
    },
    {
      "cell_type": "code",
      "execution_count": null,
      "metadata": {
        "id": "6PJhilgdgnIc"
      },
      "outputs": [],
      "source": [
        "import matplotlib.pyplot as plt\n",
        "import numpy as np\n",
        "\n",
        "x = np.arange(-6, 6, 0.1)\n",
        "y = 1 / (1 + np.exp(-x))\n",
        "plt.plot(x, y)"
      ],
      "id": "6PJhilgdgnIc"
    },
    {
      "cell_type": "code",
      "execution_count": null,
      "metadata": {
        "id": "GThn5sqLgnId"
      },
      "outputs": [],
      "source": [
        "import pandas as pd\n",
        "from sklearn.linear_model import LogisticRegression\n",
        "from sklearn.model_selection import cross_val_score, LeaveOneOut\n",
        "from sklearn.pipeline import Pipeline\n",
        "from sklearn.preprocessing import OneHotEncoder\n",
        "\n",
        "my_url = ('https://raw.githubusercontent.com/taroyabuki'\n",
        "          '/fromzero/master/data/titanic.csv')\n",
        "my_data = pd.read_csv(my_url)\n",
        "\n",
        "X, y = my_data.iloc[:, 0:3], my_data.Survived\n",
        "\n",
        "my_pipeline = Pipeline([('ohe', OneHotEncoder(drop='first')),\n",
        "                        ('lr', LogisticRegression(penalty='none'))])\n",
        "my_pipeline.fit(X, y)"
      ],
      "id": "GThn5sqLgnId"
    },
    {
      "cell_type": "code",
      "execution_count": null,
      "metadata": {
        "id": "q6gLm2z7gnId"
      },
      "outputs": [],
      "source": [
        "my_ohe = my_pipeline.named_steps.ohe\n",
        "my_lr  = my_pipeline.named_steps.lr\n",
        "\n",
        "my_lr.intercept_[0]\n",
        "#> 2.043878162056783\n",
        "\n",
        "tmp = my_ohe.get_feature_names() \\\n",
        "if hasattr(my_ohe, 'get_feature_names') \\\n",
        "else my_ohe.get_feature_names_out()\n",
        "pd.Series(my_lr.coef_[0],\n",
        "          index=tmp)\n",
        "#> x0_2nd     -1.018069\n",
        "#> x0_3rd     -1.777746\n",
        "#> x0_Crew    -0.857708\n",
        "#> x1_Male    -2.420090\n",
        "#> x2_Child    1.061531\n",
        "#> dtype: float64"
      ],
      "id": "q6gLm2z7gnId"
    },
    {
      "cell_type": "code",
      "execution_count": null,
      "metadata": {
        "id": "RnFFLMQegnId"
      },
      "outputs": [],
      "source": [
        "my_scores = cross_val_score(\n",
        "    my_pipeline, X, y,\n",
        "    cv=LeaveOneOut(),\n",
        "    n_jobs=-1)\n",
        "my_scores.mean()\n",
        "#> 0.7782825988187188"
      ],
      "id": "RnFFLMQegnId"
    },
    {
      "cell_type": "markdown",
      "source": [
        "# 11 深層学習とAutoML\n",
        "\n",
        "\n"
      ],
      "metadata": {
        "id": "w4_PafpagnId"
      },
      "id": "w4_PafpagnId"
    },
    {
      "cell_type": "markdown",
      "source": [
        "## 11.1 Kerasによる回帰"
      ],
      "metadata": {
        "id": "p_UENZTMgnId"
      },
      "id": "p_UENZTMgnId"
    },
    {
      "cell_type": "code",
      "execution_count": null,
      "metadata": {
        "id": "l5TyWw_PgnId"
      },
      "outputs": [],
      "source": [
        "import matplotlib.pyplot as plt\n",
        "import numpy as np\n",
        "import pandas as pd\n",
        "from keras import activations, callbacks, layers, models\n",
        "from sklearn.preprocessing import StandardScaler\n",
        "from sklearn.utils import shuffle\n",
        "\n",
        "my_url = ('https://raw.githubusercontent.com/taroyabuki'\n",
        "          '/fromzero/master/data/wine.csv')\n",
        "tmp = pd.read_csv(my_url)"
      ],
      "id": "l5TyWw_PgnId"
    },
    {
      "cell_type": "code",
      "execution_count": null,
      "metadata": {
        "id": "AIHCoJbegnIe"
      },
      "outputs": [],
      "source": [
        "my_data = shuffle(tmp)"
      ],
      "id": "AIHCoJbegnIe"
    },
    {
      "cell_type": "code",
      "execution_count": null,
      "metadata": {
        "id": "e5FpbBphgnIe"
      },
      "outputs": [],
      "source": [
        "my_scaler = StandardScaler()\n",
        "X = my_scaler.fit_transform(\n",
        "    my_data.drop(columns=['LPRICE2']))\n",
        "y = my_data['LPRICE2']"
      ],
      "id": "e5FpbBphgnIe"
    },
    {
      "cell_type": "code",
      "execution_count": null,
      "metadata": {
        "id": "062X7b-cgnIe"
      },
      "outputs": [],
      "source": [
        "x = np.linspace(-3, 3, 100)\n",
        "plt.plot(x, activations.relu(x))\n",
        "plt.xlabel('x')\n",
        "plt.ylabel('ReLU(x)')"
      ],
      "id": "062X7b-cgnIe"
    },
    {
      "cell_type": "code",
      "execution_count": null,
      "metadata": {
        "id": "2tcHTLANgnIe"
      },
      "outputs": [],
      "source": [
        "my_model = models.Sequential()\n",
        "my_model.add(layers.Dense(units=3, activation='relu', input_shape=[4]))\n",
        "my_model.add(layers.Dense(units=1))\n",
        "\n",
        "my_model.summary() # ネットワークの概要\n",
        "#> Model: \"sequential\"\n",
        "#> _________________________________________________________________\n",
        "#> Layer (type)                 Output Shape              Param #\n",
        "#> =================================================================\n",
        "#> dense (Dense)                (None, 3)                 15\n",
        "#> _________________________________________________________________\n",
        "#> dense_1 (Dense)              (None, 1)                 4\n",
        "#> =================================================================\n",
        "#> Total params: 19\n",
        "#> Trainable params: 19\n",
        "#> Non-trainable params: 0"
      ],
      "id": "2tcHTLANgnIe"
    },
    {
      "cell_type": "code",
      "execution_count": null,
      "metadata": {
        "id": "TW3lWCabgnIe"
      },
      "outputs": [],
      "source": [
        "my_model.compile(\n",
        "    loss='mse',\n",
        "    optimizer='rmsprop')"
      ],
      "id": "TW3lWCabgnIe"
    },
    {
      "cell_type": "code",
      "execution_count": null,
      "metadata": {
        "id": "aKHA3l7dgnIf"
      },
      "outputs": [],
      "source": [
        "my_cb = callbacks.EarlyStopping(\n",
        "    patience=20,\n",
        "    restore_best_weights=True)"
      ],
      "id": "aKHA3l7dgnIf"
    },
    {
      "cell_type": "code",
      "execution_count": null,
      "metadata": {
        "id": "XJCdGg29gnIf"
      },
      "outputs": [],
      "source": [
        "my_history = my_model.fit(\n",
        "    x=X,\n",
        "    y=y,\n",
        "    validation_split=0.25,\n",
        "    batch_size=10,\n",
        "    epochs=500,\n",
        "    callbacks=[my_cb],\n",
        "    verbose=0)"
      ],
      "id": "XJCdGg29gnIf"
    },
    {
      "cell_type": "code",
      "execution_count": null,
      "metadata": {
        "id": "RAR34jpignIf"
      },
      "outputs": [],
      "source": [
        "tmp = pd.DataFrame(my_history.history)\n",
        "tmp.plot(xlabel='epoch')"
      ],
      "id": "RAR34jpignIf"
    },
    {
      "cell_type": "code",
      "execution_count": null,
      "metadata": {
        "id": "PHTSsod7gnIf"
      },
      "outputs": [],
      "source": [
        "tmp.iloc[-1, ]\n",
        "#> loss        0.192743\n",
        "#> val_loss    0.342249\n",
        "#> Name: 499, dtype: float64"
      ],
      "id": "PHTSsod7gnIf"
    },
    {
      "cell_type": "code",
      "execution_count": null,
      "metadata": {
        "id": "DuGX0_V1gnIf"
      },
      "outputs": [],
      "source": [
        "y_ = my_model.predict(X)\n",
        "((y_.ravel() - y)**2).mean()\n",
        "#> 0.23050613964540986"
      ],
      "id": "DuGX0_V1gnIf"
    },
    {
      "cell_type": "markdown",
      "source": [
        "## 11.2 Kerasによる分類"
      ],
      "metadata": {
        "id": "4dqkIzfngnIf"
      },
      "id": "4dqkIzfngnIf"
    },
    {
      "cell_type": "code",
      "execution_count": null,
      "metadata": {
        "id": "FBrL0-ftgnIf"
      },
      "outputs": [],
      "source": [
        "import numpy as np\n",
        "import pandas as pd\n",
        "import statsmodels.api as sm\n",
        "from keras import callbacks, layers, losses, models\n",
        "from sklearn.preprocessing import StandardScaler, LabelEncoder\n",
        "from sklearn.utils import shuffle\n",
        "\n",
        "tmp = sm.datasets.get_rdataset('iris', 'datasets').data\n",
        "my_data = shuffle(tmp)"
      ],
      "id": "FBrL0-ftgnIf"
    },
    {
      "cell_type": "code",
      "execution_count": null,
      "metadata": {
        "id": "L1qKoHadgnIg"
      },
      "outputs": [],
      "source": [
        "my_scaler = StandardScaler()\n",
        "X = my_scaler.fit_transform(\n",
        "    my_data.drop(columns=['Species']))\n",
        "my_enc = LabelEncoder()\n",
        "y = my_enc.fit_transform(\n",
        "    my_data['Species'])"
      ],
      "id": "L1qKoHadgnIg"
    },
    {
      "cell_type": "code",
      "execution_count": null,
      "metadata": {
        "id": "kTZvV59qgnIg"
      },
      "outputs": [],
      "source": [
        "my_model = models.Sequential()\n",
        "my_model.add(layers.Dense(units=3, activation='relu', input_shape=[4]))\n",
        "my_model.add(layers.Dense(units=3, activation='softmax'))"
      ],
      "id": "kTZvV59qgnIg"
    },
    {
      "cell_type": "code",
      "execution_count": null,
      "metadata": {
        "id": "e7x-KyzqgnIg"
      },
      "outputs": [],
      "source": [
        "my_model.compile(loss='sparse_categorical_crossentropy',\n",
        "                 optimizer='rmsprop',\n",
        "                 metrics=['accuracy'])"
      ],
      "id": "e7x-KyzqgnIg"
    },
    {
      "cell_type": "code",
      "execution_count": null,
      "metadata": {
        "id": "nSEbcJHmgnIg"
      },
      "outputs": [],
      "source": [
        "my_cb = callbacks.EarlyStopping(\n",
        "    patience=20,\n",
        "    restore_best_weights=True)\n",
        "\n",
        "my_history = my_model.fit(\n",
        "    x=X,\n",
        "    y=y,\n",
        "    validation_split=0.25,\n",
        "    batch_size=10,\n",
        "    epochs=500,\n",
        "    callbacks=[my_cb],\n",
        "    verbose=0)\n",
        "\n",
        "tmp = pd.DataFrame(my_history.history)\n",
        "tmp.plot(xlabel='epoch')"
      ],
      "id": "nSEbcJHmgnIg"
    },
    {
      "cell_type": "code",
      "execution_count": null,
      "metadata": {
        "id": "iduenBj_gnIh"
      },
      "outputs": [],
      "source": [
        "tmp.iloc[-1, ]\n",
        "#> loss            0.067497\n",
        "#> accuracy        0.973214\n",
        "#> val_loss        0.143529\n",
        "#> val_accuracy    0.921053"
      ],
      "id": "iduenBj_gnIh"
    },
    {
      "cell_type": "code",
      "execution_count": null,
      "metadata": {
        "id": "RQb5vPnOgnIh"
      },
      "outputs": [],
      "source": [
        "tmp = my_model.predict(X)\n",
        "y_ = np.argmax(tmp, axis=-1)\n",
        "(y_ == y).mean()\n",
        "#> 0.96"
      ],
      "id": "RQb5vPnOgnIh"
    },
    {
      "cell_type": "code",
      "execution_count": null,
      "metadata": {
        "id": "LaDJ-aVbgnIh"
      },
      "outputs": [],
      "source": [
        "-np.log([0.8, 0.7, 0.3, 0.8]).mean()\n",
        "#> 0.5017337127232719\n",
        "\n",
        "-np.log([0.7, 0.6, 0.2, 0.7]).mean()\n",
        "#> 0.708403356019389"
      ],
      "id": "LaDJ-aVbgnIh"
    },
    {
      "cell_type": "code",
      "execution_count": null,
      "metadata": {
        "id": "VCp5jaEygnIh"
      },
      "outputs": [],
      "source": [
        "y = [2, 1, 0, 1]\n",
        "y_1 = [[0.1, 0.1, 0.8],\n",
        "       [0.1, 0.7, 0.2],\n",
        "       [0.3, 0.4, 0.3],\n",
        "       [0.1, 0.8, 0.1]]\n",
        "y_2 = [[0.1, 0.2, 0.7],\n",
        "       [0.2, 0.6, 0.2],\n",
        "       [0.2, 0.5, 0.3],\n",
        "       [0.2, 0.7, 0.1]]"
      ],
      "id": "VCp5jaEygnIh"
    },
    {
      "cell_type": "code",
      "execution_count": null,
      "metadata": {
        "id": "LxkPwXIlgnIh"
      },
      "outputs": [],
      "source": [
        "[losses.sparse_categorical_crossentropy(y_true=y, y_pred=y_1).numpy().mean(),\n",
        " losses.sparse_categorical_crossentropy(y_true=y, y_pred=y_2).numpy().mean()]\n",
        "#> [0.5017337, 0.70840335]"
      ],
      "id": "LxkPwXIlgnIh"
    },
    {
      "cell_type": "markdown",
      "source": [
        "## 11.3 MNIST：手書き数字の分類"
      ],
      "metadata": {
        "id": "uweB2SATgnIi"
      },
      "id": "uweB2SATgnIi"
    },
    {
      "cell_type": "code",
      "execution_count": null,
      "metadata": {
        "id": "sJkQgs2pgnIi"
      },
      "outputs": [],
      "source": [
        "import matplotlib.pyplot as plt\n",
        "import numpy as np\n",
        "import pandas as pd\n",
        "import tensorflow as tf\n",
        "from random import sample\n",
        "from keras import callbacks, layers, models\n",
        "from sklearn.metrics import confusion_matrix\n",
        "\n",
        "(x_train, y_train), (x_test, y_test) = tf.keras.datasets.mnist.load_data()"
      ],
      "id": "sJkQgs2pgnIi"
    },
    {
      "cell_type": "code",
      "execution_count": null,
      "metadata": {
        "id": "SFGuqzDVgnIi"
      },
      "outputs": [],
      "source": [
        "x_train.shape\n",
        "#> (60000, 28, 28)"
      ],
      "id": "SFGuqzDVgnIi"
    },
    {
      "cell_type": "code",
      "execution_count": null,
      "metadata": {
        "id": "_rH4kd9DgnIi"
      },
      "outputs": [],
      "source": [
        "np.set_printoptions(linewidth=170)\n",
        "x_train[4, :, :]"
      ],
      "id": "_rH4kd9DgnIi"
    },
    {
      "cell_type": "code",
      "execution_count": null,
      "metadata": {
        "id": "RP7rN-XwgnIi"
      },
      "outputs": [],
      "source": [
        "plt.matshow(x_train[4, :, :])"
      ],
      "id": "RP7rN-XwgnIi"
    },
    {
      "cell_type": "code",
      "execution_count": null,
      "metadata": {
        "id": "9MB-55J1gnIi"
      },
      "outputs": [],
      "source": [
        "y_train\n",
        "#> array([5, 0, 4, ..., 5, 6, 8],\n",
        "#>       dtype=uint8)"
      ],
      "id": "9MB-55J1gnIi"
    },
    {
      "cell_type": "code",
      "execution_count": null,
      "metadata": {
        "id": "hdt76jLygnIj"
      },
      "outputs": [],
      "source": [
        "x_train.min(), x_train.max()\n",
        "#> (0, 255)"
      ],
      "id": "hdt76jLygnIj"
    },
    {
      "cell_type": "code",
      "execution_count": null,
      "metadata": {
        "id": "IIxK25xUgnIj"
      },
      "outputs": [],
      "source": [
        "x_train = x_train / 255\n",
        "x_test  = x_test  / 255"
      ],
      "id": "IIxK25xUgnIj"
    },
    {
      "cell_type": "code",
      "execution_count": null,
      "metadata": {
        "id": "WicXZocKgnIj"
      },
      "outputs": [],
      "source": [
        "my_index = sample(range(60000), 6000)\n",
        "x_train = x_train[my_index, :, :]\n",
        "y_train = y_train[my_index]"
      ],
      "id": "WicXZocKgnIj"
    },
    {
      "cell_type": "code",
      "execution_count": null,
      "metadata": {
        "id": "pK66ie98gnIj"
      },
      "outputs": [],
      "source": [
        "my_model = models.Sequential()\n",
        "my_model.add(layers.Flatten(input_shape=[28, 28]))\n",
        "my_model.add(layers.Dense(units=256, activation=\"relu\"))\n",
        "my_model.add(layers.Dense(units=10, activation=\"softmax\"))\n",
        "\n",
        "my_model.summary()\n",
        "#> Model: \"sequential\"\n",
        "#> _________________________________________________________________\n",
        "#> Layer (type)                 Output Shape              Param #\n",
        "#> =================================================================\n",
        "#> flatten (Flatten)            (None, 784)               0\n",
        "#> _________________________________________________________________\n",
        "#> dense (Dense)                (None, 256)               200960\n",
        "#> _________________________________________________________________\n",
        "#> dense_1 (Dense)              (None, 10)                2570\n",
        "#> =================================================================\n",
        "#> Total params: 203,530\n",
        "#> Trainable params: 203,530\n",
        "#> Non-trainable params: 0\n",
        "#> _________________________________________________________________\n",
        "\n",
        "my_model.compile(loss='sparse_categorical_crossentropy',\n",
        "                 optimizer='rmsprop',\n",
        "                 metrics=['accuracy'])\n",
        "\n",
        "my_cb = callbacks.EarlyStopping(patience=5, restore_best_weights=True)"
      ],
      "id": "pK66ie98gnIj"
    },
    {
      "cell_type": "code",
      "execution_count": null,
      "metadata": {
        "id": "_ScKz7wQgnIj"
      },
      "outputs": [],
      "source": [
        "my_history = my_model.fit(\n",
        "    x=x_train,\n",
        "    y=y_train,\n",
        "    validation_split=0.2,\n",
        "    batch_size=128,\n",
        "    epochs=20,\n",
        "    callbacks=[my_cb],\n",
        "    verbose=0)\n",
        "\n",
        "tmp = pd.DataFrame(my_history.history)\n",
        "tmp.plot(xlabel='epoch', style='o-')"
      ],
      "id": "_ScKz7wQgnIj"
    },
    {
      "cell_type": "code",
      "execution_count": null,
      "metadata": {
        "id": "a0ySq647gnIk"
      },
      "outputs": [],
      "source": [
        "tmp = my_model.predict(x_test)\n",
        "y_ = np.argmax(tmp, axis=-1)\n",
        "confusion_matrix(y_true=y_test,\n",
        "                 y_pred=y_)"
      ],
      "id": "a0ySq647gnIk"
    },
    {
      "cell_type": "code",
      "execution_count": null,
      "metadata": {
        "id": "shjNavvGgnIk"
      },
      "outputs": [],
      "source": [
        "#> [[ 962    0    2    1    1    2    7    1    2    2]\n",
        "#>  [   0 1123    4    0    0    1    3    0    4    0]\n",
        "#>  [  11    4  954   11    6    2    7    9   26    2]\n",
        "#>  [   3    0   20  930    2   12    2   11   21    9]\n",
        "#>  [   1    1    7    0  927    1   11    1    5   28]\n",
        "#>  [  10    1    3   16    4  812   11    7   24    4]\n",
        "#>  [   9    3    4    0    9   10  919    0    4    0]\n",
        "#>  [   3    6   17    4   11    0    0  965    2   20]\n",
        "#>  [   8    4    6   12    6    9    9    7  901   12]\n",
        "#>  [   9    8    0    8   31    4    1   14    7  927]]"
      ],
      "id": "shjNavvGgnIk"
    },
    {
      "cell_type": "code",
      "execution_count": null,
      "metadata": {
        "id": "3Jh1Twc9gnIk"
      },
      "outputs": [],
      "source": [
        "(y_ == y_test).mean()\n",
        "#> 0.942"
      ],
      "id": "3Jh1Twc9gnIk"
    },
    {
      "cell_type": "code",
      "execution_count": null,
      "metadata": {
        "id": "43hn5j_CgnIk"
      },
      "outputs": [],
      "source": [
        "my_model.evaluate(x=x_test, y=y_test)\n",
        "#> [0.20125965774059296,\n",
        "#>  0.9419999718666077]"
      ],
      "id": "43hn5j_CgnIk"
    },
    {
      "cell_type": "code",
      "execution_count": null,
      "metadata": {
        "id": "n8Hc0to8gnIk"
      },
      "outputs": [],
      "source": [
        "x_train2d = x_train.reshape(-1, 28, 28, 1)\n",
        "x_test2d = x_test.reshape(-1, 28, 28, 1)"
      ],
      "id": "n8Hc0to8gnIk"
    },
    {
      "cell_type": "code",
      "execution_count": null,
      "metadata": {
        "id": "cHXk7ZUAgnIl"
      },
      "outputs": [],
      "source": [
        "my_model = models.Sequential()\n",
        "my_model.add(layers.Conv2D(filters=32, kernel_size=3, # 畳み込み層\n",
        "                           activation='relu',\n",
        "                           input_shape=[28, 28, 1]))\n",
        "my_model.add(layers.MaxPooling2D(pool_size=2))        # プーリング層\n",
        "my_model.add(layers.Flatten())\n",
        "my_model.add(layers.Dense(128, activation='relu'))\n",
        "my_model.add(layers.Dense(10, activation='softmax'))\n",
        "\n",
        "my_model.summary()\n",
        "#> Model: \"sequential\"\n",
        "#> _________________________________________________________________\n",
        "#> Layer (type)                 Output Shape              Param #\n",
        "#> =================================================================\n",
        "#> conv2d (Conv2D)              (None, 26, 26, 32)        320\n",
        "#> _________________________________________________________________\n",
        "#> max_pooling2d (MaxPooling2D) (None, 13, 13, 32)        0\n",
        "#> _________________________________________________________________\n",
        "#> flatten (Flatten)            (None, 5408)              0\n",
        "#> _________________________________________________________________\n",
        "#> dense (Dense)                (None, 128)               692352\n",
        "#> _________________________________________________________________\n",
        "#> dense_1 (Dense)              (None, 10)                1290\n",
        "#> =================================================================\n",
        "#> Total params: 693,962\n",
        "#> Trainable params: 693,962\n",
        "#> Non-trainable params: 0\n",
        "#> _________________________________________________________________\n",
        "\n",
        "my_model.compile(loss='sparse_categorical_crossentropy',\n",
        "                 optimizer='rmsprop',\n",
        "                 metrics=['accuracy'])\n",
        "\n",
        "from keras.callbacks import EarlyStopping\n",
        "my_cb = EarlyStopping(patience=5,\n",
        "                      restore_best_weights=True)"
      ],
      "id": "cHXk7ZUAgnIl"
    },
    {
      "cell_type": "code",
      "execution_count": null,
      "metadata": {
        "id": "0Zd7HJ4PgnIl"
      },
      "outputs": [],
      "source": [
        "my_history = my_model.fit(\n",
        "    x=x_train2d,\n",
        "    y=y_train,\n",
        "    validation_split=0.2,\n",
        "    batch_size=128,\n",
        "    epochs=20,\n",
        "    callbacks=my_cb,\n",
        "    verbose=0)\n",
        "\n",
        "tmp = pd.DataFrame(my_history.history)\n",
        "tmp.plot(xlabel='epoch', style='o-')"
      ],
      "id": "0Zd7HJ4PgnIl"
    },
    {
      "cell_type": "code",
      "execution_count": null,
      "metadata": {
        "id": "5yIoPInpgnIl"
      },
      "outputs": [],
      "source": [
        "my_model.evaluate(x=x_test2d, y=y_test)\n",
        "#> [0.1359061449766159,\n",
        "#>  0.9581000208854675]"
      ],
      "id": "5yIoPInpgnIl"
    },
    {
      "cell_type": "code",
      "execution_count": null,
      "metadata": {
        "id": "YeUNRzFFgnIl"
      },
      "outputs": [],
      "source": [
        "my_model = models.Sequential()\n",
        "my_model.add(layers.Conv2D(filters=20, kernel_size=5, activation='relu',\n",
        "                           input_shape=(28, 28, 1)))\n",
        "my_model.add(layers.MaxPooling2D(pool_size=2, strides=2))\n",
        "my_model.add(layers.Conv2D(filters=20, kernel_size=5, activation='relu'))\n",
        "my_model.add(layers.MaxPooling2D(pool_size=2, strides=2))\n",
        "my_model.add(layers.Dropout(rate=0.25))\n",
        "my_model.add(layers.Flatten())\n",
        "my_model.add(layers.Dense(500, activation='relu'))\n",
        "my_model.add(layers.Dropout(rate=0.5))\n",
        "my_model.add(layers.Dense(10, activation='softmax'))\n",
        "\n",
        "my_model.compile(loss='sparse_categorical_crossentropy',\n",
        "                 optimizer='rmsprop',\n",
        "                 metrics=['accuracy'])\n",
        "\n",
        "my_cb = callbacks.EarlyStopping(patience=5,\n",
        "                                restore_best_weights=True)"
      ],
      "id": "YeUNRzFFgnIl"
    },
    {
      "cell_type": "code",
      "execution_count": null,
      "metadata": {
        "id": "A4GSxGDWgnIl"
      },
      "outputs": [],
      "source": [
        "my_history = my_model.fit(\n",
        "    x=x_train2d,\n",
        "    y=y_train,\n",
        "    validation_split=0.2,\n",
        "    batch_size=128,\n",
        "    epochs=20,\n",
        "    callbacks=my_cb,\n",
        "    verbose=0)\n",
        "\n",
        "tmp = pd.DataFrame(my_history.history)\n",
        "tmp.plot(xlabel='epoch', style='o-')"
      ],
      "id": "A4GSxGDWgnIl"
    },
    {
      "cell_type": "code",
      "execution_count": null,
      "metadata": {
        "id": "CH0vmlF7gnIm"
      },
      "outputs": [],
      "source": [
        "my_model.evaluate(x=x_test2d, y=y_test)\n",
        "#> [0.06491111218929291,\n",
        "#>  0.9797000288963318]"
      ],
      "id": "CH0vmlF7gnIm"
    },
    {
      "cell_type": "code",
      "execution_count": null,
      "metadata": {
        "id": "qNBj_ojKgnIm"
      },
      "outputs": [],
      "source": [
        "y_prob = my_model.predict(x_test2d)                    # カテゴリに属する確率\n",
        "\n",
        "tmp = pd.DataFrame({\n",
        "    'y_prob': np.max(y_prob, axis=1),                  # 確率の最大値\n",
        "    'y_': np.argmax(y_prob, axis=1),                   # 予測カテゴリ\n",
        "    'y': y_test,                                       # 正解\n",
        "    'id': range(len(y_test))})                         # 番号\n",
        "\n",
        "tmp = tmp[tmp.y_ != tmp.y]                             # 予測がはずれたものを残す\n",
        "my_result = tmp.sort_values('y_prob', ascending=False) # 確率の大きい順に並び替える"
      ],
      "id": "qNBj_ojKgnIm"
    },
    {
      "cell_type": "code",
      "execution_count": null,
      "metadata": {
        "id": "Ott-q0gAgnIm"
      },
      "outputs": [],
      "source": [
        "my_result.head()\n",
        "#>         y_prob  y_  y    id\n",
        "#> 2654  0.999997   1  6  2654\n",
        "#> 1232  0.999988   4  9  1232\n",
        "#> 3520  0.999926   4  6  3520\n",
        "#> 9729  0.999881   6  5  9729\n",
        "#> 2896  0.999765   0  8  2896"
      ],
      "id": "Ott-q0gAgnIm"
    },
    {
      "cell_type": "code",
      "execution_count": null,
      "metadata": {
        "id": "tuLIl7rGgnIm"
      },
      "outputs": [],
      "source": [
        "for i in range(5):\n",
        "    plt.subplot(1, 5, i + 1)\n",
        "    ans = my_result['y'].iloc[i]\n",
        "    id = my_result['id'].iloc[i]\n",
        "    plt.title(f'{ans} ({id})')\n",
        "    plt.imshow(x_test[id])\n",
        "    plt.axis('off')"
      ],
      "id": "tuLIl7rGgnIm"
    },
    {
      "cell_type": "markdown",
      "source": [
        "## 11.4 AutoML"
      ],
      "metadata": {
        "id": "D6QEGZGwgnIm"
      },
      "id": "D6QEGZGwgnIm"
    },
    {
      "cell_type": "code",
      "execution_count": null,
      "metadata": {
        "id": "cyBuR5xNgnIm"
      },
      "outputs": [],
      "source": [
        "import h2o\n",
        "import pandas as pd\n",
        "import tensorflow as tf\n",
        "from h2o.automl import H2OAutoML\n",
        "from random import sample\n",
        "\n",
        "h2o.init()\n",
        "h2o.no_progress()\n",
        "# h2o.cluster().shutdown() # 停止"
      ],
      "id": "cyBuR5xNgnIm"
    },
    {
      "cell_type": "code",
      "execution_count": null,
      "metadata": {
        "id": "Li8ZJoJegnIn"
      },
      "outputs": [],
      "source": [
        "my_url = ('https://raw.githubusercontent.com/taroyabuki'\n",
        "          '/fromzero/master/data/wine.csv')\n",
        "my_data = pd.read_csv(my_url)\n",
        "my_frame = h2o.H2OFrame(my_data) # 通常のデータフレームをH2OFrameに変換する．\n",
        "# あるいは\n",
        "my_frame = h2o.import_file(my_url, header=1) # データを読み込む．"
      ],
      "id": "Li8ZJoJegnIn"
    },
    {
      "cell_type": "code",
      "execution_count": null,
      "metadata": {
        "id": "Laujm0-BgnIn"
      },
      "outputs": [],
      "source": [
        "my_frame.head(5)\n",
        "#>   LPRICE2    WRAIN    DEGREES  ...\n",
        "#> ---------  -------  ---------  ...\n",
        "#>  -0.99868      600    17.1167  ...\n",
        "#>  -0.4544       690    16.7333  ...\n",
        "#>  -0.80796      502    17.15    ...\n",
        "#>  -1.50926      420    16.1333  ...\n",
        "#>  -1.71655      582    16.4167  ...\n",
        "\n",
        "# 通常のデータフレームに戻す．\n",
        "h2o.as_list(my_frame).head()\n",
        "# 結果は割愛（見た目は同じ）"
      ],
      "id": "Laujm0-BgnIn"
    },
    {
      "cell_type": "code",
      "execution_count": null,
      "metadata": {
        "id": "xbfEb-9IgnIn"
      },
      "outputs": [],
      "source": [
        "my_model = H2OAutoML(\n",
        "    max_runtime_secs=60)\n",
        "my_model.train(\n",
        "    y='LPRICE2',\n",
        "    training_frame=my_frame)"
      ],
      "id": "xbfEb-9IgnIn"
    },
    {
      "cell_type": "code",
      "execution_count": null,
      "metadata": {
        "id": "RC_GyKATgnIn"
      },
      "outputs": [],
      "source": [
        "my_model.leaderboard['rmse'].min()\n",
        "#> 0.2704643402377778"
      ],
      "id": "RC_GyKATgnIn"
    },
    {
      "cell_type": "code",
      "execution_count": null,
      "metadata": {
        "id": "mIZd6enpgnIn"
      },
      "outputs": [],
      "source": [
        "tmp = h2o.as_list(\n",
        "    my_model.predict(my_frame))\n",
        "\n",
        "pd.DataFrame({\n",
        "    'y': my_data['LPRICE2'],\n",
        "    'y_': tmp['predict']}\n",
        ").plot('y', 'y_', kind='scatter')"
      ],
      "id": "mIZd6enpgnIn"
    },
    {
      "cell_type": "code",
      "execution_count": null,
      "metadata": {
        "id": "t3tuvDvXgnIo"
      },
      "outputs": [],
      "source": [
        "(x_train, y_train), (x_test, y_test) = tf.keras.datasets.mnist.load_data()\n",
        "my_index = sample(range(60000), 6000)\n",
        "x_train = x_train[my_index, :, :]\n",
        "y_train = y_train[my_index]"
      ],
      "id": "t3tuvDvXgnIo"
    },
    {
      "cell_type": "code",
      "execution_count": null,
      "metadata": {
        "id": "qkr3Ixy_gnIo"
      },
      "outputs": [],
      "source": [
        "tmp = pd.DataFrame(\n",
        "    x_train.reshape(-1, 28 * 28))\n",
        "y = 'y'\n",
        "tmp[y] = y_train\n",
        "my_train = h2o.H2OFrame(tmp)\n",
        "my_train[y] = my_train[y].asfactor()\n",
        "\n",
        "tmp = pd.DataFrame(\n",
        "    x_test.reshape(-1, 28 * 28))\n",
        "my_test = h2o.H2OFrame(tmp)"
      ],
      "id": "qkr3Ixy_gnIo"
    },
    {
      "cell_type": "code",
      "execution_count": null,
      "metadata": {
        "id": "vkk3URkagnIo"
      },
      "outputs": [],
      "source": [
        "my_model = H2OAutoML(\n",
        "    max_runtime_secs=120)\n",
        "my_model.train(\n",
        "    y=y,\n",
        "    training_frame=my_train)"
      ],
      "id": "vkk3URkagnIo"
    },
    {
      "cell_type": "code",
      "execution_count": null,
      "metadata": {
        "id": "T-b_ujHzgnIo"
      },
      "outputs": [],
      "source": [
        "my_model.leaderboard[\n",
        "    'mean_per_class_error'].min()\n",
        "#> 0.06803754348177862"
      ],
      "id": "T-b_ujHzgnIo"
    },
    {
      "cell_type": "code",
      "execution_count": null,
      "metadata": {
        "id": "R4sU_cLZgnIq"
      },
      "outputs": [],
      "source": [
        "tmp = h2o.as_list(\n",
        "    my_model.predict(my_test))\n",
        "y_ = tmp.predict\n",
        "\n",
        "(y_ == y_test).mean()\n",
        "#> 0.938"
      ],
      "id": "R4sU_cLZgnIq"
    },
    {
      "cell_type": "markdown",
      "source": [
        "# 12 時系列予測\n",
        "\n",
        "\n"
      ],
      "metadata": {
        "id": "NlkmOWDggnIq"
      },
      "id": "NlkmOWDggnIq"
    },
    {
      "cell_type": "markdown",
      "source": [
        "## 12.1 日時と日時の列"
      ],
      "metadata": {
        "id": "hQ2T-0NqgnIq"
      },
      "id": "hQ2T-0NqgnIq"
    },
    {
      "cell_type": "code",
      "execution_count": null,
      "metadata": {
        "id": "_GWYJ8hmgnIr"
      },
      "outputs": [],
      "source": [
        "import pandas as pd\n",
        "pd.to_datetime('2020-01-01')\n",
        "#> Timestamp('2020-01-01 00:00:00')"
      ],
      "id": "_GWYJ8hmgnIr"
    },
    {
      "cell_type": "code",
      "execution_count": null,
      "metadata": {
        "id": "FXnrgg-3gnIr"
      },
      "outputs": [],
      "source": [
        "pd.date_range(start='2021-01-01', end='2023-01-01', freq='1A')\n",
        "#> DatetimeIndex(['2021-12-31', '2022-12-31'],\n",
        "#>               dtype='datetime64[ns]', freq='A-DEC')\n",
        "\n",
        "pd.date_range(start='2021-01-01', end='2023-01-01', freq='1AS')\n",
        "#> DatetimeIndex(['2021-01-01', '2022-01-01', '2023-01-01'],\n",
        "#>               dtype='datetime64[ns]', freq='AS-JAN')\n",
        "\n",
        "pd.date_range(start='2021-01-01', end='2021-03-01', freq='2M')\n",
        "#> DatetimeIndex(['2021-01-31'], dtype='datetime64[ns]', freq='2M')\n",
        "\n",
        "pd.date_range(start='2021-01-01', end='2021-03-01', freq='2MS')\n",
        "#> DatetimeIndex(['2021-01-01', '2021-03-01'],\n",
        "#>               dtype='datetime64[ns]', freq='2MS')\n",
        "\n",
        "pd.date_range(start='2021-01-01', end='2021-01-03', freq='1D')\n",
        "#> DatetimeIndex(['2021-01-01', '2021-01-02', '2021-01-03'],\n",
        "#>               dtype='datetime64[ns]', freq='D')\n",
        "\n",
        "pd.date_range(start='2021-01-01 00:00:00', end='2021-01-01 03:00:00', freq='2H')\n",
        "#> DatetimeIndex(['2021-01-01 00:00:00', '2021-01-01 02:00:00'],\n",
        "#>               dtype='datetime64[ns]', freq='2H')"
      ],
      "id": "FXnrgg-3gnIr"
    },
    {
      "cell_type": "markdown",
      "source": [
        "## 12.2 時系列データの予測"
      ],
      "metadata": {
        "id": "NfhHvz8wgnIr"
      },
      "id": "NfhHvz8wgnIr"
    },
    {
      "cell_type": "code",
      "execution_count": null,
      "metadata": {
        "id": "UU-1dhJmgnIr"
      },
      "outputs": [],
      "source": [
        "import matplotlib.pyplot as plt\n",
        "import pandas as pd\n",
        "from pmdarima.datasets import airpassengers\n",
        "from sklearn.metrics import mean_squared_error\n",
        "\n",
        "my_data = airpassengers.load_airpassengers()"
      ],
      "id": "UU-1dhJmgnIr"
    },
    {
      "cell_type": "code",
      "execution_count": null,
      "metadata": {
        "id": "lNClxaGhgnIr"
      },
      "outputs": [],
      "source": [
        "n = len(my_data) # データ数（144）\n",
        "k = 108          # 訓練データ数"
      ],
      "id": "lNClxaGhgnIr"
    },
    {
      "cell_type": "code",
      "execution_count": null,
      "metadata": {
        "id": "Eyu8YRMLgnIr"
      },
      "outputs": [],
      "source": [
        "my_ds = pd.date_range(\n",
        "    start='1949/01/01',\n",
        "    end='1960/12/01',\n",
        "    freq='MS')\n",
        "my_df = pd.DataFrame({\n",
        "    'ds': my_ds,\n",
        "    'x': range(n),\n",
        "    'y': my_data},\n",
        "    index=my_ds)\n",
        "my_df.head()\n",
        "#>                    ds  x      y\n",
        "#> 1949-01-01 1949-01-01  0  112.0\n",
        "#> 1949-02-01 1949-02-01  1  118.0\n",
        "#> 1949-03-01 1949-03-01  2  132.0\n",
        "#> 1949-04-01 1949-04-01  3  129.0\n",
        "#> 1949-05-01 1949-05-01  4  121.0"
      ],
      "id": "Eyu8YRMLgnIr"
    },
    {
      "cell_type": "code",
      "execution_count": null,
      "metadata": {
        "id": "fSgR-CIkgnIs"
      },
      "outputs": [],
      "source": [
        "my_train = my_df[        :k]\n",
        "my_test  = my_df[-(n - k): ]\n",
        "y = my_test.y"
      ],
      "id": "fSgR-CIkgnIs"
    },
    {
      "cell_type": "code",
      "execution_count": null,
      "metadata": {
        "id": "SpDkPc3_gnIs"
      },
      "outputs": [],
      "source": [
        "plt.plot(my_train.y, label='train')\n",
        "plt.plot(my_test.y,  label='test')\n",
        "plt.legend()"
      ],
      "id": "SpDkPc3_gnIs"
    },
    {
      "cell_type": "code",
      "execution_count": null,
      "metadata": {
        "id": "6BTcuBG1gnIs"
      },
      "outputs": [],
      "source": [
        "from sklearn.linear_model import LinearRegression\n",
        "\n",
        "my_lm_model = LinearRegression()\n",
        "my_lm_model.fit(my_train[['x']], my_train.y)\n",
        "\n",
        "X = my_test[['x']]\n",
        "y_ = my_lm_model.predict(X)\n",
        "mean_squared_error(y, y_)**0.5 # RMSE（テスト）\n",
        "#> 70.63707081783771"
      ],
      "id": "6BTcuBG1gnIs"
    },
    {
      "cell_type": "code",
      "execution_count": null,
      "metadata": {
        "id": "uQmO-WYYgnIs"
      },
      "outputs": [],
      "source": [
        "y_ = my_lm_model.predict(my_df[['x']])\n",
        "tmp = pd.DataFrame(y_,\n",
        "                   index=my_df.index)\n",
        "plt.plot(my_train.y, label='train')\n",
        "plt.plot(my_test.y,  label='test')\n",
        "plt.plot(tmp, label='model')\n",
        "plt.legend()"
      ],
      "id": "uQmO-WYYgnIs"
    },
    {
      "cell_type": "code",
      "execution_count": null,
      "metadata": {
        "id": "Fqjuc3NTgnIs"
      },
      "outputs": [],
      "source": [
        "import pmdarima as pm\n",
        "my_arima_model = pm.auto_arima(my_train.y, m=12, trace=True)\n",
        "#> （省略）\n",
        "#> Best model:  ARIMA(1,1,0)(0,1,0)[12]\n",
        "#> Total fit time: 0.838 seconds"
      ],
      "id": "Fqjuc3NTgnIs"
    },
    {
      "cell_type": "code",
      "execution_count": null,
      "metadata": {
        "id": "XmizqLgegnIs"
      },
      "outputs": [],
      "source": [
        "y_, my_ci = my_arima_model.predict(len(my_test),         # 期間はテストデータと同じ．\n",
        "                                   alpha=0.05,           # 有意水準（デフォルト）\n",
        "                                   return_conf_int=True) # 信頼区間を求める．\n",
        "tmp = pd.DataFrame({'y': y_,\n",
        "                    'Lo': my_ci[:, 0],\n",
        "                    'Hi': my_ci[:, 1]},\n",
        "                   index=my_test.index)\n",
        "tmp.head()\n",
        "#>                      y          Lo          Hi\n",
        "#> 1958-01-01  345.964471  327.088699  364.840243\n",
        "#> 1958-02-01  331.731920  308.036230  355.427610\n",
        "#> 1958-03-01  386.787992  358.515741  415.060244\n",
        "#> 1958-04-01  378.774472  346.695454  410.853490\n",
        "#> 1958-05-01  385.777732  350.270765  421.284700"
      ],
      "id": "XmizqLgegnIs"
    },
    {
      "cell_type": "code",
      "execution_count": null,
      "metadata": {
        "id": "1TGoB-MTgnIt"
      },
      "outputs": [],
      "source": [
        "mean_squared_error(y, y_)**0.5\n",
        "#> 22.132236727738697"
      ],
      "id": "1TGoB-MTgnIt"
    },
    {
      "cell_type": "code",
      "execution_count": null,
      "metadata": {
        "id": "byULd5QxgnIt"
      },
      "outputs": [],
      "source": [
        "plt.plot(my_train.y, label='train')\n",
        "plt.plot(my_test.y,  label='test')\n",
        "plt.plot(tmp.y,      label='model')\n",
        "plt.fill_between(tmp.index,\n",
        "                 tmp.Lo,\n",
        "                 tmp.Hi,\n",
        "                 alpha=0.25) # 不透明度\n",
        "plt.legend(loc='upper left')"
      ],
      "id": "byULd5QxgnIt"
    },
    {
      "cell_type": "code",
      "execution_count": null,
      "metadata": {
        "id": "fhaq_ljlgnIt"
      },
      "outputs": [],
      "source": [
        "try: from fbprophet import Prophet\n",
        "except ImportError: from prophet import Prophet\n",
        "my_prophet_model = Prophet(seasonality_mode='multiplicative')\n",
        "my_prophet_model.fit(my_train)"
      ],
      "id": "fhaq_ljlgnIt"
    },
    {
      "cell_type": "code",
      "execution_count": null,
      "metadata": {
        "id": "yazKlEFxgnIt"
      },
      "outputs": [],
      "source": [
        "tmp = my_prophet_model.predict(my_test)\n",
        "tmp[['ds', 'yhat', 'yhat_lower', 'yhat_upper']].head()\n",
        "#>           ds        yhat  yhat_lower  yhat_upper\n",
        "#> 0 1958-01-01  359.239305  350.910898  368.464588\n",
        "#> 1 1958-02-01  350.690546  341.748862  359.964881\n",
        "#> 2 1958-03-01  407.188556  398.483316  415.463759\n",
        "#> 3 1958-04-01  398.481739  389.244105  406.742333\n",
        "#> 4 1958-05-01  402.595604  393.721421  411.331761"
      ],
      "id": "yazKlEFxgnIt"
    },
    {
      "cell_type": "code",
      "execution_count": null,
      "metadata": {
        "id": "aojC9VRggnIt"
      },
      "outputs": [],
      "source": [
        "y_ = tmp.yhat\n",
        "mean_squared_error(y, y_)**0.5\n",
        "#> 33.795549086036466"
      ],
      "id": "aojC9VRggnIt"
    },
    {
      "cell_type": "code",
      "execution_count": null,
      "metadata": {
        "id": "PXshUboRgnIu"
      },
      "outputs": [],
      "source": [
        "# my_prophet_model.plot(tmp) # 予測結果のみでよい場合\n",
        "\n",
        "fig = my_prophet_model.plot(tmp)\n",
        "fig.axes[0].plot(my_train.ds, my_train.y)\n",
        "fig.axes[0].plot(my_test.ds, my_test.y, color='red')"
      ],
      "id": "PXshUboRgnIu"
    },
    {
      "cell_type": "markdown",
      "source": [
        "# 13 教師なし学習\n",
        "\n",
        "\n"
      ],
      "metadata": {
        "id": "pWdDMpL5gnIu"
      },
      "id": "pWdDMpL5gnIu"
    },
    {
      "cell_type": "markdown",
      "source": [
        "## 13.1 主成分分析"
      ],
      "metadata": {
        "id": "Y7PwWf_mgnIu"
      },
      "id": "Y7PwWf_mgnIu"
    },
    {
      "cell_type": "code",
      "execution_count": null,
      "metadata": {
        "id": "fDSw5FzjgnIu"
      },
      "outputs": [],
      "source": [
        "import numpy as np\n",
        "import pandas as pd\n",
        "from pca import pca\n",
        "from scipy.stats import zscore\n",
        "\n",
        "my_data = pd.DataFrame(\n",
        "    {'language': [  0,  20,  20,  25,  22,  17],\n",
        "     'english':  [  0,  20,  40,  20,  24,  18],\n",
        "     'math':     [100,  20,   5,  30,  17,  25],\n",
        "     'science':  [  0,  20,   5,  25,  16,  23],\n",
        "     'society':  [  0,  20,  30,   0,  21,  17]},\n",
        "    index=       ['A', 'B', 'C', 'D', 'E', 'F'])\n",
        "my_model = pca(n_components=5)\n",
        "my_result = my_model.fit_transform(my_data) # 主成分分析の実行"
      ],
      "id": "fDSw5FzjgnIu"
    },
    {
      "cell_type": "code",
      "execution_count": null,
      "metadata": {
        "id": "YqLRhPrggnIu"
      },
      "outputs": [],
      "source": [
        "my_result['PC'] # 主成分スコア\n",
        "#>          PC1        PC2 ...\n",
        "#> A  74.907282   7.010808 ...\n",
        "#> B -13.818842  -2.753459 ...\n",
        "#> C -33.714034  18.417290 ...\n",
        "#> D  -1.730630 -17.876372 ...\n",
        "#> E -17.837474   1.064998 ...\n",
        "#> F  -7.806303  -5.863266 ..."
      ],
      "id": "YqLRhPrggnIu"
    },
    {
      "cell_type": "code",
      "execution_count": null,
      "metadata": {
        "id": "vg8FXz4TgnIu"
      },
      "outputs": [],
      "source": [
        "my_model.biplot(legend=False)"
      ],
      "id": "vg8FXz4TgnIu"
    },
    {
      "cell_type": "code",
      "execution_count": null,
      "metadata": {
        "id": "nBKOBn5DgnIv"
      },
      "outputs": [],
      "source": [
        "my_result['loadings']\n",
        "#>      language   english      math   science   society\n",
        "#> PC1 -0.207498 -0.304360  0.887261 -0.130198 -0.245204\n",
        "#> PC2 -0.279463  0.325052  0.097643 -0.702667  0.559435\n",
        "#> PC3  0.306117  0.615799  0.056345 -0.338446 -0.639815\n",
        "#> PC4  0.764943 -0.471697 -0.007655 -0.418045  0.132455\n",
        "#> PC5 -0.447214 -0.447214 -0.447214 -0.447214 -0.447214"
      ],
      "id": "nBKOBn5DgnIv"
    },
    {
      "cell_type": "code",
      "execution_count": null,
      "metadata": {
        "id": "0HwUicZCgnIv"
      },
      "outputs": [],
      "source": [
        "my_result['explained_var']\n",
        "#> array([0.88848331, 0.97962854, 0.99858005, 1.        , 1.        ])"
      ],
      "id": "0HwUicZCgnIv"
    },
    {
      "cell_type": "code",
      "execution_count": null,
      "metadata": {
        "id": "A2FY_CoNgnIv"
      },
      "outputs": [],
      "source": [
        "tmp = zscore(my_data, ddof=1) # 標準化\n",
        "my_result = my_model.fit_transform(\n",
        "    tmp)\n",
        "my_result['PC'] # 主成分スコア\n",
        "#>           PC1       PC2 ...\n",
        "#> 1.0  3.673722  0.568850 ...\n",
        "#> 1.0 -0.652879 -0.246926 ...\n",
        "#> 1.0 -1.568294  1.742598 ...\n",
        "#> 1.0 -0.250504 -1.640039 ...\n",
        "#> 1.0 -0.886186  0.110493 ...\n",
        "#> 1.0 -0.315858 -0.534976 ..."
      ],
      "id": "A2FY_CoNgnIv"
    },
    {
      "cell_type": "code",
      "execution_count": null,
      "metadata": {
        "id": "pXlCkT4KgnIv"
      },
      "outputs": [],
      "source": [
        "tmp = my_data - my_data.mean()\n",
        "Z  = np.matrix(tmp)                       # 標準化しない場合\n",
        "#Z = np.matrix(tmp / my_data.std(ddof=1)) # √不偏分散で標準化する場合\n",
        "#Z = np.matrix(tmp / my_data.std(ddof=0)) # pca(normalize=True)に合わせる場合\n",
        "\n",
        "n = len(my_data)\n",
        "S = np.cov(Z, rowvar=0, ddof=0)      # 分散共分散行列\n",
        "#S = Z.T @ Z / n                     # （同じ結果）\n",
        "vals, vecs = np.linalg.eig(S)        # 固有値と固有ベクトル\n",
        "idx = np.argsort(-vals)              # 固有値の大きい順の番号\n",
        "vals, vecs = vals[idx], vecs[:, idx] # 固有値の大きい順での並べ替え\n",
        "Z @ vecs                             # 主成分スコア（結果は割愛）\n",
        "vals.cumsum() / vals.sum()           # 累積寄与率\n",
        "#> array([0.88848331, 0.97962854, 0.99858005, 1.        , 1.        ])"
      ],
      "id": "pXlCkT4KgnIv"
    },
    {
      "cell_type": "code",
      "execution_count": null,
      "metadata": {
        "id": "aRVHRaQsgnIv"
      },
      "outputs": [],
      "source": [
        "U, d, V =  np.linalg.svd(Z, full_matrices=False)     # 特異値分解\n",
        "W = np.diag(d)\n",
        "\n",
        "[np.isclose(Z, U @ W @ V).all(),                     # 確認1\n",
        " np.isclose(U.T @ U, np.identity(U.shape[1])).all(), # 確認2\n",
        " np.isclose(V @ V.T, np.identity(V.shape[0])).all()] # 確認3\n",
        "#> [True, True, True]\n",
        "\n",
        "U @ W                # 主成分スコア（結果は割愛）\n",
        "\n",
        "e = d ** 2 / n       # 分散共分散行列の固有値\n",
        "e.cumsum() / e.sum() # 累積寄与率\n",
        "#> array([0.88848331, 0.97962854, 0.99858005, 1.        , 1.        ])"
      ],
      "id": "aRVHRaQsgnIv"
    },
    {
      "cell_type": "markdown",
      "source": [
        "## 13.2 クラスタ分析"
      ],
      "metadata": {
        "id": "cE1SjW1agnIw"
      },
      "id": "cE1SjW1agnIw"
    },
    {
      "cell_type": "code",
      "execution_count": null,
      "metadata": {
        "id": "FXfdzlRzgnIw"
      },
      "outputs": [],
      "source": [
        "import pandas as pd\n",
        "from scipy.cluster import hierarchy\n",
        "\n",
        "my_data = pd.DataFrame(\n",
        "    {'x': [  0, -16,  10,  10],\n",
        "     'y': [  0,   0,  10, -15]},\n",
        "    index=['A', 'B', 'C', 'D'])\n",
        "\n",
        "my_result = hierarchy.linkage(\n",
        "    my_data,\n",
        "    metric='euclidean', # 省略可\n",
        "    method='complete')"
      ],
      "id": "FXfdzlRzgnIw"
    },
    {
      "cell_type": "code",
      "execution_count": null,
      "metadata": {
        "id": "RoaAOO7cgnIw"
      },
      "outputs": [],
      "source": [
        "hierarchy.dendrogram(my_result,\n",
        "    labels=my_data.index)"
      ],
      "id": "RoaAOO7cgnIw"
    },
    {
      "cell_type": "code",
      "execution_count": null,
      "metadata": {
        "id": "fagSVGQ5gnIw"
      },
      "outputs": [],
      "source": [
        "hierarchy.cut_tree(my_result, 3)\n",
        "#> array([[0], [1], [0], [2]])\n",
        "\n",
        "# 補足（見やすくする）\n",
        "my_data.assign(cluster=\n",
        "  hierarchy.cut_tree(my_result, 3))\n",
        "#>     x   y  cluster\n",
        "#> A   0   0        0\n",
        "#> B -16   0        1\n",
        "#> C  10  10        0\n",
        "#> D  10 -15        2"
      ],
      "id": "fagSVGQ5gnIw"
    },
    {
      "cell_type": "code",
      "execution_count": null,
      "metadata": {
        "id": "pLJA1wJ5gnIw"
      },
      "outputs": [],
      "source": [
        "import pandas as pd\n",
        "import seaborn as sns\n",
        "\n",
        "my_data = pd.DataFrame(\n",
        "    {'language': [  0,  20,  20,  25,  22,  17],\n",
        "     'english':  [  0,  20,  40,  20,  24,  18],\n",
        "     'math':     [100,  20,   5,  30,  17,  25],\n",
        "     'science':  [  0,  20,   5,  25,  16,  23],\n",
        "     'society':  [  0,  20,  30,   0,  21,  17]},\n",
        "    index=       ['A', 'B', 'C', 'D', 'E', 'F'])\n",
        "\n",
        "sns.clustermap(my_data, z_score=1) # 列ごとの標準化"
      ],
      "id": "pLJA1wJ5gnIw"
    },
    {
      "cell_type": "code",
      "execution_count": null,
      "metadata": {
        "id": "wUl7kMmGgnIx"
      },
      "outputs": [],
      "source": [
        "import pandas as pd\n",
        "from sklearn.cluster import KMeans\n",
        "\n",
        "my_data = pd.DataFrame(\n",
        "    {'x': [  0, -16,  10,  10],\n",
        "     'y': [  0,   0,  10, -15]},\n",
        "    index=['A', 'B', 'C', 'D'])\n",
        "\n",
        "my_result = KMeans(\n",
        "    n_clusters=3).fit(my_data)"
      ],
      "id": "wUl7kMmGgnIx"
    },
    {
      "cell_type": "code",
      "execution_count": null,
      "metadata": {
        "id": "u4OjmKlFgnIx"
      },
      "outputs": [],
      "source": [
        "my_result.labels_\n",
        "#> array([1, 0, 1, 2], dtype=int32)\n",
        "\n",
        "# 補足（見やすくする）\n",
        "my_data.assign(\n",
        "  cluster=my_result.labels_)\n",
        "#>     x   y  cluster\n",
        "#> A   0   0        1\n",
        "#> B -16   0        0\n",
        "#> C  10  10        1\n",
        "#> D  10 -15        2"
      ],
      "id": "u4OjmKlFgnIx"
    },
    {
      "cell_type": "code",
      "execution_count": null,
      "metadata": {
        "id": "mMX8kCYSgnKH"
      },
      "outputs": [],
      "source": [
        "import pandas as pd\n",
        "import statsmodels.api as sm\n",
        "from sklearn.cluster import KMeans\n",
        "\n",
        "iris = sm.datasets.get_rdataset('iris', 'datasets').data\n",
        "my_data = iris.iloc[:, 0:4]\n",
        "\n",
        "k = range(1, 11)\n",
        "my_df = pd.DataFrame({\n",
        "    'k': k,\n",
        "    'inertia': [KMeans(k).fit(my_data).inertia_ for k in range(1, 11)]})\n",
        "my_df.plot(x='k', style='o-', legend=False)"
      ],
      "id": "mMX8kCYSgnKH"
    },
    {
      "cell_type": "code",
      "execution_count": null,
      "metadata": {
        "id": "AOnPbTWIgnKJ"
      },
      "outputs": [],
      "source": [
        "import seaborn as sns\n",
        "import statsmodels.api as sm\n",
        "from pca import pca\n",
        "from scipy.cluster import hierarchy\n",
        "from scipy.stats import zscore\n",
        "from sklearn.cluster import KMeans\n",
        "\n",
        "iris = sm.datasets.get_rdataset('iris', 'datasets').data\n",
        "my_data = zscore(iris.iloc[:, 0:4])\n",
        "\n",
        "my_model = pca() # 主成分分析\n",
        "my_result = my_model.fit_transform(my_data)['PC']\n",
        "my_result['Species'] = list(iris.Species)\n",
        "\n",
        "# 非階層的クラスタ分析の場合\n",
        "my_result['cluster'] = KMeans(n_clusters=3).fit(my_data).labels_\n",
        "\n",
        "# 階層的クラスタ分析の場合\n",
        "#my_result['cluster'] = hierarchy.cut_tree(\n",
        "#    hierarchy.linkage(my_data, method='complete'), 3)[:,0]\n",
        "\n",
        "sns.scatterplot(x='PC1', y='PC2', data=my_result, legend=False,\n",
        "                hue='cluster',   # 色でクラスタを表現する．\n",
        "                style='Species', # 形で品種を表現する．\n",
        "                palette='bright')"
      ],
      "id": "AOnPbTWIgnKJ"
    }
  ],
  "nbformat": 4,
  "nbformat_minor": 5,
  "metadata": {
    "kernelspec": {
      "name": "python3",
      "display_name": "Python 3"
    },
    "colab": {
      "provenance": [],
      "toc_visible": true
    }
  }
}