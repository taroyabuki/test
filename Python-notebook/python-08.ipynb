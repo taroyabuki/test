{
  "cells": [
    {
      "id": "b03d50b1",
      "cell_type": "markdown",
      "source": "## 8.1 \u30d6\u30c9\u30a6\u306e\u751f\u80b2\u6761\u4ef6\u3068\u30ef\u30a4\u30f3\u306e\u4fa1\u683c",
      "metadata": {}
    },
    {
      "cell_type": "code",
      "execution_count": null,
      "metadata": {},
      "outputs": [],
      "source": [
        "import pandas as pd\n",
        "my_url = 'http://www.liquidasset.com/winedata.html'\n",
        "tmp = pd.read_table(my_url, skiprows=62, nrows=38, sep='\\\\s+', na_values='.')\n",
        "tmp.describe()\n",
        "# \u4ee5\u4e0b\u7701\u7565"
      ],
      "id": "64c2782f-deff-4eed-99a1-4ea6c9bf4f1a"
    },
    {
      "cell_type": "code",
      "execution_count": null,
      "metadata": {},
      "outputs": [],
      "source": [
        "my_data = tmp.iloc[:, 2:].dropna()\n",
        "my_data.head()"
      ],
      "id": "be749869-2c4c-45c7-9875-082e2e723f1e"
    },
    {
      "cell_type": "code",
      "execution_count": null,
      "metadata": {},
      "outputs": [],
      "source": [
        "my_data.shape"
      ],
      "id": "5a45a0ad-917e-42bc-971e-6741cf8b6824"
    },
    {
      "cell_type": "code",
      "execution_count": null,
      "metadata": {},
      "outputs": [],
      "source": [
        "my_data.to_csv('wine.csv',\n",
        "               index=False)"
      ],
      "id": "5daac14a-84b6-4053-a927-ee90848d5273"
    },
    {
      "cell_type": "code",
      "execution_count": null,
      "metadata": {},
      "outputs": [],
      "source": [
        "#my_data = pd.read_csv('wine.csv') # \u4f5c\u3063\u305f\u30d5\u30a1\u30a4\u30eb\u3092\u4f7f\u3046\u5834\u5408\n",
        "my_url = ('https://raw.githubusercontent.com/taroyabuki'\n",
        "          '/fromzero/master/data/wine.csv')\n",
        "my_data = pd.read_csv(my_url)"
      ],
      "id": "031dbf94-9c7a-4059-9516-2db1fa838159"
    },
    {
      "id": "21062990",
      "cell_type": "markdown",
      "source": "## 8.2 \u91cd\u56de\u5e30\u5206\u6790",
      "metadata": {}
    },
    {
      "cell_type": "code",
      "execution_count": null,
      "metadata": {},
      "outputs": [],
      "source": [
        "import numpy as np\n",
        "import pandas as pd\n",
        "from sklearn.linear_model import LinearRegression\n",
        "from sklearn.metrics import mean_squared_error\n",
        "from sklearn.model_selection import cross_val_score, LeaveOneOut\n",
        "\n",
        "my_url = ('https://raw.githubusercontent.com/taroyabuki'\n",
        "          '/fromzero/master/data/wine.csv')\n",
        "my_data = pd.read_csv(my_url)\n",
        "X, y = my_data.drop(columns=['LPRICE2']), my_data['LPRICE2']\n",
        "\n",
        "my_model = LinearRegression().fit(X, y)"
      ],
      "id": "c6d0528f-d285-414a-a22e-d7c3ff075fb1"
    },
    {
      "cell_type": "code",
      "execution_count": null,
      "metadata": {},
      "outputs": [],
      "source": [
        "my_model.intercept_\n",
        "\n",
        "pd.Series(my_model.coef_,\n",
        "          index=X.columns)"
      ],
      "id": "f065fa8a-fc30-4f36-a78d-60473028e247"
    },
    {
      "cell_type": "code",
      "execution_count": null,
      "metadata": {},
      "outputs": [],
      "source": [
        "my_test = [[500, 17, 120, 2]]\n",
        "my_model.predict(my_test)"
      ],
      "id": "908ef72d-3c43-4179-b8ac-87e16c8b52d7"
    },
    {
      "cell_type": "code",
      "execution_count": null,
      "metadata": {},
      "outputs": [],
      "source": [
        "y_ = my_model.predict(X)\n",
        "\n",
        "mean_squared_error(y_, y)**0.5\n",
        "\n",
        "my_model.score(X, y)\n",
        "\n",
        "np.corrcoef(y, y_)[0, 1]**2"
      ],
      "id": "c10e00ff-abbe-4f80-b9d4-901cb641f42f"
    },
    {
      "cell_type": "code",
      "execution_count": null,
      "metadata": {},
      "outputs": [],
      "source": [
        "my_scores = cross_val_score(my_model, X, y,\n",
        "                            cv=LeaveOneOut(),\n",
        "                            scoring='neg_mean_squared_error')\n",
        "(-my_scores.mean())**0.5"
      ],
      "id": "cd76519c-25c0-47d0-8ecd-1b2c11caf3ba"
    },
    {
      "cell_type": "code",
      "execution_count": null,
      "metadata": {},
      "outputs": [],
      "source": [
        "import numpy as np\n",
        "M = np.matrix(X.assign(b0=1))\n",
        "b = np.linalg.pinv(M) @ y\n",
        "pd.Series(b,\n",
        "    index=list(X.columns) + ['b0'])"
      ],
      "id": "3004cf95-0c32-4378-a9a3-709358d322b7"
    },
    {
      "id": "f9b71c0d",
      "cell_type": "markdown",
      "source": "## 8.3 \u6a19\u6e96\u5316",
      "metadata": {}
    },
    {
      "cell_type": "code",
      "execution_count": null,
      "metadata": {},
      "outputs": [],
      "source": [
        "import pandas as pd\n",
        "from sklearn.linear_model import LinearRegression\n",
        "from sklearn.pipeline import Pipeline\n",
        "from sklearn.preprocessing import StandardScaler\n",
        "my_url = ('https://raw.githubusercontent.com/taroyabuki'\n",
        "          '/fromzero/master/data/wine.csv')\n",
        "my_data = pd.read_csv(my_url)\n",
        "X, y = my_data.drop(columns=['LPRICE2']), my_data['LPRICE2']\n",
        "\n",
        "# StandardScaler\u3067\u6a19\u6e96\u5316\u3057\u305f\u7d50\u679c\u3092\u30c7\u30fc\u30bf\u30d5\u30ec\u30fc\u30e0\u306b\u623b\u3057\u3066\u304b\u3089\u63cf\u753b\u3059\u308b\uff0e\n",
        "pd.DataFrame(StandardScaler().fit_transform(X), columns=X.columns\n",
        "            ).boxplot(showmeans=True)"
      ],
      "id": "b2ae3b10-b9d7-44e9-922d-458adb492e9f"
    },
    {
      "cell_type": "code",
      "execution_count": null,
      "metadata": {},
      "outputs": [],
      "source": [
        "my_pipeline = Pipeline([\n",
        "    ('sc', StandardScaler()),\n",
        "    ('lr', LinearRegression())])\n",
        "my_pipeline.fit(X, y)"
      ],
      "id": "08910596-5a17-466d-8982-275400fbe959"
    },
    {
      "cell_type": "code",
      "execution_count": null,
      "metadata": {},
      "outputs": [],
      "source": [
        "# \u7dda\u5f62\u56de\u5e30\u306e\u90e8\u5206\u3060\u3051\u3092\u53d6\u308a\u51fa\u3059\uff0e\n",
        "my_lr = my_pipeline.named_steps.lr\n",
        "my_lr.intercept_\n",
        "\n",
        "pd.Series(my_lr.coef_,\n",
        "          index=X.columns)"
      ],
      "id": "443ddfce-78da-4c52-829c-deb6b632fb7d"
    },
    {
      "cell_type": "code",
      "execution_count": null,
      "metadata": {},
      "outputs": [],
      "source": [
        "my_test = [[500, 17, 120, 2]]\n",
        "my_pipeline.predict(my_test)"
      ],
      "id": "91fb4f6b-287f-4689-bc68-115dedd4ba6c"
    },
    {
      "id": "b7cdc797",
      "cell_type": "markdown",
      "source": "## 8.4 \u5165\u529b\u5909\u6570\u306e\u6570\u3068\u30e2\u30c7\u30eb\u306e\u826f\u3055",
      "metadata": {}
    },
    {
      "cell_type": "code",
      "execution_count": null,
      "metadata": {},
      "outputs": [],
      "source": [
        "import pandas as pd\n",
        "from sklearn.linear_model import LinearRegression\n",
        "from sklearn.metrics import mean_squared_error\n",
        "from sklearn.model_selection import cross_val_score, LeaveOneOut\n",
        "\n",
        "my_url = ('https://raw.githubusercontent.com/taroyabuki'\n",
        "          '/fromzero/master/data/wine.csv')\n",
        "my_data = pd.read_csv(my_url)\n",
        "\n",
        "n = len(my_data)\n",
        "my_data2 = my_data.assign(v1=[i % 2 for i in range(n)],\n",
        "                          v2=[i % 3 for i in range(n)])\n",
        "my_data2.head()"
      ],
      "id": "0a747c97-ec0f-4211-a77a-3b02c9a4e4ac"
    },
    {
      "cell_type": "code",
      "execution_count": null,
      "metadata": {},
      "outputs": [],
      "source": [
        "X, y = my_data2.drop(columns=['LPRICE2']), my_data2['LPRICE2']\n",
        "my_model2 = LinearRegression().fit(X, y)\n",
        "\n",
        "y_ = my_model2.predict(X)\n",
        "mean_squared_error(y_, y)**0.5\n",
        "\n",
        "my_scores = cross_val_score(my_model2, X, y,\n",
        "                            cv=LeaveOneOut(),\n",
        "                            scoring='neg_mean_squared_error')\n",
        "(-my_scores.mean())**0.5"
      ],
      "id": "e4fc27ac-33ef-408e-91b4-1538d82aae80"
    },
    {
      "id": "59b04758",
      "cell_type": "markdown",
      "source": "## 8.5 \u5909\u6570\u9078\u629e",
      "metadata": {}
    },
    {
      "cell_type": "code",
      "execution_count": null,
      "metadata": {},
      "outputs": [],
      "source": [
        "import pandas as pd\n",
        "from sklearn.feature_selection import SequentialFeatureSelector\n",
        "from sklearn.linear_model import LinearRegression\n",
        "from sklearn.model_selection import GridSearchCV, LeaveOneOut\n",
        "from sklearn.pipeline import Pipeline\n",
        "\n",
        "my_url = ('https://raw.githubusercontent.com/taroyabuki'\n",
        "          '/fromzero/master/data/wine.csv')\n",
        "my_data = pd.read_csv(my_url)\n",
        "\n",
        "n = len(my_data)\n",
        "my_data2 = my_data.assign(v1=[i % 2 for i in range(n)],\n",
        "                          v2=[i % 3 for i in range(n)])\n",
        "X, y = my_data2.drop(columns=['LPRICE2']), my_data2['LPRICE2']"
      ],
      "id": "4f051ead-c53d-4e87-b522-af75323d3bd2"
    },
    {
      "cell_type": "code",
      "execution_count": null,
      "metadata": {},
      "outputs": [],
      "source": [
        "my_sfs = SequentialFeatureSelector(\n",
        "    estimator=LinearRegression(),\n",
        "    direction='forward', # \u5909\u6570\u5897\u52a0\u6cd5\n",
        "    cv=LeaveOneOut(),\n",
        "    scoring='neg_mean_squared_error')\n",
        "\n",
        "my_pipeline = Pipeline([         # \u5909\u6570\u9078\u629e\u306e\u5f8c\u3067\u518d\u8a13\u7df4\u3092\u884c\u3046\u3088\u3046\u306b\u3059\u308b\uff0e\n",
        "    ('sfs', my_sfs),             # \u5909\u6570\u9078\u629e\n",
        "    ('lr', LinearRegression())]) # \u56de\u5e30\u5206\u6790\n",
        "\n",
        "my_params = {'sfs__n_features_to_select': range(1, 6)} # \u9078\u629e\u3059\u308b\u5909\u6570\u306e\u4e0a\u9650\n",
        "my_search = GridSearchCV(estimator=my_pipeline,\n",
        "                         param_grid=my_params,\n",
        "                         cv=LeaveOneOut(),\n",
        "                         scoring='neg_mean_squared_error',\n",
        "                         n_jobs=-1).fit(X, y)\n",
        "my_model = my_search.best_estimator_ # \u6700\u826f\u306e\u30d1\u30e9\u30e1\u30fc\u30bf\u3067\u518d\u8a13\u7df4\u3057\u305f\u30e2\u30c7\u30eb\n",
        "my_search.best_estimator_.named_steps.sfs.get_support()"
      ],
      "id": "d41fcc97-94eb-4f68-a83f-5302e8aeb65e"
    },
    {
      "id": "50be0319",
      "cell_type": "markdown",
      "source": "## 8.6 \u88dc\u8db3\uff1a\u6b63\u5247\u5316",
      "metadata": {}
    },
    {
      "cell_type": "code",
      "execution_count": null,
      "metadata": {},
      "outputs": [],
      "source": [
        "import numpy as np\n",
        "import pandas as pd\n",
        "import warnings\n",
        "from sklearn.exceptions import ConvergenceWarning\n",
        "from sklearn.linear_model import ElasticNet, enet_path\n",
        "from sklearn.model_selection import GridSearchCV, LeaveOneOut\n",
        "from sklearn.pipeline import Pipeline\n",
        "from sklearn.preprocessing import StandardScaler\n",
        "from scipy.stats import zscore\n",
        "warnings.simplefilter('ignore', ConvergenceWarning) # \u3053\u308c\u4ee5\u964d\uff0c\u8b66\u544a\u3092\u8868\u793a\u3057\u306a\u3044\uff0e\n",
        "\n",
        "my_url = ('https://raw.githubusercontent.com/taroyabuki'\n",
        "          '/fromzero/master/data/wine.csv')\n",
        "my_data = pd.read_csv(my_url)\n",
        "X, y = my_data.drop(columns=['LPRICE2']), my_data['LPRICE2']"
      ],
      "id": "3bc7ba4e-3aec-4e63-8c23-e04d7837aaa0"
    },
    {
      "cell_type": "code",
      "execution_count": null,
      "metadata": {},
      "outputs": [],
      "source": [
        "A = 2\n",
        "B = 0.1\n",
        "\n",
        "my_pipeline = Pipeline([\n",
        "    ('sc', StandardScaler()),\n",
        "    ('enet', ElasticNet(\n",
        "        alpha=A,\n",
        "        l1_ratio=B))])\n",
        "my_pipeline.fit(X, y)"
      ],
      "id": "3f129c3c-cd6b-4929-912e-f590f7a20a06"
    },
    {
      "cell_type": "code",
      "execution_count": null,
      "metadata": {},
      "outputs": [],
      "source": [
        "my_enet = my_pipeline.named_steps.enet\n",
        "my_enet.intercept_\n",
        "\n",
        "pd.Series(my_enet.coef_,\n",
        "          index=X.columns)"
      ],
      "id": "abf6e87a-3813-4070-8d67-71f175bf4320"
    },
    {
      "cell_type": "code",
      "execution_count": null,
      "metadata": {},
      "outputs": [],
      "source": [
        "my_test = pd.DataFrame(\n",
        "    [[500, 17, 120, 2]])\n",
        "my_pipeline.predict(my_test)"
      ],
      "id": "f4923be8-222d-4c9f-bc31-bd5c35dfac96"
    },
    {
      "cell_type": "code",
      "execution_count": null,
      "metadata": {},
      "outputs": [],
      "source": [
        "As = np.e**np.arange(2, -5.5, -0.1)\n",
        "B = 0.1\n",
        "\n",
        "_, my_path, _ = enet_path(\n",
        "    zscore(X), zscore(y),\n",
        "    alphas=As,\n",
        "    l1_ratio=B)\n",
        "\n",
        "pd.DataFrame(\n",
        "    my_path.T,\n",
        "    columns=X.columns,\n",
        "    index=np.log(As)\n",
        ").plot(\n",
        "    xlabel='log A ( = log alpha)',\n",
        "    ylabel='Coefficients')"
      ],
      "id": "23b571f4-6918-40a5-8af1-4cc336820a05"
    },
    {
      "cell_type": "code",
      "execution_count": null,
      "metadata": {},
      "outputs": [],
      "source": [
        "As = np.linspace(0, 0.1, 21)\n",
        "Bs = np.linspace(0, 0.1,  6)\n",
        "\n",
        "my_pipeline = Pipeline([('sc', StandardScaler()),\n",
        "                        ('enet', ElasticNet())])\n",
        "my_search = GridSearchCV(\n",
        "    estimator=my_pipeline,\n",
        "    param_grid={'enet__alpha': As, 'enet__l1_ratio': Bs},\n",
        "    cv=LeaveOneOut(),\n",
        "    scoring='neg_mean_squared_error',\n",
        "    n_jobs=-1).fit(X, y)\n",
        "my_model = my_search.best_estimator_ # \u6700\u826f\u30e2\u30c7\u30eb\n",
        "\n",
        "my_search.best_params_               # \u6700\u826f\u30d1\u30e9\u30e1\u30fc\u30bf"
      ],
      "id": "8dc04997-b597-4f52-8f5f-9a8509546e4e"
    },
    {
      "cell_type": "code",
      "execution_count": null,
      "metadata": {},
      "outputs": [],
      "source": [
        "tmp = my_search.cv_results_                # \u30c1\u30e5\u30fc\u30cb\u30f3\u30b0\u306e\u8a73\u7d30\n",
        "my_scores = (-tmp['mean_test_score'])**0.5 # RMSE\n",
        "\n",
        "my_results = pd.DataFrame(tmp['params']).assign(RMSE=my_scores).pivot(\n",
        "    index='enet__alpha',\n",
        "    columns='enet__l1_ratio',\n",
        "    values='RMSE')\n",
        "\n",
        "my_results.plot(style='o-', xlabel='A ( = alpha)', ylabel='RMSE').legend(\n",
        "    title='B ( = l1_ratio)')"
      ],
      "id": "9b7bdaa0-3e35-4baa-bb6e-1fb6752488b1"
    },
    {
      "cell_type": "code",
      "execution_count": null,
      "metadata": {},
      "outputs": [],
      "source": [
        "(-my_search.best_score_)**0.5"
      ],
      "id": "5cee818b-dfbc-4108-961d-7020a6c906ac"
    },
    {
      "id": "d322b335",
      "cell_type": "markdown",
      "source": "## 8.7 \u30cb\u30e5\u30fc\u30e9\u30eb\u30cd\u30c3\u30c8\u30ef\u30fc\u30af",
      "metadata": {}
    },
    {
      "cell_type": "code",
      "execution_count": null,
      "metadata": {},
      "outputs": [],
      "source": [
        "import matplotlib.pyplot as plt\n",
        "import numpy as np\n",
        "x = np.linspace(-6, 6, 100)\n",
        "y = 1 / (1 + np.exp(-x))\n",
        "plt.plot(x, y)"
      ],
      "id": "2b51f294-1b9b-45f8-8f05-f5e1bc75e189"
    },
    {
      "cell_type": "code",
      "execution_count": null,
      "metadata": {},
      "outputs": [],
      "source": [
        "import pandas as pd\n",
        "import warnings\n",
        "from sklearn.exceptions import ConvergenceWarning\n",
        "from sklearn.neural_network import MLPRegressor\n",
        "from sklearn.model_selection import cross_val_score, GridSearchCV, LeaveOneOut\n",
        "from sklearn.pipeline import Pipeline\n",
        "from sklearn.preprocessing import StandardScaler\n",
        "\n",
        "my_url = ('https://raw.githubusercontent.com/taroyabuki'\n",
        "          '/fromzero/master/data/wine.csv')\n",
        "my_data = pd.read_csv(my_url)\n",
        "X, y = my_data.drop(columns=['LPRICE2']), my_data['LPRICE2']"
      ],
      "id": "4525d8bf-2146-4a34-8177-c206b48a2eeb"
    },
    {
      "cell_type": "code",
      "execution_count": null,
      "metadata": {},
      "outputs": [],
      "source": [
        "warnings.simplefilter(\"ignore\", ConvergenceWarning)  # \u3053\u308c\u4ee5\u964d\uff0c\u8b66\u544a\u3092\u8868\u793a\u3057\u306a\u3044\uff0e\n",
        "my_pipeline = Pipeline([('sc', StandardScaler()),    # \u6a19\u6e96\u5316\n",
        "                        ('mlp', MLPRegressor())])    # \u30cb\u30e5\u30fc\u30e9\u30eb\u30cd\u30c3\u30c8\u30ef\u30fc\u30af\n",
        "my_pipeline.fit(X, y)                                # \u8a13\u7df4\n",
        "\n",
        "my_scores = cross_val_score(my_pipeline, X, y, cv=LeaveOneOut(),\n",
        "                            scoring='neg_mean_squared_error')\n",
        "warnings.simplefilter(\"default\", ConvergenceWarning) # \u3053\u308c\u4ee5\u964d\uff0c\u8b66\u544a\u3092\u8868\u793a\u3059\u308b\uff0e"
      ],
      "id": "2fae07d1-b825-46f0-a965-cacc9f7d3756"
    },
    {
      "cell_type": "code",
      "execution_count": null,
      "metadata": {},
      "outputs": [],
      "source": [
        "(-my_scores.mean())**0.5"
      ],
      "id": "4e8a8a8c-e37b-4a3b-b642-034b5fb892a8"
    },
    {
      "cell_type": "code",
      "execution_count": null,
      "metadata": {},
      "outputs": [],
      "source": [
        "my_pipeline = Pipeline([\n",
        "    ('sc', StandardScaler()),\n",
        "    ('mlp', MLPRegressor(tol=1e-5,         # \u6539\u5584\u3057\u305f\u3068\u898b\u306a\u3059\u57fa\u6e96\n",
        "                         max_iter=5000))]) # \u6539\u5584\u3057\u306a\u304f\u306a\u308b\u307e\u3067\u306e\u53cd\u5fa9\u6570\n",
        "my_layers = (1, 3, 5,                                         # \u96a0\u308c\u5c641\u5c64\u306e\u5834\u5408\n",
        "             (1, 1), (3, 1), (5, 1), (1, 2), (3, 2), (5, 2))  # \u96a0\u308c\u5c642\u5c64\u306e\u5834\u5408\n",
        "my_params = {'mlp__hidden_layer_sizes': my_layers}\n",
        "my_search = GridSearchCV(estimator=my_pipeline,\n",
        "                         param_grid=my_params,\n",
        "                         cv=LeaveOneOut(),\n",
        "                         scoring='neg_mean_squared_error',\n",
        "                         n_jobs=-1).fit(X, y)\n",
        "my_model = my_search.best_estimator_ # \u6700\u826f\u30e2\u30c7\u30eb\n",
        "\n",
        "my_search.best_params_               # \u6700\u826f\u30d1\u30e9\u30e1\u30fc\u30bf"
      ],
      "id": "24411e7c-0cc2-4069-802f-91ea68249942"
    },
    {
      "cell_type": "code",
      "execution_count": null,
      "metadata": {},
      "outputs": [],
      "source": [
        "(-my_search.best_score_)**0.5"
      ],
      "id": "33a71d45-27c6-4b7b-b915-0a553bed21a6"
    }
  ],
  "nbformat": 4,
  "nbformat_minor": 5,
  "metadata": {}
}