{
  "cells": [
    {
      "id": "3343ea28",
      "cell_type": "markdown",
      "source": "## 7.1 \u81ea\u52d5\u8eca\u306e\u505c\u6b62\u8ddd\u96e2\n\n\n",
      "metadata": {}
    },
    {
      "id": "a1480885",
      "cell_type": "markdown",
      "source": "## 7.2 \u30c7\u30fc\u30bf\u306e\u78ba\u8a8d",
      "metadata": {}
    },
    {
      "cell_type": "code",
      "execution_count": null,
      "metadata": {},
      "outputs": [],
      "source": [
        "import statsmodels.api as sm\n",
        "my_data = sm.datasets.get_rdataset('cars', 'datasets').data"
      ],
      "id": "25f0d2f6-4e1a-41a4-80e0-f1a1eb32aad5"
    },
    {
      "cell_type": "code",
      "execution_count": null,
      "metadata": {},
      "outputs": [],
      "source": [
        "my_data.shape"
      ],
      "id": "edaacbac-fb67-4eda-b5a3-c95885ea3036"
    },
    {
      "cell_type": "code",
      "execution_count": null,
      "metadata": {},
      "outputs": [],
      "source": [
        "my_data.head()"
      ],
      "id": "3a3f1df1-c963-46a7-aefb-b4d8de7090b8"
    },
    {
      "cell_type": "code",
      "execution_count": null,
      "metadata": {},
      "outputs": [],
      "source": [
        "my_data.describe()"
      ],
      "id": "8b62641f-ad17-4e7f-970d-35ee4423d47f"
    },
    {
      "cell_type": "code",
      "execution_count": null,
      "metadata": {},
      "outputs": [],
      "source": [
        "my_data.plot(x='speed', style='o')"
      ],
      "id": "b68a91e1-a8e9-49fc-95db-43ff75d0872a"
    },
    {
      "id": "bfae85c8",
      "cell_type": "markdown",
      "source": "## 7.3 \u56de\u5e30\u5206\u6790",
      "metadata": {}
    },
    {
      "cell_type": "code",
      "execution_count": null,
      "metadata": {},
      "outputs": [],
      "source": [
        "import seaborn as sns\n",
        "import statsmodels.api as sm\n",
        "\n",
        "my_data = sm.datasets.get_rdataset('cars', 'datasets').data\n",
        "ax = sns.regplot(x='speed', y='dist', data=my_data)\n",
        "ax.vlines(x=21.5, ymin=-5, ymax=67,   linestyles='dotted')\n",
        "ax.hlines(y=67,   xmin=4,  xmax=21.5, linestyles='dotted')\n",
        "ax.set_xlim(4, 25)\n",
        "ax.set_ylim(-5, 125)"
      ],
      "id": "616f9768-d479-4103-bd27-2b5fe538f6a0"
    },
    {
      "cell_type": "code",
      "execution_count": null,
      "metadata": {},
      "outputs": [],
      "source": [
        "import statsmodels.api as sm\n",
        "my_data = sm.datasets.get_rdataset('cars', 'datasets').data\n",
        "X, y = my_data[['speed']], my_data['dist']"
      ],
      "id": "91abdb72-4a39-4979-a8e0-748ea37b5485"
    },
    {
      "cell_type": "code",
      "execution_count": null,
      "metadata": {},
      "outputs": [],
      "source": [
        "# \u30e2\u30c7\u30eb\u306e\u6307\u5b9a\n",
        "from sklearn.linear_model import LinearRegression\n",
        "my_model = LinearRegression()\n",
        "\n",
        "# \u8a13\u7df4\uff08\u30e2\u30c7\u30eb\u3092\u30c7\u30fc\u30bf\u306b\u30d5\u30a3\u30c3\u30c8\u3055\u305b\u308b\uff0e\uff09\n",
        "my_model.fit(X, y)\n",
        "\n",
        "# \u307e\u3068\u3081\u3066\u5b9f\u884c\u3057\u3066\u3082\u3088\u3044\uff0e\n",
        "# my_model = LinearRegression().fit(X, y)"
      ],
      "id": "902cdb5a-da45-4a97-87ef-bad0b67844fd"
    },
    {
      "cell_type": "code",
      "execution_count": null,
      "metadata": {},
      "outputs": [],
      "source": [
        "my_model.intercept_, my_model.coef_"
      ],
      "id": "4757e9c9-e405-452d-8326-15ae62ae774d"
    },
    {
      "cell_type": "code",
      "execution_count": null,
      "metadata": {},
      "outputs": [],
      "source": [
        "tmp = [[21.5]]\n",
        "my_model.predict(tmp)"
      ],
      "id": "5d430965-5b75-4f76-95aa-486db8340ace"
    },
    {
      "cell_type": "code",
      "execution_count": null,
      "metadata": {},
      "outputs": [],
      "source": [
        "import numpy as np\n",
        "import pandas as pd\n",
        "\n",
        "tmp = pd.DataFrame({'speed': np.linspace(min(my_data.speed),\n",
        "                                         max(my_data.speed),\n",
        "                                         100)})\n",
        "tmp['model'] = my_model.predict(tmp)"
      ],
      "id": "ac3b236a-fdd6-4ebe-a804-b72610fdf016"
    },
    {
      "cell_type": "code",
      "execution_count": null,
      "metadata": {},
      "outputs": [],
      "source": [
        "pd.concat([my_data, tmp]).plot(\n",
        "    x='speed', style=['o', '-'])"
      ],
      "id": "effadaa2-4c7c-4554-a360-d5ccaaf93d63"
    },
    {
      "id": "7102dc71",
      "cell_type": "markdown",
      "source": "## 7.4 \u5f53\u3066\u306f\u307e\u308a\u306e\u826f\u3055\u306e\u6307\u6a19",
      "metadata": {}
    },
    {
      "cell_type": "code",
      "execution_count": null,
      "metadata": {},
      "outputs": [],
      "source": [
        "import pandas as pd\n",
        "import statsmodels.api as sm\n",
        "from sklearn.linear_model import LinearRegression\n",
        "from sklearn.metrics import mean_squared_error, r2_score\n",
        "\n",
        "my_data = sm.datasets.get_rdataset('cars', 'datasets').data\n",
        "X, y = my_data[['speed']], my_data['dist']\n",
        "\n",
        "my_model = LinearRegression()\n",
        "my_model.fit(X, y)\n",
        "y_ = my_model.predict(X)\n",
        "my_data['y_'] = y_"
      ],
      "id": "ba6f8c1a-ff55-44a0-90c3-f9df13cb82b0"
    },
    {
      "cell_type": "code",
      "execution_count": null,
      "metadata": {},
      "outputs": [],
      "source": [
        "pd.options.display.float_format = (\n",
        "    '{:.2f}'.format)\n",
        "my_data['residual'] = y - y_\n",
        "my_data.head()"
      ],
      "id": "070520af-d184-4c0a-8cd7-1dd3b008f25e"
    },
    {
      "cell_type": "code",
      "execution_count": null,
      "metadata": {},
      "outputs": [],
      "source": [
        "ax = my_data.plot(x='speed', y='dist', style='o', legend=False)\n",
        "my_data.plot(x='speed', y='y_', style='-', legend=False, ax=ax)\n",
        "ax.vlines(x=X, ymin=y, ymax=y_, linestyles='dotted')"
      ],
      "id": "df0fc0f0-a8f9-4fde-8543-c1cdb63222d7"
    },
    {
      "cell_type": "code",
      "execution_count": null,
      "metadata": {},
      "outputs": [],
      "source": [
        "mean_squared_error(y, y_)**0.5\n",
        "# \u3042\u308b\u3044\u306f\n",
        "(my_data['residual']**2).mean()**0.5\n"
      ],
      "id": "d6959101-afe3-42db-84be-28201b89c425"
    },
    {
      "cell_type": "code",
      "execution_count": null,
      "metadata": {},
      "outputs": [],
      "source": [
        "my_model.score(X, y)\n",
        "# \u3042\u308b\u3044\u306f\n",
        "r2_score(y_true=y, y_pred=y_)"
      ],
      "id": "56c85027-646e-4c1b-8d9d-4baf34ad611b"
    },
    {
      "cell_type": "code",
      "execution_count": null,
      "metadata": {},
      "outputs": [],
      "source": [
        "import numpy as np\n",
        "np.corrcoef(y, y_)[0, 1]**2"
      ],
      "id": "721b3727-528b-4288-b4bc-0d9c1300eb2b"
    },
    {
      "cell_type": "code",
      "execution_count": null,
      "metadata": {},
      "outputs": [],
      "source": [
        "my_test = my_data[:3]\n",
        "X = my_test[['speed']]\n",
        "y = my_test['dist']\n",
        "y_ = my_model.predict(X)\n",
        "\n",
        "my_model.score(X, y)\n",
        "# \u3042\u308b\u3044\u306f\n",
        "r2_score(y_true=y, y_pred=y_)\n",
        "\n",
        "np.corrcoef(y, y_)[0, 1]**2"
      ],
      "id": "e1d7354b-3792-4e1d-9673-a32460d03dde"
    },
    {
      "cell_type": "code",
      "execution_count": null,
      "metadata": {},
      "outputs": [],
      "source": [
        "import numpy as np\n",
        "import pandas as pd\n",
        "import statsmodels.api as sm\n",
        "from sklearn.linear_model import LinearRegression\n",
        "from sklearn.preprocessing import PolynomialFeatures\n",
        "\n",
        "my_data = sm.datasets.get_rdataset('cars', 'datasets').data\n",
        "\n",
        "my_idx = [1, 10, 26, 33, 38, 43]\n",
        "my_sample = my_data.iloc[my_idx, ]\n",
        "X, y = my_sample[['speed']], my_sample['dist']"
      ],
      "id": "5a579cb2-1eee-4775-9390-d05b402dadc0"
    },
    {
      "cell_type": "code",
      "execution_count": null,
      "metadata": {},
      "outputs": [],
      "source": [
        "d = 5\n",
        "X5 = PolynomialFeatures(d, include_bias=False).fit_transform(X) # X\u306e1\u4e57\u304b\u30895\u4e57\u306e\u5909\u6570\n",
        "\n",
        "my_model = LinearRegression()\n",
        "my_model.fit(X5, y)\n",
        "y_ = my_model.predict(X5)"
      ],
      "id": "fd6490fd-ec39-444c-ab95-885c4a72fe4b"
    },
    {
      "cell_type": "code",
      "execution_count": null,
      "metadata": {},
      "outputs": [],
      "source": [
        "((y - y_)**2).mean()**0.5\n",
        "\n",
        "my_model.score(X5, y)\n",
        "\n",
        "np.corrcoef(y, y_)[0, 1]**2"
      ],
      "id": "e4f1769a-397f-4090-9284-d195049cda30"
    },
    {
      "cell_type": "code",
      "execution_count": null,
      "metadata": {},
      "outputs": [],
      "source": [
        "tmp = pd.DataFrame({'speed': np.linspace(min(my_data.speed),\n",
        "                                         max(my_data.speed),\n",
        "                                         100)})\n",
        "X5 = PolynomialFeatures(d, include_bias=False).fit_transform(tmp)\n",
        "tmp['model'] = my_model.predict(X5)\n",
        "\n",
        "my_sample = my_sample.assign(sample=y)\n",
        "my_df = pd.concat([my_data, my_sample, tmp])\n",
        "my_df.plot(x='speed', style=['o', 'o', '-'], ylim=(0, 130))"
      ],
      "id": "bfa3c895-40e8-444c-8be2-63f0cd7d9ef5"
    },
    {
      "id": "1f20d255",
      "cell_type": "markdown",
      "source": "## 7.5 K\u6700\u8fd1\u508d\u6cd5",
      "metadata": {}
    },
    {
      "cell_type": "code",
      "execution_count": null,
      "metadata": {},
      "outputs": [],
      "source": [
        "# \u6e96\u5099\n",
        "import numpy as np\n",
        "import pandas as pd\n",
        "import statsmodels.api as sm\n",
        "from sklearn.neighbors import KNeighborsRegressor\n",
        "\n",
        "my_data = sm.datasets.get_rdataset('cars', 'datasets').data\n",
        "X, y = my_data[['speed']], my_data['dist']\n",
        "\n",
        "# \u8a13\u7df4\n",
        "my_model = KNeighborsRegressor()\n",
        "my_model.fit(X, y)\n",
        "\n",
        "# \u53ef\u8996\u5316\u306e\u6e96\u5099\n",
        "tmp = pd.DataFrame({'speed': np.linspace(min(my_data.speed),\n",
        "                                         max(my_data.speed),\n",
        "                                         100)})\n",
        "tmp['model'] = my_model.predict(tmp)"
      ],
      "id": "f4179720-ef8e-4e66-9ce3-7f06b26fe64d"
    },
    {
      "cell_type": "code",
      "execution_count": null,
      "metadata": {},
      "outputs": [],
      "source": [
        "pd.concat([my_data, tmp]).plot(\n",
        "    x='speed', style=['o', '-'])"
      ],
      "id": "bb50dcac-8070-4209-8eb3-87c75becd72c"
    },
    {
      "cell_type": "code",
      "execution_count": null,
      "metadata": {},
      "outputs": [],
      "source": [
        "y_ = my_model.predict(X)\n",
        "\n",
        "((y - y_)**2).mean()**0.5\n",
        "\n",
        "my_model.score(X, y)\n",
        "\n",
        "np.corrcoef(y, y_)[0, 1]**2"
      ],
      "id": "42028691-0fbf-47f2-acf5-4f8651affcb9"
    },
    {
      "id": "85be4999",
      "cell_type": "markdown",
      "source": "## 7.6 \u691c\u8a3c",
      "metadata": {}
    },
    {
      "cell_type": "code",
      "execution_count": null,
      "metadata": {},
      "outputs": [],
      "source": [
        "import statsmodels.api as sm\n",
        "from sklearn.linear_model import LinearRegression\n",
        "from sklearn.model_selection import cross_val_score\n",
        "\n",
        "# \u30c7\u30fc\u30bf\u306e\u6e96\u5099\n",
        "my_data = sm.datasets.get_rdataset('cars', 'datasets').data\n",
        "X, y = my_data[['speed']], my_data['dist']\n",
        "\n",
        "# \u30e2\u30c7\u30eb\u306e\u6307\u5b9a\n",
        "my_model = LinearRegression()\n",
        "\n",
        "# \u691c\u8a3c\uff085\u5206\u5272\u4ea4\u5dee\u691c\u8a3c\uff09\n",
        "my_scores = cross_val_score(my_model, X, y)\n",
        "\n",
        "# 5\u500b\u306e\u6c7a\u5b9a\u4fc2\u65701\u3092\u5f97\u308b\uff0e\n",
        "my_scores\n",
        "\n",
        "# \u5e73\u5747\u3092\u6c7a\u5b9a\u4fc2\u65701\uff08\u691c\u8a3c\uff09\u3068\u3059\u308b\uff0e\n",
        "my_scores.mean()"
      ],
      "id": "1a45015e-f825-4f23-87af-b317e3be2020"
    },
    {
      "cell_type": "code",
      "execution_count": null,
      "metadata": {},
      "outputs": [],
      "source": [
        "my_scores = cross_val_score(my_model, X, y,\n",
        "                            scoring='neg_root_mean_squared_error')\n",
        "-my_scores.mean()"
      ],
      "id": "87c179af-ce32-45cb-804e-739912311ac9"
    },
    {
      "cell_type": "code",
      "execution_count": null,
      "metadata": {},
      "outputs": [],
      "source": [
        "import numpy as np\n",
        "import statsmodels.api as sm\n",
        "from sklearn.linear_model import LinearRegression\n",
        "from sklearn.metrics import mean_squared_error, r2_score\n",
        "from sklearn.model_selection import cross_val_score, LeaveOneOut\n",
        "\n",
        "my_data = sm.datasets.get_rdataset('cars', 'datasets').data\n",
        "X, y = my_data[['speed']], my_data['dist']\n",
        "my_model = LinearRegression().fit(X, y)\n",
        "y_ = my_model.predict(X)"
      ],
      "id": "1fb80d64-afb4-4f02-8ca2-13527c202b9d"
    },
    {
      "cell_type": "code",
      "execution_count": null,
      "metadata": {},
      "outputs": [],
      "source": [
        "# RMSE\uff08\u8a13\u7df4\uff09\n",
        "mean_squared_error(y, y_)**0.5\n",
        "\n",
        "# \u6c7a\u5b9a\u4fc2\u65701\uff08\u8a13\u7df4\uff09\n",
        "my_model.score(X, y)\n",
        "# \u3042\u308b\u3044\u306f\n",
        "r2_score(y_true=y, y_pred=y_)\n",
        "\n",
        "# \u6c7a\u5b9a\u4fc2\u65706\uff08\u8a13\u7df4\uff09\n",
        "np.corrcoef(y, y_)[0, 1]**2"
      ],
      "id": "47c890d3-3cb1-45ff-a206-1e3ff87bee07"
    },
    {
      "cell_type": "code",
      "execution_count": null,
      "metadata": {},
      "outputs": [],
      "source": [
        "my_scores = cross_val_score(my_model, X, y,\n",
        "                            scoring='neg_root_mean_squared_error')\n",
        "-my_scores.mean()\n",
        "\n",
        "my_scores = cross_val_score(my_model, X, y, scoring='r2') # scoring='r2'\u306f\u7701\u7565\u53ef\n",
        "my_scores.mean()"
      ],
      "id": "5a33b4db-f711-48be-a8fb-52d148d8aa3f"
    },
    {
      "cell_type": "code",
      "execution_count": null,
      "metadata": {},
      "outputs": [],
      "source": [
        "# \u65b9\u6cd51\n",
        "my_scores1 = cross_val_score(my_model, X, y, cv=LeaveOneOut(),\n",
        "                             scoring='neg_mean_squared_error')\n",
        "(-my_scores1.mean())**0.5\n",
        "\n",
        "# \u65b9\u6cd52\n",
        "my_scores2 = cross_val_score(my_model, X, y, cv=LeaveOneOut(),\n",
        "                             scoring='neg_root_mean_squared_error')\n",
        "(my_scores2**2).mean()**0.5"
      ],
      "id": "03781350-c534-48eb-b0fb-075ffbb11d58"
    },
    {
      "cell_type": "code",
      "execution_count": null,
      "metadata": {},
      "outputs": [],
      "source": [
        "-my_scores2.mean()"
      ],
      "id": "6a4cb7bc-8b72-4e49-905f-df2bd4db09b4"
    },
    {
      "cell_type": "code",
      "execution_count": null,
      "metadata": {},
      "outputs": [],
      "source": [
        "import pandas as pd\n",
        "import statsmodels.api as sm\n",
        "from sklearn.linear_model import LinearRegression\n",
        "from sklearn.metrics import mean_squared_error\n",
        "from sklearn.model_selection import cross_val_score, LeaveOneOut\n",
        "from sklearn.neighbors import KNeighborsRegressor\n",
        "\n",
        "my_data = sm.datasets.get_rdataset('cars', 'datasets').data\n",
        "X, y = my_data[['speed']], my_data['dist']\n",
        "\n",
        "my_lm_scores = cross_val_score(\n",
        "    LinearRegression(),\n",
        "    X, y, cv=LeaveOneOut(), scoring='neg_mean_squared_error')\n",
        "\n",
        "my_knn_socres = cross_val_score(\n",
        "    KNeighborsRegressor(n_neighbors=5),\n",
        "    X, y, cv=LeaveOneOut(), scoring='neg_mean_squared_error')"
      ],
      "id": "4905b5f3-481b-403b-8f77-d2c8c8cbd007"
    },
    {
      "cell_type": "code",
      "execution_count": null,
      "metadata": {},
      "outputs": [],
      "source": [
        "(-my_lm_scores.mean())**0.5\n",
        "\n",
        "(-my_knn_socres.mean())**0.5"
      ],
      "id": "9f72c280-06de-45ae-a5f2-72f94976e11b"
    },
    {
      "cell_type": "code",
      "execution_count": null,
      "metadata": {},
      "outputs": [],
      "source": [
        "my_df = pd.DataFrame({\n",
        "    'lm': -my_lm_scores,\n",
        "    'knn': -my_knn_socres})\n",
        "my_df.head()"
      ],
      "id": "f1fbc849-b89d-4797-ae60-ec898f2869a2"
    },
    {
      "cell_type": "code",
      "execution_count": null,
      "metadata": {},
      "outputs": [],
      "source": [
        "my_df.boxplot().set_ylabel(\"$r^2$\")"
      ],
      "id": "a4fbf98d-017b-4637-92d3-b82a01f4521d"
    },
    {
      "cell_type": "code",
      "execution_count": null,
      "metadata": {},
      "outputs": [],
      "source": [
        "from statsmodels.stats.weightstats import DescrStatsW\n",
        "d = DescrStatsW(my_df.lm - my_df.knn)\n",
        "d.ttest_mean()[1] # p\u5024\n",
        "\n",
        "d.tconfint_mean(alpha=0.05, alternative='two-sided') # \u4fe1\u983c\u533a\u9593"
      ],
      "id": "31bb1394-24e0-4802-ac69-412dd1c7ebc3"
    },
    {
      "id": "bf5afda9",
      "cell_type": "markdown",
      "source": "## 7.7 \u30d1\u30e9\u30e1\u30fc\u30bf\u30c1\u30e5\u30fc\u30cb\u30f3\u30b0",
      "metadata": {}
    },
    {
      "cell_type": "code",
      "execution_count": null,
      "metadata": {},
      "outputs": [],
      "source": [
        "import pandas as pd\n",
        "import statsmodels.api as sm\n",
        "from sklearn.metrics import mean_squared_error\n",
        "from sklearn.model_selection import GridSearchCV, LeaveOneOut\n",
        "from sklearn.neighbors import KNeighborsRegressor\n",
        "\n",
        "my_data = sm.datasets.get_rdataset('cars', 'datasets').data\n",
        "X, y = my_data[['speed']], my_data['dist']\n",
        "\n",
        "my_params = {'n_neighbors': range(1, 16)} # \u63a2\u7d22\u7bc4\u56f2\uff081\u4ee5\u4e0a16\u672a\u6e80\u306e\u6574\u6570\uff09\n",
        "\n",
        "my_search = GridSearchCV(estimator=KNeighborsRegressor(),\n",
        "                         param_grid=my_params,\n",
        "                         cv=LeaveOneOut(),\n",
        "                         scoring='neg_mean_squared_error')\n",
        "my_search.fit(X, y)"
      ],
      "id": "f34f57b4-9aa5-4d09-83ed-e35a9a33765e"
    },
    {
      "cell_type": "code",
      "execution_count": null,
      "metadata": {},
      "outputs": [],
      "source": [
        "tmp = my_search.cv_results_                # \u30c1\u30e5\u30fc\u30cb\u30f3\u30b0\u306e\u8a73\u7d30\n",
        "my_scores = (-tmp['mean_test_score'])**0.5 # RMSE\n",
        "my_results = pd.DataFrame(tmp['params']).assign(validation=my_scores)"
      ],
      "id": "e6c4d0bd-975b-47eb-b4dc-df12e7ffd799"
    },
    {
      "cell_type": "code",
      "execution_count": null,
      "metadata": {},
      "outputs": [],
      "source": [
        "my_results.head()"
      ],
      "id": "01fdaed0-4190-4e0a-98d3-0326c8c9f078"
    },
    {
      "cell_type": "code",
      "execution_count": null,
      "metadata": {},
      "outputs": [],
      "source": [
        "my_results.plot(x='n_neighbors',\n",
        "                style='o-',\n",
        "                ylabel='RMSE')"
      ],
      "id": "47b3f6c3-52ae-4345-b37f-2aa17c6df04e"
    },
    {
      "cell_type": "code",
      "execution_count": null,
      "metadata": {},
      "outputs": [],
      "source": [
        "my_search.best_params_"
      ],
      "id": "b9cbe8e5-c1ef-4dcd-8a6f-b9aa7e81cd95"
    },
    {
      "cell_type": "code",
      "execution_count": null,
      "metadata": {},
      "outputs": [],
      "source": [
        "(-my_search.best_score_)**0.5"
      ],
      "id": "08d6813c-6448-4ef8-bf28-9132fe262f76"
    },
    {
      "cell_type": "code",
      "execution_count": null,
      "metadata": {},
      "outputs": [],
      "source": [
        "my_model = my_search.best_estimator_\n",
        "y_ = my_model.predict(X)\n",
        "mean_squared_error(y_, y)**0.5"
      ],
      "id": "52fa45a4-6566-488a-830b-e197b755594c"
    },
    {
      "cell_type": "code",
      "execution_count": null,
      "metadata": {},
      "outputs": [],
      "source": [
        "import pandas as pd\n",
        "import statsmodels.api as sm\n",
        "from sklearn.metrics import mean_squared_error\n",
        "from sklearn.model_selection import cross_val_score, LeaveOneOut\n",
        "from sklearn.neighbors import KNeighborsRegressor\n",
        "\n",
        "my_data = sm.datasets.get_rdataset('cars', 'datasets').data\n",
        "X, y = my_data[['speed']], my_data['dist']\n",
        "\n",
        "def my_loocv(k):\n",
        "    my_model = KNeighborsRegressor(n_neighbors=k)\n",
        "    my_scores = cross_val_score(estimator=my_model, X=X, y=y,\n",
        "                                cv=LeaveOneOut(),\n",
        "                                scoring='neg_mean_squared_error')\n",
        "    y_ = my_model.fit(X, y).predict(X)\n",
        "    return pd.Series([k,\n",
        "                      (-my_scores.mean())**0.5,        # RMSE\uff08\u691c\u8a3c\uff09\n",
        "                      mean_squared_error(y_, y)**0.5], # RMSE\uff08\u8a13\u7df4\uff09\n",
        "                     index=['n_neighbors', 'validation', 'training'])\n",
        "\n",
        "my_results = pd.Series(range(1, 16)).apply(my_loocv)"
      ],
      "id": "afb7dcff-aed9-4fc9-9b6d-789f8b9a1af0"
    },
    {
      "cell_type": "code",
      "execution_count": null,
      "metadata": {},
      "outputs": [],
      "source": [
        "my_results.plot(x='n_neighbors',\n",
        "                style='o-',\n",
        "                ylabel='RMSE')"
      ],
      "id": "422f9bdd-d4b4-4f4d-9268-d4ea61489b76"
    }
  ],
  "nbformat": 4,
  "nbformat_minor": 5,
  "metadata": {}
}