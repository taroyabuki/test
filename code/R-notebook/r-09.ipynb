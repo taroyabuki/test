{
  "cells": [
    {
      "cell_type": "code",
      "execution_count": null,
      "metadata": {},
      "outputs": [],
      "source": [
        "# Google Colaboratory\u306e\u74b0\u5883\u8a2d\u5b9a\n",
        "if (file.exists(\"/content\")) {\n",
        "  options(Ncpus = parallel::detectCores())\n",
        "  installed_packages <- rownames(installed.packages())\n",
        "  packages_to_install <- c(\"caret\", \"furrr\", \"psych\", \"randomForest\", \"rpart.plot\", \"xgboost\")\n",
        "  install.packages(setdiff(packages_to_install, installed_packages))\n",
        "}"
      ],
      "id": "ca24c484-0750-4140-97a7-63bfa7eb9dd3"
    },
    {
      "id": "740a0926",
      "cell_type": "markdown",
      "source": "## 9.1 \u30a2\u30e4\u30e1\u306e\u30c7\u30fc\u30bf",
      "metadata": {}
    },
    {
      "cell_type": "code",
      "execution_count": null,
      "metadata": {},
      "outputs": [],
      "source": [
        "my_data <- iris\n",
        "head(my_data)"
      ],
      "id": "57300260-56d4-46af-ae1a-ccecaeb7b71a"
    },
    {
      "cell_type": "code",
      "execution_count": null,
      "metadata": {},
      "outputs": [],
      "source": [
        "psych::describe(my_data)"
      ],
      "id": "62173466-4852-4b2e-b227-8720590ad618"
    },
    {
      "id": "87733eaa",
      "cell_type": "markdown",
      "source": "## 9.2 \u6728\u306b\u3088\u308b\u5206\u985e",
      "metadata": {}
    },
    {
      "cell_type": "code",
      "execution_count": null,
      "metadata": {},
      "outputs": [],
      "source": [
        "library(caret)\n",
        "library(tidyverse)\n",
        "my_data <- iris\n",
        "my_model <- train(form = Species ~ ., data = my_data, method = \"rpart\")"
      ],
      "id": "c456773b-81da-4c0b-aeb9-1318ead9cdb7"
    },
    {
      "cell_type": "code",
      "execution_count": null,
      "metadata": {},
      "outputs": [],
      "source": [
        "rpart.plot::rpart.plot(my_model$finalModel, extra = 1)"
      ],
      "id": "9ac6bec2-f546-428a-aaa0-d18e94b3eb94"
    },
    {
      "cell_type": "code",
      "execution_count": null,
      "metadata": {},
      "outputs": [],
      "source": [
        "my_test <- tribble(\n",
        "~Sepal.Length, ~Sepal.Width, ~Petal.Length, ~Petal.Width,\n",
        "          5.0,          3.5,           1.5,          0.5,\n",
        "          6.5,          3.0,           5.0,          2.0)\n",
        "\n",
        "my_model %>% predict(my_test)"
      ],
      "id": "bd99f6cf-2adc-4409-beed-cbe9b40f5c1a"
    },
    {
      "cell_type": "code",
      "execution_count": null,
      "metadata": {},
      "outputs": [],
      "source": [
        "my_model %>% predict(my_test,\n",
        "                     type = \"prob\")"
      ],
      "id": "f26d4c2c-bd0d-4364-8082-0fe0fc00ac9f"
    },
    {
      "id": "f04d85a3",
      "cell_type": "markdown",
      "source": "## 9.3 \u6b63\u89e3\u7387",
      "metadata": {}
    },
    {
      "cell_type": "code",
      "execution_count": null,
      "metadata": {},
      "outputs": [],
      "source": [
        "library(caret)\n",
        "library(tidyverse)\n",
        "my_data <- iris\n",
        "my_model <- train(form = Species ~ ., data = my_data, method = \"rpart2\")\n",
        "\n",
        "y  <- my_data$Species\n",
        "y_ <- my_model %>% predict(my_data)\n",
        "confusionMatrix(data = y_, reference = y)\n",
        "# \u4ee5\u4e0b\u306f\u5272\u611b"
      ],
      "id": "8fc1cbce-d7bf-44e3-a17a-aa607ffde4f9"
    },
    {
      "cell_type": "code",
      "execution_count": null,
      "metadata": {},
      "outputs": [],
      "source": [
        "y  <- my_data$Species\n",
        "y_ <- my_model %>% predict(my_data)\n",
        "mean(y_ == y)"
      ],
      "id": "fa346c9c-2012-4c00-aea8-09f96f0abc7d"
    },
    {
      "cell_type": "code",
      "execution_count": null,
      "metadata": {},
      "outputs": [],
      "source": [
        "my_model <- train(form = Species ~ ., data = my_data, method = \"rpart2\",\n",
        "                  trControl = trainControl(method = \"LOOCV\"))\n",
        "my_model$results"
      ],
      "id": "27143160-caca-4355-b2c7-1837d89d8992"
    },
    {
      "cell_type": "code",
      "execution_count": null,
      "metadata": {},
      "outputs": [],
      "source": [
        "my_model <- train(form = Species ~ ., data = my_data, method = \"rpart2\",\n",
        "                  tuneGrid = data.frame(maxdepth = 1:10),\n",
        "                  trControl = trainControl(method = \"LOOCV\"))\n",
        "my_model$results %>% filter(Accuracy == max(Accuracy))"
      ],
      "id": "7f518a80-693a-4ef5-9ad6-804a653b181a"
    },
    {
      "cell_type": "code",
      "execution_count": null,
      "metadata": {},
      "outputs": [],
      "source": [
        "# \u30d1\u30e9\u30e1\u30fc\u30bf\u3092\u4e0e\u3048\u308b\u3068\u6b63\u89e3\u7387\uff08LOOCV\uff09\u3092\u8fd4\u3059\u95a2\u6570\n",
        "my_loocv <- function(maxdepth, minbucket, minsplit) {\n",
        "  my_model <- train(form = Species ~ ., data = my_data, method = \"rpart2\",\n",
        "                    trControl = trainControl(method = \"LOOCV\"),\n",
        "                    tuneGrid = data.frame(maxdepth = maxdepth),\n",
        "                    control = rpart::rpart.control(cp = 0.01,\n",
        "                                                   minbucket = minbucket,\n",
        "                                                   minsplit = minsplit))\n",
        "  list(maxdepth = maxdepth,\n",
        "       minbucket = minbucket,\n",
        "       minsplit = minsplit,\n",
        "       Accuracy = my_model$results$Accuracy)\n",
        "}"
      ],
      "id": "556ea326-321b-4d34-a261-d51950f03dc7"
    },
    {
      "cell_type": "code",
      "execution_count": null,
      "metadata": {},
      "outputs": [],
      "source": [
        "my_params <- expand.grid(\n",
        "  maxdepth = 2:5,\n",
        "  minbucket = 1:7,\n",
        "  minsplit = c(2, 20))\n",
        "\n",
        "library(furrr)\n",
        "plan(multisession) # \u4e26\u5217\u51e6\u7406\u306e\u6e96\u5099\n",
        "my_results <- my_params %>% future_pmap_dfr(my_loocv, # \u5b9f\u884c\n",
        "  .options = furrr_options(seed = TRUE))\n",
        "\n",
        "my_results %>% filter(Accuracy == max(Accuracy)) # \u6b63\u89e3\u7387\uff08\u691c\u8a3c\uff09\u306e\u6700\u5927\u5024"
      ],
      "id": "00fcd07f-f704-4506-80c3-bed476e295ca"
    },
    {
      "cell_type": "code",
      "execution_count": null,
      "metadata": {},
      "outputs": [],
      "source": [
        "my_model <- train(form = Species ~ ., data = my_data, method = \"rpart2\",\n",
        "                  trControl = trainControl(method = \"none\"),\n",
        "                  tuneGrid = data.frame(maxdepth = 3),\n",
        "                  control = rpart::rpart.control(cp = 0.01,\n",
        "                                                 minbucket = 5,\n",
        "                                                 minsplit = 2))"
      ],
      "id": "06d4394a-39f6-4daf-8ee0-8fe87961c033"
    },
    {
      "cell_type": "code",
      "execution_count": null,
      "metadata": {},
      "outputs": [],
      "source": [
        "rpart.plot::rpart.plot(\n",
        "  my_model$finalModel, extra = 1)"
      ],
      "id": "add3634a-d35d-4cf0-ac00-88e1cddf0435"
    },
    {
      "id": "7c86bb94",
      "cell_type": "markdown",
      "source": "## 9.4 \u8907\u6570\u306e\u6728\u3092\u4f7f\u3046\u65b9\u6cd5",
      "metadata": {}
    },
    {
      "cell_type": "code",
      "execution_count": null,
      "metadata": {},
      "outputs": [],
      "source": [
        "library(caret)\n",
        "library(tidyverse)\n",
        "my_data <- iris\n",
        "\n",
        "my_model <- train(form = Species ~ ., data = my_data, method = \"rf\",\n",
        "                  tuneGrid = data.frame(mtry = 2:4), # \u7701\u7565\u53ef\n",
        "                  trControl = trainControl(method = \"LOOCV\"))\n",
        "my_model$results"
      ],
      "id": "44858806-13e2-4e93-882a-79baf73a5a78"
    },
    {
      "cell_type": "code",
      "execution_count": null,
      "metadata": {},
      "outputs": [],
      "source": [
        "my_model <- train(\n",
        "  form = Species ~ ., data = my_data, method = \"xgbTree\",\n",
        "  tuneGrid = expand.grid(\n",
        "    nrounds          = c(50, 100, 150),\n",
        "    max_depth        = c(1, 2, 3),\n",
        "    eta              = c(0.3, 0.4),\n",
        "    gamma            = 0,\n",
        "    colsample_bytree = c(0.6, 0.8),\n",
        "    min_child_weight = 1,\n",
        "    subsample        = c(0.5, 0.75, 1)),\n",
        "  trControl = trainControl(method = \"cv\", number = 5)) # 5\u5206\u5272\u4ea4\u5dee\u691c\u8a3c\n",
        "my_model$results %>% filter(Accuracy == max(Accuracy)) %>% head(5) %>% t"
      ],
      "id": "539a26fa-728b-448d-b023-c3032d92b926"
    },
    {
      "cell_type": "code",
      "execution_count": null,
      "metadata": {},
      "outputs": [],
      "source": [
        "my_model <- train(form = Species ~ ., data = my_data, method = \"rf\")\n",
        "ggplot(varImp(my_model))"
      ],
      "id": "b86b444b-3aab-42d5-ab8f-9956546d3ffc"
    },
    {
      "id": "84cbdcf0",
      "cell_type": "markdown",
      "source": "## 9.5 \u6b20\u640d\u306e\u3042\u308b\u30c7\u30fc\u30bf\u3067\u306e\u5b66\u7fd2",
      "metadata": {}
    },
    {
      "cell_type": "code",
      "execution_count": null,
      "metadata": {},
      "outputs": [],
      "source": [
        "library(caret)\n",
        "library(tidyverse)\n",
        "my_data <- iris\n",
        "\n",
        "n <- nrow(my_data)\n",
        "my_data$Petal.Length[0:(n - 1) %% 10 == 0] <- NA\n",
        "my_data$Petal.Width[ 0:(n - 1) %% 10 == 1] <- NA\n",
        "\n",
        "psych::describe(my_data) # n\u306e\u5024\u304c135\u306e\u5909\u6570\u306b\uff0c150 - 135 = 15\u500b\u306e\u6b20\u640d\u304c\u3042\u308b\uff0e"
      ],
      "id": "89667f0f-8167-4666-a699-7a0629e8f358"
    },
    {
      "cell_type": "code",
      "execution_count": null,
      "metadata": {},
      "outputs": [],
      "source": [
        "my_model <- train(\n",
        "  form = Species ~ ., data = my_data, method = \"rpart2\",\n",
        "  na.action = na.pass,         # \u6b20\u640d\u304c\u3042\u3063\u3066\u3082\u5b66\u7fd2\u3092\u6b62\u3081\u306a\u3044\uff0e\n",
        "  preProcess = \"medianImpute\", # \u6b20\u640d\u3092\u4e2d\u592e\u5024\u3067\u57cb\u3081\u308b\uff0e\n",
        "  trControl = trainControl(method = \"LOOCV\"),\n",
        "  tuneGrid = data.frame(maxdepth = 20),          # \u6728\u306e\u9ad8\u3055\u306e\u4e0a\u9650\n",
        "  control = rpart::rpart.control(minsplit = 2,   # \u5206\u5c90\u306e\u6761\u4ef6\n",
        "                                 minbucket = 1)) # \u7d42\u7aef\u30ce\u30fc\u30c9\u306e\u6761\u4ef6\n",
        "max(my_model$results$Accuracy)"
      ],
      "id": "7fd6cabd-41dd-40d1-b882-d7961198d790"
    },
    {
      "cell_type": "code",
      "execution_count": null,
      "metadata": {},
      "outputs": [],
      "source": [
        "my_model <- train(form = Species ~ ., data = my_data, method = \"xgbTree\",\n",
        "                  na.action = na.pass,\n",
        "                  trControl = trainControl(method = \"cv\", number = 5))\n",
        "max(my_model$results$Accuracy)"
      ],
      "id": "e41a1d17-d48f-4413-80c6-739db54a0326"
    },
    {
      "id": "02bf81f4",
      "cell_type": "markdown",
      "source": "## 9.6 \u4ed6\u306e\u5206\u985e\u624b\u6cd5",
      "metadata": {}
    },
    {
      "cell_type": "code",
      "execution_count": null,
      "metadata": {},
      "outputs": [],
      "source": [
        "library(caret)\n",
        "library(tidyverse)\n",
        "my_data <- iris\n",
        "\n",
        "my_model <- train(form = Species ~ ., data = my_data, method = \"knn\",\n",
        "                  trControl = trainControl(method = \"LOOCV\"))\n",
        "my_model$results %>% filter(Accuracy == max(Accuracy))"
      ],
      "id": "4c547439-6d28-4d89-bf13-4a28555b49ef"
    },
    {
      "cell_type": "code",
      "execution_count": null,
      "metadata": {},
      "outputs": [],
      "source": [
        "library(caret)\n",
        "library(tidyverse)\n",
        "my_data <- iris\n",
        "\n",
        "my_model <- train(form = Species ~ ., data = my_data, method = \"nnet\",\n",
        "                  preProcess = c(\"center\", \"scale\"), # \u6a19\u6e96\u5316\n",
        "                  trControl = trainControl(method = \"LOOCV\"),\n",
        "                  trace = FALSE) # \u9014\u4e2d\u7d4c\u904e\u3092\u8868\u793a\u3057\u306a\u3044\n",
        "my_model$results %>% filter(Accuracy == max(Accuracy))"
      ],
      "id": "9377240f-c49f-4611-a6d4-9d38f1e96b4b"
    }
  ],
  "nbformat": 4,
  "nbformat_minor": 5,
  "metadata": {}
}