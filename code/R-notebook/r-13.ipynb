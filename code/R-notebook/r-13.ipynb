{
  "cells": [
    {
      "cell_type": "code",
      "execution_count": null,
      "metadata": {},
      "outputs": [],
      "source": [
        "# Google Colaboratory\u306e\u74b0\u5883\u8a2d\u5b9a\n",
        "if (file.exists(\"/content\")) {\n",
        "  options(Ncpus = parallel::detectCores())\n",
        "  installed_packages <- rownames(installed.packages())\n",
        "  packages_to_install <- c(\"factoextra\", \"ggbiplot\", \"igraph\")\n",
        "  install.packages(setdiff(packages_to_install, installed_packages))\n",
        "}"
      ],
      "id": "2ed11bb1-d257-4f46-b832-a8266c188420"
    },
    {
      "id": "29786d12",
      "cell_type": "markdown",
      "source": "## 13.1 \u4e3b\u6210\u5206\u5206\u6790",
      "metadata": {}
    },
    {
      "cell_type": "code",
      "execution_count": null,
      "metadata": {},
      "outputs": [],
      "source": [
        "library(tidyverse)\n",
        "\n",
        "my_data <- data.frame(\n",
        "  language  = c(  0,  20,  20,  25,  22,  17),\n",
        "  english   = c(  0,  20,  40,  20,  24,  18),\n",
        "  math      = c(100,  20,   5,  30,  17,  25),\n",
        "  science   = c(  0,  20,   5,  25,  16,  23),\n",
        "  society   = c(  0,  20,  30,   0,  21,  17),\n",
        "  row.names = c(\"A\", \"B\", \"C\", \"D\", \"E\", \"F\"))\n",
        "my_result <- my_data %>% prcomp # \u4e3b\u6210\u5206\u5206\u6790\u306e\u5b9f\u884c"
      ],
      "id": "beb9fb4a-e369-4e0d-ad03-d06ae749714b"
    },
    {
      "cell_type": "code",
      "execution_count": null,
      "metadata": {},
      "outputs": [],
      "source": [
        "my_result$x # \u4e3b\u6210\u5206\u30b9\u30b3\u30a2"
      ],
      "id": "0f5f40b0-e7ff-4e2b-9b11-a6e8bb5317eb"
    },
    {
      "cell_type": "code",
      "execution_count": null,
      "metadata": {},
      "outputs": [],
      "source": [
        "my_result %>% ggbiplot::ggbiplot(\n",
        "  labels = row.names(my_data),\n",
        "  scale = 0)"
      ],
      "id": "9195a09f-0495-4840-90b7-f7c00edc6ffe"
    },
    {
      "cell_type": "code",
      "execution_count": null,
      "metadata": {},
      "outputs": [],
      "source": [
        "my_result$rotation %>% t"
      ],
      "id": "6e9ebc6d-a4d3-477a-8450-a250e043fc9c"
    },
    {
      "cell_type": "code",
      "execution_count": null,
      "metadata": {},
      "outputs": [],
      "source": [
        "summary(my_result)"
      ],
      "id": "73ab4561-89ca-4aba-a170-20dde49d8195"
    },
    {
      "cell_type": "code",
      "execution_count": null,
      "metadata": {},
      "outputs": [],
      "source": [
        "my_result <- prcomp(\n",
        "  x = my_data,\n",
        "  scale = TRUE)       # \u6a19\u6e96\u5316\n",
        "# \u3042\u308b\u3044\u306f\n",
        "my_result <- prcomp(\n",
        "  x = scale(my_data)) # \u6a19\u6e96\u5316\u30c7\u30fc\u30bf\n",
        "\n",
        "my_result$x # \u4e3b\u6210\u5206\u30b9\u30b3\u30a2"
      ],
      "id": "53a49760-f498-4128-bace-849654d583db"
    },
    {
      "cell_type": "code",
      "execution_count": null,
      "metadata": {},
      "outputs": [],
      "source": [
        "Z  <- my_data %>% scale(scale = FALSE) %>% as.matrix # \u6a19\u6e96\u5316\u3057\u306a\u3044\u5834\u5408\n",
        "#Z <- my_data %>% scale(scale = TRUE)  %>% as.matrix # \u6a19\u6e96\u5316\u3059\u308b\u5834\u5408\n",
        "\n",
        "n <- nrow(my_data)\n",
        "S <- var(Z)                          # \u5206\u6563\u5171\u5206\u6563\u884c\u5217\n",
        "#S <- t(Z) %*% Z / (n - 1)           # \uff08\u540c\u3058\u7d50\u679c\uff09\n",
        "tmp <- eigen(S)                      # \u56fa\u6709\u5024\u3068\u56fa\u6709\u30d9\u30af\u30c8\u30eb\n",
        "Z %*% tmp$vectors                    # \u4e3b\u6210\u5206\u30b9\u30b3\u30a2\uff08\u7d50\u679c\u306f\u5272\u611b\uff09\n",
        "cumsum(tmp$values) / sum(tmp$values) # \u7d2f\u7a4d\u5bc4\u4e0e\u7387"
      ],
      "id": "2e5b9235-dbed-42ee-a838-7cfdba700fc7"
    },
    {
      "cell_type": "code",
      "execution_count": null,
      "metadata": {},
      "outputs": [],
      "source": [
        "udv <- svd(Z) # \u7279\u7570\u5024\u5206\u89e3\n",
        "U <- udv$u\n",
        "d <- udv$d\n",
        "V <- udv$v\n",
        "W <- diag(d)\n",
        "\n",
        "c(all.equal(Z, U %*% W %*% t(V), check.attributes = FALSE), # \u78ba\u8a8d1\n",
        "  all.equal(t(U) %*% U, diag(dim(U)[2])),                   # \u78ba\u8a8d2\n",
        "  all.equal(t(V) %*% V, diag(dim(V)[2])))                   # \u78ba\u8a8d3\n",
        "\n",
        "U %*% W            # \u4e3b\u6210\u5206\u30b9\u30b3\u30a2\uff08\u7d50\u679c\u306f\u5272\u611b\uff09\n",
        "\n",
        "e <- d^2 / (n - 1) # \u5206\u6563\u5171\u5206\u6563\u884c\u5217\u306e\u56fa\u6709\u5024\n",
        "cumsum(e) / sum(e) # \u7d2f\u7a4d\u5bc4\u4e0e\u7387"
      ],
      "id": "5e4aeaaf-0ba6-4142-94b8-d4c5775565e2"
    },
    {
      "id": "c9bc8fda",
      "cell_type": "markdown",
      "source": "## 13.2 \u30af\u30e9\u30b9\u30bf\u5206\u6790",
      "metadata": {}
    },
    {
      "cell_type": "code",
      "execution_count": null,
      "metadata": {},
      "outputs": [],
      "source": [
        "library(tidyverse)\n",
        "\n",
        "my_data <- data.frame(\n",
        "  x         = c(  0, -16,  10,  10),\n",
        "  y         = c(  0,   0,  10, -15),\n",
        "  row.names = c(\"A\", \"B\", \"C\", \"D\"))\n",
        "\n",
        "my_result <- my_data %>%\n",
        "  dist(\"euclidian\") %>% # dist\u3060\u3051\u3067\u3082\u53ef\n",
        "  hclust(\"complete\")    # hclust\u3060\u3051\u3067\u3082\u53ef"
      ],
      "id": "87570630-313e-4929-aebc-c33be35d339b"
    },
    {
      "cell_type": "code",
      "execution_count": null,
      "metadata": {},
      "outputs": [],
      "source": [
        "my_result %>% factoextra::fviz_dend(\n",
        "  k = 3, # \u30af\u30e9\u30b9\u30bf\u6570\n",
        "  rect = TRUE, rect_fill = TRUE)"
      ],
      "id": "86f8e1ee-96a4-4051-b6bc-d18fb20312ca"
    },
    {
      "cell_type": "code",
      "execution_count": null,
      "metadata": {},
      "outputs": [],
      "source": [
        "my_result %>% factoextra::fviz_dend(\n",
        "  k = 3,\n",
        "  rect = TRUE, rect_fill = TRUE,\n",
        "  type = \"phylogenic\")"
      ],
      "id": "04f1e158-1169-4f5f-981b-0d3c23a9de28"
    },
    {
      "cell_type": "code",
      "execution_count": null,
      "metadata": {},
      "outputs": [],
      "source": [
        "my_result %>% cutree(3)"
      ],
      "id": "46fde570-ab08-4270-b7a7-cced152e61da"
    },
    {
      "cell_type": "code",
      "execution_count": null,
      "metadata": {},
      "outputs": [],
      "source": [
        "library(tidyverse)\n",
        "\n",
        "my_data <- data.frame(\n",
        "  language  = c(  0,  20,  20,  25,  22,  17),\n",
        "  english   = c(  0,  20,  40,  20,  24,  18),\n",
        "  math      = c(100,  20,   5,  30,  17,  25),\n",
        "  science   = c(  0,  20,   5,  25,  16,  23),\n",
        "  society   = c(  0,  20,  30,   0,  21,  17),\n",
        "  row.names = c(\"A\", \"B\", \"C\", \"D\", \"E\", \"F\"))\n",
        "\n",
        "try( # RMarkdown\u3067\u767a\u751f\u3059\u308b\u30a8\u30e9\u30fc\u3092\u56de\u907f\u3059\u308b\uff0e\n",
        "  my_data %>% scale %>%                        # \u5217\u3054\u3068\u306e\u6a19\u6e96\u5316\n",
        "    gplots::heatmap.2(cexRow = 1, cexCol = 1), # \u30e9\u30d9\u30eb\u306e\u30b5\u30a4\u30ba\u3092\u6307\u5b9a\u3057\u3066\u63cf\u753b\u3059\u308b\uff0e\n",
        "  silent = TRUE)"
      ],
      "id": "7f44ccca-0756-434b-94a4-3d250bcca93e"
    },
    {
      "cell_type": "code",
      "execution_count": null,
      "metadata": {},
      "outputs": [],
      "source": [
        "library(tidyverse)\n",
        "\n",
        "my_data <- data.frame(\n",
        "  x         = c(  0, -16,  10,  10),\n",
        "  y         = c(  0,   0,  10, -15),\n",
        "  row.names = c(\"A\", \"B\", \"C\", \"D\"))\n",
        "\n",
        "my_result <- my_data %>% kmeans(3)"
      ],
      "id": "091f0106-ecbd-46e6-a4a3-1890f60e76c4"
    },
    {
      "cell_type": "code",
      "execution_count": null,
      "metadata": {},
      "outputs": [],
      "source": [
        "my_result$cluster"
      ],
      "id": "5c58851d-e9b6-412c-9f20-32c2cefced29"
    },
    {
      "cell_type": "code",
      "execution_count": null,
      "metadata": {},
      "outputs": [],
      "source": [
        "library(tidyverse)\n",
        "library(factoextra)\n",
        "\n",
        "my_data <- iris[, -5]\n",
        "\n",
        "f <- 2:5 %>% map(function(k) {\n",
        "  my_data %>% kmeans(k) %>%\n",
        "    fviz_cluster(data = my_data, geom = \"point\") +\n",
        "    ggtitle(sprintf(\"k = %s\", k))\n",
        "})\n",
        "gridExtra::grid.arrange(f[[1]], f[[2]], f[[3]], f[[4]], ncol = 2)"
      ],
      "id": "dd2eb3e6-32e0-4202-a29f-f9f8c784d5f2"
    },
    {
      "cell_type": "code",
      "execution_count": null,
      "metadata": {},
      "outputs": [],
      "source": [
        "fviz_nbclust(my_data, kmeans, method = \"wss\")"
      ],
      "id": "ecd44cbb-3107-463a-afc3-7519deed5fda"
    },
    {
      "cell_type": "code",
      "execution_count": null,
      "metadata": {},
      "outputs": [],
      "source": [
        "library(tidyverse)\n",
        "my_data <- iris[, -5] %>% scale\n",
        "\n",
        "my_result <- prcomp(my_data)$x %>% as.data.frame # \u4e3b\u6210\u5206\u5206\u6790\n",
        "\n",
        "# \u975e\u968e\u5c64\u7684\u30af\u30e9\u30b9\u30bf\u5206\u6790\u306e\u5834\u5408\n",
        "my_result$cluster <- (my_data %>% scale %>% kmeans(3))$cluster %>% as.factor\n",
        "\n",
        "# \u968e\u5c64\u7684\u30af\u30e9\u30b9\u30bf\u5206\u6790\u306e\u5834\u5408\n",
        "#my_result$cluster <- my_data %>% dist %>% hclust %>% cutree(3) %>% as.factor\n",
        "\n",
        "my_result %>%\n",
        "  ggplot(aes(x = PC1, y = PC2, color = cluster)) + # \u8272\u3067\u30af\u30e9\u30b9\u30bf\u3092\u8868\u73fe\u3059\u308b\uff0e\n",
        "  geom_point(shape = iris$Species) +               # \u5f62\u3067\u54c1\u7a2e\u3092\u8868\u73fe\u3059\u308b\uff0e\n",
        "  theme(legend.position = \"none\")"
      ],
      "id": "736762ad-36dc-42bf-86ff-b36615b47108"
    }
  ],
  "nbformat": 4,
  "nbformat_minor": 5,
  "metadata": {}
}