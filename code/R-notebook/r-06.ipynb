{
  "cells": [
    {
      "id": "64036650",
      "cell_type": "markdown",
      "source": "## 6.1 \u6a5f\u68b0\u5b66\u7fd2\u306e\u76ee\u7684\uff08\u672c\u66f8\u306e\u5834\u5408\uff09\n\n\n",
      "metadata": {}
    },
    {
      "id": "ede2182f",
      "cell_type": "markdown",
      "source": "## 6.2 \u6a5f\u68b0\u5b66\u7fd2\u306e\u305f\u3081\u306e\u30c7\u30fc\u30bf",
      "metadata": {}
    },
    {
      "cell_type": "code",
      "execution_count": null,
      "metadata": {},
      "outputs": [],
      "source": [
        "iris\n",
        "# \u4ee5\u4e0b\u7701\u7565"
      ],
      "id": "6f3d6dbd-79e2-468f-9801-21f6a3b9ba13"
    },
    {
      "id": "0250fbd5",
      "cell_type": "markdown",
      "source": "## 6.3 \u6a5f\u68b0\u5b66\u7fd2\u306e\u305f\u3081\u306e\u624b\u6cd5",
      "metadata": {}
    }
  ],
  "nbformat": 4,
  "nbformat_minor": 5,
  "metadata": {}
}