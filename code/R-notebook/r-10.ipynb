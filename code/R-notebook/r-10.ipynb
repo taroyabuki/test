{
  "cells": [
    {
      "cell_type": "code",
      "execution_count": null,
      "metadata": {},
      "outputs": [],
      "source": [
        "# Google Colaboratory\u306e\u74b0\u5883\u8a2d\u5b9a\n",
        "if (file.exists(\"/content\")) {\n",
        "  options(Ncpus = parallel::detectCores())\n",
        "  installed_packages <- rownames(installed.packages())\n",
        "  packages_to_install <- c(\"caret\", \"PRROC\", \"rpart.plot\")\n",
        "  install.packages(setdiff(packages_to_install, installed_packages))\n",
        "}"
      ],
      "id": "858290d6-44ab-43de-8b5a-0576d64c4374"
    },
    {
      "id": "d0cd0d8d",
      "cell_type": "markdown",
      "source": "## 10.1 2\u5024\u5206\u985e\u306e\u6027\u80fd\u6307\u6a19",
      "metadata": {}
    },
    {
      "cell_type": "code",
      "execution_count": null,
      "metadata": {},
      "outputs": [],
      "source": [
        "y       <- c(  0,   1,   1,   0,   1,   0,    1,   0,   0,   1)\n",
        "y_score <- c(0.7, 0.8, 0.3, 0.4, 0.9, 0.6, 0.99, 0.1, 0.2, 0.5)"
      ],
      "id": "eb89a3ac-3a05-49d8-9419-2fcb11755c1e"
    },
    {
      "cell_type": "code",
      "execution_count": null,
      "metadata": {},
      "outputs": [],
      "source": [
        "y_ <- ifelse(0.5 <= y_score, 1, 0)\n",
        "y_"
      ],
      "id": "95aa51be-729f-4efb-b3fb-dedb30c3f5ae"
    },
    {
      "cell_type": "code",
      "execution_count": null,
      "metadata": {},
      "outputs": [],
      "source": [
        "library(caret)\n",
        "confusionMatrix(data      = as.factor(y_), # \u4e88\u6e2c\n",
        "                reference = as.factor(y),  # \u6b63\u89e3\n",
        "                positive = \"1\",            # \u300c1\u300d\u3092\u967d\u6027\u3068\u3059\u308b\uff0e\n",
        "                mode = \"everything\")       # \u5168\u3066\u306e\u6307\u6a19\u3092\u6c42\u3081\u308b\uff0e"
      ],
      "id": "7781bc68-abda-4812-ab21-f58ead83d3a8"
    },
    {
      "id": "0b9c78f6",
      "cell_type": "markdown",
      "source": "## 10.2 \u30c8\u30ec\u30fc\u30c9\u30aa\u30d5",
      "metadata": {}
    },
    {
      "cell_type": "code",
      "execution_count": null,
      "metadata": {},
      "outputs": [],
      "source": [
        "library(PRROC)\n",
        "library(tidyverse)\n",
        "\n",
        "y       <- c(  0,   1,   1,   0,   1,   0,    1,   0,   0,   1)\n",
        "y_score <- c(0.7, 0.8, 0.3, 0.4, 0.9, 0.6, 0.99, 0.1, 0.2, 0.5)\n",
        "y_      <- ifelse(0.5 <= y_score, 1, 0)\n",
        "\n",
        "c(sum((y == 0) & (y_ == 1)) / sum(y == 0), # FPR\n",
        "  sum((y == 1) & (y_ == 1)) / sum(y == 1)) # TPR"
      ],
      "id": "6b3ecc99-2dbb-4570-8c24-a42556841ccf"
    },
    {
      "cell_type": "code",
      "execution_count": null,
      "metadata": {},
      "outputs": [],
      "source": [
        "my_roc <- roc.curve(scores.class0 = y_score[y == 1], # \u7b54\u3048\u304c1\u306e\u3082\u306e\u306e\u30b9\u30b3\u30a2\n",
        "                    scores.class1 = y_score[y == 0], # \u7b54\u3048\u304c0\u306e\u3082\u306e\u306e\u30b9\u30b3\u30a2\n",
        "                    curve = TRUE)\n",
        "my_roc %>% plot(xlab = \"False Positive Rate\",\n",
        "                ylab = \"True Positive Rate\",\n",
        "                legend = FALSE)"
      ],
      "id": "9a7fd9b0-6ab9-4064-ad0c-bce74a6467d2"
    },
    {
      "cell_type": "code",
      "execution_count": null,
      "metadata": {},
      "outputs": [],
      "source": [
        "my_roc$auc"
      ],
      "id": "d4c5ad0e-82ce-454e-8e14-3b1cecfd4722"
    },
    {
      "cell_type": "code",
      "execution_count": null,
      "metadata": {},
      "outputs": [],
      "source": [
        "c(sum((y == 1) & (y_ == 1)) / sum(y  == 1), # Recall == TPR\n",
        "  sum((y == 1) & (y_ == 1)) / sum(y_ == 1)) # Precision"
      ],
      "id": "44b0fb60-74a5-4f8b-8062-8810f1a33dac"
    },
    {
      "cell_type": "code",
      "execution_count": null,
      "metadata": {},
      "outputs": [],
      "source": [
        "my_pr <- pr.curve(scores.class0 = y_score[y == 1],\n",
        "                  scores.class1 = y_score[y == 0],\n",
        "                  curve = TRUE)\n",
        "my_pr %>% plot(xlab = \"Recall\",\n",
        "               ylab = \"Precision\",\n",
        "               legend = FALSE)"
      ],
      "id": "18dfe882-0691-4fa0-b66d-ca5cc67517a3"
    },
    {
      "cell_type": "code",
      "execution_count": null,
      "metadata": {},
      "outputs": [],
      "source": [
        "my_pr$auc.integral"
      ],
      "id": "b01536d4-c6bc-4ea8-8df9-e511dd95dc41"
    },
    {
      "id": "f87857a2",
      "cell_type": "markdown",
      "source": "## 10.3 \u30bf\u30a4\u30bf\u30cb\u30c3\u30af",
      "metadata": {}
    },
    {
      "cell_type": "code",
      "execution_count": null,
      "metadata": {},
      "outputs": [],
      "source": [
        "library(caret)\n",
        "library(PRROC)\n",
        "library(tidyverse)\n",
        "\n",
        "my_url <- str_c(\"https://raw.githubusercontent.com/taroyabuki\",\n",
        "                \"/fromzero/master/data/titanic.csv\")\n",
        "my_data <- read_csv(my_url)"
      ],
      "id": "85c85049-2611-4fac-be87-de283b92bd7d"
    },
    {
      "cell_type": "code",
      "execution_count": null,
      "metadata": {},
      "outputs": [],
      "source": [
        "head(my_data)"
      ],
      "id": "700a9401-a342-436a-90b1-00238381aa72"
    },
    {
      "cell_type": "code",
      "execution_count": null,
      "metadata": {},
      "outputs": [],
      "source": [
        "my_model <- train(form = Survived ~ ., data = my_data, method = \"rpart2\",\n",
        "                  tuneGrid = data.frame(maxdepth = 2),\n",
        "                  trControl = trainControl(method = \"LOOCV\"))"
      ],
      "id": "5727deb6-7ef1-44f8-926d-43253a76340b"
    },
    {
      "cell_type": "code",
      "execution_count": null,
      "metadata": {},
      "outputs": [],
      "source": [
        "rpart.plot::rpart.plot(my_model$finalModel, extra = 1)"
      ],
      "id": "5b961bb8-18d6-4dc5-a60a-5f362827d679"
    },
    {
      "cell_type": "code",
      "execution_count": null,
      "metadata": {},
      "outputs": [],
      "source": [
        "my_model$results"
      ],
      "id": "acec3965-ed2e-4996-9662-6266335560ec"
    },
    {
      "cell_type": "code",
      "execution_count": null,
      "metadata": {},
      "outputs": [],
      "source": [
        "y <- my_data$Survived\n",
        "tmp <- my_model %>% predict(newdata = my_data, type = \"prob\")\n",
        "y_score <- tmp$Yes\n",
        "\n",
        "my_roc <- roc.curve(scores.class0 = y_score[y == \"Yes\"],\n",
        "                    scores.class1 = y_score[y == \"No\"],\n",
        "                    curve = TRUE)\n",
        "my_roc$auc\n",
        "\n",
        "my_roc %>% plot(xlab = \"False Positive Rate\",\n",
        "                ylab = \"True Positive Rate\",\n",
        "                legend = FALSE)"
      ],
      "id": "03afb871-974e-4225-b03f-ac2750d84b80"
    },
    {
      "cell_type": "code",
      "execution_count": null,
      "metadata": {},
      "outputs": [],
      "source": [
        "X <- my_data %>% select(Class) # \u8cea\u7684\u5165\u529b\u5909\u6570\n",
        "y <- my_data$Survived          # \u51fa\u529b\u5909\u6570\n",
        "\n",
        "options(warn = -1) # \u3053\u308c\u4ee5\u964d\uff0c\u8b66\u544a\u3092\u8868\u793a\u3057\u306a\u3044\uff0e\n",
        "my_model1 <- train(x = X, y = y, method = \"rpart2\",\n",
        "                   tuneGrid = data.frame(maxdepth = 2),\n",
        "                   trControl = trainControl(method = \"LOOCV\"))\n",
        "options(warn = 0)  # \u3053\u308c\u4ee5\u964d\uff0c\u8b66\u544a\u3092\u8868\u793a\u3059\u308b\uff0e\n",
        "\n",
        "rpart.plot::rpart.plot(my_model1$finalModel, extra = 1)\n",
        "my_model1$results"
      ],
      "id": "fe318fa7-01fc-430b-918f-d8b12ae9072b"
    },
    {
      "cell_type": "code",
      "execution_count": null,
      "metadata": {},
      "outputs": [],
      "source": [
        "my_enc <- my_data %>% dummyVars(formula = Survived ~ Class)\n",
        "my_data2 <- my_enc %>%\n",
        "  predict(my_data) %>%\n",
        "  as.data.frame %>%\n",
        "  mutate(Survived = my_data$Survived)\n",
        "\n",
        "my_model2 <- train(form = Survived ~ ., data = my_data2, method = \"rpart2\",\n",
        "                   tuneGrid = data.frame(maxdepth = 2),\n",
        "                   trControl = trainControl(method = \"LOOCV\"))\n",
        "rpart.plot::rpart.plot(my_model2$finalModel, extra = 1)\n",
        "my_model2$results"
      ],
      "id": "ccc59847-05a3-488f-83bd-304e875bc3c2"
    },
    {
      "cell_type": "code",
      "execution_count": null,
      "metadata": {},
      "outputs": [],
      "source": [
        "my_model3 <- train(form = Survived ~ Class, data = my_data, method = \"rpart2\",\n",
        "                   tuneGrid = data.frame(maxdepth = 2),\n",
        "                   trControl = trainControl(method = \"LOOCV\"))\n",
        "rpart.plot::rpart.plot(my_model3$finalModel, extra = 1)\n",
        "my_model3$results"
      ],
      "id": "4c46285c-8b29-4e9c-8796-968da8d2339c"
    },
    {
      "id": "ae7a46d8",
      "cell_type": "markdown",
      "source": "## 10.4 \u30ed\u30b8\u30b9\u30c6\u30a3\u30c3\u30af\u56de\u5e30",
      "metadata": {}
    },
    {
      "cell_type": "code",
      "execution_count": null,
      "metadata": {},
      "outputs": [],
      "source": [
        "curve(1 / (1 + exp(-x)), -6, 6)"
      ],
      "id": "6c6ff46f-a058-4f98-9873-5014cbf434a9"
    },
    {
      "cell_type": "code",
      "execution_count": null,
      "metadata": {},
      "outputs": [],
      "source": [
        "library(caret)\n",
        "library(PRROC)\n",
        "library(tidyverse)\n",
        "\n",
        "my_url <- str_c(\"https://raw.githubusercontent.com/taroyabuki\",\n",
        "                \"/fromzero/master/data/titanic.csv\")\n",
        "my_data <- read_csv(my_url)\n",
        "\n",
        "my_model <- train(form = Survived ~ ., data = my_data, method = \"glm\",\n",
        "                  trControl = trainControl(method = \"LOOCV\"))"
      ],
      "id": "92305d38-8bad-45eb-a903-def3c964ee14"
    },
    {
      "cell_type": "code",
      "execution_count": null,
      "metadata": {},
      "outputs": [],
      "source": [
        "coef(my_model$finalModel) %>%\n",
        "  as.data.frame"
      ],
      "id": "3d3fc762-902e-4d16-bc8f-5e8e3e506c5e"
    },
    {
      "cell_type": "code",
      "execution_count": null,
      "metadata": {},
      "outputs": [],
      "source": [
        "my_model$results"
      ],
      "id": "9c6f8a2a-7fb7-41d8-a0be-488f1b43471e"
    }
  ],
  "nbformat": 4,
  "nbformat_minor": 5,
  "metadata": {}
}