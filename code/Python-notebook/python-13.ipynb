{
  "cells": [
    {
      "id": "7a32b81e",
      "cell_type": "markdown",
      "source": "## 13.1 \u4e3b\u6210\u5206\u5206\u6790",
      "metadata": {}
    },
    {
      "cell_type": "code",
      "execution_count": null,
      "metadata": {},
      "outputs": [],
      "source": [
        "import numpy as np\n",
        "import pandas as pd\n",
        "from pca import pca\n",
        "from scipy.stats import zscore\n",
        "\n",
        "my_data = pd.DataFrame(\n",
        "    {'language': [  0,  20,  20,  25,  22,  17],\n",
        "     'english':  [  0,  20,  40,  20,  24,  18],\n",
        "     'math':     [100,  20,   5,  30,  17,  25],\n",
        "     'science':  [  0,  20,   5,  25,  16,  23],\n",
        "     'society':  [  0,  20,  30,   0,  21,  17]},\n",
        "    index=       ['A', 'B', 'C', 'D', 'E', 'F'])\n",
        "my_model = pca(n_components=5)\n",
        "my_result = my_model.fit_transform(my_data) # \u4e3b\u6210\u5206\u5206\u6790\u306e\u5b9f\u884c"
      ],
      "id": "2d9767f1-c5ed-42a1-a077-2b0d7ef7f76c"
    },
    {
      "cell_type": "code",
      "execution_count": null,
      "metadata": {},
      "outputs": [],
      "source": [
        "my_result['PC'] # \u4e3b\u6210\u5206\u30b9\u30b3\u30a2"
      ],
      "id": "e6a2c8fa-6df4-4e95-892c-1655a75ea1fd"
    },
    {
      "cell_type": "code",
      "execution_count": null,
      "metadata": {},
      "outputs": [],
      "source": [
        "my_model.biplot(legend=False)"
      ],
      "id": "7f615c3e-7d7f-47d2-9ee9-5deb02908827"
    },
    {
      "cell_type": "code",
      "execution_count": null,
      "metadata": {},
      "outputs": [],
      "source": [
        "my_result['loadings']"
      ],
      "id": "b41573f2-9383-4a69-ab96-1bc0a6aa67f2"
    },
    {
      "cell_type": "code",
      "execution_count": null,
      "metadata": {},
      "outputs": [],
      "source": [
        "my_result['explained_var']"
      ],
      "id": "51094272-82f3-481e-bae8-c7a85a1921f6"
    },
    {
      "cell_type": "code",
      "execution_count": null,
      "metadata": {},
      "outputs": [],
      "source": [
        "tmp = zscore(my_data, ddof=1) # \u6a19\u6e96\u5316\n",
        "my_result = my_model.fit_transform(\n",
        "    tmp)\n",
        "my_result['PC'] # \u4e3b\u6210\u5206\u30b9\u30b3\u30a2"
      ],
      "id": "29d74e69-0c92-4d3a-acac-45a7c00e3533"
    },
    {
      "cell_type": "code",
      "execution_count": null,
      "metadata": {},
      "outputs": [],
      "source": [
        "tmp = my_data - my_data.mean()\n",
        "Z  = np.matrix(tmp)                       # \u6a19\u6e96\u5316\u3057\u306a\u3044\u5834\u5408\n",
        "#Z = np.matrix(tmp / my_data.std(ddof=1)) # \u221a\u4e0d\u504f\u5206\u6563\u3067\u6a19\u6e96\u5316\u3059\u308b\u5834\u5408\n",
        "#Z = np.matrix(tmp / my_data.std(ddof=0)) # pca(normalize=True)\u306b\u5408\u308f\u305b\u308b\u5834\u5408\n",
        "\n",
        "n = len(my_data)\n",
        "S = np.cov(Z, rowvar=0, ddof=0)      # \u5206\u6563\u5171\u5206\u6563\u884c\u5217\n",
        "#S = Z.T @ Z / n                     # \uff08\u540c\u3058\u7d50\u679c\uff09\n",
        "vals, vecs = np.linalg.eig(S)        # \u56fa\u6709\u5024\u3068\u56fa\u6709\u30d9\u30af\u30c8\u30eb\n",
        "idx = np.argsort(-vals)              # \u56fa\u6709\u5024\u306e\u5927\u304d\u3044\u9806\u306e\u756a\u53f7\n",
        "vals, vecs = vals[idx], vecs[:, idx] # \u56fa\u6709\u5024\u306e\u5927\u304d\u3044\u9806\u3067\u306e\u4e26\u3079\u66ff\u3048\n",
        "Z @ vecs                             # \u4e3b\u6210\u5206\u30b9\u30b3\u30a2\uff08\u7d50\u679c\u306f\u5272\u611b\uff09\n",
        "vals.cumsum() / vals.sum()           # \u7d2f\u7a4d\u5bc4\u4e0e\u7387"
      ],
      "id": "1b1a2c51-5032-42d2-80e8-c99a2b73698b"
    },
    {
      "cell_type": "code",
      "execution_count": null,
      "metadata": {},
      "outputs": [],
      "source": [
        "U, d, V =  np.linalg.svd(Z, full_matrices=False)     # \u7279\u7570\u5024\u5206\u89e3\n",
        "W = np.diag(d)\n",
        "\n",
        "[np.isclose(Z, U @ W @ V).all(),                     # \u78ba\u8a8d1\n",
        " np.isclose(U.T @ U, np.identity(U.shape[1])).all(), # \u78ba\u8a8d2\n",
        " np.isclose(V @ V.T, np.identity(V.shape[0])).all()] # \u78ba\u8a8d3\n",
        "\n",
        "U @ W                # \u4e3b\u6210\u5206\u30b9\u30b3\u30a2\uff08\u7d50\u679c\u306f\u5272\u611b\uff09\n",
        "\n",
        "e = d ** 2 / n       # \u5206\u6563\u5171\u5206\u6563\u884c\u5217\u306e\u56fa\u6709\u5024\n",
        "e.cumsum() / e.sum() # \u7d2f\u7a4d\u5bc4\u4e0e\u7387"
      ],
      "id": "8672f1b8-7a2f-4f65-bd9f-2b6e52900f02"
    },
    {
      "id": "7c84476f",
      "cell_type": "markdown",
      "source": "## 13.2 \u30af\u30e9\u30b9\u30bf\u5206\u6790",
      "metadata": {}
    },
    {
      "cell_type": "code",
      "execution_count": null,
      "metadata": {},
      "outputs": [],
      "source": [
        "import pandas as pd\n",
        "from scipy.cluster import hierarchy\n",
        "\n",
        "my_data = pd.DataFrame(\n",
        "    {'x': [  0, -16,  10,  10],\n",
        "     'y': [  0,   0,  10, -15]},\n",
        "    index=['A', 'B', 'C', 'D'])\n",
        "\n",
        "my_result = hierarchy.linkage(\n",
        "    my_data,\n",
        "    metric='euclidean', # \u7701\u7565\u53ef\n",
        "    method='complete')"
      ],
      "id": "4d5707df-5ab6-41e4-85c4-3aa304506383"
    },
    {
      "cell_type": "code",
      "execution_count": null,
      "metadata": {},
      "outputs": [],
      "source": [
        "hierarchy.dendrogram(my_result,\n",
        "    labels=my_data.index)"
      ],
      "id": "f96972fe-c4a1-4568-ba6a-87794391d7d3"
    },
    {
      "cell_type": "code",
      "execution_count": null,
      "metadata": {},
      "outputs": [],
      "source": [
        "hierarchy.cut_tree(my_result, 3)\n",
        "\n",
        "# \u88dc\u8db3\uff08\u898b\u3084\u3059\u304f\u3059\u308b\uff09\n",
        "my_data.assign(cluster=\n",
        "  hierarchy.cut_tree(my_result, 3))"
      ],
      "id": "ee3f0d90-6783-45d2-8916-f72d311c1b2d"
    },
    {
      "cell_type": "code",
      "execution_count": null,
      "metadata": {},
      "outputs": [],
      "source": [
        "import pandas as pd\n",
        "import seaborn as sns\n",
        "\n",
        "my_data = pd.DataFrame(\n",
        "    {'language': [  0,  20,  20,  25,  22,  17],\n",
        "     'english':  [  0,  20,  40,  20,  24,  18],\n",
        "     'math':     [100,  20,   5,  30,  17,  25],\n",
        "     'science':  [  0,  20,   5,  25,  16,  23],\n",
        "     'society':  [  0,  20,  30,   0,  21,  17]},\n",
        "    index=       ['A', 'B', 'C', 'D', 'E', 'F'])\n",
        "\n",
        "sns.clustermap(my_data, z_score=1) # \u5217\u3054\u3068\u306e\u6a19\u6e96\u5316"
      ],
      "id": "b35dc2e5-e9be-48ba-b2be-82fc8ebf623f"
    },
    {
      "cell_type": "code",
      "execution_count": null,
      "metadata": {},
      "outputs": [],
      "source": [
        "import pandas as pd\n",
        "from sklearn.cluster import KMeans\n",
        "\n",
        "my_data = pd.DataFrame(\n",
        "    {'x': [  0, -16,  10,  10],\n",
        "     'y': [  0,   0,  10, -15]},\n",
        "    index=['A', 'B', 'C', 'D'])\n",
        "\n",
        "my_result = KMeans(\n",
        "    n_clusters=3).fit(my_data)"
      ],
      "id": "1ba93c9b-d27b-422d-90fd-d1a0fce63ea0"
    },
    {
      "cell_type": "code",
      "execution_count": null,
      "metadata": {},
      "outputs": [],
      "source": [
        "my_result.labels_\n",
        "\n",
        "# \u88dc\u8db3\uff08\u898b\u3084\u3059\u304f\u3059\u308b\uff09\n",
        "my_data.assign(\n",
        "  cluster=my_result.labels_)"
      ],
      "id": "3f69017d-42c0-446c-8c1b-45941b36146e"
    },
    {
      "cell_type": "code",
      "execution_count": null,
      "metadata": {},
      "outputs": [],
      "source": [
        "import pandas as pd\n",
        "import statsmodels.api as sm\n",
        "from sklearn.cluster import KMeans\n",
        "\n",
        "iris = sm.datasets.get_rdataset('iris', 'datasets').data\n",
        "my_data = iris.iloc[:, 0:4]\n",
        "\n",
        "k = range(1, 11)\n",
        "my_df = pd.DataFrame({\n",
        "    'k': k,\n",
        "    'inertia': [KMeans(k).fit(my_data).inertia_ for k in range(1, 11)]})\n",
        "my_df.plot(x='k', style='o-', legend=False)"
      ],
      "id": "e63f3e32-c191-403a-a13c-bcc73eb733e5"
    },
    {
      "cell_type": "code",
      "execution_count": null,
      "metadata": {},
      "outputs": [],
      "source": [
        "import seaborn as sns\n",
        "import statsmodels.api as sm\n",
        "from pca import pca\n",
        "from scipy.cluster import hierarchy\n",
        "from scipy.stats import zscore\n",
        "from sklearn.cluster import KMeans\n",
        "\n",
        "iris = sm.datasets.get_rdataset('iris', 'datasets').data\n",
        "my_data = zscore(iris.iloc[:, 0:4])\n",
        "\n",
        "my_model = pca() # \u4e3b\u6210\u5206\u5206\u6790\n",
        "my_result = my_model.fit_transform(my_data)['PC']\n",
        "my_result['Species'] = list(iris.Species)\n",
        "\n",
        "# \u975e\u968e\u5c64\u7684\u30af\u30e9\u30b9\u30bf\u5206\u6790\u306e\u5834\u5408\n",
        "my_result['cluster'] = KMeans(n_clusters=3).fit(my_data).labels_\n",
        "\n",
        "# \u968e\u5c64\u7684\u30af\u30e9\u30b9\u30bf\u5206\u6790\u306e\u5834\u5408\n",
        "#my_result['cluster'] = hierarchy.cut_tree(\n",
        "#    hierarchy.linkage(my_data, method='complete'), 3)[:,0]\n",
        "\n",
        "sns.scatterplot(x='PC1', y='PC2', data=my_result, legend=False,\n",
        "                hue='cluster',   # \u8272\u3067\u30af\u30e9\u30b9\u30bf\u3092\u8868\u73fe\u3059\u308b\uff0e\n",
        "                style='Species', # \u5f62\u3067\u54c1\u7a2e\u3092\u8868\u73fe\u3059\u308b\uff0e\n",
        "                palette='bright')"
      ],
      "id": "705f674f-0caa-486f-80a0-ed32520ef9ea"
    }
  ],
  "nbformat": 4,
  "nbformat_minor": 5,
  "metadata": {}
}