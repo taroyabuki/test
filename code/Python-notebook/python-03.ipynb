{
  "cells": [
    {
      "id": "81f699e9",
      "cell_type": "markdown",
      "source": "[\u8fbb\u771f\u543e\u30fb\u77e2\u5439\u592a\u6717\u300e\u30bc\u30ed\u304b\u3089\u306f\u3058\u3081\u308b\u30c7\u30fc\u30bf\u30b5\u30a4\u30a8\u30f3\u30b9\u5165\u9580\u300f\uff08\u8b1b\u8ac7\u793e,\u00a02021\uff09](https://github.com/taroyabuki/fromzero)",
      "metadata": {}
    },
    {
      "cell_type": "code",
      "execution_count": null,
      "metadata": {},
      "outputs": [],
      "source": [
        "# Google Colaboratory\u306e\u74b0\u5883\u8a2d\u5b9a\n",
        "import os\n",
        "if 'COLAB_GPU' in os.environ:\n",
        "  !python -m pip install h2o pandarallel pca pmdarima | tail -n 1"
      ],
      "id": "a01a78de-e926-4d33-afd1-e2c810b351ab"
    },
    {
      "cell_type": "code",
      "execution_count": null,
      "metadata": {},
      "outputs": [],
      "source": [
        "# Google Colaboratory\u306e\u74b0\u5883\u8a2d\u5b9a\n",
        "import os\n",
        "if 'COLAB_GPU' in os.environ:\n",
        "  !python -m pip install pandarallel | tail -n 1"
      ],
      "id": "c927e677-7f20-4328-8469-583fdcc31217"
    },
    {
      "id": "f5e78621",
      "cell_type": "markdown",
      "source": "## 3.1 \u5165\u9580",
      "metadata": {}
    },
    {
      "cell_type": "code",
      "execution_count": null,
      "metadata": {},
      "outputs": [],
      "source": [
        "0x10"
      ],
      "id": "2b04fe1c-0561-4640-9aea-c4a7cd955de4"
    },
    {
      "cell_type": "code",
      "execution_count": null,
      "metadata": {},
      "outputs": [],
      "source": [
        "1.23e5"
      ],
      "id": "f92cefcf-57dc-48d7-97a9-1c093cf4c971"
    },
    {
      "cell_type": "code",
      "execution_count": null,
      "metadata": {},
      "outputs": [],
      "source": [
        "2 * 3"
      ],
      "id": "eb9a8d07-b11e-496c-a4f7-7df1d077f671"
    },
    {
      "cell_type": "code",
      "execution_count": null,
      "metadata": {},
      "outputs": [],
      "source": [
        "10 / 3"
      ],
      "id": "cfd61d9a-be01-48d5-85a3-6e0e6a306646"
    },
    {
      "cell_type": "code",
      "execution_count": null,
      "metadata": {},
      "outputs": [],
      "source": [
        "10 // 3 # \u5546\n",
        "\n",
        "10 % 3  # \u4f59\u308a"
      ],
      "id": "c44e5453-12ad-4331-b4e6-d2aeeaa29239"
    },
    {
      "cell_type": "code",
      "execution_count": null,
      "metadata": {},
      "outputs": [],
      "source": [
        "x = 2\n",
        "y = 3\n",
        "x * y\n",
        "\n",
        "x, y = 20, 30 # \u307e\u3068\u3081\u3066\u540d\u4ed8\u3051\n",
        "x * y"
      ],
      "id": "cb383998-8720-4db1-8197-03c1f6c839b7"
    },
    {
      "cell_type": "code",
      "execution_count": null,
      "metadata": {},
      "outputs": [],
      "source": [
        "x = 1 + 1\n",
        "# \u3053\u306e\u6bb5\u968e\u3067\u306f\u7d50\u679c\u306f\u8868\u793a\u3055\u308c\u306a\u3044\n",
        "\n",
        "x # \u5909\u6570\u540d\u3092\u8a55\u4fa1\u3059\u308b\uff0e"
      ],
      "id": "bb50aaf1-9cd2-43eb-b00a-716d7b4f8279"
    },
    {
      "cell_type": "code",
      "execution_count": null,
      "metadata": {},
      "outputs": [],
      "source": [
        "my_s = 'abcde'"
      ],
      "id": "06ab879f-9caa-481e-b133-d29475e1021c"
    },
    {
      "cell_type": "code",
      "execution_count": null,
      "metadata": {},
      "outputs": [],
      "source": [
        "len(my_s)"
      ],
      "id": "1ae4797e-e401-42e5-b30b-a1dda4eec83f"
    },
    {
      "cell_type": "code",
      "execution_count": null,
      "metadata": {},
      "outputs": [],
      "source": [
        "'This is' ' a' ' pen.'\n",
        "# \u3042\u308b\u3044\u306f\n",
        "'This is ' + 'a' + ' pen.'"
      ],
      "id": "eea6eb62-fe02-4365-b01b-9fcb7900cc4f"
    },
    {
      "cell_type": "code",
      "execution_count": null,
      "metadata": {},
      "outputs": [],
      "source": [
        "my_s[1:4]"
      ],
      "id": "4a1b3937-581a-4bc3-9595-85134e7add31"
    },
    {
      "cell_type": "code",
      "execution_count": null,
      "metadata": {},
      "outputs": [],
      "source": [
        "tmp = \"{} is {}.\"\n",
        "tmp.format('This', 'a pen')"
      ],
      "id": "626476ad-7176-4089-b933-5513a53aff93"
    },
    {
      "cell_type": "code",
      "execution_count": null,
      "metadata": {},
      "outputs": [],
      "source": [
        "1 <= 2\n",
        "\n",
        "1 < 0"
      ],
      "id": "e6c2b302-406a-421a-a33c-3c2ad09962d8"
    },
    {
      "cell_type": "code",
      "execution_count": null,
      "metadata": {},
      "outputs": [],
      "source": [
        "0.1 + 0.1 + 0.1 == 0.3\n",
        "\n",
        "import math\n",
        "math.isclose(0.1 + 0.1 + 0.1, 0.3)"
      ],
      "id": "b079f4a3-a3e6-419c-9816-68cca493a31c"
    },
    {
      "cell_type": "code",
      "execution_count": null,
      "metadata": {},
      "outputs": [],
      "source": [
        "True and False # \u8ad6\u7406\u7a4d\uff08\u304b\u3064\uff09\n",
        "\n",
        "True or False  # \u8ad6\u7406\u548c\uff08\u307e\u305f\u306f\uff09\n",
        "\n",
        "not True       # \u5426\u5b9a\uff08\u3067\u306a\u3044\uff09"
      ],
      "id": "ea920b98-e63c-4fab-85dc-69bc5bdb9279"
    },
    {
      "cell_type": "code",
      "execution_count": null,
      "metadata": {},
      "outputs": [],
      "source": [
        "0 if 3 < 5 else 10"
      ],
      "id": "4499852b-4fd2-4a5b-9aed-a01d209f0a45"
    },
    {
      "cell_type": "code",
      "execution_count": null,
      "metadata": {},
      "outputs": [],
      "source": [
        "import os\n",
        "os.getcwd()"
      ],
      "id": "59c51efe-e064-43b6-b573-2a038c14f856"
    },
    {
      "cell_type": "code",
      "execution_count": null,
      "metadata": {},
      "outputs": [],
      "source": [
        "os.chdir('..')\n",
        "os.getcwd()"
      ],
      "id": "dd030d54-3d54-4555-9a21-9543a7af310f"
    },
    {
      "id": "b8a46bfc",
      "cell_type": "markdown",
      "source": "## 3.2 \u95a2\u6570",
      "metadata": {}
    },
    {
      "cell_type": "code",
      "execution_count": null,
      "metadata": {},
      "outputs": [],
      "source": [
        "import math\n",
        "math.sqrt(4)"
      ],
      "id": "6d1dbdcf-9a6e-4d52-940a-232b5d8b6bde"
    },
    {
      "cell_type": "code",
      "execution_count": null,
      "metadata": {},
      "outputs": [],
      "source": [
        "math.log(100, 10)"
      ],
      "id": "4eb58d40-c38d-4f36-bf32-b7f9c63a003f"
    },
    {
      "cell_type": "code",
      "execution_count": null,
      "metadata": {},
      "outputs": [],
      "source": [
        "math.log(100)         # \u81ea\u7136\u5bfe\u6570\n",
        "# \u3042\u308b\u3044\u306f\n",
        "math.log(100, math.e) # \u7701\u7565\u3057\u306a\u3044\u5834\u5408\n"
      ],
      "id": "6682e069-a66a-49bd-8b9b-4f7e89961e96"
    },
    {
      "cell_type": "code",
      "execution_count": null,
      "metadata": {},
      "outputs": [],
      "source": [
        "math.log10(100) # \u5e38\u7528\u5bfe\u6570\n",
        "\n",
        "math.log2(1024) # \u5e95\u304c2\u306e\u5bfe\u6570"
      ],
      "id": "c5335c84-925b-4dca-854d-42b3427ffcf4"
    },
    {
      "cell_type": "code",
      "execution_count": null,
      "metadata": {},
      "outputs": [],
      "source": [
        "def f(a, b):\n",
        "    return a - b"
      ],
      "id": "fb8c8123-d682-498c-b402-b4b349431e86"
    },
    {
      "cell_type": "code",
      "execution_count": null,
      "metadata": {},
      "outputs": [],
      "source": [
        "f(3, 5)"
      ],
      "id": "28e46b64-7f95-4023-8903-26940b003f65"
    },
    {
      "cell_type": "code",
      "execution_count": null,
      "metadata": {},
      "outputs": [],
      "source": [
        "def f(a, b=5):\n",
        "    return a - b\n",
        "\n",
        "f(3) # f(3, 5)\u3068\u540c\u3058\u3053\u3068"
      ],
      "id": "aa66bcf9-951e-45b6-a59a-24206f1ae216"
    },
    {
      "cell_type": "code",
      "execution_count": null,
      "metadata": {},
      "outputs": [],
      "source": [
        "(lambda a, b: a - b)(3, 5)"
      ],
      "id": "896e6213-576a-45cd-9056-af8e94d075d3"
    },
    {
      "id": "9ed48302",
      "cell_type": "markdown",
      "source": "## 3.3 \u30b3\u30ec\u30af\u30b7\u30e7\u30f3",
      "metadata": {}
    },
    {
      "cell_type": "code",
      "execution_count": null,
      "metadata": {},
      "outputs": [],
      "source": [
        "x = ['foo', 'bar', 'baz']"
      ],
      "id": "1a75cdd3-1f71-4934-b30b-bf85b3071a6d"
    },
    {
      "cell_type": "code",
      "execution_count": null,
      "metadata": {},
      "outputs": [],
      "source": [
        "len(x)"
      ],
      "id": "2decd237-2420-4818-a6f6-b93eb2fe7ac5"
    },
    {
      "cell_type": "code",
      "execution_count": null,
      "metadata": {},
      "outputs": [],
      "source": [
        "x[1]"
      ],
      "id": "f76b60c7-8102-4efd-ba75-db7102ab5c9b"
    },
    {
      "cell_type": "code",
      "execution_count": null,
      "metadata": {},
      "outputs": [],
      "source": [
        "x[1] = 'BAR'\n",
        "x # \u7d50\u679c\u306e\u78ba\u8a8d\n",
        "\n",
        "x[1] = 'bar' # \u5143\u306b\u623b\u3059\uff0e"
      ],
      "id": "00487df0-eee3-4cf9-8d49-a856191eb252"
    },
    {
      "cell_type": "code",
      "execution_count": null,
      "metadata": {},
      "outputs": [],
      "source": [
        "x[-2]"
      ],
      "id": "15f5e46e-094e-4fb4-b7e2-bf7e40b2e421"
    },
    {
      "cell_type": "code",
      "execution_count": null,
      "metadata": {},
      "outputs": [],
      "source": [
        "x + ['qux']"
      ],
      "id": "62138277-d3ab-4e2a-b553-77e6e4ecea48"
    },
    {
      "cell_type": "code",
      "execution_count": null,
      "metadata": {},
      "outputs": [],
      "source": [
        "x = x + ['qux']\n",
        "# \u3042\u308b\u3044\u306f\n",
        "#x.append('qux')\n",
        "\n",
        "x # \u7d50\u679c\u306e\u78ba\u8a8d"
      ],
      "id": "bf8eca2c-4a6e-40c6-ace2-e41f75b01144"
    },
    {
      "cell_type": "code",
      "execution_count": null,
      "metadata": {},
      "outputs": [],
      "source": [
        "list(range(5))"
      ],
      "id": "440bf99f-7ede-431b-9546-aaa1a456299b"
    },
    {
      "cell_type": "code",
      "execution_count": null,
      "metadata": {},
      "outputs": [],
      "source": [
        "list(range(0, 11, 2))"
      ],
      "id": "43e654c1-a133-46e6-859c-394b3d8759c7"
    },
    {
      "cell_type": "code",
      "execution_count": null,
      "metadata": {},
      "outputs": [],
      "source": [
        "import numpy as np\n",
        "np.arange(0, 1.1, 0.5)"
      ],
      "id": "a2b364cf-de62-4b02-b40c-be20be6f5090"
    },
    {
      "cell_type": "code",
      "execution_count": null,
      "metadata": {},
      "outputs": [],
      "source": [
        "np.linspace(0, 100, 5)"
      ],
      "id": "b1ffdaa6-5917-4de2-a241-b6a383309841"
    },
    {
      "cell_type": "code",
      "execution_count": null,
      "metadata": {},
      "outputs": [],
      "source": [
        "[10] * 5"
      ],
      "id": "22dfeea7-c820-4920-879e-695f94efa247"
    },
    {
      "cell_type": "code",
      "execution_count": null,
      "metadata": {},
      "outputs": [],
      "source": [
        "import numpy as np\n",
        "x = np.array([2, 3, 5, 7])\n",
        "\n",
        "x + 10 # \u52a0\u7b97\n",
        "\n",
        "x * 10 # \u4e57\u7b97"
      ],
      "id": "c77b245b-9646-4422-a6ed-9c8123f6bd3b"
    },
    {
      "cell_type": "code",
      "execution_count": null,
      "metadata": {},
      "outputs": [],
      "source": [
        "x = [2, 3]\n",
        "np.sin(x)"
      ],
      "id": "bdd0f75c-fd25-47a9-b9e8-018fd5888fc4"
    },
    {
      "cell_type": "code",
      "execution_count": null,
      "metadata": {},
      "outputs": [],
      "source": [
        "x = np.array([2,  3,   5,    7])\n",
        "y = np.array([1, 10, 100, 1000])\n",
        "x + y\n",
        "\n",
        "x * y"
      ],
      "id": "6b8a1151-ed48-41bc-b479-da5e906bbd17"
    },
    {
      "cell_type": "code",
      "execution_count": null,
      "metadata": {},
      "outputs": [],
      "source": [
        "np.dot(x, y)\n",
        "# \u3042\u308b\u3044\u306f\n",
        "x @ y\n"
      ],
      "id": "4eb685bf-4390-43db-8a86-bf3d521458b7"
    },
    {
      "cell_type": "code",
      "execution_count": null,
      "metadata": {},
      "outputs": [],
      "source": [
        "x = np.array([True, False])\n",
        "y = np.array([True, True])\n",
        "x & y"
      ],
      "id": "ea729f93-6019-4ff7-a31f-1f56870ca1e8"
    },
    {
      "cell_type": "code",
      "execution_count": null,
      "metadata": {},
      "outputs": [],
      "source": [
        "u = np.array([1, 2, 3])\n",
        "v = np.array([1, 2, 3])\n",
        "w = np.array([1, 2, 4])\n",
        "\n",
        "all(u == v) # \u5168\u4f53\u306e\u6bd4\u8f03\n",
        "\n",
        "all(u == w) # \u5168\u4f53\u306e\u6bd4\u8f03\n",
        "\n",
        "u == v      # \u8981\u7d20\u3054\u3068\u306e\u6bd4\u8f03\n",
        "\n",
        "u == w      # \u8981\u7d20\u3054\u3068\u306e\u6bd4\u8f03"
      ],
      "id": "9649602c-b3ce-4c09-9c07-5829aba9cbaf"
    },
    {
      "cell_type": "code",
      "execution_count": null,
      "metadata": {},
      "outputs": [],
      "source": [
        "(u == w).sum()  # \u540c\u3058\u8981\u7d20\u306e\u6570\n",
        "\n",
        "(u == w).mean() # \u540c\u3058\u8981\u7d20\u306e\u5272\u5408"
      ],
      "id": "cf2bd769-7c42-4728-bd80-f5c3a9ed0806"
    },
    {
      "cell_type": "code",
      "execution_count": null,
      "metadata": {},
      "outputs": [],
      "source": [
        "x = [1, \"two\"]"
      ],
      "id": "c7542f40-f772-4c07-8e98-001669f9ed22"
    },
    {
      "cell_type": "code",
      "execution_count": null,
      "metadata": {},
      "outputs": [],
      "source": [
        "x[1]"
      ],
      "id": "6f409619-6813-4162-a422-f007a9ab39ca"
    },
    {
      "cell_type": "code",
      "execution_count": null,
      "metadata": {},
      "outputs": [],
      "source": [
        "x = {'apple' : '\u308a\u3093\u3054',\n",
        "     'orange': '\u307f\u304b\u3093'}"
      ],
      "id": "78219e0e-e5d2-47dd-a05c-27447388d5b2"
    },
    {
      "cell_type": "code",
      "execution_count": null,
      "metadata": {},
      "outputs": [],
      "source": [
        "x['grape'] = '\u3076\u3069\u3046'"
      ],
      "id": "e7cb5a2e-80b6-4d4c-82ed-df28cc887187"
    },
    {
      "cell_type": "code",
      "execution_count": null,
      "metadata": {},
      "outputs": [],
      "source": [
        "x['apple']\n",
        "# \u3042\u308b\u3044\u306f\n",
        "tmp = 'apple'\n",
        "x[tmp]\n"
      ],
      "id": "1f32ca15-f30b-4748-bddd-549576c8aee9"
    },
    {
      "cell_type": "code",
      "execution_count": null,
      "metadata": {},
      "outputs": [],
      "source": [
        "x = ['foo', 'bar', 'baz']\n",
        "y = x\n",
        "y[1] = 'BAR' # y\u3092\u66f4\u65b0\u3059\u308b\uff0e\n",
        "y\n",
        "\n",
        "x            # x\u3082\u5909\u308f\u308b\uff0e"
      ],
      "id": "9407ba79-2f1e-4fad-9567-769c179c9324"
    },
    {
      "cell_type": "code",
      "execution_count": null,
      "metadata": {},
      "outputs": [],
      "source": [
        "x = ['foo', 'bar', 'baz']\n",
        "y = x.copy()             # \u300cy = x\u300d\u3068\u305b\u305a\u306b\uff0c\u30b3\u30d4\u30fc\u3059\u308b\uff0e\n",
        "x == y, x is y\n",
        "\n",
        "y[1] = 'BAR'             # y\u3092\u66f4\u65b0\u3057\u3066\u3082\uff0c\n",
        "x"
      ],
      "id": "ed8ef126-cdda-4f9e-b10b-fa3c96ef53d7"
    },
    {
      "id": "991f460b",
      "cell_type": "markdown",
      "source": "## 3.4 \u30c7\u30fc\u30bf\u30d5\u30ec\u30fc\u30e0",
      "metadata": {}
    },
    {
      "cell_type": "code",
      "execution_count": null,
      "metadata": {},
      "outputs": [],
      "source": [
        "import pandas as pd"
      ],
      "id": "45454d2f-21f7-4718-8204-d9b76911fab1"
    },
    {
      "cell_type": "code",
      "execution_count": null,
      "metadata": {},
      "outputs": [],
      "source": [
        "my_df = pd.DataFrame({\n",
        "    'name':    ['A', 'B', 'C', 'D'],\n",
        "    'english': [ 60,  90,  70,  90],\n",
        "    'math':    [ 70,  80,  90, 100],\n",
        "    'gender':  ['f', 'm', 'm', 'f']})"
      ],
      "id": "14593a48-d2d6-4e0f-b410-c040eb058249"
    },
    {
      "cell_type": "code",
      "execution_count": null,
      "metadata": {},
      "outputs": [],
      "source": [
        "my_df = pd.DataFrame([\n",
        "    ['A', 60,  70, 'f'],\n",
        "    ['B', 90,  80, 'm'],\n",
        "    ['C', 70,  90, 'm'],\n",
        "    ['D', 90, 100, 'f']],\n",
        "    columns=['name', 'english',\n",
        "             'math', 'gender'])"
      ],
      "id": "64a57249-3160-49e8-b83e-3e02f664c115"
    },
    {
      "cell_type": "code",
      "execution_count": null,
      "metadata": {},
      "outputs": [],
      "source": [
        "my_df.head()\n",
        "# \u7d50\u679c\u306f\u5272\u611b"
      ],
      "id": "898daa7a-4c31-4156-84af-dbeb8af6b589"
    },
    {
      "cell_type": "code",
      "execution_count": null,
      "metadata": {},
      "outputs": [],
      "source": [
        "r, c = my_df.shape # \u884c\u6570\u3068\u5217\u6570\n",
        "r, c\n",
        "\n",
        "r # \u884c\u6570\uff08len(my_df)\u3082\u53ef\uff09\n",
        "\n",
        "c # \u5217\u6570"
      ],
      "id": "9a8cc434-4a4b-4feb-9c9c-9acc77206969"
    },
    {
      "cell_type": "code",
      "execution_count": null,
      "metadata": {},
      "outputs": [],
      "source": [
        "from itertools import product\n",
        "my_df2 = pd.DataFrame(\n",
        "    product([1, 2, 3],\n",
        "            [10, 100]),\n",
        "    columns=['X', 'Y'])\n",
        "my_df2"
      ],
      "id": "37e6ee7c-85e7-4f93-b619-7641228e66f6"
    },
    {
      "cell_type": "code",
      "execution_count": null,
      "metadata": {},
      "outputs": [],
      "source": [
        "my_df2.columns"
      ],
      "id": "ff673d38-0577-4960-b352-26da386413c3"
    },
    {
      "cell_type": "code",
      "execution_count": null,
      "metadata": {},
      "outputs": [],
      "source": [
        "my_df2.columns = ['P', 'Q']\n",
        "my_df2\n",
        "# \u4ee5\u4e0b\u7701\u7565"
      ],
      "id": "901f2463-6c44-4ed8-8b37-72f6e8f5ecb7"
    },
    {
      "cell_type": "code",
      "execution_count": null,
      "metadata": {},
      "outputs": [],
      "source": [
        "list(my_df.index)"
      ],
      "id": "eaf0a346-5378-4d6f-b615-2b0dff0ba8e6"
    },
    {
      "cell_type": "code",
      "execution_count": null,
      "metadata": {},
      "outputs": [],
      "source": [
        "my_df2.index = [\n",
        "    'a', 'b', 'c', 'd', 'e', 'f']\n",
        "my_df2\n",
        "# \u4ee5\u4e0b\u7701\u7565"
      ],
      "id": "2fed38f4-1e9b-499f-82c1-c07515573daa"
    },
    {
      "cell_type": "code",
      "execution_count": null,
      "metadata": {},
      "outputs": [],
      "source": [
        "my_df3 = pd.DataFrame({\n",
        "    'english': [ 60,  90,  70,  90],\n",
        "    'math':    [ 70,  80,  90, 100],\n",
        "    'gender':  ['f', 'm', 'm', 'f']},\n",
        "    index=     ['A', 'B', 'C', 'D'])\n",
        "my_df3"
      ],
      "id": "76bb3d05-e406-42af-bb9a-5cb1c40ce573"
    },
    {
      "cell_type": "code",
      "execution_count": null,
      "metadata": {},
      "outputs": [],
      "source": [
        "tmp = pd.DataFrame({\n",
        "    'name'   : ['E'],\n",
        "    'english': [80],\n",
        "    'math'   : [80],\n",
        "    'gender' : ['m']})\n",
        "my_df2 = my_df.append(tmp)"
      ],
      "id": "2accc4f1-2689-4719-a591-a56f47a681d3"
    },
    {
      "cell_type": "code",
      "execution_count": null,
      "metadata": {},
      "outputs": [],
      "source": [
        "my_df2 = my_df.assign(id=[1, 2, 3, 4])"
      ],
      "id": "91b7340c-3344-49fb-8579-272ba101124a"
    },
    {
      "cell_type": "code",
      "execution_count": null,
      "metadata": {},
      "outputs": [],
      "source": [
        "my_df3 = my_df.copy()       # \u30b3\u30d4\u30fc\n",
        "my_df3['id'] = [1, 2, 3, 4] # \u66f4\u65b0\n",
        "my_df3 # \u7d50\u679c\u306e\u78ba\u8a8d\uff08\u5272\u611b\uff09"
      ],
      "id": "fdb472a3-0126-47d5-95f6-c2368d76d788"
    },
    {
      "cell_type": "code",
      "execution_count": null,
      "metadata": {},
      "outputs": [],
      "source": [
        "my_df.iloc[0, 1]"
      ],
      "id": "aa72c759-256b-4950-b78c-2721e95f4573"
    },
    {
      "cell_type": "code",
      "execution_count": null,
      "metadata": {},
      "outputs": [],
      "source": [
        "x = my_df.iloc[:, 1]\n",
        "# \u3042\u308b\u3044\u306f\n",
        "x = my_df['english']\n",
        "# \u3042\u308b\u3044\u306f\n",
        "x = my_df.english\n",
        "# \u3042\u308b\u3044\u306f\n",
        "tmp = 'english'\n",
        "x = my_df[tmp]\n",
        "\n",
        "x # \u7d50\u679c\u306e\u78ba\u8a8d\uff08\u5272\u611b\uff09"
      ],
      "id": "fc8a18ed-3497-4ec0-86bd-cd1ab4e7d42f"
    },
    {
      "cell_type": "code",
      "execution_count": null,
      "metadata": {},
      "outputs": [],
      "source": [
        "x = my_df[['name', 'math']]\n",
        "# \u3042\u308b\u3044\u306f\n",
        "x = my_df.loc[:, ['name', 'math']]"
      ],
      "id": "906ce3c9-52e8-487b-8feb-54fe20314621"
    },
    {
      "cell_type": "code",
      "execution_count": null,
      "metadata": {},
      "outputs": [],
      "source": [
        "x = my_df.take([0, 2], axis=1)\n",
        "# \u3042\u308b\u3044\u306f\n",
        "x = my_df.iloc[:, [0, 2]]"
      ],
      "id": "4dbf591b-4585-41b4-8743-505eef665aea"
    },
    {
      "cell_type": "code",
      "execution_count": null,
      "metadata": {},
      "outputs": [],
      "source": [
        "x = my_df.drop(\n",
        "    columns=['english', 'gender'])\n",
        "# \u3042\u308b\u3044\u306f\n",
        "x = my_df.drop(\n",
        "    columns=my_df.columns[[1, 3]])"
      ],
      "id": "a30a2ff2-153c-47ab-aad6-c82898f2f42c"
    },
    {
      "cell_type": "code",
      "execution_count": null,
      "metadata": {},
      "outputs": [],
      "source": [
        "x = my_df.take([0, 2])\n",
        "# \u3042\u308b\u3044\u306f\n",
        "x = my_df.iloc[[0, 2], :]"
      ],
      "id": "3b7352cd-202f-4406-b7d2-4e3dd08e26a2"
    },
    {
      "cell_type": "code",
      "execution_count": null,
      "metadata": {},
      "outputs": [],
      "source": [
        "x = my_df.drop([1, 3])"
      ],
      "id": "a41b29b9-fa89-472c-ae26-5cc426382a24"
    },
    {
      "cell_type": "code",
      "execution_count": null,
      "metadata": {},
      "outputs": [],
      "source": [
        "x = my_df[my_df['gender'] == 'm']\n",
        "# \u3042\u308b\u3044\u306f\n",
        "x = my_df.query('gender == \"m\"')"
      ],
      "id": "5c84fb3f-5ce3-4137-8e2d-90d1f842770d"
    },
    {
      "cell_type": "code",
      "execution_count": null,
      "metadata": {},
      "outputs": [],
      "source": [
        "x = my_df[(my_df['english'] > 80) & (my_df['gender'] == \"m\")]\n",
        "# \u3042\u308b\u3044\u306f\n",
        "x = my_df.query('english > 80 and gender == \"m\"')"
      ],
      "id": "bd44308a-e5bc-4f40-ab24-ffa826d51a78"
    },
    {
      "cell_type": "code",
      "execution_count": null,
      "metadata": {},
      "outputs": [],
      "source": [
        "x = my_df[my_df['english'] == my_df['english'].max()]\n",
        "# \u3042\u308b\u3044\u306f\n",
        "tmp = my_df['english'].max()\n",
        "x = my_df.query('english == @tmp')"
      ],
      "id": "9b7495cd-47c7-4a02-a78e-808a14afd486"
    },
    {
      "cell_type": "code",
      "execution_count": null,
      "metadata": {},
      "outputs": [],
      "source": [
        "my_df2 = my_df.copy() # \u30b3\u30d4\u30fc\n",
        "my_df2.loc[my_df['gender'] == 'm', 'gender'] = 'M'"
      ],
      "id": "5eb7c862-0257-458a-b73f-18347de80419"
    },
    {
      "cell_type": "code",
      "execution_count": null,
      "metadata": {},
      "outputs": [],
      "source": [
        "my_df2"
      ],
      "id": "294061e3-9aec-4e6e-aa35-4445995f1105"
    },
    {
      "cell_type": "code",
      "execution_count": null,
      "metadata": {},
      "outputs": [],
      "source": [
        "x = my_df.sort_values('english')"
      ],
      "id": "afd3f031-5bbf-4611-9ddc-d9e805474305"
    },
    {
      "cell_type": "code",
      "execution_count": null,
      "metadata": {},
      "outputs": [],
      "source": [
        "x = my_df.sort_values('english',\n",
        "    ascending=False)"
      ],
      "id": "edc641ae-deeb-4d4c-9583-5df543d1aceb"
    },
    {
      "cell_type": "code",
      "execution_count": null,
      "metadata": {},
      "outputs": [],
      "source": [
        "import numpy as np\n",
        "x = [2, 3, 5, 7, 11, 13, 17, 19, 23,\n",
        "     29, 31, 37]\n",
        "A = np.array(x).reshape(3, 4)\n",
        "A"
      ],
      "id": "aa9845f3-9f5b-4717-9891-5e800f955a3a"
    },
    {
      "cell_type": "code",
      "execution_count": null,
      "metadata": {},
      "outputs": [],
      "source": [
        "A = my_df.iloc[:, [1, 2]].values\n",
        "A"
      ],
      "id": "49382fe4-d6fd-401f-916c-aed802392b85"
    },
    {
      "cell_type": "code",
      "execution_count": null,
      "metadata": {},
      "outputs": [],
      "source": [
        "pd.DataFrame(A)"
      ],
      "id": "df80bb36-bdb2-4cda-a7b0-f1d347a364ff"
    },
    {
      "cell_type": "code",
      "execution_count": null,
      "metadata": {},
      "outputs": [],
      "source": [
        "A.T"
      ],
      "id": "845c6281-4562-41ab-934c-2cbfe836ab87"
    },
    {
      "cell_type": "code",
      "execution_count": null,
      "metadata": {},
      "outputs": [],
      "source": [
        "A.T @ A"
      ],
      "id": "bec8191a-dfd9-48b4-b1d9-25f070539132"
    },
    {
      "cell_type": "code",
      "execution_count": null,
      "metadata": {},
      "outputs": [],
      "source": [
        "my_df = pd.DataFrame({\n",
        "    'day': [25, 26, 27],\n",
        "    'min': [20, 21, 15],\n",
        "    'max': [24, 27, 21]})"
      ],
      "id": "45abdf4f-553b-497d-b21b-e4a3489ba9de"
    },
    {
      "cell_type": "code",
      "execution_count": null,
      "metadata": {},
      "outputs": [],
      "source": [
        "my_longer = my_df.melt(id_vars='day')\n",
        "my_longer"
      ],
      "id": "f584a77c-70d0-4643-abc5-36c5daaa84c0"
    },
    {
      "cell_type": "code",
      "execution_count": null,
      "metadata": {},
      "outputs": [],
      "source": [
        "my_wider = my_longer.pivot(\n",
        "    index='day',\n",
        "    columns='variable',\n",
        "    values='value')\n",
        "my_wider"
      ],
      "id": "9cb63b5d-463b-4887-a63f-bb1284e6208c"
    },
    {
      "cell_type": "code",
      "execution_count": null,
      "metadata": {},
      "outputs": [],
      "source": [
        "my_wider.plot(\n",
        "    style='o-',\n",
        "    xticks=my_wider.index, # x\u8ef8\u76ee\u76db\u308a\n",
        "    ylabel='temperature')  # y\u8ef8\u30e9\u30d9\u30eb"
      ],
      "id": "54fdfc69-ce16-4d1e-b288-99c1183e1406"
    },
    {
      "id": "69cc9683",
      "cell_type": "markdown",
      "source": "## 3.5 1\u6b21\u5143\u30c7\u30fc\u30bf\u306e\uff08\u975e\uff09\u985e\u4f3c\u5ea6",
      "metadata": {}
    },
    {
      "cell_type": "code",
      "execution_count": null,
      "metadata": {},
      "outputs": [],
      "source": [
        "import numpy as np\n",
        "from scipy.spatial import distance\n",
        "from scipy.stats import pearsonr\n",
        "\n",
        "A = np.array([3,   4,  5])\n",
        "B = np.array([3,   4, 29])\n",
        "C = np.array([9, -18,  8])\n",
        "\n",
        "distance.euclidean(A, B)\n",
        "\n",
        "distance.euclidean(A, C)"
      ],
      "id": "2f732f58-5cae-4871-91df-1dfda57b3dcf"
    },
    {
      "cell_type": "code",
      "execution_count": null,
      "metadata": {},
      "outputs": [],
      "source": [
        "distance.cityblock(A, B)\n",
        "\n",
        "distance.cityblock(A, C)"
      ],
      "id": "784a5d07-0d0e-4270-a2ca-6f7366f8094c"
    },
    {
      "cell_type": "code",
      "execution_count": null,
      "metadata": {},
      "outputs": [],
      "source": [
        "1 - distance.cosine(A, B)\n",
        "\n",
        "1 - distance.cosine(A, C)"
      ],
      "id": "95206e55-be3e-428a-baf2-915290e3c4ff"
    },
    {
      "cell_type": "code",
      "execution_count": null,
      "metadata": {},
      "outputs": [],
      "source": [
        "1 - distance.correlation(A, B)\n",
        "# \u3042\u308b\u3044\u306f\n",
        "pearsonr(A, B)[0]\n",
        "\n",
        "1 - distance.correlation(A, C)\n",
        "# \u3042\u308b\u3044\u306f\n",
        "pearsonr(A, C)[0]"
      ],
      "id": "ea841a53-c830-4ab4-b5eb-3884aa09ae8f"
    },
    {
      "cell_type": "code",
      "execution_count": null,
      "metadata": {},
      "outputs": [],
      "source": [
        "# \u5c0f\u6570\u70b9\u4ee5\u4e0b\u306f3\u6841\u8868\u793a\n",
        "np.set_printoptions(precision=3)\n",
        "import pandas as pd\n",
        "\n",
        "my_df = pd.DataFrame({\n",
        "    'x': [3,  3,   9],\n",
        "    'y': [4,  4, -18],\n",
        "    'z': [5, 29,   8]},\n",
        "    index=['A', 'B', 'C'])\n",
        "\n",
        "# \u30e6\u30fc\u30af\u30ea\u30c3\u30c9\u8ddd\u96e2\n",
        "distance.cdist(my_df, my_df,\n",
        "               metric='euclidean')\n",
        "\n",
        "# \u30de\u30f3\u30cf\u30c3\u30bf\u30f3\u8ddd\u96e2\n",
        "distance.cdist(my_df, my_df,\n",
        "               metric='cityblock')\n",
        "\n",
        "# \u30b3\u30b5\u30a4\u30f3\u985e\u4f3c\u5ea6\n",
        "1 - distance.cdist(my_df, my_df,\n",
        "    metric='cosine')\n",
        "\n",
        "# \u76f8\u95a2\u4fc2\u6570\n",
        "1 - distance.cdist(my_df, my_df,\n",
        "    metric='correlation')"
      ],
      "id": "7fad1251-4993-463f-8e47-99377aaca81a"
    },
    {
      "id": "181e2b2d",
      "cell_type": "markdown",
      "source": "## 3.6 R\u306e\u30d1\u30c3\u30b1\u30fc\u30b8\uff0cPython\u306e\u30e2\u30b8\u30e5\u30fc\u30eb",
      "metadata": {}
    },
    {
      "cell_type": "code",
      "execution_count": null,
      "metadata": {},
      "outputs": [],
      "source": [
        "import math\n",
        "import numpy as np\n",
        "import pandas as pd"
      ],
      "id": "efd0eafb-0f38-461b-a46a-ad68d55e25d2"
    },
    {
      "cell_type": "code",
      "execution_count": null,
      "metadata": {},
      "outputs": [],
      "source": [
        "import numpy\n",
        "numpy.array([1, 2, 3, 4])"
      ],
      "id": "8d2e7709-9d25-400c-9559-a93c52f8337f"
    },
    {
      "cell_type": "code",
      "execution_count": null,
      "metadata": {},
      "outputs": [],
      "source": [
        "import numpy as np\n",
        "np.array([1, 2, 3, 4])"
      ],
      "id": "332d7985-6c36-4cff-ac4b-e4364a5afceb"
    },
    {
      "cell_type": "code",
      "execution_count": null,
      "metadata": {},
      "outputs": [],
      "source": [
        "from numpy import array\n",
        "array([1, 2, 3, 4])"
      ],
      "id": "2187966c-95fc-4fe4-b3f9-d24fd3eeb11f"
    },
    {
      "cell_type": "code",
      "execution_count": null,
      "metadata": {},
      "outputs": [],
      "source": [
        "from numpy import *\n",
        "array([1, 2, 3, 4])"
      ],
      "id": "b5112c6c-5a8b-4033-add0-5c6d237f0408"
    },
    {
      "id": "6fe794d2",
      "cell_type": "markdown",
      "source": "## 3.7 \u53cd\u5fa9\u51e6\u7406",
      "metadata": {}
    },
    {
      "cell_type": "code",
      "execution_count": null,
      "metadata": {},
      "outputs": [],
      "source": [
        "import numpy as np\n",
        "import pandas as pd"
      ],
      "id": "e0f78e00-b877-4d01-b504-d65254162ae9"
    },
    {
      "cell_type": "code",
      "execution_count": null,
      "metadata": {},
      "outputs": [],
      "source": [
        "def f1(x):\n",
        "    tmp = np.random.random(x)\n",
        "    return np.mean(tmp)\n",
        "\n",
        "f1(10)                # \u52d5\u4f5c\u78ba\u8a8d"
      ],
      "id": "9b1ffc16-0395-48a7-9760-e29669dc9cd7"
    },
    {
      "cell_type": "code",
      "execution_count": null,
      "metadata": {},
      "outputs": [],
      "source": [
        "[f1(10) for i in range(3)]"
      ],
      "id": "30c1b4d3-b311-4e16-bd8f-892c1cb05107"
    },
    {
      "cell_type": "code",
      "execution_count": null,
      "metadata": {},
      "outputs": [],
      "source": [
        "[f1(10)] * 3"
      ],
      "id": "b7370319-a766-4720-824d-be0262712bee"
    },
    {
      "cell_type": "code",
      "execution_count": null,
      "metadata": {},
      "outputs": [],
      "source": [
        "v = [5, 10, 100]\n",
        "[f1(x) for x in v] # \u65b9\u6cd51\n",
        "\n",
        "# \u3042\u308b\u3044\u306f\n",
        "\n",
        "v = pd.Series([5, 10, 100])\n",
        "v.apply(f1)        # \u65b9\u6cd52"
      ],
      "id": "0cec31bf-7154-4b8e-9b58-98bf5ef09f56"
    },
    {
      "cell_type": "code",
      "execution_count": null,
      "metadata": {},
      "outputs": [],
      "source": [
        "pd.Series([10] * 3).apply(f1)\n",
        "# \u7d50\u679c\u306f\u5272\u611b"
      ],
      "id": "71b6a45a-aedf-482f-b863-9ed248cdd268"
    },
    {
      "cell_type": "code",
      "execution_count": null,
      "metadata": {},
      "outputs": [],
      "source": [
        "def f2(n):\n",
        "    tmp = np.random.random(n)\n",
        "    return pd.Series([\n",
        "        n,\n",
        "        tmp.mean(),\n",
        "        tmp.std(ddof=1)],\n",
        "        index=['x', 'p', 'q'])\n",
        "\n",
        "f2(10) # \u52d5\u4f5c\u78ba\u8a8d"
      ],
      "id": "597b3d3b-b203-4ce1-ae29-cba430f8fb8d"
    },
    {
      "cell_type": "code",
      "execution_count": null,
      "metadata": {},
      "outputs": [],
      "source": [
        "v = pd.Series([5, 10, 100])\n",
        "v.apply(f2)"
      ],
      "id": "055f38c0-4afe-43e4-85ae-6b0c8a4359aa"
    },
    {
      "cell_type": "code",
      "execution_count": null,
      "metadata": {},
      "outputs": [],
      "source": [
        "def f3(x, y):\n",
        "    tmp = np.random.random(x) * y\n",
        "    return pd.Series([\n",
        "        x,\n",
        "        y,\n",
        "        tmp.mean(),\n",
        "        tmp.std(ddof=1)],\n",
        "        index=['x', 'y', 'p', 'q'])\n",
        "\n",
        "f3(10, 6) # \u52d5\u4f5c\u78ba\u8a8d"
      ],
      "id": "3477edfa-4b9e-486e-b42b-a4d346ed7a84"
    },
    {
      "cell_type": "code",
      "execution_count": null,
      "metadata": {},
      "outputs": [],
      "source": [
        "my_df = pd.DataFrame({\n",
        "    'x': [5, 10, 100,  5, 10, 100],\n",
        "    'y': [6,  6,   6, 12, 12,  12]})\n",
        "\n",
        "my_df.apply(\n",
        "  lambda row: f3(row['x'], row['y']),\n",
        "  axis=1)\n",
        "# \u3042\u308b\u3044\u306f\n",
        "my_df.apply(lambda row:\n",
        "            f3(*row), axis=1)\n"
      ],
      "id": "63df7be3-e38f-423b-92c0-d1dddbddba2c"
    },
    {
      "cell_type": "code",
      "execution_count": null,
      "metadata": {},
      "outputs": [],
      "source": [
        "from pandarallel import pandarallel\n",
        "pandarallel.initialize() # \u6e96\u5099\n",
        "\n",
        "v = pd.Series([5, 10, 100])\n",
        "v.parallel_apply(f1)\n",
        "# \u7d50\u679c\u306f\u5272\u611b"
      ],
      "id": "55738454-b874-4c8c-af1e-484ade5026e6"
    },
    {
      "id": "a7c11b60",
      "cell_type": "markdown",
      "source": "## 3.8 \u305d\u306e\u4ed6",
      "metadata": {}
    },
    {
      "cell_type": "code",
      "execution_count": null,
      "metadata": {},
      "outputs": [],
      "source": [
        "x = 123\n",
        "type(x)"
      ],
      "id": "18ab02d2-7a93-44e7-aa48-3d3e841605aa"
    },
    {
      "cell_type": "code",
      "execution_count": null,
      "metadata": {},
      "outputs": [],
      "source": [
        "%whos"
      ],
      "id": "8721b6d2-4dc2-41e4-ae63-dea2531a068b"
    },
    {
      "cell_type": "code",
      "execution_count": null,
      "metadata": {},
      "outputs": [],
      "source": [
        "import math\n",
        "?math.log\n",
        "# \u3042\u308b\u3044\u306f\n",
        "help(math.log)"
      ],
      "id": "0f1552ea-4794-4b18-9dce-c928eac9b101"
    },
    {
      "cell_type": "code",
      "execution_count": null,
      "metadata": {},
      "outputs": [],
      "source": [
        "import numpy as np\n",
        "v = [1, np.nan, 3]\n",
        "v"
      ],
      "id": "dc5aed6b-8584-4700-9b6f-7add95d8fbaf"
    },
    {
      "cell_type": "code",
      "execution_count": null,
      "metadata": {},
      "outputs": [],
      "source": [
        "np.isnan(v[1])\n",
        "\n",
        "v[1] == np.nan # \u8aa4\u308a"
      ],
      "id": "89c94a16-4f15-43d4-aebc-eb620de4dbbd"
    }
  ],
  "nbformat": 4,
  "nbformat_minor": 5,
  "metadata": {
    "kernelspec": {
      "name": "python3",
      "display_name": "Python 3"
    }
  }
}