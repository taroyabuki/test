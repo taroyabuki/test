{
  "cells": [
    {
      "cell_type": "code",
      "execution_count": null,
      "metadata": {},
      "outputs": [],
      "source": [
        "# Google Colaboratory\u306e\u74b0\u5883\u8a2d\u5b9a\n",
        "import os\n",
        "if 'COLAB_GPU' in os.environ:\n",
        "  !python -m pip install pandarallel | tail -n 1"
      ],
      "id": "2954d86e-3d3a-4f5a-a0e2-9f8e560276d0"
    },
    {
      "id": "815314cd",
      "cell_type": "markdown",
      "source": "## 3.1 \u5165\u9580",
      "metadata": {}
    },
    {
      "cell_type": "code",
      "execution_count": null,
      "metadata": {},
      "outputs": [],
      "source": [
        "0x10"
      ],
      "id": "edde86ae-14b0-40c1-8e03-e9bf112d19f5"
    },
    {
      "cell_type": "code",
      "execution_count": null,
      "metadata": {},
      "outputs": [],
      "source": [
        "1.23e5"
      ],
      "id": "e916d9e1-934d-412e-a377-1e852d972905"
    },
    {
      "cell_type": "code",
      "execution_count": null,
      "metadata": {},
      "outputs": [],
      "source": [
        "2 * 3"
      ],
      "id": "09be173a-7169-477e-8303-a08bfc4104be"
    },
    {
      "cell_type": "code",
      "execution_count": null,
      "metadata": {},
      "outputs": [],
      "source": [
        "10 / 3"
      ],
      "id": "b29d4ce0-881c-46b8-93c4-fc9db09d8cf8"
    },
    {
      "cell_type": "code",
      "execution_count": null,
      "metadata": {},
      "outputs": [],
      "source": [
        "10 // 3 # \u5546\n",
        "\n",
        "10 % 3  # \u4f59\u308a"
      ],
      "id": "d692b0b0-18f6-4a3b-82c8-1154e3956737"
    },
    {
      "cell_type": "code",
      "execution_count": null,
      "metadata": {},
      "outputs": [],
      "source": [
        "x = 2\n",
        "y = 3\n",
        "x * y\n",
        "\n",
        "x, y = 20, 30 # \u307e\u3068\u3081\u3066\u540d\u4ed8\u3051\n",
        "x * y"
      ],
      "id": "4fcc6c53-5b82-4403-a66c-40eb65f0eaa3"
    },
    {
      "cell_type": "code",
      "execution_count": null,
      "metadata": {},
      "outputs": [],
      "source": [
        "x = 1 + 1\n",
        "# \u3053\u306e\u6bb5\u968e\u3067\u306f\u7d50\u679c\u306f\u8868\u793a\u3055\u308c\u306a\u3044\n",
        "\n",
        "x # \u5909\u6570\u540d\u3092\u8a55\u4fa1\u3059\u308b\uff0e"
      ],
      "id": "c88f7471-1746-4d12-b33e-fadc0f829ca2"
    },
    {
      "cell_type": "code",
      "execution_count": null,
      "metadata": {},
      "outputs": [],
      "source": [
        "my_s = 'abcde'"
      ],
      "id": "61bc2c8b-8209-4d8b-9ed0-39505b32c585"
    },
    {
      "cell_type": "code",
      "execution_count": null,
      "metadata": {},
      "outputs": [],
      "source": [
        "len(my_s)"
      ],
      "id": "5982fdd6-a2bf-4a05-858d-97c25395cbc5"
    },
    {
      "cell_type": "code",
      "execution_count": null,
      "metadata": {},
      "outputs": [],
      "source": [
        "'This is' ' a' ' pen.'\n",
        "# \u3042\u308b\u3044\u306f\n",
        "'This is ' + 'a' + ' pen.'"
      ],
      "id": "75014941-db52-47dd-8471-e796369c14ac"
    },
    {
      "cell_type": "code",
      "execution_count": null,
      "metadata": {},
      "outputs": [],
      "source": [
        "my_s[1:4]"
      ],
      "id": "c662d29c-8f19-4e4b-b35b-ff8adfbd7636"
    },
    {
      "cell_type": "code",
      "execution_count": null,
      "metadata": {},
      "outputs": [],
      "source": [
        "tmp = \"{} is {}.\"\n",
        "tmp.format('This', 'a pen')"
      ],
      "id": "d895e1c8-22ff-42be-8854-e69cb4744ef4"
    },
    {
      "cell_type": "code",
      "execution_count": null,
      "metadata": {},
      "outputs": [],
      "source": [
        "1 <= 2\n",
        "\n",
        "1 < 0"
      ],
      "id": "f26f9063-dfa7-444b-944e-7716b1af6b24"
    },
    {
      "cell_type": "code",
      "execution_count": null,
      "metadata": {},
      "outputs": [],
      "source": [
        "0.1 + 0.1 + 0.1 == 0.3\n",
        "\n",
        "import math\n",
        "math.isclose(0.1 + 0.1 + 0.1, 0.3)"
      ],
      "id": "144e3e81-5f76-4b92-8306-4a28f14d585f"
    },
    {
      "cell_type": "code",
      "execution_count": null,
      "metadata": {},
      "outputs": [],
      "source": [
        "True and False # \u8ad6\u7406\u7a4d\uff08\u304b\u3064\uff09\n",
        "\n",
        "True or False  # \u8ad6\u7406\u548c\uff08\u307e\u305f\u306f\uff09\n",
        "\n",
        "not True       # \u5426\u5b9a\uff08\u3067\u306a\u3044\uff09"
      ],
      "id": "d8593bab-69da-4963-ba26-558e7d490644"
    },
    {
      "cell_type": "code",
      "execution_count": null,
      "metadata": {},
      "outputs": [],
      "source": [
        "0 if 3 < 5 else 10"
      ],
      "id": "d976190a-7565-4e12-8c51-d3d595c68fb3"
    },
    {
      "cell_type": "code",
      "execution_count": null,
      "metadata": {},
      "outputs": [],
      "source": [
        "import os\n",
        "os.getcwd()"
      ],
      "id": "b55730f9-3cc5-4ac1-adf9-5d21613e2228"
    },
    {
      "cell_type": "code",
      "execution_count": null,
      "metadata": {},
      "outputs": [],
      "source": [
        "os.chdir('..')\n",
        "os.getcwd()"
      ],
      "id": "1537c99a-d48a-410c-a4ab-dc4c31d96b12"
    },
    {
      "id": "9f377e81",
      "cell_type": "markdown",
      "source": "## 3.2 \u95a2\u6570",
      "metadata": {}
    },
    {
      "cell_type": "code",
      "execution_count": null,
      "metadata": {},
      "outputs": [],
      "source": [
        "import math\n",
        "math.sqrt(4)"
      ],
      "id": "0a2927f0-43b0-4db8-bd7c-326c558c712a"
    },
    {
      "cell_type": "code",
      "execution_count": null,
      "metadata": {},
      "outputs": [],
      "source": [
        "math.log(100, 10)"
      ],
      "id": "2faeb5f3-cedd-4fab-9ca0-d122816d05c2"
    },
    {
      "cell_type": "code",
      "execution_count": null,
      "metadata": {},
      "outputs": [],
      "source": [
        "math.log(100)         # \u81ea\u7136\u5bfe\u6570\n",
        "# \u3042\u308b\u3044\u306f\n",
        "math.log(100, math.e) # \u7701\u7565\u3057\u306a\u3044\u5834\u5408\n"
      ],
      "id": "bc30a9d3-b7af-421e-a690-9589095abf33"
    },
    {
      "cell_type": "code",
      "execution_count": null,
      "metadata": {},
      "outputs": [],
      "source": [
        "math.log10(100) # \u5e38\u7528\u5bfe\u6570\n",
        "\n",
        "math.log2(1024) # \u5e95\u304c2\u306e\u5bfe\u6570"
      ],
      "id": "849a3725-3ad3-4a8f-83c2-1c2b82a545b4"
    },
    {
      "cell_type": "code",
      "execution_count": null,
      "metadata": {},
      "outputs": [],
      "source": [
        "def f(a, b):\n",
        "    return a - b"
      ],
      "id": "b335c354-c5cd-42ef-b0b4-736ed3e55d80"
    },
    {
      "cell_type": "code",
      "execution_count": null,
      "metadata": {},
      "outputs": [],
      "source": [
        "f(3, 5)"
      ],
      "id": "56d8f337-0b74-473d-811f-80f5fda89906"
    },
    {
      "cell_type": "code",
      "execution_count": null,
      "metadata": {},
      "outputs": [],
      "source": [
        "def f(a, b=5):\n",
        "    return a - b\n",
        "\n",
        "f(3) # f(3, 5)\u3068\u540c\u3058\u3053\u3068"
      ],
      "id": "fe12b14d-ed31-4a2b-a9ba-aca2c75a2de9"
    },
    {
      "cell_type": "code",
      "execution_count": null,
      "metadata": {},
      "outputs": [],
      "source": [
        "(lambda a, b: a - b)(3, 5)"
      ],
      "id": "6366d17a-a699-4aed-b79c-7b4988ad585e"
    },
    {
      "id": "c9148c49",
      "cell_type": "markdown",
      "source": "## 3.3 \u30b3\u30ec\u30af\u30b7\u30e7\u30f3",
      "metadata": {}
    },
    {
      "cell_type": "code",
      "execution_count": null,
      "metadata": {},
      "outputs": [],
      "source": [
        "x = ['foo', 'bar', 'baz']"
      ],
      "id": "82b45138-5b36-4138-bc87-1b522abafc16"
    },
    {
      "cell_type": "code",
      "execution_count": null,
      "metadata": {},
      "outputs": [],
      "source": [
        "len(x)"
      ],
      "id": "8750dffd-6ea4-44e0-988c-a637b06bb6ba"
    },
    {
      "cell_type": "code",
      "execution_count": null,
      "metadata": {},
      "outputs": [],
      "source": [
        "x[1]"
      ],
      "id": "4e6f7440-248b-4ace-8c0a-ed051ae591ff"
    },
    {
      "cell_type": "code",
      "execution_count": null,
      "metadata": {},
      "outputs": [],
      "source": [
        "x[1] = 'BAR'\n",
        "x # \u7d50\u679c\u306e\u78ba\u8a8d\n",
        "\n",
        "x[1] = 'bar' # \u5143\u306b\u623b\u3059\uff0e"
      ],
      "id": "a6d3ca89-bb2b-4f1c-88de-00f46a4a0548"
    },
    {
      "cell_type": "code",
      "execution_count": null,
      "metadata": {},
      "outputs": [],
      "source": [
        "x[-2]"
      ],
      "id": "3875d9c4-8c38-45a0-b4c2-4aaa9d7290e6"
    },
    {
      "cell_type": "code",
      "execution_count": null,
      "metadata": {},
      "outputs": [],
      "source": [
        "x + ['qux']"
      ],
      "id": "df1d10b3-874d-4b1a-b924-81aff632965d"
    },
    {
      "cell_type": "code",
      "execution_count": null,
      "metadata": {},
      "outputs": [],
      "source": [
        "x = x + ['qux']\n",
        "# \u3042\u308b\u3044\u306f\n",
        "#x.append('qux')\n",
        "\n",
        "x # \u7d50\u679c\u306e\u78ba\u8a8d"
      ],
      "id": "0faf4e42-c998-406f-8e76-4b52825432c9"
    },
    {
      "cell_type": "code",
      "execution_count": null,
      "metadata": {},
      "outputs": [],
      "source": [
        "list(range(5))"
      ],
      "id": "dcfeb4b7-b794-418a-a7eb-0469fb1899ca"
    },
    {
      "cell_type": "code",
      "execution_count": null,
      "metadata": {},
      "outputs": [],
      "source": [
        "list(range(0, 11, 2))"
      ],
      "id": "9dc98a76-563a-440a-92e2-b0e33d201dd1"
    },
    {
      "cell_type": "code",
      "execution_count": null,
      "metadata": {},
      "outputs": [],
      "source": [
        "import numpy as np\n",
        "np.arange(0, 1.1, 0.5)"
      ],
      "id": "532ce176-c8fe-49b4-a201-493dcdd09296"
    },
    {
      "cell_type": "code",
      "execution_count": null,
      "metadata": {},
      "outputs": [],
      "source": [
        "np.linspace(0, 100, 5)"
      ],
      "id": "54427388-cf85-4cea-954a-cf0b20af8604"
    },
    {
      "cell_type": "code",
      "execution_count": null,
      "metadata": {},
      "outputs": [],
      "source": [
        "[10] * 5"
      ],
      "id": "7e6f0ed3-bcce-4d04-85e3-b54331c89767"
    },
    {
      "cell_type": "code",
      "execution_count": null,
      "metadata": {},
      "outputs": [],
      "source": [
        "import numpy as np\n",
        "x = np.array([2, 3, 5, 7])\n",
        "\n",
        "x + 10 # \u52a0\u7b97\n",
        "\n",
        "x * 10 # \u4e57\u7b97"
      ],
      "id": "4303c5f1-d34a-4e30-8000-df5b0072e723"
    },
    {
      "cell_type": "code",
      "execution_count": null,
      "metadata": {},
      "outputs": [],
      "source": [
        "x = [2, 3]\n",
        "np.sin(x)"
      ],
      "id": "c62a32ed-6046-4975-b412-b364d544d064"
    },
    {
      "cell_type": "code",
      "execution_count": null,
      "metadata": {},
      "outputs": [],
      "source": [
        "x = np.array([2,  3,   5,    7])\n",
        "y = np.array([1, 10, 100, 1000])\n",
        "x + y\n",
        "\n",
        "x * y"
      ],
      "id": "f8793162-0729-45d3-9064-ac9e26e9b28d"
    },
    {
      "cell_type": "code",
      "execution_count": null,
      "metadata": {},
      "outputs": [],
      "source": [
        "np.dot(x, y)\n",
        "# \u3042\u308b\u3044\u306f\n",
        "x @ y\n"
      ],
      "id": "a2a55d29-7b75-415b-a1d4-e23feabc614e"
    },
    {
      "cell_type": "code",
      "execution_count": null,
      "metadata": {},
      "outputs": [],
      "source": [
        "x = np.array([True, False])\n",
        "y = np.array([True, True])\n",
        "x & y"
      ],
      "id": "027c2d5b-c4d2-470c-9866-c7d2e18b46d1"
    },
    {
      "cell_type": "code",
      "execution_count": null,
      "metadata": {},
      "outputs": [],
      "source": [
        "u = np.array([1, 2, 3])\n",
        "v = np.array([1, 2, 3])\n",
        "w = np.array([1, 2, 4])\n",
        "\n",
        "all(u == v) # \u5168\u4f53\u306e\u6bd4\u8f03\n",
        "\n",
        "all(u == w) # \u5168\u4f53\u306e\u6bd4\u8f03\n",
        "\n",
        "u == v      # \u8981\u7d20\u3054\u3068\u306e\u6bd4\u8f03\n",
        "\n",
        "u == w      # \u8981\u7d20\u3054\u3068\u306e\u6bd4\u8f03"
      ],
      "id": "3e98ddcb-d0f8-43b9-9895-a1dcca559858"
    },
    {
      "cell_type": "code",
      "execution_count": null,
      "metadata": {},
      "outputs": [],
      "source": [
        "(u == w).sum()  # \u540c\u3058\u8981\u7d20\u306e\u6570\n",
        "\n",
        "(u == w).mean() # \u540c\u3058\u8981\u7d20\u306e\u5272\u5408"
      ],
      "id": "4723c522-8078-460b-93e1-2725e674832f"
    },
    {
      "cell_type": "code",
      "execution_count": null,
      "metadata": {},
      "outputs": [],
      "source": [
        "x = [1, \"two\"]"
      ],
      "id": "47b947b6-c12f-42fd-8b64-73c6757add4b"
    },
    {
      "cell_type": "code",
      "execution_count": null,
      "metadata": {},
      "outputs": [],
      "source": [
        "x[1]"
      ],
      "id": "1f9c9511-515a-4d73-926a-071e82b21439"
    },
    {
      "cell_type": "code",
      "execution_count": null,
      "metadata": {},
      "outputs": [],
      "source": [
        "x = {'apple' : '\u308a\u3093\u3054',\n",
        "     'orange': '\u307f\u304b\u3093'}"
      ],
      "id": "f5e6107e-d6ac-41a1-8b94-ed90eb228dfc"
    },
    {
      "cell_type": "code",
      "execution_count": null,
      "metadata": {},
      "outputs": [],
      "source": [
        "x['grape'] = '\u3076\u3069\u3046'"
      ],
      "id": "b9390249-5849-410b-adcf-69d7d6e02356"
    },
    {
      "cell_type": "code",
      "execution_count": null,
      "metadata": {},
      "outputs": [],
      "source": [
        "x['apple']\n",
        "# \u3042\u308b\u3044\u306f\n",
        "tmp = 'apple'\n",
        "x[tmp]\n"
      ],
      "id": "ddb193e3-8a37-4c06-bbdc-4114b1b7df9e"
    },
    {
      "cell_type": "code",
      "execution_count": null,
      "metadata": {},
      "outputs": [],
      "source": [
        "x = ['foo', 'bar', 'baz']\n",
        "y = x\n",
        "y[1] = 'BAR' # y\u3092\u66f4\u65b0\u3059\u308b\uff0e\n",
        "y\n",
        "\n",
        "x            # x\u3082\u5909\u308f\u308b\uff0e"
      ],
      "id": "838e81bd-174e-44e0-acd9-255e25647abc"
    },
    {
      "cell_type": "code",
      "execution_count": null,
      "metadata": {},
      "outputs": [],
      "source": [
        "x = ['foo', 'bar', 'baz']\n",
        "y = x.copy()             # \u300cy = x\u300d\u3068\u305b\u305a\u306b\uff0c\u30b3\u30d4\u30fc\u3059\u308b\uff0e\n",
        "x == y, x is y\n",
        "\n",
        "y[1] = 'BAR'             # y\u3092\u66f4\u65b0\u3057\u3066\u3082\uff0c\n",
        "x"
      ],
      "id": "d6e343c3-ec0b-45fd-b509-c4701a3298ff"
    },
    {
      "id": "11c1f98b",
      "cell_type": "markdown",
      "source": "## 3.4 \u30c7\u30fc\u30bf\u30d5\u30ec\u30fc\u30e0",
      "metadata": {}
    },
    {
      "cell_type": "code",
      "execution_count": null,
      "metadata": {},
      "outputs": [],
      "source": [
        "import pandas as pd"
      ],
      "id": "395225d7-6b50-4f58-aab1-0c0d40e10a4a"
    },
    {
      "cell_type": "code",
      "execution_count": null,
      "metadata": {},
      "outputs": [],
      "source": [
        "my_df = pd.DataFrame({\n",
        "    'name':    ['A', 'B', 'C', 'D'],\n",
        "    'english': [ 60,  90,  70,  90],\n",
        "    'math':    [ 70,  80,  90, 100],\n",
        "    'gender':  ['f', 'm', 'm', 'f']})"
      ],
      "id": "d03cb980-59d5-46e0-97f2-8e8256f290e9"
    },
    {
      "cell_type": "code",
      "execution_count": null,
      "metadata": {},
      "outputs": [],
      "source": [
        "my_df = pd.DataFrame([\n",
        "    ['A', 60,  70, 'f'],\n",
        "    ['B', 90,  80, 'm'],\n",
        "    ['C', 70,  90, 'm'],\n",
        "    ['D', 90, 100, 'f']],\n",
        "    columns=['name', 'english',\n",
        "             'math', 'gender'])"
      ],
      "id": "2f8b5b7f-e453-4be8-832e-e5cb5863e631"
    },
    {
      "cell_type": "code",
      "execution_count": null,
      "metadata": {},
      "outputs": [],
      "source": [
        "my_df.head()\n",
        "# \u7d50\u679c\u306f\u5272\u611b"
      ],
      "id": "e3b78611-c82c-48ad-bee3-73aa7e3e6a27"
    },
    {
      "cell_type": "code",
      "execution_count": null,
      "metadata": {},
      "outputs": [],
      "source": [
        "r, c = my_df.shape # \u884c\u6570\u3068\u5217\u6570\n",
        "r, c\n",
        "\n",
        "r # \u884c\u6570\uff08len(my_df)\u3082\u53ef\uff09\n",
        "\n",
        "c # \u5217\u6570"
      ],
      "id": "cd645c16-19af-4084-9372-640fb43dd348"
    },
    {
      "cell_type": "code",
      "execution_count": null,
      "metadata": {},
      "outputs": [],
      "source": [
        "from itertools import product\n",
        "my_df2 = pd.DataFrame(\n",
        "    product([1, 2, 3],\n",
        "            [10, 100]),\n",
        "    columns=['X', 'Y'])\n",
        "my_df2"
      ],
      "id": "e480a568-439f-46a2-8684-3985764d671b"
    },
    {
      "cell_type": "code",
      "execution_count": null,
      "metadata": {},
      "outputs": [],
      "source": [
        "my_df2.columns"
      ],
      "id": "cd6a2db5-dbad-4f4e-b353-63e69d7c22db"
    },
    {
      "cell_type": "code",
      "execution_count": null,
      "metadata": {},
      "outputs": [],
      "source": [
        "my_df2.columns = ['P', 'Q']\n",
        "my_df2\n",
        "# \u4ee5\u4e0b\u7701\u7565"
      ],
      "id": "74d7572b-af0c-48fb-a5b4-71c7bad28fa0"
    },
    {
      "cell_type": "code",
      "execution_count": null,
      "metadata": {},
      "outputs": [],
      "source": [
        "list(my_df.index)"
      ],
      "id": "f51b4ce4-cb75-4214-8487-7f79b70730b4"
    },
    {
      "cell_type": "code",
      "execution_count": null,
      "metadata": {},
      "outputs": [],
      "source": [
        "my_df2.index = [\n",
        "    'a', 'b', 'c', 'd', 'e', 'f']\n",
        "my_df2\n",
        "# \u4ee5\u4e0b\u7701\u7565"
      ],
      "id": "fa6e551f-af19-411f-a0d8-bc4781f32daf"
    },
    {
      "cell_type": "code",
      "execution_count": null,
      "metadata": {},
      "outputs": [],
      "source": [
        "my_df3 = pd.DataFrame({\n",
        "    'english': [ 60,  90,  70,  90],\n",
        "    'math':    [ 70,  80,  90, 100],\n",
        "    'gender':  ['f', 'm', 'm', 'f']},\n",
        "    index=     ['A', 'B', 'C', 'D'])\n",
        "my_df3"
      ],
      "id": "145c4f51-e934-414a-900b-e0285815e844"
    },
    {
      "cell_type": "code",
      "execution_count": null,
      "metadata": {},
      "outputs": [],
      "source": [
        "tmp = pd.DataFrame({\n",
        "    'name'   : ['E'],\n",
        "    'english': [80],\n",
        "    'math'   : [80],\n",
        "    'gender' : ['m']})\n",
        "my_df2 = my_df.append(tmp)"
      ],
      "id": "c9846369-b950-4163-a9d5-f1b1e4ea2dd7"
    },
    {
      "cell_type": "code",
      "execution_count": null,
      "metadata": {},
      "outputs": [],
      "source": [
        "my_df2 = my_df.assign(id=[1, 2, 3, 4])"
      ],
      "id": "4f2e26f3-14c3-4de3-ab6e-843295f5e9af"
    },
    {
      "cell_type": "code",
      "execution_count": null,
      "metadata": {},
      "outputs": [],
      "source": [
        "my_df3 = my_df.copy()       # \u30b3\u30d4\u30fc\n",
        "my_df3['id'] = [1, 2, 3, 4] # \u66f4\u65b0\n",
        "my_df3 # \u7d50\u679c\u306e\u78ba\u8a8d\uff08\u5272\u611b\uff09"
      ],
      "id": "e72029e9-e103-44ec-9803-83e033bfa436"
    },
    {
      "cell_type": "code",
      "execution_count": null,
      "metadata": {},
      "outputs": [],
      "source": [
        "my_df.iloc[0, 1]"
      ],
      "id": "88acf542-d1f7-4cac-8e83-7b379ce6de5d"
    },
    {
      "cell_type": "code",
      "execution_count": null,
      "metadata": {},
      "outputs": [],
      "source": [
        "x = my_df.iloc[:, 1]\n",
        "# \u3042\u308b\u3044\u306f\n",
        "x = my_df['english']\n",
        "# \u3042\u308b\u3044\u306f\n",
        "x = my_df.english\n",
        "# \u3042\u308b\u3044\u306f\n",
        "tmp = 'english'\n",
        "x = my_df[tmp]\n",
        "\n",
        "x # \u7d50\u679c\u306e\u78ba\u8a8d\uff08\u5272\u611b\uff09"
      ],
      "id": "386b9861-fff8-4f0b-a9ea-1d8f1732c532"
    },
    {
      "cell_type": "code",
      "execution_count": null,
      "metadata": {},
      "outputs": [],
      "source": [
        "x = my_df[['name', 'math']]\n",
        "# \u3042\u308b\u3044\u306f\n",
        "x = my_df.loc[:, ['name', 'math']]"
      ],
      "id": "a97bff3b-d9fe-4b16-8f7b-e64ec6aff9cd"
    },
    {
      "cell_type": "code",
      "execution_count": null,
      "metadata": {},
      "outputs": [],
      "source": [
        "x = my_df.take([0, 2], axis=1)\n",
        "# \u3042\u308b\u3044\u306f\n",
        "x = my_df.iloc[:, [0, 2]]"
      ],
      "id": "c57111c9-fb3f-45a7-86ff-4b583123dd29"
    },
    {
      "cell_type": "code",
      "execution_count": null,
      "metadata": {},
      "outputs": [],
      "source": [
        "x = my_df.drop(\n",
        "    columns=['english', 'gender'])\n",
        "# \u3042\u308b\u3044\u306f\n",
        "x = my_df.drop(\n",
        "    columns=my_df.columns[[1, 3]])"
      ],
      "id": "18eedd55-606a-4d46-8306-824c364305d4"
    },
    {
      "cell_type": "code",
      "execution_count": null,
      "metadata": {},
      "outputs": [],
      "source": [
        "x = my_df.take([0, 2])\n",
        "# \u3042\u308b\u3044\u306f\n",
        "x = my_df.iloc[[0, 2], :]"
      ],
      "id": "354bb10f-1119-469f-b13c-7d2f88212d82"
    },
    {
      "cell_type": "code",
      "execution_count": null,
      "metadata": {},
      "outputs": [],
      "source": [
        "x = my_df.drop([1, 3])"
      ],
      "id": "64201039-5703-497e-ab2d-88d965746b70"
    },
    {
      "cell_type": "code",
      "execution_count": null,
      "metadata": {},
      "outputs": [],
      "source": [
        "x = my_df[my_df['gender'] == 'm']\n",
        "# \u3042\u308b\u3044\u306f\n",
        "x = my_df.query('gender == \"m\"')"
      ],
      "id": "9ac0bb53-68f9-4b2b-8269-ab230746ad0a"
    },
    {
      "cell_type": "code",
      "execution_count": null,
      "metadata": {},
      "outputs": [],
      "source": [
        "x = my_df[(my_df['english'] > 80) & (my_df['gender'] == \"m\")]\n",
        "# \u3042\u308b\u3044\u306f\n",
        "x = my_df.query('english > 80 and gender == \"m\"')"
      ],
      "id": "94f5430a-e3e9-46dc-b70d-d53b2362bc9b"
    },
    {
      "cell_type": "code",
      "execution_count": null,
      "metadata": {},
      "outputs": [],
      "source": [
        "x = my_df[my_df['english'] == my_df['english'].max()]\n",
        "# \u3042\u308b\u3044\u306f\n",
        "tmp = my_df['english'].max()\n",
        "x = my_df.query('english == @tmp')"
      ],
      "id": "d6d9888e-3c39-4c7f-a87c-25c760db32a5"
    },
    {
      "cell_type": "code",
      "execution_count": null,
      "metadata": {},
      "outputs": [],
      "source": [
        "my_df2 = my_df.copy() # \u30b3\u30d4\u30fc\n",
        "my_df2.loc[my_df['gender'] == 'm', 'gender'] = 'M'"
      ],
      "id": "c00c2555-0b11-478d-a496-9381a37f7cd7"
    },
    {
      "cell_type": "code",
      "execution_count": null,
      "metadata": {},
      "outputs": [],
      "source": [
        "my_df2"
      ],
      "id": "4b9125aa-05fd-465c-ae68-bf6233c243f6"
    },
    {
      "cell_type": "code",
      "execution_count": null,
      "metadata": {},
      "outputs": [],
      "source": [
        "x = my_df.sort_values('english')"
      ],
      "id": "ad56b8a0-2ce6-46a4-ba65-a7bf58b8b3e5"
    },
    {
      "cell_type": "code",
      "execution_count": null,
      "metadata": {},
      "outputs": [],
      "source": [
        "x = my_df.sort_values('english',\n",
        "    ascending=False)"
      ],
      "id": "617de4e4-89de-498a-8e04-ad82b225c939"
    },
    {
      "cell_type": "code",
      "execution_count": null,
      "metadata": {},
      "outputs": [],
      "source": [
        "import numpy as np\n",
        "x = [2, 3, 5, 7, 11, 13, 17, 19, 23,\n",
        "     29, 31, 37]\n",
        "A = np.array(x).reshape(3, 4)\n",
        "A"
      ],
      "id": "0c2b8ceb-3897-4877-8c68-05e0fc980e39"
    },
    {
      "cell_type": "code",
      "execution_count": null,
      "metadata": {},
      "outputs": [],
      "source": [
        "A = my_df.iloc[:, [1, 2]].values\n",
        "A"
      ],
      "id": "e370f622-787c-4a7d-8bfe-f4b9fa6ea1ab"
    },
    {
      "cell_type": "code",
      "execution_count": null,
      "metadata": {},
      "outputs": [],
      "source": [
        "pd.DataFrame(A)"
      ],
      "id": "bf42e2be-46a1-4b71-907a-f68b88704591"
    },
    {
      "cell_type": "code",
      "execution_count": null,
      "metadata": {},
      "outputs": [],
      "source": [
        "A.T"
      ],
      "id": "ae0a6131-7640-4567-bc7b-7eabc58b527f"
    },
    {
      "cell_type": "code",
      "execution_count": null,
      "metadata": {},
      "outputs": [],
      "source": [
        "A.T @ A"
      ],
      "id": "c19f5238-06cd-4e5c-853d-3ba39ec19968"
    },
    {
      "cell_type": "code",
      "execution_count": null,
      "metadata": {},
      "outputs": [],
      "source": [
        "my_df = pd.DataFrame({\n",
        "    'day': [25, 26, 27],\n",
        "    'min': [20, 21, 15],\n",
        "    'max': [24, 27, 21]})"
      ],
      "id": "821ee272-9071-447b-b502-940b0217ee1b"
    },
    {
      "cell_type": "code",
      "execution_count": null,
      "metadata": {},
      "outputs": [],
      "source": [
        "my_longer = my_df.melt(id_vars='day')\n",
        "my_longer"
      ],
      "id": "fd95bc8e-2102-4930-9016-575b6d290396"
    },
    {
      "cell_type": "code",
      "execution_count": null,
      "metadata": {},
      "outputs": [],
      "source": [
        "my_wider = my_longer.pivot(\n",
        "    index='day',\n",
        "    columns='variable',\n",
        "    values='value')\n",
        "my_wider"
      ],
      "id": "650c9532-8123-47fc-acb6-514d65a4b6ef"
    },
    {
      "cell_type": "code",
      "execution_count": null,
      "metadata": {},
      "outputs": [],
      "source": [
        "my_wider.plot(\n",
        "    style='o-',\n",
        "    xticks=my_wider.index, # x\u8ef8\u76ee\u76db\u308a\n",
        "    ylabel='temperature')  # y\u8ef8\u30e9\u30d9\u30eb"
      ],
      "id": "79ca67b7-fe60-4e0e-89a5-1874c0f049f3"
    },
    {
      "id": "81d88e78",
      "cell_type": "markdown",
      "source": "## 3.5 1\u6b21\u5143\u30c7\u30fc\u30bf\u306e\uff08\u975e\uff09\u985e\u4f3c\u5ea6",
      "metadata": {}
    },
    {
      "cell_type": "code",
      "execution_count": null,
      "metadata": {},
      "outputs": [],
      "source": [
        "import numpy as np\n",
        "from scipy.spatial import distance\n",
        "from scipy.stats import pearsonr\n",
        "\n",
        "A = np.array([3,   4,  5])\n",
        "B = np.array([3,   4, 29])\n",
        "C = np.array([9, -18,  8])\n",
        "\n",
        "distance.euclidean(A, B)\n",
        "\n",
        "distance.euclidean(A, C)"
      ],
      "id": "975047c3-4c34-4e0e-9299-38587f67300c"
    },
    {
      "cell_type": "code",
      "execution_count": null,
      "metadata": {},
      "outputs": [],
      "source": [
        "distance.cityblock(A, B)\n",
        "\n",
        "distance.cityblock(A, C)"
      ],
      "id": "c1e3ef2a-9ec2-478d-8c27-ddd3e9354b49"
    },
    {
      "cell_type": "code",
      "execution_count": null,
      "metadata": {},
      "outputs": [],
      "source": [
        "1 - distance.cosine(A, B)\n",
        "\n",
        "1 - distance.cosine(A, C)"
      ],
      "id": "f7009352-5bb7-4b3c-8894-fc6b2dfd7861"
    },
    {
      "cell_type": "code",
      "execution_count": null,
      "metadata": {},
      "outputs": [],
      "source": [
        "1 - distance.correlation(A, B)\n",
        "# \u3042\u308b\u3044\u306f\n",
        "pearsonr(A, B)[0]\n",
        "\n",
        "1 - distance.correlation(A, C)\n",
        "# \u3042\u308b\u3044\u306f\n",
        "pearsonr(A, C)[0]"
      ],
      "id": "d115dd14-481b-409f-9f8b-8de5f2a45972"
    },
    {
      "cell_type": "code",
      "execution_count": null,
      "metadata": {},
      "outputs": [],
      "source": [
        "# \u5c0f\u6570\u70b9\u4ee5\u4e0b\u306f3\u6841\u8868\u793a\n",
        "np.set_printoptions(precision=3)\n",
        "import pandas as pd\n",
        "\n",
        "my_df = pd.DataFrame({\n",
        "    'x': [3,  3,   9],\n",
        "    'y': [4,  4, -18],\n",
        "    'z': [5, 29,   8]},\n",
        "    index=['A', 'B', 'C'])\n",
        "\n",
        "# \u30e6\u30fc\u30af\u30ea\u30c3\u30c9\u8ddd\u96e2\n",
        "distance.cdist(my_df, my_df,\n",
        "               metric='euclidean')\n",
        "\n",
        "# \u30de\u30f3\u30cf\u30c3\u30bf\u30f3\u8ddd\u96e2\n",
        "distance.cdist(my_df, my_df,\n",
        "               metric='cityblock')\n",
        "\n",
        "# \u30b3\u30b5\u30a4\u30f3\u985e\u4f3c\u5ea6\n",
        "1 - distance.cdist(my_df, my_df,\n",
        "    metric='cosine')\n",
        "\n",
        "# \u76f8\u95a2\u4fc2\u6570\n",
        "1 - distance.cdist(my_df, my_df,\n",
        "    metric='correlation')"
      ],
      "id": "516c600c-5ddd-40c6-aa3a-5fa69beb084a"
    },
    {
      "id": "8f961bba",
      "cell_type": "markdown",
      "source": "## 3.6 R\u306e\u30d1\u30c3\u30b1\u30fc\u30b8\uff0cPython\u306e\u30e2\u30b8\u30e5\u30fc\u30eb",
      "metadata": {}
    },
    {
      "cell_type": "code",
      "execution_count": null,
      "metadata": {},
      "outputs": [],
      "source": [
        "import math\n",
        "import numpy as np\n",
        "import pandas as pd"
      ],
      "id": "b218f00d-9f69-4be3-a0a0-82320420e732"
    },
    {
      "cell_type": "code",
      "execution_count": null,
      "metadata": {},
      "outputs": [],
      "source": [
        "import numpy\n",
        "numpy.array([1, 2, 3, 4])"
      ],
      "id": "3031dac0-b8b4-46d9-b064-d68cdd28cc4c"
    },
    {
      "cell_type": "code",
      "execution_count": null,
      "metadata": {},
      "outputs": [],
      "source": [
        "import numpy as np\n",
        "np.array([1, 2, 3, 4])"
      ],
      "id": "3231c69b-005c-4f0f-b435-a2457fe3df63"
    },
    {
      "cell_type": "code",
      "execution_count": null,
      "metadata": {},
      "outputs": [],
      "source": [
        "from numpy import array\n",
        "array([1, 2, 3, 4])"
      ],
      "id": "5b6ad929-9701-49fe-ab10-4a67e69e7276"
    },
    {
      "cell_type": "code",
      "execution_count": null,
      "metadata": {},
      "outputs": [],
      "source": [
        "from numpy import *\n",
        "array([1, 2, 3, 4])"
      ],
      "id": "a111d0a5-1b71-46df-9e97-31502f9b901f"
    },
    {
      "id": "20522f4d",
      "cell_type": "markdown",
      "source": "## 3.7 \u53cd\u5fa9\u51e6\u7406",
      "metadata": {}
    },
    {
      "cell_type": "code",
      "execution_count": null,
      "metadata": {},
      "outputs": [],
      "source": [
        "import numpy as np\n",
        "import pandas as pd"
      ],
      "id": "ea55aa9b-4814-444e-a4be-a09f11d29a8b"
    },
    {
      "cell_type": "code",
      "execution_count": null,
      "metadata": {},
      "outputs": [],
      "source": [
        "def f1(x):\n",
        "    tmp = np.random.random(x)\n",
        "    return np.mean(tmp)\n",
        "\n",
        "f1(10)                # \u52d5\u4f5c\u78ba\u8a8d"
      ],
      "id": "bf1912a4-667d-4b5f-95bc-52f9642d958b"
    },
    {
      "cell_type": "code",
      "execution_count": null,
      "metadata": {},
      "outputs": [],
      "source": [
        "[f1(10) for i in range(3)]"
      ],
      "id": "3745762e-e239-42bc-a2ea-87d666356a42"
    },
    {
      "cell_type": "code",
      "execution_count": null,
      "metadata": {},
      "outputs": [],
      "source": [
        "[f1(10)] * 3"
      ],
      "id": "88c9eb1a-5841-4adf-9e0c-47daaa37f1b1"
    },
    {
      "cell_type": "code",
      "execution_count": null,
      "metadata": {},
      "outputs": [],
      "source": [
        "v = [5, 10, 100]\n",
        "[f1(x) for x in v] # \u65b9\u6cd51\n",
        "\n",
        "# \u3042\u308b\u3044\u306f\n",
        "\n",
        "v = pd.Series([5, 10, 100])\n",
        "v.apply(f1)        # \u65b9\u6cd52"
      ],
      "id": "8f4752d5-505e-435a-a7f3-1e86892b918d"
    },
    {
      "cell_type": "code",
      "execution_count": null,
      "metadata": {},
      "outputs": [],
      "source": [
        "pd.Series([10] * 3).apply(f1)\n",
        "# \u7d50\u679c\u306f\u5272\u611b"
      ],
      "id": "8f007b5e-a4ca-40bc-a7cd-e456bf4fc0f7"
    },
    {
      "cell_type": "code",
      "execution_count": null,
      "metadata": {},
      "outputs": [],
      "source": [
        "def f2(n):\n",
        "    tmp = np.random.random(n)\n",
        "    return pd.Series([\n",
        "        n,\n",
        "        tmp.mean(),\n",
        "        tmp.std(ddof=1)],\n",
        "        index=['x', 'p', 'q'])\n",
        "\n",
        "f2(10) # \u52d5\u4f5c\u78ba\u8a8d"
      ],
      "id": "ba6ebe41-698e-49f8-8d70-385678b5525c"
    },
    {
      "cell_type": "code",
      "execution_count": null,
      "metadata": {},
      "outputs": [],
      "source": [
        "v = pd.Series([5, 10, 100])\n",
        "v.apply(f2)"
      ],
      "id": "a05fe7b5-677d-4f7b-b011-405191e3f184"
    },
    {
      "cell_type": "code",
      "execution_count": null,
      "metadata": {},
      "outputs": [],
      "source": [
        "def f3(x, y):\n",
        "    tmp = np.random.random(x) * y\n",
        "    return pd.Series([\n",
        "        x,\n",
        "        y,\n",
        "        tmp.mean(),\n",
        "        tmp.std(ddof=1)],\n",
        "        index=['x', 'y', 'p', 'q'])\n",
        "\n",
        "f3(10, 6) # \u52d5\u4f5c\u78ba\u8a8d"
      ],
      "id": "657334e6-70b1-403c-9d93-11daea8b18cc"
    },
    {
      "cell_type": "code",
      "execution_count": null,
      "metadata": {},
      "outputs": [],
      "source": [
        "my_df = pd.DataFrame({\n",
        "    'x': [5, 10, 100,  5, 10, 100],\n",
        "    'y': [6,  6,   6, 12, 12,  12]})\n",
        "\n",
        "my_df.apply(\n",
        "  lambda row: f3(row['x'], row['y']),\n",
        "  axis=1)\n",
        "# \u3042\u308b\u3044\u306f\n",
        "my_df.apply(lambda row:\n",
        "            f3(*row), axis=1)\n"
      ],
      "id": "ecf97eb2-e1fa-48ee-bb85-e10574c240f1"
    },
    {
      "cell_type": "code",
      "execution_count": null,
      "metadata": {},
      "outputs": [],
      "source": [
        "from pandarallel import pandarallel\n",
        "pandarallel.initialize() # \u6e96\u5099\n",
        "\n",
        "v = pd.Series([5, 10, 100])\n",
        "v.parallel_apply(f1)\n",
        "# \u7d50\u679c\u306f\u5272\u611b"
      ],
      "id": "4bc8557c-c555-4c69-b65f-c328e269cd70"
    },
    {
      "id": "cdd5c5e7",
      "cell_type": "markdown",
      "source": "## 3.8 \u305d\u306e\u4ed6",
      "metadata": {}
    },
    {
      "cell_type": "code",
      "execution_count": null,
      "metadata": {},
      "outputs": [],
      "source": [
        "x = 123\n",
        "type(x)"
      ],
      "id": "1ff13ca7-4bf0-4b58-a5ed-5996d49f04b1"
    },
    {
      "cell_type": "code",
      "execution_count": null,
      "metadata": {},
      "outputs": [],
      "source": [
        "%whos"
      ],
      "id": "7fbe1ad3-5cae-4a93-b1ff-7bb50334c253"
    },
    {
      "cell_type": "code",
      "execution_count": null,
      "metadata": {},
      "outputs": [],
      "source": [
        "import math\n",
        "?math.log\n",
        "# \u3042\u308b\u3044\u306f\n",
        "help(math.log)"
      ],
      "id": "c145db21-fe02-462d-bcfa-14755dc6dcbc"
    },
    {
      "cell_type": "code",
      "execution_count": null,
      "metadata": {},
      "outputs": [],
      "source": [
        "import numpy as np\n",
        "v = [1, np.nan, 3]\n",
        "v"
      ],
      "id": "ef48097d-8ab3-4f05-affc-a3a0ecf6317a"
    },
    {
      "cell_type": "code",
      "execution_count": null,
      "metadata": {},
      "outputs": [],
      "source": [
        "np.isnan(v[1])\n",
        "\n",
        "v[1] == np.nan # \u8aa4\u308a"
      ],
      "id": "bb220a8c-5c9b-4fbd-8cd5-2137affc140d"
    }
  ],
  "nbformat": 4,
  "nbformat_minor": 5,
  "metadata": {}
}