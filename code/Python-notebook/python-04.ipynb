{
  "cells": [
    {
      "id": "982545cc",
      "cell_type": "markdown",
      "source": "## 4.1 \u8a18\u8ff0\u7d71\u8a08",
      "metadata": {}
    },
    {
      "cell_type": "code",
      "execution_count": null,
      "metadata": {},
      "outputs": [],
      "source": [
        "import numpy as np\n",
        "import pandas as pd\n",
        "\n",
        "x = [165, 170, 175, 180, 185]\n",
        "np.mean(x) # \u30ea\u30b9\u30c8\u306e\u5834\u5408\n",
        "\n",
        "x = np.array( # \u30a2\u30ec\u30a4\n",
        "    [165, 170, 175, 180, 185])\n",
        "x.mean() # np.mean(x)\u3082\u53ef\n",
        "\n",
        "x = pd.Series( # \u30b7\u30ea\u30fc\u30ba\n",
        "    [165, 170, 175, 180, 185])\n",
        "x.mean() # np.mean(x)\u3082\u53ef"
      ],
      "id": "365c1fd4-1414-4137-ab22-92a3484beebb"
    },
    {
      "cell_type": "code",
      "execution_count": null,
      "metadata": {},
      "outputs": [],
      "source": [
        "n = len(x) # \u30b5\u30f3\u30d7\u30eb\u30b5\u30a4\u30ba\n",
        "sum(x) / n"
      ],
      "id": "3b3e1b20-70f0-4e23-a1b7-6630157c42f9"
    },
    {
      "cell_type": "code",
      "execution_count": null,
      "metadata": {},
      "outputs": [],
      "source": [
        "y = [173, 174, 175, 176, 177]\n",
        "np.mean(y)"
      ],
      "id": "0e9df1b6-1e5e-46bf-a2fd-c276fdaa245a"
    },
    {
      "cell_type": "code",
      "execution_count": null,
      "metadata": {},
      "outputs": [],
      "source": [
        "np.var(x, ddof=1) # x\u306e\u5206\u6563\n",
        "\n",
        "np.var(y, ddof=1) # y\u306e\u5206\u6563"
      ],
      "id": "7110b022-8001-4dc8-8b60-e23199e6c410"
    },
    {
      "cell_type": "code",
      "execution_count": null,
      "metadata": {},
      "outputs": [],
      "source": [
        "sum((x - np.mean(x))**2) / (n - 1)"
      ],
      "id": "34c927f1-ace4-4e55-a5d5-4dff81d571e1"
    },
    {
      "cell_type": "code",
      "execution_count": null,
      "metadata": {},
      "outputs": [],
      "source": [
        "np.std(x, ddof=1) # x\u306e\u6a19\u6e96\u504f\u5dee\n",
        "\n",
        "np.std(y, ddof=1) # y\u306e\u6a19\u6e96\u504f\u5dee"
      ],
      "id": "8b0d9cef-7576-4127-9a70-6c26d395c0a1"
    },
    {
      "cell_type": "code",
      "execution_count": null,
      "metadata": {},
      "outputs": [],
      "source": [
        "np.var(x, ddof=1)**0.5 # x\u306e\u6a19\u6e96\u504f\u5dee"
      ],
      "id": "366f0c18-b5eb-45e5-932f-786b496f6f14"
    },
    {
      "cell_type": "code",
      "execution_count": null,
      "metadata": {},
      "outputs": [],
      "source": [
        "s = pd.Series(x)\n",
        "s.describe()"
      ],
      "id": "ffc67cb3-e0cb-4138-b502-5017647c75d7"
    },
    {
      "cell_type": "code",
      "execution_count": null,
      "metadata": {},
      "outputs": [],
      "source": [
        "# s.describe()\u3067\u8a08\u7b97\u6e08\u307f"
      ],
      "id": "07e839d8-768d-490d-b53a-7af4fc15cc83"
    },
    {
      "cell_type": "code",
      "execution_count": null,
      "metadata": {},
      "outputs": [],
      "source": [
        "x = [165, 170, 175, 180, 185]\n",
        "\n",
        "np.var(x, ddof=1) # \u4e0d\u504f\u5206\u6563\n",
        "\n",
        "np.var(x, ddof=0) # \u6a19\u672c\u5206\u6563"
      ],
      "id": "e9206a52-aa06-4f0f-843a-416030e6fec7"
    },
    {
      "cell_type": "code",
      "execution_count": null,
      "metadata": {},
      "outputs": [],
      "source": [
        "np.std(x, ddof=1) # \u221a\u4e0d\u504f\u5206\u6563\n",
        "\n",
        "np.std(x, ddof=0) # \u221a\u6a19\u672c\u5206\u6563"
      ],
      "id": "16551440-e268-4dec-8b35-71b7f0d8af04"
    },
    {
      "cell_type": "code",
      "execution_count": null,
      "metadata": {},
      "outputs": [],
      "source": [
        "np.std(x, ddof=1) / len(x)**0.5"
      ],
      "id": "03ee8891-1ce6-48bf-bb00-32cc01d62ef1"
    },
    {
      "cell_type": "code",
      "execution_count": null,
      "metadata": {},
      "outputs": [],
      "source": [
        "import numpy as np\n",
        "import pandas as pd\n",
        "\n",
        "my_df = pd.DataFrame({\n",
        "    'name':    ['A', 'B', 'C', 'D'],\n",
        "    'english': [ 60,  90,  70,  90],\n",
        "    'math':    [ 70,  80,  90, 100],\n",
        "    'gender':  ['f', 'm', 'm', 'f']})"
      ],
      "id": "3738531e-f706-4447-b36a-dfbd736c9c12"
    },
    {
      "cell_type": "code",
      "execution_count": null,
      "metadata": {},
      "outputs": [],
      "source": [
        "my_df['english'].var(ddof=1)\n",
        "# \u3042\u308b\u3044\u306f\n",
        "np.var(my_df['english'], ddof=1)\n"
      ],
      "id": "5ecc71f8-f65c-4fb8-8fc4-3a374bd6eb13"
    },
    {
      "cell_type": "code",
      "execution_count": null,
      "metadata": {},
      "outputs": [],
      "source": [
        "my_df.var()\n",
        "# \u3042\u308b\u3044\u306f\n",
        "my_df.apply('var')\n",
        "# \u3042\u308b\u3044\u306f\n",
        "my_df.iloc[:, [1, 2]].apply(\n",
        "    lambda x: np.var(x, ddof=1))\n"
      ],
      "id": "d4e6ac33-3e70-4130-a218-a565416e5bcc"
    },
    {
      "cell_type": "code",
      "execution_count": null,
      "metadata": {},
      "outputs": [],
      "source": [
        "my_df.describe()"
      ],
      "id": "41ae52c0-a484-46be-9834-219f16312038"
    },
    {
      "cell_type": "code",
      "execution_count": null,
      "metadata": {},
      "outputs": [],
      "source": [
        "from collections import Counter\n",
        "Counter(my_df.gender)\n",
        "\n",
        "# \u3042\u308b\u3044\u306f\n",
        "\n",
        "my_df.groupby('gender').apply(len)"
      ],
      "id": "fad0473f-f51e-4eee-92a1-64e1be6b9e99"
    },
    {
      "cell_type": "code",
      "execution_count": null,
      "metadata": {},
      "outputs": [],
      "source": [
        "my_df2 = my_df.assign(\n",
        "    excel=my_df.math >= 80)\n",
        "pd.crosstab(my_df2.gender,\n",
        "            my_df2.excel)"
      ],
      "id": "aca2538f-60fd-432c-8d9a-ae94460ee781"
    },
    {
      "cell_type": "code",
      "execution_count": null,
      "metadata": {},
      "outputs": [],
      "source": [
        "my_df.groupby('gender').mean()\n",
        "# \u3042\u308b\u3044\u306f\n",
        "my_df.groupby('gender').agg('mean')\n",
        "# \u3042\u308b\u3044\u306f\n",
        "my_df.groupby('gender').agg(np.mean)\n"
      ],
      "id": "2ab05d22-b69c-4c5f-9e42-35ffe84797d1"
    },
    {
      "id": "8537e844",
      "cell_type": "markdown",
      "source": "## 4.2 \u30c7\u30fc\u30bf\u306e\u53ef\u8996\u5316",
      "metadata": {}
    },
    {
      "cell_type": "code",
      "execution_count": null,
      "metadata": {},
      "outputs": [],
      "source": [
        "import numpy as np\n",
        "import pandas as pd\n",
        "import statsmodels.api as sm\n",
        "iris = sm.datasets.get_rdataset('iris', 'datasets').data\n",
        "iris.head()"
      ],
      "id": "dad16448-8202-447c-b981-cda0c4b9d8f4"
    },
    {
      "cell_type": "code",
      "execution_count": null,
      "metadata": {},
      "outputs": [],
      "source": [
        "iris.hist('Sepal.Length')"
      ],
      "id": "70a0b0f7-63f5-4f9f-be3b-91e9b30aeee5"
    },
    {
      "cell_type": "code",
      "execution_count": null,
      "metadata": {},
      "outputs": [],
      "source": [
        "my_df = pd.DataFrame(\n",
        "    {'x': [10, 20, 30]})\n",
        "my_df.hist('x', bins=2) # \u968e\u7d1a\u6570\u306f2"
      ],
      "id": "0a425aa8-e08b-4c1a-89a9-4a61f31099bc"
    },
    {
      "cell_type": "code",
      "execution_count": null,
      "metadata": {},
      "outputs": [],
      "source": [
        "x = iris['Sepal.Length']\n",
        "tmp = np.linspace(min(x), max(x), 10)\n",
        "iris.hist('Sepal.Length',\n",
        "          bins=tmp.round(2))"
      ],
      "id": "e0cccc92-b8cd-442d-8891-570316cb9f84"
    },
    {
      "cell_type": "code",
      "execution_count": null,
      "metadata": {},
      "outputs": [],
      "source": [
        "iris.plot('Sepal.Length',\n",
        "          'Sepal.Width',\n",
        "          kind='scatter')"
      ],
      "id": "33fccfea-c681-4256-88ac-03629de5b342"
    },
    {
      "cell_type": "code",
      "execution_count": null,
      "metadata": {},
      "outputs": [],
      "source": [
        "iris.boxplot()"
      ],
      "id": "a99bf680-9e0d-4cba-ad40-05cf34200c30"
    },
    {
      "cell_type": "code",
      "execution_count": null,
      "metadata": {},
      "outputs": [],
      "source": [
        "pd.options.display.float_format = (\n",
        "    '{:.2f}'.format)\n",
        "my_df = (iris.describe().transpose()\n",
        "    [['mean', 'std']])\n",
        "my_df['se'] = (my_df['std'] /\n",
        "               len(iris)**0.5)\n",
        "my_df"
      ],
      "id": "327c6c1c-b98e-4e18-82f4-8c659e4da3cf"
    },
    {
      "cell_type": "code",
      "execution_count": null,
      "metadata": {},
      "outputs": [],
      "source": [
        "my_df.plot(y='mean', kind='bar', yerr='se', capsize=10)"
      ],
      "id": "5b36ffab-0aef-4d1e-99e0-0d0a728a599f"
    },
    {
      "cell_type": "code",
      "execution_count": null,
      "metadata": {},
      "outputs": [],
      "source": [
        "my_group = iris.groupby('Species')                    # \u54c1\u7a2e\u3054\u3068\u306b\uff0c\n",
        "my_df = my_group.agg('mean')                          # \u5404\u5909\u6570\u306e\uff0c\u5e73\u5747\u3068\n",
        "my_se = my_group.agg(lambda x: x.std() / len(x)**0.5) # \u6a19\u6e96\u8aa4\u5dee\u3092\u6c42\u3081\u308b\uff0e\n",
        "my_se"
      ],
      "id": "ef620e28-9418-4f8d-9e8e-1483b2f55d65"
    },
    {
      "cell_type": "code",
      "execution_count": null,
      "metadata": {},
      "outputs": [],
      "source": [
        "my_group.agg('mean').plot(kind='bar', yerr=my_se, capsize=5)"
      ],
      "id": "3c57d8fd-384b-497e-9e68-97b452c1483c"
    },
    {
      "cell_type": "code",
      "execution_count": null,
      "metadata": {},
      "outputs": [],
      "source": [
        "from statsmodels.graphics.mosaicplot \\\n",
        "    import mosaic\n",
        "\n",
        "my_df = pd.DataFrame({\n",
        "    'Species': iris.Species,\n",
        "    'w_Sepal': iris['Sepal.Width'] > 3})\n",
        "\n",
        "my_table = pd.crosstab( # \u5206\u5272\u8868\n",
        "    my_df['Species'],\n",
        "    my_df['w_Sepal'])\n",
        "my_table\n",
        "\n",
        "mosaic(my_df,\n",
        "       index=['Species', 'w_Sepal'])"
      ],
      "id": "874a0001-2556-4553-b40f-f710cf502e94"
    },
    {
      "cell_type": "code",
      "execution_count": null,
      "metadata": {},
      "outputs": [],
      "source": [
        "my_table.columns = [str(x) for x in my_table.columns]\n",
        "my_table.index   = [str(x) for x in my_table.index]\n",
        "mosaic(my_df, index=['Species', 'w_Sepal'], labelizer=lambda k: my_table.loc[k])"
      ],
      "id": "381f331a-17a8-44c2-bcc8-ebbca5d8dbf0"
    },
    {
      "cell_type": "code",
      "execution_count": null,
      "metadata": {},
      "outputs": [],
      "source": [
        "import matplotlib.pyplot as plt\n",
        "import numpy as np\n",
        "\n",
        "x = np.linspace(-2, 2, 100)\n",
        "y = x**3 - x\n",
        "plt.plot(x, y)"
      ],
      "id": "339c6c66-51ce-4395-8cd8-eb577def77ff"
    },
    {
      "id": "6c4363e5",
      "cell_type": "markdown",
      "source": "## 4.3 \u4e71\u6570",
      "metadata": {}
    },
    {
      "cell_type": "code",
      "execution_count": null,
      "metadata": {},
      "outputs": [],
      "source": [
        "import matplotlib.pyplot as plt\n",
        "import numpy as np\n",
        "rng = np.random.default_rng()"
      ],
      "id": "2f0ec178-7bfb-4493-8e79-6a25e23ba430"
    },
    {
      "cell_type": "code",
      "execution_count": null,
      "metadata": {},
      "outputs": [],
      "source": [
        "x = np.random.choice(\n",
        "    a=range(1, 7), # 1\u304b\u30896\n",
        "    size=10000,    # \u4e71\u6570\u306e\u6570\n",
        "    replace=True)  # \u91cd\u8907\u3042\u308a\n",
        "# \u3042\u308b\u3044\u306f\n",
        "x = np.random.randint(\n",
        "# \u3042\u308b\u3044\u306f\n",
        "#x = rng.integers(\n",
        "    low=1,      # \u6700\u5c0f\n",
        "    high=7,     # \u6700\u5927+1\n",
        "    size=10000) # \u4e71\u6570\u306e\u6570\n",
        "\n",
        "plt.hist(x, bins=6) # \u30d2\u30b9\u30c8\u30b0\u30e9\u30e0"
      ],
      "id": "7652704a-ecf2-4701-9e33-5160a900888a"
    },
    {
      "cell_type": "code",
      "execution_count": null,
      "metadata": {},
      "outputs": [],
      "source": [
        "x = np.random.random(size=1000)\n",
        "# \u3042\u308b\u3044\u306f\n",
        "x = rng.random(size=10000)\n",
        "# \u3042\u308b\u3044\u306f\n",
        "x = np.random.uniform(\n",
        "    low=0,     # \u6700\u5c0f\n",
        "    high=1,    # \u6700\u5927\n",
        "    size=1000) # \u4e71\u6570\u306e\u6570\n",
        "plt.hist(x)"
      ],
      "id": "f8cefcb4-758c-479e-9e5b-075e53d89f8a"
    },
    {
      "cell_type": "code",
      "execution_count": null,
      "metadata": {},
      "outputs": [],
      "source": [
        "tmp = np.random.uniform(\n",
        "    low=1,     # \u6700\u5c0f\n",
        "    high=7,    # \u6700\u5927 + 1\n",
        "    size=1000) # \u4e71\u6570\u306e\u6570\n",
        "x = [int(k) for k in tmp]\n",
        "plt.hist(x, bins=6) # \u7d50\u679c\u306f\u5272\u611b"
      ],
      "id": "26105840-4f1a-4eec-bd56-ba4e21ed5ead"
    },
    {
      "cell_type": "code",
      "execution_count": null,
      "metadata": {},
      "outputs": [],
      "source": [
        "n = 100\n",
        "p = 0.5\n",
        "r = 10000\n",
        "x = np.random.binomial(\n",
        "# \u3042\u308b\u3044\u306f\n",
        "#x = rng.binomial(\n",
        "    n=n,    # \u8a66\u884c\u56de\u6570\n",
        "    p=p,    # \u78ba\u7387\n",
        "    size=r) # \u4e71\u6570\u306e\u6570\n",
        "plt.hist(x, bins=max(x) - min(x))"
      ],
      "id": "01933ae3-1dc8-488f-b5a0-ef4b4a0f5bc9"
    },
    {
      "cell_type": "code",
      "execution_count": null,
      "metadata": {},
      "outputs": [],
      "source": [
        "r = 10000\n",
        "x = np.random.normal(\n",
        "# \u3042\u308b\u3044\u306f\n",
        "#x = rng.normal(\n",
        "    loc=50,  # \u5e73\u5747\n",
        "    scale=5, # \u6a19\u6e96\u504f\u5dee\n",
        "    size=r)  # \u4e71\u6570\u306e\u6570\n",
        "plt.hist(x, bins=40)"
      ],
      "id": "516fd522-4eb0-40b5-98d9-7b9aa1e3e39b"
    },
    {
      "cell_type": "code",
      "execution_count": null,
      "metadata": {},
      "outputs": [],
      "source": [
        "import numpy as np\n",
        "import pandas as pd\n",
        "\n",
        "def f(k):\n",
        "    n = 10000\n",
        "    tmp = [g(np.random.normal(size=k, scale=3)) for _ in range(n)]\n",
        "    return pd.Series([k,\n",
        "                      np.mean(tmp),                  # \u5e73\u5747\n",
        "                      np.std(tmp, ddof=1) / n**0.5], # \u6a19\u6e96\u8aa4\u5dee\n",
        "                     index=['k', 'mean', 'se'])"
      ],
      "id": "9e65e92e-9753-4adc-b4e2-dd5985bfd8b4"
    },
    {
      "cell_type": "code",
      "execution_count": null,
      "metadata": {},
      "outputs": [],
      "source": [
        "def g(x):\n",
        "    return np.var(x, ddof=1)\n",
        "pd.Series([10, 20, 30]).apply(f)"
      ],
      "id": "dc719c04-eeb7-4abe-a0fd-743c7127e283"
    },
    {
      "cell_type": "code",
      "execution_count": null,
      "metadata": {},
      "outputs": [],
      "source": [
        "def g(x):\n",
        "    return np.std(x, ddof=1)\n",
        "pd.Series([10, 20, 30]).apply(f)"
      ],
      "id": "57c90e64-0ecd-4853-a304-105079936979"
    },
    {
      "cell_type": "code",
      "execution_count": null,
      "metadata": {},
      "outputs": [],
      "source": [
        "from math import gamma\n",
        "\n",
        "def g(x):\n",
        "    n = len(x)\n",
        "    return (np.std(x, ddof=1) *\n",
        "            (np.sqrt((n - 1) / 2) *\n",
        "             gamma((n - 1) / 2) /\n",
        "             gamma(n / 2)))\n",
        "pd.Series([10, 20, 30]).apply(f)"
      ],
      "id": "293152fc-8c1a-4b4c-92d2-54853d24ba0c"
    },
    {
      "id": "172f5999",
      "cell_type": "markdown",
      "source": "## 4.4 \u7d71\u8a08\u7684\u63a8\u6e2c",
      "metadata": {}
    },
    {
      "cell_type": "code",
      "execution_count": null,
      "metadata": {},
      "outputs": [],
      "source": [
        "from statsmodels.stats.proportion import binom_test, proportion_confint\n",
        "\n",
        "binom_test(count=2,                 # \u5f53\u305f\u3063\u305f\u56de\u6570\n",
        "           nobs=15,                 # \u304f\u3058\u3092\u5f15\u3044\u305f\u56de\u6570\n",
        "           prop=4 / 10,             # \u5f53\u305f\u308b\u78ba\u7387\uff08\u4eee\u8aac\uff09\n",
        "           alternative='two-sided') # \u4e21\u5074\u691c\u5b9a\uff08\u30c7\u30d5\u30a9\u30eb\u30c8\uff09\n",
        "                                    # \u5de6\u7247\u5074\u691c\u5b9a\u306a\u3089'smaller'\n",
        "                                    # \u53f3\u7247\u5074\u691c\u5b9a\u306a\u3089'larger'"
      ],
      "id": "31615ad0-7a78-46e0-96a4-38f0f1e2075e"
    },
    {
      "cell_type": "code",
      "execution_count": null,
      "metadata": {},
      "outputs": [],
      "source": [
        "import numpy as np\n",
        "import pandas as pd\n",
        "from scipy import stats\n",
        "\n",
        "t = 4 / 10                        # \u5f53\u305f\u308b\u78ba\u7387\n",
        "n = 15                            # \u304f\u3058\u3092\u5f15\u3044\u305f\u56de\u6570\n",
        "x = np.array(range(0, n + 1))     # \u5f53\u305f\u3063\u305f\u56de\u6570\n",
        "my_pr  = stats.binom.pmf(x, n, t) # x\u56de\u5f53\u305f\u308b\u78ba\u7387\n",
        "my_pr2 = stats.binom.pmf(2, n, t) # 2\u56de\u5f53\u305f\u308b\u78ba\u7387\n",
        "\n",
        "my_data = pd.DataFrame({'x': x, 'y1': my_pr, 'y2': my_pr})\n",
        "my_data.loc[my_pr >  my_pr2, 'y1'] = np.nan # \u5f53\u305f\u308b\u78ba\u7387\u304c\uff0c2\u56de\u5f53\u305f\u308b\u78ba\u7387\u8d85\u904e\n",
        "my_data.loc[my_pr <= my_pr2, 'y2'] = np.nan # \u5f53\u305f\u308b\u78ba\u7387\u304c\uff0c2\u56de\u5f53\u305f\u308b\u78ba\u7387\u4ee5\u4e0b\n",
        "ax = my_data.plot(x='x', style='o', ylabel='probability',\n",
        "                  legend=False)         # \u51e1\u4f8b\u3092\u8868\u793a\u3057\u306a\u3044\uff0e\n",
        "ax.hlines(y=my_pr2, xmin=0, xmax=15)    # \u6c34\u5e73\u7dda\n",
        "ax.vlines(x=x,      ymin=0, ymax=my_pr) # \u5782\u76f4\u7dda"
      ],
      "id": "0a71f629-6a3d-463b-953a-aa82050199c2"
    },
    {
      "cell_type": "code",
      "execution_count": null,
      "metadata": {},
      "outputs": [],
      "source": [
        "a = 0.05\n",
        "proportion_confint(\n",
        "    count=2, # \u5f53\u305f\u3063\u305f\u56de\u6570\n",
        "    nobs=15, # \u304f\u3058\u3092\u5f15\u3044\u305f\u56de\u6570\n",
        "    alpha=a, # \u6709\u610f\u6c34\u6e96\uff08\u7701\u7565\u53ef\uff09\n",
        "    method='binom_test')"
      ],
      "id": "ea61a29d-5e57-45fb-8833-e4c665d69c38"
    },
    {
      "cell_type": "code",
      "execution_count": null,
      "metadata": {},
      "outputs": [],
      "source": [
        "a = 0.05 # \u6709\u610f\u6c34\u6e96\n",
        "tmp = np.linspace(0, 1, 100)\n",
        "\n",
        "my_df = pd.DataFrame({\n",
        "    't': tmp,                                                  # \u5f53\u305f\u308b\u78ba\u7387\n",
        "    'q': a,                                                    # \u6c34\u5e73\u7dda\n",
        "    'p': [binom_test(count=2, nobs=15, prop=t) for t in tmp]}) # p\u5024\n",
        "\n",
        "my_df.plot(x='t', legend=None, xlabel=r'$\\theta$', ylabel=r'p-value')"
      ],
      "id": "20bc91a5-54af-48e7-9561-9f924c34cbcd"
    },
    {
      "cell_type": "code",
      "execution_count": null,
      "metadata": {},
      "outputs": [],
      "source": [
        "from statsmodels.stats.weightstats import CompareMeans, DescrStatsW\n",
        "\n",
        "X = [32.1, 26.2, 27.5, 31.8, 32.1, 31.2, 30.1, 32.4, 32.3, 29.9,\n",
        "     29.6, 26.6, 31.2, 30.9, 29.3]\n",
        "Y = [35.4, 34.6, 31.1, 32.4, 33.3, 34.7, 35.3, 34.3, 32.1, 28.3,\n",
        "     33.3, 30.5, 32.6, 33.3, 32.2]\n",
        "\n",
        "a = 0.05          # \u6709\u610f\u6c34\u6e96\uff08\u30c7\u30d5\u30a9\u30eb\u30c8\uff09 = 1 - \u4fe1\u983c\u4fc2\u6570\n",
        "alt = 'two-sided' # \u4e21\u5074\u691c\u5b9a\uff08\u30c7\u30d5\u30a9\u30eb\u30c8\uff09\n",
        "                  # \u5de6\u7247\u5074\u691c\u5b9a\u306a\u3089'smaller'\n",
        "                  # \u53f3\u7247\u5074\u691c\u5b9a\u306a\u3089'larger'\n",
        "\n",
        "d = DescrStatsW(np.array(X) - np.array(Y)) # \u5bfe\u6a19\u672c\u306e\u5834\u5408\n",
        "d.ttest_mean(alternative=alt)[1]           # p\u5024\n",
        "\n",
        "d.tconfint_mean(alpha=a, alternative=alt) # \u4fe1\u983c\u533a\u9593"
      ],
      "id": "91bccabe-f414-4311-8363-50ea4f6f66f2"
    },
    {
      "cell_type": "code",
      "execution_count": null,
      "metadata": {},
      "outputs": [],
      "source": [
        "c = CompareMeans(DescrStatsW(X), DescrStatsW(Y)) # \u5bfe\u6a19\u672c\u3067\u306a\u3044\u5834\u5408\n",
        "\n",
        "ve = 'pooled' # \u7b49\u5206\u6563\u3092\u4eee\u5b9a\u3059\u308b\uff08\u30c7\u30d5\u30a9\u30eb\u30c8\uff09\uff0e\u4eee\u5b9a\u3057\u306a\u3044\u306a\u3089'unequal'\uff0e\n",
        "c.ttest_ind(alternative=alt, usevar=ve)[1] # p\u5024\n",
        "\n",
        "c.tconfint_diff(alpha=a, alternative=alt, usevar=ve) # \u4fe1\u983c\u533a\u9593"
      ],
      "id": "6099809b-f3c8-4978-88e9-6defd0b5076e"
    },
    {
      "cell_type": "code",
      "execution_count": null,
      "metadata": {},
      "outputs": [],
      "source": [
        "import pandas as pd\n",
        "my_url = ('https://raw.githubusercontent.com/taroyabuki'\n",
        "          '/fromzero/master/data/smoker.csv')\n",
        "my_data = pd.read_csv(my_url)"
      ],
      "id": "e990e60b-77c9-4605-8b5d-95ff37a3fbdf"
    },
    {
      "cell_type": "code",
      "execution_count": null,
      "metadata": {},
      "outputs": [],
      "source": [
        "my_data.head()"
      ],
      "id": "96064652-cc8f-4302-9378-4b9438b0de6b"
    },
    {
      "cell_type": "code",
      "execution_count": null,
      "metadata": {},
      "outputs": [],
      "source": [
        "my_table = pd.crosstab(\n",
        "    my_data['alive'],\n",
        "    my_data['smoker'])\n",
        "my_table"
      ],
      "id": "8d10d9d5-8eb2-45b7-9a99-59718b599a04"
    },
    {
      "cell_type": "code",
      "execution_count": null,
      "metadata": {},
      "outputs": [],
      "source": [
        "from scipy.stats import chi2_contingency\n",
        "chi2_contingency(my_table, correction=False)[1]"
      ],
      "id": "40d2dd34-b678-40e7-9a7d-51af17764b50"
    },
    {
      "cell_type": "code",
      "execution_count": null,
      "metadata": {},
      "outputs": [],
      "source": [
        "X = [0] * 13 + [1] * 2 # \u624b\u98061\n",
        "X\n",
        "\n",
        "tmp = np.random.choice(X, 15, replace=True) # \u624b\u98062\n",
        "tmp\n",
        "\n",
        "sum(tmp) # \u624b\u98063\n",
        "\n",
        "n = 10**5\n",
        "result = [sum(np.random.choice(X, len(X), replace=True)) for _ in range(n)] # \u624b\u98064"
      ],
      "id": "49c38ff0-1a05-4596-b6c1-12c2aa03357a"
    },
    {
      "cell_type": "code",
      "execution_count": null,
      "metadata": {},
      "outputs": [],
      "source": [
        "import matplotlib.pyplot as plt\n",
        "plt.hist(result, bins=range(0, 16))"
      ],
      "id": "979dc60e-cc98-4d3d-b807-00e5e9b2fea0"
    },
    {
      "cell_type": "code",
      "execution_count": null,
      "metadata": {},
      "outputs": [],
      "source": [
        "np.quantile(result, [0.025, 0.975])"
      ],
      "id": "ec6c0daf-ffa4-4644-b81e-140689e36926"
    }
  ],
  "nbformat": 4,
  "nbformat_minor": 5,
  "metadata": {}
}