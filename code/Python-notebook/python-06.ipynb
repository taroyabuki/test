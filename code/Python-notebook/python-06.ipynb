{
  "cells": [
    {
      "id": "4bea2e1a",
      "cell_type": "markdown",
      "source": "[\u8fbb\u771f\u543e\u30fb\u77e2\u5439\u592a\u6717\u300e\u30bc\u30ed\u304b\u3089\u306f\u3058\u3081\u308b\u30c7\u30fc\u30bf\u30b5\u30a4\u30a8\u30f3\u30b9\u5165\u9580\u300f\uff08\u8b1b\u8ac7\u793e,\u00a02021\uff09](https://github.com/taroyabuki/fromzero)\n\n\n",
      "metadata": {}
    },
    {
      "id": "2e31d748",
      "cell_type": "markdown",
      "source": "## 6.1 \u6a5f\u68b0\u5b66\u7fd2\u306e\u76ee\u7684\uff08\u672c\u66f8\u306e\u5834\u5408\uff09\n\n\n",
      "metadata": {}
    },
    {
      "id": "24e2e189",
      "cell_type": "markdown",
      "source": "## 6.2 \u6a5f\u68b0\u5b66\u7fd2\u306e\u305f\u3081\u306e\u30c7\u30fc\u30bf",
      "metadata": {}
    },
    {
      "cell_type": "code",
      "execution_count": null,
      "metadata": {},
      "outputs": [],
      "source": [
        "import statsmodels.api as sm\n",
        "iris = sm.datasets.get_rdataset('iris', 'datasets').data\n",
        "iris.head()\n",
        "# \u4ee5\u4e0b\u7701\u7565"
      ],
      "id": "b3f9544f-6086-4523-ad33-816eca4a788e"
    },
    {
      "cell_type": "code",
      "execution_count": null,
      "metadata": {},
      "outputs": [],
      "source": [
        "import seaborn as sns\n",
        "iris = sns.load_dataset('iris')\n",
        "iris.head()\n",
        "# \u4ee5\u4e0b\u7701\u7565"
      ],
      "id": "9cfbcbe2-b8ab-46f1-8e1b-7841ab49c603"
    },
    {
      "cell_type": "code",
      "execution_count": null,
      "metadata": {},
      "outputs": [],
      "source": [
        "import pandas as pd\n",
        "from sklearn.datasets import load_iris\n",
        "tmp = load_iris()\n",
        "iris = pd.DataFrame(tmp.data, columns=tmp.feature_names)\n",
        "iris['target'] = tmp.target_names[tmp.target]\n",
        "iris.head()\n",
        "# \u4ee5\u4e0b\u7701\u7565"
      ],
      "id": "90e9aa3b-6975-4bcd-b5b9-1ce701115b0a"
    },
    {
      "id": "92e3e67d",
      "cell_type": "markdown",
      "source": "## 6.3 \u6a5f\u68b0\u5b66\u7fd2\u306e\u305f\u3081\u306e\u624b\u6cd5",
      "metadata": {}
    }
  ],
  "nbformat": 4,
  "nbformat_minor": 5,
  "metadata": {
    "kernelspec": {
      "name": "python3",
      "display_name": "Python 3"
    }
  }
}